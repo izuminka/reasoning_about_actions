{
 "cells": [
  {
   "cell_type": "code",
   "execution_count": 1,
   "id": "initial_id",
   "metadata": {
    "collapsed": true,
    "ExecuteTime": {
     "end_time": "2024-09-11T05:33:12.091724Z",
     "start_time": "2024-09-11T05:33:11.951725Z"
    }
   },
   "outputs": [],
   "source": [
    "import sys\n",
    "sys.path.insert(0, '../../')\n",
    "from questions_construction.main import *"
   ]
  },
  {
   "cell_type": "code",
   "outputs": [],
   "source": [
    "question_multiplicity = 1\n",
    "upper_instance = 11\n",
    "all_questions_tmp = []\n",
    "all_questions_rand_tmp = []\n",
    "for domain_class in ALL_DOMAIN_CLASSES:\n",
    "    domain = domain_class(is_random_sub=False, is_ramifications=False) # for questions, is_ramifications does not matter T/F, only for prompts\n",
    "    for i in range(1, upper_instance):\n",
    "        instance_name = f'Instance_{i}'\n",
    "        jsonl_instance = open_jsonl(STATES_ACTIONS_PATH + f'/{domain.DOMAIN_NAME}/{instance_name}.jsonl')\n",
    "\n",
    "        all_questions = EffectsQuestions(jsonl_instance, domain, instance_name).create_questions(question_multiplicity, PLAN_LENGTHS)\n",
    "        all_questions_tmp += all_questions\n",
    "\n",
    "        random_sub_all_questions = deepcopy(all_questions)\n",
    "        for d in random_sub_all_questions:\n",
    "            for k in [OUT_OBJ_ANSWER, OUT_OBJ_QUESTION, OUT_OBJ_INITIAL_STATE_NL]:\n",
    "                d[k] = domain.to_random_substring(d[k])\n",
    "            d['with_random_sub'] = True\n",
    "        all_questions_rand_tmp += random_sub_all_questions"
   ],
   "metadata": {
    "collapsed": false,
    "ExecuteTime": {
     "end_time": "2024-09-11T05:34:35.444173Z",
     "start_time": "2024-09-11T05:33:42.717711Z"
    }
   },
   "id": "8b4aa80254fed09b",
   "execution_count": 2
  },
  {
   "cell_type": "code",
   "outputs": [],
   "source": [
    "true_e = 0\n",
    "true_s = 0\n",
    "false_e = 0\n",
    "false_s = 0\n",
    "for d in all_questions_tmp:\n",
    "    if 'iter_1' in d['question_name']:\n",
    "        if 'change' in d['question'][-20:] and d[OUT_OBJ_ANSWER] == 'True':\n",
    "            true_e += 1\n",
    "        elif 'change' not in d['question'][-20:] and d[OUT_OBJ_ANSWER] == 'True':\n",
    "            true_s += 1\n",
    "        elif 'change' in d['question'][-20:] and d[OUT_OBJ_ANSWER] == 'False':\n",
    "            false_e += 1\n",
    "        elif 'change' not in d['question'][-20:] and d[OUT_OBJ_ANSWER] == 'False':\n",
    "            false_s += 1\n",
    "print(true_e, true_s, false_e, false_s)"
   ],
   "metadata": {
    "collapsed": false
   },
   "id": "d109e8cc4f5f3fc"
  },
  {
   "cell_type": "code",
   "outputs": [
    {
     "name": "stdout",
     "output_type": "stream",
     "text": [
      "iter_1_question_7\n",
      "Given the initial condition, the following actions are performed: instrument3 on satellite1 is switched on, on satellite0, instrument0 is switched on, satellite1 turns from groundstation4 to star6, instrument3 is calibrated on satellite1 to star6, satellite1 turns to planet14 from star6, satellite1's instrument3 takes an image of planet14 in spectrograph1, from planet14, satellite1 turns to star10, image of star10 is taken with instrument3 on satellite1 in spectrograph1, satellite1 turns to star12 from star10, image of star12 is taken with instrument3 on satellite1 in spectrograph1, satellite1 turns to star0 from star12, satellite0 turns to groundstation2 from star1, instrument0 is calibrated on satellite0 to groundstation2, from groundstation2, satellite0 turns to phenomenon15 and image of phenomenon15 is taken with instrument0 on satellite0 in spectrograph0 to reach the current state. In this state, if satellite0 turns to star11 from phenomenon15, is it True or False that no static properties of the state change?\n",
      "True\n",
      "\n",
      "iter_1_question_5\n",
      "Given the initial condition, the following actions are performed: on satellite2, instrument2 is switched on, on satellite0, instrument0 is switched on, satellite2 turns from phenomenon8 to star5, calibration of instrument2 which is on satellite2 to star5 is complete and satellite2 turns to phenomenon8 from star5 to reach the current state. In this state, if instrument2 which is on satellite2 takes an image of phenomenon8 in image4, is it True or False that no self constraint properties of the state change?\n",
      "True\n",
      "\n",
      "iter_1_question_2\n",
      "Given the initial condition, the following actions are performed: robot moves from location f2_0f to location f1_0f, robot moves from locations f1_0f to f0_0f, laser is picked up at location f0_0f, robot moves to location f1_0f from location f0_0f and robot moves from locations f1_0f to f2_0f to reach the current state. In this state, if from location f2_0f, laser is fired at location f2_1f, is it True or False that no base properties of the state change?\n",
      "False\n",
      "\n",
      "iter_1_question_6\n",
      "Given the initial condition, the following actions are performed: tile t_6 is moved from position p_1_2 to position p_2_2, tile t_4 is moved from position p_1_3 to position p_1_2, tile t_3 is moved from position p_2_3 to p_1_3, tile t_6 is moved to position p_2_3 from postion p_2_2, tile t_1 is moved from position p_2_1 to p_2_2, tile t_5 is moved from position p_1_1 to position p_2_1, tile t_4 is moved to position p_1_1 from postion p_1_2, tile t_1 is moved from position p_2_2 to position p_1_2, tile t_5 is moved from position p_2_1 to position p_2_2 and tile t_8 is moved from position p_3_1 to position p_2_1 to reach the current state. In this state, if tile t_2 is moved from position p_3_2 to position p_3_1, is it True or False that no self constraint properties of the state change?\n",
      "False\n",
      "\n",
      "iter_1_question_7\n",
      "Given the initial condition, the following actions are performed: package p2 is loaded in truck t1 at airport l1_1, truck t1 is driven to airport l1_0 from airport l1_1 in city c1, at airport l1_0, package p1 is loaded in truck t1, in city c1, truck is driven from airports l1_0 to l1_2 and at airport l1_2, package p3 is loaded in truck t1 to reach the current state. In this state, if package p2 is unloaded from truck t1 at airport l1_2, is it True or False that no static properties of the state change?\n",
      "True\n",
      "\n",
      "iter_1_question_2\n",
      "Given the initial condition, the following actions are performed: instrument1 on satellite1 is switched on, satellite1 turns from star3 to star1, calibration of instrument1 which is on satellite1 to star1 is complete, satellite1 turns to phenomenon10 from star1 and image of phenomenon10 is taken with instrument1 on satellite1 in image5 to reach the current state. In this state, if instrument1 which is on satellite1 takes an image of phenomenon10 in spectrograph3, is it True or False that no base properties of the state change?\n",
      "False\n",
      "\n",
      "iter_1_question_9\n",
      "Given the initial condition, the following actions are performed: at location l1, cargo c2 is loaded in vehicle v0 with spaces s1 and s0, vehicle v0 moves to location l0 from location l1 that has fuel level f8 and f7, at location l0, cargo c2 is unloaded from vehicle v0 with spaces s0 and s1, at location l0, cargo c0 is loaded in vehicle v0 with spaces s1 and s0, vehicle v0 moves to location l1 from location l0 that has fuel level f3 and f2, at location l1, cargo c0 is unloaded from vehicle v0 with spaces s0 and s1, cargo c3 is loaded in vehicle v0 with space s1 and space s0 at location l1, vehicle v0 moves to location l0 from location l1 that has fuel level f7 and f6, at location l0, cargo c3 is unloaded from vehicle v0 with spaces s0 and s1, cargo c1 is loaded in vehicle v0 with space s1 and space s0 at location l0, vehicle v0 moves to location l1 from location l0 that has fuel level f2 and f1, at location l1, cargo c1 is unloaded from vehicle v0 with spaces s0 and s1, cargo c5 is loaded in vehicle v0 with space s1 and space s0 at location l1, vehicle v0 moves to location l0 from location l1 that has fuel level f6 and f5, cargo c5 is unloaded from vehicle v0 with space s0 and space s1 at location l0, at location l0, cargo c7 is loaded in vehicle v0 with spaces s1 and s0, vehicle v0 moves from location l0 which has fuel-levels f1 and f0 to location l1, cargo c7 is unloaded from vehicle v0 with space s0 and space s1 at location l1 and cargo c9 is loaded in vehicle v0 with space s1 and space s0 at location l1 to reach the current state. In this state, if vehicle v0 moves to location l0 from location l1 that has fuel level f5 and f4, is it True or False that no properties of the state change?\n",
      "True\n",
      "\n",
      "iter_1_question_10\n",
      "Given the initial condition, the following actions are performed: robot1 moves from room1 to room2 to reach the current state. In this state, if from room2, robot1's lgripper1 picks up ball10, is it True or False that no properties of the state change?\n",
      "False\n",
      "\n",
      "iter_1_question_4\n",
      "Given the initial condition, the following actions are performed: block b7 is unstacked from block b4, the hand puts down the block b7, block b4 is unstacked from block b2, block b4 is stacked on top of block b7 and block b2 is unstacked from block b3 to reach the current state. In this state, if block b2 is stacked on top of block b1, is it True or False that no derived properties of the state change?\n",
      "False\n",
      "\n",
      "iter_1_question_6\n",
      "Given the initial condition, the following actions are performed: from depot0, truck2 is driven to depot2, hoist2 lifts crate3 from crate2 at depot2, at depot2, hoist2 loads crate3 into truck2, hoist2 lifts crate2 from crate1 at depot2, crate2 is loaded by hoist2 into truck2 at depot2, hoist2 lifts crate1 from pallet2 at depot2, at depot2, hoist2 loads crate1 into truck2, from depot2, truck2 is driven to distributor0, crate0 is lifted from pallet3 at distributor0 by hoist3, hoist3 loads crate0 into truck2 at distributor0, crate1 is unloaded by hoist3 from truck2 at distributor0, from distributor0, truck2 is driven to distributor1, at distributor1, hoist4 unloads crate2 from truck2, truck2 is driven to distributor2 from distributor1, crate3 is unloaded by hoist5 from truck2 at distributor2, crate1 is dropped on pallet3 at distributor0 by hoist3, at distributor1, hoist4 drops crate2 on pallet4, hoist5 drops crate3 on pallet5 at distributor2 and at distributor2, hoist5 unloads crate0 from truck2 to reach the current state. In this state, if hoist5 drops crate0 on crate3 at distributor2, is it True or False that no self constraint properties of the state change?\n",
      "False\n",
      "\n",
      "iter_1_question_5\n",
      "Given the initial condition, the following actions are performed: robot moves to location f3_0f from location f4_0f, laser is picked up at location f3_0f, robot moves from locations f3_0f to f4_0f, from location f4_0f, laser is fired at location f4_1f, robot moves to location f4_1f from location f4_0f, from location f4_1f, laser is fired at location f4_2f, robot moves from location f4_1f to location f4_2f, from location f4_2f, laser is fired at location f4_3f, robot moves from locations f4_2f to f4_1f, robot moves from location f4_1f to location f4_0f, robot moves to location f3_0f from location f4_0f, at location f3_0f, robot puts down the laser, robot picks up bomb at location f3_0f, robot moves to location f4_0f from location f3_0f, robot moves to location f4_1f from location f4_0f, robot moves from location f4_1f to location f4_2f, robot moves from location f4_2f to location f4_3f, robot detonates bomb at location f4_4f from location f4_3f and robot moves from locations f4_3f to f4_4f to reach the current state. In this state, if at location f4_4f, gold is picked up, is it True or False that no self constraint properties of the state change?\n",
      "True\n",
      "\n",
      "iter_1_question_3\n",
      "Given the initial condition, the following actions are performed: truck t1 is driven to airport l1_2 from airport l1_3 in city c1 to reach the current state. In this state, if package p3 is loaded in truck t1 at airport l1_2, is it True or False that no derived properties of the state change?\n",
      "True\n",
      "\n",
      "iter_1_question_7\n",
      "Given the initial condition, the following actions are performed: cargo c0 is loaded in vehicle v0 with space s2 and space s1 at location l1, cargo c1 is loaded in vehicle v0 with space s1 and space s0 at location l1, vehicle v0 moves to location l0 from location l1 that has fuel level f2 and f1, cargo c0 is unloaded from vehicle v0 with space s0 and space s1 at location l0, at location l0, cargo c1 is unloaded from vehicle v0 with spaces s1 and s2, cargo c2 is loaded in vehicle v0 with space s2 and space s1 at location l0, at location l0, cargo c3 is loaded in vehicle v0 with spaces s1 and s0, vehicle v0 moves from location l0 which has fuel-levels f5 and f4 to location l1, cargo c2 is unloaded from vehicle v0 with space s0 and space s1 at location l1, at location l1, cargo c10 is loaded in vehicle v0 with spaces s1 and s0, cargo c3 is unloaded from vehicle v0 with space s0 and space s1 at location l1, at location l1, cargo c9 is loaded in vehicle v0 with spaces s1 and s0, vehicle v0 moves to location l0 from location l1 that has fuel level f1 and f0, at location l0, cargo c10 is unloaded from vehicle v0 with spaces s0 and s1 and at location l0, cargo c5 is loaded in vehicle v0 with spaces s1 and s0 to reach the current state. In this state, if cargo c9 is unloaded from vehicle v0 with space s0 and space s1 at location l0, is it True or False that no static properties of the state change?\n",
      "True\n",
      "\n",
      "iter_1_question_9\n",
      "Given the initial condition, the following actions are performed: truck2 is driven to depot1 from distributor3, truck1 is driven to distributor1 from depot0, truck0 is driven from distributor0 to distributor2, crate2 is lifted from crate1 at depot1 by hoist1 and hoist1 loads crate2 into truck2 at depot1 to reach the current state. In this state, if hoist1 lifts crate1 from pallet1 at depot1, is it True or False that no properties of the state change?\n",
      "True\n",
      "\n",
      "iter_1_question_1\n",
      "Given the initial condition, the following actions are performed: robot moves from location f0_0f to location f1_0f, laser is picked up at location f1_0f, robot moves to location f0_0f from location f1_0f, laser is fired at location f0_1f from location f0_0f, robot moves from location f0_0f to location f0_1f, from location f0_1f, laser is fired at location f0_2f, robot moves to location f0_2f from location f0_1f, robot fires laser at location f0_3f from location f0_2f, robot moves to location f0_1f from location f0_2f, robot moves from locations f0_1f to f0_0f, robot moves from locations f0_0f to f1_0f, laser is put down at location f1_0f, robot picks up bomb at location f1_0f, robot moves from location f1_0f to location f0_0f and robot moves to location f0_1f from location f0_0f to reach the current state. In this state, if robot moves from locations f0_1f to f0_2f, is it True or False that no base properties of the state change?\n",
      "True\n",
      "\n",
      "iter_1_question_1\n",
      "Given the initial condition, the following actions are performed: instrument3 that is on satellite1 is turned on, instrument0 that is on satellite0 is turned on, from phenomenon10, satellite1 turns to groundstation5, instrument3 that is on satellite1 is calibrated to groundstation5, satellite1 turns to phenomenon16 from groundstation5, satellite1's instrument3 takes an image of phenomenon16 in image3, from phenomenon16, satellite1 turns to phenomenon17, instrument3 which is on satellite1 takes an image of phenomenon17 in image3, from phenomenon17, satellite1 turns to planet11 and image of planet11 is taken with instrument3 on satellite1 in image3 to reach the current state. In this state, if from planet11, satellite1 turns to planet13, is it True or False that no base properties of the state change?\n",
      "True\n",
      "\n",
      "iter_1_question_10\n",
      "Given the initial condition, the following actions are performed: bob walks to location1 from shed, bob walks from location1 to location2, spanner4 is picked up by bob from location2, spanner3 is picked up by bob from location2, bob walks from location2 to location3, from location3 to location4, bob walks, bob walks from location4 to location5, from location5 to location6, bob walks, bob picks up spanner5 from location6, from location6, bob picks up spanner2, bob walks from location6 to location7, bob walks from location7 to location8, spanner1 is picked up by bob from location8, from location8 to location9, bob walks and bob walks to gate from location9 to reach the current state. In this state, if nut1 is tightened by bob using spanner5 at gate, is it True or False that no properties of the state change?\n",
      "False\n",
      "\n",
      "iter_1_question_7\n",
      "Given the initial condition, the following actions are performed: hoist1 lifts crate0 from pallet1 at depot1, hoist0 lifts crate3 from crate2 at depot0, at depot0, hoist0 loads crate3 into truck1, from depot0, truck1 is driven to distributor1 and hoist4 unloads crate3 from truck1 at distributor1 to reach the current state. In this state, if crate3 is dropped on pallet4 at distributor1 by hoist4, is it True or False that no static properties of the state change?\n",
      "True\n",
      "\n",
      "iter_1_question_10\n",
      "Given the initial condition, the following actions are performed: robot moves from location f0_0f to location f1_0f, laser is picked up at location f1_0f, robot moves from locations f1_0f to f2_0f, laser is fired at location f2_1f from location f2_0f and robot moves from location f2_0f to location f2_1f to reach the current state. In this state, if from location f2_1f, laser is fired at location f2_2f, is it True or False that no properties of the state change?\n",
      "False\n",
      "\n",
      "iter_1_question_3\n",
      "Given the initial condition, the following actions are performed: bob walks to location1 from shed to reach the current state. In this state, if bob picks up spanner2 from location1, is it True or False that no derived properties of the state change?\n",
      "True\n",
      "\n",
      "iter_1_question_1\n",
      "Given the initial condition, the following actions are performed: at depot1, hoist1 lifts crate0 off pallet1, hoist0 lifts crate3 from crate2 at depot0, at depot0, hoist0 loads crate3 into truck1, from depot0, truck1 is driven to distributor2 and crate3 is unloaded by hoist4 from truck1 at distributor2 to reach the current state. In this state, if crate3 is dropped on pallet4 at distributor2 by hoist4, is it True or False that no base properties of the state change?\n",
      "True\n",
      "\n",
      "iter_1_question_1\n",
      "Given the initial condition, the following actions are performed: moves from loc_x0_y3 to loc_x0_y4, from loc_x0_y4, the robot moves to loc_x0_y3, robot moves from loc_x0_y3 to loc_x1_y3, moves from loc_x1_y3 to loc_x1_y4, from loc_x1_y4, the robot moves to loc_x2_y4, robot moves from loc_x2_y4 to loc_x3_y4, moves to loc_x3_y3 from loc_x3_y4, moves from loc_x3_y3 to loc_x2_y3, moves to loc_x2_y2 from loc_x2_y3 and robot moves from loc_x2_y2 to loc_x2_y1 to reach the current state. In this state, if robot moves from loc_x2_y1 to loc_x1_y1, is it True or False that no base properties of the state change?\n",
      "True\n",
      "\n",
      "iter_1_question_6\n",
      "Given the initial condition, the following actions are performed: block b3 is unstacked from top of block b7, the hand puts down the block b3, block b5 is unstacked from top of block b4, block b5 is stacked on top of block b2, block b4 is unstacked from block b1, block b4 is put down, block b5 is unstacked from block b2, block b5 is stacked on top of block b1, from top of block b6, block b7 is unstacked and block b7 is stacked on top of block b4 to reach the current state. In this state, if block b6 is picked up from the table, is it True or False that no self constraint properties of the state change?\n",
      "False\n",
      "\n",
      "iter_1_question_5\n",
      "Given the initial condition, the following actions are performed: robot moves from locations f2_0f to f1_0f, robot moves to location f0_0f from location f1_0f, at location f0_0f, laser is picked up, robot moves from locations f0_0f to f1_0f and robot moves from locations f1_0f to f2_0f to reach the current state. In this state, if from location f2_0f, laser is fired at location f2_1f, is it True or False that no self constraint properties of the state change?\n",
      "True\n"
     ]
    }
   ],
   "source": [
    "sample = random.sample(all_questions_tmp, 100)\n",
    "for d in sample:\n",
    "    if 'change' in d['question'][-20:]:\n",
    "        print(d['question_name'])\n",
    "        print(d['question'])\n",
    "        print(d[OUT_OBJ_ANSWER])\n",
    "        print()"
   ],
   "metadata": {
    "collapsed": false,
    "ExecuteTime": {
     "end_time": "2024-09-11T05:42:51.918888Z",
     "start_time": "2024-09-11T05:42:51.911537Z"
    }
   },
   "id": "5d57495aa651e53e",
   "execution_count": 6
  },
  {
   "cell_type": "code",
   "outputs": [],
   "source": [
    "save_jsonl(all_questions_tmp, f'effects_tf.jsonl')\n",
    "save_jsonl(all_questions_rand_tmp, f'effects_tf.random_sub.jsonl')"
   ],
   "metadata": {
    "collapsed": false,
    "ExecuteTime": {
     "end_time": "2024-09-11T05:36:09.068108Z",
     "start_time": "2024-09-11T05:36:07.744077Z"
    }
   },
   "id": "f1ebb99e5fc7ec61",
   "execution_count": 4
  },
  {
   "cell_type": "code",
   "outputs": [],
   "source": [],
   "metadata": {
    "collapsed": false
   },
   "id": "fcfa04572ea2cb43"
  }
 ],
 "metadata": {
  "kernelspec": {
   "display_name": "Python 3",
   "language": "python",
   "name": "python3"
  },
  "language_info": {
   "codemirror_mode": {
    "name": "ipython",
    "version": 2
   },
   "file_extension": ".py",
   "mimetype": "text/x-python",
   "name": "python",
   "nbconvert_exporter": "python",
   "pygments_lexer": "ipython2",
   "version": "2.7.6"
  }
 },
 "nbformat": 4,
 "nbformat_minor": 5
}
