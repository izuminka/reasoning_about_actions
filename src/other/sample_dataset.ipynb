{
 "cells": [
  {
   "cell_type": "code",
   "outputs": [],
   "source": [
    "import sys\n",
    "sys.path.insert(0, '../../')\n",
    "from src.questions_construction.questions import FLUENT_TYPES_LIST\n",
    "from src.questions_construction.main import PLAN_LENGTHS, QUESTION_CATEGORIES\n",
    "from src.questions_construction.domains import DOMAIN_NAMES\n",
    "from src.analysis.model_performances import * #gather_questions, TRANSPORTATION_DOMAINS, NON_TRANSPORTATION_DOMAINS\n",
    "from src.common import *\n",
    "import random\n",
    "from collections import defaultdict\n",
    "from copy import deepcopy\n",
    "import itertools"
   ],
   "metadata": {
    "collapsed": false,
    "ExecuteTime": {
     "end_time": "2024-05-14T01:24:02.471051Z",
     "start_time": "2024-05-14T01:24:02.465948Z"
    }
   },
   "id": "c8d9a5ad8ad5faf0",
   "execution_count": 214
  },
  {
   "cell_type": "code",
   "outputs": [],
   "source": [
    "def get_data(domain, dataset_dir, few_shot=1):\n",
    "    data_all = []\n",
    "    for i in range(1,11):\n",
    "        path = os.path.join(dataset_dir, 'without_random_sub', 'without_ramifications', f'few_shot_{few_shot}', domain, f'Instance_{i}.jsonl')\n",
    "        data_all.extend(open_jsonl(path))\n",
    "    return data_all"
   ],
   "metadata": {
    "collapsed": false,
    "ExecuteTime": {
     "end_time": "2024-05-13T23:53:37.327055Z",
     "start_time": "2024-05-13T23:53:37.321363Z"
    }
   },
   "id": "87fa97645dac0863",
   "execution_count": 73
  },
  {
   "cell_type": "code",
   "outputs": [],
   "source": [
    "questions_dir = f'{DATA_PATH}/questions_m1'\n",
    "questions_by_id = gather_questions(questions_dir)"
   ],
   "metadata": {
    "collapsed": false,
    "ExecuteTime": {
     "end_time": "2024-05-13T23:53:58.414291Z",
     "start_time": "2024-05-13T23:53:37.741060Z"
    }
   },
   "id": "841aa25de12a88c9",
   "execution_count": 74
  },
  {
   "cell_type": "code",
   "outputs": [],
   "source": [
    "dataset_dir = f'{DATA_PATH}/data_for_evaluation'\n",
    "data_by_domain = {domain: get_data(domain, dataset_dir) for domain in DOMAIN_NAMES}"
   ],
   "metadata": {
    "collapsed": true,
    "ExecuteTime": {
     "end_time": "2024-05-13T23:54:04.875588Z",
     "start_time": "2024-05-13T23:53:58.416336Z"
    }
   },
   "id": "initial_id",
   "execution_count": 75
  },
  {
   "cell_type": "code",
   "outputs": [
    {
     "name": "stdout",
     "output_type": "stream",
     "text": [
      "blocksworld 7279\n",
      "depots 5999\n",
      "driverlog 7127\n",
      "goldminer 8742\n",
      "grippers 7106\n",
      "logistics 6100\n",
      "miconic 8261\n",
      "mystery 6100\n",
      "npuzzle 7287\n",
      "satellite 8517\n",
      "spanner 8495\n",
      "visitall 7166\n",
      "zenotravel 7370\n"
     ]
    }
   ],
   "source": [
    "for k,v in data_by_domain.items():\n",
    "    print(k, len(v))"
   ],
   "metadata": {
    "collapsed": false,
    "ExecuteTime": {
     "end_time": "2024-05-13T23:54:04.879988Z",
     "start_time": "2024-05-13T23:54:04.876776Z"
    }
   },
   "id": "29947f3b19673070",
   "execution_count": 76
  },
  {
   "cell_type": "code",
   "outputs": [],
   "source": [
    "def is_good_qa(question_info, include_params, exclude_params):\n",
    "    for k, v in exclude_params.items():\n",
    "        if question_info[k] == v:\n",
    "            return False\n",
    "        \n",
    "    for k, v in include_params.items():\n",
    "        if question_info[k] != v:\n",
    "            return False\n",
    "    return True\n",
    "\n",
    "def is_token_window_ok(data_dict, chars_per_token=4, max_tokens=4096):\n",
    "    return (len(data_dict['prompt'] + data_dict['label'])/chars_per_token) < max_tokens\n",
    "\n",
    "def sample_data(data_all, questions_by_id, selected_plan_length):\n",
    "    selected_data = []\n",
    "    exclude_params = {}\n",
    "    include_params = {'plan_length': selected_plan_length}\n",
    "    for d in data_all:\n",
    "        question_id = d['id']\n",
    "        if question_id not in questions_by_id:\n",
    "            raise ValueError\n",
    "        question_info = questions_by_id[question_id]\n",
    "        if is_good_qa(question_info, include_params, exclude_params) and is_token_window_ok(d):\n",
    "            selected_data.append(d)\n",
    "    random.shuffle(selected_data)\n",
    "    return selected_data"
   ],
   "metadata": {
    "collapsed": false,
    "ExecuteTime": {
     "end_time": "2024-05-13T22:27:49.092590Z",
     "start_time": "2024-05-13T22:27:49.086729Z"
    }
   },
   "id": "a12afe2f0c4f818d",
   "execution_count": 6
  },
  {
   "cell_type": "code",
   "outputs": [],
   "source": [
    "# domain = 'goldminer'\n",
    "# selected_plan_length = 1\n",
    "# sample = sample_data(data_by_domain[domain], questions_by_id, selected_plan_length)\n",
    "# len(sample)"
   ],
   "metadata": {
    "collapsed": false,
    "ExecuteTime": {
     "end_time": "2024-05-13T23:54:04.884849Z",
     "start_time": "2024-05-13T23:54:04.882834Z"
    }
   },
   "id": "a054fa54660dccbd",
   "execution_count": 77
  },
  {
   "cell_type": "markdown",
   "source": [
    "# Sample"
   ],
   "metadata": {
    "collapsed": false
   },
   "id": "84fea22cac1dbc17"
  },
  {
   "cell_type": "code",
   "outputs": [],
   "source": [
    "def output_keys(questions_dict):\n",
    "    key1 = questions_dict[OUT_OBJ_QUESTION_CATEGORY]\n",
    "    if q[OUT_OBJ_ANSWER_TYPE] == TRUE_FALSE_ANSWER_TYPE:\n",
    "        if q[OUT_OBJ_ANSWER] == 'True':\n",
    "            key2 = 'true'\n",
    "        else:\n",
    "            key2 = 'false'\n",
    "    else:\n",
    "        key2 = 'free'\n",
    "        \n",
    "    key3 = q[OUT_OBJ_FLUENT_TYPE]\n",
    "        \n",
    "    if q[OUT_OBJ_IS_POS_FLUENT_QUESTION] is True:\n",
    "        key4 = 'POS'\n",
    "    elif q[OUT_OBJ_IS_POS_FLUENT_QUESTION] is False:\n",
    "        key4 = 'NEG'\n",
    "    else:\n",
    "        key4 = 'None'\n",
    "        \n",
    "    if q[OUT_OBJ_DOMAIN_NAME] in TRANSPORTATION_DOMAINS:\n",
    "        key5 = TRANSPORTATION_DOMAIN_KEY\n",
    "    else:\n",
    "        key5 = NON_TRANSPORTATION_DOMAIN_KEY\n",
    "    return key1, key2, key3, key4, key5\n",
    "\n",
    "def is_restricted(key1, key2, key3, key4):\n",
    "        # restrictions on keys\n",
    "    if key1 == 'fluent_tracking' and (key3 == 'None' or key4 == 'None'):\n",
    "        return True\n",
    "        \n",
    "    if key1 == 'object_tracking' and (key3 == 'None' or key4 == 'None'):\n",
    "        return True\n",
    "        \n",
    "    if key1 == 'hallucination' and key4 == 'None':\n",
    "        return True\n",
    "        \n",
    "    if key1 == 'effects' and key3 == 'None' and key4 == 'None':\n",
    "        return True\n",
    "    \n",
    "    return False"
   ],
   "metadata": {
    "collapsed": false,
    "ExecuteTime": {
     "end_time": "2024-05-14T01:24:29.457871Z",
     "start_time": "2024-05-14T01:24:29.450593Z"
    }
   },
   "id": "7d0b89eeacc3b059",
   "execution_count": 215
  },
  {
   "cell_type": "code",
   "outputs": [
    {
     "name": "stdout",
     "output_type": "stream",
     "text": [
      "14417\n"
     ]
    }
   ],
   "source": [
    "selected_plan_length = 1\n",
    "# for selected_plan_length in [1,5,19]:\n",
    "\n",
    "# PREPARE DATA\n",
    "data_domain_all = {domain: sample_data(data_by_domain[domain], questions_by_id, selected_plan_length) for domain in DOMAIN_NAMES}\n",
    "min_samples = min([len(v) for v in data_domain_all.values() if len(v) > 100])\n",
    "data_all = []\n",
    "for k, v in data_domain_all.items():\n",
    "    data_all.extend(v[:min_samples])\n",
    "random.shuffle(data_all)\n",
    "\n",
    "print(len(data_all))"
   ],
   "metadata": {
    "collapsed": false,
    "ExecuteTime": {
     "end_time": "2024-05-14T03:08:54.685265Z",
     "start_time": "2024-05-14T03:08:54.248511Z"
    }
   },
   "id": "2041189736532b76",
   "execution_count": 433
  },
  {
   "cell_type": "code",
   "outputs": [],
   "source": [
    "MAX_PER_CATEGORY = 50 #12 #110 # 100 #100\n",
    "\n",
    "MULTUPLICITY_BY_CATEGORY = {'action_executability': 3+0.3,\n",
    "             'effects': 11+0.5,\n",
    "             'fluent_tracking': 24,\n",
    "             'hallucination': 4+0.5,\n",
    "             'numerical_reasoning': 3+0.5,\n",
    "             'object_tracking': 16,\n",
    "             'state_tracking': 5+0.1}\n",
    "\n",
    "selected_ids = []\n",
    "data_by_category = defaultdict(list)\n",
    "for d in data_all:\n",
    "    question_id = d['id']\n",
    "    q = questions_by_id[question_id]\n",
    "    \n",
    "    key1, key2, key3, key4, key5 = output_keys(q)\n",
    "    key_all = (key1, key2, key3, key4, key5)\n",
    "    if is_restricted(key1, key2, key3, key4):\n",
    "        continue\n",
    "        \n",
    "    if len(data_by_category[key_all]) < MAX_PER_CATEGORY: #max(int(MAX_PER_CATEGORY/MULTUPLICITY_BY_CATEGORY[key1]), 1):\n",
    "        data_by_category[key_all].append(question_id)\n",
    "selected_ids.extend(list(itertools.chain.from_iterable(data_by_category.values())))"
   ],
   "metadata": {
    "collapsed": false,
    "ExecuteTime": {
     "end_time": "2024-05-14T06:42:39.833118Z",
     "start_time": "2024-05-14T06:42:39.763019Z"
    }
   },
   "id": "fa523b2974945c0f",
   "execution_count": 474
  },
  {
   "cell_type": "code",
   "outputs": [],
   "source": [
    "# {k: len(v) for k, v in data_domain_all.items()}"
   ],
   "metadata": {
    "collapsed": false,
    "ExecuteTime": {
     "end_time": "2024-05-14T06:42:39.979794Z",
     "start_time": "2024-05-14T06:42:39.976976Z"
    }
   },
   "id": "6c307b0d63ddbd75",
   "execution_count": 475
  },
  {
   "cell_type": "code",
   "outputs": [
    {
     "name": "stdout",
     "output_type": "stream",
     "text": [
      "defaultdict(<class 'int'>, {'satellite': 446, 'goldminer': 422, 'spanner': 448, 'blocksworld': 433, 'visitall': 366, 'npuzzle': 438, 'miconic': 371, 'grippers': 383, 'zenotravel': 434, 'logistics': 368, 'depots': 351, 'driverlog': 352, 'mystery': 378}) \n",
      "\n",
      "defaultdict(<class 'int'>, {'persistent_fluents': 1143, None: 1462, 'static_fluents': 1012, 'base_fluents': 726, 'derived_fluents': 847}) \n",
      "\n",
      "('action_executability', 'true', None, 'None', 'NON_TRANSPORTATION') 50\n",
      "('action_executability', 'free', None, 'None', 'NON_TRANSPORTATION') 50\n",
      "('action_executability', 'true', None, 'None', 'TRANSPORTATION') 50\n",
      "('action_executability', 'free', None, 'None', 'TRANSPORTATION') 50\n",
      "('action_executability', 'false', None, 'None', 'TRANSPORTATION') 50\n",
      "('action_executability', 'false', None, 'None', 'NON_TRANSPORTATION') 50\n",
      "('effects', 'true', 'base_fluents', 'None', 'TRANSPORTATION') 50\n",
      "('effects', 'true', 'static_fluents', 'None', 'TRANSPORTATION') 50\n",
      "('effects', 'false', 'derived_fluents', 'None', 'NON_TRANSPORTATION') 50\n",
      "('effects', 'false', 'static_fluents', 'None', 'NON_TRANSPORTATION') 50\n",
      "('effects', 'true', 'persistent_fluents', 'None', 'NON_TRANSPORTATION') 50\n",
      "('effects', 'true', 'base_fluents', 'None', 'NON_TRANSPORTATION') 50\n",
      "('effects', 'true', 'derived_fluents', 'None', 'TRANSPORTATION') 50\n",
      "('effects', 'false', 'persistent_fluents', 'None', 'NON_TRANSPORTATION') 50\n",
      "('effects', 'false', 'persistent_fluents', 'None', 'TRANSPORTATION') 50\n",
      "('effects', 'true', 'persistent_fluents', 'None', 'TRANSPORTATION') 50\n",
      "('effects', 'free', None, 'NEG', 'TRANSPORTATION') 40\n",
      "('effects', 'false', 'base_fluents', 'None', 'TRANSPORTATION') 47\n",
      "('effects', 'false', 'static_fluents', 'None', 'TRANSPORTATION') 50\n",
      "('effects', 'true', 'derived_fluents', 'None', 'NON_TRANSPORTATION') 50\n",
      "('effects', 'false', 'derived_fluents', 'None', 'TRANSPORTATION') 50\n",
      "('effects', 'free', None, 'POS', 'TRANSPORTATION') 50\n",
      "('effects', 'free', None, 'None', 'TRANSPORTATION') 43\n",
      "('effects', 'false', 'base_fluents', 'None', 'NON_TRANSPORTATION') 50\n",
      "('effects', 'true', 'static_fluents', 'None', 'NON_TRANSPORTATION') 50\n",
      "('effects', 'free', None, 'POS', 'NON_TRANSPORTATION') 32\n",
      "('effects', 'free', None, 'None', 'NON_TRANSPORTATION') 16\n",
      "('effects', 'free', None, 'NEG', 'NON_TRANSPORTATION') 17\n",
      "('fluent_tracking', 'true', 'static_fluents', 'NEG', 'NON_TRANSPORTATION') 48\n",
      "('fluent_tracking', 'true', 'derived_fluents', 'NEG', 'TRANSPORTATION') 49\n",
      "('fluent_tracking', 'free', 'persistent_fluents', 'POS', 'TRANSPORTATION') 50\n",
      "('fluent_tracking', 'true', 'static_fluents', 'NEG', 'TRANSPORTATION') 50\n",
      "('fluent_tracking', 'false', 'persistent_fluents', 'POS', 'NON_TRANSPORTATION') 50\n",
      "('fluent_tracking', 'free', 'derived_fluents', 'POS', 'NON_TRANSPORTATION') 44\n",
      "('fluent_tracking', 'false', 'persistent_fluents', 'NEG', 'TRANSPORTATION') 50\n",
      "('fluent_tracking', 'false', 'base_fluents', 'POS', 'NON_TRANSPORTATION') 50\n",
      "('fluent_tracking', 'true', 'persistent_fluents', 'NEG', 'TRANSPORTATION') 50\n",
      "('fluent_tracking', 'free', 'persistent_fluents', 'POS', 'NON_TRANSPORTATION') 49\n",
      "('fluent_tracking', 'false', 'derived_fluents', 'POS', 'TRANSPORTATION') 45\n",
      "('fluent_tracking', 'false', 'persistent_fluents', 'NEG', 'NON_TRANSPORTATION') 43\n",
      "('fluent_tracking', 'true', 'static_fluents', 'POS', 'TRANSPORTATION') 50\n",
      "('fluent_tracking', 'free', 'base_fluents', 'NEG', 'NON_TRANSPORTATION') 29\n",
      "('fluent_tracking', 'free', 'derived_fluents', 'NEG', 'TRANSPORTATION') 32\n",
      "('fluent_tracking', 'free', 'static_fluents', 'NEG', 'TRANSPORTATION') 44\n",
      "('fluent_tracking', 'false', 'derived_fluents', 'NEG', 'TRANSPORTATION') 17\n",
      "('fluent_tracking', 'free', 'base_fluents', 'POS', 'TRANSPORTATION') 22\n",
      "('fluent_tracking', 'false', 'static_fluents', 'POS', 'TRANSPORTATION') 50\n",
      "('fluent_tracking', 'free', 'static_fluents', 'NEG', 'NON_TRANSPORTATION') 36\n",
      "('fluent_tracking', 'free', 'static_fluents', 'POS', 'TRANSPORTATION') 39\n",
      "('fluent_tracking', 'true', 'base_fluents', 'POS', 'NON_TRANSPORTATION') 50\n",
      "('fluent_tracking', 'true', 'persistent_fluents', 'POS', 'NON_TRANSPORTATION') 50\n",
      "('fluent_tracking', 'false', 'derived_fluents', 'POS', 'NON_TRANSPORTATION') 50\n",
      "('fluent_tracking', 'true', 'persistent_fluents', 'POS', 'TRANSPORTATION') 50\n",
      "('fluent_tracking', 'true', 'derived_fluents', 'POS', 'NON_TRANSPORTATION') 50\n",
      "('fluent_tracking', 'free', 'derived_fluents', 'POS', 'TRANSPORTATION') 35\n",
      "('fluent_tracking', 'true', 'derived_fluents', 'NEG', 'NON_TRANSPORTATION') 50\n",
      "('fluent_tracking', 'false', 'derived_fluents', 'NEG', 'NON_TRANSPORTATION') 41\n",
      "('fluent_tracking', 'false', 'base_fluents', 'POS', 'TRANSPORTATION') 28\n",
      "('fluent_tracking', 'false', 'persistent_fluents', 'POS', 'TRANSPORTATION') 50\n",
      "('fluent_tracking', 'false', 'static_fluents', 'POS', 'NON_TRANSPORTATION') 50\n",
      "('fluent_tracking', 'free', 'persistent_fluents', 'NEG', 'TRANSPORTATION') 50\n",
      "('fluent_tracking', 'true', 'persistent_fluents', 'NEG', 'NON_TRANSPORTATION') 50\n",
      "('fluent_tracking', 'true', 'derived_fluents', 'POS', 'TRANSPORTATION') 50\n",
      "('fluent_tracking', 'free', 'base_fluents', 'POS', 'NON_TRANSPORTATION') 27\n",
      "('fluent_tracking', 'true', 'base_fluents', 'NEG', 'NON_TRANSPORTATION') 50\n",
      "('fluent_tracking', 'free', 'base_fluents', 'NEG', 'TRANSPORTATION') 22\n",
      "('fluent_tracking', 'true', 'base_fluents', 'POS', 'TRANSPORTATION') 27\n",
      "('fluent_tracking', 'true', 'static_fluents', 'POS', 'NON_TRANSPORTATION') 50\n",
      "('fluent_tracking', 'true', 'base_fluents', 'NEG', 'TRANSPORTATION') 50\n",
      "('fluent_tracking', 'free', 'persistent_fluents', 'NEG', 'NON_TRANSPORTATION') 44\n",
      "('fluent_tracking', 'false', 'base_fluents', 'NEG', 'NON_TRANSPORTATION') 34\n",
      "('fluent_tracking', 'false', 'static_fluents', 'NEG', 'TRANSPORTATION') 29\n",
      "('fluent_tracking', 'free', 'static_fluents', 'POS', 'NON_TRANSPORTATION') 36\n",
      "('fluent_tracking', 'free', 'derived_fluents', 'NEG', 'NON_TRANSPORTATION') 46\n",
      "('fluent_tracking', 'false', 'static_fluents', 'NEG', 'NON_TRANSPORTATION') 20\n",
      "('fluent_tracking', 'false', 'base_fluents', 'NEG', 'TRANSPORTATION') 11\n",
      "('hallucination', 'free', None, 'POS', 'NON_TRANSPORTATION') 50\n",
      "('hallucination', 'free', None, 'NEG', 'NON_TRANSPORTATION') 50\n",
      "('hallucination', 'true', None, 'POS', 'TRANSPORTATION') 50\n",
      "('hallucination', 'free', None, 'NEG', 'TRANSPORTATION') 50\n",
      "('hallucination', 'false', None, 'POS', 'TRANSPORTATION') 50\n",
      "('hallucination', 'free', None, 'POS', 'TRANSPORTATION') 50\n",
      "('hallucination', 'true', None, 'POS', 'NON_TRANSPORTATION') 50\n",
      "('hallucination', 'false', None, 'POS', 'NON_TRANSPORTATION') 50\n",
      "('numerical_reasoning', 'true', None, 'None', 'NON_TRANSPORTATION') 50\n",
      "('numerical_reasoning', 'false', None, 'None', 'TRANSPORTATION') 50\n",
      "('numerical_reasoning', 'free', None, 'None', 'TRANSPORTATION') 50\n",
      "('numerical_reasoning', 'true', None, 'None', 'TRANSPORTATION') 50\n",
      "('numerical_reasoning', 'false', None, 'None', 'NON_TRANSPORTATION') 50\n",
      "('numerical_reasoning', 'free', None, 'None', 'NON_TRANSPORTATION') 50\n",
      "('object_tracking', 'true', 'persistent_fluents', 'POS', 'NON_TRANSPORTATION') 41\n",
      "('object_tracking', 'true', 'persistent_fluents', 'NEG', 'TRANSPORTATION') 50\n",
      "('object_tracking', 'true', 'static_fluents', 'POS', 'TRANSPORTATION') 42\n",
      "('object_tracking', 'false', 'persistent_fluents', 'NEG', 'TRANSPORTATION') 50\n",
      "('object_tracking', 'true', 'persistent_fluents', 'NEG', 'NON_TRANSPORTATION') 42\n",
      "('object_tracking', 'false', 'persistent_fluents', 'POS', 'TRANSPORTATION') 50\n",
      "('object_tracking', 'true', 'static_fluents', 'POS', 'NON_TRANSPORTATION') 35\n",
      "('object_tracking', 'false', 'static_fluents', 'NEG', 'NON_TRANSPORTATION') 39\n",
      "('object_tracking', 'true', 'static_fluents', 'NEG', 'NON_TRANSPORTATION') 35\n",
      "('object_tracking', 'false', 'persistent_fluents', 'NEG', 'NON_TRANSPORTATION') 35\n",
      "('object_tracking', 'true', 'base_fluents', 'NEG', 'NON_TRANSPORTATION') 34\n",
      "('object_tracking', 'false', 'persistent_fluents', 'POS', 'NON_TRANSPORTATION') 39\n",
      "('object_tracking', 'true', 'derived_fluents', 'POS', 'TRANSPORTATION') 27\n",
      "('object_tracking', 'true', 'persistent_fluents', 'POS', 'TRANSPORTATION') 50\n",
      "('object_tracking', 'false', 'static_fluents', 'NEG', 'TRANSPORTATION') 39\n",
      "('object_tracking', 'false', 'derived_fluents', 'POS', 'TRANSPORTATION') 5\n",
      "('object_tracking', 'false', 'static_fluents', 'POS', 'TRANSPORTATION') 44\n",
      "('object_tracking', 'false', 'base_fluents', 'NEG', 'NON_TRANSPORTATION') 11\n",
      "('object_tracking', 'true', 'derived_fluents', 'NEG', 'NON_TRANSPORTATION') 39\n",
      "('object_tracking', 'false', 'static_fluents', 'POS', 'NON_TRANSPORTATION') 35\n",
      "('object_tracking', 'true', 'static_fluents', 'NEG', 'TRANSPORTATION') 41\n",
      "('object_tracking', 'true', 'derived_fluents', 'POS', 'NON_TRANSPORTATION') 39\n",
      "('object_tracking', 'false', 'base_fluents', 'NEG', 'TRANSPORTATION') 5\n",
      "('object_tracking', 'true', 'base_fluents', 'POS', 'NON_TRANSPORTATION') 26\n",
      "('object_tracking', 'false', 'base_fluents', 'POS', 'NON_TRANSPORTATION') 14\n",
      "('object_tracking', 'true', 'base_fluents', 'NEG', 'TRANSPORTATION') 24\n",
      "('object_tracking', 'false', 'derived_fluents', 'NEG', 'TRANSPORTATION') 4\n",
      "('object_tracking', 'true', 'derived_fluents', 'NEG', 'TRANSPORTATION') 24\n",
      "('object_tracking', 'true', 'base_fluents', 'POS', 'TRANSPORTATION') 10\n",
      "('object_tracking', 'false', 'base_fluents', 'POS', 'TRANSPORTATION') 5\n",
      "('state_tracking', 'free', None, 'None', 'TRANSPORTATION') 38\n",
      "('state_tracking', 'free', None, 'NEG', 'TRANSPORTATION') 34\n",
      "('state_tracking', 'false', None, 'None', 'TRANSPORTATION') 33\n",
      "('state_tracking', 'free', None, 'POS', 'NON_TRANSPORTATION') 30\n",
      "('state_tracking', 'free', None, 'POS', 'TRANSPORTATION') 50\n",
      "('state_tracking', 'free', None, 'NEG', 'NON_TRANSPORTATION') 17\n",
      "('state_tracking', 'true', None, 'None', 'NON_TRANSPORTATION') 7\n",
      "('state_tracking', 'true', None, 'None', 'TRANSPORTATION') 32\n",
      "('state_tracking', 'free', None, 'None', 'NON_TRANSPORTATION') 19\n",
      "('state_tracking', 'false', None, 'None', 'NON_TRANSPORTATION') 4\n"
     ]
    },
    {
     "data": {
      "text/plain": "defaultdict(int,\n            {'action_executability': 300,\n             'effects': 995,\n             'fluent_tracking': 1997,\n             'hallucination': 400,\n             'numerical_reasoning': 300,\n             'object_tracking': 934,\n             'state_tracking': 264})"
     },
     "execution_count": 476,
     "metadata": {},
     "output_type": "execute_result"
    }
   ],
   "source": [
    "stats = defaultdict(int)\n",
    "for id in selected_ids:\n",
    "    q = questions_by_id[id]\n",
    "    stats[output_keys(q)]+=1\n",
    "\n",
    "by_domain = defaultdict(int)\n",
    "for id in selected_ids:\n",
    "    q = questions_by_id[id]\n",
    "    by_domain[q[OUT_OBJ_DOMAIN_NAME]]+=1\n",
    "print(by_domain, '\\n')\n",
    "\n",
    "by_fluents = defaultdict(int)\n",
    "for id in selected_ids:\n",
    "    q = questions_by_id[id]\n",
    "    by_fluents[q[OUT_OBJ_FLUENT_TYPE]]+=1\n",
    "print(by_fluents,'\\n')\n",
    "\n",
    "\n",
    "count_by_cat = defaultdict(int)\n",
    "for k, v in sorted(stats.items(), key=lambda x: x[0][0]):\n",
    "    count_by_cat[k[0]] += v\n",
    "    print(k, v)\n",
    "count_by_cat"
   ],
   "metadata": {
    "collapsed": false,
    "ExecuteTime": {
     "end_time": "2024-05-14T06:42:40.298168Z",
     "start_time": "2024-05-14T06:42:40.256296Z"
    }
   },
   "id": "b3380ca162f0ea23",
   "execution_count": 476
  },
  {
   "cell_type": "code",
   "outputs": [],
   "source": [
    "# count_by_cat = defaultdict(int)\n",
    "# for k, v in sorted(stats.items(), key=lambda x: x[0][0]):\n",
    "#     count_by_cat[k[0]] += 1\n",
    "# count_by_cat"
   ],
   "metadata": {
    "collapsed": false,
    "ExecuteTime": {
     "end_time": "2024-05-14T06:42:40.760256Z",
     "start_time": "2024-05-14T06:42:40.756791Z"
    }
   },
   "id": "b4dee3e83b896d11",
   "execution_count": 477
  },
  {
   "cell_type": "code",
   "outputs": [
    {
     "data": {
      "text/plain": "5190"
     },
     "execution_count": 478,
     "metadata": {},
     "output_type": "execute_result"
    }
   ],
   "source": [
    "sum(count_by_cat.values())"
   ],
   "metadata": {
    "collapsed": false,
    "ExecuteTime": {
     "end_time": "2024-05-14T06:42:42.099110Z",
     "start_time": "2024-05-14T06:42:42.094321Z"
    }
   },
   "id": "ac2b295252962de3",
   "execution_count": 478
  },
  {
   "cell_type": "code",
   "outputs": [
    {
     "data": {
      "text/plain": "1248"
     },
     "execution_count": 468,
     "metadata": {},
     "output_type": "execute_result"
    }
   ],
   "source": [
    "13*48*2"
   ],
   "metadata": {
    "collapsed": false,
    "ExecuteTime": {
     "end_time": "2024-05-14T06:41:48.053534Z",
     "start_time": "2024-05-14T06:41:48.048591Z"
    }
   },
   "id": "ece3dcb75e283307",
   "execution_count": 468
  },
  {
   "cell_type": "code",
   "outputs": [
    {
     "name": "stdout",
     "output_type": "stream",
     "text": [
      "-9778\n"
     ]
    }
   ],
   "source": [
    "print(13*48*2-sum(count_by_cat.values()))"
   ],
   "metadata": {
    "collapsed": false,
    "ExecuteTime": {
     "end_time": "2024-05-14T06:27:50.927179Z",
     "start_time": "2024-05-14T06:27:50.922700Z"
    }
   },
   "id": "af5d72fa4e018f3a",
   "execution_count": 448
  },
  {
   "cell_type": "code",
   "outputs": [],
   "source": [
    "save_jsonl(selected_ids, f'small_dataset_ids.{MAX_PER_CATEGORY}.new2.pl-{selected_plan_length}.new.jsonl')"
   ],
   "metadata": {
    "collapsed": false,
    "ExecuteTime": {
     "end_time": "2024-05-14T06:27:51.861535Z",
     "start_time": "2024-05-14T06:27:51.841543Z"
    }
   },
   "id": "81c3279bf780d15",
   "execution_count": 449
  },
  {
   "cell_type": "code",
   "outputs": [],
   "source": [
    "# total = 0\n",
    "# count_by_cat = defaultdict(int)\n",
    "# for k, v in sorted(stats.items(), key=lambda x: x[0][0]):\n",
    "#     count_by_cat[k[0]] += 1\n",
    "# count_by_cat"
   ],
   "metadata": {
    "collapsed": false,
    "ExecuteTime": {
     "end_time": "2024-05-14T00:19:14.806238Z",
     "start_time": "2024-05-14T00:19:14.803980Z"
    }
   },
   "id": "c4bbfba06005c012",
   "execution_count": 134
  },
  {
   "cell_type": "code",
   "outputs": [],
   "source": [
    "# # things to consider:\n",
    "# - balanced T/F sampling\n",
    "# - balanced Q categories\n",
    "# - take q + a with lenth + response <= 4000 tokens\n",
    "# balanced fluent types\n",
    "# balanced -+ fluents\n",
    "\n",
    "# state tracking, no true false questions\n",
    "# reduce object tracking qs\n",
    "# boost action executability"
   ],
   "metadata": {
    "collapsed": false
   },
   "id": "7d9e40f3e5023e9a"
  },
  {
   "cell_type": "markdown",
   "source": [
    "# Check if Data is Present"
   ],
   "metadata": {
    "collapsed": false
   },
   "id": "5e4266373f1be3f5"
  },
  {
   "cell_type": "code",
   "outputs": [],
   "source": [
    "# ids_by_prefix = {}\n",
    "# for sub in [WITHOUT_RANDOM_SUB, WITH_RANDOM_SUB]:\n",
    "#     for ram in RAMIFICATION_TYPES:\n",
    "#         for few_shot in ['few_shot_1', 'few_shot_5']:\n",
    "#             ids = set()\n",
    "#             for domain in DOMAIN_NAMES:\n",
    "#                 for i in range(1,11):\n",
    "#                     path = os.path.join(DATA_PATH, 'data_for_evaluation', sub, ram, few_shot, domain, f'Instance_{i}.jsonl')\n",
    "#                     if not os.path.exists(path):\n",
    "#                         print(path)\n",
    "#                     else:\n",
    "#                         for d in open_jsonl(path):\n",
    "#                             ids.add(d['id'])\n",
    "#             ids_by_prefix[(sub,ram,few_shot)] = ids    "
   ],
   "metadata": {
    "collapsed": false,
    "ExecuteTime": {
     "end_time": "2024-05-11T02:03:16.400394Z",
     "start_time": "2024-05-11T02:02:02.198421Z"
    }
   },
   "id": "3cbf4846d946a85b",
   "execution_count": 74
  }
 ],
 "metadata": {
  "kernelspec": {
   "display_name": "Python 3",
   "language": "python",
   "name": "python3"
  },
  "language_info": {
   "codemirror_mode": {
    "name": "ipython",
    "version": 2
   },
   "file_extension": ".py",
   "mimetype": "text/x-python",
   "name": "python",
   "nbconvert_exporter": "python",
   "pygments_lexer": "ipython2",
   "version": "2.7.6"
  }
 },
 "nbformat": 4,
 "nbformat_minor": 5
}
