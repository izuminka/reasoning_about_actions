{
 "cells": [
  {
   "cell_type": "code",
   "outputs": [],
   "source": [
    "import sys\n",
    "sys.path.insert(0, '../../')\n",
    "from src.questions_construction.questions import FLUENT_TYPES_LIST\n",
    "from src.questions_construction.main import PLAN_LENGTHS, QUESTION_CATEGORIES\n",
    "from src.questions_construction.domains import DOMAIN_NAMES\n",
    "from src.analysis.model_performances import gather_questions\n",
    "from src.common import *\n",
    "import random\n",
    "from collections import defaultdict\n",
    "from copy import deepcopy\n",
    "import itertools"
   ],
   "metadata": {
    "collapsed": false,
    "ExecuteTime": {
     "end_time": "2024-05-13T22:27:26.483670Z",
     "start_time": "2024-05-13T22:27:24.089910Z"
    }
   },
   "id": "c8d9a5ad8ad5faf0",
   "execution_count": 1
  },
  {
   "cell_type": "code",
   "outputs": [],
   "source": [
    "def get_data(domain, dataset_dir, few_shot=1):\n",
    "    data_all = []\n",
    "    for i in range(1,11):\n",
    "        path = os.path.join(dataset_dir, 'without_random_sub', 'without_ramifications', f'few_shot_{few_shot}', domain, f'Instance_{i}.jsonl')\n",
    "        data_all.extend(open_jsonl(path))\n",
    "    return data_all"
   ],
   "metadata": {
    "collapsed": false,
    "ExecuteTime": {
     "end_time": "2024-05-13T22:27:26.487974Z",
     "start_time": "2024-05-13T22:27:26.485097Z"
    }
   },
   "id": "87fa97645dac0863",
   "execution_count": 2
  },
  {
   "cell_type": "code",
   "outputs": [],
   "source": [
    "questions_dir = f'{DATA_PATH}/questions_m1'\n",
    "questions_by_id = gather_questions(questions_dir)"
   ],
   "metadata": {
    "collapsed": false,
    "ExecuteTime": {
     "end_time": "2024-05-13T22:27:44.762488Z",
     "start_time": "2024-05-13T22:27:26.489254Z"
    }
   },
   "id": "841aa25de12a88c9",
   "execution_count": 3
  },
  {
   "cell_type": "code",
   "outputs": [],
   "source": [
    "dataset_dir = f'{DATA_PATH}/data_for_evaluation'\n",
    "data_by_domain = {domain: get_data(domain, dataset_dir) for domain in DOMAIN_NAMES}"
   ],
   "metadata": {
    "collapsed": true,
    "ExecuteTime": {
     "end_time": "2024-05-13T22:27:49.080377Z",
     "start_time": "2024-05-13T22:27:44.765130Z"
    }
   },
   "id": "initial_id",
   "execution_count": 4
  },
  {
   "cell_type": "code",
   "outputs": [
    {
     "name": "stdout",
     "output_type": "stream",
     "text": [
      "blocksworld 7279\n",
      "depots 5999\n",
      "driverlog 7127\n",
      "goldminer 8742\n",
      "grippers 7106\n",
      "logistics 6100\n",
      "miconic 8261\n",
      "mystery 6100\n",
      "npuzzle 7287\n",
      "satellite 8517\n",
      "spanner 8495\n",
      "visitall 7166\n",
      "zenotravel 7370\n"
     ]
    }
   ],
   "source": [
    "for k,v in data_by_domain.items():\n",
    "    print(k, len(v))"
   ],
   "metadata": {
    "collapsed": false,
    "ExecuteTime": {
     "end_time": "2024-05-13T22:27:49.085433Z",
     "start_time": "2024-05-13T22:27:49.081390Z"
    }
   },
   "id": "29947f3b19673070",
   "execution_count": 5
  },
  {
   "cell_type": "code",
   "outputs": [],
   "source": [
    "def is_good_qa(question_info, include_params, exclude_params):\n",
    "    for k, v in exclude_params.items():\n",
    "        if question_info[k] == v:\n",
    "            return False\n",
    "        \n",
    "    for k, v in include_params.items():\n",
    "        if question_info[k] != v:\n",
    "            return False\n",
    "    return True\n",
    "\n",
    "def is_token_window_ok(data_dict, chars_per_token=4, max_tokens=4096):\n",
    "    return (len(data_dict['prompt'] + data_dict['label'])/chars_per_token) < max_tokens\n",
    "\n",
    "def sample_data(data_all, questions_by_id, selected_plan_length):\n",
    "    selected_data = []\n",
    "    exclude_params = {}\n",
    "    include_params = {'plan_length': selected_plan_length}\n",
    "    for d in data_all:\n",
    "        question_id = d['id']\n",
    "        if question_id not in questions_by_id:\n",
    "            raise ValueError\n",
    "        question_info = questions_by_id[question_id]\n",
    "        if is_good_qa(question_info, include_params, exclude_params) and is_token_window_ok(d):\n",
    "            selected_data.append(d)\n",
    "    random.shuffle(selected_data)\n",
    "    return selected_data"
   ],
   "metadata": {
    "collapsed": false,
    "ExecuteTime": {
     "end_time": "2024-05-13T22:27:49.092590Z",
     "start_time": "2024-05-13T22:27:49.086729Z"
    }
   },
   "id": "a12afe2f0c4f818d",
   "execution_count": 6
  },
  {
   "cell_type": "code",
   "outputs": [],
   "source": [
    "# domain = 'goldminer'\n",
    "# selected_plan_length = 1\n",
    "# sample = sample_data(data_by_domain[domain], questions_by_id, selected_plan_length)\n",
    "# len(sample)"
   ],
   "metadata": {
    "collapsed": false,
    "ExecuteTime": {
     "end_time": "2024-05-13T22:27:49.096570Z",
     "start_time": "2024-05-13T22:27:49.094123Z"
    }
   },
   "id": "a054fa54660dccbd",
   "execution_count": 7
  },
  {
   "cell_type": "markdown",
   "source": [
    "# Sample"
   ],
   "metadata": {
    "collapsed": false
   },
   "id": "84fea22cac1dbc17"
  },
  {
   "cell_type": "code",
   "outputs": [],
   "source": [
    "def output_keys(questions_dict):\n",
    "    key1 = questions_dict[OUT_OBJ_QUESTION_CATEGORY]\n",
    "    if q[OUT_OBJ_ANSWER_TYPE] == TRUE_FALSE_ANSWER_TYPE:\n",
    "        if q[OUT_OBJ_ANSWER] == 'True':\n",
    "            key2 = 'true'\n",
    "        else:\n",
    "            key2 = 'false'\n",
    "    else:\n",
    "        key2 = 'free'\n",
    "        \n",
    "    key3 = q[OUT_OBJ_FLUENT_TYPE]\n",
    "        \n",
    "    if q[OUT_OBJ_IS_POS_FLUENT_QUESTION] is True:\n",
    "        key4 = 'POS'\n",
    "    elif q[OUT_OBJ_IS_POS_FLUENT_QUESTION] is False:\n",
    "        key4 = 'NEG'\n",
    "    else:\n",
    "        key4 = 'None'\n",
    "    return (key1, key2, key3, key4)\n",
    "\n",
    "def is_restricted(key1, key2, key3, key4):\n",
    "        # restrictions on keys\n",
    "    if key1 == 'fluent_tracking' and (key3 == 'None' or key4 == 'None'):\n",
    "        return True\n",
    "        \n",
    "    if key1 == 'object_tracking' and (key3 == 'None' or key4 == 'None'):\n",
    "        return True\n",
    "        \n",
    "    if key1 == 'hallucination' and key4 == 'None':\n",
    "        return True\n",
    "        \n",
    "    if key1 == 'effects' and key3 == 'None' and key4 == 'None':\n",
    "        return True\n",
    "    \n",
    "    return False"
   ],
   "metadata": {
    "collapsed": false,
    "ExecuteTime": {
     "end_time": "2024-05-13T22:27:49.103411Z",
     "start_time": "2024-05-13T22:27:49.097848Z"
    }
   },
   "id": "7d0b89eeacc3b059",
   "execution_count": 8
  },
  {
   "cell_type": "code",
   "outputs": [
    {
     "name": "stdout",
     "output_type": "stream",
     "text": [
      "14417\n"
     ]
    }
   ],
   "source": [
    "selected_plan_length = 1\n",
    "# for selected_plan_length in [1,5,19]:\n",
    "\n",
    "# PREPARE DATA\n",
    "data_domain_all = {domain: sample_data(data_by_domain[domain], questions_by_id, selected_plan_length) for domain in DOMAIN_NAMES}\n",
    "min_samples = min([len(v) for v in data_domain_all.values() if len(v) > 100])\n",
    "data_all = []\n",
    "for k, v in data_domain_all.items():\n",
    "    data_all.extend(v[:min_samples])\n",
    "random.shuffle(data_all)\n",
    "\n",
    "print(len(data_all))"
   ],
   "metadata": {
    "collapsed": false,
    "ExecuteTime": {
     "end_time": "2024-05-13T22:27:49.429218Z",
     "start_time": "2024-05-13T22:27:49.104726Z"
    }
   },
   "id": "2041189736532b76",
   "execution_count": 9
  },
  {
   "cell_type": "code",
   "outputs": [
    {
     "data": {
      "text/plain": "{'blocksworld': 1460,\n 'depots': 1109,\n 'driverlog': 1254,\n 'goldminer': 1569,\n 'grippers': 1356,\n 'logistics': 1205,\n 'miconic': 1426,\n 'mystery': 1207,\n 'npuzzle': 1408,\n 'satellite': 1603,\n 'spanner': 1624,\n 'visitall': 1218,\n 'zenotravel': 1456}"
     },
     "execution_count": 10,
     "metadata": {},
     "output_type": "execute_result"
    }
   ],
   "source": [
    "{k: len(v) for k, v in data_domain_all.items()}"
   ],
   "metadata": {
    "collapsed": false,
    "ExecuteTime": {
     "end_time": "2024-05-13T22:27:49.444170Z",
     "start_time": "2024-05-13T22:27:49.433337Z"
    }
   },
   "id": "6c307b0d63ddbd75",
   "execution_count": 10
  },
  {
   "cell_type": "code",
   "outputs": [],
   "source": [
    "MAX_PL_DOM_CAT_TYPE = 13\n",
    "MAX_PER_CATEGORY = 100\n",
    "\n",
    "MULTUPLICITY_BY_CATEGORY = {'action_executability': 3+0.3,\n",
    "             'effects': 11+0.5,\n",
    "             'fluent_tracking': 24,\n",
    "             'hallucination': 4+0.5,\n",
    "             'numerical_reasoning': 3+0.5,\n",
    "             'object_tracking': 16,\n",
    "             'state_tracking': 5+0.5}\n",
    "\n",
    "selected_ids = []\n",
    "data_by_category = defaultdict(list)\n",
    "for d in data_all:\n",
    "    question_id = d['id']\n",
    "    q = questions_by_id[question_id]\n",
    "    \n",
    "    key1, key2, key3, key4 = output_keys(q)\n",
    "    key_all = (key1, key2, key3, key4)\n",
    "    if is_restricted(key1, key2, key3, key4):\n",
    "        continue\n",
    "                \n",
    "    # max_samples = MAX_PL_DOM_CAT_TYPE\n",
    "    # if key1 in ('state_tracking'):\n",
    "    #     if key2 in ('true', 'false'):\n",
    "    #         max_samples = MAX_PL_DOM_CAT_TYPE*3\n",
    "    #     else:\n",
    "    #         max_samples = MAX_PL_DOM_CAT_TYPE\n",
    "    # if key1 in ('action_executability'):\n",
    "    #     max_samples = int(MAX_PL_DOM_CAT_TYPE*3)\n",
    "    #     \n",
    "    # if key1 in ('fluent_tracking'):\n",
    "    #     max_samples = int(MAX_PL_DOM_CAT_TYPE/2)\n",
    "    # \n",
    "    # if key1 in ('object_tracking'):\n",
    "    #     max_samples = int(MAX_PL_DOM_CAT_TYPE/1.5)\n",
    "    # \n",
    "    # if key1 in ('numerical_reasoning'):\n",
    "    #     max_samples = int(MAX_PL_DOM_CAT_TYPE*1.5)\n",
    "    \n",
    "    if len(data_by_category[key_all]) < int(MAX_PER_CATEGORY/MULTUPLICITY_BY_CATEGORY[key1]):\n",
    "        data_by_category[key_all].append(question_id)\n",
    "selected_ids.extend(list(itertools.chain.from_iterable(data_by_category.values())))"
   ],
   "metadata": {
    "collapsed": false,
    "ExecuteTime": {
     "end_time": "2024-05-13T22:38:25.515814Z",
     "start_time": "2024-05-13T22:38:25.459341Z"
    }
   },
   "id": "fa523b2974945c0f",
   "execution_count": 60
  },
  {
   "cell_type": "code",
   "outputs": [
    {
     "name": "stdout",
     "output_type": "stream",
     "text": [
      "('action_executability', 'true', None, 'None') 30\n",
      "('action_executability', 'false', None, 'None') 30\n",
      "('action_executability', 'free', None, 'None') 30\n",
      "('effects', 'true', 'derived_fluents', 'None') 8\n",
      "('effects', 'false', 'persistent_fluents', 'None') 8\n",
      "('effects', 'true', 'persistent_fluents', 'None') 8\n",
      "('effects', 'free', None, 'POS') 8\n",
      "('effects', 'true', 'static_fluents', 'None') 8\n",
      "('effects', 'false', 'derived_fluents', 'None') 8\n",
      "('effects', 'false', 'base_fluents', 'None') 8\n",
      "('effects', 'free', None, 'NEG') 8\n",
      "('effects', 'true', 'base_fluents', 'None') 8\n",
      "('effects', 'false', 'static_fluents', 'None') 8\n",
      "('effects', 'free', None, 'None') 8\n",
      "('fluent_tracking', 'false', 'persistent_fluents', 'POS') 4\n",
      "('fluent_tracking', 'free', 'persistent_fluents', 'NEG') 4\n",
      "('fluent_tracking', 'false', 'derived_fluents', 'POS') 4\n",
      "('fluent_tracking', 'free', 'persistent_fluents', 'POS') 4\n",
      "('fluent_tracking', 'false', 'base_fluents', 'NEG') 4\n",
      "('fluent_tracking', 'true', 'base_fluents', 'POS') 4\n",
      "('fluent_tracking', 'false', 'persistent_fluents', 'NEG') 4\n",
      "('fluent_tracking', 'free', 'static_fluents', 'NEG') 4\n",
      "('fluent_tracking', 'true', 'derived_fluents', 'NEG') 4\n",
      "('fluent_tracking', 'false', 'static_fluents', 'POS') 4\n",
      "('fluent_tracking', 'false', 'derived_fluents', 'NEG') 4\n",
      "('fluent_tracking', 'true', 'static_fluents', 'NEG') 4\n",
      "('fluent_tracking', 'free', 'base_fluents', 'NEG') 4\n",
      "('fluent_tracking', 'true', 'persistent_fluents', 'POS') 4\n",
      "('fluent_tracking', 'free', 'static_fluents', 'POS') 4\n",
      "('fluent_tracking', 'free', 'derived_fluents', 'POS') 4\n",
      "('fluent_tracking', 'true', 'derived_fluents', 'POS') 4\n",
      "('fluent_tracking', 'true', 'persistent_fluents', 'NEG') 4\n",
      "('fluent_tracking', 'true', 'base_fluents', 'NEG') 4\n",
      "('fluent_tracking', 'true', 'static_fluents', 'POS') 4\n",
      "('fluent_tracking', 'free', 'derived_fluents', 'NEG') 4\n",
      "('fluent_tracking', 'false', 'static_fluents', 'NEG') 4\n",
      "('fluent_tracking', 'false', 'base_fluents', 'POS') 4\n",
      "('fluent_tracking', 'free', 'base_fluents', 'POS') 4\n",
      "('hallucination', 'free', None, 'POS') 22\n",
      "('hallucination', 'true', None, 'POS') 22\n",
      "('hallucination', 'free', None, 'NEG') 22\n",
      "('hallucination', 'false', None, 'POS') 22\n",
      "('numerical_reasoning', 'free', None, 'None') 28\n",
      "('numerical_reasoning', 'false', None, 'None') 28\n",
      "('numerical_reasoning', 'true', None, 'None') 28\n",
      "('object_tracking', 'true', 'static_fluents', 'NEG') 6\n",
      "('object_tracking', 'true', 'persistent_fluents', 'NEG') 6\n",
      "('object_tracking', 'true', 'derived_fluents', 'NEG') 6\n",
      "('object_tracking', 'true', 'base_fluents', 'NEG') 6\n",
      "('object_tracking', 'true', 'persistent_fluents', 'POS') 6\n",
      "('object_tracking', 'true', 'static_fluents', 'POS') 6\n",
      "('object_tracking', 'false', 'persistent_fluents', 'POS') 6\n",
      "('object_tracking', 'false', 'static_fluents', 'NEG') 6\n",
      "('object_tracking', 'false', 'persistent_fluents', 'NEG') 6\n",
      "('object_tracking', 'false', 'static_fluents', 'POS') 6\n",
      "('object_tracking', 'true', 'base_fluents', 'POS') 6\n",
      "('object_tracking', 'true', 'derived_fluents', 'POS') 6\n",
      "('object_tracking', 'false', 'base_fluents', 'POS') 6\n",
      "('object_tracking', 'false', 'base_fluents', 'NEG') 6\n",
      "('object_tracking', 'false', 'derived_fluents', 'NEG') 4\n",
      "('object_tracking', 'false', 'derived_fluents', 'POS') 4\n",
      "('state_tracking', 'true', None, 'None') 18\n",
      "('state_tracking', 'free', None, 'POS') 18\n",
      "('state_tracking', 'free', None, 'None') 18\n",
      "('state_tracking', 'false', None, 'None') 18\n",
      "('state_tracking', 'free', None, 'NEG') 18\n"
     ]
    },
    {
     "data": {
      "text/plain": "defaultdict(int,\n            {'action_executability': 90,\n             'effects': 88,\n             'fluent_tracking': 96,\n             'hallucination': 88,\n             'numerical_reasoning': 84,\n             'object_tracking': 92,\n             'state_tracking': 90})"
     },
     "execution_count": 61,
     "metadata": {},
     "output_type": "execute_result"
    }
   ],
   "source": [
    "stats = defaultdict(int)\n",
    "for id in selected_ids:\n",
    "    q = questions_by_id[id]\n",
    "    stats[output_keys(q)]+=1\n",
    "\n",
    "count_by_cat = defaultdict(int)\n",
    "for k, v in sorted(stats.items(), key=lambda x: x[0][0]):\n",
    "    count_by_cat[k[0]] += v\n",
    "    print(k, v) \n",
    "    \n",
    "count_by_cat"
   ],
   "metadata": {
    "collapsed": false,
    "ExecuteTime": {
     "end_time": "2024-05-13T22:38:25.693076Z",
     "start_time": "2024-05-13T22:38:25.680809Z"
    }
   },
   "id": "b3380ca162f0ea23",
   "execution_count": 61
  },
  {
   "cell_type": "code",
   "outputs": [],
   "source": [
    "# count_by_cat = defaultdict(int)\n",
    "# for k, v in sorted(stats.items(), key=lambda x: x[0][0]):\n",
    "#     count_by_cat[k[0]] += 1\n",
    "# count_by_cat"
   ],
   "metadata": {
    "collapsed": false,
    "ExecuteTime": {
     "end_time": "2024-05-13T22:38:33.759889Z",
     "start_time": "2024-05-13T22:38:33.756883Z"
    }
   },
   "id": "b4dee3e83b896d11",
   "execution_count": 62
  },
  {
   "cell_type": "code",
   "outputs": [
    {
     "name": "stdout",
     "output_type": "stream",
     "text": [
      "-4\n"
     ]
    }
   ],
   "source": [
    "print(13*48-sum(count_by_cat.values()))"
   ],
   "metadata": {
    "collapsed": false,
    "ExecuteTime": {
     "end_time": "2024-05-13T22:38:34.088136Z",
     "start_time": "2024-05-13T22:38:34.084319Z"
    }
   },
   "id": "af5d72fa4e018f3a",
   "execution_count": 63
  },
  {
   "cell_type": "code",
   "outputs": [
    {
     "data": {
      "text/plain": "624"
     },
     "execution_count": 64,
     "metadata": {},
     "output_type": "execute_result"
    }
   ],
   "source": [
    "13*48"
   ],
   "metadata": {
    "collapsed": false,
    "ExecuteTime": {
     "end_time": "2024-05-13T22:39:06.330971Z",
     "start_time": "2024-05-13T22:39:06.326877Z"
    }
   },
   "id": "81c3279bf780d15",
   "execution_count": 64
  },
  {
   "cell_type": "code",
   "outputs": [],
   "source": [
    "# total = 0\n",
    "# count_by_cat = defaultdict(int)\n",
    "# for k, v in sorted(stats.items(), key=lambda x: x[0][0]):\n",
    "#     count_by_cat[k[0]] += 1\n",
    "# count_by_cat"
   ],
   "metadata": {
    "collapsed": false,
    "ExecuteTime": {
     "end_time": "2024-05-13T22:39:10.781904Z",
     "start_time": "2024-05-13T22:39:10.779185Z"
    }
   },
   "id": "c4bbfba06005c012",
   "execution_count": 65
  },
  {
   "cell_type": "code",
   "outputs": [],
   "source": [
    "save_jsonl(selected_ids, f'small_dataset_ids_pl.{selected_plan_length}.jsonl')"
   ],
   "metadata": {
    "collapsed": false,
    "ExecuteTime": {
     "end_time": "2024-05-13T22:45:04.309506Z",
     "start_time": "2024-05-13T22:45:04.304157Z"
    }
   },
   "id": "3053828f1976b08a",
   "execution_count": 68
  },
  {
   "cell_type": "code",
   "outputs": [],
   "source": [
    "# # things to consider:\n",
    "# - balanced T/F sampling\n",
    "# - balanced Q categories\n",
    "# - take q + a with lenth + response <= 4000 tokens\n",
    "# balanced fluent types\n",
    "# balanced -+ fluents\n",
    "\n",
    "# state tracking, no true false questions\n",
    "# reduce object tracking qs\n",
    "# boost action executability"
   ],
   "metadata": {
    "collapsed": false
   },
   "id": "7d9e40f3e5023e9a"
  },
  {
   "cell_type": "markdown",
   "source": [
    "# Check if Data is Present"
   ],
   "metadata": {
    "collapsed": false
   },
   "id": "5e4266373f1be3f5"
  },
  {
   "cell_type": "code",
   "outputs": [],
   "source": [
    "# ids_by_prefix = {}\n",
    "# for sub in [WITHOUT_RANDOM_SUB, WITH_RANDOM_SUB]:\n",
    "#     for ram in RAMIFICATION_TYPES:\n",
    "#         for few_shot in ['few_shot_1', 'few_shot_5']:\n",
    "#             ids = set()\n",
    "#             for domain in DOMAIN_NAMES:\n",
    "#                 for i in range(1,11):\n",
    "#                     path = os.path.join(DATA_PATH, 'data_for_evaluation', sub, ram, few_shot, domain, f'Instance_{i}.jsonl')\n",
    "#                     if not os.path.exists(path):\n",
    "#                         print(path)\n",
    "#                     else:\n",
    "#                         for d in open_jsonl(path):\n",
    "#                             ids.add(d['id'])\n",
    "#             ids_by_prefix[(sub,ram,few_shot)] = ids    "
   ],
   "metadata": {
    "collapsed": false,
    "ExecuteTime": {
     "end_time": "2024-05-11T02:03:16.400394Z",
     "start_time": "2024-05-11T02:02:02.198421Z"
    }
   },
   "id": "3cbf4846d946a85b",
   "execution_count": 74
  }
 ],
 "metadata": {
  "kernelspec": {
   "display_name": "Python 3",
   "language": "python",
   "name": "python3"
  },
  "language_info": {
   "codemirror_mode": {
    "name": "ipython",
    "version": 2
   },
   "file_extension": ".py",
   "mimetype": "text/x-python",
   "name": "python",
   "nbconvert_exporter": "python",
   "pygments_lexer": "ipython2",
   "version": "2.7.6"
  }
 },
 "nbformat": 4,
 "nbformat_minor": 5
}
