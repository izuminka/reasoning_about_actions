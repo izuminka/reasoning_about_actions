{
 "cells": [
  {
   "cell_type": "code",
   "outputs": [],
   "source": [
    "import os.path\n",
    "import sys\n",
    "sys.path.insert(0, '../../')\n",
    "from src.questions_construction.questions import FLUENT_TYPES_LIST\n",
    "from src.questions_construction.main import PLAN_LENGTHS, QUESTION_CATEGORIES\n",
    "from src.questions_construction.domains import DOMAIN_NAMES\n",
    "from src.analysis.model_performances import * #gather_questions, TRANSPORTATION_DOMAINS, NON_TRANSPORTATION_DOMAINS\n",
    "from src.common import *\n",
    "import random\n",
    "from collections import defaultdict\n",
    "from copy import deepcopy\n",
    "import itertools\n",
    "\n",
    "import sentencepiece"
   ],
   "metadata": {
    "collapsed": false,
    "ExecuteTime": {
     "end_time": "2024-05-16T23:22:05.737602Z",
     "start_time": "2024-05-16T23:22:03.798503Z"
    }
   },
   "id": "c8d9a5ad8ad5faf0",
   "execution_count": 3
  },
  {
   "cell_type": "code",
   "outputs": [],
   "source": [
    "with open('huggingface.token.key') as f:\n",
    "    huggingface_key = f.read()\n",
    "# print(huggingface_key)\n",
    "\n",
    "# !huggingface-cli login"
   ],
   "metadata": {
    "collapsed": false,
    "ExecuteTime": {
     "end_time": "2024-05-16T23:22:05.742160Z",
     "start_time": "2024-05-16T23:22:05.739288Z"
    }
   },
   "id": "88a851c856c78878",
   "execution_count": 4
  },
  {
   "cell_type": "code",
   "outputs": [
    {
     "name": "stderr",
     "output_type": "stream",
     "text": [
      "/opt/anaconda3/envs/llm_asp/lib/python3.9/site-packages/huggingface_hub/file_download.py:1132: FutureWarning: `resume_download` is deprecated and will be removed in version 1.0.0. Downloads always resume when possible. If you want to force a new download, use `force_download=True`.\n",
      "  warnings.warn(\n"
     ]
    }
   ],
   "source": [
    "from transformers import AutoTokenizer\n",
    "\n",
    "reberta_tokenizer = AutoTokenizer.from_pretrained('roberta-base')\n",
    "llama_tokenizer = AutoTokenizer.from_pretrained('meta-llama/Llama-2-7b-chat-hf', token=huggingface_key)\n",
    "\n",
    "def token_length(text, tokenizer):\n",
    "    tokens = tokenizer(text, add_special_tokens=False)\n",
    "    return len(tokens['input_ids'])"
   ],
   "metadata": {
    "collapsed": false,
    "ExecuteTime": {
     "end_time": "2024-05-16T23:22:08.052999Z",
     "start_time": "2024-05-16T23:22:05.743755Z"
    }
   },
   "id": "b4e0aabc9af3e9c7",
   "execution_count": 5
  },
  {
   "cell_type": "code",
   "outputs": [],
   "source": [
    "def get_data(domain, dataset_dir, subs='without_random_sub', few_shot=1):\n",
    "    data_all = []\n",
    "    for i in range(1,11):\n",
    "        path = os.path.join(dataset_dir, subs, 'without_ramifications', f'few_shot_{few_shot}', domain, f'Instance_{i}.jsonl')\n",
    "        data_all.extend(open_jsonl(path))\n",
    "    return data_all"
   ],
   "metadata": {
    "collapsed": false,
    "ExecuteTime": {
     "end_time": "2024-05-28T02:54:09.077311Z",
     "start_time": "2024-05-28T02:54:09.055389Z"
    }
   },
   "id": "87fa97645dac0863",
   "execution_count": 1
  },
  {
   "cell_type": "code",
   "outputs": [],
   "source": [
    "questions_dir = f'{DATA_PATH}/questions_m1'\n",
    "questions_by_id = gather_questions(questions_dir)"
   ],
   "metadata": {
    "collapsed": false,
    "ExecuteTime": {
     "end_time": "2024-05-16T23:22:25.229152Z",
     "start_time": "2024-05-16T23:22:08.059980Z"
    }
   },
   "id": "841aa25de12a88c9",
   "execution_count": 7
  },
  {
   "cell_type": "code",
   "outputs": [],
   "source": [
    "dataset_dir = f'{DATA_PATH}/data_for_evaluation'\n",
    "subs = WITHOUT_RANDOM_SUB\n",
    "few_shot = 5\n",
    "data_by_domain = {domain: get_data(domain, dataset_dir, subs=subs, few_shot=few_shot) for domain in DOMAIN_NAMES}"
   ],
   "metadata": {
    "collapsed": true,
    "ExecuteTime": {
     "end_time": "2024-05-16T23:22:34.327999Z",
     "start_time": "2024-05-16T23:22:25.230681Z"
    }
   },
   "id": "initial_id",
   "execution_count": 8
  },
  {
   "cell_type": "code",
   "outputs": [
    {
     "name": "stdout",
     "output_type": "stream",
     "text": [
      "blocksworld 7279\n",
      "depots 5999\n",
      "driverlog 7083\n",
      "goldminer 8746\n",
      "grippers 7106\n",
      "logistics 6100\n",
      "miconic 8249\n",
      "mystery 6100\n",
      "npuzzle 7288\n",
      "satellite 8516\n",
      "spanner 8494\n",
      "visitall 7165\n",
      "zenotravel 7372\n"
     ]
    }
   ],
   "source": [
    "for k,v in data_by_domain.items():\n",
    "    print(k, len(v))"
   ],
   "metadata": {
    "collapsed": false,
    "ExecuteTime": {
     "end_time": "2024-05-16T23:22:34.332498Z",
     "start_time": "2024-05-16T23:22:34.329287Z"
    }
   },
   "id": "29947f3b19673070",
   "execution_count": 9
  },
  {
   "cell_type": "code",
   "outputs": [],
   "source": [
    "def is_good_qa(question_info, include_params, exclude_params):\n",
    "    for k, v in exclude_params.items():\n",
    "        if question_info[k] == v:\n",
    "            return False\n",
    "        \n",
    "    for k, v in include_params.items():\n",
    "        if question_info[k] != v:\n",
    "            return False\n",
    "    return True\n",
    "\n",
    "def tokens_in_text(text, chars_per_token=4):\n",
    "    return len(text)/chars_per_token\n",
    "\n",
    "def is_token_window_ok(data_dict, max_tokens=4096, max_out_tokens=int(512/2)):\n",
    "    # condition1 = tokens_in_text(data_dict['prompt'] + data_dict['label']) <= max_tokens\n",
    "    # condition2 = tokens_in_text(data_dict['label']) <= max_out_tokens\n",
    "    condition1 = token_length(data_dict['prompt'] + data_dict['label'], llama_tokenizer) <= max_tokens\n",
    "    condition2 = token_length(data_dict['label'], reberta_tokenizer) <= max_out_tokens\n",
    "    return condition1 and condition2\n",
    "\n",
    "\n",
    "def filter_by_length(data_all):\n",
    "    data_filtered = []\n",
    "    for d in tqdm(data_all):\n",
    "        try:\n",
    "            if is_token_window_ok(d):\n",
    "                data_filtered.append(d)\n",
    "        except:\n",
    "            pass\n",
    "    return data_filtered\n",
    "\n",
    "def sample_data(data_all, questions_by_id, selected_plan_length):\n",
    "    selected_data = []\n",
    "    exclude_params = {}\n",
    "    include_params = {'plan_length': selected_plan_length}\n",
    "    for d in data_all:\n",
    "        question_id = d['id']\n",
    "        if question_id not in questions_by_id:\n",
    "            raise ValueError\n",
    "        question_info = questions_by_id[question_id]\n",
    "        if is_good_qa(question_info, include_params, exclude_params):\n",
    "            selected_data.append(d)\n",
    "    random.shuffle(selected_data)\n",
    "    return selected_data"
   ],
   "metadata": {
    "collapsed": false,
    "ExecuteTime": {
     "end_time": "2024-05-16T23:22:34.342451Z",
     "start_time": "2024-05-16T23:22:34.335186Z"
    }
   },
   "id": "a12afe2f0c4f818d",
   "execution_count": 10
  },
  {
   "cell_type": "code",
   "outputs": [],
   "source": [
    "def output_keys(questions_dict):\n",
    "    key1 = questions_dict[OUT_OBJ_QUESTION_CATEGORY]\n",
    "    if q[OUT_OBJ_ANSWER_TYPE] == TRUE_FALSE_ANSWER_TYPE:\n",
    "        if q[OUT_OBJ_ANSWER] == 'True':\n",
    "            key2 = 'true'\n",
    "        else:\n",
    "            key2 = 'false'\n",
    "    else:\n",
    "        key2 = 'free'\n",
    "        \n",
    "    key3 = q[OUT_OBJ_FLUENT_TYPE]\n",
    "        \n",
    "    if q[OUT_OBJ_IS_POS_FLUENT_QUESTION] is True:\n",
    "        key4 = 'POS'\n",
    "    elif q[OUT_OBJ_IS_POS_FLUENT_QUESTION] is False:\n",
    "        key4 = 'NEG'\n",
    "    else:\n",
    "        key4 = 'None'\n",
    "        \n",
    "    if q[OUT_OBJ_DOMAIN_NAME] in TRANSPORTATION_DOMAINS:\n",
    "        key5 = TRANSPORTATION_DOMAIN_KEY\n",
    "    else:\n",
    "        key5 = NON_TRANSPORTATION_DOMAIN_KEY\n",
    "    return key1, key2, key3, key4, key5\n",
    "\n",
    "def is_restricted(key1, key2, key3, key4):\n",
    "    if key1 == 'fluent_tracking' and (key3 == 'None' or key4 == 'None'):\n",
    "        return True\n",
    "        \n",
    "    if key1 == 'object_tracking' and key2!='free' and (key3 == 'None' or key4 == 'None'):\n",
    "        return True\n",
    "    \n",
    "    if key1 == 'hallucination' and key4 == 'None':\n",
    "        return True\n",
    "    \n",
    "    return False"
   ],
   "metadata": {
    "collapsed": false,
    "ExecuteTime": {
     "end_time": "2024-05-16T23:22:34.349626Z",
     "start_time": "2024-05-16T23:22:34.343812Z"
    }
   },
   "id": "7d0b89eeacc3b059",
   "execution_count": 11
  },
  {
   "cell_type": "markdown",
   "source": [
    "\n",
    "# Filter By length"
   ],
   "metadata": {
    "collapsed": false
   },
   "id": "84fea22cac1dbc17"
  },
  {
   "cell_type": "code",
   "outputs": [
    {
     "name": "stderr",
     "output_type": "stream",
     "text": [
      "  4%|▎         | 258/7279 [00:01<00:42, 163.59it/s]Token indices sequence length is longer than the specified maximum sequence length for this model (577 > 512). Running this sequence through the model will result in indexing errors\n",
      "100%|██████████| 7279/7279 [00:38<00:00, 189.26it/s]\n",
      " 63%|██████▎   | 3760/5999 [01:23<00:33, 66.57it/s] "
     ]
    }
   ],
   "source": [
    "data_domain_all = {domain: filter_by_length(data_by_domain[domain]) for domain in DOMAIN_NAMES}"
   ],
   "metadata": {
    "collapsed": false,
    "ExecuteTime": {
     "start_time": "2024-05-16T23:22:34.350824Z"
    }
   },
   "id": "6380f06fce5e4b2b",
   "execution_count": null
  },
  {
   "cell_type": "code",
   "outputs": [],
   "source": [
    "with open(f'{few_shot}.data_domains.roberta.llama.length_fix.json', 'w') as f:\n",
    "    json.dump(data_domain_all, f)\n",
    "for k,v in data_domain_all.items():\n",
    "    print(k, len(v))"
   ],
   "metadata": {
    "collapsed": false
   },
   "id": "5a1d83706dc8b172",
   "execution_count": null
  },
  {
   "cell_type": "markdown",
   "source": [
    "# Sample"
   ],
   "metadata": {
    "collapsed": false
   },
   "id": "acc327acf1bcb90d"
  },
  {
   "cell_type": "code",
   "outputs": [
    {
     "name": "stdout",
     "output_type": "stream",
     "text": [
      "blocksworld 1216\n",
      "depots 947\n",
      "driverlog 963\n",
      "goldminer 0\n",
      "grippers 1371\n",
      "logistics 820\n",
      "miconic 401\n",
      "mystery 451\n",
      "npuzzle 1175\n",
      "satellite 1431\n",
      "spanner 1518\n",
      "visitall 0\n",
      "zenotravel 1383\n",
      "4411\n"
     ]
    }
   ],
   "source": [
    "selected_plan_length = 19\n",
    "\n",
    "# PREPARE DATA\n",
    "data_domain_sample = {domain: sample_data(data_domain_all[domain], questions_by_id, selected_plan_length) for domain in DOMAIN_NAMES}\n",
    "for k,v in data_domain_sample.items():\n",
    "    print(k, len(v))\n",
    "min_samples = min([len(v) for v in data_domain_sample.values() if len(v) > 100])\n",
    "data_all = []\n",
    "for k, v in data_domain_sample.items():\n",
    "    data_all.extend(v[:min_samples])\n",
    "random.shuffle(data_all)\n",
    "\n",
    "print(len(data_all))\n",
    "\n",
    "\n",
    "MAX_PER_CATEGORY = 20 #12 #110 # 100 #100\n",
    "\n",
    "selected_ids = []\n",
    "data_by_category = defaultdict(list)\n",
    "for d in data_all:\n",
    "    question_id = d['id']\n",
    "    q = questions_by_id[question_id]\n",
    "    \n",
    "    key1, key2, key3, key4, key5 = output_keys(q)\n",
    "    key_all = (key1, key2, key3, key4, key5)\n",
    "    if is_restricted(key1, key2, key3, key4):\n",
    "        continue\n",
    "    max_per_category = MAX_PER_CATEGORY\n",
    "        \n",
    "    if len(data_by_category[key_all]) < max_per_category:\n",
    "        data_by_category[key_all].append(question_id)\n",
    "selected_ids.extend(list(itertools.chain.from_iterable(data_by_category.values())))"
   ],
   "metadata": {
    "collapsed": false,
    "ExecuteTime": {
     "end_time": "2024-05-16T21:17:26.018933Z",
     "start_time": "2024-05-16T21:17:25.907139Z"
    }
   },
   "id": "2041189736532b76",
   "execution_count": 31
  },
  {
   "cell_type": "code",
   "outputs": [
    {
     "name": "stdout",
     "output_type": "stream",
     "text": [
      "defaultdict(<class 'int'>, {'zenotravel': 148, 'logistics': 105, 'miconic': 143, 'driverlog': 125, 'mystery': 71, 'spanner': 210, 'npuzzle': 182, 'blocksworld': 179, 'satellite': 185, 'grippers': 161, 'depots': 124}) \n",
      "\n",
      "defaultdict(<class 'int'>, {'static_fluents': 235, None: 448, 'derived_fluents': 315, 'persistent_fluents': 355, 'base_fluents': 280}) \n",
      "\n",
      "('action_executability', 'true', None, 'None', 'TRANSPORTATION') 20\n",
      "('action_executability', 'free', None, 'None', 'TRANSPORTATION') 20\n",
      "('action_executability', 'false', None, 'None', 'TRANSPORTATION') 20\n",
      "('action_executability', 'true', None, 'None', 'NON_TRANSPORTATION') 20\n",
      "('action_executability', 'free', None, 'None', 'NON_TRANSPORTATION') 20\n",
      "('action_executability', 'false', None, 'None', 'NON_TRANSPORTATION') 18\n",
      "('effects', 'false', 'static_fluents', 'None', 'TRANSPORTATION') 20\n",
      "('effects', 'false', 'persistent_fluents', 'None', 'TRANSPORTATION') 20\n",
      "('effects', 'true', 'base_fluents', 'None', 'NON_TRANSPORTATION') 20\n",
      "('effects', 'true', 'persistent_fluents', 'None', 'TRANSPORTATION') 20\n",
      "('effects', 'false', 'static_fluents', 'None', 'NON_TRANSPORTATION') 18\n",
      "('effects', 'true', 'static_fluents', 'None', 'NON_TRANSPORTATION') 20\n",
      "('effects', 'false', 'derived_fluents', 'None', 'TRANSPORTATION') 20\n",
      "('effects', 'true', 'derived_fluents', 'None', 'TRANSPORTATION') 20\n",
      "('effects', 'true', 'static_fluents', 'None', 'TRANSPORTATION') 20\n",
      "('effects', 'false', 'derived_fluents', 'None', 'NON_TRANSPORTATION') 20\n",
      "('effects', 'true', 'base_fluents', 'None', 'TRANSPORTATION') 20\n",
      "('effects', 'true', 'derived_fluents', 'None', 'NON_TRANSPORTATION') 20\n",
      "('effects', 'false', 'base_fluents', 'None', 'TRANSPORTATION') 19\n",
      "('effects', 'true', 'persistent_fluents', 'None', 'NON_TRANSPORTATION') 20\n",
      "('effects', 'false', 'base_fluents', 'None', 'NON_TRANSPORTATION') 16\n",
      "('effects', 'false', 'persistent_fluents', 'None', 'NON_TRANSPORTATION') 20\n",
      "('effects', 'free', None, 'POS', 'TRANSPORTATION') 4\n",
      "('fluent_tracking', 'free', 'derived_fluents', 'NEG', 'TRANSPORTATION') 13\n",
      "('fluent_tracking', 'free', 'derived_fluents', 'POS', 'NON_TRANSPORTATION') 8\n",
      "('fluent_tracking', 'free', 'persistent_fluents', 'NEG', 'TRANSPORTATION') 20\n",
      "('fluent_tracking', 'false', 'derived_fluents', 'POS', 'NON_TRANSPORTATION') 20\n",
      "('fluent_tracking', 'free', 'base_fluents', 'POS', 'NON_TRANSPORTATION') 9\n",
      "('fluent_tracking', 'true', 'base_fluents', 'NEG', 'NON_TRANSPORTATION') 20\n",
      "('fluent_tracking', 'free', 'static_fluents', 'POS', 'TRANSPORTATION') 11\n",
      "('fluent_tracking', 'free', 'base_fluents', 'NEG', 'NON_TRANSPORTATION') 10\n",
      "('fluent_tracking', 'free', 'static_fluents', 'POS', 'NON_TRANSPORTATION') 9\n",
      "('fluent_tracking', 'false', 'persistent_fluents', 'POS', 'TRANSPORTATION') 19\n",
      "('fluent_tracking', 'true', 'derived_fluents', 'POS', 'NON_TRANSPORTATION') 20\n",
      "('fluent_tracking', 'true', 'static_fluents', 'POS', 'NON_TRANSPORTATION') 8\n",
      "('fluent_tracking', 'false', 'persistent_fluents', 'POS', 'NON_TRANSPORTATION') 16\n",
      "('fluent_tracking', 'true', 'derived_fluents', 'POS', 'TRANSPORTATION') 18\n",
      "('fluent_tracking', 'free', 'persistent_fluents', 'NEG', 'NON_TRANSPORTATION') 10\n",
      "('fluent_tracking', 'true', 'static_fluents', 'POS', 'TRANSPORTATION') 14\n",
      "('fluent_tracking', 'free', 'base_fluents', 'NEG', 'TRANSPORTATION') 14\n",
      "('fluent_tracking', 'true', 'base_fluents', 'POS', 'TRANSPORTATION') 15\n",
      "('fluent_tracking', 'false', 'static_fluents', 'POS', 'TRANSPORTATION') 12\n",
      "('fluent_tracking', 'free', 'persistent_fluents', 'POS', 'TRANSPORTATION') 20\n",
      "('fluent_tracking', 'true', 'derived_fluents', 'NEG', 'TRANSPORTATION') 20\n",
      "('fluent_tracking', 'true', 'static_fluents', 'NEG', 'TRANSPORTATION') 15\n",
      "('fluent_tracking', 'free', 'base_fluents', 'POS', 'TRANSPORTATION') 10\n",
      "('fluent_tracking', 'true', 'persistent_fluents', 'NEG', 'TRANSPORTATION') 20\n",
      "('fluent_tracking', 'free', 'derived_fluents', 'NEG', 'NON_TRANSPORTATION') 12\n",
      "('fluent_tracking', 'false', 'base_fluents', 'NEG', 'NON_TRANSPORTATION') 6\n",
      "('fluent_tracking', 'free', 'static_fluents', 'NEG', 'NON_TRANSPORTATION') 4\n",
      "('fluent_tracking', 'false', 'base_fluents', 'POS', 'TRANSPORTATION') 16\n",
      "('fluent_tracking', 'false', 'static_fluents', 'POS', 'NON_TRANSPORTATION') 6\n",
      "('fluent_tracking', 'false', 'derived_fluents', 'POS', 'TRANSPORTATION') 20\n",
      "('fluent_tracking', 'false', 'base_fluents', 'POS', 'NON_TRANSPORTATION') 15\n",
      "('fluent_tracking', 'true', 'persistent_fluents', 'NEG', 'NON_TRANSPORTATION') 9\n",
      "('fluent_tracking', 'true', 'persistent_fluents', 'POS', 'NON_TRANSPORTATION') 12\n",
      "('fluent_tracking', 'false', 'static_fluents', 'NEG', 'NON_TRANSPORTATION') 1\n",
      "('fluent_tracking', 'true', 'persistent_fluents', 'POS', 'TRANSPORTATION') 20\n",
      "('fluent_tracking', 'true', 'base_fluents', 'POS', 'NON_TRANSPORTATION') 13\n",
      "('fluent_tracking', 'false', 'derived_fluents', 'NEG', 'NON_TRANSPORTATION') 11\n",
      "('fluent_tracking', 'false', 'base_fluents', 'NEG', 'TRANSPORTATION') 4\n",
      "('fluent_tracking', 'free', 'derived_fluents', 'POS', 'TRANSPORTATION') 18\n",
      "('fluent_tracking', 'true', 'base_fluents', 'NEG', 'TRANSPORTATION') 15\n",
      "('fluent_tracking', 'false', 'persistent_fluents', 'NEG', 'NON_TRANSPORTATION') 3\n",
      "('fluent_tracking', 'true', 'derived_fluents', 'NEG', 'NON_TRANSPORTATION') 20\n",
      "('fluent_tracking', 'free', 'persistent_fluents', 'POS', 'NON_TRANSPORTATION') 13\n",
      "('fluent_tracking', 'true', 'static_fluents', 'NEG', 'NON_TRANSPORTATION') 10\n",
      "('fluent_tracking', 'free', 'static_fluents', 'NEG', 'TRANSPORTATION') 6\n",
      "('fluent_tracking', 'false', 'persistent_fluents', 'NEG', 'TRANSPORTATION') 7\n",
      "('fluent_tracking', 'false', 'derived_fluents', 'NEG', 'TRANSPORTATION') 11\n",
      "('fluent_tracking', 'false', 'static_fluents', 'NEG', 'TRANSPORTATION') 3\n",
      "('hallucination', 'true', None, 'POS', 'NON_TRANSPORTATION') 20\n",
      "('hallucination', 'free', None, 'POS', 'TRANSPORTATION') 20\n",
      "('hallucination', 'false', None, 'POS', 'TRANSPORTATION') 20\n",
      "('hallucination', 'free', None, 'POS', 'NON_TRANSPORTATION') 20\n",
      "('hallucination', 'true', None, 'POS', 'TRANSPORTATION') 20\n",
      "('hallucination', 'false', None, 'POS', 'NON_TRANSPORTATION') 20\n",
      "('hallucination', 'free', None, 'NEG', 'TRANSPORTATION') 20\n",
      "('hallucination', 'free', None, 'NEG', 'NON_TRANSPORTATION') 20\n",
      "('numerical_reasoning', 'false', None, 'None', 'NON_TRANSPORTATION') 20\n",
      "('numerical_reasoning', 'false', None, 'None', 'TRANSPORTATION') 20\n",
      "('numerical_reasoning', 'free', None, 'None', 'TRANSPORTATION') 20\n",
      "('numerical_reasoning', 'true', None, 'None', 'TRANSPORTATION') 20\n",
      "('numerical_reasoning', 'true', None, 'None', 'NON_TRANSPORTATION') 20\n",
      "('numerical_reasoning', 'free', None, 'None', 'NON_TRANSPORTATION') 20\n",
      "('object_tracking', 'true', 'derived_fluents', 'POS', 'NON_TRANSPORTATION') 12\n",
      "('object_tracking', 'false', 'persistent_fluents', 'POS', 'TRANSPORTATION') 10\n",
      "('object_tracking', 'true', 'persistent_fluents', 'NEG', 'TRANSPORTATION') 15\n",
      "('object_tracking', 'true', 'base_fluents', 'POS', 'NON_TRANSPORTATION') 9\n",
      "('object_tracking', 'false', 'persistent_fluents', 'NEG', 'TRANSPORTATION') 14\n",
      "('object_tracking', 'free', None, 'None', 'TRANSPORTATION') 20\n",
      "('object_tracking', 'true', 'persistent_fluents', 'POS', 'NON_TRANSPORTATION') 9\n",
      "('object_tracking', 'true', 'persistent_fluents', 'NEG', 'NON_TRANSPORTATION') 10\n",
      "('object_tracking', 'false', 'base_fluents', 'POS', 'NON_TRANSPORTATION') 8\n",
      "('object_tracking', 'false', 'static_fluents', 'POS', 'NON_TRANSPORTATION') 9\n",
      "('object_tracking', 'false', 'persistent_fluents', 'POS', 'NON_TRANSPORTATION') 14\n",
      "('object_tracking', 'true', 'static_fluents', 'NEG', 'TRANSPORTATION') 6\n",
      "('object_tracking', 'false', 'static_fluents', 'POS', 'TRANSPORTATION') 5\n",
      "('object_tracking', 'false', 'persistent_fluents', 'NEG', 'NON_TRANSPORTATION') 14\n",
      "('object_tracking', 'true', 'static_fluents', 'POS', 'NON_TRANSPORTATION') 8\n",
      "('object_tracking', 'true', 'base_fluents', 'NEG', 'TRANSPORTATION') 9\n",
      "('object_tracking', 'true', 'static_fluents', 'POS', 'TRANSPORTATION') 12\n",
      "('object_tracking', 'true', 'persistent_fluents', 'POS', 'TRANSPORTATION') 20\n",
      "('object_tracking', 'free', None, 'None', 'NON_TRANSPORTATION') 19\n",
      "('object_tracking', 'false', 'static_fluents', 'NEG', 'TRANSPORTATION') 10\n",
      "('object_tracking', 'true', 'derived_fluents', 'NEG', 'TRANSPORTATION') 10\n",
      "('object_tracking', 'false', 'base_fluents', 'POS', 'TRANSPORTATION') 4\n",
      "('object_tracking', 'false', 'derived_fluents', 'POS', 'TRANSPORTATION') 5\n",
      "('object_tracking', 'false', 'base_fluents', 'NEG', 'TRANSPORTATION') 5\n",
      "('object_tracking', 'true', 'base_fluents', 'NEG', 'NON_TRANSPORTATION') 8\n",
      "('object_tracking', 'true', 'static_fluents', 'NEG', 'NON_TRANSPORTATION') 4\n",
      "('object_tracking', 'true', 'base_fluents', 'POS', 'TRANSPORTATION') 11\n",
      "('object_tracking', 'false', 'base_fluents', 'NEG', 'NON_TRANSPORTATION') 4\n",
      "('object_tracking', 'false', 'static_fluents', 'NEG', 'NON_TRANSPORTATION') 4\n",
      "('object_tracking', 'true', 'derived_fluents', 'POS', 'TRANSPORTATION') 10\n",
      "('object_tracking', 'true', 'derived_fluents', 'NEG', 'NON_TRANSPORTATION') 7\n",
      "('state_tracking', 'false', None, 'None', 'TRANSPORTATION') 3\n",
      "('state_tracking', 'free', None, 'POS', 'TRANSPORTATION') 4\n"
     ]
    },
    {
     "data": {
      "text/plain": "defaultdict(<function __main__.<lambda>()>,\n            {('action_executability', None): [78, 40],\n             ('effects', 'static_fluents'): [78, 0],\n             ('effects', 'persistent_fluents'): [80, 0],\n             ('effects', 'base_fluents'): [75, 0],\n             ('effects', 'derived_fluents'): [80, 0],\n             ('effects', None): [0, 4],\n             ('fluent_tracking', 'derived_fluents'): [140, 51],\n             ('fluent_tracking', 'persistent_fluents'): [106, 63],\n             ('fluent_tracking', 'base_fluents'): [104, 43],\n             ('fluent_tracking', 'static_fluents'): [69, 30],\n             ('hallucination', None): [80, 80],\n             ('numerical_reasoning', None): [80, 40],\n             ('object_tracking', 'derived_fluents'): [44, 0],\n             ('object_tracking', 'persistent_fluents'): [106, 0],\n             ('object_tracking', 'base_fluents'): [58, 0],\n             ('object_tracking', None): [0, 39],\n             ('object_tracking', 'static_fluents'): [58, 0],\n             ('state_tracking', None): [3, 4]})"
     },
     "execution_count": 32,
     "metadata": {},
     "output_type": "execute_result"
    }
   ],
   "source": [
    "stats = defaultdict(int)\n",
    "for id in selected_ids:\n",
    "    q = questions_by_id[id]\n",
    "    stats[output_keys(q)]+=1\n",
    "\n",
    "by_domain = defaultdict(int)\n",
    "for id in selected_ids:\n",
    "    q = questions_by_id[id]\n",
    "    by_domain[q[OUT_OBJ_DOMAIN_NAME]]+=1\n",
    "print(by_domain, '\\n')\n",
    "\n",
    "by_fluents = defaultdict(int)\n",
    "for id in selected_ids:\n",
    "    q = questions_by_id[id]\n",
    "    by_fluents[q[OUT_OBJ_FLUENT_TYPE]]+=1\n",
    "print(by_fluents,'\\n')\n",
    "\n",
    "\n",
    "count_by_cat = defaultdict(lambda: [0,0])\n",
    "for k, v in sorted(stats.items(), key=lambda x: x[0][0]):\n",
    "    if k[1] == 'free':\n",
    "        count_by_cat[(k[0],k[2])][1] += v\n",
    "    else:\n",
    "        count_by_cat[(k[0],k[2])][0] += v\n",
    "    print(k, v)\n",
    "count_by_cat"
   ],
   "metadata": {
    "collapsed": false,
    "ExecuteTime": {
     "end_time": "2024-05-16T21:17:27.141396Z",
     "start_time": "2024-05-16T21:17:27.117443Z"
    }
   },
   "id": "b3380ca162f0ea23",
   "execution_count": 32
  },
  {
   "cell_type": "code",
   "outputs": [
    {
     "name": "stdout",
     "output_type": "stream",
     "text": [
      "1633 1239 394\n",
      "0.7587262706674831 0.24127372933251684\n"
     ]
    }
   ],
   "source": [
    "total, tf, free = sum(v1+v2 for v1,v2 in count_by_cat.values()), sum(v1 for v1, v2 in count_by_cat.values()), sum(v2 for v1, v2 in count_by_cat.values())\n",
    "print(total, tf, free)\n",
    "print(tf/total, free/total)"
   ],
   "metadata": {
    "collapsed": false,
    "ExecuteTime": {
     "end_time": "2024-05-16T21:17:28.178104Z",
     "start_time": "2024-05-16T21:17:28.173813Z"
    }
   },
   "id": "ac2b295252962de3",
   "execution_count": 33
  },
  {
   "cell_type": "code",
   "outputs": [],
   "source": [
    "save_jsonl(selected_ids, f'{subs}.small_dataset_ids.{MAX_PER_CATEGORY}.pl-{selected_plan_length}.jsonl')"
   ],
   "metadata": {
    "collapsed": false,
    "ExecuteTime": {
     "end_time": "2024-05-16T21:17:29.775592Z",
     "start_time": "2024-05-16T21:17:29.769855Z"
    }
   },
   "id": "81c3279bf780d15",
   "execution_count": 34
  },
  {
   "cell_type": "code",
   "outputs": [],
   "source": [
    "# total = 0\n",
    "# count_by_cat = defaultdict(int)\n",
    "# for k, v in sorted(stats.items(), key=lambda x: x[0][0]):\n",
    "#     count_by_cat[k[0]] += 1\n",
    "# count_by_cat"
   ],
   "metadata": {
    "collapsed": false,
    "ExecuteTime": {
     "end_time": "2024-05-14T09:46:34.680347Z",
     "start_time": "2024-05-14T09:46:34.677168Z"
    }
   },
   "id": "c4bbfba06005c012",
   "execution_count": 604
  },
  {
   "cell_type": "code",
   "outputs": [],
   "source": [
    "# # things to consider:\n",
    "# - balanced T/F sampling\n",
    "# - balanced Q categories\n",
    "# - take q + a with lenth + response <= 4000 tokens\n",
    "# balanced fluent types\n",
    "# balanced -+ fluents\n",
    "\n",
    "# state tracking, no true false questions\n",
    "# reduce object tracking qs\n",
    "# boost action executability"
   ],
   "metadata": {
    "collapsed": false
   },
   "id": "7d9e40f3e5023e9a"
  },
  {
   "cell_type": "markdown",
   "source": [
    "# Train Data"
   ],
   "metadata": {
    "collapsed": false
   },
   "id": "5e4266373f1be3f5"
  },
  {
   "cell_type": "code",
   "outputs": [],
   "source": [
    "test_ids = open_jsonl(os.path.join(DATA_PATH, 'small_dataset_ids.20.jsonl'))"
   ],
   "metadata": {
    "collapsed": false,
    "ExecuteTime": {
     "end_time": "2024-05-16T00:32:52.362806Z",
     "start_time": "2024-05-16T00:32:52.339783Z"
    }
   },
   "id": "84f7679210077375",
   "execution_count": 48
  },
  {
   "cell_type": "code",
   "outputs": [
    {
     "name": "stderr",
     "output_type": "stream",
     "text": [
      "100%|██████████| 191102/191102 [00:19<00:00, 9912.70it/s] \n"
     ]
    }
   ],
   "source": [
    "train_ids = []\n",
    "for q_id, _question in tqdm(questions_by_id.items()):\n",
    "    if q_id not in test_ids:\n",
    "        train_ids.append(q_id)"
   ],
   "metadata": {
    "collapsed": false,
    "ExecuteTime": {
     "end_time": "2024-05-16T00:34:38.611752Z",
     "start_time": "2024-05-16T00:34:19.327771Z"
    }
   },
   "id": "42dc2afd10465ba2",
   "execution_count": 52
  },
  {
   "cell_type": "code",
   "outputs": [],
   "source": [
    "save_jsonl(train_ids, os.path.join(DATA_PATH, 'small_dataset_ids.20.train.jsonl'))"
   ],
   "metadata": {
    "collapsed": false,
    "ExecuteTime": {
     "end_time": "2024-05-16T00:35:16.166431Z",
     "start_time": "2024-05-16T00:35:15.982594Z"
    }
   },
   "id": "1d971dccb475fbce",
   "execution_count": 55
  }
 ],
 "metadata": {
  "kernelspec": {
   "display_name": "Python 3",
   "language": "python",
   "name": "python3"
  },
  "language_info": {
   "codemirror_mode": {
    "name": "ipython",
    "version": 2
   },
   "file_extension": ".py",
   "mimetype": "text/x-python",
   "name": "python",
   "nbconvert_exporter": "python",
   "pygments_lexer": "ipython2",
   "version": "2.7.6"
  }
 },
 "nbformat": 4,
 "nbformat_minor": 5
}
