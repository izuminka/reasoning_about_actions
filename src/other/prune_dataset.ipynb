{
 "cells": [
  {
   "cell_type": "code",
   "outputs": [],
   "source": [
    "import sys\n",
    "sys.path.insert(0, '../../')\n",
    "from src.questions_construction.main import PLAN_LENGTHS, QUESTION_CATEGORIES\n",
    "from src.questions_construction.domains import DOMAIN_NAMES\n",
    "from src.analysis.model_performances import gather_questions, PROMPT_TYPES\n",
    "from src.common import *\n",
    "import random\n",
    "from collections import defaultdict\n",
    "from copy import deepcopy"
   ],
   "metadata": {
    "collapsed": false,
    "ExecuteTime": {
     "end_time": "2024-05-16T06:25:10.383312Z",
     "start_time": "2024-05-16T06:25:10.382026Z"
    }
   },
   "id": "c8d9a5ad8ad5faf0",
   "execution_count": null
  },
  {
   "cell_type": "code",
   "outputs": [
    {
     "name": "stdout",
     "output_type": "stream",
     "text": [
      "with_ramifications few_shot_1 blocksworld\n",
      "with_ramifications few_shot_1 depots\n",
      "with_ramifications few_shot_1 driverlog\n",
      "with_ramifications few_shot_1 goldminer\n",
      "with_ramifications few_shot_1 grippers\n",
      "with_ramifications few_shot_1 logistics\n",
      "with_ramifications few_shot_1 miconic\n",
      "with_ramifications few_shot_1 mystery\n",
      "with_ramifications few_shot_1 npuzzle\n",
      "with_ramifications few_shot_1 satellite\n",
      "with_ramifications few_shot_1 spanner\n",
      "with_ramifications few_shot_1 visitall\n",
      "with_ramifications few_shot_1 zenotravel\n",
      "with_ramifications few_shot_3 blocksworld\n",
      "with_ramifications few_shot_3 depots\n",
      "with_ramifications few_shot_3 driverlog\n",
      "with_ramifications few_shot_3 goldminer\n",
      "with_ramifications few_shot_3 grippers\n",
      "with_ramifications few_shot_3 logistics\n",
      "with_ramifications few_shot_3 miconic\n",
      "with_ramifications few_shot_3 mystery\n",
      "with_ramifications few_shot_3 npuzzle\n",
      "with_ramifications few_shot_3 satellite\n",
      "with_ramifications few_shot_3 spanner\n",
      "with_ramifications few_shot_3 visitall\n",
      "with_ramifications few_shot_3 zenotravel\n",
      "with_ramifications few_shot_5 blocksworld\n",
      "with_ramifications few_shot_5 depots\n",
      "with_ramifications few_shot_5 driverlog\n",
      "with_ramifications few_shot_5 goldminer\n",
      "with_ramifications few_shot_5 grippers\n",
      "with_ramifications few_shot_5 logistics\n",
      "with_ramifications few_shot_5 miconic\n",
      "with_ramifications few_shot_5 mystery\n",
      "with_ramifications few_shot_5 npuzzle\n",
      "with_ramifications few_shot_5 satellite\n",
      "with_ramifications few_shot_5 spanner\n",
      "with_ramifications few_shot_5 visitall\n",
      "with_ramifications few_shot_5 zenotravel\n",
      "without_ramifications few_shot_1 blocksworld\n",
      "without_ramifications few_shot_1 depots\n",
      "without_ramifications few_shot_1 driverlog\n",
      "without_ramifications few_shot_1 goldminer\n",
      "without_ramifications few_shot_1 grippers\n",
      "without_ramifications few_shot_1 logistics\n",
      "without_ramifications few_shot_1 miconic\n",
      "without_ramifications few_shot_1 mystery\n",
      "without_ramifications few_shot_1 npuzzle\n",
      "without_ramifications few_shot_1 satellite\n",
      "without_ramifications few_shot_1 spanner\n",
      "without_ramifications few_shot_1 visitall\n",
      "without_ramifications few_shot_1 zenotravel\n",
      "without_ramifications few_shot_3 blocksworld\n",
      "without_ramifications few_shot_3 depots\n",
      "without_ramifications few_shot_3 driverlog\n",
      "without_ramifications few_shot_3 goldminer\n",
      "without_ramifications few_shot_3 grippers\n",
      "without_ramifications few_shot_3 logistics\n",
      "without_ramifications few_shot_3 miconic\n",
      "without_ramifications few_shot_3 mystery\n",
      "without_ramifications few_shot_3 npuzzle\n",
      "without_ramifications few_shot_3 satellite\n",
      "without_ramifications few_shot_3 spanner\n",
      "without_ramifications few_shot_3 visitall\n",
      "without_ramifications few_shot_3 zenotravel\n",
      "without_ramifications few_shot_5 blocksworld\n",
      "without_ramifications few_shot_5 depots\n",
      "without_ramifications few_shot_5 driverlog\n",
      "without_ramifications few_shot_5 goldminer\n",
      "without_ramifications few_shot_5 grippers\n",
      "without_ramifications few_shot_5 logistics\n",
      "without_ramifications few_shot_5 miconic\n",
      "without_ramifications few_shot_5 mystery\n",
      "without_ramifications few_shot_5 npuzzle\n",
      "without_ramifications few_shot_5 satellite\n",
      "without_ramifications few_shot_5 spanner\n",
      "without_ramifications few_shot_5 visitall\n",
      "without_ramifications few_shot_5 zenotravel\n"
     ]
    }
   ],
   "source": [
    "data_name = 'data_for_train'\n",
    "ids = open_jsonl(f'{DATA_PATH}/dataset_ids.test.jsonl')\n",
    "\n",
    "ids_by_prefix = {}\n",
    "for sub in [WITHOUT_RANDOM_SUB]:\n",
    "    for ram in RAMIFICATION_TYPES:\n",
    "        for few_shot in PROMPT_TYPES:\n",
    "            for domain in DOMAIN_NAMES:\n",
    "                for i in range(1,11):\n",
    "                    path = os.path.join(DATA_PATH, data_name, sub, ram, few_shot, domain, f'Instance_{i}.jsonl')\n",
    "                    if not os.path.exists(path):\n",
    "                        print(path)\n",
    "                    else:\n",
    "                        new_data = []\n",
    "                        for d in open_jsonl(path):\n",
    "                            if d['id'] not in ids:\n",
    "                                new_data.append(d)\n",
    "                        if len(new_data) > 0:\n",
    "                            save_jsonl(new_data, path)\n",
    "                        else:\n",
    "                            print('empty', path)\n",
    "                            os.remove(path) \n",
    "                print(ram, few_shot, domain)"
   ],
   "metadata": {
    "collapsed": false,
    "ExecuteTime": {
     "end_time": "2024-05-16T06:29:10.172971Z",
     "start_time": "2024-05-16T06:26:41.271983Z"
    }
   },
   "id": "1c6e141942396c84",
   "execution_count": 7
  },
  {
   "cell_type": "code",
   "outputs": [],
   "source": [],
   "metadata": {
    "collapsed": false
   },
   "id": "60312e85cb61db0f"
  }
 ],
 "metadata": {
  "kernelspec": {
   "display_name": "Python 3",
   "language": "python",
   "name": "python3"
  },
  "language_info": {
   "codemirror_mode": {
    "name": "ipython",
    "version": 2
   },
   "file_extension": ".py",
   "mimetype": "text/x-python",
   "name": "python",
   "nbconvert_exporter": "python",
   "pygments_lexer": "ipython2",
   "version": "2.7.6"
  }
 },
 "nbformat": 4,
 "nbformat_minor": 5
}
