{
 "cells": [
  {
   "cell_type": "code",
   "outputs": [],
   "source": [
    "import sys\n",
    "sys.path.insert(0, '../../')\n",
    "from src.questions_construction.main import PLAN_LENGTHS, QUESTION_CATEGORIES\n",
    "from src.questions_construction.domains import DOMAIN_NAMES\n",
    "from src.analysis.model_performances import gather_questions, PROMPT_TYPES\n",
    "from src.common import *\n",
    "import random\n",
    "from collections import defaultdict\n",
    "from copy import deepcopy"
   ],
   "metadata": {
    "collapsed": false,
    "ExecuteTime": {
     "end_time": "2024-05-16T06:25:10.383312Z",
     "start_time": "2024-05-16T06:25:10.382026Z"
    }
   },
   "id": "c8d9a5ad8ad5faf0",
   "execution_count": null
  },
  {
   "cell_type": "code",
   "outputs": [
    {
     "name": "stdout",
     "output_type": "stream",
     "text": [
      "with_ramifications few_shot_1 blocksworld\n",
      "with_ramifications few_shot_1 depots\n",
      "with_ramifications few_shot_1 driverlog\n",
      "with_ramifications few_shot_1 goldminer\n",
      "with_ramifications few_shot_1 grippers\n",
      "with_ramifications few_shot_1 logistics\n",
      "with_ramifications few_shot_1 miconic\n",
      "with_ramifications few_shot_1 mystery\n",
      "with_ramifications few_shot_1 npuzzle\n",
      "with_ramifications few_shot_1 satellite\n",
      "with_ramifications few_shot_1 spanner\n",
      "with_ramifications few_shot_1 visitall\n",
      "with_ramifications few_shot_1 zenotravel\n",
      "with_ramifications few_shot_3 blocksworld\n",
      "with_ramifications few_shot_3 depots\n",
      "with_ramifications few_shot_3 driverlog\n",
      "with_ramifications few_shot_3 goldminer\n",
      "with_ramifications few_shot_3 grippers\n",
      "with_ramifications few_shot_3 logistics\n",
      "with_ramifications few_shot_3 miconic\n",
      "with_ramifications few_shot_3 mystery\n",
      "with_ramifications few_shot_3 npuzzle\n",
      "line contains invalid json: Unterminated string starting at: line 1 column 12 (char 11) (line 513)\n",
      "/Users/paveldolin/dev/research/current/reasoning_about_actions/pipeline/data/data_for_test2/with_random_sub/with_ramifications/few_shot_3/satellite/Instance_6.jsonl\n",
      "with_ramifications few_shot_3 satellite\n",
      "with_ramifications few_shot_3 spanner\n",
      "with_ramifications few_shot_3 visitall\n",
      "with_ramifications few_shot_3 zenotravel\n",
      "with_ramifications few_shot_5 blocksworld\n",
      "with_ramifications few_shot_5 depots\n",
      "with_ramifications few_shot_5 driverlog\n",
      "with_ramifications few_shot_5 goldminer\n",
      "with_ramifications few_shot_5 grippers\n",
      "with_ramifications few_shot_5 logistics\n",
      "with_ramifications few_shot_5 miconic\n",
      "with_ramifications few_shot_5 mystery\n",
      "with_ramifications few_shot_5 npuzzle\n",
      "with_ramifications few_shot_5 satellite\n",
      "with_ramifications few_shot_5 spanner\n",
      "with_ramifications few_shot_5 visitall\n",
      "with_ramifications few_shot_5 zenotravel\n",
      "without_ramifications few_shot_1 blocksworld\n",
      "without_ramifications few_shot_1 depots\n",
      "without_ramifications few_shot_1 driverlog\n",
      "without_ramifications few_shot_1 goldminer\n",
      "without_ramifications few_shot_1 grippers\n",
      "without_ramifications few_shot_1 logistics\n",
      "without_ramifications few_shot_1 miconic\n",
      "without_ramifications few_shot_1 mystery\n",
      "without_ramifications few_shot_1 npuzzle\n",
      "without_ramifications few_shot_1 satellite\n",
      "without_ramifications few_shot_1 spanner\n",
      "without_ramifications few_shot_1 visitall\n",
      "without_ramifications few_shot_1 zenotravel\n",
      "without_ramifications few_shot_3 blocksworld\n",
      "without_ramifications few_shot_3 depots\n",
      "without_ramifications few_shot_3 driverlog\n",
      "without_ramifications few_shot_3 goldminer\n",
      "without_ramifications few_shot_3 grippers\n",
      "without_ramifications few_shot_3 logistics\n",
      "without_ramifications few_shot_3 miconic\n",
      "without_ramifications few_shot_3 mystery\n",
      "without_ramifications few_shot_3 npuzzle\n",
      "without_ramifications few_shot_3 satellite\n",
      "without_ramifications few_shot_3 spanner\n",
      "without_ramifications few_shot_3 visitall\n",
      "without_ramifications few_shot_3 zenotravel\n",
      "without_ramifications few_shot_5 blocksworld\n",
      "without_ramifications few_shot_5 depots\n",
      "without_ramifications few_shot_5 driverlog\n",
      "without_ramifications few_shot_5 goldminer\n",
      "without_ramifications few_shot_5 grippers\n",
      "without_ramifications few_shot_5 logistics\n",
      "without_ramifications few_shot_5 miconic\n",
      "without_ramifications few_shot_5 mystery\n",
      "without_ramifications few_shot_5 npuzzle\n",
      "without_ramifications few_shot_5 satellite\n",
      "without_ramifications few_shot_5 spanner\n",
      "without_ramifications few_shot_5 visitall\n",
      "without_ramifications few_shot_5 zenotravel\n"
     ]
    }
   ],
   "source": [
    "data_name = 'data_for_test2'\n",
    "# data_name = 'data_for_test'\n",
    "ids = open_jsonl(f'{DATA_PATH}/with_random_sub.dataset_ids.test.jsonl')\n",
    "# ids = open_jsonl(f'{DATA_PATH}/dataset_ids.test.jsonl')\n",
    "# subs = [WITHOUT_RANDOM_SUB]\n",
    "subs = [WITH_RANDOM_SUB]\n",
    "\n",
    "ids_by_prefix = {}\n",
    "for sub in subs:\n",
    "    for ram in RAMIFICATION_TYPES:\n",
    "        for few_shot in PROMPT_TYPES:\n",
    "            for domain in DOMAIN_NAMES:\n",
    "                for i in range(1,11):\n",
    "                    try:\n",
    "                        path = os.path.join(DATA_PATH, data_name, sub, ram, few_shot, domain, f'Instance_{i}.jsonl')\n",
    "                        if not os.path.exists(path):\n",
    "                            continue\n",
    "                            # print(path)\n",
    "                        else:\n",
    "                            new_data = []\n",
    "                            for d in open_jsonl(path):\n",
    "                                if d['id'] in ids:\n",
    "                                    new_data.append(d)\n",
    "                            if len(new_data) > 0:\n",
    "                                save_jsonl(new_data, path)\n",
    "                            else:\n",
    "                                # print('empty', path)\n",
    "                                os.remove(path) \n",
    "                    except Exception as e:\n",
    "                        print(e)\n",
    "                        print(path)\n",
    "                print(ram, few_shot, domain)"
   ],
   "metadata": {
    "collapsed": false,
    "ExecuteTime": {
     "end_time": "2024-05-17T19:12:34.040873Z",
     "start_time": "2024-05-17T19:10:24.024514Z"
    }
   },
   "id": "1c6e141942396c84",
   "execution_count": 21
  },
  {
   "cell_type": "code",
   "outputs": [
    {
     "ename": "InvalidLineError",
     "evalue": "line contains invalid json: Unterminated string starting at: line 1 column 12 (char 11) (line 513)",
     "output_type": "error",
     "traceback": [
      "\u001B[0;31m---------------------------------------------------------------------------\u001B[0m",
      "\u001B[0;31mJSONDecodeError\u001B[0m                           Traceback (most recent call last)",
      "File \u001B[0;32m/opt/anaconda3/envs/llm_asp/lib/python3.9/site-packages/jsonlines/jsonlines.py:162\u001B[0m, in \u001B[0;36mReader.read\u001B[0;34m(self, type, allow_none, skip_empty)\u001B[0m\n\u001B[1;32m    161\u001B[0m \u001B[38;5;28;01mtry\u001B[39;00m:\n\u001B[0;32m--> 162\u001B[0m     value \u001B[38;5;241m=\u001B[39m \u001B[38;5;28;43mself\u001B[39;49m\u001B[38;5;241;43m.\u001B[39;49m\u001B[43m_loads\u001B[49m\u001B[43m(\u001B[49m\u001B[43mline\u001B[49m\u001B[43m)\u001B[49m\n\u001B[1;32m    163\u001B[0m \u001B[38;5;28;01mexcept\u001B[39;00m \u001B[38;5;167;01mValueError\u001B[39;00m \u001B[38;5;28;01mas\u001B[39;00m orig_exc:\n",
      "File \u001B[0;32m/opt/anaconda3/envs/llm_asp/lib/python3.9/json/__init__.py:346\u001B[0m, in \u001B[0;36mloads\u001B[0;34m(s, cls, object_hook, parse_float, parse_int, parse_constant, object_pairs_hook, **kw)\u001B[0m\n\u001B[1;32m    343\u001B[0m \u001B[38;5;28;01mif\u001B[39;00m (\u001B[38;5;28mcls\u001B[39m \u001B[38;5;129;01mis\u001B[39;00m \u001B[38;5;28;01mNone\u001B[39;00m \u001B[38;5;129;01mand\u001B[39;00m object_hook \u001B[38;5;129;01mis\u001B[39;00m \u001B[38;5;28;01mNone\u001B[39;00m \u001B[38;5;129;01mand\u001B[39;00m\n\u001B[1;32m    344\u001B[0m         parse_int \u001B[38;5;129;01mis\u001B[39;00m \u001B[38;5;28;01mNone\u001B[39;00m \u001B[38;5;129;01mand\u001B[39;00m parse_float \u001B[38;5;129;01mis\u001B[39;00m \u001B[38;5;28;01mNone\u001B[39;00m \u001B[38;5;129;01mand\u001B[39;00m\n\u001B[1;32m    345\u001B[0m         parse_constant \u001B[38;5;129;01mis\u001B[39;00m \u001B[38;5;28;01mNone\u001B[39;00m \u001B[38;5;129;01mand\u001B[39;00m object_pairs_hook \u001B[38;5;129;01mis\u001B[39;00m \u001B[38;5;28;01mNone\u001B[39;00m \u001B[38;5;129;01mand\u001B[39;00m \u001B[38;5;129;01mnot\u001B[39;00m kw):\n\u001B[0;32m--> 346\u001B[0m     \u001B[38;5;28;01mreturn\u001B[39;00m \u001B[43m_default_decoder\u001B[49m\u001B[38;5;241;43m.\u001B[39;49m\u001B[43mdecode\u001B[49m\u001B[43m(\u001B[49m\u001B[43ms\u001B[49m\u001B[43m)\u001B[49m\n\u001B[1;32m    347\u001B[0m \u001B[38;5;28;01mif\u001B[39;00m \u001B[38;5;28mcls\u001B[39m \u001B[38;5;129;01mis\u001B[39;00m \u001B[38;5;28;01mNone\u001B[39;00m:\n",
      "File \u001B[0;32m/opt/anaconda3/envs/llm_asp/lib/python3.9/json/decoder.py:337\u001B[0m, in \u001B[0;36mJSONDecoder.decode\u001B[0;34m(self, s, _w)\u001B[0m\n\u001B[1;32m    333\u001B[0m \u001B[38;5;124;03m\"\"\"Return the Python representation of ``s`` (a ``str`` instance\u001B[39;00m\n\u001B[1;32m    334\u001B[0m \u001B[38;5;124;03mcontaining a JSON document).\u001B[39;00m\n\u001B[1;32m    335\u001B[0m \n\u001B[1;32m    336\u001B[0m \u001B[38;5;124;03m\"\"\"\u001B[39;00m\n\u001B[0;32m--> 337\u001B[0m obj, end \u001B[38;5;241m=\u001B[39m \u001B[38;5;28;43mself\u001B[39;49m\u001B[38;5;241;43m.\u001B[39;49m\u001B[43mraw_decode\u001B[49m\u001B[43m(\u001B[49m\u001B[43ms\u001B[49m\u001B[43m,\u001B[49m\u001B[43m \u001B[49m\u001B[43midx\u001B[49m\u001B[38;5;241;43m=\u001B[39;49m\u001B[43m_w\u001B[49m\u001B[43m(\u001B[49m\u001B[43ms\u001B[49m\u001B[43m,\u001B[49m\u001B[43m \u001B[49m\u001B[38;5;241;43m0\u001B[39;49m\u001B[43m)\u001B[49m\u001B[38;5;241;43m.\u001B[39;49m\u001B[43mend\u001B[49m\u001B[43m(\u001B[49m\u001B[43m)\u001B[49m\u001B[43m)\u001B[49m\n\u001B[1;32m    338\u001B[0m end \u001B[38;5;241m=\u001B[39m _w(s, end)\u001B[38;5;241m.\u001B[39mend()\n",
      "File \u001B[0;32m/opt/anaconda3/envs/llm_asp/lib/python3.9/json/decoder.py:353\u001B[0m, in \u001B[0;36mJSONDecoder.raw_decode\u001B[0;34m(self, s, idx)\u001B[0m\n\u001B[1;32m    352\u001B[0m \u001B[38;5;28;01mtry\u001B[39;00m:\n\u001B[0;32m--> 353\u001B[0m     obj, end \u001B[38;5;241m=\u001B[39m \u001B[38;5;28;43mself\u001B[39;49m\u001B[38;5;241;43m.\u001B[39;49m\u001B[43mscan_once\u001B[49m\u001B[43m(\u001B[49m\u001B[43ms\u001B[49m\u001B[43m,\u001B[49m\u001B[43m \u001B[49m\u001B[43midx\u001B[49m\u001B[43m)\u001B[49m\n\u001B[1;32m    354\u001B[0m \u001B[38;5;28;01mexcept\u001B[39;00m \u001B[38;5;167;01mStopIteration\u001B[39;00m \u001B[38;5;28;01mas\u001B[39;00m err:\n",
      "\u001B[0;31mJSONDecodeError\u001B[0m: Unterminated string starting at: line 1 column 12 (char 11)",
      "\nThe above exception was the direct cause of the following exception:\n",
      "\u001B[0;31mInvalidLineError\u001B[0m                          Traceback (most recent call last)",
      "Input \u001B[0;32mIn [18]\u001B[0m, in \u001B[0;36m<cell line: 2>\u001B[0;34m()\u001B[0m\n\u001B[1;32m      1\u001B[0m pathhh \u001B[38;5;241m=\u001B[39m \u001B[38;5;124m'\u001B[39m\u001B[38;5;124m/Users/paveldolin/dev/research/current/reasoning_about_actions/pipeline/data/data_for_test.with_random_sub/with_random_sub/with_ramifications/few_shot_3/satellite/Instance_6.jsonl\u001B[39m\u001B[38;5;124m'\u001B[39m\n\u001B[0;32m----> 2\u001B[0m \u001B[43mopen_jsonl\u001B[49m\u001B[43m(\u001B[49m\u001B[43mpathhh\u001B[49m\u001B[43m)\u001B[49m\n",
      "File \u001B[0;32m~/dev/research/current/reasoning_about_actions/pipeline/src/other/../../src/common.py:80\u001B[0m, in \u001B[0;36mopen_jsonl\u001B[0;34m(path)\u001B[0m\n\u001B[1;32m     78\u001B[0m \u001B[38;5;28;01mdef\u001B[39;00m \u001B[38;5;21mopen_jsonl\u001B[39m(path):\n\u001B[1;32m     79\u001B[0m     \u001B[38;5;28;01mwith\u001B[39;00m jsonlines\u001B[38;5;241m.\u001B[39mopen(path, \u001B[38;5;124m'\u001B[39m\u001B[38;5;124mr\u001B[39m\u001B[38;5;124m'\u001B[39m) \u001B[38;5;28;01mas\u001B[39;00m r:\n\u001B[0;32m---> 80\u001B[0m         data \u001B[38;5;241m=\u001B[39m [obj \u001B[38;5;28;01mfor\u001B[39;00m obj \u001B[38;5;129;01min\u001B[39;00m r]\n\u001B[1;32m     81\u001B[0m     \u001B[38;5;28;01mreturn\u001B[39;00m data\n",
      "File \u001B[0;32m~/dev/research/current/reasoning_about_actions/pipeline/src/other/../../src/common.py:80\u001B[0m, in \u001B[0;36m<listcomp>\u001B[0;34m(.0)\u001B[0m\n\u001B[1;32m     78\u001B[0m \u001B[38;5;28;01mdef\u001B[39;00m \u001B[38;5;21mopen_jsonl\u001B[39m(path):\n\u001B[1;32m     79\u001B[0m     \u001B[38;5;28;01mwith\u001B[39;00m jsonlines\u001B[38;5;241m.\u001B[39mopen(path, \u001B[38;5;124m'\u001B[39m\u001B[38;5;124mr\u001B[39m\u001B[38;5;124m'\u001B[39m) \u001B[38;5;28;01mas\u001B[39;00m r:\n\u001B[0;32m---> 80\u001B[0m         data \u001B[38;5;241m=\u001B[39m [obj \u001B[38;5;28;01mfor\u001B[39;00m obj \u001B[38;5;129;01min\u001B[39;00m r]\n\u001B[1;32m     81\u001B[0m     \u001B[38;5;28;01mreturn\u001B[39;00m data\n",
      "File \u001B[0;32m/opt/anaconda3/envs/llm_asp/lib/python3.9/site-packages/jsonlines/jsonlines.py:203\u001B[0m, in \u001B[0;36mReader.iter\u001B[0;34m(self, type, allow_none, skip_empty, skip_invalid)\u001B[0m\n\u001B[1;32m    201\u001B[0m \u001B[38;5;28;01mwhile\u001B[39;00m \u001B[38;5;28;01mTrue\u001B[39;00m:\n\u001B[1;32m    202\u001B[0m     \u001B[38;5;28;01mtry\u001B[39;00m:\n\u001B[0;32m--> 203\u001B[0m         \u001B[38;5;28;01myield\u001B[39;00m \u001B[38;5;28;43mself\u001B[39;49m\u001B[38;5;241;43m.\u001B[39;49m\u001B[43mread\u001B[49m\u001B[43m(\u001B[49m\n\u001B[1;32m    204\u001B[0m \u001B[43m            \u001B[49m\u001B[38;5;28;43mtype\u001B[39;49m\u001B[38;5;241;43m=\u001B[39;49m\u001B[38;5;28;43mtype\u001B[39;49m\u001B[43m,\u001B[49m\u001B[43m \u001B[49m\u001B[43mallow_none\u001B[49m\u001B[38;5;241;43m=\u001B[39;49m\u001B[43mallow_none\u001B[49m\u001B[43m,\u001B[49m\u001B[43m \u001B[49m\u001B[43mskip_empty\u001B[49m\u001B[38;5;241;43m=\u001B[39;49m\u001B[43mskip_empty\u001B[49m\n\u001B[1;32m    205\u001B[0m \u001B[43m        \u001B[49m\u001B[43m)\u001B[49m\n\u001B[1;32m    206\u001B[0m     \u001B[38;5;28;01mexcept\u001B[39;00m InvalidLineError:\n\u001B[1;32m    207\u001B[0m         \u001B[38;5;28;01mif\u001B[39;00m \u001B[38;5;129;01mnot\u001B[39;00m skip_invalid:\n",
      "File \u001B[0;32m/opt/anaconda3/envs/llm_asp/lib/python3.9/site-packages/jsonlines/jsonlines.py:167\u001B[0m, in \u001B[0;36mReader.read\u001B[0;34m(self, type, allow_none, skip_empty)\u001B[0m\n\u001B[1;32m    163\u001B[0m \u001B[38;5;28;01mexcept\u001B[39;00m \u001B[38;5;167;01mValueError\u001B[39;00m \u001B[38;5;28;01mas\u001B[39;00m orig_exc:\n\u001B[1;32m    164\u001B[0m     exc \u001B[38;5;241m=\u001B[39m InvalidLineError(\n\u001B[1;32m    165\u001B[0m         \u001B[38;5;124mf\u001B[39m\u001B[38;5;124m\"\u001B[39m\u001B[38;5;124mline contains invalid json: \u001B[39m\u001B[38;5;132;01m{\u001B[39;00morig_exc\u001B[38;5;132;01m}\u001B[39;00m\u001B[38;5;124m\"\u001B[39m, line, lineno\n\u001B[1;32m    166\u001B[0m     )\n\u001B[0;32m--> 167\u001B[0m     \u001B[38;5;28;01mraise\u001B[39;00m exc \u001B[38;5;28;01mfrom\u001B[39;00m \u001B[38;5;21;01morig_exc\u001B[39;00m\n\u001B[1;32m    169\u001B[0m \u001B[38;5;28;01mif\u001B[39;00m value \u001B[38;5;129;01mis\u001B[39;00m \u001B[38;5;28;01mNone\u001B[39;00m:\n\u001B[1;32m    170\u001B[0m     \u001B[38;5;28;01mif\u001B[39;00m allow_none:\n",
      "\u001B[0;31mInvalidLineError\u001B[0m: line contains invalid json: Unterminated string starting at: line 1 column 12 (char 11) (line 513)"
     ]
    }
   ],
   "source": [
    "pathhh = '/Users/paveldolin/dev/research/current/reasoning_about_actions/pipeline/data/data_for_test.with_random_sub/with_random_sub/with_ramifications/few_shot_3/satellite/Instance_6.jsonl'\n",
    "open_jsonl(pathhh)"
   ],
   "metadata": {
    "collapsed": false,
    "ExecuteTime": {
     "end_time": "2024-05-17T07:29:42.814288Z",
     "start_time": "2024-05-17T07:29:42.651251Z"
    }
   },
   "id": "60312e85cb61db0f",
   "execution_count": 18
  },
  {
   "cell_type": "code",
   "outputs": [],
   "source": [],
   "metadata": {
    "collapsed": false
   },
   "id": "b1089234652621ca"
  }
 ],
 "metadata": {
  "kernelspec": {
   "display_name": "Python 3",
   "language": "python",
   "name": "python3"
  },
  "language_info": {
   "codemirror_mode": {
    "name": "ipython",
    "version": 2
   },
   "file_extension": ".py",
   "mimetype": "text/x-python",
   "name": "python",
   "nbconvert_exporter": "python",
   "pygments_lexer": "ipython2",
   "version": "2.7.6"
  }
 },
 "nbformat": 4,
 "nbformat_minor": 5
}
