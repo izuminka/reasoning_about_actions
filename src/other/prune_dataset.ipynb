{
 "cells": [
  {
   "cell_type": "code",
   "outputs": [],
   "source": [
    "import sys\n",
    "sys.path.insert(0, '../../')\n",
    "from src.questions_construction.questions import *\n",
    "from src.questions_construction.domains import DOMAIN_NAMES\n",
    "from src.analysis.model_performances import *\n",
    "from src.common import *\n",
    "import random\n",
    "from collections import defaultdict\n",
    "from copy import deepcopy"
   ],
   "metadata": {
    "collapsed": false,
    "ExecuteTime": {
     "end_time": "2024-06-01T23:39:48.344185Z",
     "start_time": "2024-06-01T23:39:42.534995Z"
    }
   },
   "id": "c8d9a5ad8ad5faf0",
   "execution_count": 1
  },
  {
   "cell_type": "code",
   "outputs": [],
   "source": [
    "data_name = 'data_for_test_zero_shot.pruned'\n",
    "ids = open_jsonl(f'{DATA_PATH}/dataset_ids.test.pruned.jsonl')"
   ],
   "metadata": {
    "collapsed": false,
    "ExecuteTime": {
     "end_time": "2024-06-01T23:40:11.749146Z",
     "start_time": "2024-06-01T23:40:11.726616Z"
    }
   },
   "id": "82a1051a81ead438",
   "execution_count": 3
  },
  {
   "cell_type": "code",
   "outputs": [
    {
     "name": "stdout",
     "output_type": "stream",
     "text": [
      "without_ramifications few_shot_0 blocksworld\n",
      "without_ramifications few_shot_0 depots\n",
      "without_ramifications few_shot_0 driverlog\n",
      "without_ramifications few_shot_0 goldminer\n",
      "without_ramifications few_shot_0 grippers\n",
      "without_ramifications few_shot_0 logistics\n",
      "without_ramifications few_shot_0 miconic\n",
      "without_ramifications few_shot_0 mystery\n",
      "without_ramifications few_shot_0 npuzzle\n",
      "without_ramifications few_shot_0 satellite\n",
      "without_ramifications few_shot_0 spanner\n",
      "without_ramifications few_shot_0 visitall\n",
      "without_ramifications few_shot_0 zenotravel\n",
      "with_ramifications few_shot_0 blocksworld\n",
      "with_ramifications few_shot_0 depots\n",
      "with_ramifications few_shot_0 driverlog\n",
      "with_ramifications few_shot_0 goldminer\n",
      "with_ramifications few_shot_0 grippers\n",
      "with_ramifications few_shot_0 logistics\n",
      "with_ramifications few_shot_0 miconic\n",
      "with_ramifications few_shot_0 mystery\n",
      "with_ramifications few_shot_0 npuzzle\n",
      "with_ramifications few_shot_0 satellite\n",
      "with_ramifications few_shot_0 spanner\n",
      "with_ramifications few_shot_0 visitall\n",
      "with_ramifications few_shot_0 zenotravel\n",
      "without_ramifications few_shot_0 blocksworld\n",
      "without_ramifications few_shot_0 depots\n",
      "without_ramifications few_shot_0 driverlog\n",
      "without_ramifications few_shot_0 goldminer\n",
      "without_ramifications few_shot_0 grippers\n",
      "without_ramifications few_shot_0 logistics\n",
      "without_ramifications few_shot_0 miconic\n",
      "without_ramifications few_shot_0 mystery\n",
      "without_ramifications few_shot_0 npuzzle\n",
      "without_ramifications few_shot_0 satellite\n",
      "without_ramifications few_shot_0 spanner\n",
      "without_ramifications few_shot_0 visitall\n",
      "without_ramifications few_shot_0 zenotravel\n",
      "with_ramifications few_shot_0 blocksworld\n",
      "with_ramifications few_shot_0 depots\n",
      "with_ramifications few_shot_0 driverlog\n",
      "with_ramifications few_shot_0 goldminer\n",
      "with_ramifications few_shot_0 grippers\n",
      "with_ramifications few_shot_0 logistics\n",
      "with_ramifications few_shot_0 miconic\n",
      "with_ramifications few_shot_0 mystery\n",
      "with_ramifications few_shot_0 npuzzle\n",
      "with_ramifications few_shot_0 satellite\n",
      "with_ramifications few_shot_0 spanner\n",
      "with_ramifications few_shot_0 visitall\n",
      "with_ramifications few_shot_0 zenotravel\n"
     ]
    }
   ],
   "source": [
    "subs = [WITH_RANDOM_SUB, WITHOUT_RANDOM_SUB]\n",
    "prompt_types = ['few_shot_0']\n",
    "total_instances = 0\n",
    "ids_by_prefix = {}\n",
    "for sub in subs:\n",
    "    for ram in RAMIFICATION_TYPES:\n",
    "        for few_shot in prompt_types:\n",
    "            for domain in DOMAIN_NAMES:\n",
    "                for i in range(1,11):\n",
    "                    try:\n",
    "                        path = os.path.join(DATA_PATH, data_name, sub, ram, few_shot, domain, f'Instance_{i}.jsonl')\n",
    "                        if not os.path.exists(path):\n",
    "                            print(path)\n",
    "                            continue\n",
    "                        else:\n",
    "                            new_data = []\n",
    "                            for d in open_jsonl(path):\n",
    "                                if d['id'] in ids:\n",
    "                                    new_data.append(d)\n",
    "                            save_jsonl(new_data, path)\n",
    "                            total_instances+= len(new_data)\n",
    "                    except Exception as e:\n",
    "                        print(e)\n",
    "                        print(path)\n",
    "                print(ram, few_shot, domain)"
   ],
   "metadata": {
    "collapsed": false,
    "ExecuteTime": {
     "end_time": "2024-06-01T23:42:27.860809Z",
     "start_time": "2024-06-01T23:42:24.142430Z"
    }
   },
   "id": "1c6e141942396c84",
   "execution_count": 5
  },
  {
   "cell_type": "code",
   "outputs": [
    {
     "data": {
      "text/plain": "-220"
     },
     "execution_count": 9,
     "metadata": {},
     "output_type": "execute_result"
    }
   ],
   "source": [
    "4*len(ids) - total_instances"
   ],
   "metadata": {
    "collapsed": false,
    "ExecuteTime": {
     "end_time": "2024-06-01T23:43:30.314299Z",
     "start_time": "2024-06-01T23:43:30.310026Z"
    }
   },
   "id": "d0d77d153c49d094",
   "execution_count": 9
  },
  {
   "cell_type": "code",
   "outputs": [
    {
     "data": {
      "text/plain": "5866"
     },
     "execution_count": 11,
     "metadata": {},
     "output_type": "execute_result"
    }
   ],
   "source": [
    "len(ids)"
   ],
   "metadata": {
    "collapsed": false,
    "ExecuteTime": {
     "end_time": "2024-06-01T23:44:15.570164Z",
     "start_time": "2024-06-01T23:44:15.566367Z"
    }
   },
   "id": "b357cc5c53810f3d",
   "execution_count": 11
  },
  {
   "cell_type": "markdown",
   "source": [
    "# Prune More"
   ],
   "metadata": {
    "collapsed": false
   },
   "id": "e9664c08a58b776e"
  },
  {
   "cell_type": "code",
   "outputs": [
    {
     "name": "stdout",
     "output_type": "stream",
     "text": [
      "questions gathered\n"
     ]
    }
   ],
   "source": [
    "ids_file_name = 'dataset_ids.test'\n",
    "selected_ids = open_jsonl(f'{DATA_PATH}/{ids_file_name}.jsonl')\n",
    "questions_dir = f'{DATA_PATH}/questions_m1'\n",
    "questions_by_id = gather_questions(questions_dir, selected_ids=selected_ids)"
   ],
   "metadata": {
    "collapsed": false,
    "ExecuteTime": {
     "end_time": "2024-05-28T03:55:18.081042Z",
     "start_time": "2024-05-28T03:54:34.802375Z"
    }
   },
   "id": "ff8d9213af0e65bf",
   "execution_count": 4
  },
  {
   "cell_type": "code",
   "outputs": [
    {
     "data": {
      "text/plain": "7077"
     },
     "execution_count": 62,
     "metadata": {},
     "output_type": "execute_result"
    }
   ],
   "source": [
    "len(questions_by_id)"
   ],
   "metadata": {
    "collapsed": false,
    "ExecuteTime": {
     "end_time": "2024-05-28T04:26:17.960500Z",
     "start_time": "2024-05-28T04:26:17.956133Z"
    }
   },
   "id": "fe6e9dd7cf3ef9e3",
   "execution_count": 62
  },
  {
   "cell_type": "code",
   "outputs": [],
   "source": [
    "ids_to_remove = []"
   ],
   "metadata": {
    "collapsed": false,
    "ExecuteTime": {
     "end_time": "2024-05-28T04:26:18.452759Z",
     "start_time": "2024-05-28T04:26:18.449559Z"
    }
   },
   "id": "d1783eccd5e1253d",
   "execution_count": 63
  },
  {
   "cell_type": "markdown",
   "source": [
    "## Remove FA for fluents"
   ],
   "metadata": {
    "collapsed": false
   },
   "id": "90b53c377f4487bf"
  },
  {
   "cell_type": "code",
   "outputs": [
    {
     "name": "stdout",
     "output_type": "stream",
     "text": [
      "952\n"
     ]
    }
   ],
   "source": [
    "selected_data = []\n",
    "for q_id, by_sub in questions_by_id.items():\n",
    "    for sub, d in by_sub.items():\n",
    "        if sub ==WITH_RANDOM_SUB:\n",
    "            continue\n",
    "        if d[OUT_OBJ_ANSWER_TYPE] == FREE_ANSWER_TYPE and d[OUT_OBJ_QUESTION_CATEGORY] == 'fluent_tracking':\n",
    "            selected_data.append(d)\n",
    "print(len(selected_data))\n",
    "random.shuffle(selected_data)\n",
    "ids_to_remove.extend([d['id'] for d in selected_data[130:]])"
   ],
   "metadata": {
    "collapsed": false,
    "ExecuteTime": {
     "end_time": "2024-05-28T04:26:19.733835Z",
     "start_time": "2024-05-28T04:26:19.717848Z"
    }
   },
   "id": "2743d00f858d895f",
   "execution_count": 64
  },
  {
   "cell_type": "markdown",
   "source": [
    "## Remove FA for Halluciantion"
   ],
   "metadata": {
    "collapsed": false
   },
   "id": "fc83aed462042c0a"
  },
  {
   "cell_type": "code",
   "outputs": [
    {
     "name": "stdout",
     "output_type": "stream",
     "text": [
      "240\n"
     ]
    }
   ],
   "source": [
    "selected_data = []\n",
    "for q_id, by_sub in questions_by_id.items():\n",
    "    for sub, d in by_sub.items():\n",
    "        if sub ==WITH_RANDOM_SUB:\n",
    "            continue\n",
    "        if d[OUT_OBJ_ANSWER_TYPE] == FREE_ANSWER_TYPE and d[OUT_OBJ_QUESTION_CATEGORY] == 'hallucination':\n",
    "            selected_data.append(d)\n",
    "print(len(selected_data))\n",
    "random.shuffle(selected_data)\n",
    "ids_to_remove.extend([d['id'] for d in selected_data[130:]])"
   ],
   "metadata": {
    "collapsed": false,
    "ExecuteTime": {
     "end_time": "2024-05-28T04:26:20.790333Z",
     "start_time": "2024-05-28T04:26:20.774880Z"
    }
   },
   "id": "1892c91348b5716e",
   "execution_count": 65
  },
  {
   "cell_type": "code",
   "outputs": [
    {
     "data": {
      "text/plain": "932"
     },
     "execution_count": 66,
     "metadata": {},
     "output_type": "execute_result"
    }
   ],
   "source": [
    "len(ids_to_remove)"
   ],
   "metadata": {
    "collapsed": false,
    "ExecuteTime": {
     "end_time": "2024-05-28T04:26:21.189815Z",
     "start_time": "2024-05-28T04:26:21.185512Z"
    }
   },
   "id": "1cf9155becd28f19",
   "execution_count": 66
  },
  {
   "cell_type": "markdown",
   "source": [
    "## Fluent Tracking TF"
   ],
   "metadata": {
    "collapsed": false
   },
   "id": "756106566a09bdb1"
  },
  {
   "cell_type": "code",
   "outputs": [
    {
     "name": "stdout",
     "output_type": "stream",
     "text": [
      "1889\n"
     ]
    }
   ],
   "source": [
    "selected_data = []\n",
    "for q_id, by_sub in questions_by_id.items():\n",
    "    for sub, d in by_sub.items():\n",
    "        if sub ==WITH_RANDOM_SUB:\n",
    "            continue\n",
    "        if d[OUT_OBJ_ANSWER_TYPE] == TRUE_FALSE_ANSWER_TYPE and d[OUT_OBJ_QUESTION_CATEGORY] == 'fluent_tracking':\n",
    "            selected_data.append(d)\n",
    "print(len(selected_data))\n",
    "random.shuffle(selected_data)\n",
    "ids_to_remove.extend([d['id'] for d in selected_data[1600:]])"
   ],
   "metadata": {
    "collapsed": false,
    "ExecuteTime": {
     "end_time": "2024-05-28T04:26:22.197387Z",
     "start_time": "2024-05-28T04:26:22.180629Z"
    }
   },
   "id": "c9057e3d8d391ae1",
   "execution_count": 67
  },
  {
   "cell_type": "code",
   "outputs": [
    {
     "data": {
      "text/plain": "1221"
     },
     "execution_count": 68,
     "metadata": {},
     "output_type": "execute_result"
    }
   ],
   "source": [
    "len(ids_to_remove)"
   ],
   "metadata": {
    "collapsed": false,
    "ExecuteTime": {
     "end_time": "2024-05-28T04:26:25.612012Z",
     "start_time": "2024-05-28T04:26:25.607438Z"
    }
   },
   "id": "fbd5905c14ea9609",
   "execution_count": 68
  },
  {
   "cell_type": "code",
   "outputs": [
    {
     "data": {
      "text/plain": "5856"
     },
     "execution_count": 69,
     "metadata": {},
     "output_type": "execute_result"
    }
   ],
   "source": [
    "len(questions_by_id) - len(ids_to_remove)"
   ],
   "metadata": {
    "collapsed": false,
    "ExecuteTime": {
     "end_time": "2024-05-28T04:26:33.528509Z",
     "start_time": "2024-05-28T04:26:33.524154Z"
    }
   },
   "id": "428f17e61a25bb5",
   "execution_count": 69
  },
  {
   "cell_type": "code",
   "outputs": [],
   "source": [
    "new_ids = [id for id in selected_ids if id not in ids_to_remove]"
   ],
   "metadata": {
    "collapsed": false,
    "ExecuteTime": {
     "end_time": "2024-05-28T04:27:42.878897Z",
     "start_time": "2024-05-28T04:27:42.709323Z"
    }
   },
   "id": "5efb3a18dbd7346f",
   "execution_count": 70
  },
  {
   "cell_type": "code",
   "outputs": [
    {
     "data": {
      "text/plain": "5866"
     },
     "execution_count": 71,
     "metadata": {},
     "output_type": "execute_result"
    }
   ],
   "source": [
    "len(new_ids)"
   ],
   "metadata": {
    "collapsed": false,
    "ExecuteTime": {
     "end_time": "2024-05-28T04:27:48.360411Z",
     "start_time": "2024-05-28T04:27:48.355401Z"
    }
   },
   "id": "f35729f125ab366f",
   "execution_count": 71
  },
  {
   "cell_type": "code",
   "outputs": [],
   "source": [
    "save_jsonl(new_ids, f'{DATA_PATH}/{ids_file_name}_pruned.jsonl')"
   ],
   "metadata": {
    "collapsed": false,
    "ExecuteTime": {
     "end_time": "2024-05-28T04:29:05.610129Z",
     "start_time": "2024-05-28T04:29:05.587293Z"
    }
   },
   "id": "cbc952c5e275855",
   "execution_count": 72
  },
  {
   "cell_type": "code",
   "outputs": [],
   "source": [],
   "metadata": {
    "collapsed": false
   },
   "id": "589e7c8b93da2da0"
  }
 ],
 "metadata": {
  "kernelspec": {
   "display_name": "Python 3",
   "language": "python",
   "name": "python3"
  },
  "language_info": {
   "codemirror_mode": {
    "name": "ipython",
    "version": 2
   },
   "file_extension": ".py",
   "mimetype": "text/x-python",
   "name": "python",
   "nbconvert_exporter": "python",
   "pygments_lexer": "ipython2",
   "version": "2.7.6"
  }
 },
 "nbformat": 4,
 "nbformat_minor": 5
}
