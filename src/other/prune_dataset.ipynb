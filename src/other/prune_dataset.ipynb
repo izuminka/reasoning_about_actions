{
 "cells": [
  {
   "cell_type": "code",
   "outputs": [],
   "source": [
    "import sys\n",
    "sys.path.insert(0, '../../')\n",
    "from src.questions_construction.main import PLAN_LENGTHS, QUESTION_CATEGORIES\n",
    "from src.questions_construction.domains import DOMAIN_NAMES\n",
    "from src.analysis.model_performances import gather_questions\n",
    "from src.common import *\n",
    "import random\n",
    "from collections import defaultdict\n",
    "from copy import deepcopy"
   ],
   "metadata": {
    "collapsed": false,
    "ExecuteTime": {
     "end_time": "2024-05-11T02:12:34.987867Z",
     "start_time": "2024-05-11T02:12:34.963307Z"
    }
   },
   "id": "c8d9a5ad8ad5faf0",
   "execution_count": 84
  },
  {
   "cell_type": "code",
   "outputs": [],
   "source": [
    "questions_dir = f'{DATA_PATH}/questions_m1'\n",
    "questions_by_id = gather_questions(questions_dir)"
   ],
   "metadata": {
    "collapsed": false,
    "ExecuteTime": {
     "end_time": "2024-05-11T02:13:09.018231Z",
     "start_time": "2024-05-11T02:12:35.305052Z"
    }
   },
   "id": "841aa25de12a88c9",
   "execution_count": 85
  },
  {
   "cell_type": "code",
   "outputs": [],
   "source": [
    "dataset_dir = '/Users/paveldolin/dev/research/current/reasoning_about_actions/pipeline/data/data_for_evaluation_small/without_random_sub'"
   ],
   "metadata": {
    "collapsed": true,
    "ExecuteTime": {
     "end_time": "2024-05-10T01:16:47.968607Z",
     "start_time": "2024-05-10T01:16:47.966096Z"
    }
   },
   "id": "initial_id",
   "execution_count": 6
  },
  {
   "cell_type": "code",
   "outputs": [],
   "source": [
    "MAX_QUESTIONS_PER_DOMAIN_PER_PLAN_LENGTH = 50\n",
    "\n",
    "def is_ok_to_take_question(question_info, exclude_params, counter_by_plan_langth,\n",
    "    max_questions_per_domain_per_plan_length=MAX_QUESTIONS_PER_DOMAIN_PER_PLAN_LENGTH):\n",
    "    for k, v in exclude_params.items():\n",
    "        if question_info[k] == v:\n",
    "            return False\n",
    "    \n",
    "    if question_info['plan_length'] not in counter_by_plan_langth:\n",
    "        return False\n",
    "    \n",
    "    if counter_by_plan_langth[question_info['plan_length']] < max_questions_per_domain_per_plan_length:\n",
    "        return True\n",
    "    else:\n",
    "        return False\n",
    "\n",
    "\n",
    "exclude_params = {'fluent_type': None, 'is_pos_fluent_question': None}"
   ],
   "metadata": {
    "collapsed": false,
    "ExecuteTime": {
     "end_time": "2024-05-10T01:59:11.700757Z",
     "start_time": "2024-05-10T01:59:11.696323Z"
    }
   },
   "id": "29a400df7c4c9a49",
   "execution_count": 52
  },
  {
   "cell_type": "code",
   "outputs": [
    {
     "name": "stdout",
     "output_type": "stream",
     "text": [
      "{'blocksworld': {1: 0, 10: 6, 19: 4}, 'depots': {1: 4, 10: 5, 19: 1}, 'driverlog': {1: 3, 10: 5, 19: 2}, 'goldminer': {1: 2, 10: 3, 19: 5}, 'grippers': {1: 2, 10: 5, 19: 3}, 'logistics': {1: 3, 10: 4, 19: 3}, 'miconic': {1: 5, 10: 2, 19: 3}, 'mystery': {1: 2, 10: 2, 19: 6}, 'npuzzle': {1: 2, 10: 2, 19: 6}, 'satellite': {1: 4, 10: 3, 19: 3}, 'spanner': {1: 2, 10: 4, 19: 4}, 'visitall': {1: 1, 10: 4, 19: 5}, 'zenotravel': {1: 3, 10: 4, 19: 3}}\n",
      "{'blocksworld': {1: 2, 10: 12, 19: 6}, 'depots': {1: 6, 10: 9, 19: 5}, 'driverlog': {1: 6, 10: 10, 19: 4}, 'goldminer': {1: 4, 10: 9, 19: 7}, 'grippers': {1: 3, 10: 9, 19: 8}, 'logistics': {1: 7, 10: 7, 19: 6}, 'miconic': {1: 5, 10: 8, 19: 7}, 'mystery': {1: 7, 10: 5, 19: 8}, 'npuzzle': {1: 5, 10: 3, 19: 12}, 'satellite': {1: 5, 10: 5, 19: 10}, 'spanner': {1: 4, 10: 6, 19: 10}, 'visitall': {1: 2, 10: 9, 19: 9}, 'zenotravel': {1: 5, 10: 8, 19: 7}}\n",
      "{'blocksworld': {1: 5, 10: 17, 19: 8}, 'depots': {1: 8, 10: 15, 19: 7}, 'driverlog': {1: 10, 10: 15, 19: 5}, 'goldminer': {1: 9, 10: 12, 19: 9}, 'grippers': {1: 8, 10: 13, 19: 9}, 'logistics': {1: 12, 10: 10, 19: 8}, 'miconic': {1: 9, 10: 10, 19: 11}, 'mystery': {1: 10, 10: 9, 19: 11}, 'npuzzle': {1: 10, 10: 6, 19: 14}, 'satellite': {1: 7, 10: 8, 19: 15}, 'spanner': {1: 7, 10: 11, 19: 12}, 'visitall': {1: 8, 10: 10, 19: 12}, 'zenotravel': {1: 7, 10: 14, 19: 9}}\n",
      "{'blocksworld': {1: 8, 10: 18, 19: 14}, 'depots': {1: 9, 10: 21, 19: 10}, 'driverlog': {1: 13, 10: 20, 19: 7}, 'goldminer': {1: 12, 10: 16, 19: 12}, 'grippers': {1: 11, 10: 17, 19: 12}, 'logistics': {1: 13, 10: 13, 19: 14}, 'miconic': {1: 13, 10: 14, 19: 13}, 'mystery': {1: 13, 10: 12, 19: 15}, 'npuzzle': {1: 13, 10: 10, 19: 17}, 'satellite': {1: 12, 10: 10, 19: 18}, 'spanner': {1: 10, 10: 14, 19: 16}, 'visitall': {1: 11, 10: 11, 19: 18}, 'zenotravel': {1: 11, 10: 15, 19: 14}}\n",
      "{'blocksworld': {1: 12, 10: 21, 19: 17}, 'depots': {1: 10, 10: 27, 19: 13}, 'driverlog': {1: 19, 10: 24, 19: 7}, 'goldminer': {1: 18, 10: 19, 19: 13}, 'grippers': {1: 14, 10: 18, 19: 18}, 'logistics': {1: 16, 10: 17, 19: 17}, 'miconic': {1: 14, 10: 21, 19: 15}, 'mystery': {1: 16, 10: 14, 19: 20}, 'npuzzle': {1: 18, 10: 13, 19: 19}, 'satellite': {1: 14, 10: 16, 19: 20}, 'spanner': {1: 12, 10: 17, 19: 21}, 'visitall': {1: 12, 10: 13, 19: 25}, 'zenotravel': {1: 15, 10: 16, 19: 19}}\n",
      "{'blocksworld': {1: 13, 10: 26, 19: 21}, 'depots': {1: 14, 10: 29, 19: 17}, 'driverlog': {1: 24, 10: 27, 19: 9}, 'goldminer': {1: 20, 10: 24, 19: 16}, 'grippers': {1: 18, 10: 19, 19: 23}, 'logistics': {1: 20, 10: 19, 19: 21}, 'miconic': {1: 16, 10: 24, 19: 20}, 'mystery': {1: 18, 10: 18, 19: 24}, 'npuzzle': {1: 21, 10: 14, 19: 25}, 'satellite': {1: 18, 10: 17, 19: 25}, 'spanner': {1: 14, 10: 22, 19: 24}, 'visitall': {1: 13, 10: 16, 19: 31}, 'zenotravel': {1: 19, 10: 19, 19: 22}}\n",
      "{'blocksworld': {1: 20, 10: 28, 19: 22}, 'depots': {1: 18, 10: 31, 19: 21}, 'driverlog': {1: 26, 10: 31, 19: 13}, 'goldminer': {1: 25, 10: 26, 19: 19}, 'grippers': {1: 22, 10: 21, 19: 27}, 'logistics': {1: 27, 10: 19, 19: 24}, 'miconic': {1: 19, 10: 27, 19: 24}, 'mystery': {1: 20, 10: 21, 19: 29}, 'npuzzle': {1: 25, 10: 19, 19: 26}, 'satellite': {1: 23, 10: 21, 19: 26}, 'spanner': {1: 17, 10: 24, 19: 29}, 'visitall': {1: 18, 10: 21, 19: 31}, 'zenotravel': {1: 23, 10: 22, 19: 25}}\n",
      "{'blocksworld': {1: 25, 10: 30, 19: 25}, 'depots': {1: 23, 10: 32, 19: 25}, 'driverlog': {1: 28, 10: 32, 19: 20}, 'goldminer': {1: 26, 10: 32, 19: 22}, 'grippers': {1: 23, 10: 24, 19: 33}, 'logistics': {1: 28, 10: 22, 19: 30}, 'miconic': {1: 21, 10: 30, 19: 29}, 'mystery': {1: 25, 10: 25, 19: 30}, 'npuzzle': {1: 29, 10: 23, 19: 28}, 'satellite': {1: 26, 10: 26, 19: 28}, 'spanner': {1: 20, 10: 29, 19: 31}, 'visitall': {1: 21, 10: 23, 19: 36}, 'zenotravel': {1: 27, 10: 25, 19: 28}}\n",
      "{'blocksworld': {1: 27, 10: 35, 19: 28}, 'depots': {1: 27, 10: 35, 19: 28}, 'driverlog': {1: 31, 10: 34, 19: 25}, 'goldminer': {1: 31, 10: 34, 19: 25}, 'grippers': {1: 25, 10: 28, 19: 37}, 'logistics': {1: 32, 10: 25, 19: 33}, 'miconic': {1: 25, 10: 33, 19: 32}, 'mystery': {1: 28, 10: 29, 19: 33}, 'npuzzle': {1: 32, 10: 25, 19: 33}, 'satellite': {1: 30, 10: 29, 19: 31}, 'spanner': {1: 22, 10: 35, 19: 33}, 'visitall': {1: 22, 10: 28, 19: 40}, 'zenotravel': {1: 30, 10: 30, 19: 30}}\n",
      "{'blocksworld': {1: 30, 10: 38, 19: 32}, 'depots': {1: 29, 10: 37, 19: 34}, 'driverlog': {1: 36, 10: 36, 19: 28}, 'goldminer': {1: 34, 10: 37, 19: 29}, 'grippers': {1: 29, 10: 31, 19: 40}, 'logistics': {1: 35, 10: 29, 19: 36}, 'miconic': {1: 28, 10: 37, 19: 35}, 'mystery': {1: 30, 10: 33, 19: 37}, 'npuzzle': {1: 34, 10: 30, 19: 36}, 'satellite': {1: 33, 10: 32, 19: 35}, 'spanner': {1: 26, 10: 37, 19: 37}, 'visitall': {1: 27, 10: 31, 19: 42}, 'zenotravel': {1: 32, 10: 34, 19: 34}}\n",
      "{'blocksworld': {1: 34, 10: 41, 19: 35}, 'depots': {1: 32, 10: 37, 19: 41}, 'driverlog': {1: 38, 10: 36, 19: 36}, 'goldminer': {1: 37, 10: 41, 19: 32}, 'grippers': {1: 32, 10: 37, 19: 41}, 'logistics': {1: 36, 10: 34, 19: 40}, 'miconic': {1: 30, 10: 42, 19: 38}, 'mystery': {1: 33, 10: 37, 19: 40}, 'npuzzle': {1: 38, 10: 34, 19: 38}, 'satellite': {1: 35, 10: 36, 19: 39}, 'spanner': {1: 27, 10: 38, 19: 45}, 'visitall': {1: 28, 10: 34, 19: 48}, 'zenotravel': {1: 35, 10: 38, 19: 37}}\n",
      "{'blocksworld': {1: 39, 10: 44, 19: 37}, 'depots': {1: 35, 10: 41, 19: 44}, 'driverlog': {1: 42, 10: 38, 19: 40}, 'goldminer': {1: 38, 10: 46, 19: 36}, 'grippers': {1: 35, 10: 42, 19: 43}, 'logistics': {1: 40, 10: 39, 19: 41}, 'miconic': {1: 34, 10: 44, 19: 42}, 'mystery': {1: 35, 10: 40, 19: 45}, 'npuzzle': {1: 44, 10: 37, 19: 39}, 'satellite': {1: 40, 10: 39, 19: 41}, 'spanner': {1: 31, 10: 41, 19: 48}, 'visitall': {1: 32, 10: 38, 19: 50}, 'zenotravel': {1: 37, 10: 40, 19: 43}}\n",
      "{'blocksworld': {1: 42, 10: 48, 19: 40}, 'depots': {1: 38, 10: 45, 19: 47}, 'driverlog': {1: 46, 10: 40, 19: 44}, 'goldminer': {1: 42, 10: 50, 19: 38}, 'grippers': {1: 40, 10: 44, 19: 46}, 'logistics': {1: 42, 10: 44, 19: 44}, 'miconic': {1: 36, 10: 48, 19: 46}, 'mystery': {1: 40, 10: 41, 19: 49}, 'npuzzle': {1: 50, 10: 41, 19: 39}, 'satellite': {1: 43, 10: 42, 19: 45}, 'spanner': {1: 36, 10: 44, 19: 50}, 'visitall': {1: 38, 10: 42, 19: 50}, 'zenotravel': {1: 40, 10: 45, 19: 45}}\n",
      "{'blocksworld': {1: 46, 10: 50, 19: 44}, 'depots': {1: 41, 10: 50, 19: 49}, 'driverlog': {1: 49, 10: 42, 19: 49}, 'goldminer': {1: 45, 10: 50, 19: 45}, 'grippers': {1: 45, 10: 45, 19: 50}, 'logistics': {1: 44, 10: 47, 19: 49}, 'miconic': {1: 42, 10: 49, 19: 49}, 'mystery': {1: 45, 10: 45, 19: 50}, 'npuzzle': {1: 50, 10: 47, 19: 43}, 'satellite': {1: 47, 10: 44, 19: 49}, 'spanner': {1: 40, 10: 50, 19: 50}, 'visitall': {1: 43, 10: 47, 19: 50}, 'zenotravel': {1: 42, 10: 50, 19: 48}}\n",
      "{'blocksworld': {1: 50, 10: 50, 19: 50}, 'depots': {1: 50, 10: 50, 19: 50}, 'driverlog': {1: 50, 10: 50, 19: 50}, 'goldminer': {1: 50, 10: 50, 19: 50}, 'grippers': {1: 50, 10: 50, 19: 50}, 'logistics': {1: 50, 10: 50, 19: 50}, 'miconic': {1: 50, 10: 50, 19: 50}, 'mystery': {1: 50, 10: 50, 19: 50}, 'npuzzle': {1: 50, 10: 50, 19: 50}, 'satellite': {1: 50, 10: 50, 19: 50}, 'spanner': {1: 50, 10: 50, 19: 50}, 'visitall': {1: 50, 10: 50, 19: 50}, 'zenotravel': {1: 50, 10: 50, 19: 50}}\n"
     ]
    }
   ],
   "source": [
    "selected_question_ids = set()\n",
    "selected_question_ids_by_domain = {dom: set() for dom in DOMAIN_NAMES}\n",
    "counter_by_domain = {dom: deepcopy({1:0, 10:0, 19:0}) for dom in DOMAIN_NAMES}\n",
    "while len(selected_question_ids) < len(DOMAIN_NAMES) * 3 * MAX_QUESTIONS_PER_DOMAIN_PER_PLAN_LENGTH:\n",
    "    for domain in DOMAIN_NAMES:\n",
    "        for i in range(1,11):\n",
    "            path = os.path.join(dataset_dir, 'with_ramifications', 'few_shot_5', domain, f'Instance_{i}.jsonl')\n",
    "            if not os.path.exists(path):\n",
    "                continue\n",
    "            data = open_jsonl(path)\n",
    "            while sum(counter_by_domain[domain].values()) < 3 * MAX_QUESTIONS_PER_DOMAIN_PER_PLAN_LENGTH:\n",
    "                d = random.choice(data)\n",
    "                question_id = d['id']\n",
    "                question_info = questions_by_id[question_id]\n",
    "                if is_ok_to_take_question(question_info, exclude_params, counter_by_domain[domain]) and question_id not in selected_question_ids:\n",
    "                    counter_by_domain[domain][question_info['plan_length']] += 1\n",
    "                    selected_question_ids_by_domain[domain].add(question_id)\n",
    "                    selected_question_ids.add(question_id)\n",
    "                    break\n",
    "    print(counter_by_domain)"
   ],
   "metadata": {
    "collapsed": false,
    "ExecuteTime": {
     "end_time": "2024-05-10T02:04:53.592785Z",
     "start_time": "2024-05-10T02:02:52.247252Z"
    }
   },
   "id": "a846fe7ebe21a7a0",
   "execution_count": 54
  },
  {
   "cell_type": "code",
   "outputs": [],
   "source": [
    "import json\n",
    "\n",
    "selected_question_ids_by_domain = {k: list(v) for k,v in selected_question_ids_by_domain.items()}\n",
    "with open('small_dataset_ids_by_domain.json','w') as f:\n",
    "    json.dump(selected_question_ids_by_domain, f)\n",
    "    \n",
    "selected_question_ids = set()\n",
    "for domain, ids in selected_question_ids_by_domain.items():\n",
    "    selected_question_ids.update(ids)\n",
    "save_jsonl(list(selected_question_ids), 'small_dataset_ids.jsonl')"
   ],
   "metadata": {
    "collapsed": false,
    "ExecuteTime": {
     "end_time": "2024-05-11T02:07:35.091287Z",
     "start_time": "2024-05-11T02:07:35.079391Z"
    }
   },
   "id": "3053828f1976b08a",
   "execution_count": 80
  },
  {
   "cell_type": "code",
   "outputs": [],
   "source": [],
   "metadata": {
    "collapsed": false,
    "ExecuteTime": {
     "end_time": "2024-05-11T01:56:16.668712Z",
     "start_time": "2024-05-11T01:56:16.661967Z"
    }
   },
   "id": "23761ffea1cc3ded",
   "execution_count": 66
  },
  {
   "cell_type": "code",
   "outputs": [],
   "source": [
    "# # things to consider:\n",
    "# - balanced T/F sampling\n",
    "# - take q + a with lenth <= 4000 tokens\n",
    "# - balanced Q categories"
   ],
   "metadata": {
    "collapsed": false
   },
   "id": "7d9e40f3e5023e9a"
  },
  {
   "cell_type": "markdown",
   "source": [
    "# Check if Data is Present"
   ],
   "metadata": {
    "collapsed": false
   },
   "id": "5e4266373f1be3f5"
  },
  {
   "cell_type": "code",
   "outputs": [],
   "source": [
    "ids_by_prefix = {}\n",
    "for sub in [WITHOUT_RANDOM_SUB, WITH_RANDOM_SUB]:\n",
    "    for ram in RAMIFICATION_TYPES:\n",
    "        for few_shot in ['few_shot_1', 'few_shot_5']:\n",
    "            ids = set()\n",
    "            for domain in DOMAIN_NAMES:\n",
    "                for i in range(1,11):\n",
    "                    path = os.path.join(DATA_PATH, 'data_for_evaluation', sub, ram, few_shot, domain, f'Instance_{i}.jsonl')\n",
    "                    if not os.path.exists(path):\n",
    "                        print(path)\n",
    "                    else:\n",
    "                        for d in open_jsonl(path):\n",
    "                            ids.add(d['id'])\n",
    "            ids_by_prefix[(sub,ram,few_shot)] = ids    "
   ],
   "metadata": {
    "collapsed": false,
    "ExecuteTime": {
     "end_time": "2024-05-11T02:03:16.400394Z",
     "start_time": "2024-05-11T02:02:02.198421Z"
    }
   },
   "id": "3cbf4846d946a85b",
   "execution_count": 74
  },
  {
   "cell_type": "code",
   "outputs": [],
   "source": [
    "missing_ids_by_prefix = {}\n",
    "\n",
    "for id in selected_question_ids:\n",
    "    for k,v in ids_by_prefix.items():\n",
    "        if id not in v:\n",
    "            missing_ids_by_prefix[k] = id"
   ],
   "metadata": {
    "collapsed": false,
    "ExecuteTime": {
     "end_time": "2024-05-11T02:03:19.336632Z",
     "start_time": "2024-05-11T02:03:18.865785Z"
    }
   },
   "id": "4c078af359e18b18",
   "execution_count": 75
  },
  {
   "cell_type": "code",
   "outputs": [
    {
     "data": {
      "text/plain": "{('with_random_sub',\n  'with_ramifications',\n  'few_shot_1'): '81d5fb7e-0dc9-49e2-bd1d-d14d64297009',\n ('with_random_sub',\n  'with_ramifications',\n  'few_shot_5'): '81d5fb7e-0dc9-49e2-bd1d-d14d64297009',\n ('with_random_sub',\n  'without_ramifications',\n  'few_shot_1'): '81d5fb7e-0dc9-49e2-bd1d-d14d64297009',\n ('with_random_sub',\n  'without_ramifications',\n  'few_shot_5'): '81d5fb7e-0dc9-49e2-bd1d-d14d64297009',\n ('without_random_sub',\n  'with_ramifications',\n  'few_shot_1'): '38fb9521-3c95-476c-98fb-38bdf15fd82e',\n ('without_random_sub',\n  'without_ramifications',\n  'few_shot_1'): '38fb9521-3c95-476c-98fb-38bdf15fd82e',\n ('without_random_sub',\n  'without_ramifications',\n  'few_shot_5'): 'c83baaa6-8c60-477e-a832-0ca28910a9a6'}"
     },
     "execution_count": 76,
     "metadata": {},
     "output_type": "execute_result"
    }
   ],
   "source": [
    "missing_ids_by_prefix"
   ],
   "metadata": {
    "collapsed": false,
    "ExecuteTime": {
     "end_time": "2024-05-11T02:03:20.417212Z",
     "start_time": "2024-05-11T02:03:20.408941Z"
    }
   },
   "id": "a5fb935d35043532",
   "execution_count": 76
  },
  {
   "cell_type": "code",
   "outputs": [
    {
     "name": "stdout",
     "output_type": "stream",
     "text": [
      "zenotravel\n"
     ]
    }
   ],
   "source": [
    "for domain, ids in selected_question_ids_by_domain.items():\n",
    "    for id in ids:\n",
    "        if id == 'c83baaa6-8c60-477e-a832-0ca28910a9a6':\n",
    "            print(domain)"
   ],
   "metadata": {
    "collapsed": false,
    "ExecuteTime": {
     "end_time": "2024-05-11T02:09:17.390483Z",
     "start_time": "2024-05-11T02:09:17.387327Z"
    }
   },
   "id": "1805e7074d99ef9b",
   "execution_count": 83
  },
  {
   "cell_type": "markdown",
   "source": [
    "# Stats on the Dataset"
   ],
   "metadata": {
    "collapsed": false
   },
   "id": "9cac2359c49abd7e"
  },
  {
   "cell_type": "code",
   "outputs": [],
   "source": [
    "# T/F, length 1\n",
    "stats = {f'{c}_true': 0 for c in QUESTION_CATEGORIES} | {f'{c}_false': 0 for c in QUESTION_CATEGORIES}\n",
    "for id in selected_question_ids:\n",
    "    q = questions_by_id[id]\n",
    "    if q['plan_length'] == 1 and q[OUT_OBJ_ANSWER_TYPE] == TRUE_FALSE_ANSWER_TYPE:\n",
    "        if q[OUT_OBJ_ANSWER] == 'True':\n",
    "            stats[f'{q[\"question_category\"]}_true'] += 1\n",
    "        else:\n",
    "            stats[f'{q[\"question_category\"]}_false'] += 1\n",
    "        \n",
    "\n",
    "# stats_all = {k: stats[f'{q}_true']/(stats[f'{q}_false'] or 0.0001)for q in QUESTION_CATEGORIES}"
   ],
   "metadata": {
    "collapsed": false,
    "ExecuteTime": {
     "end_time": "2024-05-11T02:21:49.325229Z",
     "start_time": "2024-05-11T02:21:49.318256Z"
    }
   },
   "id": "e13b369dbae381a6",
   "execution_count": 99
  },
  {
   "cell_type": "code",
   "outputs": [
    {
     "data": {
      "text/plain": "{'object_tracking_true': 107,\n 'fluent_tracking_true': 215,\n 'state_tracking_true': 0,\n 'action_executability_true': 0,\n 'effects_true': 0,\n 'numerical_reasoning_true': 0,\n 'hallucination_true': 0,\n 'composite_questions_true': 0,\n 'object_tracking_false': 82,\n 'fluent_tracking_false': 139,\n 'state_tracking_false': 0,\n 'action_executability_false': 0,\n 'effects_false': 0,\n 'numerical_reasoning_false': 0,\n 'hallucination_false': 0,\n 'composite_questions_false': 0}"
     },
     "execution_count": 101,
     "metadata": {},
     "output_type": "execute_result"
    }
   ],
   "source": [
    "stats"
   ],
   "metadata": {
    "collapsed": false,
    "ExecuteTime": {
     "end_time": "2024-05-11T02:22:07.862455Z",
     "start_time": "2024-05-11T02:22:07.857594Z"
    }
   },
   "id": "5a3e35d444b5ca98",
   "execution_count": 101
  },
  {
   "cell_type": "code",
   "outputs": [],
   "source": [],
   "metadata": {
    "collapsed": false
   },
   "id": "e3eafd3ffcfb3c12"
  }
 ],
 "metadata": {
  "kernelspec": {
   "display_name": "Python 3",
   "language": "python",
   "name": "python3"
  },
  "language_info": {
   "codemirror_mode": {
    "name": "ipython",
    "version": 2
   },
   "file_extension": ".py",
   "mimetype": "text/x-python",
   "name": "python",
   "nbconvert_exporter": "python",
   "pygments_lexer": "ipython2",
   "version": "2.7.6"
  }
 },
 "nbformat": 4,
 "nbformat_minor": 5
}
