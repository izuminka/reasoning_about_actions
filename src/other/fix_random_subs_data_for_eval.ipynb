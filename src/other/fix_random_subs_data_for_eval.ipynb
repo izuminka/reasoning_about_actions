{
 "cells": [
  {
   "cell_type": "code",
   "outputs": [],
   "source": [
    "import sys\n",
    "sys.path.insert(0,'../../')\n",
    "from src.common import *\n",
    "from src.questions_construction.domains import *"
   ],
   "metadata": {
    "collapsed": false,
    "ExecuteTime": {
     "end_time": "2024-04-22T02:06:44.066203Z",
     "start_time": "2024-04-22T02:06:44.019158Z"
    }
   },
   "id": "365442d2f1206b4e",
   "execution_count": 3
  },
  {
   "cell_type": "code",
   "outputs": [
    {
     "ename": "FileNotFoundError",
     "evalue": "[Errno 2] No such file or directory: '/Users/paveldolin/dev/research/current/reasoning_about_actions/pipeline/data/data_for_evaluation/with_random_sub/with_ramifications/few_shot_2/blocksworld/Instance_1.jsonl'",
     "output_type": "error",
     "traceback": [
      "\u001B[0;31m---------------------------------------------------------------------------\u001B[0m",
      "\u001B[0;31mFileNotFoundError\u001B[0m                         Traceback (most recent call last)",
      "Input \u001B[0;32mIn [17]\u001B[0m, in \u001B[0;36m<cell line: 11>\u001B[0;34m()\u001B[0m\n\u001B[1;32m     16\u001B[0m \u001B[38;5;28;01mfor\u001B[39;00m instance \u001B[38;5;129;01min\u001B[39;00m [\u001B[38;5;124mf\u001B[39m\u001B[38;5;124m'\u001B[39m\u001B[38;5;124mInstance_\u001B[39m\u001B[38;5;132;01m{\u001B[39;00mi\u001B[38;5;132;01m}\u001B[39;00m\u001B[38;5;124m'\u001B[39m \u001B[38;5;28;01mfor\u001B[39;00m i \u001B[38;5;129;01min\u001B[39;00m \u001B[38;5;28mrange\u001B[39m(\u001B[38;5;241m1\u001B[39m,\u001B[38;5;241m11\u001B[39m)]:\n\u001B[1;32m     17\u001B[0m     data_path \u001B[38;5;241m=\u001B[39m os\u001B[38;5;241m.\u001B[39mpath\u001B[38;5;241m.\u001B[39mjoin(data_for_eval_path,WITH_RANDOM_SUB, ramifications, prompt_type, domain_name, instance\u001B[38;5;241m+\u001B[39m\u001B[38;5;124m'\u001B[39m\u001B[38;5;124m.jsonl\u001B[39m\u001B[38;5;124m'\u001B[39m)\n\u001B[0;32m---> 18\u001B[0m     data \u001B[38;5;241m=\u001B[39m \u001B[43mopen_jsonl\u001B[49m\u001B[43m(\u001B[49m\u001B[43mdata_path\u001B[49m\u001B[43m)\u001B[49m\n\u001B[1;32m     19\u001B[0m     \u001B[38;5;28;01mfor\u001B[39;00m i \u001B[38;5;129;01min\u001B[39;00m \u001B[38;5;28mrange\u001B[39m(\u001B[38;5;28mlen\u001B[39m(data)):\n\u001B[1;32m     20\u001B[0m         data[i] \u001B[38;5;241m=\u001B[39m fix_dict(data[i], domain)\n",
      "File \u001B[0;32m~/dev/research/current/reasoning_about_actions/pipeline/src/other/../../src/common.py:79\u001B[0m, in \u001B[0;36mopen_jsonl\u001B[0;34m(path)\u001B[0m\n\u001B[1;32m     78\u001B[0m \u001B[38;5;28;01mdef\u001B[39;00m \u001B[38;5;21mopen_jsonl\u001B[39m(path):\n\u001B[0;32m---> 79\u001B[0m     \u001B[38;5;28;01mwith\u001B[39;00m \u001B[43mjsonlines\u001B[49m\u001B[38;5;241;43m.\u001B[39;49m\u001B[43mopen\u001B[49m\u001B[43m(\u001B[49m\u001B[43mpath\u001B[49m\u001B[43m,\u001B[49m\u001B[43m \u001B[49m\u001B[38;5;124;43m'\u001B[39;49m\u001B[38;5;124;43mr\u001B[39;49m\u001B[38;5;124;43m'\u001B[39;49m\u001B[43m)\u001B[49m \u001B[38;5;28;01mas\u001B[39;00m r:\n\u001B[1;32m     80\u001B[0m         data \u001B[38;5;241m=\u001B[39m [obj \u001B[38;5;28;01mfor\u001B[39;00m obj \u001B[38;5;129;01min\u001B[39;00m r]\n\u001B[1;32m     81\u001B[0m     \u001B[38;5;28;01mreturn\u001B[39;00m data\n",
      "File \u001B[0;32m/opt/anaconda3/envs/llm_asp/lib/python3.9/site-packages/jsonlines/jsonlines.py:322\u001B[0m, in \u001B[0;36mopen\u001B[0;34m(name, mode, **kwargs)\u001B[0m\n\u001B[1;32m    320\u001B[0m \u001B[38;5;28;01mif\u001B[39;00m mode \u001B[38;5;129;01mnot\u001B[39;00m \u001B[38;5;129;01min\u001B[39;00m {\u001B[38;5;124m\"\u001B[39m\u001B[38;5;124mr\u001B[39m\u001B[38;5;124m\"\u001B[39m, \u001B[38;5;124m\"\u001B[39m\u001B[38;5;124mw\u001B[39m\u001B[38;5;124m\"\u001B[39m, \u001B[38;5;124m\"\u001B[39m\u001B[38;5;124ma\u001B[39m\u001B[38;5;124m\"\u001B[39m}:\n\u001B[1;32m    321\u001B[0m     \u001B[38;5;28;01mraise\u001B[39;00m \u001B[38;5;167;01mValueError\u001B[39;00m(\u001B[38;5;124m\"\u001B[39m\u001B[38;5;124m'\u001B[39m\u001B[38;5;124mmode\u001B[39m\u001B[38;5;124m'\u001B[39m\u001B[38;5;124m must be either \u001B[39m\u001B[38;5;124m'\u001B[39m\u001B[38;5;124mr\u001B[39m\u001B[38;5;124m'\u001B[39m\u001B[38;5;124m, \u001B[39m\u001B[38;5;124m'\u001B[39m\u001B[38;5;124mw\u001B[39m\u001B[38;5;124m'\u001B[39m\u001B[38;5;124m, or \u001B[39m\u001B[38;5;124m'\u001B[39m\u001B[38;5;124ma\u001B[39m\u001B[38;5;124m'\u001B[39m\u001B[38;5;124m\"\u001B[39m)\n\u001B[0;32m--> 322\u001B[0m fp \u001B[38;5;241m=\u001B[39m \u001B[43mbuiltins\u001B[49m\u001B[38;5;241;43m.\u001B[39;49m\u001B[43mopen\u001B[49m\u001B[43m(\u001B[49m\u001B[43mname\u001B[49m\u001B[43m,\u001B[49m\u001B[43m \u001B[49m\u001B[43mmode\u001B[49m\u001B[38;5;241;43m=\u001B[39;49m\u001B[43mmode\u001B[49m\u001B[43m \u001B[49m\u001B[38;5;241;43m+\u001B[39;49m\u001B[43m \u001B[49m\u001B[38;5;124;43m\"\u001B[39;49m\u001B[38;5;124;43mt\u001B[39;49m\u001B[38;5;124;43m\"\u001B[39;49m\u001B[43m,\u001B[49m\u001B[43m \u001B[49m\u001B[43mencoding\u001B[49m\u001B[38;5;241;43m=\u001B[39;49m\u001B[38;5;124;43m\"\u001B[39;49m\u001B[38;5;124;43mutf-8\u001B[39;49m\u001B[38;5;124;43m\"\u001B[39;49m\u001B[43m)\u001B[49m\n\u001B[1;32m    323\u001B[0m \u001B[38;5;28;01mif\u001B[39;00m mode \u001B[38;5;241m==\u001B[39m \u001B[38;5;124m\"\u001B[39m\u001B[38;5;124mr\u001B[39m\u001B[38;5;124m\"\u001B[39m:\n\u001B[1;32m    324\u001B[0m     instance \u001B[38;5;241m=\u001B[39m Reader(fp, \u001B[38;5;241m*\u001B[39m\u001B[38;5;241m*\u001B[39mkwargs)\n",
      "\u001B[0;31mFileNotFoundError\u001B[0m: [Errno 2] No such file or directory: '/Users/paveldolin/dev/research/current/reasoning_about_actions/pipeline/data/data_for_evaluation/with_random_sub/with_ramifications/few_shot_2/blocksworld/Instance_1.jsonl'"
     ]
    }
   ],
   "source": [
    "def fix_dict(result, domain):\n",
    "    if domain.is_random_sub:\n",
    "        if '[[' and ']]' in result[\"label\"]:\n",
    "            string_inside = result[\"label\"].replace('[[', '').replace(']]', '')\n",
    "            string_inside_subbed = domain.to_random_substring(string_inside)\n",
    "            result[\"label\"] = '[['+string_inside_subbed+']]'\n",
    "            \n",
    "        question_start = result[\"prompt\"].find('[QUESTION]')+len('[QUESTION]')\n",
    "        question_end = result[\"prompt\"].find('[ANSWER]')\n",
    "        string_inside_subbed = domain.to_random_substring(result[\"prompt\"][question_start:question_end])\n",
    "        result[\"prompt\"] = result[\"prompt\"][:question_start]+string_inside_subbed+result[\"prompt\"][question_end:]\n",
    "    return result\n",
    "\n",
    "\n",
    "data_for_eval_path = os.path.join(DATA_PATH, 'data_for_evaluation')\n",
    "for ramifications in [WITH_RAMIFICATIONS, WITHOUT_RAMIFICATIONS]:\n",
    "    for prompt_type in ['few_shot_1', 'few_shot_2', 'few_shot_3', 'zero_shot']:\n",
    "        for domain_class in ALL_DOMAIN_CLASSES:\n",
    "            domain_name = domain_class.DOMAIN_NAME\n",
    "            domain = domain_class(True, ramifications==ramifications)\n",
    "            for instance in [f'Instance_{i}' for i in range(1,11)]:\n",
    "                data_path = os.path.join(data_for_eval_path,WITH_RANDOM_SUB, ramifications, prompt_type, domain_name, instance+'.jsonl')\n",
    "                if not os.path.exists(data_path):\n",
    "                    print('Missing', data_path)\n",
    "                    continue\n",
    "                data = open_jsonl(data_path)\n",
    "                for i in range(len(data)):\n",
    "                    data[i] = fix_dict(data[i], domain)\n",
    "                save_jsonl(data, data_path)"
   ],
   "metadata": {
    "collapsed": false,
    "ExecuteTime": {
     "end_time": "2024-04-22T02:35:35.983854Z",
     "start_time": "2024-04-22T02:32:52.187133Z"
    }
   },
   "id": "a4f21636d2ddb0e7",
   "execution_count": 17
  },
  {
   "cell_type": "code",
   "outputs": [],
   "source": [],
   "metadata": {
    "collapsed": false
   },
   "id": "df39614d7fdd3926"
  }
 ],
 "metadata": {
  "kernelspec": {
   "display_name": "Python 3",
   "language": "python",
   "name": "python3"
  },
  "language_info": {
   "codemirror_mode": {
    "name": "ipython",
    "version": 2
   },
   "file_extension": ".py",
   "mimetype": "text/x-python",
   "name": "python",
   "nbconvert_exporter": "python",
   "pygments_lexer": "ipython2",
   "version": "2.7.6"
  }
 },
 "nbformat": 4,
 "nbformat_minor": 5
}
