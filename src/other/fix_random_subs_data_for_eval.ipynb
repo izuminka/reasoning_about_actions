{
 "cells": [
  {
   "cell_type": "code",
   "outputs": [],
   "source": [
    "import re\n",
    "import random\n",
    "import string\n",
    "\n",
    "import sys\n",
    "sys.path.insert(0,'../../')\n",
    "from src.common import *\n",
    "from src.questions_construction.domains import *"
   ],
   "metadata": {
    "collapsed": false,
    "ExecuteTime": {
     "end_time": "2024-04-16T23:17:25.587145Z",
     "start_time": "2024-04-16T23:17:25.568265Z"
    }
   },
   "id": "365442d2f1206b4e",
   "execution_count": 1
  },
  {
   "cell_type": "code",
   "outputs": [],
   "source": [
    "def fix_dict(result, domain):\n",
    "    if domain_class.is_random_sub and domain[OUT_OBJ_ANSWER_TYPE] == FREE_ANSWER_TYPE:\n",
    "        result[OUT_OBJ_QUESTION] = domain.to_random_substring(result[OUT_OBJ_QUESTION])\n",
    "        result[OUT_OBJ_ANSWER] = domain.to_random_substring(result[OUT_OBJ_ANSWER])\n",
    "    return result\n",
    "\n",
    "for random_sub in [WITH_RANDOM_SUB, WITH_RANDOM_SUB]:\n",
    "    for ramifications in [WITH_RAMIFICATIONS, WITHOUT_RAMIFICATIONS]:\n",
    "        for prompt_type in ['few_shot_1', 'few_shot_2', 'few_shot_3', 'zero_shot']:\n",
    "            for domain_class in ALL_DOMAIN_CLASSES:\n",
    "                domain_name = domain_class.DOMAIN_NAME\n",
    "                domain = domain_class(random_sub==WITH_RANDOM_SUB, ramifications==WITH_RAMIFICATIONS)\n",
    "                for instance in [f'Instance_{i}' for i in range(1,11)]:\n",
    "                    data_path = os.path.join(DATA_PATH, 'data_for_evaluation',random_sub, ramifications, prompt_type, domain_name, instance+'.jsonl')\n",
    "                    data = open_jsonl(data_path)\n",
    "                    for i in range(len(data)):\n",
    "                        data[i] = fix_dict(data[i], domain)\n",
    "                    save_jsonl(data, data_path)"
   ],
   "metadata": {
    "collapsed": false
   },
   "id": "a4f21636d2ddb0e7"
  }
 ],
 "metadata": {
  "kernelspec": {
   "display_name": "Python 3",
   "language": "python",
   "name": "python3"
  },
  "language_info": {
   "codemirror_mode": {
    "name": "ipython",
    "version": 2
   },
   "file_extension": ".py",
   "mimetype": "text/x-python",
   "name": "python",
   "nbconvert_exporter": "python",
   "pygments_lexer": "ipython2",
   "version": "2.7.6"
  }
 },
 "nbformat": 4,
 "nbformat_minor": 5
}
