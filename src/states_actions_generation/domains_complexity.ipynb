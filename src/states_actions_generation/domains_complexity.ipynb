{
 "cells": [
  {
   "cell_type": "code",
   "execution_count": 2,
   "id": "initial_id",
   "metadata": {
    "collapsed": true,
    "ExecuteTime": {
     "end_time": "2024-05-09T00:31:14.534036Z",
     "start_time": "2024-05-09T00:31:13.456176Z"
    }
   },
   "outputs": [],
   "source": [
    "import jsonlines\n",
    "import json\n",
    "import numpy as np\n",
    "from collections import defaultdict\n",
    "\n",
    "import sys, os\n",
    "sys.path.insert(0,'../')\n",
    "from src.common import *\n",
    "from src.questions_construction.domains import ALL_DOMAIN_CLASSES"
   ]
  },
  {
   "cell_type": "code",
   "outputs": [],
   "source": [
    "def num_fluents(data):\n",
    "    return len(data[0]['action_init']['fluents']) + len(data[0]['action_init']['neg_fluents'])"
   ],
   "metadata": {
    "collapsed": false,
    "ExecuteTime": {
     "end_time": "2024-05-09T00:31:15.810639Z",
     "start_time": "2024-05-09T00:31:15.807296Z"
    }
   },
   "id": "db5e3cec5ebfe899",
   "execution_count": 3
  },
  {
   "cell_type": "code",
   "outputs": [],
   "source": [
    "stats_by_domain = {}\n",
    "for domain in sorted([c.DOMAIN_NAME for c in ALL_DOMAIN_CLASSES]):\n",
    "    action_lengths = []\n",
    "    objects = []\n",
    "    by_instance = {}\n",
    "    for i in range(1, 11):\n",
    "        instance_name = f'Instance_{i}'\n",
    "        data = open_jsonl(f'{DATA_PATH}/states_actions/{domain}/{instance_name}.jsonl')\n",
    "        by_instance[instance_name] = num_fluents(data)\n",
    "    fluents_ls = list(by_instance.values())\n",
    "    stats_by_domain[domain] = {'mean': float(np.mean(fluents_ls)), \n",
    "                               'std': float(np.std(fluents_ls)), \n",
    "                               'min': int(np.min(fluents_ls)), \n",
    "                               'max': int(np.max(fluents_ls)),\n",
    "                               'count_by_instance': by_instance}\n",
    "\n",
    "# stats_by_domain = sorted(stats_by_domain.items(), key=lambda x: x[1]['mean'])\n",
    "with open('stats_by_domain.json', 'w') as f:\n",
    "    json.dump(stats_by_domain, f)"
   ],
   "metadata": {
    "collapsed": false,
    "ExecuteTime": {
     "end_time": "2024-05-09T00:38:17.351439Z",
     "start_time": "2024-05-09T00:38:06.398097Z"
    }
   },
   "id": "b2e10456385b5c3e",
   "execution_count": 16
  },
  {
   "cell_type": "code",
   "outputs": [
    {
     "data": {
      "text/plain": "[('grippers',\n  {'mean': 68.9,\n   'std': 21.897260102579047,\n   'min': 40,\n   'max': 109,\n   'count_by_instance': {'Instance_1': 49,\n    'Instance_2': 56,\n    'Instance_3': 64,\n    'Instance_4': 91,\n    'Instance_5': 109,\n    'Instance_6': 100,\n    'Instance_7': 40,\n    'Instance_8': 66,\n    'Instance_9': 54,\n    'Instance_10': 60}}),\n ('blocksworld',\n  {'mean': 83.5,\n   'std': 14.994999166388773,\n   'min': 64,\n   'max': 100,\n   'count_by_instance': {'Instance_1': 64,\n    'Instance_2': 100,\n    'Instance_3': 64,\n    'Instance_4': 81,\n    'Instance_5': 100,\n    'Instance_6': 81,\n    'Instance_7': 100,\n    'Instance_8': 64,\n    'Instance_9': 100,\n    'Instance_10': 81}}),\n ('zenotravel',\n  {'mean': 95.4,\n   'std': 7.418894796396563,\n   'min': 80,\n   'max': 102,\n   'count_by_instance': {'Instance_1': 80,\n    'Instance_2': 90,\n    'Instance_3': 102,\n    'Instance_4': 93,\n    'Instance_5': 93,\n    'Instance_6': 102,\n    'Instance_7': 102,\n    'Instance_8': 88,\n    'Instance_9': 102,\n    'Instance_10': 102}}),\n ('logistics',\n  {'mean': 96.0,\n   'std': 25.64371267971937,\n   'min': 48,\n   'max': 130,\n   'count_by_instance': {'Instance_1': 86,\n    'Instance_2': 48,\n    'Instance_3': 102,\n    'Instance_4': 96,\n    'Instance_5': 130,\n    'Instance_6': 112,\n    'Instance_7': 96,\n    'Instance_8': 56,\n    'Instance_9': 128,\n    'Instance_10': 106}}),\n ('mystery',\n  {'mean': 122.2,\n   'std': 18.197802065084673,\n   'min': 85,\n   'max': 146,\n   'count_by_instance': {'Instance_1': 131,\n    'Instance_2': 120,\n    'Instance_3': 104,\n    'Instance_4': 142,\n    'Instance_5': 107,\n    'Instance_6': 146,\n    'Instance_7': 136,\n    'Instance_8': 85,\n    'Instance_9': 133,\n    'Instance_10': 118}}),\n ('npuzzle',\n  {'mean': 153.0,\n   'std': 0.0,\n   'min': 153,\n   'max': 153,\n   'count_by_instance': {'Instance_1': 153,\n    'Instance_2': 153,\n    'Instance_3': 153,\n    'Instance_4': 153,\n    'Instance_5': 153,\n    'Instance_6': 153,\n    'Instance_7': 153,\n    'Instance_8': 153,\n    'Instance_9': 153,\n    'Instance_10': 153}}),\n ('satellite',\n  {'mean': 197.2,\n   'std': 54.19188131076462,\n   'min': 120,\n   'max': 317,\n   'count_by_instance': {'Instance_1': 214,\n    'Instance_2': 317,\n    'Instance_3': 225,\n    'Instance_4': 142,\n    'Instance_5': 120,\n    'Instance_6': 204,\n    'Instance_7': 161,\n    'Instance_8': 203,\n    'Instance_9': 151,\n    'Instance_10': 235}}),\n ('depots',\n  {'mean': 218.9,\n   'std': 25.327652871910576,\n   'min': 185,\n   'max': 249,\n   'count_by_instance': {'Instance_1': 206,\n    'Instance_2': 249,\n    'Instance_3': 249,\n    'Instance_4': 206,\n    'Instance_5': 206,\n    'Instance_6': 249,\n    'Instance_7': 249,\n    'Instance_8': 195,\n    'Instance_9': 195,\n    'Instance_10': 185}}),\n ('miconic',\n  {'mean': 238.4,\n   'std': 43.2601433192263,\n   'min': 161,\n   'max': 298,\n   'count_by_instance': {'Instance_1': 209,\n    'Instance_2': 244,\n    'Instance_3': 298,\n    'Instance_4': 261,\n    'Instance_5': 298,\n    'Instance_6': 161,\n    'Instance_7': 226,\n    'Instance_8': 190,\n    'Instance_9': 221,\n    'Instance_10': 276}}),\n ('spanner',\n  {'mean': 260.9,\n   'std': 15.12249979335427,\n   'min': 251,\n   'max': 284,\n   'count_by_instance': {'Instance_1': 251,\n    'Instance_2': 251,\n    'Instance_3': 251,\n    'Instance_4': 251,\n    'Instance_5': 251,\n    'Instance_6': 284,\n    'Instance_7': 284,\n    'Instance_8': 251,\n    'Instance_9': 251,\n    'Instance_10': 284}}),\n ('driverlog',\n  {'mean': 313.9,\n   'std': 95.79086595286631,\n   'min': 130,\n   'max': 499,\n   'count_by_instance': {'Instance_1': 335,\n    'Instance_2': 304,\n    'Instance_3': 274,\n    'Instance_4': 322,\n    'Instance_5': 326,\n    'Instance_6': 499,\n    'Instance_7': 434,\n    'Instance_8': 274,\n    'Instance_9': 130,\n    'Instance_10': 241}}),\n ('goldminer',\n  {'mean': 348.3,\n   'std': 174.43053058452813,\n   'min': 164,\n   'max': 779,\n   'count_by_instance': {'Instance_1': 524,\n    'Instance_2': 356,\n    'Instance_3': 319,\n    'Instance_4': 319,\n    'Instance_5': 319,\n    'Instance_6': 220,\n    'Instance_7': 164,\n    'Instance_8': 319,\n    'Instance_9': 779,\n    'Instance_10': 164}}),\n ('visitall',\n  {'mean': 604.2,\n   'std': 154.20622555526091,\n   'min': 420,\n   'max': 930,\n   'count_by_instance': {'Instance_1': 462,\n    'Instance_2': 812,\n    'Instance_3': 552,\n    'Instance_4': 552,\n    'Instance_5': 506,\n    'Instance_6': 930,\n    'Instance_7': 506,\n    'Instance_8': 600,\n    'Instance_9': 420,\n    'Instance_10': 702}})]"
     },
     "execution_count": 17,
     "metadata": {},
     "output_type": "execute_result"
    }
   ],
   "source": [
    "sorted(stats_by_domain.items(), key=lambda x: x[1]['mean'])"
   ],
   "metadata": {
    "collapsed": false,
    "ExecuteTime": {
     "end_time": "2024-05-09T00:38:19.559958Z",
     "start_time": "2024-05-09T00:38:19.548819Z"
    }
   },
   "id": "38da8399fbfebb12",
   "execution_count": 17
  },
  {
   "cell_type": "code",
   "outputs": [
    {
     "data": {
      "text/plain": "{'blocksworld': {'mean': 83.5,\n  'std': 14.994999166388773,\n  'min': 64,\n  'max': 100},\n 'depots': {'mean': 218.9, 'std': 25.327652871910576, 'min': 185, 'max': 249},\n 'driverlog': {'mean': 313.9,\n  'std': 95.79086595286631,\n  'min': 130,\n  'max': 499},\n 'goldminer': {'mean': 348.3,\n  'std': 174.43053058452813,\n  'min': 164,\n  'max': 779},\n 'grippers': {'mean': 68.9, 'std': 21.897260102579047, 'min': 40, 'max': 109},\n 'logistics': {'mean': 96.0, 'std': 25.64371267971937, 'min': 48, 'max': 130},\n 'miconic': {'mean': 238.4, 'std': 43.2601433192263, 'min': 161, 'max': 298},\n 'mystery': {'mean': 122.2, 'std': 18.197802065084673, 'min': 85, 'max': 146},\n 'npuzzle': {'mean': 153.0, 'std': 0.0, 'min': 153, 'max': 153},\n 'satellite': {'mean': 197.2,\n  'std': 54.19188131076462,\n  'min': 120,\n  'max': 317},\n 'spanner': {'mean': 260.9, 'std': 15.12249979335427, 'min': 251, 'max': 284},\n 'visitall': {'mean': 604.2,\n  'std': 154.20622555526091,\n  'min': 420,\n  'max': 930},\n 'zenotravel': {'mean': 95.4, 'std': 7.418894796396563, 'min': 80, 'max': 102}}"
     },
     "execution_count": 8,
     "metadata": {},
     "output_type": "execute_result"
    }
   ],
   "source": [
    "stats_by_domain"
   ],
   "metadata": {
    "collapsed": false,
    "ExecuteTime": {
     "end_time": "2024-05-09T00:33:23.448628Z",
     "start_time": "2024-05-09T00:33:23.442723Z"
    }
   },
   "id": "de9df9f2cdae4e0e",
   "execution_count": 8
  },
  {
   "cell_type": "code",
   "outputs": [],
   "source": [],
   "metadata": {
    "collapsed": false
   },
   "id": "cb660e3cfdd5b7c9"
  }
 ],
 "metadata": {
  "kernelspec": {
   "display_name": "Python 3",
   "language": "python",
   "name": "python3"
  },
  "language_info": {
   "codemirror_mode": {
    "name": "ipython",
    "version": 2
   },
   "file_extension": ".py",
   "mimetype": "text/x-python",
   "name": "python",
   "nbconvert_exporter": "python",
   "pygments_lexer": "ipython2",
   "version": "2.7.6"
  }
 },
 "nbformat": 4,
 "nbformat_minor": 5
}
