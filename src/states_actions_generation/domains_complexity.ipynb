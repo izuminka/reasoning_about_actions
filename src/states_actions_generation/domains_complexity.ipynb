{
 "cells": [
  {
   "cell_type": "code",
   "execution_count": 25,
   "id": "initial_id",
   "metadata": {
    "collapsed": true,
    "ExecuteTime": {
     "end_time": "2024-05-09T00:52:34.425942Z",
     "start_time": "2024-05-09T00:52:34.422993Z"
    }
   },
   "outputs": [],
   "source": [
    "import json\n",
    "import numpy as np\n",
    "\n",
    "import sys\n",
    "\n",
    "sys.path.insert(0, '../')\n",
    "from src.common import *\n",
    "from src.questions_construction.domains import DOMAIN_NAMES, ALL_DOMAIN_CLASSES_BY_NAME"
   ]
  },
  {
   "cell_type": "code",
   "outputs": [],
   "source": [
    "FLUENT_TYPES_KEYS = ['base', 'derived', 'persistent', 'static', 'total']\n",
    "\n",
    "def is_fluent_part_of_type(fluent, fluent_prefixes):\n",
    "    for prefix in fluent_prefixes:\n",
    "        if fluent.startswith(prefix):\n",
    "            return True\n",
    "    return False\n",
    "\n",
    "# def num_fluents(data):\n",
    "#     return len(data[0][INIT_ACTION_KEY][FLUENTS_KEY]) + len(data[0][INIT_ACTION_KEY][NEG_FLUENTS_KEY])\n",
    "\n",
    "\n",
    "def num_fluents(data, domain_name):\n",
    "    return {\n",
    "        'base': 2 * len([f for f in data[0][INIT_ACTION_KEY][FLUENTS_KEY] if \n",
    "                         is_fluent_part_of_type(f, ALL_DOMAIN_CLASSES_BY_NAME[domain_name].BASE_POS_FLUENTS)]),\n",
    "        'derived': 2 * len([f for f in data[0][INIT_ACTION_KEY][FLUENTS_KEY] if\n",
    "                             is_fluent_part_of_type(f, ALL_DOMAIN_CLASSES_BY_NAME[domain_name].DERIVED_POS_FLUENTS)]),\n",
    "        'persistent': 2 * len([f for f in data[0][INIT_ACTION_KEY][FLUENTS_KEY] if\n",
    "                                is_fluent_part_of_type(f, ALL_DOMAIN_CLASSES_BY_NAME[domain_name].PERSISTENT_POS_FLUENTS)]),\n",
    "        'static': 2 * len([f for f in data[0][INIT_ACTION_KEY][FLUENTS_KEY] if\n",
    "                            is_fluent_part_of_type(f, ALL_DOMAIN_CLASSES_BY_NAME[domain_name].STATIC_POS_FLUENTS)]),\n",
    "        'total': 2 * len(data[0][INIT_ACTION_KEY][FLUENTS_KEY])\n",
    "    }"
   ],
   "metadata": {
    "collapsed": false,
    "ExecuteTime": {
     "end_time": "2024-05-09T00:59:38.972162Z",
     "start_time": "2024-05-09T00:59:38.966333Z"
    }
   },
   "id": "db5e3cec5ebfe899",
   "execution_count": 33
  },
  {
   "cell_type": "code",
   "outputs": [],
   "source": [
    "stats_by_domain = {}\n",
    "for domain_name in sorted(DOMAIN_NAMES):\n",
    "    action_lengths = []\n",
    "    objects = []\n",
    "    by_instance = {}\n",
    "    for i in range(1, 11):\n",
    "        instance_name = f'Instance_{i}'\n",
    "        data = open_jsonl(f'{DATA_PATH}/states_actions/{domain_name}/{instance_name}.jsonl')\n",
    "        by_instance[instance_name] = num_fluents(data, domain_name)\n",
    "    stats_by_fluent_type = {}\n",
    "    for fluent_type in FLUENT_TYPES_KEYS:\n",
    "        fluents_ls = [f[fluent_type] for f in by_instance.values()]\n",
    "        stats_by_fluent_type[fluent_type] = {'mean': float(np.mean(fluents_ls)),\n",
    "                                             'std': float(np.std(fluents_ls)),\n",
    "                                             'min': int(np.min(fluents_ls)),\n",
    "                                             'max': int(np.max(fluents_ls)),\n",
    "                                             'count': fluents_ls}\n",
    "    stats_by_domain[domain_name] = stats_by_fluent_type\n",
    "with open('stats_by_domain.json', 'w') as f:\n",
    "    json.dump(stats_by_domain, f)"
   ],
   "metadata": {
    "collapsed": false,
    "ExecuteTime": {
     "end_time": "2024-05-09T00:59:51.138584Z",
     "start_time": "2024-05-09T00:59:39.950975Z"
    }
   },
   "id": "b2e10456385b5c3e",
   "execution_count": 34
  },
  {
   "cell_type": "code",
   "outputs": [
    {
     "data": {
      "text/plain": "{'blocksworld': {'base': {'mean': 5.4,\n   'std': 0.9165151389911681,\n   'min': 4,\n   'max': 6,\n   'count': [6, 6, 4, 6, 6, 4, 6, 4, 6, 6]},\n  'derived': {'mean': 7.4,\n   'std': 0.9165151389911681,\n   'min': 6,\n   'max': 8,\n   'count': [8, 8, 6, 8, 8, 6, 8, 6, 8, 8]},\n  'persistent': {'mean': 10.8,\n   'std': 1.32664991614216,\n   'min': 8,\n   'max': 12,\n   'count': [8, 12, 10, 10, 12, 12, 12, 10, 12, 10]},\n  'static': {'mean': 0.0,\n   'std': 0.0,\n   'min': 0,\n   'max': 0,\n   'count': [0, 0, 0, 0, 0, 0, 0, 0, 0, 0]},\n  'total': {'mean': 23.6,\n   'std': 2.33238075793812,\n   'min': 20,\n   'max': 26,\n   'count': [22, 26, 20, 24, 26, 22, 26, 20, 26, 24]}},\n 'depots': {'base': {'mean': 0.0,\n   'std': 0.0,\n   'min': 0,\n   'max': 0,\n   'count': [0, 0, 0, 0, 0, 0, 0, 0, 0, 0]},\n  'derived': {'mean': 24.4,\n   'std': 3.32264954516723,\n   'min': 20,\n   'max': 28,\n   'count': [24, 28, 28, 24, 24, 28, 28, 20, 20, 20]},\n  'persistent': {'mean': 47.4,\n   'std': 2.2,\n   'min': 44,\n   'max': 50,\n   'count': [46, 50, 50, 46, 46, 50, 50, 46, 46, 44]},\n  'static': {'mean': 0.0,\n   'std': 0.0,\n   'min': 0,\n   'max': 0,\n   'count': [0, 0, 0, 0, 0, 0, 0, 0, 0, 0]},\n  'total': {'mean': 71.8,\n   'std': 5.3999999999999995,\n   'min': 64,\n   'max': 78,\n   'count': [70, 78, 78, 70, 70, 78, 78, 66, 66, 64]}},\n 'driverlog': {'base': {'mean': 0.0,\n   'std': 0.0,\n   'min': 0,\n   'max': 0,\n   'count': [0, 0, 0, 0, 0, 0, 0, 0, 0, 0]},\n  'derived': {'mean': 4.4,\n   'std': 1.2,\n   'min': 2,\n   'max': 6,\n   'count': [4, 6, 4, 4, 6, 2, 6, 4, 4, 4]},\n  'persistent': {'mean': 17.2,\n   'std': 1.32664991614216,\n   'min': 16,\n   'max': 20,\n   'count': [18, 20, 16, 16, 16, 18, 16, 16, 18, 18]},\n  'static': {'mean': 69.6,\n   'std': 18.521339044464362,\n   'min': 36,\n   'max': 100,\n   'count': [84, 60, 64, 60, 76, 100, 96, 64, 36, 56]},\n  'total': {'mean': 91.2,\n   'std': 18.290981384277885,\n   'min': 58,\n   'max': 120,\n   'count': [106, 86, 84, 80, 98, 120, 118, 84, 58, 78]}},\n 'goldminer': {'base': {'mean': 27.8,\n   'std': 7.068238818828917,\n   'min': 20,\n   'max': 44,\n   'count': [36, 28, 28, 28, 28, 22, 20, 24, 44, 20]},\n  'derived': {'mean': 8.8,\n   'std': 2.0396078054371136,\n   'min': 6,\n   'max': 12,\n   'count': [10, 10, 8, 8, 8, 8, 6, 12, 12, 6]},\n  'persistent': {'mean': 4.0,\n   'std': 0.0,\n   'min': 4,\n   'max': 4,\n   'count': [4, 4, 4, 4, 4, 4, 4, 4, 4, 4]},\n  'static': {'mean': 90.4,\n   'std': 30.78701024783017,\n   'min': 52,\n   'max': 160,\n   'count': [124, 96, 88, 88, 88, 68, 52, 88, 160, 52]},\n  'total': {'mean': 131.0,\n   'std': 39.3674992855782,\n   'min': 82,\n   'max': 220,\n   'count': [174, 138, 128, 128, 128, 102, 82, 128, 220, 82]}},\n 'grippers': {'base': {'mean': 0.0,\n   'std': 0.0,\n   'min': 0,\n   'max': 0,\n   'count': [0, 0, 0, 0, 0, 0, 0, 0, 0, 0]},\n  'derived': {'mean': 5.2,\n   'std': 1.8330302779823358,\n   'min': 4,\n   'max': 8,\n   'count': [4, 4, 4, 8, 8, 8, 4, 4, 4, 4]},\n  'persistent': {'mean': 18.0,\n   'std': 2.8284271247461903,\n   'min': 14,\n   'max': 24,\n   'count': [14, 16, 16, 18, 18, 18, 16, 22, 18, 24]},\n  'static': {'mean': 0.0,\n   'std': 0.0,\n   'min': 0,\n   'max': 0,\n   'count': [0, 0, 0, 0, 0, 0, 0, 0, 0, 0]},\n  'total': {'mean': 23.2,\n   'std': 3.370459909270543,\n   'min': 18,\n   'max': 28,\n   'count': [18, 20, 20, 26, 26, 26, 20, 26, 22, 28]}},\n 'logistics': {'base': {'mean': 0.0,\n   'std': 0.0,\n   'min': 0,\n   'max': 0,\n   'count': [0, 0, 0, 0, 0, 0, 0, 0, 0, 0]},\n  'derived': {'mean': 0.0,\n   'std': 0.0,\n   'min': 0,\n   'max': 0,\n   'count': [0, 0, 0, 0, 0, 0, 0, 0, 0, 0]},\n  'persistent': {'mean': 18.0,\n   'std': 2.1908902300206643,\n   'min': 14,\n   'max': 22,\n   'count': [18, 14, 20, 20, 18, 22, 16, 16, 18, 18]},\n  'static': {'mean': 13.4,\n   'std': 3.8,\n   'min': 8,\n   'max': 20,\n   'count': [12, 8, 12, 12, 20, 12, 16, 8, 18, 16]},\n  'total': {'mean': 31.4,\n   'std': 4.737087712930805,\n   'min': 22,\n   'max': 38,\n   'count': [30, 22, 32, 32, 38, 34, 32, 24, 36, 34]}},\n 'miconic': {'base': {'mean': 0.0,\n   'std': 0.0,\n   'min': 0,\n   'max': 0,\n   'count': [0, 0, 0, 0, 0, 0, 0, 0, 0, 0]},\n  'derived': {'mean': 0.0,\n   'std': 0.0,\n   'min': 0,\n   'max': 0,\n   'count': [0, 0, 0, 0, 0, 0, 0, 0, 0, 0]},\n  'persistent': {'mean': 2.0,\n   'std': 0.0,\n   'min': 2,\n   'max': 2,\n   'count': [2, 2, 2, 2, 2, 2, 2, 2, 2, 2]},\n  'static': {'mean': 100.6,\n   'std': 18.591395859375382,\n   'min': 70,\n   'max': 126,\n   'count': [82, 96, 126, 108, 126, 70, 92, 84, 100, 122]},\n  'total': {'mean': 102.6,\n   'std': 18.591395859375382,\n   'min': 72,\n   'max': 128,\n   'count': [84, 98, 128, 110, 128, 72, 94, 86, 102, 124]}},\n 'mystery': {'base': {'mean': 0.0,\n   'std': 0.0,\n   'min': 0,\n   'max': 0,\n   'count': [0, 0, 0, 0, 0, 0, 0, 0, 0, 0]},\n  'derived': {'mean': 0.0,\n   'std': 0.0,\n   'min': 0,\n   'max': 0,\n   'count': [0, 0, 0, 0, 0, 0, 0, 0, 0, 0]},\n  'persistent': {'mean': 30.6,\n   'std': 2.6907248094147422,\n   'min': 26,\n   'max': 34,\n   'count': [30, 30, 34, 32, 26, 34, 30, 28, 28, 34]},\n  'static': {'mean': 21.0,\n   'std': 2.04939015319192,\n   'min': 18,\n   'max': 24,\n   'count': [22, 20, 18, 22, 20, 22, 24, 18, 24, 20]},\n  'total': {'mean': 51.6,\n   'std': 3.2,\n   'min': 46,\n   'max': 56,\n   'count': [52, 50, 52, 54, 46, 56, 54, 46, 52, 54]}},\n 'npuzzle': {'base': {'mean': 0.0,\n   'std': 0.0,\n   'min': 0,\n   'max': 0,\n   'count': [0, 0, 0, 0, 0, 0, 0, 0, 0, 0]},\n  'derived': {'mean': 2.0,\n   'std': 0.0,\n   'min': 2,\n   'max': 2,\n   'count': [2, 2, 2, 2, 2, 2, 2, 2, 2, 2]},\n  'persistent': {'mean': 16.0,\n   'std': 0.0,\n   'min': 16,\n   'max': 16,\n   'count': [16, 16, 16, 16, 16, 16, 16, 16, 16, 16]},\n  'static': {'mean': 48.0,\n   'std': 0.0,\n   'min': 48,\n   'max': 48,\n   'count': [48, 48, 48, 48, 48, 48, 48, 48, 48, 48]},\n  'total': {'mean': 66.0,\n   'std': 0.0,\n   'min': 66,\n   'max': 66,\n   'count': [66, 66, 66, 66, 66, 66, 66, 66, 66, 66]}},\n 'satellite': {'base': {'mean': 0.0,\n   'std': 0.0,\n   'min': 0,\n   'max': 0,\n   'count': [0, 0, 0, 0, 0, 0, 0, 0, 0, 0]},\n  'derived': {'mean': 5.0,\n   'std': 1.0,\n   'min': 4,\n   'max': 6,\n   'count': [4, 4, 4, 4, 4, 6, 6, 6, 6, 6]},\n  'persistent': {'mean': 5.0,\n   'std': 1.0,\n   'min': 4,\n   'max': 6,\n   'count': [4, 4, 4, 4, 4, 6, 6, 6, 6, 6]},\n  'static': {'mean': 39.8,\n   'std': 9.4424573072903,\n   'min': 22,\n   'max': 52,\n   'count': [46, 46, 46, 22, 26, 46, 52, 38, 32, 44]},\n  'total': {'mean': 49.8,\n   'std': 10.17644338656684,\n   'min': 30,\n   'max': 64,\n   'count': [54, 54, 54, 30, 34, 58, 64, 50, 44, 56]}},\n 'spanner': {'base': {'mean': 10.0,\n   'std': 0.0,\n   'min': 10,\n   'max': 10,\n   'count': [10, 10, 10, 10, 10, 10, 10, 10, 10, 10]},\n  'derived': {'mean': 20.0,\n   'std': 0.0,\n   'min': 20,\n   'max': 20,\n   'count': [20, 20, 20, 20, 20, 20, 20, 20, 20, 20]},\n  'persistent': {'mean': 22.0,\n   'std': 0.0,\n   'min': 22,\n   'max': 22,\n   'count': [22, 22, 22, 22, 22, 22, 22, 22, 22, 22]},\n  'static': {'mean': 20.6,\n   'std': 0.9165151389911681,\n   'min': 20,\n   'max': 22,\n   'count': [20, 20, 20, 20, 20, 22, 22, 20, 20, 22]},\n  'total': {'mean': 62.6,\n   'std': 0.9165151389911681,\n   'min': 62,\n   'max': 64,\n   'count': [62, 62, 62, 62, 62, 64, 64, 62, 62, 64]}},\n 'visitall': {'base': {'mean': 0.0,\n   'std': 0.0,\n   'min': 0,\n   'max': 0,\n   'count': [0, 0, 0, 0, 0, 0, 0, 0, 0, 0]},\n  'derived': {'mean': 2.0,\n   'std': 0.0,\n   'min': 2,\n   'max': 2,\n   'count': [2, 2, 2, 2, 2, 2, 2, 2, 2, 2]},\n  'persistent': {'mean': 2.0,\n   'std': 0.0,\n   'min': 2,\n   'max': 2,\n   'count': [2, 2, 2, 2, 2, 2, 2, 2, 2, 2]},\n  'static': {'mean': 136.8,\n   'std': 18.82976367350371,\n   'min': 108,\n   'max': 168,\n   'count': [120, 168, 136, 144, 128, 168, 132, 120, 108, 144]},\n  'total': {'mean': 140.8,\n   'std': 18.82976367350371,\n   'min': 112,\n   'max': 172,\n   'count': [124, 172, 140, 148, 132, 172, 136, 124, 112, 148]}},\n 'zenotravel': {'base': {'mean': 2.0,\n   'std': 0.0,\n   'min': 2,\n   'max': 2,\n   'count': [2, 2, 2, 2, 2, 2, 2, 2, 2, 2]},\n  'derived': {'mean': 0.0,\n   'std': 0.0,\n   'min': 0,\n   'max': 0,\n   'count': [0, 0, 0, 0, 0, 0, 0, 0, 0, 0]},\n  'persistent': {'mean': 17.2,\n   'std': 1.3266499161421599,\n   'min': 14,\n   'max': 18,\n   'count': [16, 14, 18, 18, 18, 18, 18, 16, 18, 18]},\n  'static': {'mean': 12.0,\n   'std': 0.0,\n   'min': 12,\n   'max': 12,\n   'count': [12, 12, 12, 12, 12, 12, 12, 12, 12, 12]},\n  'total': {'mean': 31.2,\n   'std': 1.3266499161421599,\n   'min': 28,\n   'max': 32,\n   'count': [30, 28, 32, 32, 32, 32, 32, 30, 32, 32]}}}"
     },
     "execution_count": 35,
     "metadata": {},
     "output_type": "execute_result"
    }
   ],
   "source": [
    "# sorted(stats_by_domain.items(), key=lambda x: x[1]['mean'])\n",
    "stats_by_domain"
   ],
   "metadata": {
    "collapsed": false,
    "ExecuteTime": {
     "end_time": "2024-05-09T00:59:53.059825Z",
     "start_time": "2024-05-09T00:59:53.032780Z"
    }
   },
   "id": "38da8399fbfebb12",
   "execution_count": 35
  },
  {
   "cell_type": "code",
   "outputs": [],
   "source": [],
   "metadata": {
    "collapsed": false
   },
   "id": "82be1af6358341a3"
  }
 ],
 "metadata": {
  "kernelspec": {
   "display_name": "Python 3",
   "language": "python",
   "name": "python3"
  },
  "language_info": {
   "codemirror_mode": {
    "name": "ipython",
    "version": 2
   },
   "file_extension": ".py",
   "mimetype": "text/x-python",
   "name": "python",
   "nbconvert_exporter": "python",
   "pygments_lexer": "ipython2",
   "version": "2.7.6"
  }
 },
 "nbformat": 4,
 "nbformat_minor": 5
}
