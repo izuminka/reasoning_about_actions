{
 "cells": [
  {
   "cell_type": "code",
   "execution_count": 9,
   "id": "initial_id",
   "metadata": {
    "collapsed": true,
    "ExecuteTime": {
     "end_time": "2024-04-12T22:05:52.009849Z",
     "start_time": "2024-04-12T22:05:51.975109Z"
    }
   },
   "outputs": [],
   "source": [
    "import sys, os\n",
    "sys.path.insert(0,'../')"
   ]
  },
  {
   "cell_type": "code",
   "outputs": [],
   "source": [
    "import jsonlines\n",
    "import numpy as np\n",
    "\n",
    "from src.questions_construction.domains import ALL_DOMAIN_CLASSES\n",
    "\n",
    "def open_jsonl(path):\n",
    "    with jsonlines.open(path, 'r') as r:\n",
    "        data = [obj for obj in r]\n",
    "    return data"
   ],
   "metadata": {
    "collapsed": false,
    "ExecuteTime": {
     "end_time": "2024-04-12T22:05:52.945719Z",
     "start_time": "2024-04-12T22:05:52.937509Z"
    }
   },
   "id": "fe591fb3f99bf2bf",
   "execution_count": 10
  },
  {
   "cell_type": "code",
   "outputs": [],
   "source": [
    "domain = 'blocksworld'\n",
    "data = open_jsonl(f'/Users/paveldolin/dev/research/current/reasoning_about_actions/pipeline/data/states_actions/{domain}/Instance_1.jsonl')"
   ],
   "metadata": {
    "collapsed": false,
    "ExecuteTime": {
     "end_time": "2024-04-12T22:05:54.384843Z",
     "start_time": "2024-04-12T22:05:54.370804Z"
    }
   },
   "id": "9ed3c82efc068374",
   "execution_count": 11
  },
  {
   "cell_type": "code",
   "outputs": [
    {
     "data": {
      "text/plain": "64"
     },
     "execution_count": 18,
     "metadata": {},
     "output_type": "execute_result"
    }
   ],
   "source": [],
   "metadata": {
    "collapsed": false,
    "ExecuteTime": {
     "end_time": "2024-04-12T22:11:07.443769Z",
     "start_time": "2024-04-12T22:11:07.421784Z"
    }
   },
   "id": "2483527e9a450dad",
   "execution_count": 18
  },
  {
   "cell_type": "code",
   "outputs": [
    {
     "data": {
      "text/plain": "{'part_of_plan?': False,\n 'fluents': [],\n 'neg_fluents': [],\n 'executable?': False}"
     },
     "execution_count": 17,
     "metadata": {},
     "output_type": "execute_result"
    }
   ],
   "source": [],
   "metadata": {
    "collapsed": false,
    "ExecuteTime": {
     "end_time": "2024-04-12T22:07:15.247348Z",
     "start_time": "2024-04-12T22:07:15.241209Z"
    }
   },
   "id": "8c4d704c34ac4aea",
   "execution_count": 17
  },
  {
   "cell_type": "code",
   "outputs": [
    {
     "name": "stdout",
     "output_type": "stream",
     "text": [
      "blocksworld\n",
      "{'mean': 83.5, 'std': 14.994999166388773}\n",
      "\n",
      "depots\n",
      "{'mean': 218.9, 'std': 25.327652871910576}\n",
      "\n",
      "driverlog\n",
      "{'mean': 313.9, 'std': 95.79086595286631}\n",
      "\n",
      "goldminer\n",
      "{'mean': 348.3, 'std': 174.43053058452813}\n",
      "\n",
      "grippers\n",
      "{'mean': 68.9, 'std': 21.897260102579047}\n",
      "\n",
      "logistics\n",
      "{'mean': 96.0, 'std': 25.64371267971937}\n",
      "\n",
      "miconic\n",
      "{'mean': 238.4, 'std': 43.2601433192263}\n",
      "\n",
      "mystery\n",
      "{'mean': 122.2, 'std': 18.197802065084673}\n",
      "\n",
      "npuzzle\n",
      "{'mean': 153.0, 'std': 0.0}\n",
      "\n",
      "satellite\n",
      "{'mean': 197.2, 'std': 54.19188131076462}\n",
      "\n",
      "spanner\n",
      "{'mean': 260.9, 'std': 15.12249979335427}\n",
      "\n",
      "visitall\n",
      "{'mean': 604.2, 'std': 154.20622555526091}\n",
      "\n",
      "zenotravel\n",
      "{'mean': 95.4, 'std': 7.418894796396563}\n"
     ]
    }
   ],
   "source": [
    "# domain = ALL_DOMAIN_CLASSES[2].DOMAIN_NAME\n",
    "from collections import defaultdict\n",
    "\n",
    "def num_fluents(data):\n",
    "    return len(data[0]['action_init']['fluents']) + len(data[0]['action_init']['neg_fluents'])\n",
    "\n",
    "\n",
    "fluent_count_by_domain = defaultdict(list)\n",
    "stats_by_domain = {}\n",
    "for domain in sorted([c.DOMAIN_NAME for c in ALL_DOMAIN_CLASSES]):\n",
    "    action_lengths = []\n",
    "    objects = []\n",
    "    for i in range(1, 11):\n",
    "        data = open_jsonl(f'/Users/paveldolin/dev/research/current/reasoning_about_actions/pipeline/data/states_actions/{domain}/Instance_{i}.jsonl')\n",
    "        fluent_count_by_domain[domain].append(num_fluents(data))\n",
    "    mean, std = np.mean(fluent_count_by_domain[domain]), np.std(fluent_count_by_domain[domain])\n",
    "    stats_by_domain[domain] = {'mean': mean, 'std': std}\n",
    "    \n",
    "    print(domain)\n",
    "    print(stats_by_domain[domain])\n",
    "    # print(objects)\n",
    "    # print(f'{round(mean, 2)} ± {round(std, 2)}')\n",
    "    print('\\n')"
   ],
   "metadata": {
    "collapsed": false,
    "ExecuteTime": {
     "end_time": "2024-04-12T22:27:24.639310Z",
     "start_time": "2024-04-12T22:27:10.715657Z"
    }
   },
   "id": "b2e10456385b5c3e",
   "execution_count": 20
  },
  {
   "cell_type": "code",
   "outputs": [
    {
     "data": {
      "text/plain": "[('grippers', {'mean': 68.9, 'std': 21.897260102579047}),\n ('blocksworld', {'mean': 83.5, 'std': 14.994999166388773}),\n ('zenotravel', {'mean': 95.4, 'std': 7.418894796396563}),\n ('logistics', {'mean': 96.0, 'std': 25.64371267971937}),\n ('mystery', {'mean': 122.2, 'std': 18.197802065084673}),\n ('npuzzle', {'mean': 153.0, 'std': 0.0}),\n ('satellite', {'mean': 197.2, 'std': 54.19188131076462}),\n ('depots', {'mean': 218.9, 'std': 25.327652871910576}),\n ('miconic', {'mean': 238.4, 'std': 43.2601433192263}),\n ('spanner', {'mean': 260.9, 'std': 15.12249979335427}),\n ('driverlog', {'mean': 313.9, 'std': 95.79086595286631}),\n ('goldminer', {'mean': 348.3, 'std': 174.43053058452813}),\n ('visitall', {'mean': 604.2, 'std': 154.20622555526091})]"
     },
     "execution_count": 29,
     "metadata": {},
     "output_type": "execute_result"
    }
   ],
   "source": [
    "sorted(stats_by_domain.items(), key=lambda x: x[1]['mean'])"
   ],
   "metadata": {
    "collapsed": false,
    "ExecuteTime": {
     "end_time": "2024-04-12T22:29:52.504966Z",
     "start_time": "2024-04-12T22:29:52.490646Z"
    }
   },
   "id": "dee84648af44825c",
   "execution_count": 29
  },
  {
   "cell_type": "code",
   "outputs": [
    {
     "data": {
      "text/plain": "83.5"
     },
     "execution_count": 28,
     "metadata": {},
     "output_type": "execute_result"
    }
   ],
   "source": [
    "list(stats_by_domain.items())[0][1]['mean']"
   ],
   "metadata": {
    "collapsed": false,
    "ExecuteTime": {
     "end_time": "2024-04-12T22:29:41.602767Z",
     "start_time": "2024-04-12T22:29:41.597083Z"
    }
   },
   "id": "6e6bcb22f130b8c3",
   "execution_count": 28
  },
  {
   "cell_type": "code",
   "outputs": [],
   "source": [],
   "metadata": {
    "collapsed": false
   },
   "id": "7e40e227252eb9e4"
  }
 ],
 "metadata": {
  "kernelspec": {
   "display_name": "Python 3",
   "language": "python",
   "name": "python3"
  },
  "language_info": {
   "codemirror_mode": {
    "name": "ipython",
    "version": 2
   },
   "file_extension": ".py",
   "mimetype": "text/x-python",
   "name": "python",
   "nbconvert_exporter": "python",
   "pygments_lexer": "ipython2",
   "version": "2.7.6"
  }
 },
 "nbformat": 4,
 "nbformat_minor": 5
}
