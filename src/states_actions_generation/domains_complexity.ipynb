{
 "cells": [
  {
   "cell_type": "code",
   "execution_count": 25,
   "id": "initial_id",
   "metadata": {
    "collapsed": true,
    "ExecuteTime": {
     "end_time": "2024-05-09T00:52:34.425942Z",
     "start_time": "2024-05-09T00:52:34.422993Z"
    }
   },
   "outputs": [],
   "source": [
    "import json\n",
    "import numpy as np\n",
    "\n",
    "from collections import defaultdict\n",
    "import sys\n",
    "\n",
    "sys.path.insert(0, '../')\n",
    "from src.common import *\n",
    "from src.questions_construction.domains import DOMAIN_NAMES, ALL_DOMAIN_CLASSES_BY_NAME"
   ]
  },
  {
   "cell_type": "code",
   "outputs": [],
   "source": [
    "FLUENT_TYPES_KEYS = ['base', 'derived', 'persistent', 'static', 'total']\n",
    "\n",
    "def is_fluent_part_of_type(fluent, fluent_prefixes):\n",
    "    for prefix in fluent_prefixes:\n",
    "        if fluent.startswith(prefix):\n",
    "            return True\n",
    "    return False\n",
    "\n",
    "def num_fluents(data, domain_name):\n",
    "    fluents_all = data[0][INIT_ACTION_KEY][FLUENTS_KEY] + data[0][INIT_ACTION_KEY][NEG_FLUENTS_KEY]\n",
    "    \n",
    "    results = {}\n",
    "    results['total'] = len(fluents_all)\n",
    "    results['base'] = len([f for f in fluents_all if is_fluent_part_of_type(f, ALL_DOMAIN_CLASSES_BY_NAME[domain_name].BASE_FLUENTS)])\n",
    "    results['derived'] = len([f for f in fluents_all if is_fluent_part_of_type(f, ALL_DOMAIN_CLASSES_BY_NAME[domain_name].DERIVED_FLUENTS)])\n",
    "    results['persistent'] = len([f for f in fluents_all if is_fluent_part_of_type(f, ALL_DOMAIN_CLASSES_BY_NAME[domain_name].PERSISTENT_FLUENTS)])\n",
    "    results['static'] = len([f for f in fluents_all if is_fluent_part_of_type(f, ALL_DOMAIN_CLASSES_BY_NAME[domain_name].STATIC_FLUENTS)])\n",
    "    return results\n"
   ],
   "metadata": {
    "collapsed": false,
    "ExecuteTime": {
     "end_time": "2024-05-09T01:46:37.485693Z",
     "start_time": "2024-05-09T01:46:37.426156Z"
    }
   },
   "id": "db5e3cec5ebfe899",
   "execution_count": 42
  },
  {
   "cell_type": "code",
   "outputs": [],
   "source": [
    "stats_by_domain = {}\n",
    "for domain_name in sorted(DOMAIN_NAMES):\n",
    "    action_lengths = []\n",
    "    objects = []\n",
    "    by_instance = {}\n",
    "    for i in range(1, 11):\n",
    "        instance_name = f'Instance_{i}'\n",
    "        data = open_jsonl(f'{DATA_PATH}/states_actions/{domain_name}/{instance_name}.jsonl')\n",
    "        by_instance[instance_name] = num_fluents(data, domain_name)\n",
    "    stats_by_fluent_type = {}\n",
    "    for fluent_type in FLUENT_TYPES_KEYS:\n",
    "        fluents_count_by_instance = {k: f[fluent_type] for k, f in by_instance.items()}\n",
    "        fluents_count = list(fluents_count_by_instance.values())\n",
    "        stats_by_fluent_type[fluent_type] = {'mean': float(np.mean(fluents_count)),\n",
    "                                             'std': float(np.std(fluents_count)),\n",
    "                                             'min': int(np.min(fluents_count)),\n",
    "                                             'max': int(np.max(fluents_count)),\n",
    "                                             'count_by_instance': fluents_count_by_instance}\n",
    "    stats_by_domain[domain_name] = stats_by_fluent_type\n",
    "with open('fluents_by_domain.json', 'w') as f:\n",
    "    json.dump(stats_by_domain, f)"
   ],
   "metadata": {
    "collapsed": false,
    "ExecuteTime": {
     "end_time": "2024-05-09T01:46:52.313796Z",
     "start_time": "2024-05-09T01:46:39.447392Z"
    }
   },
   "id": "b2e10456385b5c3e",
   "execution_count": 43
  },
  {
   "cell_type": "code",
   "outputs": [
    {
     "data": {
      "text/plain": "{'blocksworld': {'base': {'mean': 8.1,\n   'std': 0.8306623862918076,\n   'min': 7,\n   'max': 9,\n   'count_by_instance': {'Instance_1': 7,\n    'Instance_2': 9,\n    'Instance_3': 7,\n    'Instance_4': 8,\n    'Instance_5': 9,\n    'Instance_6': 8,\n    'Instance_7': 9,\n    'Instance_8': 7,\n    'Instance_9': 9,\n    'Instance_10': 8}},\n  'derived': {'mean': 9.1,\n   'std': 0.8306623862918076,\n   'min': 8,\n   'max': 10,\n   'count_by_instance': {'Instance_1': 8,\n    'Instance_2': 10,\n    'Instance_3': 8,\n    'Instance_4': 9,\n    'Instance_5': 10,\n    'Instance_6': 9,\n    'Instance_7': 10,\n    'Instance_8': 8,\n    'Instance_9': 10,\n    'Instance_10': 9}},\n  'persistent': {'mean': 66.3,\n   'std': 13.334541611919024,\n   'min': 49,\n   'max': 81,\n   'count_by_instance': {'Instance_1': 49,\n    'Instance_2': 81,\n    'Instance_3': 49,\n    'Instance_4': 64,\n    'Instance_5': 81,\n    'Instance_6': 64,\n    'Instance_7': 81,\n    'Instance_8': 49,\n    'Instance_9': 81,\n    'Instance_10': 64}},\n  'static': {'mean': 0.0,\n   'std': 0.0,\n   'min': 0,\n   'max': 0,\n   'count_by_instance': {'Instance_1': 0,\n    'Instance_2': 0,\n    'Instance_3': 0,\n    'Instance_4': 0,\n    'Instance_5': 0,\n    'Instance_6': 0,\n    'Instance_7': 0,\n    'Instance_8': 0,\n    'Instance_9': 0,\n    'Instance_10': 0}},\n  'total': {'mean': 83.5,\n   'std': 14.994999166388773,\n   'min': 64,\n   'max': 100,\n   'count_by_instance': {'Instance_1': 64,\n    'Instance_2': 100,\n    'Instance_3': 64,\n    'Instance_4': 81,\n    'Instance_5': 100,\n    'Instance_6': 81,\n    'Instance_7': 100,\n    'Instance_8': 64,\n    'Instance_9': 100,\n    'Instance_10': 81}}},\n 'depots': {'base': {'mean': 0.0,\n   'std': 0.0,\n   'min': 0,\n   'max': 0,\n   'count_by_instance': {'Instance_1': 0,\n    'Instance_2': 0,\n    'Instance_3': 0,\n    'Instance_4': 0,\n    'Instance_5': 0,\n    'Instance_6': 0,\n    'Instance_7': 0,\n    'Instance_8': 0,\n    'Instance_9': 0,\n    'Instance_10': 0}},\n  'derived': {'mean': 16.5,\n   'std': 1.284523257866513,\n   'min': 15,\n   'max': 18,\n   'count_by_instance': {'Instance_1': 16,\n    'Instance_2': 18,\n    'Instance_3': 18,\n    'Instance_4': 16,\n    'Instance_5': 16,\n    'Instance_6': 18,\n    'Instance_7': 18,\n    'Instance_8': 15,\n    'Instance_9': 15,\n    'Instance_10': 15}},\n  'persistent': {'mean': 202.4,\n   'std': 24.05493712317702,\n   'min': 170,\n   'max': 231,\n   'count_by_instance': {'Instance_1': 190,\n    'Instance_2': 231,\n    'Instance_3': 231,\n    'Instance_4': 190,\n    'Instance_5': 190,\n    'Instance_6': 231,\n    'Instance_7': 231,\n    'Instance_8': 180,\n    'Instance_9': 180,\n    'Instance_10': 170}},\n  'static': {'mean': 0.0,\n   'std': 0.0,\n   'min': 0,\n   'max': 0,\n   'count_by_instance': {'Instance_1': 0,\n    'Instance_2': 0,\n    'Instance_3': 0,\n    'Instance_4': 0,\n    'Instance_5': 0,\n    'Instance_6': 0,\n    'Instance_7': 0,\n    'Instance_8': 0,\n    'Instance_9': 0,\n    'Instance_10': 0}},\n  'total': {'mean': 218.9,\n   'std': 25.327652871910576,\n   'min': 185,\n   'max': 249,\n   'count_by_instance': {'Instance_1': 206,\n    'Instance_2': 249,\n    'Instance_3': 249,\n    'Instance_4': 206,\n    'Instance_5': 206,\n    'Instance_6': 249,\n    'Instance_7': 249,\n    'Instance_8': 195,\n    'Instance_9': 195,\n    'Instance_10': 185}}},\n 'driverlog': {'base': {'mean': 0.0,\n   'std': 0.0,\n   'min': 0,\n   'max': 0,\n   'count_by_instance': {'Instance_1': 0,\n    'Instance_2': 0,\n    'Instance_3': 0,\n    'Instance_4': 0,\n    'Instance_5': 0,\n    'Instance_6': 0,\n    'Instance_7': 0,\n    'Instance_8': 0,\n    'Instance_9': 0,\n    'Instance_10': 0}},\n  'derived': {'mean': 2.2,\n   'std': 0.6,\n   'min': 1,\n   'max': 3,\n   'count_by_instance': {'Instance_1': 2,\n    'Instance_2': 3,\n    'Instance_3': 2,\n    'Instance_4': 2,\n    'Instance_5': 3,\n    'Instance_6': 1,\n    'Instance_7': 3,\n    'Instance_8': 2,\n    'Instance_9': 2,\n    'Instance_10': 2}},\n  'persistent': {'mean': 103.7,\n   'std': 17.821616088334974,\n   'min': 68,\n   'max': 134,\n   'count_by_instance': {'Instance_1': 113,\n    'Instance_2': 121,\n    'Instance_3': 92,\n    'Instance_4': 100,\n    'Instance_5': 103,\n    'Instance_6': 134,\n    'Instance_7': 119,\n    'Instance_8': 92,\n    'Instance_9': 68,\n    'Instance_10': 95}},\n  'static': {'mean': 208.0,\n   'std': 79.95998999499687,\n   'min': 60,\n   'max': 364,\n   'count_by_instance': {'Instance_1': 220,\n    'Instance_2': 180,\n    'Instance_3': 180,\n    'Instance_4': 220,\n    'Instance_5': 220,\n    'Instance_6': 364,\n    'Instance_7': 312,\n    'Instance_8': 180,\n    'Instance_9': 60,\n    'Instance_10': 144}},\n  'total': {'mean': 313.9,\n   'std': 95.79086595286631,\n   'min': 130,\n   'max': 499,\n   'count_by_instance': {'Instance_1': 335,\n    'Instance_2': 304,\n    'Instance_3': 274,\n    'Instance_4': 322,\n    'Instance_5': 326,\n    'Instance_6': 499,\n    'Instance_7': 434,\n    'Instance_8': 274,\n    'Instance_9': 130,\n    'Instance_10': 241}}},\n 'goldminer': {'base': {'mean': 61.2,\n   'std': 17.16275036233995,\n   'min': 40,\n   'max': 100,\n   'count_by_instance': {'Instance_1': 80,\n    'Instance_2': 64,\n    'Instance_3': 60,\n    'Instance_4': 60,\n    'Instance_5': 60,\n    'Instance_6': 48,\n    'Instance_7': 40,\n    'Instance_8': 60,\n    'Instance_9': 100,\n    'Instance_10': 40}},\n  'derived': {'mean': 16.3,\n   'std': 4.290687590584987,\n   'min': 11,\n   'max': 26,\n   'count_by_instance': {'Instance_1': 21,\n    'Instance_2': 17,\n    'Instance_3': 16,\n    'Instance_4': 16,\n    'Instance_5': 16,\n    'Instance_6': 13,\n    'Instance_7': 11,\n    'Instance_8': 16,\n    'Instance_9': 26,\n    'Instance_10': 11}},\n  'persistent': {'mean': 30.6,\n   'std': 8.581375181169975,\n   'min': 20,\n   'max': 50,\n   'count_by_instance': {'Instance_1': 40,\n    'Instance_2': 32,\n    'Instance_3': 30,\n    'Instance_4': 30,\n    'Instance_5': 30,\n    'Instance_6': 24,\n    'Instance_7': 20,\n    'Instance_8': 30,\n    'Instance_9': 50,\n    'Instance_10': 20}},\n  'static': {'mean': 237.2,\n   'std': 144.70162404064442,\n   'min': 90,\n   'max': 600,\n   'count_by_instance': {'Instance_1': 380,\n    'Instance_2': 240,\n    'Instance_3': 210,\n    'Instance_4': 210,\n    'Instance_5': 210,\n    'Instance_6': 132,\n    'Instance_7': 90,\n    'Instance_8': 210,\n    'Instance_9': 600,\n    'Instance_10': 90}},\n  'total': {'mean': 348.3,\n   'std': 174.43053058452813,\n   'min': 164,\n   'max': 779,\n   'count_by_instance': {'Instance_1': 524,\n    'Instance_2': 356,\n    'Instance_3': 319,\n    'Instance_4': 319,\n    'Instance_5': 319,\n    'Instance_6': 220,\n    'Instance_7': 164,\n    'Instance_8': 319,\n    'Instance_9': 779,\n    'Instance_10': 164}}},\n 'grippers': {'base': {'mean': 28.0,\n   'std': 18.547236990991408,\n   'min': 12,\n   'max': 56,\n   'count_by_instance': {'Instance_1': 12,\n    'Instance_2': 14,\n    'Instance_3': 14,\n    'Instance_4': 56,\n    'Instance_5': 56,\n    'Instance_6': 56,\n    'Instance_7': 14,\n    'Instance_8': 20,\n    'Instance_9': 16,\n    'Instance_10': 22}},\n  'derived': {'mean': 3.8,\n   'std': 2.749545416973504,\n   'min': 2,\n   'max': 8,\n   'count_by_instance': {'Instance_1': 2,\n    'Instance_2': 2,\n    'Instance_3': 2,\n    'Instance_4': 8,\n    'Instance_5': 8,\n    'Instance_6': 8,\n    'Instance_7': 2,\n    'Instance_8': 2,\n    'Instance_9': 2,\n    'Instance_10': 2}},\n  'persistent': {'mean': 37.1,\n   'std': 7.2034713853808015,\n   'min': 24,\n   'max': 48,\n   'count_by_instance': {'Instance_1': 35,\n    'Instance_2': 40,\n    'Instance_3': 48,\n    'Instance_4': 27,\n    'Instance_5': 45,\n    'Instance_6': 36,\n    'Instance_7': 24,\n    'Instance_8': 44,\n    'Instance_9': 36,\n    'Instance_10': 36}},\n  'static': {'mean': 0.0,\n   'std': 0.0,\n   'min': 0,\n   'max': 0,\n   'count_by_instance': {'Instance_1': 0,\n    'Instance_2': 0,\n    'Instance_3': 0,\n    'Instance_4': 0,\n    'Instance_5': 0,\n    'Instance_6': 0,\n    'Instance_7': 0,\n    'Instance_8': 0,\n    'Instance_9': 0,\n    'Instance_10': 0}},\n  'total': {'mean': 68.9,\n   'std': 21.897260102579047,\n   'min': 40,\n   'max': 109,\n   'count_by_instance': {'Instance_1': 49,\n    'Instance_2': 56,\n    'Instance_3': 64,\n    'Instance_4': 91,\n    'Instance_5': 109,\n    'Instance_6': 100,\n    'Instance_7': 40,\n    'Instance_8': 66,\n    'Instance_9': 54,\n    'Instance_10': 60}}},\n 'logistics': {'base': {'mean': 0.0,\n   'std': 0.0,\n   'min': 0,\n   'max': 0,\n   'count_by_instance': {'Instance_1': 0,\n    'Instance_2': 0,\n    'Instance_3': 0,\n    'Instance_4': 0,\n    'Instance_5': 0,\n    'Instance_6': 0,\n    'Instance_7': 0,\n    'Instance_8': 0,\n    'Instance_9': 0,\n    'Instance_10': 0}},\n  'derived': {'mean': 0.0,\n   'std': 0.0,\n   'min': 0,\n   'max': 0,\n   'count_by_instance': {'Instance_1': 0,\n    'Instance_2': 0,\n    'Instance_3': 0,\n    'Instance_4': 0,\n    'Instance_5': 0,\n    'Instance_6': 0,\n    'Instance_7': 0,\n    'Instance_8': 0,\n    'Instance_9': 0,\n    'Instance_10': 0}},\n  'persistent': {'mean': 80.5,\n   'std': 20.800240383226342,\n   'min': 40,\n   'max': 110,\n   'count_by_instance': {'Instance_1': 74,\n    'Instance_2': 40,\n    'Instance_3': 84,\n    'Instance_4': 84,\n    'Instance_5': 110,\n    'Instance_6': 94,\n    'Instance_7': 80,\n    'Instance_8': 48,\n    'Instance_9': 101,\n    'Instance_10': 90}},\n  'static': {'mean': 15.5,\n   'std': 5.5,\n   'min': 8,\n   'max': 27,\n   'count_by_instance': {'Instance_1': 12,\n    'Instance_2': 8,\n    'Instance_3': 18,\n    'Instance_4': 12,\n    'Instance_5': 20,\n    'Instance_6': 18,\n    'Instance_7': 16,\n    'Instance_8': 8,\n    'Instance_9': 27,\n    'Instance_10': 16}},\n  'total': {'mean': 96.0,\n   'std': 25.64371267971937,\n   'min': 48,\n   'max': 130,\n   'count_by_instance': {'Instance_1': 86,\n    'Instance_2': 48,\n    'Instance_3': 102,\n    'Instance_4': 96,\n    'Instance_5': 130,\n    'Instance_6': 112,\n    'Instance_7': 96,\n    'Instance_8': 56,\n    'Instance_9': 128,\n    'Instance_10': 106}}},\n 'miconic': {'base': {'mean': 8.5,\n   'std': 1.118033988749895,\n   'min': 7,\n   'max': 10,\n   'count_by_instance': {'Instance_1': 10,\n    'Instance_2': 10,\n    'Instance_3': 9,\n    'Instance_4': 9,\n    'Instance_5': 9,\n    'Instance_6': 7,\n    'Instance_7': 9,\n    'Instance_8': 7,\n    'Instance_9': 7,\n    'Instance_10': 8}},\n  'derived': {'mean': 8.5,\n   'std': 1.118033988749895,\n   'min': 7,\n   'max': 10,\n   'count_by_instance': {'Instance_1': 10,\n    'Instance_2': 10,\n    'Instance_3': 9,\n    'Instance_4': 9,\n    'Instance_5': 9,\n    'Instance_6': 7,\n    'Instance_7': 9,\n    'Instance_8': 7,\n    'Instance_9': 7,\n    'Instance_10': 8}},\n  'persistent': {'mean': 8.6,\n   'std': 1.1135528725660042,\n   'min': 7,\n   'max': 10,\n   'count_by_instance': {'Instance_1': 7,\n    'Instance_2': 8,\n    'Instance_3': 10,\n    'Instance_4': 9,\n    'Instance_5': 10,\n    'Instance_6': 7,\n    'Instance_7': 8,\n    'Instance_8': 8,\n    'Instance_9': 9,\n    'Instance_10': 10}},\n  'static': {'mean': 212.8,\n   'std': 41.26208913760912,\n   'min': 140,\n   'max': 270,\n   'count_by_instance': {'Instance_1': 182,\n    'Instance_2': 216,\n    'Instance_3': 270,\n    'Instance_4': 234,\n    'Instance_5': 270,\n    'Instance_6': 140,\n    'Instance_7': 200,\n    'Instance_8': 168,\n    'Instance_9': 198,\n    'Instance_10': 250}},\n  'total': {'mean': 238.4,\n   'std': 43.2601433192263,\n   'min': 161,\n   'max': 298,\n   'count_by_instance': {'Instance_1': 209,\n    'Instance_2': 244,\n    'Instance_3': 298,\n    'Instance_4': 261,\n    'Instance_5': 298,\n    'Instance_6': 161,\n    'Instance_7': 226,\n    'Instance_8': 190,\n    'Instance_9': 221,\n    'Instance_10': 276}}},\n 'mystery': {'base': {'mean': 0.0,\n   'std': 0.0,\n   'min': 0,\n   'max': 0,\n   'count_by_instance': {'Instance_1': 0,\n    'Instance_2': 0,\n    'Instance_3': 0,\n    'Instance_4': 0,\n    'Instance_5': 0,\n    'Instance_6': 0,\n    'Instance_7': 0,\n    'Instance_8': 0,\n    'Instance_9': 0,\n    'Instance_10': 0}},\n  'derived': {'mean': 0.0,\n   'std': 0.0,\n   'min': 0,\n   'max': 0,\n   'count_by_instance': {'Instance_1': 0,\n    'Instance_2': 0,\n    'Instance_3': 0,\n    'Instance_4': 0,\n    'Instance_5': 0,\n    'Instance_6': 0,\n    'Instance_7': 0,\n    'Instance_8': 0,\n    'Instance_9': 0,\n    'Instance_10': 0}},\n  'persistent': {'mean': 58.8,\n   'std': 8.059776671843954,\n   'min': 47,\n   'max': 70,\n   'count_by_instance': {'Instance_1': 55,\n    'Instance_2': 60,\n    'Instance_3': 66,\n    'Instance_4': 66,\n    'Instance_5': 47,\n    'Instance_6': 70,\n    'Instance_7': 56,\n    'Instance_8': 47,\n    'Instance_9': 53,\n    'Instance_10': 68}},\n  'static': {'mean': 63.4,\n   'std': 15.875767697972908,\n   'min': 38,\n   'max': 80,\n   'count_by_instance': {'Instance_1': 76,\n    'Instance_2': 60,\n    'Instance_3': 38,\n    'Instance_4': 76,\n    'Instance_5': 60,\n    'Instance_6': 76,\n    'Instance_7': 80,\n    'Instance_8': 38,\n    'Instance_9': 80,\n    'Instance_10': 50}},\n  'total': {'mean': 122.2,\n   'std': 18.197802065084673,\n   'min': 85,\n   'max': 146,\n   'count_by_instance': {'Instance_1': 131,\n    'Instance_2': 120,\n    'Instance_3': 104,\n    'Instance_4': 142,\n    'Instance_5': 107,\n    'Instance_6': 146,\n    'Instance_7': 136,\n    'Instance_8': 85,\n    'Instance_9': 133,\n    'Instance_10': 118}}},\n 'npuzzle': {'base': {'mean': 0.0,\n   'std': 0.0,\n   'min': 0,\n   'max': 0,\n   'count_by_instance': {'Instance_1': 0,\n    'Instance_2': 0,\n    'Instance_3': 0,\n    'Instance_4': 0,\n    'Instance_5': 0,\n    'Instance_6': 0,\n    'Instance_7': 0,\n    'Instance_8': 0,\n    'Instance_9': 0,\n    'Instance_10': 0}},\n  'derived': {'mean': 9.0,\n   'std': 0.0,\n   'min': 9,\n   'max': 9,\n   'count_by_instance': {'Instance_1': 9,\n    'Instance_2': 9,\n    'Instance_3': 9,\n    'Instance_4': 9,\n    'Instance_5': 9,\n    'Instance_6': 9,\n    'Instance_7': 9,\n    'Instance_8': 9,\n    'Instance_9': 9,\n    'Instance_10': 9}},\n  'persistent': {'mean': 72.0,\n   'std': 0.0,\n   'min': 72,\n   'max': 72,\n   'count_by_instance': {'Instance_1': 72,\n    'Instance_2': 72,\n    'Instance_3': 72,\n    'Instance_4': 72,\n    'Instance_5': 72,\n    'Instance_6': 72,\n    'Instance_7': 72,\n    'Instance_8': 72,\n    'Instance_9': 72,\n    'Instance_10': 72}},\n  'static': {'mean': 72.0,\n   'std': 0.0,\n   'min': 72,\n   'max': 72,\n   'count_by_instance': {'Instance_1': 72,\n    'Instance_2': 72,\n    'Instance_3': 72,\n    'Instance_4': 72,\n    'Instance_5': 72,\n    'Instance_6': 72,\n    'Instance_7': 72,\n    'Instance_8': 72,\n    'Instance_9': 72,\n    'Instance_10': 72}},\n  'total': {'mean': 153.0,\n   'std': 0.0,\n   'min': 153,\n   'max': 153,\n   'count_by_instance': {'Instance_1': 153,\n    'Instance_2': 153,\n    'Instance_3': 153,\n    'Instance_4': 153,\n    'Instance_5': 153,\n    'Instance_6': 153,\n    'Instance_7': 153,\n    'Instance_8': 153,\n    'Instance_9': 153,\n    'Instance_10': 153}}},\n 'satellite': {'base': {'mean': 77.2,\n   'std': 27.12858271270359,\n   'min': 44,\n   'max': 146,\n   'count_by_instance': {'Instance_1': 80,\n    'Instance_2': 146,\n    'Instance_3': 93,\n    'Instance_4': 76,\n    'Instance_5': 54,\n    'Instance_6': 66,\n    'Instance_7': 44,\n    'Instance_8': 80,\n    'Instance_9': 53,\n    'Instance_10': 80}},\n  'derived': {'mean': 2.5,\n   'std': 0.5,\n   'min': 2,\n   'max': 3,\n   'count_by_instance': {'Instance_1': 2,\n    'Instance_2': 2,\n    'Instance_3': 2,\n    'Instance_4': 2,\n    'Instance_5': 2,\n    'Instance_6': 3,\n    'Instance_7': 3,\n    'Instance_8': 3,\n    'Instance_9': 3,\n    'Instance_10': 3}},\n  'persistent': {'mean': 30.0,\n   'std': 7.307530362578044,\n   'min': 16,\n   'max': 42,\n   'count_by_instance': {'Instance_1': 36,\n    'Instance_2': 34,\n    'Instance_3': 34,\n    'Instance_4': 24,\n    'Instance_5': 16,\n    'Instance_6': 27,\n    'Instance_7': 24,\n    'Instance_8': 36,\n    'Instance_9': 27,\n    'Instance_10': 42}},\n  'static': {'mean': 87.5,\n   'std': 27.463612289718917,\n   'min': 40,\n   'max': 135,\n   'count_by_instance': {'Instance_1': 96,\n    'Instance_2': 135,\n    'Instance_3': 96,\n    'Instance_4': 40,\n    'Instance_5': 48,\n    'Instance_6': 108,\n    'Instance_7': 90,\n    'Instance_8': 84,\n    'Instance_9': 68,\n    'Instance_10': 110}},\n  'total': {'mean': 197.2,\n   'std': 54.19188131076462,\n   'min': 120,\n   'max': 317,\n   'count_by_instance': {'Instance_1': 214,\n    'Instance_2': 317,\n    'Instance_3': 225,\n    'Instance_4': 142,\n    'Instance_5': 120,\n    'Instance_6': 204,\n    'Instance_7': 161,\n    'Instance_8': 203,\n    'Instance_9': 151,\n    'Instance_10': 235}}},\n 'spanner': {'base': {'mean': 15.0,\n   'std': 0.0,\n   'min': 15,\n   'max': 15,\n   'count_by_instance': {'Instance_1': 15,\n    'Instance_2': 15,\n    'Instance_3': 15,\n    'Instance_4': 15,\n    'Instance_5': 15,\n    'Instance_6': 15,\n    'Instance_7': 15,\n    'Instance_8': 15,\n    'Instance_9': 15,\n    'Instance_10': 15}},\n  'derived': {'mean': 10.0,\n   'std': 0.0,\n   'min': 10,\n   'max': 10,\n   'count_by_instance': {'Instance_1': 10,\n    'Instance_2': 10,\n    'Instance_3': 10,\n    'Instance_4': 10,\n    'Instance_5': 10,\n    'Instance_6': 10,\n    'Instance_7': 10,\n    'Instance_8': 10,\n    'Instance_9': 10,\n    'Instance_10': 10}},\n  'persistent': {'mean': 124.3,\n   'std': 5.040833264451424,\n   'min': 121,\n   'max': 132,\n   'count_by_instance': {'Instance_1': 121,\n    'Instance_2': 121,\n    'Instance_3': 121,\n    'Instance_4': 121,\n    'Instance_5': 121,\n    'Instance_6': 132,\n    'Instance_7': 132,\n    'Instance_8': 121,\n    'Instance_9': 121,\n    'Instance_10': 132}},\n  'static': {'mean': 116.6,\n   'std': 10.081666528902849,\n   'min': 110,\n   'max': 132,\n   'count_by_instance': {'Instance_1': 110,\n    'Instance_2': 110,\n    'Instance_3': 110,\n    'Instance_4': 110,\n    'Instance_5': 110,\n    'Instance_6': 132,\n    'Instance_7': 132,\n    'Instance_8': 110,\n    'Instance_9': 110,\n    'Instance_10': 132}},\n  'total': {'mean': 260.9,\n   'std': 15.12249979335427,\n   'min': 251,\n   'max': 284,\n   'count_by_instance': {'Instance_1': 251,\n    'Instance_2': 251,\n    'Instance_3': 251,\n    'Instance_4': 251,\n    'Instance_5': 251,\n    'Instance_6': 284,\n    'Instance_7': 284,\n    'Instance_8': 251,\n    'Instance_9': 251,\n    'Instance_10': 284}}},\n 'visitall': {'base': {'mean': 0.0,\n   'std': 0.0,\n   'min': 0,\n   'max': 0,\n   'count_by_instance': {'Instance_1': 0,\n    'Instance_2': 0,\n    'Instance_3': 0,\n    'Instance_4': 0,\n    'Instance_5': 0,\n    'Instance_6': 0,\n    'Instance_7': 0,\n    'Instance_8': 0,\n    'Instance_9': 0,\n    'Instance_10': 0}},\n  'derived': {'mean': 23.9,\n   'std': 3.014962686336267,\n   'min': 20,\n   'max': 30,\n   'count_by_instance': {'Instance_1': 21,\n    'Instance_2': 28,\n    'Instance_3': 23,\n    'Instance_4': 23,\n    'Instance_5': 22,\n    'Instance_6': 30,\n    'Instance_7': 22,\n    'Instance_8': 24,\n    'Instance_9': 20,\n    'Instance_10': 26}},\n  'persistent': {'mean': 23.9,\n   'std': 3.014962686336267,\n   'min': 20,\n   'max': 30,\n   'count_by_instance': {'Instance_1': 21,\n    'Instance_2': 28,\n    'Instance_3': 23,\n    'Instance_4': 23,\n    'Instance_5': 22,\n    'Instance_6': 30,\n    'Instance_7': 22,\n    'Instance_8': 24,\n    'Instance_9': 20,\n    'Instance_10': 26}},\n  'static': {'mean': 556.4,\n   'std': 148.18582928202008,\n   'min': 380,\n   'max': 870,\n   'count_by_instance': {'Instance_1': 420,\n    'Instance_2': 756,\n    'Instance_3': 506,\n    'Instance_4': 506,\n    'Instance_5': 462,\n    'Instance_6': 870,\n    'Instance_7': 462,\n    'Instance_8': 552,\n    'Instance_9': 380,\n    'Instance_10': 650}},\n  'total': {'mean': 604.2,\n   'std': 154.20622555526091,\n   'min': 420,\n   'max': 930,\n   'count_by_instance': {'Instance_1': 462,\n    'Instance_2': 812,\n    'Instance_3': 552,\n    'Instance_4': 552,\n    'Instance_5': 506,\n    'Instance_6': 930,\n    'Instance_7': 506,\n    'Instance_8': 600,\n    'Instance_9': 420,\n    'Instance_10': 702}}},\n 'zenotravel': {'base': {'mean': 7.0,\n   'std': 0.0,\n   'min': 7,\n   'max': 7,\n   'count_by_instance': {'Instance_1': 7,\n    'Instance_2': 7,\n    'Instance_3': 7,\n    'Instance_4': 7,\n    'Instance_5': 7,\n    'Instance_6': 7,\n    'Instance_7': 7,\n    'Instance_8': 7,\n    'Instance_9': 7,\n    'Instance_10': 7}},\n  'derived': {'mean': 0.0,\n   'std': 0.0,\n   'min': 0,\n   'max': 0,\n   'count_by_instance': {'Instance_1': 0,\n    'Instance_2': 0,\n    'Instance_3': 0,\n    'Instance_4': 0,\n    'Instance_5': 0,\n    'Instance_6': 0,\n    'Instance_7': 0,\n    'Instance_8': 0,\n    'Instance_9': 0,\n    'Instance_10': 0}},\n  'persistent': {'mean': 46.4,\n   'std': 7.418894796396563,\n   'min': 31,\n   'max': 53,\n   'count_by_instance': {'Instance_1': 31,\n    'Instance_2': 41,\n    'Instance_3': 53,\n    'Instance_4': 44,\n    'Instance_5': 44,\n    'Instance_6': 53,\n    'Instance_7': 53,\n    'Instance_8': 39,\n    'Instance_9': 53,\n    'Instance_10': 53}},\n  'static': {'mean': 42.0,\n   'std': 0.0,\n   'min': 42,\n   'max': 42,\n   'count_by_instance': {'Instance_1': 42,\n    'Instance_2': 42,\n    'Instance_3': 42,\n    'Instance_4': 42,\n    'Instance_5': 42,\n    'Instance_6': 42,\n    'Instance_7': 42,\n    'Instance_8': 42,\n    'Instance_9': 42,\n    'Instance_10': 42}},\n  'total': {'mean': 95.4,\n   'std': 7.418894796396563,\n   'min': 80,\n   'max': 102,\n   'count_by_instance': {'Instance_1': 80,\n    'Instance_2': 90,\n    'Instance_3': 102,\n    'Instance_4': 93,\n    'Instance_5': 93,\n    'Instance_6': 102,\n    'Instance_7': 102,\n    'Instance_8': 88,\n    'Instance_9': 102,\n    'Instance_10': 102}}}}"
     },
     "execution_count": 44,
     "metadata": {},
     "output_type": "execute_result"
    }
   ],
   "source": [
    "# sorted(stats_by_domain.items(), key=lambda x: x[1]['mean'])\n",
    "stats_by_domain"
   ],
   "metadata": {
    "collapsed": false,
    "ExecuteTime": {
     "end_time": "2024-05-09T01:46:54.793062Z",
     "start_time": "2024-05-09T01:46:54.750804Z"
    }
   },
   "id": "38da8399fbfebb12",
   "execution_count": 44
  },
  {
   "cell_type": "code",
   "outputs": [],
   "source": [],
   "metadata": {
    "collapsed": false
   },
   "id": "82be1af6358341a3"
  }
 ],
 "metadata": {
  "kernelspec": {
   "display_name": "Python 3",
   "language": "python",
   "name": "python3"
  },
  "language_info": {
   "codemirror_mode": {
    "name": "ipython",
    "version": 2
   },
   "file_extension": ".py",
   "mimetype": "text/x-python",
   "name": "python",
   "nbconvert_exporter": "python",
   "pygments_lexer": "ipython2",
   "version": "2.7.6"
  }
 },
 "nbformat": 4,
 "nbformat_minor": 5
}
