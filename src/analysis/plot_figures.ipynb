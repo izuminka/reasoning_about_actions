{
 "cells": [
  {
   "cell_type": "code",
   "execution_count": 1,
   "id": "initial_id",
   "metadata": {
    "collapsed": true,
    "ExecuteTime": {
     "end_time": "2024-02-24T00:51:54.931591Z",
     "start_time": "2024-02-24T00:51:50.588901Z"
    }
   },
   "outputs": [],
   "source": [
    "import sys\n",
    "import json\n",
    "sys.path.append('..')\n",
    "sys.path.append('../questions_construction')\n",
    "\n",
    "from src.common import *\n",
    "from model_performances import *\n",
    "from copy import deepcopy\n",
    "\n",
    "import pandas as pd\n",
    "\n",
    "import matplotlib.pyplot as plt"
   ]
  },
  {
   "cell_type": "code",
   "outputs": [
    {
     "ename": "InvalidLineError",
     "evalue": "line contains null value (line 7)",
     "output_type": "error",
     "traceback": [
      "\u001B[0;31m---------------------------------------------------------------------------\u001B[0m",
      "\u001B[0;31mInvalidLineError\u001B[0m                          Traceback (most recent call last)",
      "Input \u001B[0;32mIn [5]\u001B[0m, in \u001B[0;36m<cell line: 3>\u001B[0;34m()\u001B[0m\n\u001B[1;32m      1\u001B[0m answer_type \u001B[38;5;241m=\u001B[39m TRUE_FALSE_ANSWER \u001B[38;5;66;03m#FREE_ANSWER#\u001B[39;00m\n\u001B[1;32m      2\u001B[0m score_key \u001B[38;5;241m=\u001B[39m \u001B[38;5;124m'\u001B[39m\u001B[38;5;124maccuracy\u001B[39m\u001B[38;5;124m'\u001B[39m\n\u001B[0;32m----> 3\u001B[0m results_all \u001B[38;5;241m=\u001B[39m \u001B[43mopen_jsonl\u001B[49m\u001B[43m(\u001B[49m\u001B[43mos\u001B[49m\u001B[38;5;241;43m.\u001B[39;49m\u001B[43mpath\u001B[49m\u001B[38;5;241;43m.\u001B[39;49m\u001B[43mjoin\u001B[49m\u001B[43m(\u001B[49m\u001B[43mSTATISTICS_PATH\u001B[49m\u001B[43m,\u001B[49m\u001B[43m \u001B[49m\u001B[43msave_stats_file\u001B[49m\u001B[43m(\u001B[49m\u001B[43manswer_type\u001B[49m\u001B[43m,\u001B[49m\u001B[43m \u001B[49m\u001B[43mscore_key\u001B[49m\u001B[43m)\u001B[49m\u001B[43m)\u001B[49m\u001B[43m)\u001B[49m\n",
      "File \u001B[0;32m~/dev/research/current/reasoning_about_actions/pipeline/src/common.py:91\u001B[0m, in \u001B[0;36mopen_jsonl\u001B[0;34m(path)\u001B[0m\n\u001B[1;32m     89\u001B[0m \u001B[38;5;28;01mdef\u001B[39;00m \u001B[38;5;21mopen_jsonl\u001B[39m(path):\n\u001B[1;32m     90\u001B[0m     \u001B[38;5;28;01mwith\u001B[39;00m jsonlines\u001B[38;5;241m.\u001B[39mopen(path, \u001B[38;5;124m'\u001B[39m\u001B[38;5;124mr\u001B[39m\u001B[38;5;124m'\u001B[39m) \u001B[38;5;28;01mas\u001B[39;00m r:\n\u001B[0;32m---> 91\u001B[0m         data \u001B[38;5;241m=\u001B[39m [obj \u001B[38;5;28;01mfor\u001B[39;00m obj \u001B[38;5;129;01min\u001B[39;00m r]\n\u001B[1;32m     92\u001B[0m     \u001B[38;5;28;01mreturn\u001B[39;00m data\n",
      "File \u001B[0;32m~/dev/research/current/reasoning_about_actions/pipeline/src/common.py:91\u001B[0m, in \u001B[0;36m<listcomp>\u001B[0;34m(.0)\u001B[0m\n\u001B[1;32m     89\u001B[0m \u001B[38;5;28;01mdef\u001B[39;00m \u001B[38;5;21mopen_jsonl\u001B[39m(path):\n\u001B[1;32m     90\u001B[0m     \u001B[38;5;28;01mwith\u001B[39;00m jsonlines\u001B[38;5;241m.\u001B[39mopen(path, \u001B[38;5;124m'\u001B[39m\u001B[38;5;124mr\u001B[39m\u001B[38;5;124m'\u001B[39m) \u001B[38;5;28;01mas\u001B[39;00m r:\n\u001B[0;32m---> 91\u001B[0m         data \u001B[38;5;241m=\u001B[39m [obj \u001B[38;5;28;01mfor\u001B[39;00m obj \u001B[38;5;129;01min\u001B[39;00m r]\n\u001B[1;32m     92\u001B[0m     \u001B[38;5;28;01mreturn\u001B[39;00m data\n",
      "File \u001B[0;32m/opt/anaconda3/envs/llm_asp/lib/python3.9/site-packages/jsonlines/jsonlines.py:203\u001B[0m, in \u001B[0;36mReader.iter\u001B[0;34m(self, type, allow_none, skip_empty, skip_invalid)\u001B[0m\n\u001B[1;32m    201\u001B[0m \u001B[38;5;28;01mwhile\u001B[39;00m \u001B[38;5;28;01mTrue\u001B[39;00m:\n\u001B[1;32m    202\u001B[0m     \u001B[38;5;28;01mtry\u001B[39;00m:\n\u001B[0;32m--> 203\u001B[0m         \u001B[38;5;28;01myield\u001B[39;00m \u001B[38;5;28;43mself\u001B[39;49m\u001B[38;5;241;43m.\u001B[39;49m\u001B[43mread\u001B[49m\u001B[43m(\u001B[49m\n\u001B[1;32m    204\u001B[0m \u001B[43m            \u001B[49m\u001B[38;5;28;43mtype\u001B[39;49m\u001B[38;5;241;43m=\u001B[39;49m\u001B[38;5;28;43mtype\u001B[39;49m\u001B[43m,\u001B[49m\u001B[43m \u001B[49m\u001B[43mallow_none\u001B[49m\u001B[38;5;241;43m=\u001B[39;49m\u001B[43mallow_none\u001B[49m\u001B[43m,\u001B[49m\u001B[43m \u001B[49m\u001B[43mskip_empty\u001B[49m\u001B[38;5;241;43m=\u001B[39;49m\u001B[43mskip_empty\u001B[49m\n\u001B[1;32m    205\u001B[0m \u001B[43m        \u001B[49m\u001B[43m)\u001B[49m\n\u001B[1;32m    206\u001B[0m     \u001B[38;5;28;01mexcept\u001B[39;00m InvalidLineError:\n\u001B[1;32m    207\u001B[0m         \u001B[38;5;28;01mif\u001B[39;00m \u001B[38;5;129;01mnot\u001B[39;00m skip_invalid:\n",
      "File \u001B[0;32m/opt/anaconda3/envs/llm_asp/lib/python3.9/site-packages/jsonlines/jsonlines.py:172\u001B[0m, in \u001B[0;36mReader.read\u001B[0;34m(self, type, allow_none, skip_empty)\u001B[0m\n\u001B[1;32m    170\u001B[0m     \u001B[38;5;28;01mif\u001B[39;00m allow_none:\n\u001B[1;32m    171\u001B[0m         \u001B[38;5;28;01mreturn\u001B[39;00m \u001B[38;5;28;01mNone\u001B[39;00m\n\u001B[0;32m--> 172\u001B[0m     \u001B[38;5;28;01mraise\u001B[39;00m InvalidLineError(\u001B[38;5;124m\"\u001B[39m\u001B[38;5;124mline contains null value\u001B[39m\u001B[38;5;124m\"\u001B[39m, line, lineno)\n\u001B[1;32m    174\u001B[0m \u001B[38;5;28;01mif\u001B[39;00m \u001B[38;5;28mtype\u001B[39m \u001B[38;5;129;01mis\u001B[39;00m \u001B[38;5;129;01mnot\u001B[39;00m \u001B[38;5;28;01mNone\u001B[39;00m:\n\u001B[1;32m    175\u001B[0m     valid \u001B[38;5;241m=\u001B[39m \u001B[38;5;28misinstance\u001B[39m(value, \u001B[38;5;28mtype\u001B[39m)\n",
      "\u001B[0;31mInvalidLineError\u001B[0m: line contains null value (line 7)"
     ]
    }
   ],
   "source": [
    "answer_type = TRUE_FALSE_ANSWER #FREE_ANSWER#\n",
    "score_key = 'accuracy'\n",
    "results_all = open_jsonl(os.path.join(STATISTICS_PATH, save_stats_file(answer_type, score_key)))"
   ],
   "metadata": {
    "collapsed": false,
    "ExecuteTime": {
     "end_time": "2024-02-24T01:00:36.562350Z",
     "start_time": "2024-02-24T01:00:36.460154Z"
    }
   },
   "id": "1f840df92d9a0eff",
   "execution_count": 5
  },
  {
   "cell_type": "code",
   "outputs": [],
   "source": [
    "model_name = 'gemini'\n",
    "prompt_type = 'few_shot_4_cot'\n",
    "question_category = ALL_CATEGORIES_KEY\n",
    "domain = ALL_DOMAINS_KEY\n",
    "\n",
    "results_by_ram = defaultdict(list)\n",
    "for ramifications in RAMIFICATION_TYPES:\n",
    "    for plan_length in PLAN_LENGTHS:\n",
    "        res = filter_single_selector(results_all, plan_length, question_category, ramifications, model_name, prompt_type, domain, answer_type)\n",
    "        assert len(res) == 1\n",
    "        results_by_ram[ramifications].append(res[0][SK_RESULT])"
   ],
   "metadata": {
    "collapsed": false,
    "ExecuteTime": {
     "end_time": "2024-02-20T23:14:38.562369Z",
     "start_time": "2024-02-20T23:14:38.474379Z"
    }
   },
   "id": "f0df0827df59abe8",
   "execution_count": 23
  },
  {
   "cell_type": "code",
   "outputs": [
    {
     "data": {
      "text/plain": "<Figure size 432x288 with 1 Axes>",
      "image/png": "[encoded data removed]"
     },
     "metadata": {
      "needs_background": "light"
     },
     "output_type": "display_data"
    }
   ],
   "source": [
    "plt.figure()\n",
    "plt.plot(PLAN_LENGTHS, results_by_ram[WITHOUT_RAMIFICATIONS], 'o-', label='Without Ramifications')\n",
    "plt.plot(PLAN_LENGTHS, results_by_ram[WITH_RAMIFICATIONS], 'o-', label='With Ramifications')\n",
    "\n",
    "plt.ylim([0, 1])\n",
    "plt.xticks(PLAN_LENGTHS)\n",
    "\n",
    "\n",
    "# plt.title(model_name + ' '+ prompt_type)\n",
    "plt.legend(fontsize=15)\n",
    "plt.xticks(size=15)\n",
    "plt.xlabel('Plan Length', size=15)\n",
    "plt.yticks(size=15)\n",
    "plt.ylabel(score_type, size=15)\n",
    "plt.savefig(f'{answer_type}.{model_name}.{prompt_type}.1-19.pdf', transparent=True, format=\"pdf\", bbox_inches='tight')\n",
    "plt.show()"
   ],
   "metadata": {
    "collapsed": false,
    "ExecuteTime": {
     "end_time": "2024-02-20T23:14:38.896747Z",
     "start_time": "2024-02-20T23:14:38.668001Z"
    }
   },
   "id": "9cae79175e97515b",
   "execution_count": 24
  },
  {
   "cell_type": "code",
   "outputs": [],
   "source": [],
   "metadata": {
    "collapsed": false
   },
   "id": "161ea5f984e7f88c"
  }
 ],
 "metadata": {
  "kernelspec": {
   "display_name": "Python 3",
   "language": "python",
   "name": "python3"
  },
  "language_info": {
   "codemirror_mode": {
    "name": "ipython",
    "version": 2
   },
   "file_extension": ".py",
   "mimetype": "text/x-python",
   "name": "python",
   "nbconvert_exporter": "python",
   "pygments_lexer": "ipython2",
   "version": "2.7.6"
  }
 },
 "nbformat": 4,
 "nbformat_minor": 5
}
