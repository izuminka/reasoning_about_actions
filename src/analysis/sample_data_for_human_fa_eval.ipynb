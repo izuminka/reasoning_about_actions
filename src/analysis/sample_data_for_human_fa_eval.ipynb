{
 "cells": [
  {
   "cell_type": "code",
   "execution_count": 1,
   "id": "initial_id",
   "metadata": {
    "collapsed": true,
    "ExecuteTime": {
     "end_time": "2024-06-01T05:02:04.102907Z",
     "start_time": "2024-06-01T05:01:59.542813Z"
    }
   },
   "outputs": [],
   "source": [
    "import sys\n",
    "sys.path.insert(0, '../../')\n",
    "from src.questions_construction.main import PLAN_LENGTHS, QUESTION_CATEGORIES\n",
    "from src.questions_construction.domains import DOMAIN_NAMES\n",
    "\n",
    "from src.analysis.model_performances import *\n",
    "from src.common import *\n",
    "import random"
   ]
  },
  {
   "cell_type": "code",
   "outputs": [],
   "source": [
    "def gather_data_iterator():\n",
    "    for substitutions in [WITHOUT_RANDOM_SUB]:\n",
    "        for ramifications in [WITHOUT_RAMIFICATIONS]:\n",
    "            for model_name in ['gpt-4o', 'gemini']:\n",
    "                for prompt_type in ['few_shot_1']:\n",
    "                    yield substitutions, ramifications, model_name, prompt_type"
   ],
   "metadata": {
    "collapsed": false,
    "ExecuteTime": {
     "end_time": "2024-06-01T05:02:04.108003Z",
     "start_time": "2024-06-01T05:02:04.104635Z"
    }
   },
   "id": "fe24b9f4c1e120ad",
   "execution_count": 2
  },
  {
   "cell_type": "code",
   "outputs": [
    {
     "name": "stdout",
     "output_type": "stream",
     "text": [
      "questions gathered\n"
     ]
    },
    {
     "name": "stderr",
     "output_type": "stream",
     "text": [
      "100%|██████████| 260/260 [00:12<00:00, 20.35it/s] "
     ]
    },
    {
     "name": "stdout",
     "output_type": "stream",
     "text": [
      "data is gathered\n",
      "checks passed\n"
     ]
    },
    {
     "name": "stderr",
     "output_type": "stream",
     "text": [
      "\n"
     ]
    },
    {
     "data": {
      "text/plain": "True"
     },
     "execution_count": 3,
     "metadata": {},
     "output_type": "execute_result"
    }
   ],
   "source": [
    "questions_dir = f'{DATA_PATH}/questions_m1'\n",
    "ids_file_name = 'dataset_ids.test.pruned'\n",
    "\n",
    "selected_ids = open_jsonl(f'{DATA_PATH}/{ids_file_name}.jsonl')\n",
    "\n",
    "questions_by_id = gather_questions(questions_dir, selected_ids)\n",
    "data_all, missing_data = gather_data(questions_by_id, selected_ids=selected_ids, iterator=gather_data_iterator)\n",
    "save_main_dir = f'{STATISTICS_PATH}.{ids_file_name}'\n",
    "sanity_checks(questions_by_id, data_all)"
   ],
   "metadata": {
    "collapsed": false,
    "ExecuteTime": {
     "end_time": "2024-06-01T05:02:52.549381Z",
     "start_time": "2024-06-01T05:02:04.109340Z"
    }
   },
   "id": "6a4e1b71f0858b6e",
   "execution_count": 3
  },
  {
   "cell_type": "code",
   "outputs": [],
   "source": [
    "def prepare_dict(data):\n",
    "    for d in data:\n",
    "        d['model_parsed_response'] = find_text_within_brackets(d['response'])\n",
    "        d['true_answer'] = d.pop('answer')\n",
    "        for k in ['question', 'true_answer', 'model_parsed_response']:\n",
    "            t_tmp = d.pop(k)\n",
    "            d[k] = t_tmp\n",
    "        \n",
    "    return data\n",
    "\n",
    "answer_type = FREE_ANSWER_TYPE\n",
    "ramifications = WITHOUT_RAMIFICATIONS\n",
    "substitutions = WITHOUT_RANDOM_SUB \n",
    "prompt_type = 'few_shot_1'\n",
    "plan_length = 19\n",
    "domain = ALL_DOMAINS_KEY\n",
    "\n",
    "NUM_SAMPLES = 20\n",
    "\n",
    "gemini_by_categories = {}\n",
    "gpt_by_categories = {}\n",
    "for question_category in QUESTION_CATEGORIES:\n",
    "    data_gpt = filter_multi_selector(data_all, plan_length, question_category, ramifications, 'gpt-4o', prompt_type, domain,\n",
    "                              answer_type, substitutions)\n",
    "    data_gemini = filter_multi_selector(data_all, plan_length, question_category, ramifications, 'gemini', prompt_type, domain,\n",
    "                              answer_type, substitutions)\n",
    "    common_ids = list(set([d[OUT_OBJ_ID] for d in data_gpt]) & set([d[OUT_OBJ_ID] for d in data_gemini]))\n",
    "    assert len(common_ids) > NUM_SAMPLES \n",
    "    \n",
    "    \n",
    "    random.shuffle(common_ids)\n",
    "    common_ids = common_ids[:NUM_SAMPLES]\n",
    "    \n",
    "    gemini_by_categories[question_category] = prepare_dict([d for d in data_gemini if d[OUT_OBJ_ID] in common_ids])\n",
    "    gpt_by_categories[question_category] =  prepare_dict([d for d in data_gpt if d[OUT_OBJ_ID] in common_ids])"
   ],
   "metadata": {
    "collapsed": false,
    "ExecuteTime": {
     "end_time": "2024-06-01T05:09:06.904870Z",
     "start_time": "2024-06-01T05:09:06.719193Z"
    }
   },
   "id": "e38fcf67834e8c8b",
   "execution_count": 12
  },
  {
   "cell_type": "code",
   "outputs": [],
   "source": [
    "# with open('human_eval_data.gemini.json', 'w') as f:\n",
    "#     json.dump(gemini_by_categories, f)\n",
    "# \n",
    "# with open('human_eval_data.gpt.json', 'w') as f:\n",
    "#     json.dump(gpt_by_categories, f)\n",
    "#     "
   ],
   "metadata": {
    "collapsed": false,
    "ExecuteTime": {
     "end_time": "2024-06-01T05:09:07.849117Z",
     "start_time": "2024-06-01T05:09:07.812539Z"
    }
   },
   "id": "981c36be474a9fc",
   "execution_count": 13
  },
  {
   "cell_type": "code",
   "outputs": [],
   "source": [],
   "metadata": {
    "collapsed": false
   },
   "id": "262fbff26664edab"
  }
 ],
 "metadata": {
  "kernelspec": {
   "display_name": "Python 3",
   "language": "python",
   "name": "python3"
  },
  "language_info": {
   "codemirror_mode": {
    "name": "ipython",
    "version": 2
   },
   "file_extension": ".py",
   "mimetype": "text/x-python",
   "name": "python",
   "nbconvert_exporter": "python",
   "pygments_lexer": "ipython2",
   "version": "2.7.6"
  }
 },
 "nbformat": 4,
 "nbformat_minor": 5
}
