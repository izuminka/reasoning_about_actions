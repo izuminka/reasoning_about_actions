{
 "cells": [
  {
   "cell_type": "code",
   "outputs": [],
   "source": [
    "import sys\n",
    "import json\n",
    "sys.path.append('..')\n",
    "sys.path.append('../questions_construction')\n",
    "\n",
    "from src.common import *\n",
    "from model_performances import *\n",
    "from copy import deepcopy\n",
    "\n",
    "import pandas as pd\n",
    "\n",
    "EVERYTHING_POSTFIX = 'everything'"
   ],
   "metadata": {
    "collapsed": false,
    "ExecuteTime": {
     "end_time": "2024-02-19T23:49:19.691963Z",
     "start_time": "2024-02-19T23:49:19.687328Z"
    }
   },
   "id": "1581e9208ff09f8e",
   "execution_count": 7
  },
  {
   "cell_type": "code",
   "outputs": [],
   "source": [
    "answer_type = TRUE_FALSE_ANSWER\n",
    "results_all = open_jsonl(os.path.join(STATISTICS_PATH, f'{answer_type}.jsonl'))\n",
    "\n",
    "d_ramifications_pretty = {\n",
    "    WITH_RAMIFICATIONS : 'WR',\n",
    "    WITHOUT_RAMIFICATIONS : 'WoR'\n",
    "}\n",
    "d_answer_type_pretty = {\n",
    "    TRUE_FALSE_ANSWER : 'T/F',\n",
    "    FREE_ANSWER : 'Free'\n",
    "}\n",
    "\n",
    "domain = ALL_DOMAINS_KEY #'blocksworld'\n",
    "plan_length = 15\n",
    "index = []\n",
    "data = []\n",
    "for question_category in QUESTION_CATEGORIES + [ALL_CATEGORIES_KEY]:\n",
    "    for ramifications in RAMIFICATION_TYPES:\n",
    "        index.append((plan_length, question_category, d_ramifications_pretty[ramifications], d_answer_type_pretty[answer_type]))\n",
    "        data_columns = {}\n",
    "        for model_name in PROMPT_MODEL_NAMES:\n",
    "            for prompt_type in PROMPT_TYPES:\n",
    "                instance = filter_results(results_all, plan_length, question_category, ramifications, model_name, prompt_type, domain, answer_type)\n",
    "                if not len(instance) == 1:\n",
    "                    raise ValueError(f'len(instance) == {len(instance)}')\n",
    "                data_columns[(model_name, prompt_type)] = instance[0][SK_RESULT]\n",
    "        data.append(data_columns)\n",
    "\n",
    "df = pd.DataFrame(data, index = index)"
   ],
   "metadata": {
    "collapsed": false,
    "ExecuteTime": {
     "end_time": "2024-02-20T00:20:20.019141Z",
     "start_time": "2024-02-20T00:20:19.445228Z"
    }
   },
   "id": "dd77fda858739d0e",
   "execution_count": 20
  },
  {
   "cell_type": "code",
   "outputs": [
    {
     "data": {
      "text/plain": "                                      (gemini, zero_shot_data)  \\\n(15, object_tracking, WR, T/F)                        0.692308   \n(15, object_tracking, WoR, T/F)                       0.692308   \n(15, fluent_tracking, WR, T/F)                        0.423077   \n(15, fluent_tracking, WoR, T/F)                       0.461538   \n(15, state_tracking, WR, T/F)                         0.615385   \n(15, state_tracking, WoR, T/F)                        0.615385   \n(15, action_executability, WR, T/F)                   0.576923   \n(15, action_executability, WoR, T/F)                  0.692308   \n(15, effects, WR, T/F)                                0.461538   \n(15, effects, WoR, T/F)                               0.500000   \n(15, numerical_reasoning, WR, T/F)                    0.479167   \n(15, numerical_reasoning, WoR, T/F)                   0.500000   \n(15, hallucination, WR, T/F)                          0.516667   \n(15, hallucination, WoR, T/F)                         0.553846   \n(15, all_categories, WR, T/F)                         0.518939   \n(15, all_categories, WoR, T/F)                        0.553114   \n\n                                      (gemini, few_shot_4)  \\\n(15, object_tracking, WR, T/F)                    0.653846   \n(15, object_tracking, WoR, T/F)                   0.791667   \n(15, fluent_tracking, WR, T/F)                    0.600000   \n(15, fluent_tracking, WoR, T/F)                   0.636364   \n(15, state_tracking, WR, T/F)                     0.700000   \n(15, state_tracking, WoR, T/F)                    0.818182   \n(15, action_executability, WR, T/F)               0.750000   \n(15, action_executability, WoR, T/F)              0.625000   \n(15, effects, WR, T/F)                            1.000000   \n(15, effects, WoR, T/F)                           0.500000   \n(15, numerical_reasoning, WR, T/F)                0.250000   \n(15, numerical_reasoning, WoR, T/F)               0.562500   \n(15, hallucination, WR, T/F)                      0.600000   \n(15, hallucination, WoR, T/F)                     0.750000   \n(15, all_categories, WR, T/F)                     0.640777   \n(15, all_categories, WoR, T/F)                    0.690141   \n\n                                      (gemini, few_shot_4_cot)  \\\n(15, object_tracking, WR, T/F)                        0.692308   \n(15, object_tracking, WoR, T/F)                       0.590909   \n(15, fluent_tracking, WR, T/F)                        0.704545   \n(15, fluent_tracking, WoR, T/F)                       0.625000   \n(15, state_tracking, WR, T/F)                         0.772727   \n(15, state_tracking, WoR, T/F)                        0.900000   \n(15, action_executability, WR, T/F)                   0.500000   \n(15, action_executability, WoR, T/F)                  0.625000   \n(15, effects, WR, T/F)                                0.375000   \n(15, effects, WoR, T/F)                               0.750000   \n(15, numerical_reasoning, WR, T/F)                    0.437500   \n(15, numerical_reasoning, WoR, T/F)                   0.437500   \n(15, hallucination, WR, T/F)                          0.750000   \n(15, hallucination, WoR, T/F)                         0.650000   \n(15, all_categories, WR, T/F)                         0.659722   \n(15, all_categories, WoR, T/F)                        0.649254   \n\n                                      (llama-2-7b, zero_shot_data)  \\\n(15, object_tracking, WR, T/F)                            0.346154   \n(15, object_tracking, WoR, T/F)                           0.576923   \n(15, fluent_tracking, WR, T/F)                            0.730769   \n(15, fluent_tracking, WoR, T/F)                           0.730769   \n(15, state_tracking, WR, T/F)                             0.576923   \n(15, state_tracking, WoR, T/F)                            0.615385   \n(15, action_executability, WR, T/F)                       0.153846   \n(15, action_executability, WoR, T/F)                      0.192308   \n(15, effects, WR, T/F)                                    0.576923   \n(15, effects, WoR, T/F)                                   0.692308   \n(15, numerical_reasoning, WR, T/F)                        0.173077   \n(15, numerical_reasoning, WoR, T/F)                       0.288462   \n(15, hallucination, WR, T/F)                              0.446154   \n(15, hallucination, WoR, T/F)                             0.292308   \n(15, all_categories, WR, T/F)                             0.435897   \n(15, all_categories, WoR, T/F)                            0.461538   \n\n                                      (llama-2-7b, few_shot_4)  \\\n(15, object_tracking, WR, T/F)                        0.153846   \n(15, object_tracking, WoR, T/F)                       0.125000   \n(15, fluent_tracking, WR, T/F)                        0.300000   \n(15, fluent_tracking, WoR, T/F)                       0.350000   \n(15, state_tracking, WR, T/F)                         0.100000   \n(15, state_tracking, WoR, T/F)                        0.200000   \n(15, action_executability, WR, T/F)                   0.500000   \n(15, action_executability, WoR, T/F)                  0.500000   \n(15, effects, WR, T/F)                                0.500000   \n(15, effects, WoR, T/F)                               1.000000   \n(15, numerical_reasoning, WR, T/F)                    0.250000   \n(15, numerical_reasoning, WoR, T/F)                   0.250000   \n(15, hallucination, WR, T/F)                          0.800000   \n(15, hallucination, WoR, T/F)                         0.800000   \n(15, all_categories, WR, T/F)                         0.267606   \n(15, all_categories, WoR, T/F)                        0.298507   \n\n                                      (llama-2-7b, few_shot_4_cot)  \n(15, object_tracking, WR, T/F)                            0.384615  \n(15, object_tracking, WoR, T/F)                           0.333333  \n(15, fluent_tracking, WR, T/F)                            0.400000  \n(15, fluent_tracking, WoR, T/F)                           0.350000  \n(15, state_tracking, WR, T/F)                             0.300000  \n(15, state_tracking, WoR, T/F)                            0.300000  \n(15, action_executability, WR, T/F)                       0.250000  \n(15, action_executability, WoR, T/F)                      0.500000  \n(15, effects, WR, T/F)                                    0.750000  \n(15, effects, WoR, T/F)                                   1.000000  \n(15, numerical_reasoning, WR, T/F)                        0.625000  \n(15, numerical_reasoning, WoR, T/F)                       0.500000  \n(15, hallucination, WR, T/F)                              0.600000  \n(15, hallucination, WoR, T/F)                             0.600000  \n(15, all_categories, WR, T/F)                             0.439024  \n(15, all_categories, WoR, T/F)                            0.388060  ",
      "text/html": "<div>\n<style scoped>\n    .dataframe tbody tr th:only-of-type {\n        vertical-align: middle;\n    }\n\n    .dataframe tbody tr th {\n        vertical-align: top;\n    }\n\n    .dataframe thead th {\n        text-align: right;\n    }\n</style>\n<table border=\"1\" class=\"dataframe\">\n  <thead>\n    <tr style=\"text-align: right;\">\n      <th></th>\n      <th>(gemini, zero_shot_data)</th>\n      <th>(gemini, few_shot_4)</th>\n      <th>(gemini, few_shot_4_cot)</th>\n      <th>(llama-2-7b, zero_shot_data)</th>\n      <th>(llama-2-7b, few_shot_4)</th>\n      <th>(llama-2-7b, few_shot_4_cot)</th>\n    </tr>\n  </thead>\n  <tbody>\n    <tr>\n      <th>(15, object_tracking, WR, T/F)</th>\n      <td>0.692308</td>\n      <td>0.653846</td>\n      <td>0.692308</td>\n      <td>0.346154</td>\n      <td>0.153846</td>\n      <td>0.384615</td>\n    </tr>\n    <tr>\n      <th>(15, object_tracking, WoR, T/F)</th>\n      <td>0.692308</td>\n      <td>0.791667</td>\n      <td>0.590909</td>\n      <td>0.576923</td>\n      <td>0.125000</td>\n      <td>0.333333</td>\n    </tr>\n    <tr>\n      <th>(15, fluent_tracking, WR, T/F)</th>\n      <td>0.423077</td>\n      <td>0.600000</td>\n      <td>0.704545</td>\n      <td>0.730769</td>\n      <td>0.300000</td>\n      <td>0.400000</td>\n    </tr>\n    <tr>\n      <th>(15, fluent_tracking, WoR, T/F)</th>\n      <td>0.461538</td>\n      <td>0.636364</td>\n      <td>0.625000</td>\n      <td>0.730769</td>\n      <td>0.350000</td>\n      <td>0.350000</td>\n    </tr>\n    <tr>\n      <th>(15, state_tracking, WR, T/F)</th>\n      <td>0.615385</td>\n      <td>0.700000</td>\n      <td>0.772727</td>\n      <td>0.576923</td>\n      <td>0.100000</td>\n      <td>0.300000</td>\n    </tr>\n    <tr>\n      <th>(15, state_tracking, WoR, T/F)</th>\n      <td>0.615385</td>\n      <td>0.818182</td>\n      <td>0.900000</td>\n      <td>0.615385</td>\n      <td>0.200000</td>\n      <td>0.300000</td>\n    </tr>\n    <tr>\n      <th>(15, action_executability, WR, T/F)</th>\n      <td>0.576923</td>\n      <td>0.750000</td>\n      <td>0.500000</td>\n      <td>0.153846</td>\n      <td>0.500000</td>\n      <td>0.250000</td>\n    </tr>\n    <tr>\n      <th>(15, action_executability, WoR, T/F)</th>\n      <td>0.692308</td>\n      <td>0.625000</td>\n      <td>0.625000</td>\n      <td>0.192308</td>\n      <td>0.500000</td>\n      <td>0.500000</td>\n    </tr>\n    <tr>\n      <th>(15, effects, WR, T/F)</th>\n      <td>0.461538</td>\n      <td>1.000000</td>\n      <td>0.375000</td>\n      <td>0.576923</td>\n      <td>0.500000</td>\n      <td>0.750000</td>\n    </tr>\n    <tr>\n      <th>(15, effects, WoR, T/F)</th>\n      <td>0.500000</td>\n      <td>0.500000</td>\n      <td>0.750000</td>\n      <td>0.692308</td>\n      <td>1.000000</td>\n      <td>1.000000</td>\n    </tr>\n    <tr>\n      <th>(15, numerical_reasoning, WR, T/F)</th>\n      <td>0.479167</td>\n      <td>0.250000</td>\n      <td>0.437500</td>\n      <td>0.173077</td>\n      <td>0.250000</td>\n      <td>0.625000</td>\n    </tr>\n    <tr>\n      <th>(15, numerical_reasoning, WoR, T/F)</th>\n      <td>0.500000</td>\n      <td>0.562500</td>\n      <td>0.437500</td>\n      <td>0.288462</td>\n      <td>0.250000</td>\n      <td>0.500000</td>\n    </tr>\n    <tr>\n      <th>(15, hallucination, WR, T/F)</th>\n      <td>0.516667</td>\n      <td>0.600000</td>\n      <td>0.750000</td>\n      <td>0.446154</td>\n      <td>0.800000</td>\n      <td>0.600000</td>\n    </tr>\n    <tr>\n      <th>(15, hallucination, WoR, T/F)</th>\n      <td>0.553846</td>\n      <td>0.750000</td>\n      <td>0.650000</td>\n      <td>0.292308</td>\n      <td>0.800000</td>\n      <td>0.600000</td>\n    </tr>\n    <tr>\n      <th>(15, all_categories, WR, T/F)</th>\n      <td>0.518939</td>\n      <td>0.640777</td>\n      <td>0.659722</td>\n      <td>0.435897</td>\n      <td>0.267606</td>\n      <td>0.439024</td>\n    </tr>\n    <tr>\n      <th>(15, all_categories, WoR, T/F)</th>\n      <td>0.553114</td>\n      <td>0.690141</td>\n      <td>0.649254</td>\n      <td>0.461538</td>\n      <td>0.298507</td>\n      <td>0.388060</td>\n    </tr>\n  </tbody>\n</table>\n</div>"
     },
     "execution_count": 21,
     "metadata": {},
     "output_type": "execute_result"
    }
   ],
   "source": [
    "df"
   ],
   "metadata": {
    "collapsed": false,
    "ExecuteTime": {
     "end_time": "2024-02-20T00:20:20.037563Z",
     "start_time": "2024-02-20T00:20:20.019369Z"
    }
   },
   "id": "8fb4feeb322b4ab0",
   "execution_count": 21
  },
  {
   "cell_type": "code",
   "outputs": [
    {
     "name": "stdout",
     "output_type": "stream",
     "text": [
      "\\begin{tabular}{lrrrrrr}\n",
      "\\toprule\n",
      "{} &  (gemini, zero\\_shot\\_data) &  (gemini, few\\_shot\\_4) &  (gemini, few\\_shot\\_4\\_cot) &  (llama-2-7b, zero\\_shot\\_data) &  (llama-2-7b, few\\_shot\\_4) &  (llama-2-7b, few\\_shot\\_4\\_cot) \\\\\n",
      "\\midrule\n",
      "(15, object\\_tracking, WR, T/F)       &                      0.69 &                  0.65 &                      0.69 &                          0.35 &                      0.15 &                          0.38 \\\\\n",
      "(15, object\\_tracking, WoR, T/F)      &                      0.69 &                  0.79 &                      0.59 &                          0.58 &                      0.12 &                          0.33 \\\\\n",
      "(15, fluent\\_tracking, WR, T/F)       &                      0.42 &                  0.60 &                      0.70 &                          0.73 &                      0.30 &                          0.40 \\\\\n",
      "(15, fluent\\_tracking, WoR, T/F)      &                      0.46 &                  0.64 &                      0.62 &                          0.73 &                      0.35 &                          0.35 \\\\\n",
      "(15, state\\_tracking, WR, T/F)        &                      0.62 &                  0.70 &                      0.77 &                          0.58 &                      0.10 &                          0.30 \\\\\n",
      "(15, state\\_tracking, WoR, T/F)       &                      0.62 &                  0.82 &                      0.90 &                          0.62 &                      0.20 &                          0.30 \\\\\n",
      "(15, action\\_executability, WR, T/F)  &                      0.58 &                  0.75 &                      0.50 &                          0.15 &                      0.50 &                          0.25 \\\\\n",
      "(15, action\\_executability, WoR, T/F) &                      0.69 &                  0.62 &                      0.62 &                          0.19 &                      0.50 &                          0.50 \\\\\n",
      "(15, effects, WR, T/F)               &                      0.46 &                  1.00 &                      0.38 &                          0.58 &                      0.50 &                          0.75 \\\\\n",
      "(15, effects, WoR, T/F)              &                      0.50 &                  0.50 &                      0.75 &                          0.69 &                      1.00 &                          1.00 \\\\\n",
      "(15, numerical\\_reasoning, WR, T/F)   &                      0.48 &                  0.25 &                      0.44 &                          0.17 &                      0.25 &                          0.62 \\\\\n",
      "(15, numerical\\_reasoning, WoR, T/F)  &                      0.50 &                  0.56 &                      0.44 &                          0.29 &                      0.25 &                          0.50 \\\\\n",
      "(15, hallucination, WR, T/F)         &                      0.52 &                  0.60 &                      0.75 &                          0.45 &                      0.80 &                          0.60 \\\\\n",
      "(15, hallucination, WoR, T/F)        &                      0.55 &                  0.75 &                      0.65 &                          0.29 &                      0.80 &                          0.60 \\\\\n",
      "(15, all\\_categories, WR, T/F)        &                      0.52 &                  0.64 &                      0.66 &                          0.44 &                      0.27 &                          0.44 \\\\\n",
      "(15, all\\_categories, WoR, T/F)       &                      0.55 &                  0.69 &                      0.65 &                          0.46 &                      0.30 &                          0.39 \\\\\n",
      "\\bottomrule\n",
      "\\end{tabular}\n"
     ]
    },
    {
     "name": "stderr",
     "output_type": "stream",
     "text": [
      "/var/folders/_0/bqv6dr454lsgny6_gs_xb0q80000gn/T/ipykernel_22343/3014125125.py:1: FutureWarning: In future versions `DataFrame.to_latex` is expected to utilise the base implementation of `Styler.to_latex` for formatting and rendering. The arguments signature may therefore change. It is recommended instead to use `DataFrame.style.to_latex` which also contains additional functionality.\n",
      "  print(df.to_latex(index=True,\n"
     ]
    }
   ],
   "source": [
    "print(df.to_latex(index=True,\n",
    "                  formatters={\"name\": str.upper},\n",
    "                  float_format=\"{:.2f}\".format))\n",
    "      \n",
    "      \n",
    "      "
   ],
   "metadata": {
    "collapsed": false,
    "ExecuteTime": {
     "end_time": "2024-02-20T00:20:20.775035Z",
     "start_time": "2024-02-20T00:20:20.747181Z"
    }
   },
   "id": "a001ec8b48de6694",
   "execution_count": 22
  },
  {
   "cell_type": "code",
   "outputs": [],
   "source": [],
   "metadata": {
    "collapsed": false
   },
   "id": "428370eae1e1deac"
  }
 ],
 "metadata": {
  "kernelspec": {
   "display_name": "Python 3",
   "language": "python",
   "name": "python3"
  },
  "language_info": {
   "codemirror_mode": {
    "name": "ipython",
    "version": 2
   },
   "file_extension": ".py",
   "mimetype": "text/x-python",
   "name": "python",
   "nbconvert_exporter": "python",
   "pygments_lexer": "ipython2",
   "version": "2.7.6"
  }
 },
 "nbformat": 4,
 "nbformat_minor": 5
}
