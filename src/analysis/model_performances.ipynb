{
 "cells": [
  {
   "cell_type": "code",
   "outputs": [],
   "source": [
    "import sys\n",
    "sys.path.append('..')\n",
    "from src.common import *\n",
    "sys.path.append('../questions_construction')\n",
    "from src.questions_construction.main import QUESTION_CATEGORIES\n",
    "\n",
    "from collections import defaultdict"
   ],
   "metadata": {
    "collapsed": false,
    "ExecuteTime": {
     "end_time": "2024-02-14T01:48:23.034043Z",
     "start_time": "2024-02-14T01:48:23.030926Z"
    }
   },
   "id": "1581e9208ff09f8e",
   "execution_count": 10
  },
  {
   "cell_type": "code",
   "outputs": [],
   "source": [
    "domain_name = 'blocksworld'\n",
    "instance_name = 'Instance_1'\n",
    "\n",
    "model_name = 'gemini'\n",
    "eval_type = 'zero_shot'\n",
    "\n",
    "results_path = f'{RESULTS_PATH}/{model_name}/{eval_type}/{domain_name}/{instance_name}.jsonl'\n",
    "results = open_jsonl(results_path)"
   ],
   "metadata": {
    "collapsed": true,
    "ExecuteTime": {
     "end_time": "2024-02-14T01:48:23.385267Z",
     "start_time": "2024-02-14T01:48:23.352627Z"
    }
   },
   "id": "initial_id",
   "execution_count": 11
  },
  {
   "cell_type": "code",
   "outputs": [],
   "source": [
    "by_question_category = {v: defaultdict(list) for v in QUESTION_CATEGORIES}\n",
    "\n",
    "for d in results:\n",
    "    by_question_category[d[OUT_OBJ_QUESTION_CATEGORY]][d[OUT_OBJ_ANSWER_TYPE]].append(d)"
   ],
   "metadata": {
    "collapsed": false,
    "ExecuteTime": {
     "end_time": "2024-02-14T01:48:24.141102Z",
     "start_time": "2024-02-14T01:48:24.138504Z"
    }
   },
   "id": "3c6ffa5a4e67cac7",
   "execution_count": 12
  },
  {
   "cell_type": "code",
   "outputs": [],
   "source": [
    "import "
   ],
   "metadata": {
    "collapsed": false
   },
   "id": "e0acad77c9d5c652"
  }
 ],
 "metadata": {
  "kernelspec": {
   "display_name": "Python 3",
   "language": "python",
   "name": "python3"
  },
  "language_info": {
   "codemirror_mode": {
    "name": "ipython",
    "version": 2
   },
   "file_extension": ".py",
   "mimetype": "text/x-python",
   "name": "python",
   "nbconvert_exporter": "python",
   "pygments_lexer": "ipython2",
   "version": "2.7.6"
  }
 },
 "nbformat": 4,
 "nbformat_minor": 5
}
