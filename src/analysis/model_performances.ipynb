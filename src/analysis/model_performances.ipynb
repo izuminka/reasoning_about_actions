{
 "cells": [
  {
   "cell_type": "code",
   "outputs": [],
   "source": [
    "import sys\n",
    "import json\n",
    "sys.path.append('..')\n",
    "sys.path.append('../questions_construction')\n",
    "\n",
    "from src.common import *\n",
    "from model_performances import *\n",
    "from copy import deepcopy\n",
    "\n",
    "import pandas as pd\n",
    "\n",
    "EVERYTHING_POSTFIX = 'everything'"
   ],
   "metadata": {
    "collapsed": false,
    "ExecuteTime": {
     "end_time": "2024-02-20T01:08:07.667105Z",
     "start_time": "2024-02-20T01:08:07.662989Z"
    }
   },
   "id": "1581e9208ff09f8e",
   "execution_count": 25
  },
  {
   "cell_type": "code",
   "outputs": [],
   "source": [
    "def to_latex(results_all, answer_type, plan_length,  domain = ALL_DOMAINS_KEY):\n",
    "    d_ramifications_pretty = {\n",
    "        WITH_RAMIFICATIONS : 'R',\n",
    "        WITHOUT_RAMIFICATIONS : 'No R'\n",
    "    }\n",
    "    d_answer_type_pretty = {\n",
    "        TRUE_FALSE_ANSWER : 'T/F',\n",
    "        FREE_ANSWER : 'Free'\n",
    "    }\n",
    "    \n",
    "    index = []\n",
    "    data = []\n",
    "    for question_category in QUESTION_CATEGORIES + [ALL_CATEGORIES_KEY]:\n",
    "        for ramifications in RAMIFICATION_TYPES:\n",
    "            index.append((plan_length, question_category, d_ramifications_pretty[ramifications], d_answer_type_pretty[answer_type]))\n",
    "            data_columns = {}\n",
    "            for model_name in PROMPT_MODEL_NAMES:\n",
    "                for prompt_type in PROMPT_TYPES:\n",
    "                    instance = filter_results(results_all, plan_length, question_category, ramifications, model_name, prompt_type, domain, answer_type)\n",
    "                    if not len(instance) == 1:\n",
    "                        raise ValueError(f'len(instance) == {len(instance)}')\n",
    "                    data_columns[(model_name, prompt_type)] = instance[0][SK_RESULT]\n",
    "            data.append(data_columns)\n",
    "            \n",
    "    df = pd.DataFrame(data, index = index)\n",
    "    latex_table = df.to_latex(index=True,\n",
    "                  formatters={\"name\": str.upper},\n",
    "                  float_format=\"{:.2f}\".format)\n",
    "    latex_table = latex_table[latex_table.find('\\midrule'):].replace(\"bottomrule\", 'crap').replace(\"\\crap\", '').replace(\"\\end{tabular}\", '')\n",
    "    return latex_table"
   ],
   "metadata": {
    "collapsed": false,
    "ExecuteTime": {
     "end_time": "2024-02-20T01:17:48.926363Z",
     "start_time": "2024-02-20T01:17:48.919838Z"
    }
   },
   "id": "dd77fda858739d0e",
   "execution_count": 40
  },
  {
   "cell_type": "markdown",
   "source": [],
   "metadata": {
    "collapsed": false
   },
   "id": "ad19808544d2bbd5"
  },
  {
   "cell_type": "code",
   "outputs": [
    {
     "name": "stderr",
     "output_type": "stream",
     "text": [
      "/var/folders/_0/bqv6dr454lsgny6_gs_xb0q80000gn/T/ipykernel_22343/948724066.py:26: FutureWarning: In future versions `DataFrame.to_latex` is expected to utilise the base implementation of `Styler.to_latex` for formatting and rendering. The arguments signature may therefore change. It is recommended instead to use `DataFrame.style.to_latex` which also contains additional functionality.\n",
      "  latex_table = df.to_latex(index=True,\n",
      "/var/folders/_0/bqv6dr454lsgny6_gs_xb0q80000gn/T/ipykernel_22343/948724066.py:26: FutureWarning: In future versions `DataFrame.to_latex` is expected to utilise the base implementation of `Styler.to_latex` for formatting and rendering. The arguments signature may therefore change. It is recommended instead to use `DataFrame.style.to_latex` which also contains additional functionality.\n",
      "  latex_table = df.to_latex(index=True,\n",
      "/var/folders/_0/bqv6dr454lsgny6_gs_xb0q80000gn/T/ipykernel_22343/948724066.py:26: FutureWarning: In future versions `DataFrame.to_latex` is expected to utilise the base implementation of `Styler.to_latex` for formatting and rendering. The arguments signature may therefore change. It is recommended instead to use `DataFrame.style.to_latex` which also contains additional functionality.\n",
      "  latex_table = df.to_latex(index=True,\n",
      "/var/folders/_0/bqv6dr454lsgny6_gs_xb0q80000gn/T/ipykernel_22343/948724066.py:26: FutureWarning: In future versions `DataFrame.to_latex` is expected to utilise the base implementation of `Styler.to_latex` for formatting and rendering. The arguments signature may therefore change. It is recommended instead to use `DataFrame.style.to_latex` which also contains additional functionality.\n",
      "  latex_table = df.to_latex(index=True,\n",
      "/var/folders/_0/bqv6dr454lsgny6_gs_xb0q80000gn/T/ipykernel_22343/948724066.py:26: FutureWarning: In future versions `DataFrame.to_latex` is expected to utilise the base implementation of `Styler.to_latex` for formatting and rendering. The arguments signature may therefore change. It is recommended instead to use `DataFrame.style.to_latex` which also contains additional functionality.\n",
      "  latex_table = df.to_latex(index=True,\n"
     ]
    }
   ],
   "source": [
    "answer_type = TRUE_FALSE_ANSWER\n",
    "results_all = open_jsonl(os.path.join(STATISTICS_PATH, f'{answer_type}.jsonl'))\n",
    "latex_table_all = '\\n'.join([to_latex(results_all, answer_type, plan_length) for plan_length in PLAN_LENGTHS])\n",
    "\n"
   ],
   "metadata": {
    "collapsed": false,
    "ExecuteTime": {
     "end_time": "2024-02-20T01:17:52.745790Z",
     "start_time": "2024-02-20T01:17:50.166512Z"
    }
   },
   "id": "8fb4feeb322b4ab0",
   "execution_count": 41
  },
  {
   "cell_type": "code",
   "outputs": [
    {
     "name": "stdout",
     "output_type": "stream",
     "text": [
      "\\midrule\n",
      "(1, object\\_tracking, R, T/F)         &                      0.65 &                  0.69 &                      0.46 &                          0.62 &                      0.31 &                          0.38 \\\\\n",
      "(1, object\\_tracking, No R, T/F)      &                      0.54 &                  0.62 &                      0.75 &                          0.46 &                      0.29 &                          0.62 \\\\\n",
      "(1, fluent\\_tracking, R, T/F)         &                      0.54 &                  0.80 &                      0.80 &                          0.65 &                      0.30 &                          0.47 \\\\\n",
      "(1, fluent\\_tracking, No R, T/F)      &                      0.71 &                  0.66 &                      0.70 &                          0.63 &                      0.22 &                          0.44 \\\\\n",
      "(1, state\\_tracking, R, T/F)          &                      0.62 &                  0.80 &                      0.77 &                          0.46 &                      0.40 &                          0.40 \\\\\n",
      "(1, state\\_tracking, No R, T/F)       &                      0.62 &                  0.68 &                      0.80 &                          0.50 &                      0.40 &                          0.50 \\\\\n",
      "(1, action\\_executability, R, T/F)    &                      0.69 &                  0.70 &                      0.59 &                          0.19 &                      0.10 &                          0.60 \\\\\n",
      "(1, action\\_executability, No R, T/F) &                      0.77 &                  0.73 &                      0.90 &                          0.27 &                      0.20 &                          0.40 \\\\\n",
      "(1, effects, R, T/F)                 &                      0.50 &                  0.75 &                      0.62 &                          0.62 &                      0.00 &                          0.75 \\\\\n",
      "(1, effects, No R, T/F)              &                      0.46 &                  0.50 &                      0.50 &                          0.69 &                      0.00 &                          0.50 \\\\\n",
      "(1, numerical\\_reasoning, R, T/F)     &                      0.42 &                  0.38 &                      0.56 &                          0.13 &                      0.25 &                          0.62 \\\\\n",
      "(1, numerical\\_reasoning, No R, T/F)  &                      0.54 &                  0.56 &                      0.50 &                          0.15 &                      0.25 &                          0.25 \\\\\n",
      "(1, hallucination, R, T/F)           &                      0.62 &                  1.00 &                      0.80 &                          0.40 &                      0.60 &                          0.70 \\\\\n",
      "(1, hallucination, No R, T/F)        &                      0.52 &                  0.80 &                      0.85 &                          0.37 &                      0.20 &                          0.60 \\\\\n",
      "(1, all\\_categories, R, T/F)          &                      0.56 &                  0.74 &                      0.68 &                          0.42 &                      0.30 &                          0.50 \\\\\n",
      "(1, all\\_categories, No R, T/F)       &                      0.59 &                  0.67 &                      0.74 &                          0.42 &                      0.25 &                          0.49 \\\\\n",
      "\n",
      "\n",
      "\n",
      "\n",
      "\\midrule\n",
      "(5, object\\_tracking, R, T/F)         &                      0.38 &                  0.46 &                      0.42 &                          0.58 &                      0.19 &                          0.42 \\\\\n",
      "(5, object\\_tracking, No R, T/F)      &                      0.50 &                  0.50 &                      0.55 &                          0.58 &                      0.33 &                          0.58 \\\\\n",
      "(5, fluent\\_tracking, R, T/F)         &                      0.58 &                  0.64 &                      0.73 &                          0.62 &                      0.43 &                          0.48 \\\\\n",
      "(5, fluent\\_tracking, No R, T/F)      &                      0.69 &                  0.89 &                      0.65 &                          0.69 &                      0.52 &                          0.43 \\\\\n",
      "(5, state\\_tracking, R, T/F)          &                      0.69 &                  0.75 &                      0.73 &                          0.35 &                      0.40 &                          0.30 \\\\\n",
      "(5, state\\_tracking, No R, T/F)       &                      0.85 &                  0.82 &                      0.80 &                          0.38 &                      0.30 &                          0.40 \\\\\n",
      "(5, action\\_executability, R, T/F)    &                      0.77 &                  0.75 &                      0.88 &                          0.23 &                      0.25 &                          0.00 \\\\\n",
      "(5, action\\_executability, No R, T/F) &                      0.69 &                  0.88 &                      0.88 &                          0.38 &                      0.25 &                          0.50 \\\\\n",
      "(5, effects, R, T/F)                 &                      0.58 &                  0.75 &                      0.25 &                          0.58 &                      0.50 &                          0.75 \\\\\n",
      "(5, effects, No R, T/F)              &                      0.58 &                  0.88 &                      0.62 &                          0.62 &                      1.00 &                          0.50 \\\\\n",
      "(5, numerical\\_reasoning, R, T/F)     &                      0.56 &                  0.50 &                      0.69 &                          0.21 &                      0.25 &                          1.00 \\\\\n",
      "(5, numerical\\_reasoning, No R, T/F)  &                      0.44 &                  0.50 &                      0.56 &                          0.25 &                      0.25 &                          0.75 \\\\\n",
      "(5, hallucination, R, T/F)           &                      0.53 &                  1.00 &                      0.65 &                          0.38 &                      0.40 &                          0.70 \\\\\n",
      "(5, hallucination, No R, T/F)        &                      0.57 &                  0.80 &                      0.85 &                          0.38 &                      0.40 &                          0.40 \\\\\n",
      "(5, all\\_categories, R, T/F)          &                      0.57 &                  0.63 &                      0.64 &                          0.41 &                      0.32 &                          0.51 \\\\\n",
      "(5, all\\_categories, No R, T/F)       &                      0.60 &                  0.75 &                      0.69 &                          0.46 &                      0.40 &                          0.50 \\\\\n",
      "\n",
      "\n",
      "\n",
      "\n",
      "\\midrule\n",
      "(10, object\\_tracking, R, T/F)         &                      0.62 &                  0.62 &                      0.62 &                          0.46 &                      0.31 &                          0.38 \\\\\n",
      "(10, object\\_tracking, No R, T/F)      &                      0.50 &                  0.67 &                      0.59 &                          0.42 &                      0.50 &                          0.54 \\\\\n",
      "(10, fluent\\_tracking, R, T/F)         &                      0.60 &                  0.68 &                      0.73 &                          0.63 &                      0.40 &                          0.55 \\\\\n",
      "(10, fluent\\_tracking, No R, T/F)      &                      0.62 &                  0.68 &                      0.60 &                          0.62 &                      0.30 &                          0.40 \\\\\n",
      "(10, state\\_tracking, R, T/F)          &                      0.50 &                  0.50 &                      0.64 &                          0.42 &                      0.30 &                          0.10 \\\\\n",
      "(10, state\\_tracking, No R, T/F)       &                      0.62 &                  0.77 &                      0.50 &                          0.38 &                      0.20 &                          0.30 \\\\\n",
      "(10, action\\_executability, R, T/F)    &                      0.42 &                  0.75 &                      0.75 &                          0.23 &                      0.00 &                          0.50 \\\\\n",
      "(10, action\\_executability, No R, T/F) &                      0.38 &                  0.88 &                      0.75 &                          0.46 &                      0.25 &                          0.25 \\\\\n",
      "(10, effects, R, T/F)                 &                      0.50 &                  0.50 &                      0.50 &                          0.65 &                      1.00 &                          0.50 \\\\\n",
      "(10, effects, No R, T/F)              &                      0.46 &                  0.50 &                      0.62 &                          0.69 &                      1.00 &                          1.00 \\\\\n",
      "(10, numerical\\_reasoning, R, T/F)     &                      0.46 &                  0.57 &                      0.44 &                          0.27 &                      0.25 &                          0.12 \\\\\n",
      "(10, numerical\\_reasoning, No R, T/F)  &                      0.54 &                  0.56 &                      0.69 &                          0.25 &                      0.25 &                          0.50 \\\\\n",
      "(10, hallucination, R, T/F)           &                      0.53 &                  1.00 &                      0.55 &                          0.46 &                      0.40 &                          0.70 \\\\\n",
      "(10, hallucination, No R, T/F)        &                      0.60 &                  0.80 &                      0.80 &                          0.42 &                      0.20 &                          0.80 \\\\\n",
      "(10, all\\_categories, R, T/F)          &                      0.52 &                  0.63 &                      0.62 &                          0.45 &                      0.34 &                          0.41 \\\\\n",
      "(10, all\\_categories, No R, T/F)       &                      0.55 &                  0.70 &                      0.63 &                          0.45 &                      0.36 &                          0.48 \\\\\n",
      "\n",
      "\n",
      "\n",
      "\n",
      "\\midrule\n",
      "(15, object\\_tracking, R, T/F)         &                      0.69 &                  0.65 &                      0.69 &                          0.35 &                      0.15 &                          0.38 \\\\\n",
      "(15, object\\_tracking, No R, T/F)      &                      0.69 &                  0.79 &                      0.59 &                          0.58 &                      0.12 &                          0.33 \\\\\n",
      "(15, fluent\\_tracking, R, T/F)         &                      0.42 &                  0.60 &                      0.70 &                          0.73 &                      0.30 &                          0.40 \\\\\n",
      "(15, fluent\\_tracking, No R, T/F)      &                      0.46 &                  0.64 &                      0.62 &                          0.73 &                      0.35 &                          0.35 \\\\\n",
      "(15, state\\_tracking, R, T/F)          &                      0.62 &                  0.70 &                      0.77 &                          0.58 &                      0.10 &                          0.30 \\\\\n",
      "(15, state\\_tracking, No R, T/F)       &                      0.62 &                  0.82 &                      0.90 &                          0.62 &                      0.20 &                          0.30 \\\\\n",
      "(15, action\\_executability, R, T/F)    &                      0.58 &                  0.75 &                      0.50 &                          0.15 &                      0.50 &                          0.25 \\\\\n",
      "(15, action\\_executability, No R, T/F) &                      0.69 &                  0.62 &                      0.62 &                          0.19 &                      0.50 &                          0.50 \\\\\n",
      "(15, effects, R, T/F)                 &                      0.46 &                  1.00 &                      0.38 &                          0.58 &                      0.50 &                          0.75 \\\\\n",
      "(15, effects, No R, T/F)              &                      0.50 &                  0.50 &                      0.75 &                          0.69 &                      1.00 &                          1.00 \\\\\n",
      "(15, numerical\\_reasoning, R, T/F)     &                      0.48 &                  0.25 &                      0.44 &                          0.17 &                      0.25 &                          0.62 \\\\\n",
      "(15, numerical\\_reasoning, No R, T/F)  &                      0.50 &                  0.56 &                      0.44 &                          0.29 &                      0.25 &                          0.50 \\\\\n",
      "(15, hallucination, R, T/F)           &                      0.52 &                  0.60 &                      0.75 &                          0.45 &                      0.80 &                          0.60 \\\\\n",
      "(15, hallucination, No R, T/F)        &                      0.55 &                  0.75 &                      0.65 &                          0.29 &                      0.80 &                          0.60 \\\\\n",
      "(15, all\\_categories, R, T/F)          &                      0.52 &                  0.64 &                      0.66 &                          0.44 &                      0.27 &                          0.44 \\\\\n",
      "(15, all\\_categories, No R, T/F)       &                      0.55 &                  0.69 &                      0.65 &                          0.46 &                      0.30 &                          0.39 \\\\\n",
      "\n",
      "\n",
      "\n",
      "\n",
      "\\midrule\n",
      "(19, object\\_tracking, R, T/F)         &                      0.58 &                  0.58 &                      0.50 &                          0.58 &                      0.31 &                          0.19 \\\\\n",
      "(19, object\\_tracking, No R, T/F)      &                      0.65 &                  0.58 &                      0.64 &                          0.50 &                      0.21 &                          0.38 \\\\\n",
      "(19, fluent\\_tracking, R, T/F)         &                      0.58 &                  0.62 &                      0.61 &                          0.58 &                      0.30 &                          0.35 \\\\\n",
      "(19, fluent\\_tracking, No R, T/F)      &                      0.54 &                  0.48 &                      0.53 &                          0.62 &                      0.30 &                          0.40 \\\\\n",
      "(19, state\\_tracking, R, T/F)          &                      0.46 &                  0.40 &                      0.45 &                          0.54 &                      0.30 &                          0.20 \\\\\n",
      "(19, state\\_tracking, No R, T/F)       &                      0.38 &                  0.41 &                      0.35 &                          0.54 &                      0.30 &                          0.30 \\\\\n",
      "(19, action\\_executability, R, T/F)    &                      0.46 &                  0.50 &                      0.50 &                          0.27 &                      0.50 &                          0.25 \\\\\n",
      "(19, action\\_executability, No R, T/F) &                      0.50 &                  0.25 &                      0.75 &                          0.19 &                      0.00 &                          0.00 \\\\\n",
      "(19, effects, R, T/F)                 &                      0.54 &                  0.75 &                      0.75 &                          0.58 &                      0.50 &                          0.50 \\\\\n",
      "(19, effects, No R, T/F)              &                      0.50 &                  0.62 &                      0.62 &                          0.58 &                      1.00 &                          1.00 \\\\\n",
      "(19, numerical\\_reasoning, R, T/F)     &                      0.54 &                  0.75 &                      0.38 &                          0.31 &                      0.50 &                          0.38 \\\\\n",
      "(19, numerical\\_reasoning, No R, T/F)  &                      0.54 &                  0.75 &                      0.44 &                          0.29 &                      0.50 &                          0.50 \\\\\n",
      "(19, hallucination, R, T/F)           &                      0.53 &                  0.60 &                      0.75 &                          0.40 &                      0.60 &                          0.60 \\\\\n",
      "(19, hallucination, No R, T/F)        &                      0.63 &                  0.75 &                      0.85 &                          0.32 &                      0.60 &                          0.60 \\\\\n",
      "(19, all\\_categories, R, T/F)          &                      0.53 &                  0.57 &                      0.56 &                          0.45 &                      0.35 &                          0.32 \\\\\n",
      "(19, all\\_categories, No R, T/F)       &                      0.55 &                  0.55 &                      0.57 &                          0.42 &                      0.31 &                          0.40 \\\\\n"
     ]
    }
   ],
   "source": [
    "print(latex_table_all)"
   ],
   "metadata": {
    "collapsed": false,
    "ExecuteTime": {
     "end_time": "2024-02-20T01:17:52.751050Z",
     "start_time": "2024-02-20T01:17:52.745904Z"
    }
   },
   "id": "428370eae1e1deac",
   "execution_count": 42
  },
  {
   "cell_type": "code",
   "outputs": [],
   "source": [],
   "metadata": {
    "collapsed": false
   },
   "id": "ac651610f3002e7d"
  }
 ],
 "metadata": {
  "kernelspec": {
   "display_name": "Python 3",
   "language": "python",
   "name": "python3"
  },
  "language_info": {
   "codemirror_mode": {
    "name": "ipython",
    "version": 2
   },
   "file_extension": ".py",
   "mimetype": "text/x-python",
   "name": "python",
   "nbconvert_exporter": "python",
   "pygments_lexer": "ipython2",
   "version": "2.7.6"
  }
 },
 "nbformat": 4,
 "nbformat_minor": 5
}
