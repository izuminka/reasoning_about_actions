{
 "cells": [
  {
   "cell_type": "code",
   "outputs": [],
   "source": [
    "import sys\n",
    "import json\n",
    "sys.path.append('..')\n",
    "sys.path.append('../questions_construction')\n",
    "\n",
    "from src.common import *\n",
    "from model_performances import *\n",
    "from copy import deepcopy\n",
    "\n",
    "import pandas as pd\n",
    "\n",
    "EVERYTHING_POSTFIX = 'everything'"
   ],
   "metadata": {
    "collapsed": false,
    "ExecuteTime": {
     "end_time": "2024-02-19T20:08:27.568260Z",
     "start_time": "2024-02-19T20:08:24.882240Z"
    }
   },
   "id": "1581e9208ff09f8e",
   "execution_count": 1
  },
  {
   "cell_type": "code",
   "outputs": [],
   "source": [
    "data_all_flat = []\n",
    "for ramifications in [WITH_RAMIFICATIONS, WITH_RAMIFICATIONS]:\n",
    "    for answer_response in [TRUE_FALSE_ANSWER, FREE_ANSWER]:\n",
    "        for model_name in PROMPT_MODEL_NAMES:\n",
    "            for prompt_type in PROMPT_TYPES:\n",
    "                try:\n",
    "                    results_path = os.path.join(STATISTICS_PATH, ramifications, model_name, prompt_type,f'{answer_response}.json')\n",
    "                    with open(results_path) as f:\n",
    "                        data = json.load(f)\n",
    "                    data_all_flat.extend(data)\n",
    "                except Exception:\n",
    "                    pass"
   ],
   "metadata": {
    "collapsed": false,
    "ExecuteTime": {
     "end_time": "2024-02-19T20:31:45.333506Z",
     "start_time": "2024-02-19T20:31:45.319026Z"
    }
   },
   "id": "dd77fda858739d0e",
   "execution_count": 5
  },
  {
   "cell_type": "code",
   "outputs": [
    {
     "data": {
      "text/plain": "{'true_false_answer_by_category': {'object_tracking': {'1': 0.5,\n   '5': 0.5,\n   '10': 1.0,\n   '15': 0.5,\n   '19': 0.5,\n   'all': 0.6},\n  'fluent_tracking': {'1': 1.0,\n   '5': 0.5,\n   '10': 0.75,\n   '15': 0.25,\n   '19': 0.5,\n   'all': 0.6},\n  'state_tracking': {'1': 1.0,\n   '5': 0.5,\n   '10': 1.0,\n   '15': 1.0,\n   '19': 0.0,\n   'all': 0.7},\n  'action_executability': {'1': 0.5,\n   '5': 0.5,\n   '10': 0.5,\n   '15': 1.0,\n   '19': 1.0,\n   'all': 0.7},\n  'effects': {'1': 0.5, '5': 0.5, '10': 0.5, '15': 1.0, '19': 1.0, 'all': 0.7},\n  'numerical_reasoning': {'1': 0.75,\n   '5': 0.5,\n   '10': 1.0,\n   '15': 0.0,\n   '19': 0.0,\n   'all': 0.7272727272727273},\n  'all': {'1': 0.75,\n   '5': 0.5,\n   '10': 1.0,\n   '15': 0.0,\n   '19': 0.0,\n   'all': 0.7272727272727273}},\n 'true_false_answer_in_response_by_category': {'object_tracking': {'1': 0.5,\n   '5': 0.5,\n   '10': 1.0,\n   '15': 0.5,\n   '19': 0.5,\n   'all': 0.6},\n  'fluent_tracking': {'1': 1.0,\n   '5': 0.5,\n   '10': 0.75,\n   '15': 0.25,\n   '19': 0.5,\n   'all': 0.6},\n  'state_tracking': {'1': 1.0,\n   '5': 0.5,\n   '10': 1.0,\n   '15': 1.0,\n   '19': 0.0,\n   'all': 0.7},\n  'action_executability': {'1': 0.5,\n   '5': 0.5,\n   '10': 0.5,\n   '15': 1.0,\n   '19': 1.0,\n   'all': 0.7},\n  'effects': {'1': 0.5, '5': 0.5, '10': 0.5, '15': 1.0, '19': 1.0, 'all': 0.7},\n  'numerical_reasoning': {'1': 0.75,\n   '5': 0.5,\n   '10': 1.0,\n   '15': 0.0,\n   '19': 0.0,\n   'all': 0.7272727272727273},\n  'all': {'1': 0.75,\n   '5': 0.5,\n   '10': 1.0,\n   '15': 0.0,\n   '19': 0.0,\n   'all': 0.7272727272727273}},\n 'model_name': 'gemini',\n 'eval_type': 'few_shot_4',\n 'domain': 'blocksworld'}"
     },
     "execution_count": 6,
     "metadata": {},
     "output_type": "execute_result"
    }
   ],
   "source": [
    "data_all_flat[0]"
   ],
   "metadata": {
    "collapsed": false,
    "ExecuteTime": {
     "end_time": "2024-02-19T20:42:18.029840Z",
     "start_time": "2024-02-19T20:42:18.022726Z"
    }
   },
   "id": "c2d159393ea2e840",
   "execution_count": 6
  },
  {
   "cell_type": "code",
   "outputs": [],
   "source": [
    "def fish_out(data_all_flat, keys_values_ls):\n",
    "    results = []\n",
    "    for d in data_all_flat:\n",
    "       if all(d[k]==v for k, v in keys_values_ls):\n",
    "           results.append(d)\n",
    "    return results\n",
    "            "
   ],
   "metadata": {
    "collapsed": false
   },
   "id": "74717df9ecf56691"
  },
  {
   "cell_type": "code",
   "outputs": [],
   "source": [
    "plan_length = 1\n",
    "index = []\n",
    "for category in QUESTION_CATEGORIES + [ALL_CATEGORIES]:\n",
    "    for ramifications in RAMIFICATION_TYPES:\n",
    "        for answer_response in ANSWER_RESPONSES:\n",
    "            index.append([plan_length, category, ramifications, answer_response])\n",
    "            data_columns = {}\n",
    "            for model_name in PROMPT_MODEL_NAMES:\n",
    "                for prompt_type in PROMPT_TYPES:\n",
    "                    keys_values_ls = [(CATEGORY_KEY, category), (RAMIFICATION_KEY, ramifications), (ANSWER_RESPONSE_KEY, answer_response), (MODEL_NAME_KEY, model_name), (PROMPT_TYPE_KEY, prompt_type), (PLAN_LENGTH_KEY, plan_length)]\n",
    "                    data_columns[(model_name, prompt_type)] = fish_out(data_all_flat, keys_values_ls)\n",
    "                    \n"
   ],
   "metadata": {
    "collapsed": false
   },
   "id": "58fe961631fafc80"
  },
  {
   "cell_type": "code",
   "outputs": [
    {
     "data": {
      "text/plain": "[{'true_false_answer': {},\n  'free_answer': {},\n  'model_name': 'llama-7b',\n  'eval_type': 'zero_shot_data',\n  'domain': 'blocksworld'},\n {'true_false_answer': {},\n  'free_answer': {},\n  'model_name': 'llama-7b',\n  'eval_type': 'zero_shot_data',\n  'domain': 'depots'},\n {'true_false_answer': {},\n  'free_answer': {},\n  'model_name': 'llama-7b',\n  'eval_type': 'zero_shot_data',\n  'domain': 'driverlog'},\n {'true_false_answer': {},\n  'free_answer': {},\n  'model_name': 'llama-7b',\n  'eval_type': 'zero_shot_data',\n  'domain': 'goldminer'},\n {'true_false_answer': {},\n  'free_answer': {},\n  'model_name': 'llama-7b',\n  'eval_type': 'zero_shot_data',\n  'domain': 'grippers'},\n {'true_false_answer': {},\n  'free_answer': {},\n  'model_name': 'llama-7b',\n  'eval_type': 'zero_shot_data',\n  'domain': 'logistics'},\n {'true_false_answer': {},\n  'free_answer': {},\n  'model_name': 'llama-7b',\n  'eval_type': 'zero_shot_data',\n  'domain': 'miconic'},\n {'true_false_answer': {},\n  'free_answer': {},\n  'model_name': 'llama-7b',\n  'eval_type': 'zero_shot_data',\n  'domain': 'mystery'},\n {'true_false_answer': {},\n  'free_answer': {},\n  'model_name': 'llama-7b',\n  'eval_type': 'zero_shot_data',\n  'domain': 'npuzzle'},\n {'true_false_answer': {},\n  'free_answer': {},\n  'model_name': 'llama-7b',\n  'eval_type': 'zero_shot_data',\n  'domain': 'satellite'},\n {'true_false_answer': {},\n  'free_answer': {},\n  'model_name': 'llama-7b',\n  'eval_type': 'zero_shot_data',\n  'domain': 'spanner'},\n {'true_false_answer': {},\n  'free_answer': {},\n  'model_name': 'llama-7b',\n  'eval_type': 'zero_shot_data',\n  'domain': 'visitall'},\n {'true_false_answer': {},\n  'free_answer': {},\n  'model_name': 'llama-7b',\n  'eval_type': 'zero_shot_data',\n  'domain': 'zenotravel'},\n {'true_false_answer_by_category': {'all': {'1': 0.0,\n    '5': 0.0,\n    '10': 0.0,\n    '15': 0.0,\n    '19': 0.0,\n    'all': 0.0}},\n  'true_false_answer_in_response_by_category': {'all': {'1': 0.0,\n    '5': 0.0,\n    '10': 0.0,\n    '15': 0.0,\n    '19': 0.0,\n    'all': 0.0}},\n  'model_name': 'llama-7b',\n  'eval_type': 'zero_shot_data',\n  'domain': 'all'}]"
     },
     "execution_count": 3,
     "metadata": {},
     "output_type": "execute_result"
    }
   ],
   "source": [
    "import pandas as pd\n",
    "\n",
    "data = [{'b': 2, 'c': 3}, {'a': 10, 'b': 20, 'c': 30}]\n",
    "\n",
    "df = pd.DataFrame(data, index=['first', 'second'])"
   ],
   "metadata": {
    "collapsed": false,
    "ExecuteTime": {
     "end_time": "2024-02-19T20:08:48.824841Z",
     "start_time": "2024-02-19T20:08:48.814167Z"
    }
   },
   "id": "a001ec8b48de6694",
   "execution_count": 3
  },
  {
   "cell_type": "code",
   "outputs": [],
   "source": [],
   "metadata": {
    "collapsed": false
   },
   "id": "213113177a50bc58"
  }
 ],
 "metadata": {
  "kernelspec": {
   "display_name": "Python 3",
   "language": "python",
   "name": "python3"
  },
  "language_info": {
   "codemirror_mode": {
    "name": "ipython",
    "version": 2
   },
   "file_extension": ".py",
   "mimetype": "text/x-python",
   "name": "python",
   "nbconvert_exporter": "python",
   "pygments_lexer": "ipython2",
   "version": "2.7.6"
  }
 },
 "nbformat": 4,
 "nbformat_minor": 5
}
