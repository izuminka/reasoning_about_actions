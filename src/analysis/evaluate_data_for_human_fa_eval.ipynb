{
 "cells": [
  {
   "cell_type": "code",
   "execution_count": 36,
   "id": "initial_id",
   "metadata": {
    "collapsed": true,
    "ExecuteTime": {
     "end_time": "2024-06-06T05:22:25.377082Z",
     "start_time": "2024-06-06T05:22:25.369417Z"
    }
   },
   "outputs": [],
   "source": [
    "import sys\n",
    "sys.path.insert(0, '../../')\n",
    "from src.questions_construction.main import PLAN_LENGTHS, QUESTION_CATEGORIES\n",
    "from src.questions_construction.domains import DOMAIN_NAMES\n",
    "\n",
    "from src.analysis.model_performances import *\n",
    "from src.common import *\n",
    "import random"
   ]
  },
  {
   "cell_type": "code",
   "outputs": [],
   "source": [
    "model_name = 'gemini' #'gpt-4o'\n",
    "by_file_name = {}\n",
    "for i in range(1,4):\n",
    "    # try:\n",
    "    with open(f'{PROJECT_PATH}/results.human_eval.free_answers/{model_name}/human_{i}.all.{model_name}.json') as f:\n",
    "        data_id = f'human_{i}'\n",
    "        data = json.load(f)\n",
    "        by_file_name[data_id] = {d['id']: d for _category, d_ls in data.items() for d in d_ls}\n",
    "        for _id, d in by_file_name[data_id].items():\n",
    "            d['annotator'] = data_id\n",
    "    # except:\n",
    "    #     print(f'{model_name}.human_{i}')"
   ],
   "metadata": {
    "collapsed": false,
    "ExecuteTime": {
     "end_time": "2024-06-06T05:33:00.349740Z",
     "start_time": "2024-06-06T05:33:00.261776Z"
    }
   },
   "id": "262fbff26664edab",
   "execution_count": 64
  },
  {
   "cell_type": "code",
   "outputs": [],
   "source": [
    "ids_by_category = defaultdict(set)\n",
    "for file_name, d_ls in by_file_name.items():\n",
    "    for _id, d in d_ls.items():\n",
    "        ids_by_category[d['question_category']].add(d['id'])"
   ],
   "metadata": {
    "collapsed": false,
    "ExecuteTime": {
     "end_time": "2024-06-06T05:33:00.794406Z",
     "start_time": "2024-06-06T05:33:00.790759Z"
    }
   },
   "id": "981ea184e391b0f5",
   "execution_count": 65
  },
  {
   "cell_type": "code",
   "outputs": [
    {
     "name": "stdout",
     "output_type": "stream",
     "text": [
      "Total mean: 0.45, std: 0.49749371855331, sem: 0.11124297730643494\n"
     ]
    }
   ],
   "source": [
    "results_by_category = {}\n",
    "\n",
    "# category_name = 'object_tracking'\n",
    "total_scores = []\n",
    "for category_name in QUESTION_CATEGORIES:\n",
    "    category_scores = []\n",
    "    for q_id in ids_by_category[category_name]:\n",
    "        annotators_scores = []\n",
    "        for annotator, data_by_id in by_file_name.items():\n",
    "            annotators_scores.append(int(data_by_id[q_id]['human_score']))\n",
    "        mean_score = np.mean(annotators_scores)\n",
    "        if mean_score > 0.5:\n",
    "            category_scores.append(1)\n",
    "        else:\n",
    "            category_scores.append(0)\n",
    "    total_scores += category_scores\n",
    "    mean = np.mean(category_scores)\n",
    "    std = np.std(category_scores)\n",
    "    sem = std / np.sqrt(len(category_scores))\n",
    "    results_by_category[category_name] = {'mean': mean, 'std': std, 'sem': sem, 'scores': category_scores, 'n': len(category_scores)}\n",
    "    \n",
    "mean_total = np.mean(total_scores)\n",
    "std_total = np.std(total_scores)\n",
    "sem_total = std_total / np.sqrt(len(total_scores))\n",
    "print(f'Total mean: {mean}, std: {std}, sem: {sem}')"
   ],
   "metadata": {
    "collapsed": false,
    "ExecuteTime": {
     "end_time": "2024-06-06T05:33:01.297508Z",
     "start_time": "2024-06-06T05:33:01.285951Z"
    }
   },
   "id": "547613f3a822fb25",
   "execution_count": 66
  },
  {
   "cell_type": "code",
   "outputs": [
    {
     "name": "stdout",
     "output_type": "stream",
     "text": [
      "object_tracking: ${80.0}_{8.94}$\n",
      "fluent_tracking: ${20.0}_{8.94}$\n",
      "state_tracking: ${0.0}_{0.0}$\n",
      "action_executability: ${50.0}_{11.18}$\n",
      "effects: ${10.0}_{6.71}$\n",
      "numerical_reasoning: ${10.0}_{6.71}$\n",
      "hallucination: ${45.0}_{11.12}$\n",
      "composite: ${45.0}_{11.12}$\n",
      "TOTAL AVG: ${32.5}_{3.7}$\n"
     ]
    }
   ],
   "source": [
    "for category_name, results in results_by_category.items():\n",
    "    print(f'{category_name}: '+'${'+ f'{results[\"mean\"]*100}'+'}_{'+ f'{round(results[\"sem\"]*100, 2)}'+'}$')\n",
    "print(f'TOTAL AVG: '+'${'+ f'{mean_total*100}'+'}_{'+ f'{round(sem_total*100, 2)}'+'}$')"
   ],
   "metadata": {
    "collapsed": false,
    "ExecuteTime": {
     "end_time": "2024-06-06T05:33:02.476880Z",
     "start_time": "2024-06-06T05:33:02.472165Z"
    }
   },
   "id": "f22ddadb96e52ddf",
   "execution_count": 67
  },
  {
   "cell_type": "code",
   "outputs": [],
   "source": [],
   "metadata": {
    "collapsed": false
   },
   "id": "c8f4ccd3f7d138d4"
  }
 ],
 "metadata": {
  "kernelspec": {
   "display_name": "Python 3",
   "language": "python",
   "name": "python3"
  },
  "language_info": {
   "codemirror_mode": {
    "name": "ipython",
    "version": 2
   },
   "file_extension": ".py",
   "mimetype": "text/x-python",
   "name": "python",
   "nbconvert_exporter": "python",
   "pygments_lexer": "ipython2",
   "version": "2.7.6"
  }
 },
 "nbformat": 4,
 "nbformat_minor": 5
}
