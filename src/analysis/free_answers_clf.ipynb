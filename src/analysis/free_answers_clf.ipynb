{
 "cells": [
  {
   "cell_type": "code",
   "outputs": [],
   "source": [
    "import torch\n",
    "from transformers import AutoTokenizer, AutoModelForSequenceClassification\n",
    "\n",
    "device = torch.device(\"cpu\")  # \"cuda:0\" if torch.cuda.is_available() else\n",
    "model_name = 'roberta-base'\n",
    "path_to_fine_tuned_model = './roberta_finetuned_models/checkpoint-2500_roberta'\n",
    "tokenizer = AutoTokenizer.from_pretrained(model_name)\n",
    "model = AutoModelForSequenceClassification.from_pretrained(path_to_fine_tuned_model).to(device)"
   ],
   "metadata": {
    "collapsed": false,
    "ExecuteTime": {
     "end_time": "2024-05-31T09:57:56.376896Z",
     "start_time": "2024-05-31T09:57:52.509537Z"
    }
   },
   "id": "3ca0687ad0b0a6be",
   "execution_count": 1
  },
  {
   "cell_type": "code",
   "outputs": [],
   "source": [
    "import sys\n",
    "sys.path.insert(0, '../../')\n",
    "from src.questions_construction.main import PLAN_LENGTHS, QUESTION_CATEGORIES\n",
    "from src.questions_construction.domains import DOMAIN_NAMES\n",
    "\n",
    "from src.analysis.model_performances import *\n",
    "from src.common import *\n",
    "import random"
   ],
   "metadata": {
    "collapsed": false,
    "ExecuteTime": {
     "end_time": "2024-05-31T09:57:58.987228Z",
     "start_time": "2024-05-31T09:57:56.460901Z"
    }
   },
   "id": "38adfff8cff869c6",
   "execution_count": 2
  },
  {
   "cell_type": "code",
   "outputs": [
    {
     "name": "stdout",
     "output_type": "stream",
     "text": [
      "questions gathered\n"
     ]
    },
    {
     "name": "stderr",
     "output_type": "stream",
     "text": [
      " 39%|███▉      | 3667/9360 [00:30<00:51, 110.16it/s]"
     ]
    },
    {
     "name": "stdout",
     "output_type": "stream",
     "text": [
      "Selected IDs are missing for: llama2-13b-chat, with_random_sub, without_ramifications, few_shot_3, blocksworld, Instance_4\n"
     ]
    },
    {
     "name": "stderr",
     "output_type": "stream",
     "text": [
      " 53%|█████▎    | 4927/9360 [01:05<06:58, 10.59it/s] "
     ]
    },
    {
     "name": "stdout",
     "output_type": "stream",
     "text": [
      "Selected IDs are missing for: gemma-2b, without_random_sub, with_ramifications, few_shot_3, visitall, Instance_6\n"
     ]
    },
    {
     "name": "stderr",
     "output_type": "stream",
     "text": [
      " 54%|█████▍    | 5057/9360 [01:24<24:39,  2.91it/s]"
     ]
    },
    {
     "name": "stdout",
     "output_type": "stream",
     "text": [
      "Selected IDs are missing for: gemma-2b, without_random_sub, with_ramifications, few_shot_5, visitall, Instance_6\n"
     ]
    },
    {
     "name": "stderr",
     "output_type": "stream",
     "text": [
      " 57%|█████▋    | 5318/9360 [01:55<09:54,  6.80it/s]"
     ]
    },
    {
     "name": "stdout",
     "output_type": "stream",
     "text": [
      "Selected IDs are missing for: gemma-7b, without_random_sub, with_ramifications, few_shot_3, visitall, Instance_6\n"
     ]
    },
    {
     "name": "stderr",
     "output_type": "stream",
     "text": [
      " 58%|█████▊    | 5448/9360 [02:12<11:34,  5.63it/s]"
     ]
    },
    {
     "name": "stdout",
     "output_type": "stream",
     "text": [
      "Selected IDs are missing for: gemma-7b, without_random_sub, with_ramifications, few_shot_5, visitall, Instance_6\n"
     ]
    },
    {
     "name": "stderr",
     "output_type": "stream",
     "text": [
      " 61%|██████    | 5708/9360 [02:34<09:13,  6.59it/s]"
     ]
    },
    {
     "name": "stdout",
     "output_type": "stream",
     "text": [
      "Selected IDs are missing for: llama2-7b-chat, without_random_sub, with_ramifications, few_shot_3, visitall, Instance_6\n"
     ]
    },
    {
     "name": "stderr",
     "output_type": "stream",
     "text": [
      " 62%|██████▏   | 5837/9360 [02:55<12:18,  4.77it/s]"
     ]
    },
    {
     "name": "stdout",
     "output_type": "stream",
     "text": [
      "Selected IDs are missing for: llama2-7b-chat, without_random_sub, with_ramifications, few_shot_5, visitall, Instance_6\n"
     ]
    },
    {
     "name": "stderr",
     "output_type": "stream",
     "text": [
      " 65%|██████▌   | 6097/9360 [03:39<16:52,  3.22it/s]"
     ]
    },
    {
     "name": "stdout",
     "output_type": "stream",
     "text": [
      "Selected IDs are missing for: llama2-13b-chat, without_random_sub, with_ramifications, few_shot_3, visitall, Instance_6\n"
     ]
    },
    {
     "name": "stderr",
     "output_type": "stream",
     "text": [
      " 67%|██████▋   | 6228/9360 [03:59<09:43,  5.37it/s]"
     ]
    },
    {
     "name": "stdout",
     "output_type": "stream",
     "text": [
      "Selected IDs are missing for: llama2-13b-chat, without_random_sub, with_ramifications, few_shot_5, visitall, Instance_6\n"
     ]
    },
    {
     "name": "stderr",
     "output_type": "stream",
     "text": [
      " 67%|██████▋   | 6317/9360 [04:09<04:58, 10.19it/s]"
     ]
    }
   ],
   "source": [
    "questions_dir = f'{DATA_PATH}/questions_m1'\n",
    "ids_file_name = 'dataset_ids.test.pruned'\n",
    "\n",
    "selected_ids = open_jsonl(f'{DATA_PATH}/{ids_file_name}.jsonl')\n",
    "\n",
    "questions_by_id = gather_questions(questions_dir, selected_ids)\n",
    "data_all, missing_data = gather_data(questions_by_id, selected_ids=selected_ids)\n",
    "save_main_dir = f'{STATISTICS_PATH}.{ids_file_name}'\n",
    "sanity_checks(questions_by_id, data_all)"
   ],
   "metadata": {
    "collapsed": false,
    "is_executing": true,
    "ExecuteTime": {
     "start_time": "2024-05-31T09:57:59.903944Z"
    }
   },
   "id": "67d4aa63d5b03998",
   "execution_count": null
  },
  {
   "cell_type": "code",
   "outputs": [],
   "source": [
    "answer_response = FREE_ANSWER_TYPE #f'{TRUE_FALSE_ANSWER_TYPE}.{ACCURACY_SCORE_KEY}'\n",
    "calculate_stats_all(data_all, answer_response, save_main_dir=save_main_dir, override=True, \n",
    "                    model=model, tokenizer=tokenizer, device=device)"
   ],
   "metadata": {
    "collapsed": false,
    "is_executing": true
   },
   "id": "6364c048dc13652f",
   "execution_count": null
  },
  {
   "cell_type": "code",
   "outputs": [],
   "source": [],
   "metadata": {
    "collapsed": false
   },
   "id": "ebb8c3c62c8a9833"
  }
 ],
 "metadata": {
  "kernelspec": {
   "display_name": "Python 3",
   "language": "python",
   "name": "python3"
  },
  "language_info": {
   "codemirror_mode": {
    "name": "ipython",
    "version": 2
   },
   "file_extension": ".py",
   "mimetype": "text/x-python",
   "name": "python",
   "nbconvert_exporter": "python",
   "pygments_lexer": "ipython2",
   "version": "2.7.6"
  }
 },
 "nbformat": 4,
 "nbformat_minor": 5
}
