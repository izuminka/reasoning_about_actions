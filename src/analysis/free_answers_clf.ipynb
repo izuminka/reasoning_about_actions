{
 "cells": [
  {
   "cell_type": "code",
   "outputs": [],
   "source": [
    "import torch\n",
    "from transformers import AutoTokenizer, AutoModelForSequenceClassification\n",
    "from torch.utils.data import DataLoader\n",
    "from datasets import load_dataset"
   ],
   "metadata": {
    "collapsed": false,
    "ExecuteTime": {
     "end_time": "2024-05-24T02:05:37.974677Z",
     "start_time": "2024-05-24T02:05:33.631117Z"
    }
   },
   "id": "f813315ad7d4991",
   "execution_count": 1
  },
  {
   "cell_type": "code",
   "outputs": [],
   "source": [
    "def preprocess_function(batch):\n",
    "    responses = [str(response) if response else \"\" for response in batch[\"s1\"]]\n",
    "    labels = [str(label) if label else \"\" for label in batch[\"s2\"]]\n",
    "    return tokenizer(responses, labels, padding=\"max_length\", max_length=512, truncation=False)"
   ],
   "metadata": {
    "collapsed": false,
    "ExecuteTime": {
     "end_time": "2024-05-24T02:05:38.046326Z",
     "start_time": "2024-05-24T02:05:37.976264Z"
    }
   },
   "id": "73e600a749eab58e",
   "execution_count": 2
  },
  {
   "cell_type": "code",
   "outputs": [
    {
     "name": "stderr",
     "output_type": "stream",
     "text": [
      "/opt/anaconda3/envs/llm_asp/lib/python3.9/site-packages/huggingface_hub/file_download.py:1132: FutureWarning: `resume_download` is deprecated and will be removed in version 1.0.0. Downloads always resume when possible. If you want to force a new download, use `force_download=True`.\n",
      "  warnings.warn(\n"
     ]
    }
   ],
   "source": [
    "device = torch.device(\"cpu\") #\"cuda:0\" if torch.cuda.is_available() else\n",
    "model_name = 'roberta-base'\n",
    "path_to_fine_tuned_model = './roberta_finetuned_models/checkpoint-2500_roberta'\n",
    "tokenizer = AutoTokenizer.from_pretrained(model_name)\n",
    "model = AutoModelForSequenceClassification.from_pretrained(path_to_fine_tuned_model).to(device)"
   ],
   "metadata": {
    "collapsed": false,
    "ExecuteTime": {
     "end_time": "2024-05-24T02:07:41.604302Z",
     "start_time": "2024-05-24T02:07:39.616118Z"
    }
   },
   "id": "98befe674d6f5914",
   "execution_count": 16
  },
  {
   "cell_type": "code",
   "outputs": [],
   "source": [
    "test_data = load_dataset('json', data_files={'test':'blocksworld_topn.jsonl'})\n",
    "test_data = test_data['test'].map(preprocess_function, batched=True)\n",
    "test_data.set_format(type='torch', columns=['input_ids', 'attention_mask'])\n",
    "\n",
    "# Initialize DataLoader for test dataset\n",
    "batch_size = 128  # Define the batch size for inference\n",
    "test_dataloader = DataLoader(test_data, batch_size=batch_size)"
   ],
   "metadata": {
    "collapsed": false,
    "ExecuteTime": {
     "end_time": "2024-05-24T02:09:54.135247Z",
     "start_time": "2024-05-24T02:09:53.732018Z"
    }
   },
   "id": "7b9f2c4d532a9bea",
   "execution_count": 24
  },
  {
   "cell_type": "code",
   "outputs": [
    {
     "name": "stdout",
     "output_type": "stream",
     "text": [
      "[0, 0, 1, 0, 0, 0, 0, 0, 0, 0, 0, 0, 0, 0, 1, 1, 0, 0, 1, 0, 0, 0, 0, 0, 0, 0, 0, 1, 1, 1, 0, 0, 0, 0, 0, 0, 1, 0, 0, 0, 0, 0, 0, 0, 0, 0, 0, 0, 0, 0, 0, 0, 0, 1, 0, 0, 1, 0, 0, 1, 1, 0, 1, 0, 1, 0, 0, 0, 0, 0, 1, 0, 0, 0, 0, 0, 0, 1, 0, 0, 0, 1, 0, 0, 0, 0, 0, 0, 0, 0, 0, 1, 0, 0, 0, 0, 0, 0, 0, 1, 0, 0, 1, 1, 1, 0, 0, 0, 1, 0, 1, 1, 0, 0, 0, 0, 0, 1, 0, 1, 0, 0, 0, 1, 0, 0, 0, 0]\n",
      "[array([9.9997330e-01, 2.6747693e-05], dtype=float32), array([9.9997211e-01, 2.7922026e-05], dtype=float32), array([1.1189043e-04, 9.9988806e-01], dtype=float32), array([9.999721e-01, 2.795240e-05], dtype=float32), array([9.9997139e-01, 2.8605536e-05], dtype=float32), array([9.9997282e-01, 2.7151438e-05], dtype=float32), array([9.9997151e-01, 2.8447696e-05], dtype=float32), array([9.9991524e-01, 8.4726162e-05], dtype=float32), array([9.999664e-01, 3.361464e-05], dtype=float32), array([9.999597e-01, 4.025226e-05], dtype=float32), array([9.9996269e-01, 3.7311496e-05], dtype=float32), array([9.9996293e-01, 3.7100494e-05], dtype=float32), array([9.9994862e-01, 5.1317023e-05], dtype=float32), array([9.9997246e-01, 2.7499949e-05], dtype=float32), array([1.0130096e-04, 9.9989867e-01], dtype=float32), array([1.02714206e-04, 9.99897242e-01], dtype=float32), array([9.9997199e-01, 2.8030343e-05], dtype=float32), array([9.999707e-01, 2.938058e-05], dtype=float32), array([1.02739876e-04, 9.99897242e-01], dtype=float32), array([9.9997091e-01, 2.9139772e-05], dtype=float32), array([9.999716e-01, 2.838970e-05], dtype=float32), array([9.9997199e-01, 2.8061371e-05], dtype=float32), array([9.9997163e-01, 2.8407578e-05], dtype=float32), array([9.9997294e-01, 2.7093916e-05], dtype=float32), array([9.9997270e-01, 2.7313075e-05], dtype=float32), array([9.9997222e-01, 2.7822827e-05], dtype=float32), array([9.9997091e-01, 2.9073013e-05], dtype=float32), array([1.049351e-04, 9.998951e-01], dtype=float32), array([1.0503561e-04, 9.9989498e-01], dtype=float32), array([1.08392385e-04, 9.99891639e-01], dtype=float32), array([9.9997199e-01, 2.7967115e-05], dtype=float32), array([9.9997294e-01, 2.7038936e-05], dtype=float32), array([9.9997282e-01, 2.7127679e-05], dtype=float32), array([9.9997318e-01, 2.6803511e-05], dtype=float32), array([9.9997091e-01, 2.9097451e-05], dtype=float32), array([9.9997163e-01, 2.8377384e-05], dtype=float32), array([1.17231146e-04, 9.99882698e-01], dtype=float32), array([9.9997294e-01, 2.7065895e-05], dtype=float32), array([9.9993932e-01, 6.0672635e-05], dtype=float32), array([9.9997342e-01, 2.6546582e-05], dtype=float32), array([9.9997187e-01, 2.8168133e-05], dtype=float32), array([9.9997330e-01, 2.6758767e-05], dtype=float32), array([9.999721e-01, 2.787015e-05], dtype=float32), array([9.9996662e-01, 3.3387878e-05], dtype=float32), array([9.9997211e-01, 2.7908874e-05], dtype=float32), array([9.9997318e-01, 2.6777425e-05], dtype=float32), array([9.9997187e-01, 2.8143646e-05], dtype=float32), array([9.99895334e-01, 1.04649895e-04], dtype=float32), array([9.999733e-01, 2.667957e-05], dtype=float32), array([9.999665e-01, 3.354058e-05], dtype=float32), array([9.9997270e-01, 2.7266231e-05], dtype=float32), array([9.9995625e-01, 4.3750137e-05], dtype=float32), array([9.9995303e-01, 4.6927675e-05], dtype=float32), array([1.0995067e-04, 9.9989009e-01], dtype=float32), array([9.9997246e-01, 2.7495962e-05], dtype=float32), array([9.9997306e-01, 2.6924894e-05], dtype=float32), array([1.07535416e-04, 9.99892473e-01], dtype=float32), array([9.9997246e-01, 2.7595945e-05], dtype=float32), array([9.9990284e-01, 9.7136523e-05], dtype=float32), array([9.9476521e-05, 9.9990046e-01], dtype=float32), array([1.1193879e-04, 9.9988806e-01], dtype=float32), array([9.9997270e-01, 2.7298624e-05], dtype=float32), array([1.0478711e-04, 9.9989522e-01], dtype=float32), array([9.9997246e-01, 2.7544411e-05], dtype=float32), array([1.03751074e-04, 9.99896288e-01], dtype=float32), array([9.9997294e-01, 2.7072683e-05], dtype=float32), array([9.9997175e-01, 2.8241777e-05], dtype=float32), array([9.9997163e-01, 2.8397717e-05], dtype=float32), array([9.9997342e-01, 2.6584103e-05], dtype=float32), array([9.9997103e-01, 2.8942884e-05], dtype=float32), array([1.0768627e-04, 9.9989235e-01], dtype=float32), array([9.9996471e-01, 3.5314297e-05], dtype=float32), array([9.9997211e-01, 2.7853675e-05], dtype=float32), array([9.9997091e-01, 2.9083163e-05], dtype=float32), array([9.9997294e-01, 2.7042648e-05], dtype=float32), array([9.9997246e-01, 2.7594418e-05], dtype=float32), array([9.9997151e-01, 2.8507662e-05], dtype=float32), array([1.1286882e-04, 9.9988711e-01], dtype=float32), array([9.9997282e-01, 2.7153303e-05], dtype=float32), array([9.9997151e-01, 2.8446611e-05], dtype=float32), array([9.999716e-01, 2.842427e-05], dtype=float32), array([1.0371555e-04, 9.9989629e-01], dtype=float32), array([9.9997211e-01, 2.7942857e-05], dtype=float32), array([9.9996984e-01, 3.0155850e-05], dtype=float32), array([9.9997318e-01, 2.6854428e-05], dtype=float32), array([9.999728e-01, 2.720766e-05], dtype=float32), array([9.9993563e-01, 6.4371576e-05], dtype=float32), array([9.9997270e-01, 2.7245696e-05], dtype=float32), array([9.9997187e-01, 2.8163808e-05], dtype=float32), array([9.9994206e-01, 5.7906927e-05], dtype=float32), array([9.9997175e-01, 2.8240780e-05], dtype=float32), array([9.8963530e-05, 9.9990106e-01], dtype=float32), array([9.9997294e-01, 2.7032180e-05], dtype=float32), array([9.9997258e-01, 2.7434018e-05], dtype=float32), array([9.9997258e-01, 2.7466875e-05], dtype=float32), array([9.9997199e-01, 2.8046548e-05], dtype=float32), array([9.999646e-01, 3.544602e-05], dtype=float32), array([9.999722e-01, 2.776997e-05], dtype=float32), array([9.9997139e-01, 2.8592118e-05], dtype=float32), array([1.0905559e-04, 9.9989092e-01], dtype=float32), array([9.9997115e-01, 2.8907167e-05], dtype=float32), array([9.9996436e-01, 3.5631030e-05], dtype=float32), array([1.1023632e-04, 9.9988973e-01], dtype=float32), array([1.04191866e-04, 9.99895811e-01], dtype=float32), array([1.04943705e-04, 9.99895096e-01], dtype=float32), array([9.9994004e-01, 5.9973368e-05], dtype=float32), array([9.999703e-01, 2.965741e-05], dtype=float32), array([9.9997306e-01, 2.6958785e-05], dtype=float32), array([1.0581168e-04, 9.9989414e-01], dtype=float32), array([9.999275e-01, 7.248532e-05], dtype=float32), array([1.0789759e-04, 9.9989212e-01], dtype=float32), array([1.08545246e-04, 9.99891400e-01], dtype=float32), array([9.999677e-01, 3.232838e-05], dtype=float32), array([9.9997139e-01, 2.8560997e-05], dtype=float32), array([9.9997151e-01, 2.8463735e-05], dtype=float32), array([9.9997246e-01, 2.7582209e-05], dtype=float32), array([9.9997306e-01, 2.6974059e-05], dtype=float32), array([1.02852406e-04, 9.99897122e-01], dtype=float32), array([9.999466e-01, 5.339266e-05], dtype=float32), array([1.0509551e-04, 9.9989486e-01], dtype=float32), array([9.9996984e-01, 3.0159474e-05], dtype=float32), array([9.9996269e-01, 3.7255355e-05], dtype=float32), array([9.9997032e-01, 2.9635046e-05], dtype=float32), array([1.0634700e-04, 9.9989367e-01], dtype=float32), array([9.9995315e-01, 4.6855461e-05], dtype=float32), array([9.9997222e-01, 2.7727523e-05], dtype=float32), array([9.9997282e-01, 2.7175634e-05], dtype=float32), array([9.9997222e-01, 2.7715469e-05], dtype=float32)]\n",
      "[0, 0, 1, 0, 0, 0, 0, 0, 0, 0, 0, 0, 0, 0, 1, 1, 0, 0, 1, 0, 0, 0, 0, 0, 0, 0, 0, 1, 1, 1, 0, 0, 0, 0, 0, 0, 1, 0, 0, 0, 0, 0, 0, 0, 0, 0, 0, 0, 0, 0, 0, 0, 0, 1, 0, 0, 1, 0, 0, 1, 1, 0, 1, 0, 1, 0, 0, 0, 0, 0, 1, 0, 0, 0, 0, 0, 0, 1, 0, 0, 0, 1, 0, 0, 0, 0, 0, 0, 0, 0, 0, 1, 0, 0, 0, 0, 0, 0, 0, 1, 0, 0, 1, 1, 1, 0, 0, 0, 1, 0, 1, 1, 0, 0, 0, 0, 0, 1, 0, 1, 0, 0, 0, 1, 0, 0, 0, 0, 0, 0, 0, 0, 0, 1, 1, 1, 0, 1, 0, 0, 0, 0, 0, 0, 1, 0, 1, 1, 0, 0, 0, 1, 0, 0, 0, 0, 0, 0]\n",
      "[array([9.9997330e-01, 2.6747693e-05], dtype=float32), array([9.9997211e-01, 2.7922026e-05], dtype=float32), array([1.1189043e-04, 9.9988806e-01], dtype=float32), array([9.999721e-01, 2.795240e-05], dtype=float32), array([9.9997139e-01, 2.8605536e-05], dtype=float32), array([9.9997282e-01, 2.7151438e-05], dtype=float32), array([9.9997151e-01, 2.8447696e-05], dtype=float32), array([9.9991524e-01, 8.4726162e-05], dtype=float32), array([9.999664e-01, 3.361464e-05], dtype=float32), array([9.999597e-01, 4.025226e-05], dtype=float32), array([9.9996269e-01, 3.7311496e-05], dtype=float32), array([9.9996293e-01, 3.7100494e-05], dtype=float32), array([9.9994862e-01, 5.1317023e-05], dtype=float32), array([9.9997246e-01, 2.7499949e-05], dtype=float32), array([1.0130096e-04, 9.9989867e-01], dtype=float32), array([1.02714206e-04, 9.99897242e-01], dtype=float32), array([9.9997199e-01, 2.8030343e-05], dtype=float32), array([9.999707e-01, 2.938058e-05], dtype=float32), array([1.02739876e-04, 9.99897242e-01], dtype=float32), array([9.9997091e-01, 2.9139772e-05], dtype=float32), array([9.999716e-01, 2.838970e-05], dtype=float32), array([9.9997199e-01, 2.8061371e-05], dtype=float32), array([9.9997163e-01, 2.8407578e-05], dtype=float32), array([9.9997294e-01, 2.7093916e-05], dtype=float32), array([9.9997270e-01, 2.7313075e-05], dtype=float32), array([9.9997222e-01, 2.7822827e-05], dtype=float32), array([9.9997091e-01, 2.9073013e-05], dtype=float32), array([1.049351e-04, 9.998951e-01], dtype=float32), array([1.0503561e-04, 9.9989498e-01], dtype=float32), array([1.08392385e-04, 9.99891639e-01], dtype=float32), array([9.9997199e-01, 2.7967115e-05], dtype=float32), array([9.9997294e-01, 2.7038936e-05], dtype=float32), array([9.9997282e-01, 2.7127679e-05], dtype=float32), array([9.9997318e-01, 2.6803511e-05], dtype=float32), array([9.9997091e-01, 2.9097451e-05], dtype=float32), array([9.9997163e-01, 2.8377384e-05], dtype=float32), array([1.17231146e-04, 9.99882698e-01], dtype=float32), array([9.9997294e-01, 2.7065895e-05], dtype=float32), array([9.9993932e-01, 6.0672635e-05], dtype=float32), array([9.9997342e-01, 2.6546582e-05], dtype=float32), array([9.9997187e-01, 2.8168133e-05], dtype=float32), array([9.9997330e-01, 2.6758767e-05], dtype=float32), array([9.999721e-01, 2.787015e-05], dtype=float32), array([9.9996662e-01, 3.3387878e-05], dtype=float32), array([9.9997211e-01, 2.7908874e-05], dtype=float32), array([9.9997318e-01, 2.6777425e-05], dtype=float32), array([9.9997187e-01, 2.8143646e-05], dtype=float32), array([9.99895334e-01, 1.04649895e-04], dtype=float32), array([9.999733e-01, 2.667957e-05], dtype=float32), array([9.999665e-01, 3.354058e-05], dtype=float32), array([9.9997270e-01, 2.7266231e-05], dtype=float32), array([9.9995625e-01, 4.3750137e-05], dtype=float32), array([9.9995303e-01, 4.6927675e-05], dtype=float32), array([1.0995067e-04, 9.9989009e-01], dtype=float32), array([9.9997246e-01, 2.7495962e-05], dtype=float32), array([9.9997306e-01, 2.6924894e-05], dtype=float32), array([1.07535416e-04, 9.99892473e-01], dtype=float32), array([9.9997246e-01, 2.7595945e-05], dtype=float32), array([9.9990284e-01, 9.7136523e-05], dtype=float32), array([9.9476521e-05, 9.9990046e-01], dtype=float32), array([1.1193879e-04, 9.9988806e-01], dtype=float32), array([9.9997270e-01, 2.7298624e-05], dtype=float32), array([1.0478711e-04, 9.9989522e-01], dtype=float32), array([9.9997246e-01, 2.7544411e-05], dtype=float32), array([1.03751074e-04, 9.99896288e-01], dtype=float32), array([9.9997294e-01, 2.7072683e-05], dtype=float32), array([9.9997175e-01, 2.8241777e-05], dtype=float32), array([9.9997163e-01, 2.8397717e-05], dtype=float32), array([9.9997342e-01, 2.6584103e-05], dtype=float32), array([9.9997103e-01, 2.8942884e-05], dtype=float32), array([1.0768627e-04, 9.9989235e-01], dtype=float32), array([9.9996471e-01, 3.5314297e-05], dtype=float32), array([9.9997211e-01, 2.7853675e-05], dtype=float32), array([9.9997091e-01, 2.9083163e-05], dtype=float32), array([9.9997294e-01, 2.7042648e-05], dtype=float32), array([9.9997246e-01, 2.7594418e-05], dtype=float32), array([9.9997151e-01, 2.8507662e-05], dtype=float32), array([1.1286882e-04, 9.9988711e-01], dtype=float32), array([9.9997282e-01, 2.7153303e-05], dtype=float32), array([9.9997151e-01, 2.8446611e-05], dtype=float32), array([9.999716e-01, 2.842427e-05], dtype=float32), array([1.0371555e-04, 9.9989629e-01], dtype=float32), array([9.9997211e-01, 2.7942857e-05], dtype=float32), array([9.9996984e-01, 3.0155850e-05], dtype=float32), array([9.9997318e-01, 2.6854428e-05], dtype=float32), array([9.999728e-01, 2.720766e-05], dtype=float32), array([9.9993563e-01, 6.4371576e-05], dtype=float32), array([9.9997270e-01, 2.7245696e-05], dtype=float32), array([9.9997187e-01, 2.8163808e-05], dtype=float32), array([9.9994206e-01, 5.7906927e-05], dtype=float32), array([9.9997175e-01, 2.8240780e-05], dtype=float32), array([9.8963530e-05, 9.9990106e-01], dtype=float32), array([9.9997294e-01, 2.7032180e-05], dtype=float32), array([9.9997258e-01, 2.7434018e-05], dtype=float32), array([9.9997258e-01, 2.7466875e-05], dtype=float32), array([9.9997199e-01, 2.8046548e-05], dtype=float32), array([9.999646e-01, 3.544602e-05], dtype=float32), array([9.999722e-01, 2.776997e-05], dtype=float32), array([9.9997139e-01, 2.8592118e-05], dtype=float32), array([1.0905559e-04, 9.9989092e-01], dtype=float32), array([9.9997115e-01, 2.8907167e-05], dtype=float32), array([9.9996436e-01, 3.5631030e-05], dtype=float32), array([1.1023632e-04, 9.9988973e-01], dtype=float32), array([1.04191866e-04, 9.99895811e-01], dtype=float32), array([1.04943705e-04, 9.99895096e-01], dtype=float32), array([9.9994004e-01, 5.9973368e-05], dtype=float32), array([9.999703e-01, 2.965741e-05], dtype=float32), array([9.9997306e-01, 2.6958785e-05], dtype=float32), array([1.0581168e-04, 9.9989414e-01], dtype=float32), array([9.999275e-01, 7.248532e-05], dtype=float32), array([1.0789759e-04, 9.9989212e-01], dtype=float32), array([1.08545246e-04, 9.99891400e-01], dtype=float32), array([9.999677e-01, 3.232838e-05], dtype=float32), array([9.9997139e-01, 2.8560997e-05], dtype=float32), array([9.9997151e-01, 2.8463735e-05], dtype=float32), array([9.9997246e-01, 2.7582209e-05], dtype=float32), array([9.9997306e-01, 2.6974059e-05], dtype=float32), array([1.02852406e-04, 9.99897122e-01], dtype=float32), array([9.999466e-01, 5.339266e-05], dtype=float32), array([1.0509551e-04, 9.9989486e-01], dtype=float32), array([9.9996984e-01, 3.0159474e-05], dtype=float32), array([9.9996269e-01, 3.7255355e-05], dtype=float32), array([9.9997032e-01, 2.9635046e-05], dtype=float32), array([1.0634700e-04, 9.9989367e-01], dtype=float32), array([9.9995315e-01, 4.6855461e-05], dtype=float32), array([9.9997222e-01, 2.7727523e-05], dtype=float32), array([9.9997282e-01, 2.7175634e-05], dtype=float32), array([9.9997222e-01, 2.7715469e-05], dtype=float32), array([9.9997127e-01, 2.8746703e-05], dtype=float32), array([9.9997211e-01, 2.7884716e-05], dtype=float32), array([9.9997056e-01, 2.9492505e-05], dtype=float32), array([9.9997246e-01, 2.7578475e-05], dtype=float32), array([9.9995923e-01, 4.0775147e-05], dtype=float32), array([1.0627066e-04, 9.9989367e-01], dtype=float32), array([9.9590325e-05, 9.9990034e-01], dtype=float32), array([1.0501377e-04, 9.9989498e-01], dtype=float32), array([9.9996948e-01, 3.0484956e-05], dtype=float32), array([1.07202366e-04, 9.99892831e-01], dtype=float32), array([9.999453e-01, 5.466163e-05], dtype=float32), array([9.9997139e-01, 2.8569033e-05], dtype=float32), array([9.9997056e-01, 2.9468691e-05], dtype=float32), array([9.9997139e-01, 2.8609684e-05], dtype=float32), array([9.9997139e-01, 2.8584784e-05], dtype=float32), array([9.9997342e-01, 2.6634476e-05], dtype=float32), array([1.0651689e-04, 9.9989343e-01], dtype=float32), array([9.9997318e-01, 2.6860755e-05], dtype=float32), array([1.0736082e-04, 9.9989259e-01], dtype=float32), array([1.093090e-04, 9.998907e-01], dtype=float32), array([9.9997342e-01, 2.6620966e-05], dtype=float32), array([9.9997211e-01, 2.7875625e-05], dtype=float32), array([9.9997282e-01, 2.7215834e-05], dtype=float32), array([1.03995335e-04, 9.99896049e-01], dtype=float32), array([9.9997020e-01, 2.9832487e-05], dtype=float32), array([9.9995768e-01, 4.2281834e-05], dtype=float32), array([9.9993253e-01, 6.7519584e-05], dtype=float32), array([9.9997258e-01, 2.7464517e-05], dtype=float32), array([9.9997306e-01, 2.6986951e-05], dtype=float32), array([9.9997163e-01, 2.8421126e-05], dtype=float32)]\n"
     ]
    }
   ],
   "source": [
    "# get the predictions and probabilities\n",
    "predictions = []\n",
    "probabilities = []\n",
    "model.eval()\n",
    "for batch in test_dataloader:\n",
    "    with torch.no_grad():\n",
    "        input_ids = batch['input_ids'].to(device)\n",
    "        attention_mask = batch['attention_mask'].to(device)\n",
    "        outputs = model(input_ids, attention_mask=attention_mask)\n",
    "        logits = outputs.logits\n",
    "        probs = torch.softmax(logits, dim=-1)\n",
    "        predictions.extend(torch.argmax(probs, dim=-1).cpu().numpy())\n",
    "        probabilities.extend(probs.cpu().numpy())\n",
    "        \n",
    "        print(predictions)\n",
    "        print(probabilities)"
   ],
   "metadata": {
    "collapsed": false,
    "ExecuteTime": {
     "end_time": "2024-05-24T02:13:46.112173Z",
     "start_time": "2024-05-24T02:11:55.446365Z"
    }
   },
   "id": "eedffaed7c533496",
   "execution_count": 26
  },
  {
   "cell_type": "code",
   "outputs": [
    {
     "data": {
      "text/plain": "[0,\n 0,\n 1,\n 0,\n 0,\n 0,\n 0,\n 0,\n 0,\n 0,\n 0,\n 0,\n 0,\n 0,\n 1,\n 1,\n 0,\n 0,\n 1,\n 0,\n 0,\n 0,\n 0,\n 0,\n 0,\n 0,\n 0,\n 1,\n 1,\n 1,\n 0,\n 0,\n 0,\n 0,\n 0,\n 0,\n 1,\n 0,\n 0,\n 0,\n 0,\n 0,\n 0,\n 0,\n 0,\n 0,\n 0,\n 0,\n 0,\n 0,\n 0,\n 0,\n 0,\n 1,\n 0,\n 0,\n 1,\n 0,\n 0,\n 1,\n 1,\n 0,\n 1,\n 0,\n 1,\n 0,\n 0,\n 0,\n 0,\n 0,\n 1,\n 0,\n 0,\n 0,\n 0,\n 0,\n 0,\n 1,\n 0,\n 0,\n 0,\n 1,\n 0,\n 0,\n 0,\n 0,\n 0,\n 0,\n 0,\n 0,\n 0,\n 1,\n 0,\n 0,\n 0,\n 0,\n 0,\n 0,\n 0,\n 1,\n 0,\n 0,\n 1,\n 1,\n 1,\n 0,\n 0,\n 0,\n 1,\n 0,\n 1,\n 1,\n 0,\n 0,\n 0,\n 0,\n 0,\n 1,\n 0,\n 1,\n 0,\n 0,\n 0,\n 1,\n 0,\n 0,\n 0,\n 0,\n 0,\n 0,\n 0,\n 0,\n 0,\n 1,\n 1,\n 1,\n 0,\n 1,\n 0,\n 0,\n 0,\n 0,\n 0,\n 0,\n 1,\n 0,\n 1,\n 1,\n 0,\n 0,\n 0,\n 1,\n 0,\n 0,\n 0,\n 0,\n 0,\n 0]"
     },
     "execution_count": 27,
     "metadata": {},
     "output_type": "execute_result"
    }
   ],
   "source": [
    "predictions"
   ],
   "metadata": {
    "collapsed": false,
    "ExecuteTime": {
     "end_time": "2024-05-24T02:13:53.327433Z",
     "start_time": "2024-05-24T02:13:53.297369Z"
    }
   },
   "id": "c26274fea21f8456",
   "execution_count": 27
  },
  {
   "cell_type": "code",
   "outputs": [],
   "source": [],
   "metadata": {
    "collapsed": false
   },
   "id": "38adfff8cff869c6"
  }
 ],
 "metadata": {
  "kernelspec": {
   "display_name": "Python 3",
   "language": "python",
   "name": "python3"
  },
  "language_info": {
   "codemirror_mode": {
    "name": "ipython",
    "version": 2
   },
   "file_extension": ".py",
   "mimetype": "text/x-python",
   "name": "python",
   "nbconvert_exporter": "python",
   "pygments_lexer": "ipython2",
   "version": "2.7.6"
  }
 },
 "nbformat": 4,
 "nbformat_minor": 5
}
