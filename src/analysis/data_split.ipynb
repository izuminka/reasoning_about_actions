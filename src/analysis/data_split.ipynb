{
 "cells": [
  {
   "cell_type": "code",
   "execution_count": 25,
   "id": "initial_id",
   "metadata": {
    "collapsed": true,
    "ExecuteTime": {
     "end_time": "2024-02-14T10:03:53.046946Z",
     "start_time": "2024-02-14T10:03:53.042225Z"
    }
   },
   "outputs": [],
   "source": [
    "import sys, os\n",
    "sys.path.append(os.path.realpath('__file__'))\n",
    "sys.path.append(os.path.dirname(os.path.realpath('__file__')))\n",
    "sys.path.append(os.path.dirname(os.path.dirname(os.path.realpath('__file__'))))\n",
    "sys.path.append(os.path.dirname(os.path.dirname(os.path.dirname(os.path.realpath('__file__')))))\n",
    "\n",
    "from src.common import *\n",
    "from collections import defaultdict\n",
    "from copy import deepcopy"
   ]
  },
  {
   "cell_type": "code",
   "outputs": [],
   "source": [
    "domain = 'zenotravel'\n",
    "\n",
    "data = open_jsonl(f'{DATA_PATH}/data_files/zero_shot_data/{domain}.jsonl')"
   ],
   "metadata": {
    "collapsed": false,
    "ExecuteTime": {
     "end_time": "2024-02-14T10:05:04.666813Z",
     "start_time": "2024-02-14T10:05:04.647322Z"
    }
   },
   "id": "b1ba7e2e2f401373",
   "execution_count": 47
  },
  {
   "cell_type": "markdown",
   "source": [
    "# All categories"
   ],
   "metadata": {
    "collapsed": false
   },
   "id": "83da4bcea3c08d96"
  },
  {
   "cell_type": "code",
   "outputs": [
    {
     "name": "stdout",
     "output_type": "stream",
     "text": [
      "0.5054945054945055\n"
     ]
    }
   ],
   "source": [
    "total_true = 0\n",
    "total = 0\n",
    "for domain in DOMAIN_NAMES:\n",
    "    data = open_jsonl(f'{DATA_PATH}/data_files/zero_shot_data/{domain}.jsonl')\n",
    "    for d in data:\n",
    "        if d['answer'] == 'True':\n",
    "            total_true += 1\n",
    "            total += 1\n",
    "        elif d['answer'] == 'False':\n",
    "            total += 1\n",
    "        \n",
    "print(total_true/total)"
   ],
   "metadata": {
    "collapsed": false,
    "ExecuteTime": {
     "end_time": "2024-02-14T10:06:26.734491Z",
     "start_time": "2024-02-14T10:06:26.494166Z"
    }
   },
   "id": "45576d0c1a1576d1",
   "execution_count": 49
  },
  {
   "cell_type": "markdown",
   "source": [
    "# By Category"
   ],
   "metadata": {
    "collapsed": false
   },
   "id": "dc6bb02f5dfac5a6"
  },
  {
   "cell_type": "code",
   "outputs": [
    {
     "data": {
      "text/plain": "defaultdict(<function __main__.<lambda>()>,\n            {'object_tracking': {'total': 10, 'true': 4, 'percent': 0.4},\n             'fluent_tracking': {'total': 20, 'true': 9, 'percent': 0.45},\n             'state_tracking': {'total': 10, 'true': 5, 'percent': 0.5},\n             'action_executability': {'total': 10, 'true': 5, 'percent': 0.5},\n             'effects': {'total': 10, 'true': 5, 'percent': 0.5},\n             'numerical_reasoning': {'total': 20, 'true': 8, 'percent': 0.4},\n             'hallucination': {'total': 25, 'true': 15, 'percent': 0.6}})"
     },
     "execution_count": 34,
     "metadata": {},
     "output_type": "execute_result"
    }
   ],
   "source": [
    "categories = defaultdict(lambda: deepcopy({'total': 0, 'true': 0}))\n",
    "total_true = 0\n",
    "total = 0\n",
    "for d in data:\n",
    "    if d['answer'] == 'True':\n",
    "        categories[d['question_category']]['true'] += 1\n",
    "        categories[d['question_category']]['total'] += 1\n",
    "    elif d['answer'] == 'False':\n",
    "        categories[d['question_category']]['total'] += 1\n",
    "        \n",
    "for k, d in categories.items():\n",
    "    d['percent'] = d['true']/d['total']\n",
    "categories"
   ],
   "metadata": {
    "collapsed": false,
    "ExecuteTime": {
     "end_time": "2024-02-14T10:04:15.676492Z",
     "start_time": "2024-02-14T10:04:15.668530Z"
    }
   },
   "id": "aa9ef62fe0599341",
   "execution_count": 34
  },
  {
   "cell_type": "markdown",
   "source": [
    "# By question"
   ],
   "metadata": {
    "collapsed": false
   },
   "id": "649d68c208a799cd"
  },
  {
   "cell_type": "code",
   "outputs": [
    {
     "data": {
      "text/plain": "defaultdict(int,\n            {('object_tracking', 'question_1', 'True'): 3,\n             ('object_tracking', 'question_2', 'True'): 4,\n             ('object_tracking', 'question_3', 'person1,'): 2,\n             ('object_tracking', 'question_4', 'city'): 4,\n             ('object_tracking', 'question_3', 'fl0,'): 3,\n             ('object_tracking', 'question_4', 'person'): 1,\n             ('object_tracking', 'question_1', 'False'): 2,\n             ('object_tracking', 'question_2', 'False'): 1,\n             ('fluent_tracking', 'question_1', 'True'): 3,\n             ('fluent_tracking', 'question_2', 'False'): 3,\n             ('fluent_tracking', 'question_3', 'False'): 5,\n             ('fluent_tracking', 'question_4', 'True'): 3,\n             ('fluent_tracking', 'question_5', 'fuel'): 4,\n             ('fluent_tracking', 'question_6', 'person4'): 1,\n             ('fluent_tracking', 'question_5', 'person6'): 1,\n             ('fluent_tracking', 'question_6', 'fuel'): 2,\n             ('fluent_tracking', 'question_1', 'False'): 2,\n             ('fluent_tracking', 'question_2', 'True'): 2,\n             ('fluent_tracking', 'question_4', 'False'): 2,\n             ('fluent_tracking', 'question_6', 'plane1'): 2,\n             ('state_tracking', 'question_1', 'False'): 4,\n             ('state_tracking', 'question_2', 'False'): 2,\n             ('state_tracking', 'question_3', 'person6'): 2,\n             ('state_tracking', 'question_4', 'person6'): 2,\n             ('state_tracking', 'question_2', 'True'): 3,\n             ('state_tracking', 'question_3', 'person5'): 2,\n             ('state_tracking', 'question_4', 'person5'): 3,\n             ('state_tracking', 'question_1', 'True'): 1,\n             ('state_tracking', 'question_3', 'person2'): 1,\n             ('action_executability', 'question_1', 'True'): 3,\n             ('action_executability', 'question_2', 'True'): 3,\n             ('action_executability', 'question_3', 'plane1'): 2,\n             ('action_executability', 'question_4', 'plane1'): 5,\n             ('action_executability', 'question_5', 'plane1'): 3,\n             ('action_executability', 'question_1', 'False'): 2,\n             ('action_executability', 'question_5', 'None'): 2,\n             ('action_executability', 'question_2', 'False'): 2,\n             ('action_executability', 'question_3', 'person7'): 1,\n             ('action_executability', 'question_3', 'person2'): 1,\n             ('action_executability', 'question_3', 'person6'): 1,\n             ('effects', 'question_1', 'True'): 5,\n             ('effects', 'question_2', 'False'): 5,\n             ('effects', 'question_3', 'person6'): 2,\n             ('effects', 'question_4', 'person6'): 2,\n             ('effects', 'question_3', 'person7'): 1,\n             ('effects', 'question_4', 'person5'): 3,\n             ('effects', 'question_3', 'person5'): 1,\n             ('effects', 'question_3', 'person2'): 1,\n             ('numerical_reasoning', 'question_1', 'False'): 3,\n             ('numerical_reasoning', 'question_2', 'False'): 3,\n             ('numerical_reasoning', 'question_3', 'False'): 2,\n             ('numerical_reasoning', 'question_4', 'True'): 2,\n             ('numerical_reasoning', 'question_5', '18'): 5,\n             ('numerical_reasoning', 'question_6', '15'): 5,\n             ('numerical_reasoning', 'question_7', '65'): 5,\n             ('numerical_reasoning', 'question_8', '7'): 2,\n             ('numerical_reasoning', 'question_9', '1673'): 2,\n             ('numerical_reasoning', 'question_10', '0'): 1,\n             ('numerical_reasoning', 'question_10', '1'): 1,\n             ('numerical_reasoning', 'question_2', 'True'): 2,\n             ('numerical_reasoning', 'question_3', 'True'): 3,\n             ('numerical_reasoning', 'question_4', 'False'): 3,\n             ('numerical_reasoning', 'question_8', '11'): 1,\n             ('numerical_reasoning', 'question_9', '1669'): 1,\n             ('numerical_reasoning', 'question_10', '6'): 1,\n             ('numerical_reasoning', 'question_1', 'True'): 2,\n             ('numerical_reasoning', 'question_8', '8'): 1,\n             ('numerical_reasoning', 'question_9', '1672'): 1,\n             ('numerical_reasoning', 'question_10', '10'): 1,\n             ('numerical_reasoning', 'question_8', '2'): 1,\n             ('numerical_reasoning', 'question_9', '1678'): 1,\n             ('numerical_reasoning', 'question_10', '3'): 1,\n             ('hallucination', 'question_1', 'True'): 3,\n             ('hallucination', 'question_2', 'True'): 2,\n             ('hallucination', 'question_3', 'False'): 3,\n             ('hallucination', 'question_4', 'True'): 3,\n             ('hallucination', 'question_5', 'False'): 3,\n             ('hallucination', 'question_6', 'person4'): 1,\n             ('hallucination', 'question_7', 'None'): 2,\n             ('hallucination', 'question_8', 'person7'): 1,\n             ('hallucination', 'question_1', 'False'): 2,\n             ('hallucination', 'question_2', 'False'): 3,\n             ('hallucination', 'question_6', 'fl0'): 1,\n             ('hallucination', 'question_7', 'person7'): 1,\n             ('hallucination', 'question_8', 'person1'): 2,\n             ('hallucination', 'question_3', 'True'): 2,\n             ('hallucination', 'question_4', 'False'): 2,\n             ('hallucination', 'question_5', 'True'): 2,\n             ('hallucination', 'question_6', 'fl7'): 1,\n             ('hallucination', 'question_7', 'the'): 1,\n             ('hallucination', 'question_8', 'person3'): 1,\n             ('hallucination', 'question_6', 'person8'): 2,\n             ('hallucination', 'question_7', 'person5'): 1,\n             ('hallucination', 'question_8', 'None'): 1})"
     },
     "execution_count": 50,
     "metadata": {},
     "output_type": "execute_result"
    }
   ],
   "source": [
    "categories = defaultdict(int)\n",
    "for d in data:\n",
    "    categories[(d['question_category'], d['question_name'], d['answer'].split()[0])] += 1\n",
    "categories"
   ],
   "metadata": {
    "collapsed": false,
    "ExecuteTime": {
     "end_time": "2024-02-14T13:15:35.797529Z",
     "start_time": "2024-02-14T13:15:35.772940Z"
    }
   },
   "id": "e1b629523225f0f6",
   "execution_count": 50
  },
  {
   "cell_type": "code",
   "outputs": [],
   "source": [
    "categories"
   ],
   "metadata": {
    "collapsed": false
   },
   "id": "6588c58a98097f2f"
  }
 ],
 "metadata": {
  "kernelspec": {
   "display_name": "Python 3",
   "language": "python",
   "name": "python3"
  },
  "language_info": {
   "codemirror_mode": {
    "name": "ipython",
    "version": 2
   },
   "file_extension": ".py",
   "mimetype": "text/x-python",
   "name": "python",
   "nbconvert_exporter": "python",
   "pygments_lexer": "ipython2",
   "version": "2.7.6"
  }
 },
 "nbformat": 4,
 "nbformat_minor": 5
}
