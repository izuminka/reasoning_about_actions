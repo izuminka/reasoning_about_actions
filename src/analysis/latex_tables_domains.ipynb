{
 "cells": [
  {
   "cell_type": "code",
   "outputs": [],
   "source": [
    "import sys\n",
    "import json\n",
    "sys.path.append('..')\n",
    "\n",
    "from src.common import *\n",
    "from model_performances import *\n",
    "from copy import deepcopy\n",
    "\n",
    "import pandas as pd\n",
    "\n",
    "EVERYTHING_POSTFIX = 'everything'"
   ],
   "metadata": {
    "collapsed": false,
    "ExecuteTime": {
     "end_time": "2024-04-19T21:52:42.505537Z",
     "start_time": "2024-04-19T21:52:42.499743Z"
    }
   },
   "id": "1581e9208ff09f8e",
   "execution_count": 31
  },
  {
   "cell_type": "code",
   "outputs": [],
   "source": [
    "def to_df(results_all, model_name, answer_type, prompt_type, subs=WITHOUT_RANDOM_SUB):\n",
    "    d_ramifications_pretty = {\n",
    "        WITH_RAMIFICATIONS : 'R',\n",
    "        WITHOUT_RAMIFICATIONS : 'No R'\n",
    "    }\n",
    "    d_answer_type_pretty = {\n",
    "        TRUE_FALSE_ANSWER_TYPE : 'T/F',\n",
    "        FREE_ANSWER_TYPE : 'Free'\n",
    "    }\n",
    "    \n",
    "    index = []\n",
    "    data = []\n",
    "    for plan_length in PLAN_LENGTHS:\n",
    "        for question_category in QUESTION_CATEGORIES + [ALL_CATEGORIES_KEY]:\n",
    "            for ramifications in RAMIFICATION_TYPES:\n",
    "                index.append((plan_length, question_category, d_ramifications_pretty[ramifications], d_answer_type_pretty[answer_type]))\n",
    "                data_columns = {}\n",
    "                for domain in DOMAIN_NAMES + [ALL_DOMAINS_KEY]:\n",
    "                    instance = filter_single_selector(results_all, plan_length, question_category, ramifications, model_name, prompt_type, domain,\n",
    "                          answer_type, subs)\n",
    "                    if len(instance) == 0:\n",
    "                        data_columns[domain] = None\n",
    "                    elif not len(instance) == 1: \n",
    "                        raise ValueError(f'len(instance) == {len(instance)}')\n",
    "                    else:\n",
    "                        data_columns[domain] = instance[0][SK_RESULT]\n",
    "                data.append(data_columns)\n",
    "    return pd.DataFrame(data, index = index)\n",
    "\n",
    "# def df_to_latex_table(df):\n",
    "#         latex_table = df.to_latex(index=True, formatters={\"name\": str.upper}, float_format=\"{:.2f}\".format)\n",
    "#         return latex_table[latex_table.find('\\midrule'):].replace(\"bottomrule\", 'crap').replace(\"\\crap\", '').replace(\"\\end{tabular}\", '')\n",
    "\n",
    "# def assemble_table(results_all, answer_type, domain, score_key=None):\n",
    "#     latex_table_all = ''\n",
    "#     with open('latex_table_template/top') as f:\n",
    "#         latex_table_all += f.read() + '\\n'\n",
    "#     latex_table_all += '\\n'.join([df_to_latex_table(to_df(results_all, answer_type, plan_length, domain)) for plan_length in PLAN_LENGTHS])\n",
    "#     with open('latex_table_template/bottom') as f:\n",
    "#         latex_table_all += f.read()\n",
    "#     \n",
    "#     caption = f'{answer_type}, {score_key} scores for {domain}'.replace('_', ' ')\n",
    "#     latex_table_all = latex_table_all.replace('REPLACE_CAPTION_KEY', caption)\n",
    "#     \n",
    "#     return latex_table_all\n"
   ],
   "metadata": {
    "collapsed": false,
    "ExecuteTime": {
     "end_time": "2024-04-19T21:52:49.276372Z",
     "start_time": "2024-04-19T21:52:49.269207Z"
    }
   },
   "id": "dd77fda858739d0e",
   "execution_count": 32
  },
  {
   "cell_type": "code",
   "outputs": [],
   "source": [
    "def collect_results_all(answer_response_type):\n",
    "    results_all = []\n",
    "    for domain, plan_length, question_category, ramifications, random_sub, model_name, prompt_type in for_loop_it():\n",
    "        dir = results_data_path(answer_response_type, domain, plan_length, question_category, ramifications, random_sub, model_name, prompt_type)\n",
    "        path = os.path.join(dir, RESULTS_FILE_NAME)\n",
    "        if os.path.exists(path):\n",
    "            with open(path) as f:\n",
    "                results_all.append(json.load(f))\n",
    "    return results_all\n"
   ],
   "metadata": {
    "collapsed": false,
    "ExecuteTime": {
     "end_time": "2024-04-19T21:52:49.772460Z",
     "start_time": "2024-04-19T21:52:49.767883Z"
    }
   },
   "id": "dfb726b7f5004268",
   "execution_count": 33
  },
  {
   "cell_type": "code",
   "outputs": [
    {
     "name": "stderr",
     "output_type": "stream",
     "text": [
      "100%|██████████| 16128/16128 [00:01<00:00, 12787.85it/s]\n"
     ]
    }
   ],
   "source": [
    "answer_type = TRUE_FALSE_ANSWER_TYPE #FREE_ANSWER#\n",
    "score_key = F1_SCORE_KEY#'accuracy'\n",
    "answer_type_ext = tf_answer_type(score_key = F1_SCORE_KEY)\n",
    "results_all = collect_results_all(tf_answer_type(score_key = F1_SCORE_KEY))\n",
    "# results_all = open_jsonl(os.path.join(STATISTICS_PATH, save_stats_file(answer_type, score_key)))\n"
   ],
   "metadata": {
    "collapsed": false,
    "ExecuteTime": {
     "end_time": "2024-04-19T21:55:52.610827Z",
     "start_time": "2024-04-19T21:55:51.342351Z"
    }
   },
   "id": "8fb4feeb322b4ab0",
   "execution_count": 39
  },
  {
   "cell_type": "code",
   "outputs": [],
   "source": [
    "model_name = 'gemma-2b-it'\n",
    "prompt_type = 'few_shot_1'\n",
    "df = to_df(results_all, model_name, answer_type, prompt_type)"
   ],
   "metadata": {
    "collapsed": false,
    "ExecuteTime": {
     "end_time": "2024-04-19T21:52:55.742010Z",
     "start_time": "2024-04-19T21:52:52.394215Z"
    }
   },
   "id": "578585d5135a72bd",
   "execution_count": 35
  },
  {
   "cell_type": "code",
   "outputs": [
    {
     "data": {
      "text/plain": "'true_false_answer.f1'"
     },
     "execution_count": 40,
     "metadata": {},
     "output_type": "execute_result"
    }
   ],
   "source": [
    "answer_type_ext"
   ],
   "metadata": {
    "collapsed": false,
    "ExecuteTime": {
     "end_time": "2024-04-19T21:55:54.180738Z",
     "start_time": "2024-04-19T21:55:54.177573Z"
    }
   },
   "id": "36214ea7d515bfb6",
   "execution_count": 40
  },
  {
   "cell_type": "code",
   "outputs": [
    {
     "data": {
      "text/plain": "                                      blocksworld    depots  driverlog  \\\n(1, object_tracking, R, T/F)             0.057143  0.056180   0.000000   \n(1, object_tracking, No R, T/F)          0.042857  0.050505   0.000000   \n(1, fluent_tracking, R, T/F)             0.225926  0.228395   0.076271   \n(1, fluent_tracking, No R, T/F)          0.222222  0.200000   0.047009   \n(1, state_tracking, R, T/F)              0.500000  0.277778   0.000000   \n...                                           ...       ...        ...   \n(19, numerical_reasoning, No R, T/F)     0.100000  0.050000   0.040000   \n(19, hallucination, R, T/F)              0.000000  0.088889   0.000000   \n(19, hallucination, No R, T/F)           0.025000  0.050000   0.016667   \n(19, all_categories, R, T/F)             0.124865  0.128655   0.062147   \n(19, all_categories, No R, T/F)          0.116254  0.125000   0.059685   \n\n                                      goldminer  grippers  logistics  \\\n(1, object_tracking, R, T/F)           0.019231  0.071429   0.033333   \n(1, object_tracking, No R, T/F)        0.000000  0.071429   0.016667   \n(1, fluent_tracking, R, T/F)           0.158683  0.233333   0.205556   \n(1, fluent_tracking, No R, T/F)        0.115044  0.228571   0.205556   \n(1, state_tracking, R, T/F)                 NaN  0.450000   0.500000   \n...                                         ...       ...        ...   \n(19, numerical_reasoning, No R, T/F)   0.005000  0.060000   0.070000   \n(19, hallucination, R, T/F)            0.014286  0.033333   0.020000   \n(19, hallucination, No R, T/F)         0.000000  0.050000   0.070000   \n(19, all_categories, R, T/F)           0.035448  0.118519   0.134615   \n(19, all_categories, No R, T/F)        0.036245  0.128042   0.144872   \n\n                                       miconic   mystery   npuzzle  satellite  \\\n(1, object_tracking, R, T/F)          0.006098  0.033333  0.000000   0.035176   \n(1, object_tracking, No R, T/F)       0.012195  0.016667  0.000000   0.030151   \n(1, fluent_tracking, R, T/F)          0.066667  0.311111  0.055556   0.094444   \n(1, fluent_tracking, No R, T/F)       0.084211  0.311111  0.088889   0.105556   \n(1, state_tracking, R, T/F)           0.250000  0.500000  0.500000   0.200000   \n...                                        ...       ...       ...        ...   \n(19, numerical_reasoning, No R, T/F)  0.030000  0.040000  0.020000   0.035000   \n(19, hallucination, R, T/F)           0.000000  0.020000  0.000000   0.050000   \n(19, hallucination, No R, T/F)        0.000000  0.040000  0.033333   0.050000   \n(19, all_categories, R, T/F)          0.031079  0.107692  0.045503   0.090090   \n(19, all_categories, No R, T/F)       0.046575  0.106410  0.050794   0.089189   \n\n                                       spanner  visitall  zenotravel  \\\n(1, object_tracking, R, T/F)          0.076190  0.017391    0.005747   \n(1, object_tracking, No R, T/F)       0.042857  0.017391    0.005747   \n(1, fluent_tracking, R, T/F)          0.206250  0.131148    0.211111   \n(1, fluent_tracking, No R, T/F)       0.159375  0.140449    0.218519   \n(1, state_tracking, R, T/F)           0.400000       NaN    0.500000   \n...                                        ...       ...         ...   \n(19, numerical_reasoning, No R, T/F)  0.025000  0.011111    0.115000   \n(19, hallucination, R, T/F)           0.021429  0.009259    0.016667   \n(19, hallucination, No R, T/F)        0.035714  0.018519    0.066667   \n(19, all_categories, R, T/F)          0.115789  0.049399    0.112953   \n(19, all_categories, No R, T/F)       0.111404  0.049731    0.128497   \n\n                                      all_domains  \n(1, object_tracking, R, T/F)             0.031156  \n(1, object_tracking, No R, T/F)          0.022500  \n(1, fluent_tracking, R, T/F)             0.161350  \n(1, fluent_tracking, No R, T/F)          0.155067  \n(1, state_tracking, R, T/F)              0.405000  \n...                                           ...  \n(19, numerical_reasoning, No R, T/F)     0.046512  \n(19, hallucination, R, T/F)              0.019897  \n(19, hallucination, No R, T/F)           0.033801  \n(19, all_categories, R, T/F)             0.087183  \n(19, all_categories, No R, T/F)          0.090318  \n\n[80 rows x 14 columns]",
      "text/html": "<div>\n<style scoped>\n    .dataframe tbody tr th:only-of-type {\n        vertical-align: middle;\n    }\n\n    .dataframe tbody tr th {\n        vertical-align: top;\n    }\n\n    .dataframe thead th {\n        text-align: right;\n    }\n</style>\n<table border=\"1\" class=\"dataframe\">\n  <thead>\n    <tr style=\"text-align: right;\">\n      <th></th>\n      <th>blocksworld</th>\n      <th>depots</th>\n      <th>driverlog</th>\n      <th>goldminer</th>\n      <th>grippers</th>\n      <th>logistics</th>\n      <th>miconic</th>\n      <th>mystery</th>\n      <th>npuzzle</th>\n      <th>satellite</th>\n      <th>spanner</th>\n      <th>visitall</th>\n      <th>zenotravel</th>\n      <th>all_domains</th>\n    </tr>\n  </thead>\n  <tbody>\n    <tr>\n      <th>(1, object_tracking, R, T/F)</th>\n      <td>0.057143</td>\n      <td>0.056180</td>\n      <td>0.000000</td>\n      <td>0.019231</td>\n      <td>0.071429</td>\n      <td>0.033333</td>\n      <td>0.006098</td>\n      <td>0.033333</td>\n      <td>0.000000</td>\n      <td>0.035176</td>\n      <td>0.076190</td>\n      <td>0.017391</td>\n      <td>0.005747</td>\n      <td>0.031156</td>\n    </tr>\n    <tr>\n      <th>(1, object_tracking, No R, T/F)</th>\n      <td>0.042857</td>\n      <td>0.050505</td>\n      <td>0.000000</td>\n      <td>0.000000</td>\n      <td>0.071429</td>\n      <td>0.016667</td>\n      <td>0.012195</td>\n      <td>0.016667</td>\n      <td>0.000000</td>\n      <td>0.030151</td>\n      <td>0.042857</td>\n      <td>0.017391</td>\n      <td>0.005747</td>\n      <td>0.022500</td>\n    </tr>\n    <tr>\n      <th>(1, fluent_tracking, R, T/F)</th>\n      <td>0.225926</td>\n      <td>0.228395</td>\n      <td>0.076271</td>\n      <td>0.158683</td>\n      <td>0.233333</td>\n      <td>0.205556</td>\n      <td>0.066667</td>\n      <td>0.311111</td>\n      <td>0.055556</td>\n      <td>0.094444</td>\n      <td>0.206250</td>\n      <td>0.131148</td>\n      <td>0.211111</td>\n      <td>0.161350</td>\n    </tr>\n    <tr>\n      <th>(1, fluent_tracking, No R, T/F)</th>\n      <td>0.222222</td>\n      <td>0.200000</td>\n      <td>0.047009</td>\n      <td>0.115044</td>\n      <td>0.228571</td>\n      <td>0.205556</td>\n      <td>0.084211</td>\n      <td>0.311111</td>\n      <td>0.088889</td>\n      <td>0.105556</td>\n      <td>0.159375</td>\n      <td>0.140449</td>\n      <td>0.218519</td>\n      <td>0.155067</td>\n    </tr>\n    <tr>\n      <th>(1, state_tracking, R, T/F)</th>\n      <td>0.500000</td>\n      <td>0.277778</td>\n      <td>0.000000</td>\n      <td>NaN</td>\n      <td>0.450000</td>\n      <td>0.500000</td>\n      <td>0.250000</td>\n      <td>0.500000</td>\n      <td>0.500000</td>\n      <td>0.200000</td>\n      <td>0.400000</td>\n      <td>NaN</td>\n      <td>0.500000</td>\n      <td>0.405000</td>\n    </tr>\n    <tr>\n      <th>...</th>\n      <td>...</td>\n      <td>...</td>\n      <td>...</td>\n      <td>...</td>\n      <td>...</td>\n      <td>...</td>\n      <td>...</td>\n      <td>...</td>\n      <td>...</td>\n      <td>...</td>\n      <td>...</td>\n      <td>...</td>\n      <td>...</td>\n      <td>...</td>\n    </tr>\n    <tr>\n      <th>(19, numerical_reasoning, No R, T/F)</th>\n      <td>0.100000</td>\n      <td>0.050000</td>\n      <td>0.040000</td>\n      <td>0.005000</td>\n      <td>0.060000</td>\n      <td>0.070000</td>\n      <td>0.030000</td>\n      <td>0.040000</td>\n      <td>0.020000</td>\n      <td>0.035000</td>\n      <td>0.025000</td>\n      <td>0.011111</td>\n      <td>0.115000</td>\n      <td>0.046512</td>\n    </tr>\n    <tr>\n      <th>(19, hallucination, R, T/F)</th>\n      <td>0.000000</td>\n      <td>0.088889</td>\n      <td>0.000000</td>\n      <td>0.014286</td>\n      <td>0.033333</td>\n      <td>0.020000</td>\n      <td>0.000000</td>\n      <td>0.020000</td>\n      <td>0.000000</td>\n      <td>0.050000</td>\n      <td>0.021429</td>\n      <td>0.009259</td>\n      <td>0.016667</td>\n      <td>0.019897</td>\n    </tr>\n    <tr>\n      <th>(19, hallucination, No R, T/F)</th>\n      <td>0.025000</td>\n      <td>0.050000</td>\n      <td>0.016667</td>\n      <td>0.000000</td>\n      <td>0.050000</td>\n      <td>0.070000</td>\n      <td>0.000000</td>\n      <td>0.040000</td>\n      <td>0.033333</td>\n      <td>0.050000</td>\n      <td>0.035714</td>\n      <td>0.018519</td>\n      <td>0.066667</td>\n      <td>0.033801</td>\n    </tr>\n    <tr>\n      <th>(19, all_categories, R, T/F)</th>\n      <td>0.124865</td>\n      <td>0.128655</td>\n      <td>0.062147</td>\n      <td>0.035448</td>\n      <td>0.118519</td>\n      <td>0.134615</td>\n      <td>0.031079</td>\n      <td>0.107692</td>\n      <td>0.045503</td>\n      <td>0.090090</td>\n      <td>0.115789</td>\n      <td>0.049399</td>\n      <td>0.112953</td>\n      <td>0.087183</td>\n    </tr>\n    <tr>\n      <th>(19, all_categories, No R, T/F)</th>\n      <td>0.116254</td>\n      <td>0.125000</td>\n      <td>0.059685</td>\n      <td>0.036245</td>\n      <td>0.128042</td>\n      <td>0.144872</td>\n      <td>0.046575</td>\n      <td>0.106410</td>\n      <td>0.050794</td>\n      <td>0.089189</td>\n      <td>0.111404</td>\n      <td>0.049731</td>\n      <td>0.128497</td>\n      <td>0.090318</td>\n    </tr>\n  </tbody>\n</table>\n<p>80 rows × 14 columns</p>\n</div>"
     },
     "execution_count": 36,
     "metadata": {},
     "output_type": "execute_result"
    }
   ],
   "source": [
    "df"
   ],
   "metadata": {
    "collapsed": false,
    "ExecuteTime": {
     "end_time": "2024-04-19T21:52:55.765496Z",
     "start_time": "2024-04-19T21:52:55.743869Z"
    }
   },
   "id": "5b5a15905194ac6a",
   "execution_count": 36
  },
  {
   "cell_type": "code",
   "outputs": [
    {
     "name": "stderr",
     "output_type": "stream",
     "text": [
      "/var/folders/_0/bqv6dr454lsgny6_gs_xb0q80000gn/T/ipykernel_40902/2791806203.py:1: FutureWarning: In future versions `DataFrame.to_latex` is expected to utilise the base implementation of `Styler.to_latex` for formatting and rendering. The arguments signature may therefore change. It is recommended instead to use `DataFrame.style.to_latex` which also contains additional functionality.\n",
      "  latex_table = df.to_latex(index=True, formatters={\"name\": str.upper}, float_format=\"{:.2f}\".format)\n"
     ]
    }
   ],
   "source": [
    "latex_table = df.to_latex(index=True, formatters={\"name\": str.upper}, float_format=\"{:.2f}\".format)\n",
    "os.makedirs(os.path.join(STATISTICS_PATH, 'tables_2'), exist_ok=True)\n",
    "with open(os.path.join(STATISTICS_PATH, 'tables_2', f'{model_name}.{prompt_type}{answer_type_ext}.tex'), 'w') as f:\n",
    "    f.write(latex_table)"
   ],
   "metadata": {
    "collapsed": false,
    "ExecuteTime": {
     "end_time": "2024-04-19T21:56:09.110321Z",
     "start_time": "2024-04-19T21:56:09.021764Z"
    }
   },
   "id": "f096656451a1a662",
   "execution_count": 41
  },
  {
   "cell_type": "code",
   "outputs": [],
   "source": [],
   "metadata": {
    "collapsed": false
   },
   "id": "63a61708b6738b85"
  }
 ],
 "metadata": {
  "kernelspec": {
   "display_name": "Python 3",
   "language": "python",
   "name": "python3"
  },
  "language_info": {
   "codemirror_mode": {
    "name": "ipython",
    "version": 2
   },
   "file_extension": ".py",
   "mimetype": "text/x-python",
   "name": "python",
   "nbconvert_exporter": "python",
   "pygments_lexer": "ipython2",
   "version": "2.7.6"
  }
 },
 "nbformat": 4,
 "nbformat_minor": 5
}
