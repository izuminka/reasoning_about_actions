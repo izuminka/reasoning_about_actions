{
 "cells": [
  {
   "cell_type": "code",
   "execution_count": 1,
   "id": "initial_id",
   "metadata": {
    "collapsed": true,
    "ExecuteTime": {
     "end_time": "2024-05-08T21:48:03.989390Z",
     "start_time": "2024-05-08T21:48:00.973370Z"
    }
   },
   "outputs": [],
   "source": [
    "import sys\n",
    "sys.path.insert(0,'../../')\n",
    "from src.analysis.model_performances import *\n",
    "from helpers import *"
   ]
  },
  {
   "cell_type": "code",
   "outputs": [
    {
     "name": "stderr",
     "output_type": "stream",
     "text": [
      "100%|██████████| 25920/25920 [00:01<00:00, 14340.47it/s]\n"
     ]
    }
   ],
   "source": [
    "answer_type = TRUE_FALSE_ANSWER_TYPE\n",
    "answer_type_plus = tf_answer_type(score_key = F1_SCORE_KEY)\n",
    "stats_all = collect_stats_all(answer_type_plus)"
   ],
   "metadata": {
    "collapsed": false,
    "ExecuteTime": {
     "end_time": "2024-05-08T21:48:05.879290Z",
     "start_time": "2024-05-08T21:48:03.991445Z"
    }
   },
   "id": "1612da7fa320e3bc",
   "execution_count": 2
  },
  {
   "cell_type": "code",
   "outputs": [],
   "source": [
    "model_name = 'gemini'#'Llama-2-7b-chat-hf'#'gemma-2b-it' #'Llama-2-13b-chat-hf' #\n",
    "prompt_type = 'few_shot_1'\n",
    "plan_length = 1\n",
    "question_category = ALL_QUESTION_CATEGORIES_KEY\n",
    "domain = ALL_DOMAINS_KEY\n",
    "\n",
    "categories = SUBSTITUTION_TYPES\n",
    "save_dir = os.path.join(STATISTICS_PATH, 'by_substitutions_plots')\n",
    "os.makedirs(save_dir, exist_ok=True)"
   ],
   "metadata": {
    "collapsed": false,
    "ExecuteTime": {
     "end_time": "2024-05-08T21:51:42.171850Z",
     "start_time": "2024-05-08T21:51:42.167518Z"
    }
   },
   "id": "b6bc53bcf85fda1",
   "execution_count": 13
  },
  {
   "cell_type": "markdown",
   "source": [
    "# By ramifications"
   ],
   "metadata": {
    "collapsed": false
   },
   "id": "66edf81489ad1b"
  },
  {
   "cell_type": "code",
   "outputs": [
    {
     "name": "stdout",
     "output_type": "stream",
     "text": [
      "by prompt type, gemini, few shot 1, ALL DOMAINS, pl-1\n"
     ]
    },
    {
     "data": {
      "text/plain": "<Figure size 432x288 with 0 Axes>"
     },
     "metadata": {},
     "output_type": "display_data"
    },
    {
     "data": {
      "text/plain": "<Figure size 432x288 with 0 Axes>"
     },
     "metadata": {},
     "output_type": "display_data"
    },
    {
     "data": {
      "text/plain": "<Figure size 720x360 with 1 Axes>",
      "image/png": "[encoded data removed]"
     },
     "metadata": {
      "needs_background": "light"
     },
     "output_type": "display_data"
    }
   ],
   "source": [
    "data_all = []\n",
    "for ramifications in RAMIFICATION_TYPES:\n",
    "    plt.figure()\n",
    "    data = {NAME_KEY: ramifications, DATA_KEY: []}\n",
    "    for subs in categories:\n",
    "        res = filter_single_selector(stats_all, plan_length, question_category, ramifications, model_name, prompt_type, domain, answer_type, subs) \n",
    "        data[DATA_KEY].append(res)\n",
    "    data_all.append(data)\n",
    "\n",
    "plt_n_bars(categories, data_all)\n",
    "plt.ylabel('F1')\n",
    "plt.ylim([0.5,1])\n",
    "save_name =  f'by_prompt_type.{model_name}.{prompt_type}.{domain}.pl-{plan_length}'\n",
    "save_path = os.path.join(save_dir, f'{save_name}.pdf')\n",
    "plt.savefig(save_path, transparent=True, format=\"pdf\", bbox_inches='tight')\n",
    "\n",
    "print(save_name.replace('.',', ').replace('_',' '))"
   ],
   "metadata": {
    "collapsed": false,
    "ExecuteTime": {
     "end_time": "2024-05-08T21:51:43.334936Z",
     "start_time": "2024-05-08T21:51:43.128861Z"
    }
   },
   "id": "aaf02ad1f3bad971",
   "execution_count": 14
  },
  {
   "cell_type": "code",
   "outputs": [],
   "source": [],
   "metadata": {
    "collapsed": false
   },
   "id": "75e13b0a738d7694"
  }
 ],
 "metadata": {
  "kernelspec": {
   "display_name": "Python 3",
   "language": "python",
   "name": "python3"
  },
  "language_info": {
   "codemirror_mode": {
    "name": "ipython",
    "version": 2
   },
   "file_extension": ".py",
   "mimetype": "text/x-python",
   "name": "python",
   "nbconvert_exporter": "python",
   "pygments_lexer": "ipython2",
   "version": "2.7.6"
  }
 },
 "nbformat": 4,
 "nbformat_minor": 5
}
