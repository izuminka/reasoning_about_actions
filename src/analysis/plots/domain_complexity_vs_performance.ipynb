{
 "cells": [
  {
   "cell_type": "code",
   "execution_count": 1,
   "id": "initial_id",
   "metadata": {
    "collapsed": true,
    "ExecuteTime": {
     "end_time": "2024-05-03T23:58:14.237182Z",
     "start_time": "2024-05-03T23:58:11.222184Z"
    }
   },
   "outputs": [],
   "source": [
    "import sys\n",
    "sys.path.insert(0,'../../')\n",
    "from src.analysis.model_performances import *\n",
    "import matplotlib.pyplot as plt"
   ]
  },
  {
   "cell_type": "code",
   "outputs": [
    {
     "name": "stderr",
     "output_type": "stream",
     "text": [
      "100%|██████████| 25920/25920 [00:01<00:00, 16738.78it/s]\n"
     ]
    }
   ],
   "source": [
    "answer_type = TRUE_FALSE_ANSWER_TYPE\n",
    "answer_type_plus = tf_answer_type(score_key = F1_SCORE_KEY)\n",
    "results_all = collect_stats_all(answer_type_plus)"
   ],
   "metadata": {
    "collapsed": false,
    "ExecuteTime": {
     "end_time": "2024-05-03T23:58:15.866908Z",
     "start_time": "2024-05-03T23:58:14.239030Z"
    }
   },
   "id": "1612da7fa320e3bc",
   "execution_count": 2
  },
  {
   "cell_type": "code",
   "outputs": [],
   "source": [
    "with open('complexity_by_domain.json') as f:\n",
    "    complexity_by_domain = json.load(f)"
   ],
   "metadata": {
    "collapsed": false,
    "ExecuteTime": {
     "end_time": "2024-05-03T23:58:15.872232Z",
     "start_time": "2024-05-03T23:58:15.868585Z"
    }
   },
   "id": "3242d3005e94cd2d",
   "execution_count": 3
  },
  {
   "cell_type": "code",
   "outputs": [],
   "source": [
    "model = 'gemini'#'Llama-2-7b-chat-hf'#'gemma-2b-it' #\n",
    "prompt_type = 'few_shot_5'\n",
    "plan_length = 1\n",
    "ramifications = WITHOUT_RAMIFICATIONS\n",
    "subs = WITHOUT_RANDOM_SUB\n",
    "question_category = ALL_QUESTION_CATEGORIES_KEY"
   ],
   "metadata": {
    "collapsed": false,
    "ExecuteTime": {
     "end_time": "2024-05-03T23:58:45.323318Z",
     "start_time": "2024-05-03T23:58:45.320701Z"
    }
   },
   "id": "b6bc53bcf85fda1",
   "execution_count": 8
  },
  {
   "cell_type": "code",
   "outputs": [],
   "source": [
    "by_domain_result = {}\n",
    "for domain in DOMAIN_NAMES:\n",
    "    by_domain_result[domain] = filter_single_selector(results_all, plan_length, question_category, ramifications, model, prompt_type, domain, answer_type, subs)"
   ],
   "metadata": {
    "collapsed": false,
    "ExecuteTime": {
     "end_time": "2024-05-03T23:58:46.276064Z",
     "start_time": "2024-05-03T23:58:46.223703Z"
    }
   },
   "id": "20a1555d24fe8889",
   "execution_count": 9
  },
  {
   "cell_type": "code",
   "outputs": [
    {
     "data": {
      "text/plain": "<Figure size 432x288 with 1 Axes>",
      "image/png": "[encoded data removed]"
     },
     "metadata": {
      "needs_background": "light"
     },
     "output_type": "display_data"
    }
   ],
   "source": [
    "x = [complexity_by_domain[k]['mean'] for k in DOMAIN_NAMES]\n",
    "x_err = [complexity_by_domain[k]['std'] for k in DOMAIN_NAMES]\n",
    "y = [by_domain_result[k] for k in DOMAIN_NAMES]\n",
    "plt.scatter(x, y, s=0.01)\n",
    "for i, txt in enumerate(DOMAIN_NAMES):\n",
    "    if x[i] and y[i]:\n",
    "        # plt.annotate(txt, (x[i]*1.005, y[i]*1.005))\n",
    "        plt.annotate(txt, (x[i], y[i]))\n",
    "#         \n",
    "\n",
    "    \n",
    "plt.errorbar(x, y, xerr=x_err, fmt='o')\n",
    "\n",
    "# plt.ylim([0,0.15])\n",
    "plt.xlabel('Total Fluents in a State')\n",
    "plt.ylabel('F1 Score (all questions)')\n",
    "plt.savefig(f'complexity_vs_f1.{model}.{prompt_type}.{subs}.pdf')"
   ],
   "metadata": {
    "collapsed": false,
    "ExecuteTime": {
     "end_time": "2024-05-04T00:07:03.062640Z",
     "start_time": "2024-05-04T00:07:02.834817Z"
    }
   },
   "id": "4883c7d3a9516e1e",
   "execution_count": 26
  },
  {
   "cell_type": "code",
   "outputs": [
    {
     "data": {
      "text/plain": "[0.24731182795698925,\n 0.2226950354609929,\n 0.2028985507246377,\n 0.21215139442231076,\n 0.24942528735632183,\n 0.2190721649484536,\n 0.18681318681318682,\n None,\n None,\n None,\n None,\n None,\n None]"
     },
     "execution_count": 38,
     "metadata": {},
     "output_type": "execute_result"
    }
   ],
   "source": [],
   "metadata": {
    "collapsed": false,
    "ExecuteTime": {
     "end_time": "2024-04-20T00:05:15.766933Z",
     "start_time": "2024-04-20T00:05:15.762297Z"
    }
   },
   "id": "77d831bf35c96bee",
   "execution_count": 38
  },
  {
   "cell_type": "code",
   "outputs": [],
   "source": [],
   "metadata": {
    "collapsed": false
   },
   "id": "5d85b7797d7d22df"
  }
 ],
 "metadata": {
  "kernelspec": {
   "display_name": "Python 3",
   "language": "python",
   "name": "python3"
  },
  "language_info": {
   "codemirror_mode": {
    "name": "ipython",
    "version": 2
   },
   "file_extension": ".py",
   "mimetype": "text/x-python",
   "name": "python",
   "nbconvert_exporter": "python",
   "pygments_lexer": "ipython2",
   "version": "2.7.6"
  }
 },
 "nbformat": 4,
 "nbformat_minor": 5
}
