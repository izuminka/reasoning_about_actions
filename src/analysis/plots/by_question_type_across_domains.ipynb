{
 "cells": [
  {
   "cell_type": "code",
   "outputs": [],
   "source": [
    "import pandas as pd\n",
    "import os\n",
    "import glob\n",
    "import matplotlib.pyplot as plt\n",
    "import numpy as np\n",
    "import copy\n",
    "from collections import defaultdict\n",
    "\n",
    "\n",
    "fields_to_paper_pretty = lambda x: x"
   ],
   "metadata": {
    "collapsed": false,
    "ExecuteTime": {
     "end_time": "2024-04-19T22:56:11.907796Z",
     "start_time": "2024-04-19T22:56:09.701594Z"
    }
   },
   "id": "add907e4ca3a7d3a",
   "execution_count": 1
  },
  {
   "cell_type": "code",
   "outputs": [],
   "source": [
    "ABSTENTION_TOTAL = 5478\n",
    "UNSAFE_TOTAL = 5300\n",
    "ABSTENTION_FRACTION_KEY = 'abstained_fraction'\n",
    "UNSAFE_FRACTION_KEY = 'unsafe_fraction'\n",
    "\n",
    "# PLOTTING CONSTANTS\n",
    "SIG_FIGS = 2\n",
    "FONTSIZE=19\n",
    "LABEL_FONTSIZE=11\n",
    "\n",
    "X_UPPER = 119 # 6500 1.19\n",
    "Y_UPPER = 10\n",
    "BAR_LINE_WIDTH = 0.5\n",
    "\n",
    "abstained_color = '#c6e4ff' #\"#FCEDDA\"# \"#0097dd\"#\"#1984c5\" #'#66b3ff'\n",
    "unsafe_color = '#f49876'#'#EE4E34'.lower() #\"#ffdcaf\" #'#ffcc99'\n",
    "AVG_MODELS_NAME = 'AVG Across\\nthe Models'\n",
    "INACCURACY_KEY = 'Error (%)'#'Inaccuracy [%]'\n"
   ],
   "metadata": {
    "collapsed": false,
    "ExecuteTime": {
     "end_time": "2024-04-19T22:56:11.914185Z",
     "start_time": "2024-04-19T22:56:11.909946Z"
    }
   },
   "id": "d4a1acba74a31758",
   "execution_count": 2
  },
  {
   "cell_type": "code",
   "outputs": [],
   "source": [
    "def strategy_models_plt(models_data, avg_all=None, plot_std=False, plot_bar_labels=True,\n",
    "                figsize = (8,7),\n",
    "                x_upper = X_UPPER,\n",
    "                y_upper = Y_UPPER,\n",
    "                spacing_factor = 3.5, # is to give more space btw models ont he chart \n",
    "                width = 0.65*2,\n",
    "                fontsize = FONTSIZE,\n",
    "                legend_fontsize=18): # of the bars\n",
    "                \n",
    "    number_of_models = len(models_data['models'])\n",
    "    xticks = models_data['models']\n",
    "    r = r_all = np.arange(number_of_models)*spacing_factor\n",
    "    \n",
    "    fig, ax = plt.subplots(layout='constrained', figsize =figsize)\n",
    "    for question_type,v in models_data['data'].items():\n",
    "        ax.bar(r, v, width, label=question_type, color = abstained_color, edgecolor='black', linewidth=BAR_LINE_WIDTH, zorder=3)\n",
    "    \n",
    "    ax.set_ylim(0, y_upper)\n",
    "    plt.xticks(r_all + width/2,  xticks , fontsize=fontsize)\n",
    "    plt.yticks(fontsize=fontsize)\n",
    "    plt.ylabel(INACCURACY_KEY, fontsize=fontsize)\n",
    "    return fig, ax\n",
    "\n",
    "def pretty_plt_fn(strategy_name, add_pdf=True):\n",
    "    base_name = fields_to_paper_pretty.get(strategy_name, strategy_name).replace(' ','').replace('I/P','Input').replace('O/P','Output')\n",
    "    if add_pdf:\n",
    "        return base_name + '.pdf'\n",
    "    return base_name"
   ],
   "metadata": {
    "collapsed": false
   },
   "id": "f275b4e372ba95e9"
  },
  {
   "cell_type": "code",
   "outputs": [],
   "source": [
    "print(field)\n",
    "models_data11 = copy.deepcopy(models_data_all[strategy_index])\n",
    "models_avg11 = copy.deepcopy(models_data_avg_all[strategy_index])\n",
    "\n",
    "plot_std = ('unsafe_std' in models_data11) and ('abstained_std' in models_data11)\n",
    "fig, ax = strategy_models_plt(models_data11, figsize=(7,figsize_y), y_upper=y_upper, fontsize=18)\n",
    "\n",
    "ax.minorticks_on()\n",
    "ax.xaxis.set_tick_params(which='minor', bottom=False)\n",
    "plt.grid(linewidth=0.5, color='#ededed', axis='y', zorder=0)\n",
    "plt.savefig(os.path.join(PLOTS_PROMPTS_DIR, pretty_plt_fn(field)), transparent=True, format=\"pdf\", bbox_inches='tight')\n",
    "plt.show()"
   ],
   "metadata": {
    "collapsed": true
   },
   "id": "initial_id",
   "execution_count": 0
  }
 ],
 "metadata": {
  "kernelspec": {
   "display_name": "Python 3",
   "language": "python",
   "name": "python3"
  },
  "language_info": {
   "codemirror_mode": {
    "name": "ipython",
    "version": 2
   },
   "file_extension": ".py",
   "mimetype": "text/x-python",
   "name": "python",
   "nbconvert_exporter": "python",
   "pygments_lexer": "ipython2",
   "version": "2.7.6"
  }
 },
 "nbformat": 4,
 "nbformat_minor": 5
}
