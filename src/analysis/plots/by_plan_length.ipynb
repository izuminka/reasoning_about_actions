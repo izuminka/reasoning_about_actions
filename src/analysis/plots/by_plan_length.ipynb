{
 "cells": [
  {
   "cell_type": "code",
   "execution_count": 2,
   "id": "initial_id",
   "metadata": {
    "collapsed": true,
    "ExecuteTime": {
     "end_time": "2024-06-05T21:29:54.974480Z",
     "start_time": "2024-06-05T21:29:48.009679Z"
    }
   },
   "outputs": [],
   "source": [
    "import sys\n",
    "import json\n",
    "sys.path.append('..')\n",
    "from src.analysis.model_performances import *\n",
    "from src.common import *\n",
    "\n",
    "from copy import deepcopy\n",
    "import pandas as pd\n",
    "import matplotlib.pyplot as plt\n",
    "from collections import defaultdict\n",
    "from helpers import *"
   ]
  },
  {
   "cell_type": "code",
   "outputs": [
    {
     "name": "stderr",
     "output_type": "stream",
     "text": [
      "100%|██████████| 62208/62208 [00:01<00:00, 42553.77it/s]"
     ]
    },
    {
     "name": "stdout",
     "output_type": "stream",
     "text": [
      "5415\n"
     ]
    },
    {
     "name": "stderr",
     "output_type": "stream",
     "text": [
      "\n"
     ]
    }
   ],
   "source": [
    "answer_type = TRUE_FALSE_ANSWER_TYPE #FREE_ANSWER#\n",
    "score_key = ACCURACY_SCORE_KEY #F1_SCORE_KEY#'accuracy'\n",
    "answer_type_ext = tf_answer_type(score_key = score_key)\n",
    "\n",
    "stats_all = collect_stats_all(tf_answer_type(score_key = score_key), save_main_dir=SAVE_MAIN_DIR)\n",
    "print(len(stats_all))\n",
    "\n",
    "save_dir = os.path.join(SAVE_MAIN_DIR, 'plots', 'by_length')\n",
    "os.makedirs(save_dir, exist_ok=True)"
   ],
   "metadata": {
    "collapsed": false,
    "ExecuteTime": {
     "end_time": "2024-06-05T21:30:10.529926Z",
     "start_time": "2024-06-05T21:30:09.050328Z"
    }
   },
   "id": "1f840df92d9a0eff",
   "execution_count": 4
  },
  {
   "cell_type": "code",
   "outputs": [],
   "source": [
    "prompt_type = 'few_shot_1'\n",
    "subs = WITHOUT_RANDOM_SUB\n",
    "ramifications = WITHOUT_RAMIFICATIONS\n",
    "question_category = ALL_QUESTION_CATEGORIES_KEY\n",
    "plan_lengths = [1, 10, 19]"
   ],
   "metadata": {
    "collapsed": false,
    "ExecuteTime": {
     "end_time": "2024-06-05T21:36:23.390988Z",
     "start_time": "2024-06-05T21:36:23.386909Z"
    }
   },
   "id": "1f65f29e74987cb0",
   "execution_count": 23
  },
  {
   "cell_type": "markdown",
   "source": [
    "# By Domain"
   ],
   "metadata": {
    "collapsed": false
   },
   "id": "45aed1c3ef68eff"
  },
  {
   "cell_type": "code",
   "outputs": [],
   "source": [
    "# x = plan_lengths\n",
    "# plt.figure()\n",
    "#     \n",
    "# for domain_type in [TRANSPORTATION_DOMAIN_KEY, NON_TRANSPORTATION_DOMAIN_KEY]:\n",
    "#     y_by_domain = {}\n",
    "#     y = []\n",
    "#     y_error = []\n",
    "#     for plan_length in plan_lengths:\n",
    "#         out_obj = filter_single_selector(stats_all, plan_length, question_category, ramifications, model_name, prompt_type, domain_type, answer_type, subs)\n",
    "#         y.append(out_obj['result'])\n",
    "#         if out_obj['result']:\n",
    "#             error = out_obj['result_other']['sem']\n",
    "#         else:\n",
    "#             error = 0\n",
    "#         y_error.append(error)\n",
    "#     y_by_domain[domain_type] = y\n",
    "#     # plt.plot(x, y, 'o-', label=domain)\n",
    "#     plt.errorbar(plan_lengths, y, yerr=y_error, capsize=3, fmt=\"o-\", label=domain_type, ecolor = \"black\")\n",
    "# \n",
    "#     \n",
    "# # plt.ylim([0.59, 0.76])\n",
    "# plt.xticks(plan_lengths)\n",
    "# # plt.title(f'{model_name} {prompt_type} {subs} {ramifications}')\n",
    "# plt.legend(fontsize=15)#, bbox_to_anchor=(1, 1))\n",
    "# plt.xticks(size=15)\n",
    "# plt.xlabel('Plan Length', size=15)\n",
    "# plt.yticks(size=15)\n",
    "# plt.ylabel('Accuracy [%]', size=15)\n",
    "# os.makedirs(save_dir, exist_ok=True)\n",
    "# \n",
    "# file_name = f'by_domain_type.{model_name}.{prompt_type}.{subs}.{ramifications}.{subs}.1-19'\n",
    "# save_path = os.path.join(save_dir, f'{file_name}.pdf')\n",
    "# plt.savefig(save_path, transparent=True, format=\"pdf\", bbox_inches='tight')\n",
    "# # plt.show()\n",
    "# print(file_name.replace('.', ', ').replace('_', ' '))"
   ],
   "metadata": {
    "collapsed": false,
    "ExecuteTime": {
     "end_time": "2024-06-05T21:36:24.131778Z",
     "start_time": "2024-06-05T21:36:24.127968Z"
    }
   },
   "id": "a849efba903adacf",
   "execution_count": 24
  },
  {
   "cell_type": "code",
   "outputs": [],
   "source": [
    "# x = PLAN_LENGTHS\n",
    "# \n",
    "# for domain_type, domain_ls in [(TRANSPORTATION_DOMAIN_KEY, TRANSPORTATION_DOMAINS), (NON_TRANSPORTATION_DOMAIN_KEY, NON_TRANSPORTATION_DOMAINS)]:\n",
    "#     plt.figure()\n",
    "#     y_by_domain = {}\n",
    "#     for domain in domain_ls:\n",
    "#         y = []\n",
    "#         y_error = []\n",
    "#         for plan_length in plan_lengths:\n",
    "#             out_obj = filter_single_selector(stats_all, plan_length, question_category, ramifications, model_name, prompt_type, domain, answer_type, subs)\n",
    "#             y.append(out_obj['result'])\n",
    "#             if out_obj['result']:\n",
    "#                 error = out_obj['result_other']['sem']\n",
    "#             else:\n",
    "#                 error = 0\n",
    "#             y_error.append(error)\n",
    "#         y_by_domain[domain] = y\n",
    "#         # plt.plot(x, y, 'o-', label=domain)\n",
    "#         plt.errorbar(plan_lengths, y, yerr=y_error, capsize=3, fmt=\"o-\", label=domain, ecolor = \"black\")\n",
    "# \n",
    "#     \n",
    "#     # plt.ylim([0.59, 0.76])\n",
    "#     plt.xticks(PLAN_LENGTHS)\n",
    "#     # plt.title(f'{model_name} {prompt_type} {subs} {ramifications}')\n",
    "#     plt.legend(fontsize=15, bbox_to_anchor=(1, 1))\n",
    "#     plt.xticks(size=15)\n",
    "#     plt.xlabel('Plan Length', size=15)\n",
    "#     plt.yticks(size=15)\n",
    "#     plt.ylabel(score_key, size=15)\n",
    "#     os.makedirs(save_dir, exist_ok=True)\n",
    "#     save_path = os.path.join(save_dir, f'{domain_type}.{answer_type}.{score_key}.{model_name}.{prompt_type}.{subs}.{ramifications}.1-19.pdf')\n",
    "#     plt.savefig(save_path, transparent=True, format=\"pdf\", bbox_inches='tight')\n",
    "#     plt.show()"
   ],
   "metadata": {
    "collapsed": false,
    "ExecuteTime": {
     "end_time": "2024-06-05T21:36:24.460117Z",
     "start_time": "2024-06-05T21:36:24.456370Z"
    }
   },
   "id": "f0df0827df59abe8",
   "execution_count": 25
  },
  {
   "cell_type": "markdown",
   "source": [
    "# By Question Category"
   ],
   "metadata": {
    "collapsed": false
   },
   "id": "c350ed88abf43376"
  },
  {
   "cell_type": "code",
   "outputs": [
    {
     "name": "stdout",
     "output_type": "stream",
     "text": [
      "question_category, ALL_DOMAINS, true_false_answer, accuracy, gpt-4o, few_shot_1, without_ramifications, 1-19\n"
     ]
    },
    {
     "data": {
      "text/plain": "<Figure size 396x324 with 1 Axes>",
      "image/png": "[encoded data removed]"
     },
     "metadata": {
      "needs_background": "light"
     },
     "output_type": "display_data"
    }
   ],
   "source": [
    "TO_PRETTY = {\n",
    "    'object_tracking': 'Object Trk.',\n",
    "    'fluent_tracking': 'Fluent Trk.',\n",
    "    'state_tracking': 'State Trk.',\n",
    "    'action_executability': 'Action Exec.',\n",
    "    'effects': 'Effects of Ac.',\n",
    "    'numerical_reasoning': 'Num. Reas.',\n",
    "    'hallucination': 'Halluc.',\n",
    "    'composite': 'Composite'}\n",
    "\n",
    "model_name = 'gpt-4o' #'gemini'#'gemma-2b-it' 'gpt-4o' #'gemini' # \n",
    "ramifications = WITHOUT_RAMIFICATIONS\n",
    "domain = ALL_DOMAINS_KEY\n",
    "\n",
    "results_by_plan_length = {}\n",
    "error_by_plan_length = {}\n",
    "for plan_length in plan_lengths:\n",
    "    results_by_cat = defaultdict(list)\n",
    "    error_by_cat = defaultdict(list)\n",
    "    for question_category in QUESTION_CATEGORIES:#[:-2]:\n",
    "            res_obj = filter_single_selector(stats_all, plan_length, question_category, ramifications, model_name, prompt_type, domain, answer_type, subs)\n",
    "            results_by_cat[question_category] = res_obj['result']\n",
    "            error_by_cat[question_category] = res_obj['result_other']['sem']\n",
    "    results_by_plan_length[plan_length] = results_by_cat\n",
    "    error_by_plan_length[plan_length] = error_by_cat\n",
    "\n",
    "    # plt.plot(plan_lengths, [0.5 for _ in range(len(plan_lengths))], linestyle='dashed', color='black')\n",
    "\n",
    "\n",
    "plt.figure(figsize=(5.5,4.5))\n",
    "for categoty in QUESTION_CATEGORIES:\n",
    "    y = [results_by_plan_length[plan_length][categoty] for plan_length in plan_lengths]\n",
    "    err = [error_by_plan_length[plan_length][categoty] for plan_length in plan_lengths]\n",
    "    # plt.plot(plan_lengths, data, 'o-', label=categoty)\n",
    "    plt.errorbar(plan_lengths, y, yerr=err, capsize=3, fmt=\"o-\", label=TO_PRETTY[categoty], linewidth=1)#, ecolor = \"grey\")\n",
    "    # plt.errorbar(plan_lengths, y, yerr=err, capsize=3)#, ecolor = \"grey\")\n",
    "    \n",
    "\n",
    "plt.ylim([0.4, 1])\n",
    "plt.xticks(plan_lengths)\n",
    "# plt.title(f'{domain} {model_name} {prompt_type} {ramifications}')\n",
    "# plt.legend(fontsize=10, ncol=3, loc='upper center')#, loc=(1.04, 0))\n",
    "plt.xticks(size=15)\n",
    "plt.xlabel('Action-Sequence Length', size=15)\n",
    "plt.yticks(size=15)\n",
    "plt.ylabel(score_key.capitalize(), size=15)\n",
    "\n",
    "file_name = f'question_category.{domain}.{answer_type}.{score_key}.{model_name}.{prompt_type}.{ramifications}.1-19'\n",
    "save_path = os.path.join(save_dir, f'{file_name}.pdf')\n",
    "plt.savefig(save_path, transparent=True, format=\"pdf\", bbox_inches='tight')\n",
    "# plt.show()\n",
    "print(file_name.replace('.', ', '))"
   ],
   "metadata": {
    "collapsed": false,
    "ExecuteTime": {
     "end_time": "2024-06-05T22:05:24.799504Z",
     "start_time": "2024-06-05T22:05:24.109072Z"
    }
   },
   "id": "b8a4ecbc14436a9d",
   "execution_count": 67
  },
  {
   "cell_type": "code",
   "outputs": [
    {
     "name": "stderr",
     "output_type": "stream",
     "text": [
      "WARNING:matplotlib.legend:No artists with labels found to put in legend.  Note that artists whose label start with an underscore are ignored when legend() is called with no argument.\n"
     ]
    },
    {
     "data": {
      "text/plain": "<matplotlib.legend.Legend at 0x7f937527fdf0>"
     },
     "execution_count": 52,
     "metadata": {},
     "output_type": "execute_result"
    },
    {
     "data": {
      "text/plain": "<Figure size 432x288 with 1 Axes>",
      "image/png": "[encoded data removed]"
     },
     "metadata": {
      "needs_background": "light"
     },
     "output_type": "display_data"
    }
   ],
   "source": [
    "plt.legend()"
   ],
   "metadata": {
    "collapsed": false,
    "ExecuteTime": {
     "end_time": "2024-06-05T21:56:04.190429Z",
     "start_time": "2024-06-05T21:56:04.058228Z"
    }
   },
   "id": "65311afeca3980fd",
   "execution_count": 52
  },
  {
   "cell_type": "code",
   "outputs": [],
   "source": [
    "results_by_plan_length"
   ],
   "metadata": {
    "collapsed": false
   },
   "id": "49856383be40c677",
   "execution_count": null
  },
  {
   "cell_type": "code",
   "outputs": [],
   "source": [
    "# import matplotlib.pyplot as plt\n",
    "# import numpy as np\n",
    "# \n",
    "# theta = np.arange(0, 2 * np.pi, np.pi / 4)\n",
    "# r = theta / np.pi / 2 + 0.5\n",
    "# \n",
    "# fig = plt.figure(figsize=(10, 10))\n",
    "# ax = fig.add_subplot(projection='polar')\n",
    "# ax.errorbar(theta, r, yerr=0.1, fmt=\"o-\", c=\"orangered\")\n",
    "# ax.set_title(\"Large radius error bars\")\n",
    "# plt.show()\n",
    "\n",
    "import plotly.graph_objects as go\n",
    "\n",
    "categories = ['processing cost','mechanical properties','chemical stability',\n",
    "              'thermal stability', 'device integration']\n",
    "\n",
    "fig = go.Figure()\n",
    "\n",
    "fig.add_trace(go.Scatterpolar(\n",
    "      r=[results_by_plan_length[1][question_category] for question_category in QUESTION_CATEGORIES],\n",
    "      theta=QUESTION_CATEGORIES,\n",
    "      # fill='toself',\n",
    "      name='1'\n",
    "))\n",
    "fig.add_trace(go.Scatterpolar(\n",
    "      r=[results_by_plan_length[10][question_category] for question_category in QUESTION_CATEGORIES],\n",
    "      theta=QUESTION_CATEGORIES,\n",
    "      # fill='toself',\n",
    "      name='10'\n",
    "))\n",
    "fig.add_trace(go.Scatterpolar(\n",
    "      r=[results_by_plan_length[19][question_category] for question_category in QUESTION_CATEGORIES],\n",
    "      theta=QUESTION_CATEGORIES,\n",
    "      # fill='toself',\n",
    "      name='19',\n",
    "))\n",
    "\n",
    "fig.update_layout(\n",
    "  polar=dict(\n",
    "    radialaxis=dict(\n",
    "      visible=True,\n",
    "        range=[0, 1],\n",
    "    )),\n",
    "  showlegend=False\n",
    ")\n",
    "\n",
    "fig.show()"
   ],
   "metadata": {
    "collapsed": false
   },
   "id": "b0f7eb5ebf569e9b",
   "execution_count": null
  },
  {
   "cell_type": "markdown",
   "source": [
    "# By Ramifications"
   ],
   "metadata": {
    "collapsed": false
   },
   "id": "ee56ba21cc845f85"
  },
  {
   "cell_type": "code",
   "outputs": [],
   "source": [
    "subs = WITHOUT_RANDOM_SUB\n",
    "question_category = ALL_QUESTION_CATEGORIES_KEY"
   ],
   "metadata": {
    "collapsed": false
   },
   "id": "ff782a685a8a11ea",
   "execution_count": null
  },
  {
   "cell_type": "code",
   "outputs": [],
   "source": [
    "plt.figure()\n",
    "domain = ALL_DOMAINS_KEY\n",
    "\n",
    "results_by_cat = defaultdict(list)\n",
    "error_by_cat = defaultdict(list)\n",
    "for ramifications in RAMIFICATION_TYPES:\n",
    "    for plan_length in plan_lengths:\n",
    "        res_obj = filter_single_selector(stats_all, plan_length, question_category, ramifications, model_name, prompt_type, domain, answer_type, subs)\n",
    "        results_by_cat[ramifications].append(res_obj['result'])\n",
    "        error_by_cat[ramifications].append(res_obj['result_other']['sem'])\n",
    "    \n",
    "for categoty, data in results_by_cat.items():\n",
    "    plt.errorbar(plan_lengths, data, yerr=error_by_cat[categoty], capsize=3, fmt=\"o-\", label=categoty, ecolor = \"black\")\n",
    "\n",
    "# plt.ylim([0.6, 0.7])\n",
    "plt.xticks(plan_lengths)\n",
    "# plt.title(f'{domain} {model_name} {prompt_type} {ramifications}')\n",
    "plt.legend(fontsize=15)\n",
    "plt.xticks(size=15)\n",
    "plt.xlabel('Plan Length', size=15)\n",
    "plt.yticks(size=15)\n",
    "plt.ylabel(score_key, size=15)\n",
    "\n",
    "file_name = f'by_ramifications.{domain}.{answer_type}.{score_key}.{model_name}.{prompt_type}.{ramifications}.1-19'\n",
    "save_path = os.path.join(save_dir, f'{file_name}.pdf')\n",
    "plt.savefig(save_path, transparent=True, format=\"pdf\", bbox_inches='tight')\n",
    "plt.show()\n",
    "\n",
    "print(file_name.replace('.', ', ').replace('_', ' '))"
   ],
   "metadata": {
    "collapsed": false
   },
   "id": "b51708147d8a7d9b",
   "execution_count": null
  },
  {
   "cell_type": "code",
   "outputs": [],
   "source": [
    "results_by_cat"
   ],
   "metadata": {
    "collapsed": false
   },
   "id": "c42f0dfb1fdf81fc",
   "execution_count": null
  },
  {
   "cell_type": "markdown",
   "source": [
    "# By Random Substitution"
   ],
   "metadata": {
    "collapsed": false
   },
   "id": "760a495f731c9434"
  },
  {
   "cell_type": "code",
   "outputs": [],
   "source": [
    "model_name = 'gemini'#'gemma-2b-it'\n",
    "prompt_type = 'few_shot_1'\n",
    "question_category = ALL_QUESTION_CATEGORIES_KEY\n",
    "ramifications = WITHOUT_RAMIFICATIONS"
   ],
   "metadata": {
    "collapsed": false
   },
   "id": "9cadd837e4f6be36",
   "execution_count": null
  },
  {
   "cell_type": "code",
   "outputs": [],
   "source": [
    "for domain in [ALL_DOMAINS_KEY]: #[TRANSPORTATION_DOMAIN_KEY, NON_TRANSPORTATION_DOMAIN_KEY]: #ALL_DOMAINS_KEY DOMAIN_NAMES: \n",
    "    results_by_cat = defaultdict(list)\n",
    "    error_by_cat = defaultdict(list)\n",
    "    for subs in [WITH_RANDOM_SUB, WITHOUT_RANDOM_SUB]:\n",
    "        for plan_length in plan_lengths:\n",
    "            res_obj = filter_single_selector(stats_all, plan_length, question_category, ramifications, model_name, prompt_type, domain, answer_type, subs)\n",
    "            if res_obj:\n",
    "                results_by_cat[subs].append(res_obj['result'])\n",
    "                error_by_cat[subs].append(res_obj['result_other']['sem'])\n",
    "\n",
    "    plt.figure()\n",
    "    # plt.plot(PLAN_LENGTHS, [0.5 for _ in range(len(PLAN_LENGTHS))], linestyle='dashed', color='black')\n",
    "    \n",
    "    for categoty, data in results_by_cat.items():\n",
    "        plt.errorbar(plan_lengths, data, yerr=error_by_cat[categoty], capsize=3, fmt=\"o-\", label=categoty, ecolor = \"black\")\n",
    "    \n",
    "    # plt.ylim([0.6, 0.7])\n",
    "    plt.xticks(plan_lengths)\n",
    "    # plt.title(f'{domain} {model_name} {prompt_type} {ramifications}')\n",
    "    plt.legend(fontsize=15)\n",
    "    plt.xticks(size=15)\n",
    "    plt.xlabel('Plan Length', size=15)\n",
    "    plt.yticks(size=15)\n",
    "    plt.ylabel(score_key, size=15)\n",
    "    \n",
    "    save_name = f'by_random_subs.{domain}.{answer_type}.{score_key}.{model_name}.{prompt_type}.{ramifications}'\n",
    "    save_path = os.path.join(save_dir, f'{save_name}.pdf')\n",
    "    plt.savefig(save_path, transparent=True, format=\"pdf\", bbox_inches='tight')\n",
    "    # plt.show()\n",
    "    print(save_name.replace('.', ', ').replace('_', ' '))\n",
    "    # print('by plan length,', ', '.join(k.replace('_', ' ') for k in save_name.split('.')))"
   ],
   "metadata": {
    "collapsed": false
   },
   "id": "1d09938056c4b69c",
   "execution_count": null
  },
  {
   "cell_type": "code",
   "outputs": [],
   "source": [],
   "metadata": {
    "collapsed": false
   },
   "id": "85cea96d0dc522e2"
  }
 ],
 "metadata": {
  "kernelspec": {
   "display_name": "Python 3",
   "language": "python",
   "name": "python3"
  },
  "language_info": {
   "codemirror_mode": {
    "name": "ipython",
    "version": 2
   },
   "file_extension": ".py",
   "mimetype": "text/x-python",
   "name": "python",
   "nbconvert_exporter": "python",
   "pygments_lexer": "ipython2",
   "version": "2.7.6"
  }
 },
 "nbformat": 4,
 "nbformat_minor": 5
}
