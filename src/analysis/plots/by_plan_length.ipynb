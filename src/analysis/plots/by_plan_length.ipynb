{
 "cells": [
  {
   "cell_type": "code",
   "execution_count": 1,
   "id": "initial_id",
   "metadata": {
    "collapsed": true,
    "ExecuteTime": {
     "end_time": "2024-06-04T00:35:58.661696Z",
     "start_time": "2024-06-04T00:35:53.010510Z"
    }
   },
   "outputs": [],
   "source": [
    "import sys\n",
    "import json\n",
    "sys.path.append('..')\n",
    "from src.analysis.model_performances import *\n",
    "from src.common import *\n",
    "\n",
    "from copy import deepcopy\n",
    "import pandas as pd\n",
    "import matplotlib.pyplot as plt\n",
    "from collections import defaultdict\n",
    "from helpers import *"
   ]
  },
  {
   "cell_type": "code",
   "outputs": [
    {
     "name": "stderr",
     "output_type": "stream",
     "text": [
      "100%|██████████| 48384/48384 [00:01<00:00, 25127.93it/s]\n"
     ]
    },
    {
     "name": "stdout",
     "output_type": "stream",
     "text": [
      "5271\n"
     ]
    },
    {
     "ename": "NameError",
     "evalue": "name 'save_main_dir' is not defined",
     "output_type": "error",
     "traceback": [
      "\u001B[0;31m---------------------------------------------------------------------------\u001B[0m",
      "\u001B[0;31mNameError\u001B[0m                                 Traceback (most recent call last)",
      "Input \u001B[0;32mIn [2]\u001B[0m, in \u001B[0;36m<cell line: 8>\u001B[0;34m()\u001B[0m\n\u001B[1;32m      5\u001B[0m stats_all \u001B[38;5;241m=\u001B[39m collect_stats_all(tf_answer_type(score_key \u001B[38;5;241m=\u001B[39m score_key), save_main_dir\u001B[38;5;241m=\u001B[39mSAVE_MAIN_DIR)\n\u001B[1;32m      6\u001B[0m \u001B[38;5;28mprint\u001B[39m(\u001B[38;5;28mlen\u001B[39m(stats_all))\n\u001B[0;32m----> 8\u001B[0m save_dir \u001B[38;5;241m=\u001B[39m os\u001B[38;5;241m.\u001B[39mpath\u001B[38;5;241m.\u001B[39mjoin(\u001B[43msave_main_dir\u001B[49m, \u001B[38;5;124m'\u001B[39m\u001B[38;5;124mplots\u001B[39m\u001B[38;5;124m'\u001B[39m, \u001B[38;5;124m'\u001B[39m\u001B[38;5;124mby_length\u001B[39m\u001B[38;5;124m'\u001B[39m)\n\u001B[1;32m      9\u001B[0m os\u001B[38;5;241m.\u001B[39mmakedirs(save_dir, exist_ok\u001B[38;5;241m=\u001B[39m\u001B[38;5;28;01mTrue\u001B[39;00m)\n",
      "\u001B[0;31mNameError\u001B[0m: name 'save_main_dir' is not defined"
     ]
    }
   ],
   "source": [
    "answer_type = TRUE_FALSE_ANSWER_TYPE #FREE_ANSWER#\n",
    "score_key = ACCURACY_SCORE_KEY #F1_SCORE_KEY#'accuracy'\n",
    "answer_type_ext = tf_answer_type(score_key = score_key)\n",
    "\n",
    "stats_all = collect_stats_all(tf_answer_type(score_key = score_key), save_main_dir=SAVE_MAIN_DIR)\n",
    "print(len(stats_all))\n",
    "\n",
    "save_dir = os.path.join(save_main_dir, 'plots', 'by_length')\n",
    "os.makedirs(save_dir, exist_ok=True)"
   ],
   "metadata": {
    "collapsed": false,
    "ExecuteTime": {
     "end_time": "2024-06-04T00:36:03.168554Z",
     "start_time": "2024-06-04T00:36:00.678738Z"
    }
   },
   "id": "1f840df92d9a0eff",
   "execution_count": 2
  },
  {
   "cell_type": "code",
   "outputs": [],
   "source": [
    "model_name = 'gpt-4o' #'gemini'#'gemma-2b-it'\n",
    "prompt_type = 'few_shot_1'\n",
    "subs = WITHOUT_RANDOM_SUB\n",
    "ramifications = WITHOUT_RAMIFICATIONS\n",
    "question_category = ALL_QUESTION_CATEGORIES_KEY\n",
    "plan_lengths = [1, 10, 19]"
   ],
   "metadata": {
    "collapsed": false,
    "ExecuteTime": {
     "end_time": "2024-06-04T00:36:04.351128Z",
     "start_time": "2024-06-04T00:36:04.347888Z"
    }
   },
   "id": "1f65f29e74987cb0",
   "execution_count": 3
  },
  {
   "cell_type": "markdown",
   "source": [
    "# By Domain"
   ],
   "metadata": {
    "collapsed": false
   },
   "id": "45aed1c3ef68eff"
  },
  {
   "cell_type": "code",
   "outputs": [
    {
     "name": "stdout",
     "output_type": "stream",
     "text": [
      "by domain type, gpt-4o, few shot 1, without random sub, without ramifications, without random sub, 1-19\n"
     ]
    },
    {
     "data": {
      "text/plain": "<Figure size 432x288 with 1 Axes>",
      "image/png": "[encoded data removed]"
     },
     "metadata": {
      "needs_background": "light"
     },
     "output_type": "display_data"
    }
   ],
   "source": [
    "x = plan_lengths\n",
    "plt.figure()\n",
    "    \n",
    "for domain_type in [TRANSPORTATION_DOMAIN_KEY, NON_TRANSPORTATION_DOMAIN_KEY]:\n",
    "    y_by_domain = {}\n",
    "    y = []\n",
    "    y_error = []\n",
    "    for plan_length in plan_lengths:\n",
    "        out_obj = filter_single_selector(stats_all, plan_length, question_category, ramifications, model_name, prompt_type, domain_type, answer_type, subs)\n",
    "        y.append(out_obj['result'])\n",
    "        if out_obj['result']:\n",
    "            error = out_obj['result_other']['sem']\n",
    "        else:\n",
    "            error = 0\n",
    "        y_error.append(error)\n",
    "    y_by_domain[domain_type] = y\n",
    "    # plt.plot(x, y, 'o-', label=domain)\n",
    "    plt.errorbar(plan_lengths, y, yerr=y_error, capsize=3, fmt=\"o-\", label=domain_type, ecolor = \"black\")\n",
    "\n",
    "    \n",
    "# plt.ylim([0.59, 0.76])\n",
    "plt.xticks(plan_lengths)\n",
    "# plt.title(f'{model_name} {prompt_type} {subs} {ramifications}')\n",
    "plt.legend(fontsize=15)#, bbox_to_anchor=(1, 1))\n",
    "plt.xticks(size=15)\n",
    "plt.xlabel('Plan Length', size=15)\n",
    "plt.yticks(size=15)\n",
    "plt.ylabel('Accuracy [%]', size=15)\n",
    "os.makedirs(save_dir, exist_ok=True)\n",
    "\n",
    "file_name = f'by_domain_type.{model_name}.{prompt_type}.{subs}.{ramifications}.{subs}.1-19'\n",
    "save_path = os.path.join(save_dir, f'{file_name}.pdf')\n",
    "plt.savefig(save_path, transparent=True, format=\"pdf\", bbox_inches='tight')\n",
    "# plt.show()\n",
    "print(file_name.replace('.', ', ').replace('_', ' '))"
   ],
   "metadata": {
    "collapsed": false,
    "ExecuteTime": {
     "end_time": "2024-05-28T23:58:16.350955Z",
     "start_time": "2024-05-28T23:58:16.014820Z"
    }
   },
   "id": "a849efba903adacf",
   "execution_count": 13
  },
  {
   "cell_type": "code",
   "outputs": [],
   "source": [
    "# x = PLAN_LENGTHS\n",
    "# \n",
    "# for domain_type, domain_ls in [(TRANSPORTATION_DOMAIN_KEY, TRANSPORTATION_DOMAINS), (NON_TRANSPORTATION_DOMAIN_KEY, NON_TRANSPORTATION_DOMAINS)]:\n",
    "#     plt.figure()\n",
    "#     y_by_domain = {}\n",
    "#     for domain in domain_ls:\n",
    "#         y = []\n",
    "#         y_error = []\n",
    "#         for plan_length in plan_lengths:\n",
    "#             out_obj = filter_single_selector(stats_all, plan_length, question_category, ramifications, model_name, prompt_type, domain, answer_type, subs)\n",
    "#             y.append(out_obj['result'])\n",
    "#             if out_obj['result']:\n",
    "#                 error = out_obj['result_other']['sem']\n",
    "#             else:\n",
    "#                 error = 0\n",
    "#             y_error.append(error)\n",
    "#         y_by_domain[domain] = y\n",
    "#         # plt.plot(x, y, 'o-', label=domain)\n",
    "#         plt.errorbar(plan_lengths, y, yerr=y_error, capsize=3, fmt=\"o-\", label=domain, ecolor = \"black\")\n",
    "# \n",
    "#     \n",
    "#     # plt.ylim([0.59, 0.76])\n",
    "#     plt.xticks(PLAN_LENGTHS)\n",
    "#     # plt.title(f'{model_name} {prompt_type} {subs} {ramifications}')\n",
    "#     plt.legend(fontsize=15, bbox_to_anchor=(1, 1))\n",
    "#     plt.xticks(size=15)\n",
    "#     plt.xlabel('Plan Length', size=15)\n",
    "#     plt.yticks(size=15)\n",
    "#     plt.ylabel(score_key, size=15)\n",
    "#     os.makedirs(save_dir, exist_ok=True)\n",
    "#     save_path = os.path.join(save_dir, f'{domain_type}.{answer_type}.{score_key}.{model_name}.{prompt_type}.{subs}.{ramifications}.1-19.pdf')\n",
    "#     plt.savefig(save_path, transparent=True, format=\"pdf\", bbox_inches='tight')\n",
    "#     plt.show()"
   ],
   "metadata": {
    "collapsed": false,
    "ExecuteTime": {
     "end_time": "2024-05-28T23:58:17.550822Z",
     "start_time": "2024-05-28T23:58:17.547010Z"
    }
   },
   "id": "f0df0827df59abe8",
   "execution_count": 14
  },
  {
   "cell_type": "markdown",
   "source": [
    "# By Question Category"
   ],
   "metadata": {
    "collapsed": false
   },
   "id": "c350ed88abf43376"
  },
  {
   "cell_type": "code",
   "outputs": [
    {
     "ename": "NameError",
     "evalue": "name 'save_dir' is not defined",
     "output_type": "error",
     "traceback": [
      "\u001B[0;31m---------------------------------------------------------------------------\u001B[0m",
      "\u001B[0;31mNameError\u001B[0m                                 Traceback (most recent call last)",
      "Input \u001B[0;32mIn [21]\u001B[0m, in \u001B[0;36m<cell line: 37>\u001B[0;34m()\u001B[0m\n\u001B[1;32m     34\u001B[0m plt\u001B[38;5;241m.\u001B[39mylabel(score_key, size\u001B[38;5;241m=\u001B[39m\u001B[38;5;241m15\u001B[39m)\n\u001B[1;32m     36\u001B[0m file_name \u001B[38;5;241m=\u001B[39m \u001B[38;5;124mf\u001B[39m\u001B[38;5;124m'\u001B[39m\u001B[38;5;124mquestion_category.\u001B[39m\u001B[38;5;132;01m{\u001B[39;00mdomain\u001B[38;5;132;01m}\u001B[39;00m\u001B[38;5;124m.\u001B[39m\u001B[38;5;132;01m{\u001B[39;00manswer_type\u001B[38;5;132;01m}\u001B[39;00m\u001B[38;5;124m.\u001B[39m\u001B[38;5;132;01m{\u001B[39;00mscore_key\u001B[38;5;132;01m}\u001B[39;00m\u001B[38;5;124m.\u001B[39m\u001B[38;5;132;01m{\u001B[39;00mmodel_name\u001B[38;5;132;01m}\u001B[39;00m\u001B[38;5;124m.\u001B[39m\u001B[38;5;132;01m{\u001B[39;00mprompt_type\u001B[38;5;132;01m}\u001B[39;00m\u001B[38;5;124m.\u001B[39m\u001B[38;5;132;01m{\u001B[39;00mramifications\u001B[38;5;132;01m}\u001B[39;00m\u001B[38;5;124m.1-19\u001B[39m\u001B[38;5;124m'\u001B[39m\n\u001B[0;32m---> 37\u001B[0m save_path \u001B[38;5;241m=\u001B[39m os\u001B[38;5;241m.\u001B[39mpath\u001B[38;5;241m.\u001B[39mjoin(\u001B[43msave_dir\u001B[49m, \u001B[38;5;124mf\u001B[39m\u001B[38;5;124m'\u001B[39m\u001B[38;5;132;01m{\u001B[39;00mfile_name\u001B[38;5;132;01m}\u001B[39;00m\u001B[38;5;124m.pdf\u001B[39m\u001B[38;5;124m'\u001B[39m)\n\u001B[1;32m     38\u001B[0m plt\u001B[38;5;241m.\u001B[39msavefig(save_path, transparent\u001B[38;5;241m=\u001B[39m\u001B[38;5;28;01mTrue\u001B[39;00m, \u001B[38;5;28mformat\u001B[39m\u001B[38;5;241m=\u001B[39m\u001B[38;5;124m\"\u001B[39m\u001B[38;5;124mpdf\u001B[39m\u001B[38;5;124m\"\u001B[39m, bbox_inches\u001B[38;5;241m=\u001B[39m\u001B[38;5;124m'\u001B[39m\u001B[38;5;124mtight\u001B[39m\u001B[38;5;124m'\u001B[39m)\n\u001B[1;32m     39\u001B[0m plt\u001B[38;5;241m.\u001B[39mshow()\n",
      "\u001B[0;31mNameError\u001B[0m: name 'save_dir' is not defined"
     ]
    },
    {
     "data": {
      "text/plain": "<Figure size 432x360 with 1 Axes>",
      "image/png": "[encoded data removed]"
     },
     "metadata": {
      "needs_background": "light"
     },
     "output_type": "display_data"
    }
   ],
   "source": [
    "ramifications = WITHOUT_RAMIFICATIONS\n",
    "domain = ALL_DOMAINS_KEY\n",
    "\n",
    "results_by_plan_length = {}\n",
    "error_by_plan_length = {}\n",
    "for plan_length in plan_lengths:\n",
    "    results_by_cat = defaultdict(list)\n",
    "    error_by_cat = defaultdict(list)\n",
    "    for question_category in QUESTION_CATEGORIES:#[:-2]:\n",
    "            res_obj = filter_single_selector(stats_all, plan_length, question_category, ramifications, model_name, prompt_type, domain, answer_type, subs)\n",
    "            results_by_cat[question_category] = res_obj['result']\n",
    "            error_by_cat[question_category] = res_obj['result_other']['sem']\n",
    "    results_by_plan_length[plan_length] = results_by_cat\n",
    "    error_by_plan_length[plan_length] = error_by_cat\n",
    "\n",
    "    # plt.plot(plan_lengths, [0.5 for _ in range(len(plan_lengths))], linestyle='dashed', color='black')\n",
    "\n",
    "\n",
    "plt.figure(figsize=(6,5))\n",
    "for categoty in QUESTION_CATEGORIES:\n",
    "    y = [results_by_plan_length[plan_length][categoty] for plan_length in plan_lengths]\n",
    "    err = [error_by_plan_length[plan_length][categoty] for plan_length in plan_lengths]\n",
    "    # plt.plot(plan_lengths, data, 'o-', label=categoty)\n",
    "    plt.errorbar(plan_lengths, y, yerr=err, capsize=3, fmt=\"o-\", label=categoty, ecolor = \"grey\")\n",
    "\n",
    "\n",
    "plt.ylim([0.4, 1])\n",
    "plt.xticks(plan_lengths)\n",
    "# plt.title(f'{domain} {model_name} {prompt_type} {ramifications}')\n",
    "plt.legend(fontsize=10)#, loc=(1.04, 0))\n",
    "plt.xticks(size=15)\n",
    "plt.xlabel('Plan Length', size=15)\n",
    "plt.yticks(size=15)\n",
    "plt.ylabel(score_key, size=15)\n",
    "\n",
    "file_name = f'question_category.{domain}.{answer_type}.{score_key}.{model_name}.{prompt_type}.{ramifications}.1-19'\n",
    "save_path = os.path.join(save_dir, f'{file_name}.pdf')\n",
    "plt.savefig(save_path, transparent=True, format=\"pdf\", bbox_inches='tight')\n",
    "plt.show()\n",
    "print(file_name.replace('.', ', '))"
   ],
   "metadata": {
    "collapsed": false,
    "ExecuteTime": {
     "end_time": "2024-06-04T00:54:42.076672Z",
     "start_time": "2024-06-04T00:54:41.777109Z"
    }
   },
   "id": "b8a4ecbc14436a9d",
   "execution_count": 21
  },
  {
   "cell_type": "code",
   "outputs": [
    {
     "data": {
      "text/plain": "{1: (defaultdict(list,\n              {'object_tracking': 0.7961904761904762,\n               'fluent_tracking': 0.8339483394833949,\n               'state_tracking': 0.7090909090909091,\n               'action_executability': 0.7974683544303798,\n               'effects': 0.5974842767295597,\n               'numerical_reasoning': 0.5512820512820513,\n               'hallucination': 0.9367088607594937,\n               'composite': 0.7671232876712328}),\n  defaultdict(list,\n              {'object_tracking': 0.017580898823875597,\n               'fluent_tracking': 0.015984223457845493,\n               'state_tracking': 0.06124184424150432,\n               'action_executability': 0.04521573856614587,\n               'effects': 0.027500532630091463,\n               'numerical_reasoning': 0.05631529272835961,\n               'hallucination': 0.02739430111069836,\n               'composite': 0.04946911990761922})),\n 10: (defaultdict(list,\n              {'object_tracking': 0.7726432532347505,\n               'fluent_tracking': 0.8178438661710037,\n               'state_tracking': 0.5740740740740741,\n               'action_executability': 0.5512820512820513,\n               'effects': 0.569620253164557,\n               'numerical_reasoning': 0.5769230769230769,\n               'hallucination': 0.8333333333333334,\n               'composite': 0.7012987012987013}),\n  defaultdict(list,\n              {'object_tracking': 0.01801958558946942,\n               'fluent_tracking': 0.016640484333182114,\n               'state_tracking': 0.06729055730768654,\n               'action_executability': 0.05631529272835961,\n               'effects': 0.027853199049802536,\n               'numerical_reasoning': 0.05593985325795573,\n               'hallucination': 0.04219747362848612,\n               'composite': 0.05215845399164102})),\n 19: (defaultdict(list,\n              {'object_tracking': 0.7428571428571429,\n               'fluent_tracking': 0.736328125,\n               'state_tracking': 0.5909090909090909,\n               'action_executability': 0.5512820512820513,\n               'effects': 0.5396825396825397,\n               'numerical_reasoning': 0.5128205128205128,\n               'hallucination': 0.8860759493670886,\n               'composite': 0.6282051282051282}),\n  defaultdict(list,\n              {'object_tracking': 0.019074810523343547,\n               'fluent_tracking': 0.01947298897140442,\n               'state_tracking': 0.07412145088699215,\n               'action_executability': 0.05631529272835962,\n               'effects': 0.02808294381780704,\n               'numerical_reasoning': 0.056595237913628776,\n               'hallucination': 0.03574617998893422,\n               'composite': 0.05472113981207022}))}"
     },
     "execution_count": 20,
     "metadata": {},
     "output_type": "execute_result"
    }
   ],
   "source": [
    "results_by_plan_length"
   ],
   "metadata": {
    "collapsed": false,
    "ExecuteTime": {
     "end_time": "2024-06-04T00:53:49.664385Z",
     "start_time": "2024-06-04T00:53:49.655424Z"
    }
   },
   "id": "49856383be40c677",
   "execution_count": 20
  },
  {
   "cell_type": "code",
   "outputs": [
    {
     "data": {
      "application/vnd.plotly.v1+json": {
       "data": [
        {
         "fill": "toself",
         "name": "1",
         "r": [
          0.7961904761904762,
          0.8339483394833949,
          0.7090909090909091,
          0.7974683544303798,
          0.5974842767295597,
          0.5512820512820513,
          0.9367088607594937,
          0.7671232876712328
         ],
         "theta": [
          "object_tracking",
          "fluent_tracking",
          "state_tracking",
          "action_executability",
          "effects",
          "numerical_reasoning",
          "hallucination",
          "composite"
         ],
         "type": "scatterpolar"
        },
        {
         "fill": "toself",
         "name": "10",
         "r": [
          0.7726432532347505,
          0.8178438661710037,
          0.5740740740740741,
          0.5512820512820513,
          0.569620253164557,
          0.5769230769230769,
          0.8333333333333334,
          0.7012987012987013
         ],
         "theta": [
          "object_tracking",
          "fluent_tracking",
          "state_tracking",
          "action_executability",
          "effects",
          "numerical_reasoning",
          "hallucination",
          "composite"
         ],
         "type": "scatterpolar"
        },
        {
         "fill": "toself",
         "name": "19",
         "r": [
          0.7428571428571429,
          0.736328125,
          0.5909090909090909,
          0.5512820512820513,
          0.5396825396825397,
          0.5128205128205128,
          0.8860759493670886,
          0.6282051282051282
         ],
         "theta": [
          "object_tracking",
          "fluent_tracking",
          "state_tracking",
          "action_executability",
          "effects",
          "numerical_reasoning",
          "hallucination",
          "composite"
         ],
         "type": "scatterpolar"
        }
       ],
       "layout": {
        "template": {
         "data": {
          "bar": [
           {
            "error_x": {
             "color": "#2a3f5f"
            },
            "error_y": {
             "color": "#2a3f5f"
            },
            "marker": {
             "line": {
              "color": "#E5ECF6",
              "width": 0.5
             },
             "pattern": {
              "fillmode": "overlay",
              "size": 10,
              "solidity": 0.2
             }
            },
            "type": "bar"
           }
          ],
          "barpolar": [
           {
            "marker": {
             "line": {
              "color": "#E5ECF6",
              "width": 0.5
             },
             "pattern": {
              "fillmode": "overlay",
              "size": 10,
              "solidity": 0.2
             }
            },
            "type": "barpolar"
           }
          ],
          "carpet": [
           {
            "aaxis": {
             "endlinecolor": "#2a3f5f",
             "gridcolor": "white",
             "linecolor": "white",
             "minorgridcolor": "white",
             "startlinecolor": "#2a3f5f"
            },
            "baxis": {
             "endlinecolor": "#2a3f5f",
             "gridcolor": "white",
             "linecolor": "white",
             "minorgridcolor": "white",
             "startlinecolor": "#2a3f5f"
            },
            "type": "carpet"
           }
          ],
          "choropleth": [
           {
            "colorbar": {
             "outlinewidth": 0,
             "ticks": ""
            },
            "type": "choropleth"
           }
          ],
          "contour": [
           {
            "colorbar": {
             "outlinewidth": 0,
             "ticks": ""
            },
            "colorscale": [
             [
              0.0,
              "#0d0887"
             ],
             [
              0.1111111111111111,
              "#46039f"
             ],
             [
              0.2222222222222222,
              "#7201a8"
             ],
             [
              0.3333333333333333,
              "#9c179e"
             ],
             [
              0.4444444444444444,
              "#bd3786"
             ],
             [
              0.5555555555555556,
              "#d8576b"
             ],
             [
              0.6666666666666666,
              "#ed7953"
             ],
             [
              0.7777777777777778,
              "#fb9f3a"
             ],
             [
              0.8888888888888888,
              "#fdca26"
             ],
             [
              1.0,
              "#f0f921"
             ]
            ],
            "type": "contour"
           }
          ],
          "contourcarpet": [
           {
            "colorbar": {
             "outlinewidth": 0,
             "ticks": ""
            },
            "type": "contourcarpet"
           }
          ],
          "heatmap": [
           {
            "colorbar": {
             "outlinewidth": 0,
             "ticks": ""
            },
            "colorscale": [
             [
              0.0,
              "#0d0887"
             ],
             [
              0.1111111111111111,
              "#46039f"
             ],
             [
              0.2222222222222222,
              "#7201a8"
             ],
             [
              0.3333333333333333,
              "#9c179e"
             ],
             [
              0.4444444444444444,
              "#bd3786"
             ],
             [
              0.5555555555555556,
              "#d8576b"
             ],
             [
              0.6666666666666666,
              "#ed7953"
             ],
             [
              0.7777777777777778,
              "#fb9f3a"
             ],
             [
              0.8888888888888888,
              "#fdca26"
             ],
             [
              1.0,
              "#f0f921"
             ]
            ],
            "type": "heatmap"
           }
          ],
          "heatmapgl": [
           {
            "colorbar": {
             "outlinewidth": 0,
             "ticks": ""
            },
            "colorscale": [
             [
              0.0,
              "#0d0887"
             ],
             [
              0.1111111111111111,
              "#46039f"
             ],
             [
              0.2222222222222222,
              "#7201a8"
             ],
             [
              0.3333333333333333,
              "#9c179e"
             ],
             [
              0.4444444444444444,
              "#bd3786"
             ],
             [
              0.5555555555555556,
              "#d8576b"
             ],
             [
              0.6666666666666666,
              "#ed7953"
             ],
             [
              0.7777777777777778,
              "#fb9f3a"
             ],
             [
              0.8888888888888888,
              "#fdca26"
             ],
             [
              1.0,
              "#f0f921"
             ]
            ],
            "type": "heatmapgl"
           }
          ],
          "histogram": [
           {
            "marker": {
             "pattern": {
              "fillmode": "overlay",
              "size": 10,
              "solidity": 0.2
             }
            },
            "type": "histogram"
           }
          ],
          "histogram2d": [
           {
            "colorbar": {
             "outlinewidth": 0,
             "ticks": ""
            },
            "colorscale": [
             [
              0.0,
              "#0d0887"
             ],
             [
              0.1111111111111111,
              "#46039f"
             ],
             [
              0.2222222222222222,
              "#7201a8"
             ],
             [
              0.3333333333333333,
              "#9c179e"
             ],
             [
              0.4444444444444444,
              "#bd3786"
             ],
             [
              0.5555555555555556,
              "#d8576b"
             ],
             [
              0.6666666666666666,
              "#ed7953"
             ],
             [
              0.7777777777777778,
              "#fb9f3a"
             ],
             [
              0.8888888888888888,
              "#fdca26"
             ],
             [
              1.0,
              "#f0f921"
             ]
            ],
            "type": "histogram2d"
           }
          ],
          "histogram2dcontour": [
           {
            "colorbar": {
             "outlinewidth": 0,
             "ticks": ""
            },
            "colorscale": [
             [
              0.0,
              "#0d0887"
             ],
             [
              0.1111111111111111,
              "#46039f"
             ],
             [
              0.2222222222222222,
              "#7201a8"
             ],
             [
              0.3333333333333333,
              "#9c179e"
             ],
             [
              0.4444444444444444,
              "#bd3786"
             ],
             [
              0.5555555555555556,
              "#d8576b"
             ],
             [
              0.6666666666666666,
              "#ed7953"
             ],
             [
              0.7777777777777778,
              "#fb9f3a"
             ],
             [
              0.8888888888888888,
              "#fdca26"
             ],
             [
              1.0,
              "#f0f921"
             ]
            ],
            "type": "histogram2dcontour"
           }
          ],
          "mesh3d": [
           {
            "colorbar": {
             "outlinewidth": 0,
             "ticks": ""
            },
            "type": "mesh3d"
           }
          ],
          "parcoords": [
           {
            "line": {
             "colorbar": {
              "outlinewidth": 0,
              "ticks": ""
             }
            },
            "type": "parcoords"
           }
          ],
          "pie": [
           {
            "automargin": true,
            "type": "pie"
           }
          ],
          "scatter": [
           {
            "marker": {
             "colorbar": {
              "outlinewidth": 0,
              "ticks": ""
             }
            },
            "type": "scatter"
           }
          ],
          "scatter3d": [
           {
            "line": {
             "colorbar": {
              "outlinewidth": 0,
              "ticks": ""
             }
            },
            "marker": {
             "colorbar": {
              "outlinewidth": 0,
              "ticks": ""
             }
            },
            "type": "scatter3d"
           }
          ],
          "scattercarpet": [
           {
            "marker": {
             "colorbar": {
              "outlinewidth": 0,
              "ticks": ""
             }
            },
            "type": "scattercarpet"
           }
          ],
          "scattergeo": [
           {
            "marker": {
             "colorbar": {
              "outlinewidth": 0,
              "ticks": ""
             }
            },
            "type": "scattergeo"
           }
          ],
          "scattergl": [
           {
            "marker": {
             "colorbar": {
              "outlinewidth": 0,
              "ticks": ""
             }
            },
            "type": "scattergl"
           }
          ],
          "scattermapbox": [
           {
            "marker": {
             "colorbar": {
              "outlinewidth": 0,
              "ticks": ""
             }
            },
            "type": "scattermapbox"
           }
          ],
          "scatterpolar": [
           {
            "marker": {
             "colorbar": {
              "outlinewidth": 0,
              "ticks": ""
             }
            },
            "type": "scatterpolar"
           }
          ],
          "scatterpolargl": [
           {
            "marker": {
             "colorbar": {
              "outlinewidth": 0,
              "ticks": ""
             }
            },
            "type": "scatterpolargl"
           }
          ],
          "scatterternary": [
           {
            "marker": {
             "colorbar": {
              "outlinewidth": 0,
              "ticks": ""
             }
            },
            "type": "scatterternary"
           }
          ],
          "surface": [
           {
            "colorbar": {
             "outlinewidth": 0,
             "ticks": ""
            },
            "colorscale": [
             [
              0.0,
              "#0d0887"
             ],
             [
              0.1111111111111111,
              "#46039f"
             ],
             [
              0.2222222222222222,
              "#7201a8"
             ],
             [
              0.3333333333333333,
              "#9c179e"
             ],
             [
              0.4444444444444444,
              "#bd3786"
             ],
             [
              0.5555555555555556,
              "#d8576b"
             ],
             [
              0.6666666666666666,
              "#ed7953"
             ],
             [
              0.7777777777777778,
              "#fb9f3a"
             ],
             [
              0.8888888888888888,
              "#fdca26"
             ],
             [
              1.0,
              "#f0f921"
             ]
            ],
            "type": "surface"
           }
          ],
          "table": [
           {
            "cells": {
             "fill": {
              "color": "#EBF0F8"
             },
             "line": {
              "color": "white"
             }
            },
            "header": {
             "fill": {
              "color": "#C8D4E3"
             },
             "line": {
              "color": "white"
             }
            },
            "type": "table"
           }
          ]
         },
         "layout": {
          "annotationdefaults": {
           "arrowcolor": "#2a3f5f",
           "arrowhead": 0,
           "arrowwidth": 1
          },
          "autotypenumbers": "strict",
          "coloraxis": {
           "colorbar": {
            "outlinewidth": 0,
            "ticks": ""
           }
          },
          "colorscale": {
           "diverging": [
            [
             0,
             "#8e0152"
            ],
            [
             0.1,
             "#c51b7d"
            ],
            [
             0.2,
             "#de77ae"
            ],
            [
             0.3,
             "#f1b6da"
            ],
            [
             0.4,
             "#fde0ef"
            ],
            [
             0.5,
             "#f7f7f7"
            ],
            [
             0.6,
             "#e6f5d0"
            ],
            [
             0.7,
             "#b8e186"
            ],
            [
             0.8,
             "#7fbc41"
            ],
            [
             0.9,
             "#4d9221"
            ],
            [
             1,
             "#276419"
            ]
           ],
           "sequential": [
            [
             0.0,
             "#0d0887"
            ],
            [
             0.1111111111111111,
             "#46039f"
            ],
            [
             0.2222222222222222,
             "#7201a8"
            ],
            [
             0.3333333333333333,
             "#9c179e"
            ],
            [
             0.4444444444444444,
             "#bd3786"
            ],
            [
             0.5555555555555556,
             "#d8576b"
            ],
            [
             0.6666666666666666,
             "#ed7953"
            ],
            [
             0.7777777777777778,
             "#fb9f3a"
            ],
            [
             0.8888888888888888,
             "#fdca26"
            ],
            [
             1.0,
             "#f0f921"
            ]
           ],
           "sequentialminus": [
            [
             0.0,
             "#0d0887"
            ],
            [
             0.1111111111111111,
             "#46039f"
            ],
            [
             0.2222222222222222,
             "#7201a8"
            ],
            [
             0.3333333333333333,
             "#9c179e"
            ],
            [
             0.4444444444444444,
             "#bd3786"
            ],
            [
             0.5555555555555556,
             "#d8576b"
            ],
            [
             0.6666666666666666,
             "#ed7953"
            ],
            [
             0.7777777777777778,
             "#fb9f3a"
            ],
            [
             0.8888888888888888,
             "#fdca26"
            ],
            [
             1.0,
             "#f0f921"
            ]
           ]
          },
          "colorway": [
           "#636efa",
           "#EF553B",
           "#00cc96",
           "#ab63fa",
           "#FFA15A",
           "#19d3f3",
           "#FF6692",
           "#B6E880",
           "#FF97FF",
           "#FECB52"
          ],
          "font": {
           "color": "#2a3f5f"
          },
          "geo": {
           "bgcolor": "white",
           "lakecolor": "white",
           "landcolor": "#E5ECF6",
           "showlakes": true,
           "showland": true,
           "subunitcolor": "white"
          },
          "hoverlabel": {
           "align": "left"
          },
          "hovermode": "closest",
          "mapbox": {
           "style": "light"
          },
          "paper_bgcolor": "white",
          "plot_bgcolor": "#E5ECF6",
          "polar": {
           "angularaxis": {
            "gridcolor": "white",
            "linecolor": "white",
            "ticks": ""
           },
           "bgcolor": "#E5ECF6",
           "radialaxis": {
            "gridcolor": "white",
            "linecolor": "white",
            "ticks": ""
           }
          },
          "scene": {
           "xaxis": {
            "backgroundcolor": "#E5ECF6",
            "gridcolor": "white",
            "gridwidth": 2,
            "linecolor": "white",
            "showbackground": true,
            "ticks": "",
            "zerolinecolor": "white"
           },
           "yaxis": {
            "backgroundcolor": "#E5ECF6",
            "gridcolor": "white",
            "gridwidth": 2,
            "linecolor": "white",
            "showbackground": true,
            "ticks": "",
            "zerolinecolor": "white"
           },
           "zaxis": {
            "backgroundcolor": "#E5ECF6",
            "gridcolor": "white",
            "gridwidth": 2,
            "linecolor": "white",
            "showbackground": true,
            "ticks": "",
            "zerolinecolor": "white"
           }
          },
          "shapedefaults": {
           "line": {
            "color": "#2a3f5f"
           }
          },
          "ternary": {
           "aaxis": {
            "gridcolor": "white",
            "linecolor": "white",
            "ticks": ""
           },
           "baxis": {
            "gridcolor": "white",
            "linecolor": "white",
            "ticks": ""
           },
           "bgcolor": "#E5ECF6",
           "caxis": {
            "gridcolor": "white",
            "linecolor": "white",
            "ticks": ""
           }
          },
          "title": {
           "x": 0.05
          },
          "xaxis": {
           "automargin": true,
           "gridcolor": "white",
           "linecolor": "white",
           "ticks": "",
           "title": {
            "standoff": 15
           },
           "zerolinecolor": "white",
           "zerolinewidth": 2
          },
          "yaxis": {
           "automargin": true,
           "gridcolor": "white",
           "linecolor": "white",
           "ticks": "",
           "title": {
            "standoff": 15
           },
           "zerolinecolor": "white",
           "zerolinewidth": 2
          }
         }
        },
        "polar": {
         "radialaxis": {
          "visible": true,
          "range": [
           0,
           1
          ]
         }
        },
        "showlegend": false
       },
       "config": {
        "plotlyServerURL": "https://plot.ly"
       }
      },
      "text/html": "<div>                            <div id=\"d8f177eb-8708-4c9b-87a7-52583c609d3b\" class=\"plotly-graph-div\" style=\"height:525px; width:100%;\"></div>            <script type=\"text/javascript\">                require([\"plotly\"], function(Plotly) {                    window.PLOTLYENV=window.PLOTLYENV || {};                                    if (document.getElementById(\"d8f177eb-8708-4c9b-87a7-52583c609d3b\")) {                    Plotly.newPlot(                        \"d8f177eb-8708-4c9b-87a7-52583c609d3b\",                        [{\"fill\":\"toself\",\"name\":\"1\",\"r\":[0.7961904761904762,0.8339483394833949,0.7090909090909091,0.7974683544303798,0.5974842767295597,0.5512820512820513,0.9367088607594937,0.7671232876712328],\"theta\":[\"object_tracking\",\"fluent_tracking\",\"state_tracking\",\"action_executability\",\"effects\",\"numerical_reasoning\",\"hallucination\",\"composite\"],\"type\":\"scatterpolar\"},{\"fill\":\"toself\",\"name\":\"10\",\"r\":[0.7726432532347505,0.8178438661710037,0.5740740740740741,0.5512820512820513,0.569620253164557,0.5769230769230769,0.8333333333333334,0.7012987012987013],\"theta\":[\"object_tracking\",\"fluent_tracking\",\"state_tracking\",\"action_executability\",\"effects\",\"numerical_reasoning\",\"hallucination\",\"composite\"],\"type\":\"scatterpolar\"},{\"fill\":\"toself\",\"name\":\"19\",\"r\":[0.7428571428571429,0.736328125,0.5909090909090909,0.5512820512820513,0.5396825396825397,0.5128205128205128,0.8860759493670886,0.6282051282051282],\"theta\":[\"object_tracking\",\"fluent_tracking\",\"state_tracking\",\"action_executability\",\"effects\",\"numerical_reasoning\",\"hallucination\",\"composite\"],\"type\":\"scatterpolar\"}],                        {\"template\":{\"data\":{\"bar\":[{\"error_x\":{\"color\":\"#2a3f5f\"},\"error_y\":{\"color\":\"#2a3f5f\"},\"marker\":{\"line\":{\"color\":\"#E5ECF6\",\"width\":0.5},\"pattern\":{\"fillmode\":\"overlay\",\"size\":10,\"solidity\":0.2}},\"type\":\"bar\"}],\"barpolar\":[{\"marker\":{\"line\":{\"color\":\"#E5ECF6\",\"width\":0.5},\"pattern\":{\"fillmode\":\"overlay\",\"size\":10,\"solidity\":0.2}},\"type\":\"barpolar\"}],\"carpet\":[{\"aaxis\":{\"endlinecolor\":\"#2a3f5f\",\"gridcolor\":\"white\",\"linecolor\":\"white\",\"minorgridcolor\":\"white\",\"startlinecolor\":\"#2a3f5f\"},\"baxis\":{\"endlinecolor\":\"#2a3f5f\",\"gridcolor\":\"white\",\"linecolor\":\"white\",\"minorgridcolor\":\"white\",\"startlinecolor\":\"#2a3f5f\"},\"type\":\"carpet\"}],\"choropleth\":[{\"colorbar\":{\"outlinewidth\":0,\"ticks\":\"\"},\"type\":\"choropleth\"}],\"contour\":[{\"colorbar\":{\"outlinewidth\":0,\"ticks\":\"\"},\"colorscale\":[[0.0,\"#0d0887\"],[0.1111111111111111,\"#46039f\"],[0.2222222222222222,\"#7201a8\"],[0.3333333333333333,\"#9c179e\"],[0.4444444444444444,\"#bd3786\"],[0.5555555555555556,\"#d8576b\"],[0.6666666666666666,\"#ed7953\"],[0.7777777777777778,\"#fb9f3a\"],[0.8888888888888888,\"#fdca26\"],[1.0,\"#f0f921\"]],\"type\":\"contour\"}],\"contourcarpet\":[{\"colorbar\":{\"outlinewidth\":0,\"ticks\":\"\"},\"type\":\"contourcarpet\"}],\"heatmap\":[{\"colorbar\":{\"outlinewidth\":0,\"ticks\":\"\"},\"colorscale\":[[0.0,\"#0d0887\"],[0.1111111111111111,\"#46039f\"],[0.2222222222222222,\"#7201a8\"],[0.3333333333333333,\"#9c179e\"],[0.4444444444444444,\"#bd3786\"],[0.5555555555555556,\"#d8576b\"],[0.6666666666666666,\"#ed7953\"],[0.7777777777777778,\"#fb9f3a\"],[0.8888888888888888,\"#fdca26\"],[1.0,\"#f0f921\"]],\"type\":\"heatmap\"}],\"heatmapgl\":[{\"colorbar\":{\"outlinewidth\":0,\"ticks\":\"\"},\"colorscale\":[[0.0,\"#0d0887\"],[0.1111111111111111,\"#46039f\"],[0.2222222222222222,\"#7201a8\"],[0.3333333333333333,\"#9c179e\"],[0.4444444444444444,\"#bd3786\"],[0.5555555555555556,\"#d8576b\"],[0.6666666666666666,\"#ed7953\"],[0.7777777777777778,\"#fb9f3a\"],[0.8888888888888888,\"#fdca26\"],[1.0,\"#f0f921\"]],\"type\":\"heatmapgl\"}],\"histogram\":[{\"marker\":{\"pattern\":{\"fillmode\":\"overlay\",\"size\":10,\"solidity\":0.2}},\"type\":\"histogram\"}],\"histogram2d\":[{\"colorbar\":{\"outlinewidth\":0,\"ticks\":\"\"},\"colorscale\":[[0.0,\"#0d0887\"],[0.1111111111111111,\"#46039f\"],[0.2222222222222222,\"#7201a8\"],[0.3333333333333333,\"#9c179e\"],[0.4444444444444444,\"#bd3786\"],[0.5555555555555556,\"#d8576b\"],[0.6666666666666666,\"#ed7953\"],[0.7777777777777778,\"#fb9f3a\"],[0.8888888888888888,\"#fdca26\"],[1.0,\"#f0f921\"]],\"type\":\"histogram2d\"}],\"histogram2dcontour\":[{\"colorbar\":{\"outlinewidth\":0,\"ticks\":\"\"},\"colorscale\":[[0.0,\"#0d0887\"],[0.1111111111111111,\"#46039f\"],[0.2222222222222222,\"#7201a8\"],[0.3333333333333333,\"#9c179e\"],[0.4444444444444444,\"#bd3786\"],[0.5555555555555556,\"#d8576b\"],[0.6666666666666666,\"#ed7953\"],[0.7777777777777778,\"#fb9f3a\"],[0.8888888888888888,\"#fdca26\"],[1.0,\"#f0f921\"]],\"type\":\"histogram2dcontour\"}],\"mesh3d\":[{\"colorbar\":{\"outlinewidth\":0,\"ticks\":\"\"},\"type\":\"mesh3d\"}],\"parcoords\":[{\"line\":{\"colorbar\":{\"outlinewidth\":0,\"ticks\":\"\"}},\"type\":\"parcoords\"}],\"pie\":[{\"automargin\":true,\"type\":\"pie\"}],\"scatter\":[{\"marker\":{\"colorbar\":{\"outlinewidth\":0,\"ticks\":\"\"}},\"type\":\"scatter\"}],\"scatter3d\":[{\"line\":{\"colorbar\":{\"outlinewidth\":0,\"ticks\":\"\"}},\"marker\":{\"colorbar\":{\"outlinewidth\":0,\"ticks\":\"\"}},\"type\":\"scatter3d\"}],\"scattercarpet\":[{\"marker\":{\"colorbar\":{\"outlinewidth\":0,\"ticks\":\"\"}},\"type\":\"scattercarpet\"}],\"scattergeo\":[{\"marker\":{\"colorbar\":{\"outlinewidth\":0,\"ticks\":\"\"}},\"type\":\"scattergeo\"}],\"scattergl\":[{\"marker\":{\"colorbar\":{\"outlinewidth\":0,\"ticks\":\"\"}},\"type\":\"scattergl\"}],\"scattermapbox\":[{\"marker\":{\"colorbar\":{\"outlinewidth\":0,\"ticks\":\"\"}},\"type\":\"scattermapbox\"}],\"scatterpolar\":[{\"marker\":{\"colorbar\":{\"outlinewidth\":0,\"ticks\":\"\"}},\"type\":\"scatterpolar\"}],\"scatterpolargl\":[{\"marker\":{\"colorbar\":{\"outlinewidth\":0,\"ticks\":\"\"}},\"type\":\"scatterpolargl\"}],\"scatterternary\":[{\"marker\":{\"colorbar\":{\"outlinewidth\":0,\"ticks\":\"\"}},\"type\":\"scatterternary\"}],\"surface\":[{\"colorbar\":{\"outlinewidth\":0,\"ticks\":\"\"},\"colorscale\":[[0.0,\"#0d0887\"],[0.1111111111111111,\"#46039f\"],[0.2222222222222222,\"#7201a8\"],[0.3333333333333333,\"#9c179e\"],[0.4444444444444444,\"#bd3786\"],[0.5555555555555556,\"#d8576b\"],[0.6666666666666666,\"#ed7953\"],[0.7777777777777778,\"#fb9f3a\"],[0.8888888888888888,\"#fdca26\"],[1.0,\"#f0f921\"]],\"type\":\"surface\"}],\"table\":[{\"cells\":{\"fill\":{\"color\":\"#EBF0F8\"},\"line\":{\"color\":\"white\"}},\"header\":{\"fill\":{\"color\":\"#C8D4E3\"},\"line\":{\"color\":\"white\"}},\"type\":\"table\"}]},\"layout\":{\"annotationdefaults\":{\"arrowcolor\":\"#2a3f5f\",\"arrowhead\":0,\"arrowwidth\":1},\"autotypenumbers\":\"strict\",\"coloraxis\":{\"colorbar\":{\"outlinewidth\":0,\"ticks\":\"\"}},\"colorscale\":{\"diverging\":[[0,\"#8e0152\"],[0.1,\"#c51b7d\"],[0.2,\"#de77ae\"],[0.3,\"#f1b6da\"],[0.4,\"#fde0ef\"],[0.5,\"#f7f7f7\"],[0.6,\"#e6f5d0\"],[0.7,\"#b8e186\"],[0.8,\"#7fbc41\"],[0.9,\"#4d9221\"],[1,\"#276419\"]],\"sequential\":[[0.0,\"#0d0887\"],[0.1111111111111111,\"#46039f\"],[0.2222222222222222,\"#7201a8\"],[0.3333333333333333,\"#9c179e\"],[0.4444444444444444,\"#bd3786\"],[0.5555555555555556,\"#d8576b\"],[0.6666666666666666,\"#ed7953\"],[0.7777777777777778,\"#fb9f3a\"],[0.8888888888888888,\"#fdca26\"],[1.0,\"#f0f921\"]],\"sequentialminus\":[[0.0,\"#0d0887\"],[0.1111111111111111,\"#46039f\"],[0.2222222222222222,\"#7201a8\"],[0.3333333333333333,\"#9c179e\"],[0.4444444444444444,\"#bd3786\"],[0.5555555555555556,\"#d8576b\"],[0.6666666666666666,\"#ed7953\"],[0.7777777777777778,\"#fb9f3a\"],[0.8888888888888888,\"#fdca26\"],[1.0,\"#f0f921\"]]},\"colorway\":[\"#636efa\",\"#EF553B\",\"#00cc96\",\"#ab63fa\",\"#FFA15A\",\"#19d3f3\",\"#FF6692\",\"#B6E880\",\"#FF97FF\",\"#FECB52\"],\"font\":{\"color\":\"#2a3f5f\"},\"geo\":{\"bgcolor\":\"white\",\"lakecolor\":\"white\",\"landcolor\":\"#E5ECF6\",\"showlakes\":true,\"showland\":true,\"subunitcolor\":\"white\"},\"hoverlabel\":{\"align\":\"left\"},\"hovermode\":\"closest\",\"mapbox\":{\"style\":\"light\"},\"paper_bgcolor\":\"white\",\"plot_bgcolor\":\"#E5ECF6\",\"polar\":{\"angularaxis\":{\"gridcolor\":\"white\",\"linecolor\":\"white\",\"ticks\":\"\"},\"bgcolor\":\"#E5ECF6\",\"radialaxis\":{\"gridcolor\":\"white\",\"linecolor\":\"white\",\"ticks\":\"\"}},\"scene\":{\"xaxis\":{\"backgroundcolor\":\"#E5ECF6\",\"gridcolor\":\"white\",\"gridwidth\":2,\"linecolor\":\"white\",\"showbackground\":true,\"ticks\":\"\",\"zerolinecolor\":\"white\"},\"yaxis\":{\"backgroundcolor\":\"#E5ECF6\",\"gridcolor\":\"white\",\"gridwidth\":2,\"linecolor\":\"white\",\"showbackground\":true,\"ticks\":\"\",\"zerolinecolor\":\"white\"},\"zaxis\":{\"backgroundcolor\":\"#E5ECF6\",\"gridcolor\":\"white\",\"gridwidth\":2,\"linecolor\":\"white\",\"showbackground\":true,\"ticks\":\"\",\"zerolinecolor\":\"white\"}},\"shapedefaults\":{\"line\":{\"color\":\"#2a3f5f\"}},\"ternary\":{\"aaxis\":{\"gridcolor\":\"white\",\"linecolor\":\"white\",\"ticks\":\"\"},\"baxis\":{\"gridcolor\":\"white\",\"linecolor\":\"white\",\"ticks\":\"\"},\"bgcolor\":\"#E5ECF6\",\"caxis\":{\"gridcolor\":\"white\",\"linecolor\":\"white\",\"ticks\":\"\"}},\"title\":{\"x\":0.05},\"xaxis\":{\"automargin\":true,\"gridcolor\":\"white\",\"linecolor\":\"white\",\"ticks\":\"\",\"title\":{\"standoff\":15},\"zerolinecolor\":\"white\",\"zerolinewidth\":2},\"yaxis\":{\"automargin\":true,\"gridcolor\":\"white\",\"linecolor\":\"white\",\"ticks\":\"\",\"title\":{\"standoff\":15},\"zerolinecolor\":\"white\",\"zerolinewidth\":2}}},\"polar\":{\"radialaxis\":{\"visible\":true,\"range\":[0,1]}},\"showlegend\":false},                        {\"responsive\": true}                    ).then(function(){\n                            \nvar gd = document.getElementById('d8f177eb-8708-4c9b-87a7-52583c609d3b');\nvar x = new MutationObserver(function (mutations, observer) {{\n        var display = window.getComputedStyle(gd).display;\n        if (!display || display === 'none') {{\n            console.log([gd, 'removed!']);\n            Plotly.purge(gd);\n            observer.disconnect();\n        }}\n}});\n\n// Listen for the removal of the full notebook cells\nvar notebookContainer = gd.closest('#notebook-container');\nif (notebookContainer) {{\n    x.observe(notebookContainer, {childList: true});\n}}\n\n// Listen for the clearing of the current output cell\nvar outputEl = gd.closest('.output');\nif (outputEl) {{\n    x.observe(outputEl, {childList: true});\n}}\n\n                        })                };                });            </script>        </div>"
     },
     "metadata": {},
     "output_type": "display_data"
    }
   ],
   "source": [
    "# import matplotlib.pyplot as plt\n",
    "# import numpy as np\n",
    "# \n",
    "# theta = np.arange(0, 2 * np.pi, np.pi / 4)\n",
    "# r = theta / np.pi / 2 + 0.5\n",
    "# \n",
    "# fig = plt.figure(figsize=(10, 10))\n",
    "# ax = fig.add_subplot(projection='polar')\n",
    "# ax.errorbar(theta, r, yerr=0.1, fmt=\"o-\", c=\"orangered\")\n",
    "# ax.set_title(\"Large radius error bars\")\n",
    "# plt.show()\n",
    "\n",
    "import plotly.graph_objects as go\n",
    "\n",
    "categories = ['processing cost','mechanical properties','chemical stability',\n",
    "              'thermal stability', 'device integration']\n",
    "\n",
    "fig = go.Figure()\n",
    "\n",
    "fig.add_trace(go.Scatterpolar(\n",
    "      r=[results_by_plan_length[1][question_category] for question_category in QUESTION_CATEGORIES],\n",
    "      theta=QUESTION_CATEGORIES,\n",
    "      # fill='toself',\n",
    "      name='1'\n",
    "))\n",
    "fig.add_trace(go.Scatterpolar(\n",
    "      r=[results_by_plan_length[10][question_category] for question_category in QUESTION_CATEGORIES],\n",
    "      theta=QUESTION_CATEGORIES,\n",
    "      # fill='toself',\n",
    "      name='10'\n",
    "))\n",
    "fig.add_trace(go.Scatterpolar(\n",
    "      r=[results_by_plan_length[19][question_category] for question_category in QUESTION_CATEGORIES],\n",
    "      theta=QUESTION_CATEGORIES,\n",
    "      # fill='toself',\n",
    "      name='19',\n",
    "))\n",
    "\n",
    "fig.update_layout(\n",
    "  polar=dict(\n",
    "    radialaxis=dict(\n",
    "      visible=True,\n",
    "        range=[0, 1],\n",
    "    )),\n",
    "  showlegend=False\n",
    ")\n",
    "\n",
    "fig.show()"
   ],
   "metadata": {
    "collapsed": false,
    "ExecuteTime": {
     "end_time": "2024-06-04T00:58:58.880014Z",
     "start_time": "2024-06-04T00:58:58.864310Z"
    }
   },
   "id": "b0f7eb5ebf569e9b",
   "execution_count": 32
  },
  {
   "cell_type": "markdown",
   "source": [
    "# By Ramifications"
   ],
   "metadata": {
    "collapsed": false
   },
   "id": "ee56ba21cc845f85"
  },
  {
   "cell_type": "code",
   "outputs": [],
   "source": [
    "subs = WITHOUT_RANDOM_SUB\n",
    "question_category = ALL_QUESTION_CATEGORIES_KEY"
   ],
   "metadata": {
    "collapsed": false,
    "ExecuteTime": {
     "end_time": "2024-05-28T23:58:41.017173Z",
     "start_time": "2024-05-28T23:58:41.014447Z"
    }
   },
   "id": "ff782a685a8a11ea",
   "execution_count": 17
  },
  {
   "cell_type": "code",
   "outputs": [
    {
     "data": {
      "text/plain": "<Figure size 432x288 with 1 Axes>",
      "image/png": "[encoded data removed]"
     },
     "metadata": {
      "needs_background": "light"
     },
     "output_type": "display_data"
    },
    {
     "name": "stdout",
     "output_type": "stream",
     "text": [
      "by ramifications, ALL DOMAINS, true false answer, accuracy, gpt-4o, few shot 1, with ramifications, 1-19\n"
     ]
    }
   ],
   "source": [
    "plt.figure()\n",
    "domain = ALL_DOMAINS_KEY\n",
    "\n",
    "results_by_cat = defaultdict(list)\n",
    "error_by_cat = defaultdict(list)\n",
    "for ramifications in RAMIFICATION_TYPES:\n",
    "    for plan_length in plan_lengths:\n",
    "        res_obj = filter_single_selector(stats_all, plan_length, question_category, ramifications, model_name, prompt_type, domain, answer_type, subs)\n",
    "        results_by_cat[ramifications].append(res_obj['result'])\n",
    "        error_by_cat[ramifications].append(res_obj['result_other']['sem'])\n",
    "    \n",
    "for categoty, data in results_by_cat.items():\n",
    "    plt.errorbar(plan_lengths, data, yerr=error_by_cat[categoty], capsize=3, fmt=\"o-\", label=categoty, ecolor = \"black\")\n",
    "\n",
    "# plt.ylim([0.6, 0.7])\n",
    "plt.xticks(plan_lengths)\n",
    "# plt.title(f'{domain} {model_name} {prompt_type} {ramifications}')\n",
    "plt.legend(fontsize=15)\n",
    "plt.xticks(size=15)\n",
    "plt.xlabel('Plan Length', size=15)\n",
    "plt.yticks(size=15)\n",
    "plt.ylabel(score_key, size=15)\n",
    "\n",
    "file_name = f'by_ramifications.{domain}.{answer_type}.{score_key}.{model_name}.{prompt_type}.{ramifications}.1-19'\n",
    "save_path = os.path.join(save_dir, f'{file_name}.pdf')\n",
    "plt.savefig(save_path, transparent=True, format=\"pdf\", bbox_inches='tight')\n",
    "plt.show()\n",
    "\n",
    "print(file_name.replace('.', ', ').replace('_', ' '))"
   ],
   "metadata": {
    "collapsed": false,
    "ExecuteTime": {
     "end_time": "2024-05-28T23:58:41.853899Z",
     "start_time": "2024-05-28T23:58:41.329865Z"
    }
   },
   "id": "b51708147d8a7d9b",
   "execution_count": 18
  },
  {
   "cell_type": "code",
   "outputs": [
    {
     "data": {
      "text/plain": "defaultdict(list,\n            {'without_ramifications': [0.763126491646778,\n              0.7260843731431966,\n              0.6842427958307786],\n             'with_ramifications': [0.7755344418052257,\n              0.7266313932980599,\n              0.6944613511868534]})"
     },
     "execution_count": 19,
     "metadata": {},
     "output_type": "execute_result"
    }
   ],
   "source": [
    "results_by_cat"
   ],
   "metadata": {
    "collapsed": false,
    "ExecuteTime": {
     "end_time": "2024-05-28T23:58:47.291745Z",
     "start_time": "2024-05-28T23:58:47.287579Z"
    }
   },
   "id": "c42f0dfb1fdf81fc",
   "execution_count": 19
  },
  {
   "cell_type": "markdown",
   "source": [
    "# By Random Substitution"
   ],
   "metadata": {
    "collapsed": false
   },
   "id": "760a495f731c9434"
  },
  {
   "cell_type": "code",
   "outputs": [],
   "source": [
    "model_name = 'gemini'#'gemma-2b-it'\n",
    "prompt_type = 'few_shot_1'\n",
    "question_category = ALL_QUESTION_CATEGORIES_KEY\n",
    "ramifications = WITHOUT_RAMIFICATIONS"
   ],
   "metadata": {
    "collapsed": false,
    "ExecuteTime": {
     "end_time": "2024-05-28T23:58:48.794479Z",
     "start_time": "2024-05-28T23:58:48.791733Z"
    }
   },
   "id": "9cadd837e4f6be36",
   "execution_count": 20
  },
  {
   "cell_type": "code",
   "outputs": [
    {
     "name": "stdout",
     "output_type": "stream",
     "text": [
      "by random subs, ALL DOMAINS, true false answer, accuracy, gemini, few shot 1, without ramifications\n"
     ]
    },
    {
     "data": {
      "text/plain": "<Figure size 432x288 with 1 Axes>",
      "image/png": "[encoded data removed]"
     },
     "metadata": {
      "needs_background": "light"
     },
     "output_type": "display_data"
    }
   ],
   "source": [
    "for domain in [ALL_DOMAINS_KEY]: #[TRANSPORTATION_DOMAIN_KEY, NON_TRANSPORTATION_DOMAIN_KEY]: #ALL_DOMAINS_KEY DOMAIN_NAMES: \n",
    "    results_by_cat = defaultdict(list)\n",
    "    error_by_cat = defaultdict(list)\n",
    "    for subs in [WITH_RANDOM_SUB, WITHOUT_RANDOM_SUB]:\n",
    "        for plan_length in plan_lengths:\n",
    "            res_obj = filter_single_selector(stats_all, plan_length, question_category, ramifications, model_name, prompt_type, domain, answer_type, subs)\n",
    "            if res_obj:\n",
    "                results_by_cat[subs].append(res_obj['result'])\n",
    "                error_by_cat[subs].append(res_obj['result_other']['sem'])\n",
    "\n",
    "    plt.figure()\n",
    "    # plt.plot(PLAN_LENGTHS, [0.5 for _ in range(len(PLAN_LENGTHS))], linestyle='dashed', color='black')\n",
    "    \n",
    "    for categoty, data in results_by_cat.items():\n",
    "        plt.errorbar(plan_lengths, data, yerr=error_by_cat[categoty], capsize=3, fmt=\"o-\", label=categoty, ecolor = \"black\")\n",
    "    \n",
    "    # plt.ylim([0.6, 0.7])\n",
    "    plt.xticks(plan_lengths)\n",
    "    # plt.title(f'{domain} {model_name} {prompt_type} {ramifications}')\n",
    "    plt.legend(fontsize=15)\n",
    "    plt.xticks(size=15)\n",
    "    plt.xlabel('Plan Length', size=15)\n",
    "    plt.yticks(size=15)\n",
    "    plt.ylabel(score_key, size=15)\n",
    "    \n",
    "    save_name = f'by_random_subs.{domain}.{answer_type}.{score_key}.{model_name}.{prompt_type}.{ramifications}'\n",
    "    save_path = os.path.join(save_dir, f'{save_name}.pdf')\n",
    "    plt.savefig(save_path, transparent=True, format=\"pdf\", bbox_inches='tight')\n",
    "    # plt.show()\n",
    "    print(save_name.replace('.', ', ').replace('_', ' '))\n",
    "    # print('by plan length,', ', '.join(k.replace('_', ' ') for k in save_name.split('.')))"
   ],
   "metadata": {
    "collapsed": false,
    "ExecuteTime": {
     "end_time": "2024-05-17T22:05:20.253647Z",
     "start_time": "2024-05-17T22:05:20.034149Z"
    }
   },
   "id": "1d09938056c4b69c",
   "execution_count": 21
  },
  {
   "cell_type": "code",
   "outputs": [],
   "source": [],
   "metadata": {
    "collapsed": false
   },
   "id": "85cea96d0dc522e2"
  }
 ],
 "metadata": {
  "kernelspec": {
   "display_name": "Python 3",
   "language": "python",
   "name": "python3"
  },
  "language_info": {
   "codemirror_mode": {
    "name": "ipython",
    "version": 2
   },
   "file_extension": ".py",
   "mimetype": "text/x-python",
   "name": "python",
   "nbconvert_exporter": "python",
   "pygments_lexer": "ipython2",
   "version": "2.7.6"
  }
 },
 "nbformat": 4,
 "nbformat_minor": 5
}
