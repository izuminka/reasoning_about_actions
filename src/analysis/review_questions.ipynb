{
 "cells": [
  {
   "cell_type": "code",
   "execution_count": 13,
   "id": "initial_id",
   "metadata": {
    "collapsed": true,
    "ExecuteTime": {
     "end_time": "2024-04-05T21:54:39.073716Z",
     "start_time": "2024-04-05T21:54:39.066113Z"
    }
   },
   "outputs": [],
   "source": [
    "import sys, os\n",
    "sys.path.append(os.path.realpath('__file__'))\n",
    "sys.path.append(os.path.dirname(os.path.realpath('__file__')))\n",
    "sys.path.append(os.path.dirname(os.path.dirname(os.path.realpath('__file__'))))\n",
    "sys.path.append(os.path.dirname(os.path.dirname(os.path.dirname(os.path.realpath('__file__')))))\n",
    "\n",
    "from src.common import *\n",
    "from src.questions_construction.domains import *\n",
    "from src.questions_construction.questions import *"
   ]
  },
  {
   "cell_type": "code",
   "outputs": [],
   "source": [
    "domain_name = 'logistics' #DOMAIN_NAMES[0]\n",
    "\n",
    "\n",
    "instance_name = f'Instance_1'\n",
    "questions_path = f'{DATA_PATH}/questions_m1_for_manual_validation/without_random_sub/{domain_name}/{instance_name}.jsonl'\n",
    "# questions = open_jsonl(QUESTIONS_PATH + f'/{domain_name}/{instance_name}.jsonl')\n",
    "questions = open_jsonl(questions_path)"
   ],
   "metadata": {
    "collapsed": false,
    "ExecuteTime": {
     "end_time": "2024-04-05T21:41:00.052280Z",
     "start_time": "2024-04-05T21:41:00.027343Z"
    }
   },
   "id": "ac683e5839b2a993",
   "execution_count": 2
  },
  {
   "cell_type": "code",
   "outputs": [],
   "source": [
    "plan_length = 2\n",
    "qa_dict = {}\n",
    "\n",
    "for qa_object in questions:\n",
    "    if qa_object[OUT_OBJ_PLAN_LENGTH]==plan_length:\n",
    "        qa_dict[(qa_object[OUT_OBJ_QUESTION_CATEGORY], qa_object['question_name'])] = qa_object"
   ],
   "metadata": {
    "collapsed": false,
    "ExecuteTime": {
     "end_time": "2024-04-05T21:41:03.690803Z",
     "start_time": "2024-04-05T21:41:03.686645Z"
    }
   },
   "id": "27b2f66184f74c27",
   "execution_count": 3
  },
  {
   "cell_type": "code",
   "outputs": [
    {
     "data": {
      "text/plain": "dict_keys(['id', 'domain_name', 'instance_id', 'question_category', 'question_name', 'fluent_type', 'answer_type', 'question', 'answer', 'plan_length', 'initial_state', 'action_sequence'])"
     },
     "execution_count": 8,
     "metadata": {},
     "output_type": "execute_result"
    }
   ],
   "source": [
    "qa_object.keys()"
   ],
   "metadata": {
    "collapsed": false,
    "ExecuteTime": {
     "end_time": "2024-04-05T21:44:31.401203Z",
     "start_time": "2024-04-05T21:44:31.395848Z"
    }
   },
   "id": "5ac800c3c05c6810",
   "execution_count": 8
  },
  {
   "cell_type": "code",
   "outputs": [
    {
     "data": {
      "text/plain": "'object p2 is at airport l0_2, airport l0_2 is located in city c0, object t2 is located at airport l0_1, object t1 is at airport l1_2, at airport l1_0, object a0 is located, city c1 contains airport l1_0, airport l1_1 is located in city c1, city c0 contains airport l0_0, object t0 is located at airport l0_2, object p0 is located at airport l1_2, airport l0_1 is in city c0, at airport l1_0, object a1 is located, object p3 is located at airport l0_2, object p1 is located at airport l1_1 and city c1 contains airport l1_2'"
     },
     "execution_count": 16,
     "metadata": {},
     "output_type": "execute_result"
    }
   ],
   "source": [
    "domain_class = ALL_DOMAIN_CLASSES_BY_NAME[domain_name](False, False)\n",
    "initial_state_nl = asp_to_nl(questions[0]['initial_state']['fluents'], domain_class.fluent_to_natural_language,None)"
   ],
   "metadata": {
    "collapsed": false,
    "ExecuteTime": {
     "end_time": "2024-04-05T21:55:18.822266Z",
     "start_time": "2024-04-05T21:55:18.815985Z"
    }
   },
   "id": "3561f1bd9f32d4fc",
   "execution_count": 16
  },
  {
   "cell_type": "code",
   "outputs": [
    {
     "name": "stdout",
     "output_type": "stream",
     "text": [
      "-------------------------- logistics ('fluent_tracking', 'iter_2_question_24') --------------------------\n",
      "object p2 is at airport l0_2, airport l0_2 is located in city c0, object t2 is located at airport l0_1, object t1 is at airport l1_2, at airport l1_0, object a0 is located, city c1 contains airport l1_0, airport l1_1 is located in city c1, city c0 contains airport l0_0, object t0 is located at airport l0_2, object p0 is located at airport l1_2, airport l0_1 is in city c0, at airport l1_0, object a1 is located, object p3 is located at airport l0_2, object p1 is located at airport l1_1 and city c1 contains airport l1_2\n",
      "\n",
      "\n",
      "Given the initial condition, the following actions are performed: package p0 is loaded in truck t1 at airport l1_2 and truck t1 is driven to airport l1_1 from airport l1_2 in city c1 to reach the current state. In this state, are all of the following properties of the state True or False: city c0 does not contain airport l0_2, city c1 contains airport l1_0, city c1 does not contain airport l1_1, airport l0_0 is in city c0, airport l0_1 is located in city c0, city c1 contains airport l1_2, city c0 does not contain airport l1_1, airport l0_0 is located in city c1, city c1 does not contain airport l0_1, airport l1_0 is in city c0, airport l1_2 is located in city c0 and airport l0_2 is in city c1?\n",
      "\n",
      "\n",
      "False\n",
      "\n",
      "\n",
      "-------------------------- logistics ('fluent_tracking', 'iter_1_question_9') --------------------------\n",
      "object p2 is at airport l0_2, airport l0_2 is located in city c0, object t2 is located at airport l0_1, object t1 is at airport l1_2, at airport l1_0, object a0 is located, city c1 contains airport l1_0, airport l1_1 is located in city c1, city c0 contains airport l0_0, object t0 is located at airport l0_2, object p0 is located at airport l1_2, airport l0_1 is in city c0, at airport l1_0, object a1 is located, object p3 is located at airport l0_2, object p1 is located at airport l1_1 and city c1 contains airport l1_2\n",
      "\n",
      "\n",
      "Given the initial condition, the following actions are performed: package p0 is loaded in truck t1 at airport l1_2 and truck t1 is driven to airport l1_1 from airport l1_2 in city c1 to reach the current state. In this state, is it True or False that object t0 is at airport l0_2?\n",
      "\n",
      "\n",
      "True\n",
      "\n",
      "\n",
      "-------------------------- logistics ('state_tracking', 'iter_2_question_3') --------------------------\n",
      "object p2 is at airport l0_2, airport l0_2 is located in city c0, object t2 is located at airport l0_1, object t1 is at airport l1_2, at airport l1_0, object a0 is located, city c1 contains airport l1_0, airport l1_1 is located in city c1, city c0 contains airport l0_0, object t0 is located at airport l0_2, object p0 is located at airport l1_2, airport l0_1 is in city c0, at airport l1_0, object a1 is located, object p3 is located at airport l0_2, object p1 is located at airport l1_1 and city c1 contains airport l1_2\n",
      "\n",
      "\n",
      "Given the initial condition, the following actions are performed: truck t1 is loaded with package p0 at airport l1_2 and in city c1, truck is driven from airports l1_2 to l1_1 to reach the current state. In this state, list all valid properties of the state that involve negations. Write None if there are none.\n",
      "\n",
      "\n",
      "package p3 is not in vehicle t1, airport l1_1 is not in city c0airport l1_1 is not located in city c0, object t0 is not at airport l0_0, at airport l0_0, object a1 is not located, object p0 is not located at airport l0_1, package p0 is not in vehicle t0, object p0 is not located at airport l1_2, object p0 is not located at airport l0_0, at airport l0_1, object p3 is not located, object a1 is not at airport l0_2, package p1 is not in vehicle a0, object a0 is not at airport l0_0, at airport l0_2, object t2 is not located, package p3 is not present in vehicle a1, object t1 is not located at airport l1_0, city c1 does not contain airport l0_0, at airport l1_0, object t0 is not located, object p2 is not at airport l1_0, object t0 is not located at airport l1_1, package p1 is not present in vehicle t1, at airport l0_0, object t1 is not located, object t1 is not at airport l0_1, at airport l1_2, object t0 is not located, object p3 is not located at airport l1_0, object p2 is not located at airport l1_1, object p2 is not located at airport l1_2, package p2 is not located in vehicle t0, package p0 is not in vehicle a0, object t2 is not at airport l1_0, at airport l0_1, object a0 is not located, object t1 is not located at airport l0_2, package p2 is not located in vehicle t1, object p2 is not located at airport l0_0, object p3 is not located at airport l1_2, object p1 is not located at airport l1_0, package p3 is not in vehicle t2, package p2 is not in vehicle a0, city c1 does not contain airport l0_1, at airport l0_1, object a1 is not located, object p1 is not at airport l0_1, airport l1_0 is not in city c0airport l1_0 is not located in city c0, at airport l1_2, object a1 is not located, city c0 does not contain airport l1_2, object a0 is not at airport l0_2, package p0 is not present in vehicle a1, package p2 is not in vehicle t2, object p0 is not at airport l0_2, at airport l1_1, object p3 is not located, package p3 is not present in vehicle a0, object a1 is not at airport l1_1, object t2 is not at airport l1_1, object p3 is not at airport l0_0, at airport l0_2, object p1 is not located, package p0 is not in vehicle t2, package p1 is not located in vehicle t0, object p1 is not located at airport l1_2, package p3 is not located in vehicle t0, at airport l0_0, object t2 is not located, package p1 is not in vehicle t2, object p0 is not at airport l1_0, at airport l1_2, object a0 is not located, object t0 is not located at airport l0_1, at airport l1_1, object p0 is not located, airport l0_2 is not in city c1airport l0_2 is not located in city c1, package p2 is not located in vehicle a1, object t1 is not located at airport l1_2, at airport l1_1, object a0 is not located, object p1 is not at airport l0_0, object p2 is not at airport l0_1, package p1 is not located in vehicle a1 and object t2 is not at airport l1_2\n",
      "\n",
      "\n",
      "-------------------------- logistics ('hallucination', 'iter_2_question_12') --------------------------\n",
      "object p2 is at airport l0_2, airport l0_2 is located in city c0, object t2 is located at airport l0_1, object t1 is at airport l1_2, at airport l1_0, object a0 is located, city c1 contains airport l1_0, airport l1_1 is located in city c1, city c0 contains airport l0_0, object t0 is located at airport l0_2, object p0 is located at airport l1_2, airport l0_1 is in city c0, at airport l1_0, object a1 is located, object p3 is located at airport l0_2, object p1 is located at airport l1_1 and city c1 contains airport l1_2\n",
      "\n",
      "\n",
      "Given the initial condition, the following actions are performed: truck t1 is loaded with package p0 at airport l1_2 and truck t1 is driven from airport l1_2 to airport l1_1 in city c1 to reach the current state. In this state, some properties of the state may or may not be defined. Is it True or False that city c0's capital is place l0_2?\n",
      "\n",
      "\n",
      "False\n",
      "\n",
      "\n",
      "-------------------------- logistics ('numerical_reasoning', 'iter_1_question_7') --------------------------\n",
      "object p2 is at airport l0_2, airport l0_2 is located in city c0, object t2 is located at airport l0_1, object t1 is at airport l1_2, at airport l1_0, object a0 is located, city c1 contains airport l1_0, airport l1_1 is located in city c1, city c0 contains airport l0_0, object t0 is located at airport l0_2, object p0 is located at airport l1_2, airport l0_1 is in city c0, at airport l1_0, object a1 is located, object p3 is located at airport l0_2, object p1 is located at airport l1_1 and city c1 contains airport l1_2\n",
      "\n",
      "\n",
      "Given the initial condition, the following actions are performed: at airport l1_2, package p0 is loaded in truck t1 and truck t1 is driven to airport l1_1 from airport l1_2 in city c1 to reach the current state. In this state, is the number of valid properties of the state equal to 15? True or False\n",
      "\n",
      "\n",
      "True\n",
      "\n",
      "\n",
      "-------------------------- logistics ('numerical_reasoning', 'iter_1_question_10') --------------------------\n",
      "object p2 is at airport l0_2, airport l0_2 is located in city c0, object t2 is located at airport l0_1, object t1 is at airport l1_2, at airport l1_0, object a0 is located, city c1 contains airport l1_0, airport l1_1 is located in city c1, city c0 contains airport l0_0, object t0 is located at airport l0_2, object p0 is located at airport l1_2, airport l0_1 is in city c0, at airport l1_0, object a1 is located, object p3 is located at airport l0_2, object p1 is located at airport l1_1 and city c1 contains airport l1_2\n",
      "\n",
      "\n",
      "Given the initial condition, the following actions are performed: package p0 is loaded in truck t1 at airport l1_2 and in city c1, truck is driven from airports l1_2 to l1_1 to reach the current state. In this state, is the number of valid properties of the state that involve negations equal to 74? True or False\n",
      "\n",
      "\n",
      "False\n",
      "\n",
      "\n",
      "-------------------------- logistics ('hallucination', 'iter_5_question_3') --------------------------\n",
      "object p2 is at airport l0_2, airport l0_2 is located in city c0, object t2 is located at airport l0_1, object t1 is at airport l1_2, at airport l1_0, object a0 is located, city c1 contains airport l1_0, airport l1_1 is located in city c1, city c0 contains airport l0_0, object t0 is located at airport l0_2, object p0 is located at airport l1_2, airport l0_1 is in city c0, at airport l1_0, object a1 is located, object p3 is located at airport l0_2, object p1 is located at airport l1_1 and city c1 contains airport l1_2\n",
      "\n",
      "\n",
      "Given the initial condition, the following actions are performed: package p0 is loaded in truck t1 at airport l1_2 and in city c1, truck is driven from airports l1_2 to l1_1 to reach the current state. In this state, some valid property of the state may or may not be defined. What valid property of the state out of, at airport l0_1, object t2 is located, object a1 is located at airport l1_0, object t1 is located at airport l1_1, package p0 is located in vehicle t1, object t0 is at airport l0_2, object a0 is at airport l1_0, object p3 is located at airport l0_2 and object p1 is at airport l1_1, is not defined? Write None if all are defined.\n",
      "\n",
      "\n",
      "None\n",
      "\n",
      "\n",
      "-------------------------- logistics ('fluent_tracking', 'iter_1_question_12') --------------------------\n",
      "object p2 is at airport l0_2, airport l0_2 is located in city c0, object t2 is located at airport l0_1, object t1 is at airport l1_2, at airport l1_0, object a0 is located, city c1 contains airport l1_0, airport l1_1 is located in city c1, city c0 contains airport l0_0, object t0 is located at airport l0_2, object p0 is located at airport l1_2, airport l0_1 is in city c0, at airport l1_0, object a1 is located, object p3 is located at airport l0_2, object p1 is located at airport l1_1 and city c1 contains airport l1_2\n",
      "\n",
      "\n",
      "Given the initial condition, the following actions are performed: truck t1 is loaded with package p0 at airport l1_2 and in city c1, truck is driven from airports l1_2 to l1_1 to reach the current state. In this state, is it True or False that object p0 is at airport l1_1?\n",
      "\n",
      "\n",
      "False\n",
      "\n",
      "\n",
      "-------------------------- logistics ('hallucination', 'iter_5_question_4') --------------------------\n",
      "object p2 is at airport l0_2, airport l0_2 is located in city c0, object t2 is located at airport l0_1, object t1 is at airport l1_2, at airport l1_0, object a0 is located, city c1 contains airport l1_0, airport l1_1 is located in city c1, city c0 contains airport l0_0, object t0 is located at airport l0_2, object p0 is located at airport l1_2, airport l0_1 is in city c0, at airport l1_0, object a1 is located, object p3 is located at airport l0_2, object p1 is located at airport l1_1 and city c1 contains airport l1_2\n",
      "\n",
      "\n",
      "Given the initial condition, the following actions are performed: at airport l1_2, package p0 is loaded in truck t1 and in city c1, truck is driven from airports l1_2 to l1_1 to reach the current state. In this state, some valid property of the state may or may not be defined. What valid property of the state out of, airport l1_2 is located in city c1 and airport l1_0 is in city c1, is not defined? Write None if all are defined.\n",
      "\n",
      "\n",
      "None\n",
      "\n",
      "\n",
      "-------------------------- logistics ('effects', 'iter_1_question_8') --------------------------\n",
      "object p2 is at airport l0_2, airport l0_2 is located in city c0, object t2 is located at airport l0_1, object t1 is at airport l1_2, at airport l1_0, object a0 is located, city c1 contains airport l1_0, airport l1_1 is located in city c1, city c0 contains airport l0_0, object t0 is located at airport l0_2, object p0 is located at airport l1_2, airport l0_1 is in city c0, at airport l1_0, object a1 is located, object p3 is located at airport l0_2, object p1 is located at airport l1_1 and city c1 contains airport l1_2\n",
      "\n",
      "\n",
      "Given the initial condition, the following actions are performed: package p0 is loaded in truck t1 at airport l1_2 and truck t1 is driven from airport l1_2 to airport l1_1 in city c1 to reach the current state. In this state, if package p1 is loaded in truck t1 at airport l1_1, is it True or False that no properties of the state change?\n",
      "\n",
      "\n",
      "False\n"
     ]
    },
    {
     "name": "stderr",
     "output_type": "stream",
     "text": [
      "/var/folders/_0/bqv6dr454lsgny6_gs_xb0q80000gn/T/ipykernel_29931/736117145.py:2: DeprecationWarning: Sampling from a set deprecated\n",
      "since Python 3.9 and will be removed in a subsequent version.\n",
      "  for key, qa_object in random.sample(qa_dict.items(), 10):\n"
     ]
    }
   ],
   "source": [
    "import random\n",
    "for key, qa_object in random.sample(qa_dict.items(), 10):\n",
    "    print('--------------------------',domain_name, key, '--------------------------')\n",
    "    print(initial_state_nl)\n",
    "    print('\\n')\n",
    "    print(qa_object['question'])\n",
    "    print('\\n')\n",
    "    print(qa_object['answer'])\n",
    "    print('\\n')"
   ],
   "metadata": {
    "collapsed": false,
    "ExecuteTime": {
     "end_time": "2024-04-05T21:55:29.678643Z",
     "start_time": "2024-04-05T21:55:29.668725Z"
    }
   },
   "id": "58ff8bfda016e744",
   "execution_count": 17
  },
  {
   "cell_type": "code",
   "outputs": [
    {
     "data": {
      "text/plain": "372"
     },
     "execution_count": 5,
     "metadata": {},
     "output_type": "execute_result"
    }
   ],
   "source": [
    "len(questions)"
   ],
   "metadata": {
    "collapsed": false,
    "ExecuteTime": {
     "end_time": "2024-04-05T21:42:04.067002Z",
     "start_time": "2024-04-05T21:42:04.049334Z"
    }
   },
   "id": "ec5eaf758c480529",
   "execution_count": 5
  },
  {
   "cell_type": "code",
   "outputs": [],
   "source": [],
   "metadata": {
    "collapsed": false
   },
   "id": "109fb9c908876949"
  }
 ],
 "metadata": {
  "kernelspec": {
   "display_name": "Python 3",
   "language": "python",
   "name": "python3"
  },
  "language_info": {
   "codemirror_mode": {
    "name": "ipython",
    "version": 2
   },
   "file_extension": ".py",
   "mimetype": "text/x-python",
   "name": "python",
   "nbconvert_exporter": "python",
   "pygments_lexer": "ipython2",
   "version": "2.7.6"
  }
 },
 "nbformat": 4,
 "nbformat_minor": 5
}
