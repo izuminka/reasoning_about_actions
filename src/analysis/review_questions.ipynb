{
 "cells": [
  {
   "cell_type": "code",
   "execution_count": 31,
   "id": "initial_id",
   "metadata": {
    "collapsed": true,
    "ExecuteTime": {
     "end_time": "2024-04-08T21:28:17.476203Z",
     "start_time": "2024-04-08T21:28:17.422121Z"
    }
   },
   "outputs": [],
   "source": [
    "import sys, os\n",
    "sys.path.append(os.path.realpath('__file__'))\n",
    "sys.path.append(os.path.dirname(os.path.realpath('__file__')))\n",
    "sys.path.append(os.path.dirname(os.path.dirname(os.path.realpath('__file__'))))\n",
    "sys.path.append(os.path.dirname(os.path.dirname(os.path.dirname(os.path.realpath('__file__')))))\n",
    "\n",
    "from src.common import *\n",
    "from src.questions_construction.domains import *\n",
    "from src.questions_construction.questions import *"
   ]
  },
  {
   "cell_type": "code",
   "outputs": [],
   "source": [
    "domain_name = 'mystery' #DOMAIN_NAMES[0]\n",
    "\n",
    "\n",
    "instance_name = f'Instance_1'\n",
    "questions_path = f'{DATA_PATH}/questions_m1_for_manual_validation_v2/without_random_sub/{domain_name}/{instance_name}.jsonl'\n",
    "# questions = open_jsonl(QUESTIONS_PATH + f'/{domain_name}/{instance_name}.jsonl')\n",
    "questions = open_jsonl(questions_path)"
   ],
   "metadata": {
    "collapsed": false,
    "ExecuteTime": {
     "end_time": "2024-04-08T21:28:55.901726Z",
     "start_time": "2024-04-08T21:28:55.849765Z"
    }
   },
   "id": "ac683e5839b2a993",
   "execution_count": 38
  },
  {
   "cell_type": "code",
   "outputs": [],
   "source": [
    "plan_length = 5\n",
    "qa_dict = {}\n",
    "\n",
    "for qa_object in questions:\n",
    "    if qa_object[OUT_OBJ_PLAN_LENGTH]==plan_length:\n",
    "        qa_dict[(qa_object[OUT_OBJ_QUESTION_CATEGORY], qa_object['question_name'])] = qa_object"
   ],
   "metadata": {
    "collapsed": false,
    "ExecuteTime": {
     "end_time": "2024-04-08T21:29:27.529719Z",
     "start_time": "2024-04-08T21:29:27.526401Z"
    }
   },
   "id": "27b2f66184f74c27",
   "execution_count": 44
  },
  {
   "cell_type": "code",
   "outputs": [
    {
     "data": {
      "text/plain": "123"
     },
     "execution_count": 45,
     "metadata": {},
     "output_type": "execute_result"
    }
   ],
   "source": [
    "len(qa_dict)"
   ],
   "metadata": {
    "collapsed": false,
    "ExecuteTime": {
     "end_time": "2024-04-08T21:29:28.297528Z",
     "start_time": "2024-04-08T21:29:28.294439Z"
    }
   },
   "id": "937313b3a9a963b3",
   "execution_count": 45
  },
  {
   "cell_type": "code",
   "outputs": [],
   "source": [
    "# qa_object.keys()"
   ],
   "metadata": {
    "collapsed": false,
    "ExecuteTime": {
     "end_time": "2024-04-08T21:29:29.273304Z",
     "start_time": "2024-04-08T21:29:29.270842Z"
    }
   },
   "id": "5ac800c3c05c6810",
   "execution_count": 46
  },
  {
   "cell_type": "code",
   "outputs": [],
   "source": [
    "domain_class = ALL_DOMAIN_CLASSES_BY_NAME[domain_name](False, False)"
   ],
   "metadata": {
    "collapsed": false,
    "ExecuteTime": {
     "end_time": "2024-04-08T21:29:29.650104Z",
     "start_time": "2024-04-08T21:29:29.647426Z"
    }
   },
   "id": "3561f1bd9f32d4fc",
   "execution_count": 47
  },
  {
   "cell_type": "code",
   "outputs": [
    {
     "name": "stdout",
     "output_type": "stream",
     "text": [
      "-------------------------- mystery ('fluent_tracking', 'iter_1_question_14') --------------------------\n",
      "Fuel level f4 neighbors fuel level f5, cargo c1 is situated at location l1, spaces s0 and s1 are neighbors, cargo c5 is situated at location l1, fuel-levels f7 and f8 are neighbors, cargo c3 is situated at location l0, fuel-levels f5 and f6 are neighbors, fuel-levels f6 and f7 are neighbors, cargo c0 is present at location l1, fuel-levels f1 and f2 are neighbors, cargo c7 is present at location l1, cargo c6 is at location l1, location l1 and location l0 are connected, cargo c10 is present at location l0, cargo v0 is present at location l1, cargo c8 is situated at location l1, fuel-levels f3 and f4 are neighbors, cargo c9 is at location l1, fuel-levels f2 and f3 are neighbors, cargo c2 is present at location l0, location l1 has a fuel-level of f6, vehicle v0 has space s1, fuel level f0 neighbors fuel level f1, cargo c4 is at location l1, location l0 has a fuel-level of f7 and location l0 and location l1 are connected.\n",
      "\n",
      "\n",
      "Given the initial condition, the following actions are performed: at location l1, cargo c1 is loaded in vehicle v0 with spaces s1 and s0, vehicle v0 moves from location l1 which has fuel-levels f6 and f5 to location l0, at location l0, cargo c1 is unloaded from vehicle v0 with spaces s0 and s1, vehicle v0 moves to location l1 from location l0 that has fuel level f7 and f6 and at location l1, cargo c4 is loaded in vehicle v0 with spaces s1 and s0 to reach the current state. In this state, is it True or False that fuel level f6 does not neighbour fuel level f7?\n",
      "\n",
      "\n",
      "False\n",
      "\n",
      "\n",
      "-------------------------- mystery ('object_tracking', 'iter_1_question_17') --------------------------\n",
      "Fuel level f4 neighbors fuel level f5, cargo c1 is present at location l1, space s0 neighbors space s1, cargo c5 is situated at location l1, fuel-levels f7 and f8 are neighbors, cargo c3 is at location l0, fuel-levels f5 and f6 are neighbors, fuel level f6 neighbors fuel level f7, cargo c0 is situated at location l1, fuel level f1 neighbors fuel level f2, cargo c7 is situated at location l1, cargo c6 is situated at location l1, location l1 and location l0 are connected, cargo c10 is present at location l0, cargo v0 is present at location l1, cargo c8 is at location l1, fuel level f3 neighbors fuel level f4, cargo c9 is at location l1, fuel-levels f2 and f3 are neighbors, cargo c2 is at location l0, location l1 has a fuel-level of f6, vehicle v0 has space s1, fuel-levels f0 and f1 are neighbors, cargo c4 is present at location l1, location l0 has fuel f7 and location l0 is connected to location l1.\n",
      "\n",
      "\n",
      "Given the initial condition, the following actions are performed: at location l1, cargo c1 is loaded in vehicle v0 with spaces s1 and s0, vehicle v0 moves to location l0 from location l1 that has fuel level f6 and f5, at location l0, cargo c1 is unloaded from vehicle v0 with spaces s0 and s1, vehicle v0 moves from location l0 which has fuel-levels f7 and f6 to location l1 and at location l1, cargo c4 is loaded in vehicle v0 with spaces s1 and s0 to reach the current state. In this state, is it True or False that the following properties of the state are correct for c2: cargo c2 is at location l0, cargo c2 is not at location l1cargo c2 is not present at location l1 and vehicle v0 does not contain cargo c2?\n",
      "\n",
      "\n",
      "True\n",
      "\n",
      "\n",
      "-------------------------- mystery ('fluent_tracking', 'iter_1_question_15') --------------------------\n",
      "Fuel level f4 neighbors fuel level f5, cargo c1 is situated at location l1, spaces s0 and s1 are neighbors, cargo c5 is situated at location l1, fuel-levels f7 and f8 are neighbors, cargo c3 is situated at location l0, fuel-levels f5 and f6 are neighbors, fuel-levels f6 and f7 are neighbors, cargo c0 is present at location l1, fuel-levels f1 and f2 are neighbors, cargo c7 is present at location l1, cargo c6 is at location l1, location l1 and location l0 are connected, cargo c10 is present at location l0, cargo v0 is present at location l1, cargo c8 is situated at location l1, fuel-levels f3 and f4 are neighbors, cargo c9 is at location l1, fuel-levels f2 and f3 are neighbors, cargo c2 is present at location l0, location l1 has a fuel-level of f6, vehicle v0 has space s1, fuel level f0 neighbors fuel level f1, cargo c4 is at location l1, location l0 has a fuel-level of f7 and location l0 and location l1 are connected.\n",
      "\n",
      "\n",
      "Given the initial condition, the following actions are performed: cargo c1 is loaded in vehicle v0 with space s1 and space s0 at location l1, vehicle v0 moves to location l0 from location l1 that has fuel level f6 and f5, cargo c1 is unloaded from vehicle v0 with space s0 and space s1 at location l0, vehicle v0 moves to location l1 from location l0 that has fuel level f7 and f6 and cargo c4 is loaded in vehicle v0 with space s1 and space s0 at location l1 to reach the current state. In this state, is it True or False that fuel-levels f5 and f1 are not neighbors?\n",
      "\n",
      "\n",
      "True\n",
      "\n",
      "\n",
      "-------------------------- mystery ('effects', 'iter_1_question_1') --------------------------\n",
      "Fuel level f4 neighbors fuel level f5, cargo c1 is at location l1, spaces s0 and s1 are neighbors, cargo c5 is at location l1, fuel-levels f7 and f8 are neighbors, cargo c3 is present at location l0, fuel level f5 neighbors fuel level f6, fuel level f6 neighbors fuel level f7, cargo c0 is present at location l1, fuel level f1 neighbors fuel level f2, cargo c7 is at location l1, cargo c6 is situated at location l1, location l1 and location l0 are connected, cargo c10 is present at location l0, cargo v0 is present at location l1, cargo c8 is at location l1, fuel level f3 neighbors fuel level f4, cargo c9 is present at location l1, fuel level f2 neighbors fuel level f3, cargo c2 is at location l0, location l1 has a fuel-level of f6, vehicle v0 contains space s1, fuel level f0 neighbors fuel level f1, cargo c4 is at location l1, fuel f7 exists in location l0 and location l0 is connected to location l1.\n",
      "\n",
      "\n",
      "Given the initial condition, the following actions are performed: cargo c1 is loaded in vehicle v0 with space s1 and space s0 at location l1, vehicle v0 moves from location l1 which has fuel-levels f6 and f5 to location l0, at location l0, cargo c1 is unloaded from vehicle v0 with spaces s0 and s1, vehicle v0 moves from location l0 which has fuel-levels f7 and f6 to location l1 and at location l1, cargo c4 is loaded in vehicle v0 with spaces s1 and s0 to reach the current state. In this state, if vehicle v0 moves to location l0 from location l1 that has fuel level f5 and f4, is it True or False that no properties of the state change?\n",
      "\n",
      "\n",
      "True\n",
      "\n",
      "\n",
      "-------------------------- mystery ('effects', 'iter_1_question_4') --------------------------\n",
      "Fuel level f4 neighbors fuel level f5, cargo c1 is at location l1, spaces s0 and s1 are neighbors, cargo c5 is at location l1, fuel-levels f7 and f8 are neighbors, cargo c3 is present at location l0, fuel level f5 neighbors fuel level f6, fuel level f6 neighbors fuel level f7, cargo c0 is present at location l1, fuel level f1 neighbors fuel level f2, cargo c7 is at location l1, cargo c6 is situated at location l1, location l1 and location l0 are connected, cargo c10 is present at location l0, cargo v0 is present at location l1, cargo c8 is at location l1, fuel level f3 neighbors fuel level f4, cargo c9 is present at location l1, fuel level f2 neighbors fuel level f3, cargo c2 is at location l0, location l1 has a fuel-level of f6, vehicle v0 contains space s1, fuel level f0 neighbors fuel level f1, cargo c4 is at location l1, fuel f7 exists in location l0 and location l0 is connected to location l1.\n",
      "\n",
      "\n",
      "Given the initial condition, the following actions are performed: cargo c1 is loaded in vehicle v0 with space s1 and space s0 at location l1, vehicle v0 moves from location l1 which has fuel-levels f6 and f5 to location l0, cargo c1 is unloaded from vehicle v0 with space s0 and space s1 at location l0, vehicle v0 moves to location l1 from location l0 that has fuel level f7 and f6 and cargo c4 is loaded in vehicle v0 with space s1 and space s0 at location l1 to reach the current state. In this state, if vehicle v0 moves to location l0 from location l1 that has fuel level f5 and f4, is it True or False that no properties of the state change?\n",
      "\n",
      "\n",
      "False\n",
      "\n",
      "\n",
      "-------------------------- mystery ('object_tracking', 'iter_1_question_21') --------------------------\n",
      "Fuel level f4 neighbors fuel level f5, cargo c1 is present at location l1, space s0 neighbors space s1, cargo c5 is situated at location l1, fuel-levels f7 and f8 are neighbors, cargo c3 is at location l0, fuel-levels f5 and f6 are neighbors, fuel level f6 neighbors fuel level f7, cargo c0 is situated at location l1, fuel level f1 neighbors fuel level f2, cargo c7 is situated at location l1, cargo c6 is situated at location l1, location l1 and location l0 are connected, cargo c10 is present at location l0, cargo v0 is present at location l1, cargo c8 is at location l1, fuel level f3 neighbors fuel level f4, cargo c9 is at location l1, fuel-levels f2 and f3 are neighbors, cargo c2 is at location l0, location l1 has a fuel-level of f6, vehicle v0 has space s1, fuel-levels f0 and f1 are neighbors, cargo c4 is present at location l1, location l0 has fuel f7 and location l0 is connected to location l1.\n",
      "\n",
      "\n",
      "Given the initial condition, the following actions are performed: at location l1, cargo c1 is loaded in vehicle v0 with spaces s1 and s0, vehicle v0 moves from location l1 which has fuel-levels f6 and f5 to location l0, cargo c1 is unloaded from vehicle v0 with space s0 and space s1 at location l0, vehicle v0 moves to location l1 from location l0 that has fuel level f7 and f6 and cargo c4 is loaded in vehicle v0 with space s1 and space s0 at location l1 to reach the current state. In this state, is it True or False that the following properties of the state are correct for f0: fuel level f0 does not neighbour fuel level f6, fuel-levels f1 and f0 are not neighbors, fuel-levels f0 and f2 are not neighbors, fuel-levels f0 and f3 are not neighbors, fuel-levels f0 and f4 are not neighbors, fuel level f8 does not neighbour fuel level f0, fuel-levels f2 and f0 are not neighbors, fuel level f0 does not neighbour fuel level f5, fuel level f0 does not neighbour fuel level f8, fuel-levels f3 and f0 are not neighbors, fuel level f7 does not neighbour fuel level f0, fuel-levels f6 and f0 are not neighbors, fuel-levels f0 and f7 are not neighbors, fuel level f4 does not neighbour fuel level f0 and fuel level f5 does not neighbour fuel level f0?\n",
      "\n",
      "\n",
      "True\n",
      "\n",
      "\n",
      "-------------------------- mystery ('object_tracking', 'iter_1_question_24') --------------------------\n",
      "Fuel level f4 neighbors fuel level f5, cargo c1 is present at location l1, space s0 neighbors space s1, cargo c5 is situated at location l1, fuel-levels f7 and f8 are neighbors, cargo c3 is at location l0, fuel-levels f5 and f6 are neighbors, fuel level f6 neighbors fuel level f7, cargo c0 is situated at location l1, fuel level f1 neighbors fuel level f2, cargo c7 is situated at location l1, cargo c6 is situated at location l1, location l1 and location l0 are connected, cargo c10 is present at location l0, cargo v0 is present at location l1, cargo c8 is at location l1, fuel level f3 neighbors fuel level f4, cargo c9 is at location l1, fuel-levels f2 and f3 are neighbors, cargo c2 is at location l0, location l1 has a fuel-level of f6, vehicle v0 has space s1, fuel-levels f0 and f1 are neighbors, cargo c4 is present at location l1, location l0 has fuel f7 and location l0 is connected to location l1.\n",
      "\n",
      "\n",
      "Given the initial condition, the following actions are performed: cargo c1 is loaded in vehicle v0 with space s1 and space s0 at location l1, vehicle v0 moves from location l1 which has fuel-levels f6 and f5 to location l0, at location l0, cargo c1 is unloaded from vehicle v0 with spaces s0 and s1, vehicle v0 moves from location l0 which has fuel-levels f7 and f6 to location l1 and cargo c4 is loaded in vehicle v0 with space s1 and space s0 at location l1 to reach the current state. In this state, is it True or False that the following properties of the state are correct for f5: fuel-levels f4 and f5 are neighbors, fuel level f5 neighbors fuel level f6, fuel level f5 neighbors fuel level f8, fuel-levels f7 and f5 are neighbors, fuel-levels f5 and f3 are not neighbors, fuel level f0 neighbors fuel level f5, fuel level f2 neighbors fuel level f5, fuel level f5 neighbors fuel level f2, fuel level f5 does not neighbour fuel level f4, fuel-levels f5 and f7 are not neighbors, fuel level f3 neighbors fuel level f5, fuel level f1 does not neighbour fuel level f5, fuel-levels f8 and f5 are neighbors, fuel level f6 does not neighbour fuel level f5, fuel level f5 does not neighbour fuel level f1 and fuel-levels f5 and f0 are neighbors?\n",
      "\n",
      "\n",
      "False\n",
      "\n",
      "\n",
      "-------------------------- mystery ('fluent_tracking', 'iter_1_question_13') --------------------------\n",
      "Fuel level f4 neighbors fuel level f5, cargo c1 is situated at location l1, spaces s0 and s1 are neighbors, cargo c5 is situated at location l1, fuel-levels f7 and f8 are neighbors, cargo c3 is situated at location l0, fuel-levels f5 and f6 are neighbors, fuel-levels f6 and f7 are neighbors, cargo c0 is present at location l1, fuel-levels f1 and f2 are neighbors, cargo c7 is present at location l1, cargo c6 is at location l1, location l1 and location l0 are connected, cargo c10 is present at location l0, cargo v0 is present at location l1, cargo c8 is situated at location l1, fuel-levels f3 and f4 are neighbors, cargo c9 is at location l1, fuel-levels f2 and f3 are neighbors, cargo c2 is present at location l0, location l1 has a fuel-level of f6, vehicle v0 has space s1, fuel level f0 neighbors fuel level f1, cargo c4 is at location l1, location l0 has a fuel-level of f7 and location l0 and location l1 are connected.\n",
      "\n",
      "\n",
      "Given the initial condition, the following actions are performed: cargo c1 is loaded in vehicle v0 with space s1 and space s0 at location l1, vehicle v0 moves to location l0 from location l1 that has fuel level f6 and f5, cargo c1 is unloaded from vehicle v0 with space s0 and space s1 at location l0, vehicle v0 moves to location l1 from location l0 that has fuel level f7 and f6 and cargo c4 is loaded in vehicle v0 with space s1 and space s0 at location l1 to reach the current state. In this state, is it True or False that fuel level f1 neighbors fuel level f2?\n",
      "\n",
      "\n",
      "True\n",
      "\n",
      "\n",
      "-------------------------- mystery ('numerical_reasoning', 'iter_1_question_10') --------------------------\n",
      "Fuel-levels f4 and f5 are neighbors, cargo c1 is present at location l1, spaces s0 and s1 are neighbors, cargo c5 is situated at location l1, fuel-levels f7 and f8 are neighbors, cargo c3 is situated at location l0, fuel level f5 neighbors fuel level f6, fuel level f6 neighbors fuel level f7, cargo c0 is at location l1, fuel-levels f1 and f2 are neighbors, cargo c7 is situated at location l1, cargo c6 is present at location l1, there is a connection between locations l1 and l0, cargo c10 is situated at location l0, cargo v0 is at location l1, cargo c8 is present at location l1, fuel-levels f3 and f4 are neighbors, cargo c9 is present at location l1, fuel level f2 neighbors fuel level f3, cargo c2 is present at location l0, location l1 has a fuel-level of f6, vehicle v0 contains space s1, fuel-levels f0 and f1 are neighbors, cargo c4 is at location l1, location l0 has a fuel-level of f7 and there is a connection between locations l0 and l1.\n",
      "\n",
      "\n",
      "Given the initial condition, the following actions are performed: at location l1, cargo c1 is loaded in vehicle v0 with spaces s1 and s0, vehicle v0 moves from location l1 which has fuel-levels f6 and f5 to location l0, at location l0, cargo c1 is unloaded from vehicle v0 with spaces s0 and s1, vehicle v0 moves to location l1 from location l0 that has fuel level f7 and f6 and cargo c4 is loaded in vehicle v0 with space s1 and space s0 at location l1 to reach the current state. In this state, is the number of valid properties of the state that involve negations equal to 103? True or False\n",
      "\n",
      "\n",
      "False\n",
      "\n",
      "\n",
      "-------------------------- mystery ('numerical_reasoning', 'iter_2_question_3') --------------------------\n",
      "Fuel-levels f4 and f5 are neighbors, cargo c1 is present at location l1, spaces s0 and s1 are neighbors, cargo c5 is situated at location l1, fuel-levels f7 and f8 are neighbors, cargo c3 is situated at location l0, fuel level f5 neighbors fuel level f6, fuel level f6 neighbors fuel level f7, cargo c0 is at location l1, fuel-levels f1 and f2 are neighbors, cargo c7 is situated at location l1, cargo c6 is present at location l1, there is a connection between locations l1 and l0, cargo c10 is situated at location l0, cargo v0 is at location l1, cargo c8 is present at location l1, fuel-levels f3 and f4 are neighbors, cargo c9 is present at location l1, fuel level f2 neighbors fuel level f3, cargo c2 is present at location l0, location l1 has a fuel-level of f6, vehicle v0 contains space s1, fuel-levels f0 and f1 are neighbors, cargo c4 is at location l1, location l0 has a fuel-level of f7 and there is a connection between locations l0 and l1.\n",
      "\n",
      "\n",
      "Given the initial condition, the following actions are performed: cargo c1 is loaded in vehicle v0 with space s1 and space s0 at location l1, vehicle v0 moves to location l0 from location l1 that has fuel level f6 and f5, at location l0, cargo c1 is unloaded from vehicle v0 with spaces s0 and s1, vehicle v0 moves from location l0 which has fuel-levels f7 and f6 to location l1 and cargo c4 is loaded in vehicle v0 with space s1 and space s0 at location l1 to reach the current state. In this state, what is the total number of inexecutable actions? Write as a decimal. Write None if there are none.\n",
      "\n",
      "\n",
      "230\n"
     ]
    }
   ],
   "source": [
    "import random\n",
    "for key, qa_object in random.sample(list(qa_dict.items()), 10):\n",
    "    print('--------------------------',domain_name, key, '--------------------------')\n",
    "    print(qa_object['initial_state_nl'])\n",
    "    print('\\n')\n",
    "    print(qa_object['question'])\n",
    "    print('\\n')\n",
    "    print(qa_object['answer'])\n",
    "    print('\\n')"
   ],
   "metadata": {
    "collapsed": false,
    "ExecuteTime": {
     "end_time": "2024-04-08T21:29:54.131317Z",
     "start_time": "2024-04-08T21:29:54.122863Z"
    }
   },
   "id": "58ff8bfda016e744",
   "execution_count": 50
  },
  {
   "cell_type": "code",
   "outputs": [],
   "source": [],
   "metadata": {
    "collapsed": false
   },
   "id": "18cfbe9aa3836426"
  }
 ],
 "metadata": {
  "kernelspec": {
   "display_name": "Python 3",
   "language": "python",
   "name": "python3"
  },
  "language_info": {
   "codemirror_mode": {
    "name": "ipython",
    "version": 2
   },
   "file_extension": ".py",
   "mimetype": "text/x-python",
   "name": "python",
   "nbconvert_exporter": "python",
   "pygments_lexer": "ipython2",
   "version": "2.7.6"
  }
 },
 "nbformat": 4,
 "nbformat_minor": 5
}
