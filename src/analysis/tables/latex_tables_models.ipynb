{
 "cells": [
  {
   "cell_type": "code",
   "outputs": [],
   "source": [
    "def to_df(results_all, answer_type, plan_length, domain):\n",
    "    d_ramifications_pretty = {\n",
    "        WITH_RAMIFICATIONS : 'R',\n",
    "        WITHOUT_RAMIFICATIONS : 'No R'\n",
    "    }\n",
    "    d_answer_type_pretty = {\n",
    "        TRUE_FALSE_ANSWER_TYPE : 'T/F',\n",
    "        FREE_ANSWER_TYPE : 'Free'\n",
    "    }\n",
    "    \n",
    "    index = []\n",
    "    data = []\n",
    "    for question_category in QUESTION_CATEGORIES + [ALL_CATEGORIES_KEY]:\n",
    "        for ramifications in RAMIFICATION_TYPES:\n",
    "            index.append((plan_length, question_category, d_ramifications_pretty[ramifications], d_answer_type_pretty[answer_type]))\n",
    "            data_columns = {}\n",
    "            for model_name in PROMPT_MODEL_NAMES:\n",
    "                for prompt_type in PROMPT_TYPES:\n",
    "                    instance = filter_single_selector(results_all, plan_length, question_category, ramifications, model_name, prompt_type, domain,\n",
    "                          answer_type, WITHOUT_RANDOM_SUB)\n",
    "                    if len(instance) == 0:\n",
    "                        data_columns[(model_name, prompt_type)] = None\n",
    "                    elif not len(instance) == 1: \n",
    "                        raise ValueError(f'len(instance) == {len(instance)}')\n",
    "                    else:\n",
    "                        data_columns[(model_name, prompt_type)] = instance[0][SK_RESULT]\n",
    "            data.append(data_columns)\n",
    "    return pd.DataFrame(data, index = index)\n",
    "\n",
    "def df_to_latex_table(df):\n",
    "        latex_table = df.to_latex(index=True, formatters={\"name\": str.upper}, float_format=\"{:.2f}\".format)\n",
    "        return latex_table[latex_table.find('\\midrule'):].replace(\"bottomrule\", 'crap').replace(\"\\crap\", '').replace(\"\\end{tabular}\", '')\n",
    "\n",
    "def assemble_table(results_all, answer_type, domain, score_key=None):\n",
    "    latex_table_all = ''\n",
    "    with open('latex_table_template/top') as f:\n",
    "        latex_table_all += f.read() + '\\n'\n",
    "    latex_table_all += '\\n'.join([df_to_latex_table(to_df(results_all, answer_type, plan_length, domain)) for plan_length in PLAN_LENGTHS])\n",
    "    with open('latex_table_template/bottom') as f:\n",
    "        latex_table_all += f.read()\n",
    "    \n",
    "    caption = f'{answer_type}, {score_key} scores for {domain}'.replace('_', ' ')\n",
    "    latex_table_all = latex_table_all.replace('REPLACE_CAPTION_KEY', caption)\n",
    "    \n",
    "    return latex_table_all\n"
   ],
   "metadata": {
    "collapsed": false,
    "ExecuteTime": {
     "end_time": "2024-04-19T21:20:31.842027Z",
     "start_time": "2024-04-19T21:20:31.828986Z"
    }
   },
   "id": "dd77fda858739d0e",
   "execution_count": 4
  },
  {
   "cell_type": "code",
   "outputs": [],
   "source": [
    "import sys\n",
    "import json\n",
    "sys.path.append('..')\n",
    "\n",
    "from src.common import *\n",
    "from model_performances import *\n",
    "from copy import deepcopy\n",
    "\n",
    "import pandas as pd\n",
    "\n",
    "EVERYTHING_POSTFIX = 'everything'"
   ],
   "metadata": {
    "collapsed": false,
    "ExecuteTime": {
     "end_time": "2024-04-19T21:20:32.552832Z",
     "start_time": "2024-04-19T21:20:32.546406Z"
    }
   },
   "id": "1581e9208ff09f8e",
   "execution_count": 5
  },
  {
   "cell_type": "code",
   "outputs": [],
   "source": [
    "def collect_results_all(answer_response_type):\n",
    "    results_all = []\n",
    "    for domain, plan_length, question_category, ramifications, random_sub, model_name, prompt_type in for_loop_it():\n",
    "        dir = results_data_path(answer_response_type, domain, plan_length, question_category, ramifications, random_sub, model_name, prompt_type)\n",
    "        path = os.path.join(dir, RESULTS_FILE_NAME)\n",
    "        if os.path.exists(path):\n",
    "            with open(path) as f:\n",
    "                results_all.append(json.load(f))\n",
    "    return results_all\n"
   ],
   "metadata": {
    "collapsed": false,
    "ExecuteTime": {
     "end_time": "2024-04-19T21:20:33.277871Z",
     "start_time": "2024-04-19T21:20:33.272252Z"
    }
   },
   "id": "dfb726b7f5004268",
   "execution_count": 6
  },
  {
   "cell_type": "code",
   "outputs": [
    {
     "name": "stderr",
     "output_type": "stream",
     "text": [
      "100%|██████████| 16128/16128 [00:01<00:00, 8974.72it/s] \n"
     ]
    }
   ],
   "source": [
    "answer_type = TRUE_FALSE_ANSWER_TYPE #FREE_ANSWER#\n",
    "score_key = F1_SCORE_KEY#'accuracy'\n",
    "results_all = collect_results_all(tf_answer_type(score_key = F1_SCORE_KEY))\n",
    "# results_all = open_jsonl(os.path.join(STATISTICS_PATH, save_stats_file(answer_type, score_key)))\n",
    "\n",
    "domain = ALL_DOMAINS_KEY\n",
    "\n",
    "# for domain in DOMAIN_NAMES + [ALL_DOMAINS_KEY]:\n",
    "#     latex_table_all = assemble_table(results_all, answer_type, domain, score_key=score_key)\n",
    "#     os.makedirs(os.path.join(STATISTICS_PATH, 'tables'), exist_ok=True)\n",
    "#     with open(os.path.join(STATISTICS_PATH, 'tables', f'{domain}.{answer_type}.{score_key}.tex'), 'w') as f:\n",
    "#         f.write(latex_table_all)\n",
    "\n",
    "plan_length = 1\n",
    "df = to_df(results_all, answer_type, plan_length, domain)\n"
   ],
   "metadata": {
    "collapsed": false,
    "ExecuteTime": {
     "end_time": "2024-04-19T21:37:17.428220Z",
     "start_time": "2024-04-19T21:37:15.223161Z"
    }
   },
   "id": "8fb4feeb322b4ab0",
   "execution_count": 8
  },
  {
   "cell_type": "code",
   "outputs": [
    {
     "data": {
      "text/plain": "                                      (gemma-2b-it, few_shot_1)  \\\n(1, object_tracking, R, T/F)                           0.031156   \n(1, object_tracking, No R, T/F)                        0.022500   \n(1, fluent_tracking, R, T/F)                           0.161350   \n(1, fluent_tracking, No R, T/F)                        0.155067   \n(1, state_tracking, R, T/F)                            0.405000   \n(1, state_tracking, No R, T/F)                         0.400990   \n(1, action_executability, R, T/F)                      0.128906   \n(1, action_executability, No R, T/F)                   0.125969   \n(1, effects, R, T/F)                                   0.029768   \n(1, effects, No R, T/F)                                0.023001   \n(1, numerical_reasoning, R, T/F)                       0.021094   \n(1, numerical_reasoning, No R, T/F)                    0.021318   \n(1, hallucination, R, T/F)                             0.016688   \n(1, hallucination, No R, T/F)                          0.019770   \n(1, all_categories, R, T/F)                            0.073062   \n(1, all_categories, No R, T/F)                         0.069101   \n\n                                     (gemma-2b-it, few_shot_3)  \\\n(1, object_tracking, R, T/F)                              None   \n(1, object_tracking, No R, T/F)                           None   \n(1, fluent_tracking, R, T/F)                              None   \n(1, fluent_tracking, No R, T/F)                           None   \n(1, state_tracking, R, T/F)                               None   \n(1, state_tracking, No R, T/F)                            None   \n(1, action_executability, R, T/F)                         None   \n(1, action_executability, No R, T/F)                      None   \n(1, effects, R, T/F)                                      None   \n(1, effects, No R, T/F)                                   None   \n(1, numerical_reasoning, R, T/F)                          None   \n(1, numerical_reasoning, No R, T/F)                       None   \n(1, hallucination, R, T/F)                                None   \n(1, hallucination, No R, T/F)                             None   \n(1, all_categories, R, T/F)                               None   \n(1, all_categories, No R, T/F)                            None   \n\n                                     (gemma-2b-it, few_shot_5)  \\\n(1, object_tracking, R, T/F)                              None   \n(1, object_tracking, No R, T/F)                           None   \n(1, fluent_tracking, R, T/F)                              None   \n(1, fluent_tracking, No R, T/F)                           None   \n(1, state_tracking, R, T/F)                               None   \n(1, state_tracking, No R, T/F)                            None   \n(1, action_executability, R, T/F)                         None   \n(1, action_executability, No R, T/F)                      None   \n(1, effects, R, T/F)                                      None   \n(1, effects, No R, T/F)                                   None   \n(1, numerical_reasoning, R, T/F)                          None   \n(1, numerical_reasoning, No R, T/F)                       None   \n(1, hallucination, R, T/F)                                None   \n(1, hallucination, No R, T/F)                             None   \n(1, all_categories, R, T/F)                               None   \n(1, all_categories, No R, T/F)                            None   \n\n                                      (Llama-2-7b-chat-hf, few_shot_1)  \\\n(1, object_tracking, R, T/F)                                  0.167051   \n(1, object_tracking, No R, T/F)                               0.169412   \n(1, fluent_tracking, R, T/F)                                  0.286730   \n(1, fluent_tracking, No R, T/F)                               0.293312   \n(1, state_tracking, R, T/F)                                   0.428571   \n(1, state_tracking, No R, T/F)                                0.392857   \n(1, action_executability, R, T/F)                             0.221311   \n(1, action_executability, No R, T/F)                          0.179167   \n(1, effects, R, T/F)                                          0.161483   \n(1, effects, No R, T/F)                                       0.174390   \n(1, numerical_reasoning, R, T/F)                              0.263115   \n(1, numerical_reasoning, No R, T/F)                           0.277500   \n(1, hallucination, R, T/F)                                    0.182073   \n(1, hallucination, No R, T/F)                                 0.172857   \n(1, all_categories, R, T/F)                                   0.225211   \n(1, all_categories, No R, T/F)                                0.229097   \n\n                                      (Llama-2-7b-chat-hf, few_shot_3)  \\\n(1, object_tracking, R, T/F)                                  0.294849   \n(1, object_tracking, No R, T/F)                               0.281915   \n(1, fluent_tracking, R, T/F)                                  0.317757   \n(1, fluent_tracking, No R, T/F)                               0.314741   \n(1, state_tracking, R, T/F)                                   1.000000   \n(1, state_tracking, No R, T/F)                                0.500000   \n(1, action_executability, R, T/F)                             0.191489   \n(1, action_executability, No R, T/F)                          0.191489   \n(1, effects, R, T/F)                                          0.252427   \n(1, effects, No R, T/F)                                       0.257282   \n(1, numerical_reasoning, R, T/F)                              0.281915   \n(1, numerical_reasoning, No R, T/F)                           0.268085   \n(1, hallucination, R, T/F)                                    0.194656   \n(1, hallucination, No R, T/F)                                 0.173664   \n(1, all_categories, R, T/F)                                   0.269048   \n(1, all_categories, No R, T/F)                                0.260518   \n\n                                      (Llama-2-7b-chat-hf, few_shot_5)  \n(1, object_tracking, R, T/F)                                  0.377315  \n(1, object_tracking, No R, T/F)                               0.399538  \n(1, fluent_tracking, R, T/F)                                  0.344178  \n(1, fluent_tracking, No R, T/F)                               0.355172  \n(1, state_tracking, R, T/F)                                        NaN  \n(1, state_tracking, No R, T/F)                                     NaN  \n(1, action_executability, R, T/F)                             0.270270  \n(1, action_executability, No R, T/F)                          0.229730  \n(1, effects, R, T/F)                                          0.382231  \n(1, effects, No R, T/F)                                       0.373967  \n(1, numerical_reasoning, R, T/F)                              0.287838  \n(1, numerical_reasoning, No R, T/F)                           0.278378  \n(1, hallucination, R, T/F)                                    0.195122  \n(1, hallucination, No R, T/F)                                 0.202439  \n(1, all_categories, R, T/F)                                   0.315225  \n(1, all_categories, No R, T/F)                                0.315921  ",
      "text/html": "<div>\n<style scoped>\n    .dataframe tbody tr th:only-of-type {\n        vertical-align: middle;\n    }\n\n    .dataframe tbody tr th {\n        vertical-align: top;\n    }\n\n    .dataframe thead th {\n        text-align: right;\n    }\n</style>\n<table border=\"1\" class=\"dataframe\">\n  <thead>\n    <tr style=\"text-align: right;\">\n      <th></th>\n      <th>(gemma-2b-it, few_shot_1)</th>\n      <th>(gemma-2b-it, few_shot_3)</th>\n      <th>(gemma-2b-it, few_shot_5)</th>\n      <th>(Llama-2-7b-chat-hf, few_shot_1)</th>\n      <th>(Llama-2-7b-chat-hf, few_shot_3)</th>\n      <th>(Llama-2-7b-chat-hf, few_shot_5)</th>\n    </tr>\n  </thead>\n  <tbody>\n    <tr>\n      <th>(1, object_tracking, R, T/F)</th>\n      <td>0.031156</td>\n      <td>None</td>\n      <td>None</td>\n      <td>0.167051</td>\n      <td>0.294849</td>\n      <td>0.377315</td>\n    </tr>\n    <tr>\n      <th>(1, object_tracking, No R, T/F)</th>\n      <td>0.022500</td>\n      <td>None</td>\n      <td>None</td>\n      <td>0.169412</td>\n      <td>0.281915</td>\n      <td>0.399538</td>\n    </tr>\n    <tr>\n      <th>(1, fluent_tracking, R, T/F)</th>\n      <td>0.161350</td>\n      <td>None</td>\n      <td>None</td>\n      <td>0.286730</td>\n      <td>0.317757</td>\n      <td>0.344178</td>\n    </tr>\n    <tr>\n      <th>(1, fluent_tracking, No R, T/F)</th>\n      <td>0.155067</td>\n      <td>None</td>\n      <td>None</td>\n      <td>0.293312</td>\n      <td>0.314741</td>\n      <td>0.355172</td>\n    </tr>\n    <tr>\n      <th>(1, state_tracking, R, T/F)</th>\n      <td>0.405000</td>\n      <td>None</td>\n      <td>None</td>\n      <td>0.428571</td>\n      <td>1.000000</td>\n      <td>NaN</td>\n    </tr>\n    <tr>\n      <th>(1, state_tracking, No R, T/F)</th>\n      <td>0.400990</td>\n      <td>None</td>\n      <td>None</td>\n      <td>0.392857</td>\n      <td>0.500000</td>\n      <td>NaN</td>\n    </tr>\n    <tr>\n      <th>(1, action_executability, R, T/F)</th>\n      <td>0.128906</td>\n      <td>None</td>\n      <td>None</td>\n      <td>0.221311</td>\n      <td>0.191489</td>\n      <td>0.270270</td>\n    </tr>\n    <tr>\n      <th>(1, action_executability, No R, T/F)</th>\n      <td>0.125969</td>\n      <td>None</td>\n      <td>None</td>\n      <td>0.179167</td>\n      <td>0.191489</td>\n      <td>0.229730</td>\n    </tr>\n    <tr>\n      <th>(1, effects, R, T/F)</th>\n      <td>0.029768</td>\n      <td>None</td>\n      <td>None</td>\n      <td>0.161483</td>\n      <td>0.252427</td>\n      <td>0.382231</td>\n    </tr>\n    <tr>\n      <th>(1, effects, No R, T/F)</th>\n      <td>0.023001</td>\n      <td>None</td>\n      <td>None</td>\n      <td>0.174390</td>\n      <td>0.257282</td>\n      <td>0.373967</td>\n    </tr>\n    <tr>\n      <th>(1, numerical_reasoning, R, T/F)</th>\n      <td>0.021094</td>\n      <td>None</td>\n      <td>None</td>\n      <td>0.263115</td>\n      <td>0.281915</td>\n      <td>0.287838</td>\n    </tr>\n    <tr>\n      <th>(1, numerical_reasoning, No R, T/F)</th>\n      <td>0.021318</td>\n      <td>None</td>\n      <td>None</td>\n      <td>0.277500</td>\n      <td>0.268085</td>\n      <td>0.278378</td>\n    </tr>\n    <tr>\n      <th>(1, hallucination, R, T/F)</th>\n      <td>0.016688</td>\n      <td>None</td>\n      <td>None</td>\n      <td>0.182073</td>\n      <td>0.194656</td>\n      <td>0.195122</td>\n    </tr>\n    <tr>\n      <th>(1, hallucination, No R, T/F)</th>\n      <td>0.019770</td>\n      <td>None</td>\n      <td>None</td>\n      <td>0.172857</td>\n      <td>0.173664</td>\n      <td>0.202439</td>\n    </tr>\n    <tr>\n      <th>(1, all_categories, R, T/F)</th>\n      <td>0.073062</td>\n      <td>None</td>\n      <td>None</td>\n      <td>0.225211</td>\n      <td>0.269048</td>\n      <td>0.315225</td>\n    </tr>\n    <tr>\n      <th>(1, all_categories, No R, T/F)</th>\n      <td>0.069101</td>\n      <td>None</td>\n      <td>None</td>\n      <td>0.229097</td>\n      <td>0.260518</td>\n      <td>0.315921</td>\n    </tr>\n  </tbody>\n</table>\n</div>"
     },
     "execution_count": 9,
     "metadata": {},
     "output_type": "execute_result"
    }
   ],
   "source": [
    "df"
   ],
   "metadata": {
    "collapsed": false,
    "ExecuteTime": {
     "end_time": "2024-04-19T21:37:26.470097Z",
     "start_time": "2024-04-19T21:37:26.405856Z"
    }
   },
   "id": "5b5a15905194ac6a",
   "execution_count": 9
  },
  {
   "cell_type": "code",
   "outputs": [
    {
     "data": {
      "text/plain": "[{'result': 0.08571428571428572,\n  'model': 'Llama-2-7b-chat-hf',\n  'prompt_type': 'few_shot_1',\n  'ramification_type': 'with_ramifications',\n  'substitution_type': 'with_random_sub',\n  'domain_name': 'blocksworld',\n  'plan_length': 1,\n  'question_category': 'object_tracking',\n  'answer_type': 'true_false_answer'}]"
     },
     "execution_count": 7,
     "metadata": {},
     "output_type": "execute_result"
    }
   ],
   "source": [
    "results_all[0]"
   ],
   "metadata": {
    "collapsed": false,
    "ExecuteTime": {
     "end_time": "2024-04-19T21:01:42.040933Z",
     "start_time": "2024-04-19T21:01:42.034941Z"
    }
   },
   "id": "f096656451a1a662",
   "execution_count": 7
  },
  {
   "cell_type": "code",
   "outputs": [],
   "source": [],
   "metadata": {
    "collapsed": false
   },
   "id": "63a61708b6738b85"
  }
 ],
 "metadata": {
  "kernelspec": {
   "display_name": "Python 3",
   "language": "python",
   "name": "python3"
  },
  "language_info": {
   "codemirror_mode": {
    "name": "ipython",
    "version": 2
   },
   "file_extension": ".py",
   "mimetype": "text/x-python",
   "name": "python",
   "nbconvert_exporter": "python",
   "pygments_lexer": "ipython2",
   "version": "2.7.6"
  }
 },
 "nbformat": 4,
 "nbformat_minor": 5
}
