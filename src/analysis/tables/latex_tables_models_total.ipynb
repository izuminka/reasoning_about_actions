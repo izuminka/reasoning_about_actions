{
 "cells": [
  {
   "cell_type": "code",
   "outputs": [],
   "source": [
    "import sys\n",
    "import json\n",
    "sys.path.append('..')\n",
    "from src.common import *\n",
    "from src.analysis.model_performances import *\n",
    "from copy import deepcopy\n",
    "\n",
    "import pandas as pd\n",
    "\n",
    "EVERYTHING_POSTFIX = 'everything'"
   ],
   "metadata": {
    "collapsed": false,
    "ExecuteTime": {
     "end_time": "2024-05-17T07:05:05.040687Z",
     "start_time": "2024-05-17T07:05:05.036530Z"
    }
   },
   "id": "1581e9208ff09f8e",
   "execution_count": 69
  },
  {
   "cell_type": "code",
   "outputs": [],
   "source": [
    "def to_df(results_all, plan_lengths, answer_type, \n",
    "          question_category = ALL_QUESTION_CATEGORIES_KEY,  domain = ALL_DOMAINS_KEY, subs = WITHOUT_RANDOM_SUB):\n",
    "    \n",
    "    to_pretty = {\n",
    "        WITH_RAMIFICATIONS : 'R',\n",
    "        WITHOUT_RAMIFICATIONS : 'No R',\n",
    "        'gemma-2b': 'G-2b', \n",
    "        'llama2-7b-chat': 'L-7b', \n",
    "        'llama2-13b-chat': 'L-7b',\n",
    "        'few_shot_1': 'FS-1',\n",
    "        'few_shot_3': 'FS-3',\n",
    "        'few_shot_5': 'FS-5',\n",
    "        'gemini': 'gemini'}\n",
    "\n",
    "    index = []\n",
    "    data = []    \n",
    "    for plan_length in plan_lengths:\n",
    "        for ramifications in RAMIFICATION_TYPES:\n",
    "            index.append((plan_length, to_pretty[ramifications]))\n",
    "            data_columns = {}\n",
    "            for model_name in PROMPT_MODEL_NAMES:\n",
    "                for prompt_type in PROMPT_TYPES:\n",
    "                    res_obj = filter_single_selector(results_all, plan_length, question_category, ramifications, model_name, prompt_type, domain, answer_type, subs)\n",
    "                    # print(res_obj)\n",
    "                    if res_obj:\n",
    "                        mean = res_obj['result']\n",
    "                        sem = None\n",
    "                        if res_obj['result_other']:\n",
    "                            sem = res_obj['result_other']['sem']\n",
    "                        not_corrupted = res_obj['stats']['num_not_corrupted']\n",
    "                        final_res = (mean, sem, not_corrupted)\n",
    "                    else:\n",
    "                        final_res = (None, None, None)\n",
    "                    final_res = tuple([round(v*100, 2) if v else v for v in final_res ])\n",
    "                    final_res = '${'+str(final_res[0])+'}_{'+str(final_res[1])+'}$'\n",
    "                    data_columns[(model_name, prompt_type)] = final_res\n",
    "            data.append(data_columns)\n",
    "    return pd.DataFrame(data, index = index)\n",
    "\n",
    "def df_to_latex_table(df):\n",
    "        latex_table = df.to_latex(index=True, formatters={\"name\": str.upper}, float_format=\"{:.2f}\".format)\n",
    "        return latex_table[latex_table.find('\\midrule'):].replace(\"bottomrule\", 'crap').replace(\"\\crap\", '').replace(\"\\end{tabular}\", '')\n",
    "\n",
    "def assemble_table(results_all, answer_type, domain, score_key=None):\n",
    "    latex_table_all = ''\n",
    "    with open('latex_table_template/top') as f:\n",
    "        latex_table_all += f.read() + '\\n'\n",
    "    latex_table_all += '\\n'.join([df_to_latex_table(to_df(results_all, answer_type, plan_length, domain)) for plan_length in PLAN_LENGTHS])\n",
    "    with open('latex_table_template/bottom') as f:\n",
    "        latex_table_all += f.read()\n",
    "    \n",
    "    caption = f'{answer_type}, {score_key} scores for {domain}'.replace('_', ' ')\n",
    "    latex_table_all = latex_table_all.replace('REPLACE_CAPTION_KEY', caption)\n",
    "    \n",
    "    return latex_table_all\n"
   ],
   "metadata": {
    "collapsed": false,
    "ExecuteTime": {
     "end_time": "2024-05-17T07:09:43.673474Z",
     "start_time": "2024-05-17T07:09:43.660385Z"
    }
   },
   "id": "dd77fda858739d0e",
   "execution_count": 80
  },
  {
   "cell_type": "code",
   "outputs": [
    {
     "name": "stderr",
     "output_type": "stream",
     "text": [
      "100%|██████████| 34560/34560 [00:01<00:00, 24189.69it/s]\n"
     ]
    },
    {
     "name": "stdout",
     "output_type": "stream",
     "text": [
      "9955\n"
     ]
    }
   ],
   "source": [
    "answer_type = TRUE_FALSE_ANSWER_TYPE #FREE_ANSWER#\n",
    "score_key = ACCURACY_SCORE_KEY #F1_SCORE_KEY#'accuracy'\n",
    "answer_type_ext = tf_answer_type(score_key = score_key)\n",
    "\n",
    "ids_file_name = 'dataset_ids.test'  # None\n",
    "save_main_dir = f'{STATISTICS_PATH}.{ids_file_name}'\n",
    "stats_all = collect_stats_all(tf_answer_type(score_key = score_key), save_main_dir=save_main_dir)\n",
    "print(len(stats_all))\n",
    "plan_lengths = [1,10,19]\n",
    "\n",
    "subs = WITH_RANDOM_SUB\n",
    "df = to_df(stats_all, plan_lengths, answer_type, subs=subs)"
   ],
   "metadata": {
    "collapsed": false,
    "ExecuteTime": {
     "end_time": "2024-05-17T07:09:46.265551Z",
     "start_time": "2024-05-17T07:09:44.013178Z"
    }
   },
   "id": "8fb4feeb322b4ab0",
   "execution_count": 81
  },
  {
   "cell_type": "code",
   "outputs": [
    {
     "data": {
      "text/plain": "           (gemma-2b, few_shot_1) (gemma-2b, few_shot_3)  \\\n(1, R)            ${44.2}_{1.29}$        ${33.57}_{1.2}$   \n(1, No R)         ${44.87}_{1.3}$       ${35.88}_{1.27}$   \n(10, R)           ${42.67}_{1.2}$       ${35.04}_{1.18}$   \n(10, No R)       ${43.59}_{1.21}$       ${36.65}_{1.19}$   \n(19, R)          ${44.98}_{1.42}$        ${30.3}_{1.33}$   \n(19, No R)        ${45.6}_{1.41}$       ${31.77}_{1.32}$   \n\n           (gemma-2b, few_shot_5) (llama2-7b-chat, few_shot_1)  \\\n(1, R)           ${31.03}_{1.36}$             ${48.05}_{1.31}$   \n(1, No R)         ${32.86}_{1.4}$             ${50.49}_{1.28}$   \n(10, R)          ${24.16}_{1.14}$             ${45.78}_{1.23}$   \n(10, No R)       ${24.95}_{1.16}$              ${47.27}_{1.2}$   \n(19, R)            ${9.25}_{1.0}$             ${47.01}_{1.48}$   \n(19, No R)        ${8.35}_{0.94}$              ${44.77}_{1.4}$   \n\n           (llama2-7b-chat, few_shot_3) (llama2-7b-chat, few_shot_5)  \\\n(1, R)                 ${43.52}_{1.37}$             ${58.13}_{2.71}$   \n(1, No R)              ${47.07}_{1.78}$             ${50.66}_{2.57}$   \n(10, R)                ${37.76}_{1.41}$             ${45.71}_{5.95}$   \n(10, No R)              ${49.0}_{1.96}$             ${53.09}_{5.54}$   \n(19, R)                ${24.55}_{2.18}$              ${None}_{None}$   \n(19, No R)             ${47.31}_{3.86}$              ${None}_{None}$   \n\n           (llama2-13b-chat, few_shot_1) (llama2-13b-chat, few_shot_3)  \\\n(1, R)                  ${53.14}_{1.35}$              ${55.48}_{1.77}$   \n(1, No R)                ${51.93}_{1.3}$              ${54.58}_{1.79}$   \n(10, R)                 ${52.33}_{1.25}$              ${54.75}_{2.02}$   \n(10, No R)              ${52.92}_{1.21}$              ${52.93}_{1.99}$   \n(19, R)                  ${52.81}_{1.5}$              ${51.02}_{5.05}$   \n(19, No R)              ${53.27}_{1.42}$              ${46.45}_{4.01}$   \n\n           (llama2-13b-chat, few_shot_5) (gemini, few_shot_1)  \\\n(1, R)                  ${54.52}_{2.73}$     ${65.17}_{1.24}$   \n(1, No R)               ${51.19}_{2.57}$      ${None}_{None}$   \n(10, R)                 ${47.14}_{5.97}$     ${61.78}_{1.18}$   \n(10, No R)              ${48.15}_{5.55}$      ${None}_{None}$   \n(19, R)                  ${None}_{None}$     ${61.74}_{1.38}$   \n(19, No R)               ${None}_{None}$      ${None}_{None}$   \n\n           (gemini, few_shot_3) (gemini, few_shot_5)  \n(1, R)          ${None}_{None}$      ${None}_{None}$  \n(1, No R)       ${None}_{None}$      ${None}_{None}$  \n(10, R)         ${None}_{None}$      ${None}_{None}$  \n(10, No R)      ${None}_{None}$      ${None}_{None}$  \n(19, R)         ${None}_{None}$      ${None}_{None}$  \n(19, No R)      ${None}_{None}$      ${None}_{None}$  ",
      "text/html": "<div>\n<style scoped>\n    .dataframe tbody tr th:only-of-type {\n        vertical-align: middle;\n    }\n\n    .dataframe tbody tr th {\n        vertical-align: top;\n    }\n\n    .dataframe thead th {\n        text-align: right;\n    }\n</style>\n<table border=\"1\" class=\"dataframe\">\n  <thead>\n    <tr style=\"text-align: right;\">\n      <th></th>\n      <th>(gemma-2b, few_shot_1)</th>\n      <th>(gemma-2b, few_shot_3)</th>\n      <th>(gemma-2b, few_shot_5)</th>\n      <th>(llama2-7b-chat, few_shot_1)</th>\n      <th>(llama2-7b-chat, few_shot_3)</th>\n      <th>(llama2-7b-chat, few_shot_5)</th>\n      <th>(llama2-13b-chat, few_shot_1)</th>\n      <th>(llama2-13b-chat, few_shot_3)</th>\n      <th>(llama2-13b-chat, few_shot_5)</th>\n      <th>(gemini, few_shot_1)</th>\n      <th>(gemini, few_shot_3)</th>\n      <th>(gemini, few_shot_5)</th>\n    </tr>\n  </thead>\n  <tbody>\n    <tr>\n      <th>(1, R)</th>\n      <td>${44.2}_{1.29}$</td>\n      <td>${33.57}_{1.2}$</td>\n      <td>${31.03}_{1.36}$</td>\n      <td>${48.05}_{1.31}$</td>\n      <td>${43.52}_{1.37}$</td>\n      <td>${58.13}_{2.71}$</td>\n      <td>${53.14}_{1.35}$</td>\n      <td>${55.48}_{1.77}$</td>\n      <td>${54.52}_{2.73}$</td>\n      <td>${65.17}_{1.24}$</td>\n      <td>${None}_{None}$</td>\n      <td>${None}_{None}$</td>\n    </tr>\n    <tr>\n      <th>(1, No R)</th>\n      <td>${44.87}_{1.3}$</td>\n      <td>${35.88}_{1.27}$</td>\n      <td>${32.86}_{1.4}$</td>\n      <td>${50.49}_{1.28}$</td>\n      <td>${47.07}_{1.78}$</td>\n      <td>${50.66}_{2.57}$</td>\n      <td>${51.93}_{1.3}$</td>\n      <td>${54.58}_{1.79}$</td>\n      <td>${51.19}_{2.57}$</td>\n      <td>${None}_{None}$</td>\n      <td>${None}_{None}$</td>\n      <td>${None}_{None}$</td>\n    </tr>\n    <tr>\n      <th>(10, R)</th>\n      <td>${42.67}_{1.2}$</td>\n      <td>${35.04}_{1.18}$</td>\n      <td>${24.16}_{1.14}$</td>\n      <td>${45.78}_{1.23}$</td>\n      <td>${37.76}_{1.41}$</td>\n      <td>${45.71}_{5.95}$</td>\n      <td>${52.33}_{1.25}$</td>\n      <td>${54.75}_{2.02}$</td>\n      <td>${47.14}_{5.97}$</td>\n      <td>${61.78}_{1.18}$</td>\n      <td>${None}_{None}$</td>\n      <td>${None}_{None}$</td>\n    </tr>\n    <tr>\n      <th>(10, No R)</th>\n      <td>${43.59}_{1.21}$</td>\n      <td>${36.65}_{1.19}$</td>\n      <td>${24.95}_{1.16}$</td>\n      <td>${47.27}_{1.2}$</td>\n      <td>${49.0}_{1.96}$</td>\n      <td>${53.09}_{5.54}$</td>\n      <td>${52.92}_{1.21}$</td>\n      <td>${52.93}_{1.99}$</td>\n      <td>${48.15}_{5.55}$</td>\n      <td>${None}_{None}$</td>\n      <td>${None}_{None}$</td>\n      <td>${None}_{None}$</td>\n    </tr>\n    <tr>\n      <th>(19, R)</th>\n      <td>${44.98}_{1.42}$</td>\n      <td>${30.3}_{1.33}$</td>\n      <td>${9.25}_{1.0}$</td>\n      <td>${47.01}_{1.48}$</td>\n      <td>${24.55}_{2.18}$</td>\n      <td>${None}_{None}$</td>\n      <td>${52.81}_{1.5}$</td>\n      <td>${51.02}_{5.05}$</td>\n      <td>${None}_{None}$</td>\n      <td>${61.74}_{1.38}$</td>\n      <td>${None}_{None}$</td>\n      <td>${None}_{None}$</td>\n    </tr>\n    <tr>\n      <th>(19, No R)</th>\n      <td>${45.6}_{1.41}$</td>\n      <td>${31.77}_{1.32}$</td>\n      <td>${8.35}_{0.94}$</td>\n      <td>${44.77}_{1.4}$</td>\n      <td>${47.31}_{3.86}$</td>\n      <td>${None}_{None}$</td>\n      <td>${53.27}_{1.42}$</td>\n      <td>${46.45}_{4.01}$</td>\n      <td>${None}_{None}$</td>\n      <td>${None}_{None}$</td>\n      <td>${None}_{None}$</td>\n      <td>${None}_{None}$</td>\n    </tr>\n  </tbody>\n</table>\n</div>"
     },
     "execution_count": 82,
     "metadata": {},
     "output_type": "execute_result"
    }
   ],
   "source": [
    "df"
   ],
   "metadata": {
    "collapsed": false,
    "ExecuteTime": {
     "end_time": "2024-05-17T07:09:46.288371Z",
     "start_time": "2024-05-17T07:09:46.268570Z"
    }
   },
   "id": "5b5a15905194ac6a",
   "execution_count": 82
  },
  {
   "cell_type": "code",
   "outputs": [
    {
     "name": "stderr",
     "output_type": "stream",
     "text": [
      "/var/folders/_0/bqv6dr454lsgny6_gs_xb0q80000gn/T/ipykernel_91530/3505067252.py:40: FutureWarning: In future versions `DataFrame.to_latex` is expected to utilise the base implementation of `Styler.to_latex` for formatting and rendering. The arguments signature may therefore change. It is recommended instead to use `DataFrame.style.to_latex` which also contains additional functionality.\n",
      "  latex_table = df.to_latex(index=True, formatters={\"name\": str.upper}, float_format=\"{:.2f}\".format)\n"
     ]
    },
    {
     "data": {
      "text/plain": "'\\\\midrule\\n(1, R)     &       ${46.62}_{1.14}$ &       ${41.73}_{1.19}$ &       ${36.21}_{1.23}$ &             ${46.84}_{1.69}$ &             ${48.58}_{1.38}$ &             ${53.23}_{1.64}$ &              ${50.93}_{1.19}$ &              ${56.12}_{0.99}$ &              ${54.73}_{1.63}$ &     ${67.02}_{1.12}$ &      ${None}_{None}$ &      ${None}_{None}$ \\\\\\\\\\n(1, No R)  &       ${46.24}_{1.18}$ &       ${41.15}_{1.17}$ &       ${36.46}_{1.23}$ &             ${48.48}_{1.18}$ &             ${47.73}_{1.37}$ &              ${52.8}_{1.62}$ &               ${None}_{None}$ &               ${None}_{None}$ &               ${None}_{None}$ &     ${67.02}_{1.11}$ &      ${None}_{None}$ &     ${68.52}_{1.11}$ \\\\\\\\\\n(10, R)    &       ${45.24}_{1.14}$ &        ${38.1}_{1.16}$ &       ${33.27}_{1.21}$ &             ${47.22}_{1.76}$ &             ${49.75}_{1.45}$ &              ${54.7}_{1.88}$ &              ${48.38}_{1.18}$ &              ${53.81}_{1.03}$ &              ${52.71}_{1.88}$ &     ${62.52}_{1.14}$ &      ${None}_{None}$ &      ${None}_{None}$ \\\\\\\\\\n(10, No R) &       ${43.65}_{1.17}$ &       ${36.58}_{1.14}$ &        ${33.16}_{1.2}$ &             ${46.46}_{1.17}$ &             ${48.08}_{1.41}$ &             ${52.64}_{1.89}$ &               ${None}_{None}$ &               ${None}_{None}$ &               ${None}_{None}$ &     ${63.27}_{1.13}$ &      ${None}_{None}$ &      ${64.6}_{1.14}$ \\\\\\\\\\n(19, R)    &       ${45.17}_{1.15}$ &       ${36.98}_{1.15}$ &       ${28.22}_{1.21}$ &              ${48.89}_{1.8}$ &             ${51.83}_{1.59}$ &             ${52.66}_{2.45}$ &               ${49.71}_{1.2}$ &               ${54.2}_{1.14}$ &              ${57.49}_{2.43}$ &     ${62.34}_{1.15}$ &      ${None}_{None}$ &      ${None}_{None}$ \\\\\\\\\\n(19, No R) &       ${44.66}_{1.18}$ &        ${36.0}_{1.15}$ &       ${27.93}_{1.21}$ &             ${47.47}_{1.18}$ &             ${50.57}_{1.55}$ &             ${50.24}_{2.45}$ &               ${None}_{None}$ &               ${None}_{None}$ &               ${None}_{None}$ &     ${61.03}_{1.16}$ &      ${None}_{None}$ &      ${63.5}_{1.15}$ \\\\\\\\\\n\\n\\n'"
     },
     "execution_count": 46,
     "metadata": {},
     "output_type": "execute_result"
    }
   ],
   "source": [],
   "metadata": {
    "collapsed": false,
    "ExecuteTime": {
     "end_time": "2024-05-17T00:42:42.980366Z",
     "start_time": "2024-05-17T00:42:42.934457Z"
    }
   },
   "id": "63a61708b6738b85",
   "execution_count": 46
  },
  {
   "cell_type": "code",
   "outputs": [
    {
     "name": "stderr",
     "output_type": "stream",
     "text": [
      "/var/folders/_0/bqv6dr454lsgny6_gs_xb0q80000gn/T/ipykernel_91530/1141627844.py:1: FutureWarning: In future versions `DataFrame.to_latex` is expected to utilise the base implementation of `Styler.to_latex` for formatting and rendering. The arguments signature may therefore change. It is recommended instead to use `DataFrame.style.to_latex` which also contains additional functionality.\n",
      "  latex_table = df.to_latex(index=True, formatters={\"name\": str.upper}, float_format=\"{:.2f}\".format)\n"
     ]
    }
   ],
   "source": [
    "latex_table = df.to_latex(index=True, formatters={\"name\": str.upper}, float_format=\"{:.2f}\".format)\n",
    "latex_table = latex_table.replace('\\\\$', '$').replace('\\\\{', '{').replace('\\\\}', '}').replace('\\\\_', '_')\n",
    "caption_nl = 'performance of models on the test set'\n",
    "save_key = 'models_test'\n",
    "\n",
    "latex_table_all = r\"\"\"\n",
    "\\begin{table*}[h!]\n",
    "\\begin{adjustbox}{width=1.3\\textwidth,center}\n",
    "\"\"\" + latex_table + \"\"\"\n",
    "\\end{adjustbox}\n",
    "\\caption{\"\"\" + caption_nl + \"\"\"}\n",
    "\\end{table*}\n",
    "\"\"\"\n",
    "os.makedirs(os.path.join(save_main_dir, 'tables'), exist_ok=True)\n",
    "with open(os.path.join(save_main_dir, 'tables', f'{save_key}.tex'), 'w') as f:\n",
    "    f.write(latex_table_all)"
   ],
   "metadata": {
    "collapsed": false,
    "ExecuteTime": {
     "end_time": "2024-05-17T00:48:11.330134Z",
     "start_time": "2024-05-17T00:48:11.291032Z"
    }
   },
   "id": "704075d08932810",
   "execution_count": 52
  },
  {
   "cell_type": "code",
   "outputs": [],
   "source": [],
   "metadata": {
    "collapsed": false
   },
   "id": "dafbbaaba26b1a51"
  }
 ],
 "metadata": {
  "kernelspec": {
   "display_name": "Python 3",
   "language": "python",
   "name": "python3"
  },
  "language_info": {
   "codemirror_mode": {
    "name": "ipython",
    "version": 2
   },
   "file_extension": ".py",
   "mimetype": "text/x-python",
   "name": "python",
   "nbconvert_exporter": "python",
   "pygments_lexer": "ipython2",
   "version": "2.7.6"
  }
 },
 "nbformat": 4,
 "nbformat_minor": 5
}
