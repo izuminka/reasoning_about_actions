{
 "cells": [
  {
   "cell_type": "code",
   "outputs": [],
   "source": [
    "import sys\n",
    "import json\n",
    "sys.path.append('..')\n",
    "from src.common import *\n",
    "from src.analysis.model_performances import *\n",
    "from copy import deepcopy\n",
    "from helpers import *\n",
    "import pandas as pd\n",
    "\n",
    "EVERYTHING_POSTFIX = 'everything'\n",
    "\n",
    "TO_PRETTY = {\n",
    "    WITH_RAMIFICATIONS : 'W R',\n",
    "    WITHOUT_RAMIFICATIONS : 'W/O R',\n",
    "    \n",
    "    'few_shot_1': 'FS-1',\n",
    "    'few_shot_3': 'FS-3',\n",
    "    'few_shot_5': 'FS-5',\n",
    "    \n",
    "    'gemma-2b': 'G-2b', \n",
    "    'gemma-7b': 'G-7b', \n",
    "    'llama2-7b-chat': 'L-7b', \n",
    "    'llama2-13b-chat': 'L-13b',\n",
    "    'gemini': 'Gemini'}\n"
   ],
   "metadata": {
    "collapsed": false,
    "ExecuteTime": {
     "end_time": "2024-05-23T22:24:12.801622Z",
     "start_time": "2024-05-23T22:24:08.550858Z"
    }
   },
   "id": "1581e9208ff09f8e",
   "execution_count": 1
  },
  {
   "cell_type": "code",
   "outputs": [
    {
     "name": "stderr",
     "output_type": "stream",
     "text": [
      "100%|██████████| 31104/31104 [00:05<00:00, 5686.22it/s] "
     ]
    },
    {
     "name": "stdout",
     "output_type": "stream",
     "text": [
      "12758\n"
     ]
    },
    {
     "name": "stderr",
     "output_type": "stream",
     "text": [
      "\n"
     ]
    }
   ],
   "source": [
    "answer_type = TRUE_FALSE_ANSWER_TYPE #FREE_ANSWER#\n",
    "score_key = ACCURACY_SCORE_KEY #F1_SCORE_KEY#'accuracy'\n",
    "answer_type_ext = tf_answer_type(score_key = score_key)\n",
    "\n",
    "ids_file_name = 'dataset_ids.test'  # None\n",
    "save_main_dir = f'{STATISTICS_PATH}.{ids_file_name}'\n",
    "stats_all = collect_stats_all(tf_answer_type(score_key = score_key), save_main_dir=save_main_dir)\n",
    "print(len(stats_all))\n",
    "plan_lengths = [1,10,19]\n",
    "\n",
    "save_dir = os.path.join(save_main_dir, 'tables', 'by_models')\n",
    "os.makedirs(save_dir, exist_ok=True)\n",
    "\n",
    "# model_prompts_combos = [('small-models', SMALL_MODELS, PROMPT_TYPES), ('big-models', BIG_MODELS, ['few_shot_1', 'few_shot_5'])]\n",
    "model_prompts_combos = [('all-models', PROMPT_MODEL_NAMES, ['few_shot_1', 'few_shot_5'])]"
   ],
   "metadata": {
    "collapsed": false,
    "ExecuteTime": {
     "end_time": "2024-05-23T22:24:21.816382Z",
     "start_time": "2024-05-23T22:24:16.314335Z"
    }
   },
   "id": "8fb4feeb322b4ab0",
   "execution_count": 3
  },
  {
   "cell_type": "code",
   "outputs": [],
   "source": [
    "def to_df(results_all, plan_lengths, answer_type, models=PROMPT_MODEL_NAMES,\n",
    "          prompt_types = PROMPT_TYPES,\n",
    "          domain = ALL_DOMAINS_KEY, subs = WITHOUT_RANDOM_SUB):\n",
    "    \n",
    "    index = []\n",
    "    data = []    \n",
    "    for plan_length in plan_lengths:\n",
    "        for ramifications in RAMIFICATION_TYPES:\n",
    "            index.append((plan_length, TO_PRETTY.get(ramifications, ramifications)))\n",
    "            data_columns = {}\n",
    "            for model_name in models:\n",
    "                for prompt_type in prompt_types:\n",
    "                    res_obj = filter_single_selector(results_all, plan_length, ALL_QUESTION_CATEGORIES_KEY, ramifications, model_name, prompt_type, domain, answer_type, subs)\n",
    "                    # print(res_obj)\n",
    "                    if res_obj:\n",
    "                        mean = res_obj['result']\n",
    "                        sem = None\n",
    "                        if res_obj['result_other']:\n",
    "                            sem = res_obj['result_other']['sem']\n",
    "                        not_corrupted = res_obj['stats']['num_not_corrupted']\n",
    "                        final_res = (mean, sem, not_corrupted)\n",
    "                    else:\n",
    "                        final_res = (None, None, None)\n",
    "                    final_res = tuple([round(v*100, 2) if v else v for v in final_res ])\n",
    "                    final_res = '${'+str(final_res[0])+'}_{'+str(final_res[1])+'}$'\n",
    "                    data_columns[(TO_PRETTY.get(model_name, model_name), TO_PRETTY.get(prompt_type, prompt_type))] = final_res\n",
    "            data.append(data_columns)\n",
    "    return pd.DataFrame(data, index = index)\n",
    "\n",
    "def to_df_by_category(results_all, answer_type,  \n",
    "                      model_names = PROMPT_MODEL_NAMES,\n",
    "                      prompt_types= PROMPT_TYPES,\n",
    "                      ramifications = WITHOUT_RAMIFICATIONS,\n",
    "                      domain = ALL_DOMAINS_KEY, \n",
    "                      subs = WITHOUT_RANDOM_SUB,\n",
    "                      plan_length=19):\n",
    "\n",
    "    index = []\n",
    "    data = []    \n",
    "    for question_category in QUESTION_CATEGORIES[:-1]:\n",
    "        index.append(question_category)\n",
    "        data_columns = {}\n",
    "        for model_name in model_names:\n",
    "            for prompt_type in prompt_types:\n",
    "                res_obj = filter_single_selector(results_all, plan_length, question_category, ramifications, model_name, prompt_type, domain, answer_type, subs)\n",
    "                if res_obj:\n",
    "                    mean = res_obj['result']\n",
    "                    sem = None\n",
    "                    if res_obj['result_other']:\n",
    "                        sem = res_obj['result_other']['sem']\n",
    "                    not_corrupted = res_obj['stats']['num_not_corrupted']\n",
    "                    final_res = (mean, sem, not_corrupted)\n",
    "                else:\n",
    "                    final_res = (None, None, None)\n",
    "                final_res = tuple([round(v*100, 2) if v else v for v in final_res ])\n",
    "                final_res = '${'+str(final_res[0])+'}_{'+str(final_res[1])+'}$'\n",
    "                data_columns[(TO_PRETTY.get(model_name,model_name), TO_PRETTY.get(prompt_type,prompt_type))] = final_res\n",
    "        data.append(data_columns)\n",
    "    return pd.DataFrame(data, index = index)\n",
    "\n",
    "def df_to_latex_table(df):\n",
    "        latex_table = df.to_latex(index=True, formatters={\"name\": str.upper}, float_format=\"{:.2f}\".format)\n",
    "        return latex_table[latex_table.find('\\midrule'):].replace(\"bottomrule\", 'crap').replace(\"\\crap\", '').replace(\"\\end{tabular}\", '')\n",
    "\n",
    "def assemble_table(results_all, answer_type, domain, score_key=None):\n",
    "    latex_table_all = ''\n",
    "    with open('latex_table_template/top') as f:\n",
    "        latex_table_all += f.read() + '\\n'\n",
    "    latex_table_all += '\\n'.join([df_to_latex_table(to_df(results_all, answer_type, plan_length, domain)) for plan_length in PLAN_LENGTHS])\n",
    "    with open('latex_table_template/bottom') as f:\n",
    "        latex_table_all += f.read()\n",
    "    \n",
    "    caption = f'{answer_type}, {score_key} scores for {domain}'.replace('_', ' ')\n",
    "    latex_table_all = latex_table_all.replace('REPLACE_CAPTION_KEY', caption)\n",
    "    \n",
    "    return latex_table_all\n"
   ],
   "metadata": {
    "collapsed": false,
    "ExecuteTime": {
     "end_time": "2024-05-23T22:24:15.545856Z",
     "start_time": "2024-05-23T22:24:15.516803Z"
    }
   },
   "id": "dd77fda858739d0e",
   "execution_count": 2
  },
  {
   "cell_type": "code",
   "outputs": [
    {
     "name": "stdout",
     "output_type": "stream",
     "text": [
      "                 (G-2b, FS-1)      (G-2b, FS-5)      (G-7b, FS-1)  \\\n",
      "(1, W R)     ${46.62}_{1.14}$  ${36.21}_{1.23}$  ${49.44}_{3.75}$   \n",
      "(1, W/O R)   ${46.24}_{1.18}$  ${36.46}_{1.23}$  ${47.74}_{3.54}$   \n",
      "(10, W R)    ${45.24}_{1.14}$  ${33.27}_{1.21}$   ${50.0}_{3.81}$   \n",
      "(10, W/O R)  ${43.65}_{1.17}$   ${33.16}_{1.2}$  ${46.39}_{3.58}$   \n",
      "(19, W R)    ${45.17}_{1.15}$  ${28.22}_{1.21}$   ${50.0}_{3.71}$   \n",
      "(19, W/O R)  ${44.66}_{1.18}$  ${27.93}_{1.21}$   ${45.5}_{3.43}$   \n",
      "\n",
      "                 (G-7b, FS-5)      (L-7b, FS-1)      (L-7b, FS-5)  \\\n",
      "(1, W R)     ${54.55}_{4.01}$  ${46.84}_{1.69}$  ${53.23}_{1.64}$   \n",
      "(1, W/O R)    ${None}_{None}$  ${48.48}_{1.18}$   ${52.8}_{1.62}$   \n",
      "(10, W R)    ${54.35}_{4.24}$  ${47.22}_{1.76}$   ${54.7}_{1.88}$   \n",
      "(10, W/O R)   ${None}_{None}$  ${46.46}_{1.17}$  ${52.64}_{1.89}$   \n",
      "(19, W R)    ${54.48}_{4.14}$   ${48.89}_{1.8}$  ${52.66}_{2.45}$   \n",
      "(19, W/O R)   ${None}_{None}$  ${47.47}_{1.18}$  ${50.24}_{2.45}$   \n",
      "\n",
      "                (L-13b, FS-1)     (L-13b, FS-5)    (Gemini, FS-1)  \\\n",
      "(1, W R)     ${50.93}_{1.19}$  ${54.73}_{1.63}$  ${67.02}_{1.12}$   \n",
      "(1, W/O R)   ${50.39}_{1.18}$  ${55.97}_{1.61}$  ${67.02}_{1.11}$   \n",
      "(10, W R)    ${48.38}_{1.18}$  ${52.71}_{1.88}$  ${62.52}_{1.14}$   \n",
      "(10, W/O R)  ${49.78}_{1.18}$  ${51.07}_{1.89}$  ${63.27}_{1.13}$   \n",
      "(19, W R)     ${49.71}_{1.2}$  ${57.49}_{2.43}$  ${62.34}_{1.15}$   \n",
      "(19, W/O R)  ${50.22}_{1.19}$  ${54.31}_{2.44}$  ${61.03}_{1.16}$   \n",
      "\n",
      "               (Gemini, FS-5)    (GPT-4, FS-1)    (GPT-4, FS-5)  \n",
      "(1, W R)     ${68.71}_{1.11}$  ${None}_{None}$  ${None}_{None}$  \n",
      "(1, W/O R)   ${68.52}_{1.11}$  ${None}_{None}$  ${None}_{None}$  \n",
      "(10, W R)    ${64.94}_{1.14}$  ${None}_{None}$  ${None}_{None}$  \n",
      "(10, W/O R)   ${64.6}_{1.14}$  ${None}_{None}$  ${None}_{None}$  \n",
      "(19, W R)    ${62.76}_{1.15}$  ${None}_{None}$  ${None}_{None}$  \n",
      "(19, W/O R)   ${63.5}_{1.15}$  ${None}_{None}$  ${None}_{None}$  \n"
     ]
    },
    {
     "name": "stderr",
     "output_type": "stream",
     "text": [
      "/Users/paveldolin/dev/research/current/reasoning_about_actions/pipeline/src/analysis/tables/helpers.py:21: FutureWarning: In future versions `DataFrame.to_latex` is expected to utilise the base implementation of `Styler.to_latex` for formatting and rendering. The arguments signature may therefore change. It is recommended instead to use `DataFrame.style.to_latex` which also contains additional functionality.\n",
      "  latex_table = df.to_latex(index=True, formatters={\"name\": str.upper}, float_format=\"{:.2f}\".format)\n"
     ]
    },
    {
     "name": "stdout",
     "output_type": "stream",
     "text": [
      "                 (G-2b, FS-1)      (G-2b, FS-5)      (G-7b, FS-1)  \\\n",
      "(1, W R)     ${45.67}_{1.27}$  ${44.06}_{2.47}$  ${49.19}_{1.18}$   \n",
      "(1, W/O R)    ${45.7}_{1.26}$  ${40.85}_{2.38}$  ${48.33}_{1.24}$   \n",
      "(10, W R)    ${45.32}_{1.32}$  ${50.0}_{35.36}$  ${50.69}_{1.17}$   \n",
      "(10, W/O R)   ${44.05}_{1.3}$   ${100.0}_{0.0}$  ${49.45}_{1.23}$   \n",
      "(19, W R)    ${46.08}_{1.45}$   ${None}_{None}$  ${48.43}_{1.18}$   \n",
      "(19, W/O R)  ${43.84}_{1.43}$   ${None}_{None}$  ${48.33}_{1.24}$   \n",
      "\n",
      "                 (G-7b, FS-5)      (L-7b, FS-1)      (L-7b, FS-5)  \\\n",
      "(1, W R)     ${56.94}_{1.42}$  ${47.28}_{1.33}$  ${56.12}_{2.98}$   \n",
      "(1, W/O R)   ${55.32}_{1.43}$  ${47.72}_{1.31}$  ${53.48}_{3.02}$   \n",
      "(10, W R)    ${57.71}_{1.53}$  ${44.99}_{1.38}$   ${None}_{None}$   \n",
      "(10, W/O R)  ${56.55}_{1.54}$  ${45.16}_{1.37}$   ${None}_{None}$   \n",
      "(19, W R)    ${53.82}_{1.93}$  ${44.13}_{1.59}$   ${None}_{None}$   \n",
      "(19, W/O R)  ${53.31}_{1.96}$  ${43.55}_{1.61}$   ${None}_{None}$   \n",
      "\n",
      "                (L-13b, FS-1)     (L-13b, FS-5)   (Gemini, FS-1)  \\\n",
      "(1, W R)     ${52.72}_{1.33}$  ${59.71}_{2.94}$  ${None}_{None}$   \n",
      "(1, W/O R)   ${53.94}_{1.31}$  ${59.34}_{2.97}$  ${None}_{None}$   \n",
      "(10, W R)    ${51.11}_{1.38}$   ${None}_{None}$  ${None}_{None}$   \n",
      "(10, W/O R)  ${50.53}_{1.38}$   ${None}_{None}$  ${None}_{None}$   \n",
      "(19, W R)     ${51.89}_{1.6}$   ${None}_{None}$  ${None}_{None}$   \n",
      "(19, W/O R)  ${53.31}_{1.62}$   ${None}_{None}$  ${None}_{None}$   \n",
      "\n",
      "              (Gemini, FS-5)    (GPT-4, FS-1)    (GPT-4, FS-5)  \n",
      "(1, W R)     ${None}_{None}$  ${None}_{None}$  ${None}_{None}$  \n",
      "(1, W/O R)   ${None}_{None}$  ${None}_{None}$  ${None}_{None}$  \n",
      "(10, W R)    ${None}_{None}$  ${None}_{None}$  ${None}_{None}$  \n",
      "(10, W/O R)  ${None}_{None}$  ${None}_{None}$  ${None}_{None}$  \n",
      "(19, W R)    ${None}_{None}$  ${None}_{None}$  ${None}_{None}$  \n",
      "(19, W/O R)  ${None}_{None}$  ${None}_{None}$  ${None}_{None}$  \n"
     ]
    },
    {
     "name": "stderr",
     "output_type": "stream",
     "text": [
      "/Users/paveldolin/dev/research/current/reasoning_about_actions/pipeline/src/analysis/tables/helpers.py:21: FutureWarning: In future versions `DataFrame.to_latex` is expected to utilise the base implementation of `Styler.to_latex` for formatting and rendering. The arguments signature may therefore change. It is recommended instead to use `DataFrame.style.to_latex` which also contains additional functionality.\n",
      "  latex_table = df.to_latex(index=True, formatters={\"name\": str.upper}, float_format=\"{:.2f}\".format)\n"
     ]
    }
   ],
   "source": [
    "for subs in [WITHOUT_RANDOM_SUB, WITH_RANDOM_SUB]:\n",
    "    for model_save_name, model_names, prompt_types in model_prompts_combos:\n",
    "        df = to_df(stats_all, plan_lengths, answer_type, prompt_types=prompt_types, models=model_names, subs=subs)\n",
    "        print(df)\n",
    "        \n",
    "        caption_nl = f'performance of {model_save_name} on the test set, {subs}'.replace('_', ' ')\n",
    "        latex_table = to_latex_table(df, caption_nl, label=model_save_name)\n",
    "        save_key = f'all.{model_save_name}.{subs}'\n",
    "        with open(os.path.join(save_dir, f'{save_key}.tex'), 'w') as f:\n",
    "            f.write(latex_table)"
   ],
   "metadata": {
    "collapsed": false,
    "ExecuteTime": {
     "end_time": "2024-05-23T22:29:17.239705Z",
     "start_time": "2024-05-23T22:29:15.667372Z"
    }
   },
   "id": "5b5a15905194ac6a",
   "execution_count": 6
  },
  {
   "cell_type": "markdown",
   "source": [
    "# Plot By Category"
   ],
   "metadata": {
    "collapsed": false
   },
   "id": "5aad3ef5e3825084"
  },
  {
   "cell_type": "code",
   "outputs": [
    {
     "name": "stdout",
     "output_type": "stream",
     "text": [
      "                          (G-2b, FS-1)      (G-2b, FS-5)       (G-7b, FS-1)  \\\n",
      "object_tracking       ${40.38}_{2.13}$  ${28.41}_{2.15}$    ${40.3}_{5.99}$   \n",
      "fluent_tracking        ${43.2}_{1.97}$  ${19.58}_{1.82}$   ${49.28}_{6.02}$   \n",
      "state_tracking        ${47.73}_{7.53}$     ${0.0}_{0.0}$    ${50.0}_{25.0}$   \n",
      "action_executability  ${53.66}_{5.51}$  ${32.79}_{6.01}$  ${88.89}_{10.48}$   \n",
      "effects               ${49.54}_{2.76}$  ${35.29}_{2.99}$   ${39.58}_{7.06}$   \n",
      "numerical_reasoning   ${45.78}_{5.47}$  ${38.24}_{5.89}$   ${50.0}_{17.68}$   \n",
      "hallucination         ${52.44}_{5.52}$  ${52.63}_{6.61}$  ${33.33}_{19.25}$   \n",
      "\n",
      "                         (G-7b, FS-5)      (L-7b, FS-1)       (L-7b, FS-5)  \\\n",
      "object_tracking       ${None}_{None}$   ${48.3}_{2.17}$   ${49.65}_{4.18}$   \n",
      "fluent_tracking       ${None}_{None}$   ${41.3}_{1.96}$   ${45.67}_{4.42}$   \n",
      "state_tracking        ${None}_{None}$  ${54.55}_{7.51}$    ${None}_{None}$   \n",
      "action_executability  ${None}_{None}$  ${46.34}_{5.51}$  ${57.14}_{13.23}$   \n",
      "effects               ${None}_{None}$  ${53.21}_{2.76}$    ${57.3}_{5.24}$   \n",
      "numerical_reasoning   ${None}_{None}$   ${49.4}_{5.49}$   ${42.31}_{9.69}$   \n",
      "hallucination         ${None}_{None}$   ${62.2}_{5.35}$  ${57.89}_{11.33}$   \n",
      "\n",
      "                         (L-13b, FS-1)      (L-13b, FS-5)    (Gemini, FS-1)  \\\n",
      "object_tracking       ${55.47}_{2.16}$   ${60.14}_{4.09}$  ${67.55}_{2.03}$   \n",
      "fluent_tracking       ${44.46}_{1.98}$   ${48.82}_{4.44}$  ${59.72}_{1.95}$   \n",
      "state_tracking        ${47.73}_{7.53}$    ${None}_{None}$  ${59.09}_{7.41}$   \n",
      "action_executability  ${51.22}_{5.52}$  ${57.14}_{13.23}$  ${51.22}_{5.52}$   \n",
      "effects               ${51.07}_{2.76}$    ${50.56}_{5.3}$  ${54.43}_{2.75}$   \n",
      "numerical_reasoning    ${49.4}_{5.49}$   ${46.15}_{9.78}$   ${50.6}_{5.49}$   \n",
      "hallucination         ${58.54}_{5.44}$   ${73.68}_{10.1}$  ${76.83}_{4.66}$   \n",
      "\n",
      "                        (Gemini, FS-5)    (GPT-4, FS-1)    (GPT-4, FS-5)  \n",
      "object_tracking       ${66.79}_{2.05}$  ${None}_{None}$  ${None}_{None}$  \n",
      "fluent_tracking        ${60.1}_{1.96}$  ${None}_{None}$  ${None}_{None}$  \n",
      "state_tracking        ${54.55}_{7.51}$  ${None}_{None}$  ${None}_{None}$  \n",
      "action_executability   ${50.65}_{5.7}$  ${None}_{None}$  ${None}_{None}$  \n",
      "effects               ${64.49}_{2.67}$  ${None}_{None}$  ${None}_{None}$  \n",
      "numerical_reasoning   ${53.85}_{5.64}$  ${None}_{None}$  ${None}_{None}$  \n",
      "hallucination         ${92.21}_{3.05}$  ${None}_{None}$  ${None}_{None}$  \n"
     ]
    },
    {
     "name": "stderr",
     "output_type": "stream",
     "text": [
      "/Users/paveldolin/dev/research/current/reasoning_about_actions/pipeline/src/analysis/tables/helpers.py:21: FutureWarning: In future versions `DataFrame.to_latex` is expected to utilise the base implementation of `Styler.to_latex` for formatting and rendering. The arguments signature may therefore change. It is recommended instead to use `DataFrame.style.to_latex` which also contains additional functionality.\n",
      "  latex_table = df.to_latex(index=True, formatters={\"name\": str.upper}, float_format=\"{:.2f}\".format)\n"
     ]
    },
    {
     "name": "stdout",
     "output_type": "stream",
     "text": [
      "                          (G-2b, FS-1)     (G-2b, FS-5)      (G-7b, FS-1)  \\\n",
      "object_tracking       ${42.82}_{2.46}$  ${None}_{None}$   ${44.4}_{2.26}$   \n",
      "fluent_tracking       ${41.44}_{2.55}$  ${None}_{None}$   ${48.76}_{2.1}$   \n",
      "state_tracking         ${None}_{None}$  ${None}_{None}$  ${55.17}_{9.23}$   \n",
      "action_executability  ${38.71}_{6.19}$  ${None}_{None}$  ${48.68}_{5.73}$   \n",
      "effects               ${47.21}_{3.27}$  ${None}_{None}$  ${49.84}_{2.85}$   \n",
      "numerical_reasoning   ${47.83}_{6.01}$  ${None}_{None}$   ${48.1}_{5.62}$   \n",
      "hallucination         ${53.33}_{6.44}$  ${None}_{None}$  ${60.76}_{5.49}$   \n",
      "\n",
      "                          (G-7b, FS-5)      (L-7b, FS-1)     (L-7b, FS-5)  \\\n",
      "object_tracking       ${51.41}_{3.17}$  ${40.47}_{2.66}$  ${None}_{None}$   \n",
      "fluent_tracking       ${48.31}_{3.75}$   ${36.7}_{2.95}$  ${None}_{None}$   \n",
      "state_tracking         ${None}_{None}$   ${None}_{None}$  ${None}_{None}$   \n",
      "action_executability  ${57.69}_{9.69}$  ${43.75}_{7.16}$  ${None}_{None}$   \n",
      "effects               ${63.64}_{4.19}$   ${53.65}_{3.6}$  ${None}_{None}$   \n",
      "numerical_reasoning   ${43.24}_{8.14}$  ${54.24}_{6.49}$  ${None}_{None}$   \n",
      "hallucination         ${62.96}_{9.29}$   ${50.0}_{7.37}$  ${None}_{None}$   \n",
      "\n",
      "                         (L-13b, FS-1)    (L-13b, FS-5)   (Gemini, FS-1)  \\\n",
      "object_tracking        ${56.6}_{2.68}$  ${None}_{None}$  ${None}_{None}$   \n",
      "fluent_tracking       ${47.94}_{3.06}$  ${None}_{None}$  ${None}_{None}$   \n",
      "state_tracking         ${None}_{None}$  ${None}_{None}$  ${None}_{None}$   \n",
      "action_executability   ${62.5}_{6.99}$  ${None}_{None}$  ${None}_{None}$   \n",
      "effects               ${55.21}_{3.59}$  ${None}_{None}$  ${None}_{None}$   \n",
      "numerical_reasoning   ${45.76}_{6.49}$  ${None}_{None}$  ${None}_{None}$   \n",
      "hallucination         ${52.17}_{7.37}$  ${None}_{None}$  ${None}_{None}$   \n",
      "\n",
      "                       (Gemini, FS-5)    (GPT-4, FS-1)    (GPT-4, FS-5)  \n",
      "object_tracking       ${None}_{None}$  ${None}_{None}$  ${None}_{None}$  \n",
      "fluent_tracking       ${None}_{None}$  ${None}_{None}$  ${None}_{None}$  \n",
      "state_tracking        ${None}_{None}$  ${None}_{None}$  ${None}_{None}$  \n",
      "action_executability  ${None}_{None}$  ${None}_{None}$  ${None}_{None}$  \n",
      "effects               ${None}_{None}$  ${None}_{None}$  ${None}_{None}$  \n",
      "numerical_reasoning   ${None}_{None}$  ${None}_{None}$  ${None}_{None}$  \n",
      "hallucination         ${None}_{None}$  ${None}_{None}$  ${None}_{None}$  \n"
     ]
    },
    {
     "name": "stderr",
     "output_type": "stream",
     "text": [
      "/Users/paveldolin/dev/research/current/reasoning_about_actions/pipeline/src/analysis/tables/helpers.py:21: FutureWarning: In future versions `DataFrame.to_latex` is expected to utilise the base implementation of `Styler.to_latex` for formatting and rendering. The arguments signature may therefore change. It is recommended instead to use `DataFrame.style.to_latex` which also contains additional functionality.\n",
      "  latex_table = df.to_latex(index=True, formatters={\"name\": str.upper}, float_format=\"{:.2f}\".format)\n"
     ]
    }
   ],
   "source": [
    "plan_length = 19\n",
    "for subs in [WITHOUT_RANDOM_SUB, WITH_RANDOM_SUB]:\n",
    "    for model_save_name, model_names, prompt_types in model_prompts_combos:\n",
    "        df2 = to_df_by_category(stats_all, answer_type, model_names=model_names, prompt_types=prompt_types, subs=subs)\n",
    "        print(df2)\n",
    "        \n",
    "        caption_nl = f'performance of {model_save_name} on the test set by categories, {subs}, pl-{plan_length}'\n",
    "        save_key = f'by_categories.{model_save_name}.{subs}'\n",
    "        \n",
    "        latex_table_all = to_latex_table(df2, caption_nl, label=save_key)\n",
    "        with open(os.path.join(save_dir, f'{save_key}.tex'), 'w') as f:\n",
    "            f.write(latex_table_all)"
   ],
   "metadata": {
    "collapsed": false,
    "ExecuteTime": {
     "end_time": "2024-05-23T22:29:34.772809Z",
     "start_time": "2024-05-23T22:29:32.675736Z"
    }
   },
   "id": "da82c99c16ce0495",
   "execution_count": 7
  },
  {
   "cell_type": "code",
   "outputs": [],
   "source": [],
   "metadata": {
    "collapsed": false
   },
   "id": "c1378f27bd37e213"
  }
 ],
 "metadata": {
  "kernelspec": {
   "display_name": "Python 3",
   "language": "python",
   "name": "python3"
  },
  "language_info": {
   "codemirror_mode": {
    "name": "ipython",
    "version": 2
   },
   "file_extension": ".py",
   "mimetype": "text/x-python",
   "name": "python",
   "nbconvert_exporter": "python",
   "pygments_lexer": "ipython2",
   "version": "2.7.6"
  }
 },
 "nbformat": 4,
 "nbformat_minor": 5
}
