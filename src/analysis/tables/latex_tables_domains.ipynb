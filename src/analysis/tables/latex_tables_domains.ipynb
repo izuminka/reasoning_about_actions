{
 "cells": [
  {
   "cell_type": "code",
   "outputs": [],
   "source": [
    "import sys\n",
    "import json\n",
    "sys.path.append('..')\n",
    "from src.analysis.model_performances import *\n",
    "import pandas as pd\n",
    "EVERYTHING_POSTFIX = 'everything'"
   ],
   "metadata": {
    "collapsed": false,
    "ExecuteTime": {
     "end_time": "2024-05-03T22:10:45.499732Z",
     "start_time": "2024-05-03T22:10:45.461686Z"
    }
   },
   "id": "1581e9208ff09f8e",
   "execution_count": 6
  },
  {
   "cell_type": "code",
   "outputs": [],
   "source": [
    "# def to_dfs(results_all, model_name, answer_type, prompt_type, subs, domains):\n",
    "#     d_ramifications_pretty = {\n",
    "#         WITH_RAMIFICATIONS : 'R',\n",
    "#         WITHOUT_RAMIFICATIONS : 'No R'\n",
    "#     }\n",
    "#     d_answer_type_pretty = {\n",
    "#         TRUE_FALSE_ANSWER_TYPE : 'T/F',\n",
    "#         FREE_ANSWER_TYPE : 'Free'\n",
    "#     }\n",
    "#     \n",
    "#     dfs = []\n",
    "#     for plan_length in PLAN_LENGTHS:\n",
    "#         index = []\n",
    "#         data = []\n",
    "#         for question_category in QUESTION_CATEGORIES + [ALL_QUESTION_CATEGORIES_KEY]:\n",
    "#             for ramifications in RAMIFICATION_TYPES:\n",
    "#                 index.append((plan_length, question_category, d_ramifications_pretty[ramifications], d_answer_type_pretty[answer_type]))\n",
    "#                 data_columns = {}\n",
    "#                 for domain in domains:\n",
    "#                     data_columns[domain] = filter_single_selector(results_all, plan_length, question_category, ramifications, model_name, prompt_type, domain, answer_type, subs)\n",
    "#                 data.append(data_columns)\n",
    "#         dfs.append(pd.DataFrame(data, index = index))\n",
    "#     return dfs\n",
    "\n",
    "def to_df(results_all, model_name, answer_type, prompt_type, subs, domains):\n",
    "    d_ramifications_pretty = {\n",
    "        WITH_RAMIFICATIONS : 'R',\n",
    "        WITHOUT_RAMIFICATIONS : 'No R'\n",
    "    }\n",
    "    d_answer_type_pretty = {\n",
    "        TRUE_FALSE_ANSWER_TYPE : 'T/F',\n",
    "        FREE_ANSWER_TYPE : 'Free'\n",
    "    }\n",
    "    \n",
    "    index = []\n",
    "    data = []\n",
    "    for plan_length in PLAN_LENGTHS:\n",
    "        for question_category in QUESTION_CATEGORIES + [ALL_QUESTION_CATEGORIES_KEY]:\n",
    "            for ramifications in RAMIFICATION_TYPES:\n",
    "                index.append((plan_length, question_category, d_ramifications_pretty[ramifications], d_answer_type_pretty[answer_type]))\n",
    "                data_columns = {}\n",
    "                for domain in domains:\n",
    "                    data_columns[domain] = filter_single_selector(results_all, plan_length, question_category, ramifications, model_name, prompt_type, domain, answer_type, subs)\n",
    "                data.append(data_columns)\n",
    "    return pd.DataFrame(data, index = index)"
   ],
   "metadata": {
    "collapsed": false,
    "ExecuteTime": {
     "end_time": "2024-05-03T22:21:17.447528Z",
     "start_time": "2024-05-03T22:21:17.441845Z"
    }
   },
   "id": "dd77fda858739d0e",
   "execution_count": 28
  },
  {
   "cell_type": "code",
   "outputs": [
    {
     "name": "stderr",
     "output_type": "stream",
     "text": [
      "100%|██████████| 25920/25920 [00:00<00:00, 50069.94it/s]\n"
     ]
    }
   ],
   "source": [
    "answer_type = TRUE_FALSE_ANSWER_TYPE #FREE_ANSWER#\n",
    "score_key = F1_SCORE_KEY#'accuracy'\n",
    "answer_type_ext = tf_answer_type(score_key = F1_SCORE_KEY)\n",
    "stats_all = collect_stats_all(tf_answer_type(score_key = F1_SCORE_KEY))"
   ],
   "metadata": {
    "collapsed": false,
    "ExecuteTime": {
     "end_time": "2024-05-03T22:21:19.708748Z",
     "start_time": "2024-05-03T22:21:19.183111Z"
    }
   },
   "id": "8fb4feeb322b4ab0",
   "execution_count": 29
  },
  {
   "cell_type": "code",
   "outputs": [],
   "source": [
    "model_name = 'gemini'#'gemma-2b-it'\n",
    "prompt_type = 'few_shot_5'\n",
    "subs = WITHOUT_RANDOM_SUB\n",
    "domains = DOMAIN_NAMES + [TRANSPORTATION_DOMAIN_KEY, NON_TRANSPORTATION_DOMAIN_KEY, ALL_DOMAINS_KEY]\n",
    "# domains = [TRANSPORTATION_DOMAIN_KEY, NON_TRANSPORTATION_DOMAIN_KEY, ALL_DOMAINS_KEY]\n",
    "save_key = 'all'#'transport_vs_other'\n",
    "df = to_df(stats_all, model_name, answer_type, prompt_type, subs, domains)"
   ],
   "metadata": {
    "collapsed": false,
    "ExecuteTime": {
     "end_time": "2024-05-03T22:21:28.488936Z",
     "start_time": "2024-05-03T22:21:24.292834Z"
    }
   },
   "id": "578585d5135a72bd",
   "execution_count": 30
  },
  {
   "cell_type": "code",
   "outputs": [
    {
     "data": {
      "text/plain": "                                      blocksworld    depots  driverlog  \\\n(1, object_tracking, R, T/F)                  NaN       NaN        NaN   \n(1, object_tracking, No R, T/F)          0.750000  0.747475   0.668831   \n(1, fluent_tracking, R, T/F)                  NaN       NaN        NaN   \n(1, fluent_tracking, No R, T/F)          0.662963  0.716667   0.727642   \n(1, state_tracking, R, T/F)                   NaN       NaN        NaN   \n...                                           ...       ...        ...   \n(19, hallucination, No R, T/F)           0.875000  0.860000   0.766667   \n(19, composite_questions, R, T/F)             NaN       NaN        NaN   \n(19, composite_questions, No R, T/F)          NaN       NaN        NaN   \n(19, ALL_CATEGORIES, R, T/F)                  NaN       NaN        NaN   \n(19, ALL_CATEGORIES, No R, T/F)          0.613563  0.631579   0.620690   \n\n                                      goldminer  grippers  logistics  \\\n(1, object_tracking, R, T/F)                NaN       NaN        NaN   \n(1, object_tracking, No R, T/F)        0.674641  0.742857   0.775000   \n(1, fluent_tracking, R, T/F)                NaN       NaN        NaN   \n(1, fluent_tracking, No R, T/F)        0.721591  0.814286   0.761111   \n(1, state_tracking, R, T/F)                 NaN       NaN        NaN   \n...                                         ...       ...        ...   \n(19, hallucination, No R, T/F)         0.850000  0.700000   0.790000   \n(19, composite_questions, R, T/F)           NaN       NaN        NaN   \n(19, composite_questions, No R, T/F)        NaN       NaN        NaN   \n(19, ALL_CATEGORIES, R, T/F)                NaN       NaN        NaN   \n(19, ALL_CATEGORIES, No R, T/F)        0.645429  0.649735   0.667949   \n\n                                       miconic   mystery   npuzzle  satellite  \\\n(1, object_tracking, R, T/F)               NaN       NaN       NaN        NaN   \n(1, object_tracking, No R, T/F)       0.796296  0.658333  0.694268   0.693467   \n(1, fluent_tracking, R, T/F)               NaN       NaN       NaN        NaN   \n(1, fluent_tracking, No R, T/F)       0.800000  0.683333  0.722222   0.663889   \n(1, state_tracking, R, T/F)                NaN       NaN       NaN        NaN   \n...                                        ...       ...       ...        ...   \n(19, hallucination, No R, T/F)        0.835714  0.790000  0.925000   0.778571   \n(19, composite_questions, R, T/F)          NaN       NaN       NaN        NaN   \n(19, composite_questions, No R, T/F)       NaN       NaN       NaN        NaN   \n(19, ALL_CATEGORIES, R, T/F)               NaN       NaN       NaN        NaN   \n(19, ALL_CATEGORIES, No R, T/F)       0.661187  0.611538  0.649364   0.618018   \n\n                                       spanner  visitall  zenotravel  \\\n(1, object_tracking, R, T/F)               NaN       NaN         NaN   \n(1, object_tracking, No R, T/F)       0.690476  0.790698    0.724138   \n(1, fluent_tracking, R, T/F)               NaN       NaN         NaN   \n(1, fluent_tracking, No R, T/F)       0.834375  0.821429    0.733333   \n(1, state_tracking, R, T/F)                NaN       NaN         NaN   \n...                                        ...       ...         ...   \n(19, hallucination, No R, T/F)        0.750000  0.783333    0.775000   \n(19, composite_questions, R, T/F)          NaN       NaN         NaN   \n(19, composite_questions, No R, T/F)       NaN       NaN         NaN   \n(19, ALL_CATEGORIES, R, T/F)               NaN       NaN         NaN   \n(19, ALL_CATEGORIES, No R, T/F)       0.626316  0.678832    0.655602   \n\n                                      TRANSPORTATION  NON_TRANSPORTATION  \\\n(1, object_tracking, R, T/F)                     NaN                 NaN   \n(1, object_tracking, No R, T/F)             0.730650            0.708812   \n(1, fluent_tracking, R, T/F)                     NaN                 NaN   \n(1, fluent_tracking, No R, T/F)             0.750811            0.732466   \n(1, state_tracking, R, T/F)                      NaN                 NaN   \n...                                              ...                 ...   \n(19, hallucination, No R, T/F)              0.787500            0.824359   \n(19, composite_questions, R, T/F)                NaN                 NaN   \n(19, composite_questions, No R, T/F)             NaN                 NaN   \n(19, ALL_CATEGORIES, R, T/F)                     NaN                 NaN   \n(19, ALL_CATEGORIES, No R, T/F)             0.643741            0.637027   \n\n                                      ALL_DOMAINS  \n(1, object_tracking, R, T/F)                  NaN  \n(1, object_tracking, No R, T/F)          0.719324  \n(1, fluent_tracking, R, T/F)                  NaN  \n(1, fluent_tracking, No R, T/F)          0.741009  \n(1, state_tracking, R, T/F)                   NaN  \n...                                           ...  \n(19, hallucination, No R, T/F)           0.805696  \n(19, composite_questions, R, T/F)             NaN  \n(19, composite_questions, No R, T/F)          NaN  \n(19, ALL_CATEGORIES, R, T/F)                  NaN  \n(19, ALL_CATEGORIES, No R, T/F)          0.640438  \n\n[90 rows x 16 columns]",
      "text/html": "<div>\n<style scoped>\n    .dataframe tbody tr th:only-of-type {\n        vertical-align: middle;\n    }\n\n    .dataframe tbody tr th {\n        vertical-align: top;\n    }\n\n    .dataframe thead th {\n        text-align: right;\n    }\n</style>\n<table border=\"1\" class=\"dataframe\">\n  <thead>\n    <tr style=\"text-align: right;\">\n      <th></th>\n      <th>blocksworld</th>\n      <th>depots</th>\n      <th>driverlog</th>\n      <th>goldminer</th>\n      <th>grippers</th>\n      <th>logistics</th>\n      <th>miconic</th>\n      <th>mystery</th>\n      <th>npuzzle</th>\n      <th>satellite</th>\n      <th>spanner</th>\n      <th>visitall</th>\n      <th>zenotravel</th>\n      <th>TRANSPORTATION</th>\n      <th>NON_TRANSPORTATION</th>\n      <th>ALL_DOMAINS</th>\n    </tr>\n  </thead>\n  <tbody>\n    <tr>\n      <th>(1, object_tracking, R, T/F)</th>\n      <td>NaN</td>\n      <td>NaN</td>\n      <td>NaN</td>\n      <td>NaN</td>\n      <td>NaN</td>\n      <td>NaN</td>\n      <td>NaN</td>\n      <td>NaN</td>\n      <td>NaN</td>\n      <td>NaN</td>\n      <td>NaN</td>\n      <td>NaN</td>\n      <td>NaN</td>\n      <td>NaN</td>\n      <td>NaN</td>\n      <td>NaN</td>\n    </tr>\n    <tr>\n      <th>(1, object_tracking, No R, T/F)</th>\n      <td>0.750000</td>\n      <td>0.747475</td>\n      <td>0.668831</td>\n      <td>0.674641</td>\n      <td>0.742857</td>\n      <td>0.775000</td>\n      <td>0.796296</td>\n      <td>0.658333</td>\n      <td>0.694268</td>\n      <td>0.693467</td>\n      <td>0.690476</td>\n      <td>0.790698</td>\n      <td>0.724138</td>\n      <td>0.730650</td>\n      <td>0.708812</td>\n      <td>0.719324</td>\n    </tr>\n    <tr>\n      <th>(1, fluent_tracking, R, T/F)</th>\n      <td>NaN</td>\n      <td>NaN</td>\n      <td>NaN</td>\n      <td>NaN</td>\n      <td>NaN</td>\n      <td>NaN</td>\n      <td>NaN</td>\n      <td>NaN</td>\n      <td>NaN</td>\n      <td>NaN</td>\n      <td>NaN</td>\n      <td>NaN</td>\n      <td>NaN</td>\n      <td>NaN</td>\n      <td>NaN</td>\n      <td>NaN</td>\n    </tr>\n    <tr>\n      <th>(1, fluent_tracking, No R, T/F)</th>\n      <td>0.662963</td>\n      <td>0.716667</td>\n      <td>0.727642</td>\n      <td>0.721591</td>\n      <td>0.814286</td>\n      <td>0.761111</td>\n      <td>0.800000</td>\n      <td>0.683333</td>\n      <td>0.722222</td>\n      <td>0.663889</td>\n      <td>0.834375</td>\n      <td>0.821429</td>\n      <td>0.733333</td>\n      <td>0.750811</td>\n      <td>0.732466</td>\n      <td>0.741009</td>\n    </tr>\n    <tr>\n      <th>(1, state_tracking, R, T/F)</th>\n      <td>NaN</td>\n      <td>NaN</td>\n      <td>NaN</td>\n      <td>NaN</td>\n      <td>NaN</td>\n      <td>NaN</td>\n      <td>NaN</td>\n      <td>NaN</td>\n      <td>NaN</td>\n      <td>NaN</td>\n      <td>NaN</td>\n      <td>NaN</td>\n      <td>NaN</td>\n      <td>NaN</td>\n      <td>NaN</td>\n      <td>NaN</td>\n    </tr>\n    <tr>\n      <th>...</th>\n      <td>...</td>\n      <td>...</td>\n      <td>...</td>\n      <td>...</td>\n      <td>...</td>\n      <td>...</td>\n      <td>...</td>\n      <td>...</td>\n      <td>...</td>\n      <td>...</td>\n      <td>...</td>\n      <td>...</td>\n      <td>...</td>\n      <td>...</td>\n      <td>...</td>\n      <td>...</td>\n    </tr>\n    <tr>\n      <th>(19, hallucination, No R, T/F)</th>\n      <td>0.875000</td>\n      <td>0.860000</td>\n      <td>0.766667</td>\n      <td>0.850000</td>\n      <td>0.700000</td>\n      <td>0.790000</td>\n      <td>0.835714</td>\n      <td>0.790000</td>\n      <td>0.925000</td>\n      <td>0.778571</td>\n      <td>0.750000</td>\n      <td>0.783333</td>\n      <td>0.775000</td>\n      <td>0.787500</td>\n      <td>0.824359</td>\n      <td>0.805696</td>\n    </tr>\n    <tr>\n      <th>(19, composite_questions, R, T/F)</th>\n      <td>NaN</td>\n      <td>NaN</td>\n      <td>NaN</td>\n      <td>NaN</td>\n      <td>NaN</td>\n      <td>NaN</td>\n      <td>NaN</td>\n      <td>NaN</td>\n      <td>NaN</td>\n      <td>NaN</td>\n      <td>NaN</td>\n      <td>NaN</td>\n      <td>NaN</td>\n      <td>NaN</td>\n      <td>NaN</td>\n      <td>NaN</td>\n    </tr>\n    <tr>\n      <th>(19, composite_questions, No R, T/F)</th>\n      <td>NaN</td>\n      <td>NaN</td>\n      <td>NaN</td>\n      <td>NaN</td>\n      <td>NaN</td>\n      <td>NaN</td>\n      <td>NaN</td>\n      <td>NaN</td>\n      <td>NaN</td>\n      <td>NaN</td>\n      <td>NaN</td>\n      <td>NaN</td>\n      <td>NaN</td>\n      <td>NaN</td>\n      <td>NaN</td>\n      <td>NaN</td>\n    </tr>\n    <tr>\n      <th>(19, ALL_CATEGORIES, R, T/F)</th>\n      <td>NaN</td>\n      <td>NaN</td>\n      <td>NaN</td>\n      <td>NaN</td>\n      <td>NaN</td>\n      <td>NaN</td>\n      <td>NaN</td>\n      <td>NaN</td>\n      <td>NaN</td>\n      <td>NaN</td>\n      <td>NaN</td>\n      <td>NaN</td>\n      <td>NaN</td>\n      <td>NaN</td>\n      <td>NaN</td>\n      <td>NaN</td>\n    </tr>\n    <tr>\n      <th>(19, ALL_CATEGORIES, No R, T/F)</th>\n      <td>0.613563</td>\n      <td>0.631579</td>\n      <td>0.620690</td>\n      <td>0.645429</td>\n      <td>0.649735</td>\n      <td>0.667949</td>\n      <td>0.661187</td>\n      <td>0.611538</td>\n      <td>0.649364</td>\n      <td>0.618018</td>\n      <td>0.626316</td>\n      <td>0.678832</td>\n      <td>0.655602</td>\n      <td>0.643741</td>\n      <td>0.637027</td>\n      <td>0.640438</td>\n    </tr>\n  </tbody>\n</table>\n<p>90 rows × 16 columns</p>\n</div>"
     },
     "execution_count": 31,
     "metadata": {},
     "output_type": "execute_result"
    }
   ],
   "source": [
    "df"
   ],
   "metadata": {
    "collapsed": false,
    "ExecuteTime": {
     "end_time": "2024-05-03T22:21:28.689333Z",
     "start_time": "2024-05-03T22:21:28.665513Z"
    }
   },
   "id": "5b5a15905194ac6a",
   "execution_count": 31
  },
  {
   "cell_type": "code",
   "outputs": [
    {
     "name": "stderr",
     "output_type": "stream",
     "text": [
      "/var/folders/_0/bqv6dr454lsgny6_gs_xb0q80000gn/T/ipykernel_62304/1674328619.py:2: FutureWarning: In future versions `DataFrame.to_latex` is expected to utilise the base implementation of `Styler.to_latex` for formatting and rendering. The arguments signature may therefore change. It is recommended instead to use `DataFrame.style.to_latex` which also contains additional functionality.\n",
      "  latex_table = df.to_latex(index=True, formatters={\"name\": str.upper}, float_format=\"{:.2f}\".format)\n"
     ]
    }
   ],
   "source": [
    "# latex_table = r'\\midrule \\n'.join(df.to_latex(index=True, formatters={\"name\": str.upper}, float_format=\"{:.2f}\".format) for df in dfs)\n",
    "latex_table = df.to_latex(index=True, formatters={\"name\": str.upper}, float_format=\"{:.2f}\".format)\n",
    "\n",
    "\n",
    "latex_table_all = r\"\"\"\n",
    "\\begin{table*}[h!]\n",
    "\\begin{adjustbox}{width=\\textwidth,center}\n",
    "\"\"\" + latex_table + \"\"\"\n",
    "\\end{adjustbox}\n",
    "\\caption{\"\"\" + f'{model_name.replace(\"_\", \" \")}, {prompt_type.replace(\"_\", \" \")}, {subs.replace(\"_\", \" \")}, {answer_type_ext.replace(\"_\", \" \")}' + \"\"\"}\n",
    "\\end{table*}\n",
    "\"\"\"\n",
    "os.makedirs(os.path.join(STATISTICS_PATH, 'tables_2'), exist_ok=True)\n",
    "with open(os.path.join(STATISTICS_PATH, 'tables_2', f'{model_name}.{prompt_type}.{answer_type_ext}.{save_key}.tex'), 'w') as f:\n",
    "    f.write(latex_table_all)"
   ],
   "metadata": {
    "collapsed": false,
    "ExecuteTime": {
     "end_time": "2024-05-03T22:22:21.282657Z",
     "start_time": "2024-05-03T22:22:21.193317Z"
    }
   },
   "id": "f096656451a1a662",
   "execution_count": 32
  },
  {
   "cell_type": "code",
   "outputs": [
    {
     "data": {
      "text/plain": "'\\n\\\\begin{table*}[h!]\\n\\\\begin{adjustbox}{width=\\\\textwidth,center}\\n\\\\begin{tabular}{lrrrrrrrrrrrrrrrr}\\n\\\\toprule\\n{} &  blocksworld &  depots &  driverlog &  goldminer &  grippers &  logistics &  miconic &  mystery &  npuzzle &  satellite &  spanner &  visitall &  zenotravel &  TRANSPORTATION &  NON\\\\_TRANSPORTATION &  ALL\\\\_DOMAINS \\\\\\\\\\n\\\\midrule\\n(1, object\\\\_tracking, R, T/F)         &          NaN &     NaN &        NaN &        NaN &       NaN &        NaN &      NaN &      NaN &      NaN &        NaN &      NaN &       NaN &         NaN &             NaN &                 NaN &          NaN \\\\\\\\\\n(1, object\\\\_tracking, No R, T/F)      &         0.75 &    0.75 &       0.67 &       0.67 &      0.74 &       0.78 &     0.80 &     0.66 &     0.69 &       0.69 &     0.69 &      0.79 &        0.72 &            0.73 &                0.71 &         0.72 \\\\\\\\\\n(1, fluent\\\\_tracking, R, T/F)         &          NaN &     NaN &        NaN &        NaN &       NaN &        NaN &      NaN &      NaN &      NaN &        NaN &      NaN &       NaN &         NaN &             NaN &                 NaN &          NaN \\\\\\\\\\n(1, fluent\\\\_tracking, No R, T/F)      &         0.66 &    0.72 &       0.73 &       0.72 &      0.81 &       0.76 &     0.80 &     0.68 &     0.72 &       0.66 &     0.83 &      0.82 &        0.73 &            0.75 &                0.73 &         0.74 \\\\\\\\\\n(1, state\\\\_tracking, R, T/F)          &          NaN &     NaN &        NaN &        NaN &       NaN &        NaN &      NaN &      NaN &      NaN &        NaN &      NaN &       NaN &         NaN &             NaN &                 NaN &          NaN \\\\\\\\\\n(1, state\\\\_tracking, No R, T/F)       &         0.65 &    0.70 &       0.78 &        NaN &      0.90 &       0.70 &     0.80 &     0.50 &     0.65 &       0.50 &     0.95 &       NaN &        0.70 &            0.72 &                0.69 &         0.71 \\\\\\\\\\n(1, action\\\\_executability, R, T/F)    &          NaN &     NaN &        NaN &        NaN &       NaN &        NaN &      NaN &      NaN &      NaN &        NaN &      NaN &       NaN &         NaN &             NaN &                 NaN &          NaN \\\\\\\\\\n(1, action\\\\_executability, No R, T/F) &         0.78 &    0.82 &       0.70 &       0.71 &      0.85 &       0.82 &     0.73 &     0.65 &     0.82 &       0.78 &     0.88 &      0.80 &        0.88 &            0.78 &                0.80 &         0.79 \\\\\\\\\\n(1, effects, R, T/F)                 &          NaN &     NaN &        NaN &        NaN &       NaN &        NaN &      NaN &      NaN &      NaN &        NaN &      NaN &       NaN &         NaN &             NaN &                 NaN &          NaN \\\\\\\\\\n(1, effects, No R, T/F)              &         0.77 &    0.73 &       0.66 &       0.62 &      0.80 &       0.78 &     0.58 &     0.74 &     0.66 &       0.50 &     0.69 &      0.73 &        0.61 &            0.69 &                0.66 &         0.68 \\\\\\\\\\n(1, numerical\\\\_reasoning, R, T/F)     &          NaN &     NaN &        NaN &        NaN &       NaN &        NaN &      NaN &      NaN &      NaN &        NaN &      NaN &       NaN &         NaN &             NaN &                 NaN &          NaN \\\\\\\\\\n(1, numerical\\\\_reasoning, No R, T/F)  &         0.53 &    0.51 &       0.50 &       0.50 &      0.53 &       0.48 &     0.52 &     0.51 &     0.50 &       0.52 &     0.56 &      0.51 &        0.49 &            0.51 &                0.52 &         0.51 \\\\\\\\\\n(1, hallucination, R, T/F)           &          NaN &     NaN &        NaN &        NaN &       NaN &        NaN &      NaN &      NaN &      NaN &        NaN &      NaN &       NaN &         NaN &             NaN &                 NaN &          NaN \\\\\\\\\\n(1, hallucination, No R, T/F)        &         0.95 &    0.87 &       0.86 &       0.91 &      0.78 &       0.87 &     0.81 &     0.88 &     0.90 &       0.80 &     0.89 &      0.79 &        0.80 &            0.83 &                0.87 &         0.85 \\\\\\\\\\n(1, composite\\\\_questions, R, T/F)     &          NaN &     NaN &        NaN &        NaN &       NaN &        NaN &      NaN &      NaN &      NaN &        NaN &      NaN &       NaN &         NaN &             NaN &                 NaN &          NaN \\\\\\\\\\n(1, composite\\\\_questions, No R, T/F)  &          NaN &     NaN &        NaN &        NaN &       NaN &        NaN &      NaN &      NaN &      NaN &        NaN &      NaN &       NaN &         NaN &             NaN &                 NaN &          NaN \\\\\\\\\\n(1, ALL\\\\_CATEGORIES, R, T/F)          &          NaN &     NaN &        NaN &        NaN &       NaN &        NaN &      NaN &      NaN &      NaN &        NaN &      NaN &       NaN &         NaN &             NaN &                 NaN &          NaN \\\\\\\\\\n(1, ALL\\\\_CATEGORIES, No R, T/F)       &         0.71 &    0.69 &       0.67 &       0.68 &      0.73 &       0.71 &     0.71 &     0.66 &     0.69 &       0.64 &     0.75 &      0.72 &        0.68 &            0.69 &                0.69 &         0.69 \\\\\\\\\\n\\\\bottomrule\\n\\\\end{tabular}\\n\\\\midrule \\\\n\\\\begin{tabular}{lrrrrrrrrrrrrrrrr}\\n\\\\toprule\\n{} &  blocksworld &  depots &  driverlog &  goldminer &  grippers &  logistics &  miconic &  mystery &  npuzzle &  satellite &  spanner &  visitall &  zenotravel &  TRANSPORTATION &  NON\\\\_TRANSPORTATION &  ALL\\\\_DOMAINS \\\\\\\\\\n\\\\midrule\\n(5, object\\\\_tracking, R, T/F)         &          NaN &     NaN &        NaN &        NaN &       NaN &        NaN &      NaN &      NaN &      NaN &        NaN &      NaN &       NaN &         NaN &             NaN &                 NaN &          NaN \\\\\\\\\\n(5, object\\\\_tracking, No R, T/F)      &         0.74 &    0.71 &       0.68 &       0.67 &      0.70 &       0.76 &     0.82 &     0.63 &     0.69 &       0.64 &     0.70 &      0.76 &        0.70 &            0.72 &                0.69 &         0.71 \\\\\\\\\\n(5, fluent\\\\_tracking, R, T/F)         &          NaN &     NaN &        NaN &        NaN &       NaN &        NaN &      NaN &      NaN &      NaN &        NaN &      NaN &       NaN &         NaN &             NaN &                 NaN &          NaN \\\\\\\\\\n(5, fluent\\\\_tracking, No R, T/F)      &         0.67 &    0.65 &       0.70 &       0.67 &      0.71 &       0.77 &     0.78 &     0.68 &     0.71 &       0.65 &     0.80 &      0.74 &        0.74 &            0.72 &                0.70 &         0.71 \\\\\\\\\\n(5, state\\\\_tracking, R, T/F)          &          NaN &     NaN &        NaN &        NaN &       NaN &        NaN &      NaN &      NaN &      NaN &        NaN &      NaN &       NaN &         NaN &             NaN &                 NaN &          NaN \\\\\\\\\\n(5, state\\\\_tracking, No R, T/F)       &         0.70 &    0.80 &       0.75 &        NaN &      1.00 &       0.75 &     0.70 &     0.55 &     0.50 &       0.55 &     0.75 &       NaN &        0.80 &            0.77 &                0.62 &         0.71 \\\\\\\\\\n(5, action\\\\_executability, R, T/F)    &          NaN &     NaN &        NaN &        NaN &       NaN &        NaN &      NaN &      NaN &      NaN &        NaN &      NaN &       NaN &         NaN &             NaN &                 NaN &          NaN \\\\\\\\\\n(5, action\\\\_executability, No R, T/F) &         0.53 &    0.60 &       0.50 &       0.62 &      0.65 &       0.60 &     0.57 &     0.62 &     0.70 &       0.60 &     0.65 &      0.68 &        0.73 &            0.61 &                0.63 &         0.62 \\\\\\\\\\n(5, effects, R, T/F)                 &          NaN &     NaN &        NaN &        NaN &       NaN &        NaN &      NaN &      NaN &      NaN &        NaN &      NaN &       NaN &         NaN &             NaN &                 NaN &          NaN \\\\\\\\\\n(5, effects, No R, T/F)              &         0.69 &    0.73 &       0.61 &       0.60 &      0.68 &       0.67 &     0.61 &     0.70 &     0.66 &       0.60 &     0.61 &      0.62 &        0.63 &            0.66 &                0.63 &         0.64 \\\\\\\\\\n(5, numerical\\\\_reasoning, R, T/F)     &          NaN &     NaN &        NaN &        NaN &       NaN &        NaN &      NaN &      NaN &      NaN &        NaN &      NaN &       NaN &         NaN &             NaN &                 NaN &          NaN \\\\\\\\\\n(5, numerical\\\\_reasoning, No R, T/F)  &         0.51 &    0.51 &       0.52 &       0.53 &      0.49 &       0.48 &     0.51 &     0.51 &     0.51 &       0.51 &     0.54 &      0.51 &        0.52 &            0.50 &                0.52 &         0.51 \\\\\\\\\\n(5, hallucination, R, T/F)           &          NaN &     NaN &        NaN &        NaN &       NaN &        NaN &      NaN &      NaN &      NaN &        NaN &      NaN &       NaN &         NaN &             NaN &                 NaN &          NaN \\\\\\\\\\n(5, hallucination, No R, T/F)        &         0.93 &    0.86 &       0.83 &       0.88 &      0.75 &       0.85 &     0.87 &     0.73 &     0.94 &       0.83 &     0.79 &      0.68 &        0.81 &            0.82 &                0.84 &         0.83 \\\\\\\\\\n(5, composite\\\\_questions, R, T/F)     &          NaN &     NaN &        NaN &        NaN &       NaN &        NaN &      NaN &      NaN &      NaN &        NaN &      NaN &       NaN &         NaN &             NaN &                 NaN &          NaN \\\\\\\\\\n(5, composite\\\\_questions, No R, T/F)  &          NaN &     NaN &        NaN &        NaN &       NaN &        NaN &      NaN &      NaN &      NaN &        NaN &      NaN &       NaN &         NaN &             NaN &                 NaN &          NaN \\\\\\\\\\n(5, ALL\\\\_CATEGORIES, R, T/F)          &          NaN &     NaN &        NaN &        NaN &       NaN &        NaN &      NaN &      NaN &      NaN &        NaN &      NaN &       NaN &         NaN &             NaN &                 NaN &          NaN \\\\\\\\\\n(5, ALL\\\\_CATEGORIES, No R, T/F)       &         0.68 &    0.66 &       0.65 &       0.66 &      0.67 &       0.68 &     0.71 &     0.63 &     0.68 &       0.63 &     0.70 &      0.66 &        0.68 &            0.67 &                0.67 &         0.67 \\\\\\\\\\n\\\\bottomrule\\n\\\\end{tabular}\\n\\\\midrule \\\\n\\\\begin{tabular}{lrrrrrrrrrrrrrrrr}\\n\\\\toprule\\n{} &  blocksworld &  depots &  driverlog &  goldminer &  grippers &  logistics &  miconic &  mystery &  npuzzle &  satellite &  spanner &  visitall &  zenotravel &  TRANSPORTATION &  NON\\\\_TRANSPORTATION &  ALL\\\\_DOMAINS \\\\\\\\\\n\\\\midrule\\n(10, object\\\\_tracking, R, T/F)         &          NaN &     NaN &        NaN &        NaN &       NaN &        NaN &      NaN &      NaN &      NaN &        NaN &      NaN &       NaN &         NaN &             NaN &                 NaN &          NaN \\\\\\\\\\n(10, object\\\\_tracking, No R, T/F)      &         0.72 &    0.77 &       0.68 &       0.66 &      0.73 &       0.76 &     0.81 &     0.58 &     0.68 &       0.58 &     0.72 &      0.77 &        0.67 &            0.72 &                0.68 &         0.70 \\\\\\\\\\n(10, fluent\\\\_tracking, R, T/F)         &          NaN &     NaN &        NaN &        NaN &       NaN &        NaN &      NaN &      NaN &      NaN &        NaN &      NaN &       NaN &         NaN &             NaN &                 NaN &          NaN \\\\\\\\\\n(10, fluent\\\\_tracking, No R, T/F)      &         0.65 &    0.64 &       0.68 &       0.69 &      0.74 &       0.78 &     0.74 &     0.63 &     0.70 &       0.62 &     0.75 &      0.74 &        0.76 &            0.72 &                0.69 &         0.70 \\\\\\\\\\n(10, state\\\\_tracking, R, T/F)          &          NaN &     NaN &        NaN &        NaN &       NaN &        NaN &      NaN &      NaN &      NaN &        NaN &      NaN &       NaN &         NaN &             NaN &                 NaN &          NaN \\\\\\\\\\n(10, state\\\\_tracking, No R, T/F)       &         0.65 &    0.90 &       0.62 &        NaN &      0.85 &       0.80 &     0.65 &     0.55 &     0.60 &       0.45 &     0.75 &       NaN &        0.50 &            0.70 &                0.61 &         0.67 \\\\\\\\\\n(10, action\\\\_executability, R, T/F)    &          NaN &     NaN &        NaN &        NaN &       NaN &        NaN &      NaN &      NaN &      NaN &        NaN &      NaN &       NaN &         NaN &             NaN &                 NaN &          NaN \\\\\\\\\\n(10, action\\\\_executability, No R, T/F) &         0.53 &    0.53 &       0.53 &       0.64 &      0.45 &       0.68 &     0.55 &     0.48 &     0.48 &       0.50 &     0.50 &      0.62 &        0.65 &            0.55 &                0.54 &         0.55 \\\\\\\\\\n(10, effects, R, T/F)                 &          NaN &     NaN &        NaN &        NaN &       NaN &        NaN &      NaN &      NaN &      NaN &        NaN &      NaN &       NaN &         NaN &             NaN &                 NaN &          NaN \\\\\\\\\\n(10, effects, No R, T/F)              &         0.64 &    0.75 &       0.63 &       0.53 &      0.66 &       0.75 &     0.58 &     0.73 &     0.64 &       0.57 &     0.61 &      0.74 &        0.66 &            0.68 &                0.62 &         0.65 \\\\\\\\\\n(10, numerical\\\\_reasoning, R, T/F)     &          NaN &     NaN &        NaN &        NaN &       NaN &        NaN &      NaN &      NaN &      NaN &        NaN &      NaN &       NaN &         NaN &             NaN &                 NaN &          NaN \\\\\\\\\\n(10, numerical\\\\_reasoning, No R, T/F)  &         0.49 &    0.51 &       0.53 &       0.50 &      0.51 &       0.48 &     0.50 &     0.50 &     0.51 &       0.50 &     0.52 &      0.48 &        0.48 &            0.50 &                0.50 &         0.50 \\\\\\\\\\n(10, hallucination, R, T/F)           &          NaN &     NaN &        NaN &        NaN &       NaN &        NaN &      NaN &      NaN &      NaN &        NaN &      NaN &       NaN &         NaN &             NaN &                 NaN &          NaN \\\\\\\\\\n(10, hallucination, No R, T/F)        &         0.96 &    0.81 &       0.80 &       0.89 &      0.73 &       0.83 &     0.89 &     0.78 &     0.90 &       0.80 &     0.84 &      0.71 &        0.77 &            0.80 &                0.85 &         0.83 \\\\\\\\\\n(10, composite\\\\_questions, R, T/F)     &          NaN &     NaN &        NaN &        NaN &       NaN &        NaN &      NaN &      NaN &      NaN &        NaN &      NaN &       NaN &         NaN &             NaN &                 NaN &          NaN \\\\\\\\\\n(10, composite\\\\_questions, No R, T/F)  &          NaN &     NaN &        NaN &        NaN &       NaN &        NaN &      NaN &      NaN &      NaN &        NaN &      NaN &       NaN &         NaN &             NaN &                 NaN &          NaN \\\\\\\\\\n(10, ALL\\\\_CATEGORIES, R, T/F)          &          NaN &     NaN &        NaN &        NaN &       NaN &        NaN &      NaN &      NaN &      NaN &        NaN &      NaN &       NaN &         NaN &             NaN &                 NaN &          NaN \\\\\\\\\\n(10, ALL\\\\_CATEGORIES, No R, T/F)       &         0.66 &    0.66 &       0.65 &       0.65 &      0.67 &       0.70 &     0.69 &     0.62 &     0.66 &       0.60 &     0.68 &      0.67 &        0.66 &            0.67 &                0.65 &         0.66 \\\\\\\\\\n\\\\bottomrule\\n\\\\end{tabular}\\n\\\\midrule \\\\n\\\\begin{tabular}{lrrrrrrrrrrrrrrrr}\\n\\\\toprule\\n{} &  blocksworld &  depots &  driverlog &  goldminer &  grippers &  logistics &  miconic &  mystery &  npuzzle &  satellite &  spanner &  visitall &  zenotravel &  TRANSPORTATION &  NON\\\\_TRANSPORTATION &  ALL\\\\_DOMAINS \\\\\\\\\\n\\\\midrule\\n(15, object\\\\_tracking, R, T/F)         &          NaN &     NaN &        NaN &        NaN &       NaN &        NaN &      NaN &      NaN &      NaN &        NaN &      NaN &       NaN &         NaN &             NaN &                 NaN &          NaN \\\\\\\\\\n(15, object\\\\_tracking, No R, T/F)      &         0.70 &    0.70 &       0.67 &       0.64 &      0.68 &       0.74 &     0.77 &     0.57 &     0.70 &       0.57 &     0.75 &      0.74 &        0.68 &            0.69 &                0.67 &         0.68 \\\\\\\\\\n(15, fluent\\\\_tracking, R, T/F)         &          NaN &     NaN &        NaN &        NaN &       NaN &        NaN &      NaN &      NaN &      NaN &        NaN &      NaN &       NaN &         NaN &             NaN &                 NaN &          NaN \\\\\\\\\\n(15, fluent\\\\_tracking, No R, T/F)      &         0.63 &    0.66 &       0.69 &       0.63 &      0.70 &       0.73 &     0.74 &     0.62 &     0.68 &       0.64 &     0.76 &      0.69 &        0.70 &            0.70 &                0.67 &         0.68 \\\\\\\\\\n(15, state\\\\_tracking, R, T/F)          &          NaN &     NaN &        NaN &        NaN &       NaN &        NaN &      NaN &      NaN &      NaN &        NaN &      NaN &       NaN &         NaN &             NaN &                 NaN &          NaN \\\\\\\\\\n(15, state\\\\_tracking, No R, T/F)       &         0.70 &    0.80 &       0.86 &        NaN &      0.90 &       0.75 &     0.65 &     0.60 &     0.50 &       0.50 &     0.55 &       NaN &        0.65 &            0.73 &                0.56 &         0.67 \\\\\\\\\\n(15, action\\\\_executability, R, T/F)    &          NaN &     NaN &        NaN &        NaN &       NaN &        NaN &      NaN &      NaN &      NaN &        NaN &      NaN &       NaN &         NaN &             NaN &                 NaN &          NaN \\\\\\\\\\n(15, action\\\\_executability, No R, T/F) &         0.53 &    0.60 &       0.48 &       0.60 &      0.57 &       0.53 &     0.57 &     0.48 &     0.55 &       0.53 &     0.55 &      0.55 &        0.60 &            0.55 &                0.55 &         0.55 \\\\\\\\\\n(15, effects, R, T/F)                 &          NaN &     NaN &        NaN &        NaN &       NaN &        NaN &      NaN &      NaN &      NaN &        NaN &      NaN &       NaN &         NaN &             NaN &                 NaN &          NaN \\\\\\\\\\n(15, effects, No R, T/F)              &         0.61 &    0.68 &       0.55 &       0.63 &      0.72 &       0.72 &     0.57 &     0.68 &     0.64 &       0.53 &     0.56 &      0.71 &        0.69 &            0.65 &                0.61 &         0.63 \\\\\\\\\\n(15, numerical\\\\_reasoning, R, T/F)     &          NaN &     NaN &        NaN &        NaN &       NaN &        NaN &      NaN &      NaN &      NaN &        NaN &      NaN &       NaN &         NaN &             NaN &                 NaN &          NaN \\\\\\\\\\n(15, numerical\\\\_reasoning, No R, T/F)  &         0.51 &    0.51 &       0.51 &       0.47 &      0.52 &       0.49 &     0.50 &     0.51 &     0.51 &       0.50 &     0.51 &      0.49 &        0.49 &            0.50 &                0.50 &         0.50 \\\\\\\\\\n(15, hallucination, R, T/F)           &          NaN &     NaN &        NaN &        NaN &       NaN &        NaN &      NaN &      NaN &      NaN &        NaN &      NaN &       NaN &         NaN &             NaN &                 NaN &          NaN \\\\\\\\\\n(15, hallucination, No R, T/F)        &         0.92 &    0.85 &       0.78 &       0.88 &      0.72 &       0.81 &     0.88 &     0.77 &     0.90 &       0.79 &     0.84 &      0.68 &        0.77 &            0.80 &                0.83 &         0.81 \\\\\\\\\\n(15, composite\\\\_questions, R, T/F)     &          NaN &     NaN &        NaN &        NaN &       NaN &        NaN &      NaN &      NaN &      NaN &        NaN &      NaN &       NaN &         NaN &             NaN &                 NaN &          NaN \\\\\\\\\\n(15, composite\\\\_questions, No R, T/F)  &          NaN &     NaN &        NaN &        NaN &       NaN &        NaN &      NaN &      NaN &      NaN &        NaN &      NaN &       NaN &         NaN &             NaN &                 NaN &          NaN \\\\\\\\\\n(15, ALL\\\\_CATEGORIES, R, T/F)          &          NaN &     NaN &        NaN &        NaN &       NaN &        NaN &      NaN &      NaN &      NaN &        NaN &      NaN &       NaN &         NaN &             NaN &                 NaN &          NaN \\\\\\\\\\n(15, ALL\\\\_CATEGORIES, No R, T/F)       &         0.65 &    0.65 &       0.63 &       0.63 &      0.66 &       0.67 &     0.69 &     0.60 &     0.66 &       0.60 &     0.68 &      0.65 &        0.65 &            0.65 &                0.64 &         0.65 \\\\\\\\\\n\\\\bottomrule\\n\\\\end{tabular}\\n\\\\midrule \\\\n\\\\begin{tabular}{lrrrrrrrrrrrrrrrr}\\n\\\\toprule\\n{} &  blocksworld &  depots &  driverlog &  goldminer &  grippers &  logistics &  miconic &  mystery &  npuzzle &  satellite &  spanner &  visitall &  zenotravel &  TRANSPORTATION &  NON\\\\_TRANSPORTATION &  ALL\\\\_DOMAINS \\\\\\\\\\n\\\\midrule\\n(19, object\\\\_tracking, R, T/F)         &          NaN &     NaN &        NaN &        NaN &       NaN &        NaN &      NaN &      NaN &      NaN &        NaN &      NaN &       NaN &         NaN &             NaN &                 NaN &          NaN \\\\\\\\\\n(19, object\\\\_tracking, No R, T/F)      &         0.68 &    0.68 &       0.65 &       0.68 &      0.68 &       0.73 &     0.74 &     0.58 &     0.62 &       0.60 &     0.60 &      0.76 &        0.68 &            0.68 &                0.65 &         0.66 \\\\\\\\\\n(19, fluent\\\\_tracking, R, T/F)         &          NaN &     NaN &        NaN &        NaN &       NaN &        NaN &      NaN &      NaN &      NaN &        NaN &      NaN &       NaN &         NaN &             NaN &                 NaN &          NaN \\\\\\\\\\n(19, fluent\\\\_tracking, No R, T/F)      &         0.57 &    0.63 &       0.64 &       0.65 &      0.71 &       0.71 &     0.73 &     0.64 &     0.69 &       0.65 &     0.69 &      0.71 &        0.70 &            0.68 &                0.66 &         0.67 \\\\\\\\\\n(19, state\\\\_tracking, R, T/F)          &          NaN &     NaN &        NaN &        NaN &       NaN &        NaN &      NaN &      NaN &      NaN &        NaN &      NaN &       NaN &         NaN &             NaN &                 NaN &          NaN \\\\\\\\\\n(19, state\\\\_tracking, No R, T/F)       &         0.50 &    0.75 &       0.67 &        NaN &      0.75 &       0.70 &     0.80 &     0.60 &     0.50 &       0.55 &     0.65 &       NaN &        0.50 &            0.68 &                0.55 &         0.63 \\\\\\\\\\n(19, action\\\\_executability, R, T/F)    &          NaN &     NaN &        NaN &        NaN &       NaN &        NaN &      NaN &      NaN &      NaN &        NaN &      NaN &       NaN &         NaN &             NaN &                 NaN &          NaN \\\\\\\\\\n(19, action\\\\_executability, No R, T/F) &         0.50 &    0.48 &       0.62 &       0.65 &      0.48 &       0.53 &     0.60 &     0.50 &     0.48 &       0.50 &     0.60 &      0.57 &        0.55 &            0.54 &                0.55 &         0.54 \\\\\\\\\\n(19, effects, R, T/F)                 &          NaN &     NaN &        NaN &        NaN &       NaN &        NaN &      NaN &      NaN &      NaN &        NaN &      NaN &       NaN &         NaN &             NaN &                 NaN &          NaN \\\\\\\\\\n(19, effects, No R, T/F)              &         0.61 &    0.67 &       0.61 &       0.57 &      0.74 &       0.73 &     0.48 &     0.68 &     0.66 &       0.63 &     0.55 &      0.74 &        0.71 &            0.65 &                0.62 &         0.64 \\\\\\\\\\n(19, numerical\\\\_reasoning, R, T/F)     &          NaN &     NaN &        NaN &        NaN &       NaN &        NaN &      NaN &      NaN &      NaN &        NaN &      NaN &       NaN &         NaN &             NaN &                 NaN &          NaN \\\\\\\\\\n(19, numerical\\\\_reasoning, No R, T/F)  &         0.51 &    0.49 &       0.49 &       0.52 &      0.49 &       0.52 &     0.50 &     0.49 &     0.51 &       0.50 &     0.52 &      0.51 &        0.51 &            0.50 &                0.51 &         0.50 \\\\\\\\\\n(19, hallucination, R, T/F)           &          NaN &     NaN &        NaN &        NaN &       NaN &        NaN &      NaN &      NaN &      NaN &        NaN &      NaN &       NaN &         NaN &             NaN &                 NaN &          NaN \\\\\\\\\\n(19, hallucination, No R, T/F)        &         0.88 &    0.86 &       0.77 &       0.85 &      0.70 &       0.79 &     0.84 &     0.79 &     0.93 &       0.78 &     0.75 &      0.78 &        0.78 &            0.79 &                0.82 &         0.81 \\\\\\\\\\n(19, composite\\\\_questions, R, T/F)     &          NaN &     NaN &        NaN &        NaN &       NaN &        NaN &      NaN &      NaN &      NaN &        NaN &      NaN &       NaN &         NaN &             NaN &                 NaN &          NaN \\\\\\\\\\n(19, composite\\\\_questions, No R, T/F)  &          NaN &     NaN &        NaN &        NaN &       NaN &        NaN &      NaN &      NaN &      NaN &        NaN &      NaN &       NaN &         NaN &             NaN &                 NaN &          NaN \\\\\\\\\\n(19, ALL\\\\_CATEGORIES, R, T/F)          &          NaN &     NaN &        NaN &        NaN &       NaN &        NaN &      NaN &      NaN &      NaN &        NaN &      NaN &       NaN &         NaN &             NaN &                 NaN &          NaN \\\\\\\\\\n(19, ALL\\\\_CATEGORIES, No R, T/F)       &         0.61 &    0.63 &       0.62 &       0.65 &      0.65 &       0.67 &     0.66 &     0.61 &     0.65 &       0.62 &     0.63 &      0.68 &        0.66 &            0.64 &                0.64 &         0.64 \\\\\\\\\\n\\\\bottomrule\\n\\\\end{tabular}\\n\\n\\\\end{adjustbox}\\n\\\\caption{gemini, few shot 5, without random sub, true false answer.f1}\\n\\\\end{table*}\\n'"
     },
     "execution_count": 26,
     "metadata": {},
     "output_type": "execute_result"
    }
   ],
   "source": [
    "latex_table_all"
   ],
   "metadata": {
    "collapsed": false,
    "ExecuteTime": {
     "end_time": "2024-05-03T22:15:55.200209Z",
     "start_time": "2024-05-03T22:15:55.195312Z"
    }
   },
   "id": "fce2dd4c8a038ff1",
   "execution_count": 26
  },
  {
   "cell_type": "code",
   "outputs": [
    {
     "data": {
      "text/plain": "'bsdsb'"
     },
     "execution_count": 30,
     "metadata": {},
     "output_type": "execute_result"
    }
   ],
   "source": [
    "'asdsa'.replace('a', 'b')"
   ],
   "metadata": {
    "collapsed": false,
    "ExecuteTime": {
     "end_time": "2024-04-27T23:04:35.359291Z",
     "start_time": "2024-04-27T23:04:35.354739Z"
    }
   },
   "id": "63a61708b6738b85",
   "execution_count": 30
  },
  {
   "cell_type": "code",
   "outputs": [],
   "source": [],
   "metadata": {
    "collapsed": false
   },
   "id": "58214f61440c13c8"
  }
 ],
 "metadata": {
  "kernelspec": {
   "display_name": "Python 3",
   "language": "python",
   "name": "python3"
  },
  "language_info": {
   "codemirror_mode": {
    "name": "ipython",
    "version": 2
   },
   "file_extension": ".py",
   "mimetype": "text/x-python",
   "name": "python",
   "nbconvert_exporter": "python",
   "pygments_lexer": "ipython2",
   "version": "2.7.6"
  }
 },
 "nbformat": 4,
 "nbformat_minor": 5
}
