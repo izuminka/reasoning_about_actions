{
 "cells": [
  {
   "cell_type": "code",
   "outputs": [],
   "source": [
    "import sys\n",
    "import json\n",
    "sys.path.append('..')\n",
    "from src.analysis.model_performances import *\n",
    "import pandas as pd\n",
    "EVERYTHING_POSTFIX = 'everything'"
   ],
   "metadata": {
    "collapsed": false,
    "ExecuteTime": {
     "end_time": "2024-04-22T01:28:33.257247Z",
     "start_time": "2024-04-22T01:28:33.179411Z"
    }
   },
   "id": "1581e9208ff09f8e",
   "execution_count": 18
  },
  {
   "cell_type": "code",
   "outputs": [],
   "source": [
    "def to_df(results_all, model_name, answer_type, prompt_type, subs, domains):\n",
    "    d_ramifications_pretty = {\n",
    "        WITH_RAMIFICATIONS : 'R',\n",
    "        WITHOUT_RAMIFICATIONS : 'No R'\n",
    "    }\n",
    "    d_answer_type_pretty = {\n",
    "        TRUE_FALSE_ANSWER_TYPE : 'T/F',\n",
    "        FREE_ANSWER_TYPE : 'Free'\n",
    "    }\n",
    "    \n",
    "    index = []\n",
    "    data = []\n",
    "    for plan_length in PLAN_LENGTHS:\n",
    "        for question_category in QUESTION_CATEGORIES + [ALL_QUESTION_CATEGORIES_KEY]:\n",
    "            for ramifications in RAMIFICATION_TYPES:\n",
    "                index.append((plan_length, question_category, d_ramifications_pretty[ramifications], d_answer_type_pretty[answer_type]))\n",
    "                data_columns = {}\n",
    "                for domain in domains:\n",
    "                    instance = filter_single_selector(results_all, plan_length, question_category, ramifications, model_name, prompt_type, domain,\n",
    "                          answer_type, subs)\n",
    "                    if len(instance) == 0:\n",
    "                        data_columns[domain] = None\n",
    "                    elif not len(instance) == 1: \n",
    "                        raise ValueError(f'len(instance) == {len(instance)}')\n",
    "                    else:\n",
    "                        data_columns[domain] = instance[0][SK_RESULT]\n",
    "                data.append(data_columns)\n",
    "    return pd.DataFrame(data, index = index)\n",
    "\n",
    "# def df_to_latex_table(df):\n",
    "#         latex_table = df.to_latex(index=True, formatters={\"name\": str.upper}, float_format=\"{:.2f}\".format)\n",
    "#         return latex_table[latex_table.find('\\midrule'):].replace(\"bottomrule\", 'crap').replace(\"\\crap\", '').replace(\"\\end{tabular}\", '')\n",
    "\n",
    "# def assemble_table(results_all, answer_type, domain, score_key=None):\n",
    "#     latex_table_all = ''\n",
    "#     with open('latex_table_template/top') as f:\n",
    "#         latex_table_all += f.read() + '\\n'\n",
    "#     latex_table_all += '\\n'.join([df_to_latex_table(to_df(results_all, answer_type, plan_length, domain)) for plan_length in PLAN_LENGTHS])\n",
    "#     with open('latex_table_template/bottom') as f:\n",
    "#         latex_table_all += f.read()\n",
    "#     \n",
    "#     caption = f'{answer_type}, {score_key} scores for {domain}'.replace('_', ' ')\n",
    "#     latex_table_all = latex_table_all.replace('REPLACE_CAPTION_KEY', caption)\n",
    "#     \n",
    "#     return latex_table_all\n"
   ],
   "metadata": {
    "collapsed": false,
    "ExecuteTime": {
     "end_time": "2024-04-22T01:28:34.073371Z",
     "start_time": "2024-04-22T01:28:34.059791Z"
    }
   },
   "id": "dd77fda858739d0e",
   "execution_count": 19
  },
  {
   "cell_type": "code",
   "outputs": [
    {
     "name": "stderr",
     "output_type": "stream",
     "text": [
      "100%|██████████| 10240/10240 [00:01<00:00, 5288.34it/s]\n"
     ]
    }
   ],
   "source": [
    "answer_type = TRUE_FALSE_ANSWER_TYPE #FREE_ANSWER#\n",
    "score_key = F1_SCORE_KEY#'accuracy'\n",
    "answer_type_ext = tf_answer_type(score_key = F1_SCORE_KEY)\n",
    "stats_all = collect_stats_all(tf_answer_type(score_key = F1_SCORE_KEY))"
   ],
   "metadata": {
    "collapsed": false,
    "ExecuteTime": {
     "end_time": "2024-04-22T01:28:39.119790Z",
     "start_time": "2024-04-22T01:28:37.173516Z"
    }
   },
   "id": "8fb4feeb322b4ab0",
   "execution_count": 20
  },
  {
   "cell_type": "code",
   "outputs": [],
   "source": [
    "model_name = 'gemma-2b-it'\n",
    "prompt_type = 'few_shot_1'\n",
    "subs = WITHOUT_RANDOM_SUB\n",
    "# domains= DOMAIN_NAMES + [ALL_DOMAINS_KEY]\n",
    "domains = [TRANSPORTATION_DOMAIN_KEY, NON_TRANSPORTATION_DOMAIN_KEY, ALL_DOMAINS_KEY]\n",
    "save_key = 'transport_vs_other'\n",
    "df = to_df(stats_all, model_name, answer_type, prompt_type, subs, domains)"
   ],
   "metadata": {
    "collapsed": false,
    "ExecuteTime": {
     "end_time": "2024-04-22T01:32:37.057556Z",
     "start_time": "2024-04-22T01:32:35.986226Z"
    }
   },
   "id": "578585d5135a72bd",
   "execution_count": 25
  },
  {
   "cell_type": "code",
   "outputs": [
    {
     "data": {
      "text/plain": "                                      TRANSPORTATION  NON_TRANSPORTATION  \\\n(1, object_tracking, R, T/F)                0.026827            0.036967   \n(1, object_tracking, No R, T/F)             0.022657            0.022094   \n(1, fluent_tracking, R, T/F)                0.193188            0.146300   \n(1, fluent_tracking, No R, T/F)             0.176088            0.137166   \n(1, state_tracking, R, T/F)                 0.421429            0.402439   \n...                                              ...                 ...   \n(19, numerical_reasoning, No R, T/F)        0.057857            0.032500   \n(19, hallucination, R, T/F)                 0.022472            0.016414   \n(19, hallucination, No R, T/F)              0.040000            0.026923   \n(19, all_categories, R, T/F)                0.097064            0.078419   \n(19, all_categories, No R, T/F)             0.103010            0.076630   \n\n                                      ALL_DOMAINS  \n(1, object_tracking, R, T/F)             0.031835  \n(1, object_tracking, No R, T/F)          0.022366  \n(1, fluent_tracking, R, T/F)             0.169200  \n(1, fluent_tracking, No R, T/F)          0.155340  \n(1, state_tracking, R, T/F)              0.414414  \n...                                           ...  \n(19, numerical_reasoning, No R, T/F)     0.046154  \n(19, hallucination, R, T/F)              0.019620  \n(19, hallucination, No R, T/F)           0.033544  \n(19, all_categories, R, T/F)             0.088308  \n(19, all_categories, No R, T/F)          0.090018  \n\n[80 rows x 3 columns]",
      "text/html": "<div>\n<style scoped>\n    .dataframe tbody tr th:only-of-type {\n        vertical-align: middle;\n    }\n\n    .dataframe tbody tr th {\n        vertical-align: top;\n    }\n\n    .dataframe thead th {\n        text-align: right;\n    }\n</style>\n<table border=\"1\" class=\"dataframe\">\n  <thead>\n    <tr style=\"text-align: right;\">\n      <th></th>\n      <th>TRANSPORTATION</th>\n      <th>NON_TRANSPORTATION</th>\n      <th>ALL_DOMAINS</th>\n    </tr>\n  </thead>\n  <tbody>\n    <tr>\n      <th>(1, object_tracking, R, T/F)</th>\n      <td>0.026827</td>\n      <td>0.036967</td>\n      <td>0.031835</td>\n    </tr>\n    <tr>\n      <th>(1, object_tracking, No R, T/F)</th>\n      <td>0.022657</td>\n      <td>0.022094</td>\n      <td>0.022366</td>\n    </tr>\n    <tr>\n      <th>(1, fluent_tracking, R, T/F)</th>\n      <td>0.193188</td>\n      <td>0.146300</td>\n      <td>0.169200</td>\n    </tr>\n    <tr>\n      <th>(1, fluent_tracking, No R, T/F)</th>\n      <td>0.176088</td>\n      <td>0.137166</td>\n      <td>0.155340</td>\n    </tr>\n    <tr>\n      <th>(1, state_tracking, R, T/F)</th>\n      <td>0.421429</td>\n      <td>0.402439</td>\n      <td>0.414414</td>\n    </tr>\n    <tr>\n      <th>...</th>\n      <td>...</td>\n      <td>...</td>\n      <td>...</td>\n    </tr>\n    <tr>\n      <th>(19, numerical_reasoning, No R, T/F)</th>\n      <td>0.057857</td>\n      <td>0.032500</td>\n      <td>0.046154</td>\n    </tr>\n    <tr>\n      <th>(19, hallucination, R, T/F)</th>\n      <td>0.022472</td>\n      <td>0.016414</td>\n      <td>0.019620</td>\n    </tr>\n    <tr>\n      <th>(19, hallucination, No R, T/F)</th>\n      <td>0.040000</td>\n      <td>0.026923</td>\n      <td>0.033544</td>\n    </tr>\n    <tr>\n      <th>(19, all_categories, R, T/F)</th>\n      <td>0.097064</td>\n      <td>0.078419</td>\n      <td>0.088308</td>\n    </tr>\n    <tr>\n      <th>(19, all_categories, No R, T/F)</th>\n      <td>0.103010</td>\n      <td>0.076630</td>\n      <td>0.090018</td>\n    </tr>\n  </tbody>\n</table>\n<p>80 rows × 3 columns</p>\n</div>"
     },
     "execution_count": 26,
     "metadata": {},
     "output_type": "execute_result"
    }
   ],
   "source": [
    "df"
   ],
   "metadata": {
    "collapsed": false,
    "ExecuteTime": {
     "end_time": "2024-04-22T01:32:40.050135Z",
     "start_time": "2024-04-22T01:32:40.032941Z"
    }
   },
   "id": "5b5a15905194ac6a",
   "execution_count": 26
  },
  {
   "cell_type": "code",
   "outputs": [
    {
     "name": "stderr",
     "output_type": "stream",
     "text": [
      "/var/folders/_0/bqv6dr454lsgny6_gs_xb0q80000gn/T/ipykernel_61546/3966389069.py:1: FutureWarning: In future versions `DataFrame.to_latex` is expected to utilise the base implementation of `Styler.to_latex` for formatting and rendering. The arguments signature may therefore change. It is recommended instead to use `DataFrame.style.to_latex` which also contains additional functionality.\n",
      "  latex_table = df.to_latex(index=True, formatters={\"name\": str.upper}, float_format=\"{:.2f}\".format)\n"
     ]
    }
   ],
   "source": [
    "latex_table = df.to_latex(index=True, formatters={\"name\": str.upper}, float_format=\"{:.2f}\".format)\n",
    "\n",
    "latex_table_all = r\"\"\"\n",
    "\\begin{table*}[h!]\n",
    "\\begin{adjustbox}{width=2\\columnwidth,center}\n",
    "\"\"\" + latex_table + \"\"\"\n",
    "\\end{adjustbox}\n",
    "\\caption{}\n",
    "\\end{table*}\n",
    "\"\"\"\n",
    "os.makedirs(os.path.join(STATISTICS_PATH, 'tables_2'), exist_ok=True)\n",
    "with open(os.path.join(STATISTICS_PATH, 'tables_2', f'{model_name}.{prompt_type}.{answer_type_ext}.{save_key}.tex'), 'w') as f:\n",
    "    f.write(latex_table_all)"
   ],
   "metadata": {
    "collapsed": false,
    "ExecuteTime": {
     "end_time": "2024-04-22T01:34:48.111723Z",
     "start_time": "2024-04-22T01:34:48.030165Z"
    }
   },
   "id": "f096656451a1a662",
   "execution_count": 31
  },
  {
   "cell_type": "code",
   "outputs": [
    {
     "data": {
      "text/plain": "'\\n\\\\begin{table*}[h!]\\n\\\\begin{adjustbox}{width=2\\\\columnwidth,center}\\n\\\\begin{tabular}{lrrr}\\n\\\\toprule\\n{} &  TRANSPORTATION &  NON\\\\_TRANSPORTATION &  ALL\\\\_DOMAINS \\\\\\\\\\n\\\\midrule\\n(1, object\\\\_tracking, R, T/F)          &            0.03 &                0.04 &         0.03 \\\\\\\\\\n(1, object\\\\_tracking, No R, T/F)       &            0.02 &                0.02 &         0.02 \\\\\\\\\\n(1, fluent\\\\_tracking, R, T/F)          &            0.19 &                0.15 &         0.17 \\\\\\\\\\n(1, fluent\\\\_tracking, No R, T/F)       &            0.18 &                0.14 &         0.16 \\\\\\\\\\n(1, state\\\\_tracking, R, T/F)           &            0.42 &                0.40 &         0.41 \\\\\\\\\\n(1, state\\\\_tracking, No R, T/F)        &            0.40 &                0.40 &         0.40 \\\\\\\\\\n(1, action\\\\_executability, R, T/F)     &            0.18 &                0.09 &         0.14 \\\\\\\\\\n(1, action\\\\_executability, No R, T/F)  &            0.16 &                0.08 &         0.12 \\\\\\\\\\n(1, effects, R, T/F)                  &            0.02 &                0.04 &         0.03 \\\\\\\\\\n(1, effects, No R, T/F)               &            0.02 &                0.03 &         0.02 \\\\\\\\\\n(1, numerical\\\\_reasoning, R, T/F)      &            0.03 &                0.02 &         0.02 \\\\\\\\\\n(1, numerical\\\\_reasoning, No R, T/F)   &            0.02 &                0.02 &         0.02 \\\\\\\\\\n(1, hallucination, R, T/F)            &            0.01 &                0.02 &         0.02 \\\\\\\\\\n(1, hallucination, No R, T/F)         &            0.02 &                0.02 &         0.02 \\\\\\\\\\n(1, all\\\\_categories, R, T/F)           &            0.08 &                0.07 &         0.08 \\\\\\\\\\n(1, all\\\\_categories, No R, T/F)        &            0.08 &                0.06 &         0.07 \\\\\\\\\\n(5, object\\\\_tracking, R, T/F)          &            0.03 &                0.02 &         0.03 \\\\\\\\\\n(5, object\\\\_tracking, No R, T/F)       &            0.03 &                0.02 &         0.02 \\\\\\\\\\n(5, fluent\\\\_tracking, R, T/F)          &            0.19 &                0.17 &         0.18 \\\\\\\\\\n(5, fluent\\\\_tracking, No R, T/F)       &            0.18 &                0.15 &         0.16 \\\\\\\\\\n(5, state\\\\_tracking, R, T/F)           &            0.44 &                0.30 &         0.39 \\\\\\\\\\n(5, state\\\\_tracking, No R, T/F)        &            0.42 &                0.31 &         0.38 \\\\\\\\\\n(5, action\\\\_executability, R, T/F)     &            0.21 &                0.12 &         0.17 \\\\\\\\\\n(5, action\\\\_executability, No R, T/F)  &            0.19 &                0.12 &         0.16 \\\\\\\\\\n(5, effects, R, T/F)                  &            0.03 &                0.02 &         0.02 \\\\\\\\\\n(5, effects, No R, T/F)               &            0.04 &                0.02 &         0.03 \\\\\\\\\\n(5, numerical\\\\_reasoning, R, T/F)      &            0.07 &                0.05 &         0.06 \\\\\\\\\\n(5, numerical\\\\_reasoning, No R, T/F)   &            0.06 &                0.05 &         0.05 \\\\\\\\\\n(5, hallucination, R, T/F)            &            0.04 &                0.02 &         0.03 \\\\\\\\\\n(5, hallucination, No R, T/F)         &            0.03 &                0.02 &         0.03 \\\\\\\\\\n(5, all\\\\_categories, R, T/F)           &            0.10 &                0.08 &         0.09 \\\\\\\\\\n(5, all\\\\_categories, No R, T/F)        &            0.09 &                0.07 &         0.08 \\\\\\\\\\n(10, object\\\\_tracking, R, T/F)         &            0.04 &                0.03 &         0.04 \\\\\\\\\\n(10, object\\\\_tracking, No R, T/F)      &            0.05 &                0.03 &         0.04 \\\\\\\\\\n(10, fluent\\\\_tracking, R, T/F)         &            0.20 &                0.18 &         0.19 \\\\\\\\\\n(10, fluent\\\\_tracking, No R, T/F)      &            0.19 &                0.17 &         0.18 \\\\\\\\\\n(10, state\\\\_tracking, R, T/F)          &            0.43 &                0.29 &         0.38 \\\\\\\\\\n(10, state\\\\_tracking, No R, T/F)       &            0.43 &                0.20 &         0.34 \\\\\\\\\\n(10, action\\\\_executability, R, T/F)    &            0.19 &                0.13 &         0.16 \\\\\\\\\\n(10, action\\\\_executability, No R, T/F) &            0.17 &                0.14 &         0.16 \\\\\\\\\\n(10, effects, R, T/F)                 &            0.05 &                0.01 &         0.03 \\\\\\\\\\n(10, effects, No R, T/F)              &            0.04 &                0.01 &         0.03 \\\\\\\\\\n(10, numerical\\\\_reasoning, R, T/F)     &            0.07 &                0.05 &         0.06 \\\\\\\\\\n(10, numerical\\\\_reasoning, No R, T/F)  &            0.07 &                0.04 &         0.05 \\\\\\\\\\n(10, hallucination, R, T/F)           &            0.05 &                0.01 &         0.03 \\\\\\\\\\n(10, hallucination, No R, T/F)        &            0.05 &                0.02 &         0.03 \\\\\\\\\\n(10, all\\\\_categories, R, T/F)          &            0.10 &                0.08 &         0.09 \\\\\\\\\\n(10, all\\\\_categories, No R, T/F)       &            0.10 &                0.07 &         0.09 \\\\\\\\\\n(15, object\\\\_tracking, R, T/F)         &            0.04 &                0.04 &         0.04 \\\\\\\\\\n(15, object\\\\_tracking, No R, T/F)      &            0.04 &                0.03 &         0.04 \\\\\\\\\\n(15, fluent\\\\_tracking, R, T/F)         &            0.20 &                0.17 &         0.19 \\\\\\\\\\n(15, fluent\\\\_tracking, No R, T/F)      &            0.19 &                0.17 &         0.18 \\\\\\\\\\n(15, state\\\\_tracking, R, T/F)          &            0.44 &                0.33 &         0.40 \\\\\\\\\\n(15, state\\\\_tracking, No R, T/F)       &            0.40 &                0.29 &         0.36 \\\\\\\\\\n(15, action\\\\_executability, R, T/F)    &            0.21 &                0.18 &         0.19 \\\\\\\\\\n(15, action\\\\_executability, No R, T/F) &            0.19 &                0.22 &         0.21 \\\\\\\\\\n(15, effects, R, T/F)                 &            0.02 &                0.02 &         0.02 \\\\\\\\\\n(15, effects, No R, T/F)              &            0.02 &                0.02 &         0.02 \\\\\\\\\\n(15, numerical\\\\_reasoning, R, T/F)     &            0.07 &                0.04 &         0.06 \\\\\\\\\\n(15, numerical\\\\_reasoning, No R, T/F)  &            0.05 &                0.04 &         0.05 \\\\\\\\\\n(15, hallucination, R, T/F)           &            0.03 &                0.02 &         0.02 \\\\\\\\\\n(15, hallucination, No R, T/F)        &            0.04 &                0.02 &         0.03 \\\\\\\\\\n(15, all\\\\_categories, R, T/F)          &            0.10 &                0.08 &         0.09 \\\\\\\\\\n(15, all\\\\_categories, No R, T/F)       &            0.09 &                0.08 &         0.09 \\\\\\\\\\n(19, object\\\\_tracking, R, T/F)         &            0.05 &                0.04 &         0.04 \\\\\\\\\\n(19, object\\\\_tracking, No R, T/F)      &            0.06 &                0.03 &         0.04 \\\\\\\\\\n(19, fluent\\\\_tracking, R, T/F)         &            0.20 &                0.17 &         0.18 \\\\\\\\\\n(19, fluent\\\\_tracking, No R, T/F)      &            0.20 &                0.17 &         0.18 \\\\\\\\\\n(19, state\\\\_tracking, R, T/F)          &            0.41 &                0.32 &         0.38 \\\\\\\\\\n(19, state\\\\_tracking, No R, T/F)       &            0.40 &                0.26 &         0.35 \\\\\\\\\\n(19, action\\\\_executability, R, T/F)    &            0.18 &                0.19 &         0.19 \\\\\\\\\\n(19, action\\\\_executability, No R, T/F) &            0.19 &                0.19 &         0.19 \\\\\\\\\\n(19, effects, R, T/F)                 &            0.03 &                0.01 &         0.02 \\\\\\\\\\n(19, effects, No R, T/F)              &            0.04 &                0.01 &         0.02 \\\\\\\\\\n(19, numerical\\\\_reasoning, R, T/F)     &            0.05 &                0.04 &         0.05 \\\\\\\\\\n(19, numerical\\\\_reasoning, No R, T/F)  &            0.06 &                0.03 &         0.05 \\\\\\\\\\n(19, hallucination, R, T/F)           &            0.02 &                0.02 &         0.02 \\\\\\\\\\n(19, hallucination, No R, T/F)        &            0.04 &                0.03 &         0.03 \\\\\\\\\\n(19, all\\\\_categories, R, T/F)          &            0.10 &                0.08 &         0.09 \\\\\\\\\\n(19, all\\\\_categories, No R, T/F)       &            0.10 &                0.08 &         0.09 \\\\\\\\\\n\\\\bottomrule\\n\\\\end{tabular}\\n\\n\\\\end{adjustbox}\\n\\\\caption{}\\n\\\\end{table*}\\n'"
     },
     "execution_count": 32,
     "metadata": {},
     "output_type": "execute_result"
    }
   ],
   "source": [
    "latex_table_all"
   ],
   "metadata": {
    "collapsed": false,
    "ExecuteTime": {
     "end_time": "2024-04-22T01:34:49.773745Z",
     "start_time": "2024-04-22T01:34:49.768221Z"
    }
   },
   "id": "63a61708b6738b85",
   "execution_count": 32
  },
  {
   "cell_type": "code",
   "outputs": [],
   "source": [],
   "metadata": {
    "collapsed": false
   },
   "id": "58214f61440c13c8"
  }
 ],
 "metadata": {
  "kernelspec": {
   "display_name": "Python 3",
   "language": "python",
   "name": "python3"
  },
  "language_info": {
   "codemirror_mode": {
    "name": "ipython",
    "version": 2
   },
   "file_extension": ".py",
   "mimetype": "text/x-python",
   "name": "python",
   "nbconvert_exporter": "python",
   "pygments_lexer": "ipython2",
   "version": "2.7.6"
  }
 },
 "nbformat": 4,
 "nbformat_minor": 5
}
