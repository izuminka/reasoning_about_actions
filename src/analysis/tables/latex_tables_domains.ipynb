{
 "cells": [
  {
   "cell_type": "code",
   "outputs": [],
   "source": [
    "import sys\n",
    "import json\n",
    "sys.path.append('..')\n",
    "from src.analysis.model_performances import *\n",
    "import pandas as pd\n",
    "EVERYTHING_POSTFIX = 'everything'"
   ],
   "metadata": {
    "collapsed": false,
    "ExecuteTime": {
     "end_time": "2024-04-25T23:21:04.984576Z",
     "start_time": "2024-04-25T23:21:04.892055Z"
    }
   },
   "id": "1581e9208ff09f8e",
   "execution_count": 13
  },
  {
   "cell_type": "code",
   "outputs": [],
   "source": [
    "def to_df(results_all, model_name, answer_type, prompt_type, subs, domains):\n",
    "    d_ramifications_pretty = {\n",
    "        WITH_RAMIFICATIONS : 'R',\n",
    "        WITHOUT_RAMIFICATIONS : 'No R'\n",
    "    }\n",
    "    d_answer_type_pretty = {\n",
    "        TRUE_FALSE_ANSWER_TYPE : 'T/F',\n",
    "        FREE_ANSWER_TYPE : 'Free'\n",
    "    }\n",
    "    \n",
    "    index = []\n",
    "    data = []\n",
    "    for plan_length in PLAN_LENGTHS:\n",
    "        for question_category in QUESTION_CATEGORIES + [ALL_QUESTION_CATEGORIES_KEY]:\n",
    "            for ramifications in RAMIFICATION_TYPES:\n",
    "                index.append((plan_length, question_category, d_ramifications_pretty[ramifications], d_answer_type_pretty[answer_type]))\n",
    "                data_columns = {}\n",
    "                for domain in domains:\n",
    "                    data_columns[domain] = filter_single_selector(results_all, plan_length, question_category, ramifications, model_name, prompt_type, domain, answer_type, subs)\n",
    "                data.append(data_columns)\n",
    "    return pd.DataFrame(data, index = index)\n",
    "\n",
    "# def df_to_latex_table(df):\n",
    "#         latex_table = df.to_latex(index=True, formatters={\"name\": str.upper}, float_format=\"{:.2f}\".format)\n",
    "#         return latex_table[latex_table.find('\\midrule'):].replace(\"bottomrule\", 'crap').replace(\"\\crap\", '').replace(\"\\end{tabular}\", '')\n",
    "\n",
    "# def assemble_table(results_all, answer_type, domain, score_key=None):\n",
    "#     latex_table_all = ''\n",
    "#     with open('latex_table_template/top') as f:\n",
    "#         latex_table_all += f.read() + '\\n'\n",
    "#     latex_table_all += '\\n'.join([df_to_latex_table(to_df(results_all, answer_type, plan_length, domain)) for plan_length in PLAN_LENGTHS])\n",
    "#     with open('latex_table_template/bottom') as f:\n",
    "#         latex_table_all += f.read()\n",
    "#     \n",
    "#     caption = f'{answer_type}, {score_key} scores for {domain}'.replace('_', ' ')\n",
    "#     latex_table_all = latex_table_all.replace('REPLACE_CAPTION_KEY', caption)\n",
    "#     \n",
    "#     return latex_table_all\n"
   ],
   "metadata": {
    "collapsed": false,
    "ExecuteTime": {
     "end_time": "2024-04-27T22:55:31.333220Z",
     "start_time": "2024-04-27T22:55:31.326980Z"
    }
   },
   "id": "dd77fda858739d0e",
   "execution_count": 23
  },
  {
   "cell_type": "code",
   "outputs": [
    {
     "name": "stderr",
     "output_type": "stream",
     "text": [
      "100%|██████████| 15360/15360 [00:00<00:00, 30978.92it/s]\n"
     ]
    }
   ],
   "source": [
    "answer_type = TRUE_FALSE_ANSWER_TYPE #FREE_ANSWER#\n",
    "score_key = F1_SCORE_KEY#'accuracy'\n",
    "answer_type_ext = tf_answer_type(score_key = F1_SCORE_KEY)\n",
    "stats_all = collect_stats_all(tf_answer_type(score_key = F1_SCORE_KEY))"
   ],
   "metadata": {
    "collapsed": false,
    "ExecuteTime": {
     "end_time": "2024-04-27T22:55:32.553432Z",
     "start_time": "2024-04-27T22:55:32.052368Z"
    }
   },
   "id": "8fb4feeb322b4ab0",
   "execution_count": 24
  },
  {
   "cell_type": "code",
   "outputs": [],
   "source": [
    "model_name = 'gemini'#'gemma-2b-it'\n",
    "prompt_type = 'few_shot_1'\n",
    "subs = WITHOUT_RANDOM_SUB\n",
    "domains = DOMAIN_NAMES + [TRANSPORTATION_DOMAIN_KEY, NON_TRANSPORTATION_DOMAIN_KEY, ALL_DOMAINS_KEY]\n",
    "# domains = [TRANSPORTATION_DOMAIN_KEY, NON_TRANSPORTATION_DOMAIN_KEY, ALL_DOMAINS_KEY]\n",
    "save_key = 'all'#'transport_vs_other'\n",
    "df = to_df(stats_all, model_name, answer_type, prompt_type, subs, domains)"
   ],
   "metadata": {
    "collapsed": false,
    "ExecuteTime": {
     "end_time": "2024-04-27T22:55:36.368092Z",
     "start_time": "2024-04-27T22:55:33.028013Z"
    }
   },
   "id": "578585d5135a72bd",
   "execution_count": 25
  },
  {
   "cell_type": "code",
   "outputs": [
    {
     "data": {
      "text/plain": "                                      blocksworld    depots  driverlog  \\\n(1, object_tracking, R, T/F)             0.707143  0.797753   0.636364   \n(1, object_tracking, No R, T/F)          0.714286  0.818182   0.655844   \n(1, fluent_tracking, R, T/F)             0.670370  0.672840   0.707317   \n(1, fluent_tracking, No R, T/F)          0.659259  0.716667   0.723577   \n(1, state_tracking, R, T/F)              0.650000  0.777778   0.700000   \n...                                           ...       ...        ...   \n(19, numerical_reasoning, No R, T/F)     0.485000  0.515000   0.510000   \n(19, hallucination, R, T/F)              0.916667  0.860000   0.850000   \n(19, hallucination, No R, T/F)           0.916667  0.860000   0.800000   \n(19, ALL_CATEGORIES, R, T/F)             0.632939  0.627397   0.645267   \n(19, ALL_CATEGORIES, No R, T/F)          0.621098  0.613158   0.635473   \n\n                                      goldminer  grippers  logistics  \\\n(1, object_tracking, R, T/F)           0.668269  0.714286   0.741667   \n(1, object_tracking, No R, T/F)        0.673077  0.721429   0.716667   \n(1, fluent_tracking, R, T/F)           0.719444  0.809524   0.755556   \n(1, fluent_tracking, No R, T/F)        0.708333  0.814286   0.744444   \n(1, state_tracking, R, T/F)            0.750000  1.000000   0.650000   \n...                                         ...       ...        ...   \n(19, numerical_reasoning, No R, T/F)   0.495000  0.500000   0.500000   \n(19, hallucination, R, T/F)            0.878571  0.700000   0.780000   \n(19, hallucination, No R, T/F)         0.864286  0.691667   0.790000   \n(19, ALL_CATEGORIES, R, T/F)           0.645422  0.646561   0.652564   \n(19, ALL_CATEGORIES, No R, T/F)        0.631059  0.642328   0.660256   \n\n                                       miconic   mystery   npuzzle  satellite  \\\n(1, object_tracking, R, T/F)          0.817073  0.650000  0.662420   0.688442   \n(1, object_tracking, No R, T/F)       0.810976  0.650000  0.675159   0.643216   \n(1, fluent_tracking, R, T/F)          0.849123  0.672222  0.696296   0.688889   \n(1, fluent_tracking, No R, T/F)       0.863158  0.638889  0.703704   0.702778   \n(1, state_tracking, R, T/F)           0.650000  0.500000  0.600000   0.500000   \n...                                        ...       ...       ...        ...   \n(19, numerical_reasoning, No R, T/F)  0.500000  0.500000  0.480000   0.500000   \n(19, hallucination, R, T/F)           0.821429  0.830000  0.925000   0.778571   \n(19, hallucination, No R, T/F)        0.850000  0.810000  0.916667   0.771429   \n(19, ALL_CATEGORIES, R, T/F)          0.651460  0.616667  0.652910   0.613514   \n(19, ALL_CATEGORIES, No R, T/F)       0.666058  0.626923  0.638095   0.627027   \n\n                                       spanner  visitall  zenotravel  \\\n(1, object_tracking, R, T/F)          0.723810  0.787402    0.752874   \n(1, object_tracking, No R, T/F)       0.700000  0.787402    0.758621   \n(1, fluent_tracking, R, T/F)          0.815625  0.759259    0.722222   \n(1, fluent_tracking, No R, T/F)       0.812500  0.755556    0.718519   \n(1, state_tracking, R, T/F)           0.750000  0.500000    0.550000   \n...                                        ...       ...         ...   \n(19, numerical_reasoning, No R, T/F)  0.505000  0.505000    0.480000   \n(19, hallucination, R, T/F)           0.628571  0.683333    0.775000   \n(19, hallucination, No R, T/F)        0.628571  0.641667    0.766667   \n(19, ALL_CATEGORIES, R, T/F)          0.597368  0.640217    0.652850   \n(19, ALL_CATEGORIES, No R, T/F)       0.592982  0.630435    0.631088   \n\n                                      TRANSPORTATION  NON_TRANSPORTATION  \\\n(1, object_tracking, R, T/F)                0.729448            0.702209   \n(1, object_tracking, No R, T/F)             0.733265            0.692603   \n(1, fluent_tracking, R, T/F)                0.748206            0.725405   \n(1, fluent_tracking, No R, T/F)             0.752418            0.724324   \n(1, state_tracking, R, T/F)                 0.688406            0.627119   \n...                                              ...                 ...   \n(19, numerical_reasoning, No R, T/F)        0.500714            0.495000   \n(19, hallucination, R, T/F)                 0.801250            0.798718   \n(19, hallucination, No R, T/F)              0.795000            0.787179   \n(19, ALL_CATEGORIES, R, T/F)                0.642961            0.629263   \n(19, ALL_CATEGORIES, No R, T/F)             0.640512            0.622767   \n\n                                      ALL_DOMAINS  \n(1, object_tracking, R, T/F)             0.715285  \n(1, object_tracking, No R, T/F)          0.712227  \n(1, fluent_tracking, R, T/F)             0.735738  \n(1, fluent_tracking, No R, T/F)          0.737136  \n(1, state_tracking, R, T/F)              0.660156  \n...                                           ...  \n(19, numerical_reasoning, No R, T/F)     0.498077  \n(19, hallucination, R, T/F)              0.800000  \n(19, hallucination, No R, T/F)           0.791139  \n(19, ALL_CATEGORIES, R, T/F)             0.636143  \n(19, ALL_CATEGORIES, No R, T/F)          0.631702  \n\n[80 rows x 16 columns]",
      "text/html": "<div>\n<style scoped>\n    .dataframe tbody tr th:only-of-type {\n        vertical-align: middle;\n    }\n\n    .dataframe tbody tr th {\n        vertical-align: top;\n    }\n\n    .dataframe thead th {\n        text-align: right;\n    }\n</style>\n<table border=\"1\" class=\"dataframe\">\n  <thead>\n    <tr style=\"text-align: right;\">\n      <th></th>\n      <th>blocksworld</th>\n      <th>depots</th>\n      <th>driverlog</th>\n      <th>goldminer</th>\n      <th>grippers</th>\n      <th>logistics</th>\n      <th>miconic</th>\n      <th>mystery</th>\n      <th>npuzzle</th>\n      <th>satellite</th>\n      <th>spanner</th>\n      <th>visitall</th>\n      <th>zenotravel</th>\n      <th>TRANSPORTATION</th>\n      <th>NON_TRANSPORTATION</th>\n      <th>ALL_DOMAINS</th>\n    </tr>\n  </thead>\n  <tbody>\n    <tr>\n      <th>(1, object_tracking, R, T/F)</th>\n      <td>0.707143</td>\n      <td>0.797753</td>\n      <td>0.636364</td>\n      <td>0.668269</td>\n      <td>0.714286</td>\n      <td>0.741667</td>\n      <td>0.817073</td>\n      <td>0.650000</td>\n      <td>0.662420</td>\n      <td>0.688442</td>\n      <td>0.723810</td>\n      <td>0.787402</td>\n      <td>0.752874</td>\n      <td>0.729448</td>\n      <td>0.702209</td>\n      <td>0.715285</td>\n    </tr>\n    <tr>\n      <th>(1, object_tracking, No R, T/F)</th>\n      <td>0.714286</td>\n      <td>0.818182</td>\n      <td>0.655844</td>\n      <td>0.673077</td>\n      <td>0.721429</td>\n      <td>0.716667</td>\n      <td>0.810976</td>\n      <td>0.650000</td>\n      <td>0.675159</td>\n      <td>0.643216</td>\n      <td>0.700000</td>\n      <td>0.787402</td>\n      <td>0.758621</td>\n      <td>0.733265</td>\n      <td>0.692603</td>\n      <td>0.712227</td>\n    </tr>\n    <tr>\n      <th>(1, fluent_tracking, R, T/F)</th>\n      <td>0.670370</td>\n      <td>0.672840</td>\n      <td>0.707317</td>\n      <td>0.719444</td>\n      <td>0.809524</td>\n      <td>0.755556</td>\n      <td>0.849123</td>\n      <td>0.672222</td>\n      <td>0.696296</td>\n      <td>0.688889</td>\n      <td>0.815625</td>\n      <td>0.759259</td>\n      <td>0.722222</td>\n      <td>0.748206</td>\n      <td>0.725405</td>\n      <td>0.735738</td>\n    </tr>\n    <tr>\n      <th>(1, fluent_tracking, No R, T/F)</th>\n      <td>0.659259</td>\n      <td>0.716667</td>\n      <td>0.723577</td>\n      <td>0.708333</td>\n      <td>0.814286</td>\n      <td>0.744444</td>\n      <td>0.863158</td>\n      <td>0.638889</td>\n      <td>0.703704</td>\n      <td>0.702778</td>\n      <td>0.812500</td>\n      <td>0.755556</td>\n      <td>0.718519</td>\n      <td>0.752418</td>\n      <td>0.724324</td>\n      <td>0.737136</td>\n    </tr>\n    <tr>\n      <th>(1, state_tracking, R, T/F)</th>\n      <td>0.650000</td>\n      <td>0.777778</td>\n      <td>0.700000</td>\n      <td>0.750000</td>\n      <td>1.000000</td>\n      <td>0.650000</td>\n      <td>0.650000</td>\n      <td>0.500000</td>\n      <td>0.600000</td>\n      <td>0.500000</td>\n      <td>0.750000</td>\n      <td>0.500000</td>\n      <td>0.550000</td>\n      <td>0.688406</td>\n      <td>0.627119</td>\n      <td>0.660156</td>\n    </tr>\n    <tr>\n      <th>...</th>\n      <td>...</td>\n      <td>...</td>\n      <td>...</td>\n      <td>...</td>\n      <td>...</td>\n      <td>...</td>\n      <td>...</td>\n      <td>...</td>\n      <td>...</td>\n      <td>...</td>\n      <td>...</td>\n      <td>...</td>\n      <td>...</td>\n      <td>...</td>\n      <td>...</td>\n      <td>...</td>\n    </tr>\n    <tr>\n      <th>(19, numerical_reasoning, No R, T/F)</th>\n      <td>0.485000</td>\n      <td>0.515000</td>\n      <td>0.510000</td>\n      <td>0.495000</td>\n      <td>0.500000</td>\n      <td>0.500000</td>\n      <td>0.500000</td>\n      <td>0.500000</td>\n      <td>0.480000</td>\n      <td>0.500000</td>\n      <td>0.505000</td>\n      <td>0.505000</td>\n      <td>0.480000</td>\n      <td>0.500714</td>\n      <td>0.495000</td>\n      <td>0.498077</td>\n    </tr>\n    <tr>\n      <th>(19, hallucination, R, T/F)</th>\n      <td>0.916667</td>\n      <td>0.860000</td>\n      <td>0.850000</td>\n      <td>0.878571</td>\n      <td>0.700000</td>\n      <td>0.780000</td>\n      <td>0.821429</td>\n      <td>0.830000</td>\n      <td>0.925000</td>\n      <td>0.778571</td>\n      <td>0.628571</td>\n      <td>0.683333</td>\n      <td>0.775000</td>\n      <td>0.801250</td>\n      <td>0.798718</td>\n      <td>0.800000</td>\n    </tr>\n    <tr>\n      <th>(19, hallucination, No R, T/F)</th>\n      <td>0.916667</td>\n      <td>0.860000</td>\n      <td>0.800000</td>\n      <td>0.864286</td>\n      <td>0.691667</td>\n      <td>0.790000</td>\n      <td>0.850000</td>\n      <td>0.810000</td>\n      <td>0.916667</td>\n      <td>0.771429</td>\n      <td>0.628571</td>\n      <td>0.641667</td>\n      <td>0.766667</td>\n      <td>0.795000</td>\n      <td>0.787179</td>\n      <td>0.791139</td>\n    </tr>\n    <tr>\n      <th>(19, ALL_CATEGORIES, R, T/F)</th>\n      <td>0.632939</td>\n      <td>0.627397</td>\n      <td>0.645267</td>\n      <td>0.645422</td>\n      <td>0.646561</td>\n      <td>0.652564</td>\n      <td>0.651460</td>\n      <td>0.616667</td>\n      <td>0.652910</td>\n      <td>0.613514</td>\n      <td>0.597368</td>\n      <td>0.640217</td>\n      <td>0.652850</td>\n      <td>0.642961</td>\n      <td>0.629263</td>\n      <td>0.636143</td>\n    </tr>\n    <tr>\n      <th>(19, ALL_CATEGORIES, No R, T/F)</th>\n      <td>0.621098</td>\n      <td>0.613158</td>\n      <td>0.635473</td>\n      <td>0.631059</td>\n      <td>0.642328</td>\n      <td>0.660256</td>\n      <td>0.666058</td>\n      <td>0.626923</td>\n      <td>0.638095</td>\n      <td>0.627027</td>\n      <td>0.592982</td>\n      <td>0.630435</td>\n      <td>0.631088</td>\n      <td>0.640512</td>\n      <td>0.622767</td>\n      <td>0.631702</td>\n    </tr>\n  </tbody>\n</table>\n<p>80 rows × 16 columns</p>\n</div>"
     },
     "execution_count": 26,
     "metadata": {},
     "output_type": "execute_result"
    }
   ],
   "source": [
    "df"
   ],
   "metadata": {
    "collapsed": false,
    "ExecuteTime": {
     "end_time": "2024-04-27T22:55:36.390990Z",
     "start_time": "2024-04-27T22:55:36.369836Z"
    }
   },
   "id": "5b5a15905194ac6a",
   "execution_count": 26
  },
  {
   "cell_type": "code",
   "outputs": [
    {
     "name": "stderr",
     "output_type": "stream",
     "text": [
      "/var/folders/_0/bqv6dr454lsgny6_gs_xb0q80000gn/T/ipykernel_10042/2822061382.py:1: FutureWarning: In future versions `DataFrame.to_latex` is expected to utilise the base implementation of `Styler.to_latex` for formatting and rendering. The arguments signature may therefore change. It is recommended instead to use `DataFrame.style.to_latex` which also contains additional functionality.\n",
      "  latex_table = df.to_latex(index=True, formatters={\"name\": str.upper}, float_format=\"{:.2f}\".format)\n"
     ]
    }
   ],
   "source": [
    "latex_table = df.to_latex(index=True, formatters={\"name\": str.upper}, float_format=\"{:.2f}\".format)\n",
    "\n",
    "latex_table_all = r\"\"\"\n",
    "\\begin{table*}[h!]\n",
    "\\begin{adjustbox}{width=\\textwidth,center}\n",
    "\"\"\" + latex_table + \"\"\"\n",
    "\\end{adjustbox}\n",
    "\\caption{\"\"\" + f'{model_name.replace(\"_\", \" \")}, {prompt_type.replace(\"_\", \" \")}, {subs.replace(\"_\", \" \")}, {answer_type_ext.replace(\"_\", \" \")}' + \"\"\"}\n",
    "\\end{table*}\n",
    "\"\"\"\n",
    "os.makedirs(os.path.join(STATISTICS_PATH, 'tables_2'), exist_ok=True)\n",
    "with open(os.path.join(STATISTICS_PATH, 'tables_2', f'{model_name}.{prompt_type}.{answer_type_ext}.{save_key}.tex'), 'w') as f:\n",
    "    f.write(latex_table_all)"
   ],
   "metadata": {
    "collapsed": false,
    "ExecuteTime": {
     "end_time": "2024-04-27T23:04:59.291068Z",
     "start_time": "2024-04-27T23:04:59.190048Z"
    }
   },
   "id": "f096656451a1a662",
   "execution_count": 31
  },
  {
   "cell_type": "code",
   "outputs": [
    {
     "data": {
      "text/plain": "'bsdsb'"
     },
     "execution_count": 30,
     "metadata": {},
     "output_type": "execute_result"
    }
   ],
   "source": [
    "'asdsa'.replace('a', 'b')"
   ],
   "metadata": {
    "collapsed": false,
    "ExecuteTime": {
     "end_time": "2024-04-27T23:04:35.359291Z",
     "start_time": "2024-04-27T23:04:35.354739Z"
    }
   },
   "id": "63a61708b6738b85",
   "execution_count": 30
  },
  {
   "cell_type": "code",
   "outputs": [],
   "source": [],
   "metadata": {
    "collapsed": false
   },
   "id": "58214f61440c13c8"
  }
 ],
 "metadata": {
  "kernelspec": {
   "display_name": "Python 3",
   "language": "python",
   "name": "python3"
  },
  "language_info": {
   "codemirror_mode": {
    "name": "ipython",
    "version": 2
   },
   "file_extension": ".py",
   "mimetype": "text/x-python",
   "name": "python",
   "nbconvert_exporter": "python",
   "pygments_lexer": "ipython2",
   "version": "2.7.6"
  }
 },
 "nbformat": 4,
 "nbformat_minor": 5
}
