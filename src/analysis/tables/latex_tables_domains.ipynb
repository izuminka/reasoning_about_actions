{
 "cells": [
  {
   "cell_type": "code",
   "outputs": [],
   "source": [
    "import sys\n",
    "import json\n",
    "sys.path.append('..')\n",
    "from src.analysis.model_performances import *\n",
    "import pandas as pd\n",
    "EVERYTHING_POSTFIX = 'everything'"
   ],
   "metadata": {
    "collapsed": false,
    "ExecuteTime": {
     "end_time": "2024-04-25T23:21:04.984576Z",
     "start_time": "2024-04-25T23:21:04.892055Z"
    }
   },
   "id": "1581e9208ff09f8e",
   "execution_count": 13
  },
  {
   "cell_type": "code",
   "outputs": [],
   "source": [
    "def to_df(results_all, model_name, answer_type, prompt_type, subs, domains):\n",
    "    d_ramifications_pretty = {\n",
    "        WITH_RAMIFICATIONS : 'R',\n",
    "        WITHOUT_RAMIFICATIONS : 'No R'\n",
    "    }\n",
    "    d_answer_type_pretty = {\n",
    "        TRUE_FALSE_ANSWER_TYPE : 'T/F',\n",
    "        FREE_ANSWER_TYPE : 'Free'\n",
    "    }\n",
    "    \n",
    "    index = []\n",
    "    data = []\n",
    "    for plan_length in PLAN_LENGTHS:\n",
    "        for question_category in QUESTION_CATEGORIES + [ALL_QUESTION_CATEGORIES_KEY]:\n",
    "            for ramifications in RAMIFICATION_TYPES:\n",
    "                index.append((plan_length, question_category, d_ramifications_pretty[ramifications], d_answer_type_pretty[answer_type]))\n",
    "                data_columns = {}\n",
    "                for domain in domains:\n",
    "                    data_columns[domain] = filter_single_selector(results_all, plan_length, question_category, ramifications, model_name, prompt_type, domain, answer_type, subs)\n",
    "                data.append(data_columns)\n",
    "    return pd.DataFrame(data, index = index)\n",
    "\n",
    "# def df_to_latex_table(df):\n",
    "#         latex_table = df.to_latex(index=True, formatters={\"name\": str.upper}, float_format=\"{:.2f}\".format)\n",
    "#         return latex_table[latex_table.find('\\midrule'):].replace(\"bottomrule\", 'crap').replace(\"\\crap\", '').replace(\"\\end{tabular}\", '')\n",
    "\n",
    "# def assemble_table(results_all, answer_type, domain, score_key=None):\n",
    "#     latex_table_all = ''\n",
    "#     with open('latex_table_template/top') as f:\n",
    "#         latex_table_all += f.read() + '\\n'\n",
    "#     latex_table_all += '\\n'.join([df_to_latex_table(to_df(results_all, answer_type, plan_length, domain)) for plan_length in PLAN_LENGTHS])\n",
    "#     with open('latex_table_template/bottom') as f:\n",
    "#         latex_table_all += f.read()\n",
    "#     \n",
    "#     caption = f'{answer_type}, {score_key} scores for {domain}'.replace('_', ' ')\n",
    "#     latex_table_all = latex_table_all.replace('REPLACE_CAPTION_KEY', caption)\n",
    "#     \n",
    "#     return latex_table_all\n"
   ],
   "metadata": {
    "collapsed": false,
    "ExecuteTime": {
     "end_time": "2024-04-25T23:21:05.824250Z",
     "start_time": "2024-04-25T23:21:05.809107Z"
    }
   },
   "id": "dd77fda858739d0e",
   "execution_count": 14
  },
  {
   "cell_type": "code",
   "outputs": [
    {
     "name": "stderr",
     "output_type": "stream",
     "text": [
      "100%|██████████| 15360/15360 [00:02<00:00, 7479.44it/s] \n"
     ]
    }
   ],
   "source": [
    "answer_type = TRUE_FALSE_ANSWER_TYPE #FREE_ANSWER#\n",
    "score_key = F1_SCORE_KEY#'accuracy'\n",
    "answer_type_ext = tf_answer_type(score_key = F1_SCORE_KEY)\n",
    "stats_all = collect_stats_all(tf_answer_type(score_key = F1_SCORE_KEY))"
   ],
   "metadata": {
    "collapsed": false,
    "ExecuteTime": {
     "end_time": "2024-04-25T23:21:08.872817Z",
     "start_time": "2024-04-25T23:21:06.776639Z"
    }
   },
   "id": "8fb4feeb322b4ab0",
   "execution_count": 15
  },
  {
   "cell_type": "code",
   "outputs": [],
   "source": [
    "model_name = 'gemini'#'gemma-2b-it'\n",
    "prompt_type = 'few_shot_1'\n",
    "subs = WITHOUT_RANDOM_SUB\n",
    "domains = DOMAIN_NAMES + [TRANSPORTATION_DOMAIN_KEY, NON_TRANSPORTATION_DOMAIN_KEY, ALL_DOMAINS_KEY]\n",
    "# domains = [TRANSPORTATION_DOMAIN_KEY, NON_TRANSPORTATION_DOMAIN_KEY, ALL_DOMAINS_KEY]\n",
    "save_key = 'all'#'transport_vs_other'\n",
    "df = to_df(stats_all, model_name, answer_type, prompt_type, subs, domains)"
   ],
   "metadata": {
    "collapsed": false,
    "ExecuteTime": {
     "end_time": "2024-04-25T23:49:17.989433Z",
     "start_time": "2024-04-25T23:49:14.361432Z"
    }
   },
   "id": "578585d5135a72bd",
   "execution_count": 23
  },
  {
   "cell_type": "code",
   "outputs": [
    {
     "data": {
      "text/plain": "                                      blocksworld    depots  driverlog  \\\n(1, object_tracking, R, T/F)             0.571429  0.584270   0.474026   \n(1, object_tracking, No R, T/F)          0.564286  0.595960   0.487013   \n(1, fluent_tracking, R, T/F)             0.507407  0.487654   0.512195   \n(1, fluent_tracking, No R, T/F)          0.492593  0.522222   0.524390   \n(1, state_tracking, R, T/F)              0.500000  0.500000   0.500000   \n...                                           ...       ...        ...   \n(19, numerical_reasoning, No R, T/F)     0.470000  0.500000   0.500000   \n(19, hallucination, R, T/F)              0.450000  0.460000   0.458333   \n(19, hallucination, No R, T/F)           0.483333  0.450000   0.433333   \n(19, all_categories, R, T/F)             0.499462  0.498630   0.503808   \n(19, all_categories, No R, T/F)          0.505920  0.484211   0.499456   \n\n                                      goldminer  grippers  logistics  \\\n(1, object_tracking, R, T/F)           0.562500  0.492857   0.500000   \n(1, object_tracking, No R, T/F)        0.562500  0.492857   0.491667   \n(1, fluent_tracking, R, T/F)           0.516667  0.557143   0.550000   \n(1, fluent_tracking, No R, T/F)        0.502778  0.557143   0.538889   \n(1, state_tracking, R, T/F)            0.500000  0.500000   0.500000   \n...                                         ...       ...        ...   \n(19, numerical_reasoning, No R, T/F)   0.495000  0.470000   0.495000   \n(19, hallucination, R, T/F)            0.400000  0.341667   0.360000   \n(19, hallucination, No R, T/F)         0.385714  0.358333   0.370000   \n(19, all_categories, R, T/F)           0.496409  0.452910   0.508974   \n(19, all_categories, No R, T/F)        0.488330  0.457143   0.507692   \n\n                                       miconic   mystery   npuzzle  satellite  \\\n(1, object_tracking, R, T/F)          0.621951  0.475000  0.541401   0.512563   \n(1, object_tracking, No R, T/F)       0.597561  0.458333  0.522293   0.492462   \n(1, fluent_tracking, R, T/F)          0.582456  0.533333  0.507407   0.472222   \n(1, fluent_tracking, No R, T/F)       0.585965  0.511111  0.511111   0.469444   \n(1, state_tracking, R, T/F)           0.500000  0.500000  0.500000   0.500000   \n...                                        ...       ...       ...        ...   \n(19, numerical_reasoning, No R, T/F)  0.500000  0.480000  0.460000   0.500000   \n(19, hallucination, R, T/F)           0.414286  0.380000  0.450000   0.364286   \n(19, hallucination, No R, T/F)        0.435714  0.340000  0.450000   0.357143   \n(19, all_categories, R, T/F)          0.461679  0.500000  0.510053   0.439640   \n(19, all_categories, No R, T/F)       0.477190  0.493590  0.503704   0.438739   \n\n                                       spanner  visitall  zenotravel  \\\n(1, object_tracking, R, T/F)          0.509524  0.606299    0.494253   \n(1, object_tracking, No R, T/F)       0.500000  0.606299    0.494253   \n(1, fluent_tracking, R, T/F)          0.540625  0.544444    0.518519   \n(1, fluent_tracking, No R, T/F)       0.543750  0.522222    0.514815   \n(1, state_tracking, R, T/F)           0.500000  0.500000    0.500000   \n...                                        ...       ...         ...   \n(19, numerical_reasoning, No R, T/F)  0.500000  0.495000    0.455000   \n(19, hallucination, R, T/F)           0.335714  0.466667    0.425000   \n(19, hallucination, No R, T/F)        0.335714  0.450000    0.416667   \n(19, all_categories, R, T/F)          0.462281  0.530435    0.496373   \n(19, all_categories, No R, T/F)       0.453509  0.526087    0.484974   \n\n                                      TRANSPORTATION  NON_TRANSPORTATION  \\\n(1, object_tracking, R, T/F)                0.519251            0.545629   \n(1, object_tracking, No R, T/F)             0.515963            0.536023   \n(1, fluent_tracking, R, T/F)                0.536856            0.513514   \n(1, fluent_tracking, No R, T/F)             0.538362            0.505946   \n(1, state_tracking, R, T/F)                 0.500000            0.500000   \n...                                              ...                 ...   \n(19, numerical_reasoning, No R, T/F)        0.485714            0.486667   \n(19, hallucination, R, T/F)                 0.406250            0.407692   \n(19, hallucination, No R, T/F)              0.402500            0.406410   \n(19, all_categories, R, T/F)                0.487047            0.487496   \n(19, all_categories, No R, T/F)             0.485348            0.483599   \n\n                                      ALL_DOMAINS  \n(1, object_tracking, R, T/F)             0.532967  \n(1, object_tracking, No R, T/F)          0.526342  \n(1, fluent_tracking, R, T/F)             0.524091  \n(1, fluent_tracking, No R, T/F)          0.520729  \n(1, state_tracking, R, T/F)              0.500000  \n...                                           ...  \n(19, numerical_reasoning, No R, T/F)     0.486154  \n(19, hallucination, R, T/F)              0.406962  \n(19, hallucination, No R, T/F)           0.404430  \n(19, all_categories, R, T/F)             0.487271  \n(19, all_categories, No R, T/F)          0.484480  \n\n[80 rows x 16 columns]",
      "text/html": "<div>\n<style scoped>\n    .dataframe tbody tr th:only-of-type {\n        vertical-align: middle;\n    }\n\n    .dataframe tbody tr th {\n        vertical-align: top;\n    }\n\n    .dataframe thead th {\n        text-align: right;\n    }\n</style>\n<table border=\"1\" class=\"dataframe\">\n  <thead>\n    <tr style=\"text-align: right;\">\n      <th></th>\n      <th>blocksworld</th>\n      <th>depots</th>\n      <th>driverlog</th>\n      <th>goldminer</th>\n      <th>grippers</th>\n      <th>logistics</th>\n      <th>miconic</th>\n      <th>mystery</th>\n      <th>npuzzle</th>\n      <th>satellite</th>\n      <th>spanner</th>\n      <th>visitall</th>\n      <th>zenotravel</th>\n      <th>TRANSPORTATION</th>\n      <th>NON_TRANSPORTATION</th>\n      <th>ALL_DOMAINS</th>\n    </tr>\n  </thead>\n  <tbody>\n    <tr>\n      <th>(1, object_tracking, R, T/F)</th>\n      <td>0.571429</td>\n      <td>0.584270</td>\n      <td>0.474026</td>\n      <td>0.562500</td>\n      <td>0.492857</td>\n      <td>0.500000</td>\n      <td>0.621951</td>\n      <td>0.475000</td>\n      <td>0.541401</td>\n      <td>0.512563</td>\n      <td>0.509524</td>\n      <td>0.606299</td>\n      <td>0.494253</td>\n      <td>0.519251</td>\n      <td>0.545629</td>\n      <td>0.532967</td>\n    </tr>\n    <tr>\n      <th>(1, object_tracking, No R, T/F)</th>\n      <td>0.564286</td>\n      <td>0.595960</td>\n      <td>0.487013</td>\n      <td>0.562500</td>\n      <td>0.492857</td>\n      <td>0.491667</td>\n      <td>0.597561</td>\n      <td>0.458333</td>\n      <td>0.522293</td>\n      <td>0.492462</td>\n      <td>0.500000</td>\n      <td>0.606299</td>\n      <td>0.494253</td>\n      <td>0.515963</td>\n      <td>0.536023</td>\n      <td>0.526342</td>\n    </tr>\n    <tr>\n      <th>(1, fluent_tracking, R, T/F)</th>\n      <td>0.507407</td>\n      <td>0.487654</td>\n      <td>0.512195</td>\n      <td>0.516667</td>\n      <td>0.557143</td>\n      <td>0.550000</td>\n      <td>0.582456</td>\n      <td>0.533333</td>\n      <td>0.507407</td>\n      <td>0.472222</td>\n      <td>0.540625</td>\n      <td>0.544444</td>\n      <td>0.518519</td>\n      <td>0.536856</td>\n      <td>0.513514</td>\n      <td>0.524091</td>\n    </tr>\n    <tr>\n      <th>(1, fluent_tracking, No R, T/F)</th>\n      <td>0.492593</td>\n      <td>0.522222</td>\n      <td>0.524390</td>\n      <td>0.502778</td>\n      <td>0.557143</td>\n      <td>0.538889</td>\n      <td>0.585965</td>\n      <td>0.511111</td>\n      <td>0.511111</td>\n      <td>0.469444</td>\n      <td>0.543750</td>\n      <td>0.522222</td>\n      <td>0.514815</td>\n      <td>0.538362</td>\n      <td>0.505946</td>\n      <td>0.520729</td>\n    </tr>\n    <tr>\n      <th>(1, state_tracking, R, T/F)</th>\n      <td>0.500000</td>\n      <td>0.500000</td>\n      <td>0.500000</td>\n      <td>0.500000</td>\n      <td>0.500000</td>\n      <td>0.500000</td>\n      <td>0.500000</td>\n      <td>0.500000</td>\n      <td>0.500000</td>\n      <td>0.500000</td>\n      <td>0.500000</td>\n      <td>0.500000</td>\n      <td>0.500000</td>\n      <td>0.500000</td>\n      <td>0.500000</td>\n      <td>0.500000</td>\n    </tr>\n    <tr>\n      <th>...</th>\n      <td>...</td>\n      <td>...</td>\n      <td>...</td>\n      <td>...</td>\n      <td>...</td>\n      <td>...</td>\n      <td>...</td>\n      <td>...</td>\n      <td>...</td>\n      <td>...</td>\n      <td>...</td>\n      <td>...</td>\n      <td>...</td>\n      <td>...</td>\n      <td>...</td>\n      <td>...</td>\n    </tr>\n    <tr>\n      <th>(19, numerical_reasoning, No R, T/F)</th>\n      <td>0.470000</td>\n      <td>0.500000</td>\n      <td>0.500000</td>\n      <td>0.495000</td>\n      <td>0.470000</td>\n      <td>0.495000</td>\n      <td>0.500000</td>\n      <td>0.480000</td>\n      <td>0.460000</td>\n      <td>0.500000</td>\n      <td>0.500000</td>\n      <td>0.495000</td>\n      <td>0.455000</td>\n      <td>0.485714</td>\n      <td>0.486667</td>\n      <td>0.486154</td>\n    </tr>\n    <tr>\n      <th>(19, hallucination, R, T/F)</th>\n      <td>0.450000</td>\n      <td>0.460000</td>\n      <td>0.458333</td>\n      <td>0.400000</td>\n      <td>0.341667</td>\n      <td>0.360000</td>\n      <td>0.414286</td>\n      <td>0.380000</td>\n      <td>0.450000</td>\n      <td>0.364286</td>\n      <td>0.335714</td>\n      <td>0.466667</td>\n      <td>0.425000</td>\n      <td>0.406250</td>\n      <td>0.407692</td>\n      <td>0.406962</td>\n    </tr>\n    <tr>\n      <th>(19, hallucination, No R, T/F)</th>\n      <td>0.483333</td>\n      <td>0.450000</td>\n      <td>0.433333</td>\n      <td>0.385714</td>\n      <td>0.358333</td>\n      <td>0.370000</td>\n      <td>0.435714</td>\n      <td>0.340000</td>\n      <td>0.450000</td>\n      <td>0.357143</td>\n      <td>0.335714</td>\n      <td>0.450000</td>\n      <td>0.416667</td>\n      <td>0.402500</td>\n      <td>0.406410</td>\n      <td>0.404430</td>\n    </tr>\n    <tr>\n      <th>(19, all_categories, R, T/F)</th>\n      <td>0.499462</td>\n      <td>0.498630</td>\n      <td>0.503808</td>\n      <td>0.496409</td>\n      <td>0.452910</td>\n      <td>0.508974</td>\n      <td>0.461679</td>\n      <td>0.500000</td>\n      <td>0.510053</td>\n      <td>0.439640</td>\n      <td>0.462281</td>\n      <td>0.530435</td>\n      <td>0.496373</td>\n      <td>0.487047</td>\n      <td>0.487496</td>\n      <td>0.487271</td>\n    </tr>\n    <tr>\n      <th>(19, all_categories, No R, T/F)</th>\n      <td>0.505920</td>\n      <td>0.484211</td>\n      <td>0.499456</td>\n      <td>0.488330</td>\n      <td>0.457143</td>\n      <td>0.507692</td>\n      <td>0.477190</td>\n      <td>0.493590</td>\n      <td>0.503704</td>\n      <td>0.438739</td>\n      <td>0.453509</td>\n      <td>0.526087</td>\n      <td>0.484974</td>\n      <td>0.485348</td>\n      <td>0.483599</td>\n      <td>0.484480</td>\n    </tr>\n  </tbody>\n</table>\n<p>80 rows × 16 columns</p>\n</div>"
     },
     "execution_count": 24,
     "metadata": {},
     "output_type": "execute_result"
    }
   ],
   "source": [
    "df"
   ],
   "metadata": {
    "collapsed": false,
    "ExecuteTime": {
     "end_time": "2024-04-25T23:49:19.129063Z",
     "start_time": "2024-04-25T23:49:19.104309Z"
    }
   },
   "id": "5b5a15905194ac6a",
   "execution_count": 24
  },
  {
   "cell_type": "code",
   "outputs": [
    {
     "name": "stderr",
     "output_type": "stream",
     "text": [
      "/var/folders/_0/bqv6dr454lsgny6_gs_xb0q80000gn/T/ipykernel_80015/3246921699.py:1: FutureWarning: In future versions `DataFrame.to_latex` is expected to utilise the base implementation of `Styler.to_latex` for formatting and rendering. The arguments signature may therefore change. It is recommended instead to use `DataFrame.style.to_latex` which also contains additional functionality.\n",
      "  latex_table = df.to_latex(index=True, formatters={\"name\": str.upper}, float_format=\"{:.2f}\".format)\n"
     ]
    }
   ],
   "source": [
    "latex_table = df.to_latex(index=True, formatters={\"name\": str.upper}, float_format=\"{:.2f}\".format)\n",
    "\n",
    "latex_table_all = r\"\"\"\n",
    "\\begin{table*}[h!]\n",
    "\\begin{adjustbox}{width=\\textwidth,center}\n",
    "\"\"\" + latex_table + \"\"\"\n",
    "\\end{adjustbox}\n",
    "\\caption{}\n",
    "\\end{table*}\n",
    "\"\"\"\n",
    "os.makedirs(os.path.join(STATISTICS_PATH, 'tables_2'), exist_ok=True)\n",
    "with open(os.path.join(STATISTICS_PATH, 'tables_2', f'{model_name}.{prompt_type}.{answer_type_ext}.{save_key}.tex'), 'w') as f:\n",
    "    f.write(latex_table_all)"
   ],
   "metadata": {
    "collapsed": false,
    "ExecuteTime": {
     "end_time": "2024-04-25T23:49:30.173660Z",
     "start_time": "2024-04-25T23:49:30.073145Z"
    }
   },
   "id": "f096656451a1a662",
   "execution_count": 25
  },
  {
   "cell_type": "code",
   "outputs": [
    {
     "data": {
      "text/plain": "'\\n\\\\begin{table*}[h!]\\n\\\\begin{adjustbox}{width=2\\\\columnwidth,center}\\n\\\\begin{tabular}{lrrr}\\n\\\\toprule\\n{} &  TRANSPORTATION &  NON\\\\_TRANSPORTATION &  ALL\\\\_DOMAINS \\\\\\\\\\n\\\\midrule\\n(1, object\\\\_tracking, R, T/F)          &            0.03 &                0.04 &         0.03 \\\\\\\\\\n(1, object\\\\_tracking, No R, T/F)       &            0.02 &                0.02 &         0.02 \\\\\\\\\\n(1, fluent\\\\_tracking, R, T/F)          &            0.19 &                0.15 &         0.17 \\\\\\\\\\n(1, fluent\\\\_tracking, No R, T/F)       &            0.18 &                0.14 &         0.16 \\\\\\\\\\n(1, state\\\\_tracking, R, T/F)           &            0.42 &                0.40 &         0.41 \\\\\\\\\\n(1, state\\\\_tracking, No R, T/F)        &            0.40 &                0.40 &         0.40 \\\\\\\\\\n(1, action\\\\_executability, R, T/F)     &            0.18 &                0.09 &         0.14 \\\\\\\\\\n(1, action\\\\_executability, No R, T/F)  &            0.16 &                0.08 &         0.12 \\\\\\\\\\n(1, effects, R, T/F)                  &            0.02 &                0.04 &         0.03 \\\\\\\\\\n(1, effects, No R, T/F)               &            0.02 &                0.03 &         0.02 \\\\\\\\\\n(1, numerical\\\\_reasoning, R, T/F)      &            0.03 &                0.02 &         0.02 \\\\\\\\\\n(1, numerical\\\\_reasoning, No R, T/F)   &            0.02 &                0.02 &         0.02 \\\\\\\\\\n(1, hallucination, R, T/F)            &            0.01 &                0.02 &         0.02 \\\\\\\\\\n(1, hallucination, No R, T/F)         &            0.02 &                0.02 &         0.02 \\\\\\\\\\n(1, all\\\\_categories, R, T/F)           &            0.08 &                0.07 &         0.08 \\\\\\\\\\n(1, all\\\\_categories, No R, T/F)        &            0.08 &                0.06 &         0.07 \\\\\\\\\\n(5, object\\\\_tracking, R, T/F)          &            0.03 &                0.02 &         0.03 \\\\\\\\\\n(5, object\\\\_tracking, No R, T/F)       &            0.03 &                0.02 &         0.02 \\\\\\\\\\n(5, fluent\\\\_tracking, R, T/F)          &            0.19 &                0.17 &         0.18 \\\\\\\\\\n(5, fluent\\\\_tracking, No R, T/F)       &            0.18 &                0.15 &         0.16 \\\\\\\\\\n(5, state\\\\_tracking, R, T/F)           &            0.44 &                0.30 &         0.39 \\\\\\\\\\n(5, state\\\\_tracking, No R, T/F)        &            0.42 &                0.31 &         0.38 \\\\\\\\\\n(5, action\\\\_executability, R, T/F)     &            0.21 &                0.12 &         0.17 \\\\\\\\\\n(5, action\\\\_executability, No R, T/F)  &            0.19 &                0.12 &         0.16 \\\\\\\\\\n(5, effects, R, T/F)                  &            0.03 &                0.02 &         0.02 \\\\\\\\\\n(5, effects, No R, T/F)               &            0.04 &                0.02 &         0.03 \\\\\\\\\\n(5, numerical\\\\_reasoning, R, T/F)      &            0.07 &                0.05 &         0.06 \\\\\\\\\\n(5, numerical\\\\_reasoning, No R, T/F)   &            0.06 &                0.05 &         0.05 \\\\\\\\\\n(5, hallucination, R, T/F)            &            0.04 &                0.02 &         0.03 \\\\\\\\\\n(5, hallucination, No R, T/F)         &            0.03 &                0.02 &         0.03 \\\\\\\\\\n(5, all\\\\_categories, R, T/F)           &            0.10 &                0.08 &         0.09 \\\\\\\\\\n(5, all\\\\_categories, No R, T/F)        &            0.09 &                0.07 &         0.08 \\\\\\\\\\n(10, object\\\\_tracking, R, T/F)         &            0.04 &                0.03 &         0.04 \\\\\\\\\\n(10, object\\\\_tracking, No R, T/F)      &            0.05 &                0.03 &         0.04 \\\\\\\\\\n(10, fluent\\\\_tracking, R, T/F)         &            0.20 &                0.18 &         0.19 \\\\\\\\\\n(10, fluent\\\\_tracking, No R, T/F)      &            0.19 &                0.17 &         0.18 \\\\\\\\\\n(10, state\\\\_tracking, R, T/F)          &            0.43 &                0.29 &         0.38 \\\\\\\\\\n(10, state\\\\_tracking, No R, T/F)       &            0.43 &                0.20 &         0.34 \\\\\\\\\\n(10, action\\\\_executability, R, T/F)    &            0.19 &                0.13 &         0.16 \\\\\\\\\\n(10, action\\\\_executability, No R, T/F) &            0.17 &                0.14 &         0.16 \\\\\\\\\\n(10, effects, R, T/F)                 &            0.05 &                0.01 &         0.03 \\\\\\\\\\n(10, effects, No R, T/F)              &            0.04 &                0.01 &         0.03 \\\\\\\\\\n(10, numerical\\\\_reasoning, R, T/F)     &            0.07 &                0.05 &         0.06 \\\\\\\\\\n(10, numerical\\\\_reasoning, No R, T/F)  &            0.07 &                0.04 &         0.05 \\\\\\\\\\n(10, hallucination, R, T/F)           &            0.05 &                0.01 &         0.03 \\\\\\\\\\n(10, hallucination, No R, T/F)        &            0.05 &                0.02 &         0.03 \\\\\\\\\\n(10, all\\\\_categories, R, T/F)          &            0.10 &                0.08 &         0.09 \\\\\\\\\\n(10, all\\\\_categories, No R, T/F)       &            0.10 &                0.07 &         0.09 \\\\\\\\\\n(15, object\\\\_tracking, R, T/F)         &            0.04 &                0.04 &         0.04 \\\\\\\\\\n(15, object\\\\_tracking, No R, T/F)      &            0.04 &                0.03 &         0.04 \\\\\\\\\\n(15, fluent\\\\_tracking, R, T/F)         &            0.20 &                0.17 &         0.19 \\\\\\\\\\n(15, fluent\\\\_tracking, No R, T/F)      &            0.19 &                0.17 &         0.18 \\\\\\\\\\n(15, state\\\\_tracking, R, T/F)          &            0.44 &                0.33 &         0.40 \\\\\\\\\\n(15, state\\\\_tracking, No R, T/F)       &            0.40 &                0.29 &         0.36 \\\\\\\\\\n(15, action\\\\_executability, R, T/F)    &            0.21 &                0.18 &         0.19 \\\\\\\\\\n(15, action\\\\_executability, No R, T/F) &            0.19 &                0.22 &         0.21 \\\\\\\\\\n(15, effects, R, T/F)                 &            0.02 &                0.02 &         0.02 \\\\\\\\\\n(15, effects, No R, T/F)              &            0.02 &                0.02 &         0.02 \\\\\\\\\\n(15, numerical\\\\_reasoning, R, T/F)     &            0.07 &                0.04 &         0.06 \\\\\\\\\\n(15, numerical\\\\_reasoning, No R, T/F)  &            0.05 &                0.04 &         0.05 \\\\\\\\\\n(15, hallucination, R, T/F)           &            0.03 &                0.02 &         0.02 \\\\\\\\\\n(15, hallucination, No R, T/F)        &            0.04 &                0.02 &         0.03 \\\\\\\\\\n(15, all\\\\_categories, R, T/F)          &            0.10 &                0.08 &         0.09 \\\\\\\\\\n(15, all\\\\_categories, No R, T/F)       &            0.09 &                0.08 &         0.09 \\\\\\\\\\n(19, object\\\\_tracking, R, T/F)         &            0.05 &                0.04 &         0.04 \\\\\\\\\\n(19, object\\\\_tracking, No R, T/F)      &            0.06 &                0.03 &         0.04 \\\\\\\\\\n(19, fluent\\\\_tracking, R, T/F)         &            0.20 &                0.17 &         0.18 \\\\\\\\\\n(19, fluent\\\\_tracking, No R, T/F)      &            0.20 &                0.17 &         0.18 \\\\\\\\\\n(19, state\\\\_tracking, R, T/F)          &            0.41 &                0.32 &         0.38 \\\\\\\\\\n(19, state\\\\_tracking, No R, T/F)       &            0.40 &                0.26 &         0.35 \\\\\\\\\\n(19, action\\\\_executability, R, T/F)    &            0.18 &                0.19 &         0.19 \\\\\\\\\\n(19, action\\\\_executability, No R, T/F) &            0.19 &                0.19 &         0.19 \\\\\\\\\\n(19, effects, R, T/F)                 &            0.03 &                0.01 &         0.02 \\\\\\\\\\n(19, effects, No R, T/F)              &            0.04 &                0.01 &         0.02 \\\\\\\\\\n(19, numerical\\\\_reasoning, R, T/F)     &            0.05 &                0.04 &         0.05 \\\\\\\\\\n(19, numerical\\\\_reasoning, No R, T/F)  &            0.06 &                0.03 &         0.05 \\\\\\\\\\n(19, hallucination, R, T/F)           &            0.02 &                0.02 &         0.02 \\\\\\\\\\n(19, hallucination, No R, T/F)        &            0.04 &                0.03 &         0.03 \\\\\\\\\\n(19, all\\\\_categories, R, T/F)          &            0.10 &                0.08 &         0.09 \\\\\\\\\\n(19, all\\\\_categories, No R, T/F)       &            0.10 &                0.08 &         0.09 \\\\\\\\\\n\\\\bottomrule\\n\\\\end{tabular}\\n\\n\\\\end{adjustbox}\\n\\\\caption{}\\n\\\\end{table*}\\n'"
     },
     "execution_count": 32,
     "metadata": {},
     "output_type": "execute_result"
    }
   ],
   "source": [
    "latex_table_all"
   ],
   "metadata": {
    "collapsed": false,
    "ExecuteTime": {
     "end_time": "2024-04-22T01:34:49.773745Z",
     "start_time": "2024-04-22T01:34:49.768221Z"
    }
   },
   "id": "63a61708b6738b85",
   "execution_count": 32
  },
  {
   "cell_type": "code",
   "outputs": [],
   "source": [],
   "metadata": {
    "collapsed": false
   },
   "id": "58214f61440c13c8"
  }
 ],
 "metadata": {
  "kernelspec": {
   "display_name": "Python 3",
   "language": "python",
   "name": "python3"
  },
  "language_info": {
   "codemirror_mode": {
    "name": "ipython",
    "version": 2
   },
   "file_extension": ".py",
   "mimetype": "text/x-python",
   "name": "python",
   "nbconvert_exporter": "python",
   "pygments_lexer": "ipython2",
   "version": "2.7.6"
  }
 },
 "nbformat": 4,
 "nbformat_minor": 5
}
