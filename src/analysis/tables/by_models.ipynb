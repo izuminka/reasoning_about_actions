{
 "cells": [
  {
   "cell_type": "code",
   "outputs": [],
   "source": [
    "import sys\n",
    "import json\n",
    "sys.path.append('..')\n",
    "from src.common import *\n",
    "from src.analysis.model_performances import *\n",
    "from copy import deepcopy\n",
    "from helpers import *\n",
    "import pandas as pd\n",
    "\n",
    "CONF_KEY = 'sem'\n",
    "\n",
    "def latex_table_mods(latex_table):\n",
    "    return latex_table.replace('{lllllllllllll}','{l|ll|ll|ll|ll||ll|ll}').replace('${None}_{None}$', '---')\n",
    "\n",
    "model_names =  ['gpt-4o', 'gemini', 'llama2-13b-chat', 'llama-3-8b-instruct', 'llama2-7b-chat', 'gemma-7b'] + ['llama-3-8b-instruct-finetuned','gemma-7b-finetuned']"
   ],
   "metadata": {
    "collapsed": false,
    "ExecuteTime": {
     "end_time": "2024-06-05T08:20:51.108827Z",
     "start_time": "2024-06-05T08:20:51.105233Z"
    }
   },
   "id": "1581e9208ff09f8e",
   "execution_count": 7
  },
  {
   "cell_type": "code",
   "outputs": [
    {
     "name": "stderr",
     "output_type": "stream",
     "text": [
      "100%|██████████| 62208/62208 [00:01<00:00, 52020.59it/s]"
     ]
    },
    {
     "name": "stdout",
     "output_type": "stream",
     "text": [
      "5415\n"
     ]
    },
    {
     "name": "stderr",
     "output_type": "stream",
     "text": [
      "\n"
     ]
    }
   ],
   "source": [
    "answer_type = TRUE_FALSE_ANSWER_TYPE\n",
    "answer_type_ext = f'{answer_type}.{ACCURACY_SCORE_KEY}'\n",
    "\n",
    "\n",
    "ids_file_name = 'dataset_ids.test.pruned'  # None\n",
    "save_main_dir = f'{STATISTICS_PATH}.{ids_file_name}'\n",
    "stats_all = collect_stats_all(answer_type_ext, save_main_dir=save_main_dir)\n",
    "print(len(stats_all))\n",
    "plan_lengths = [1,10,19]\n",
    "\n",
    "save_dir = os.path.join(save_main_dir, 'tables', 'by_models')\n",
    "os.makedirs(save_dir, exist_ok=True)"
   ],
   "metadata": {
    "collapsed": false,
    "ExecuteTime": {
     "end_time": "2024-06-05T08:20:52.593659Z",
     "start_time": "2024-06-05T08:20:51.386198Z"
    }
   },
   "id": "8fb4feeb322b4ab0",
   "execution_count": 8
  },
  {
   "cell_type": "code",
   "outputs": [],
   "source": [
    "\n",
    "def to_df_by_len_by_category(results_all, answer_type, prompt_type,\n",
    "                      model_names = PROMPT_MODEL_NAMES,\n",
    "                      ramifications = WITHOUT_RAMIFICATIONS,\n",
    "                      domain = ALL_DOMAINS_KEY, \n",
    "                      subs = WITHOUT_RANDOM_SUB):\n",
    "\n",
    "    index = []\n",
    "    data = []    \n",
    "    for plan_length in PLAN_LENGTHS:\n",
    "        for question_category in QUESTION_CATEGORIES+[ALL_QUESTION_CATEGORIES_KEY]:\n",
    "            index.append((plan_length, TO_PRETTY.get(question_category,question_category)))\n",
    "            # index.append('{}')\n",
    "            data_columns = {}\n",
    "            data_columns['plan pength'] = plan_length\n",
    "            data_columns['question category'] = TO_PRETTY.get(question_category,question_category)\n",
    "            for model_name in model_names:\n",
    "                res_obj = filter_single_selector(results_all, plan_length, question_category, ramifications, model_name, prompt_type, domain, answer_type, subs)\n",
    "                if res_obj:\n",
    "                    mean = res_obj['result']\n",
    "                    sem = None\n",
    "                    if res_obj['result_other']:\n",
    "                        sem = res_obj['result_other'][CONF_KEY]\n",
    "                    not_corrupted = res_obj['stats']['num_not_corrupted']\n",
    "                    final_res = (mean, sem, not_corrupted)\n",
    "                else:\n",
    "                    final_res = (None, None, None)\n",
    "                final_res = tuple([round(v*100, 2) if v else v for v in final_res ])\n",
    "                final_res = '${'+str(final_res[0])+'}_{'+str(final_res[1])+'}$'\n",
    "                data_columns[(TO_PRETTY.get(model_name,model_name), TO_PRETTY.get(prompt_type,prompt_type))] = final_res\n",
    "            data.append(data_columns)\n",
    "    return pd.DataFrame(data, index = index)\n",
    "\n",
    "def to_df_few_shot(results_all, answer_type, \n",
    "                   plan_length=19,\n",
    "                      model_names = PROMPT_MODEL_NAMES,\n",
    "                      ramifications = WITHOUT_RAMIFICATIONS,\n",
    "                   question_category = ALL_QUESTION_CATEGORIES_KEY,\n",
    "                      domain = ALL_DOMAINS_KEY, \n",
    "                      subs = WITHOUT_RANDOM_SUB):\n",
    "\n",
    "    index = []\n",
    "    data = []    \n",
    "    for prompt_type in PROMPT_TYPES:\n",
    "        index.append(prompt_type)\n",
    "        data_columns = {}\n",
    "        data_columns['prompt'] = prompt_type\n",
    "        for model_name in model_names:\n",
    "            res_obj = filter_single_selector(results_all, plan_length, question_category, ramifications, model_name, prompt_type, domain, answer_type, subs)\n",
    "            if res_obj:\n",
    "                mean = res_obj['result']\n",
    "                sem = None\n",
    "                if res_obj['result_other']:\n",
    "                    sem = res_obj['result_other'][CONF_KEY]\n",
    "                not_corrupted = res_obj['stats']['num_not_corrupted']\n",
    "                final_res = (mean, sem, not_corrupted)\n",
    "            else:\n",
    "                final_res = (None, None, None)\n",
    "            final_res = tuple([round(v*100, 2) if v else v for v in final_res ])\n",
    "            final_res = '${'+str(final_res[0])+'}_{'+str(final_res[1])+'}$'\n",
    "            data_columns[TO_PRETTY.get(model_name,model_name)] = final_res\n",
    "        data.append(data_columns)\n",
    "    return pd.DataFrame(data, index = index)\n",
    "\n",
    "def to_df_few_shot_by_category(results_all, answer_type, \n",
    "                               plan_length=19, model_names = PROMPT_MODEL_NAMES,\n",
    "                      ramifications = WITHOUT_RAMIFICATIONS,\n",
    "                   question_category = ALL_QUESTION_CATEGORIES_KEY,\n",
    "                      domain = ALL_DOMAINS_KEY, \n",
    "                      subs = WITHOUT_RANDOM_SUB):\n",
    "\n",
    "    data = []    \n",
    "    for question_category in QUESTION_CATEGORIES+[ALL_QUESTION_CATEGORIES_KEY]:\n",
    "        if question_category == 'composite':\n",
    "            continue\n",
    "        data_columns = {}\n",
    "        data_columns['question category'] = TO_PRETTY.get(question_category,question_category)\n",
    "        for model_name in model_names:\n",
    "            for prompt_type in  ['few_shot_0', 'few_shot_1', 'few_shot_5']:\n",
    "                res_obj = filter_single_selector(results_all, plan_length, question_category, ramifications, model_name, prompt_type, domain, answer_type, subs)\n",
    "                if res_obj:\n",
    "                    mean = res_obj['result']\n",
    "                    sem = None\n",
    "                    if res_obj['result_other']:\n",
    "                        sem = res_obj['result_other'][CONF_KEY]\n",
    "                    not_corrupted = res_obj['stats']['num_not_corrupted']\n",
    "                    final_res = (mean, sem, not_corrupted)\n",
    "                else:\n",
    "                    final_res = (None, None, None)\n",
    "                final_res = tuple([round(v*100, 2) if v else v for v in final_res ])\n",
    "                final_res = '${'+str(final_res[0])+'}_{'+str(final_res[1])+'}$'\n",
    "                data_columns[(TO_PRETTY.get(model_name,model_name),prompt_type)] = final_res\n",
    "        data.append(data_columns)\n",
    "    return pd.DataFrame(data)"
   ],
   "metadata": {
    "collapsed": false,
    "ExecuteTime": {
     "end_time": "2024-06-05T08:20:52.612350Z",
     "start_time": "2024-06-05T08:20:52.595870Z"
    }
   },
   "id": "dd77fda858739d0e",
   "execution_count": 9
  },
  {
   "cell_type": "code",
   "outputs": [],
   "source": [
    "# def to_df(results_all, plan_lengths, answer_type, models=PROMPT_MODEL_NAMES,\n",
    "#           prompt_types = PROMPT_TYPES,\n",
    "#           domain = ALL_DOMAINS_KEY, subs = WITHOUT_RANDOM_SUB):\n",
    "#     \n",
    "#     index = []\n",
    "#     data = []    \n",
    "#     for plan_length in plan_lengths:\n",
    "#         for ramifications in RAMIFICATION_TYPES:\n",
    "#             index.append((plan_length, TO_PRETTY.get(ramifications, ramifications)))\n",
    "#             # data_columns = {}\n",
    "#             for model_name in models:\n",
    "#                 for prompt_type in prompt_types:\n",
    "#                     res_obj = filter_single_selector(results_all, plan_length, ALL_QUESTION_CATEGORIES_KEY, ramifications, model_name, prompt_type, domain, answer_type, subs)\n",
    "#                     # print(res_obj)\n",
    "#                     if res_obj:\n",
    "#                         mean = res_obj['result']\n",
    "#                         sem = None\n",
    "#                         if res_obj['result_other']:\n",
    "#                             sem = res_obj['result_other'][CONF_KEY]\n",
    "#                         not_corrupted = res_obj['stats']['num_not_corrupted']\n",
    "#                         final_res = (mean, sem, not_corrupted)\n",
    "#                     else:\n",
    "#                         final_res = (None, None, None)\n",
    "#                     final_res = tuple([round(v*100, 2) if v else v for v in final_res ])\n",
    "#                     final_res = '${'+str(final_res[0])+'}_{'+str(final_res[1])+'}$'\n",
    "#                     data_columns[(TO_PRETTY.get(model_name, model_name), TO_PRETTY.get(prompt_type, prompt_type))] = final_res\n",
    "#             data.append(data_columns)\n",
    "#     return pd.DataFrame(data, index = index)\n",
    "# \n",
    "# def to_df_by_category(results_all, answer_type,  \n",
    "#                       model_names = PROMPT_MODEL_NAMES,\n",
    "#                       prompt_types= PROMPT_TYPES,\n",
    "#                       ramifications = WITHOUT_RAMIFICATIONS,\n",
    "#                       domain = ALL_DOMAINS_KEY, \n",
    "#                       subs = WITHOUT_RANDOM_SUB,\n",
    "#                       plan_length=19):\n",
    "# \n",
    "#     index = []\n",
    "#     data = []    \n",
    "#     for question_category in QUESTION_CATEGORIES:\n",
    "#         index.append(question_category)\n",
    "#         data_columns = {}\n",
    "#         for model_name in model_names:\n",
    "#             for prompt_type in prompt_types:\n",
    "#                 res_obj = filter_single_selector(results_all, plan_length, question_category, ramifications, model_name, prompt_type, domain, answer_type, subs)\n",
    "#                 if res_obj:\n",
    "#                     mean = res_obj['result']\n",
    "#                     sem = None\n",
    "#                     if res_obj['result_other']:\n",
    "#                         sem = res_obj['result_other'][CONF_KEY]\n",
    "#                     not_corrupted = res_obj['stats']['num_not_corrupted']\n",
    "#                     final_res = (mean, sem, not_corrupted)\n",
    "#                 else:\n",
    "#                     final_res = (None, None, None)\n",
    "#                 final_res = tuple([round(v*100, 2) if v else v for v in final_res ])\n",
    "#                 final_res = '${'+str(final_res[0])+'}_{'+str(final_res[1])+'}$'\n",
    "#                 data_columns[(TO_PRETTY.get(model_name,model_name), TO_PRETTY.get(prompt_type,prompt_type))] = final_res\n",
    "#         data.append(data_columns)\n",
    "#     return pd.DataFrame(data, index = index)\n",
    "\n",
    "# models_for_plot =  ['gemini', 'gpt-4o'] + ['llama2-13b-chat', 'llama-3-8b-instruct','gemma-7b'] + ['llama-3-8b-tuned','gemma-7b-tuned']\n",
    "# # model_prompts_combos = [('small-models', SMALL_MODELS, PROMPT_TYPES), ('big-models', BIG_MODELS, ['few_shot_1', 'few_shot_5'])]\n",
    "# model_prompts_combos = [('all-models', PROMPT_MODEL_NAMES, ['few_shot_1', 'few_shot_5'])]\n",
    "# \n",
    "# for subs in [WITHOUT_RANDOM_SUB, WITH_RANDOM_SUB]:\n",
    "#     for model_save_name, model_names, prompt_types in model_prompts_combos:\n",
    "#         df = to_df(stats_all, plan_lengths, answer_type, prompt_types=prompt_types, models=model_names, subs=subs)\n",
    "#         print(df)\n",
    "#         \n",
    "#         caption_nl = f'performance of {model_save_name} on the test set, {subs}'.replace('_', ' ')\n",
    "#         latex_table = latex_table_mods(to_latex_table(df, caption_nl, label=model_save_name))\n",
    "#         save_key = f'all.{model_save_name}.{subs}'\n",
    "#         with open(os.path.join(save_dir, f'{save_key}.tex'), 'w') as f:\n",
    "#             f.write(latex_table)"
   ],
   "metadata": {
    "collapsed": false,
    "ExecuteTime": {
     "end_time": "2024-06-05T08:20:52.620250Z",
     "start_time": "2024-06-05T08:20:52.615091Z"
    }
   },
   "id": "5b5a15905194ac6a",
   "execution_count": 10
  },
  {
   "cell_type": "markdown",
   "source": [
    "# Plot By Category"
   ],
   "metadata": {
    "collapsed": false
   },
   "id": "5aad3ef5e3825084"
  },
  {
   "cell_type": "code",
   "outputs": [],
   "source": [
    "# plan_length = 19\n",
    "# for subs in [WITHOUT_RANDOM_SUB, WITH_RANDOM_SUB]:\n",
    "#     for model_save_name, model_names, prompt_types in model_prompts_combos:\n",
    "#         df2 = to_df_by_category(stats_all, answer_type, model_names=model_names, prompt_types=prompt_types, subs=subs)\n",
    "#         print(df2)\n",
    "#         \n",
    "#         caption_nl = f'performance of {model_save_name} on the test set by categories, {subs}, pl-{plan_length}'\n",
    "#         save_key = f'by_categories.{model_save_name}.{subs}'\n",
    "#         \n",
    "#         latex_table_all = latex_table_mods(to_latex_table(df2, caption_nl, label=save_key))\n",
    "#         with open(os.path.join(save_dir, f'{save_key}.tex'), 'w') as f:\n",
    "#             f.write(latex_table_all)"
   ],
   "metadata": {
    "collapsed": false,
    "ExecuteTime": {
     "end_time": "2024-06-05T08:20:52.625764Z",
     "start_time": "2024-06-05T08:20:52.622304Z"
    }
   },
   "id": "da82c99c16ce0495",
   "execution_count": 11
  },
  {
   "cell_type": "code",
   "outputs": [
    {
     "data": {
      "text/plain": "                     plan pength question category (gpt-4o, few_shot_0)  \\\n(1, Object Trk.)               1       Object Trk.      ${74.48}_{1.9}$   \n(1, Fluent Trk.)               1       Fluent Trk.     ${69.85}_{1.97}$   \n(1, State Trk.)                1        State Trk.      ${89.09}_{4.2}$   \n(1, Action Exec.)              1      Action Exec.      ${80.0}_{4.47}$   \n(1, Effects)                   1           Effects     ${63.44}_{2.69}$   \n(1, Num. Reas.)                1        Num. Reas.      ${55.0}_{5.56}$   \n(1, Hallucination)             1     Hallucination     ${88.75}_{3.53}$   \n(1, Composite)                 1         Composite     ${71.25}_{5.06}$   \n(1, AVG)                       1               AVG     ${71.37}_{1.08}$   \n(10, Object Trk.)             10       Object Trk.     ${71.19}_{1.94}$   \n(10, Fluent Trk.)             10       Fluent Trk.     ${68.63}_{1.99}$   \n(10, State Trk.)              10        State Trk.     ${90.74}_{3.94}$   \n(10, Action Exec.)            10      Action Exec.      ${55.0}_{5.56}$   \n(10, Effects)                 10           Effects     ${62.19}_{2.71}$   \n(10, Num. Reas.)              10        Num. Reas.      ${52.5}_{5.58}$   \n(10, Hallucination)           10     Hallucination     ${76.25}_{4.76}$   \n(10, Composite)               10         Composite      ${67.5}_{5.24}$   \n(10, AVG)                     10               AVG     ${67.88}_{1.11}$   \n(19, Object Trk.)             19       Object Trk.     ${68.94}_{2.01}$   \n(19, Fluent Trk.)             19       Fluent Trk.     ${70.04}_{2.02}$   \n(19, State Trk.)              19        State Trk.      ${93.18}_{3.8}$   \n(19, Action Exec.)            19      Action Exec.      ${52.5}_{5.58}$   \n(19, Effects)                 19           Effects     ${56.78}_{2.78}$   \n(19, Num. Reas.)              19        Num. Reas.      ${52.5}_{5.58}$   \n(19, Hallucination)           19     Hallucination       ${87.5}_{3.7}$   \n(19, Composite)               19         Composite     ${68.75}_{5.18}$   \n(19, AVG)                     19               AVG     ${66.98}_{1.13}$   \n\n                    (Gemini, few_shot_0) (L-13b, few_shot_0)  \\\n(1, Object Trk.)        ${70.86}_{1.98}$    ${60.19}_{2.14}$   \n(1, Fluent Trk.)         ${62.5}_{2.08}$    ${50.55}_{2.14}$   \n(1, State Trk.)         ${52.73}_{6.73}$    ${50.91}_{6.74}$   \n(1, Action Exec.)       ${63.29}_{5.42}$     ${50.0}_{5.59}$   \n(1, Effects)            ${54.37}_{2.78}$    ${51.88}_{2.79}$   \n(1, Num. Reas.)         ${53.75}_{5.57}$    ${53.75}_{5.57}$   \n(1, Hallucination)      ${83.75}_{4.12}$     ${67.5}_{5.24}$   \n(1, Composite)           ${57.5}_{5.53}$     ${3.75}_{2.12}$   \n(1, AVG)                ${63.58}_{1.15}$    ${52.44}_{1.19}$   \n(10, Object Trk.)       ${70.09}_{1.96}$    ${57.06}_{2.12}$   \n(10, Fluent Trk.)        ${60.15}_{2.1}$    ${45.94}_{2.14}$   \n(10, State Trk.)         ${53.7}_{6.79}$     ${48.15}_{6.8}$   \n(10, Action Exec.)       ${55.0}_{5.56}$     ${50.0}_{5.59}$   \n(10, Effects)            ${55.0}_{2.78}$    ${50.62}_{2.79}$   \n(10, Num. Reas.)         ${47.5}_{5.58}$    ${48.75}_{5.59}$   \n(10, Hallucination)     ${76.25}_{4.76}$     ${67.5}_{5.24}$   \n(10, Composite)          ${52.5}_{5.58}$     ${1.25}_{1.24}$   \n(10, AVG)               ${61.65}_{1.15}$    ${49.52}_{1.18}$   \n(19, Object Trk.)        ${69.51}_{2.0}$    ${56.06}_{2.16}$   \n(19, Fluent Trk.)       ${58.56}_{2.17}$    ${39.88}_{2.16}$   \n(19, State Trk.)        ${47.73}_{7.53}$    ${47.73}_{7.53}$   \n(19, Action Exec.)      ${51.25}_{5.59}$     ${50.0}_{5.59}$   \n(19, Effects)            ${53.63}_{2.8}$    ${51.74}_{2.81}$   \n(19, Num. Reas.)        ${53.75}_{5.57}$    ${51.25}_{5.59}$   \n(19, Hallucination)      ${80.0}_{4.47}$    ${73.75}_{4.92}$   \n(19, Composite)         ${51.25}_{5.59}$     ${1.25}_{1.24}$   \n(19, AVG)               ${60.82}_{1.18}$      ${48.0}_{1.2}$   \n\n                    (llama-3-8b-instruct, few_shot_0) (L-7b, few_shot_0)  \\\n(1, Object Trk.)                     ${41.52}_{2.15}$   ${45.71}_{2.17}$   \n(1, Fluent Trk.)                     ${33.82}_{2.03}$   ${43.93}_{2.13}$   \n(1, State Trk.)                      ${43.64}_{6.69}$   ${50.91}_{6.74}$   \n(1, Action Exec.)                    ${46.25}_{5.57}$   ${48.75}_{5.59}$   \n(1, Effects)                         ${41.88}_{2.76}$   ${54.37}_{2.78}$   \n(1, Num. Reas.)                      ${48.75}_{5.59}$    ${50.0}_{5.59}$   \n(1, Hallucination)                    ${57.5}_{5.53}$    ${50.0}_{5.59}$   \n(1, Composite)                       ${38.75}_{5.45}$      ${0.0}_{0.0}$   \n(1, AVG)                             ${40.42}_{1.17}$   ${45.35}_{1.19}$   \n(10, Object Trk.)                    ${42.02}_{2.11}$   ${53.03}_{2.14}$   \n(10, Fluent Trk.)                    ${37.27}_{2.08}$   ${42.07}_{2.12}$   \n(10, State Trk.)                     ${37.04}_{6.57}$     ${50.0}_{6.8}$   \n(10, Action Exec.)                   ${53.75}_{5.57}$    ${50.0}_{5.59}$   \n(10, Effects)                        ${47.81}_{2.79}$   ${56.56}_{2.77}$   \n(10, Num. Reas.)                      ${50.0}_{5.59}$    ${50.0}_{5.59}$   \n(10, Hallucination)                  ${43.75}_{5.55}$    ${50.0}_{5.59}$   \n(10, Composite)                       ${35.0}_{5.33}$      ${0.0}_{0.0}$   \n(10, AVG)                            ${42.11}_{1.17}$   ${47.45}_{1.18}$   \n(19, Object Trk.)                    ${40.72}_{2.14}$   ${47.54}_{2.17}$   \n(19, Fluent Trk.)                    ${33.46}_{2.08}$   ${36.38}_{2.12}$   \n(19, State Trk.)                     ${40.91}_{7.41}$   ${47.73}_{7.53}$   \n(19, Action Exec.)                   ${53.75}_{5.57}$    ${50.0}_{5.59}$   \n(19, Effects)                         ${47.32}_{2.8}$   ${50.16}_{2.81}$   \n(19, Num. Reas.)                      ${47.5}_{5.58}$    ${50.0}_{5.59}$   \n(19, Hallucination)                   ${55.0}_{5.56}$    ${50.0}_{5.59}$   \n(19, Composite)                      ${33.75}_{5.29}$     ${2.5}_{1.75}$   \n(19, AVG)                            ${41.03}_{1.19}$   ${42.95}_{1.19}$   \n\n                    (G-7b, few_shot_0)  \\\n(1, Object Trk.)      ${60.19}_{2.14}$   \n(1, Fluent Trk.)      ${50.55}_{2.14}$   \n(1, State Trk.)       ${50.91}_{6.74}$   \n(1, Action Exec.)      ${50.0}_{5.59}$   \n(1, Effects)          ${51.88}_{2.79}$   \n(1, Num. Reas.)       ${53.75}_{5.57}$   \n(1, Hallucination)     ${67.5}_{5.24}$   \n(1, Composite)        ${46.25}_{5.57}$   \n(1, AVG)              ${54.37}_{1.19}$   \n(10, Object Trk.)     ${57.06}_{2.12}$   \n(10, Fluent Trk.)     ${45.94}_{2.14}$   \n(10, State Trk.)       ${48.15}_{6.8}$   \n(10, Action Exec.)     ${50.0}_{5.59}$   \n(10, Effects)         ${50.62}_{2.79}$   \n(10, Num. Reas.)      ${48.75}_{5.59}$   \n(10, Hallucination)    ${67.5}_{5.24}$   \n(10, Composite)       ${43.75}_{5.55}$   \n(10, AVG)             ${51.43}_{1.18}$   \n(19, Object Trk.)     ${56.06}_{2.16}$   \n(19, Fluent Trk.)     ${39.88}_{2.16}$   \n(19, State Trk.)      ${47.73}_{7.53}$   \n(19, Action Exec.)     ${50.0}_{5.59}$   \n(19, Effects)         ${51.74}_{2.81}$   \n(19, Num. Reas.)      ${51.25}_{5.59}$   \n(19, Hallucination)   ${73.75}_{4.92}$   \n(19, Composite)        ${40.0}_{5.48}$   \n(19, AVG)               ${49.8}_{1.2}$   \n\n                    (llama-3-8b-instruct-finetuned, few_shot_0)  \\\n(1, Object Trk.)                               ${61.33}_{2.13}$   \n(1, Fluent Trk.)                               ${58.64}_{2.11}$   \n(1, State Trk.)                                ${49.09}_{6.74}$   \n(1, Action Exec.)                               ${62.5}_{5.41}$   \n(1, Effects)                                   ${45.62}_{2.78}$   \n(1, Num. Reas.)                                ${43.75}_{5.55}$   \n(1, Hallucination)                             ${56.25}_{5.55}$   \n(1, Composite)                                  ${None}_{None}$   \n(1, AVG)                                       ${56.06}_{1.21}$   \n(10, Object Trk.)                              ${64.04}_{2.06}$   \n(10, Fluent Trk.)                              ${58.49}_{2.12}$   \n(10, State Trk.)                                 ${50.0}_{6.8}$   \n(10, Action Exec.)                              ${35.0}_{5.33}$   \n(10, Effects)                                  ${48.12}_{2.79}$   \n(10, Num. Reas.)                                ${50.0}_{5.59}$   \n(10, Hallucination)                             ${50.0}_{5.59}$   \n(10, Composite)                                 ${None}_{None}$   \n(10, AVG)                                       ${56.14}_{1.2}$   \n(19, Object Trk.)                              ${66.29}_{2.06}$   \n(19, Fluent Trk.)                              ${60.12}_{2.16}$   \n(19, State Trk.)                               ${52.27}_{7.53}$   \n(19, Action Exec.)                              ${42.5}_{5.53}$   \n(19, Effects)                                  ${51.42}_{2.81}$   \n(19, Num. Reas.)                               ${53.75}_{5.57}$   \n(19, Hallucination)                             ${47.5}_{5.58}$   \n(19, Composite)                                 ${None}_{None}$   \n(19, AVG)                                      ${58.43}_{1.22}$   \n\n                    (gemma-7b-finetuned, few_shot_0)  \n(1, Object Trk.)                    ${24.57}_{1.88}$  \n(1, Fluent Trk.)                    ${18.01}_{1.65}$  \n(1, State Trk.)                     ${29.09}_{6.12}$  \n(1, Action Exec.)                   ${18.75}_{4.36}$  \n(1, Effects)                        ${20.62}_{2.26}$  \n(1, Num. Reas.)                     ${21.25}_{4.57}$  \n(1, Hallucination)                   ${15.0}_{3.99}$  \n(1, Composite)                       ${None}_{None}$  \n(1, AVG)                            ${20.96}_{0.99}$  \n(10, Object Trk.)                    ${25.5}_{1.87}$  \n(10, Fluent Trk.)                    ${20.3}_{1.73}$  \n(10, State Trk.)                    ${29.63}_{6.21}$  \n(10, Action Exec.)                   ${22.5}_{4.67}$  \n(10, Effects)                       ${23.75}_{2.38}$  \n(10, Num. Reas.)                    ${21.25}_{4.57}$  \n(10, Hallucination)                  ${27.5}_{4.99}$  \n(10, Composite)                      ${None}_{None}$  \n(10, AVG)                            ${23.4}_{1.03}$  \n(19, Object Trk.)                   ${27.46}_{1.94}$  \n(19, Fluent Trk.)                   ${19.26}_{1.74}$  \n(19, State Trk.)                    ${29.55}_{6.88}$  \n(19, Action Exec.)                   ${22.5}_{4.67}$  \n(19, Effects)                       ${25.55}_{2.45}$  \n(19, Num. Reas.)                     ${27.5}_{4.99}$  \n(19, Hallucination)                  ${27.5}_{4.99}$  \n(19, Composite)                      ${None}_{None}$  \n(19, AVG)                           ${24.35}_{1.06}$  ",
      "text/html": "<div>\n<style scoped>\n    .dataframe tbody tr th:only-of-type {\n        vertical-align: middle;\n    }\n\n    .dataframe tbody tr th {\n        vertical-align: top;\n    }\n\n    .dataframe thead th {\n        text-align: right;\n    }\n</style>\n<table border=\"1\" class=\"dataframe\">\n  <thead>\n    <tr style=\"text-align: right;\">\n      <th></th>\n      <th>plan pength</th>\n      <th>question category</th>\n      <th>(gpt-4o, few_shot_0)</th>\n      <th>(Gemini, few_shot_0)</th>\n      <th>(L-13b, few_shot_0)</th>\n      <th>(llama-3-8b-instruct, few_shot_0)</th>\n      <th>(L-7b, few_shot_0)</th>\n      <th>(G-7b, few_shot_0)</th>\n      <th>(llama-3-8b-instruct-finetuned, few_shot_0)</th>\n      <th>(gemma-7b-finetuned, few_shot_0)</th>\n    </tr>\n  </thead>\n  <tbody>\n    <tr>\n      <th>(1, Object Trk.)</th>\n      <td>1</td>\n      <td>Object Trk.</td>\n      <td>${74.48}_{1.9}$</td>\n      <td>${70.86}_{1.98}$</td>\n      <td>${60.19}_{2.14}$</td>\n      <td>${41.52}_{2.15}$</td>\n      <td>${45.71}_{2.17}$</td>\n      <td>${60.19}_{2.14}$</td>\n      <td>${61.33}_{2.13}$</td>\n      <td>${24.57}_{1.88}$</td>\n    </tr>\n    <tr>\n      <th>(1, Fluent Trk.)</th>\n      <td>1</td>\n      <td>Fluent Trk.</td>\n      <td>${69.85}_{1.97}$</td>\n      <td>${62.5}_{2.08}$</td>\n      <td>${50.55}_{2.14}$</td>\n      <td>${33.82}_{2.03}$</td>\n      <td>${43.93}_{2.13}$</td>\n      <td>${50.55}_{2.14}$</td>\n      <td>${58.64}_{2.11}$</td>\n      <td>${18.01}_{1.65}$</td>\n    </tr>\n    <tr>\n      <th>(1, State Trk.)</th>\n      <td>1</td>\n      <td>State Trk.</td>\n      <td>${89.09}_{4.2}$</td>\n      <td>${52.73}_{6.73}$</td>\n      <td>${50.91}_{6.74}$</td>\n      <td>${43.64}_{6.69}$</td>\n      <td>${50.91}_{6.74}$</td>\n      <td>${50.91}_{6.74}$</td>\n      <td>${49.09}_{6.74}$</td>\n      <td>${29.09}_{6.12}$</td>\n    </tr>\n    <tr>\n      <th>(1, Action Exec.)</th>\n      <td>1</td>\n      <td>Action Exec.</td>\n      <td>${80.0}_{4.47}$</td>\n      <td>${63.29}_{5.42}$</td>\n      <td>${50.0}_{5.59}$</td>\n      <td>${46.25}_{5.57}$</td>\n      <td>${48.75}_{5.59}$</td>\n      <td>${50.0}_{5.59}$</td>\n      <td>${62.5}_{5.41}$</td>\n      <td>${18.75}_{4.36}$</td>\n    </tr>\n    <tr>\n      <th>(1, Effects)</th>\n      <td>1</td>\n      <td>Effects</td>\n      <td>${63.44}_{2.69}$</td>\n      <td>${54.37}_{2.78}$</td>\n      <td>${51.88}_{2.79}$</td>\n      <td>${41.88}_{2.76}$</td>\n      <td>${54.37}_{2.78}$</td>\n      <td>${51.88}_{2.79}$</td>\n      <td>${45.62}_{2.78}$</td>\n      <td>${20.62}_{2.26}$</td>\n    </tr>\n    <tr>\n      <th>(1, Num. Reas.)</th>\n      <td>1</td>\n      <td>Num. Reas.</td>\n      <td>${55.0}_{5.56}$</td>\n      <td>${53.75}_{5.57}$</td>\n      <td>${53.75}_{5.57}$</td>\n      <td>${48.75}_{5.59}$</td>\n      <td>${50.0}_{5.59}$</td>\n      <td>${53.75}_{5.57}$</td>\n      <td>${43.75}_{5.55}$</td>\n      <td>${21.25}_{4.57}$</td>\n    </tr>\n    <tr>\n      <th>(1, Hallucination)</th>\n      <td>1</td>\n      <td>Hallucination</td>\n      <td>${88.75}_{3.53}$</td>\n      <td>${83.75}_{4.12}$</td>\n      <td>${67.5}_{5.24}$</td>\n      <td>${57.5}_{5.53}$</td>\n      <td>${50.0}_{5.59}$</td>\n      <td>${67.5}_{5.24}$</td>\n      <td>${56.25}_{5.55}$</td>\n      <td>${15.0}_{3.99}$</td>\n    </tr>\n    <tr>\n      <th>(1, Composite)</th>\n      <td>1</td>\n      <td>Composite</td>\n      <td>${71.25}_{5.06}$</td>\n      <td>${57.5}_{5.53}$</td>\n      <td>${3.75}_{2.12}$</td>\n      <td>${38.75}_{5.45}$</td>\n      <td>${0.0}_{0.0}$</td>\n      <td>${46.25}_{5.57}$</td>\n      <td>${None}_{None}$</td>\n      <td>${None}_{None}$</td>\n    </tr>\n    <tr>\n      <th>(1, AVG)</th>\n      <td>1</td>\n      <td>AVG</td>\n      <td>${71.37}_{1.08}$</td>\n      <td>${63.58}_{1.15}$</td>\n      <td>${52.44}_{1.19}$</td>\n      <td>${40.42}_{1.17}$</td>\n      <td>${45.35}_{1.19}$</td>\n      <td>${54.37}_{1.19}$</td>\n      <td>${56.06}_{1.21}$</td>\n      <td>${20.96}_{0.99}$</td>\n    </tr>\n    <tr>\n      <th>(10, Object Trk.)</th>\n      <td>10</td>\n      <td>Object Trk.</td>\n      <td>${71.19}_{1.94}$</td>\n      <td>${70.09}_{1.96}$</td>\n      <td>${57.06}_{2.12}$</td>\n      <td>${42.02}_{2.11}$</td>\n      <td>${53.03}_{2.14}$</td>\n      <td>${57.06}_{2.12}$</td>\n      <td>${64.04}_{2.06}$</td>\n      <td>${25.5}_{1.87}$</td>\n    </tr>\n    <tr>\n      <th>(10, Fluent Trk.)</th>\n      <td>10</td>\n      <td>Fluent Trk.</td>\n      <td>${68.63}_{1.99}$</td>\n      <td>${60.15}_{2.1}$</td>\n      <td>${45.94}_{2.14}$</td>\n      <td>${37.27}_{2.08}$</td>\n      <td>${42.07}_{2.12}$</td>\n      <td>${45.94}_{2.14}$</td>\n      <td>${58.49}_{2.12}$</td>\n      <td>${20.3}_{1.73}$</td>\n    </tr>\n    <tr>\n      <th>(10, State Trk.)</th>\n      <td>10</td>\n      <td>State Trk.</td>\n      <td>${90.74}_{3.94}$</td>\n      <td>${53.7}_{6.79}$</td>\n      <td>${48.15}_{6.8}$</td>\n      <td>${37.04}_{6.57}$</td>\n      <td>${50.0}_{6.8}$</td>\n      <td>${48.15}_{6.8}$</td>\n      <td>${50.0}_{6.8}$</td>\n      <td>${29.63}_{6.21}$</td>\n    </tr>\n    <tr>\n      <th>(10, Action Exec.)</th>\n      <td>10</td>\n      <td>Action Exec.</td>\n      <td>${55.0}_{5.56}$</td>\n      <td>${55.0}_{5.56}$</td>\n      <td>${50.0}_{5.59}$</td>\n      <td>${53.75}_{5.57}$</td>\n      <td>${50.0}_{5.59}$</td>\n      <td>${50.0}_{5.59}$</td>\n      <td>${35.0}_{5.33}$</td>\n      <td>${22.5}_{4.67}$</td>\n    </tr>\n    <tr>\n      <th>(10, Effects)</th>\n      <td>10</td>\n      <td>Effects</td>\n      <td>${62.19}_{2.71}$</td>\n      <td>${55.0}_{2.78}$</td>\n      <td>${50.62}_{2.79}$</td>\n      <td>${47.81}_{2.79}$</td>\n      <td>${56.56}_{2.77}$</td>\n      <td>${50.62}_{2.79}$</td>\n      <td>${48.12}_{2.79}$</td>\n      <td>${23.75}_{2.38}$</td>\n    </tr>\n    <tr>\n      <th>(10, Num. Reas.)</th>\n      <td>10</td>\n      <td>Num. Reas.</td>\n      <td>${52.5}_{5.58}$</td>\n      <td>${47.5}_{5.58}$</td>\n      <td>${48.75}_{5.59}$</td>\n      <td>${50.0}_{5.59}$</td>\n      <td>${50.0}_{5.59}$</td>\n      <td>${48.75}_{5.59}$</td>\n      <td>${50.0}_{5.59}$</td>\n      <td>${21.25}_{4.57}$</td>\n    </tr>\n    <tr>\n      <th>(10, Hallucination)</th>\n      <td>10</td>\n      <td>Hallucination</td>\n      <td>${76.25}_{4.76}$</td>\n      <td>${76.25}_{4.76}$</td>\n      <td>${67.5}_{5.24}$</td>\n      <td>${43.75}_{5.55}$</td>\n      <td>${50.0}_{5.59}$</td>\n      <td>${67.5}_{5.24}$</td>\n      <td>${50.0}_{5.59}$</td>\n      <td>${27.5}_{4.99}$</td>\n    </tr>\n    <tr>\n      <th>(10, Composite)</th>\n      <td>10</td>\n      <td>Composite</td>\n      <td>${67.5}_{5.24}$</td>\n      <td>${52.5}_{5.58}$</td>\n      <td>${1.25}_{1.24}$</td>\n      <td>${35.0}_{5.33}$</td>\n      <td>${0.0}_{0.0}$</td>\n      <td>${43.75}_{5.55}$</td>\n      <td>${None}_{None}$</td>\n      <td>${None}_{None}$</td>\n    </tr>\n    <tr>\n      <th>(10, AVG)</th>\n      <td>10</td>\n      <td>AVG</td>\n      <td>${67.88}_{1.11}$</td>\n      <td>${61.65}_{1.15}$</td>\n      <td>${49.52}_{1.18}$</td>\n      <td>${42.11}_{1.17}$</td>\n      <td>${47.45}_{1.18}$</td>\n      <td>${51.43}_{1.18}$</td>\n      <td>${56.14}_{1.2}$</td>\n      <td>${23.4}_{1.03}$</td>\n    </tr>\n    <tr>\n      <th>(19, Object Trk.)</th>\n      <td>19</td>\n      <td>Object Trk.</td>\n      <td>${68.94}_{2.01}$</td>\n      <td>${69.51}_{2.0}$</td>\n      <td>${56.06}_{2.16}$</td>\n      <td>${40.72}_{2.14}$</td>\n      <td>${47.54}_{2.17}$</td>\n      <td>${56.06}_{2.16}$</td>\n      <td>${66.29}_{2.06}$</td>\n      <td>${27.46}_{1.94}$</td>\n    </tr>\n    <tr>\n      <th>(19, Fluent Trk.)</th>\n      <td>19</td>\n      <td>Fluent Trk.</td>\n      <td>${70.04}_{2.02}$</td>\n      <td>${58.56}_{2.17}$</td>\n      <td>${39.88}_{2.16}$</td>\n      <td>${33.46}_{2.08}$</td>\n      <td>${36.38}_{2.12}$</td>\n      <td>${39.88}_{2.16}$</td>\n      <td>${60.12}_{2.16}$</td>\n      <td>${19.26}_{1.74}$</td>\n    </tr>\n    <tr>\n      <th>(19, State Trk.)</th>\n      <td>19</td>\n      <td>State Trk.</td>\n      <td>${93.18}_{3.8}$</td>\n      <td>${47.73}_{7.53}$</td>\n      <td>${47.73}_{7.53}$</td>\n      <td>${40.91}_{7.41}$</td>\n      <td>${47.73}_{7.53}$</td>\n      <td>${47.73}_{7.53}$</td>\n      <td>${52.27}_{7.53}$</td>\n      <td>${29.55}_{6.88}$</td>\n    </tr>\n    <tr>\n      <th>(19, Action Exec.)</th>\n      <td>19</td>\n      <td>Action Exec.</td>\n      <td>${52.5}_{5.58}$</td>\n      <td>${51.25}_{5.59}$</td>\n      <td>${50.0}_{5.59}$</td>\n      <td>${53.75}_{5.57}$</td>\n      <td>${50.0}_{5.59}$</td>\n      <td>${50.0}_{5.59}$</td>\n      <td>${42.5}_{5.53}$</td>\n      <td>${22.5}_{4.67}$</td>\n    </tr>\n    <tr>\n      <th>(19, Effects)</th>\n      <td>19</td>\n      <td>Effects</td>\n      <td>${56.78}_{2.78}$</td>\n      <td>${53.63}_{2.8}$</td>\n      <td>${51.74}_{2.81}$</td>\n      <td>${47.32}_{2.8}$</td>\n      <td>${50.16}_{2.81}$</td>\n      <td>${51.74}_{2.81}$</td>\n      <td>${51.42}_{2.81}$</td>\n      <td>${25.55}_{2.45}$</td>\n    </tr>\n    <tr>\n      <th>(19, Num. Reas.)</th>\n      <td>19</td>\n      <td>Num. Reas.</td>\n      <td>${52.5}_{5.58}$</td>\n      <td>${53.75}_{5.57}$</td>\n      <td>${51.25}_{5.59}$</td>\n      <td>${47.5}_{5.58}$</td>\n      <td>${50.0}_{5.59}$</td>\n      <td>${51.25}_{5.59}$</td>\n      <td>${53.75}_{5.57}$</td>\n      <td>${27.5}_{4.99}$</td>\n    </tr>\n    <tr>\n      <th>(19, Hallucination)</th>\n      <td>19</td>\n      <td>Hallucination</td>\n      <td>${87.5}_{3.7}$</td>\n      <td>${80.0}_{4.47}$</td>\n      <td>${73.75}_{4.92}$</td>\n      <td>${55.0}_{5.56}$</td>\n      <td>${50.0}_{5.59}$</td>\n      <td>${73.75}_{4.92}$</td>\n      <td>${47.5}_{5.58}$</td>\n      <td>${27.5}_{4.99}$</td>\n    </tr>\n    <tr>\n      <th>(19, Composite)</th>\n      <td>19</td>\n      <td>Composite</td>\n      <td>${68.75}_{5.18}$</td>\n      <td>${51.25}_{5.59}$</td>\n      <td>${1.25}_{1.24}$</td>\n      <td>${33.75}_{5.29}$</td>\n      <td>${2.5}_{1.75}$</td>\n      <td>${40.0}_{5.48}$</td>\n      <td>${None}_{None}$</td>\n      <td>${None}_{None}$</td>\n    </tr>\n    <tr>\n      <th>(19, AVG)</th>\n      <td>19</td>\n      <td>AVG</td>\n      <td>${66.98}_{1.13}$</td>\n      <td>${60.82}_{1.18}$</td>\n      <td>${48.0}_{1.2}$</td>\n      <td>${41.03}_{1.19}$</td>\n      <td>${42.95}_{1.19}$</td>\n      <td>${49.8}_{1.2}$</td>\n      <td>${58.43}_{1.22}$</td>\n      <td>${24.35}_{1.06}$</td>\n    </tr>\n  </tbody>\n</table>\n</div>"
     },
     "execution_count": 12,
     "metadata": {},
     "output_type": "execute_result"
    }
   ],
   "source": [
    "subs = WITHOUT_RANDOM_SUB\n",
    "rams = WITHOUT_RAMIFICATIONS\n",
    "prompt_type = 'few_shot_0'\n",
    "# for subs in [WITHOUT_RANDOM_SUB, WITH_RANDOM_SUB]:\n",
    "#     for rams in [WITHOUT_RAMIFICATIONS, WITH_RAMIFICATIONS]:\n",
    "df3 = to_df_by_len_by_category(stats_all, answer_type, prompt_type, model_names=model_names, subs=subs, ramifications=rams)\n",
    "df3\n",
    "        # # \n",
    "# caption_nl = f'performance of on the test set by categories, {subs}, {rams}'.replace('_', ' ')\n",
    "# save_key = f'by_plan_by_categories.{answer_type}.{prompt_type}.{subs}.{rams}'\n",
    "# \n",
    "# latex_table_all = latex_table_mods(to_latex_table(df3, caption_nl, label=save_key, index=False))\n",
    "# with open(os.path.join(save_dir, f'{save_key}.tex'), 'w') as f:\n",
    "#     f.write(latex_table_all)"
   ],
   "metadata": {
    "collapsed": false,
    "ExecuteTime": {
     "end_time": "2024-06-05T08:20:53.845167Z",
     "start_time": "2024-06-05T08:20:52.742751Z"
    }
   },
   "id": "626bbb8dc5ce893a",
   "execution_count": 12
  },
  {
   "cell_type": "markdown",
   "source": [
    "# By Category By Length"
   ],
   "metadata": {
    "collapsed": false
   },
   "id": "9267d96722ee7613"
  },
  {
   "cell_type": "code",
   "outputs": [],
   "source": [
    "df3"
   ],
   "metadata": {
    "collapsed": false
   },
   "id": "9ff6a8128a39bfce",
   "execution_count": null
  },
  {
   "cell_type": "markdown",
   "source": [
    "# By Few Shot"
   ],
   "metadata": {
    "collapsed": false
   },
   "id": "f8ff84d5e11af818"
  },
  {
   "cell_type": "code",
   "outputs": [],
   "source": [
    "model_names =  ['gpt-4o', 'gemini', 'llama2-13b-chat', 'llama-3-8b-instruct', 'llama2-7b-chat', 'gemma-7b']\n",
    "\n",
    "\n",
    "subs = WITHOUT_RANDOM_SUB\n",
    "rams = WITHOUT_RAMIFICATIONS\n",
    "# for subs in [WITHOUT_RANDOM_SUB, WITH_RANDOM_SUB]:\n",
    "#     for rams in [WITHOUT_RAMIFICATIONS, WITH_RAMIFICATIONS]:\n",
    "df4 = to_df_few_shot(stats_all, answer_type,  model_names=model_names, subs=subs, ramifications=rams)\n",
    "df4\n",
    "caption_nl = f'performance of on the test set by few shots, {subs}, {rams}'.replace('_', ' ')\n",
    "save_key = f'by_few_shot.{subs}.{rams}'\n",
    "\n",
    "latex_table_all = latex_table_mods(to_latex_table(df4, caption_nl, label=save_key, index=False))\n",
    "with open(os.path.join(save_dir, f'{save_key}.tex'), 'w') as f:\n",
    "    f.write(latex_table_all)"
   ],
   "metadata": {
    "collapsed": false
   },
   "id": "a4b65bba5fcdd5c0",
   "execution_count": null
  },
  {
   "cell_type": "code",
   "outputs": [],
   "source": [
    "df4"
   ],
   "metadata": {
    "collapsed": false
   },
   "id": "cf0ab3cad6f0bf55",
   "execution_count": null
  },
  {
   "cell_type": "markdown",
   "source": [
    "# By Few Shot by Category"
   ],
   "metadata": {
    "collapsed": false
   },
   "id": "d35fbc030595bffb"
  },
  {
   "cell_type": "code",
   "outputs": [],
   "source": [
    "model_names =  ['gemini', 'llama2-13b-chat', 'gemma-7b']\n",
    "\n",
    "\n",
    "subs = WITHOUT_RANDOM_SUB\n",
    "rams = WITHOUT_RAMIFICATIONS\n",
    "# for subs in [WITHOUT_RANDOM_SUB, WITH_RANDOM_SUB]:\n",
    "#     for rams in [WITHOUT_RAMIFICATIONS, WITH_RAMIFICATIONS]:\n",
    "df5 = to_df_few_shot_by_category(stats_all, answer_type,  model_names=model_names, subs=subs, ramifications=rams)\n",
    "# df5\n",
    "caption_nl = f'performance of on the test set by few shots, {subs}, {rams}'.replace('_', ' ')\n",
    "save_key = f'by_few_shot_by_category.{subs}.{rams}'\n",
    "\n",
    "latex_table_all = latex_table_mods(to_latex_table(df5, caption_nl, label=save_key, index=False))\n",
    "with open(os.path.join(save_dir, f'{save_key}.tex'), 'w') as f:\n",
    "    f.write(latex_table_all)"
   ],
   "metadata": {
    "collapsed": false
   },
   "id": "f84b90c4445ab17b",
   "execution_count": null
  },
  {
   "cell_type": "code",
   "outputs": [],
   "source": [
    "df5"
   ],
   "metadata": {
    "collapsed": false
   },
   "id": "e446ca53ab66a885",
   "execution_count": null
  },
  {
   "cell_type": "code",
   "outputs": [],
   "source": [],
   "metadata": {
    "collapsed": false
   },
   "id": "69fc534a6e77971d"
  }
 ],
 "metadata": {
  "kernelspec": {
   "display_name": "Python 3",
   "language": "python",
   "name": "python3"
  },
  "language_info": {
   "codemirror_mode": {
    "name": "ipython",
    "version": 2
   },
   "file_extension": ".py",
   "mimetype": "text/x-python",
   "name": "python",
   "nbconvert_exporter": "python",
   "pygments_lexer": "ipython2",
   "version": "2.7.6"
  }
 },
 "nbformat": 4,
 "nbformat_minor": 5
}
