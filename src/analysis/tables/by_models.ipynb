{
 "cells": [
  {
   "cell_type": "code",
   "outputs": [],
   "source": [
    "import sys\n",
    "import json\n",
    "sys.path.append('..')\n",
    "from src.common import *\n",
    "from src.analysis.model_performances import *\n",
    "from copy import deepcopy\n",
    "from helpers import *\n",
    "import pandas as pd\n",
    "\n",
    "CONF_KEY = 'wilson'\n",
    "\n",
    "def latex_table_mods(latex_table):\n",
    "    return latex_table.replace('{lllllllllllll}','{l|ll|ll|ll|ll||ll|ll}').replace('${None}_{None}$', '---')\n"
   ],
   "metadata": {
    "collapsed": false,
    "ExecuteTime": {
     "end_time": "2024-05-31T06:48:04.639414Z",
     "start_time": "2024-05-31T06:47:59.851056Z"
    }
   },
   "id": "1581e9208ff09f8e",
   "execution_count": 1
  },
  {
   "cell_type": "code",
   "outputs": [
    {
     "name": "stderr",
     "output_type": "stream",
     "text": [
      "100%|██████████| 27648/27648 [00:01<00:00, 26451.62it/s]"
     ]
    },
    {
     "name": "stdout",
     "output_type": "stream",
     "text": [
      "3767\n"
     ]
    },
    {
     "name": "stderr",
     "output_type": "stream",
     "text": [
      "\n"
     ]
    }
   ],
   "source": [
    "answer_type = TRUE_FALSE_ANSWER_TYPE #FREE_ANSWER#\n",
    "score_key = ACCURACY_SCORE_KEY #F1_SCORE_KEY#'accuracy'\n",
    "answer_type_ext = tf_answer_type(score_key = score_key)\n",
    "\n",
    "ids_file_name = 'dataset_ids.test.pruned'  # None\n",
    "save_main_dir = f'{STATISTICS_PATH}.{ids_file_name}'\n",
    "stats_all = collect_stats_all(tf_answer_type(score_key = score_key), save_main_dir=save_main_dir)\n",
    "print(len(stats_all))\n",
    "plan_lengths = [1,10,19]\n",
    "\n",
    "save_dir = os.path.join(save_main_dir, 'tables', 'by_models')\n",
    "os.makedirs(save_dir, exist_ok=True)\n",
    "\n",
    "# model_prompts_combos = [('small-models', SMALL_MODELS, PROMPT_TYPES), ('big-models', BIG_MODELS, ['few_shot_1', 'few_shot_5'])]\n",
    "model_prompts_combos = [('all-models', PROMPT_MODEL_NAMES, ['few_shot_1', 'few_shot_5'])]"
   ],
   "metadata": {
    "collapsed": false,
    "ExecuteTime": {
     "end_time": "2024-05-31T06:48:05.787594Z",
     "start_time": "2024-05-31T06:48:04.640967Z"
    }
   },
   "id": "8fb4feeb322b4ab0",
   "execution_count": 2
  },
  {
   "cell_type": "code",
   "outputs": [],
   "source": [
    "def to_df(results_all, plan_lengths, answer_type, models=PROMPT_MODEL_NAMES,\n",
    "          prompt_types = PROMPT_TYPES,\n",
    "          domain = ALL_DOMAINS_KEY, subs = WITHOUT_RANDOM_SUB):\n",
    "    \n",
    "    index = []\n",
    "    data = []    \n",
    "    for plan_length in plan_lengths:\n",
    "        for ramifications in RAMIFICATION_TYPES:\n",
    "            index.append((plan_length, TO_PRETTY.get(ramifications, ramifications)))\n",
    "            data_columns = {}\n",
    "            for model_name in models:\n",
    "                for prompt_type in prompt_types:\n",
    "                    res_obj = filter_single_selector(results_all, plan_length, ALL_QUESTION_CATEGORIES_KEY, ramifications, model_name, prompt_type, domain, answer_type, subs)\n",
    "                    # print(res_obj)\n",
    "                    if res_obj:\n",
    "                        mean = res_obj['result']\n",
    "                        sem = None\n",
    "                        if res_obj['result_other']:\n",
    "                            sem = res_obj['result_other'][CONF_KEY]\n",
    "                        not_corrupted = res_obj['stats']['num_not_corrupted']\n",
    "                        final_res = (mean, sem, not_corrupted)\n",
    "                    else:\n",
    "                        final_res = (None, None, None)\n",
    "                    final_res = tuple([round(v*100, 2) if v else v for v in final_res ])\n",
    "                    final_res = '${'+str(final_res[0])+'}_{'+str(final_res[1])+'}$'\n",
    "                    data_columns[(TO_PRETTY.get(model_name, model_name), TO_PRETTY.get(prompt_type, prompt_type))] = final_res\n",
    "            data.append(data_columns)\n",
    "    return pd.DataFrame(data, index = index)\n",
    "\n",
    "def to_df_by_category(results_all, answer_type,  \n",
    "                      model_names = PROMPT_MODEL_NAMES,\n",
    "                      prompt_types= PROMPT_TYPES,\n",
    "                      ramifications = WITHOUT_RAMIFICATIONS,\n",
    "                      domain = ALL_DOMAINS_KEY, \n",
    "                      subs = WITHOUT_RANDOM_SUB,\n",
    "                      plan_length=19):\n",
    "\n",
    "    index = []\n",
    "    data = []    \n",
    "    for question_category in QUESTION_CATEGORIES:\n",
    "        index.append(question_category)\n",
    "        data_columns = {}\n",
    "        for model_name in model_names:\n",
    "            for prompt_type in prompt_types:\n",
    "                res_obj = filter_single_selector(results_all, plan_length, question_category, ramifications, model_name, prompt_type, domain, answer_type, subs)\n",
    "                if res_obj:\n",
    "                    mean = res_obj['result']\n",
    "                    sem = None\n",
    "                    if res_obj['result_other']:\n",
    "                        sem = res_obj['result_other'][CONF_KEY]\n",
    "                    not_corrupted = res_obj['stats']['num_not_corrupted']\n",
    "                    final_res = (mean, sem, not_corrupted)\n",
    "                else:\n",
    "                    final_res = (None, None, None)\n",
    "                final_res = tuple([round(v*100, 2) if v else v for v in final_res ])\n",
    "                final_res = '${'+str(final_res[0])+'}_{'+str(final_res[1])+'}$'\n",
    "                data_columns[(TO_PRETTY.get(model_name,model_name), TO_PRETTY.get(prompt_type,prompt_type))] = final_res\n",
    "        data.append(data_columns)\n",
    "    return pd.DataFrame(data, index = index)\n",
    "\n",
    "def to_df_by_len_by_category(results_all, answer_type,  \n",
    "                      model_names = PROMPT_MODEL_NAMES,\n",
    "                      prompt_types= ['few_shot_1'],\n",
    "                      ramifications = WITHOUT_RAMIFICATIONS,\n",
    "                      domain = ALL_DOMAINS_KEY, \n",
    "                      subs = WITHOUT_RANDOM_SUB):\n",
    "\n",
    "    index = []\n",
    "    data = []    \n",
    "    for plan_length in PLAN_LENGTHS:\n",
    "        for question_category in QUESTION_CATEGORIES+[ALL_QUESTION_CATEGORIES_KEY]:\n",
    "            index.append((plan_length, TO_PRETTY.get(question_category,question_category)))\n",
    "            data_columns = {}\n",
    "            for model_name in model_names:\n",
    "                for prompt_type in prompt_types:\n",
    "                    res_obj = filter_single_selector(results_all, plan_length, question_category, ramifications, model_name, prompt_type, domain, answer_type, subs)\n",
    "                    if res_obj:\n",
    "                        mean = res_obj['result']\n",
    "                        sem = None\n",
    "                        if res_obj['result_other']:\n",
    "                            sem = res_obj['result_other'][CONF_KEY]\n",
    "                        not_corrupted = res_obj['stats']['num_not_corrupted']\n",
    "                        final_res = (mean, sem, not_corrupted)\n",
    "                    else:\n",
    "                        final_res = (None, None, None)\n",
    "                    final_res = tuple([round(v*100, 2) if v else v for v in final_res ])\n",
    "                    final_res = '${'+str(final_res[0])+'}_{'+str(final_res[1])+'}$'\n",
    "                    data_columns[(TO_PRETTY.get(model_name,model_name), TO_PRETTY.get(prompt_type,prompt_type))] = final_res\n",
    "            data.append(data_columns)\n",
    "    return pd.DataFrame(data, index = index)\n",
    "\n",
    "def df_to_latex_table(df):\n",
    "        latex_table = df.to_latex(index=True, formatters={\"name\": str.upper}, float_format=\"{:.2f}\".format)\n",
    "        return latex_table[latex_table.find('\\midrule'):].replace(\"bottomrule\", 'crap').replace(\"\\crap\", '').replace(\"\\end{tabular}\", '')\n",
    "\n",
    "def assemble_table(results_all, answer_type, domain, score_key=None):\n",
    "    latex_table_all = ''\n",
    "    with open('latex_table_template/top') as f:\n",
    "        latex_table_all += f.read() + '\\n'\n",
    "    latex_table_all += '\\n'.join([df_to_latex_table(to_df(results_all, answer_type, plan_length, domain)) for plan_length in PLAN_LENGTHS])\n",
    "    with open('latex_table_template/bottom') as f:\n",
    "        latex_table_all += f.read()\n",
    "    \n",
    "    caption = f'{answer_type}, {score_key} scores for {domain}'.replace('_', ' ')\n",
    "    latex_table_all = latex_table_all.replace('REPLACE_CAPTION_KEY', caption)\n",
    "    \n",
    "    return latex_table_all\n"
   ],
   "metadata": {
    "collapsed": false,
    "ExecuteTime": {
     "end_time": "2024-05-31T06:53:03.292509Z",
     "start_time": "2024-05-31T06:53:03.271011Z"
    }
   },
   "id": "dd77fda858739d0e",
   "execution_count": 10
  },
  {
   "cell_type": "code",
   "outputs": [
    {
     "name": "stdout",
     "output_type": "stream",
     "text": [
      "                 (G-2b, FS-1)      (G-2b, FS-5)      (G-7b, FS-1)  \\\n",
      "(1, W R)     ${46.25}_{2.38}$  ${36.78}_{2.64}$  ${51.55}_{2.39}$   \n",
      "(1, W/O R)   ${46.59}_{2.39}$  ${36.24}_{2.64}$   ${51.4}_{2.39}$   \n",
      "(10, W R)    ${44.76}_{2.37}$  ${34.72}_{2.59}$  ${51.03}_{2.38}$   \n",
      "(10, W/O R)  ${43.46}_{2.36}$  ${33.31}_{2.58}$  ${50.44}_{2.38}$   \n",
      "(19, W R)    ${44.97}_{2.41}$  ${29.97}_{2.66}$  ${49.12}_{2.42}$   \n",
      "(19, W/O R)  ${44.66}_{2.41}$  ${29.79}_{2.68}$  ${48.74}_{2.43}$   \n",
      "\n",
      "                 (G-7b, FS-5)      (L-7b, FS-1)      (L-7b, FS-5)  \\\n",
      "(1, W R)     ${54.31}_{2.75}$  ${47.73}_{2.41}$  ${53.47}_{3.44}$   \n",
      "(1, W/O R)   ${52.83}_{2.74}$  ${48.45}_{2.39}$  ${52.72}_{3.44}$   \n",
      "(10, W R)     ${59.68}_{2.7}$   ${48.7}_{2.41}$  ${55.38}_{3.85}$   \n",
      "(10, W/O R)  ${57.94}_{2.71}$  ${46.97}_{2.37}$  ${52.53}_{3.89}$   \n",
      "(19, W R)     ${56.26}_{2.9}$  ${47.03}_{2.46}$   ${52.8}_{5.05}$   \n",
      "(19, W/O R)    ${56.2}_{2.9}$   ${48.2}_{2.42}$  ${51.21}_{5.07}$   \n",
      "\n",
      "                (L-13b, FS-1)     (L-13b, FS-5)    (Gemini, FS-1)  \\\n",
      "(1, W R)     ${51.08}_{2.39}$  ${55.32}_{3.43}$  ${67.32}_{2.25}$   \n",
      "(1, W/O R)   ${50.59}_{2.39}$  ${56.31}_{3.42}$  ${67.08}_{2.25}$   \n",
      "(10, W R)    ${48.78}_{2.39}$  ${53.04}_{3.86}$   ${62.43}_{2.3}$   \n",
      "(10, W/O R)  ${50.26}_{2.38}$   ${50.79}_{3.9}$  ${63.14}_{2.29}$   \n",
      "(19, W R)    ${50.06}_{2.44}$   ${57.87}_{5.0}$  ${62.21}_{2.35}$   \n",
      "(19, W/O R)  ${50.88}_{2.42}$  ${56.57}_{5.03}$  ${60.99}_{2.36}$   \n",
      "\n",
      "               (Gemini, FS-5)    (gpt-4o, FS-1)     (gpt-4o, FS-5)  \n",
      "(1, W R)      ${69.4}_{2.36}$  ${77.55}_{1.99}$    ${None}_{None}$  \n",
      "(1, W/O R)   ${68.87}_{2.39}$  ${76.31}_{2.04}$  ${63.16}_{21.69}$  \n",
      "(10, W R)    ${64.92}_{2.42}$  ${72.66}_{2.12}$    ${None}_{None}$  \n",
      "(10, W/O R)  ${64.95}_{2.45}$  ${72.61}_{2.13}$  ${77.78}_{19.21}$  \n",
      "(19, W R)    ${63.11}_{2.48}$  ${69.45}_{2.23}$    ${None}_{None}$  \n",
      "(19, W/O R)   ${64.3}_{2.49}$  ${68.42}_{2.26}$   ${64.29}_{25.1}$  \n"
     ]
    },
    {
     "name": "stderr",
     "output_type": "stream",
     "text": [
      "/Users/paveldolin/dev/research/current/reasoning_about_actions/pipeline/src/analysis/tables/helpers.py:44: FutureWarning: In future versions `DataFrame.to_latex` is expected to utilise the base implementation of `Styler.to_latex` for formatting and rendering. The arguments signature may therefore change. It is recommended instead to use `DataFrame.style.to_latex` which also contains additional functionality.\n",
      "  latex_table = df.to_latex(index=True, formatters={\"name\": str.upper}, float_format=\"{:.2f}\".format)\n"
     ]
    },
    {
     "name": "stdout",
     "output_type": "stream",
     "text": [
      "                 (G-2b, FS-1)      (G-2b, FS-5)      (G-7b, FS-1)  \\\n",
      "(1, W R)     ${46.09}_{2.55}$  ${44.32}_{5.06}$  ${49.28}_{2.39}$   \n",
      "(1, W/O R)   ${46.03}_{2.53}$  ${40.69}_{4.97}$  ${48.63}_{2.39}$   \n",
      "(10, W R)    ${45.52}_{2.66}$   ${50.0}_{69.3}$  ${50.38}_{2.38}$   \n",
      "(10, W/O R)  ${44.22}_{2.63}$   ${100.0}_{0.0}$   ${49.7}_{2.38}$   \n",
      "(19, W R)    ${46.22}_{2.92}$   ${None}_{None}$  ${48.38}_{2.42}$   \n",
      "(19, W/O R)  ${43.94}_{2.88}$   ${None}_{None}$  ${49.26}_{2.43}$   \n",
      "\n",
      "                 (G-7b, FS-5)      (L-7b, FS-1)      (L-7b, FS-5)  \\\n",
      "(1, W R)     ${56.86}_{3.01}$  ${47.18}_{2.67}$  ${55.25}_{6.08}$   \n",
      "(1, W/O R)   ${55.22}_{3.07}$  ${47.63}_{2.64}$   ${53.5}_{6.27}$   \n",
      "(10, W R)     ${57.31}_{3.2}$  ${45.42}_{2.78}$   ${None}_{None}$   \n",
      "(10, W/O R)  ${56.73}_{3.25}$  ${45.54}_{2.77}$   ${None}_{None}$   \n",
      "(19, W R)     ${53.9}_{4.02}$   ${43.8}_{3.18}$   ${None}_{None}$   \n",
      "(19, W/O R)   ${53.9}_{4.11}$  ${43.69}_{3.22}$   ${None}_{None}$   \n",
      "\n",
      "                (L-13b, FS-1)     (L-13b, FS-5)    (Gemini, FS-1)  \\\n",
      "(1, W R)     ${52.67}_{2.67}$  ${59.92}_{5.99}$  ${62.41}_{2.31}$   \n",
      "(1, W/O R)   ${53.68}_{2.64}$  ${59.26}_{6.18}$  ${61.88}_{2.32}$   \n",
      "(10, W R)    ${50.77}_{2.79}$   ${None}_{None}$  ${59.67}_{2.33}$   \n",
      "(10, W/O R)  ${50.92}_{2.78}$   ${None}_{None}$  ${59.55}_{2.33}$   \n",
      "(19, W R)     ${51.82}_{3.2}$   ${None}_{None}$  ${58.92}_{2.38}$   \n",
      "(19, W/O R)  ${53.46}_{3.24}$   ${None}_{None}$  ${57.27}_{2.39}$   \n",
      "\n",
      "               (Gemini, FS-5)    (gpt-4o, FS-1)   (gpt-4o, FS-5)  \n",
      "(1, W R)     ${63.23}_{2.47}$  ${72.53}_{2.14}$  ${None}_{None}$  \n",
      "(1, W/O R)   ${63.23}_{2.47}$  ${71.38}_{2.16}$  ${None}_{None}$  \n",
      "(10, W R)    ${60.44}_{2.48}$  ${67.78}_{2.24}$  ${None}_{None}$  \n",
      "(10, W/O R)  ${60.44}_{2.48}$  ${66.61}_{2.24}$  ${None}_{None}$  \n",
      "(19, W R)    ${58.37}_{2.54}$  ${62.63}_{2.35}$  ${None}_{None}$  \n",
      "(19, W/O R)  ${58.37}_{2.54}$  ${61.72}_{2.35}$  ${None}_{None}$  \n"
     ]
    },
    {
     "name": "stderr",
     "output_type": "stream",
     "text": [
      "/Users/paveldolin/dev/research/current/reasoning_about_actions/pipeline/src/analysis/tables/helpers.py:44: FutureWarning: In future versions `DataFrame.to_latex` is expected to utilise the base implementation of `Styler.to_latex` for formatting and rendering. The arguments signature may therefore change. It is recommended instead to use `DataFrame.style.to_latex` which also contains additional functionality.\n",
      "  latex_table = df.to_latex(index=True, formatters={\"name\": str.upper}, float_format=\"{:.2f}\".format)\n"
     ]
    }
   ],
   "source": [
    "for subs in [WITHOUT_RANDOM_SUB, WITH_RANDOM_SUB]:\n",
    "    for model_save_name, model_names, prompt_types in model_prompts_combos:\n",
    "        df = to_df(stats_all, plan_lengths, answer_type, prompt_types=prompt_types, models=model_names, subs=subs)\n",
    "        print(df)\n",
    "        \n",
    "        caption_nl = f'performance of {model_save_name} on the test set, {subs}'.replace('_', ' ')\n",
    "        latex_table = latex_table_mods(to_latex_table(df, caption_nl, label=model_save_name))\n",
    "        save_key = f'all.{model_save_name}.{subs}'\n",
    "        with open(os.path.join(save_dir, f'{save_key}.tex'), 'w') as f:\n",
    "            f.write(latex_table)"
   ],
   "metadata": {
    "collapsed": false,
    "ExecuteTime": {
     "end_time": "2024-05-31T06:53:04.734130Z",
     "start_time": "2024-05-31T06:53:04.197942Z"
    }
   },
   "id": "5b5a15905194ac6a",
   "execution_count": 11
  },
  {
   "cell_type": "markdown",
   "source": [
    "# Plot By Category"
   ],
   "metadata": {
    "collapsed": false
   },
   "id": "5aad3ef5e3825084"
  },
  {
   "cell_type": "code",
   "outputs": [
    {
     "name": "stdout",
     "output_type": "stream",
     "text": [
      "                           (G-2b, FS-1)       (G-2b, FS-5)       (G-7b, FS-1)  \\\n",
      "object_tracking         ${40.57}_{4.2}$   ${28.61}_{4.54}$   ${47.16}_{4.26}$   \n",
      "fluent_tracking        ${43.11}_{4.31}$   ${20.99}_{4.31}$   ${50.88}_{4.33}$   \n",
      "state_tracking        ${47.73}_{14.76}$      ${0.0}_{0.0}$  ${59.09}_{14.53}$   \n",
      "action_executability  ${53.75}_{10.93}$    ${36.0}_{13.3}$  ${51.28}_{11.09}$   \n",
      "effects                ${49.36}_{5.53}$   ${37.44}_{6.41}$    ${46.3}_{5.54}$   \n",
      "numerical_reasoning   ${46.25}_{10.93}$    ${40.0}_{12.4}$  ${38.75}_{10.68}$   \n",
      "hallucination         ${50.63}_{11.02}$  ${59.18}_{13.76}$  ${56.96}_{10.92}$   \n",
      "\n",
      "                           (G-7b, FS-5)       (L-7b, FS-1)       (L-7b, FS-5)  \\\n",
      "object_tracking        ${52.23}_{5.02}$   ${48.48}_{4.26}$    ${50.0}_{8.34}$   \n",
      "fluent_tracking        ${53.64}_{5.28}$   ${42.02}_{4.27}$  ${45.65}_{10.18}$   \n",
      "state_tracking         ${57.89}_{22.2}$  ${54.55}_{14.71}$    ${None}_{None}$   \n",
      "action_executability   ${54.0}_{13.81}$  ${46.25}_{10.93}$  ${61.54}_{26.45}$   \n",
      "effects                ${63.93}_{6.36}$   ${53.31}_{5.49}$  ${57.47}_{10.39}$   \n",
      "numerical_reasoning   ${48.33}_{12.64}$  ${51.25}_{10.95}$  ${42.31}_{18.99}$   \n",
      "hallucination         ${81.63}_{10.84}$  ${61.25}_{10.68}$  ${64.71}_{22.72}$   \n",
      "\n",
      "                          (L-13b, FS-1)      (L-13b, FS-5)     (Gemini, FS-1)  \\\n",
      "object_tracking        ${55.49}_{4.24}$   ${60.14}_{8.17}$    ${67.42}_{4.0}$   \n",
      "fluent_tracking         ${45.33}_{4.3}$  ${55.43}_{10.16}$   ${58.75}_{4.26}$   \n",
      "state_tracking        ${47.73}_{14.76}$    ${None}_{None}$  ${59.09}_{14.53}$   \n",
      "action_executability   ${50.0}_{10.96}$  ${61.54}_{26.45}$   ${52.5}_{10.94}$   \n",
      "effects                  ${51.1}_{5.5}$   ${51.72}_{10.5}$   ${54.89}_{5.48}$   \n",
      "numerical_reasoning    ${50.0}_{10.96}$  ${46.15}_{19.16}$  ${48.75}_{10.95}$   \n",
      "hallucination         ${58.75}_{10.79}$  ${70.59}_{21.66}$   ${78.75}_{8.96}$   \n",
      "\n",
      "                         (Gemini, FS-5)     (gpt-4o, FS-1)     (gpt-4o, FS-5)  \n",
      "object_tracking         ${67.47}_{4.3}$   ${74.29}_{3.74}$  ${71.43}_{33.47}$  \n",
      "fluent_tracking        ${61.04}_{4.54}$   ${73.63}_{3.82}$  ${57.14}_{36.66}$  \n",
      "state_tracking         ${56.1}_{15.19}$  ${59.09}_{14.53}$    ${None}_{None}$  \n",
      "action_executability  ${51.52}_{12.06}$  ${55.13}_{11.04}$    ${None}_{None}$  \n",
      "effects                 ${64.87}_{5.6}$    ${53.97}_{5.5}$    ${None}_{None}$  \n",
      "numerical_reasoning    ${50.0}_{11.71}$  ${51.28}_{11.09}$    ${None}_{None}$  \n",
      "hallucination          ${94.12}_{5.59}$   ${88.61}_{7.01}$    ${None}_{None}$  \n"
     ]
    },
    {
     "name": "stderr",
     "output_type": "stream",
     "text": [
      "/Users/paveldolin/dev/research/current/reasoning_about_actions/pipeline/src/analysis/tables/helpers.py:44: FutureWarning: In future versions `DataFrame.to_latex` is expected to utilise the base implementation of `Styler.to_latex` for formatting and rendering. The arguments signature may therefore change. It is recommended instead to use `DataFrame.style.to_latex` which also contains additional functionality.\n",
      "  latex_table = df.to_latex(index=True, formatters={\"name\": str.upper}, float_format=\"{:.2f}\".format)\n"
     ]
    },
    {
     "name": "stdout",
     "output_type": "stream",
     "text": [
      "                           (G-2b, FS-1)     (G-2b, FS-5)       (G-7b, FS-1)  \\\n",
      "object_tracking        ${42.82}_{4.83}$  ${None}_{None}$   ${45.63}_{4.26}$   \n",
      "fluent_tracking        ${41.29}_{5.48}$  ${None}_{None}$   ${50.69}_{4.34}$   \n",
      "state_tracking          ${None}_{None}$  ${None}_{None}$  ${52.27}_{14.76}$   \n",
      "action_executability  ${38.71}_{12.12}$  ${None}_{None}$    ${50.0}_{11.1}$   \n",
      "effects                ${47.21}_{6.41}$  ${None}_{None}$   ${50.79}_{5.52}$   \n",
      "numerical_reasoning   ${47.83}_{11.79}$  ${None}_{None}$  ${46.25}_{10.93}$   \n",
      "hallucination         ${53.33}_{12.62}$  ${None}_{None}$  ${58.75}_{10.79}$   \n",
      "\n",
      "                           (G-7b, FS-5)       (L-7b, FS-1)     (L-7b, FS-5)  \\\n",
      "object_tracking        ${50.87}_{6.46}$   ${40.47}_{5.21}$  ${None}_{None}$   \n",
      "fluent_tracking         ${49.62}_{8.5}$    ${36.0}_{6.27}$  ${None}_{None}$   \n",
      "state_tracking          ${None}_{None}$    ${None}_{None}$  ${None}_{None}$   \n",
      "action_executability   ${61.9}_{20.77}$  ${43.75}_{14.03}$  ${None}_{None}$   \n",
      "effects                ${64.17}_{8.58}$   ${53.65}_{7.05}$  ${None}_{None}$   \n",
      "numerical_reasoning    ${41.67}_{16.1}$  ${54.24}_{12.71}$  ${None}_{None}$   \n",
      "hallucination         ${66.67}_{18.86}$   ${50.0}_{14.45}$  ${None}_{None}$   \n",
      "\n",
      "                          (L-13b, FS-1)    (L-13b, FS-5)     (Gemini, FS-1)  \\\n",
      "object_tracking         ${56.6}_{5.26}$  ${None}_{None}$   ${65.91}_{4.04}$   \n",
      "fluent_tracking        ${47.56}_{6.53}$  ${None}_{None}$   ${53.11}_{4.31}$   \n",
      "state_tracking          ${None}_{None}$  ${None}_{None}$  ${47.73}_{14.76}$   \n",
      "action_executability    ${62.5}_{13.7}$  ${None}_{None}$   ${52.5}_{10.94}$   \n",
      "effects                ${55.21}_{7.03}$  ${None}_{None}$    ${50.16}_{5.5}$   \n",
      "numerical_reasoning   ${45.76}_{12.71}$  ${None}_{None}$  ${51.25}_{10.95}$   \n",
      "hallucination         ${52.17}_{14.44}$  ${None}_{None}$   ${71.25}_{9.92}$   \n",
      "\n",
      "                         (Gemini, FS-5)     (gpt-4o, FS-1)   (gpt-4o, FS-5)  \n",
      "object_tracking        ${66.81}_{4.27}$    ${66.1}_{4.04}$  ${None}_{None}$  \n",
      "fluent_tracking        ${54.16}_{4.63}$   ${63.23}_{4.17}$  ${None}_{None}$  \n",
      "state_tracking        ${55.81}_{14.84}$  ${56.82}_{14.64}$  ${None}_{None}$  \n",
      "action_executability  ${52.94}_{11.86}$  ${56.25}_{10.87}$  ${None}_{None}$  \n",
      "effects                ${52.84}_{5.83}$    ${52.68}_{5.5}$  ${None}_{None}$  \n",
      "numerical_reasoning   ${51.39}_{11.54}$   ${47.5}_{10.94}$  ${None}_{None}$  \n",
      "hallucination         ${65.22}_{11.24}$   ${81.25}_{8.55}$  ${None}_{None}$  \n"
     ]
    },
    {
     "name": "stderr",
     "output_type": "stream",
     "text": [
      "/Users/paveldolin/dev/research/current/reasoning_about_actions/pipeline/src/analysis/tables/helpers.py:44: FutureWarning: In future versions `DataFrame.to_latex` is expected to utilise the base implementation of `Styler.to_latex` for formatting and rendering. The arguments signature may therefore change. It is recommended instead to use `DataFrame.style.to_latex` which also contains additional functionality.\n",
      "  latex_table = df.to_latex(index=True, formatters={\"name\": str.upper}, float_format=\"{:.2f}\".format)\n"
     ]
    }
   ],
   "source": [
    "plan_length = 19\n",
    "for subs in [WITHOUT_RANDOM_SUB, WITH_RANDOM_SUB]:\n",
    "    for model_save_name, model_names, prompt_types in model_prompts_combos:\n",
    "        df2 = to_df_by_category(stats_all, answer_type, model_names=model_names, prompt_types=prompt_types, subs=subs)\n",
    "        print(df2)\n",
    "        \n",
    "        caption_nl = f'performance of {model_save_name} on the test set by categories, {subs}, pl-{plan_length}'\n",
    "        save_key = f'by_categories.{model_save_name}.{subs}'\n",
    "        \n",
    "        latex_table_all = latex_table_mods(to_latex_table(df2, caption_nl, label=save_key))\n",
    "        with open(os.path.join(save_dir, f'{save_key}.tex'), 'w') as f:\n",
    "            f.write(latex_table_all)"
   ],
   "metadata": {
    "collapsed": false,
    "ExecuteTime": {
     "end_time": "2024-05-31T06:53:12.063217Z",
     "start_time": "2024-05-31T06:53:11.612592Z"
    }
   },
   "id": "da82c99c16ce0495",
   "execution_count": 12
  },
  {
   "cell_type": "markdown",
   "source": [
    "# By Category By Length"
   ],
   "metadata": {
    "collapsed": false
   },
   "id": "9267d96722ee7613"
  },
  {
   "cell_type": "code",
   "outputs": [
    {
     "name": "stderr",
     "output_type": "stream",
     "text": [
      "/Users/paveldolin/dev/research/current/reasoning_about_actions/pipeline/src/analysis/tables/helpers.py:44: FutureWarning: In future versions `DataFrame.to_latex` is expected to utilise the base implementation of `Styler.to_latex` for formatting and rendering. The arguments signature may therefore change. It is recommended instead to use `DataFrame.style.to_latex` which also contains additional functionality.\n",
      "  latex_table = df.to_latex(index=True, formatters={\"name\": str.upper}, float_format=\"{:.2f}\".format)\n"
     ]
    }
   ],
   "source": [
    "subs = WITHOUT_RANDOM_SUB\n",
    "rams = WITHOUT_RAMIFICATIONS\n",
    "# for subs in [WITHOUT_RANDOM_SUB, WITH_RANDOM_SUB]:\n",
    "#     for rams in [WITHOUT_RAMIFICATIONS, WITH_RAMIFICATIONS]:\n",
    "model_names = PROMPT_MODEL_NAMES[::-1] + [('g-7b','tuned'),('L-7b','tuned')]\n",
    "df3 = to_df_by_len_by_category(stats_all, answer_type, model_names=model_names, subs=subs, ramifications=rams)\n",
    "\n",
    "caption_nl = f'performance of on the test set by categories, {subs}, {rams}'\n",
    "save_key = f'by_plan_by_categories.{subs}.{rams}'\n",
    "\n",
    "latex_table_all = latex_table_mods(to_latex_table(df3, caption_nl, label=save_key))\n",
    "with open(os.path.join(save_dir, f'{save_key}.tex'), 'w') as f:\n",
    "    f.write(latex_table_all)"
   ],
   "metadata": {
    "collapsed": false,
    "ExecuteTime": {
     "end_time": "2024-05-31T06:53:13.764592Z",
     "start_time": "2024-05-31T06:53:13.253813Z"
    }
   },
   "id": "626bbb8dc5ce893a",
   "execution_count": 13
  },
  {
   "cell_type": "code",
   "outputs": [
    {
     "data": {
      "text/plain": "                     (gpt-4o, FS-1)     (Gemini, FS-1)      (L-13b, FS-1)  \\\n(1, Obj. Trk.)     ${79.62}_{3.45}$   ${69.33}_{3.94}$   ${55.15}_{4.26}$   \n(1, Fl. Trk.)      ${83.39}_{3.13}$    ${68.75}_{3.9}$   ${45.67}_{4.19}$   \n(1, St. Trk.)      ${70.91}_{12.0}$  ${65.45}_{12.57}$  ${52.73}_{13.19}$   \n(1, Act. Exec.)    ${79.75}_{8.86}$  ${70.89}_{10.02}$    ${55.0}_{10.9}$   \n(1, Eff.)          ${59.75}_{5.39}$   ${59.69}_{5.37}$   ${49.06}_{5.48}$   \n(1, Num. Reas.)   ${55.13}_{11.04}$   ${52.5}_{10.94}$  ${48.75}_{10.95}$   \n(1, Hall.)         ${93.67}_{5.37}$    ${82.5}_{8.33}$  ${56.25}_{10.87}$   \n(1, All)           ${76.31}_{2.04}$   ${67.08}_{2.25}$   ${50.59}_{2.39}$   \n(10, Obj. Trk.)    ${77.26}_{3.53}$   ${66.79}_{3.95}$   ${55.62}_{4.18}$   \n(10, Fl. Trk.)     ${81.78}_{3.26}$   ${62.36}_{4.08}$    ${46.49}_{4.2}$   \n(10, St. Trk.)    ${57.41}_{13.19}$  ${62.96}_{12.88}$  ${48.15}_{13.33}$   \n(10, Act. Exec.)  ${55.13}_{11.04}$  ${53.75}_{10.93}$   ${52.5}_{10.94}$   \n(10, Eff.)         ${56.96}_{5.46}$   ${61.56}_{5.33}$   ${48.12}_{5.47}$   \n(10, Num. Reas.)  ${57.69}_{10.96}$   ${47.5}_{10.94}$   ${47.5}_{10.94}$   \n(10, Hall.)        ${83.33}_{8.27}$    ${75.0}_{9.49}$   ${50.0}_{10.96}$   \n(10, All)          ${72.61}_{2.13}$   ${63.14}_{2.29}$   ${50.26}_{2.38}$   \n(19, Obj. Trk.)    ${74.29}_{3.74}$    ${67.42}_{4.0}$   ${55.49}_{4.24}$   \n(19, Fl. Trk.)     ${73.63}_{3.82}$   ${58.75}_{4.26}$    ${45.33}_{4.3}$   \n(19, St. Trk.)    ${59.09}_{14.53}$  ${59.09}_{14.53}$  ${47.73}_{14.76}$   \n(19, Act. Exec.)  ${55.13}_{11.04}$   ${52.5}_{10.94}$   ${50.0}_{10.96}$   \n(19, Eff.)          ${53.97}_{5.5}$   ${54.89}_{5.48}$     ${51.1}_{5.5}$   \n(19, Num. Reas.)  ${51.28}_{11.09}$  ${48.75}_{10.95}$   ${50.0}_{10.96}$   \n(19, Hall.)        ${88.61}_{7.01}$   ${78.75}_{8.96}$  ${58.75}_{10.79}$   \n(19, All)          ${68.42}_{2.26}$   ${60.99}_{2.36}$   ${50.88}_{2.42}$   \n\n                       (L-7b, FS-1)       (G-7b, FS-1)       (G-2b, FS-1)  \\\n(1, Obj. Trk.)     ${47.14}_{4.27}$   ${49.14}_{4.28}$   ${40.42}_{4.21}$   \n(1, Fl. Trk.)      ${42.91}_{4.16}$   ${55.51}_{4.18}$   ${47.78}_{4.21}$   \n(1, St. Trk.)     ${47.27}_{13.19}$  ${61.82}_{12.84}$  ${50.91}_{13.21}$   \n(1, Act. Exec.)   ${61.25}_{10.68}$   ${50.0}_{10.96}$  ${58.75}_{10.79}$   \n(1, Eff.)          ${54.37}_{5.46}$    ${46.52}_{5.5}$   ${48.57}_{5.52}$   \n(1, Num. Reas.)   ${48.75}_{10.95}$    ${45.0}_{10.9}$   ${50.0}_{10.96}$   \n(1, Hall.)        ${58.75}_{10.79}$  ${58.23}_{10.88}$   ${52.5}_{10.94}$   \n(1, All)           ${48.45}_{2.39}$    ${51.4}_{2.39}$   ${46.59}_{2.39}$   \n(10, Obj. Trk.)     ${47.88}_{4.2}$    ${50.09}_{4.2}$   ${40.96}_{4.14}$   \n(10, Fl. Trk.)     ${39.48}_{4.12}$   ${50.75}_{4.24}$   ${40.41}_{4.15}$   \n(10, St. Trk.)    ${48.15}_{13.33}$  ${62.96}_{12.88}$   ${50.0}_{13.34}$   \n(10, Act. Exec.)    ${55.0}_{10.9}$   ${60.0}_{10.74}$  ${51.28}_{11.09}$   \n(10, Eff.)         ${50.94}_{5.48}$   ${45.62}_{5.46}$   ${46.71}_{5.48}$   \n(10, Num. Reas.)  ${56.25}_{10.87}$  ${44.87}_{11.04}$  ${49.37}_{11.02}$   \n(10, Hall.)        ${57.5}_{10.83}$   ${57.5}_{10.83}$   ${50.0}_{10.96}$   \n(10, All)          ${46.97}_{2.37}$   ${50.44}_{2.38}$   ${43.46}_{2.36}$   \n(19, Obj. Trk.)    ${48.48}_{4.26}$   ${47.16}_{4.26}$    ${40.57}_{4.2}$   \n(19, Fl. Trk.)     ${42.02}_{4.27}$   ${50.88}_{4.33}$   ${43.11}_{4.31}$   \n(19, St. Trk.)    ${54.55}_{14.71}$  ${59.09}_{14.53}$  ${47.73}_{14.76}$   \n(19, Act. Exec.)  ${46.25}_{10.93}$  ${51.28}_{11.09}$  ${53.75}_{10.93}$   \n(19, Eff.)         ${53.31}_{5.49}$    ${46.3}_{5.54}$   ${49.36}_{5.53}$   \n(19, Num. Reas.)  ${51.25}_{10.95}$  ${38.75}_{10.68}$  ${46.25}_{10.93}$   \n(19, Hall.)       ${61.25}_{10.68}$  ${56.96}_{10.92}$  ${50.63}_{11.02}$   \n(19, All)           ${48.2}_{2.42}$   ${48.74}_{2.43}$   ${44.66}_{2.41}$   \n\n                 ((g-7b, tuned), FS-1) ((L-7b, tuned), FS-1)  \n(1, Obj. Trk.)         ${None}_{None}$       ${None}_{None}$  \n(1, Fl. Trk.)          ${None}_{None}$       ${None}_{None}$  \n(1, St. Trk.)          ${None}_{None}$       ${None}_{None}$  \n(1, Act. Exec.)        ${None}_{None}$       ${None}_{None}$  \n(1, Eff.)              ${None}_{None}$       ${None}_{None}$  \n(1, Num. Reas.)        ${None}_{None}$       ${None}_{None}$  \n(1, Hall.)             ${None}_{None}$       ${None}_{None}$  \n(1, All)               ${None}_{None}$       ${None}_{None}$  \n(10, Obj. Trk.)        ${None}_{None}$       ${None}_{None}$  \n(10, Fl. Trk.)         ${None}_{None}$       ${None}_{None}$  \n(10, St. Trk.)         ${None}_{None}$       ${None}_{None}$  \n(10, Act. Exec.)       ${None}_{None}$       ${None}_{None}$  \n(10, Eff.)             ${None}_{None}$       ${None}_{None}$  \n(10, Num. Reas.)       ${None}_{None}$       ${None}_{None}$  \n(10, Hall.)            ${None}_{None}$       ${None}_{None}$  \n(10, All)              ${None}_{None}$       ${None}_{None}$  \n(19, Obj. Trk.)        ${None}_{None}$       ${None}_{None}$  \n(19, Fl. Trk.)         ${None}_{None}$       ${None}_{None}$  \n(19, St. Trk.)         ${None}_{None}$       ${None}_{None}$  \n(19, Act. Exec.)       ${None}_{None}$       ${None}_{None}$  \n(19, Eff.)             ${None}_{None}$       ${None}_{None}$  \n(19, Num. Reas.)       ${None}_{None}$       ${None}_{None}$  \n(19, Hall.)            ${None}_{None}$       ${None}_{None}$  \n(19, All)              ${None}_{None}$       ${None}_{None}$  ",
      "text/html": "<div>\n<style scoped>\n    .dataframe tbody tr th:only-of-type {\n        vertical-align: middle;\n    }\n\n    .dataframe tbody tr th {\n        vertical-align: top;\n    }\n\n    .dataframe thead th {\n        text-align: right;\n    }\n</style>\n<table border=\"1\" class=\"dataframe\">\n  <thead>\n    <tr style=\"text-align: right;\">\n      <th></th>\n      <th>(gpt-4o, FS-1)</th>\n      <th>(Gemini, FS-1)</th>\n      <th>(L-13b, FS-1)</th>\n      <th>(L-7b, FS-1)</th>\n      <th>(G-7b, FS-1)</th>\n      <th>(G-2b, FS-1)</th>\n      <th>((g-7b, tuned), FS-1)</th>\n      <th>((L-7b, tuned), FS-1)</th>\n    </tr>\n  </thead>\n  <tbody>\n    <tr>\n      <th>(1, Obj. Trk.)</th>\n      <td>${79.62}_{3.45}$</td>\n      <td>${69.33}_{3.94}$</td>\n      <td>${55.15}_{4.26}$</td>\n      <td>${47.14}_{4.27}$</td>\n      <td>${49.14}_{4.28}$</td>\n      <td>${40.42}_{4.21}$</td>\n      <td>${None}_{None}$</td>\n      <td>${None}_{None}$</td>\n    </tr>\n    <tr>\n      <th>(1, Fl. Trk.)</th>\n      <td>${83.39}_{3.13}$</td>\n      <td>${68.75}_{3.9}$</td>\n      <td>${45.67}_{4.19}$</td>\n      <td>${42.91}_{4.16}$</td>\n      <td>${55.51}_{4.18}$</td>\n      <td>${47.78}_{4.21}$</td>\n      <td>${None}_{None}$</td>\n      <td>${None}_{None}$</td>\n    </tr>\n    <tr>\n      <th>(1, St. Trk.)</th>\n      <td>${70.91}_{12.0}$</td>\n      <td>${65.45}_{12.57}$</td>\n      <td>${52.73}_{13.19}$</td>\n      <td>${47.27}_{13.19}$</td>\n      <td>${61.82}_{12.84}$</td>\n      <td>${50.91}_{13.21}$</td>\n      <td>${None}_{None}$</td>\n      <td>${None}_{None}$</td>\n    </tr>\n    <tr>\n      <th>(1, Act. Exec.)</th>\n      <td>${79.75}_{8.86}$</td>\n      <td>${70.89}_{10.02}$</td>\n      <td>${55.0}_{10.9}$</td>\n      <td>${61.25}_{10.68}$</td>\n      <td>${50.0}_{10.96}$</td>\n      <td>${58.75}_{10.79}$</td>\n      <td>${None}_{None}$</td>\n      <td>${None}_{None}$</td>\n    </tr>\n    <tr>\n      <th>(1, Eff.)</th>\n      <td>${59.75}_{5.39}$</td>\n      <td>${59.69}_{5.37}$</td>\n      <td>${49.06}_{5.48}$</td>\n      <td>${54.37}_{5.46}$</td>\n      <td>${46.52}_{5.5}$</td>\n      <td>${48.57}_{5.52}$</td>\n      <td>${None}_{None}$</td>\n      <td>${None}_{None}$</td>\n    </tr>\n    <tr>\n      <th>(1, Num. Reas.)</th>\n      <td>${55.13}_{11.04}$</td>\n      <td>${52.5}_{10.94}$</td>\n      <td>${48.75}_{10.95}$</td>\n      <td>${48.75}_{10.95}$</td>\n      <td>${45.0}_{10.9}$</td>\n      <td>${50.0}_{10.96}$</td>\n      <td>${None}_{None}$</td>\n      <td>${None}_{None}$</td>\n    </tr>\n    <tr>\n      <th>(1, Hall.)</th>\n      <td>${93.67}_{5.37}$</td>\n      <td>${82.5}_{8.33}$</td>\n      <td>${56.25}_{10.87}$</td>\n      <td>${58.75}_{10.79}$</td>\n      <td>${58.23}_{10.88}$</td>\n      <td>${52.5}_{10.94}$</td>\n      <td>${None}_{None}$</td>\n      <td>${None}_{None}$</td>\n    </tr>\n    <tr>\n      <th>(1, All)</th>\n      <td>${76.31}_{2.04}$</td>\n      <td>${67.08}_{2.25}$</td>\n      <td>${50.59}_{2.39}$</td>\n      <td>${48.45}_{2.39}$</td>\n      <td>${51.4}_{2.39}$</td>\n      <td>${46.59}_{2.39}$</td>\n      <td>${None}_{None}$</td>\n      <td>${None}_{None}$</td>\n    </tr>\n    <tr>\n      <th>(10, Obj. Trk.)</th>\n      <td>${77.26}_{3.53}$</td>\n      <td>${66.79}_{3.95}$</td>\n      <td>${55.62}_{4.18}$</td>\n      <td>${47.88}_{4.2}$</td>\n      <td>${50.09}_{4.2}$</td>\n      <td>${40.96}_{4.14}$</td>\n      <td>${None}_{None}$</td>\n      <td>${None}_{None}$</td>\n    </tr>\n    <tr>\n      <th>(10, Fl. Trk.)</th>\n      <td>${81.78}_{3.26}$</td>\n      <td>${62.36}_{4.08}$</td>\n      <td>${46.49}_{4.2}$</td>\n      <td>${39.48}_{4.12}$</td>\n      <td>${50.75}_{4.24}$</td>\n      <td>${40.41}_{4.15}$</td>\n      <td>${None}_{None}$</td>\n      <td>${None}_{None}$</td>\n    </tr>\n    <tr>\n      <th>(10, St. Trk.)</th>\n      <td>${57.41}_{13.19}$</td>\n      <td>${62.96}_{12.88}$</td>\n      <td>${48.15}_{13.33}$</td>\n      <td>${48.15}_{13.33}$</td>\n      <td>${62.96}_{12.88}$</td>\n      <td>${50.0}_{13.34}$</td>\n      <td>${None}_{None}$</td>\n      <td>${None}_{None}$</td>\n    </tr>\n    <tr>\n      <th>(10, Act. Exec.)</th>\n      <td>${55.13}_{11.04}$</td>\n      <td>${53.75}_{10.93}$</td>\n      <td>${52.5}_{10.94}$</td>\n      <td>${55.0}_{10.9}$</td>\n      <td>${60.0}_{10.74}$</td>\n      <td>${51.28}_{11.09}$</td>\n      <td>${None}_{None}$</td>\n      <td>${None}_{None}$</td>\n    </tr>\n    <tr>\n      <th>(10, Eff.)</th>\n      <td>${56.96}_{5.46}$</td>\n      <td>${61.56}_{5.33}$</td>\n      <td>${48.12}_{5.47}$</td>\n      <td>${50.94}_{5.48}$</td>\n      <td>${45.62}_{5.46}$</td>\n      <td>${46.71}_{5.48}$</td>\n      <td>${None}_{None}$</td>\n      <td>${None}_{None}$</td>\n    </tr>\n    <tr>\n      <th>(10, Num. Reas.)</th>\n      <td>${57.69}_{10.96}$</td>\n      <td>${47.5}_{10.94}$</td>\n      <td>${47.5}_{10.94}$</td>\n      <td>${56.25}_{10.87}$</td>\n      <td>${44.87}_{11.04}$</td>\n      <td>${49.37}_{11.02}$</td>\n      <td>${None}_{None}$</td>\n      <td>${None}_{None}$</td>\n    </tr>\n    <tr>\n      <th>(10, Hall.)</th>\n      <td>${83.33}_{8.27}$</td>\n      <td>${75.0}_{9.49}$</td>\n      <td>${50.0}_{10.96}$</td>\n      <td>${57.5}_{10.83}$</td>\n      <td>${57.5}_{10.83}$</td>\n      <td>${50.0}_{10.96}$</td>\n      <td>${None}_{None}$</td>\n      <td>${None}_{None}$</td>\n    </tr>\n    <tr>\n      <th>(10, All)</th>\n      <td>${72.61}_{2.13}$</td>\n      <td>${63.14}_{2.29}$</td>\n      <td>${50.26}_{2.38}$</td>\n      <td>${46.97}_{2.37}$</td>\n      <td>${50.44}_{2.38}$</td>\n      <td>${43.46}_{2.36}$</td>\n      <td>${None}_{None}$</td>\n      <td>${None}_{None}$</td>\n    </tr>\n    <tr>\n      <th>(19, Obj. Trk.)</th>\n      <td>${74.29}_{3.74}$</td>\n      <td>${67.42}_{4.0}$</td>\n      <td>${55.49}_{4.24}$</td>\n      <td>${48.48}_{4.26}$</td>\n      <td>${47.16}_{4.26}$</td>\n      <td>${40.57}_{4.2}$</td>\n      <td>${None}_{None}$</td>\n      <td>${None}_{None}$</td>\n    </tr>\n    <tr>\n      <th>(19, Fl. Trk.)</th>\n      <td>${73.63}_{3.82}$</td>\n      <td>${58.75}_{4.26}$</td>\n      <td>${45.33}_{4.3}$</td>\n      <td>${42.02}_{4.27}$</td>\n      <td>${50.88}_{4.33}$</td>\n      <td>${43.11}_{4.31}$</td>\n      <td>${None}_{None}$</td>\n      <td>${None}_{None}$</td>\n    </tr>\n    <tr>\n      <th>(19, St. Trk.)</th>\n      <td>${59.09}_{14.53}$</td>\n      <td>${59.09}_{14.53}$</td>\n      <td>${47.73}_{14.76}$</td>\n      <td>${54.55}_{14.71}$</td>\n      <td>${59.09}_{14.53}$</td>\n      <td>${47.73}_{14.76}$</td>\n      <td>${None}_{None}$</td>\n      <td>${None}_{None}$</td>\n    </tr>\n    <tr>\n      <th>(19, Act. Exec.)</th>\n      <td>${55.13}_{11.04}$</td>\n      <td>${52.5}_{10.94}$</td>\n      <td>${50.0}_{10.96}$</td>\n      <td>${46.25}_{10.93}$</td>\n      <td>${51.28}_{11.09}$</td>\n      <td>${53.75}_{10.93}$</td>\n      <td>${None}_{None}$</td>\n      <td>${None}_{None}$</td>\n    </tr>\n    <tr>\n      <th>(19, Eff.)</th>\n      <td>${53.97}_{5.5}$</td>\n      <td>${54.89}_{5.48}$</td>\n      <td>${51.1}_{5.5}$</td>\n      <td>${53.31}_{5.49}$</td>\n      <td>${46.3}_{5.54}$</td>\n      <td>${49.36}_{5.53}$</td>\n      <td>${None}_{None}$</td>\n      <td>${None}_{None}$</td>\n    </tr>\n    <tr>\n      <th>(19, Num. Reas.)</th>\n      <td>${51.28}_{11.09}$</td>\n      <td>${48.75}_{10.95}$</td>\n      <td>${50.0}_{10.96}$</td>\n      <td>${51.25}_{10.95}$</td>\n      <td>${38.75}_{10.68}$</td>\n      <td>${46.25}_{10.93}$</td>\n      <td>${None}_{None}$</td>\n      <td>${None}_{None}$</td>\n    </tr>\n    <tr>\n      <th>(19, Hall.)</th>\n      <td>${88.61}_{7.01}$</td>\n      <td>${78.75}_{8.96}$</td>\n      <td>${58.75}_{10.79}$</td>\n      <td>${61.25}_{10.68}$</td>\n      <td>${56.96}_{10.92}$</td>\n      <td>${50.63}_{11.02}$</td>\n      <td>${None}_{None}$</td>\n      <td>${None}_{None}$</td>\n    </tr>\n    <tr>\n      <th>(19, All)</th>\n      <td>${68.42}_{2.26}$</td>\n      <td>${60.99}_{2.36}$</td>\n      <td>${50.88}_{2.42}$</td>\n      <td>${48.2}_{2.42}$</td>\n      <td>${48.74}_{2.43}$</td>\n      <td>${44.66}_{2.41}$</td>\n      <td>${None}_{None}$</td>\n      <td>${None}_{None}$</td>\n    </tr>\n  </tbody>\n</table>\n</div>"
     },
     "execution_count": 14,
     "metadata": {},
     "output_type": "execute_result"
    }
   ],
   "source": [
    "df3"
   ],
   "metadata": {
    "collapsed": false,
    "ExecuteTime": {
     "end_time": "2024-05-31T06:53:23.591344Z",
     "start_time": "2024-05-31T06:53:23.549690Z"
    }
   },
   "id": "9ff6a8128a39bfce",
   "execution_count": 14
  },
  {
   "cell_type": "code",
   "outputs": [],
   "source": [],
   "metadata": {
    "collapsed": false
   },
   "id": "336b64f4d37e6b88"
  }
 ],
 "metadata": {
  "kernelspec": {
   "display_name": "Python 3",
   "language": "python",
   "name": "python3"
  },
  "language_info": {
   "codemirror_mode": {
    "name": "ipython",
    "version": 2
   },
   "file_extension": ".py",
   "mimetype": "text/x-python",
   "name": "python",
   "nbconvert_exporter": "python",
   "pygments_lexer": "ipython2",
   "version": "2.7.6"
  }
 },
 "nbformat": 4,
 "nbformat_minor": 5
}
