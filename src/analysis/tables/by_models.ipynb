{
 "cells": [
  {
   "cell_type": "code",
   "outputs": [],
   "source": [
    "import sys\n",
    "import json\n",
    "sys.path.append('..')\n",
    "from src.common import *\n",
    "from src.analysis.model_performances import *\n",
    "from copy import deepcopy\n",
    "from helpers import *\n",
    "import pandas as pd\n",
    "\n",
    "CONF_KEY = 'sem'\n",
    "\n",
    "def latex_table_mods(latex_table):\n",
    "    return latex_table.replace('{lllllllllllll}','{l|ll|ll|ll|ll||ll|ll}').replace('${None}_{None}$', '---')\n",
    "\n",
    "model_names =  ['gpt-4o', 'gemini', 'llama2-13b-chat', 'llama-3-8b-instruct', 'llama2-7b-chat', 'gemma-7b'] + ['llama-3-8b-tuned','gemma-7b-tuned']"
   ],
   "metadata": {
    "collapsed": false,
    "ExecuteTime": {
     "end_time": "2024-06-05T00:50:10.718829Z",
     "start_time": "2024-06-05T00:50:05.653767Z"
    }
   },
   "id": "1581e9208ff09f8e",
   "execution_count": 1
  },
  {
   "cell_type": "code",
   "outputs": [
    {
     "name": "stderr",
     "output_type": "stream",
     "text": [
      "100%|██████████| 48384/48384 [00:02<00:00, 18259.39it/s]"
     ]
    },
    {
     "name": "stdout",
     "output_type": "stream",
     "text": [
      "4897\n"
     ]
    },
    {
     "name": "stderr",
     "output_type": "stream",
     "text": [
      "\n"
     ]
    }
   ],
   "source": [
    "answer_type = FREE_ANSWER_TYPE# f'{TRUE_FALSE_ANSWER_TYPE}.{score_key}'\n",
    "score_key = ACCURACY_SCORE_KEY #F1_SCORE_KEY#'accuracy'\n",
    "\n",
    "ids_file_name = 'dataset_ids.test.pruned'  # None\n",
    "save_main_dir = f'{STATISTICS_PATH}.{ids_file_name}'\n",
    "stats_all = collect_stats_all(answer_type, save_main_dir=save_main_dir)\n",
    "print(len(stats_all))\n",
    "plan_lengths = [1,10,19]\n",
    "\n",
    "save_dir = os.path.join(save_main_dir, 'tables', 'by_models')\n",
    "os.makedirs(save_dir, exist_ok=True)"
   ],
   "metadata": {
    "collapsed": false,
    "ExecuteTime": {
     "end_time": "2024-06-05T00:50:13.395568Z",
     "start_time": "2024-06-05T00:50:10.720863Z"
    }
   },
   "id": "8fb4feeb322b4ab0",
   "execution_count": 2
  },
  {
   "cell_type": "code",
   "outputs": [],
   "source": [
    "\n",
    "def to_df_by_len_by_category(results_all, answer_type, prompt_type,\n",
    "                      model_names = PROMPT_MODEL_NAMES,\n",
    "                      ramifications = WITHOUT_RAMIFICATIONS,\n",
    "                      domain = ALL_DOMAINS_KEY, \n",
    "                      subs = WITHOUT_RANDOM_SUB):\n",
    "\n",
    "    index = []\n",
    "    data = []    \n",
    "    for plan_length in PLAN_LENGTHS:\n",
    "        for question_category in QUESTION_CATEGORIES+[ALL_QUESTION_CATEGORIES_KEY]:\n",
    "            index.append((plan_length, TO_PRETTY.get(question_category,question_category)))\n",
    "            # index.append('{}')\n",
    "            data_columns = {}\n",
    "            data_columns['plan pength'] = plan_length\n",
    "            data_columns['question category'] = TO_PRETTY.get(question_category,question_category)\n",
    "            for model_name in model_names:\n",
    "                res_obj = filter_single_selector(results_all, plan_length, question_category, ramifications, model_name, prompt_type, domain, answer_type, subs)\n",
    "                if res_obj:\n",
    "                    mean = res_obj['result']\n",
    "                    sem = None\n",
    "                    if res_obj['result_other']:\n",
    "                        sem = res_obj['result_other'][CONF_KEY]\n",
    "                    not_corrupted = res_obj['stats']['num_not_corrupted']\n",
    "                    final_res = (mean, sem, not_corrupted)\n",
    "                else:\n",
    "                    final_res = (None, None, None)\n",
    "                final_res = tuple([round(v*100, 2) if v else v for v in final_res ])\n",
    "                final_res = '${'+str(final_res[0])+'}_{'+str(final_res[1])+'}$'\n",
    "                data_columns[(TO_PRETTY.get(model_name,model_name), TO_PRETTY.get(prompt_type,prompt_type))] = final_res\n",
    "            data.append(data_columns)\n",
    "    return pd.DataFrame(data, index = index)\n",
    "\n",
    "def to_df_few_shot(results_all, answer_type, \n",
    "                   plan_length=19,\n",
    "                      model_names = PROMPT_MODEL_NAMES,\n",
    "                      ramifications = WITHOUT_RAMIFICATIONS,\n",
    "                   question_category = ALL_QUESTION_CATEGORIES_KEY,\n",
    "                      domain = ALL_DOMAINS_KEY, \n",
    "                      subs = WITHOUT_RANDOM_SUB):\n",
    "\n",
    "    index = []\n",
    "    data = []    \n",
    "    for prompt_type in PROMPT_TYPES:\n",
    "        index.append(prompt_type)\n",
    "        data_columns = {}\n",
    "        data_columns['prompt'] = prompt_type\n",
    "        for model_name in model_names:\n",
    "            res_obj = filter_single_selector(results_all, plan_length, question_category, ramifications, model_name, prompt_type, domain, answer_type, subs)\n",
    "            if res_obj:\n",
    "                mean = res_obj['result']\n",
    "                sem = None\n",
    "                if res_obj['result_other']:\n",
    "                    sem = res_obj['result_other'][CONF_KEY]\n",
    "                not_corrupted = res_obj['stats']['num_not_corrupted']\n",
    "                final_res = (mean, sem, not_corrupted)\n",
    "            else:\n",
    "                final_res = (None, None, None)\n",
    "            final_res = tuple([round(v*100, 2) if v else v for v in final_res ])\n",
    "            final_res = '${'+str(final_res[0])+'}_{'+str(final_res[1])+'}$'\n",
    "            data_columns[TO_PRETTY.get(model_name,model_name)] = final_res\n",
    "        data.append(data_columns)\n",
    "    return pd.DataFrame(data, index = index)\n",
    "\n",
    "def to_df_few_shot_by_category(results_all, answer_type, \n",
    "                               plan_length=19, model_names = PROMPT_MODEL_NAMES,\n",
    "                      ramifications = WITHOUT_RAMIFICATIONS,\n",
    "                   question_category = ALL_QUESTION_CATEGORIES_KEY,\n",
    "                      domain = ALL_DOMAINS_KEY, \n",
    "                      subs = WITHOUT_RANDOM_SUB):\n",
    "\n",
    "    data = []    \n",
    "    for question_category in QUESTION_CATEGORIES+[ALL_QUESTION_CATEGORIES_KEY]:\n",
    "        if question_category == 'composite':\n",
    "            continue\n",
    "        data_columns = {}\n",
    "        data_columns['question category'] = TO_PRETTY.get(question_category,question_category)\n",
    "        for model_name in model_names:\n",
    "            for prompt_type in  ['few_shot_0', 'few_shot_1', 'few_shot_5']:\n",
    "                res_obj = filter_single_selector(results_all, plan_length, question_category, ramifications, model_name, prompt_type, domain, answer_type, subs)\n",
    "                if res_obj:\n",
    "                    mean = res_obj['result']\n",
    "                    sem = None\n",
    "                    if res_obj['result_other']:\n",
    "                        sem = res_obj['result_other'][CONF_KEY]\n",
    "                    not_corrupted = res_obj['stats']['num_not_corrupted']\n",
    "                    final_res = (mean, sem, not_corrupted)\n",
    "                else:\n",
    "                    final_res = (None, None, None)\n",
    "                final_res = tuple([round(v*100, 2) if v else v for v in final_res ])\n",
    "                final_res = '${'+str(final_res[0])+'}_{'+str(final_res[1])+'}$'\n",
    "                data_columns[(TO_PRETTY.get(model_name,model_name),prompt_type)] = final_res\n",
    "        data.append(data_columns)\n",
    "    return pd.DataFrame(data)"
   ],
   "metadata": {
    "collapsed": false,
    "ExecuteTime": {
     "end_time": "2024-06-05T00:50:13.413287Z",
     "start_time": "2024-06-05T00:50:13.397977Z"
    }
   },
   "id": "dd77fda858739d0e",
   "execution_count": 3
  },
  {
   "cell_type": "code",
   "outputs": [],
   "source": [
    "# def to_df(results_all, plan_lengths, answer_type, models=PROMPT_MODEL_NAMES,\n",
    "#           prompt_types = PROMPT_TYPES,\n",
    "#           domain = ALL_DOMAINS_KEY, subs = WITHOUT_RANDOM_SUB):\n",
    "#     \n",
    "#     index = []\n",
    "#     data = []    \n",
    "#     for plan_length in plan_lengths:\n",
    "#         for ramifications in RAMIFICATION_TYPES:\n",
    "#             index.append((plan_length, TO_PRETTY.get(ramifications, ramifications)))\n",
    "#             # data_columns = {}\n",
    "#             for model_name in models:\n",
    "#                 for prompt_type in prompt_types:\n",
    "#                     res_obj = filter_single_selector(results_all, plan_length, ALL_QUESTION_CATEGORIES_KEY, ramifications, model_name, prompt_type, domain, answer_type, subs)\n",
    "#                     # print(res_obj)\n",
    "#                     if res_obj:\n",
    "#                         mean = res_obj['result']\n",
    "#                         sem = None\n",
    "#                         if res_obj['result_other']:\n",
    "#                             sem = res_obj['result_other'][CONF_KEY]\n",
    "#                         not_corrupted = res_obj['stats']['num_not_corrupted']\n",
    "#                         final_res = (mean, sem, not_corrupted)\n",
    "#                     else:\n",
    "#                         final_res = (None, None, None)\n",
    "#                     final_res = tuple([round(v*100, 2) if v else v for v in final_res ])\n",
    "#                     final_res = '${'+str(final_res[0])+'}_{'+str(final_res[1])+'}$'\n",
    "#                     data_columns[(TO_PRETTY.get(model_name, model_name), TO_PRETTY.get(prompt_type, prompt_type))] = final_res\n",
    "#             data.append(data_columns)\n",
    "#     return pd.DataFrame(data, index = index)\n",
    "# \n",
    "# def to_df_by_category(results_all, answer_type,  \n",
    "#                       model_names = PROMPT_MODEL_NAMES,\n",
    "#                       prompt_types= PROMPT_TYPES,\n",
    "#                       ramifications = WITHOUT_RAMIFICATIONS,\n",
    "#                       domain = ALL_DOMAINS_KEY, \n",
    "#                       subs = WITHOUT_RANDOM_SUB,\n",
    "#                       plan_length=19):\n",
    "# \n",
    "#     index = []\n",
    "#     data = []    \n",
    "#     for question_category in QUESTION_CATEGORIES:\n",
    "#         index.append(question_category)\n",
    "#         data_columns = {}\n",
    "#         for model_name in model_names:\n",
    "#             for prompt_type in prompt_types:\n",
    "#                 res_obj = filter_single_selector(results_all, plan_length, question_category, ramifications, model_name, prompt_type, domain, answer_type, subs)\n",
    "#                 if res_obj:\n",
    "#                     mean = res_obj['result']\n",
    "#                     sem = None\n",
    "#                     if res_obj['result_other']:\n",
    "#                         sem = res_obj['result_other'][CONF_KEY]\n",
    "#                     not_corrupted = res_obj['stats']['num_not_corrupted']\n",
    "#                     final_res = (mean, sem, not_corrupted)\n",
    "#                 else:\n",
    "#                     final_res = (None, None, None)\n",
    "#                 final_res = tuple([round(v*100, 2) if v else v for v in final_res ])\n",
    "#                 final_res = '${'+str(final_res[0])+'}_{'+str(final_res[1])+'}$'\n",
    "#                 data_columns[(TO_PRETTY.get(model_name,model_name), TO_PRETTY.get(prompt_type,prompt_type))] = final_res\n",
    "#         data.append(data_columns)\n",
    "#     return pd.DataFrame(data, index = index)\n",
    "\n",
    "# models_for_plot =  ['gemini', 'gpt-4o'] + ['llama2-13b-chat', 'llama-3-8b-instruct','gemma-7b'] + ['llama-3-8b-tuned','gemma-7b-tuned']\n",
    "# # model_prompts_combos = [('small-models', SMALL_MODELS, PROMPT_TYPES), ('big-models', BIG_MODELS, ['few_shot_1', 'few_shot_5'])]\n",
    "# model_prompts_combos = [('all-models', PROMPT_MODEL_NAMES, ['few_shot_1', 'few_shot_5'])]\n",
    "# \n",
    "# for subs in [WITHOUT_RANDOM_SUB, WITH_RANDOM_SUB]:\n",
    "#     for model_save_name, model_names, prompt_types in model_prompts_combos:\n",
    "#         df = to_df(stats_all, plan_lengths, answer_type, prompt_types=prompt_types, models=model_names, subs=subs)\n",
    "#         print(df)\n",
    "#         \n",
    "#         caption_nl = f'performance of {model_save_name} on the test set, {subs}'.replace('_', ' ')\n",
    "#         latex_table = latex_table_mods(to_latex_table(df, caption_nl, label=model_save_name))\n",
    "#         save_key = f'all.{model_save_name}.{subs}'\n",
    "#         with open(os.path.join(save_dir, f'{save_key}.tex'), 'w') as f:\n",
    "#             f.write(latex_table)"
   ],
   "metadata": {
    "collapsed": false,
    "ExecuteTime": {
     "end_time": "2024-06-05T00:50:13.519349Z",
     "start_time": "2024-06-05T00:50:13.514520Z"
    }
   },
   "id": "5b5a15905194ac6a",
   "execution_count": 4
  },
  {
   "cell_type": "markdown",
   "source": [
    "# Plot By Category"
   ],
   "metadata": {
    "collapsed": false
   },
   "id": "5aad3ef5e3825084"
  },
  {
   "cell_type": "code",
   "outputs": [],
   "source": [
    "# plan_length = 19\n",
    "# for subs in [WITHOUT_RANDOM_SUB, WITH_RANDOM_SUB]:\n",
    "#     for model_save_name, model_names, prompt_types in model_prompts_combos:\n",
    "#         df2 = to_df_by_category(stats_all, answer_type, model_names=model_names, prompt_types=prompt_types, subs=subs)\n",
    "#         print(df2)\n",
    "#         \n",
    "#         caption_nl = f'performance of {model_save_name} on the test set by categories, {subs}, pl-{plan_length}'\n",
    "#         save_key = f'by_categories.{model_save_name}.{subs}'\n",
    "#         \n",
    "#         latex_table_all = latex_table_mods(to_latex_table(df2, caption_nl, label=save_key))\n",
    "#         with open(os.path.join(save_dir, f'{save_key}.tex'), 'w') as f:\n",
    "#             f.write(latex_table_all)"
   ],
   "metadata": {
    "collapsed": false,
    "ExecuteTime": {
     "end_time": "2024-06-05T00:50:14.310025Z",
     "start_time": "2024-06-05T00:50:14.305769Z"
    }
   },
   "id": "da82c99c16ce0495",
   "execution_count": 5
  },
  {
   "cell_type": "markdown",
   "source": [
    "# By Category By Length"
   ],
   "metadata": {
    "collapsed": false
   },
   "id": "9267d96722ee7613"
  },
  {
   "cell_type": "code",
   "outputs": [],
   "source": [
    "subs = WITHOUT_RANDOM_SUB\n",
    "rams = WITHOUT_RAMIFICATIONS\n",
    "prompt_type = 'few_shot_0'\n",
    "# for subs in [WITHOUT_RANDOM_SUB, WITH_RANDOM_SUB]:\n",
    "#     for rams in [WITHOUT_RAMIFICATIONS, WITH_RAMIFICATIONS]:\n",
    "df3 = to_df_by_len_by_category(stats_all, answer_type, prompt_type, model_names=model_names, subs=subs, ramifications=rams)\n",
    "# df3\n",
    "        # # \n",
    "# caption_nl = f'performance of on the test set by categories, {subs}, {rams}'.replace('_', ' ')\n",
    "# save_key = f'by_plan_by_categories.{answer_type}.{prompt_type}.{subs}.{rams}'\n",
    "# \n",
    "# latex_table_all = latex_table_mods(to_latex_table(df3, caption_nl, label=save_key, index=False))\n",
    "# with open(os.path.join(save_dir, f'{save_key}.tex'), 'w') as f:\n",
    "#     f.write(latex_table_all)"
   ],
   "metadata": {
    "collapsed": false,
    "ExecuteTime": {
     "end_time": "2024-06-05T00:50:33.354694Z",
     "start_time": "2024-06-05T00:50:32.296183Z"
    }
   },
   "id": "626bbb8dc5ce893a",
   "execution_count": 7
  },
  {
   "cell_type": "code",
   "outputs": [
    {
     "data": {
      "text/plain": "                     plan pength question category (gpt-4o, few_shot_0)  \\\n(1, Object Trk.)               1       Object Trk.      ${50.0}_{7.91}$   \n(1, Fluent Trk.)               1       Fluent Trk.     ${31.25}_{8.19}$   \n(1, State Trk.)                1        State Trk.     ${16.13}_{6.61}$   \n(1, Action Exec.)              1      Action Exec.      ${57.5}_{7.82}$   \n(1, Effects)                   1           Effects      ${6.06}_{4.15}$   \n(1, Num. Reas.)                1        Num. Reas.      ${25.0}_{6.85}$   \n(1, Hallucination)             1     Hallucination     ${57.78}_{7.36}$   \n(1, Composite)                 1         Composite      ${55.0}_{7.87}$   \n(1, AVG)                       1               AVG      ${39.2}_{2.81}$   \n(10, Object Trk.)             10       Object Trk.      ${55.0}_{7.87}$   \n(10, Fluent Trk.)             10       Fluent Trk.     ${17.65}_{5.34}$   \n(10, State Trk.)              10        State Trk.      ${7.14}_{4.87}$   \n(10, Action Exec.)            10      Action Exec.       ${47.5}_{7.9}$   \n(10, Effects)                 10           Effects      ${3.12}_{3.08}$   \n(10, Num. Reas.)              10        Num. Reas.       ${22.5}_{6.6}$   \n(10, Hallucination)           10     Hallucination     ${63.16}_{7.83}$   \n(10, Composite)               10         Composite      ${65.0}_{7.54}$   \n(10, AVG)                     10               AVG     ${36.25}_{2.73}$   \n(19, Object Trk.)             19       Object Trk.      ${55.0}_{7.87}$   \n(19, Fluent Trk.)             19       Fluent Trk.      ${8.51}_{4.07}$   \n(19, State Trk.)              19        State Trk.     ${19.05}_{8.57}$   \n(19, Action Exec.)            19      Action Exec.     ${51.35}_{8.22}$   \n(19, Effects)                 19           Effects       ${8.7}_{5.88}$   \n(19, Num. Reas.)              19        Num. Reas.      ${12.5}_{5.23}$   \n(19, Hallucination)           19     Hallucination     ${48.94}_{7.29}$   \n(19, Composite)               19         Composite      ${60.0}_{7.75}$   \n(19, AVG)                     19               AVG     ${34.92}_{2.78}$   \n\n                    (Gemini, few_shot_0) (L-13b, few_shot_0)  \\\n(1, Object Trk.)         ${32.5}_{7.41}$       ${0.0}_{0.0}$   \n(1, Fluent Trk.)           ${0.0}_{0.0}$     ${3.12}_{3.08}$   \n(1, State Trk.)         ${21.62}_{6.77}$       ${0.0}_{0.0}$   \n(1, Action Exec.)       ${38.46}_{7.79}$       ${0.0}_{0.0}$   \n(1, Effects)            ${13.16}_{5.48}$       ${0.0}_{0.0}$   \n(1, Num. Reas.)          ${17.5}_{6.01}$       ${0.0}_{0.0}$   \n(1, Hallucination)      ${26.67}_{6.59}$     ${4.44}_{3.07}$   \n(1, Composite)          ${17.95}_{6.15}$       ${0.0}_{0.0}$   \n(1, AVG)                ${21.61}_{2.34}$     ${0.95}_{0.55}$   \n(10, Object Trk.)         ${47.5}_{7.9}$      ${2.5}_{2.47}$   \n(10, Fluent Trk.)         ${9.8}_{4.16}$     ${1.96}_{1.94}$   \n(10, State Trk.)         ${19.35}_{7.1}$       ${0.0}_{0.0}$   \n(10, Action Exec.)       ${42.42}_{8.6}$       ${0.0}_{0.0}$   \n(10, Effects)            ${7.14}_{4.87}$       ${0.0}_{0.0}$   \n(10, Num. Reas.)         ${17.5}_{6.01}$      ${5.0}_{3.45}$   \n(10, Hallucination)      ${23.68}_{6.9}$       ${0.0}_{0.0}$   \n(10, Composite)         ${22.22}_{6.93}$       ${0.0}_{0.0}$   \n(10, AVG)               ${23.57}_{2.46}$     ${1.25}_{0.62}$   \n(19, Object Trk.)        ${40.0}_{7.75}$       ${0.0}_{0.0}$   \n(19, Fluent Trk.)         ${2.13}_{2.1}$       ${0.0}_{0.0}$   \n(19, State Trk.)       ${27.78}_{10.56}$       ${0.0}_{0.0}$   \n(19, Action Exec.)       ${48.48}_{8.7}$       ${0.0}_{0.0}$   \n(19, Effects)             ${8.7}_{5.88}$       ${0.0}_{0.0}$   \n(19, Num. Reas.)          ${7.5}_{4.16}$      ${2.5}_{2.47}$   \n(19, Hallucination)     ${27.66}_{6.52}$      ${2.13}_{2.1}$   \n(19, Composite)          ${19.44}_{6.6}$      ${2.5}_{2.47}$   \n(19, AVG)               ${22.18}_{2.47}$     ${0.96}_{0.55}$   \n\n                    (llama-3-8b-instruct, few_shot_0) (L-7b, few_shot_0)  \\\n(1, Object Trk.)                      ${27.5}_{7.06}$    ${17.5}_{6.01}$   \n(1, Fluent Trk.)                      ${3.12}_{3.08}$      ${0.0}_{0.0}$   \n(1, State Trk.)                       ${2.56}_{2.53}$      ${0.0}_{0.0}$   \n(1, Action Exec.)                      ${22.5}_{6.6}$    ${17.5}_{6.01}$   \n(1, Effects)                           ${5.0}_{3.45}$      ${0.0}_{0.0}$   \n(1, Num. Reas.)                        ${7.5}_{4.16}$      ${0.0}_{0.0}$   \n(1, Hallucination)                    ${8.89}_{4.24}$   ${28.89}_{6.76}$   \n(1, Composite)                        ${37.5}_{7.65}$     ${7.5}_{4.16}$   \n(1, AVG)                              ${11.23}_{1.9}$    ${9.49}_{1.65}$   \n(10, Object Trk.)                     ${40.0}_{7.75}$    ${17.5}_{6.01}$   \n(10, Fluent Trk.)                      ${9.8}_{4.16}$    ${3.92}_{2.72}$   \n(10, State Trk.)                        ${0.0}_{0.0}$     ${2.94}_{2.9}$   \n(10, Action Exec.)                    ${37.5}_{7.65}$    ${17.5}_{6.01}$   \n(10, Effects)                          ${2.63}_{2.6}$      ${0.0}_{0.0}$   \n(10, Num. Reas.)                      ${10.0}_{4.74}$     ${2.5}_{2.47}$   \n(10, Hallucination)                  ${13.16}_{5.48}$   ${28.95}_{7.36}$   \n(10, Composite)                       ${15.0}_{5.65}$    ${12.5}_{5.23}$   \n(10, AVG)                            ${16.37}_{2.21}$   ${10.59}_{1.72}$   \n(19, Object Trk.)                     ${45.0}_{7.87}$    ${17.5}_{6.01}$   \n(19, Fluent Trk.)                      ${2.13}_{2.1}$   ${12.77}_{4.87}$   \n(19, State Trk.)                      ${7.14}_{4.87}$    ${3.57}_{3.51}$   \n(19, Action Exec.)                   ${38.46}_{7.79}$   ${15.38}_{5.78}$   \n(19, Effects)                         ${6.67}_{4.55}$    ${3.33}_{3.28}$   \n(19, Num. Reas.)                       ${7.5}_{4.16}$     ${2.5}_{2.47}$   \n(19, Hallucination)                  ${17.02}_{5.48}$   ${19.15}_{5.74}$   \n(19, Composite)                       ${20.0}_{6.32}$    ${17.5}_{6.01}$   \n(19, AVG)                            ${18.08}_{2.34}$   ${12.22}_{1.86}$   \n\n                    (G-7b, few_shot_0) (llama-3-8b-tuned, few_shot_0)  \\\n(1, Object Trk.)         ${0.0}_{0.0}$                ${None}_{None}$   \n(1, Fluent Trk.)       ${3.12}_{3.08}$                ${None}_{None}$   \n(1, State Trk.)          ${0.0}_{0.0}$                ${None}_{None}$   \n(1, Action Exec.)        ${0.0}_{0.0}$                ${None}_{None}$   \n(1, Effects)             ${0.0}_{0.0}$                ${None}_{None}$   \n(1, Num. Reas.)          ${0.0}_{0.0}$                ${None}_{None}$   \n(1, Hallucination)     ${4.44}_{3.07}$                ${None}_{None}$   \n(1, Composite)          ${22.5}_{6.6}$                ${None}_{None}$   \n(1, AVG)                ${3.8}_{1.08}$                ${None}_{None}$   \n(10, Object Trk.)       ${2.5}_{2.47}$                ${None}_{None}$   \n(10, Fluent Trk.)      ${1.96}_{1.94}$                ${None}_{None}$   \n(10, State Trk.)         ${0.0}_{0.0}$                ${None}_{None}$   \n(10, Action Exec.)       ${0.0}_{0.0}$                ${None}_{None}$   \n(10, Effects)            ${0.0}_{0.0}$                ${None}_{None}$   \n(10, Num. Reas.)        ${5.0}_{3.45}$                ${None}_{None}$   \n(10, Hallucination)      ${0.0}_{0.0}$                ${None}_{None}$   \n(10, Composite)        ${12.5}_{5.23}$                ${None}_{None}$   \n(10, AVG)               ${2.8}_{0.92}$                ${None}_{None}$   \n(19, Object Trk.)        ${0.0}_{0.0}$                ${None}_{None}$   \n(19, Fluent Trk.)        ${0.0}_{0.0}$                ${None}_{None}$   \n(19, State Trk.)         ${0.0}_{0.0}$                ${None}_{None}$   \n(19, Action Exec.)       ${0.0}_{0.0}$                ${None}_{None}$   \n(19, Effects)            ${0.0}_{0.0}$                ${None}_{None}$   \n(19, Num. Reas.)        ${2.5}_{2.47}$                ${None}_{None}$   \n(19, Hallucination)     ${2.13}_{2.1}$                ${None}_{None}$   \n(19, Composite)        ${15.0}_{5.65}$                ${None}_{None}$   \n(19, AVG)               ${2.57}_{0.9}$                ${None}_{None}$   \n\n                    (gemma-7b-tuned, few_shot_0)  \n(1, Object Trk.)                 ${None}_{None}$  \n(1, Fluent Trk.)                 ${None}_{None}$  \n(1, State Trk.)                  ${None}_{None}$  \n(1, Action Exec.)                ${None}_{None}$  \n(1, Effects)                     ${None}_{None}$  \n(1, Num. Reas.)                  ${None}_{None}$  \n(1, Hallucination)               ${None}_{None}$  \n(1, Composite)                   ${None}_{None}$  \n(1, AVG)                         ${None}_{None}$  \n(10, Object Trk.)                ${None}_{None}$  \n(10, Fluent Trk.)                ${None}_{None}$  \n(10, State Trk.)                 ${None}_{None}$  \n(10, Action Exec.)               ${None}_{None}$  \n(10, Effects)                    ${None}_{None}$  \n(10, Num. Reas.)                 ${None}_{None}$  \n(10, Hallucination)              ${None}_{None}$  \n(10, Composite)                  ${None}_{None}$  \n(10, AVG)                        ${None}_{None}$  \n(19, Object Trk.)                ${None}_{None}$  \n(19, Fluent Trk.)                ${None}_{None}$  \n(19, State Trk.)                 ${None}_{None}$  \n(19, Action Exec.)               ${None}_{None}$  \n(19, Effects)                    ${None}_{None}$  \n(19, Num. Reas.)                 ${None}_{None}$  \n(19, Hallucination)              ${None}_{None}$  \n(19, Composite)                  ${None}_{None}$  \n(19, AVG)                        ${None}_{None}$  ",
      "text/html": "<div>\n<style scoped>\n    .dataframe tbody tr th:only-of-type {\n        vertical-align: middle;\n    }\n\n    .dataframe tbody tr th {\n        vertical-align: top;\n    }\n\n    .dataframe thead th {\n        text-align: right;\n    }\n</style>\n<table border=\"1\" class=\"dataframe\">\n  <thead>\n    <tr style=\"text-align: right;\">\n      <th></th>\n      <th>plan pength</th>\n      <th>question category</th>\n      <th>(gpt-4o, few_shot_0)</th>\n      <th>(Gemini, few_shot_0)</th>\n      <th>(L-13b, few_shot_0)</th>\n      <th>(llama-3-8b-instruct, few_shot_0)</th>\n      <th>(L-7b, few_shot_0)</th>\n      <th>(G-7b, few_shot_0)</th>\n      <th>(llama-3-8b-tuned, few_shot_0)</th>\n      <th>(gemma-7b-tuned, few_shot_0)</th>\n    </tr>\n  </thead>\n  <tbody>\n    <tr>\n      <th>(1, Object Trk.)</th>\n      <td>1</td>\n      <td>Object Trk.</td>\n      <td>${50.0}_{7.91}$</td>\n      <td>${32.5}_{7.41}$</td>\n      <td>${0.0}_{0.0}$</td>\n      <td>${27.5}_{7.06}$</td>\n      <td>${17.5}_{6.01}$</td>\n      <td>${0.0}_{0.0}$</td>\n      <td>${None}_{None}$</td>\n      <td>${None}_{None}$</td>\n    </tr>\n    <tr>\n      <th>(1, Fluent Trk.)</th>\n      <td>1</td>\n      <td>Fluent Trk.</td>\n      <td>${31.25}_{8.19}$</td>\n      <td>${0.0}_{0.0}$</td>\n      <td>${3.12}_{3.08}$</td>\n      <td>${3.12}_{3.08}$</td>\n      <td>${0.0}_{0.0}$</td>\n      <td>${3.12}_{3.08}$</td>\n      <td>${None}_{None}$</td>\n      <td>${None}_{None}$</td>\n    </tr>\n    <tr>\n      <th>(1, State Trk.)</th>\n      <td>1</td>\n      <td>State Trk.</td>\n      <td>${16.13}_{6.61}$</td>\n      <td>${21.62}_{6.77}$</td>\n      <td>${0.0}_{0.0}$</td>\n      <td>${2.56}_{2.53}$</td>\n      <td>${0.0}_{0.0}$</td>\n      <td>${0.0}_{0.0}$</td>\n      <td>${None}_{None}$</td>\n      <td>${None}_{None}$</td>\n    </tr>\n    <tr>\n      <th>(1, Action Exec.)</th>\n      <td>1</td>\n      <td>Action Exec.</td>\n      <td>${57.5}_{7.82}$</td>\n      <td>${38.46}_{7.79}$</td>\n      <td>${0.0}_{0.0}$</td>\n      <td>${22.5}_{6.6}$</td>\n      <td>${17.5}_{6.01}$</td>\n      <td>${0.0}_{0.0}$</td>\n      <td>${None}_{None}$</td>\n      <td>${None}_{None}$</td>\n    </tr>\n    <tr>\n      <th>(1, Effects)</th>\n      <td>1</td>\n      <td>Effects</td>\n      <td>${6.06}_{4.15}$</td>\n      <td>${13.16}_{5.48}$</td>\n      <td>${0.0}_{0.0}$</td>\n      <td>${5.0}_{3.45}$</td>\n      <td>${0.0}_{0.0}$</td>\n      <td>${0.0}_{0.0}$</td>\n      <td>${None}_{None}$</td>\n      <td>${None}_{None}$</td>\n    </tr>\n    <tr>\n      <th>(1, Num. Reas.)</th>\n      <td>1</td>\n      <td>Num. Reas.</td>\n      <td>${25.0}_{6.85}$</td>\n      <td>${17.5}_{6.01}$</td>\n      <td>${0.0}_{0.0}$</td>\n      <td>${7.5}_{4.16}$</td>\n      <td>${0.0}_{0.0}$</td>\n      <td>${0.0}_{0.0}$</td>\n      <td>${None}_{None}$</td>\n      <td>${None}_{None}$</td>\n    </tr>\n    <tr>\n      <th>(1, Hallucination)</th>\n      <td>1</td>\n      <td>Hallucination</td>\n      <td>${57.78}_{7.36}$</td>\n      <td>${26.67}_{6.59}$</td>\n      <td>${4.44}_{3.07}$</td>\n      <td>${8.89}_{4.24}$</td>\n      <td>${28.89}_{6.76}$</td>\n      <td>${4.44}_{3.07}$</td>\n      <td>${None}_{None}$</td>\n      <td>${None}_{None}$</td>\n    </tr>\n    <tr>\n      <th>(1, Composite)</th>\n      <td>1</td>\n      <td>Composite</td>\n      <td>${55.0}_{7.87}$</td>\n      <td>${17.95}_{6.15}$</td>\n      <td>${0.0}_{0.0}$</td>\n      <td>${37.5}_{7.65}$</td>\n      <td>${7.5}_{4.16}$</td>\n      <td>${22.5}_{6.6}$</td>\n      <td>${None}_{None}$</td>\n      <td>${None}_{None}$</td>\n    </tr>\n    <tr>\n      <th>(1, AVG)</th>\n      <td>1</td>\n      <td>AVG</td>\n      <td>${39.2}_{2.81}$</td>\n      <td>${21.61}_{2.34}$</td>\n      <td>${0.95}_{0.55}$</td>\n      <td>${11.23}_{1.9}$</td>\n      <td>${9.49}_{1.65}$</td>\n      <td>${3.8}_{1.08}$</td>\n      <td>${None}_{None}$</td>\n      <td>${None}_{None}$</td>\n    </tr>\n    <tr>\n      <th>(10, Object Trk.)</th>\n      <td>10</td>\n      <td>Object Trk.</td>\n      <td>${55.0}_{7.87}$</td>\n      <td>${47.5}_{7.9}$</td>\n      <td>${2.5}_{2.47}$</td>\n      <td>${40.0}_{7.75}$</td>\n      <td>${17.5}_{6.01}$</td>\n      <td>${2.5}_{2.47}$</td>\n      <td>${None}_{None}$</td>\n      <td>${None}_{None}$</td>\n    </tr>\n    <tr>\n      <th>(10, Fluent Trk.)</th>\n      <td>10</td>\n      <td>Fluent Trk.</td>\n      <td>${17.65}_{5.34}$</td>\n      <td>${9.8}_{4.16}$</td>\n      <td>${1.96}_{1.94}$</td>\n      <td>${9.8}_{4.16}$</td>\n      <td>${3.92}_{2.72}$</td>\n      <td>${1.96}_{1.94}$</td>\n      <td>${None}_{None}$</td>\n      <td>${None}_{None}$</td>\n    </tr>\n    <tr>\n      <th>(10, State Trk.)</th>\n      <td>10</td>\n      <td>State Trk.</td>\n      <td>${7.14}_{4.87}$</td>\n      <td>${19.35}_{7.1}$</td>\n      <td>${0.0}_{0.0}$</td>\n      <td>${0.0}_{0.0}$</td>\n      <td>${2.94}_{2.9}$</td>\n      <td>${0.0}_{0.0}$</td>\n      <td>${None}_{None}$</td>\n      <td>${None}_{None}$</td>\n    </tr>\n    <tr>\n      <th>(10, Action Exec.)</th>\n      <td>10</td>\n      <td>Action Exec.</td>\n      <td>${47.5}_{7.9}$</td>\n      <td>${42.42}_{8.6}$</td>\n      <td>${0.0}_{0.0}$</td>\n      <td>${37.5}_{7.65}$</td>\n      <td>${17.5}_{6.01}$</td>\n      <td>${0.0}_{0.0}$</td>\n      <td>${None}_{None}$</td>\n      <td>${None}_{None}$</td>\n    </tr>\n    <tr>\n      <th>(10, Effects)</th>\n      <td>10</td>\n      <td>Effects</td>\n      <td>${3.12}_{3.08}$</td>\n      <td>${7.14}_{4.87}$</td>\n      <td>${0.0}_{0.0}$</td>\n      <td>${2.63}_{2.6}$</td>\n      <td>${0.0}_{0.0}$</td>\n      <td>${0.0}_{0.0}$</td>\n      <td>${None}_{None}$</td>\n      <td>${None}_{None}$</td>\n    </tr>\n    <tr>\n      <th>(10, Num. Reas.)</th>\n      <td>10</td>\n      <td>Num. Reas.</td>\n      <td>${22.5}_{6.6}$</td>\n      <td>${17.5}_{6.01}$</td>\n      <td>${5.0}_{3.45}$</td>\n      <td>${10.0}_{4.74}$</td>\n      <td>${2.5}_{2.47}$</td>\n      <td>${5.0}_{3.45}$</td>\n      <td>${None}_{None}$</td>\n      <td>${None}_{None}$</td>\n    </tr>\n    <tr>\n      <th>(10, Hallucination)</th>\n      <td>10</td>\n      <td>Hallucination</td>\n      <td>${63.16}_{7.83}$</td>\n      <td>${23.68}_{6.9}$</td>\n      <td>${0.0}_{0.0}$</td>\n      <td>${13.16}_{5.48}$</td>\n      <td>${28.95}_{7.36}$</td>\n      <td>${0.0}_{0.0}$</td>\n      <td>${None}_{None}$</td>\n      <td>${None}_{None}$</td>\n    </tr>\n    <tr>\n      <th>(10, Composite)</th>\n      <td>10</td>\n      <td>Composite</td>\n      <td>${65.0}_{7.54}$</td>\n      <td>${22.22}_{6.93}$</td>\n      <td>${0.0}_{0.0}$</td>\n      <td>${15.0}_{5.65}$</td>\n      <td>${12.5}_{5.23}$</td>\n      <td>${12.5}_{5.23}$</td>\n      <td>${None}_{None}$</td>\n      <td>${None}_{None}$</td>\n    </tr>\n    <tr>\n      <th>(10, AVG)</th>\n      <td>10</td>\n      <td>AVG</td>\n      <td>${36.25}_{2.73}$</td>\n      <td>${23.57}_{2.46}$</td>\n      <td>${1.25}_{0.62}$</td>\n      <td>${16.37}_{2.21}$</td>\n      <td>${10.59}_{1.72}$</td>\n      <td>${2.8}_{0.92}$</td>\n      <td>${None}_{None}$</td>\n      <td>${None}_{None}$</td>\n    </tr>\n    <tr>\n      <th>(19, Object Trk.)</th>\n      <td>19</td>\n      <td>Object Trk.</td>\n      <td>${55.0}_{7.87}$</td>\n      <td>${40.0}_{7.75}$</td>\n      <td>${0.0}_{0.0}$</td>\n      <td>${45.0}_{7.87}$</td>\n      <td>${17.5}_{6.01}$</td>\n      <td>${0.0}_{0.0}$</td>\n      <td>${None}_{None}$</td>\n      <td>${None}_{None}$</td>\n    </tr>\n    <tr>\n      <th>(19, Fluent Trk.)</th>\n      <td>19</td>\n      <td>Fluent Trk.</td>\n      <td>${8.51}_{4.07}$</td>\n      <td>${2.13}_{2.1}$</td>\n      <td>${0.0}_{0.0}$</td>\n      <td>${2.13}_{2.1}$</td>\n      <td>${12.77}_{4.87}$</td>\n      <td>${0.0}_{0.0}$</td>\n      <td>${None}_{None}$</td>\n      <td>${None}_{None}$</td>\n    </tr>\n    <tr>\n      <th>(19, State Trk.)</th>\n      <td>19</td>\n      <td>State Trk.</td>\n      <td>${19.05}_{8.57}$</td>\n      <td>${27.78}_{10.56}$</td>\n      <td>${0.0}_{0.0}$</td>\n      <td>${7.14}_{4.87}$</td>\n      <td>${3.57}_{3.51}$</td>\n      <td>${0.0}_{0.0}$</td>\n      <td>${None}_{None}$</td>\n      <td>${None}_{None}$</td>\n    </tr>\n    <tr>\n      <th>(19, Action Exec.)</th>\n      <td>19</td>\n      <td>Action Exec.</td>\n      <td>${51.35}_{8.22}$</td>\n      <td>${48.48}_{8.7}$</td>\n      <td>${0.0}_{0.0}$</td>\n      <td>${38.46}_{7.79}$</td>\n      <td>${15.38}_{5.78}$</td>\n      <td>${0.0}_{0.0}$</td>\n      <td>${None}_{None}$</td>\n      <td>${None}_{None}$</td>\n    </tr>\n    <tr>\n      <th>(19, Effects)</th>\n      <td>19</td>\n      <td>Effects</td>\n      <td>${8.7}_{5.88}$</td>\n      <td>${8.7}_{5.88}$</td>\n      <td>${0.0}_{0.0}$</td>\n      <td>${6.67}_{4.55}$</td>\n      <td>${3.33}_{3.28}$</td>\n      <td>${0.0}_{0.0}$</td>\n      <td>${None}_{None}$</td>\n      <td>${None}_{None}$</td>\n    </tr>\n    <tr>\n      <th>(19, Num. Reas.)</th>\n      <td>19</td>\n      <td>Num. Reas.</td>\n      <td>${12.5}_{5.23}$</td>\n      <td>${7.5}_{4.16}$</td>\n      <td>${2.5}_{2.47}$</td>\n      <td>${7.5}_{4.16}$</td>\n      <td>${2.5}_{2.47}$</td>\n      <td>${2.5}_{2.47}$</td>\n      <td>${None}_{None}$</td>\n      <td>${None}_{None}$</td>\n    </tr>\n    <tr>\n      <th>(19, Hallucination)</th>\n      <td>19</td>\n      <td>Hallucination</td>\n      <td>${48.94}_{7.29}$</td>\n      <td>${27.66}_{6.52}$</td>\n      <td>${2.13}_{2.1}$</td>\n      <td>${17.02}_{5.48}$</td>\n      <td>${19.15}_{5.74}$</td>\n      <td>${2.13}_{2.1}$</td>\n      <td>${None}_{None}$</td>\n      <td>${None}_{None}$</td>\n    </tr>\n    <tr>\n      <th>(19, Composite)</th>\n      <td>19</td>\n      <td>Composite</td>\n      <td>${60.0}_{7.75}$</td>\n      <td>${19.44}_{6.6}$</td>\n      <td>${2.5}_{2.47}$</td>\n      <td>${20.0}_{6.32}$</td>\n      <td>${17.5}_{6.01}$</td>\n      <td>${15.0}_{5.65}$</td>\n      <td>${None}_{None}$</td>\n      <td>${None}_{None}$</td>\n    </tr>\n    <tr>\n      <th>(19, AVG)</th>\n      <td>19</td>\n      <td>AVG</td>\n      <td>${34.92}_{2.78}$</td>\n      <td>${22.18}_{2.47}$</td>\n      <td>${0.96}_{0.55}$</td>\n      <td>${18.08}_{2.34}$</td>\n      <td>${12.22}_{1.86}$</td>\n      <td>${2.57}_{0.9}$</td>\n      <td>${None}_{None}$</td>\n      <td>${None}_{None}$</td>\n    </tr>\n  </tbody>\n</table>\n</div>"
     },
     "execution_count": 8,
     "metadata": {},
     "output_type": "execute_result"
    }
   ],
   "source": [
    "df3"
   ],
   "metadata": {
    "collapsed": false,
    "ExecuteTime": {
     "end_time": "2024-06-05T00:50:34.135730Z",
     "start_time": "2024-06-05T00:50:34.101963Z"
    }
   },
   "id": "9ff6a8128a39bfce",
   "execution_count": 8
  },
  {
   "cell_type": "markdown",
   "source": [
    "# By Few Shot"
   ],
   "metadata": {
    "collapsed": false
   },
   "id": "f8ff84d5e11af818"
  },
  {
   "cell_type": "code",
   "outputs": [],
   "source": [
    "model_names =  ['gpt-4o', 'gemini', 'llama2-13b-chat', 'llama-3-8b-instruct', 'llama2-7b-chat', 'gemma-7b']\n",
    "\n",
    "\n",
    "subs = WITHOUT_RANDOM_SUB\n",
    "rams = WITHOUT_RAMIFICATIONS\n",
    "# for subs in [WITHOUT_RANDOM_SUB, WITH_RANDOM_SUB]:\n",
    "#     for rams in [WITHOUT_RAMIFICATIONS, WITH_RAMIFICATIONS]:\n",
    "df4 = to_df_few_shot(stats_all, answer_type,  model_names=model_names, subs=subs, ramifications=rams)\n",
    "df4\n",
    "caption_nl = f'performance of on the test set by few shots, {subs}, {rams}'.replace('_', ' ')\n",
    "save_key = f'by_few_shot.{subs}.{rams}'\n",
    "\n",
    "latex_table_all = latex_table_mods(to_latex_table(df4, caption_nl, label=save_key, index=False))\n",
    "with open(os.path.join(save_dir, f'{save_key}.tex'), 'w') as f:\n",
    "    f.write(latex_table_all)"
   ],
   "metadata": {
    "collapsed": false
   },
   "id": "a4b65bba5fcdd5c0",
   "execution_count": null
  },
  {
   "cell_type": "code",
   "outputs": [],
   "source": [
    "df4"
   ],
   "metadata": {
    "collapsed": false
   },
   "id": "cf0ab3cad6f0bf55",
   "execution_count": null
  },
  {
   "cell_type": "markdown",
   "source": [
    "# By Few Shot by Category"
   ],
   "metadata": {
    "collapsed": false
   },
   "id": "d35fbc030595bffb"
  },
  {
   "cell_type": "code",
   "outputs": [],
   "source": [
    "model_names =  ['gemini', 'llama2-13b-chat', 'gemma-7b']\n",
    "\n",
    "\n",
    "subs = WITHOUT_RANDOM_SUB\n",
    "rams = WITHOUT_RAMIFICATIONS\n",
    "# for subs in [WITHOUT_RANDOM_SUB, WITH_RANDOM_SUB]:\n",
    "#     for rams in [WITHOUT_RAMIFICATIONS, WITH_RAMIFICATIONS]:\n",
    "df5 = to_df_few_shot_by_category(stats_all, answer_type,  model_names=model_names, subs=subs, ramifications=rams)\n",
    "# df5\n",
    "caption_nl = f'performance of on the test set by few shots, {subs}, {rams}'.replace('_', ' ')\n",
    "save_key = f'by_few_shot_by_category.{subs}.{rams}'\n",
    "\n",
    "latex_table_all = latex_table_mods(to_latex_table(df5, caption_nl, label=save_key, index=False))\n",
    "with open(os.path.join(save_dir, f'{save_key}.tex'), 'w') as f:\n",
    "    f.write(latex_table_all)"
   ],
   "metadata": {
    "collapsed": false
   },
   "id": "f84b90c4445ab17b",
   "execution_count": null
  },
  {
   "cell_type": "code",
   "outputs": [],
   "source": [
    "df5"
   ],
   "metadata": {
    "collapsed": false
   },
   "id": "e446ca53ab66a885",
   "execution_count": null
  },
  {
   "cell_type": "code",
   "outputs": [],
   "source": [],
   "metadata": {
    "collapsed": false
   },
   "id": "69fc534a6e77971d"
  }
 ],
 "metadata": {
  "kernelspec": {
   "display_name": "Python 3",
   "language": "python",
   "name": "python3"
  },
  "language_info": {
   "codemirror_mode": {
    "name": "ipython",
    "version": 2
   },
   "file_extension": ".py",
   "mimetype": "text/x-python",
   "name": "python",
   "nbconvert_exporter": "python",
   "pygments_lexer": "ipython2",
   "version": "2.7.6"
  }
 },
 "nbformat": 4,
 "nbformat_minor": 5
}
