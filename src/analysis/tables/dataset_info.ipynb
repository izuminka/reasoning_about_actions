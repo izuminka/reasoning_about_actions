{
 "cells": [
  {
   "cell_type": "code",
   "execution_count": 31,
   "id": "initial_id",
   "metadata": {
    "collapsed": true,
    "ExecuteTime": {
     "end_time": "2024-05-22T01:16:45.469366Z",
     "start_time": "2024-05-22T01:16:45.463488Z"
    }
   },
   "outputs": [],
   "source": [
    "import os.path\n",
    "import sys\n",
    "sys.path.insert(0, '../../')\n",
    "from src.questions_construction.questions import FLUENT_TYPES_LIST\n",
    "from src.questions_construction.main import PLAN_LENGTHS, QUESTION_CATEGORIES\n",
    "from src.questions_construction.domains import DOMAIN_NAMES\n",
    "from src.analysis.model_performances import * #gather_questions, TRANSPORTATION_DOMAINS, NON_TRANSPORTATION_DOMAINS\n",
    "from src.common import *\n",
    "import random\n",
    "from collections import defaultdict\n",
    "from copy import deepcopy\n",
    "import itertools\n",
    "from src.analysis.model_performances import *\n",
    "import pandas as pd\n",
    "from helpers import *"
   ]
  },
  {
   "cell_type": "code",
   "outputs": [],
   "source": [
    "questions_dir = f'{DATA_PATH}/questions_m1'\n",
    "test_ids = open_jsonl(f'{DATA_PATH}/dataset_ids.test.jsonl')\n",
    "train_ids = open_jsonl(f'{DATA_PATH}/dataset_ids.train.jsonl')\n",
    "questions_by_id = gather_questions(questions_dir)"
   ],
   "metadata": {
    "collapsed": false,
    "ExecuteTime": {
     "end_time": "2024-05-22T01:12:29.797214Z",
     "start_time": "2024-05-22T01:12:10.179212Z"
    }
   },
   "id": "306d91b72b426ebf",
   "execution_count": 27
  },
  {
   "cell_type": "code",
   "outputs": [],
   "source": [
    "for k, d in questions_by_id.items():\n",
    "    if d['id'] in test_ids:\n",
    "        d['split_type'] = 'test'\n",
    "    else:\n",
    "        d['split_type'] = 'train'"
   ],
   "metadata": {
    "collapsed": false,
    "ExecuteTime": {
     "end_time": "2024-05-22T01:13:19.058233Z",
     "start_time": "2024-05-22T01:12:57.697892Z"
    }
   },
   "id": "dd825b3af67d3617",
   "execution_count": 28
  },
  {
   "cell_type": "code",
   "outputs": [
    {
     "data": {
      "text/plain": "                     test-true_false_answer test-free_answer  \\\naction_executability                    240              119   \neffects                                 957              108   \nfluent_tracking                        1889              952   \nhallucination                           240              240   \nnumerical_reasoning                     240              120   \nobject_tracking                        1598              120   \nstate_tracking                          153              101   \n\n                     train-true_false_answer train-free_answer  \naction_executability                    4960              5081  \neffects                                17443              3792  \nfluent_tracking                        32913             11048  \nhallucination                          15560             26872  \nnumerical_reasoning                    25760             12880  \nobject_tracking                        18990              2480  \nstate_tracking                          2447              3799  ",
      "text/html": "<div>\n<style scoped>\n    .dataframe tbody tr th:only-of-type {\n        vertical-align: middle;\n    }\n\n    .dataframe tbody tr th {\n        vertical-align: top;\n    }\n\n    .dataframe thead th {\n        text-align: right;\n    }\n</style>\n<table border=\"1\" class=\"dataframe\">\n  <thead>\n    <tr style=\"text-align: right;\">\n      <th></th>\n      <th>test-true_false_answer</th>\n      <th>test-free_answer</th>\n      <th>train-true_false_answer</th>\n      <th>train-free_answer</th>\n    </tr>\n  </thead>\n  <tbody>\n    <tr>\n      <th>action_executability</th>\n      <td>240</td>\n      <td>119</td>\n      <td>4960</td>\n      <td>5081</td>\n    </tr>\n    <tr>\n      <th>effects</th>\n      <td>957</td>\n      <td>108</td>\n      <td>17443</td>\n      <td>3792</td>\n    </tr>\n    <tr>\n      <th>fluent_tracking</th>\n      <td>1889</td>\n      <td>952</td>\n      <td>32913</td>\n      <td>11048</td>\n    </tr>\n    <tr>\n      <th>hallucination</th>\n      <td>240</td>\n      <td>240</td>\n      <td>15560</td>\n      <td>26872</td>\n    </tr>\n    <tr>\n      <th>numerical_reasoning</th>\n      <td>240</td>\n      <td>120</td>\n      <td>25760</td>\n      <td>12880</td>\n    </tr>\n    <tr>\n      <th>object_tracking</th>\n      <td>1598</td>\n      <td>120</td>\n      <td>18990</td>\n      <td>2480</td>\n    </tr>\n    <tr>\n      <th>state_tracking</th>\n      <td>153</td>\n      <td>101</td>\n      <td>2447</td>\n      <td>3799</td>\n    </tr>\n  </tbody>\n</table>\n</div>"
     },
     "execution_count": 55,
     "metadata": {},
     "output_type": "execute_result"
    }
   ],
   "source": [
    "by_category = defaultdict(int)\n",
    "save_key = 'dataset_split'\n",
    "for d in questions_by_id.values():\n",
    "    by_category[(d['question_category'], d['split_type'])]+=1\n",
    "\n",
    "df_by_category = pd.DataFrame(index=sorted(QUESTION_CATEGORIES[:-1]), columns=['test', 'train'])\n",
    "for k, v in by_category.items():\n",
    "    df_by_category.loc[k[0], k[1]] = v\n",
    "df_by_category\n",
    "\n",
    "# by_category = defaultdict(int)\n",
    "# save_key = 'dataset_split_by_answer_type'\n",
    "# for d in questions_by_id.values():\n",
    "#     by_category[(d['question_category'], d['split_type'], d['answer_type'])]+=1\n",
    "# \n",
    "# df_by_category = pd.DataFrame(index=sorted(QUESTION_CATEGORIES[:-1]), columns=['test-true_false_answer', 'test-free_answer', 'train-true_false_answer', 'train-free_answer'])\n",
    "# for k, v in by_category.items():\n",
    "#     df_by_category.loc[k[0], k[1]+'-'+k[2]] = v\n",
    "# df_by_category"
   ],
   "metadata": {
    "collapsed": false,
    "ExecuteTime": {
     "end_time": "2024-05-22T03:15:13.798755Z",
     "start_time": "2024-05-22T03:15:13.612426Z"
    }
   },
   "id": "8788ebc4626fc25d",
   "execution_count": 55
  },
  {
   "cell_type": "code",
   "outputs": [
    {
     "name": "stderr",
     "output_type": "stream",
     "text": [
      "/Users/paveldolin/dev/research/current/reasoning_about_actions/pipeline/src/analysis/tables/helpers.py:2: FutureWarning: In future versions `DataFrame.to_latex` is expected to utilise the base implementation of `Styler.to_latex` for formatting and rendering. The arguments signature may therefore change. It is recommended instead to use `DataFrame.style.to_latex` which also contains additional functionality.\n",
      "  TO_PRETTY = {\n"
     ]
    }
   ],
   "source": [
    "latex_table = to_latex_table(df_by_category, 'dataset split')\n",
    "\n",
    "save_main_dir = f'{STATISTICS_PATH}.dataset_ids.test'\n",
    "os.makedirs(os.path.join(save_main_dir, 'tables'), exist_ok=True)\n",
    "with open(os.path.join(save_main_dir, 'tables', f'{save_key}.tex'), 'w') as f:\n",
    "    f.write(latex_table)"
   ],
   "metadata": {
    "collapsed": false,
    "ExecuteTime": {
     "end_time": "2024-05-22T03:15:27.792042Z",
     "start_time": "2024-05-22T03:15:27.749798Z"
    }
   },
   "id": "af68781df3f9c5d8",
   "execution_count": 56
  },
  {
   "cell_type": "code",
   "outputs": [
    {
     "data": {
      "text/plain": "                base_fluents-test base_fluents-train persistent_fluents-test  \\\nobject_tracking               382               3171                     480   \nfluent_tracking               707               7543                     717   \neffects                       239               3761                     240   \n\n                persistent_fluents-train derived_fluents-test  \\\nobject_tracking                     6724                  264   \nfluent_tracking                    14883                  712   \neffects                             4960                  240   \n\n                derived_fluents-train static_fluents-test static_fluents-train  \nobject_tracking                  3567                 472                 5528  \nfluent_tracking                 10240                 705                11295  \neffects                          4360                 238                 4362  ",
      "text/html": "<div>\n<style scoped>\n    .dataframe tbody tr th:only-of-type {\n        vertical-align: middle;\n    }\n\n    .dataframe tbody tr th {\n        vertical-align: top;\n    }\n\n    .dataframe thead th {\n        text-align: right;\n    }\n</style>\n<table border=\"1\" class=\"dataframe\">\n  <thead>\n    <tr style=\"text-align: right;\">\n      <th></th>\n      <th>base_fluents-test</th>\n      <th>base_fluents-train</th>\n      <th>persistent_fluents-test</th>\n      <th>persistent_fluents-train</th>\n      <th>derived_fluents-test</th>\n      <th>derived_fluents-train</th>\n      <th>static_fluents-test</th>\n      <th>static_fluents-train</th>\n    </tr>\n  </thead>\n  <tbody>\n    <tr>\n      <th>object_tracking</th>\n      <td>382</td>\n      <td>3171</td>\n      <td>480</td>\n      <td>6724</td>\n      <td>264</td>\n      <td>3567</td>\n      <td>472</td>\n      <td>5528</td>\n    </tr>\n    <tr>\n      <th>fluent_tracking</th>\n      <td>707</td>\n      <td>7543</td>\n      <td>717</td>\n      <td>14883</td>\n      <td>712</td>\n      <td>10240</td>\n      <td>705</td>\n      <td>11295</td>\n    </tr>\n    <tr>\n      <th>effects</th>\n      <td>239</td>\n      <td>3761</td>\n      <td>240</td>\n      <td>4960</td>\n      <td>240</td>\n      <td>4360</td>\n      <td>238</td>\n      <td>4362</td>\n    </tr>\n  </tbody>\n</table>\n</div>"
     },
     "execution_count": 39,
     "metadata": {},
     "output_type": "execute_result"
    }
   ],
   "source": [
    "by_category_by_fluents = defaultdict(int)\n",
    "for d in questions_by_id.values():\n",
    "    if d['fluent_type'] not in ('None', None):\n",
    "        by_category_by_fluents[(d['question_category'], d['fluent_type'], d['split_type'])]+=1\n",
    "        \n",
    "columns = []\n",
    "for c in ['base_fluents', 'persistent_fluents', 'derived_fluents', 'static_fluents']:\n",
    "    columns.append(c+'-test')\n",
    "    columns.append(c+'-train')\n",
    "    \n",
    "index = ['object_tracking', 'fluent_tracking', 'effects']\n",
    "df = pd.DataFrame(index=index, columns=columns)\n",
    "rows = []\n",
    "for k, v in by_category_by_fluents.items():\n",
    "    df.loc[k[0], k[1]+'-'+k[2]] = v\n",
    "df"
   ],
   "metadata": {
    "collapsed": false,
    "ExecuteTime": {
     "end_time": "2024-05-22T01:29:06.835836Z",
     "start_time": "2024-05-22T01:29:06.696043Z"
    }
   },
   "id": "4061560b0f3c162f",
   "execution_count": 39
  },
  {
   "cell_type": "code",
   "outputs": [
    {
     "name": "stderr",
     "output_type": "stream",
     "text": [
      "/Users/paveldolin/dev/research/current/reasoning_about_actions/pipeline/src/analysis/tables/helpers.py:2: FutureWarning: In future versions `DataFrame.to_latex` is expected to utilise the base implementation of `Styler.to_latex` for formatting and rendering. The arguments signature may therefore change. It is recommended instead to use `DataFrame.style.to_latex` which also contains additional functionality.\n",
      "  latex_table = df.to_latex(index=True, formatters={\"name\": str.upper}, float_format=\"{:.2f}\".format)\n"
     ]
    }
   ],
   "source": [
    "latex_table = to_latex_table(df, 'dataset split by fluents').replace('_', ' ')\n",
    "save_key = 'fluent_split'\n",
    "save_main_dir = f'{STATISTICS_PATH}.dataset_ids.test'\n",
    "os.makedirs(os.path.join(save_main_dir, 'tables'), exist_ok=True)\n",
    "with open(os.path.join(save_main_dir, 'tables', f'{save_key}.tex'), 'w') as f:\n",
    "    f.write(latex_table)"
   ],
   "metadata": {
    "collapsed": false,
    "ExecuteTime": {
     "end_time": "2024-05-22T01:32:03.634818Z",
     "start_time": "2024-05-22T01:32:03.604276Z"
    }
   },
   "id": "d7dd80c043dfa8ad",
   "execution_count": 43
  },
  {
   "cell_type": "code",
   "outputs": [],
   "source": [],
   "metadata": {
    "collapsed": false
   },
   "id": "df262dca38313797"
  }
 ],
 "metadata": {
  "kernelspec": {
   "display_name": "Python 3",
   "language": "python",
   "name": "python3"
  },
  "language_info": {
   "codemirror_mode": {
    "name": "ipython",
    "version": 2
   },
   "file_extension": ".py",
   "mimetype": "text/x-python",
   "name": "python",
   "nbconvert_exporter": "python",
   "pygments_lexer": "ipython2",
   "version": "2.7.6"
  }
 },
 "nbformat": 4,
 "nbformat_minor": 5
}
