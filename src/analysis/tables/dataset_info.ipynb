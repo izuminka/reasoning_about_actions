{
 "cells": [
  {
   "cell_type": "code",
   "execution_count": 1,
   "id": "initial_id",
   "metadata": {
    "collapsed": true,
    "ExecuteTime": {
     "end_time": "2024-05-21T03:40:51.553363Z",
     "start_time": "2024-05-21T03:40:48.399235Z"
    }
   },
   "outputs": [],
   "source": [
    "import os.path\n",
    "import sys\n",
    "sys.path.insert(0, '../../')\n",
    "from src.questions_construction.questions import FLUENT_TYPES_LIST\n",
    "from src.questions_construction.main import PLAN_LENGTHS, QUESTION_CATEGORIES\n",
    "from src.questions_construction.domains import DOMAIN_NAMES\n",
    "from src.analysis.model_performances import * #gather_questions, TRANSPORTATION_DOMAINS, NON_TRANSPORTATION_DOMAINS\n",
    "from src.common import *\n",
    "import random\n",
    "from collections import defaultdict\n",
    "from copy import deepcopy\n",
    "import itertools\n",
    "from src.analysis.model_performances import *"
   ]
  },
  {
   "cell_type": "code",
   "outputs": [],
   "source": [
    "questions_dir = f'{DATA_PATH}/questions_m1'\n",
    "ids_file_name = 'dataset_ids.test'\n",
    "selected_ids = open_jsonl(f'{DATA_PATH}/{ids_file_name}.jsonl')\n",
    "questions_by_id = gather_questions(questions_dir, selected_ids)"
   ],
   "metadata": {
    "collapsed": false,
    "ExecuteTime": {
     "end_time": "2024-05-21T03:41:39.109845Z",
     "start_time": "2024-05-21T03:40:51.555581Z"
    }
   },
   "id": "306d91b72b426ebf",
   "execution_count": 2
  },
  {
   "cell_type": "code",
   "outputs": [
    {
     "data": {
      "text/plain": "defaultdict(int,\n            {('object_tracking', 'true_false_answer'): 1598,\n             ('object_tracking', 'free_answer'): 120,\n             ('fluent_tracking', 'true_false_answer'): 1889,\n             ('fluent_tracking', 'free_answer'): 952,\n             ('state_tracking', 'true_false_answer'): 153,\n             ('state_tracking', 'free_answer'): 101,\n             ('action_executability', 'free_answer'): 119,\n             ('action_executability', 'true_false_answer'): 240,\n             ('effects', 'free_answer'): 108,\n             ('effects', 'true_false_answer'): 957,\n             ('numerical_reasoning', 'true_false_answer'): 240,\n             ('numerical_reasoning', 'free_answer'): 120,\n             ('hallucination', 'true_false_answer'): 240,\n             ('hallucination', 'free_answer'): 240})"
     },
     "execution_count": 3,
     "metadata": {},
     "output_type": "execute_result"
    }
   ],
   "source": [
    "data_columns = defaultdict(int)\n",
    "for d in questions_by_id.values():\n",
    "    data_columns[(d['question_category'], d['answer_type'])]+=1\n",
    "data_columns"
   ],
   "metadata": {
    "collapsed": false,
    "ExecuteTime": {
     "end_time": "2024-05-21T03:41:40.574463Z",
     "start_time": "2024-05-21T03:41:40.554714Z"
    }
   },
   "id": "8788ebc4626fc25d",
   "execution_count": 3
  },
  {
   "cell_type": "code",
   "outputs": [],
   "source": [
    "def to_df(results_all, model_name, answer_type, prompt_type, subs, domains):\n",
    "    d_ramifications_pretty = {\n",
    "        WITH_RAMIFICATIONS : 'R',\n",
    "        WITHOUT_RAMIFICATIONS : 'No R'\n",
    "    }\n",
    "    d_answer_type_pretty = {\n",
    "        TRUE_FALSE_ANSWER_TYPE : 'T/F',\n",
    "        FREE_ANSWER_TYPE : 'Free'\n",
    "    }\n",
    "    \n",
    "    index = []\n",
    "    data = []\n",
    "    for plan_length in PLAN_LENGTHS:\n",
    "        for ramifications in RAMIFICATION_TYPES:\n",
    "            index.append((plan_length, d_ramifications_pretty[ramifications], d_answer_type_pretty[answer_type]))\n",
    "            data_columns = {}\n",
    "            for domain in domains:\n",
    "                by_fluent_type = {}\n",
    "                for fluent_type in list(FLUENT_TYPES_LIST) + [None]:\n",
    "                    data = filter_multi_selector_modified(data_all, ramifications, model_name, prompt_type, answer_type, substitutions, plan_length, [(OUT_OBJ_FLUENT_TYPE, {fluent_type})])\n",
    "                    stats = TrueFalseStatsCustom(data, plan_length, question_category, ramifications, model_name, prompt_type, domain, substitutions)\n",
    "                    by_fluent_type[fluent_type] = stats.compute()['result']\n",
    "                    \n",
    "                \n",
    "                data_columns[domain] = filter_single_selector(results_all, plan_length, question_category, ramifications, model_name, prompt_type, domain, answer_type, subs)\n",
    "            data.append(data_columns)\n",
    "    return pd.DataFrame(data, index = index)"
   ],
   "metadata": {
    "collapsed": false
   },
   "id": "945c40f820a11584"
  }
 ],
 "metadata": {
  "kernelspec": {
   "display_name": "Python 3",
   "language": "python",
   "name": "python3"
  },
  "language_info": {
   "codemirror_mode": {
    "name": "ipython",
    "version": 2
   },
   "file_extension": ".py",
   "mimetype": "text/x-python",
   "name": "python",
   "nbconvert_exporter": "python",
   "pygments_lexer": "ipython2",
   "version": "2.7.6"
  }
 },
 "nbformat": 4,
 "nbformat_minor": 5
}
