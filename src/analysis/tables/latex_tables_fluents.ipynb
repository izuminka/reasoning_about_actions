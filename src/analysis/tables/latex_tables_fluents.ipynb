{
 "cells": [
  {
   "cell_type": "code",
   "outputs": [],
   "source": [
    "import sys\n",
    "import json\n",
    "sys.path.append('..')\n",
    "from src.analysis.model_performances import *\n",
    "from src.questions_construction.questions import *\n",
    "import pandas as pd\n",
    "EVERYTHING_POSTFIX = 'everything'"
   ],
   "metadata": {
    "collapsed": false,
    "ExecuteTime": {
     "end_time": "2024-04-26T00:44:04.436007Z",
     "start_time": "2024-04-26T00:44:01.810026Z"
    }
   },
   "id": "1581e9208ff09f8e",
   "execution_count": 2
  },
  {
   "cell_type": "code",
   "outputs": [
    {
     "name": "stdout",
     "output_type": "stream",
     "text": [
      "data is gathered\n"
     ]
    }
   ],
   "source": [
    "questions_dir = f'{DATA_PATH}/questions_m1'\n",
    "questions_by_id = gather_questions(questions_dir)\n",
    "# sanity_checks()\n",
    "data_all, missing_data = gather_data(questions_by_id)"
   ],
   "metadata": {
    "collapsed": false,
    "ExecuteTime": {
     "end_time": "2024-04-26T00:45:30.986032Z",
     "start_time": "2024-04-26T00:44:04.437730Z"
    }
   },
   "id": "b1b6274ec4b7a16c",
   "execution_count": 3
  },
  {
   "cell_type": "code",
   "outputs": [],
   "source": [
    "class TrueFalseStatsCustom(TrueFalseStats):\n",
    "    def __init__(self, filtered_data, plan_length, question_category, ramifications, model_name, prompt_type, domain,\n",
    "                 substitutions, score_type=F1_SCORE_KEY):\n",
    "        super().__init__(filtered_data, plan_length, question_category, ramifications, model_name, prompt_type, domain,\n",
    "                 substitutions, score_type=F1_SCORE_KEY)\n",
    "        self.answer_type = TRUE_FALSE_ANSWER_TYPE\n",
    "        self.score_type = score_type\n",
    "        self.data = filtered_data\n",
    "\n",
    "def filter_multi_selector_modified(data_all, ramifications, model_name, prompt_type, answer_type, substitutions, plan_length, other_keys_ls):\n",
    "    \"\"\" if ALL_DOMAINS_KEY or ALL_CATEGORIES_KEY or ALL_LENGTHS_KEY selects multiple values from data_all\"\"\"\n",
    "    filter_by = base_filter(ramifications, model_name, prompt_type, answer_type, substitutions)\n",
    "    filter_by.append((OUT_OBJ_PLAN_LENGTH, {plan_length}))\n",
    "    filter_by.extend(other_keys_ls)\n",
    "    \n",
    "    results = []\n",
    "    for d in data_all:\n",
    "        if all(d[k] in v for k, v in filter_by):\n",
    "            results.append(d)  # dedup if there was a screw up in the evaluations stage and things were computed >1 times\n",
    "    return results"
   ],
   "metadata": {
    "collapsed": false,
    "ExecuteTime": {
     "end_time": "2024-04-26T00:55:05.139279Z",
     "start_time": "2024-04-26T00:55:05.132285Z"
    }
   },
   "id": "272723817e8a5a16",
   "execution_count": 26
  },
  {
   "cell_type": "code",
   "outputs": [],
   "source": [
    "model_name = 'gemini'#'gemma-2b-it'\n",
    "prompt_type = 'few_shot_1'\n",
    "question_category = ALL_QUESTION_CATEGORIES_KEY\n",
    "substitutions = WITHOUT_RANDOM_SUB\n",
    "ramifications = WITHOUT_RAMIFICATIONS\n",
    "answer_type = TRUE_FALSE_ANSWER_TYPE\n",
    "\n",
    "plan_length = 1\n",
    "domain = ALL_DOMAINS_KEY"
   ],
   "metadata": {
    "collapsed": false,
    "ExecuteTime": {
     "end_time": "2024-04-26T00:55:05.743290Z",
     "start_time": "2024-04-26T00:55:05.739471Z"
    }
   },
   "id": "7ab2bf68455c1c3",
   "execution_count": 27
  },
  {
   "cell_type": "code",
   "outputs": [],
   "source": [
    "by_fluent_type = {}\n",
    "for fluent_type in list(FLUENT_TYPES_LIST) + [None]:\n",
    "    data = filter_multi_selector_modified(data_all, ramifications, model_name, prompt_type, answer_type, substitutions, plan_length, [(OUT_OBJ_FLUENT_TYPE, {fluent_type})])\n",
    "    stats = TrueFalseStatsCustom(data, plan_length, question_category, ramifications, model_name, prompt_type, domain, substitutions)\n",
    "    by_fluent_type[fluent_type] = stats.compute()['result']"
   ],
   "metadata": {
    "collapsed": false,
    "ExecuteTime": {
     "end_time": "2024-04-26T00:58:11.561597Z",
     "start_time": "2024-04-26T00:58:08.216091Z"
    }
   },
   "id": "a0bc9a2978419ef0",
   "execution_count": 35
  },
  {
   "cell_type": "code",
   "outputs": [
    {
     "data": {
      "text/plain": "{'base_fluents': 0.531055900621118,\n 'derived_fluents': 0.4934169278996865,\n 'persistent_fluents': 0.5070539419087137,\n 'static_fluents': 0.4739795918367347,\n None: 0.47448053258018963}"
     },
     "execution_count": 36,
     "metadata": {},
     "output_type": "execute_result"
    }
   ],
   "source": [
    "by_fluent_type"
   ],
   "metadata": {
    "collapsed": false,
    "ExecuteTime": {
     "end_time": "2024-04-26T00:58:12.224756Z",
     "start_time": "2024-04-26T00:58:12.220510Z"
    }
   },
   "id": "b7ae1ce4405bb28c",
   "execution_count": 36
  },
  {
   "cell_type": "markdown",
   "source": [
    "# By positive and neg fluents"
   ],
   "metadata": {
    "collapsed": false
   },
   "id": "cd1a1a69ad8cb894"
  },
  {
   "cell_type": "code",
   "outputs": [
    {
     "data": {
      "text/plain": "{True: 0.4911489066296425, False: 0.605080831408776, None: 0.4621561142556272}"
     },
     "execution_count": 33,
     "metadata": {},
     "output_type": "execute_result"
    }
   ],
   "source": [
    "by_is_pos_fluent_question = {}\n",
    "for is_pos_fluent_question in [True, False, None]:\n",
    "    data = filter_multi_selector_modified(data_all, ramifications, model_name, prompt_type, answer_type, substitutions, plan_length, [(OUT_OBJ_IS_POS_FLUENT_QUESTION, {is_pos_fluent_question})])\n",
    "    stats = TrueFalseStatsCustom(data, plan_length, question_category, ramifications, model_name, prompt_type, domain, substitutions)\n",
    "    by_is_pos_fluent_question[is_pos_fluent_question] = stats.compute()['result']"
   ],
   "metadata": {
    "collapsed": false,
    "ExecuteTime": {
     "end_time": "2024-04-26T00:55:42.308564Z",
     "start_time": "2024-04-26T00:55:40.028709Z"
    }
   },
   "id": "bb5dbabda8d58549",
   "execution_count": 33
  },
  {
   "cell_type": "code",
   "outputs": [
    {
     "data": {
      "text/plain": "{True: 0.4911489066296425, False: 0.605080831408776, None: 0.4621561142556272}"
     },
     "execution_count": 34,
     "metadata": {},
     "output_type": "execute_result"
    }
   ],
   "source": [
    "by_is_pos_fluent_question"
   ],
   "metadata": {
    "collapsed": false,
    "ExecuteTime": {
     "end_time": "2024-04-26T00:55:44.354186Z",
     "start_time": "2024-04-26T00:55:44.350168Z"
    }
   },
   "id": "45c23e6d755fd6e",
   "execution_count": 34
  },
  {
   "cell_type": "code",
   "outputs": [],
   "source": [
    "def to_df(results_all, model_name, answer_type, prompt_type, subs, domains):\n",
    "    d_ramifications_pretty = {\n",
    "        WITH_RAMIFICATIONS : 'R',\n",
    "        WITHOUT_RAMIFICATIONS : 'No R'\n",
    "    }\n",
    "    d_answer_type_pretty = {\n",
    "        TRUE_FALSE_ANSWER_TYPE : 'T/F',\n",
    "        FREE_ANSWER_TYPE : 'Free'\n",
    "    }\n",
    "    \n",
    "    index = []\n",
    "    data = []\n",
    "    for plan_length in PLAN_LENGTHS:\n",
    "        for ramifications in RAMIFICATION_TYPES:\n",
    "            index.append((plan_length, d_ramifications_pretty[ramifications], d_answer_type_pretty[answer_type]))\n",
    "            data_columns = {}\n",
    "            for domain in domains:\n",
    "                by_fluent_type = {}\n",
    "                for fluent_type in list(FLUENT_TYPES_LIST) + [None]:\n",
    "                    data = filter_multi_selector_modified(data_all, ramifications, model_name, prompt_type, answer_type, substitutions, plan_length, [(OUT_OBJ_FLUENT_TYPE, {fluent_type})])\n",
    "                    stats = TrueFalseStatsCustom(data, plan_length, question_category, ramifications, model_name, prompt_type, domain, substitutions)\n",
    "                    by_fluent_type[fluent_type] = stats.compute()['result']\n",
    "                    \n",
    "                \n",
    "                data_columns[domain] = filter_single_selector(results_all, plan_length, question_category, ramifications, model_name, prompt_type, domain, answer_type, subs)\n",
    "            data.append(data_columns)\n",
    "    return pd.DataFrame(data, index = index)"
   ],
   "metadata": {
    "collapsed": false
   },
   "id": "d94e426a434f7755"
  }
 ],
 "metadata": {
  "kernelspec": {
   "display_name": "Python 3",
   "language": "python",
   "name": "python3"
  },
  "language_info": {
   "codemirror_mode": {
    "name": "ipython",
    "version": 2
   },
   "file_extension": ".py",
   "mimetype": "text/x-python",
   "name": "python",
   "nbconvert_exporter": "python",
   "pygments_lexer": "ipython2",
   "version": "2.7.6"
  }
 },
 "nbformat": 4,
 "nbformat_minor": 5
}
