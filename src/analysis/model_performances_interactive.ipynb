{
 "cells": [
  {
   "cell_type": "code",
   "execution_count": 1,
   "id": "initial_id",
   "metadata": {
    "collapsed": true,
    "ExecuteTime": {
     "end_time": "2024-04-28T00:42:00.509527Z",
     "start_time": "2024-04-28T00:41:58.352088Z"
    }
   },
   "outputs": [],
   "source": [
    "from model_performances import *"
   ]
  },
  {
   "cell_type": "code",
   "outputs": [
    {
     "name": "stdout",
     "output_type": "stream",
     "text": [
      "data is gathered\n"
     ]
    }
   ],
   "source": [
    "questions_dir = f'{DATA_PATH}/questions_m1'\n",
    "questions_by_id = gather_questions(questions_dir)\n",
    "# sanity_checks()\n",
    "data_all, missing_data = gather_data(questions_by_id)"
   ],
   "metadata": {
    "collapsed": false,
    "ExecuteTime": {
     "end_time": "2024-04-28T00:43:59.340085Z",
     "start_time": "2024-04-28T00:42:00.511911Z"
    }
   },
   "id": "88990623c670150a",
   "execution_count": 2
  },
  {
   "cell_type": "code",
   "outputs": [
    {
     "name": "stdout",
     "output_type": "stream",
     "text": [
      "saved true_false_answer.f1\n"
     ]
    }
   ],
   "source": [
    "if not os.path.exists(STATISTICS_PATH):\n",
    "    os.makedirs(STATISTICS_PATH)\n",
    "answer_response = f'{TRUE_FALSE_ANSWER_TYPE}.{F1_SCORE_KEY}'\n",
    "# calculate_stats_all(data_all, answer_response)\n",
    "for i in [1,5,10,15,19]:\n",
    "    calculate_stats(data_all, answer_response, ALL_DOMAINS_KEY, i, ALL_QUESTION_CATEGORIES_KEY, WITHOUT_RAMIFICATIONS, WITH_RANDOM_SUB,'Llama-2-7b-chat-hf', 'few_shot_1')\n",
    "    calculate_stats(data_all, answer_response, ALL_DOMAINS_KEY, i, ALL_QUESTION_CATEGORIES_KEY, WITHOUT_RAMIFICATIONS, WITHOUT_RANDOM_SUB,'Llama-2-7b-chat-hf', 'few_shot_1')\n",
    "\n",
    "print('saved', answer_response)"
   ],
   "metadata": {
    "collapsed": false,
    "ExecuteTime": {
     "end_time": "2024-04-28T00:48:01.596214Z",
     "start_time": "2024-04-28T00:47:52.562302Z"
    }
   },
   "id": "b417eb4872c2c88d",
   "execution_count": 5
  },
  {
   "cell_type": "code",
   "outputs": [],
   "source": [],
   "metadata": {
    "collapsed": false
   },
   "id": "1da898c74fb7610f"
  }
 ],
 "metadata": {
  "kernelspec": {
   "display_name": "Python 3",
   "language": "python",
   "name": "python3"
  },
  "language_info": {
   "codemirror_mode": {
    "name": "ipython",
    "version": 2
   },
   "file_extension": ".py",
   "mimetype": "text/x-python",
   "name": "python",
   "nbconvert_exporter": "python",
   "pygments_lexer": "ipython2",
   "version": "2.7.6"
  }
 },
 "nbformat": 4,
 "nbformat_minor": 5
}
