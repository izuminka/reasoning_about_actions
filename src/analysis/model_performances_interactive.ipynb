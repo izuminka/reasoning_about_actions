{
 "cells": [
  {
   "cell_type": "code",
   "execution_count": 1,
   "id": "initial_id",
   "metadata": {
    "collapsed": true,
    "ExecuteTime": {
     "end_time": "2024-04-25T23:01:50.557119Z",
     "start_time": "2024-04-25T23:01:47.776332Z"
    }
   },
   "outputs": [],
   "source": [
    "from model_performances import *"
   ]
  },
  {
   "cell_type": "code",
   "outputs": [
    {
     "name": "stdout",
     "output_type": "stream",
     "text": [
      "data is gathered\n"
     ]
    }
   ],
   "source": [
    "questions_dir = f'{DATA_PATH}/questions_m1'\n",
    "questions_by_id = gather_questions(questions_dir)\n",
    "# sanity_checks()\n",
    "data_all, missing_data = gather_data(questions_by_id)"
   ],
   "metadata": {
    "collapsed": false,
    "ExecuteTime": {
     "end_time": "2024-04-25T22:30:53.226654Z",
     "start_time": "2024-04-25T22:29:35.156050Z"
    }
   },
   "id": "88990623c670150a",
   "execution_count": 3
  },
  {
   "cell_type": "code",
   "outputs": [
    {
     "name": "stdout",
     "output_type": "stream",
     "text": [
      "saved true_false_answer.f1\n"
     ]
    }
   ],
   "source": [
    "if not os.path.exists(STATISTICS_PATH):\n",
    "    os.makedirs(STATISTICS_PATH)\n",
    "answer_response = f'{TRUE_FALSE_ANSWER_TYPE}.{F1_SCORE_KEY}'\n",
    "# calculate_stats_all(data_all, answer_response)\n",
    "calculate_stats(data_all, answer_response, 'blocksworld', 1, ALL_QUESTION_CATEGORIES_KEY, WITHOUT_RAMIFICATIONS, WITHOUT_RANDOM_SUB,\n",
    "                'gemini', 'few_shot_5')\n",
    "\n",
    "print('saved', answer_response)"
   ],
   "metadata": {
    "collapsed": false,
    "ExecuteTime": {
     "end_time": "2024-04-25T22:50:09.354047Z",
     "start_time": "2024-04-25T22:50:09.340066Z"
    }
   },
   "id": "b417eb4872c2c88d",
   "execution_count": 7
  },
  {
   "cell_type": "code",
   "outputs": [],
   "source": [
    "stats = TrueFalseStats(data_all, plan_length, question_category, ramifications, model_name, prompt_type, domain, random_sub, tf_score_key)"
   ],
   "metadata": {
    "collapsed": false
   },
   "id": "1bdbba6db9155a4e"
  }
 ],
 "metadata": {
  "kernelspec": {
   "display_name": "Python 3",
   "language": "python",
   "name": "python3"
  },
  "language_info": {
   "codemirror_mode": {
    "name": "ipython",
    "version": 2
   },
   "file_extension": ".py",
   "mimetype": "text/x-python",
   "name": "python",
   "nbconvert_exporter": "python",
   "pygments_lexer": "ipython2",
   "version": "2.7.6"
  }
 },
 "nbformat": 4,
 "nbformat_minor": 5
}
