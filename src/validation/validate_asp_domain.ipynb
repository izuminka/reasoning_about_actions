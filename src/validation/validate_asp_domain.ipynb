{
 "cells": [
  {
   "cell_type": "code",
   "outputs": [],
   "source": [
    "from src.common import *"
   ],
   "metadata": {
    "collapsed": false,
    "ExecuteTime": {
     "end_time": "2024-02-09T23:36:36.873605Z",
     "start_time": "2024-02-09T23:36:36.785174Z"
    }
   },
   "id": "c2dd4c6af86a550e",
   "execution_count": 1
  },
  {
   "cell_type": "code",
   "outputs": [],
   "source": [
    "def check_validity(domain_path, instance_path):\n",
    "    # paths = [ASP_CODE_PATH + '/check_sequence.lp', \n",
    "    #          f'{DATA_PATH}/initial/asp/{domain_name}/domain.lp',\n",
    "    #          f'{DATA_PATH}/initial/asp_data_for_validation/{domain_name}/instances30_final/template/{instance_name}/template/nl_to_asp.lp']\n",
    "    paths = [ASP_CODE_PATH + '/check_sequence.lp', domain_path,\n",
    "             f'{instance_path}/init.lp',\n",
    "             f'{instance_path}/objects.lp',\n",
    "             f'{instance_path}/plan.lp']\n",
    "\n",
    "    asp_code = assemble_asp_code(paths)\n",
    "    # print(asp_code)\n",
    "    asp_model = execute_asp_code(asp_code)\n",
    "    for prefix, contents in asp_model:\n",
    "        if prefix == 'not_exec':\n",
    "            print('not_exec in ASP code. Bad ASP code', domain_name, instance_name)\n",
    "            return None"
   ],
   "metadata": {
    "collapsed": true,
    "ExecuteTime": {
     "end_time": "2024-02-09T23:36:47.240348Z",
     "start_time": "2024-02-09T23:36:47.232406Z"
    }
   },
   "id": "initial_id",
   "execution_count": 4
  },
  {
   "cell_type": "code",
   "outputs": [
    {
     "name": "stdout",
     "output_type": "stream",
     "text": [
      "goldminer\n",
      "1\n",
      "--------------------\n",
      "\n",
      "driverlog\n",
      "1\n",
      "--------------------\n",
      "\n",
      ".DS_Store\n",
      "1\n",
      "Dir /Users/paveldolin/dev/research/current/reasoning_about_actions/pipeline/data/initial/asp/.DS_Store/instances/Instance_1 does not exist\n",
      "--------------------\n",
      "\n",
      "npuzzle\n",
      "1\n",
      "--------------------\n",
      "\n",
      "visitall\n",
      "1\n",
      "--------------------\n",
      "\n",
      "mystery\n",
      "1\n",
      "--------------------\n",
      "\n",
      "zenotravel\n",
      "1\n",
      "--------------------\n",
      "\n",
      "depots\n",
      "1\n",
      "--------------------\n",
      "\n",
      "satellite\n",
      "1\n",
      "--------------------\n",
      "\n",
      "spanner\n",
      "1\n",
      "--------------------\n",
      "\n",
      "blocksworld\n",
      "1\n",
      "--------------------\n",
      "\n",
      "grippers\n",
      "1\n",
      "--------------------\n",
      "\n",
      "logistics\n",
      "1\n",
      "--------------------\n",
      "\n",
      "miconic\n",
      "1\n",
      "--------------------\n"
     ]
    }
   ],
   "source": [
    "for domain_name in os.listdir(f'{DATA_PATH}/initial/asp'):\n",
    "    domain_path = f'{DATA_PATH}/initial/asp/{domain_name}/domain.lp'\n",
    "    print(domain_name)\n",
    "    for i in [1]:#range(1,11):\n",
    "        print(i)\n",
    "        instance_name = f'Instance_{i}'\n",
    "        instance_dir =f'{DATA_PATH}/initial/asp/{domain_name}/instances/{instance_name}'\n",
    "        # instance_dir = f'{DATA_PATH}/initial/pddl_old_instances/{domain_name}/instances30_final/ASP/{instance_name}'\n",
    "        if not os.path.isdir(instance_dir):\n",
    "            print(f'Dir {instance_dir} does not exist')\n",
    "            continue\n",
    "        try:\n",
    "            check_validity(domain_path, instance_dir)\n",
    "        except Exception as e:\n",
    "            print(domain_name, instance_name)\n",
    "            print(e)\n",
    "    print('--------------------\\n')     "
   ],
   "metadata": {
    "collapsed": false,
    "ExecuteTime": {
     "end_time": "2024-02-09T23:38:33.805071Z",
     "start_time": "2024-02-09T23:36:47.424084Z"
    }
   },
   "id": "1c461d137630dfcf",
   "execution_count": 5
  },
  {
   "cell_type": "code",
   "outputs": [],
   "source": [
    "# GOOD DOMAINS\n",
    "\n",
    "# \"driverlog\",\n",
    "# \"npuzzle\",\n",
    "# \"visitall\",\n",
    "# \"mystery\",\n",
    "# \"miconic\",\n",
    "# logistics\n",
    "# grippers\n",
    "# blocksworld\n",
    "# depots\n",
    "# goldminer\n",
    "# satellite\n",
    "# zenotravel"
   ],
   "metadata": {
    "collapsed": false
   },
   "id": "103a82d22f597a22"
  },
  {
   "cell_type": "code",
   "outputs": [],
   "source": [
    "# BAD DOMAINS\n",
    "# spanner\n"
   ],
   "metadata": {
    "collapsed": false
   },
   "id": "3535fa30bdd4e5c3"
  }
 ],
 "metadata": {
  "kernelspec": {
   "display_name": "Python 3",
   "language": "python",
   "name": "python3"
  },
  "language_info": {
   "codemirror_mode": {
    "name": "ipython",
    "version": 2
   },
   "file_extension": ".py",
   "mimetype": "text/x-python",
   "name": "python",
   "nbconvert_exporter": "python",
   "pygments_lexer": "ipython2",
   "version": "2.7.6"
  }
 },
 "nbformat": 4,
 "nbformat_minor": 5
}
