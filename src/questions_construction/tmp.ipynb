{
 "cells": [
  {
   "cell_type": "code",
   "execution_count": 1,
   "id": "initial_id",
   "metadata": {
    "collapsed": true,
    "ExecuteTime": {
     "end_time": "2024-02-15T20:49:56.358090Z",
     "start_time": "2024-02-15T20:49:56.260910Z"
    }
   },
   "outputs": [],
   "source": [
    "import sys, os\n",
    "sys.path.append(os.path.realpath('__file__'))\n",
    "sys.path.append(os.path.dirname(os.path.realpath('__file__')))\n",
    "sys.path.append(os.path.dirname(os.path.dirname(os.path.realpath('__file__'))))\n",
    "sys.path.append(os.path.dirname(os.path.dirname(os.path.dirname(os.path.realpath('__file__')))))\n",
    "\n",
    "from src.common import *\n",
    "from src.questions_construction.domains import *\n",
    "from collections import defaultdict\n",
    "from copy import deepcopy\n"
   ]
  },
  {
   "cell_type": "code",
   "outputs": [
    {
     "name": "stdout",
     "output_type": "stream",
     "text": [
      "blocksworld\n",
      "Picking up a block is only possible if that block is clear, on the table, and the hand is empty. Picking up the block leads to the block being held. Putting down the block can only be executed if the block is being held. Putting down the block causes the block to be on the table. A block can be stacked on the second block if it is being held and the second block is clear. By stacking the first block on the second, it causes the first block to be on top of the second block. The block can also be unstacked from the top of the second block only if the hand is empty and the first block is clear and on top of the second block. Unstacking the first block from the second causes first block to be held A block is said to be clear if it is not being held and there are no blocks that are on top of it. The hand is said to be empty if and only if it is not holding any block. The block can only be at one place at a time.\n",
      "\n",
      "\n",
      "\n",
      "\n",
      "depots\n",
      "A surface can be a pallet or a crate. A truck can be driven from one location to another only if it is present at the first location. Driving the truck makes the truck to be present at the final destination. A hoist can lift a crate from a surface only when the hoist and the crate are present in the same location, the hoist is available, the crate is present on the surface, and the crate is clear.Lifting causes the hoist to lift the crate. Dropping the crate is possible only if the hoist, crate, and surface are present in the same location, the hoist is lifting the crate, and the surface is clear. Dropping the crate causes it to be on top of the surface and be present at the location where it was dropped. It also causes the hoist to not lift the crate. Loading the crate on a truck can be executed only when the crate and truck are present in the same location and the hoist is lifting the crate. Loading the crate onto the truck causes the hoist to be not lifting the crate, and the crate to be in the truck. Unloading the crate from the truck can be done only if the hoist and truck are in the same place, the hoist is available, and the crate is present in the truck. Unloading the crate from the truck causes the crate to be not in the truck, and the hoist to be lifting the crate. A hoist is available if and only if it does not lift anything (any crate). A surface  is clear if and only if no crates are on top of that surface. A crate is clear if and only if no hoist is lifting that crate. A truck can be only at one location. A crate can only be at one location. A crate can only be on top of one surface. \n",
      "\n",
      "\n",
      "\n",
      "\n",
      "driverlog\n",
      "To load an object onto a truck at a location, the truck and the object must be at the same location. Loading the object onto the truck causes the object to be inside the truck. To unload an object from a truck at a location, the truck must be at the same location and the object should be in the truck. Unloading the object from the truck causes the object to be at the specified location. To board a truck, the driver and the truck must be at the same location, and the truck must be empty. Boarding the truck causes the driver to be driving the truck. Disembarking from a truck is only possible when the driver is driving the truck and the truck is at the location. Disembarking from the truck causes the driver to be at the specified location. To drive a truck from one location to another, the truck must be at the initial location, the driver must be driving the truck, and there must be a link between the initial and final locations. Driving the truck causes it to be at the final location. To walk from one location to another, the driver must be at the initial location, and there must be a path between the initial and final locations. Walking from inital location to final location, causes the driver to be at the final location. A truck is empty if and only if it is not driven by anyone (any driver). A driver is driving the truck if and only if the driver is not at a location An object can only be at one location. A driver can only be at one location.\n",
      "\n",
      "\n",
      "\n",
      "\n",
      "goldminer\n",
      "A robot can move from one location to another if it is currently at the starting location, the locations are connected, and the destination is clear. Moving causes the robot to be at the new location. The robot can pick up a laser at a specific location only if it is at that location, the laser is present at that location, and the robot's arm is empty. Picking up the laser results in the robot holding the laser. Similarly, the robot can pick up a bomb at a particular location if it is at that location, the bomb is present at that location, and the robot's arm is empty. Picking up the bomb results in the robot holding the bomb. The robot can put down a laser at a specific location if it is at that location and currently holds the laser. Putting down the laser results in the laser being at that location. A robot that is present at one location, can detonate the bomb at another location only if the robot is holding a bomb, the locations are connected and there is a soft rock at the second location. Detonating the bomb results in the robot not holding the bomb anymore and the soft rock being destroyed. Firing a laser from one location to another is executable only if the robot is at the starting location, holds a laser, and the locations are connected. Firing the laser results in the destination having no soft rocks, no gold, and no hard rocks. Finally, the robot can pick up gold at a specific location if it is at that location, the robot's arm is empty, and there is gold at that location. Picking up gold results in the robot holding the gold. A robot cannot be in two places at once. The arm is said to be empty if and only if it is not holding a laser and not holding a bomb and not holding gold. The place is clear if and only if it does not contain any soft rock, gold, or hard rock. The robot is holding a laser if and only if the laser is not at a location. \n",
      "\n",
      "\n",
      "\n",
      "\n",
      "grippers\n",
      "A robot can move from a specified room if it is in that room. Moving the robot causes  it to be in the destination room. A robot can pick up the object using a gripper only when the object and the robot are in the same room and the mentioned gripper is free. Picking up the object causes the robot to carry the object via its gripper. Dropping the object in a specified room is executable if and only if the robot is carrying the object using its gripper, and the robot is in the room. Dropping the object causes the robot to not carry the object. A robot's gripper is said to be free if the robot is not carrying any of the objects with a gripper. If the robot is carrying the object then the object is not in the room. If the robot is not carrying the object then the object a in the room. Robot can only be at one place. \n",
      "\n",
      "\n",
      "\n",
      "\n",
      "logistics\n",
      "Loading a package onto a truck is only possible if both the package and the truck are in the same location. Loading the package onto the truck causes the package to be in the truck. Loading a package onto an airplane is possible if and only if both the package and the airplane are in the same location. Loading the package onto the airplane causes the package to be in the airplane. Unloading from a truck is executable if the truck is in a location and the package is in the truck. Unloading the package from the truck causes the package to be present in that location. Unloading a package from an airplane is possible only when the package is in the airplane and the plane is in the location. Unloading from the airplane makes the package present in that location. Driving a truck is possible only when the truck is in a location where the source and destination are in the same city. Driving the truck causes it to be at the destination. Flying an airplane is possible if and only if the airplane is at a location. Flying the airplane causes it to be at the destination location. If a package is in a truck or a plane, it is not at any location. If a package is not in a truck or an airplane then it is at some location. A truck can only be at one location at a time. A plane can only be in one location at a time.\n",
      "\n",
      "\n",
      "\n",
      "\n",
      "miconic\n",
      "A passenger can board the lift on a floor only if the lift is on that floor and the passenger's travel originates from that floor. Boarding the lift causes the passenger to be boarded. Departing from the lift is executable only when the lift is on the floor, the passenger is boarded, and the passenger's destination is on that floor. Departing from the lift causes the passenger to be served. A lift can go up from one floor to another if and only if it is currently on the floor and the destination floor is above the source floor. Going up makes the lift on the destination floor. A lift can go down from one floor to another if and only if it is currently on a floor and the source floor is above the destination floor. Going down makes the lift on the destination floor. A lift can only be on one floor at a time. If the passenger is served, then the passenger is not boarded.\n",
      "\n",
      "\n",
      "\n",
      "\n",
      "mystery\n",
      "Moving a vehicle from source location to destination location is executable if the vehicle is at source location, there is a connection between the source location and destination location, and the location's fuel level has some neighboring level. Moving a vehicle from source location to destination location causes the vehicle to be present at the destination location and decreases the location's fuel level to its next level. A cargo can be loaded onto a vehicle if the cargo and the vehicle are at the same location and the vehicle has some space. When a cargo is loaded into the vehicle, it is in the vehicle. It also decreases the vehicle's space to its next level. A cargo can be unloaded from a vehicle if the cargo is in the vehicle. When a cargo is unloaded from the vehicle, it is at the same location as that of the vehicle. It also increases the vehicle's space to its next higher level. Vehicle can only be at one location at a time. Cargo can only be at one place at a time. The location's fuel level is unique. The vehicle's amount of space is unique. \n",
      "\n",
      "\n",
      "\n",
      "\n",
      "npuzzle\n",
      "Moving a tile from source position to destination position is executable if source position and destination positions are neighbors i.e next to each other, destination position is empty and initially the tile is at source position. A position is not empty if the tile is at that position. A tile cannot be on multiple positions at the same time.\n",
      "\n",
      "\n",
      "\n",
      "\n",
      "satellite\n",
      "Turning a satellite to the intended direction from the source direction is executable if the satellite is facing to the source direction initially. Turning a satellite to the intended direction from the source direction causes the satellite to point to the intended direction. The satellite cannot point to two different directions simultaneously. Switching on the instrument on a satellite is executable if the instrument is onboard with the satellite and power is available on the satellite. Switching on the instrument on a satellite causes the instrument to be powered on but not calibrated. If the instrument is powered on then the satellite does not have power. Switching off the instrument on a satellite is executable if the instrument is onboard with the satellite and the instrument is powered on. Switching off the instrument on the satellite causes the instrument to be powered off. If the instrument is not powered on then power is available on the satellite. Calibrating the instrument on the satellite to the intended direction is executable if the instrument is onboard with the satellite, calibration target of the instrument is set to the intended direction, the satellite is pointing to the intended direction and the instrument is powered on. Calibrating the instrument on the satellite to the intended direction causes the instrument to be calibrated. Taking an image on the satellite with the instrument set to a mode which is facing to the intended direction is executable if the instrument is calibrated, instrument is onboard with the satellite, the instrument supports the mode to which it is set to, the instrument is powered on and the satellite is pointing to the intended direction. Taking an image on the satellite with the instrument set to a mode facing to the intended direction causes it to capture an image of the intended direction with the mode with which the instrument was set to. \n",
      "\n",
      "\n",
      "\n",
      "\n",
      "spanner\n",
      "Walking from start location to destination location is executable if the man is at the start location initially and there is a link between start and the destination location. Walking from start location to destination location causes the man to be at the destination location after the walk action from start location to destination location is executed. Picking up a spanner from start location is executable if the man is at start location and spanner is at start location. Picking up a spanner from the start location causes the man to carry the spanner. Tightening the nut at start location with a spanner is executable if the man is at start location, nut is at the start location, the man is carrying the spanner, the spanner is usable and the nut is loose. Tightening the nut at start location with a spanner causes the nut to be tightened. A man cannot be at two different places at the same time. The spanner is not at a location if it is being hold by the man. The nut is not loose if and only if it is tightened. The spanner is not usable if and only if the nut is tightened. \n",
      "\n",
      "\n",
      "\n",
      "\n",
      "visitall\n",
      "A robot can only move from its current position to the next position if the robot is at its current position and the current position is connected to the next position. Moving from a current position to the next position causes the robot to be present at the next position. A robot cannot be at two places at the same time. A place is marked as visited if a robot has been at that place. \n",
      "\n",
      "\n",
      "\n",
      "\n",
      "zenotravel\n",
      "Boarding a person in a city is executable if the person and the aircraft are both present in the city. Boarding a person in the city causes the person to be in the aircraft. Debarking a person in a city is executable if the person is in the aircraft and the aircraft is present in the city. Debarking a person in the city causes the person to be present in the city. Flying an aircraft from a city to another city is executable if the aircraft is present in the city and has some initial fuel level that is more than the lowest possible fuel level.Flying the aircraft from a city to a destination city causes the aircraft to be present in the destination city..It also decreases the fuel level of the aircraft to the next level. Zooming the aircraft from a city to a destination city is executable if the aircraft is present in the city and has some initial fuel level that is at least two levels up compared to the lowest possible fuel level. It causes the aircraft to be present in the destination city.. It also decreases the fuel level of the aircraft two levels down. Refueling the aircraft in a city is executable if the aircraft is in the city. It changes the current fuel level to its next level. A person is not  present in a city if the person is in some aircraft. The aircraft cannot be in two different cities at the same time. An aircraft cannot have two different fuel levels. Person can only be at one place.\n",
      "\n",
      "\n",
      "\n"
     ]
    }
   ],
   "source": [
    "for domain in ALL_DOMAIN_CLASSES:\n",
    "    print(domain().DOMAIN_NAME)\n",
    "    print(domain().domain_description_ram)\n",
    "    print('\\n\\n\\n')"
   ],
   "metadata": {
    "collapsed": false,
    "ExecuteTime": {
     "end_time": "2024-02-15T20:49:56.368778Z",
     "start_time": "2024-02-15T20:49:56.360421Z"
    }
   },
   "id": "b3eae65eb4486350",
   "execution_count": 2
  },
  {
   "cell_type": "code",
   "outputs": [
    {
     "data": {
      "text/plain": "'Moving a vehicle from source location to destination location is executable if the vehicle is at source location, there is a connection between the source location and destination location, and the location’s fuel level has some neighboring level. Moving a vehicle from source location to destination location causes the vehicle to be present at the destination location and decreases the location’s fuel level to its next level. A cargo can be loaded onto a vehicle if the cargo and the vehicle are at the same location and the vehicle has some space. When a cargo is loaded into the vehicle, it is in the vehicle. It also decreases the vehicle’s space to its next level. A cargo can be unloaded from a vehicle if the cargo is in the vehicle. When a cargo is unloaded from the vehicle, it is at the same location as that of the vehicle. It also increases the vehicle’s space to its next higher level. Vehicle can only be at one location at a time. Cargo can only be at one place at a time. The location’s fuel level is unique. The vehicle’s amount of space is unique.'"
     },
     "execution_count": 8,
     "metadata": {},
     "output_type": "execute_result"
    }
   ],
   "source": [
    "\"Moving a vehicle from source location to destination location is executable if the vehicle is at source location, there is a connection between the source location and destination location, and the location\\u2019s fuel level has some neighboring level. Moving a vehicle from source location to destination location causes the vehicle to be present at the destination location and decreases the location\\u2019s fuel level to its next level. A cargo can be loaded onto a vehicle if the cargo and the vehicle are at the same location and the vehicle has some space. When a cargo is loaded into the vehicle, it is in the vehicle. It also decreases the vehicle\\u2019s space to its next level. A cargo can be unloaded from a vehicle if the cargo is in the vehicle. When a cargo is unloaded from the vehicle, it is at the same location as that of the vehicle. It also increases the vehicle\\u2019s space to its next higher level. Vehicle can only be at one location at a time. Cargo can only be at one place at a time. The location\\u2019s fuel level is unique. The vehicle\\u2019s amount of space is unique.\""
   ],
   "metadata": {
    "collapsed": false,
    "ExecuteTime": {
     "end_time": "2024-02-15T20:47:04.850837Z",
     "start_time": "2024-02-15T20:47:04.842539Z"
    }
   },
   "id": "27d5a5955203c708",
   "execution_count": 8
  },
  {
   "cell_type": "code",
   "outputs": [],
   "source": [],
   "metadata": {
    "collapsed": false
   },
   "id": "2c2c61ca1b70ec8c"
  }
 ],
 "metadata": {
  "kernelspec": {
   "display_name": "Python 3",
   "language": "python",
   "name": "python3"
  },
  "language_info": {
   "codemirror_mode": {
    "name": "ipython",
    "version": 2
   },
   "file_extension": ".py",
   "mimetype": "text/x-python",
   "name": "python",
   "nbconvert_exporter": "python",
   "pygments_lexer": "ipython2",
   "version": "2.7.6"
  }
 },
 "nbformat": 4,
 "nbformat_minor": 5
}
