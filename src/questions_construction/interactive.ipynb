{
 "cells": [
  {
   "cell_type": "code",
   "execution_count": 6,
   "metadata": {
    "ExecuteTime": {
     "end_time": "2024-02-06T01:27:45.040519Z",
     "start_time": "2024-02-06T01:27:44.954490Z"
    }
   },
   "outputs": [
    {
     "ename": "ImportError",
     "evalue": "attempted relative import with no known parent package",
     "output_type": "error",
     "traceback": [
      "\u001b[1;31m---------------------------------------------------------------------------\u001b[0m",
      "\u001b[1;31mImportError\u001b[0m                               Traceback (most recent call last)",
      "Cell \u001b[1;32mIn[6], line 5\u001b[0m\n\u001b[0;32m      2\u001b[0m \u001b[38;5;28;01mimport\u001b[39;00m \u001b[38;5;21;01mos\u001b[39;00m\n\u001b[0;32m      3\u001b[0m sys\u001b[38;5;241m.\u001b[39mpath\u001b[38;5;241m.\u001b[39mappend(os\u001b[38;5;241m.\u001b[39mpath\u001b[38;5;241m.\u001b[39mdirname(os\u001b[38;5;241m.\u001b[39mpath\u001b[38;5;241m.\u001b[39mrealpath(\u001b[38;5;124m'\u001b[39m\u001b[38;5;124m__file__\u001b[39m\u001b[38;5;124m'\u001b[39m)))\n\u001b[1;32m----> 5\u001b[0m \u001b[38;5;28;01mfrom\u001b[39;00m \u001b[38;5;21;01m.\u001b[39;00m\u001b[38;5;21;01m.\u001b[39;00m\u001b[38;5;21;01mcommon\u001b[39;00m \u001b[38;5;28;01mimport\u001b[39;00m \u001b[38;5;241m*\u001b[39m\n\u001b[0;32m      6\u001b[0m \u001b[38;5;28;01mfrom\u001b[39;00m \u001b[38;5;21;01mmain\u001b[39;00m \u001b[38;5;28;01mimport\u001b[39;00m \u001b[38;5;241m*\u001b[39m\n\u001b[0;32m      7\u001b[0m jsonl_instance \u001b[38;5;241m=\u001b[39m \u001b[38;5;124m'\u001b[39m\u001b[38;5;124mC:/Users/shri1/reasoning_about_actions/src/tests/data20.jsonl\u001b[39m\u001b[38;5;124m'\u001b[39m\n",
      "\u001b[1;31mImportError\u001b[0m: attempted relative import with no known parent package"
     ]
    }
   ],
   "source": [
    "import sys\n",
    "import os\n",
    "sys.path.append(os.path.dirname(os.path.realpath('__file__')))\n",
    "\n",
    "from ..common import *\n",
    "from main import *\n",
    "jsonl_instance = 'C:/Users/shri1/reasoning_about_actions/src/tests/data20.jsonl'\n",
    "with open(jsonl_instance, 'r') as f:\n",
    "    data = f.readlines()\n",
    "jsonl_instance = [json.loads(x) for x in data]\n",
    "domain_class = Blocksworld()"
   ]
  },
  {
   "cell_type": "code",
   "execution_count": 2,
   "metadata": {},
   "outputs": [
    {
     "data": {
      "text/plain": [
       "{'id': UUID('68e0323a-1a13-466d-a9fb-83277b897646'),\n",
       " 'domain_name': 'blocksworld',\n",
       " 'instance_id': 1,\n",
       " 'action_sequence': ['action_unstack(b4,b3)',\n",
       "  'action_put_down(b4)',\n",
       "  'action_unstack(b3,b2)',\n",
       "  'action_put_down(b3)',\n",
       "  'action_unstack(b7,b6)',\n",
       "  'action_stack(b7,b3)',\n",
       "  'action_pick_up(b2)',\n",
       "  'action_stack(b2,b6)',\n",
       "  'action_unstack(b1,b8)',\n",
       "  'action_stack(b1,b2)',\n",
       "  'action_pick_up(b4)',\n",
       "  'action_stack(b4,b1)',\n",
       "  'action_unstack(b7,b3)',\n",
       "  'action_stack(b7,b4)',\n",
       "  'action_pick_up(b3)',\n",
       "  'action_stack(b3,b7)',\n",
       "  'action_unstack(b8,b5)',\n",
       "  'action_stack(b8,b3)',\n",
       "  'action_pick_up(b5)',\n",
       "  'action_stack(b5,b8)'],\n",
       " 'question_type': 'Looping',\n",
       " 'question': 'I plan to perform the following sequence of actions: unstack(b1,b8) stack(b1,b8), unstack(b1,b8) stack(b1,b8), unstack(b1,b8) stack(b1,b8), unstack(b1,b8) stack(b1,b8), . Will the block b1 be on top of blockb8?',\n",
       " 'anwswer_type': 'true_false_answer',\n",
       " 'answer': True}"
      ]
     },
     "execution_count": 2,
     "metadata": {},
     "output_type": "execute_result"
    }
   ],
   "source": [
    "LoopingQuestions(jsonl_instance, domain_class,1).question_1(5)"
   ]
  },
  {
   "cell_type": "code",
   "execution_count": 6,
   "metadata": {},
   "outputs": [
    {
     "name": "stdout",
     "output_type": "stream",
     "text": [
      "inexecutable_action----> ['action_unstack(b4,b3)', 'action_put_down(b4)', 'action_unstack(b3,b2)', 'action_unstack(b8,b3)', 'action_unstack(b7,b3)']\n"
     ]
    },
    {
     "data": {
      "text/plain": [
       "{'id': UUID('e859e515-8511-4d40-ab4c-29d79f388de8'),\n",
       " 'domain_name': 'blocksworld',\n",
       " 'instance_id': 1,\n",
       " 'action_sequence': ['action_unstack(b4,b3)',\n",
       "  'action_put_down(b4)',\n",
       "  'action_unstack(b3,b2)',\n",
       "  'action_put_down(b3)',\n",
       "  'action_unstack(b7,b6)',\n",
       "  'action_stack(b7,b3)',\n",
       "  'action_pick_up(b2)',\n",
       "  'action_stack(b2,b6)',\n",
       "  'action_unstack(b1,b8)',\n",
       "  'action_stack(b1,b2)',\n",
       "  'action_pick_up(b4)',\n",
       "  'action_stack(b4,b1)',\n",
       "  'action_unstack(b7,b3)',\n",
       "  'action_stack(b7,b4)',\n",
       "  'action_pick_up(b3)',\n",
       "  'action_stack(b3,b7)',\n",
       "  'action_unstack(b8,b5)',\n",
       "  'action_stack(b8,b3)',\n",
       "  'action_pick_up(b5)',\n",
       "  'action_stack(b5,b8)'],\n",
       " 'question_type': 'NumericalReasoning',\n",
       " 'question': \"I plan to perform the following sequence of actions: ['action_unstack(b4,b3)', 'action_put_down(b4)', 'action_unstack(b3,b2)', 'action_unstack(b8,b3)', 'action_unstack(b7,b3)'] to reach the current state. How many actions are there before the first inexecutable action?\",\n",
       " 'anwswer_type': 'free_answer',\n",
       " 'answer': 3}"
      ]
     },
     "execution_count": 6,
     "metadata": {},
     "output_type": "execute_result"
    }
   ],
   "source": [
    "# NumericalReasoningQuestions(jsonl_instance,domain_class,1).question_2(2)\n",
    "# NumericalReasoningQuestions(jsonl_instance,domain_class,1).question_3(2)\n",
    "# NumericalReasoningQuestions(jsonl_instance,domain_class,1).question_4(2)\n",
    "# NumericalReasoningQuestions(jsonl_instance,domain_class,1).question_5(2)\n",
    "# NumericalReasoningQuestions(jsonl_instance,domain_class,1).question_6(2)\n",
    "# NumericalReasoningQuestions(jsonl_instance,domain_class,1).question_7(2)\n",
    "# NumericalReasoningQuestions(jsonl_instance,domain_class,1).question_8(2)\n",
    "# NumericalReasoningQuestions(jsonl_instance,domain_class,1).question_9(2)\n",
    "# NumericalReasoningQuestions(jsonl_instance,domain_class,1).question_10(2)\n",
    "# NumericalReasoningQuestions(jsonl_instance,domain_class,1).question_11(2)\n",
    "# NumericalReasoningQuestions(jsonl_instance,domain_class,1).question_12(2)\n",
    "NumericalReasoningQuestions(jsonl_instance,domain_class,1).question_13(5)\n",
    "\n"
   ]
  },
  {
   "cell_type": "code",
   "execution_count": 7,
   "metadata": {},
   "outputs": [
    {
     "data": {
      "text/plain": [
       "'unstack() stack()unstack() stack()unstack() stack()'"
      ]
     },
     "execution_count": 7,
     "metadata": {},
     "output_type": "execute_result"
    }
   ],
   "source": [
    "3*f\"unstack() stack()\""
   ]
  },
  {
   "cell_type": "code",
   "execution_count": 22,
   "metadata": {},
   "outputs": [
    {
     "data": {
      "text/plain": [
       "(['on(b8, b5)', 'on(b3, b2)', 'on(b1, b8)', 'on(b4, b3)', 'on(b7, b6)'],\n",
       " ['b7', 'b1', 'b4'])"
      ]
     },
     "execution_count": 22,
     "metadata": {},
     "output_type": "execute_result"
    }
   ],
   "source": [
    "predicates = [\n",
    "    \"ontable(b5)\", \"on(b8, b5)\", \"on(b3, b2)\", \"on(b1, b8)\", \"handempty\", \n",
    "    \"clear(b7)\", \"ontable(b2)\", \"on(b4, b3)\", \"clear(b1)\", \"on(b7, b6)\", \n",
    "    \"clear(b4)\", \"ontable(b6)\"\n",
    "]\n",
    "\n",
    "def extract_multi_variable(obj):\n",
    "    match = re.search(r'\\((.*?)\\)', obj)\n",
    "    return match.group(1).split(',')\n",
    "ontable_list = [x for x in predicates if \"on(\" in x]\n",
    "clear_list = [re.findall(r'\\((.*?)\\)',x)[0] for x in predicates if \"clear\" in x]\n",
    "l = []\n",
    "for x in clear_list:\n",
    "    for y in ontable_list:\n",
    "        if x in y:\n",
    "            l.append(y) \n",
    "# on_and_clear = list(set(ontable_list)&set(clear_list))\n",
    "# on_and_clear\n",
    "ontable_list,clear_list"
   ]
  },
  {
   "cell_type": "code",
   "execution_count": 23,
   "metadata": {},
   "outputs": [
    {
     "data": {
      "text/plain": [
       "['on(b7, b6)', 'on(b1, b8)', 'on(b4, b3)']"
      ]
     },
     "execution_count": 23,
     "metadata": {},
     "output_type": "execute_result"
    }
   ],
   "source": [
    "l"
   ]
  }
 ],
 "metadata": {
  "kernelspec": {
   "display_name": "base",
   "language": "python",
   "name": "python3"
  },
  "language_info": {
   "codemirror_mode": {
    "name": "ipython",
    "version": 3
   },
   "file_extension": ".py",
   "mimetype": "text/x-python",
   "name": "python",
   "nbconvert_exporter": "python",
   "pygments_lexer": "ipython3",
   "version": "3.9.18"
  }
 },
 "nbformat": 4,
 "nbformat_minor": 2
}
