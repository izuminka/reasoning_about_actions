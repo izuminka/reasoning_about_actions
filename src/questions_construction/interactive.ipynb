{
 "cells": [
  {
   "cell_type": "code",
   "execution_count": 31,
   "metadata": {
    "ExecuteTime": {
     "end_time": "2024-02-11T00:11:38.471680Z",
     "start_time": "2024-02-11T00:11:38.456066Z"
    }
   },
   "outputs": [],
   "source": [
    "from src.common import *\n",
    "from domains import *\n",
    "\n",
    "multiplicity = 1\n",
    "\n",
    "\n",
    "instance_name = 'Instance_6'\n",
    "\n",
    "domain_name = 'blocksworld'\n",
    "jsonl_instance = open_jsonl(STATES_ACTIONS_PATH+f'/{domain_name}/{instance_name}.jsonl')\n",
    "domain_class = Blocksworld()\n",
    "questions = []"
   ]
  },
  {
   "cell_type": "code",
   "outputs": [
    {
     "data": {
      "text/plain": "20"
     },
     "execution_count": 32,
     "metadata": {},
     "output_type": "execute_result"
    }
   ],
   "source": [
    "# multiplicity = 2 # fails for more than 2\n",
    "qa_constructor = ObjectTrackingQuestions(jsonl_instance, domain_class, instance_name)\n",
    "questions += qa_constructor.create_questions(multiplicity=multiplicity)\n",
    "len(questions)"
   ],
   "metadata": {
    "collapsed": false,
    "ExecuteTime": {
     "end_time": "2024-02-11T00:11:38.681251Z",
     "start_time": "2024-02-11T00:11:38.666576Z"
    }
   },
   "execution_count": 32
  },
  {
   "cell_type": "code",
   "outputs": [
    {
     "data": {
      "text/plain": "50"
     },
     "execution_count": 33,
     "metadata": {},
     "output_type": "execute_result"
    }
   ],
   "source": [
    "qa_constructor = FluentTrackingQuestions(jsonl_instance, domain_class, instance_name)\n",
    "questions += qa_constructor.create_questions(multiplicity=multiplicity)\n",
    "len(questions)"
   ],
   "metadata": {
    "collapsed": false,
    "ExecuteTime": {
     "end_time": "2024-02-11T00:11:38.857884Z",
     "start_time": "2024-02-11T00:11:38.848498Z"
    }
   },
   "execution_count": 33
  },
  {
   "cell_type": "code",
   "outputs": [
    {
     "data": {
      "text/plain": "70"
     },
     "execution_count": 34,
     "metadata": {},
     "output_type": "execute_result"
    }
   ],
   "source": [
    "qa_constructor = StateTrackingQuestions(jsonl_instance, domain_class, instance_name)\n",
    "questions += qa_constructor.create_questions(multiplicity=multiplicity)\n",
    "len(questions)"
   ],
   "metadata": {
    "collapsed": false,
    "ExecuteTime": {
     "end_time": "2024-02-11T00:11:39.048334Z",
     "start_time": "2024-02-11T00:11:39.038023Z"
    }
   },
   "execution_count": 34
  },
  {
   "cell_type": "code",
   "outputs": [
    {
     "data": {
      "text/plain": "90"
     },
     "execution_count": 35,
     "metadata": {},
     "output_type": "execute_result"
    }
   ],
   "source": [
    "qa_constructor = EffectsQuestions(jsonl_instance, domain_class, instance_name)\n",
    "questions += qa_constructor.create_questions(multiplicity=multiplicity)\n",
    "len(questions)"
   ],
   "metadata": {
    "collapsed": false,
    "ExecuteTime": {
     "end_time": "2024-02-11T00:11:39.246195Z",
     "start_time": "2024-02-11T00:11:39.235456Z"
    }
   },
   "execution_count": 35
  },
  {
   "cell_type": "code",
   "outputs": [],
   "source": [
    "save_dir = QUESTIONS_PATH+f'/{domain_name}'\n",
    "if not os.path.exists(save_dir):\n",
    "    os.makedirs(save_dir)\n",
    "save_jsonl(questions, f'{save_dir}/{instance_name}.jsonl')"
   ],
   "metadata": {
    "collapsed": false,
    "ExecuteTime": {
     "end_time": "2024-02-11T00:11:39.430883Z",
     "start_time": "2024-02-11T00:11:39.419782Z"
    }
   },
   "execution_count": 36
  },
  {
   "cell_type": "code",
   "outputs": [],
   "source": [],
   "metadata": {
    "collapsed": false
   }
  }
 ],
 "metadata": {
  "kernelspec": {
   "display_name": "base",
   "language": "python",
   "name": "python3"
  },
  "language_info": {
   "codemirror_mode": {
    "name": "ipython",
    "version": 3
   },
   "file_extension": ".py",
   "mimetype": "text/x-python",
   "name": "python",
   "nbconvert_exporter": "python",
   "pygments_lexer": "ipython3",
   "version": "3.9.18"
  }
 },
 "nbformat": 4,
 "nbformat_minor": 2
}
