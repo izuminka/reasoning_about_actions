{
 "cells": [
  {
   "cell_type": "code",
   "execution_count": 3,
   "metadata": {
    "ExecuteTime": {
     "end_time": "2024-02-11T01:18:58.814804Z",
     "start_time": "2024-02-11T01:18:58.699742Z"
    }
   },
   "outputs": [],
   "source": [
    "from src.common import *\n",
    "from domains import *\n",
    "\n",
    "\n",
    "multiplicity = 3\n",
    "\n",
    "instance_name = 'Instance_6'\n",
    "\n",
    "domain_name = 'blocksworld'\n",
    "jsonl_instance = open_jsonl(STATES_ACTIONS_PATH+f'/{domain_name}/{instance_name}.jsonl')\n",
    "domain_class = Blocksworld()\n",
    "questions = []"
   ]
  },
  {
   "cell_type": "code",
   "outputs": [
    {
     "name": "stderr",
     "output_type": "stream",
     "text": [
      "/Users/paveldolin/dev/research/current/reasoning_about_actions/pipeline/src/questions_construction/main.py:244: UserWarning: Timeout!!! <bound method ObjectTrackingQuestions.question_3 of <src.questions_construction.main.ObjectTrackingQuestions object at 0x7f7a957402e0>> \n",
      ". plan_length: 10 \n",
      " len(results): 2, \n",
      " multiplicity: 3 \n",
      "  warnings.warn(warn_str)\n",
      "/Users/paveldolin/dev/research/current/reasoning_about_actions/pipeline/src/questions_construction/main.py:244: UserWarning: Timeout!!! <bound method ObjectTrackingQuestions.question_3 of <src.questions_construction.main.ObjectTrackingQuestions object at 0x7f7a957402e0>> \n",
      ". plan_length: 20 \n",
      " len(results): 2, \n",
      " multiplicity: 3 \n",
      "  warnings.warn(warn_str)\n",
      "/Users/paveldolin/dev/research/current/reasoning_about_actions/pipeline/src/questions_construction/main.py:244: UserWarning: Timeout!!! <bound method StateTrackingQuestions.question_3 of <src.questions_construction.main.StateTrackingQuestions object at 0x7f7a954043d0>> \n",
      ". plan_length: 1 \n",
      " len(results): 1, \n",
      " multiplicity: 3 \n",
      "  warnings.warn(warn_str)\n",
      "/Users/paveldolin/dev/research/current/reasoning_about_actions/pipeline/src/questions_construction/main.py:244: UserWarning: Timeout!!! <bound method StateTrackingQuestions.question_4 of <src.questions_construction.main.StateTrackingQuestions object at 0x7f7a954043d0>> \n",
      ". plan_length: 1 \n",
      " len(results): 1, \n",
      " multiplicity: 3 \n",
      "  warnings.warn(warn_str)\n",
      "/Users/paveldolin/dev/research/current/reasoning_about_actions/pipeline/src/questions_construction/main.py:244: UserWarning: Timeout!!! <bound method StateTrackingQuestions.question_3 of <src.questions_construction.main.StateTrackingQuestions object at 0x7f7a954043d0>> \n",
      ". plan_length: 5 \n",
      " len(results): 1, \n",
      " multiplicity: 3 \n",
      "  warnings.warn(warn_str)\n",
      "/Users/paveldolin/dev/research/current/reasoning_about_actions/pipeline/src/questions_construction/main.py:244: UserWarning: Timeout!!! <bound method StateTrackingQuestions.question_4 of <src.questions_construction.main.StateTrackingQuestions object at 0x7f7a954043d0>> \n",
      ". plan_length: 5 \n",
      " len(results): 1, \n",
      " multiplicity: 3 \n",
      "  warnings.warn(warn_str)\n",
      "/Users/paveldolin/dev/research/current/reasoning_about_actions/pipeline/src/questions_construction/main.py:244: UserWarning: Timeout!!! <bound method StateTrackingQuestions.question_3 of <src.questions_construction.main.StateTrackingQuestions object at 0x7f7a954043d0>> \n",
      ". plan_length: 10 \n",
      " len(results): 1, \n",
      " multiplicity: 3 \n",
      "  warnings.warn(warn_str)\n",
      "/Users/paveldolin/dev/research/current/reasoning_about_actions/pipeline/src/questions_construction/main.py:244: UserWarning: Timeout!!! <bound method StateTrackingQuestions.question_4 of <src.questions_construction.main.StateTrackingQuestions object at 0x7f7a954043d0>> \n",
      ". plan_length: 10 \n",
      " len(results): 1, \n",
      " multiplicity: 3 \n",
      "  warnings.warn(warn_str)\n",
      "/Users/paveldolin/dev/research/current/reasoning_about_actions/pipeline/src/questions_construction/main.py:244: UserWarning: Timeout!!! <bound method StateTrackingQuestions.question_3 of <src.questions_construction.main.StateTrackingQuestions object at 0x7f7a954043d0>> \n",
      ". plan_length: 15 \n",
      " len(results): 1, \n",
      " multiplicity: 3 \n",
      "  warnings.warn(warn_str)\n",
      "/Users/paveldolin/dev/research/current/reasoning_about_actions/pipeline/src/questions_construction/main.py:244: UserWarning: Timeout!!! <bound method StateTrackingQuestions.question_4 of <src.questions_construction.main.StateTrackingQuestions object at 0x7f7a954043d0>> \n",
      ". plan_length: 15 \n",
      " len(results): 1, \n",
      " multiplicity: 3 \n",
      "  warnings.warn(warn_str)\n",
      "/Users/paveldolin/dev/research/current/reasoning_about_actions/pipeline/src/questions_construction/main.py:244: UserWarning: Timeout!!! <bound method StateTrackingQuestions.question_3 of <src.questions_construction.main.StateTrackingQuestions object at 0x7f7a954043d0>> \n",
      ". plan_length: 20 \n",
      " len(results): 1, \n",
      " multiplicity: 3 \n",
      "  warnings.warn(warn_str)\n",
      "/Users/paveldolin/dev/research/current/reasoning_about_actions/pipeline/src/questions_construction/main.py:244: UserWarning: Timeout!!! <bound method StateTrackingQuestions.question_4 of <src.questions_construction.main.StateTrackingQuestions object at 0x7f7a954043d0>> \n",
      ". plan_length: 20 \n",
      " len(results): 1, \n",
      " multiplicity: 3 \n",
      "  warnings.warn(warn_str)\n",
      "/Users/paveldolin/dev/research/current/reasoning_about_actions/pipeline/src/questions_construction/main.py:244: UserWarning: Timeout!!! <bound method EffectsQuestions.question_3 of <src.questions_construction.main.EffectsQuestions object at 0x7f7a95386850>> \n",
      ". plan_length: 1 \n",
      " len(results): 1, \n",
      " multiplicity: 3 \n",
      "  warnings.warn(warn_str)\n",
      "/Users/paveldolin/dev/research/current/reasoning_about_actions/pipeline/src/questions_construction/main.py:244: UserWarning: Timeout!!! <bound method EffectsQuestions.question_4 of <src.questions_construction.main.EffectsQuestions object at 0x7f7a95386850>> \n",
      ". plan_length: 1 \n",
      " len(results): 1, \n",
      " multiplicity: 3 \n",
      "  warnings.warn(warn_str)\n",
      "/Users/paveldolin/dev/research/current/reasoning_about_actions/pipeline/src/questions_construction/main.py:244: UserWarning: Timeout!!! <bound method EffectsQuestions.question_3 of <src.questions_construction.main.EffectsQuestions object at 0x7f7a95386850>> \n",
      ". plan_length: 5 \n",
      " len(results): 1, \n",
      " multiplicity: 3 \n",
      "  warnings.warn(warn_str)\n",
      "/Users/paveldolin/dev/research/current/reasoning_about_actions/pipeline/src/questions_construction/main.py:244: UserWarning: Timeout!!! <bound method EffectsQuestions.question_4 of <src.questions_construction.main.EffectsQuestions object at 0x7f7a95386850>> \n",
      ". plan_length: 5 \n",
      " len(results): 1, \n",
      " multiplicity: 3 \n",
      "  warnings.warn(warn_str)\n",
      "/Users/paveldolin/dev/research/current/reasoning_about_actions/pipeline/src/questions_construction/main.py:244: UserWarning: Timeout!!! <bound method EffectsQuestions.question_3 of <src.questions_construction.main.EffectsQuestions object at 0x7f7a95386850>> \n",
      ". plan_length: 10 \n",
      " len(results): 1, \n",
      " multiplicity: 3 \n",
      "  warnings.warn(warn_str)\n",
      "/Users/paveldolin/dev/research/current/reasoning_about_actions/pipeline/src/questions_construction/main.py:244: UserWarning: Timeout!!! <bound method EffectsQuestions.question_4 of <src.questions_construction.main.EffectsQuestions object at 0x7f7a95386850>> \n",
      ". plan_length: 10 \n",
      " len(results): 1, \n",
      " multiplicity: 3 \n",
      "  warnings.warn(warn_str)\n",
      "/Users/paveldolin/dev/research/current/reasoning_about_actions/pipeline/src/questions_construction/main.py:244: UserWarning: Timeout!!! <bound method EffectsQuestions.question_3 of <src.questions_construction.main.EffectsQuestions object at 0x7f7a95386850>> \n",
      ". plan_length: 15 \n",
      " len(results): 1, \n",
      " multiplicity: 3 \n",
      "  warnings.warn(warn_str)\n",
      "/Users/paveldolin/dev/research/current/reasoning_about_actions/pipeline/src/questions_construction/main.py:244: UserWarning: Timeout!!! <bound method EffectsQuestions.question_4 of <src.questions_construction.main.EffectsQuestions object at 0x7f7a95386850>> \n",
      ". plan_length: 15 \n",
      " len(results): 1, \n",
      " multiplicity: 3 \n",
      "  warnings.warn(warn_str)\n",
      "/Users/paveldolin/dev/research/current/reasoning_about_actions/pipeline/src/questions_construction/main.py:244: UserWarning: Timeout!!! <bound method EffectsQuestions.question_3 of <src.questions_construction.main.EffectsQuestions object at 0x7f7a95386850>> \n",
      ". plan_length: 20 \n",
      " len(results): 1, \n",
      " multiplicity: 3 \n",
      "  warnings.warn(warn_str)\n"
     ]
    },
    {
     "name": "stdout",
     "output_type": "stream",
     "text": [
      "58\n",
      "148\n",
      "188\n",
      "228\n"
     ]
    },
    {
     "name": "stderr",
     "output_type": "stream",
     "text": [
      "/Users/paveldolin/dev/research/current/reasoning_about_actions/pipeline/src/questions_construction/main.py:244: UserWarning: Timeout!!! <bound method EffectsQuestions.question_4 of <src.questions_construction.main.EffectsQuestions object at 0x7f7a95386850>> \n",
      ". plan_length: 20 \n",
      " len(results): 1, \n",
      " multiplicity: 3 \n",
      "  warnings.warn(warn_str)\n"
     ]
    }
   ],
   "source": [
    "# multiplicity = 2\n",
    "qa_constructor = ObjectTrackingQuestions(jsonl_instance, domain_class, instance_name)\n",
    "questions += qa_constructor.create_questions(multiplicity=multiplicity)\n",
    "print(len(questions))\n",
    "\n",
    "# multiplicity = 1\n",
    "qa_constructor = FluentTrackingQuestions(jsonl_instance, domain_class, instance_name)\n",
    "questions += qa_constructor.create_questions(multiplicity=multiplicity)\n",
    "print(len(questions))\n",
    "\n",
    "qa_constructor = StateTrackingQuestions(jsonl_instance, domain_class, instance_name)\n",
    "questions += qa_constructor.create_questions(multiplicity=multiplicity)\n",
    "print(len(questions))\n",
    "\n",
    "# multiplicity = 1\n",
    "qa_constructor = EffectsQuestions(jsonl_instance, domain_class, instance_name)\n",
    "questions += qa_constructor.create_questions(multiplicity=multiplicity)\n",
    "print(len(questions))\n"
   ],
   "metadata": {
    "collapsed": false,
    "ExecuteTime": {
     "end_time": "2024-02-11T01:18:59.288212Z",
     "start_time": "2024-02-11T01:18:59.063583Z"
    }
   },
   "execution_count": 4
  },
  {
   "cell_type": "code",
   "outputs": [],
   "source": [
    "save_dir = QUESTIONS_PATH+f'/{domain_name}'\n",
    "if not os.path.exists(save_dir):\n",
    "    os.makedirs(save_dir)\n",
    "save_jsonl(questions, f'{save_dir}/{instance_name}.jsonl')"
   ],
   "metadata": {
    "collapsed": false,
    "ExecuteTime": {
     "end_time": "2024-02-11T01:19:02.765638Z",
     "start_time": "2024-02-11T01:19:02.748038Z"
    }
   },
   "execution_count": 5
  },
  {
   "cell_type": "code",
   "outputs": [],
   "source": [],
   "metadata": {
    "collapsed": false
   }
  }
 ],
 "metadata": {
  "kernelspec": {
   "display_name": "base",
   "language": "python",
   "name": "python3"
  },
  "language_info": {
   "codemirror_mode": {
    "name": "ipython",
    "version": 3
   },
   "file_extension": ".py",
   "mimetype": "text/x-python",
   "name": "python",
   "nbconvert_exporter": "python",
   "pygments_lexer": "ipython3",
   "version": "3.9.18"
  }
 },
 "nbformat": 4,
 "nbformat_minor": 2
}
