{
 "cells": [
  {
   "cell_type": "code",
   "execution_count": 1,
   "metadata": {
    "ExecuteTime": {
     "end_time": "2024-02-06T01:27:45.040519Z",
     "start_time": "2024-02-06T01:27:44.954490Z"
    }
   },
   "outputs": [],
   "source": [
    "import sys\n",
    "import os\n",
    "from main import *\n",
    "from domains import *\n",
    "\n",
    "jsonl_instance = 'C:/Users/shri1/reasoning_about_actions/src/tests/data20.jsonl'\n",
    "with open(jsonl_instance, 'r') as f:\n",
    "    data = f.readlines()\n",
    "jsonl_instance = [json.loads(x) for x in data]\n",
    "domain_class = Blocksworld()"
   ]
  },
  {
   "cell_type": "code",
   "execution_count": 3,
   "metadata": {},
   "outputs": [
    {
     "name": "stdout",
     "output_type": "stream",
     "text": [
      "action_put_down(b4)\n"
     ]
    },
    {
     "data": {
      "text/plain": [
       "{'id': UUID('7a23fc6c-d5e4-43fc-8ffd-a7532310638e'),\n",
       " 'domain_name': 'blocksworld',\n",
       " 'instance_id': 1,\n",
       " 'action_sequence': ['action_unstack(b4,b3)',\n",
       "  'action_put_down(b4)',\n",
       "  'action_unstack(b3,b2)',\n",
       "  'action_put_down(b3)',\n",
       "  'action_unstack(b7,b6)',\n",
       "  'action_stack(b7,b3)',\n",
       "  'action_pick_up(b2)',\n",
       "  'action_stack(b2,b6)',\n",
       "  'action_unstack(b1,b8)',\n",
       "  'action_stack(b1,b2)',\n",
       "  'action_pick_up(b4)',\n",
       "  'action_stack(b4,b1)',\n",
       "  'action_unstack(b7,b3)',\n",
       "  'action_stack(b7,b4)',\n",
       "  'action_pick_up(b3)',\n",
       "  'action_stack(b3,b7)',\n",
       "  'action_unstack(b8,b5)',\n",
       "  'action_stack(b8,b3)',\n",
       "  'action_pick_up(b5)',\n",
       "  'action_stack(b5,b8)'],\n",
       " 'question_type': 'Looping',\n",
       " 'question': \"I plan to perform the following sequence of actions: unstack block b4 from block b3 then, put down block b4, to reach the current state. In the current state if I first ['pick_up(b4)', 'put_down(b4)'] for a total of 67 times, will the block b4 be on table? ?\",\n",
       " 'anwswer_type': 'true_false_answer',\n",
       " 'answer': False}"
      ]
     },
     "execution_count": 3,
     "metadata": {},
     "output_type": "execute_result"
    }
   ],
   "source": [
    "# LoopingQuestions(jsonl_instance, domain_class,1).question_1(5)\n",
    "# LoopingQuestions(jsonl_instance, domain_class,1).question_1(2)\n",
    "# LoopingQuestions(jsonl_instance, domain_class,1).question_3(2)\n",
    "LoopingQuestions(jsonl_instance, domain_class,1).question_4(2)"
   ]
  },
  {
   "cell_type": "code",
   "execution_count": 9,
   "metadata": {},
   "outputs": [
    {
     "name": "stdout",
     "output_type": "stream",
     "text": [
      "self.executable_actions[plan_length]----> ['action_unstack(b7,b6)', 'action_unstack(b1,b8)', 'action_pick_up(b4)', 'action_unstack(b3,b2)']\n"
     ]
    },
    {
     "data": {
      "text/plain": [
       "{'id': UUID('772b488e-7fff-490c-8f5a-103a3ac67952'),\n",
       " 'domain_name': 'blocksworld',\n",
       " 'instance_id': 1,\n",
       " 'action_sequence': ['action_unstack(b4,b3)',\n",
       "  'action_put_down(b4)',\n",
       "  'action_unstack(b3,b2)',\n",
       "  'action_put_down(b3)',\n",
       "  'action_unstack(b7,b6)',\n",
       "  'action_stack(b7,b3)',\n",
       "  'action_pick_up(b2)',\n",
       "  'action_stack(b2,b6)',\n",
       "  'action_unstack(b1,b8)',\n",
       "  'action_stack(b1,b2)',\n",
       "  'action_pick_up(b4)',\n",
       "  'action_stack(b4,b1)',\n",
       "  'action_unstack(b7,b3)',\n",
       "  'action_stack(b7,b4)',\n",
       "  'action_pick_up(b3)',\n",
       "  'action_stack(b3,b7)',\n",
       "  'action_unstack(b8,b5)',\n",
       "  'action_stack(b8,b3)',\n",
       "  'action_pick_up(b5)',\n",
       "  'action_stack(b5,b8)'],\n",
       " 'question_type': 'NumericalReasoning',\n",
       " 'question': 'I plan to perform the following sequence of actions: first unstack block b4 from block b3 then, put down block b4 to reach the current state. How many executable actions are there from the current state?',\n",
       " 'anwswer_type': 'free_answer',\n",
       " 'answer': 4}"
      ]
     },
     "execution_count": 9,
     "metadata": {},
     "output_type": "execute_result"
    }
   ],
   "source": [
    "# NumericalReasoningQuestions(jsonl_instance,domain_class,1).question_1(5)\n",
    "# NumericalReasoningQuestions(jsonl_instance,domain_class,1).question_3(5)\n",
    "# NumericalReasoningQuestions(jsonl_instance,domain_class,1).question_4(5)\n",
    "# NumericalReasoningQuestions(jsonl_instance,domain_class,1).question_5(5)\n",
    "# NumericalReasoningQuestions(jsonl_instance,domain_class,1).question_6(2)\n",
    "# NumericalReasoningQuestions(jsonl_instance,domain_class,1).question_7(2)\n",
    "# NumericalReasoningQuestions(jsonl_instance,domain_class,1).question_8(2)\n",
    "# NumericalReasoningQuestions(jsonl_instance,domain_class,1).question_9(2)\n",
    "NumericalReasoningQuestions(jsonl_instance,domain_class,1).question_10(2)\n",
    "# NumericalReasoningQuestions(jsonl_instance,domain_class,1).question_11(2)\n",
    "# NumericalReasoningQuestions(jsonl_instance,domain_class,1).question_12(2)\n",
    "# NumericalReasoningQuestions(jsonl_instance,domain_class,1).question_13(5)\n",
    "\n"
   ]
  },
  {
   "cell_type": "code",
   "execution_count": 7,
   "metadata": {},
   "outputs": [
    {
     "data": {
      "text/plain": [
       "'unstack() stack()unstack() stack()unstack() stack()'"
      ]
     },
     "execution_count": 7,
     "metadata": {},
     "output_type": "execute_result"
    }
   ],
   "source": [
    "3*f\"unstack() stack()\""
   ]
  },
  {
   "cell_type": "code",
   "execution_count": 22,
   "metadata": {},
   "outputs": [
    {
     "data": {
      "text/plain": [
       "(['on(b8, b5)', 'on(b3, b2)', 'on(b1, b8)', 'on(b4, b3)', 'on(b7, b6)'],\n",
       " ['b7', 'b1', 'b4'])"
      ]
     },
     "execution_count": 22,
     "metadata": {},
     "output_type": "execute_result"
    }
   ],
   "source": [
    "predicates = [\n",
    "    \"ontable(b5)\", \"on(b8, b5)\", \"on(b3, b2)\", \"on(b1, b8)\", \"handempty\", \n",
    "    \"clear(b7)\", \"ontable(b2)\", \"on(b4, b3)\", \"clear(b1)\", \"on(b7, b6)\", \n",
    "    \"clear(b4)\", \"ontable(b6)\"\n",
    "]\n",
    "\n",
    "def extract_multi_variable(obj):\n",
    "    match = re.search(r'\\((.*?)\\)', obj)\n",
    "    return match.group(1).split(',')\n",
    "ontable_list = [x for x in predicates if \"on(\" in x]\n",
    "clear_list = [re.findall(r'\\((.*?)\\)',x)[0] for x in predicates if \"clear\" in x]\n",
    "l = []\n",
    "for x in clear_list:\n",
    "    for y in ontable_list:\n",
    "        if x in y:\n",
    "            l.append(y) \n",
    "# on_and_clear = list(set(ontable_list)&set(clear_list))\n",
    "# on_and_clear\n",
    "ontable_list,clear_list"
   ]
  },
  {
   "cell_type": "code",
   "execution_count": 23,
   "metadata": {},
   "outputs": [
    {
     "data": {
      "text/plain": [
       "['on(b7, b6)', 'on(b1, b8)', 'on(b4, b3)']"
      ]
     },
     "execution_count": 23,
     "metadata": {},
     "output_type": "execute_result"
    }
   ],
   "source": [
    "l"
   ]
  }
 ],
 "metadata": {
  "kernelspec": {
   "display_name": "base",
   "language": "python",
   "name": "python3"
  },
  "language_info": {
   "codemirror_mode": {
    "name": "ipython",
    "version": 3
   },
   "file_extension": ".py",
   "mimetype": "text/x-python",
   "name": "python",
   "nbconvert_exporter": "python",
   "pygments_lexer": "ipython3",
   "version": "3.9.18"
  }
 },
 "nbformat": 4,
 "nbformat_minor": 2
}
