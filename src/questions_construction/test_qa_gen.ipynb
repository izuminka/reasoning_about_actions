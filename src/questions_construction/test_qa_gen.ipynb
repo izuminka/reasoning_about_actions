{
 "cells": [
  {
   "cell_type": "code",
   "execution_count": 1,
   "metadata": {},
   "outputs": [
    {
     "data": {
      "text/plain": [
       "[['ontable(b1)', 'clear(b2)', 'handempty', 'on(b2, b1)'],\n",
       " ['ontable(b1)', 'holding(b2)', 'clear(b1)'],\n",
       " ['ontable(b1)', 'clear(b2)', 'handempty', 'clear(b1)', 'ontable(b2)'],\n",
       " ['ontable(b2)', 'holding(b1)', 'clear(b2)'],\n",
       " ['on(b1,b2)', 'ontable(b2)', 'handempty', 'clear(b1)']]"
      ]
     },
     "execution_count": 1,
     "metadata": {},
     "output_type": "execute_result"
    }
   ],
   "source": [
    "from main import *\n",
    "from blocksworld import *\n",
    "import json\n",
    "bw = DomainQuestionGen(r'C:\\Users\\shri1\\rac\\reasoning_about_actions\\src\\questions_construction\\data.jsonl',1)\n",
    "bw.fluents_from_optimal_sequence"
   ]
  },
  {
   "cell_type": "code",
   "execution_count": 2,
   "metadata": {},
   "outputs": [
    {
     "name": "stdout",
     "output_type": "stream",
     "text": [
      "1 ['ontable(b1)', 'holding(b2)', 'clear(b1)']\n"
     ]
    },
    {
     "data": {
      "text/plain": [
       "{'id': UUID('42601f5e-dd49-46dc-beb0-3f4ebbaa897c'),\n",
       " 'domain_name': 'blocksworld',\n",
       " 'instance_id': 1,\n",
       " 'action_sequence': ['action_init',\n",
       "  'action_unstack(b2,b1)',\n",
       "  'action_put_down(b2)',\n",
       "  'action_pick_up(b1)',\n",
       "  'action_stack(b1,b2)'],\n",
       " 'question_type': 'composite_question_4',\n",
       " 'question': \"Given the initial state, I plan to execute the following sequence of actions: ['action_unstack(b2,b1)', 'action_rotate(b1, b2)', 'action_put_down(b2)', 'action_pick_up(b1)', 'action_stack(b1,b2)'], what will be the state before the first unknown action occurs?\",\n",
       " 'answer': ['ontable(b1)', 'holding(b2)', 'clear(b1)']}"
      ]
     },
     "execution_count": 2,
     "metadata": {},
     "output_type": "execute_result"
    }
   ],
   "source": [
    "question_gen = Blocksworld(r'C:\\Users\\shri1\\rac\\reasoning_about_actions\\src\\questions_construction\\data.jsonl',1)\n",
    "# question_gen.composite_question_3(5)\n",
    "question_gen.composite_question_4(5)\n"
   ]
  },
  {
   "cell_type": "code",
   "execution_count": 3,
   "metadata": {},
   "outputs": [
    {
     "name": "stdout",
     "output_type": "stream",
     "text": [
      "all true fluents returned\n"
     ]
    },
    {
     "data": {
      "text/plain": [
       "[{'id': UUID('d15bd8b8-f9f1-4eb8-ab7c-50fe815048b0'),\n",
       "  'domain_name': 'blocksworld',\n",
       "  'instance_id': 1,\n",
       "  'action_sequence': ['action_init',\n",
       "   'action_unstack(b2,b1)',\n",
       "   'action_put_down(b2)',\n",
       "   'action_pick_up(b1)',\n",
       "   'action_stack(b1,b2)'],\n",
       "  'question_type': 'sub_question_1',\n",
       "  'question': \"I plan to perform the following sequence of actions: ['action_unstack(b2,b1)', 'action_put_down(b2)', 'action_pick_up(b1)', 'action_stack(b1,b2)'], will block b1 be on block b2 after performing the sequence of actions?\",\n",
       "  'answer': True},\n",
       " {'id': UUID('ba16558c-2d37-4202-8940-6005bc24560d'),\n",
       "  'domain_name': 'blocksworld',\n",
       "  'instance_id': 1,\n",
       "  'action_sequence': ['action_init',\n",
       "   'action_unstack(b2,b1)',\n",
       "   'action_put_down(b2)',\n",
       "   'action_pick_up(b1)',\n",
       "   'action_stack(b1,b2)'],\n",
       "  'question_type': 'sub_question_1',\n",
       "  'question': \"I plan to perform the following sequence of actions: ['action_unstack(b2,b1)', 'action_put_down(b2)', 'action_pick_up(b1)', 'action_stack(b1,b2)'], will block b2 be on the table after I perform the sequence of actions?\",\n",
       "  'answer': True},\n",
       " {'id': UUID('885b34d1-90f7-40e5-b184-4eb43ea8cfb7'),\n",
       "  'domain_name': 'blocksworld',\n",
       "  'instance_id': 1,\n",
       "  'action_sequence': ['action_init',\n",
       "   'action_unstack(b2,b1)',\n",
       "   'action_put_down(b2)',\n",
       "   'action_pick_up(b1)',\n",
       "   'action_stack(b1,b2)'],\n",
       "  'question_type': 'sub_question_1',\n",
       "  'question': \"I plan to perform the following sequence of actions: ['action_unstack(b2,b1)', 'action_put_down(b2)', 'action_pick_up(b1)', 'action_stack(b1,b2)'], will block b1 be clear after performing the sequence of actions?\",\n",
       "  'answer': True}]"
      ]
     },
     "execution_count": 3,
     "metadata": {},
     "output_type": "execute_result"
    }
   ],
   "source": [
    "question_gen.sub_question_1(5)"
   ]
  },
  {
   "cell_type": "code",
   "execution_count": 40,
   "metadata": {},
   "outputs": [
    {
     "name": "stdout",
     "output_type": "stream",
     "text": [
      "0 0\n"
     ]
    },
    {
     "data": {
      "text/plain": [
       "{'id': UUID('af2c416d-7700-4280-8f0f-1690c2ac9695'),\n",
       " 'domain_name': 'blocksworld',\n",
       " 'instance_id': 1,\n",
       " 'action_sequence': ['action_init',\n",
       "  'action_unstack(b2,b1)',\n",
       "  'action_put_down(b2)',\n",
       "  'action_pick_up(b1)',\n",
       "  'action_stack(b1,b2)'],\n",
       " 'question_type': 'composite_question_3',\n",
       " 'question': 'Given the initial state and the sequence of actions: stack block b1 on block b2, unstack block b2 from block b1, put down block b2, pickup block b1, stack block b1 on block b2, how many actions are performed before we encounter an inexecutable action?',\n",
       " 'answer': 0}"
      ]
     },
     "execution_count": 40,
     "metadata": {},
     "output_type": "execute_result"
    }
   ],
   "source": [
    "question_gen.composite_question_3(5)"
   ]
  },
  {
   "cell_type": "code",
   "execution_count": 11,
   "metadata": {},
   "outputs": [
    {
     "data": {
      "text/plain": [
       "[[],\n",
       " ['action_unstack(b4,b3)'],\n",
       " [],\n",
       " ['action_unstack(b3,b2)'],\n",
       " [],\n",
       " ['action_unstack(b7,b6)'],\n",
       " [],\n",
       " [],\n",
       " [],\n",
       " ['action_unstack(b1,b8)'],\n",
       " [],\n",
       " [],\n",
       " [],\n",
       " ['action_unstack(b7,b3)'],\n",
       " [],\n",
       " [],\n",
       " [],\n",
       " ['action_unstack(b8,b5)'],\n",
       " [],\n",
       " [],\n",
       " []]"
      ]
     },
     "execution_count": 11,
     "metadata": {},
     "output_type": "execute_result"
    }
   ],
   "source": [
    "# l = ['action_init',\n",
    "#   'action_unstack(b4,b3)',\n",
    "#   'action_put_down(b4)',\n",
    "#   'action_unstack(b3,b2)',\n",
    "#   'action_put_down(b3)',\n",
    "#   'action_unstack(b7,b6)',\n",
    "#   'action_stack(b7,b3)',\n",
    "#   'action_pick_up(b2)',\n",
    "#   'action_stack(b2,b6)',\n",
    "#   'action_unstack(b1,b8)',\n",
    "#   'action_stack(b1,b2)',\n",
    "#   'action_pick_up(b4)',\n",
    "#   'action_stack(b4,b1)',\n",
    "#   'action_unstack(b7,b3)',\n",
    "#   'action_stack(b7,b4)',\n",
    "#   'action_pick_up(b3)',\n",
    "#   'action_stack(b3,b7)',\n",
    "#   'action_unstack(b8,b5)',\n",
    "#   'action_stack(b8,b3)',\n",
    "#   'action_pick_up(b5)',\n",
    "#   'action_stack(b5,b8)']\n",
    "\n",
    "# [re.findall(r'action_unstack\\(\\w+,\\w+\\)',i) for i in l]"
   ]
  },
  {
   "cell_type": "code",
   "execution_count": 48,
   "metadata": {},
   "outputs": [
    {
     "data": {
      "text/plain": [
       "{'id': UUID('15dd075e-6ff3-49de-95b4-5c5ec453f017'),\n",
       " 'domain_name': 'blocksworld',\n",
       " 'instance_id': 1,\n",
       " 'action_sequence': ['action_init',\n",
       "  'action_unstack(b2,b1)',\n",
       "  'action_put_down(b2)',\n",
       "  'action_pick_up(b1)',\n",
       "  'action_stack(b1,b2)'],\n",
       " 'question_type': 'composite_question_1',\n",
       " 'question': 'Given the initial state, I plan to execute the following sequence of actions: unstack block b2 from block b1, put down block b2, pickup block b1, stack block b2 on block b1, stack block b1 on block b2, what will be the state before the first inexecutable action occurs? If there are None, answer \"None\"',\n",
       " 'answer': ['ontable(b2)', 'holding(b1)', 'clear(b2)']}"
      ]
     },
     "execution_count": 48,
     "metadata": {},
     "output_type": "execute_result"
    }
   ],
   "source": [
    "result = question_gen.composite_question_1(5)\n",
    "result "
   ]
  },
  {
   "cell_type": "code",
   "execution_count": 42,
   "metadata": {},
   "outputs": [
    {
     "ename": "TypeError",
     "evalue": "__init__() missing 1 required positional argument: 'instance_id'",
     "output_type": "error",
     "traceback": [
      "\u001b[1;31m---------------------------------------------------------------------------\u001b[0m",
      "\u001b[1;31mTypeError\u001b[0m                                 Traceback (most recent call last)",
      "Cell \u001b[1;32mIn[42], line 1\u001b[0m\n\u001b[1;32m----> 1\u001b[0m qg \u001b[38;5;241m=\u001b[39m \u001b[43mDomainQuestionGen\u001b[49m\u001b[43m(\u001b[49m\u001b[43mbw\u001b[49m\u001b[43m)\u001b[49m\n",
      "File \u001b[1;32mc:\\Users\\shri1\\rac\\reasoning_about_actions\\src\\questions_construction\\main.py:120\u001b[0m, in \u001b[0;36mDomainQuestionGen.__init__\u001b[1;34m(self, data)\u001b[0m\n\u001b[0;32m    119\u001b[0m \u001b[38;5;28;01mdef\u001b[39;00m \u001b[38;5;21m__init__\u001b[39m(\u001b[38;5;28mself\u001b[39m, data):\n\u001b[1;32m--> 120\u001b[0m     \u001b[38;5;28;43msuper\u001b[39;49m\u001b[43m(\u001b[49m\u001b[43m)\u001b[49m\u001b[38;5;241;43m.\u001b[39;49m\u001b[38;5;21;43m__init__\u001b[39;49m\u001b[43m(\u001b[49m\u001b[43mdata\u001b[49m\u001b[43m)\u001b[49m\n",
      "\u001b[1;31mTypeError\u001b[0m: __init__() missing 1 required positional argument: 'instance_id'"
     ]
    }
   ],
   "source": [
    "qg = DomainQuestionGen(bw)"
   ]
  },
  {
   "cell_type": "code",
   "execution_count": 11,
   "metadata": {},
   "outputs": [
    {
     "data": {
      "text/plain": [
       "{'b1', 'b2', 'b3', 'b4', 'b5', 'b6', 'b7', 'b8'}"
      ]
     },
     "execution_count": 11,
     "metadata": {},
     "output_type": "execute_result"
    }
   ],
   "source": [
    "import re\n",
    "tp_l =  [\n",
    "  'action_unstack(b4,b3)',\n",
    "  'action_put_down(b4)',\n",
    "  'action_unstack(b3,b2)',\n",
    "  'action_put_down(b3)',\n",
    "  'action_unstack(b7,b6)',\n",
    "  'action_stack(b7,b3)',\n",
    "  'action_pick_up(b2)',\n",
    "  'action_stack(b2,b6)',\n",
    "  'action_unstack(b1,b8)',\n",
    "  'action_stack(b1,b2)',\n",
    "  'action_pick_up(b4)',\n",
    "  'action_stack(b4,b1)',\n",
    "  'action_unstack(b7,b3)',\n",
    "  'action_stack(b7,b4)',\n",
    "  'action_pick_up(b3)',\n",
    "  'action_stack(b3,b7)',\n",
    "  'action_unstack(b8,b5)',\n",
    "  'action_stack(b8,b3)',\n",
    "  'action_pick_up(b5)',\n",
    "  'action_stack(b5,b8)']\n",
    "\n",
    "unique_blocks = [block for action in tp_l for block in re.findall(r'\\((.*?)\\)', action)]\n",
    "unique_blocks = [block.split(',') for block in unique_blocks]\n",
    "unique_elements = {element for block in unique_blocks for element in block}\n",
    "unique_elements"
   ]
  }
 ],
 "metadata": {
  "kernelspec": {
   "display_name": "base",
   "language": "python",
   "name": "python3"
  },
  "language_info": {
   "codemirror_mode": {
    "name": "ipython",
    "version": 3
   },
   "file_extension": ".py",
   "mimetype": "text/x-python",
   "name": "python",
   "nbconvert_exporter": "python",
   "pygments_lexer": "ipython3",
   "version": "3.9.18"
  }
 },
 "nbformat": 4,
 "nbformat_minor": 2
}
