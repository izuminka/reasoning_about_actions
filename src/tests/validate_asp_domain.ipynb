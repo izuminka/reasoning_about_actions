{
 "cells": [
  {
   "cell_type": "code",
   "outputs": [],
   "source": [
    "from src.common import *"
   ],
   "metadata": {
    "collapsed": false,
    "ExecuteTime": {
     "end_time": "2024-02-10T22:39:25.040759Z",
     "start_time": "2024-02-10T22:39:24.925259Z"
    }
   },
   "id": "c2dd4c6af86a550e",
   "execution_count": 1
  },
  {
   "cell_type": "code",
   "outputs": [],
   "source": [
    "def check_validity(domain_path, instance_path):\n",
    "    # paths = [ASP_CODE_PATH + '/check_sequence.lp', \n",
    "    #          f'{DATA_PATH}/initial/asp/{domain_name}/domain.lp',\n",
    "    #          f'{DATA_PATH}/initial/asp_data_for_validation/{domain_name}/instances30_final/template/{instance_name}/template/nl_to_asp.lp']\n",
    "    paths = [ASP_CODE_PATH + '/check_sequence.lp', domain_path,\n",
    "             f'{instance_path}/init.lp',\n",
    "             f'{instance_path}/objects.lp',\n",
    "             f'{instance_path}/plan.lp']\n",
    "\n",
    "    asp_code = assemble_asp_code(paths)\n",
    "    # print(asp_code)\n",
    "    asp_model = execute_asp_code(asp_code)\n",
    "    for prefix, contents in asp_model:\n",
    "        if prefix == 'not_exec':\n",
    "            print('not_exec in ASP code. Bad ASP code', domain_name, instance_name)\n",
    "            return None"
   ],
   "metadata": {
    "collapsed": true,
    "ExecuteTime": {
     "end_time": "2024-02-10T22:39:25.239887Z",
     "start_time": "2024-02-10T22:39:25.221112Z"
    }
   },
   "id": "initial_id",
   "execution_count": 2
  },
  {
   "cell_type": "code",
   "outputs": [
    {
     "name": "stdout",
     "output_type": "stream",
     "text": [
      "blocksworld\n",
      "1\n",
      "2\n",
      "3\n",
      "4\n",
      "5\n",
      "6\n",
      "7\n",
      "8\n",
      "9\n",
      "10\n",
      "--------------------\n",
      "\n",
      "depots\n",
      "1\n",
      "2\n"
     ]
    },
    {
     "ename": "KeyboardInterrupt",
     "evalue": "",
     "output_type": "error",
     "traceback": [
      "\u001B[0;31m---------------------------------------------------------------------------\u001B[0m",
      "\u001B[0;31mKeyboardInterrupt\u001B[0m                         Traceback (most recent call last)",
      "Input \u001B[0;32mIn [4]\u001B[0m, in \u001B[0;36m<cell line: 1>\u001B[0;34m()\u001B[0m\n\u001B[1;32m     11\u001B[0m     \u001B[38;5;28;01mcontinue\u001B[39;00m\n\u001B[1;32m     12\u001B[0m \u001B[38;5;28;01mtry\u001B[39;00m:\n\u001B[0;32m---> 13\u001B[0m     \u001B[43mcheck_validity\u001B[49m\u001B[43m(\u001B[49m\u001B[43mdomain_path\u001B[49m\u001B[43m,\u001B[49m\u001B[43m \u001B[49m\u001B[43minstance_dir\u001B[49m\u001B[43m)\u001B[49m\n\u001B[1;32m     14\u001B[0m \u001B[38;5;28;01mexcept\u001B[39;00m \u001B[38;5;167;01mException\u001B[39;00m \u001B[38;5;28;01mas\u001B[39;00m e:\n\u001B[1;32m     15\u001B[0m     \u001B[38;5;28mprint\u001B[39m(domain_name, instance_name)\n",
      "Input \u001B[0;32mIn [2]\u001B[0m, in \u001B[0;36mcheck_validity\u001B[0;34m(domain_path, instance_path)\u001B[0m\n\u001B[1;32m     10\u001B[0m asp_code \u001B[38;5;241m=\u001B[39m assemble_asp_code(paths)\n\u001B[1;32m     11\u001B[0m \u001B[38;5;66;03m# print(asp_code)\u001B[39;00m\n\u001B[0;32m---> 12\u001B[0m asp_model \u001B[38;5;241m=\u001B[39m \u001B[43mexecute_asp_code\u001B[49m\u001B[43m(\u001B[49m\u001B[43masp_code\u001B[49m\u001B[43m)\u001B[49m\n\u001B[1;32m     13\u001B[0m \u001B[38;5;28;01mfor\u001B[39;00m prefix, contents \u001B[38;5;129;01min\u001B[39;00m asp_model:\n\u001B[1;32m     14\u001B[0m     \u001B[38;5;28;01mif\u001B[39;00m prefix \u001B[38;5;241m==\u001B[39m \u001B[38;5;124m'\u001B[39m\u001B[38;5;124mnot_exec\u001B[39m\u001B[38;5;124m'\u001B[39m:\n",
      "File \u001B[0;32m~/dev/research/current/reasoning_about_actions/pipeline/src/common.py:51\u001B[0m, in \u001B[0;36mexecute_asp_code\u001B[0;34m(asp_code, time_limit)\u001B[0m\n\u001B[1;32m     50\u001B[0m \u001B[38;5;28;01mdef\u001B[39;00m \u001B[38;5;21mexecute_asp_code\u001B[39m(asp_code, time_limit\u001B[38;5;241m=\u001B[39m\u001B[38;5;241m0\u001B[39m):\n\u001B[0;32m---> 51\u001B[0m     answers \u001B[38;5;241m=\u001B[39m \u001B[38;5;28;43mlist\u001B[39;49m\u001B[43m(\u001B[49m\u001B[43mASP\u001B[49m\u001B[43m(\u001B[49m\u001B[43masp_code\u001B[49m\u001B[43m,\u001B[49m\u001B[43m \u001B[49m\u001B[43mtime_limit\u001B[49m\u001B[38;5;241;43m=\u001B[39;49m\u001B[43mtime_limit\u001B[49m\u001B[43m)\u001B[49m\u001B[43m)\u001B[49m\n\u001B[1;32m     52\u001B[0m     first \u001B[38;5;241m=\u001B[39m answers[\u001B[38;5;241m0\u001B[39m]\n\u001B[1;32m     53\u001B[0m     \u001B[38;5;28;01mfor\u001B[39;00m a \u001B[38;5;129;01min\u001B[39;00m answers:\n",
      "File \u001B[0;32m/opt/anaconda3/envs/llm_asp/lib/python3.9/site-packages/clyngor/answers.py:217\u001B[0m, in \u001B[0;36mAnswers.__iter__\u001B[0;34m(self)\u001B[0m\n\u001B[1;32m    215\u001B[0m \u001B[38;5;28;01mdef\u001B[39;00m \u001B[38;5;21m__iter__\u001B[39m(\u001B[38;5;28mself\u001B[39m):\n\u001B[1;32m    216\u001B[0m     \u001B[38;5;124;03m\"\"\"Yield answer sets\"\"\"\u001B[39;00m\n\u001B[0;32m--> 217\u001B[0m     \u001B[38;5;28;01mfor\u001B[39;00m answer_set, optimization, optimality, answer_number \u001B[38;5;129;01min\u001B[39;00m \u001B[38;5;28mself\u001B[39m\u001B[38;5;241m.\u001B[39m_answers:\n\u001B[1;32m    218\u001B[0m         answer_set \u001B[38;5;241m=\u001B[39m \u001B[38;5;28mtuple\u001B[39m(\u001B[38;5;28mself\u001B[39m\u001B[38;5;241m.\u001B[39m_parse_answer(answer_set))\n\u001B[1;32m    219\u001B[0m         parsed \u001B[38;5;241m=\u001B[39m \u001B[38;5;28mself\u001B[39m\u001B[38;5;241m.\u001B[39m_format(answer_set)\n",
      "File \u001B[0;32m/opt/anaconda3/envs/llm_asp/lib/python3.9/site-packages/clyngor/solving.py:214\u001B[0m, in \u001B[0;36m_gen_answers\u001B[0;34m(stdout, stderr, statistics, error_on_warning)\u001B[0m\n\u001B[1;32m    212\u001B[0m answer_number \u001B[38;5;241m=\u001B[39m \u001B[38;5;28;01mNone\u001B[39;00m\n\u001B[1;32m    213\u001B[0m optimization, optimum_found \u001B[38;5;241m=\u001B[39m \u001B[38;5;28;01mNone\u001B[39;00m, \u001B[38;5;28;01mFalse\u001B[39;00m\n\u001B[0;32m--> 214\u001B[0m \u001B[38;5;28;01mfor\u001B[39;00m ptype, payload \u001B[38;5;129;01min\u001B[39;00m parse_clasp_output(stdout, yield_stats\u001B[38;5;241m=\u001B[39m\u001B[38;5;28;01mTrue\u001B[39;00m):\n\u001B[1;32m    215\u001B[0m     \u001B[38;5;28;01mif\u001B[39;00m ptype \u001B[38;5;241m==\u001B[39m \u001B[38;5;124m'\u001B[39m\u001B[38;5;124manswer_number\u001B[39m\u001B[38;5;124m'\u001B[39m:\n\u001B[1;32m    216\u001B[0m         \u001B[38;5;28;01mif\u001B[39;00m answer \u001B[38;5;129;01mis\u001B[39;00m \u001B[38;5;129;01mnot\u001B[39;00m \u001B[38;5;28;01mNone\u001B[39;00m:\n",
      "File \u001B[0;32m/opt/anaconda3/envs/llm_asp/lib/python3.9/site-packages/clyngor/parsing.py:206\u001B[0m, in \u001B[0;36mparse_clasp_output\u001B[0;34m(output, yield_stats, yield_opti, yield_info, yield_prgs)\u001B[0m\n\u001B[1;32m    204\u001B[0m infos\u001B[38;5;241m.\u001B[39mappend(line)\n\u001B[1;32m    205\u001B[0m \u001B[38;5;28;01mtry\u001B[39;00m:\n\u001B[0;32m--> 206\u001B[0m     line \u001B[38;5;241m=\u001B[39m \u001B[38;5;28;43mnext\u001B[39;49m\u001B[43m(\u001B[49m\u001B[43moutput\u001B[49m\u001B[43m)\u001B[49m\n\u001B[1;32m    207\u001B[0m \u001B[38;5;28;01mexcept\u001B[39;00m \u001B[38;5;167;01mStopIteration\u001B[39;00m:\n\u001B[1;32m    208\u001B[0m     \u001B[38;5;28;01mreturn\u001B[39;00m\n",
      "File \u001B[0;32m/opt/anaconda3/envs/llm_asp/lib/python3.9/site-packages/clyngor/solving.py:114\u001B[0m, in \u001B[0;36m<genexpr>\u001B[0;34m(.0)\u001B[0m\n\u001B[1;32m    112\u001B[0m     clingo\u001B[38;5;241m.\u001B[39mstdin\u001B[38;5;241m.\u001B[39mwrite(stdin_feed\u001B[38;5;241m.\u001B[39mencode())\n\u001B[1;32m    113\u001B[0m     clingo\u001B[38;5;241m.\u001B[39mstdin\u001B[38;5;241m.\u001B[39mclose()\n\u001B[0;32m--> 114\u001B[0m stdout \u001B[38;5;241m=\u001B[39m (line\u001B[38;5;241m.\u001B[39mdecode() \u001B[38;5;28;01mfor\u001B[39;00m line \u001B[38;5;129;01min\u001B[39;00m clingo\u001B[38;5;241m.\u001B[39mstdout)\n\u001B[1;32m    115\u001B[0m stderr \u001B[38;5;241m=\u001B[39m (line\u001B[38;5;241m.\u001B[39mdecode() \u001B[38;5;28;01mfor\u001B[39;00m line \u001B[38;5;129;01min\u001B[39;00m clingo\u001B[38;5;241m.\u001B[39mstderr)\n\u001B[1;32m    116\u001B[0m \u001B[38;5;28;01mif\u001B[39;00m return_raw_output:  \u001B[38;5;28;01mreturn\u001B[39;00m \u001B[38;5;124m'\u001B[39m\u001B[38;5;124m'\u001B[39m\u001B[38;5;241m.\u001B[39mjoin(stdout), \u001B[38;5;124m'\u001B[39m\u001B[38;5;124m'\u001B[39m\u001B[38;5;241m.\u001B[39mjoin(stderr)\n",
      "\u001B[0;31mKeyboardInterrupt\u001B[0m: "
     ]
    }
   ],
   "source": [
    "for domain_name in DOMAIN_NAMES:\n",
    "    domain_path = f'{DATA_PATH}/initial/asp/{domain_name}/domain.lp'\n",
    "    print(domain_name)\n",
    "    for i in range(1,11):\n",
    "        print(i)\n",
    "        instance_name = f'Instance_{i}'\n",
    "        instance_dir =f'{DATA_PATH}/initial/asp/{domain_name}/instances/{instance_name}'\n",
    "        # instance_dir = f'{DATA_PATH}/initial/pddl_old_instances/{domain_name}/instances30_final/ASP/{instance_name}'\n",
    "        if not os.path.isdir(instance_dir):\n",
    "            print(f'Dir {instance_dir} does not exist')\n",
    "            continue\n",
    "        try:\n",
    "            check_validity(domain_path, instance_dir)\n",
    "        except Exception as e:\n",
    "            print(domain_name, instance_name)\n",
    "            print(e)\n",
    "    print('--------------------\\n')     "
   ],
   "metadata": {
    "collapsed": false,
    "ExecuteTime": {
     "end_time": "2024-02-10T22:43:07.969998Z",
     "start_time": "2024-02-10T22:39:43.662942Z"
    }
   },
   "id": "1c461d137630dfcf",
   "execution_count": 4
  },
  {
   "cell_type": "code",
   "outputs": [],
   "source": [
    "# GOOD DOMAINS\n",
    "\n",
    "# \"driverlog\",\n",
    "# \"npuzzle\",\n",
    "# \"visitall\",\n",
    "# \"mystery\",\n",
    "# \"miconic\",\n",
    "# logistics\n",
    "# grippers\n",
    "# blocksworld\n",
    "# depots\n",
    "# goldminer\n",
    "# satellite\n",
    "# zenotravel"
   ],
   "metadata": {
    "collapsed": false
   },
   "id": "103a82d22f597a22"
  },
  {
   "cell_type": "code",
   "outputs": [],
   "source": [
    "# BAD DOMAINS\n",
    "# spanner\n"
   ],
   "metadata": {
    "collapsed": false
   },
   "id": "3535fa30bdd4e5c3"
  }
 ],
 "metadata": {
  "kernelspec": {
   "display_name": "Python 3",
   "language": "python",
   "name": "python3"
  },
  "language_info": {
   "codemirror_mode": {
    "name": "ipython",
    "version": 2
   },
   "file_extension": ".py",
   "mimetype": "text/x-python",
   "name": "python",
   "nbconvert_exporter": "python",
   "pygments_lexer": "ipython2",
   "version": "2.7.6"
  }
 },
 "nbformat": 4,
 "nbformat_minor": 5
}
