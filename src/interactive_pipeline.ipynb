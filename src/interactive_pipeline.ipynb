{
 "cells": [
  {
   "cell_type": "code",
   "execution_count": 5,
   "id": "initial_id",
   "metadata": {
    "collapsed": true,
    "ExecuteTime": {
     "end_time": "2024-02-09T23:41:17.300391Z",
     "start_time": "2024-02-09T23:41:17.293779Z"
    }
   },
   "outputs": [],
   "source": [
    "from common import *\n",
    "from states_actions_generation import *"
   ]
  },
  {
   "cell_type": "markdown",
   "id": "1355461c6c997d50",
   "metadata": {
    "collapsed": false
   },
   "source": [
    "# Generate States Actions"
   ]
  },
  {
   "cell_type": "code",
   "execution_count": 7,
   "id": "9be55faad40283f3",
   "metadata": {
    "collapsed": false,
    "ExecuteTime": {
     "end_time": "2024-02-09T23:43:48.343269Z",
     "start_time": "2024-02-09T23:41:37.556044Z"
    }
   },
   "outputs": [
    {
     "name": "stdout",
     "output_type": "stream",
     "text": [
      "blocksworld\n",
      "1\n",
      "depot\n",
      "1\n"
     ]
    },
    {
     "ename": "FileNotFoundError",
     "evalue": "[Errno 2] No such file or directory: '/Users/paveldolin/dev/research/current/reasoning_about_actions/pipeline/data/initial/asp/depot/instances/Instance_1/plan.lp'",
     "output_type": "error",
     "traceback": [
      "\u001B[0;31m---------------------------------------------------------------------------\u001B[0m",
      "\u001B[0;31mFileNotFoundError\u001B[0m                         Traceback (most recent call last)",
      "Input \u001B[0;32mIn [7]\u001B[0m, in \u001B[0;36m<cell line: 4>\u001B[0;34m()\u001B[0m\n\u001B[1;32m     13\u001B[0m init_path \u001B[38;5;241m=\u001B[39m \u001B[38;5;124mf\u001B[39m\u001B[38;5;124m'\u001B[39m\u001B[38;5;132;01m{\u001B[39;00minstance_path\u001B[38;5;132;01m}\u001B[39;00m\u001B[38;5;124m/init.lp\u001B[39m\u001B[38;5;124m'\u001B[39m\n\u001B[1;32m     14\u001B[0m objects_path \u001B[38;5;241m=\u001B[39m \u001B[38;5;124mf\u001B[39m\u001B[38;5;124m'\u001B[39m\u001B[38;5;132;01m{\u001B[39;00minstance_path\u001B[38;5;132;01m}\u001B[39;00m\u001B[38;5;124m/objects.lp\u001B[39m\u001B[38;5;124m'\u001B[39m\n\u001B[0;32m---> 16\u001B[0m action_sequence \u001B[38;5;241m=\u001B[39m \u001B[43mopen_asp_action_sequence\u001B[49m\u001B[43m(\u001B[49m\u001B[43mplan_path\u001B[49m\u001B[43m)\u001B[49m\n\u001B[1;32m     17\u001B[0m DG \u001B[38;5;241m=\u001B[39m StatesActionsGenerator(domain_path,init_path,objects_path)\n\u001B[1;32m     18\u001B[0m data \u001B[38;5;241m=\u001B[39m DG\u001B[38;5;241m.\u001B[39mgenerate_data(action_sequence)\n",
      "File \u001B[0;32m~/dev/research/current/reasoning_about_actions/pipeline/src/states_actions_generation.py:8\u001B[0m, in \u001B[0;36mopen_asp_action_sequence\u001B[0;34m(plan_path)\u001B[0m\n\u001B[1;32m      7\u001B[0m \u001B[38;5;28;01mdef\u001B[39;00m \u001B[38;5;21mopen_asp_action_sequence\u001B[39m(plan_path):\n\u001B[0;32m----> 8\u001B[0m     \u001B[38;5;28;01mwith\u001B[39;00m \u001B[38;5;28;43mopen\u001B[39;49m\u001B[43m(\u001B[49m\u001B[43mplan_path\u001B[49m\u001B[43m)\u001B[49m \u001B[38;5;28;01mas\u001B[39;00m f:\n\u001B[1;32m      9\u001B[0m         plan_sequence_asp \u001B[38;5;241m=\u001B[39m f\u001B[38;5;241m.\u001B[39mread()\n\u001B[1;32m     10\u001B[0m     plan_sequence \u001B[38;5;241m=\u001B[39m \u001B[38;5;28msorted\u001B[39m([(action[\u001B[38;5;241m1\u001B[39m], action[\u001B[38;5;241m0\u001B[39m]) \u001B[38;5;28;01mfor\u001B[39;00m _, action \u001B[38;5;129;01min\u001B[39;00m execute_asp_code(plan_sequence_asp)], key\u001B[38;5;241m=\u001B[39m\u001B[38;5;28;01mlambda\u001B[39;00m x: x[\u001B[38;5;241m0\u001B[39m])\n",
      "\u001B[0;31mFileNotFoundError\u001B[0m: [Errno 2] No such file or directory: '/Users/paveldolin/dev/research/current/reasoning_about_actions/pipeline/data/initial/asp/depot/instances/Instance_1/plan.lp'"
     ]
    }
   ],
   "source": [
    "# domain_name = 'blocksworld'\n",
    "# instance = 'Instance_1'\n",
    "\n",
    "for domain_name in ['blocksworld','depot','driverlog','freecell','grid','gripper','hanoi','logistics','miconic','rovers','satellite']:\n",
    "    print(domain_name)\n",
    "    for i in [1]:#range(1,11):\n",
    "        print(i)\n",
    "        instance_name = f'Instance_{i}'\n",
    "        \n",
    "        domain_path = f'{DATA_PATH}/initial/asp/{domain_name}/domain.lp'\n",
    "        instance_path = f'{DATA_PATH}/initial/asp/{domain_name}/instances/{instance_name}'\n",
    "        plan_path = f'{instance_path}/plan.lp'\n",
    "        init_path = f'{instance_path}/init.lp'\n",
    "        objects_path = f'{instance_path}/objects.lp'\n",
    "        \n",
    "        action_sequence = open_asp_action_sequence(plan_path)\n",
    "        DG = StatesActionsGenerator(domain_path,init_path,objects_path)\n",
    "        data = DG.generate_data(action_sequence)\n",
    "        \n",
    "        optimal_sequence = []\n",
    "        for timestep in data:\n",
    "            for action,value in timestep.items():\n",
    "                if value['part_of_plan?']:\n",
    "                    optimal_sequence.append(action)\n",
    "        assert(optimal_sequence[1:] == action_sequence)\n",
    "        \n",
    "        save_jsonl(data, DATA_PATH + f'/generated/{domain_name}.{instance_name}.20.jsonl')\n"
   ]
  }
 ],
 "metadata": {
  "kernelspec": {
   "display_name": "Python 3",
   "language": "python",
   "name": "python3"
  },
  "language_info": {
   "codemirror_mode": {
    "name": "ipython",
    "version": 2
   },
   "file_extension": ".py",
   "mimetype": "text/x-python",
   "name": "python",
   "nbconvert_exporter": "python",
   "pygments_lexer": "ipython2",
   "version": "2.7.6"
  }
 },
 "nbformat": 4,
 "nbformat_minor": 5
}
