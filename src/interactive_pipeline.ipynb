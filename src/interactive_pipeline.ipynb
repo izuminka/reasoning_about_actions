{
 "cells": [
  {
   "cell_type": "code",
   "execution_count": 1,
   "id": "initial_id",
   "metadata": {
    "collapsed": true,
    "ExecuteTime": {
     "end_time": "2024-02-07T02:17:49.418917Z",
     "start_time": "2024-02-07T02:17:49.343110Z"
    }
   },
   "outputs": [],
   "source": [
    "from common import *\n",
    "from states_actions_generation import *"
   ]
  },
  {
   "cell_type": "markdown",
   "id": "1355461c6c997d50",
   "metadata": {
    "collapsed": false
   },
   "source": [
    "# Generate States Actions"
   ]
  },
  {
   "cell_type": "code",
   "execution_count": 2,
   "id": "9be55faad40283f3",
   "metadata": {
    "collapsed": false,
    "ExecuteTime": {
     "end_time": "2024-02-07T02:17:49.419485Z",
     "start_time": "2024-02-07T02:17:49.410530Z"
    }
   },
   "outputs": [],
   "source": [
    "domain_name = 'blocksworld'\n",
    "instance = 'Instance_1'\n",
    "\n",
    "domain_path = f'{DATA_PATH}/initial/asp/{domain_name}/domain.lp'\n",
    "instance_path = f'{DATA_PATH}/initial/asp/{domain_name}/instances/{instance}'\n",
    "plan_path = f'{instance_path}/plan.lp'\n",
    "init_path = f'{instance_path}/init.lp'\n",
    "objects_path = f'{instance_path}/objects.lp'"
   ]
  },
  {
   "cell_type": "code",
   "execution_count": 3,
   "id": "73d8aeabede6d493",
   "metadata": {
    "collapsed": false,
    "ExecuteTime": {
     "end_time": "2024-02-07T02:17:49.444196Z",
     "start_time": "2024-02-07T02:17:49.413748Z"
    }
   },
   "outputs": [],
   "source": [
    "action_sequence = open_asp_action_sequence(plan_path)\n",
    "# action_sequence"
   ]
  },
  {
   "cell_type": "code",
   "execution_count": 4,
   "id": "7741f4aa9121ea81",
   "metadata": {
    "collapsed": false,
    "ExecuteTime": {
     "end_time": "2024-02-07T02:20:58.099787Z",
     "start_time": "2024-02-07T02:17:49.441592Z"
    }
   },
   "outputs": [],
   "source": [
    "DG = StatesActionsGenerator(domain_path,init_path,objects_path)\n",
    "data = DG.generate_data(action_sequence)"
   ]
  },
  {
   "cell_type": "code",
   "execution_count": 5,
   "id": "e0555eb2e7291f7a",
   "metadata": {
    "collapsed": false,
    "ExecuteTime": {
     "end_time": "2024-02-07T02:20:58.114029Z",
     "start_time": "2024-02-07T02:20:58.103585Z"
    }
   },
   "outputs": [],
   "source": [
    "save_jsonl(data, DATA_PATH + f'/generated/{domain_name}.{instance}.jsonl')"
   ]
  },
  {
   "cell_type": "code",
   "execution_count": 6,
   "id": "e2b7c62289cfe783",
   "metadata": {
    "collapsed": false,
    "ExecuteTime": {
     "end_time": "2024-02-07T02:20:58.125114Z",
     "start_time": "2024-02-07T02:20:58.122287Z"
    }
   },
   "outputs": [
    {
     "data": {
      "text/plain": "21"
     },
     "execution_count": 6,
     "metadata": {},
     "output_type": "execute_result"
    }
   ],
   "source": [
    "len(data)"
   ]
  },
  {
   "cell_type": "code",
   "execution_count": 7,
   "id": "9f128bb1465231ac",
   "metadata": {
    "collapsed": false,
    "ExecuteTime": {
     "end_time": "2024-02-07T02:20:58.140207Z",
     "start_time": "2024-02-07T02:20:58.128078Z"
    }
   },
   "outputs": [],
   "source": [
    "optimal_sequence = []\n",
    "for timestep in data:\n",
    "    for action,value in timestep.items():\n",
    "        if value['part_of_plan?'] == True:\n",
    "            optimal_sequence.append(action)"
   ]
  },
  {
   "cell_type": "code",
   "execution_count": 8,
   "id": "d4e3ecb1938296b0",
   "metadata": {
    "collapsed": false,
    "ExecuteTime": {
     "end_time": "2024-02-07T02:20:58.140799Z",
     "start_time": "2024-02-07T02:20:58.132950Z"
    }
   },
   "outputs": [
    {
     "data": {
      "text/plain": "True"
     },
     "execution_count": 8,
     "metadata": {},
     "output_type": "execute_result"
    }
   ],
   "source": [
    "optimal_sequence[1:] == action_sequence"
   ]
  }
 ],
 "metadata": {
  "kernelspec": {
   "display_name": "Python 3",
   "language": "python",
   "name": "python3"
  },
  "language_info": {
   "codemirror_mode": {
    "name": "ipython",
    "version": 2
   },
   "file_extension": ".py",
   "mimetype": "text/x-python",
   "name": "python",
   "nbconvert_exporter": "python",
   "pygments_lexer": "ipython2",
   "version": "2.7.6"
  }
 },
 "nbformat": 4,
 "nbformat_minor": 5
}
