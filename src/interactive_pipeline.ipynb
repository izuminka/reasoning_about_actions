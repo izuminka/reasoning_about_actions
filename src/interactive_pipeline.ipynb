{
 "cells": [
  {
   "cell_type": "code",
   "execution_count": 1,
   "id": "initial_id",
   "metadata": {
    "collapsed": true,
    "ExecuteTime": {
     "end_time": "2024-02-10T04:09:50.401337Z",
     "start_time": "2024-02-10T04:09:50.286004Z"
    }
   },
   "outputs": [],
   "source": [
    "from common import *\n",
    "from states_actions_generation import *"
   ]
  },
  {
   "cell_type": "markdown",
   "id": "1355461c6c997d50",
   "metadata": {
    "collapsed": false
   },
   "source": [
    "# Generate States Actions (jsonl)"
   ]
  },
  {
   "cell_type": "code",
   "execution_count": null,
   "id": "9be55faad40283f3",
   "metadata": {
    "collapsed": false,
    "is_executing": true,
    "ExecuteTime": {
     "start_time": "2024-02-10T04:09:51.095138Z"
    }
   },
   "outputs": [
    {
     "name": "stdout",
     "output_type": "stream",
     "text": [
      "blocksworld\n",
      "1\n",
      "depots\n",
      "1\n"
     ]
    }
   ],
   "source": [
    "# domain_name = 'blocksworld'\n",
    "# instance = 'Instance_1'\n",
    "\n",
    "for domain_name in DOMAIN_NAMES: \n",
    "    print(domain_name)\n",
    "    for i in [1]:#range(1,11):\n",
    "        print(i)\n",
    "        instance_name = f'Instance_{i}'\n",
    "        \n",
    "        domain_path = f'{DATA_PATH}/initial/asp/{domain_name}/domain.lp'\n",
    "        instance_path = f'{DATA_PATH}/initial/asp/{domain_name}/instances/{instance_name}'\n",
    "        plan_path = f'{instance_path}/plan.lp'\n",
    "        init_path = f'{instance_path}/init.lp'\n",
    "        objects_path = f'{instance_path}/objects.lp'\n",
    "        \n",
    "        action_sequence = open_asp_action_sequence(plan_path)\n",
    "        DG = StatesActionsGenerator(domain_path,init_path,objects_path)\n",
    "        data = DG.generate_data(action_sequence)\n",
    "        \n",
    "        optimal_sequence = []\n",
    "        for timestep in data:\n",
    "            for action,value in timestep.items():\n",
    "                if value['part_of_plan?']:\n",
    "                    optimal_sequence.append(action)\n",
    "        assert(optimal_sequence[1:] == action_sequence)\n",
    "        \n",
    "        save_jsonl(data, DATA_PATH + f'/generated/{domain_name}.{instance_name}.20.jsonl')\n"
   ]
  },
  {
   "cell_type": "code",
   "outputs": [],
   "source": [],
   "metadata": {
    "collapsed": false
   },
   "id": "b44c14f736661b95"
  }
 ],
 "metadata": {
  "kernelspec": {
   "display_name": "Python 3",
   "language": "python",
   "name": "python3"
  },
  "language_info": {
   "codemirror_mode": {
    "name": "ipython",
    "version": 2
   },
   "file_extension": ".py",
   "mimetype": "text/x-python",
   "name": "python",
   "nbconvert_exporter": "python",
   "pygments_lexer": "ipython2",
   "version": "2.7.6"
  }
 },
 "nbformat": 4,
 "nbformat_minor": 5
}
