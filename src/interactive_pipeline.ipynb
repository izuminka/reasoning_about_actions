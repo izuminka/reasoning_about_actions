{
 "cells": [
  {
   "cell_type": "code",
   "execution_count": 1,
   "id": "initial_id",
   "metadata": {
    "collapsed": true,
    "ExecuteTime": {
     "end_time": "2024-02-04T00:21:46.523696Z",
     "start_time": "2024-02-04T00:21:46.436481Z"
    }
   },
   "outputs": [],
   "source": [
    "from common import *\n",
    "from states_actions_generation import *"
   ]
  },
  {
   "cell_type": "markdown",
   "source": [
    "# Generate States Actions"
   ],
   "metadata": {
    "collapsed": false
   },
   "id": "1355461c6c997d50"
  },
  {
   "cell_type": "code",
   "outputs": [],
   "source": [
    "domain_name = 'blocksworld'\n",
    "instance = 'Instance_1'\n",
    "\n",
    "domain_path = f'{DATA_PATH}/initial/asp/{domain_name}/domain.lp'\n",
    "instance_path = f'{DATA_PATH}/initial/asp/{domain_name}/instances/{instance}'\n",
    "plan_path = f'{instance_path}/plan.lp'\n",
    "init_path = f'{instance_path}/init.lp'\n",
    "objects_path = f'{instance_path}/objects.lp'"
   ],
   "metadata": {
    "collapsed": false,
    "ExecuteTime": {
     "end_time": "2024-02-04T00:21:46.615366Z",
     "start_time": "2024-02-04T00:21:46.609572Z"
    }
   },
   "id": "9be55faad40283f3",
   "execution_count": 2
  },
  {
   "cell_type": "code",
   "outputs": [],
   "source": [
    "action_sequence = open_asp_action_sequence(plan_path)\n",
    "# action_sequence"
   ],
   "metadata": {
    "collapsed": false,
    "ExecuteTime": {
     "end_time": "2024-02-04T00:21:46.818745Z",
     "start_time": "2024-02-04T00:21:46.788025Z"
    }
   },
   "id": "73d8aeabede6d493",
   "execution_count": 3
  },
  {
   "cell_type": "code",
   "outputs": [],
   "source": [
    "DG = StatesActionsGenerator(domain_path,init_path,objects_path)\n",
    "data = DG.generate_data(action_sequence)"
   ],
   "metadata": {
    "collapsed": false,
    "ExecuteTime": {
     "end_time": "2024-02-04T00:22:06.947183Z",
     "start_time": "2024-02-04T00:21:46.966407Z"
    }
   },
   "id": "7741f4aa9121ea81",
   "execution_count": 4
  },
  {
   "cell_type": "code",
   "outputs": [],
   "source": [
    "save_jsonl(data, DATA_PATH + f'/generated/{domain_name}.{instance}.jsonl')"
   ],
   "metadata": {
    "collapsed": false,
    "ExecuteTime": {
     "end_time": "2024-02-04T00:22:06.954239Z",
     "start_time": "2024-02-04T00:22:06.950975Z"
    }
   },
   "id": "e0555eb2e7291f7a",
   "execution_count": 5
  },
  {
   "cell_type": "code",
   "outputs": [
    {
     "data": {
      "text/plain": "{'action_stack(b2,b3)': {'part_of_plan?': False,\n  'fluents': [],\n  'feasible?': False},\n 'action_unstack(b6,b3)': {'part_of_plan?': False,\n  'fluents': [],\n  'feasible?': False},\n 'action_stack(b3,b6)': {'part_of_plan?': False,\n  'fluents': [],\n  'feasible?': False},\n 'action_unstack(b8,b5)': {'part_of_plan?': False,\n  'fluents': [],\n  'feasible?': False},\n 'action_stack(b3,b2)': {'part_of_plan?': False,\n  'fluents': [],\n  'feasible?': False},\n 'action_unstack(b7,b5)': {'part_of_plan?': False,\n  'fluents': [],\n  'feasible?': False},\n 'action_unstack(b3,b2)': {'part_of_plan?': False,\n  'fluents': [],\n  'feasible?': False},\n 'action_stack(b5,b1)': {'part_of_plan?': False,\n  'fluents': [],\n  'feasible?': False},\n 'action_unstack(b8,b7)': {'part_of_plan?': False,\n  'fluents': [],\n  'feasible?': False},\n 'action_unstack(b2,b5)': {'part_of_plan?': False,\n  'fluents': [],\n  'feasible?': False},\n 'action_put_down(b7)': {'part_of_plan?': False,\n  'fluents': [],\n  'feasible?': False},\n 'action_unstack(b2,b1)': {'part_of_plan?': False,\n  'fluents': [],\n  'feasible?': False},\n 'action_unstack(b5,b6)': {'part_of_plan?': False,\n  'fluents': [],\n  'feasible?': False},\n 'action_stack(b6,b1)': {'part_of_plan?': False,\n  'fluents': [],\n  'feasible?': False},\n 'action_unstack(b7,b3)': {'part_of_plan?': False,\n  'fluents': [],\n  'feasible?': False},\n 'action_stack(b4,b2)': {'part_of_plan?': False,\n  'fluents': [],\n  'feasible?': False},\n 'action_put_down(b3)': {'part_of_plan?': False,\n  'fluents': [],\n  'feasible?': False},\n 'action_unstack(b8,b3)': {'part_of_plan?': False,\n  'fluents': [],\n  'feasible?': False},\n 'action_stack(b7,b6)': {'part_of_plan?': False,\n  'fluents': [],\n  'feasible?': False},\n 'action_pick_up(b5)': {'part_of_plan?': False,\n  'fluents': [],\n  'feasible?': False},\n 'action_unstack(b4,b1)': {'part_of_plan?': False,\n  'fluents': [],\n  'feasible?': False},\n 'action_pick_up(b2)': {'part_of_plan?': False,\n  'fluents': [],\n  'feasible?': False},\n 'action_stack(b2,b5)': {'part_of_plan?': False,\n  'fluents': [],\n  'feasible?': False},\n 'action_stack(b7,b8)': {'part_of_plan?': False,\n  'fluents': [],\n  'feasible?': False},\n 'action_unstack(b6,b4)': {'part_of_plan?': False,\n  'fluents': [],\n  'feasible?': False},\n 'action_unstack(b3,b5)': {'part_of_plan?': False,\n  'fluents': [],\n  'feasible?': False},\n 'action_put_down(b1)': {'part_of_plan?': False,\n  'fluents': [],\n  'feasible?': False},\n 'action_unstack(b2,b8)': {'part_of_plan?': False,\n  'fluents': [],\n  'feasible?': False},\n 'action_stack(b7,b1)': {'part_of_plan?': False,\n  'fluents': [],\n  'feasible?': False},\n 'action_stack(b1,b2)': {'part_of_plan?': False,\n  'fluents': [],\n  'feasible?': False},\n 'action_stack(b2,b7)': {'part_of_plan?': False,\n  'fluents': [],\n  'feasible?': False},\n 'action_stack(b3,b1)': {'part_of_plan?': False,\n  'fluents': [],\n  'feasible?': False},\n 'action_unstack(b5,b1)': {'part_of_plan?': False,\n  'fluents': [],\n  'feasible?': False},\n 'action_unstack(b3,b6)': {'part_of_plan?': False,\n  'fluents': [],\n  'feasible?': False},\n 'action_unstack(b1,b8)': {'part_of_plan?': False,\n  'fluents': ['on(b3,b2)',\n   'on(b7,b6)',\n   'ontable(b5)',\n   'clear(b4)',\n   'on(b4,b3)',\n   'ontable(b2)',\n   'holding(b1)',\n   'clear(b7)',\n   'clear(b8)',\n   'on(b8,b5)',\n   'ontable(b6)'],\n  'feasible?': True},\n 'action_stack(b8,b7)': {'part_of_plan?': False,\n  'fluents': [],\n  'feasible?': False},\n 'action_unstack(b6,b1)': {'part_of_plan?': False,\n  'fluents': [],\n  'feasible?': False},\n 'action_stack(b8,b2)': {'part_of_plan?': False,\n  'fluents': [],\n  'feasible?': False},\n 'action_stack(b4,b6)': {'part_of_plan?': False,\n  'fluents': [],\n  'feasible?': False},\n 'action_unstack(b1,b7)': {'part_of_plan?': False,\n  'fluents': [],\n  'feasible?': False},\n 'action_stack(b4,b1)': {'part_of_plan?': False,\n  'fluents': [],\n  'feasible?': False},\n 'action_unstack(b4,b5)': {'part_of_plan?': False,\n  'fluents': [],\n  'feasible?': False},\n 'action_stack(b1,b8)': {'part_of_plan?': False,\n  'fluents': [],\n  'feasible?': False},\n 'action_unstack(b8,b4)': {'part_of_plan?': False,\n  'fluents': [],\n  'feasible?': False},\n 'action_put_down(b8)': {'part_of_plan?': False,\n  'fluents': [],\n  'feasible?': False},\n 'action_unstack(b6,b5)': {'part_of_plan?': False,\n  'fluents': [],\n  'feasible?': False},\n 'action_stack(b2,b6)': {'part_of_plan?': False,\n  'fluents': [],\n  'feasible?': False},\n 'action_stack(b1,b3)': {'part_of_plan?': False,\n  'fluents': [],\n  'feasible?': False},\n 'action_stack(b6,b8)': {'part_of_plan?': False,\n  'fluents': [],\n  'feasible?': False},\n 'action_unstack(b3,b1)': {'part_of_plan?': False,\n  'fluents': [],\n  'feasible?': False},\n 'action_unstack(b1,b4)': {'part_of_plan?': False,\n  'fluents': [],\n  'feasible?': False},\n 'action_unstack(b7,b2)': {'part_of_plan?': False,\n  'fluents': [],\n  'feasible?': False},\n 'action_unstack(b6,b7)': {'part_of_plan?': False,\n  'fluents': [],\n  'feasible?': False},\n 'action_stack(b2,b8)': {'part_of_plan?': False,\n  'fluents': [],\n  'feasible?': False},\n 'action_stack(b3,b4)': {'part_of_plan?': False,\n  'fluents': [],\n  'feasible?': False},\n 'action_unstack(b6,b8)': {'part_of_plan?': False,\n  'fluents': [],\n  'feasible?': False},\n 'action_stack(b8,b1)': {'part_of_plan?': False,\n  'fluents': [],\n  'feasible?': False},\n 'action_unstack(b8,b1)': {'part_of_plan?': False,\n  'fluents': [],\n  'feasible?': False},\n 'action_put_down(b5)': {'part_of_plan?': False,\n  'fluents': [],\n  'feasible?': False},\n 'action_pick_up(b7)': {'part_of_plan?': False,\n  'fluents': [],\n  'feasible?': False},\n 'action_unstack(b4,b6)': {'part_of_plan?': False,\n  'fluents': [],\n  'feasible?': False},\n 'action_stack(b4,b8)': {'part_of_plan?': False,\n  'fluents': [],\n  'feasible?': False},\n 'action_stack(b7,b5)': {'part_of_plan?': False,\n  'fluents': [],\n  'feasible?': False},\n 'action_unstack(b8,b2)': {'part_of_plan?': False,\n  'fluents': [],\n  'feasible?': False},\n 'action_unstack(b3,b4)': {'part_of_plan?': False,\n  'fluents': [],\n  'feasible?': False},\n 'action_stack(b7,b2)': {'part_of_plan?': False,\n  'fluents': [],\n  'feasible?': False},\n 'action_pick_up(b6)': {'part_of_plan?': False,\n  'fluents': [],\n  'feasible?': False},\n 'action_put_down(b4)': {'part_of_plan?': False,\n  'fluents': [],\n  'feasible?': False},\n 'action_unstack(b1,b6)': {'part_of_plan?': False,\n  'fluents': [],\n  'feasible?': False},\n 'action_stack(b3,b7)': {'part_of_plan?': False,\n  'fluents': [],\n  'feasible?': False},\n 'action_stack(b5,b8)': {'part_of_plan?': False,\n  'fluents': [],\n  'feasible?': False},\n 'action_pick_up(b4)': {'part_of_plan?': False,\n  'fluents': [],\n  'feasible?': False},\n 'action_stack(b3,b8)': {'part_of_plan?': False,\n  'fluents': [],\n  'feasible?': False},\n 'action_unstack(b5,b8)': {'part_of_plan?': False,\n  'fluents': [],\n  'feasible?': False},\n 'action_unstack(b7,b4)': {'part_of_plan?': False,\n  'fluents': [],\n  'feasible?': False},\n 'action_unstack(b7,b8)': {'part_of_plan?': False,\n  'fluents': [],\n  'feasible?': False},\n 'action_stack(b6,b3)': {'part_of_plan?': False,\n  'fluents': [],\n  'feasible?': False},\n 'action_unstack(b1,b5)': {'part_of_plan?': False,\n  'fluents': [],\n  'feasible?': False},\n 'action_stack(b4,b5)': {'part_of_plan?': False,\n  'fluents': [],\n  'feasible?': False},\n 'action_stack(b1,b5)': {'part_of_plan?': False,\n  'fluents': [],\n  'feasible?': False},\n 'action_stack(b5,b2)': {'part_of_plan?': False,\n  'fluents': [],\n  'feasible?': False},\n 'action_unstack(b4,b7)': {'part_of_plan?': False,\n  'fluents': [],\n  'feasible?': False},\n 'action_stack(b7,b3)': {'part_of_plan?': False,\n  'fluents': [],\n  'feasible?': False},\n 'action_unstack(b5,b7)': {'part_of_plan?': False,\n  'fluents': [],\n  'feasible?': False},\n 'action_unstack(b3,b8)': {'part_of_plan?': False,\n  'fluents': [],\n  'feasible?': False},\n 'action_put_down(b2)': {'part_of_plan?': False,\n  'fluents': [],\n  'feasible?': False},\n 'action_pick_up(b1)': {'part_of_plan?': False,\n  'fluents': [],\n  'feasible?': False},\n 'action_unstack(b5,b4)': {'part_of_plan?': False,\n  'fluents': [],\n  'feasible?': False},\n 'action_unstack(b4,b2)': {'part_of_plan?': False,\n  'fluents': [],\n  'feasible?': False},\n 'action_stack(b5,b6)': {'part_of_plan?': False,\n  'fluents': [],\n  'feasible?': False},\n 'action_unstack(b2,b4)': {'part_of_plan?': False,\n  'fluents': [],\n  'feasible?': False},\n 'action_unstack(b2,b6)': {'part_of_plan?': False,\n  'fluents': [],\n  'feasible?': False},\n 'action_unstack(b5,b3)': {'part_of_plan?': False,\n  'fluents': [],\n  'feasible?': False},\n 'action_stack(b7,b4)': {'part_of_plan?': False,\n  'fluents': [],\n  'feasible?': False},\n 'action_unstack(b5,b2)': {'part_of_plan?': False,\n  'fluents': [],\n  'feasible?': False},\n 'action_unstack(b7,b6)': {'part_of_plan?': False,\n  'fluents': ['on(b1,b8)',\n   'on(b3,b2)',\n   'ontable(b5)',\n   'clear(b4)',\n   'on(b4,b3)',\n   'ontable(b2)',\n   'clear(b6)',\n   'holding(b7)',\n   'clear(b1)',\n   'on(b8,b5)',\n   'ontable(b6)'],\n  'feasible?': True},\n 'action_stack(b6,b7)': {'part_of_plan?': False,\n  'fluents': [],\n  'feasible?': False},\n 'action_unstack(b2,b7)': {'part_of_plan?': False,\n  'fluents': [],\n  'feasible?': False},\n 'action_unstack(b8,b6)': {'part_of_plan?': False,\n  'fluents': [],\n  'feasible?': False},\n 'action_stack(b8,b5)': {'part_of_plan?': False,\n  'fluents': [],\n  'feasible?': False},\n 'action_stack(b3,b5)': {'part_of_plan?': False,\n  'fluents': [],\n  'feasible?': False},\n 'action_unstack(b4,b8)': {'part_of_plan?': False,\n  'fluents': [],\n  'feasible?': False},\n 'action_pick_up(b8)': {'part_of_plan?': False,\n  'fluents': [],\n  'feasible?': False},\n 'action_stack(b8,b4)': {'part_of_plan?': False,\n  'fluents': [],\n  'feasible?': False},\n 'action_stack(b1,b6)': {'part_of_plan?': False,\n  'fluents': [],\n  'feasible?': False},\n 'action_stack(b8,b6)': {'part_of_plan?': False,\n  'fluents': [],\n  'feasible?': False},\n 'action_unstack(b6,b2)': {'part_of_plan?': False,\n  'fluents': [],\n  'feasible?': False},\n 'action_unstack(b2,b3)': {'part_of_plan?': False,\n  'fluents': [],\n  'feasible?': False},\n 'action_stack(b2,b1)': {'part_of_plan?': False,\n  'fluents': [],\n  'feasible?': False},\n 'action_stack(b5,b4)': {'part_of_plan?': False,\n  'fluents': [],\n  'feasible?': False},\n 'action_unstack(b3,b7)': {'part_of_plan?': False,\n  'fluents': [],\n  'feasible?': False},\n 'action_stack(b2,b4)': {'part_of_plan?': False,\n  'fluents': [],\n  'feasible?': False},\n 'action_unstack(b1,b3)': {'part_of_plan?': False,\n  'fluents': [],\n  'feasible?': False},\n 'action_stack(b4,b3)': {'part_of_plan?': False,\n  'fluents': [],\n  'feasible?': False},\n 'action_unstack(b1,b2)': {'part_of_plan?': False,\n  'fluents': [],\n  'feasible?': False},\n 'action_pick_up(b3)': {'part_of_plan?': False,\n  'fluents': [],\n  'feasible?': False},\n 'action_stack(b1,b4)': {'part_of_plan?': False,\n  'fluents': [],\n  'feasible?': False},\n 'action_stack(b4,b7)': {'part_of_plan?': False,\n  'fluents': [],\n  'feasible?': False},\n 'action_stack(b6,b5)': {'part_of_plan?': False,\n  'fluents': [],\n  'feasible?': False},\n 'action_stack(b6,b4)': {'part_of_plan?': False,\n  'fluents': [],\n  'feasible?': False},\n 'action_stack(b6,b2)': {'part_of_plan?': False,\n  'fluents': [],\n  'feasible?': False},\n 'action_unstack(b7,b1)': {'part_of_plan?': False,\n  'fluents': [],\n  'feasible?': False},\n 'action_unstack(b4,b3)': {'part_of_plan?': True,\n  'fluents': ['on(b1,b8)',\n   'on(b3,b2)',\n   'on(b7,b6)',\n   'ontable(b5)',\n   'holding(b4)',\n   'ontable(b2)',\n   'clear(b7)',\n   'clear(b3)',\n   'clear(b1)',\n   'on(b8,b5)',\n   'ontable(b6)'],\n  'feasible?': True},\n 'action_stack(b8,b3)': {'part_of_plan?': False,\n  'fluents': [],\n  'feasible?': False},\n 'action_stack(b5,b7)': {'part_of_plan?': False,\n  'fluents': [],\n  'feasible?': False},\n 'action_stack(b5,b3)': {'part_of_plan?': False,\n  'fluents': [],\n  'feasible?': False},\n 'action_stack(b1,b7)': {'part_of_plan?': False,\n  'fluents': [],\n  'feasible?': False},\n 'action_put_down(b6)': {'part_of_plan?': False,\n  'fluents': [],\n  'feasible?': False}}"
     },
     "execution_count": 7,
     "metadata": {},
     "output_type": "execute_result"
    }
   ],
   "source": [
    "data[1]"
   ],
   "metadata": {
    "collapsed": false,
    "ExecuteTime": {
     "end_time": "2024-02-04T00:23:06.950782Z",
     "start_time": "2024-02-04T00:23:06.946082Z"
    }
   },
   "id": "e2b7c62289cfe783",
   "execution_count": 7
  },
  {
   "cell_type": "code",
   "outputs": [],
   "source": [],
   "metadata": {
    "collapsed": false
   },
   "id": "9f128bb1465231ac"
  }
 ],
 "metadata": {
  "kernelspec": {
   "display_name": "Python 3",
   "language": "python",
   "name": "python3"
  },
  "language_info": {
   "codemirror_mode": {
    "name": "ipython",
    "version": 2
   },
   "file_extension": ".py",
   "mimetype": "text/x-python",
   "name": "python",
   "nbconvert_exporter": "python",
   "pygments_lexer": "ipython2",
   "version": "2.7.6"
  }
 },
 "nbformat": 4,
 "nbformat_minor": 5
}
