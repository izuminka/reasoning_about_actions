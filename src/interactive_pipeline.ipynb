{
 "cells": [
  {
   "cell_type": "code",
   "execution_count": 1,
   "id": "initial_id",
   "metadata": {
    "collapsed": true,
    "ExecuteTime": {
     "end_time": "2024-02-04T00:34:46.974066Z",
     "start_time": "2024-02-04T00:34:46.927294Z"
    }
   },
   "outputs": [],
   "source": [
    "from common import *\n",
    "from states_actions_generation import *"
   ]
  },
  {
   "cell_type": "markdown",
   "source": [
    "# Generate States Actions"
   ],
   "metadata": {
    "collapsed": false
   },
   "id": "1355461c6c997d50"
  },
  {
   "cell_type": "code",
   "outputs": [],
   "source": [
    "domain_name = 'blocksworld'\n",
    "instance = 'Instance_1'\n",
    "\n",
    "domain_path = f'{DATA_PATH}/initial/asp/{domain_name}/domain.lp'\n",
    "instance_path = f'{DATA_PATH}/initial/asp/{domain_name}/instances/{instance}'\n",
    "plan_path = f'{instance_path}/plan.lp'\n",
    "init_path = f'{instance_path}/init.lp'\n",
    "objects_path = f'{instance_path}/objects.lp'"
   ],
   "metadata": {
    "collapsed": false,
    "ExecuteTime": {
     "end_time": "2024-02-04T00:34:47.683302Z",
     "start_time": "2024-02-04T00:34:47.680248Z"
    }
   },
   "id": "9be55faad40283f3",
   "execution_count": 2
  },
  {
   "cell_type": "code",
   "outputs": [],
   "source": [
    "action_sequence = open_asp_action_sequence(plan_path)\n",
    "# action_sequence"
   ],
   "metadata": {
    "collapsed": false,
    "ExecuteTime": {
     "end_time": "2024-02-04T00:34:48.129632Z",
     "start_time": "2024-02-04T00:34:48.097607Z"
    }
   },
   "id": "73d8aeabede6d493",
   "execution_count": 3
  },
  {
   "cell_type": "code",
   "outputs": [],
   "source": [
    "DG = StatesActionsGenerator(domain_path,init_path,objects_path)\n",
    "data = DG.generate_data(action_sequence)"
   ],
   "metadata": {
    "collapsed": false,
    "ExecuteTime": {
     "end_time": "2024-02-04T00:36:05.008540Z",
     "start_time": "2024-02-04T00:34:48.483588Z"
    }
   },
   "id": "7741f4aa9121ea81",
   "execution_count": 4
  },
  {
   "cell_type": "code",
   "outputs": [],
   "source": [
    "save_jsonl(data, DATA_PATH + f'/generated/{domain_name}.{instance}.jsonl')"
   ],
   "metadata": {
    "collapsed": false,
    "ExecuteTime": {
     "end_time": "2024-02-04T00:36:05.024301Z",
     "start_time": "2024-02-04T00:36:05.010170Z"
    }
   },
   "id": "e0555eb2e7291f7a",
   "execution_count": 5
  },
  {
   "cell_type": "code",
   "outputs": [
    {
     "data": {
      "text/plain": "21"
     },
     "execution_count": 6,
     "metadata": {},
     "output_type": "execute_result"
    }
   ],
   "source": [
    "len(data)"
   ],
   "metadata": {
    "collapsed": false,
    "ExecuteTime": {
     "end_time": "2024-02-04T00:36:05.032225Z",
     "start_time": "2024-02-04T00:36:05.026224Z"
    }
   },
   "id": "e2b7c62289cfe783",
   "execution_count": 6
  }
 ],
 "metadata": {
  "kernelspec": {
   "display_name": "Python 3",
   "language": "python",
   "name": "python3"
  },
  "language_info": {
   "codemirror_mode": {
    "name": "ipython",
    "version": 2
   },
   "file_extension": ".py",
   "mimetype": "text/x-python",
   "name": "python",
   "nbconvert_exporter": "python",
   "pygments_lexer": "ipython2",
   "version": "2.7.6"
  }
 },
 "nbformat": 4,
 "nbformat_minor": 5
}
