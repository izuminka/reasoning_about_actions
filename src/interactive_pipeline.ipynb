{
 "cells": [
  {
   "cell_type": "code",
   "execution_count": 1,
   "id": "initial_id",
   "metadata": {
    "collapsed": true,
    "ExecuteTime": {
     "end_time": "2024-02-10T22:11:53.358316Z",
     "start_time": "2024-02-10T22:11:53.282841Z"
    }
   },
   "outputs": [],
   "source": [
    "from common import *\n",
    "from states_actions_generation import *"
   ]
  },
  {
   "cell_type": "markdown",
   "id": "1355461c6c997d50",
   "metadata": {
    "collapsed": false
   },
   "source": [
    "# Generate States Actions (jsonl)"
   ]
  },
  {
   "cell_type": "code",
   "execution_count": 2,
   "id": "9be55faad40283f3",
   "metadata": {
    "collapsed": false,
    "ExecuteTime": {
     "end_time": "2024-02-10T22:12:01.697882Z",
     "start_time": "2024-02-10T22:11:54.471060Z"
    }
   },
   "outputs": [
    {
     "name": "stdout",
     "output_type": "stream",
     "text": [
      "visitall\n",
      "1\n",
      "generating data\n"
     ]
    },
    {
     "ename": "KeyboardInterrupt",
     "evalue": "",
     "output_type": "error",
     "traceback": [
      "\u001B[0;31m---------------------------------------------------------------------------\u001B[0m",
      "\u001B[0;31mKeyboardInterrupt\u001B[0m                         Traceback (most recent call last)",
      "Input \u001B[0;32mIn [2]\u001B[0m, in \u001B[0;36m<cell line: 4>\u001B[0;34m()\u001B[0m\n\u001B[1;32m      7\u001B[0m \u001B[38;5;28mprint\u001B[39m(i)\n\u001B[1;32m      8\u001B[0m instance_name \u001B[38;5;241m=\u001B[39m \u001B[38;5;124mf\u001B[39m\u001B[38;5;124m'\u001B[39m\u001B[38;5;124mInstance_\u001B[39m\u001B[38;5;132;01m{\u001B[39;00mi\u001B[38;5;132;01m}\u001B[39;00m\u001B[38;5;124m'\u001B[39m\n\u001B[0;32m---> 10\u001B[0m \u001B[43mmain\u001B[49m\u001B[43m(\u001B[49m\u001B[43mdomain_name\u001B[49m\u001B[43m,\u001B[49m\u001B[43m \u001B[49m\u001B[43minstance_name\u001B[49m\u001B[43m)\u001B[49m\n",
      "File \u001B[0;32m~/dev/research/current/reasoning_about_actions/pipeline/src/states_actions_generation.py:137\u001B[0m, in \u001B[0;36mmain\u001B[0;34m(domain_name, instance_name)\u001B[0m\n\u001B[1;32m    135\u001B[0m states_actions_generator \u001B[38;5;241m=\u001B[39m StatesActionsGenerator(domain_path, \u001B[38;5;124mf\u001B[39m\u001B[38;5;124m'\u001B[39m\u001B[38;5;132;01m{\u001B[39;00minstance_path\u001B[38;5;132;01m}\u001B[39;00m\u001B[38;5;124m/init.lp\u001B[39m\u001B[38;5;124m'\u001B[39m, \u001B[38;5;124mf\u001B[39m\u001B[38;5;124m'\u001B[39m\u001B[38;5;132;01m{\u001B[39;00minstance_path\u001B[38;5;132;01m}\u001B[39;00m\u001B[38;5;124m/objects.lp\u001B[39m\u001B[38;5;124m'\u001B[39m)\n\u001B[1;32m    136\u001B[0m \u001B[38;5;28mprint\u001B[39m(\u001B[38;5;124m'\u001B[39m\u001B[38;5;124mgenerating data\u001B[39m\u001B[38;5;124m'\u001B[39m)\n\u001B[0;32m--> 137\u001B[0m data \u001B[38;5;241m=\u001B[39m \u001B[43mstates_actions_generator\u001B[49m\u001B[38;5;241;43m.\u001B[39;49m\u001B[43mcreate_data\u001B[49m\u001B[43m(\u001B[49m\u001B[43maction_sequence\u001B[49m\u001B[43m)\u001B[49m\n\u001B[1;32m    139\u001B[0m optimal_sequence \u001B[38;5;241m=\u001B[39m []\n\u001B[1;32m    140\u001B[0m \u001B[38;5;28;01mfor\u001B[39;00m timestep \u001B[38;5;129;01min\u001B[39;00m data:\n",
      "File \u001B[0;32m~/dev/research/current/reasoning_about_actions/pipeline/src/states_actions_generation.py:111\u001B[0m, in \u001B[0;36mStatesActionsGenerator.create_data\u001B[0;34m(self, plan_sequence)\u001B[0m\n\u001B[1;32m    107\u001B[0m data_for_step_i \u001B[38;5;241m=\u001B[39m {}\n\u001B[1;32m    108\u001B[0m \u001B[38;5;28;01mfor\u001B[39;00m action \u001B[38;5;129;01min\u001B[39;00m all_actions:\n\u001B[1;32m    109\u001B[0m     data_for_step_i[action] \u001B[38;5;241m=\u001B[39m {\n\u001B[1;32m    110\u001B[0m         PART_OF_PLAN_KEY: action \u001B[38;5;241m==\u001B[39m plan_sequence[i],\n\u001B[0;32m--> 111\u001B[0m         FLUENTS_KEY: \u001B[38;5;28;43mself\u001B[39;49m\u001B[38;5;241;43m.\u001B[39;49m\u001B[43mnext_state\u001B[49m\u001B[43m(\u001B[49m\u001B[43mcurrent_state\u001B[49m\u001B[43m,\u001B[49m\u001B[43m \u001B[49m\u001B[43maction\u001B[49m\u001B[43m)\u001B[49m,\n\u001B[1;32m    112\u001B[0m         NEG_FLUENTS_KEY: \u001B[38;5;28mself\u001B[39m\u001B[38;5;241m.\u001B[39mnext_state(current_state, action, \u001B[38;5;124m'\u001B[39m\u001B[38;5;124mnext_state_neg_fluents.lp\u001B[39m\u001B[38;5;124m'\u001B[39m)}\n\u001B[1;32m    113\u001B[0m     data_for_step_i[action][EXECUTABLE_ACTION_BOOL_KEY] \u001B[38;5;241m=\u001B[39m \u001B[38;5;28mbool\u001B[39m(data_for_step_i[action][FLUENTS_KEY])\n\u001B[1;32m    114\u001B[0m \u001B[38;5;28mself\u001B[39m\u001B[38;5;241m.\u001B[39mdata\u001B[38;5;241m.\u001B[39mappend(data_for_step_i)\n",
      "File \u001B[0;32m~/dev/research/current/reasoning_about_actions/pipeline/src/states_actions_generation.py:75\u001B[0m, in \u001B[0;36mStatesActionsGenerator.next_state\u001B[0;34m(self, current_state_set, action, asp_code_fname)\u001B[0m\n\u001B[1;32m     73\u001B[0m asp_code \u001B[38;5;241m=\u001B[39m assemble_asp_code(paths, additional_asp_code\u001B[38;5;241m=\u001B[39madditional_asp_code)\n\u001B[1;32m     74\u001B[0m next_state \u001B[38;5;241m=\u001B[39m \u001B[38;5;28mset\u001B[39m()\n\u001B[0;32m---> 75\u001B[0m \u001B[38;5;28;01mfor\u001B[39;00m prefix, contents \u001B[38;5;129;01min\u001B[39;00m \u001B[43mexecute_asp_code\u001B[49m\u001B[43m(\u001B[49m\u001B[43masp_code\u001B[49m\u001B[43m)\u001B[49m:\n\u001B[1;32m     76\u001B[0m     \u001B[38;5;28;01mif\u001B[39;00m prefix \u001B[38;5;241m==\u001B[39m \u001B[38;5;124m'\u001B[39m\u001B[38;5;124mnot_exec\u001B[39m\u001B[38;5;124m'\u001B[39m:\n\u001B[1;32m     77\u001B[0m         \u001B[38;5;28;01mreturn\u001B[39;00m []\n",
      "File \u001B[0;32m~/dev/research/current/reasoning_about_actions/pipeline/src/common.py:51\u001B[0m, in \u001B[0;36mexecute_asp_code\u001B[0;34m(asp_code, time_limit)\u001B[0m\n\u001B[1;32m     50\u001B[0m \u001B[38;5;28;01mdef\u001B[39;00m \u001B[38;5;21mexecute_asp_code\u001B[39m(asp_code, time_limit\u001B[38;5;241m=\u001B[39m\u001B[38;5;241m0\u001B[39m):\n\u001B[0;32m---> 51\u001B[0m     answers \u001B[38;5;241m=\u001B[39m \u001B[38;5;28;43mlist\u001B[39;49m\u001B[43m(\u001B[49m\u001B[43mASP\u001B[49m\u001B[43m(\u001B[49m\u001B[43masp_code\u001B[49m\u001B[43m,\u001B[49m\u001B[43m \u001B[49m\u001B[43mtime_limit\u001B[49m\u001B[38;5;241;43m=\u001B[39;49m\u001B[43mtime_limit\u001B[49m\u001B[43m)\u001B[49m\u001B[43m)\u001B[49m\n\u001B[1;32m     52\u001B[0m     first \u001B[38;5;241m=\u001B[39m answers[\u001B[38;5;241m0\u001B[39m]\n\u001B[1;32m     53\u001B[0m     \u001B[38;5;28;01mfor\u001B[39;00m a \u001B[38;5;129;01min\u001B[39;00m answers:\n",
      "File \u001B[0;32m/opt/anaconda3/envs/llm_asp/lib/python3.9/site-packages/clyngor/answers.py:217\u001B[0m, in \u001B[0;36mAnswers.__iter__\u001B[0;34m(self)\u001B[0m\n\u001B[1;32m    215\u001B[0m \u001B[38;5;28;01mdef\u001B[39;00m \u001B[38;5;21m__iter__\u001B[39m(\u001B[38;5;28mself\u001B[39m):\n\u001B[1;32m    216\u001B[0m     \u001B[38;5;124;03m\"\"\"Yield answer sets\"\"\"\u001B[39;00m\n\u001B[0;32m--> 217\u001B[0m     \u001B[38;5;28;01mfor\u001B[39;00m answer_set, optimization, optimality, answer_number \u001B[38;5;129;01min\u001B[39;00m \u001B[38;5;28mself\u001B[39m\u001B[38;5;241m.\u001B[39m_answers:\n\u001B[1;32m    218\u001B[0m         answer_set \u001B[38;5;241m=\u001B[39m \u001B[38;5;28mtuple\u001B[39m(\u001B[38;5;28mself\u001B[39m\u001B[38;5;241m.\u001B[39m_parse_answer(answer_set))\n\u001B[1;32m    219\u001B[0m         parsed \u001B[38;5;241m=\u001B[39m \u001B[38;5;28mself\u001B[39m\u001B[38;5;241m.\u001B[39m_format(answer_set)\n",
      "File \u001B[0;32m/opt/anaconda3/envs/llm_asp/lib/python3.9/site-packages/clyngor/solving.py:214\u001B[0m, in \u001B[0;36m_gen_answers\u001B[0;34m(stdout, stderr, statistics, error_on_warning)\u001B[0m\n\u001B[1;32m    212\u001B[0m answer_number \u001B[38;5;241m=\u001B[39m \u001B[38;5;28;01mNone\u001B[39;00m\n\u001B[1;32m    213\u001B[0m optimization, optimum_found \u001B[38;5;241m=\u001B[39m \u001B[38;5;28;01mNone\u001B[39;00m, \u001B[38;5;28;01mFalse\u001B[39;00m\n\u001B[0;32m--> 214\u001B[0m \u001B[38;5;28;01mfor\u001B[39;00m ptype, payload \u001B[38;5;129;01min\u001B[39;00m parse_clasp_output(stdout, yield_stats\u001B[38;5;241m=\u001B[39m\u001B[38;5;28;01mTrue\u001B[39;00m):\n\u001B[1;32m    215\u001B[0m     \u001B[38;5;28;01mif\u001B[39;00m ptype \u001B[38;5;241m==\u001B[39m \u001B[38;5;124m'\u001B[39m\u001B[38;5;124manswer_number\u001B[39m\u001B[38;5;124m'\u001B[39m:\n\u001B[1;32m    216\u001B[0m         \u001B[38;5;28;01mif\u001B[39;00m answer \u001B[38;5;129;01mis\u001B[39;00m \u001B[38;5;129;01mnot\u001B[39;00m \u001B[38;5;28;01mNone\u001B[39;00m:\n",
      "File \u001B[0;32m/opt/anaconda3/envs/llm_asp/lib/python3.9/site-packages/clyngor/parsing.py:206\u001B[0m, in \u001B[0;36mparse_clasp_output\u001B[0;34m(output, yield_stats, yield_opti, yield_info, yield_prgs)\u001B[0m\n\u001B[1;32m    204\u001B[0m infos\u001B[38;5;241m.\u001B[39mappend(line)\n\u001B[1;32m    205\u001B[0m \u001B[38;5;28;01mtry\u001B[39;00m:\n\u001B[0;32m--> 206\u001B[0m     line \u001B[38;5;241m=\u001B[39m \u001B[38;5;28;43mnext\u001B[39;49m\u001B[43m(\u001B[49m\u001B[43moutput\u001B[49m\u001B[43m)\u001B[49m\n\u001B[1;32m    207\u001B[0m \u001B[38;5;28;01mexcept\u001B[39;00m \u001B[38;5;167;01mStopIteration\u001B[39;00m:\n\u001B[1;32m    208\u001B[0m     \u001B[38;5;28;01mreturn\u001B[39;00m\n",
      "File \u001B[0;32m/opt/anaconda3/envs/llm_asp/lib/python3.9/site-packages/clyngor/solving.py:114\u001B[0m, in \u001B[0;36m<genexpr>\u001B[0;34m(.0)\u001B[0m\n\u001B[1;32m    112\u001B[0m     clingo\u001B[38;5;241m.\u001B[39mstdin\u001B[38;5;241m.\u001B[39mwrite(stdin_feed\u001B[38;5;241m.\u001B[39mencode())\n\u001B[1;32m    113\u001B[0m     clingo\u001B[38;5;241m.\u001B[39mstdin\u001B[38;5;241m.\u001B[39mclose()\n\u001B[0;32m--> 114\u001B[0m stdout \u001B[38;5;241m=\u001B[39m (line\u001B[38;5;241m.\u001B[39mdecode() \u001B[38;5;28;01mfor\u001B[39;00m line \u001B[38;5;129;01min\u001B[39;00m clingo\u001B[38;5;241m.\u001B[39mstdout)\n\u001B[1;32m    115\u001B[0m stderr \u001B[38;5;241m=\u001B[39m (line\u001B[38;5;241m.\u001B[39mdecode() \u001B[38;5;28;01mfor\u001B[39;00m line \u001B[38;5;129;01min\u001B[39;00m clingo\u001B[38;5;241m.\u001B[39mstderr)\n\u001B[1;32m    116\u001B[0m \u001B[38;5;28;01mif\u001B[39;00m return_raw_output:  \u001B[38;5;28;01mreturn\u001B[39;00m \u001B[38;5;124m'\u001B[39m\u001B[38;5;124m'\u001B[39m\u001B[38;5;241m.\u001B[39mjoin(stdout), \u001B[38;5;124m'\u001B[39m\u001B[38;5;124m'\u001B[39m\u001B[38;5;241m.\u001B[39mjoin(stderr)\n",
      "\u001B[0;31mKeyboardInterrupt\u001B[0m: "
     ]
    }
   ],
   "source": [
    "# domain_name = 'blocksworld'\n",
    "# instance = 'Instance_1'\n",
    "\n",
    "for domain_name in DOMAIN_NAMES[-2:]: \n",
    "    print(domain_name)\n",
    "    for i in [1]:#range(1,11):\n",
    "        print(i)\n",
    "        instance_name = f'Instance_{i}'\n",
    "        \n",
    "        main(domain_name, instance_name)"
   ]
  },
  {
   "cell_type": "markdown",
   "source": [
    "# Generate Questions"
   ],
   "metadata": {
    "collapsed": false
   },
   "id": "f76ce1b36009cc5b"
  },
  {
   "cell_type": "code",
   "outputs": [],
   "source": [],
   "metadata": {
    "collapsed": false
   },
   "id": "433807f85b730cb5"
  }
 ],
 "metadata": {
  "kernelspec": {
   "display_name": "Python 3",
   "language": "python",
   "name": "python3"
  },
  "language_info": {
   "codemirror_mode": {
    "name": "ipython",
    "version": 2
   },
   "file_extension": ".py",
   "mimetype": "text/x-python",
   "name": "python",
   "nbconvert_exporter": "python",
   "pygments_lexer": "ipython2",
   "version": "2.7.6"
  }
 },
 "nbformat": 4,
 "nbformat_minor": 5
}
