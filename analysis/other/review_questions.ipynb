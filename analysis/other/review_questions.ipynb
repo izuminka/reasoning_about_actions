{
 "cells": [
  {
   "cell_type": "code",
   "execution_count": 51,
   "id": "initial_id",
   "metadata": {
    "collapsed": true,
    "ExecuteTime": {
     "end_time": "2024-04-09T01:41:37.789376Z",
     "start_time": "2024-04-09T01:41:37.759145Z"
    }
   },
   "outputs": [],
   "source": [
    "import sys, os\n",
    "sys.path.append(os.path.realpath('__file__'))\n",
    "sys.path.append(os.path.dirname(os.path.realpath('__file__')))\n",
    "sys.path.append(os.path.dirname(os.path.dirname(os.path.realpath('__file__'))))\n",
    "sys.path.append(os.path.dirname(os.path.dirname(os.path.dirname(os.path.realpath('__file__')))))\n",
    "\n",
    "from common import *\n",
    "from questions_construction.domains import *\n",
    "from questions_construction.questions import *"
   ]
  },
  {
   "cell_type": "code",
   "outputs": [],
   "source": [
    "domain_name = 'mystery' #DOMAIN_NAMES[0]\n",
    "\n",
    "\n",
    "instance_name = f'Instance_1'\n",
    "questions_path = f'{DATA_PATH}/questions_m1_for_manual_validation_v3/without_random_sub/{domain_name}/{instance_name}.jsonl'\n",
    "# questions = open_jsonl(QUESTIONS_PATH + f'/{domain_name}/{instance_name}.jsonl')\n",
    "questions = open_jsonl(questions_path)"
   ],
   "metadata": {
    "collapsed": false,
    "ExecuteTime": {
     "end_time": "2024-04-09T01:41:40.660447Z",
     "start_time": "2024-04-09T01:41:40.527995Z"
    }
   },
   "id": "ac683e5839b2a993",
   "execution_count": 52
  },
  {
   "cell_type": "code",
   "outputs": [],
   "source": [
    "plan_length = 5\n",
    "qa_dict = {}\n",
    "\n",
    "for qa_object in questions:\n",
    "    if qa_object[OUT_OBJ_PLAN_LENGTH]==plan_length:\n",
    "        qa_dict[(qa_object[OUT_OBJ_QUESTION_CATEGORY], qa_object['question_name'])] = qa_object"
   ],
   "metadata": {
    "collapsed": false,
    "ExecuteTime": {
     "end_time": "2024-04-09T01:41:42.687979Z",
     "start_time": "2024-04-09T01:41:42.679517Z"
    }
   },
   "id": "27b2f66184f74c27",
   "execution_count": 53
  },
  {
   "cell_type": "code",
   "outputs": [
    {
     "data": {
      "text/plain": "122"
     },
     "execution_count": 54,
     "metadata": {},
     "output_type": "execute_result"
    }
   ],
   "source": [
    "len(qa_dict)"
   ],
   "metadata": {
    "collapsed": false,
    "ExecuteTime": {
     "end_time": "2024-04-09T01:41:43.340531Z",
     "start_time": "2024-04-09T01:41:43.334711Z"
    }
   },
   "id": "937313b3a9a963b3",
   "execution_count": 54
  },
  {
   "cell_type": "code",
   "outputs": [],
   "source": [
    "# qa_object.keys()"
   ],
   "metadata": {
    "collapsed": false,
    "ExecuteTime": {
     "end_time": "2024-04-09T01:41:44.641381Z",
     "start_time": "2024-04-09T01:41:44.638921Z"
    }
   },
   "id": "5ac800c3c05c6810",
   "execution_count": 55
  },
  {
   "cell_type": "code",
   "outputs": [],
   "source": [
    "domain_class = ALL_DOMAIN_CLASSES_BY_NAME[domain_name](False, False)"
   ],
   "metadata": {
    "collapsed": false,
    "ExecuteTime": {
     "end_time": "2024-04-09T01:41:45.508184Z",
     "start_time": "2024-04-09T01:41:45.504170Z"
    }
   },
   "id": "3561f1bd9f32d4fc",
   "execution_count": 56
  },
  {
   "cell_type": "code",
   "outputs": [
    {
     "name": "stdout",
     "output_type": "stream",
     "text": [
      "-------------------------- mystery ('fluent_tracking', 'iter_3_question_8') --------------------------\n",
      "Cargo c0 is situated at location l1, cargo c1 is situated at location l1, cargo c10 is present at location l0, cargo c2 is situated at location l0, cargo c3 is situated at location l0, cargo c4 is present at location l1, cargo c5 is situated at location l1, cargo c6 is situated at location l1, cargo c7 is situated at location l1, cargo c8 is at location l1, cargo c9 is present at location l1, cargo v0 is at location l1, fuel level f2 neighbors fuel level f3, fuel level f3 neighbors fuel level f4, fuel level f4 neighbors fuel level f5, fuel level f5 neighbors fuel level f6, fuel level f6 neighbors fuel level f7, fuel level f7 neighbors fuel level f8, fuel-levels f0 and f1 are neighbors, fuel-levels f1 and f2 are neighbors, location l0 and location l1 are connected, location l0 has a fuel-level of f7, location l1 has fuel f6, space s0 neighbors space s1, there is a connection between locations l1 and l0 and vehicle v0 has space s1.\n",
      "\n",
      "\n",
      "Given the initial condition, the following actions are performed: cargo c1 is loaded in vehicle v0 with space s1 and space s0 at location l1, vehicle v0 moves to location l0 from location l1 that has fuel level f6 and f5, at location l0, cargo c1 is unloaded from vehicle v0 with spaces s0 and s1, vehicle v0 moves from location l0 which has fuel-levels f7 and f6 to location l1 and at location l1, cargo c4 is loaded in vehicle v0 with spaces s1 and s0 to reach the current state. In this state,. What are the self constraint properties of the state for f4? Write None if there are none\n",
      "\n",
      "\n",
      "fuel f4 does not exist in location l0 and fuel f4 does not exist in location l1\n",
      "\n",
      "\n",
      "-------------------------- mystery ('hallucination', 'iter_2_question_4') --------------------------\n",
      "Cargo c0 is situated at location l1, cargo c1 is present at location l1, cargo c10 is present at location l0, cargo c2 is situated at location l0, cargo c3 is present at location l0, cargo c4 is present at location l1, cargo c5 is present at location l1, cargo c6 is present at location l1, cargo c7 is situated at location l1, cargo c8 is present at location l1, cargo c9 is at location l1, cargo v0 is present at location l1, fuel level f1 neighbors fuel level f2, fuel-levels f0 and f1 are neighbors, fuel-levels f2 and f3 are neighbors, fuel-levels f3 and f4 are neighbors, fuel-levels f4 and f5 are neighbors, fuel-levels f5 and f6 are neighbors, fuel-levels f6 and f7 are neighbors, fuel-levels f7 and f8 are neighbors, location l0 has a fuel-level of f7, location l1 has a fuel-level of f6, location l1 is connected to location l0, spaces s0 and s1 are neighbors, there is a connection between locations l0 and l1 and vehicle v0 has space s1.\n",
      "\n",
      "\n",
      "Given the initial condition, the following actions are performed: at location l1, cargo c1 is loaded in vehicle v0 with spaces s1 and s0, vehicle v0 moves to location l0 from location l1 that has fuel level f6 and f5, at location l0, cargo c1 is unloaded from vehicle v0 with spaces s0 and s1, vehicle v0 moves to location l1 from location l0 that has fuel level f7 and f6 and cargo c4 is loaded in vehicle v0 with space s1 and space s0 at location l1 to reach the current state. In this state, some properties of the state may or may not be defined. Is fuel level f0 neighbors fuel level f1 part of the state? True or False\n",
      "\n",
      "\n",
      "True\n",
      "\n",
      "\n",
      "-------------------------- mystery ('numerical_reasoning', 'iter_3_question_2') --------------------------\n",
      "Cargo c0 is present at location l1, cargo c1 is situated at location l1, cargo c10 is present at location l0, cargo c2 is present at location l0, cargo c3 is situated at location l0, cargo c4 is present at location l1, cargo c5 is at location l1, cargo c6 is at location l1, cargo c7 is present at location l1, cargo c8 is present at location l1, cargo c9 is situated at location l1, cargo v0 is situated at location l1, fuel f6 exists in location l1, fuel level f2 neighbors fuel level f3, fuel level f3 neighbors fuel level f4, fuel level f5 neighbors fuel level f6, fuel level f6 neighbors fuel level f7, fuel level f7 neighbors fuel level f8, fuel-levels f0 and f1 are neighbors, fuel-levels f1 and f2 are neighbors, fuel-levels f4 and f5 are neighbors, location l0 and location l1 are connected, location l0 has fuel f7, location l1 is connected to location l0, spaces s0 and s1 are neighbors and vehicle v0 contains space s1.\n",
      "\n",
      "\n",
      "Given the initial condition, the following actions are performed: at location l1, cargo c1 is loaded in vehicle v0 with spaces s1 and s0, vehicle v0 moves to location l0 from location l1 that has fuel level f6 and f5, cargo c1 is unloaded from vehicle v0 with space s0 and space s1 at location l0, vehicle v0 moves from location l0 which has fuel-levels f7 and f6 to location l1 and at location l1, cargo c4 is loaded in vehicle v0 with spaces s1 and s0 to reach the current state. Is it True or False that the number of actions that led to current state in the sequence is equal to 7?\n",
      "\n",
      "\n",
      "False\n",
      "\n",
      "\n",
      "-------------------------- mystery ('numerical_reasoning', 'question_4') --------------------------\n",
      "Cargo c0 is present at location l1, cargo c1 is situated at location l1, cargo c10 is present at location l0, cargo c2 is present at location l0, cargo c3 is situated at location l0, cargo c4 is present at location l1, cargo c5 is at location l1, cargo c6 is at location l1, cargo c7 is present at location l1, cargo c8 is present at location l1, cargo c9 is situated at location l1, cargo v0 is situated at location l1, fuel f6 exists in location l1, fuel level f2 neighbors fuel level f3, fuel level f3 neighbors fuel level f4, fuel level f5 neighbors fuel level f6, fuel level f6 neighbors fuel level f7, fuel level f7 neighbors fuel level f8, fuel-levels f0 and f1 are neighbors, fuel-levels f1 and f2 are neighbors, fuel-levels f4 and f5 are neighbors, location l0 and location l1 are connected, location l0 has fuel f7, location l1 is connected to location l0, spaces s0 and s1 are neighbors and vehicle v0 contains space s1.\n",
      "\n",
      "\n",
      "Given the initial condition, the following actions are planned to be performed: at location l1, cargo c1 is loaded in vehicle v0 with spaces s1 and s0, vehicle v0 moves to location l1 from location l0 that has fuel level f1 and f6, cargo c1 is unloaded from vehicle v0 with space s0 and space s1 at location l0, vehicle v0 moves to location l1 from location l0 that has fuel level f7 and f6 and cargo c4 is loaded in vehicle v0 with space s1 and space s0 at location l1 to reach the current state. How many actions are there before the first inexecutable action? Write as an integer. Write None if there are none.\n",
      "\n",
      "\n",
      "1\n",
      "\n",
      "\n",
      "-------------------------- mystery ('fluent_tracking', 'iter_1_question_9') --------------------------\n",
      "Cargo c0 is situated at location l1, cargo c1 is situated at location l1, cargo c10 is present at location l0, cargo c2 is situated at location l0, cargo c3 is situated at location l0, cargo c4 is present at location l1, cargo c5 is situated at location l1, cargo c6 is situated at location l1, cargo c7 is situated at location l1, cargo c8 is at location l1, cargo c9 is present at location l1, cargo v0 is at location l1, fuel level f2 neighbors fuel level f3, fuel level f3 neighbors fuel level f4, fuel level f4 neighbors fuel level f5, fuel level f5 neighbors fuel level f6, fuel level f6 neighbors fuel level f7, fuel level f7 neighbors fuel level f8, fuel-levels f0 and f1 are neighbors, fuel-levels f1 and f2 are neighbors, location l0 and location l1 are connected, location l0 has a fuel-level of f7, location l1 has fuel f6, space s0 neighbors space s1, there is a connection between locations l1 and l0 and vehicle v0 has space s1.\n",
      "\n",
      "\n",
      "Given the initial condition, the following actions are performed: at location l1, cargo c1 is loaded in vehicle v0 with spaces s1 and s0, vehicle v0 moves to location l0 from location l1 that has fuel level f6 and f5, at location l0, cargo c1 is unloaded from vehicle v0 with spaces s0 and s1, vehicle v0 moves from location l0 which has fuel-levels f7 and f6 to location l1 and cargo c4 is loaded in vehicle v0 with space s1 and space s0 at location l1 to reach the current state. In this state, is it True or False that cargo c5 is situated at location l1?\n",
      "\n",
      "\n",
      "True\n",
      "\n",
      "\n",
      "-------------------------- mystery ('numerical_reasoning', 'iter_2_question_8') --------------------------\n",
      "Cargo c0 is present at location l1, cargo c1 is situated at location l1, cargo c10 is present at location l0, cargo c2 is present at location l0, cargo c3 is situated at location l0, cargo c4 is present at location l1, cargo c5 is at location l1, cargo c6 is at location l1, cargo c7 is present at location l1, cargo c8 is present at location l1, cargo c9 is situated at location l1, cargo v0 is situated at location l1, fuel f6 exists in location l1, fuel level f2 neighbors fuel level f3, fuel level f3 neighbors fuel level f4, fuel level f5 neighbors fuel level f6, fuel level f6 neighbors fuel level f7, fuel level f7 neighbors fuel level f8, fuel-levels f0 and f1 are neighbors, fuel-levels f1 and f2 are neighbors, fuel-levels f4 and f5 are neighbors, location l0 and location l1 are connected, location l0 has fuel f7, location l1 is connected to location l0, spaces s0 and s1 are neighbors and vehicle v0 contains space s1.\n",
      "\n",
      "\n",
      "Given the initial condition, the following actions are performed: cargo c1 is loaded in vehicle v0 with space s1 and space s0 at location l1, vehicle v0 moves from location l1 which has fuel-levels f6 and f5 to location l0, at location l0, cargo c1 is unloaded from vehicle v0 with spaces s0 and s1, vehicle v0 moves to location l1 from location l0 that has fuel level f7 and f6 and at location l1, cargo c4 is loaded in vehicle v0 with spaces s1 and s0 to reach the current state. In this state, what is the total number of self constraint properties of the state? Write as an integer. Write None if there are none.\n",
      "\n",
      "\n",
      "2\n",
      "\n",
      "\n",
      "-------------------------- mystery ('state_tracking', 'iter_2_question_1') --------------------------\n",
      "Cargo c0 is at location l1, cargo c1 is present at location l1, cargo c10 is at location l0, cargo c2 is situated at location l0, cargo c3 is situated at location l0, cargo c4 is at location l1, cargo c5 is at location l1, cargo c6 is situated at location l1, cargo c7 is at location l1, cargo c8 is at location l1, cargo c9 is situated at location l1, cargo v0 is at location l1, fuel level f2 neighbors fuel level f3, fuel level f3 neighbors fuel level f4, fuel level f4 neighbors fuel level f5, fuel level f7 neighbors fuel level f8, fuel-levels f0 and f1 are neighbors, fuel-levels f1 and f2 are neighbors, fuel-levels f5 and f6 are neighbors, fuel-levels f6 and f7 are neighbors, location l0 has fuel f7, location l0 is connected to location l1, location l1 and location l0 are connected, location l1 has fuel f6, spaces s0 and s1 are neighbors and vehicle v0 contains space s1.\n",
      "\n",
      "\n",
      "Given the initial condition, the following actions are performed: at location l1, cargo c1 is loaded in vehicle v0 with spaces s1 and s0, vehicle v0 moves from location l1 which has fuel-levels f6 and f5 to location l0, at location l0, cargo c1 is unloaded from vehicle v0 with spaces s0 and s1, vehicle v0 moves from location l0 which has fuel-levels f7 and f6 to location l1 and at location l1, cargo c4 is loaded in vehicle v0 with spaces s1 and s0 to reach the current state. In this state, list all valid properties of the state. Write None if there are none.\n",
      "\n",
      "\n",
      "cargo c0 is situated at location l1, cargo c1 is present at location l0, cargo c10 is present at location l0, cargo c2 is present at location l0, cargo c3 is situated at location l0, cargo c4 is located in vehicle v0, cargo c5 is present at location l1, cargo c6 is present at location l1, cargo c7 is present at location l1, cargo c8 is situated at location l1, cargo c9 is situated at location l1, cargo v0 is situated at location l1, fuel f6 exists in location l0, fuel level f1 neighbors fuel level f2, fuel level f3 neighbors fuel level f4, fuel level f5 neighbors fuel level f6, fuel-levels f0 and f1 are neighbors, fuel-levels f2 and f3 are neighbors, fuel-levels f4 and f5 are neighbors, fuel-levels f6 and f7 are neighbors, fuel-levels f7 and f8 are neighbors, location l1 has fuel f5, space s0 neighbors space s1, there is a connection between locations l0 and l1, there is a connection between locations l1 and l0 and vehicle v0 contains space s0\n",
      "\n",
      "\n",
      "-------------------------- mystery ('action_executability', 'iter_3_question_1') --------------------------\n",
      "Cargo c0 is present at location l1, cargo c1 is at location l1, cargo c10 is situated at location l0, cargo c2 is present at location l0, cargo c3 is present at location l0, cargo c4 is situated at location l1, cargo c5 is at location l1, cargo c6 is at location l1, cargo c7 is present at location l1, cargo c8 is present at location l1, cargo c9 is situated at location l1, cargo v0 is present at location l1, fuel f6 exists in location l1, fuel level f0 neighbors fuel level f1, fuel level f1 neighbors fuel level f2, fuel level f2 neighbors fuel level f3, fuel level f3 neighbors fuel level f4, fuel level f4 neighbors fuel level f5, fuel level f6 neighbors fuel level f7, fuel-levels f5 and f6 are neighbors, fuel-levels f7 and f8 are neighbors, location l0 and location l1 are connected, location l0 has fuel f7, spaces s0 and s1 are neighbors, there is a connection between locations l1 and l0 and vehicle v0 contains space s1.\n",
      "\n",
      "\n",
      "Given the initial condition, the following actions are performed: cargo c1 is loaded in vehicle v0 with space s1 and space s0 at location l1, vehicle v0 moves to location l0 from location l1 that has fuel level f6 and f5, cargo c1 is unloaded from vehicle v0 with space s0 and space s1 at location l0, vehicle v0 moves to location l1 from location l0 that has fuel level f7 and f6 and at location l1, cargo c4 is loaded in vehicle v0 with spaces s1 and s0 to reach the current state. What is the first inexecutable action in the sequence? Write None if there are none.\n",
      "\n",
      "\n",
      "None\n",
      "\n",
      "\n",
      "-------------------------- mystery ('state_tracking', 'iter_2_question_3') --------------------------\n",
      "Cargo c0 is at location l1, cargo c1 is present at location l1, cargo c10 is at location l0, cargo c2 is situated at location l0, cargo c3 is situated at location l0, cargo c4 is at location l1, cargo c5 is at location l1, cargo c6 is situated at location l1, cargo c7 is at location l1, cargo c8 is at location l1, cargo c9 is situated at location l1, cargo v0 is at location l1, fuel level f2 neighbors fuel level f3, fuel level f3 neighbors fuel level f4, fuel level f4 neighbors fuel level f5, fuel level f7 neighbors fuel level f8, fuel-levels f0 and f1 are neighbors, fuel-levels f1 and f2 are neighbors, fuel-levels f5 and f6 are neighbors, fuel-levels f6 and f7 are neighbors, location l0 has fuel f7, location l0 is connected to location l1, location l1 and location l0 are connected, location l1 has fuel f6, spaces s0 and s1 are neighbors and vehicle v0 contains space s1.\n",
      "\n",
      "\n",
      "Given the initial condition, the following actions are performed: at location l1, cargo c1 is loaded in vehicle v0 with spaces s1 and s0, vehicle v0 moves from location l1 which has fuel-levels f6 and f5 to location l0, cargo c1 is unloaded from vehicle v0 with space s0 and space s1 at location l0, vehicle v0 moves from location l0 which has fuel-levels f7 and f6 to location l1 and cargo c4 is loaded in vehicle v0 with space s1 and space s0 at location l1 to reach the current state. In this state, list all valid properties of the state that involve negations. Write None if there are none.\n",
      "\n",
      "\n",
      "cargo c0 is not in vehicle v0, cargo c0 is not situated at location l0, cargo c1 is not at location l1cargo c1 is not present at location l1, cargo c10 is not at location l1cargo c10 is not present at location l1, cargo c10 is not located in vehicle v0, cargo c2 is not at location l1cargo c2 is not present at location l1, cargo c2 is not in vehicle v0, cargo c3 is not at location l1cargo c3 is not present at location l1, cargo c3 is not located in vehicle v0, cargo c4 is not situated at location l0, cargo c4 is not situated at location l1, cargo c5 is not situated at location l0, cargo c6 is not located in vehicle v0, cargo c6 is not situated at location l0, cargo c7 is not located in vehicle v0, cargo c7 is not situated at location l0, cargo c8 is not in vehicle v0, cargo c8 is not situated at location l0, cargo c9 is not at location l0cargo c9 is not present at location l0, cargo v0 is not situated at location l0, fuel f0 does not exist in location l1, fuel f2 does not exist in location l0, fuel f3 does not exist in location l1, fuel f4 does not exist in location l0, fuel f4 does not exist in location l1, fuel level f0 does not neighbour fuel level f4, fuel level f0 does not neighbour fuel level f5, fuel level f0 does not neighbour fuel level f8, fuel level f1 does not neighbour fuel level f0, fuel level f1 does not neighbour fuel level f6, fuel level f1 does not neighbour fuel level f8, fuel level f2 does not neighbour fuel level f0, fuel level f2 does not neighbour fuel level f6, fuel level f2 does not neighbour fuel level f7, fuel level f3 does not neighbour fuel level f0, fuel level f3 does not neighbour fuel level f1, fuel level f3 does not neighbour fuel level f2, fuel level f3 does not neighbour fuel level f6, fuel level f3 does not neighbour fuel level f7, fuel level f4 does not neighbour fuel level f0, fuel level f4 does not neighbour fuel level f6, fuel level f4 does not neighbour fuel level f7, fuel level f4 does not neighbour fuel level f8, fuel level f5 does not neighbour fuel level f3, fuel level f6 does not neighbour fuel level f0, fuel level f6 does not neighbour fuel level f2, fuel level f6 does not neighbour fuel level f5, fuel level f6 does not neighbour fuel level f8, fuel level f7 does not neighbour fuel level f0, fuel level f7 does not neighbour fuel level f3, fuel level f7 does not neighbour fuel level f4, fuel level f7 does not neighbour fuel level f6, fuel level f8 does not neighbour fuel level f2, fuel level f8 does not neighbour fuel level f3, fuel level f8 does not neighbour fuel level f4, fuel level f8 does not neighbour fuel level f5, fuel level f8 does not neighbour fuel level f7, fuel-levels f0 and f2 are not neighbors, fuel-levels f0 and f3 are not neighbors, fuel-levels f0 and f6 are not neighbors, fuel-levels f0 and f7 are not neighbors, fuel-levels f1 and f3 are not neighbors, fuel-levels f1 and f4 are not neighbors, fuel-levels f1 and f5 are not neighbors, fuel-levels f1 and f7 are not neighbors, fuel-levels f2 and f1 are not neighbors, fuel-levels f2 and f4 are not neighbors, fuel-levels f2 and f5 are not neighbors, fuel-levels f2 and f8 are not neighbors, fuel-levels f3 and f5 are not neighbors, fuel-levels f3 and f8 are not neighbors, fuel-levels f4 and f1 are not neighbors, fuel-levels f4 and f2 are not neighbors, fuel-levels f4 and f3 are not neighbors, fuel-levels f5 and f0 are not neighbors, fuel-levels f5 and f1 are not neighbors, fuel-levels f5 and f2 are not neighbors, fuel-levels f5 and f4 are not neighbors, fuel-levels f5 and f7 are not neighbors, fuel-levels f5 and f8 are not neighbors, fuel-levels f6 and f1 are not neighbors, fuel-levels f6 and f3 are not neighbors, fuel-levels f6 and f4 are not neighbors, fuel-levels f7 and f1 are not neighbors, fuel-levels f7 and f2 are not neighbors, fuel-levels f7 and f5 are not neighbors, fuel-levels f8 and f0 are not neighbors, fuel-levels f8 and f1 are not neighbors, fuel-levels f8 and f6 are not neighbors, location l0 does not have a fuel-level of f1, location l0 does not have a fuel-level of f3, location l0 does not have a fuel-level of f7, location l0 does not have a fuel-level of f8, location l0 does not have fuel f0, location l0 does not have fuel f5, location l1 does not have a fuel-level of f1, location l1 does not have a fuel-level of f6, location l1 does not have fuel f2, location l1 does not have fuel f7, location l1 does not have fuel f8, spaces s1 and s0 are not neighbors, vehicle v0 does not contain cargo c1, vehicle v0 does not contain cargo c5, vehicle v0 does not contain cargo c9 and vehicle v0 does not contain space s1\n",
      "\n",
      "\n",
      "-------------------------- mystery ('effects', 'iter_1_question_15') --------------------------\n",
      "Cargo c0 is at location l1, cargo c1 is at location l1, cargo c10 is situated at location l0, cargo c2 is situated at location l0, cargo c3 is present at location l0, cargo c4 is situated at location l1, cargo c5 is at location l1, cargo c6 is at location l1, cargo c7 is situated at location l1, cargo c8 is present at location l1, cargo c9 is present at location l1, cargo v0 is present at location l1, fuel f6 exists in location l1, fuel level f1 neighbors fuel level f2, fuel level f3 neighbors fuel level f4, fuel level f5 neighbors fuel level f6, fuel-levels f0 and f1 are neighbors, fuel-levels f2 and f3 are neighbors, fuel-levels f4 and f5 are neighbors, fuel-levels f6 and f7 are neighbors, fuel-levels f7 and f8 are neighbors, location l0 has fuel f7, location l0 is connected to location l1, space s0 neighbors space s1, there is a connection between locations l1 and l0 and vehicle v0 contains space s1.\n",
      "\n",
      "\n",
      "Given the initial condition, the following actions are performed: cargo c1 is loaded in vehicle v0 with space s1 and space s0 at location l1, vehicle v0 moves to location l0 from location l1 that has fuel level f6 and f5, at location l0, cargo c1 is unloaded from vehicle v0 with spaces s0 and s1, vehicle v0 moves to location l1 from location l0 that has fuel level f7 and f6 and cargo c4 is loaded in vehicle v0 with space s1 and space s0 at location l1 to reach the current state. In this state, if vehicle v0 moves from location l1 which has fuel-levels f5 and f4 to location l0, is it True or False that no properties of the state change?\n",
      "\n",
      "\n",
      "True\n"
     ]
    }
   ],
   "source": [
    "import random\n",
    "for key, qa_object in random.sample(list(qa_dict.items()), 10):\n",
    "    print('--------------------------',domain_name, key, '--------------------------')\n",
    "    print(qa_object['initial_state_nl'])\n",
    "    print('\\n')\n",
    "    print(qa_object['question'])\n",
    "    print('\\n')\n",
    "    print(qa_object['answer'])\n",
    "    print('\\n')"
   ],
   "metadata": {
    "collapsed": false,
    "ExecuteTime": {
     "end_time": "2024-04-09T01:41:46.024941Z",
     "start_time": "2024-04-09T01:41:46.015600Z"
    }
   },
   "id": "58ff8bfda016e744",
   "execution_count": 57
  },
  {
   "cell_type": "code",
   "outputs": [],
   "source": [],
   "metadata": {
    "collapsed": false
   },
   "id": "18cfbe9aa3836426"
  }
 ],
 "metadata": {
  "kernelspec": {
   "display_name": "Python 3",
   "language": "python",
   "name": "python3"
  },
  "language_info": {
   "codemirror_mode": {
    "name": "ipython",
    "version": 2
   },
   "file_extension": ".py",
   "mimetype": "text/x-python",
   "name": "python",
   "nbconvert_exporter": "python",
   "pygments_lexer": "ipython2",
   "version": "2.7.6"
  }
 },
 "nbformat": 4,
 "nbformat_minor": 5
}
