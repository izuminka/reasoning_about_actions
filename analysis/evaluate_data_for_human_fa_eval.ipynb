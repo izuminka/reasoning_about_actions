{
 "cells": [
  {
   "cell_type": "code",
   "execution_count": 36,
   "id": "initial_id",
   "metadata": {
    "collapsed": true,
    "ExecuteTime": {
     "end_time": "2024-06-06T05:22:25.377082Z",
     "start_time": "2024-06-06T05:22:25.369417Z"
    }
   },
   "outputs": [],
   "source": [
    "import sys\n",
    "sys.path.insert(0, '../../')\n",
    "from questions_construction.main import PLAN_LENGTHS, QUESTION_CATEGORIES\n",
    "from questions_construction.domains import DOMAIN_NAMES\n",
    "\n",
    "from analysis.model_performances import *\n",
    "from common import *\n",
    "import random"
   ]
  },
  {
   "cell_type": "code",
   "outputs": [],
   "source": [
    "model_name = 'gpt-4o' #'gemini' #\n",
    "by_file_name = {}\n",
    "for i in range(1,4):\n",
    "    # try:\n",
    "    with open(f'{PROJECT_PATH}/results.human_eval.free_answers/{model_name}/human_{i}.all.{model_name}.json') as f:\n",
    "        data_id = f'human_{i}'\n",
    "        data = json.load(f)\n",
    "        by_file_name[data_id] = {d['id']: d for _category, d_ls in data.items() for d in d_ls}\n",
    "        for _id, d in by_file_name[data_id].items():\n",
    "            d['annotator'] = data_id\n",
    "    # except:\n",
    "    #     print(f'{model_name}.human_{i}')"
   ],
   "metadata": {
    "collapsed": false,
    "ExecuteTime": {
     "end_time": "2024-06-06T06:07:16.525173Z",
     "start_time": "2024-06-06T06:07:16.474042Z"
    }
   },
   "id": "262fbff26664edab",
   "execution_count": 98
  },
  {
   "cell_type": "code",
   "outputs": [],
   "source": [
    "ids_by_category = defaultdict(set)\n",
    "for file_name, d_ls in by_file_name.items():\n",
    "    for _id, d in d_ls.items():\n",
    "        ids_by_category[d['question_category']].add(d['id'])"
   ],
   "metadata": {
    "collapsed": false,
    "ExecuteTime": {
     "end_time": "2024-06-06T06:07:17.107513Z",
     "start_time": "2024-06-06T06:07:17.102669Z"
    }
   },
   "id": "981ea184e391b0f5",
   "execution_count": 99
  },
  {
   "cell_type": "code",
   "outputs": [
    {
     "name": "stdout",
     "output_type": "stream",
     "text": [
      "Total mean: 0.5, std: 0.5, sem: 0.11180339887498948\n"
     ]
    }
   ],
   "source": [
    "results_by_category = {}\n",
    "\n",
    "# category_name = 'object_tracking'\n",
    "total_scores = []\n",
    "scores_all_by_annotator = defaultdict(list)\n",
    "for category_name in QUESTION_CATEGORIES:\n",
    "    category_scores = []\n",
    "    for q_id in ids_by_category[category_name]:\n",
    "        annotators_scores = []\n",
    "        for annotator, data_by_id in by_file_name.items():\n",
    "            score = int(data_by_id[q_id]['human_score'])\n",
    "            annotators_scores.append(score)\n",
    "            scores_all_by_annotator[annotator].append(score)\n",
    "        mean_score = np.mean(annotators_scores)\n",
    "        if mean_score > 0.5:\n",
    "            category_scores.append(1)\n",
    "        else:\n",
    "            category_scores.append(0)\n",
    "    total_scores += category_scores\n",
    "    mean = np.mean(category_scores)\n",
    "    std = np.std(category_scores)\n",
    "    sem = std / np.sqrt(len(category_scores))\n",
    "    results_by_category[category_name] = {'mean': mean, 'std': std, 'sem': sem, 'scores': category_scores, 'n': len(category_scores)}\n",
    "    \n",
    "mean_total = np.mean(total_scores)\n",
    "std_total = np.std(total_scores)\n",
    "sem_total = std_total / np.sqrt(len(total_scores))\n",
    "print(f'Total mean: {mean}, std: {std}, sem: {sem}')"
   ],
   "metadata": {
    "collapsed": false,
    "ExecuteTime": {
     "end_time": "2024-06-06T06:07:17.532662Z",
     "start_time": "2024-06-06T06:07:17.518508Z"
    }
   },
   "id": "547613f3a822fb25",
   "execution_count": 100
  },
  {
   "cell_type": "code",
   "outputs": [
    {
     "name": "stdout",
     "output_type": "stream",
     "text": [
      "object_tracking: ${85.0}_{7.98}$\n",
      "fluent_tracking: ${30.0}_{10.25}$\n",
      "state_tracking: ${45.0}_{11.12}$\n",
      "action_executability: ${45.0}_{11.12}$\n",
      "effects: ${30.0}_{10.25}$\n",
      "numerical_reasoning: ${15.0}_{7.98}$\n",
      "hallucination: ${40.0}_{10.95}$\n",
      "composite: ${50.0}_{11.18}$\n",
      "TOTAL AVG: ${42.5}_{3.91}$\n"
     ]
    }
   ],
   "source": [
    "for category_name, results in results_by_category.items():\n",
    "    print(f'{category_name}: '+'${'+ f'{results[\"mean\"]*100}'+'}_{'+ f'{round(results[\"sem\"]*100, 2)}'+'}$')\n",
    "print(f'TOTAL AVG: '+'${'+ f'{mean_total*100}'+'}_{'+ f'{round(sem_total*100, 2)}'+'}$')"
   ],
   "metadata": {
    "collapsed": false,
    "ExecuteTime": {
     "end_time": "2024-06-06T06:07:18.180712Z",
     "start_time": "2024-06-06T06:07:18.174391Z"
    }
   },
   "id": "f22ddadb96e52ddf",
   "execution_count": 101
  },
  {
   "cell_type": "code",
   "outputs": [],
   "source": [],
   "metadata": {
    "collapsed": false,
    "ExecuteTime": {
     "end_time": "2024-06-06T06:08:31.523181Z",
     "start_time": "2024-06-06T06:08:31.521007Z"
    }
   },
   "id": "c8f4ccd3f7d138d4",
   "execution_count": 101
  },
  {
   "cell_type": "markdown",
   "source": [
    "# Proportionate Agreements"
   ],
   "metadata": {
    "collapsed": false
   },
   "id": "82c6dc406edf0e0"
  },
  {
   "cell_type": "code",
   "outputs": [
    {
     "data": {
      "text/plain": "0.7379448746887349"
     },
     "execution_count": 102,
     "metadata": {},
     "output_type": "execute_result"
    }
   ],
   "source": [
    "from sklearn.metrics import cohen_kappa_score\n",
    "\n",
    "kappa_scores = []\n",
    "kappa_scores.append(cohen_kappa_score(scores_all_by_annotator[f'human_1'], scores_all_by_annotator[f'human_2']))\n",
    "kappa_scores.append(cohen_kappa_score(scores_all_by_annotator[f'human_1'], scores_all_by_annotator[f'human_3']))\n",
    "kappa_scores.append(cohen_kappa_score(scores_all_by_annotator[f'human_2'], scores_all_by_annotator[f'human_3']))\n",
    "kappa_scores\n",
    "kappa_scores_avg = np.mean(kappa_scores)\n",
    "kappa_scores_avg"
   ],
   "metadata": {
    "collapsed": false,
    "ExecuteTime": {
     "end_time": "2024-06-06T06:08:33.013977Z",
     "start_time": "2024-06-06T06:08:33.002993Z"
    }
   },
   "id": "a9f83f573accdeeb",
   "execution_count": 102
  },
  {
   "cell_type": "code",
   "outputs": [
    {
     "data": {
      "text/plain": "[0.7653194263363755, 0.711508309814989, 0.7370068879148404]"
     },
     "execution_count": 103,
     "metadata": {},
     "output_type": "execute_result"
    }
   ],
   "source": [
    "kappa_scores"
   ],
   "metadata": {
    "collapsed": false,
    "ExecuteTime": {
     "end_time": "2024-06-06T06:08:34.484179Z",
     "start_time": "2024-06-06T06:08:34.478653Z"
    }
   },
   "id": "b1d8cb02337c7bc3",
   "execution_count": 103
  },
  {
   "cell_type": "code",
   "outputs": [],
   "source": [],
   "metadata": {
    "collapsed": false
   },
   "id": "95f357b21d7a75e9"
  }
 ],
 "metadata": {
  "kernelspec": {
   "display_name": "Python 3",
   "language": "python",
   "name": "python3"
  },
  "language_info": {
   "codemirror_mode": {
    "name": "ipython",
    "version": 2
   },
   "file_extension": ".py",
   "mimetype": "text/x-python",
   "name": "python",
   "nbconvert_exporter": "python",
   "pygments_lexer": "ipython2",
   "version": "2.7.6"
  }
 },
 "nbformat": 4,
 "nbformat_minor": 5
}
