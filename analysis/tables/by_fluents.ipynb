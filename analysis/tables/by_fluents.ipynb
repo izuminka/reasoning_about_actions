{
 "cells": [
  {
   "cell_type": "code",
   "outputs": [],
   "source": [
    "import sys\n",
    "import json\n",
    "sys.path.append('..')\n",
    "from common import *\n",
    "from analysis.model_performances import *\n",
    "from questions_construction.questions import *\n",
    "from copy import deepcopy\n",
    "from helpers import *\n",
    "import pandas as pd\n",
    "\n",
    "\n",
    "TO_PRETTY |= {(WITHOUT_RANDOM_SUB, WITHOUT_RAMIFICATIONS): 'Baseline', \n",
    "              (WITHOUT_RANDOM_SUB, WITH_RAMIFICATIONS): 'Baseline + R.',\n",
    "             (WITH_RANDOM_SUB, WITHOUT_RAMIFICATIONS): 'Obfus. Baseline',\n",
    "             (WITH_RANDOM_SUB, WITH_RAMIFICATIONS): 'Obfus. Baseline + R.',\n",
    "}"
   ],
   "metadata": {
    "collapsed": false,
    "ExecuteTime": {
     "end_time": "2024-06-06T00:10:02.607783Z",
     "start_time": "2024-06-06T00:09:58.449002Z"
    }
   },
   "id": "1581e9208ff09f8e",
   "execution_count": 1
  },
  {
   "cell_type": "code",
   "outputs": [
    {
     "name": "stdout",
     "output_type": "stream",
     "text": [
      "questions gathered\n"
     ]
    },
    {
     "name": "stderr",
     "output_type": "stream",
     "text": [
      "  2%|▏         | 16/1040 [00:00<00:07, 144.30it/s]"
     ]
    },
    {
     "name": "stdout",
     "output_type": "stream",
     "text": [
      "Selected IDs are missing for: gpt-4o, without_random_sub, without_ramifications, few_shot_1, blocksworld, Instance_1\n",
      "Selected IDs are missing for: gpt-4o, without_random_sub, without_ramifications, few_shot_1, blocksworld, Instance_2\n",
      "Selected IDs are missing for: gpt-4o, without_random_sub, without_ramifications, few_shot_1, blocksworld, Instance_3\n",
      "Selected IDs are missing for: gpt-4o, without_random_sub, without_ramifications, few_shot_1, blocksworld, Instance_4\n",
      "Selected IDs are missing for: gpt-4o, without_random_sub, without_ramifications, few_shot_1, blocksworld, Instance_5\n",
      "Selected IDs are missing for: gpt-4o, without_random_sub, without_ramifications, few_shot_1, blocksworld, Instance_6\n",
      "Selected IDs are missing for: gpt-4o, without_random_sub, without_ramifications, few_shot_1, blocksworld, Instance_7\n",
      "Selected IDs are missing for: gpt-4o, without_random_sub, without_ramifications, few_shot_1, blocksworld, Instance_8\n",
      "Selected IDs are missing for: gpt-4o, without_random_sub, without_ramifications, few_shot_1, blocksworld, Instance_9\n",
      "Selected IDs are missing for: gpt-4o, without_random_sub, without_ramifications, few_shot_1, blocksworld, Instance_10\n",
      "Selected IDs are missing for: gpt-4o, without_random_sub, without_ramifications, few_shot_1, depots, Instance_1\n"
     ]
    },
    {
     "name": "stderr",
     "output_type": "stream",
     "text": [
      "  4%|▍         | 40/1040 [00:00<00:05, 193.33it/s]"
     ]
    },
    {
     "name": "stdout",
     "output_type": "stream",
     "text": [
      "Selected IDs are missing for: gpt-4o, without_random_sub, without_ramifications, few_shot_1, depots, Instance_2\n",
      "Selected IDs are missing for: gpt-4o, without_random_sub, without_ramifications, few_shot_1, depots, Instance_4\n",
      "Selected IDs are missing for: gpt-4o, without_random_sub, without_ramifications, few_shot_1, depots, Instance_5\n",
      "Selected IDs are missing for: gpt-4o, without_random_sub, without_ramifications, few_shot_1, depots, Instance_6\n",
      "Selected IDs are missing for: gpt-4o, without_random_sub, without_ramifications, few_shot_1, depots, Instance_7\n",
      "Selected IDs are missing for: gpt-4o, without_random_sub, without_ramifications, few_shot_1, depots, Instance_8\n",
      "Selected IDs are missing for: gpt-4o, without_random_sub, without_ramifications, few_shot_1, depots, Instance_9\n",
      "Selected IDs are missing for: gpt-4o, without_random_sub, without_ramifications, few_shot_1, depots, Instance_10\n"
     ]
    },
    {
     "name": "stderr",
     "output_type": "stream",
     "text": [
      "  6%|▌         | 62/1040 [00:00<00:04, 201.22it/s]"
     ]
    },
    {
     "name": "stdout",
     "output_type": "stream",
     "text": [
      "Selected IDs are missing for: gpt-4o, without_random_sub, without_ramifications, few_shot_1, driverlog, Instance_1\n",
      "Selected IDs are missing for: gpt-4o, without_random_sub, without_ramifications, few_shot_1, driverlog, Instance_2\n",
      "Selected IDs are missing for: gpt-4o, without_random_sub, without_ramifications, few_shot_1, driverlog, Instance_3\n",
      "Selected IDs are missing for: gpt-4o, without_random_sub, without_ramifications, few_shot_1, driverlog, Instance_4\n",
      "Selected IDs are missing for: gpt-4o, without_random_sub, without_ramifications, few_shot_1, driverlog, Instance_5\n",
      "Selected IDs are missing for: gpt-4o, without_random_sub, without_ramifications, few_shot_1, driverlog, Instance_6\n",
      "Selected IDs are missing for: gpt-4o, without_random_sub, without_ramifications, few_shot_1, driverlog, Instance_7\n",
      "Selected IDs are missing for: gpt-4o, without_random_sub, without_ramifications, few_shot_1, driverlog, Instance_8\n",
      "Selected IDs are missing for: gpt-4o, without_random_sub, without_ramifications, few_shot_1, driverlog, Instance_9\n",
      "Selected IDs are missing for: gpt-4o, without_random_sub, without_ramifications, few_shot_1, driverlog, Instance_10\n",
      "Selected IDs are missing for: gpt-4o, without_random_sub, without_ramifications, few_shot_1, goldminer, Instance_1\n",
      "Selected IDs are missing for: gpt-4o, without_random_sub, without_ramifications, few_shot_1, goldminer, Instance_2\n",
      "Selected IDs are missing for: gpt-4o, without_random_sub, without_ramifications, few_shot_1, goldminer, Instance_3\n",
      "Selected IDs are missing for: gpt-4o, without_random_sub, without_ramifications, few_shot_1, goldminer, Instance_4\n",
      "Selected IDs are missing for: gpt-4o, without_random_sub, without_ramifications, few_shot_1, goldminer, Instance_5\n",
      "Selected IDs are missing for: gpt-4o, without_random_sub, without_ramifications, few_shot_1, goldminer, Instance_6\n",
      "Selected IDs are missing for: gpt-4o, without_random_sub, without_ramifications, few_shot_1, goldminer, Instance_7\n",
      "Selected IDs are missing for: gpt-4o, without_random_sub, without_ramifications, few_shot_1, goldminer, Instance_8\n",
      "Selected IDs are missing for: gpt-4o, without_random_sub, without_ramifications, few_shot_1, goldminer, Instance_9\n",
      "Selected IDs are missing for: gpt-4o, without_random_sub, without_ramifications, few_shot_1, goldminer, Instance_10\n"
     ]
    },
    {
     "name": "stderr",
     "output_type": "stream",
     "text": [
      " 10%|█         | 104/1040 [00:00<00:04, 191.30it/s]"
     ]
    },
    {
     "name": "stdout",
     "output_type": "stream",
     "text": [
      "Selected IDs are missing for: gpt-4o, without_random_sub, without_ramifications, few_shot_1, grippers, Instance_1\n",
      "Selected IDs are missing for: gpt-4o, without_random_sub, without_ramifications, few_shot_1, grippers, Instance_2\n",
      "Selected IDs are missing for: gpt-4o, without_random_sub, without_ramifications, few_shot_1, grippers, Instance_3\n",
      "Selected IDs are missing for: gpt-4o, without_random_sub, without_ramifications, few_shot_1, grippers, Instance_4\n",
      "Selected IDs are missing for: gpt-4o, without_random_sub, without_ramifications, few_shot_1, grippers, Instance_5\n",
      "Selected IDs are missing for: gpt-4o, without_random_sub, without_ramifications, few_shot_1, grippers, Instance_7\n",
      "Selected IDs are missing for: gpt-4o, without_random_sub, without_ramifications, few_shot_1, grippers, Instance_8\n",
      "Selected IDs are missing for: gpt-4o, without_random_sub, without_ramifications, few_shot_1, grippers, Instance_9\n",
      "Selected IDs are missing for: gpt-4o, without_random_sub, without_ramifications, few_shot_1, grippers, Instance_10\n",
      "Selected IDs are missing for: gpt-4o, without_random_sub, without_ramifications, few_shot_1, logistics, Instance_1\n",
      "Selected IDs are missing for: gpt-4o, without_random_sub, without_ramifications, few_shot_1, logistics, Instance_2\n",
      "Selected IDs are missing for: gpt-4o, without_random_sub, without_ramifications, few_shot_1, logistics, Instance_3\n",
      "Selected IDs are missing for: gpt-4o, without_random_sub, without_ramifications, few_shot_1, logistics, Instance_4\n",
      "Selected IDs are missing for: gpt-4o, without_random_sub, without_ramifications, few_shot_1, logistics, Instance_5\n",
      "Selected IDs are missing for: gpt-4o, without_random_sub, without_ramifications, few_shot_1, logistics, Instance_6\n",
      "Selected IDs are missing for: gpt-4o, without_random_sub, without_ramifications, few_shot_1, logistics, Instance_7\n",
      "Selected IDs are missing for: gpt-4o, without_random_sub, without_ramifications, few_shot_1, logistics, Instance_8\n",
      "Selected IDs are missing for: gpt-4o, without_random_sub, without_ramifications, few_shot_1, logistics, Instance_9\n",
      "Selected IDs are missing for: gpt-4o, without_random_sub, without_ramifications, few_shot_1, logistics, Instance_10\n",
      "Selected IDs are missing for: gpt-4o, without_random_sub, without_ramifications, few_shot_1, miconic, Instance_1\n",
      "Selected IDs are missing for: gpt-4o, without_random_sub, without_ramifications, few_shot_1, miconic, Instance_2\n",
      "Selected IDs are missing for: gpt-4o, without_random_sub, without_ramifications, few_shot_1, miconic, Instance_3\n"
     ]
    },
    {
     "name": "stderr",
     "output_type": "stream",
     "text": [
      " 15%|█▍        | 153/1040 [00:00<00:04, 219.69it/s]"
     ]
    },
    {
     "name": "stdout",
     "output_type": "stream",
     "text": [
      "Selected IDs are missing for: gpt-4o, without_random_sub, without_ramifications, few_shot_1, miconic, Instance_4\n",
      "Selected IDs are missing for: gpt-4o, without_random_sub, without_ramifications, few_shot_1, miconic, Instance_5\n",
      "Selected IDs are missing for: gpt-4o, without_random_sub, without_ramifications, few_shot_1, miconic, Instance_7\n",
      "Selected IDs are missing for: gpt-4o, without_random_sub, without_ramifications, few_shot_1, miconic, Instance_8\n",
      "Selected IDs are missing for: gpt-4o, without_random_sub, without_ramifications, few_shot_1, miconic, Instance_9\n",
      "Selected IDs are missing for: gpt-4o, without_random_sub, without_ramifications, few_shot_1, miconic, Instance_10\n",
      "Selected IDs are missing for: gpt-4o, without_random_sub, without_ramifications, few_shot_1, mystery, Instance_1\n",
      "Selected IDs are missing for: gpt-4o, without_random_sub, without_ramifications, few_shot_1, mystery, Instance_3\n",
      "Selected IDs are missing for: gpt-4o, without_random_sub, without_ramifications, few_shot_1, mystery, Instance_4\n",
      "Selected IDs are missing for: gpt-4o, without_random_sub, without_ramifications, few_shot_1, mystery, Instance_5\n",
      "Selected IDs are missing for: gpt-4o, without_random_sub, without_ramifications, few_shot_1, mystery, Instance_7\n",
      "Selected IDs are missing for: gpt-4o, without_random_sub, without_ramifications, few_shot_1, mystery, Instance_8\n",
      "Selected IDs are missing for: gpt-4o, without_random_sub, without_ramifications, few_shot_1, mystery, Instance_9\n",
      "Selected IDs are missing for: gpt-4o, without_random_sub, without_ramifications, few_shot_1, mystery, Instance_10\n",
      "Selected IDs are missing for: gpt-4o, without_random_sub, without_ramifications, few_shot_1, npuzzle, Instance_1\n",
      "Selected IDs are missing for: gpt-4o, without_random_sub, without_ramifications, few_shot_1, npuzzle, Instance_2\n",
      "Selected IDs are missing for: gpt-4o, without_random_sub, without_ramifications, few_shot_1, npuzzle, Instance_3\n",
      "Selected IDs are missing for: gpt-4o, without_random_sub, without_ramifications, few_shot_1, npuzzle, Instance_4\n",
      "Selected IDs are missing for: gpt-4o, without_random_sub, without_ramifications, few_shot_1, npuzzle, Instance_5\n",
      "Selected IDs are missing for: gpt-4o, without_random_sub, without_ramifications, few_shot_1, npuzzle, Instance_6\n",
      "Selected IDs are missing for: gpt-4o, without_random_sub, without_ramifications, few_shot_1, npuzzle, Instance_7\n"
     ]
    },
    {
     "name": "stderr",
     "output_type": "stream",
     "text": [
      " 17%|█▋        | 176/1040 [00:00<00:04, 213.18it/s]"
     ]
    },
    {
     "name": "stdout",
     "output_type": "stream",
     "text": [
      "Selected IDs are missing for: gpt-4o, without_random_sub, without_ramifications, few_shot_1, npuzzle, Instance_8\n",
      "Selected IDs are missing for: gpt-4o, without_random_sub, without_ramifications, few_shot_1, npuzzle, Instance_10\n",
      "Selected IDs are missing for: gpt-4o, without_random_sub, without_ramifications, few_shot_1, satellite, Instance_1\n",
      "Selected IDs are missing for: gpt-4o, without_random_sub, without_ramifications, few_shot_1, satellite, Instance_2\n",
      "Selected IDs are missing for: gpt-4o, without_random_sub, without_ramifications, few_shot_1, satellite, Instance_3\n",
      "Selected IDs are missing for: gpt-4o, without_random_sub, without_ramifications, few_shot_1, satellite, Instance_4\n",
      "Selected IDs are missing for: gpt-4o, without_random_sub, without_ramifications, few_shot_1, satellite, Instance_5\n",
      "Selected IDs are missing for: gpt-4o, without_random_sub, without_ramifications, few_shot_1, satellite, Instance_6\n",
      "Selected IDs are missing for: gpt-4o, without_random_sub, without_ramifications, few_shot_1, satellite, Instance_7\n"
     ]
    },
    {
     "name": "stderr",
     "output_type": "stream",
     "text": [
      " 19%|█▉        | 198/1040 [00:00<00:04, 199.76it/s]"
     ]
    },
    {
     "name": "stdout",
     "output_type": "stream",
     "text": [
      "Selected IDs are missing for: gpt-4o, without_random_sub, without_ramifications, few_shot_1, satellite, Instance_8\n",
      "Selected IDs are missing for: gpt-4o, without_random_sub, without_ramifications, few_shot_1, satellite, Instance_10\n",
      "Selected IDs are missing for: gpt-4o, without_random_sub, without_ramifications, few_shot_1, spanner, Instance_1\n",
      "Selected IDs are missing for: gpt-4o, without_random_sub, without_ramifications, few_shot_1, spanner, Instance_2\n",
      "Selected IDs are missing for: gpt-4o, without_random_sub, without_ramifications, few_shot_1, spanner, Instance_3\n",
      "Selected IDs are missing for: gpt-4o, without_random_sub, without_ramifications, few_shot_1, spanner, Instance_4\n",
      "Selected IDs are missing for: gpt-4o, without_random_sub, without_ramifications, few_shot_1, spanner, Instance_6\n"
     ]
    },
    {
     "name": "stderr",
     "output_type": "stream",
     "text": [
      " 21%|██        | 219/1040 [00:01<00:04, 201.26it/s]"
     ]
    },
    {
     "name": "stdout",
     "output_type": "stream",
     "text": [
      "Selected IDs are missing for: gpt-4o, without_random_sub, without_ramifications, few_shot_1, spanner, Instance_7\n",
      "Selected IDs are missing for: gpt-4o, without_random_sub, without_ramifications, few_shot_1, spanner, Instance_8\n",
      "Selected IDs are missing for: gpt-4o, without_random_sub, without_ramifications, few_shot_1, spanner, Instance_9\n",
      "Selected IDs are missing for: gpt-4o, without_random_sub, without_ramifications, few_shot_1, spanner, Instance_10\n",
      "Selected IDs are missing for: gpt-4o, without_random_sub, without_ramifications, few_shot_1, visitall, Instance_1\n",
      "Selected IDs are missing for: gpt-4o, without_random_sub, without_ramifications, few_shot_1, visitall, Instance_2\n",
      "Selected IDs are missing for: gpt-4o, without_random_sub, without_ramifications, few_shot_1, visitall, Instance_3\n",
      "Selected IDs are missing for: gpt-4o, without_random_sub, without_ramifications, few_shot_1, visitall, Instance_4\n",
      "Selected IDs are missing for: gpt-4o, without_random_sub, without_ramifications, few_shot_1, visitall, Instance_5\n",
      "Selected IDs are missing for: gpt-4o, without_random_sub, without_ramifications, few_shot_1, visitall, Instance_6\n",
      "Selected IDs are missing for: gpt-4o, without_random_sub, without_ramifications, few_shot_1, visitall, Instance_7\n",
      "Selected IDs are missing for: gpt-4o, without_random_sub, without_ramifications, few_shot_1, visitall, Instance_8\n",
      "Selected IDs are missing for: gpt-4o, without_random_sub, without_ramifications, few_shot_1, visitall, Instance_9\n"
     ]
    },
    {
     "name": "stderr",
     "output_type": "stream",
     "text": [
      " 23%|██▎       | 244/1040 [00:01<00:03, 211.76it/s]"
     ]
    },
    {
     "name": "stdout",
     "output_type": "stream",
     "text": [
      "Selected IDs are missing for: gpt-4o, without_random_sub, without_ramifications, few_shot_1, visitall, Instance_10\n",
      "Selected IDs are missing for: gpt-4o, without_random_sub, without_ramifications, few_shot_1, zenotravel, Instance_1\n",
      "Selected IDs are missing for: gpt-4o, without_random_sub, without_ramifications, few_shot_1, zenotravel, Instance_2\n",
      "Selected IDs are missing for: gpt-4o, without_random_sub, without_ramifications, few_shot_1, zenotravel, Instance_3\n",
      "Selected IDs are missing for: gpt-4o, without_random_sub, without_ramifications, few_shot_1, zenotravel, Instance_4\n",
      "Selected IDs are missing for: gpt-4o, without_random_sub, without_ramifications, few_shot_1, zenotravel, Instance_5\n",
      "Selected IDs are missing for: gpt-4o, without_random_sub, without_ramifications, few_shot_1, zenotravel, Instance_10\n",
      "Selected IDs are missing for: gemini, without_random_sub, without_ramifications, few_shot_1, blocksworld, Instance_1\n"
     ]
    },
    {
     "name": "stderr",
     "output_type": "stream",
     "text": [
      " 26%|██▌       | 266/1040 [00:01<00:06, 127.67it/s]"
     ]
    },
    {
     "name": "stdout",
     "output_type": "stream",
     "text": [
      "Selected IDs are missing for: gemini, without_random_sub, without_ramifications, few_shot_1, blocksworld, Instance_2\n",
      "Selected IDs are missing for: gemini, without_random_sub, without_ramifications, few_shot_1, blocksworld, Instance_3\n",
      "Selected IDs are missing for: gemini, without_random_sub, without_ramifications, few_shot_1, blocksworld, Instance_4\n",
      "Selected IDs are missing for: gemini, without_random_sub, without_ramifications, few_shot_1, blocksworld, Instance_5\n",
      "Selected IDs are missing for: gemini, without_random_sub, without_ramifications, few_shot_1, blocksworld, Instance_6\n",
      "Selected IDs are missing for: gemini, without_random_sub, without_ramifications, few_shot_1, blocksworld, Instance_7\n",
      "Selected IDs are missing for: gemini, without_random_sub, without_ramifications, few_shot_1, blocksworld, Instance_8\n",
      "Selected IDs are missing for: gemini, without_random_sub, without_ramifications, few_shot_1, blocksworld, Instance_9\n"
     ]
    },
    {
     "name": "stderr",
     "output_type": "stream",
     "text": [
      " 27%|██▋       | 283/1040 [00:02<00:18, 41.72it/s] "
     ]
    },
    {
     "name": "stdout",
     "output_type": "stream",
     "text": [
      "Selected IDs are missing for: gemini, without_random_sub, without_ramifications, few_shot_1, blocksworld, Instance_10\n",
      "Selected IDs are missing for: gemini, without_random_sub, without_ramifications, few_shot_1, depots, Instance_1\n",
      "Selected IDs are missing for: gemini, without_random_sub, without_ramifications, few_shot_1, depots, Instance_2\n",
      "Selected IDs are missing for: gemini, without_random_sub, without_ramifications, few_shot_1, depots, Instance_4\n",
      "Selected IDs are missing for: gemini, without_random_sub, without_ramifications, few_shot_1, depots, Instance_5\n",
      "Selected IDs are missing for: gemini, without_random_sub, without_ramifications, few_shot_1, depots, Instance_6\n",
      "Selected IDs are missing for: gemini, without_random_sub, without_ramifications, few_shot_1, depots, Instance_7\n"
     ]
    },
    {
     "name": "stderr",
     "output_type": "stream",
     "text": [
      " 28%|██▊       | 296/1040 [00:03<00:22, 33.63it/s]"
     ]
    },
    {
     "name": "stdout",
     "output_type": "stream",
     "text": [
      "Selected IDs are missing for: gemini, without_random_sub, without_ramifications, few_shot_1, depots, Instance_8\n",
      "Selected IDs are missing for: gemini, without_random_sub, without_ramifications, few_shot_1, depots, Instance_9\n",
      "Selected IDs are missing for: gemini, without_random_sub, without_ramifications, few_shot_1, depots, Instance_10\n",
      "Selected IDs are missing for: gemini, without_random_sub, without_ramifications, few_shot_1, driverlog, Instance_1\n",
      "Selected IDs are missing for: gemini, without_random_sub, without_ramifications, few_shot_1, driverlog, Instance_2\n"
     ]
    },
    {
     "name": "stderr",
     "output_type": "stream",
     "text": [
      " 29%|██▉       | 306/1040 [00:03<00:24, 29.49it/s]"
     ]
    },
    {
     "name": "stdout",
     "output_type": "stream",
     "text": [
      "Selected IDs are missing for: gemini, without_random_sub, without_ramifications, few_shot_1, driverlog, Instance_3\n",
      "Selected IDs are missing for: gemini, without_random_sub, without_ramifications, few_shot_1, driverlog, Instance_4\n"
     ]
    },
    {
     "name": "stderr",
     "output_type": "stream",
     "text": [
      " 30%|███       | 313/1040 [00:04<00:25, 28.00it/s]"
     ]
    },
    {
     "name": "stdout",
     "output_type": "stream",
     "text": [
      "Selected IDs are missing for: gemini, without_random_sub, without_ramifications, few_shot_1, driverlog, Instance_5\n",
      "Selected IDs are missing for: gemini, without_random_sub, without_ramifications, few_shot_1, driverlog, Instance_6\n",
      "Selected IDs are missing for: gemini, without_random_sub, without_ramifications, few_shot_1, driverlog, Instance_7\n",
      "Selected IDs are missing for: gemini, without_random_sub, without_ramifications, few_shot_1, driverlog, Instance_8\n"
     ]
    },
    {
     "name": "stderr",
     "output_type": "stream",
     "text": [
      " 31%|███       | 319/1040 [00:04<00:27, 26.02it/s]"
     ]
    },
    {
     "name": "stdout",
     "output_type": "stream",
     "text": [
      "Selected IDs are missing for: gemini, without_random_sub, without_ramifications, few_shot_1, driverlog, Instance_9\n",
      "Selected IDs are missing for: gemini, without_random_sub, without_ramifications, few_shot_1, driverlog, Instance_10\n"
     ]
    },
    {
     "name": "stderr",
     "output_type": "stream",
     "text": [
      " 31%|███       | 324/1040 [00:04<00:31, 22.79it/s]"
     ]
    },
    {
     "name": "stdout",
     "output_type": "stream",
     "text": [
      "Selected IDs are missing for: gemini, without_random_sub, without_ramifications, few_shot_1, goldminer, Instance_1\n",
      "Selected IDs are missing for: gemini, without_random_sub, without_ramifications, few_shot_1, goldminer, Instance_2\n"
     ]
    },
    {
     "name": "stderr",
     "output_type": "stream",
     "text": [
      " 32%|███▏      | 328/1040 [00:05<00:34, 20.65it/s]"
     ]
    },
    {
     "name": "stdout",
     "output_type": "stream",
     "text": [
      "Selected IDs are missing for: gemini, without_random_sub, without_ramifications, few_shot_1, goldminer, Instance_3\n",
      "Selected IDs are missing for: gemini, without_random_sub, without_ramifications, few_shot_1, goldminer, Instance_4\n"
     ]
    },
    {
     "name": "stderr",
     "output_type": "stream",
     "text": [
      " 32%|███▏      | 331/1040 [00:05<00:33, 20.98it/s]"
     ]
    },
    {
     "name": "stdout",
     "output_type": "stream",
     "text": [
      "Selected IDs are missing for: gemini, without_random_sub, without_ramifications, few_shot_1, goldminer, Instance_5\n",
      "Selected IDs are missing for: gemini, without_random_sub, without_ramifications, few_shot_1, goldminer, Instance_6\n"
     ]
    },
    {
     "name": "stderr",
     "output_type": "stream",
     "text": [
      " 32%|███▏      | 337/1040 [00:05<00:37, 18.58it/s]"
     ]
    },
    {
     "name": "stdout",
     "output_type": "stream",
     "text": [
      "Selected IDs are missing for: gemini, without_random_sub, without_ramifications, few_shot_1, goldminer, Instance_7\n",
      "Selected IDs are missing for: gemini, without_random_sub, without_ramifications, few_shot_1, goldminer, Instance_8\n"
     ]
    },
    {
     "name": "stderr",
     "output_type": "stream",
     "text": [
      " 33%|███▎      | 340/1040 [00:06<00:42, 16.38it/s]"
     ]
    },
    {
     "name": "stdout",
     "output_type": "stream",
     "text": [
      "Selected IDs are missing for: gemini, without_random_sub, without_ramifications, few_shot_1, goldminer, Instance_9\n",
      "Selected IDs are missing for: gemini, without_random_sub, without_ramifications, few_shot_1, goldminer, Instance_10\n"
     ]
    },
    {
     "name": "stderr",
     "output_type": "stream",
     "text": [
      " 33%|███▎      | 344/1040 [00:06<00:38, 17.88it/s]"
     ]
    },
    {
     "name": "stdout",
     "output_type": "stream",
     "text": [
      "Selected IDs are missing for: gemini, without_random_sub, without_ramifications, few_shot_1, grippers, Instance_1\n",
      "Selected IDs are missing for: gemini, without_random_sub, without_ramifications, few_shot_1, grippers, Instance_2\n",
      "Selected IDs are missing for: gemini, without_random_sub, without_ramifications, few_shot_1, grippers, Instance_3\n"
     ]
    },
    {
     "name": "stderr",
     "output_type": "stream",
     "text": [
      " 34%|███▍      | 352/1040 [00:06<00:34, 20.04it/s]"
     ]
    },
    {
     "name": "stdout",
     "output_type": "stream",
     "text": [
      "Selected IDs are missing for: gemini, without_random_sub, without_ramifications, few_shot_1, grippers, Instance_4\n",
      "Selected IDs are missing for: gemini, without_random_sub, without_ramifications, few_shot_1, grippers, Instance_5\n"
     ]
    },
    {
     "name": "stderr",
     "output_type": "stream",
     "text": [
      " 34%|███▍      | 356/1040 [00:06<00:32, 20.76it/s]"
     ]
    },
    {
     "name": "stdout",
     "output_type": "stream",
     "text": [
      "Selected IDs are missing for: gemini, without_random_sub, without_ramifications, few_shot_1, grippers, Instance_7\n",
      "Selected IDs are missing for: gemini, without_random_sub, without_ramifications, few_shot_1, grippers, Instance_8\n",
      "Selected IDs are missing for: gemini, without_random_sub, without_ramifications, few_shot_1, grippers, Instance_9\n"
     ]
    },
    {
     "name": "stderr",
     "output_type": "stream",
     "text": [
      " 35%|███▌      | 364/1040 [00:07<00:30, 22.07it/s]"
     ]
    },
    {
     "name": "stdout",
     "output_type": "stream",
     "text": [
      "Selected IDs are missing for: gemini, without_random_sub, without_ramifications, few_shot_1, grippers, Instance_10\n",
      "Selected IDs are missing for: gemini, without_random_sub, without_ramifications, few_shot_1, logistics, Instance_1\n",
      "Selected IDs are missing for: gemini, without_random_sub, without_ramifications, few_shot_1, logistics, Instance_2\n"
     ]
    },
    {
     "name": "stderr",
     "output_type": "stream",
     "text": [
      " 35%|███▌      | 368/1040 [00:07<00:29, 22.85it/s]"
     ]
    },
    {
     "name": "stdout",
     "output_type": "stream",
     "text": [
      "Selected IDs are missing for: gemini, without_random_sub, without_ramifications, few_shot_1, logistics, Instance_3\n",
      "Selected IDs are missing for: gemini, without_random_sub, without_ramifications, few_shot_1, logistics, Instance_4\n",
      "Selected IDs are missing for: gemini, without_random_sub, without_ramifications, few_shot_1, logistics, Instance_5\n"
     ]
    },
    {
     "name": "stderr",
     "output_type": "stream",
     "text": [
      " 36%|███▌      | 376/1040 [00:07<00:27, 24.10it/s]"
     ]
    },
    {
     "name": "stdout",
     "output_type": "stream",
     "text": [
      "Selected IDs are missing for: gemini, without_random_sub, without_ramifications, few_shot_1, logistics, Instance_6\n",
      "Selected IDs are missing for: gemini, without_random_sub, without_ramifications, few_shot_1, logistics, Instance_7\n",
      "Selected IDs are missing for: gemini, without_random_sub, without_ramifications, few_shot_1, logistics, Instance_8\n"
     ]
    },
    {
     "name": "stderr",
     "output_type": "stream",
     "text": [
      " 37%|███▋      | 380/1040 [00:07<00:27, 24.31it/s]"
     ]
    },
    {
     "name": "stdout",
     "output_type": "stream",
     "text": [
      "Selected IDs are missing for: gemini, without_random_sub, without_ramifications, few_shot_1, logistics, Instance_9\n",
      "Selected IDs are missing for: gemini, without_random_sub, without_ramifications, few_shot_1, logistics, Instance_10\n"
     ]
    },
    {
     "name": "stderr",
     "output_type": "stream",
     "text": [
      " 37%|███▋      | 383/1040 [00:07<00:26, 24.39it/s]"
     ]
    },
    {
     "name": "stdout",
     "output_type": "stream",
     "text": [
      "Selected IDs are missing for: gemini, without_random_sub, without_ramifications, few_shot_1, miconic, Instance_1\n",
      "Selected IDs are missing for: gemini, without_random_sub, without_ramifications, few_shot_1, miconic, Instance_2\n"
     ]
    },
    {
     "name": "stderr",
     "output_type": "stream",
     "text": [
      " 37%|███▋      | 389/1040 [00:08<00:30, 21.40it/s]"
     ]
    },
    {
     "name": "stdout",
     "output_type": "stream",
     "text": [
      "Selected IDs are missing for: gemini, without_random_sub, without_ramifications, few_shot_1, miconic, Instance_3\n",
      "Selected IDs are missing for: gemini, without_random_sub, without_ramifications, few_shot_1, miconic, Instance_4\n"
     ]
    },
    {
     "name": "stderr",
     "output_type": "stream",
     "text": [
      " 38%|███▊      | 392/1040 [00:08<00:35, 18.20it/s]"
     ]
    },
    {
     "name": "stdout",
     "output_type": "stream",
     "text": [
      "Selected IDs are missing for: gemini, without_random_sub, without_ramifications, few_shot_1, miconic, Instance_5\n"
     ]
    },
    {
     "name": "stderr",
     "output_type": "stream",
     "text": [
      " 38%|███▊      | 396/1040 [00:08<00:36, 17.89it/s]"
     ]
    },
    {
     "name": "stdout",
     "output_type": "stream",
     "text": [
      "Selected IDs are missing for: gemini, without_random_sub, without_ramifications, few_shot_1, miconic, Instance_7\n",
      "Selected IDs are missing for: gemini, without_random_sub, without_ramifications, few_shot_1, miconic, Instance_8\n"
     ]
    },
    {
     "name": "stderr",
     "output_type": "stream",
     "text": [
      " 38%|███▊      | 400/1040 [00:08<00:36, 17.70it/s]"
     ]
    },
    {
     "name": "stdout",
     "output_type": "stream",
     "text": [
      "Selected IDs are missing for: gemini, without_random_sub, without_ramifications, few_shot_1, miconic, Instance_9\n",
      "Selected IDs are missing for: gemini, without_random_sub, without_ramifications, few_shot_1, miconic, Instance_10\n"
     ]
    },
    {
     "name": "stderr",
     "output_type": "stream",
     "text": [
      " 39%|███▉      | 404/1040 [00:09<00:32, 19.86it/s]"
     ]
    },
    {
     "name": "stdout",
     "output_type": "stream",
     "text": [
      "Selected IDs are missing for: gemini, without_random_sub, without_ramifications, few_shot_1, mystery, Instance_1\n",
      "Selected IDs are missing for: gemini, without_random_sub, without_ramifications, few_shot_1, mystery, Instance_3\n"
     ]
    },
    {
     "name": "stderr",
     "output_type": "stream",
     "text": [
      " 40%|███▉      | 412/1040 [00:09<00:28, 21.77it/s]"
     ]
    },
    {
     "name": "stdout",
     "output_type": "stream",
     "text": [
      "Selected IDs are missing for: gemini, without_random_sub, without_ramifications, few_shot_1, mystery, Instance_4\n",
      "Selected IDs are missing for: gemini, without_random_sub, without_ramifications, few_shot_1, mystery, Instance_5\n"
     ]
    },
    {
     "name": "stderr",
     "output_type": "stream",
     "text": [
      " 40%|████      | 416/1040 [00:09<00:29, 21.37it/s]"
     ]
    },
    {
     "name": "stdout",
     "output_type": "stream",
     "text": [
      "Selected IDs are missing for: gemini, without_random_sub, without_ramifications, few_shot_1, mystery, Instance_7\n",
      "Selected IDs are missing for: gemini, without_random_sub, without_ramifications, few_shot_1, mystery, Instance_8\n"
     ]
    },
    {
     "name": "stderr",
     "output_type": "stream",
     "text": [
      " 41%|████      | 422/1040 [00:09<00:30, 20.23it/s]"
     ]
    },
    {
     "name": "stdout",
     "output_type": "stream",
     "text": [
      "Selected IDs are missing for: gemini, without_random_sub, without_ramifications, few_shot_1, mystery, Instance_9\n",
      "Selected IDs are missing for: gemini, without_random_sub, without_ramifications, few_shot_1, mystery, Instance_10\n",
      "Selected IDs are missing for: gemini, without_random_sub, without_ramifications, few_shot_1, npuzzle, Instance_1\n"
     ]
    },
    {
     "name": "stderr",
     "output_type": "stream",
     "text": [
      " 41%|████      | 425/1040 [00:10<00:28, 21.82it/s]"
     ]
    },
    {
     "name": "stdout",
     "output_type": "stream",
     "text": [
      "Selected IDs are missing for: gemini, without_random_sub, without_ramifications, few_shot_1, npuzzle, Instance_2\n",
      "Selected IDs are missing for: gemini, without_random_sub, without_ramifications, few_shot_1, npuzzle, Instance_3\n"
     ]
    },
    {
     "name": "stderr",
     "output_type": "stream",
     "text": [
      " 41%|████▏     | 431/1040 [00:10<00:29, 20.92it/s]"
     ]
    },
    {
     "name": "stdout",
     "output_type": "stream",
     "text": [
      "Selected IDs are missing for: gemini, without_random_sub, without_ramifications, few_shot_1, npuzzle, Instance_4\n",
      "Selected IDs are missing for: gemini, without_random_sub, without_ramifications, few_shot_1, npuzzle, Instance_5\n"
     ]
    },
    {
     "name": "stderr",
     "output_type": "stream",
     "text": [
      " 42%|████▏     | 437/1040 [00:10<00:28, 20.99it/s]"
     ]
    },
    {
     "name": "stdout",
     "output_type": "stream",
     "text": [
      "Selected IDs are missing for: gemini, without_random_sub, without_ramifications, few_shot_1, npuzzle, Instance_6\n",
      "Selected IDs are missing for: gemini, without_random_sub, without_ramifications, few_shot_1, npuzzle, Instance_7\n",
      "Selected IDs are missing for: gemini, without_random_sub, without_ramifications, few_shot_1, npuzzle, Instance_8\n"
     ]
    },
    {
     "name": "stderr",
     "output_type": "stream",
     "text": [
      " 43%|████▎     | 443/1040 [00:10<00:30, 19.89it/s]"
     ]
    },
    {
     "name": "stdout",
     "output_type": "stream",
     "text": [
      "Selected IDs are missing for: gemini, without_random_sub, without_ramifications, few_shot_1, npuzzle, Instance_10\n",
      "Selected IDs are missing for: gemini, without_random_sub, without_ramifications, few_shot_1, satellite, Instance_1\n"
     ]
    },
    {
     "name": "stderr",
     "output_type": "stream",
     "text": [
      " 43%|████▎     | 446/1040 [00:11<00:35, 16.62it/s]"
     ]
    },
    {
     "name": "stdout",
     "output_type": "stream",
     "text": [
      "Selected IDs are missing for: gemini, without_random_sub, without_ramifications, few_shot_1, satellite, Instance_2\n",
      "Selected IDs are missing for: gemini, without_random_sub, without_ramifications, few_shot_1, satellite, Instance_3\n"
     ]
    },
    {
     "name": "stderr",
     "output_type": "stream",
     "text": [
      " 43%|████▎     | 450/1040 [00:11<00:37, 15.87it/s]"
     ]
    },
    {
     "name": "stdout",
     "output_type": "stream",
     "text": [
      "Selected IDs are missing for: gemini, without_random_sub, without_ramifications, few_shot_1, satellite, Instance_4\n",
      "Selected IDs are missing for: gemini, without_random_sub, without_ramifications, few_shot_1, satellite, Instance_5\n"
     ]
    },
    {
     "name": "stderr",
     "output_type": "stream",
     "text": [
      " 44%|████▎     | 454/1040 [00:11<00:36, 16.11it/s]"
     ]
    },
    {
     "name": "stdout",
     "output_type": "stream",
     "text": [
      "Selected IDs are missing for: gemini, without_random_sub, without_ramifications, few_shot_1, satellite, Instance_6\n",
      "Selected IDs are missing for: gemini, without_random_sub, without_ramifications, few_shot_1, satellite, Instance_7\n"
     ]
    },
    {
     "name": "stderr",
     "output_type": "stream",
     "text": [
      " 44%|████▍     | 458/1040 [00:11<00:36, 16.01it/s]"
     ]
    },
    {
     "name": "stdout",
     "output_type": "stream",
     "text": [
      "Selected IDs are missing for: gemini, without_random_sub, without_ramifications, few_shot_1, satellite, Instance_8\n"
     ]
    },
    {
     "name": "stderr",
     "output_type": "stream",
     "text": [
      " 44%|████▍     | 462/1040 [00:12<00:48, 11.83it/s]"
     ]
    },
    {
     "name": "stdout",
     "output_type": "stream",
     "text": [
      "Selected IDs are missing for: gemini, without_random_sub, without_ramifications, few_shot_1, satellite, Instance_10\n",
      "Selected IDs are missing for: gemini, without_random_sub, without_ramifications, few_shot_1, spanner, Instance_1\n"
     ]
    },
    {
     "name": "stderr",
     "output_type": "stream",
     "text": [
      " 45%|████▍     | 466/1040 [00:12<00:40, 14.30it/s]"
     ]
    },
    {
     "name": "stdout",
     "output_type": "stream",
     "text": [
      "Selected IDs are missing for: gemini, without_random_sub, without_ramifications, few_shot_1, spanner, Instance_2\n",
      "Selected IDs are missing for: gemini, without_random_sub, without_ramifications, few_shot_1, spanner, Instance_3\n"
     ]
    },
    {
     "name": "stderr",
     "output_type": "stream",
     "text": [
      " 45%|████▌     | 470/1040 [00:12<00:35, 15.96it/s]"
     ]
    },
    {
     "name": "stdout",
     "output_type": "stream",
     "text": [
      "Selected IDs are missing for: gemini, without_random_sub, without_ramifications, few_shot_1, spanner, Instance_4\n"
     ]
    },
    {
     "name": "stderr",
     "output_type": "stream",
     "text": [
      " 46%|████▌     | 474/1040 [00:13<00:34, 16.24it/s]"
     ]
    },
    {
     "name": "stdout",
     "output_type": "stream",
     "text": [
      "Selected IDs are missing for: gemini, without_random_sub, without_ramifications, few_shot_1, spanner, Instance_6\n",
      "Selected IDs are missing for: gemini, without_random_sub, without_ramifications, few_shot_1, spanner, Instance_7\n"
     ]
    },
    {
     "name": "stderr",
     "output_type": "stream",
     "text": [
      " 46%|████▌     | 478/1040 [00:13<00:32, 17.21it/s]"
     ]
    },
    {
     "name": "stdout",
     "output_type": "stream",
     "text": [
      "Selected IDs are missing for: gemini, without_random_sub, without_ramifications, few_shot_1, spanner, Instance_8\n",
      "Selected IDs are missing for: gemini, without_random_sub, without_ramifications, few_shot_1, spanner, Instance_9\n"
     ]
    },
    {
     "name": "stderr",
     "output_type": "stream",
     "text": [
      " 46%|████▋     | 482/1040 [00:13<00:32, 17.30it/s]"
     ]
    },
    {
     "name": "stdout",
     "output_type": "stream",
     "text": [
      "Selected IDs are missing for: gemini, without_random_sub, without_ramifications, few_shot_1, spanner, Instance_10\n",
      "Selected IDs are missing for: gemini, without_random_sub, without_ramifications, few_shot_1, visitall, Instance_1\n"
     ]
    },
    {
     "name": "stderr",
     "output_type": "stream",
     "text": [
      " 47%|████▋     | 486/1040 [00:13<00:32, 17.14it/s]"
     ]
    },
    {
     "name": "stdout",
     "output_type": "stream",
     "text": [
      "Selected IDs are missing for: gemini, without_random_sub, without_ramifications, few_shot_1, visitall, Instance_2\n",
      "Selected IDs are missing for: gemini, without_random_sub, without_ramifications, few_shot_1, visitall, Instance_3\n"
     ]
    },
    {
     "name": "stderr",
     "output_type": "stream",
     "text": [
      " 47%|████▋     | 490/1040 [00:14<00:33, 16.57it/s]"
     ]
    },
    {
     "name": "stdout",
     "output_type": "stream",
     "text": [
      "Selected IDs are missing for: gemini, without_random_sub, without_ramifications, few_shot_1, visitall, Instance_4\n",
      "Selected IDs are missing for: gemini, without_random_sub, without_ramifications, few_shot_1, visitall, Instance_5\n"
     ]
    },
    {
     "name": "stderr",
     "output_type": "stream",
     "text": [
      " 48%|████▊     | 494/1040 [00:14<00:32, 16.64it/s]"
     ]
    },
    {
     "name": "stdout",
     "output_type": "stream",
     "text": [
      "Selected IDs are missing for: gemini, without_random_sub, without_ramifications, few_shot_1, visitall, Instance_6\n",
      "Selected IDs are missing for: gemini, without_random_sub, without_ramifications, few_shot_1, visitall, Instance_7\n"
     ]
    },
    {
     "name": "stderr",
     "output_type": "stream",
     "text": [
      " 48%|████▊     | 498/1040 [00:14<00:31, 17.22it/s]"
     ]
    },
    {
     "name": "stdout",
     "output_type": "stream",
     "text": [
      "Selected IDs are missing for: gemini, without_random_sub, without_ramifications, few_shot_1, visitall, Instance_8\n",
      "Selected IDs are missing for: gemini, without_random_sub, without_ramifications, few_shot_1, visitall, Instance_9\n"
     ]
    },
    {
     "name": "stderr",
     "output_type": "stream",
     "text": [
      " 48%|████▊     | 502/1040 [00:14<00:30, 17.81it/s]"
     ]
    },
    {
     "name": "stdout",
     "output_type": "stream",
     "text": [
      "Selected IDs are missing for: gemini, without_random_sub, without_ramifications, few_shot_1, visitall, Instance_10\n",
      "Selected IDs are missing for: gemini, without_random_sub, without_ramifications, few_shot_1, zenotravel, Instance_1\n"
     ]
    },
    {
     "name": "stderr",
     "output_type": "stream",
     "text": [
      " 49%|████▊     | 506/1040 [00:14<00:29, 18.16it/s]"
     ]
    },
    {
     "name": "stdout",
     "output_type": "stream",
     "text": [
      "Selected IDs are missing for: gemini, without_random_sub, without_ramifications, few_shot_1, zenotravel, Instance_2\n",
      "Selected IDs are missing for: gemini, without_random_sub, without_ramifications, few_shot_1, zenotravel, Instance_3\n"
     ]
    },
    {
     "name": "stderr",
     "output_type": "stream",
     "text": [
      " 49%|████▉     | 510/1040 [00:15<00:28, 18.40it/s]"
     ]
    },
    {
     "name": "stdout",
     "output_type": "stream",
     "text": [
      "Selected IDs are missing for: gemini, without_random_sub, without_ramifications, few_shot_1, zenotravel, Instance_4\n",
      "Selected IDs are missing for: gemini, without_random_sub, without_ramifications, few_shot_1, zenotravel, Instance_5\n"
     ]
    },
    {
     "name": "stderr",
     "output_type": "stream",
     "text": [
      " 53%|█████▎    | 556/1040 [00:15<00:04, 118.22it/s]"
     ]
    },
    {
     "name": "stdout",
     "output_type": "stream",
     "text": [
      "Selected IDs are missing for: gemini, without_random_sub, without_ramifications, few_shot_1, zenotravel, Instance_10\n"
     ]
    },
    {
     "name": "stderr",
     "output_type": "stream",
     "text": [
      "2080it [00:33, 61.84it/s]                          "
     ]
    },
    {
     "name": "stdout",
     "output_type": "stream",
     "text": [
      "data is gathered\n"
     ]
    },
    {
     "name": "stderr",
     "output_type": "stream",
     "text": [
      "\n"
     ]
    }
   ],
   "source": [
    "questions_dir = f'{DATA_PATH}/questions_m1'\n",
    "questions_by_id = gather_questions(questions_dir)\n",
    "# sanity_checks()\n",
    "\n",
    "models =  ['gpt-4o', 'gemini']#, 'llama2-13b-chat', 'llama-3-8b-instruct', 'llama2-7b-chat', 'gemma-7b']\n",
    "def gather_data_iterator():\n",
    "    for substitutions in SUBSTITUTION_TYPES:\n",
    "        for ramifications in RAMIFICATION_TYPES:\n",
    "            for model_name in models:\n",
    "                for prompt_type in ['few_shot_1']:\n",
    "                    yield substitutions, ramifications, model_name, prompt_type\n",
    "\n",
    "ids_file_name = f'dataset_ids.test.pruned' #'small_questions_ids' #\n",
    "if ids_file_name:\n",
    "    selected_ids = open_jsonl(f'{DATA_PATH}/{ids_file_name}.jsonl')\n",
    "    data_all, missing_data = gather_data(questions_by_id, selected_ids=selected_ids, iterator=gather_data_iterator)\n",
    "    save_main_dir = f'{STATISTICS_PATH}.{ids_file_name}'\n",
    "else:\n",
    "    data_all, missing_data = gather_data(questions_by_id)\n",
    "    save_main_dir = STATISTICS_PATH\n",
    "\n",
    "save_dir = os.path.join(save_main_dir, 'tables', 'by_fluents')\n",
    "os.makedirs(save_dir, exist_ok=True)"
   ],
   "metadata": {
    "collapsed": false,
    "ExecuteTime": {
     "end_time": "2024-06-06T00:11:00.725295Z",
     "start_time": "2024-06-06T00:10:08.831357Z"
    }
   },
   "id": "8fb4feeb322b4ab0",
   "execution_count": 2
  },
  {
   "cell_type": "code",
   "outputs": [],
   "source": [
    "def to_df_by_sub_ram_all(data_all, model_name, prompt_type,\n",
    "                      score_type=ACCURACY_SCORE_KEY, \n",
    "                      question_category = ALL_QUESTION_CATEGORIES_KEY,\n",
    "                      domain = ALL_DOMAINS_KEY,\n",
    "                      answer_type=TRUE_FALSE_ANSWER_TYPE,\n",
    "                      plan_length=19):\n",
    "\n",
    "    # index = []\n",
    "    data_for_df = []    \n",
    "    for fluent_type in FLUENT_TYPES_LIST:\n",
    "        # index.append()\n",
    "        data_columns = {}\n",
    "        data_columns['fluent type'] = TO_PRETTY[fluent_type]\n",
    "        for subs in [WITHOUT_RANDOM_SUB, WITH_RANDOM_SUB]:\n",
    "            for ramifications in [WITHOUT_RAMIFICATIONS, WITH_RAMIFICATIONS]:\n",
    "                data = filter_multi_selector_modified(data_all, ramifications, model_name, prompt_type, answer_type, subs, plan_length, [(OUT_OBJ_FLUENT_TYPE, {fluent_type})])\n",
    "                stats = TrueFalseStatsCustom(data, plan_length, question_category, ramifications, model_name, prompt_type, domain, subs, score_type=score_type)\n",
    "                res_obj = stats.compute()\n",
    "                if res_obj:\n",
    "                    mean = res_obj['result']\n",
    "                    sem = None\n",
    "                    if res_obj['result_other']:\n",
    "                        sem = res_obj['result_other']['sem']\n",
    "                    not_corrupted = res_obj['stats']['num_not_corrupted']\n",
    "                    final_res = (mean, sem, not_corrupted)\n",
    "                else:\n",
    "                    final_res = (None, None, None)\n",
    "                final_res = tuple([round(v*100, 2) if v else v for v in final_res ])\n",
    "                final_res = '${'+str(final_res[0])+'}_{'+str(final_res[1])+'}$'\n",
    "                # print(final_res)\n",
    "                data_columns[TO_PRETTY[(subs, ramifications)]] = final_res\n",
    "        data_for_df.append(data_columns)\n",
    "    return pd.DataFrame(data_for_df)\n",
    "\n",
    "\n",
    "def to_df_by_models(data_all, prompt_type,models, ramifications, subs,\n",
    "                      score_type=ACCURACY_SCORE_KEY, \n",
    "                      question_category = ALL_QUESTION_CATEGORIES_KEY,\n",
    "                      domain = ALL_DOMAINS_KEY,\n",
    "                      answer_type=TRUE_FALSE_ANSWER_TYPE,\n",
    "                      plan_length=19):\n",
    "\n",
    "    # index = []\n",
    "    data_for_df = []    \n",
    "    for fluent_type in FLUENT_TYPES_LIST:\n",
    "        # index.append()\n",
    "        data_columns = {}\n",
    "        data_columns['fluent type'] = TO_PRETTY[fluent_type]\n",
    "        for model in models:\n",
    "            data = filter_multi_selector_modified(data_all, ramifications, model, prompt_type, answer_type, subs, plan_length, [(OUT_OBJ_FLUENT_TYPE, {fluent_type})])\n",
    "            stats = TrueFalseStatsCustom(data, plan_length, question_category, ramifications, model, prompt_type, domain, subs, score_type=score_type)\n",
    "            res_obj = stats.compute()\n",
    "            if res_obj:\n",
    "                mean = res_obj['result']\n",
    "                sem = None\n",
    "                if res_obj['result_other']:\n",
    "                    sem = res_obj['result_other']['sem']\n",
    "                final_res = (mean, sem)\n",
    "            else:\n",
    "                final_res = (None, None)\n",
    "            final_res = tuple([round(v*100, 2) if v else v for v in final_res ])\n",
    "            final_res = '${'+str(final_res[0])+'}_{'+str(final_res[1])+'}$'\n",
    "            # print(final_res)\n",
    "            data_columns[TO_PRETTY.get(model, model)] = final_res\n",
    "        data_for_df.append(data_columns)\n",
    "    return pd.DataFrame(data_for_df)"
   ],
   "metadata": {
    "collapsed": false,
    "ExecuteTime": {
     "end_time": "2024-06-05T06:23:21.870667Z",
     "start_time": "2024-06-05T06:23:21.848188Z"
    }
   },
   "id": "dd77fda858739d0e",
   "execution_count": 4
  },
  {
   "cell_type": "code",
   "outputs": [],
   "source": [
    "def to_df_by_sub_ram_neg_pos(data_all, model_name, prompt_type,\n",
    "                      score_type=ACCURACY_SCORE_KEY, \n",
    "                      question_category = ALL_QUESTION_CATEGORIES_KEY,\n",
    "                      domain = ALL_DOMAINS_KEY,\n",
    "                      answer_type=TRUE_FALSE_ANSWER_TYPE,\n",
    "                      plan_length=19):\n",
    "\n",
    "    # index = []\n",
    "    data_for_df = []    \n",
    "    for is_pos_fluent in [True, False]:\n",
    "        # index.append()\n",
    "        data_columns = {}\n",
    "        data_columns['fluent type'] = is_pos_fluent\n",
    "        for subs in [WITHOUT_RANDOM_SUB, WITH_RANDOM_SUB]:\n",
    "            for ramifications in [WITHOUT_RAMIFICATIONS, WITH_RAMIFICATIONS]:\n",
    "                data = filter_multi_selector_modified(data_all, ramifications, model_name, prompt_type, answer_type, subs, plan_length, [(OUT_OBJ_IS_POS_FLUENT_QUESTION, {is_pos_fluent})])\n",
    "                stats = TrueFalseStatsCustom(data, plan_length, question_category, ramifications, model_name, prompt_type, domain, subs, score_type=score_type)\n",
    "                res_obj = stats.compute()\n",
    "                if res_obj:\n",
    "                    mean = res_obj['result']\n",
    "                    sem = None\n",
    "                    if res_obj['result_other']:\n",
    "                        sem = res_obj['result_other']['sem']\n",
    "                    not_corrupted = res_obj['stats']['num_not_corrupted']\n",
    "                    final_res = (mean, sem, not_corrupted)\n",
    "                else:\n",
    "                    final_res = (None, None, None)\n",
    "                final_res = tuple([round(v*100, 2) if v else v for v in final_res ])\n",
    "                final_res = '${'+str(final_res[0])+'}_{'+str(final_res[1])+'}$'\n",
    "                # print(final_res)\n",
    "                data_columns[TO_PRETTY[(subs, ramifications)]] = final_res\n",
    "        data_for_df.append(data_columns)\n",
    "    return pd.DataFrame(data_for_df)"
   ],
   "metadata": {
    "collapsed": false,
    "ExecuteTime": {
     "end_time": "2024-06-06T00:14:17.460869Z",
     "start_time": "2024-06-06T00:14:17.442419Z"
    }
   },
   "id": "3a77663155cb1eb8",
   "execution_count": 3
  },
  {
   "cell_type": "markdown",
   "source": [
    "# Subs and Ramfications"
   ],
   "metadata": {
    "collapsed": false
   },
   "id": "5aad3ef5e3825084"
  },
  {
   "cell_type": "code",
   "outputs": [],
   "source": [
    "plan_length = 19\n",
    "model_name = 'gemini'  #'gpt-4o' #\n",
    "prompt_type = 'few_shot_1'"
   ],
   "metadata": {
    "collapsed": false,
    "ExecuteTime": {
     "end_time": "2024-06-06T00:18:58.321477Z",
     "start_time": "2024-06-06T00:18:58.276974Z"
    }
   },
   "id": "b930fe3b5dfe47b2",
   "execution_count": 6
  },
  {
   "cell_type": "code",
   "outputs": [],
   "source": [
    "df = to_df_by_sub_ram_all(data_all, model_name, prompt_type, plan_length=plan_length)\n",
    "df\n",
    "        \n",
    "caption_nl = f'performance of {model_name}, {prompt_type}, pl-{plan_length}'.replace('_', ' ')\n",
    "save_key = f'{model_name}.{prompt_type}.{plan_length}'\n",
    "\n",
    "latex_table_all = to_latex_table(df, caption_nl, label=save_key, index=False)\n",
    "with open(os.path.join(save_dir, f'{save_key}.tex'), 'w') as f:\n",
    "    f.write(latex_table_all)"
   ],
   "metadata": {
    "collapsed": false
   },
   "id": "da82c99c16ce0495",
   "execution_count": null
  },
  {
   "cell_type": "code",
   "outputs": [
    {
     "data": {
      "text/plain": "   fluent type         Baseline     Baseline + R.   Obfus. Baseline  \\\n0         True  ${72.91}_{1.8}$  ${74.92}_{1.76}$  ${65.19}_{1.93}$   \n1        False   ${54.0}_{2.2}$   ${54.99}_{2.2}$   ${54.78}_{2.2}$   \n\n  Obfus. Baseline + R.  \n0     ${68.47}_{1.88}$  \n1     ${56.34}_{2.19}$  ",
      "text/html": "<div>\n<style scoped>\n    .dataframe tbody tr th:only-of-type {\n        vertical-align: middle;\n    }\n\n    .dataframe tbody tr th {\n        vertical-align: top;\n    }\n\n    .dataframe thead th {\n        text-align: right;\n    }\n</style>\n<table border=\"1\" class=\"dataframe\">\n  <thead>\n    <tr style=\"text-align: right;\">\n      <th></th>\n      <th>fluent type</th>\n      <th>Baseline</th>\n      <th>Baseline + R.</th>\n      <th>Obfus. Baseline</th>\n      <th>Obfus. Baseline + R.</th>\n    </tr>\n  </thead>\n  <tbody>\n    <tr>\n      <th>0</th>\n      <td>True</td>\n      <td>${72.91}_{1.8}$</td>\n      <td>${74.92}_{1.76}$</td>\n      <td>${65.19}_{1.93}$</td>\n      <td>${68.47}_{1.88}$</td>\n    </tr>\n    <tr>\n      <th>1</th>\n      <td>False</td>\n      <td>${54.0}_{2.2}$</td>\n      <td>${54.99}_{2.2}$</td>\n      <td>${54.78}_{2.2}$</td>\n      <td>${56.34}_{2.19}$</td>\n    </tr>\n  </tbody>\n</table>\n</div>"
     },
     "execution_count": 7,
     "metadata": {},
     "output_type": "execute_result"
    }
   ],
   "source": [
    "df_pos_neg = to_df_by_sub_ram_neg_pos(data_all, model_name, prompt_type, plan_length=plan_length)\n",
    "df_pos_neg\n",
    "        \n",
    "# caption_nl = f'performance of {model_name}, {prompt_type}, pl-{plan_length}'.replace('_', ' ')\n",
    "# save_key = f'{model_name}.{prompt_type}.{plan_length}'\n",
    "# \n",
    "# latex_table_all = to_latex_table(df, caption_nl, label=save_key, index=False)\n",
    "# with open(os.path.join(save_dir, f'{save_key}.tex'), 'w') as f:\n",
    "#     f.write(latex_table_all)"
   ],
   "metadata": {
    "collapsed": false,
    "ExecuteTime": {
     "end_time": "2024-06-06T00:19:06.539783Z",
     "start_time": "2024-06-06T00:19:05.918766Z"
    }
   },
   "id": "a2a6c92185f6a2e3",
   "execution_count": 7
  },
  {
   "cell_type": "markdown",
   "source": [
    "# By Models"
   ],
   "metadata": {
    "collapsed": false
   },
   "id": "9896e750372f819e"
  },
  {
   "cell_type": "code",
   "outputs": [
    {
     "data": {
      "text/plain": "        fluent type            gpt-4o            Gemini             L-13b  \\\n0           Base Fl  ${68.22}_{2.51}$  ${61.34}_{2.63}$  ${47.38}_{2.69}$   \n1        Derived Fl  ${62.37}_{2.82}$  ${60.94}_{2.83}$  ${54.21}_{2.89}$   \n2  Base Fl + Cnstr.  ${72.51}_{2.32}$  ${64.88}_{2.47}$  ${48.53}_{2.59}$   \n3         Static Fl   ${72.89}_{2.4}$  ${57.39}_{2.66}$  ${53.04}_{2.69}$   \n\n  llama-3-8b-instruct              L-7b              G-7b  \n0    ${43.02}_{2.67}$  ${44.77}_{2.68}$   ${48.83}_{2.7}$  \n1    ${40.07}_{2.84}$  ${45.12}_{2.89}$   ${43.2}_{2.89}$  \n2    ${49.33}_{2.59}$  ${49.33}_{2.59}$  ${47.03}_{2.59}$  \n3    ${48.12}_{2.69}$  ${48.99}_{2.69}$  ${53.78}_{2.69}$  ",
      "text/html": "<div>\n<style scoped>\n    .dataframe tbody tr th:only-of-type {\n        vertical-align: middle;\n    }\n\n    .dataframe tbody tr th {\n        vertical-align: top;\n    }\n\n    .dataframe thead th {\n        text-align: right;\n    }\n</style>\n<table border=\"1\" class=\"dataframe\">\n  <thead>\n    <tr style=\"text-align: right;\">\n      <th></th>\n      <th>fluent type</th>\n      <th>gpt-4o</th>\n      <th>Gemini</th>\n      <th>L-13b</th>\n      <th>llama-3-8b-instruct</th>\n      <th>L-7b</th>\n      <th>G-7b</th>\n    </tr>\n  </thead>\n  <tbody>\n    <tr>\n      <th>0</th>\n      <td>Base Fl</td>\n      <td>${68.22}_{2.51}$</td>\n      <td>${61.34}_{2.63}$</td>\n      <td>${47.38}_{2.69}$</td>\n      <td>${43.02}_{2.67}$</td>\n      <td>${44.77}_{2.68}$</td>\n      <td>${48.83}_{2.7}$</td>\n    </tr>\n    <tr>\n      <th>1</th>\n      <td>Derived Fl</td>\n      <td>${62.37}_{2.82}$</td>\n      <td>${60.94}_{2.83}$</td>\n      <td>${54.21}_{2.89}$</td>\n      <td>${40.07}_{2.84}$</td>\n      <td>${45.12}_{2.89}$</td>\n      <td>${43.2}_{2.89}$</td>\n    </tr>\n    <tr>\n      <th>2</th>\n      <td>Base Fl + Cnstr.</td>\n      <td>${72.51}_{2.32}$</td>\n      <td>${64.88}_{2.47}$</td>\n      <td>${48.53}_{2.59}$</td>\n      <td>${49.33}_{2.59}$</td>\n      <td>${49.33}_{2.59}$</td>\n      <td>${47.03}_{2.59}$</td>\n    </tr>\n    <tr>\n      <th>3</th>\n      <td>Static Fl</td>\n      <td>${72.89}_{2.4}$</td>\n      <td>${57.39}_{2.66}$</td>\n      <td>${53.04}_{2.69}$</td>\n      <td>${48.12}_{2.69}$</td>\n      <td>${48.99}_{2.69}$</td>\n      <td>${53.78}_{2.69}$</td>\n    </tr>\n  </tbody>\n</table>\n</div>"
     },
     "execution_count": 6,
     "metadata": {},
     "output_type": "execute_result"
    }
   ],
   "source": [
    "plan_length = 19\n",
    "prompt_type = 'few_shot_1'\n",
    "ramifications = WITHOUT_RAMIFICATIONS\n",
    "subs = WITHOUT_RANDOM_SUB\n",
    "df2 = to_df_by_models(data_all, prompt_type, models, ramifications, subs)\n",
    "df2\n",
    "        \n",
    "# caption_nl = f'performance of {model_name}, {prompt_type}, pl-{plan_length}'.replace('_', ' ')\n",
    "# save_key = f'{model_name}.{prompt_type}.{plan_length}'\n",
    "# \n",
    "# latex_table_all = to_latex_table(df, caption_nl, label=save_key, index=False)\n",
    "# with open(os.path.join(save_dir, f'{save_key}.tex'), 'w') as f:\n",
    "#     f.write(latex_table_all)"
   ],
   "metadata": {
    "collapsed": false,
    "ExecuteTime": {
     "end_time": "2024-06-05T06:26:44.849665Z",
     "start_time": "2024-06-05T06:26:41.632289Z"
    }
   },
   "id": "dc05401d6e17600f",
   "execution_count": 6
  },
  {
   "cell_type": "code",
   "outputs": [],
   "source": [],
   "metadata": {
    "collapsed": false
   },
   "id": "f5a86ce0268bbed"
  }
 ],
 "metadata": {
  "kernelspec": {
   "display_name": "Python 3",
   "language": "python",
   "name": "python3"
  },
  "language_info": {
   "codemirror_mode": {
    "name": "ipython",
    "version": 2
   },
   "file_extension": ".py",
   "mimetype": "text/x-python",
   "name": "python",
   "nbconvert_exporter": "python",
   "pygments_lexer": "ipython2",
   "version": "2.7.6"
  }
 },
 "nbformat": 4,
 "nbformat_minor": 5
}
