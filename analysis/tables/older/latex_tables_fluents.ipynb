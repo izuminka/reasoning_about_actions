{
 "cells": [
  {
   "cell_type": "code",
   "outputs": [
    {
     "ename": "ModuleNotFoundError",
     "evalue": "No module named 'helpers'",
     "output_type": "error",
     "traceback": [
      "\u001B[0;31m---------------------------------------------------------------------------\u001B[0m",
      "\u001B[0;31mModuleNotFoundError\u001B[0m                       Traceback (most recent call last)",
      "Input \u001B[0;32mIn [34]\u001B[0m, in \u001B[0;36m<cell line: 7>\u001B[0;34m()\u001B[0m\n\u001B[1;32m      5\u001B[0m \u001B[38;5;28;01mimport\u001B[39;00m \u001B[38;5;21;01mpandas\u001B[39;00m \u001B[38;5;28;01mas\u001B[39;00m \u001B[38;5;21;01mpd\u001B[39;00m\n\u001B[1;32m      6\u001B[0m EVERYTHING_POSTFIX \u001B[38;5;241m=\u001B[39m \u001B[38;5;124m'\u001B[39m\u001B[38;5;124meverything\u001B[39m\u001B[38;5;124m'\u001B[39m\n\u001B[0;32m----> 7\u001B[0m \u001B[38;5;28;01mfrom\u001B[39;00m \u001B[38;5;21;01mhelpers\u001B[39;00m \u001B[38;5;28;01mimport\u001B[39;00m \u001B[38;5;241m*\u001B[39m\n",
      "\u001B[0;31mModuleNotFoundError\u001B[0m: No module named 'helpers'"
     ]
    }
   ],
   "source": [
    "import sys\n",
    "sys.path.append('..')\n",
    "from analysis.model_performances import *\n",
    "from questions_construction.questions import *\n",
    "import pandas as pd\n",
    "EVERYTHING_POSTFIX = 'everything'"
   ],
   "metadata": {
    "collapsed": false,
    "ExecuteTime": {
     "end_time": "2024-05-08T22:14:07.915671Z",
     "start_time": "2024-05-08T22:14:04.255911Z"
    }
   },
   "id": "1581e9208ff09f8e",
   "execution_count": 34
  },
  {
   "cell_type": "code",
   "outputs": [
    {
     "name": "stdout",
     "output_type": "stream",
     "text": [
      "data is gathered\n"
     ]
    }
   ],
   "source": [
    "questions_dir = f'{DATA_PATH}/questions_m1'\n",
    "questions_by_id = gather_questions(questions_dir)\n",
    "# sanity_checks()\n",
    "data_all, missing_data = gather_data(questions_by_id)"
   ],
   "metadata": {
    "collapsed": false,
    "ExecuteTime": {
     "end_time": "2024-05-08T21:58:01.715296Z",
     "start_time": "2024-05-08T21:56:34.040556Z"
    }
   },
   "id": "b1b6274ec4b7a16c",
   "execution_count": 2
  },
  {
   "cell_type": "code",
   "outputs": [],
   "source": [
    "class TrueFalseStatsCustom(TrueFalseStats):\n",
    "    def __init__(self, filtered_data, plan_length, question_category, ramifications, model_name, prompt_type, domain,\n",
    "                 substitutions, score_type=F1_SCORE_KEY):\n",
    "        super().__init__(filtered_data, plan_length, question_category, ramifications, model_name, prompt_type, domain,\n",
    "                 substitutions, score_type=F1_SCORE_KEY)\n",
    "        self.answer_type = TRUE_FALSE_ANSWER_TYPE\n",
    "        self.score_type = score_type\n",
    "        self.data = filtered_data\n",
    "\n",
    "def filter_multi_selector_modified(data_all, ramifications, model_name, prompt_type, answer_type, substitutions, plan_length, other_keys_ls):\n",
    "    \"\"\" if ALL_DOMAINS_KEY or ALL_CATEGORIES_KEY or ALL_LENGTHS_KEY selects multiple values from data_all\"\"\"\n",
    "    filter_by = base_filter(ramifications, model_name, prompt_type, answer_type, substitutions)\n",
    "    filter_by.append((OUT_OBJ_PLAN_LENGTH, {plan_length}))\n",
    "    filter_by.extend(other_keys_ls)\n",
    "    \n",
    "    results = []\n",
    "    for d in data_all:\n",
    "        if all(d[k] in v for k, v in filter_by):\n",
    "            results.append(d)  # dedup if there was a screw up in the evaluations stage and things were computed >1 times\n",
    "    return results"
   ],
   "metadata": {
    "collapsed": false,
    "ExecuteTime": {
     "end_time": "2024-05-08T21:58:18.449710Z",
     "start_time": "2024-05-08T21:58:18.426039Z"
    }
   },
   "id": "272723817e8a5a16",
   "execution_count": 3
  },
  {
   "cell_type": "code",
   "outputs": [],
   "source": [
    "model_name = 'gemini'#'gemma-2b-it'\n",
    "prompt_type = 'few_shot_1'\n",
    "question_category = ALL_QUESTION_CATEGORIES_KEY\n",
    "substitutions = WITHOUT_RANDOM_SUB\n",
    "ramifications = WITH_RAMIFICATIONS\n",
    "answer_type = TRUE_FALSE_ANSWER_TYPE\n",
    "\n",
    "plan_length = 1\n",
    "domain = ALL_DOMAINS_KEY"
   ],
   "metadata": {
    "collapsed": false,
    "ExecuteTime": {
     "end_time": "2024-05-08T22:07:57.109541Z",
     "start_time": "2024-05-08T22:07:57.102631Z"
    }
   },
   "id": "7ab2bf68455c1c3",
   "execution_count": 31
  },
  {
   "cell_type": "code",
   "outputs": [],
   "source": [
    "by_fluent_type = {}\n",
    "for fluent_type in list(FLUENT_TYPES_LIST):# + [None]:\n",
    "    data = filter_multi_selector_modified(data_all, ramifications, model_name, prompt_type, answer_type, substitutions, plan_length, [(OUT_OBJ_FLUENT_TYPE, {fluent_type})])\n",
    "    stats = TrueFalseStatsCustom(data, plan_length, question_category, ramifications, model_name, prompt_type, domain, substitutions)\n",
    "    by_fluent_type[fluent_type] = stats.compute()['result']"
   ],
   "metadata": {
    "collapsed": false,
    "ExecuteTime": {
     "end_time": "2024-05-08T22:08:00.056269Z",
     "start_time": "2024-05-08T22:07:57.335499Z"
    }
   },
   "id": "a0bc9a2978419ef0",
   "execution_count": 32
  },
  {
   "cell_type": "code",
   "outputs": [
    {
     "data": {
      "text/plain": "{'base_fluents': 0.766304347826087,\n 'derived_fluents': 0.6713021491782554,\n 'persistent_fluents': 0.7478079331941545,\n 'static_fluents': 0.6255102040816326}"
     },
     "execution_count": 33,
     "metadata": {},
     "output_type": "execute_result"
    }
   ],
   "source": [
    "by_fluent_type"
   ],
   "metadata": {
    "collapsed": false,
    "ExecuteTime": {
     "end_time": "2024-05-08T22:08:00.061189Z",
     "start_time": "2024-05-08T22:08:00.057818Z"
    }
   },
   "id": "b7ae1ce4405bb28c",
   "execution_count": 33
  },
  {
   "cell_type": "code",
   "outputs": [],
   "source": [
    "# {'base_fluents': 0.766304347826087,\n",
    "#  'derived_fluents': 0.6713021491782554,\n",
    "#  'persistent_fluents': 0.7478079331941545,\n",
    "#  'static_fluents': 0.6255102040816326}\n",
    "\n",
    "# With Random Subs,\n",
    "# {'base_fluents': 0.6943366951124903,\n",
    "#  'derived_fluents': 0.6340852130325815,\n",
    "#  'persistent_fluents': 0.674120082815735,\n",
    "#  'static_fluents': 0.601025641025641}"
   ],
   "metadata": {
    "collapsed": false
   },
   "id": "a75b3632fde0759d"
  },
  {
   "cell_type": "markdown",
   "source": [
    "# By positive and neg fluents"
   ],
   "metadata": {
    "collapsed": false
   },
   "id": "cd1a1a69ad8cb894"
  },
  {
   "cell_type": "code",
   "outputs": [],
   "source": [
    "by_is_pos_fluent_question = {}\n",
    "for is_pos_fluent_question in POS_NEG_FLUENTS_KEY_LIST:\n",
    "    data = filter_multi_selector_modified(data_all, ramifications, model_name, prompt_type, answer_type, substitutions, plan_length, [(OUT_OBJ_IS_POS_FLUENT_QUESTION, {is_pos_fluent_question})])\n",
    "    stats = TrueFalseStatsCustom(data, plan_length, question_category, ramifications, model_name, prompt_type, domain, substitutions)\n",
    "    by_is_pos_fluent_question[is_pos_fluent_question] = stats.compute()['result']"
   ],
   "metadata": {
    "collapsed": false,
    "ExecuteTime": {
     "end_time": "2024-05-08T21:59:09.631618Z",
     "start_time": "2024-05-08T21:59:07.547527Z"
    }
   },
   "id": "bb5dbabda8d58549",
   "execution_count": 7
  },
  {
   "cell_type": "code",
   "outputs": [
    {
     "data": {
      "text/plain": "{True: 0.8338028169014085, False: 0.6400469759248385, None: 0.653728565731756}"
     },
     "execution_count": 8,
     "metadata": {},
     "output_type": "execute_result"
    }
   ],
   "source": [
    "by_is_pos_fluent_question"
   ],
   "metadata": {
    "collapsed": false,
    "ExecuteTime": {
     "end_time": "2024-05-08T21:59:11.230276Z",
     "start_time": "2024-05-08T21:59:11.225236Z"
    }
   },
   "id": "45c23e6d755fd6e",
   "execution_count": 8
  },
  {
   "cell_type": "code",
   "outputs": [],
   "source": [
    "def to_df(results_all, model_name, answer_type, prompt_type, subs, domains):\n",
    "    d_ramifications_pretty = {\n",
    "        WITH_RAMIFICATIONS : 'R',\n",
    "        WITHOUT_RAMIFICATIONS : 'No R'\n",
    "    }\n",
    "    d_answer_type_pretty = {\n",
    "        TRUE_FALSE_ANSWER_TYPE : 'T/F',\n",
    "        FREE_ANSWER_TYPE : 'Free'\n",
    "    }\n",
    "    \n",
    "    index = []\n",
    "    data = []\n",
    "    for plan_length in PLAN_LENGTHS:\n",
    "        for ramifications in RAMIFICATION_TYPES:\n",
    "            index.append((plan_length, d_ramifications_pretty[ramifications], d_answer_type_pretty[answer_type]))\n",
    "            data_columns = {}\n",
    "            for domain in domains:\n",
    "                by_fluent_type = {}\n",
    "                for fluent_type in list(FLUENT_TYPES_LIST) + [None]:\n",
    "                    data = filter_multi_selector_modified(data_all, ramifications, model_name, prompt_type, answer_type, substitutions, plan_length, [(OUT_OBJ_FLUENT_TYPE, {fluent_type})])\n",
    "                    stats = TrueFalseStatsCustom(data, plan_length, question_category, ramifications, model_name, prompt_type, domain, substitutions)\n",
    "                    by_fluent_type[fluent_type] = stats.compute()['result']\n",
    "                    \n",
    "                \n",
    "                data_columns[domain] = filter_single_selector(results_all, plan_length, question_category, ramifications, model_name, prompt_type, domain, answer_type, subs)\n",
    "            data.append(data_columns)\n",
    "    return pd.DataFrame(data, index = index)"
   ],
   "metadata": {
    "collapsed": false,
    "ExecuteTime": {
     "end_time": "2024-05-08T22:02:24.310523Z",
     "start_time": "2024-05-08T22:02:24.299340Z"
    }
   },
   "id": "d94e426a434f7755",
   "execution_count": 9
  },
  {
   "cell_type": "code",
   "outputs": [],
   "source": [],
   "metadata": {
    "collapsed": false
   },
   "id": "548528ce3e33b8f6"
  }
 ],
 "metadata": {
  "kernelspec": {
   "display_name": "Python 3",
   "language": "python",
   "name": "python3"
  },
  "language_info": {
   "codemirror_mode": {
    "name": "ipython",
    "version": 2
   },
   "file_extension": ".py",
   "mimetype": "text/x-python",
   "name": "python",
   "nbconvert_exporter": "python",
   "pygments_lexer": "ipython2",
   "version": "2.7.6"
  }
 },
 "nbformat": 4,
 "nbformat_minor": 5
}
