{
 "cells": [
  {
   "cell_type": "code",
   "source": [
    "import sys\n",
    "import json\n",
    "sys.path.append('..')\n",
    "from common import *\n",
    "from analysis.model_performances import *\n",
    "from questions_construction.questions import *\n",
    "from copy import deepcopy\n",
    "from helpers import *\n",
    "import pandas as pd\n",
    "\n"
   ],
   "metadata": {
    "collapsed": false,
    "ExecuteTime": {
     "end_time": "2024-11-20T07:48:23.587624Z",
     "start_time": "2024-11-20T07:48:23.581333Z"
    }
   },
   "id": "1581e9208ff09f8e",
   "outputs": [],
   "execution_count": 18
  },
  {
   "metadata": {
    "ExecuteTime": {
     "end_time": "2024-11-20T07:48:29.116716Z",
     "start_time": "2024-11-20T07:48:27.065936Z"
    }
   },
   "cell_type": "code",
   "source": [
    "questions_by_id = {d[OUT_OBJ_ID]: d for d in open_jsonl(f'{DATA_PATH}/test_data.paraphrased.cleaned.jsonl')}\n",
    "override = True\n",
    "\n",
    "answer_type = TRUE_FALSE_ANSWER_TYPE\n",
    "answer_response_type = f'{answer_type}.{ACCURACY_SCORE_KEY}' #f'{TRUE_FALSE_ANSWER_TYPE}.{ACCURACY_SCORE_KEY}' #\n",
    "stats_save_dir = f'{STATISTICS_PATH}.trial_run.ED'\n",
    "\n",
    "\n",
    "substitution = WITHOUT_RANDOM_SUB\n",
    "ramification = WITHOUT_RAMIFICATIONS\n",
    "prompt_type = ZERO_SHOT_PROMPT_KEY #FEW_SHOT_3_PROMPT_KEY #\n",
    "models = ['gpt-4o', 'llama_8b','llama_70b', 'llama_8b.finetuned_tf']\n",
    "\n",
    "data_all = []\n",
    "for model_name in models:\n",
    "    model_results_dir = f'{PROJECT_PATH}/data/prompting_results/{ramification}/{prompt_type}/{model_name}.jsonl'\n",
    "    model_results = open_jsonl(model_results_dir)\n",
    "    data_all_inst = data_all_single_run(questions_by_id, model_results, substitution, ramification, model_name,prompt_type)\n",
    "    data_all.extend(data_all_inst)"
   ],
   "id": "ff4516a101f58a11",
   "outputs": [],
   "execution_count": 19
  },
  {
   "metadata": {
    "ExecuteTime": {
     "end_time": "2024-11-20T07:48:30.651190Z",
     "start_time": "2024-11-20T07:48:30.648485Z"
    }
   },
   "cell_type": "code",
   "source": "# data_all[0]",
   "id": "79918e80d9fcb323",
   "outputs": [],
   "execution_count": 20
  },
  {
   "cell_type": "code",
   "source": [
    "def to_df_by_domains(data_all, prompt_type, model, answer_type,\n",
    "                     ramifications=WITHOUT_RAMIFICATIONS, \n",
    "                     subs=WITHOUT_RANDOM_SUB,\n",
    "                      score_type=ACCURACY_SCORE_KEY,\n",
    "                      plan_length=19):\n",
    "\n",
    "    # index = []\n",
    "    data_for_df = []   \n",
    "    for plan_length in [1, 10, 19]:\n",
    "        for question_category in QUESTION_CATEGORIES+[ALL_QUESTION_CATEGORIES_KEY]:\n",
    "            data_columns = {'plan_length': plan_length, 'question category': question_category}\n",
    "            for domain in ['blocksworld', 'depots', 'driverlog', 'grippers', 'mystery', 'satellite', 'spanner', 'visitall']:\n",
    "                stats = TrueFalseStats(data_all, plan_length, question_category, ramifications, model, prompt_type, domain, subs, score_type=score_type)\n",
    "                res_obj = stats.compute()\n",
    "                if res_obj:\n",
    "                    mean = res_obj['result']\n",
    "                    sem = None\n",
    "                    if res_obj['result_other']:\n",
    "                        sem = res_obj['result_other']['sem']\n",
    "                    final_res = (mean, sem)\n",
    "                else:\n",
    "                    final_res = (None, None)\n",
    "                final_res = tuple([round(v*100, 2) if v else v for v in final_res ])\n",
    "                final_res = '${'+str(final_res[0])+'}_{'+str(final_res[1])+'}$'\n",
    "                data_columns[domain] = final_res\n",
    "            data_for_df.append(data_columns)\n",
    "    return pd.DataFrame(data_for_df)"
   ],
   "metadata": {
    "collapsed": false,
    "ExecuteTime": {
     "end_time": "2024-11-20T08:10:20.596229Z",
     "start_time": "2024-11-20T08:10:20.587384Z"
    }
   },
   "id": "dd77fda858739d0e",
   "outputs": [],
   "execution_count": 53
  },
  {
   "cell_type": "markdown",
   "source": [
    "# Subs and Ramfications"
   ],
   "metadata": {
    "collapsed": false
   },
   "id": "5aad3ef5e3825084"
  },
  {
   "metadata": {
    "collapsed": false,
    "ExecuteTime": {
     "end_time": "2024-11-20T08:10:25.406218Z",
     "start_time": "2024-11-20T08:10:21.798596Z"
    }
   },
   "cell_type": "code",
   "source": [
    "model = models[0]\n",
    "df = to_df_by_domains(data_all, prompt_type, model, answer_type)\n",
    "df\n",
    "        \n",
    "# caption_nl = f'performance of {model_name}, {prompt_type}, pl-{plan_length}'.replace('_', ' ')\n",
    "# save_key = f'{model_name}.{prompt_type}.{plan_length}'\n",
    "# \n",
    "# latex_table_all = to_latex_table(df, caption_nl, label=save_key, index=False)\n",
    "# with open(os.path.join(save_dir, f'{save_key}.tex'), 'w') as f:\n",
    "#     f.write(latex_table_all)"
   ],
   "id": "da82c99c16ce0495",
   "outputs": [
    {
     "data": {
      "text/plain": [
       "    plan_length     question category        blocksworld             depots  \\\n",
       "0             1       fluent_tracking    ${100.0}_{0.0}$   ${80.0}_{17.89}$   \n",
       "1             1        state_tracking    ${100.0}_{0.0}$  ${88.89}_{10.48}$   \n",
       "2             1  action_executability   ${93.33}_{6.44}$    ${100.0}_{0.0}$   \n",
       "3             1               effects    ${77.78}_{9.8}$   ${69.23}_{12.8}$   \n",
       "4             1   numerical_reasoning   ${80.0}_{12.65}$  ${77.78}_{13.86}$   \n",
       "5             1             composite   ${80.0}_{10.33}$  ${78.57}_{10.97}$   \n",
       "6             1        ALL_CATEGORIES   ${87.34}_{3.74}$   ${82.54}_{4.78}$   \n",
       "7            10       fluent_tracking    ${100.0}_{0.0}$  ${85.71}_{13.23}$   \n",
       "8            10        state_tracking  ${88.89}_{10.48}$   ${60.0}_{21.91}$   \n",
       "9            10  action_executability  ${71.43}_{12.07}$    ${75.0}_{12.5}$   \n",
       "10           10               effects  ${55.56}_{11.71}$    ${62.5}_{12.1}$   \n",
       "11           10   numerical_reasoning  ${76.92}_{11.69}$  ${61.11}_{11.49}$   \n",
       "12           10             composite   ${80.95}_{8.57}$    ${100.0}_{0.0}$   \n",
       "13           10        ALL_CATEGORIES   ${74.36}_{4.94}$   ${72.86}_{5.32}$   \n",
       "14           19       fluent_tracking    ${100.0}_{0.0}$  ${71.43}_{17.07}$   \n",
       "15           19        state_tracking    ${100.0}_{0.0}$   ${75.0}_{15.31}$   \n",
       "16           19  action_executability  ${64.29}_{12.81}$  ${61.54}_{13.49}$   \n",
       "17           19               effects  ${73.33}_{11.42}$  ${71.43}_{12.07}$   \n",
       "18           19   numerical_reasoning   ${69.23}_{12.8}$    ${62.5}_{12.1}$   \n",
       "19           19             composite   ${73.91}_{9.16}$  ${78.57}_{10.97}$   \n",
       "20           19        ALL_CATEGORIES   ${79.12}_{4.26}$   ${69.44}_{5.43}$   \n",
       "\n",
       "            driverlog           grippers            mystery  \\\n",
       "0    ${60.0}_{21.91}$    ${100.0}_{0.0}$    ${100.0}_{0.0}$   \n",
       "1    ${60.0}_{21.91}$    ${90.0}_{9.49}$  ${88.89}_{10.48}$   \n",
       "2     ${100.0}_{0.0}$    ${100.0}_{0.0}$  ${78.57}_{10.97}$   \n",
       "3   ${83.33}_{15.21}$    ${77.78}_{9.8}$    ${100.0}_{0.0}$   \n",
       "4   ${66.67}_{15.71}$  ${66.67}_{15.71}$   ${62.5}_{17.12}$   \n",
       "5   ${76.92}_{11.69}$  ${57.14}_{13.23}$   ${90.91}_{8.67}$   \n",
       "6    ${77.08}_{6.07}$   ${82.93}_{4.16}$   ${85.71}_{4.68}$   \n",
       "7     ${100.0}_{0.0}$    ${100.0}_{0.0}$    ${100.0}_{0.0}$   \n",
       "8    ${75.0}_{15.31}$   ${80.0}_{12.65}$   ${50.0}_{20.41}$   \n",
       "9   ${84.62}_{10.01}$   ${69.23}_{12.8}$  ${58.33}_{14.23}$   \n",
       "10   ${75.0}_{15.31}$    ${77.78}_{9.8}$  ${71.43}_{17.07}$   \n",
       "11  ${53.85}_{13.83}$   ${40.0}_{21.91}$   ${50.0}_{15.81}$   \n",
       "12   ${78.95}_{9.35}$   ${90.48}_{6.41}$  ${72.73}_{13.43}$   \n",
       "13   ${76.47}_{5.14}$   ${81.93}_{4.22}$    ${64.0}_{6.79}$   \n",
       "14   ${80.0}_{17.89}$    ${100.0}_{0.0}$    ${100.0}_{0.0}$   \n",
       "15  ${88.89}_{10.48}$   ${57.14}_{18.7}$   ${87.5}_{11.69}$   \n",
       "16  ${66.67}_{13.61}$  ${73.33}_{11.42}$  ${64.29}_{12.81}$   \n",
       "17  ${85.71}_{13.23}$  ${68.75}_{11.59}$   ${62.5}_{17.12}$   \n",
       "18   ${62.5}_{17.12}$  ${45.45}_{15.01}$    ${10.0}_{9.49}$   \n",
       "19   ${86.67}_{8.78}$    ${82.61}_{7.9}$   ${80.0}_{12.65}$   \n",
       "20   ${78.57}_{5.48}$   ${73.17}_{4.89}$   ${60.78}_{6.84}$   \n",
       "\n",
       "            satellite            spanner           visitall  \n",
       "0    ${91.67}_{7.98}$    ${100.0}_{0.0}$    ${100.0}_{0.0}$  \n",
       "1   ${71.43}_{17.07}$   ${75.0}_{15.31}$    ${100.0}_{0.0}$  \n",
       "2     ${100.0}_{0.0}$    ${100.0}_{0.0}$  ${72.73}_{13.43}$  \n",
       "3   ${77.78}_{13.86}$   ${57.14}_{18.7}$   ${85.71}_{9.35}$  \n",
       "4    ${57.14}_{18.7}$  ${54.55}_{15.01}$  ${46.67}_{12.88}$  \n",
       "5   ${70.59}_{11.05}$  ${68.75}_{11.59}$  ${78.57}_{10.97}$  \n",
       "6    ${79.69}_{5.03}$   ${77.27}_{5.16}$   ${75.38}_{5.34}$  \n",
       "7   ${81.82}_{11.63}$  ${81.82}_{11.63}$   ${90.91}_{8.67}$  \n",
       "8   ${77.78}_{13.86}$   ${75.0}_{15.31}$    ${100.0}_{0.0}$  \n",
       "9   ${66.67}_{13.61}$   ${69.23}_{12.8}$  ${71.43}_{12.07}$  \n",
       "10  ${28.57}_{17.07}$  ${55.56}_{16.56}$  ${53.33}_{12.88}$  \n",
       "11   ${56.25}_{12.4}$   ${50.0}_{17.68}$  ${38.46}_{13.49}$  \n",
       "12   ${73.91}_{9.16}$   ${82.35}_{9.25}$   ${90.91}_{8.67}$  \n",
       "13   ${66.67}_{5.34}$   ${71.21}_{5.57}$   ${68.66}_{5.67}$  \n",
       "14    ${100.0}_{0.0}$    ${100.0}_{0.0}$  ${66.67}_{19.25}$  \n",
       "15   ${80.0}_{17.89}$  ${85.71}_{13.23}$    ${100.0}_{0.0}$  \n",
       "16  ${53.85}_{13.83}$   ${80.0}_{12.65}$  ${71.43}_{12.07}$  \n",
       "17   ${57.14}_{18.7}$   ${70.0}_{14.49}$   ${69.23}_{12.8}$  \n",
       "18   ${50.0}_{15.81}$   ${40.0}_{15.49}$   ${50.0}_{13.36}$  \n",
       "19    ${73.08}_{8.7}$    ${75.0}_{9.68}$   ${87.5}_{11.69}$  \n",
       "20   ${69.44}_{5.43}$   ${74.24}_{5.38}$   ${69.49}_{5.99}$  "
      ],
      "text/html": [
       "<div>\n",
       "<style scoped>\n",
       "    .dataframe tbody tr th:only-of-type {\n",
       "        vertical-align: middle;\n",
       "    }\n",
       "\n",
       "    .dataframe tbody tr th {\n",
       "        vertical-align: top;\n",
       "    }\n",
       "\n",
       "    .dataframe thead th {\n",
       "        text-align: right;\n",
       "    }\n",
       "</style>\n",
       "<table border=\"1\" class=\"dataframe\">\n",
       "  <thead>\n",
       "    <tr style=\"text-align: right;\">\n",
       "      <th></th>\n",
       "      <th>plan_length</th>\n",
       "      <th>question category</th>\n",
       "      <th>blocksworld</th>\n",
       "      <th>depots</th>\n",
       "      <th>driverlog</th>\n",
       "      <th>grippers</th>\n",
       "      <th>mystery</th>\n",
       "      <th>satellite</th>\n",
       "      <th>spanner</th>\n",
       "      <th>visitall</th>\n",
       "    </tr>\n",
       "  </thead>\n",
       "  <tbody>\n",
       "    <tr>\n",
       "      <th>0</th>\n",
       "      <td>1</td>\n",
       "      <td>fluent_tracking</td>\n",
       "      <td>${100.0}_{0.0}$</td>\n",
       "      <td>${80.0}_{17.89}$</td>\n",
       "      <td>${60.0}_{21.91}$</td>\n",
       "      <td>${100.0}_{0.0}$</td>\n",
       "      <td>${100.0}_{0.0}$</td>\n",
       "      <td>${91.67}_{7.98}$</td>\n",
       "      <td>${100.0}_{0.0}$</td>\n",
       "      <td>${100.0}_{0.0}$</td>\n",
       "    </tr>\n",
       "    <tr>\n",
       "      <th>1</th>\n",
       "      <td>1</td>\n",
       "      <td>state_tracking</td>\n",
       "      <td>${100.0}_{0.0}$</td>\n",
       "      <td>${88.89}_{10.48}$</td>\n",
       "      <td>${60.0}_{21.91}$</td>\n",
       "      <td>${90.0}_{9.49}$</td>\n",
       "      <td>${88.89}_{10.48}$</td>\n",
       "      <td>${71.43}_{17.07}$</td>\n",
       "      <td>${75.0}_{15.31}$</td>\n",
       "      <td>${100.0}_{0.0}$</td>\n",
       "    </tr>\n",
       "    <tr>\n",
       "      <th>2</th>\n",
       "      <td>1</td>\n",
       "      <td>action_executability</td>\n",
       "      <td>${93.33}_{6.44}$</td>\n",
       "      <td>${100.0}_{0.0}$</td>\n",
       "      <td>${100.0}_{0.0}$</td>\n",
       "      <td>${100.0}_{0.0}$</td>\n",
       "      <td>${78.57}_{10.97}$</td>\n",
       "      <td>${100.0}_{0.0}$</td>\n",
       "      <td>${100.0}_{0.0}$</td>\n",
       "      <td>${72.73}_{13.43}$</td>\n",
       "    </tr>\n",
       "    <tr>\n",
       "      <th>3</th>\n",
       "      <td>1</td>\n",
       "      <td>effects</td>\n",
       "      <td>${77.78}_{9.8}$</td>\n",
       "      <td>${69.23}_{12.8}$</td>\n",
       "      <td>${83.33}_{15.21}$</td>\n",
       "      <td>${77.78}_{9.8}$</td>\n",
       "      <td>${100.0}_{0.0}$</td>\n",
       "      <td>${77.78}_{13.86}$</td>\n",
       "      <td>${57.14}_{18.7}$</td>\n",
       "      <td>${85.71}_{9.35}$</td>\n",
       "    </tr>\n",
       "    <tr>\n",
       "      <th>4</th>\n",
       "      <td>1</td>\n",
       "      <td>numerical_reasoning</td>\n",
       "      <td>${80.0}_{12.65}$</td>\n",
       "      <td>${77.78}_{13.86}$</td>\n",
       "      <td>${66.67}_{15.71}$</td>\n",
       "      <td>${66.67}_{15.71}$</td>\n",
       "      <td>${62.5}_{17.12}$</td>\n",
       "      <td>${57.14}_{18.7}$</td>\n",
       "      <td>${54.55}_{15.01}$</td>\n",
       "      <td>${46.67}_{12.88}$</td>\n",
       "    </tr>\n",
       "    <tr>\n",
       "      <th>5</th>\n",
       "      <td>1</td>\n",
       "      <td>composite</td>\n",
       "      <td>${80.0}_{10.33}$</td>\n",
       "      <td>${78.57}_{10.97}$</td>\n",
       "      <td>${76.92}_{11.69}$</td>\n",
       "      <td>${57.14}_{13.23}$</td>\n",
       "      <td>${90.91}_{8.67}$</td>\n",
       "      <td>${70.59}_{11.05}$</td>\n",
       "      <td>${68.75}_{11.59}$</td>\n",
       "      <td>${78.57}_{10.97}$</td>\n",
       "    </tr>\n",
       "    <tr>\n",
       "      <th>6</th>\n",
       "      <td>1</td>\n",
       "      <td>ALL_CATEGORIES</td>\n",
       "      <td>${87.34}_{3.74}$</td>\n",
       "      <td>${82.54}_{4.78}$</td>\n",
       "      <td>${77.08}_{6.07}$</td>\n",
       "      <td>${82.93}_{4.16}$</td>\n",
       "      <td>${85.71}_{4.68}$</td>\n",
       "      <td>${79.69}_{5.03}$</td>\n",
       "      <td>${77.27}_{5.16}$</td>\n",
       "      <td>${75.38}_{5.34}$</td>\n",
       "    </tr>\n",
       "    <tr>\n",
       "      <th>7</th>\n",
       "      <td>10</td>\n",
       "      <td>fluent_tracking</td>\n",
       "      <td>${100.0}_{0.0}$</td>\n",
       "      <td>${85.71}_{13.23}$</td>\n",
       "      <td>${100.0}_{0.0}$</td>\n",
       "      <td>${100.0}_{0.0}$</td>\n",
       "      <td>${100.0}_{0.0}$</td>\n",
       "      <td>${81.82}_{11.63}$</td>\n",
       "      <td>${81.82}_{11.63}$</td>\n",
       "      <td>${90.91}_{8.67}$</td>\n",
       "    </tr>\n",
       "    <tr>\n",
       "      <th>8</th>\n",
       "      <td>10</td>\n",
       "      <td>state_tracking</td>\n",
       "      <td>${88.89}_{10.48}$</td>\n",
       "      <td>${60.0}_{21.91}$</td>\n",
       "      <td>${75.0}_{15.31}$</td>\n",
       "      <td>${80.0}_{12.65}$</td>\n",
       "      <td>${50.0}_{20.41}$</td>\n",
       "      <td>${77.78}_{13.86}$</td>\n",
       "      <td>${75.0}_{15.31}$</td>\n",
       "      <td>${100.0}_{0.0}$</td>\n",
       "    </tr>\n",
       "    <tr>\n",
       "      <th>9</th>\n",
       "      <td>10</td>\n",
       "      <td>action_executability</td>\n",
       "      <td>${71.43}_{12.07}$</td>\n",
       "      <td>${75.0}_{12.5}$</td>\n",
       "      <td>${84.62}_{10.01}$</td>\n",
       "      <td>${69.23}_{12.8}$</td>\n",
       "      <td>${58.33}_{14.23}$</td>\n",
       "      <td>${66.67}_{13.61}$</td>\n",
       "      <td>${69.23}_{12.8}$</td>\n",
       "      <td>${71.43}_{12.07}$</td>\n",
       "    </tr>\n",
       "    <tr>\n",
       "      <th>10</th>\n",
       "      <td>10</td>\n",
       "      <td>effects</td>\n",
       "      <td>${55.56}_{11.71}$</td>\n",
       "      <td>${62.5}_{12.1}$</td>\n",
       "      <td>${75.0}_{15.31}$</td>\n",
       "      <td>${77.78}_{9.8}$</td>\n",
       "      <td>${71.43}_{17.07}$</td>\n",
       "      <td>${28.57}_{17.07}$</td>\n",
       "      <td>${55.56}_{16.56}$</td>\n",
       "      <td>${53.33}_{12.88}$</td>\n",
       "    </tr>\n",
       "    <tr>\n",
       "      <th>11</th>\n",
       "      <td>10</td>\n",
       "      <td>numerical_reasoning</td>\n",
       "      <td>${76.92}_{11.69}$</td>\n",
       "      <td>${61.11}_{11.49}$</td>\n",
       "      <td>${53.85}_{13.83}$</td>\n",
       "      <td>${40.0}_{21.91}$</td>\n",
       "      <td>${50.0}_{15.81}$</td>\n",
       "      <td>${56.25}_{12.4}$</td>\n",
       "      <td>${50.0}_{17.68}$</td>\n",
       "      <td>${38.46}_{13.49}$</td>\n",
       "    </tr>\n",
       "    <tr>\n",
       "      <th>12</th>\n",
       "      <td>10</td>\n",
       "      <td>composite</td>\n",
       "      <td>${80.95}_{8.57}$</td>\n",
       "      <td>${100.0}_{0.0}$</td>\n",
       "      <td>${78.95}_{9.35}$</td>\n",
       "      <td>${90.48}_{6.41}$</td>\n",
       "      <td>${72.73}_{13.43}$</td>\n",
       "      <td>${73.91}_{9.16}$</td>\n",
       "      <td>${82.35}_{9.25}$</td>\n",
       "      <td>${90.91}_{8.67}$</td>\n",
       "    </tr>\n",
       "    <tr>\n",
       "      <th>13</th>\n",
       "      <td>10</td>\n",
       "      <td>ALL_CATEGORIES</td>\n",
       "      <td>${74.36}_{4.94}$</td>\n",
       "      <td>${72.86}_{5.32}$</td>\n",
       "      <td>${76.47}_{5.14}$</td>\n",
       "      <td>${81.93}_{4.22}$</td>\n",
       "      <td>${64.0}_{6.79}$</td>\n",
       "      <td>${66.67}_{5.34}$</td>\n",
       "      <td>${71.21}_{5.57}$</td>\n",
       "      <td>${68.66}_{5.67}$</td>\n",
       "    </tr>\n",
       "    <tr>\n",
       "      <th>14</th>\n",
       "      <td>19</td>\n",
       "      <td>fluent_tracking</td>\n",
       "      <td>${100.0}_{0.0}$</td>\n",
       "      <td>${71.43}_{17.07}$</td>\n",
       "      <td>${80.0}_{17.89}$</td>\n",
       "      <td>${100.0}_{0.0}$</td>\n",
       "      <td>${100.0}_{0.0}$</td>\n",
       "      <td>${100.0}_{0.0}$</td>\n",
       "      <td>${100.0}_{0.0}$</td>\n",
       "      <td>${66.67}_{19.25}$</td>\n",
       "    </tr>\n",
       "    <tr>\n",
       "      <th>15</th>\n",
       "      <td>19</td>\n",
       "      <td>state_tracking</td>\n",
       "      <td>${100.0}_{0.0}$</td>\n",
       "      <td>${75.0}_{15.31}$</td>\n",
       "      <td>${88.89}_{10.48}$</td>\n",
       "      <td>${57.14}_{18.7}$</td>\n",
       "      <td>${87.5}_{11.69}$</td>\n",
       "      <td>${80.0}_{17.89}$</td>\n",
       "      <td>${85.71}_{13.23}$</td>\n",
       "      <td>${100.0}_{0.0}$</td>\n",
       "    </tr>\n",
       "    <tr>\n",
       "      <th>16</th>\n",
       "      <td>19</td>\n",
       "      <td>action_executability</td>\n",
       "      <td>${64.29}_{12.81}$</td>\n",
       "      <td>${61.54}_{13.49}$</td>\n",
       "      <td>${66.67}_{13.61}$</td>\n",
       "      <td>${73.33}_{11.42}$</td>\n",
       "      <td>${64.29}_{12.81}$</td>\n",
       "      <td>${53.85}_{13.83}$</td>\n",
       "      <td>${80.0}_{12.65}$</td>\n",
       "      <td>${71.43}_{12.07}$</td>\n",
       "    </tr>\n",
       "    <tr>\n",
       "      <th>17</th>\n",
       "      <td>19</td>\n",
       "      <td>effects</td>\n",
       "      <td>${73.33}_{11.42}$</td>\n",
       "      <td>${71.43}_{12.07}$</td>\n",
       "      <td>${85.71}_{13.23}$</td>\n",
       "      <td>${68.75}_{11.59}$</td>\n",
       "      <td>${62.5}_{17.12}$</td>\n",
       "      <td>${57.14}_{18.7}$</td>\n",
       "      <td>${70.0}_{14.49}$</td>\n",
       "      <td>${69.23}_{12.8}$</td>\n",
       "    </tr>\n",
       "    <tr>\n",
       "      <th>18</th>\n",
       "      <td>19</td>\n",
       "      <td>numerical_reasoning</td>\n",
       "      <td>${69.23}_{12.8}$</td>\n",
       "      <td>${62.5}_{12.1}$</td>\n",
       "      <td>${62.5}_{17.12}$</td>\n",
       "      <td>${45.45}_{15.01}$</td>\n",
       "      <td>${10.0}_{9.49}$</td>\n",
       "      <td>${50.0}_{15.81}$</td>\n",
       "      <td>${40.0}_{15.49}$</td>\n",
       "      <td>${50.0}_{13.36}$</td>\n",
       "    </tr>\n",
       "    <tr>\n",
       "      <th>19</th>\n",
       "      <td>19</td>\n",
       "      <td>composite</td>\n",
       "      <td>${73.91}_{9.16}$</td>\n",
       "      <td>${78.57}_{10.97}$</td>\n",
       "      <td>${86.67}_{8.78}$</td>\n",
       "      <td>${82.61}_{7.9}$</td>\n",
       "      <td>${80.0}_{12.65}$</td>\n",
       "      <td>${73.08}_{8.7}$</td>\n",
       "      <td>${75.0}_{9.68}$</td>\n",
       "      <td>${87.5}_{11.69}$</td>\n",
       "    </tr>\n",
       "    <tr>\n",
       "      <th>20</th>\n",
       "      <td>19</td>\n",
       "      <td>ALL_CATEGORIES</td>\n",
       "      <td>${79.12}_{4.26}$</td>\n",
       "      <td>${69.44}_{5.43}$</td>\n",
       "      <td>${78.57}_{5.48}$</td>\n",
       "      <td>${73.17}_{4.89}$</td>\n",
       "      <td>${60.78}_{6.84}$</td>\n",
       "      <td>${69.44}_{5.43}$</td>\n",
       "      <td>${74.24}_{5.38}$</td>\n",
       "      <td>${69.49}_{5.99}$</td>\n",
       "    </tr>\n",
       "  </tbody>\n",
       "</table>\n",
       "</div>"
      ]
     },
     "execution_count": 54,
     "metadata": {},
     "output_type": "execute_result"
    }
   ],
   "execution_count": 54
  },
  {
   "metadata": {
    "ExecuteTime": {
     "end_time": "2024-11-20T08:10:41.353731Z",
     "start_time": "2024-11-20T08:10:41.304910Z"
    }
   },
   "cell_type": "code",
   "source": [
    "latex_table_all = to_latex_table(df, 'some caption', index=False)\n",
    "print(latex_table_all)"
   ],
   "id": "b6b0cbdd30bc9a19",
   "outputs": [
    {
     "name": "stdout",
     "output_type": "stream",
     "text": [
      "\n",
      "\\begin{table}[h!]\n",
      "\\begin{adjustbox}{width=\\textwidth,center}\n",
      "\\begin{tabular}{rlllllllll}\n",
      "\\toprule\n",
      " plan_length &    question category &       blocksworld &            depots &         driverlog &          grippers &           mystery &         satellite &           spanner &          visitall \\\\\n",
      "\\midrule\n",
      "           1 &      fluent_tracking &   ${100.0}_{0.0}$ &  ${80.0}_{17.89}$ &  ${60.0}_{21.91}$ &   ${100.0}_{0.0}$ &   ${100.0}_{0.0}$ &  ${91.67}_{7.98}$ &   ${100.0}_{0.0}$ &   ${100.0}_{0.0}$ \\\\\n",
      "           1 &       state_tracking &   ${100.0}_{0.0}$ & ${88.89}_{10.48}$ &  ${60.0}_{21.91}$ &   ${90.0}_{9.49}$ & ${88.89}_{10.48}$ & ${71.43}_{17.07}$ &  ${75.0}_{15.31}$ &   ${100.0}_{0.0}$ \\\\\n",
      "           1 & action_executability &  ${93.33}_{6.44}$ &   ${100.0}_{0.0}$ &   ${100.0}_{0.0}$ &   ${100.0}_{0.0}$ & ${78.57}_{10.97}$ &   ${100.0}_{0.0}$ &   ${100.0}_{0.0}$ & ${72.73}_{13.43}$ \\\\\n",
      "           1 &              effects &   ${77.78}_{9.8}$ &  ${69.23}_{12.8}$ & ${83.33}_{15.21}$ &   ${77.78}_{9.8}$ &   ${100.0}_{0.0}$ & ${77.78}_{13.86}$ &  ${57.14}_{18.7}$ &  ${85.71}_{9.35}$ \\\\\n",
      "           1 &  numerical_reasoning &  ${80.0}_{12.65}$ & ${77.78}_{13.86}$ & ${66.67}_{15.71}$ & ${66.67}_{15.71}$ &  ${62.5}_{17.12}$ &  ${57.14}_{18.7}$ & ${54.55}_{15.01}$ & ${46.67}_{12.88}$ \\\\\n",
      "           1 &            composite &  ${80.0}_{10.33}$ & ${78.57}_{10.97}$ & ${76.92}_{11.69}$ & ${57.14}_{13.23}$ &  ${90.91}_{8.67}$ & ${70.59}_{11.05}$ & ${68.75}_{11.59}$ & ${78.57}_{10.97}$ \\\\\n",
      "           1 &       ALL_CATEGORIES &  ${87.34}_{3.74}$ &  ${82.54}_{4.78}$ &  ${77.08}_{6.07}$ &  ${82.93}_{4.16}$ &  ${85.71}_{4.68}$ &  ${79.69}_{5.03}$ &  ${77.27}_{5.16}$ &  ${75.38}_{5.34}$ \\\\\n",
      "          10 &      fluent_tracking &   ${100.0}_{0.0}$ & ${85.71}_{13.23}$ &   ${100.0}_{0.0}$ &   ${100.0}_{0.0}$ &   ${100.0}_{0.0}$ & ${81.82}_{11.63}$ & ${81.82}_{11.63}$ &  ${90.91}_{8.67}$ \\\\\n",
      "          10 &       state_tracking & ${88.89}_{10.48}$ &  ${60.0}_{21.91}$ &  ${75.0}_{15.31}$ &  ${80.0}_{12.65}$ &  ${50.0}_{20.41}$ & ${77.78}_{13.86}$ &  ${75.0}_{15.31}$ &   ${100.0}_{0.0}$ \\\\\n",
      "          10 & action_executability & ${71.43}_{12.07}$ &   ${75.0}_{12.5}$ & ${84.62}_{10.01}$ &  ${69.23}_{12.8}$ & ${58.33}_{14.23}$ & ${66.67}_{13.61}$ &  ${69.23}_{12.8}$ & ${71.43}_{12.07}$ \\\\\n",
      "          10 &              effects & ${55.56}_{11.71}$ &   ${62.5}_{12.1}$ &  ${75.0}_{15.31}$ &   ${77.78}_{9.8}$ & ${71.43}_{17.07}$ & ${28.57}_{17.07}$ & ${55.56}_{16.56}$ & ${53.33}_{12.88}$ \\\\\n",
      "          10 &  numerical_reasoning & ${76.92}_{11.69}$ & ${61.11}_{11.49}$ & ${53.85}_{13.83}$ &  ${40.0}_{21.91}$ &  ${50.0}_{15.81}$ &  ${56.25}_{12.4}$ &  ${50.0}_{17.68}$ & ${38.46}_{13.49}$ \\\\\n",
      "          10 &            composite &  ${80.95}_{8.57}$ &   ${100.0}_{0.0}$ &  ${78.95}_{9.35}$ &  ${90.48}_{6.41}$ & ${72.73}_{13.43}$ &  ${73.91}_{9.16}$ &  ${82.35}_{9.25}$ &  ${90.91}_{8.67}$ \\\\\n",
      "          10 &       ALL_CATEGORIES &  ${74.36}_{4.94}$ &  ${72.86}_{5.32}$ &  ${76.47}_{5.14}$ &  ${81.93}_{4.22}$ &   ${64.0}_{6.79}$ &  ${66.67}_{5.34}$ &  ${71.21}_{5.57}$ &  ${68.66}_{5.67}$ \\\\\n",
      "          19 &      fluent_tracking &   ${100.0}_{0.0}$ & ${71.43}_{17.07}$ &  ${80.0}_{17.89}$ &   ${100.0}_{0.0}$ &   ${100.0}_{0.0}$ &   ${100.0}_{0.0}$ &   ${100.0}_{0.0}$ & ${66.67}_{19.25}$ \\\\\n",
      "          19 &       state_tracking &   ${100.0}_{0.0}$ &  ${75.0}_{15.31}$ & ${88.89}_{10.48}$ &  ${57.14}_{18.7}$ &  ${87.5}_{11.69}$ &  ${80.0}_{17.89}$ & ${85.71}_{13.23}$ &   ${100.0}_{0.0}$ \\\\\n",
      "          19 & action_executability & ${64.29}_{12.81}$ & ${61.54}_{13.49}$ & ${66.67}_{13.61}$ & ${73.33}_{11.42}$ & ${64.29}_{12.81}$ & ${53.85}_{13.83}$ &  ${80.0}_{12.65}$ & ${71.43}_{12.07}$ \\\\\n",
      "          19 &              effects & ${73.33}_{11.42}$ & ${71.43}_{12.07}$ & ${85.71}_{13.23}$ & ${68.75}_{11.59}$ &  ${62.5}_{17.12}$ &  ${57.14}_{18.7}$ &  ${70.0}_{14.49}$ &  ${69.23}_{12.8}$ \\\\\n",
      "          19 &  numerical_reasoning &  ${69.23}_{12.8}$ &   ${62.5}_{12.1}$ &  ${62.5}_{17.12}$ & ${45.45}_{15.01}$ &   ${10.0}_{9.49}$ &  ${50.0}_{15.81}$ &  ${40.0}_{15.49}$ &  ${50.0}_{13.36}$ \\\\\n",
      "          19 &            composite &  ${73.91}_{9.16}$ & ${78.57}_{10.97}$ &  ${86.67}_{8.78}$ &   ${82.61}_{7.9}$ &  ${80.0}_{12.65}$ &   ${73.08}_{8.7}$ &   ${75.0}_{9.68}$ &  ${87.5}_{11.69}$ \\\\\n",
      "          19 &       ALL_CATEGORIES &  ${79.12}_{4.26}$ &  ${69.44}_{5.43}$ &  ${78.57}_{5.48}$ &  ${73.17}_{4.89}$ &  ${60.78}_{6.84}$ &  ${69.44}_{5.43}$ &  ${74.24}_{5.38}$ &  ${69.49}_{5.99}$ \\\\\n",
      "\\bottomrule\n",
      "\\end{tabular}\n",
      "\n",
      "\\end{adjustbox}\n",
      "\\caption{some caption}\n",
      "\\label{table:}\n",
      "\\end{table}\n",
      "\n"
     ]
    },
    {
     "name": "stderr",
     "output_type": "stream",
     "text": [
      "/Users/paveldolin/dev/research/completed/reasoning_about_actions/pipeline/src/analysis/tables/helpers.py:45: FutureWarning: In future versions `DataFrame.to_latex` is expected to utilise the base implementation of `Styler.to_latex` for formatting and rendering. The arguments signature may therefore change. It is recommended instead to use `DataFrame.style.to_latex` which also contains additional functionality.\n",
      "  latex_table = df.to_latex(index=index, formatters={\"name\": str.upper}, float_format=\"{:.2f}\".format)\n"
     ]
    }
   ],
   "execution_count": 55
  },
  {
   "cell_type": "code",
   "source": [
    "df_pos_neg = to_df_by_sub_ram_neg_pos(data_all, model_name, prompt_type, plan_length=plan_length)\n",
    "df_pos_neg\n",
    "        \n",
    "# caption_nl = f'performance of {model_name}, {prompt_type}, pl-{plan_length}'.replace('_', ' ')\n",
    "# save_key = f'{model_name}.{prompt_type}.{plan_length}'\n",
    "# \n",
    "# latex_table_all = to_latex_table(df, caption_nl, label=save_key, index=False)\n",
    "# with open(os.path.join(save_dir, f'{save_key}.tex'), 'w') as f:\n",
    "#     f.write(latex_table_all)"
   ],
   "metadata": {
    "collapsed": false,
    "ExecuteTime": {
     "end_time": "2024-11-20T06:47:32.219385Z",
     "start_time": "2024-11-20T06:47:32.172911Z"
    }
   },
   "id": "a2a6c92185f6a2e3",
   "outputs": [
    {
     "ename": "NameError",
     "evalue": "name 'OUT_OBJ_IS_POS_FLUENT_QUESTION' is not defined",
     "output_type": "error",
     "traceback": [
      "\u001B[0;31m---------------------------------------------------------------------------\u001B[0m",
      "\u001B[0;31mNameError\u001B[0m                                 Traceback (most recent call last)",
      "Input \u001B[0;32mIn [80]\u001B[0m, in \u001B[0;36m<cell line: 1>\u001B[0;34m()\u001B[0m\n\u001B[0;32m----> 1\u001B[0m df_pos_neg \u001B[38;5;241m=\u001B[39m \u001B[43mto_df_by_sub_ram_neg_pos\u001B[49m\u001B[43m(\u001B[49m\u001B[43mdata_all\u001B[49m\u001B[43m,\u001B[49m\u001B[43m \u001B[49m\u001B[43mmodel_name\u001B[49m\u001B[43m,\u001B[49m\u001B[43m \u001B[49m\u001B[43mprompt_type\u001B[49m\u001B[43m,\u001B[49m\u001B[43m \u001B[49m\u001B[43mplan_length\u001B[49m\u001B[38;5;241;43m=\u001B[39;49m\u001B[43mplan_length\u001B[49m\u001B[43m)\u001B[49m\n\u001B[1;32m      2\u001B[0m df_pos_neg\n",
      "Input \u001B[0;32mIn [78]\u001B[0m, in \u001B[0;36mto_df_by_sub_ram_neg_pos\u001B[0;34m(data_all, model_name, prompt_type, score_type, question_category, domain, answer_type, plan_length)\u001B[0m\n\u001B[1;32m     14\u001B[0m \u001B[38;5;28;01mfor\u001B[39;00m subs \u001B[38;5;129;01min\u001B[39;00m [WITHOUT_RANDOM_SUB, WITH_RANDOM_SUB]:\n\u001B[1;32m     15\u001B[0m     \u001B[38;5;28;01mfor\u001B[39;00m ramifications \u001B[38;5;129;01min\u001B[39;00m [WITHOUT_RAMIFICATIONS, WITH_RAMIFICATIONS]:\n\u001B[0;32m---> 16\u001B[0m         data \u001B[38;5;241m=\u001B[39m filter_multi_selector_modified(data_all, ramifications, model_name, prompt_type, answer_type, subs, plan_length, [(\u001B[43mOUT_OBJ_IS_POS_FLUENT_QUESTION\u001B[49m, {is_pos_fluent})])\n\u001B[1;32m     17\u001B[0m         stats \u001B[38;5;241m=\u001B[39m TrueFalseStatsCustom(data, plan_length, question_category, ramifications, model_name, prompt_type, domain, subs, score_type\u001B[38;5;241m=\u001B[39mscore_type)\n\u001B[1;32m     18\u001B[0m         res_obj \u001B[38;5;241m=\u001B[39m stats\u001B[38;5;241m.\u001B[39mcompute()\n",
      "\u001B[0;31mNameError\u001B[0m: name 'OUT_OBJ_IS_POS_FLUENT_QUESTION' is not defined"
     ]
    }
   ],
   "execution_count": 80
  },
  {
   "cell_type": "markdown",
   "source": [
    "# By Models"
   ],
   "metadata": {
    "collapsed": false
   },
   "id": "9896e750372f819e"
  },
  {
   "cell_type": "code",
   "source": [
    "score_type=ACCURACY_SCORE_KEY, \n",
    "question_category = ALL_QUESTION_CATEGORIES_KEY,\n",
    "domain = ALL_DOMAINS_KEY,\n",
    "answer_type=TRUE_FALSE_ANSWER_TYPE,\n",
    "plan_length=1\n",
    "\n",
    "data_for_df = []    \n",
    "for fluent_type in FLUENT_TYPES_LIST:\n",
    "    # index.append()\n",
    "    data_columns = {}\n",
    "    data_columns['fluent type'] = TO_PRETTY[fluent_type]\n",
    "    for model in models:\n",
    "        data = filter_multi_selector_modified(data_all, ramification, model, prompt_type, answer_type, substitution, plan_length, [(OUT_OBJ_FLUENT_TYPE, {fluent_type})])\n",
    "        print(len(data))\n",
    "        stats = TrueFalseStatsCustom(data, plan_length, question_category, ramification, model, prompt_type, domain, substitution, score_type=score_type)\n",
    "        res_obj = stats.compute()\n",
    "        if res_obj:\n",
    "            mean = res_obj['result']\n",
    "            sem = None\n",
    "            if res_obj['result_other']:\n",
    "                sem = res_obj['result_other']['sem']\n",
    "            final_res = (mean, sem)\n",
    "        else:\n",
    "            final_res = (None, None)\n",
    "        final_res = tuple([round(v*100, 2) if v else v for v in final_res ])\n",
    "        final_res = '${'+str(final_res[0])+'}_{'+str(final_res[1])+'}$'\n",
    "        # print(final_res)\n",
    "        data_columns[TO_PRETTY.get(model, model)] = final_res\n",
    "    data_for_df.append(data_columns)"
   ],
   "metadata": {
    "collapsed": false,
    "ExecuteTime": {
     "end_time": "2024-11-20T06:40:44.763603Z",
     "start_time": "2024-11-20T06:40:44.670001Z"
    }
   },
   "id": "f5a86ce0268bbed",
   "outputs": [
    {
     "name": "stdout",
     "output_type": "stream",
     "text": [
      "0\n",
      "0\n",
      "0\n",
      "0\n",
      "0\n",
      "0\n",
      "0\n",
      "0\n",
      "0\n",
      "0\n",
      "0\n",
      "0\n"
     ]
    }
   ],
   "execution_count": 45
  },
  {
   "metadata": {
    "ExecuteTime": {
     "end_time": "2024-11-20T06:45:05.320630Z",
     "start_time": "2024-11-20T06:45:05.302489Z"
    }
   },
   "cell_type": "code",
   "source": "data = filter_multi_selector_modified(data_all, ramification, 'llama_8b', prompt_type, 'free_answer', substitution, 1, [(OUT_OBJ_FLUENT_TYPE, {fluent_type})])",
   "id": "4f5eb98e94bbf763",
   "outputs": [],
   "execution_count": 64
  },
  {
   "metadata": {
    "ExecuteTime": {
     "end_time": "2024-11-20T06:45:06.605467Z",
     "start_time": "2024-11-20T06:45:06.599796Z"
    }
   },
   "cell_type": "code",
   "source": "data",
   "id": "d5a56939d3a52596",
   "outputs": [
    {
     "data": {
      "text/plain": [
       "[]"
      ]
     },
     "execution_count": 65,
     "metadata": {},
     "output_type": "execute_result"
    }
   ],
   "execution_count": 65
  },
  {
   "metadata": {
    "ExecuteTime": {
     "end_time": "2024-11-20T06:33:06.946940Z",
     "start_time": "2024-11-20T06:33:06.941696Z"
    }
   },
   "cell_type": "code",
   "source": "prompt_type",
   "id": "b914aaf0385d3bcf",
   "outputs": [
    {
     "data": {
      "text/plain": [
       "'zero_shot'"
      ]
     },
     "execution_count": 29,
     "metadata": {},
     "output_type": "execute_result"
    }
   ],
   "execution_count": 29
  },
  {
   "metadata": {
    "ExecuteTime": {
     "end_time": "2024-11-20T06:41:41.258452Z",
     "start_time": "2024-11-20T06:41:41.254560Z"
    }
   },
   "cell_type": "code",
   "source": "prompt_type",
   "id": "6d8534fe3b93dad2",
   "outputs": [
    {
     "data": {
      "text/plain": [
       "'zero_shot'"
      ]
     },
     "execution_count": 54,
     "metadata": {},
     "output_type": "execute_result"
    }
   ],
   "execution_count": 54
  },
  {
   "metadata": {
    "ExecuteTime": {
     "end_time": "2024-11-20T06:41:50.847571Z",
     "start_time": "2024-11-20T06:41:50.842945Z"
    }
   },
   "cell_type": "code",
   "source": "substitution",
   "id": "b96ac014cf15e22",
   "outputs": [
    {
     "data": {
      "text/plain": [
       "'without_random_sub'"
      ]
     },
     "execution_count": 55,
     "metadata": {},
     "output_type": "execute_result"
    }
   ],
   "execution_count": 55
  },
  {
   "metadata": {
    "ExecuteTime": {
     "end_time": "2024-11-20T06:42:01.828974Z",
     "start_time": "2024-11-20T06:42:01.823347Z"
    }
   },
   "cell_type": "code",
   "source": "data_all[0]",
   "id": "c28b3db37fcf6ef5",
   "outputs": [
    {
     "data": {
      "text/plain": [
       "{'question_id': '784689cc-3f7c-4a22-824a-ffc0e4c90483',\n",
       " 'domain_name': 'logistics',\n",
       " 'instance_id': 'Instance_2',\n",
       " 'question_category': 'composite',\n",
       " 'question_name': 'iter_6_question_2',\n",
       " 'fluent_type': 'all_fluents',\n",
       " 'answer_type': 'free_answer',\n",
       " 'question': 'Given the initial condition, the following actions are planned to be performed: at airport l1_1, package p2 is loaded in truck t1, at airport l1_1, package p1 is loaded in truck t1, truck t1 is driven to airport l1_0 from airport l1_1 in city c1, in city c1, truck t0 is driven from airports l1_1 to l0_1, from truck t1 package p1 is unloaded at airport l1_0, in city c0, truck t0 is driven from airports l0_1 to l0_0, at airport l0_0, package p3 is loaded in airplane a0, airplane a0 flies from airports l0_0 to l1_0, from airplane a0 package p3 is unloaded at airport l1_0 and package p3 is loaded in truck t1 at airport l1_0 to reach the current state. What are the valid properties of the state that do not involve negations for p1 before the first infeasible action in the sequence? Write None if there are none',\n",
       " 'answer': 'package p1 is in vehicle t1',\n",
       " 'plan_length': 10,\n",
       " 'initial_state_nl': 'Airport l0_0 is in city c0, airport l0_1 is located in city c0, airport l1_0 is in city c1, at airport l0_0, object a0 is located, at airport l0_0, object p3 is located, at airport l0_1, object t0 is located, at airport l1_1, object t1 is located, city c1 contains airport l1_1, object p0 is located at airport l0_1, object p1 is at airport l1_1 and object p2 is at airport l1_1.',\n",
       " 'fluent_sign_question': 'pos_neg',\n",
       " 'question_subcategories': ['fluent_tracking',\n",
       "  'action_executability',\n",
       "  'object_tracking'],\n",
       " 'question_paraphrased': 'Given the initial condition, the following actions are scheduled to take place: at airport l1_1, package p2 is loaded onto truck t1, followed by the loading of package p1 onto truck t1 at the same airport, then truck t1 is driven from airport l1_1 to airport l1_0 in city c1, while in city c1, truck t0 is driven from airports l1_1 to l0_1, subsequently, package p1 is unloaded from truck t1 at airport l1_0, in city c0, truck t0 is driven from airports l0_1 to l0_0, then at airport l0_0, package p3 is loaded onto airplane a0, airplane a0 flies from airports l0_0 to l1_0, and finally, package p3 is unloaded from airplane a0 at airport l1_0 and loaded onto truck t1 at the same airport to reach the current state. What are the valid properties of the state that do not involve negations for p1 before the first infeasible action in the sequence? Write None if there are none.',\n",
       " 'initial_state_nl_paraphrased': 'Airport l0_0 is situated in city c0, while airport l0_1 is also located in city c0. Airport l1_0 is found in city c1. At airport l0_0, you can find object a0, and object p3 is also located there. Airport l0_1 is home to object t0, whereas airport l1_1 has object t1. City c1 encompasses airport l1_1. Additionally, object p0 is situated at airport l0_1, and both object p1 and object p2 are located at airport l1_1.',\n",
       " 'response': '[REASON]\\nBased on the initial conditions and the given sequence of actions, we can analyze the state of objects and locations at each step. We are looking for valid properties that do not involve negations for object p1 before the first infeasible action.\\n\\n1. Initially, p1 is at airport l1_1.\\n2. Then, p2 is loaded onto truck t1 at airport l1_1, but this does not affect p1.\\n3. Next, p1 is loaded onto truck t1 at airport l1_1, so p1 is now inside truck t1 at airport l1_1.\\n4. After that, truck t1 is driven from airport l1_1 to airport l1_0 in city c1. This means p1 is inside truck t1 at airport l1_0.\\n5. Then, truck t0 is driven from airport l1_1 to airport l0_1 in city c1, but this does not affect p1.\\n6. Next, p1 is unloaded from truck t1 at airport l1_0. This means p1 is no longer inside truck t1 but is at airport l1_0.\\n7. After that, truck t0 is driven from airport l0_1 to airport l0_0 in city c0, but this does not affect p1.\\n8. Finally, package p3 is loaded onto airplane a0 at airport l0_0, and then airplane a0 flies from airport l0_0 to airport l1_0. This action is the first infeasible action in the sequence because p3 is already at airport l1_0.\\n\\n[ANSWER]\\np1 is at airport l1_0.',\n",
       " 'response_clean': 'p1 is at airport l1_0.',\n",
       " 'evaluated_free_answer_response': '[Reasoning for the evaluation]\\nThe LLM response states that p1 is at airport l1_0, but the Ground Truth states that package p1 is in vehicle t1. These are two different locations, and there is no information in the Ground Truth that indicates the location of vehicle t1.\\n\\n[Answer]\\nFalse',\n",
       " 'model': 'llama_8b',\n",
       " 'prompt_type': 'zero_shot',\n",
       " 'ramification_type': 'without_ramifications',\n",
       " 'substitution_type': 'without_random_sub',\n",
       " 'unique_id': '784689cc-3f7c-4a22-824a-ffc0e4c90483::llama_8b::zero_shot::without_ramifications::without_random_sub'}"
      ]
     },
     "execution_count": 56,
     "metadata": {},
     "output_type": "execute_result"
    }
   ],
   "execution_count": 56
  },
  {
   "metadata": {},
   "cell_type": "code",
   "outputs": [],
   "execution_count": null,
   "source": "",
   "id": "53bcf9d8cd36d49c"
  }
 ],
 "metadata": {
  "kernelspec": {
   "display_name": "Python 3",
   "language": "python",
   "name": "python3"
  },
  "language_info": {
   "codemirror_mode": {
    "name": "ipython",
    "version": 2
   },
   "file_extension": ".py",
   "mimetype": "text/x-python",
   "name": "python",
   "nbconvert_exporter": "python",
   "pygments_lexer": "ipython2",
   "version": "2.7.6"
  }
 },
 "nbformat": 4,
 "nbformat_minor": 5
}
