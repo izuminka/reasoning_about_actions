{
 "cells": [
  {
   "cell_type": "code",
   "source": [
    "import sys\n",
    "import json\n",
    "sys.path.append('..')\n",
    "from common import *\n",
    "from analysis.model_performances import *\n",
    "from questions_construction.questions import *\n",
    "from copy import deepcopy\n",
    "from helpers import *\n",
    "import pandas as pd\n",
    "import scipy\n",
    "            \n",
    "TO_PRETTY = {\"fluent_tracking\": 'Fluent Tracking', \n",
    "             \"state_tracking\": 'State Tracking', \n",
    "             \"action_executability\": 'Action Executability', \n",
    "             \"effects\": 'Effects of Act.', \n",
    "             \"numerical_reasoning\": 'Numerical RAC', \n",
    "             \"composite\": 'Composite', \n",
    "             \"ALL_CATEGORIES\": 'Average'}"
   ],
   "metadata": {
    "collapsed": false,
    "ExecuteTime": {
     "end_time": "2024-11-22T22:39:38.466009Z",
     "start_time": "2024-11-22T22:39:38.461949Z"
    }
   },
   "id": "1581e9208ff09f8e",
   "outputs": [],
   "execution_count": 19
  },
  {
   "metadata": {
    "ExecuteTime": {
     "end_time": "2024-11-22T22:39:39.676511Z",
     "start_time": "2024-11-22T22:39:38.857929Z"
    }
   },
   "cell_type": "code",
   "source": [
    "substitution = WITHOUT_RANDOM_SUB\n",
    "ramification = WITHOUT_RAMIFICATIONS\n",
    "prompt_type = ZERO_SHOT_PROMPT_KEY #FEW_SHOT_3_PROMPT_KEY #\n",
    "models = ['gpt-4o', 'llama_8b','llama_70b', 'llama_8b.finetuned_tf']\n",
    "\n",
    "data_all = []\n",
    "for model_name in models:\n",
    "    model_results_dir = f'{CODE_PATH}/results/{ramification}/{prompt_type}/{model_name}.jsonl'\n",
    "    model_results = open_jsonl(model_results_dir)\n",
    "    data_all.extend(model_results)"
   ],
   "id": "72a680946f4c00a7",
   "outputs": [],
   "execution_count": 20
  },
  {
   "metadata": {
    "ExecuteTime": {
     "end_time": "2024-11-22T22:39:39.693483Z",
     "start_time": "2024-11-22T22:39:39.688128Z"
    }
   },
   "cell_type": "code",
   "source": "data_all[0]",
   "id": "79918e80d9fcb323",
   "outputs": [
    {
     "data": {
      "text/plain": [
       "{'question_id': 'c78f1141-2951-4870-b971-823852089973',\n",
       " 'lebel': 'False',\n",
       " 'prompt': '[DOMAIN DESCRIPTION]\\nA block can be picked up only if it is clear, on the table, and the hand is empty. Once picked up, the block is no longer on the table or clear, and the hand is no longer empty. To put a block down, it must be held, and doing so places it on the table, making it clear and leaving the hand becomes empty. A block can be stacked on another if it is held and the other block is clear, which results in the stacked block becoming clear and the second block no longer clear, with the hand becoming empty. Conversely, unstacking requires the hand to be empty and the first block to be clear and on top of the second block. After unstacking, the second block becomes clear, while the first block is held, no longer clear, and no longer on top of the second block, leaving the hand not empty.\\n\\n[INITIAL CONDITIONS]\\nInitially, Block b1 is stacked on block b7, block b2 has no blocks on top of it, block b2 is stacked on block b6, block b3 is placed on top of block b4, block b4 is positioned on the table, block b5 has no blocks on top of it, block b5 is also on the table, block b6 is stacked on block b3, block b7 is resting on the table, block b8 is on top of block b1, block b9 has no blocks on top of it, block b9 is stacked on block b8, and the hand is empty.\\n\\n[QUESTION]\\nGiven the initial state, the following actions are scheduled to be executed: block b9 is removed from the top of block b8, block b9 is placed down, block b2 is removed from the top of block b6, block b2 is stacked on top of block b5, block b8 is removed from the top of block b9, the hand places block b6 down, block b3 is removed from block b4, block b3 is stacked on top of block b9, block b8 is removed from the top of block b1, block b8 is stacked on top of block b4, block b2 is removed from block b5, block b2 is stacked on top of block b8, block b3 is removed from block b9, block b3 is stacked on top of block b2, block b1 is removed from block b7, block b1 is stacked on top of block b3, block b7 is picked up by the hand, block b7 is stacked on top of block b9, and block b6 is picked up to reach the current state. Is this the state before the first inexecutable action in the sequence? True or False? \\n\\nBlock b1 is not on the table, block b1 is not on top of block b4, block b1 is not on top of block b9, block b1 is on block b3, block b1 is on top of block b2, block b1 is on top of block b6, block b1 is on top of block b8, block b1 is placed on top of block b5, block b1 is placed on top of block b7, block b2 is on the table, block b2 is not clear, block b2 is not on top of block b5, block b2 is not placed on top of block b4, block b2 is on block b1, block b2 is on block b8, block b2 is on top of block b3, block b2 is on top of block b6, block b2 is on top of block b9, block b2 is placed on top of block b7, block b3 is being held by the hand, block b3 is clear, block b3 is not on the table, block b3 is not on top of block b1, block b3 is not on top of block b8, block b3 is not placed on top of block b2, block b3 is not placed on top of block b4, block b3 is not placed on top of block b7, block b3 is not placed on top of block b9, block b3 is on top of block b5, block b3 is placed on top of block b6, block b4 is clear, block b4 is on the table, block b4 is not being held by the hand, block b4 is not on block b1, block b4 is not on top of block b6, block b4 is not placed on top of block b2, block b4 is not placed on top of block b8, block b4 is not placed on top of block b9, block b4 is on block b3, block b4 is on block b7, block b4 is placed on top of block b5, block b5 is on the table, block b5 is not being held by the hand, block b5 is not clear, block b5 is not on block b1, block b5 is not on block b4, block b5 is not placed on top of block b3, block b5 is not placed on top of block b6, block b5 is on block b8, block b5 is on top of block b7, block b5 is on top of block b9, block b5 is placed on top of block b2, block b6 is being held, block b6 is on the table, block b6 is not clear, block b6 is not on block b3, block b6 is not on block b5, block b6 is not on top of block b2, block b6 is not on top of block b8, block b6 is on block b4, block b6 is on top of block b1, block b6 is on top of block b7, block b6 is on top of block b9, block b7 is on the table, block b7 is not being held, block b7 is not clear, block b7 is not on block b4, block b7 is not on block b5, block b7 is not on top of block b3, block b7 is not placed on top of block b1, block b7 is not placed on top of block b6, block b7 is not placed on top of block b9, block b7 is on top of block b2, block b7 is placed on top of block b8, block b8 is clear, block b8 is on the table, block b8 is not on block b1, block b8 is not on top of block b5, block b8 is not on top of block b7, block b8 is not placed on top of block b3, block b8 is not placed on top of block b4, block b8 is on block b6, block b8 is on top of block b9, block b8 is placed on top of block b2, block b9 is clear, block b9 is not on the table, block b9 is not on top of block b5, block b9 is not placed on top of block b2, block b9 is not placed on top of block b4, block b9 is not placed on top of block b6, block b9 is not placed on top of block b7, block b9 is not placed on top of block b8, block b9 is on block b3, block b9 is on top of block b1, the hand is holding a block, the hand is holding block b1, the hand is holding block b8, the hand is holding block b9, and the hand is not holding block b2.\\n\\nAnswer the above question in the following format:\\n\\n[REASON]\\n<Write your reasoning here>\\n\\n[ANSWER]\\n<Write the final answer here>\\n',\n",
       " 'response': '[REASON]\\nTo determine if the given state is before the first inexecutable action in the sequence, we need to simulate the sequence of actions step by step and check if any action cannot be executed based on the conditions provided.\\n\\n1. **Initial State:**\\n   - b1 on b7\\n   - b2 on b6\\n   - b3 on b4\\n   - b4 on table\\n   - b5 on table\\n   - b6 on b3\\n   - b7 on table\\n   - b8 on b1\\n   - b9 on b8\\n   - Hand is empty\\n\\n2. **Action Sequence:**\\n   - Remove b9 from b8: Hand is empty, b9 is clear, b9 is on b8. This action is executable.\\n   - Place b9 down: Hand is holding b9. This action is executable.\\n   - Remove b2 from b6: Hand is empty, b2 is clear, b2 is on b6. This action is executable.\\n   - Stack b2 on b5: Hand is holding b2, b5 is clear. This action is executable.\\n   - Remove b8 from b1: Hand is empty, b8 is clear, b8 is on b1. This action is executable.\\n   - Place b6 down: Hand is holding b6. This action is executable.\\n   - Remove b3 from b4: Hand is empty, b3 is clear, b3 is on b4. This action is executable.\\n   - Stack b3 on b9: Hand is holding b3, b9 is clear. This action is executable.\\n   - Remove b8 from b1: Hand is empty, b8 is clear, b8 is on b1. This action is executable.\\n   - Stack b8 on b4: Hand is holding b8, b4 is clear. This action is executable.\\n   - Remove b2 from b5: Hand is empty, b2 is clear, b2 is on b5. This action is executable.\\n   - Stack b2 on b8: Hand is holding b2, b8 is clear. This action is executable.\\n   - Remove b3 from b9: Hand is empty, b3 is clear, b3 is on b9. This action is executable.\\n   - Stack b3 on b2: Hand is holding b3, b2 is clear. This action is executable.\\n   - Remove b1 from b7: Hand is empty, b1 is clear, b1 is on b7. This action is executable.\\n   - Stack b1 on b3: Hand is holding b1, b3 is clear. This action is executable.\\n   - Pick up b7: Hand is empty, b7 is clear, b7 is on table. This action is executable.\\n   - Stack b7 on b9: Hand is holding b7, b9 is clear. This action is executable.\\n   - Pick up b6: Hand is empty, b6 is clear, b6 is on table. This action is executable.\\n\\n3. **Final State:**\\n   - b1 on b3\\n   - b2 on b8\\n   - b3 on b2\\n   - b4 on table\\n   - b5 on table\\n   - b6 held by hand\\n   - b7 on b9\\n   - b8 on b4\\n   - b9 on table\\n   - Hand is holding b6\\n\\n4. **Given State:**\\n   - b1 on b3\\n   - b2 on b8\\n   - b3 on b2\\n   - b4 on table\\n   - b5 on table\\n   - b6 held by hand\\n   - b7 on b9\\n   - b8 on b4\\n   - b9 on table\\n   - Hand is holding b6\\n\\nThe given state matches the final state after executing all actions in the sequence. Therefore, there is no inexecutable action in the sequence.\\n\\n[ANSWER]\\nFalse',\n",
       " 'model': 'gpt-4o',\n",
       " 'prompt_type': 'zero_shot',\n",
       " 'ramification_type': 'without_ramifications',\n",
       " 'substitution_type': 'without_random_sub',\n",
       " 'domain_name': 'blocksworld',\n",
       " 'instance_id': 'Instance_2',\n",
       " 'question_category': 'composite',\n",
       " 'question_name': 'iter_4_question_2',\n",
       " 'fluent_type': 'all_fluents',\n",
       " 'answer_type': 'true_false_answer',\n",
       " 'question': 'Given the initial condition, the following actions are planned to be performed: block b9 is unstacked from top of block b8, block b9 is put down, from top of block b6, block b2 is unstacked, block b2 is stacked on top of block b5, block b8 is unstacked from top of block b9, the hand puts down the block b6, block b3 is unstacked from block b4, on top of block b9, block b3 is stacked, block b8 is unstacked from top of block b1, on top of block b4, block b8 is stacked, block b2 is unstacked from block b5, block b2 is stacked on top of block b8, block b3 is unstacked from block b9, on top of block b2, block b3 is stacked, block b1 is unstacked from block b7, block b1 is stacked on top of block b3, block b7 is picked up by the hand, on top of block b9, block b7 is stacked and block b6 is picked up to reach the current state. Is this the state before the first inexecutable action in the sequence? True or False? Block b1 is clear, block b1 is not on the table, block b1 is not on top of block b4, block b1 is not on top of block b9, block b1 is on block b3, block b1 is on top of block b2, block b1 is on top of block b6, block b1 is on top of block b8, block b1 is placed on top of block b5, block b1 is placed on top of block b7, block b2 is located on the table, block b2 is not clear, block b2 is not on top of block b5, block b2 is not placed on top of block b4, block b2 is on block b1, block b2 is on block b8, block b2 is on top of block b3, block b2 is on top of block b6, block b2 is on top of block b9, block b2 is placed on top of block b7, block b3 is being held by the hand, block b3 is clear, block b3 is not located on the table, block b3 is not on top of block b1, block b3 is not on top of block b8, block b3 is not placed on top of block b2, block b3 is not placed on top of block b4, block b3 is not placed on top of block b7, block b3 is not placed on top of block b9, block b3 is on top of block b5, block b3 is placed on top of block b6, block b4 is clear, block b4 is located on the table, block b4 is not being held by the hand, block b4 is not on block b1, block b4 is not on top of block b6, block b4 is not placed on top of block b2, block b4 is not placed on top of block b8, block b4 is not placed on top of block b9, block b4 is on block b3, block b4 is on block b7, block b4 is placed on top of block b5, block b5 is located on the table, block b5 is not being held by the hand, block b5 is not clear, block b5 is not on block b1, block b5 is not on block b4, block b5 is not placed on top of block b3, block b5 is not placed on top of block b6, block b5 is on block b8, block b5 is on top of block b7, block b5 is on top of block b9, block b5 is placed on top of block b2, block b6 is being held, block b6 is located on the table, block b6 is not clear, block b6 is not on block b3, block b6 is not on block b5, block b6 is not on top of block b2, block b6 is not on top of block b8, block b6 is on block b4, block b6 is on top of block b1, block b6 is on top of block b7, block b6 is on top of block b9, block b7 is located on the table, block b7 is not being held, block b7 is not clear, block b7 is not on block b4, block b7 is not on block b5, block b7 is not on top of block b3, block b7 is not placed on top of block b1, block b7 is not placed on top of block b6, block b7 is not placed on top of block b9, block b7 is on top of block b2, block b7 is placed on top of block b8, block b8 is clear, block b8 is located on the table, block b8 is not on block b1, block b8 is not on top of block b5, block b8 is not on top of block b7, block b8 is not placed on top of block b3, block b8 is not placed on top of block b4, block b8 is on block b6, block b8 is on top of block b9, block b8 is placed on top of block b2, block b9 is clear, block b9 is not located on the table, block b9 is not on top of block b5, block b9 is not placed on top of block b2, block b9 is not placed on top of block b4, block b9 is not placed on top of block b6, block b9 is not placed on top of block b7, block b9 is not placed on top of block b8, block b9 is on block b3, block b9 is on top of block b1, hand is holding some block, the hand is holding the block b1, the hand is holding the block b8, the hand is holding the block b9 and the hand is not holding the block b2.',\n",
       " 'answer': 'False',\n",
       " 'plan_length': 19,\n",
       " 'initial_state_nl': 'Block b1 is placed on top of block b7, block b2 is clear, block b2 is on top of block b6, block b3 is placed on top of block b4, block b4 is located on the table, block b5 is clear, block b5 is on the table, block b6 is placed on top of block b3, block b7 is on the table, block b8 is on block b1, block b9 is clear, block b9 is on block b8 and hand is not holding anything.',\n",
       " 'fluent_sign_question': 'pos_neg',\n",
       " 'question_subcategories': ['state_tracking', 'action_executability'],\n",
       " 'question_paraphrased': 'Given the initial state, the following actions are scheduled to be executed: block b9 is removed from the top of block b8, block b9 is placed down, block b2 is removed from the top of block b6, block b2 is stacked on top of block b5, block b8 is removed from the top of block b9, the hand places block b6 down, block b3 is removed from block b4, block b3 is stacked on top of block b9, block b8 is removed from the top of block b1, block b8 is stacked on top of block b4, block b2 is removed from block b5, block b2 is stacked on top of block b8, block b3 is removed from block b9, block b3 is stacked on top of block b2, block b1 is removed from block b7, block b1 is stacked on top of block b3, block b7 is picked up by the hand, block b7 is stacked on top of block b9, and block b6 is picked up to reach the current state. Is this the state before the first inexecutable action in the sequence? True or False? \\n\\nBlock b1 is not on the table, block b1 is not on top of block b4, block b1 is not on top of block b9, block b1 is on block b3, block b1 is on top of block b2, block b1 is on top of block b6, block b1 is on top of block b8, block b1 is placed on top of block b5, block b1 is placed on top of block b7, block b2 is on the table, block b2 is not clear, block b2 is not on top of block b5, block b2 is not placed on top of block b4, block b2 is on block b1, block b2 is on block b8, block b2 is on top of block b3, block b2 is on top of block b6, block b2 is on top of block b9, block b2 is placed on top of block b7, block b3 is being held by the hand, block b3 is clear, block b3 is not on the table, block b3 is not on top of block b1, block b3 is not on top of block b8, block b3 is not placed on top of block b2, block b3 is not placed on top of block b4, block b3 is not placed on top of block b7, block b3 is not placed on top of block b9, block b3 is on top of block b5, block b3 is placed on top of block b6, block b4 is clear, block b4 is on the table, block b4 is not being held by the hand, block b4 is not on block b1, block b4 is not on top of block b6, block b4 is not placed on top of block b2, block b4 is not placed on top of block b8, block b4 is not placed on top of block b9, block b4 is on block b3, block b4 is on block b7, block b4 is placed on top of block b5, block b5 is on the table, block b5 is not being held by the hand, block b5 is not clear, block b5 is not on block b1, block b5 is not on block b4, block b5 is not placed on top of block b3, block b5 is not placed on top of block b6, block b5 is on block b8, block b5 is on top of block b7, block b5 is on top of block b9, block b5 is placed on top of block b2, block b6 is being held, block b6 is on the table, block b6 is not clear, block b6 is not on block b3, block b6 is not on block b5, block b6 is not on top of block b2, block b6 is not on top of block b8, block b6 is on block b4, block b6 is on top of block b1, block b6 is on top of block b7, block b6 is on top of block b9, block b7 is on the table, block b7 is not being held, block b7 is not clear, block b7 is not on block b4, block b7 is not on block b5, block b7 is not on top of block b3, block b7 is not placed on top of block b1, block b7 is not placed on top of block b6, block b7 is not placed on top of block b9, block b7 is on top of block b2, block b7 is placed on top of block b8, block b8 is clear, block b8 is on the table, block b8 is not on block b1, block b8 is not on top of block b5, block b8 is not on top of block b7, block b8 is not placed on top of block b3, block b8 is not placed on top of block b4, block b8 is on block b6, block b8 is on top of block b9, block b8 is placed on top of block b2, block b9 is clear, block b9 is not on the table, block b9 is not on top of block b5, block b9 is not placed on top of block b2, block b9 is not placed on top of block b4, block b9 is not placed on top of block b6, block b9 is not placed on top of block b7, block b9 is not placed on top of block b8, block b9 is on block b3, block b9 is on top of block b1, the hand is holding a block, the hand is holding block b1, the hand is holding block b8, the hand is holding block b9, and the hand is not holding block b2.',\n",
       " 'initial_state_nl_paraphrased': 'Block b1 is stacked on block b7, block b2 has no blocks on top of it, block b2 is stacked on block b6, block b3 is placed on top of block b4, block b4 is positioned on the table, block b5 has no blocks on top of it, block b5 is also on the table, block b6 is stacked on block b3, block b7 is resting on the table, block b8 is on top of block b1, block b9 has no blocks on top of it, block b9 is stacked on block b8, and the hand is empty.',\n",
       " 'unique_id': 'c78f1141-2951-4870-b971-823852089973::gpt-4o::zero_shot::without_ramifications::without_random_sub',\n",
       " 'is_response_correct': 'True'}"
      ]
     },
     "execution_count": 21,
     "metadata": {},
     "output_type": "execute_result"
    }
   ],
   "execution_count": 21
  },
  {
   "cell_type": "code",
   "source": [
    "def to_df_by_domains(data_all):\n",
    "\n",
    "    # index = []\n",
    "    data_for_df = []   \n",
    "    for plan_length in [1, 10, 19]:\n",
    "        for question_category in QUESTION_CATEGORIES+[ALL_QUESTION_CATEGORIES_KEY]:\n",
    "            data_columns = {'Act. Seq.': plan_length, 'Ques. Categories': TO_PRETTY[question_category]}\n",
    "            for domain in ['blocksworld', 'depots', 'driverlog', 'grippers', 'mystery', 'satellite', 'spanner', 'visitall']:\n",
    "                if question_category == ALL_QUESTION_CATEGORIES_KEY:\n",
    "                    data_selected = data_all\n",
    "                else:\n",
    "                    data_selected = [d for d in data_all if d[OUT_OBJ_QUESTION_CATEGORY] == question_category]\n",
    "                scores = [d[IS_RESPONSE_CORRECT_KEY] == TRUE_ANSWER for d in data_selected if d[OUT_OBJ_DOMAIN_NAME] == domain and d['plan_length'] == plan_length and d[IS_RESPONSE_CORRECT_KEY] in (TRUE_ANSWER, FALSE_ANSWER)]\n",
    "                if scores:\n",
    "                    final_res = (np.mean(scores), scipy.stats.sem(scores))\n",
    "                else:\n",
    "                    final_res = (None, None)\n",
    "                final_res = tuple([round(v*100, 2) if v else v for v in final_res ])\n",
    "                final_res = '${'+str(final_res[0])+'}_{'+str(final_res[1])+'}$'\n",
    "                data_columns[domain.capitalize()] = final_res\n",
    "            data_for_df.append(data_columns)\n",
    "    return pd.DataFrame(data_for_df)"
   ],
   "metadata": {
    "collapsed": false,
    "ExecuteTime": {
     "end_time": "2024-11-22T22:40:12.506442Z",
     "start_time": "2024-11-22T22:40:12.499525Z"
    }
   },
   "id": "dd77fda858739d0e",
   "outputs": [],
   "execution_count": 24
  },
  {
   "cell_type": "markdown",
   "source": [
    "# Subs and Ramfications"
   ],
   "metadata": {
    "collapsed": false
   },
   "id": "5aad3ef5e3825084"
  },
  {
   "metadata": {
    "collapsed": false,
    "ExecuteTime": {
     "end_time": "2024-11-22T22:40:14.632268Z",
     "start_time": "2024-11-22T22:40:13.852433Z"
    }
   },
   "cell_type": "code",
   "source": [
    "model = models[1]\n",
    "df = to_df_by_domains(data_all)\n",
    "df\n",
    "        \n",
    "# caption_nl = f'performance of {model_name}, {prompt_type}, pl-{plan_length}'.replace('_', ' ')\n",
    "# save_key = f'{model_name}.{prompt_type}.{plan_length}'\n",
    "# \n",
    "# latex_table_all = to_latex_table(df, caption_nl, label=save_key, index=False)\n",
    "# with open(os.path.join(save_dir, f'{save_key}.tex'), 'w') as f:\n",
    "#     f.write(latex_table_all)"
   ],
   "id": "da82c99c16ce0495",
   "outputs": [
    {
     "data": {
      "text/plain": [
       "    Act. Seq.      Ques. Categories       Blocksworld            Depots  \\\n",
       "0           1       Fluent Tracking    ${91.3}_{4.2}$  ${72.22}_{6.15}$   \n",
       "1           1        State Tracking  ${70.21}_{6.74}$  ${81.25}_{5.69}$   \n",
       "2           1  Action Executability  ${60.32}_{6.21}$  ${78.95}_{5.45}$   \n",
       "3           1       Effects of Act.  ${75.68}_{5.02}$  ${69.23}_{6.46}$   \n",
       "4           1         Numerical RAC  ${49.06}_{6.93}$  ${41.03}_{7.98}$   \n",
       "5           1             Composite   ${60.26}_{4.0}$  ${52.55}_{4.28}$   \n",
       "6           1               Average   ${65.9}_{2.28}$  ${63.82}_{2.45}$   \n",
       "7          10       Fluent Tracking  ${88.24}_{8.05}$  ${71.43}_{7.06}$   \n",
       "8          10        State Tracking  ${84.62}_{5.85}$  ${48.28}_{9.44}$   \n",
       "9          10  Action Executability  ${50.85}_{6.56}$  ${66.67}_{7.36}$   \n",
       "10         10       Effects of Act.  ${65.85}_{5.27}$  ${65.79}_{5.48}$   \n",
       "11         10         Numerical RAC  ${39.34}_{6.31}$  ${37.88}_{6.02}$   \n",
       "12         10             Composite   ${60.9}_{3.92}$  ${61.22}_{4.03}$   \n",
       "13         10               Average   ${60.63}_{2.4}$  ${58.96}_{2.46}$   \n",
       "14         19       Fluent Tracking   ${77.36}_{5.8}$  ${54.55}_{6.78}$   \n",
       "15         19        State Tracking  ${72.13}_{5.79}$  ${67.31}_{6.57}$   \n",
       "16         19  Action Executability  ${40.32}_{6.28}$   ${65.79}_{7.8}$   \n",
       "17         19       Effects of Act.   ${71.01}_{5.5}$   ${72.6}_{5.26}$   \n",
       "18         19         Numerical RAC  ${41.18}_{6.96}$  ${51.72}_{6.62}$   \n",
       "19         19             Composite  ${58.68}_{3.82}$  ${52.63}_{4.06}$   \n",
       "20         19               Average  ${60.04}_{2.28}$  ${59.11}_{2.38}$   \n",
       "\n",
       "           Driverlog           Grippers           Mystery         Satellite  \\\n",
       "0   ${64.44}_{7.22}$   ${91.55}_{3.32}$  ${84.44}_{5.46}$   ${75.0}_{5.64}$   \n",
       "1   ${53.85}_{9.97}$    ${92.0}_{3.88}$   ${78.95}_{6.7}$  ${60.47}_{7.54}$   \n",
       "2   ${68.33}_{6.06}$   ${79.66}_{5.29}$  ${62.71}_{6.35}$  ${70.77}_{5.69}$   \n",
       "3   ${73.91}_{6.55}$   ${73.08}_{5.05}$   ${83.72}_{5.7}$  ${61.54}_{6.81}$   \n",
       "4   ${31.25}_{6.76}$   ${45.45}_{7.59}$  ${30.23}_{7.09}$  ${35.48}_{8.74}$   \n",
       "5   ${61.97}_{4.09}$     ${62.2}_{3.8}$   ${58.5}_{4.08}$  ${56.71}_{3.88}$   \n",
       "6   ${60.22}_{2.56}$   ${72.32}_{2.07}$   ${64.0}_{2.48}$   ${60.96}_{2.4}$   \n",
       "7    ${82.69}_{5.3}$   ${88.41}_{3.88}$  ${61.11}_{8.24}$  ${67.14}_{5.65}$   \n",
       "8   ${73.53}_{7.68}$     ${75.0}_{6.6}$  ${58.62}_{9.31}$  ${71.43}_{7.06}$   \n",
       "9   ${64.15}_{6.65}$    ${48.44}_{6.3}$  ${53.85}_{8.09}$  ${59.62}_{6.87}$   \n",
       "10  ${71.11}_{6.83}$    ${68.0}_{5.42}$  ${63.83}_{7.08}$  ${41.86}_{7.61}$   \n",
       "11  ${45.83}_{7.27}$  ${45.45}_{10.87}$  ${35.56}_{7.22}$  ${41.38}_{6.52}$   \n",
       "12   ${64.78}_{3.8}$   ${70.22}_{3.44}$  ${47.73}_{4.36}$  ${54.55}_{3.76}$   \n",
       "13  ${66.24}_{2.39}$   ${68.81}_{2.18}$  ${51.52}_{2.76}$  ${55.78}_{2.37}$   \n",
       "14  ${66.67}_{7.97}$   ${86.96}_{5.02}$  ${44.44}_{9.75}$  ${77.08}_{6.13}$   \n",
       "15  ${74.36}_{7.08}$   ${71.43}_{8.69}$   ${60.0}_{7.39}$   ${57.5}_{7.92}$   \n",
       "16   ${45.1}_{7.04}$   ${60.34}_{6.48}$  ${40.98}_{6.35}$   ${60.78}_{6.9}$   \n",
       "17  ${67.39}_{6.99}$   ${61.43}_{5.86}$   ${56.1}_{7.85}$  ${46.15}_{8.09}$   \n",
       "18  ${36.59}_{7.62}$   ${35.09}_{6.38}$   ${23.08}_{5.9}$   ${36.96}_{7.2}$   \n",
       "19  ${56.29}_{4.05}$   ${62.33}_{4.02}$   ${46.98}_{4.1}$  ${52.66}_{3.85}$   \n",
       "20   ${56.87}_{2.6}$   ${61.48}_{2.42}$  ${45.07}_{2.57}$  ${54.71}_{2.51}$   \n",
       "\n",
       "             Spanner          Visitall  \n",
       "0   ${77.61}_{5.13}$  ${78.18}_{5.62}$  \n",
       "1   ${68.63}_{6.56}$  ${91.67}_{5.76}$  \n",
       "2   ${72.31}_{5.59}$  ${63.27}_{6.96}$  \n",
       "3   ${70.21}_{6.74}$   ${80.0}_{5.71}$  \n",
       "4     ${37.5}_{6.1}$  ${34.78}_{5.78}$  \n",
       "5   ${61.01}_{3.88}$  ${62.02}_{4.29}$  \n",
       "6   ${63.58}_{2.26}$  ${63.83}_{2.48}$  \n",
       "7   ${69.44}_{5.47}$  ${80.33}_{5.13}$  \n",
       "8   ${72.55}_{6.31}$    ${64.0}_{9.8}$  \n",
       "9    ${61.02}_{6.4}$  ${64.81}_{6.56}$  \n",
       "10  ${51.35}_{8.33}$  ${70.42}_{5.45}$  \n",
       "11  ${27.08}_{6.48}$  ${33.33}_{5.72}$  \n",
       "12  ${58.97}_{3.95}$   ${60.0}_{4.49}$  \n",
       "13   ${58.39}_{2.4}$  ${61.25}_{2.44}$  \n",
       "14   ${82.69}_{5.3}$  ${69.05}_{7.22}$  \n",
       "15  ${78.26}_{6.15}$  ${88.24}_{8.05}$  \n",
       "16   ${54.9}_{7.04}$  ${64.06}_{6.05}$  \n",
       "17  ${55.17}_{6.59}$   ${75.0}_{5.84}$  \n",
       "18   ${31.82}_{7.1}$  ${42.47}_{5.83}$  \n",
       "19   ${54.88}_{3.9}$  ${67.27}_{4.49}$  \n",
       "20  ${58.55}_{2.42}$  ${64.09}_{2.52}$  "
      ],
      "text/html": [
       "<div>\n",
       "<style scoped>\n",
       "    .dataframe tbody tr th:only-of-type {\n",
       "        vertical-align: middle;\n",
       "    }\n",
       "\n",
       "    .dataframe tbody tr th {\n",
       "        vertical-align: top;\n",
       "    }\n",
       "\n",
       "    .dataframe thead th {\n",
       "        text-align: right;\n",
       "    }\n",
       "</style>\n",
       "<table border=\"1\" class=\"dataframe\">\n",
       "  <thead>\n",
       "    <tr style=\"text-align: right;\">\n",
       "      <th></th>\n",
       "      <th>Act. Seq.</th>\n",
       "      <th>Ques. Categories</th>\n",
       "      <th>Blocksworld</th>\n",
       "      <th>Depots</th>\n",
       "      <th>Driverlog</th>\n",
       "      <th>Grippers</th>\n",
       "      <th>Mystery</th>\n",
       "      <th>Satellite</th>\n",
       "      <th>Spanner</th>\n",
       "      <th>Visitall</th>\n",
       "    </tr>\n",
       "  </thead>\n",
       "  <tbody>\n",
       "    <tr>\n",
       "      <th>0</th>\n",
       "      <td>1</td>\n",
       "      <td>Fluent Tracking</td>\n",
       "      <td>${91.3}_{4.2}$</td>\n",
       "      <td>${72.22}_{6.15}$</td>\n",
       "      <td>${64.44}_{7.22}$</td>\n",
       "      <td>${91.55}_{3.32}$</td>\n",
       "      <td>${84.44}_{5.46}$</td>\n",
       "      <td>${75.0}_{5.64}$</td>\n",
       "      <td>${77.61}_{5.13}$</td>\n",
       "      <td>${78.18}_{5.62}$</td>\n",
       "    </tr>\n",
       "    <tr>\n",
       "      <th>1</th>\n",
       "      <td>1</td>\n",
       "      <td>State Tracking</td>\n",
       "      <td>${70.21}_{6.74}$</td>\n",
       "      <td>${81.25}_{5.69}$</td>\n",
       "      <td>${53.85}_{9.97}$</td>\n",
       "      <td>${92.0}_{3.88}$</td>\n",
       "      <td>${78.95}_{6.7}$</td>\n",
       "      <td>${60.47}_{7.54}$</td>\n",
       "      <td>${68.63}_{6.56}$</td>\n",
       "      <td>${91.67}_{5.76}$</td>\n",
       "    </tr>\n",
       "    <tr>\n",
       "      <th>2</th>\n",
       "      <td>1</td>\n",
       "      <td>Action Executability</td>\n",
       "      <td>${60.32}_{6.21}$</td>\n",
       "      <td>${78.95}_{5.45}$</td>\n",
       "      <td>${68.33}_{6.06}$</td>\n",
       "      <td>${79.66}_{5.29}$</td>\n",
       "      <td>${62.71}_{6.35}$</td>\n",
       "      <td>${70.77}_{5.69}$</td>\n",
       "      <td>${72.31}_{5.59}$</td>\n",
       "      <td>${63.27}_{6.96}$</td>\n",
       "    </tr>\n",
       "    <tr>\n",
       "      <th>3</th>\n",
       "      <td>1</td>\n",
       "      <td>Effects of Act.</td>\n",
       "      <td>${75.68}_{5.02}$</td>\n",
       "      <td>${69.23}_{6.46}$</td>\n",
       "      <td>${73.91}_{6.55}$</td>\n",
       "      <td>${73.08}_{5.05}$</td>\n",
       "      <td>${83.72}_{5.7}$</td>\n",
       "      <td>${61.54}_{6.81}$</td>\n",
       "      <td>${70.21}_{6.74}$</td>\n",
       "      <td>${80.0}_{5.71}$</td>\n",
       "    </tr>\n",
       "    <tr>\n",
       "      <th>4</th>\n",
       "      <td>1</td>\n",
       "      <td>Numerical RAC</td>\n",
       "      <td>${49.06}_{6.93}$</td>\n",
       "      <td>${41.03}_{7.98}$</td>\n",
       "      <td>${31.25}_{6.76}$</td>\n",
       "      <td>${45.45}_{7.59}$</td>\n",
       "      <td>${30.23}_{7.09}$</td>\n",
       "      <td>${35.48}_{8.74}$</td>\n",
       "      <td>${37.5}_{6.1}$</td>\n",
       "      <td>${34.78}_{5.78}$</td>\n",
       "    </tr>\n",
       "    <tr>\n",
       "      <th>5</th>\n",
       "      <td>1</td>\n",
       "      <td>Composite</td>\n",
       "      <td>${60.26}_{4.0}$</td>\n",
       "      <td>${52.55}_{4.28}$</td>\n",
       "      <td>${61.97}_{4.09}$</td>\n",
       "      <td>${62.2}_{3.8}$</td>\n",
       "      <td>${58.5}_{4.08}$</td>\n",
       "      <td>${56.71}_{3.88}$</td>\n",
       "      <td>${61.01}_{3.88}$</td>\n",
       "      <td>${62.02}_{4.29}$</td>\n",
       "    </tr>\n",
       "    <tr>\n",
       "      <th>6</th>\n",
       "      <td>1</td>\n",
       "      <td>Average</td>\n",
       "      <td>${65.9}_{2.28}$</td>\n",
       "      <td>${63.82}_{2.45}$</td>\n",
       "      <td>${60.22}_{2.56}$</td>\n",
       "      <td>${72.32}_{2.07}$</td>\n",
       "      <td>${64.0}_{2.48}$</td>\n",
       "      <td>${60.96}_{2.4}$</td>\n",
       "      <td>${63.58}_{2.26}$</td>\n",
       "      <td>${63.83}_{2.48}$</td>\n",
       "    </tr>\n",
       "    <tr>\n",
       "      <th>7</th>\n",
       "      <td>10</td>\n",
       "      <td>Fluent Tracking</td>\n",
       "      <td>${88.24}_{8.05}$</td>\n",
       "      <td>${71.43}_{7.06}$</td>\n",
       "      <td>${82.69}_{5.3}$</td>\n",
       "      <td>${88.41}_{3.88}$</td>\n",
       "      <td>${61.11}_{8.24}$</td>\n",
       "      <td>${67.14}_{5.65}$</td>\n",
       "      <td>${69.44}_{5.47}$</td>\n",
       "      <td>${80.33}_{5.13}$</td>\n",
       "    </tr>\n",
       "    <tr>\n",
       "      <th>8</th>\n",
       "      <td>10</td>\n",
       "      <td>State Tracking</td>\n",
       "      <td>${84.62}_{5.85}$</td>\n",
       "      <td>${48.28}_{9.44}$</td>\n",
       "      <td>${73.53}_{7.68}$</td>\n",
       "      <td>${75.0}_{6.6}$</td>\n",
       "      <td>${58.62}_{9.31}$</td>\n",
       "      <td>${71.43}_{7.06}$</td>\n",
       "      <td>${72.55}_{6.31}$</td>\n",
       "      <td>${64.0}_{9.8}$</td>\n",
       "    </tr>\n",
       "    <tr>\n",
       "      <th>9</th>\n",
       "      <td>10</td>\n",
       "      <td>Action Executability</td>\n",
       "      <td>${50.85}_{6.56}$</td>\n",
       "      <td>${66.67}_{7.36}$</td>\n",
       "      <td>${64.15}_{6.65}$</td>\n",
       "      <td>${48.44}_{6.3}$</td>\n",
       "      <td>${53.85}_{8.09}$</td>\n",
       "      <td>${59.62}_{6.87}$</td>\n",
       "      <td>${61.02}_{6.4}$</td>\n",
       "      <td>${64.81}_{6.56}$</td>\n",
       "    </tr>\n",
       "    <tr>\n",
       "      <th>10</th>\n",
       "      <td>10</td>\n",
       "      <td>Effects of Act.</td>\n",
       "      <td>${65.85}_{5.27}$</td>\n",
       "      <td>${65.79}_{5.48}$</td>\n",
       "      <td>${71.11}_{6.83}$</td>\n",
       "      <td>${68.0}_{5.42}$</td>\n",
       "      <td>${63.83}_{7.08}$</td>\n",
       "      <td>${41.86}_{7.61}$</td>\n",
       "      <td>${51.35}_{8.33}$</td>\n",
       "      <td>${70.42}_{5.45}$</td>\n",
       "    </tr>\n",
       "    <tr>\n",
       "      <th>11</th>\n",
       "      <td>10</td>\n",
       "      <td>Numerical RAC</td>\n",
       "      <td>${39.34}_{6.31}$</td>\n",
       "      <td>${37.88}_{6.02}$</td>\n",
       "      <td>${45.83}_{7.27}$</td>\n",
       "      <td>${45.45}_{10.87}$</td>\n",
       "      <td>${35.56}_{7.22}$</td>\n",
       "      <td>${41.38}_{6.52}$</td>\n",
       "      <td>${27.08}_{6.48}$</td>\n",
       "      <td>${33.33}_{5.72}$</td>\n",
       "    </tr>\n",
       "    <tr>\n",
       "      <th>12</th>\n",
       "      <td>10</td>\n",
       "      <td>Composite</td>\n",
       "      <td>${60.9}_{3.92}$</td>\n",
       "      <td>${61.22}_{4.03}$</td>\n",
       "      <td>${64.78}_{3.8}$</td>\n",
       "      <td>${70.22}_{3.44}$</td>\n",
       "      <td>${47.73}_{4.36}$</td>\n",
       "      <td>${54.55}_{3.76}$</td>\n",
       "      <td>${58.97}_{3.95}$</td>\n",
       "      <td>${60.0}_{4.49}$</td>\n",
       "    </tr>\n",
       "    <tr>\n",
       "      <th>13</th>\n",
       "      <td>10</td>\n",
       "      <td>Average</td>\n",
       "      <td>${60.63}_{2.4}$</td>\n",
       "      <td>${58.96}_{2.46}$</td>\n",
       "      <td>${66.24}_{2.39}$</td>\n",
       "      <td>${68.81}_{2.18}$</td>\n",
       "      <td>${51.52}_{2.76}$</td>\n",
       "      <td>${55.78}_{2.37}$</td>\n",
       "      <td>${58.39}_{2.4}$</td>\n",
       "      <td>${61.25}_{2.44}$</td>\n",
       "    </tr>\n",
       "    <tr>\n",
       "      <th>14</th>\n",
       "      <td>19</td>\n",
       "      <td>Fluent Tracking</td>\n",
       "      <td>${77.36}_{5.8}$</td>\n",
       "      <td>${54.55}_{6.78}$</td>\n",
       "      <td>${66.67}_{7.97}$</td>\n",
       "      <td>${86.96}_{5.02}$</td>\n",
       "      <td>${44.44}_{9.75}$</td>\n",
       "      <td>${77.08}_{6.13}$</td>\n",
       "      <td>${82.69}_{5.3}$</td>\n",
       "      <td>${69.05}_{7.22}$</td>\n",
       "    </tr>\n",
       "    <tr>\n",
       "      <th>15</th>\n",
       "      <td>19</td>\n",
       "      <td>State Tracking</td>\n",
       "      <td>${72.13}_{5.79}$</td>\n",
       "      <td>${67.31}_{6.57}$</td>\n",
       "      <td>${74.36}_{7.08}$</td>\n",
       "      <td>${71.43}_{8.69}$</td>\n",
       "      <td>${60.0}_{7.39}$</td>\n",
       "      <td>${57.5}_{7.92}$</td>\n",
       "      <td>${78.26}_{6.15}$</td>\n",
       "      <td>${88.24}_{8.05}$</td>\n",
       "    </tr>\n",
       "    <tr>\n",
       "      <th>16</th>\n",
       "      <td>19</td>\n",
       "      <td>Action Executability</td>\n",
       "      <td>${40.32}_{6.28}$</td>\n",
       "      <td>${65.79}_{7.8}$</td>\n",
       "      <td>${45.1}_{7.04}$</td>\n",
       "      <td>${60.34}_{6.48}$</td>\n",
       "      <td>${40.98}_{6.35}$</td>\n",
       "      <td>${60.78}_{6.9}$</td>\n",
       "      <td>${54.9}_{7.04}$</td>\n",
       "      <td>${64.06}_{6.05}$</td>\n",
       "    </tr>\n",
       "    <tr>\n",
       "      <th>17</th>\n",
       "      <td>19</td>\n",
       "      <td>Effects of Act.</td>\n",
       "      <td>${71.01}_{5.5}$</td>\n",
       "      <td>${72.6}_{5.26}$</td>\n",
       "      <td>${67.39}_{6.99}$</td>\n",
       "      <td>${61.43}_{5.86}$</td>\n",
       "      <td>${56.1}_{7.85}$</td>\n",
       "      <td>${46.15}_{8.09}$</td>\n",
       "      <td>${55.17}_{6.59}$</td>\n",
       "      <td>${75.0}_{5.84}$</td>\n",
       "    </tr>\n",
       "    <tr>\n",
       "      <th>18</th>\n",
       "      <td>19</td>\n",
       "      <td>Numerical RAC</td>\n",
       "      <td>${41.18}_{6.96}$</td>\n",
       "      <td>${51.72}_{6.62}$</td>\n",
       "      <td>${36.59}_{7.62}$</td>\n",
       "      <td>${35.09}_{6.38}$</td>\n",
       "      <td>${23.08}_{5.9}$</td>\n",
       "      <td>${36.96}_{7.2}$</td>\n",
       "      <td>${31.82}_{7.1}$</td>\n",
       "      <td>${42.47}_{5.83}$</td>\n",
       "    </tr>\n",
       "    <tr>\n",
       "      <th>19</th>\n",
       "      <td>19</td>\n",
       "      <td>Composite</td>\n",
       "      <td>${58.68}_{3.82}$</td>\n",
       "      <td>${52.63}_{4.06}$</td>\n",
       "      <td>${56.29}_{4.05}$</td>\n",
       "      <td>${62.33}_{4.02}$</td>\n",
       "      <td>${46.98}_{4.1}$</td>\n",
       "      <td>${52.66}_{3.85}$</td>\n",
       "      <td>${54.88}_{3.9}$</td>\n",
       "      <td>${67.27}_{4.49}$</td>\n",
       "    </tr>\n",
       "    <tr>\n",
       "      <th>20</th>\n",
       "      <td>19</td>\n",
       "      <td>Average</td>\n",
       "      <td>${60.04}_{2.28}$</td>\n",
       "      <td>${59.11}_{2.38}$</td>\n",
       "      <td>${56.87}_{2.6}$</td>\n",
       "      <td>${61.48}_{2.42}$</td>\n",
       "      <td>${45.07}_{2.57}$</td>\n",
       "      <td>${54.71}_{2.51}$</td>\n",
       "      <td>${58.55}_{2.42}$</td>\n",
       "      <td>${64.09}_{2.52}$</td>\n",
       "    </tr>\n",
       "  </tbody>\n",
       "</table>\n",
       "</div>"
      ]
     },
     "execution_count": 25,
     "metadata": {},
     "output_type": "execute_result"
    }
   ],
   "execution_count": 25
  },
  {
   "metadata": {
    "ExecuteTime": {
     "end_time": "2024-11-22T22:40:23.524631Z",
     "start_time": "2024-11-22T22:40:23.351323Z"
    }
   },
   "cell_type": "code",
   "source": [
    "latex_table_all = to_latex_table(df, 'some caption', index=False)\n",
    "print(latex_table_all)"
   ],
   "id": "b6b0cbdd30bc9a19",
   "outputs": [
    {
     "name": "stdout",
     "output_type": "stream",
     "text": [
      "\n",
      "\\begin{table}[h!]\n",
      "\\begin{adjustbox}{width=\\textwidth,center}\n",
      "\\begin{tabular}{rlllllllll}\n",
      "\\toprule\n",
      " Act. Seq. &     Ques. Categories &      Blocksworld &           Depots &        Driverlog &          Grippers &          Mystery &        Satellite &          Spanner &         Visitall \\\\\n",
      "\\midrule\n",
      "         1 &      Fluent Tracking &   ${91.3}_{4.2}$ & ${72.22}_{6.15}$ & ${64.44}_{7.22}$ &  ${91.55}_{3.32}$ & ${84.44}_{5.46}$ &  ${75.0}_{5.64}$ & ${77.61}_{5.13}$ & ${78.18}_{5.62}$ \\\\\n",
      "         1 &       State Tracking & ${70.21}_{6.74}$ & ${81.25}_{5.69}$ & ${53.85}_{9.97}$ &   ${92.0}_{3.88}$ &  ${78.95}_{6.7}$ & ${60.47}_{7.54}$ & ${68.63}_{6.56}$ & ${91.67}_{5.76}$ \\\\\n",
      "         1 & Action Executability & ${60.32}_{6.21}$ & ${78.95}_{5.45}$ & ${68.33}_{6.06}$ &  ${79.66}_{5.29}$ & ${62.71}_{6.35}$ & ${70.77}_{5.69}$ & ${72.31}_{5.59}$ & ${63.27}_{6.96}$ \\\\\n",
      "         1 &      Effects of Act. & ${75.68}_{5.02}$ & ${69.23}_{6.46}$ & ${73.91}_{6.55}$ &  ${73.08}_{5.05}$ &  ${83.72}_{5.7}$ & ${61.54}_{6.81}$ & ${70.21}_{6.74}$ &  ${80.0}_{5.71}$ \\\\\n",
      "         1 &        Numerical RAC & ${49.06}_{6.93}$ & ${41.03}_{7.98}$ & ${31.25}_{6.76}$ &  ${45.45}_{7.59}$ & ${30.23}_{7.09}$ & ${35.48}_{8.74}$ &   ${37.5}_{6.1}$ & ${34.78}_{5.78}$ \\\\\n",
      "         1 &            Composite &  ${60.26}_{4.0}$ & ${52.55}_{4.28}$ & ${61.97}_{4.09}$ &    ${62.2}_{3.8}$ &  ${58.5}_{4.08}$ & ${56.71}_{3.88}$ & ${61.01}_{3.88}$ & ${62.02}_{4.29}$ \\\\\n",
      "         1 &              Average &  ${65.9}_{2.28}$ & ${63.82}_{2.45}$ & ${60.22}_{2.56}$ &  ${72.32}_{2.07}$ &  ${64.0}_{2.48}$ &  ${60.96}_{2.4}$ & ${63.58}_{2.26}$ & ${63.83}_{2.48}$ \\\\\n",
      "        10 &      Fluent Tracking & ${88.24}_{8.05}$ & ${71.43}_{7.06}$ &  ${82.69}_{5.3}$ &  ${88.41}_{3.88}$ & ${61.11}_{8.24}$ & ${67.14}_{5.65}$ & ${69.44}_{5.47}$ & ${80.33}_{5.13}$ \\\\\n",
      "        10 &       State Tracking & ${84.62}_{5.85}$ & ${48.28}_{9.44}$ & ${73.53}_{7.68}$ &    ${75.0}_{6.6}$ & ${58.62}_{9.31}$ & ${71.43}_{7.06}$ & ${72.55}_{6.31}$ &   ${64.0}_{9.8}$ \\\\\n",
      "        10 & Action Executability & ${50.85}_{6.56}$ & ${66.67}_{7.36}$ & ${64.15}_{6.65}$ &   ${48.44}_{6.3}$ & ${53.85}_{8.09}$ & ${59.62}_{6.87}$ &  ${61.02}_{6.4}$ & ${64.81}_{6.56}$ \\\\\n",
      "        10 &      Effects of Act. & ${65.85}_{5.27}$ & ${65.79}_{5.48}$ & ${71.11}_{6.83}$ &   ${68.0}_{5.42}$ & ${63.83}_{7.08}$ & ${41.86}_{7.61}$ & ${51.35}_{8.33}$ & ${70.42}_{5.45}$ \\\\\n",
      "        10 &        Numerical RAC & ${39.34}_{6.31}$ & ${37.88}_{6.02}$ & ${45.83}_{7.27}$ & ${45.45}_{10.87}$ & ${35.56}_{7.22}$ & ${41.38}_{6.52}$ & ${27.08}_{6.48}$ & ${33.33}_{5.72}$ \\\\\n",
      "        10 &            Composite &  ${60.9}_{3.92}$ & ${61.22}_{4.03}$ &  ${64.78}_{3.8}$ &  ${70.22}_{3.44}$ & ${47.73}_{4.36}$ & ${54.55}_{3.76}$ & ${58.97}_{3.95}$ &  ${60.0}_{4.49}$ \\\\\n",
      "        10 &              Average &  ${60.63}_{2.4}$ & ${58.96}_{2.46}$ & ${66.24}_{2.39}$ &  ${68.81}_{2.18}$ & ${51.52}_{2.76}$ & ${55.78}_{2.37}$ &  ${58.39}_{2.4}$ & ${61.25}_{2.44}$ \\\\\n",
      "        19 &      Fluent Tracking &  ${77.36}_{5.8}$ & ${54.55}_{6.78}$ & ${66.67}_{7.97}$ &  ${86.96}_{5.02}$ & ${44.44}_{9.75}$ & ${77.08}_{6.13}$ &  ${82.69}_{5.3}$ & ${69.05}_{7.22}$ \\\\\n",
      "        19 &       State Tracking & ${72.13}_{5.79}$ & ${67.31}_{6.57}$ & ${74.36}_{7.08}$ &  ${71.43}_{8.69}$ &  ${60.0}_{7.39}$ &  ${57.5}_{7.92}$ & ${78.26}_{6.15}$ & ${88.24}_{8.05}$ \\\\\n",
      "        19 & Action Executability & ${40.32}_{6.28}$ &  ${65.79}_{7.8}$ &  ${45.1}_{7.04}$ &  ${60.34}_{6.48}$ & ${40.98}_{6.35}$ &  ${60.78}_{6.9}$ &  ${54.9}_{7.04}$ & ${64.06}_{6.05}$ \\\\\n",
      "        19 &      Effects of Act. &  ${71.01}_{5.5}$ &  ${72.6}_{5.26}$ & ${67.39}_{6.99}$ &  ${61.43}_{5.86}$ &  ${56.1}_{7.85}$ & ${46.15}_{8.09}$ & ${55.17}_{6.59}$ &  ${75.0}_{5.84}$ \\\\\n",
      "        19 &        Numerical RAC & ${41.18}_{6.96}$ & ${51.72}_{6.62}$ & ${36.59}_{7.62}$ &  ${35.09}_{6.38}$ &  ${23.08}_{5.9}$ &  ${36.96}_{7.2}$ &  ${31.82}_{7.1}$ & ${42.47}_{5.83}$ \\\\\n",
      "        19 &            Composite & ${58.68}_{3.82}$ & ${52.63}_{4.06}$ & ${56.29}_{4.05}$ &  ${62.33}_{4.02}$ &  ${46.98}_{4.1}$ & ${52.66}_{3.85}$ &  ${54.88}_{3.9}$ & ${67.27}_{4.49}$ \\\\\n",
      "        19 &              Average & ${60.04}_{2.28}$ & ${59.11}_{2.38}$ &  ${56.87}_{2.6}$ &  ${61.48}_{2.42}$ & ${45.07}_{2.57}$ & ${54.71}_{2.51}$ & ${58.55}_{2.42}$ & ${64.09}_{2.52}$ \\\\\n",
      "\\bottomrule\n",
      "\\end{tabular}\n",
      "\n",
      "\\end{adjustbox}\n",
      "\\caption{some caption}\n",
      "\\label{table:}\n",
      "\\end{table}\n",
      "\n"
     ]
    },
    {
     "name": "stderr",
     "output_type": "stream",
     "text": [
      "/Users/paveldolin/dev/research/completed/reasoning_about_actions/pipeline/src/analysis/tables/helpers.py:45: FutureWarning: In future versions `DataFrame.to_latex` is expected to utilise the base implementation of `Styler.to_latex` for formatting and rendering. The arguments signature may therefore change. It is recommended instead to use `DataFrame.style.to_latex` which also contains additional functionality.\n",
      "  latex_table = df.to_latex(index=index, formatters={\"name\": str.upper}, float_format=\"{:.2f}\".format)\n"
     ]
    }
   ],
   "execution_count": 26
  },
  {
   "cell_type": "code",
   "source": [
    "df_pos_neg = to_df_by_sub_ram_neg_pos(data_all, model_name, prompt_type, plan_length=plan_length)\n",
    "df_pos_neg\n",
    "        \n",
    "# caption_nl = f'performance of {model_name}, {prompt_type}, pl-{plan_length}'.replace('_', ' ')\n",
    "# save_key = f'{model_name}.{prompt_type}.{plan_length}'\n",
    "# \n",
    "# latex_table_all = to_latex_table(df, caption_nl, label=save_key, index=False)\n",
    "# with open(os.path.join(save_dir, f'{save_key}.tex'), 'w') as f:\n",
    "#     f.write(latex_table_all)"
   ],
   "metadata": {
    "collapsed": false,
    "ExecuteTime": {
     "end_time": "2024-11-20T06:47:32.219385Z",
     "start_time": "2024-11-20T06:47:32.172911Z"
    }
   },
   "id": "a2a6c92185f6a2e3",
   "outputs": [
    {
     "ename": "NameError",
     "evalue": "name 'OUT_OBJ_IS_POS_FLUENT_QUESTION' is not defined",
     "output_type": "error",
     "traceback": [
      "\u001B[0;31m---------------------------------------------------------------------------\u001B[0m",
      "\u001B[0;31mNameError\u001B[0m                                 Traceback (most recent call last)",
      "Input \u001B[0;32mIn [80]\u001B[0m, in \u001B[0;36m<cell line: 1>\u001B[0;34m()\u001B[0m\n\u001B[0;32m----> 1\u001B[0m df_pos_neg \u001B[38;5;241m=\u001B[39m \u001B[43mto_df_by_sub_ram_neg_pos\u001B[49m\u001B[43m(\u001B[49m\u001B[43mdata_all\u001B[49m\u001B[43m,\u001B[49m\u001B[43m \u001B[49m\u001B[43mmodel_name\u001B[49m\u001B[43m,\u001B[49m\u001B[43m \u001B[49m\u001B[43mprompt_type\u001B[49m\u001B[43m,\u001B[49m\u001B[43m \u001B[49m\u001B[43mplan_length\u001B[49m\u001B[38;5;241;43m=\u001B[39;49m\u001B[43mplan_length\u001B[49m\u001B[43m)\u001B[49m\n\u001B[1;32m      2\u001B[0m df_pos_neg\n",
      "Input \u001B[0;32mIn [78]\u001B[0m, in \u001B[0;36mto_df_by_sub_ram_neg_pos\u001B[0;34m(data_all, model_name, prompt_type, score_type, question_category, domain, answer_type, plan_length)\u001B[0m\n\u001B[1;32m     14\u001B[0m \u001B[38;5;28;01mfor\u001B[39;00m subs \u001B[38;5;129;01min\u001B[39;00m [WITHOUT_RANDOM_SUB, WITH_RANDOM_SUB]:\n\u001B[1;32m     15\u001B[0m     \u001B[38;5;28;01mfor\u001B[39;00m ramifications \u001B[38;5;129;01min\u001B[39;00m [WITHOUT_RAMIFICATIONS, WITH_RAMIFICATIONS]:\n\u001B[0;32m---> 16\u001B[0m         data \u001B[38;5;241m=\u001B[39m filter_multi_selector_modified(data_all, ramifications, model_name, prompt_type, answer_type, subs, plan_length, [(\u001B[43mOUT_OBJ_IS_POS_FLUENT_QUESTION\u001B[49m, {is_pos_fluent})])\n\u001B[1;32m     17\u001B[0m         stats \u001B[38;5;241m=\u001B[39m TrueFalseStatsCustom(data, plan_length, question_category, ramifications, model_name, prompt_type, domain, subs, score_type\u001B[38;5;241m=\u001B[39mscore_type)\n\u001B[1;32m     18\u001B[0m         res_obj \u001B[38;5;241m=\u001B[39m stats\u001B[38;5;241m.\u001B[39mcompute()\n",
      "\u001B[0;31mNameError\u001B[0m: name 'OUT_OBJ_IS_POS_FLUENT_QUESTION' is not defined"
     ]
    }
   ],
   "execution_count": 80
  },
  {
   "cell_type": "markdown",
   "source": [
    "# By Models"
   ],
   "metadata": {
    "collapsed": false
   },
   "id": "9896e750372f819e"
  },
  {
   "cell_type": "code",
   "source": [
    "score_type=ACCURACY_SCORE_KEY, \n",
    "question_category = ALL_QUESTION_CATEGORIES_KEY,\n",
    "domain = ALL_DOMAINS_KEY,\n",
    "answer_type=TRUE_FALSE_ANSWER_TYPE,\n",
    "plan_length=1\n",
    "\n",
    "data_for_df = []    \n",
    "for fluent_type in FLUENT_TYPES_LIST:\n",
    "    # index.append()\n",
    "    data_columns = {}\n",
    "    data_columns['fluent type'] = TO_PRETTY[fluent_type]\n",
    "    for model in models:\n",
    "        data = filter_multi_selector_modified(data_all, ramification, model, prompt_type, answer_type, substitution, plan_length, [(OUT_OBJ_FLUENT_TYPE, {fluent_type})])\n",
    "        print(len(data))\n",
    "        stats = TrueFalseStatsCustom(data, plan_length, question_category, ramification, model, prompt_type, domain, substitution, score_type=score_type)\n",
    "        res_obj = stats.compute()\n",
    "        if res_obj:\n",
    "            mean = res_obj['result']\n",
    "            sem = None\n",
    "            if res_obj['result_other']:\n",
    "                sem = res_obj['result_other']['sem']\n",
    "            final_res = (mean, sem)\n",
    "        else:\n",
    "            final_res = (None, None)\n",
    "        final_res = tuple([round(v*100, 2) if v else v for v in final_res ])\n",
    "        final_res = '${'+str(final_res[0])+'}_{'+str(final_res[1])+'}$'\n",
    "        # print(final_res)\n",
    "        data_columns[TO_PRETTY.get(model, model)] = final_res\n",
    "    data_for_df.append(data_columns)"
   ],
   "metadata": {
    "collapsed": false,
    "ExecuteTime": {
     "end_time": "2024-11-20T06:40:44.763603Z",
     "start_time": "2024-11-20T06:40:44.670001Z"
    }
   },
   "id": "f5a86ce0268bbed",
   "outputs": [
    {
     "name": "stdout",
     "output_type": "stream",
     "text": [
      "0\n",
      "0\n",
      "0\n",
      "0\n",
      "0\n",
      "0\n",
      "0\n",
      "0\n",
      "0\n",
      "0\n",
      "0\n",
      "0\n"
     ]
    }
   ],
   "execution_count": 45
  },
  {
   "metadata": {
    "ExecuteTime": {
     "end_time": "2024-11-20T06:45:05.320630Z",
     "start_time": "2024-11-20T06:45:05.302489Z"
    }
   },
   "cell_type": "code",
   "source": "data = filter_multi_selector_modified(data_all, ramification, 'llama_8b', prompt_type, 'free_answer', substitution, 1, [(OUT_OBJ_FLUENT_TYPE, {fluent_type})])",
   "id": "4f5eb98e94bbf763",
   "outputs": [],
   "execution_count": 64
  },
  {
   "metadata": {
    "ExecuteTime": {
     "end_time": "2024-11-20T06:45:06.605467Z",
     "start_time": "2024-11-20T06:45:06.599796Z"
    }
   },
   "cell_type": "code",
   "source": "data",
   "id": "d5a56939d3a52596",
   "outputs": [
    {
     "data": {
      "text/plain": [
       "[]"
      ]
     },
     "execution_count": 65,
     "metadata": {},
     "output_type": "execute_result"
    }
   ],
   "execution_count": 65
  },
  {
   "metadata": {
    "ExecuteTime": {
     "end_time": "2024-11-20T06:33:06.946940Z",
     "start_time": "2024-11-20T06:33:06.941696Z"
    }
   },
   "cell_type": "code",
   "source": "prompt_type",
   "id": "b914aaf0385d3bcf",
   "outputs": [
    {
     "data": {
      "text/plain": [
       "'zero_shot'"
      ]
     },
     "execution_count": 29,
     "metadata": {},
     "output_type": "execute_result"
    }
   ],
   "execution_count": 29
  },
  {
   "metadata": {
    "ExecuteTime": {
     "end_time": "2024-11-20T06:41:41.258452Z",
     "start_time": "2024-11-20T06:41:41.254560Z"
    }
   },
   "cell_type": "code",
   "source": "prompt_type",
   "id": "6d8534fe3b93dad2",
   "outputs": [
    {
     "data": {
      "text/plain": [
       "'zero_shot'"
      ]
     },
     "execution_count": 54,
     "metadata": {},
     "output_type": "execute_result"
    }
   ],
   "execution_count": 54
  },
  {
   "metadata": {
    "ExecuteTime": {
     "end_time": "2024-11-20T06:41:50.847571Z",
     "start_time": "2024-11-20T06:41:50.842945Z"
    }
   },
   "cell_type": "code",
   "source": "substitution",
   "id": "b96ac014cf15e22",
   "outputs": [
    {
     "data": {
      "text/plain": [
       "'without_random_sub'"
      ]
     },
     "execution_count": 55,
     "metadata": {},
     "output_type": "execute_result"
    }
   ],
   "execution_count": 55
  },
  {
   "metadata": {
    "ExecuteTime": {
     "end_time": "2024-11-20T06:42:01.828974Z",
     "start_time": "2024-11-20T06:42:01.823347Z"
    }
   },
   "cell_type": "code",
   "source": "data_all[0]",
   "id": "c28b3db37fcf6ef5",
   "outputs": [
    {
     "data": {
      "text/plain": [
       "{'question_id': '784689cc-3f7c-4a22-824a-ffc0e4c90483',\n",
       " 'domain_name': 'logistics',\n",
       " 'instance_id': 'Instance_2',\n",
       " 'question_category': 'composite',\n",
       " 'question_name': 'iter_6_question_2',\n",
       " 'fluent_type': 'all_fluents',\n",
       " 'answer_type': 'free_answer',\n",
       " 'question': 'Given the initial condition, the following actions are planned to be performed: at airport l1_1, package p2 is loaded in truck t1, at airport l1_1, package p1 is loaded in truck t1, truck t1 is driven to airport l1_0 from airport l1_1 in city c1, in city c1, truck t0 is driven from airports l1_1 to l0_1, from truck t1 package p1 is unloaded at airport l1_0, in city c0, truck t0 is driven from airports l0_1 to l0_0, at airport l0_0, package p3 is loaded in airplane a0, airplane a0 flies from airports l0_0 to l1_0, from airplane a0 package p3 is unloaded at airport l1_0 and package p3 is loaded in truck t1 at airport l1_0 to reach the current state. What are the valid properties of the state that do not involve negations for p1 before the first infeasible action in the sequence? Write None if there are none',\n",
       " 'answer': 'package p1 is in vehicle t1',\n",
       " 'plan_length': 10,\n",
       " 'initial_state_nl': 'Airport l0_0 is in city c0, airport l0_1 is located in city c0, airport l1_0 is in city c1, at airport l0_0, object a0 is located, at airport l0_0, object p3 is located, at airport l0_1, object t0 is located, at airport l1_1, object t1 is located, city c1 contains airport l1_1, object p0 is located at airport l0_1, object p1 is at airport l1_1 and object p2 is at airport l1_1.',\n",
       " 'fluent_sign_question': 'pos_neg',\n",
       " 'question_subcategories': ['fluent_tracking',\n",
       "  'action_executability',\n",
       "  'object_tracking'],\n",
       " 'question_paraphrased': 'Given the initial condition, the following actions are scheduled to take place: at airport l1_1, package p2 is loaded onto truck t1, followed by the loading of package p1 onto truck t1 at the same airport, then truck t1 is driven from airport l1_1 to airport l1_0 in city c1, while in city c1, truck t0 is driven from airports l1_1 to l0_1, subsequently, package p1 is unloaded from truck t1 at airport l1_0, in city c0, truck t0 is driven from airports l0_1 to l0_0, then at airport l0_0, package p3 is loaded onto airplane a0, airplane a0 flies from airports l0_0 to l1_0, and finally, package p3 is unloaded from airplane a0 at airport l1_0 and loaded onto truck t1 at the same airport to reach the current state. What are the valid properties of the state that do not involve negations for p1 before the first infeasible action in the sequence? Write None if there are none.',\n",
       " 'initial_state_nl_paraphrased': 'Airport l0_0 is situated in city c0, while airport l0_1 is also located in city c0. Airport l1_0 is found in city c1. At airport l0_0, you can find object a0, and object p3 is also located there. Airport l0_1 is home to object t0, whereas airport l1_1 has object t1. City c1 encompasses airport l1_1. Additionally, object p0 is situated at airport l0_1, and both object p1 and object p2 are located at airport l1_1.',\n",
       " 'response': '[REASON]\\nBased on the initial conditions and the given sequence of actions, we can analyze the state of objects and locations at each step. We are looking for valid properties that do not involve negations for object p1 before the first infeasible action.\\n\\n1. Initially, p1 is at airport l1_1.\\n2. Then, p2 is loaded onto truck t1 at airport l1_1, but this does not affect p1.\\n3. Next, p1 is loaded onto truck t1 at airport l1_1, so p1 is now inside truck t1 at airport l1_1.\\n4. After that, truck t1 is driven from airport l1_1 to airport l1_0 in city c1. This means p1 is inside truck t1 at airport l1_0.\\n5. Then, truck t0 is driven from airport l1_1 to airport l0_1 in city c1, but this does not affect p1.\\n6. Next, p1 is unloaded from truck t1 at airport l1_0. This means p1 is no longer inside truck t1 but is at airport l1_0.\\n7. After that, truck t0 is driven from airport l0_1 to airport l0_0 in city c0, but this does not affect p1.\\n8. Finally, package p3 is loaded onto airplane a0 at airport l0_0, and then airplane a0 flies from airport l0_0 to airport l1_0. This action is the first infeasible action in the sequence because p3 is already at airport l1_0.\\n\\n[ANSWER]\\np1 is at airport l1_0.',\n",
       " 'response_clean': 'p1 is at airport l1_0.',\n",
       " 'evaluated_free_answer_response': '[Reasoning for the evaluation]\\nThe LLM response states that p1 is at airport l1_0, but the Ground Truth states that package p1 is in vehicle t1. These are two different locations, and there is no information in the Ground Truth that indicates the location of vehicle t1.\\n\\n[Answer]\\nFalse',\n",
       " 'model': 'llama_8b',\n",
       " 'prompt_type': 'zero_shot',\n",
       " 'ramification_type': 'without_ramifications',\n",
       " 'substitution_type': 'without_random_sub',\n",
       " 'unique_id': '784689cc-3f7c-4a22-824a-ffc0e4c90483::llama_8b::zero_shot::without_ramifications::without_random_sub'}"
      ]
     },
     "execution_count": 56,
     "metadata": {},
     "output_type": "execute_result"
    }
   ],
   "execution_count": 56
  },
  {
   "metadata": {},
   "cell_type": "code",
   "outputs": [],
   "execution_count": null,
   "source": "",
   "id": "53bcf9d8cd36d49c"
  }
 ],
 "metadata": {
  "kernelspec": {
   "display_name": "Python 3",
   "language": "python",
   "name": "python3"
  },
  "language_info": {
   "codemirror_mode": {
    "name": "ipython",
    "version": 2
   },
   "file_extension": ".py",
   "mimetype": "text/x-python",
   "name": "python",
   "nbconvert_exporter": "python",
   "pygments_lexer": "ipython2",
   "version": "2.7.6"
  }
 },
 "nbformat": 4,
 "nbformat_minor": 5
}
