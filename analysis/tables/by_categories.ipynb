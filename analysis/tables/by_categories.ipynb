{
 "cells": [
  {
   "cell_type": "code",
   "outputs": [],
   "source": [
    "import sys\n",
    "import json\n",
    "sys.path.append('..')\n",
    "from src.common import *\n",
    "from src.analysis.model_performances import *\n",
    "from copy import deepcopy\n",
    "from helpers import *\n",
    "import pandas as pd\n",
    "\n",
    "\n",
    "TO_PRETTY |= {(WITHOUT_RANDOM_SUB, WITHOUT_RAMIFICATIONS): 'Baseline', \n",
    "              (WITHOUT_RANDOM_SUB, WITH_RAMIFICATIONS): 'Baseline + R.',\n",
    "             (WITH_RANDOM_SUB, WITHOUT_RAMIFICATIONS): 'Obfus. Baseline',\n",
    "             (WITH_RANDOM_SUB, WITH_RAMIFICATIONS): 'Obfus. Baseline + R.',\n",
    "}"
   ],
   "metadata": {
    "collapsed": false,
    "ExecuteTime": {
     "end_time": "2024-06-03T12:10:22.031689Z",
     "start_time": "2024-06-03T12:10:16.531780Z"
    }
   },
   "id": "1581e9208ff09f8e",
   "execution_count": 3
  },
  {
   "cell_type": "code",
   "outputs": [
    {
     "name": "stderr",
     "output_type": "stream",
     "text": [
      "100%|██████████| 48384/48384 [00:02<00:00, 23125.77it/s]"
     ]
    },
    {
     "name": "stdout",
     "output_type": "stream",
     "text": [
      "5154\n"
     ]
    },
    {
     "name": "stderr",
     "output_type": "stream",
     "text": [
      "\n"
     ]
    }
   ],
   "source": [
    "answer_type = TRUE_FALSE_ANSWER_TYPE #FREE_ANSWER#\n",
    "score_key = ACCURACY_SCORE_KEY #F1_SCORE_KEY#'accuracy'\n",
    "answer_type_ext = tf_answer_type(score_key = score_key)\n",
    "\n",
    "ids_file_name = 'dataset_ids.test.pruned'  # None\n",
    "save_main_dir = f'{STATISTICS_PATH}.{ids_file_name}'\n",
    "stats_all = collect_stats_all(tf_answer_type(score_key = score_key), save_main_dir=save_main_dir)\n",
    "print(len(stats_all))\n",
    "plan_length= 19\n",
    "\n",
    "save_dir = os.path.join(save_main_dir, 'tables', 'by_categories')\n",
    "os.makedirs(save_dir, exist_ok=True)\n"
   ],
   "metadata": {
    "collapsed": false,
    "ExecuteTime": {
     "end_time": "2024-06-03T12:10:24.736381Z",
     "start_time": "2024-06-03T12:10:22.616036Z"
    }
   },
   "id": "8fb4feeb322b4ab0",
   "execution_count": 4
  },
  {
   "cell_type": "code",
   "outputs": [],
   "source": [
    "def to_df_by_category(results_all, answer_type,  \n",
    "                      model_name,\n",
    "                      prompt_type='few_shot_5',\n",
    "                      domain = ALL_DOMAINS_KEY,\n",
    "                      plan_length=19):\n",
    "\n",
    "    index = []\n",
    "    data = []    \n",
    "    for question_category in QUESTION_CATEGORIES+[ALL_QUESTION_CATEGORIES_KEY]:\n",
    "        index.append(TO_PRETTY[question_category])\n",
    "        data_columns = {}\n",
    "        for subs in [WITHOUT_RANDOM_SUB, WITH_RANDOM_SUB]:\n",
    "            for ramifications in [WITHOUT_RAMIFICATIONS, WITH_RAMIFICATIONS]:\n",
    "                res_obj = filter_single_selector(results_all, plan_length, question_category, ramifications, model_name, prompt_type, domain, answer_type, subs)\n",
    "                if res_obj:\n",
    "                    mean = res_obj['result']\n",
    "                    sem = None\n",
    "                    if res_obj['result_other']:\n",
    "                        sem = res_obj['result_other']['sem']\n",
    "                    not_corrupted = res_obj['stats']['num_not_corrupted']\n",
    "                    final_res = (mean, sem, not_corrupted)\n",
    "                else:\n",
    "                    final_res = (None, None, None)\n",
    "                final_res = tuple([round(v*100, 2) if v else v for v in final_res ])\n",
    "                final_res = '${'+str(final_res[0])+'}_{'+str(final_res[1])+'}$'\n",
    "                data_columns[TO_PRETTY[(subs, ramifications)]] = final_res\n",
    "        data.append(data_columns)\n",
    "    return pd.DataFrame(data, index = index)"
   ],
   "metadata": {
    "collapsed": false,
    "ExecuteTime": {
     "end_time": "2024-06-03T12:10:25.264270Z",
     "start_time": "2024-06-03T12:10:25.254282Z"
    }
   },
   "id": "dd77fda858739d0e",
   "execution_count": 5
  },
  {
   "cell_type": "markdown",
   "source": [
    "# Subs and Ramfications"
   ],
   "metadata": {
    "collapsed": false
   },
   "id": "5aad3ef5e3825084"
  },
  {
   "cell_type": "code",
   "outputs": [
    {
     "data": {
      "text/plain": "                       Baseline     Baseline + R.   Obfus. Baseline  \\\nObject Trk.    ${67.42}_{2.04}$  ${68.38}_{2.03}$  ${65.91}_{2.06}$   \nFluent Trk.    ${58.75}_{2.17}$  ${59.57}_{2.17}$   ${53.11}_{2.2}$   \nState Trk.     ${59.09}_{7.41}$  ${59.09}_{7.41}$  ${47.73}_{7.53}$   \nAction Exec.    ${52.5}_{5.58}$  ${53.75}_{5.57}$   ${52.5}_{5.58}$   \nEffects        ${54.89}_{2.79}$   ${54.57}_{2.8}$  ${50.16}_{2.81}$   \nNum. Reas.     ${48.75}_{5.59}$   ${52.5}_{5.58}$  ${51.25}_{5.59}$   \nHallucination  ${78.75}_{4.57}$  ${88.75}_{3.53}$  ${71.25}_{5.06}$   \nComposite       ${None}_{None}$   ${None}_{None}$   ${None}_{None}$   \nAVG             ${60.99}_{1.2}$   ${62.21}_{1.2}$  ${57.27}_{1.22}$   \n\n              Obfus. Baseline + R.  \nObject Trk.       ${68.94}_{2.01}$  \nFluent Trk.       ${56.03}_{2.19}$  \nState Trk.        ${47.73}_{7.53}$  \nAction Exec.      ${51.25}_{5.59}$  \nEffects           ${50.47}_{2.81}$  \nNum. Reas.         ${50.0}_{5.59}$  \nHallucination      ${67.5}_{5.24}$  \nComposite          ${None}_{None}$  \nAVG               ${58.92}_{1.21}$  ",
      "text/html": "<div>\n<style scoped>\n    .dataframe tbody tr th:only-of-type {\n        vertical-align: middle;\n    }\n\n    .dataframe tbody tr th {\n        vertical-align: top;\n    }\n\n    .dataframe thead th {\n        text-align: right;\n    }\n</style>\n<table border=\"1\" class=\"dataframe\">\n  <thead>\n    <tr style=\"text-align: right;\">\n      <th></th>\n      <th>Baseline</th>\n      <th>Baseline + R.</th>\n      <th>Obfus. Baseline</th>\n      <th>Obfus. Baseline + R.</th>\n    </tr>\n  </thead>\n  <tbody>\n    <tr>\n      <th>Object Trk.</th>\n      <td>${67.42}_{2.04}$</td>\n      <td>${68.38}_{2.03}$</td>\n      <td>${65.91}_{2.06}$</td>\n      <td>${68.94}_{2.01}$</td>\n    </tr>\n    <tr>\n      <th>Fluent Trk.</th>\n      <td>${58.75}_{2.17}$</td>\n      <td>${59.57}_{2.17}$</td>\n      <td>${53.11}_{2.2}$</td>\n      <td>${56.03}_{2.19}$</td>\n    </tr>\n    <tr>\n      <th>State Trk.</th>\n      <td>${59.09}_{7.41}$</td>\n      <td>${59.09}_{7.41}$</td>\n      <td>${47.73}_{7.53}$</td>\n      <td>${47.73}_{7.53}$</td>\n    </tr>\n    <tr>\n      <th>Action Exec.</th>\n      <td>${52.5}_{5.58}$</td>\n      <td>${53.75}_{5.57}$</td>\n      <td>${52.5}_{5.58}$</td>\n      <td>${51.25}_{5.59}$</td>\n    </tr>\n    <tr>\n      <th>Effects</th>\n      <td>${54.89}_{2.79}$</td>\n      <td>${54.57}_{2.8}$</td>\n      <td>${50.16}_{2.81}$</td>\n      <td>${50.47}_{2.81}$</td>\n    </tr>\n    <tr>\n      <th>Num. Reas.</th>\n      <td>${48.75}_{5.59}$</td>\n      <td>${52.5}_{5.58}$</td>\n      <td>${51.25}_{5.59}$</td>\n      <td>${50.0}_{5.59}$</td>\n    </tr>\n    <tr>\n      <th>Hallucination</th>\n      <td>${78.75}_{4.57}$</td>\n      <td>${88.75}_{3.53}$</td>\n      <td>${71.25}_{5.06}$</td>\n      <td>${67.5}_{5.24}$</td>\n    </tr>\n    <tr>\n      <th>Composite</th>\n      <td>${None}_{None}$</td>\n      <td>${None}_{None}$</td>\n      <td>${None}_{None}$</td>\n      <td>${None}_{None}$</td>\n    </tr>\n    <tr>\n      <th>AVG</th>\n      <td>${60.99}_{1.2}$</td>\n      <td>${62.21}_{1.2}$</td>\n      <td>${57.27}_{1.22}$</td>\n      <td>${58.92}_{1.21}$</td>\n    </tr>\n  </tbody>\n</table>\n</div>"
     },
     "execution_count": 6,
     "metadata": {},
     "output_type": "execute_result"
    }
   ],
   "source": [
    "plan_length = 19\n",
    "model_name = 'gemini'\n",
    "prompt_type = 'few_shot_1'\n",
    "df = to_df_by_category(stats_all, answer_type,model_name=model_name, prompt_type=prompt_type, plan_length=plan_length)\n",
    "df\n",
    "        \n",
    "# caption_nl = f'performance of {model_name}, {prompt_type}, pl-{plan_length}'.replace('_', ' ')\n",
    "# save_key = f'{model_name}.{prompt_type}.{plan_length}'\n",
    "# \n",
    "# latex_table_all = to_latex_table(df, caption_nl, label=save_key)\n",
    "# with open(os.path.join(save_dir, f'{save_key}.tex'), 'w') as f:\n",
    "#     f.write(latex_table_all)"
   ],
   "metadata": {
    "collapsed": false,
    "ExecuteTime": {
     "end_time": "2024-06-03T12:10:26.781127Z",
     "start_time": "2024-06-03T12:10:26.562921Z"
    }
   },
   "id": "da82c99c16ce0495",
   "execution_count": 6
  },
  {
   "cell_type": "markdown",
   "source": [
    "# Fluent Types "
   ],
   "metadata": {
    "collapsed": false
   },
   "id": "dbe85fb3ae0ca7d3"
  },
  {
   "cell_type": "code",
   "outputs": [],
   "source": [],
   "metadata": {
    "collapsed": false
   },
   "id": "5c0eca15cadd27ff"
  }
 ],
 "metadata": {
  "kernelspec": {
   "display_name": "Python 3",
   "language": "python",
   "name": "python3"
  },
  "language_info": {
   "codemirror_mode": {
    "name": "ipython",
    "version": 2
   },
   "file_extension": ".py",
   "mimetype": "text/x-python",
   "name": "python",
   "nbconvert_exporter": "python",
   "pygments_lexer": "ipython2",
   "version": "2.7.6"
  }
 },
 "nbformat": 4,
 "nbformat_minor": 5
}
