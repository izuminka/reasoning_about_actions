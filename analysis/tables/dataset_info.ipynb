{
 "cells": [
  {
   "cell_type": "code",
   "execution_count": 1,
   "id": "initial_id",
   "metadata": {
    "collapsed": true,
    "ExecuteTime": {
     "end_time": "2024-06-06T09:23:59.944197Z",
     "start_time": "2024-06-06T09:23:55.103932Z"
    }
   },
   "outputs": [],
   "source": [
    "import os.path\n",
    "import sys\n",
    "sys.path.insert(0, '../../')\n",
    "from questions_construction.questions import FLUENT_TYPES_LIST\n",
    "from questions_construction.main import PLAN_LENGTHS, QUESTION_CATEGORIES\n",
    "from questions_construction.domains import DOMAIN_NAMES\n",
    "from analysis.model_performances import * #gather_questions, TRANSPORTATION_DOMAINS, NON_TRANSPORTATION_DOMAINS\n",
    "from common import *\n",
    "import random\n",
    "from collections import defaultdict\n",
    "from copy import deepcopy\n",
    "import itertools\n",
    "from analysis.model_performances import *\n",
    "import pandas as pd\n",
    "from helpers import *"
   ]
  },
  {
   "cell_type": "code",
   "outputs": [
    {
     "name": "stdout",
     "output_type": "stream",
     "text": [
      "questions gathered\n"
     ]
    }
   ],
   "source": [
    "questions_dir = f'{DATA_PATH}/questions_m1'\n",
    "name = 'dataset_ids.test.pruned'\n",
    "test_ids = open_jsonl(f'{DATA_PATH}/{name}.jsonl')\n",
    "train_ids = open_jsonl(f'{DATA_PATH}/dataset_ids.train.jsonl')\n",
    "questions_by_id = gather_questions(questions_dir)\n",
    "\n",
    "save_main_dir = f'{STATISTICS_PATH}.{name}'\n",
    "os.makedirs(os.path.join(save_main_dir, 'tables'), exist_ok=True)"
   ],
   "metadata": {
    "collapsed": false,
    "ExecuteTime": {
     "end_time": "2024-05-28T04:38:38.150605Z",
     "start_time": "2024-05-28T04:38:18.714551Z"
    }
   },
   "id": "306d91b72b426ebf",
   "execution_count": 12
  },
  {
   "cell_type": "code",
   "outputs": [],
   "source": [
    "questions_by_id = {k: v[WITHOUT_RANDOM_SUB] for k, v in questions_by_id.items()}"
   ],
   "metadata": {
    "collapsed": false,
    "ExecuteTime": {
     "end_time": "2024-05-28T04:38:38.393980Z",
     "start_time": "2024-05-28T04:38:38.152694Z"
    }
   },
   "id": "eca40cb75ee3857d",
   "execution_count": 13
  },
  {
   "cell_type": "code",
   "outputs": [],
   "source": [
    "for k, d in questions_by_id.items():\n",
    "    if d['id'] in test_ids:\n",
    "        d['split_type'] = 'test'\n",
    "    else:\n",
    "        d['split_type'] = 'train'"
   ],
   "metadata": {
    "collapsed": false,
    "ExecuteTime": {
     "end_time": "2024-05-28T04:38:48.462236Z",
     "start_time": "2024-05-28T04:38:38.395365Z"
    }
   },
   "id": "dd825b3af67d3617",
   "execution_count": 14
  },
  {
   "cell_type": "code",
   "outputs": [
    {
     "name": "stderr",
     "output_type": "stream",
     "text": [
      "/Users/paveldolin/dev/research/current/reasoning_about_actions/pipeline/src/analysis/tables/helpers.py:44: FutureWarning: In future versions `DataFrame.to_latex` is expected to utilise the base implementation of `Styler.to_latex` for formatting and rendering. The arguments signature may therefore change. It is recommended instead to use `DataFrame.style.to_latex` which also contains additional functionality.\n",
      "  latex_table = df.to_latex(index=True, formatters={\"name\": str.upper}, float_format=\"{:.2f}\".format)\n"
     ]
    }
   ],
   "source": [
    "by_category = defaultdict(int)\n",
    "save_key = 'dataset_split'\n",
    "for d in questions_by_id.values():\n",
    "    by_category[(d['question_category'], d['split_type'])]+=1\n",
    "\n",
    "df_by_category = pd.DataFrame(index=sorted(QUESTION_CATEGORIES), columns=['test', 'train'])\n",
    "for k, v in by_category.items():\n",
    "    df_by_category.loc[k[0], k[1]] = v\n",
    "df_by_category"
   ],
   "metadata": {
    "collapsed": false,
    "ExecuteTime": {
     "end_time": "2024-05-28T04:49:37.650826Z",
     "start_time": "2024-05-28T04:49:37.537457Z"
    }
   },
   "id": "8788ebc4626fc25d",
   "execution_count": 24
  },
  {
   "cell_type": "code",
   "outputs": [
    {
     "name": "stderr",
     "output_type": "stream",
     "text": [
      "/Users/paveldolin/dev/research/current/reasoning_about_actions/pipeline/src/analysis/tables/helpers.py:44: FutureWarning: In future versions `DataFrame.to_latex` is expected to utilise the base implementation of `Styler.to_latex` for formatting and rendering. The arguments signature may therefore change. It is recommended instead to use `DataFrame.style.to_latex` which also contains additional functionality.\n",
      "  latex_table = df.to_latex(index=True, formatters={\"name\": str.upper}, float_format=\"{:.2f}\".format)\n"
     ]
    }
   ],
   "source": [
    "latex_table = to_latex_table(df_by_category, 'dataset split')\n",
    "with open(os.path.join(save_main_dir, 'tables', f'{save_key}.tex'), 'w') as f:\n",
    "    f.write(latex_table)"
   ],
   "metadata": {
    "collapsed": false,
    "ExecuteTime": {
     "end_time": "2024-05-28T04:49:49.228343Z",
     "start_time": "2024-05-28T04:49:49.208229Z"
    }
   },
   "id": "7b2a5943acde005a",
   "execution_count": 25
  },
  {
   "cell_type": "code",
   "outputs": [
    {
     "data": {
      "text/plain": "                     test-true_false_answer test-free_answer  \\\naction_executability                    240              119   \neffects                                 957              108   \nfluent_tracking                        1600              130   \nhallucination                           240              130   \nnumerical_reasoning                     240              120   \nobject_tracking                        1598              120   \nstate_tracking                          153              101   \n\n                     train-true_false_answer train-free_answer  \naction_executability                    2360              2481  \neffects                                 8243              1842  \nfluent_tracking                        15801              5870  \nhallucination                           7660             13426  \nnumerical_reasoning                    12760              6380  \nobject_tracking                         8696              1180  \nstate_tracking                          1147              1849  ",
      "text/html": "<div>\n<style scoped>\n    .dataframe tbody tr th:only-of-type {\n        vertical-align: middle;\n    }\n\n    .dataframe tbody tr th {\n        vertical-align: top;\n    }\n\n    .dataframe thead th {\n        text-align: right;\n    }\n</style>\n<table border=\"1\" class=\"dataframe\">\n  <thead>\n    <tr style=\"text-align: right;\">\n      <th></th>\n      <th>test-true_false_answer</th>\n      <th>test-free_answer</th>\n      <th>train-true_false_answer</th>\n      <th>train-free_answer</th>\n    </tr>\n  </thead>\n  <tbody>\n    <tr>\n      <th>action_executability</th>\n      <td>240</td>\n      <td>119</td>\n      <td>2360</td>\n      <td>2481</td>\n    </tr>\n    <tr>\n      <th>effects</th>\n      <td>957</td>\n      <td>108</td>\n      <td>8243</td>\n      <td>1842</td>\n    </tr>\n    <tr>\n      <th>fluent_tracking</th>\n      <td>1600</td>\n      <td>130</td>\n      <td>15801</td>\n      <td>5870</td>\n    </tr>\n    <tr>\n      <th>hallucination</th>\n      <td>240</td>\n      <td>130</td>\n      <td>7660</td>\n      <td>13426</td>\n    </tr>\n    <tr>\n      <th>numerical_reasoning</th>\n      <td>240</td>\n      <td>120</td>\n      <td>12760</td>\n      <td>6380</td>\n    </tr>\n    <tr>\n      <th>object_tracking</th>\n      <td>1598</td>\n      <td>120</td>\n      <td>8696</td>\n      <td>1180</td>\n    </tr>\n    <tr>\n      <th>state_tracking</th>\n      <td>153</td>\n      <td>101</td>\n      <td>1147</td>\n      <td>1849</td>\n    </tr>\n  </tbody>\n</table>\n</div>"
     },
     "execution_count": 26,
     "metadata": {},
     "output_type": "execute_result"
    }
   ],
   "source": [
    "by_category = defaultdict(int)\n",
    "save_key = 'dataset_split_by_answer_type'\n",
    "for d in questions_by_id.values():\n",
    "    by_category[(d['question_category'], d['split_type'], d['answer_type'])]+=1\n",
    "\n",
    "df_by_category = pd.DataFrame(index=sorted(QUESTION_CATEGORIES), columns=['test-true_false_answer', 'test-free_answer', 'train-true_false_answer', 'train-free_answer'])\n",
    "for k, v in by_category.items():\n",
    "    df_by_category.loc[k[0], k[1]+'-'+k[2]] = v\n",
    "df_by_category"
   ],
   "metadata": {
    "collapsed": false,
    "ExecuteTime": {
     "end_time": "2024-05-28T04:50:00.362802Z",
     "start_time": "2024-05-28T04:50:00.245303Z"
    }
   },
   "id": "7c974bceed29df48",
   "execution_count": 26
  },
  {
   "cell_type": "code",
   "outputs": [
    {
     "name": "stderr",
     "output_type": "stream",
     "text": [
      "/Users/paveldolin/dev/research/current/reasoning_about_actions/pipeline/src/analysis/tables/helpers.py:44: FutureWarning: In future versions `DataFrame.to_latex` is expected to utilise the base implementation of `Styler.to_latex` for formatting and rendering. The arguments signature may therefore change. It is recommended instead to use `DataFrame.style.to_latex` which also contains additional functionality.\n",
      "  latex_table = df.to_latex(index=True, formatters={\"name\": str.upper}, float_format=\"{:.2f}\".format)\n"
     ]
    }
   ],
   "source": [
    "latex_table = to_latex_table(df_by_category, 'dataset split')\n",
    "\n",
    "with open(os.path.join(save_main_dir, 'tables', f'{save_key}.tex'), 'w') as f:\n",
    "    f.write(latex_table)"
   ],
   "metadata": {
    "collapsed": false,
    "ExecuteTime": {
     "end_time": "2024-05-28T04:50:04.459204Z",
     "start_time": "2024-05-28T04:50:04.436801Z"
    }
   },
   "id": "af68781df3f9c5d8",
   "execution_count": 27
  },
  {
   "cell_type": "code",
   "outputs": [
    {
     "data": {
      "text/plain": "                base_fluents-test base_fluents-train persistent_fluents-test  \\\nobject_tracking               382               1388                     480   \nfluent_tracking               427               3698                     442   \neffects                       239               1761                     240   \n\n                persistent_fluents-train derived_fluents-test  \\\nobject_tracking                     3125                  264   \nfluent_tracking                     7358                  431   \neffects                             2360                  240   \n\n                derived_fluents-train static_fluents-test static_fluents-train  \nobject_tracking                  1655                 472                 2528  \nfluent_tracking                  5045                 430                 5570  \neffects                          2060                 238                 2062  ",
      "text/html": "<div>\n<style scoped>\n    .dataframe tbody tr th:only-of-type {\n        vertical-align: middle;\n    }\n\n    .dataframe tbody tr th {\n        vertical-align: top;\n    }\n\n    .dataframe thead th {\n        text-align: right;\n    }\n</style>\n<table border=\"1\" class=\"dataframe\">\n  <thead>\n    <tr style=\"text-align: right;\">\n      <th></th>\n      <th>base_fluents-test</th>\n      <th>base_fluents-train</th>\n      <th>persistent_fluents-test</th>\n      <th>persistent_fluents-train</th>\n      <th>derived_fluents-test</th>\n      <th>derived_fluents-train</th>\n      <th>static_fluents-test</th>\n      <th>static_fluents-train</th>\n    </tr>\n  </thead>\n  <tbody>\n    <tr>\n      <th>object_tracking</th>\n      <td>382</td>\n      <td>1388</td>\n      <td>480</td>\n      <td>3125</td>\n      <td>264</td>\n      <td>1655</td>\n      <td>472</td>\n      <td>2528</td>\n    </tr>\n    <tr>\n      <th>fluent_tracking</th>\n      <td>427</td>\n      <td>3698</td>\n      <td>442</td>\n      <td>7358</td>\n      <td>431</td>\n      <td>5045</td>\n      <td>430</td>\n      <td>5570</td>\n    </tr>\n    <tr>\n      <th>effects</th>\n      <td>239</td>\n      <td>1761</td>\n      <td>240</td>\n      <td>2360</td>\n      <td>240</td>\n      <td>2060</td>\n      <td>238</td>\n      <td>2062</td>\n    </tr>\n  </tbody>\n</table>\n</div>"
     },
     "execution_count": 20,
     "metadata": {},
     "output_type": "execute_result"
    }
   ],
   "source": [
    "by_category_by_fluents = defaultdict(int)\n",
    "for d in questions_by_id.values():\n",
    "    if d['fluent_type'] not in ('None', None):\n",
    "        by_category_by_fluents[(d['question_category'], d['fluent_type'], d['split_type'])]+=1\n",
    "        \n",
    "columns = []\n",
    "for c in ['base_fluents', 'persistent_fluents', 'derived_fluents', 'static_fluents']:\n",
    "    columns.append(c+'-test')\n",
    "    columns.append(c+'-train')\n",
    "    \n",
    "index = ['object_tracking', 'fluent_tracking', 'effects']\n",
    "df = pd.DataFrame(index=index, columns=columns)\n",
    "rows = []\n",
    "for k, v in by_category_by_fluents.items():\n",
    "    df.loc[k[0], k[1]+'-'+k[2]] = v\n",
    "df"
   ],
   "metadata": {
    "collapsed": false,
    "ExecuteTime": {
     "end_time": "2024-05-28T04:47:04.776307Z",
     "start_time": "2024-05-28T04:47:03.312646Z"
    }
   },
   "id": "4061560b0f3c162f",
   "execution_count": 20
  },
  {
   "cell_type": "code",
   "outputs": [
    {
     "name": "stderr",
     "output_type": "stream",
     "text": [
      "/Users/paveldolin/dev/research/current/reasoning_about_actions/pipeline/src/analysis/tables/helpers.py:44: FutureWarning: In future versions `DataFrame.to_latex` is expected to utilise the base implementation of `Styler.to_latex` for formatting and rendering. The arguments signature may therefore change. It is recommended instead to use `DataFrame.style.to_latex` which also contains additional functionality.\n",
      "  latex_table = df.to_latex(index=True, formatters={\"name\": str.upper}, float_format=\"{:.2f}\".format)\n"
     ]
    }
   ],
   "source": [
    "latex_table = to_latex_table(df, 'dataset split by fluents').replace('_', ' ')\n",
    "save_key = 'fluent_split'\n",
    "with open(os.path.join(save_main_dir, 'tables', f'{save_key}.tex'), 'w') as f:\n",
    "    f.write(latex_table)"
   ],
   "metadata": {
    "collapsed": false,
    "ExecuteTime": {
     "end_time": "2024-05-28T04:47:07.369833Z",
     "start_time": "2024-05-28T04:47:07.347609Z"
    }
   },
   "id": "d7dd80c043dfa8ad",
   "execution_count": 21
  },
  {
   "cell_type": "markdown",
   "source": [
    "# Composite Questions"
   ],
   "metadata": {
    "collapsed": false
   },
   "id": "6739d79cfc911b62"
  },
  {
   "cell_type": "code",
   "outputs": [
    {
     "name": "stdout",
     "output_type": "stream",
     "text": [
      "missing /Users/paveldolin/dev/research/current/reasoning_about_actions/pipeline/data/questions.composite.test_train_composite/without_random_sub/blocksworld/Instance_1.jsonl\n",
      "missing /Users/paveldolin/dev/research/current/reasoning_about_actions/pipeline/data/questions.composite.test_train_composite/without_random_sub/blocksworld/Instance_2.jsonl\n",
      "missing /Users/paveldolin/dev/research/current/reasoning_about_actions/pipeline/data/questions.composite.test_train_composite/without_random_sub/blocksworld/Instance_3.jsonl\n",
      "missing /Users/paveldolin/dev/research/current/reasoning_about_actions/pipeline/data/questions.composite.test_train_composite/without_random_sub/blocksworld/Instance_4.jsonl\n",
      "missing /Users/paveldolin/dev/research/current/reasoning_about_actions/pipeline/data/questions.composite.test_train_composite/without_random_sub/blocksworld/Instance_5.jsonl\n",
      "missing /Users/paveldolin/dev/research/current/reasoning_about_actions/pipeline/data/questions.composite.test_train_composite/without_random_sub/blocksworld/Instance_6.jsonl\n",
      "missing /Users/paveldolin/dev/research/current/reasoning_about_actions/pipeline/data/questions.composite.test_train_composite/without_random_sub/blocksworld/Instance_7.jsonl\n",
      "missing /Users/paveldolin/dev/research/current/reasoning_about_actions/pipeline/data/questions.composite.test_train_composite/without_random_sub/blocksworld/Instance_8.jsonl\n",
      "missing /Users/paveldolin/dev/research/current/reasoning_about_actions/pipeline/data/questions.composite.test_train_composite/without_random_sub/blocksworld/Instance_9.jsonl\n",
      "missing /Users/paveldolin/dev/research/current/reasoning_about_actions/pipeline/data/questions.composite.test_train_composite/without_random_sub/blocksworld/Instance_10.jsonl\n",
      "missing /Users/paveldolin/dev/research/current/reasoning_about_actions/pipeline/data/questions.composite.test_train_composite/without_random_sub/depots/Instance_1.jsonl\n",
      "missing /Users/paveldolin/dev/research/current/reasoning_about_actions/pipeline/data/questions.composite.test_train_composite/without_random_sub/depots/Instance_2.jsonl\n",
      "missing /Users/paveldolin/dev/research/current/reasoning_about_actions/pipeline/data/questions.composite.test_train_composite/without_random_sub/depots/Instance_3.jsonl\n",
      "missing /Users/paveldolin/dev/research/current/reasoning_about_actions/pipeline/data/questions.composite.test_train_composite/without_random_sub/depots/Instance_4.jsonl\n",
      "missing /Users/paveldolin/dev/research/current/reasoning_about_actions/pipeline/data/questions.composite.test_train_composite/without_random_sub/depots/Instance_5.jsonl\n",
      "missing /Users/paveldolin/dev/research/current/reasoning_about_actions/pipeline/data/questions.composite.test_train_composite/without_random_sub/depots/Instance_6.jsonl\n",
      "missing /Users/paveldolin/dev/research/current/reasoning_about_actions/pipeline/data/questions.composite.test_train_composite/without_random_sub/depots/Instance_7.jsonl\n",
      "missing /Users/paveldolin/dev/research/current/reasoning_about_actions/pipeline/data/questions.composite.test_train_composite/without_random_sub/depots/Instance_8.jsonl\n",
      "missing /Users/paveldolin/dev/research/current/reasoning_about_actions/pipeline/data/questions.composite.test_train_composite/without_random_sub/depots/Instance_9.jsonl\n",
      "missing /Users/paveldolin/dev/research/current/reasoning_about_actions/pipeline/data/questions.composite.test_train_composite/without_random_sub/depots/Instance_10.jsonl\n",
      "missing /Users/paveldolin/dev/research/current/reasoning_about_actions/pipeline/data/questions.composite.test_train_composite/without_random_sub/driverlog/Instance_1.jsonl\n",
      "missing /Users/paveldolin/dev/research/current/reasoning_about_actions/pipeline/data/questions.composite.test_train_composite/without_random_sub/driverlog/Instance_2.jsonl\n",
      "missing /Users/paveldolin/dev/research/current/reasoning_about_actions/pipeline/data/questions.composite.test_train_composite/without_random_sub/driverlog/Instance_3.jsonl\n",
      "missing /Users/paveldolin/dev/research/current/reasoning_about_actions/pipeline/data/questions.composite.test_train_composite/without_random_sub/driverlog/Instance_4.jsonl\n",
      "missing /Users/paveldolin/dev/research/current/reasoning_about_actions/pipeline/data/questions.composite.test_train_composite/without_random_sub/driverlog/Instance_5.jsonl\n",
      "missing /Users/paveldolin/dev/research/current/reasoning_about_actions/pipeline/data/questions.composite.test_train_composite/without_random_sub/driverlog/Instance_6.jsonl\n",
      "missing /Users/paveldolin/dev/research/current/reasoning_about_actions/pipeline/data/questions.composite.test_train_composite/without_random_sub/driverlog/Instance_7.jsonl\n",
      "missing /Users/paveldolin/dev/research/current/reasoning_about_actions/pipeline/data/questions.composite.test_train_composite/without_random_sub/driverlog/Instance_8.jsonl\n",
      "missing /Users/paveldolin/dev/research/current/reasoning_about_actions/pipeline/data/questions.composite.test_train_composite/without_random_sub/driverlog/Instance_9.jsonl\n",
      "missing /Users/paveldolin/dev/research/current/reasoning_about_actions/pipeline/data/questions.composite.test_train_composite/without_random_sub/driverlog/Instance_10.jsonl\n",
      "missing /Users/paveldolin/dev/research/current/reasoning_about_actions/pipeline/data/questions.composite.test_train_composite/without_random_sub/goldminer/Instance_1.jsonl\n",
      "missing /Users/paveldolin/dev/research/current/reasoning_about_actions/pipeline/data/questions.composite.test_train_composite/without_random_sub/goldminer/Instance_2.jsonl\n",
      "missing /Users/paveldolin/dev/research/current/reasoning_about_actions/pipeline/data/questions.composite.test_train_composite/without_random_sub/goldminer/Instance_3.jsonl\n",
      "missing /Users/paveldolin/dev/research/current/reasoning_about_actions/pipeline/data/questions.composite.test_train_composite/without_random_sub/goldminer/Instance_4.jsonl\n",
      "missing /Users/paveldolin/dev/research/current/reasoning_about_actions/pipeline/data/questions.composite.test_train_composite/without_random_sub/goldminer/Instance_5.jsonl\n",
      "missing /Users/paveldolin/dev/research/current/reasoning_about_actions/pipeline/data/questions.composite.test_train_composite/without_random_sub/goldminer/Instance_6.jsonl\n",
      "missing /Users/paveldolin/dev/research/current/reasoning_about_actions/pipeline/data/questions.composite.test_train_composite/without_random_sub/goldminer/Instance_7.jsonl\n",
      "missing /Users/paveldolin/dev/research/current/reasoning_about_actions/pipeline/data/questions.composite.test_train_composite/without_random_sub/goldminer/Instance_8.jsonl\n",
      "missing /Users/paveldolin/dev/research/current/reasoning_about_actions/pipeline/data/questions.composite.test_train_composite/without_random_sub/goldminer/Instance_9.jsonl\n",
      "missing /Users/paveldolin/dev/research/current/reasoning_about_actions/pipeline/data/questions.composite.test_train_composite/without_random_sub/goldminer/Instance_10.jsonl\n",
      "missing /Users/paveldolin/dev/research/current/reasoning_about_actions/pipeline/data/questions.composite.test_train_composite/without_random_sub/grippers/Instance_1.jsonl\n",
      "missing /Users/paveldolin/dev/research/current/reasoning_about_actions/pipeline/data/questions.composite.test_train_composite/without_random_sub/grippers/Instance_2.jsonl\n",
      "missing /Users/paveldolin/dev/research/current/reasoning_about_actions/pipeline/data/questions.composite.test_train_composite/without_random_sub/grippers/Instance_3.jsonl\n",
      "missing /Users/paveldolin/dev/research/current/reasoning_about_actions/pipeline/data/questions.composite.test_train_composite/without_random_sub/grippers/Instance_4.jsonl\n",
      "missing /Users/paveldolin/dev/research/current/reasoning_about_actions/pipeline/data/questions.composite.test_train_composite/without_random_sub/grippers/Instance_5.jsonl\n",
      "missing /Users/paveldolin/dev/research/current/reasoning_about_actions/pipeline/data/questions.composite.test_train_composite/without_random_sub/grippers/Instance_6.jsonl\n",
      "missing /Users/paveldolin/dev/research/current/reasoning_about_actions/pipeline/data/questions.composite.test_train_composite/without_random_sub/grippers/Instance_7.jsonl\n",
      "missing /Users/paveldolin/dev/research/current/reasoning_about_actions/pipeline/data/questions.composite.test_train_composite/without_random_sub/grippers/Instance_8.jsonl\n",
      "missing /Users/paveldolin/dev/research/current/reasoning_about_actions/pipeline/data/questions.composite.test_train_composite/without_random_sub/grippers/Instance_9.jsonl\n",
      "missing /Users/paveldolin/dev/research/current/reasoning_about_actions/pipeline/data/questions.composite.test_train_composite/without_random_sub/grippers/Instance_10.jsonl\n",
      "missing /Users/paveldolin/dev/research/current/reasoning_about_actions/pipeline/data/questions.composite.test_train_composite/without_random_sub/logistics/Instance_1.jsonl\n",
      "missing /Users/paveldolin/dev/research/current/reasoning_about_actions/pipeline/data/questions.composite.test_train_composite/without_random_sub/logistics/Instance_2.jsonl\n",
      "missing /Users/paveldolin/dev/research/current/reasoning_about_actions/pipeline/data/questions.composite.test_train_composite/without_random_sub/logistics/Instance_3.jsonl\n",
      "missing /Users/paveldolin/dev/research/current/reasoning_about_actions/pipeline/data/questions.composite.test_train_composite/without_random_sub/logistics/Instance_4.jsonl\n",
      "missing /Users/paveldolin/dev/research/current/reasoning_about_actions/pipeline/data/questions.composite.test_train_composite/without_random_sub/logistics/Instance_5.jsonl\n",
      "missing /Users/paveldolin/dev/research/current/reasoning_about_actions/pipeline/data/questions.composite.test_train_composite/without_random_sub/logistics/Instance_6.jsonl\n",
      "missing /Users/paveldolin/dev/research/current/reasoning_about_actions/pipeline/data/questions.composite.test_train_composite/without_random_sub/logistics/Instance_7.jsonl\n",
      "missing /Users/paveldolin/dev/research/current/reasoning_about_actions/pipeline/data/questions.composite.test_train_composite/without_random_sub/logistics/Instance_8.jsonl\n",
      "missing /Users/paveldolin/dev/research/current/reasoning_about_actions/pipeline/data/questions.composite.test_train_composite/without_random_sub/logistics/Instance_9.jsonl\n",
      "missing /Users/paveldolin/dev/research/current/reasoning_about_actions/pipeline/data/questions.composite.test_train_composite/without_random_sub/logistics/Instance_10.jsonl\n",
      "missing /Users/paveldolin/dev/research/current/reasoning_about_actions/pipeline/data/questions.composite.test_train_composite/without_random_sub/miconic/Instance_1.jsonl\n",
      "missing /Users/paveldolin/dev/research/current/reasoning_about_actions/pipeline/data/questions.composite.test_train_composite/without_random_sub/miconic/Instance_2.jsonl\n",
      "missing /Users/paveldolin/dev/research/current/reasoning_about_actions/pipeline/data/questions.composite.test_train_composite/without_random_sub/miconic/Instance_3.jsonl\n",
      "missing /Users/paveldolin/dev/research/current/reasoning_about_actions/pipeline/data/questions.composite.test_train_composite/without_random_sub/miconic/Instance_4.jsonl\n",
      "missing /Users/paveldolin/dev/research/current/reasoning_about_actions/pipeline/data/questions.composite.test_train_composite/without_random_sub/miconic/Instance_5.jsonl\n",
      "missing /Users/paveldolin/dev/research/current/reasoning_about_actions/pipeline/data/questions.composite.test_train_composite/without_random_sub/miconic/Instance_6.jsonl\n",
      "missing /Users/paveldolin/dev/research/current/reasoning_about_actions/pipeline/data/questions.composite.test_train_composite/without_random_sub/miconic/Instance_7.jsonl\n",
      "missing /Users/paveldolin/dev/research/current/reasoning_about_actions/pipeline/data/questions.composite.test_train_composite/without_random_sub/miconic/Instance_8.jsonl\n",
      "missing /Users/paveldolin/dev/research/current/reasoning_about_actions/pipeline/data/questions.composite.test_train_composite/without_random_sub/miconic/Instance_9.jsonl\n",
      "missing /Users/paveldolin/dev/research/current/reasoning_about_actions/pipeline/data/questions.composite.test_train_composite/without_random_sub/miconic/Instance_10.jsonl\n",
      "missing /Users/paveldolin/dev/research/current/reasoning_about_actions/pipeline/data/questions.composite.test_train_composite/without_random_sub/mystery/Instance_1.jsonl\n",
      "missing /Users/paveldolin/dev/research/current/reasoning_about_actions/pipeline/data/questions.composite.test_train_composite/without_random_sub/mystery/Instance_2.jsonl\n",
      "missing /Users/paveldolin/dev/research/current/reasoning_about_actions/pipeline/data/questions.composite.test_train_composite/without_random_sub/mystery/Instance_3.jsonl\n",
      "missing /Users/paveldolin/dev/research/current/reasoning_about_actions/pipeline/data/questions.composite.test_train_composite/without_random_sub/mystery/Instance_4.jsonl\n",
      "missing /Users/paveldolin/dev/research/current/reasoning_about_actions/pipeline/data/questions.composite.test_train_composite/without_random_sub/mystery/Instance_5.jsonl\n",
      "missing /Users/paveldolin/dev/research/current/reasoning_about_actions/pipeline/data/questions.composite.test_train_composite/without_random_sub/mystery/Instance_6.jsonl\n",
      "missing /Users/paveldolin/dev/research/current/reasoning_about_actions/pipeline/data/questions.composite.test_train_composite/without_random_sub/mystery/Instance_7.jsonl\n",
      "missing /Users/paveldolin/dev/research/current/reasoning_about_actions/pipeline/data/questions.composite.test_train_composite/without_random_sub/mystery/Instance_8.jsonl\n",
      "missing /Users/paveldolin/dev/research/current/reasoning_about_actions/pipeline/data/questions.composite.test_train_composite/without_random_sub/mystery/Instance_9.jsonl\n",
      "missing /Users/paveldolin/dev/research/current/reasoning_about_actions/pipeline/data/questions.composite.test_train_composite/without_random_sub/mystery/Instance_10.jsonl\n",
      "missing /Users/paveldolin/dev/research/current/reasoning_about_actions/pipeline/data/questions.composite.test_train_composite/without_random_sub/npuzzle/Instance_1.jsonl\n",
      "missing /Users/paveldolin/dev/research/current/reasoning_about_actions/pipeline/data/questions.composite.test_train_composite/without_random_sub/npuzzle/Instance_2.jsonl\n",
      "missing /Users/paveldolin/dev/research/current/reasoning_about_actions/pipeline/data/questions.composite.test_train_composite/without_random_sub/npuzzle/Instance_3.jsonl\n",
      "missing /Users/paveldolin/dev/research/current/reasoning_about_actions/pipeline/data/questions.composite.test_train_composite/without_random_sub/npuzzle/Instance_4.jsonl\n",
      "missing /Users/paveldolin/dev/research/current/reasoning_about_actions/pipeline/data/questions.composite.test_train_composite/without_random_sub/npuzzle/Instance_5.jsonl\n",
      "missing /Users/paveldolin/dev/research/current/reasoning_about_actions/pipeline/data/questions.composite.test_train_composite/without_random_sub/npuzzle/Instance_6.jsonl\n",
      "missing /Users/paveldolin/dev/research/current/reasoning_about_actions/pipeline/data/questions.composite.test_train_composite/without_random_sub/npuzzle/Instance_7.jsonl\n",
      "missing /Users/paveldolin/dev/research/current/reasoning_about_actions/pipeline/data/questions.composite.test_train_composite/without_random_sub/npuzzle/Instance_8.jsonl\n",
      "missing /Users/paveldolin/dev/research/current/reasoning_about_actions/pipeline/data/questions.composite.test_train_composite/without_random_sub/npuzzle/Instance_9.jsonl\n",
      "missing /Users/paveldolin/dev/research/current/reasoning_about_actions/pipeline/data/questions.composite.test_train_composite/without_random_sub/npuzzle/Instance_10.jsonl\n",
      "missing /Users/paveldolin/dev/research/current/reasoning_about_actions/pipeline/data/questions.composite.test_train_composite/without_random_sub/satellite/Instance_1.jsonl\n",
      "missing /Users/paveldolin/dev/research/current/reasoning_about_actions/pipeline/data/questions.composite.test_train_composite/without_random_sub/satellite/Instance_2.jsonl\n",
      "missing /Users/paveldolin/dev/research/current/reasoning_about_actions/pipeline/data/questions.composite.test_train_composite/without_random_sub/satellite/Instance_3.jsonl\n",
      "missing /Users/paveldolin/dev/research/current/reasoning_about_actions/pipeline/data/questions.composite.test_train_composite/without_random_sub/satellite/Instance_4.jsonl\n",
      "missing /Users/paveldolin/dev/research/current/reasoning_about_actions/pipeline/data/questions.composite.test_train_composite/without_random_sub/satellite/Instance_5.jsonl\n",
      "missing /Users/paveldolin/dev/research/current/reasoning_about_actions/pipeline/data/questions.composite.test_train_composite/without_random_sub/satellite/Instance_6.jsonl\n",
      "missing /Users/paveldolin/dev/research/current/reasoning_about_actions/pipeline/data/questions.composite.test_train_composite/without_random_sub/satellite/Instance_7.jsonl\n",
      "missing /Users/paveldolin/dev/research/current/reasoning_about_actions/pipeline/data/questions.composite.test_train_composite/without_random_sub/satellite/Instance_8.jsonl\n",
      "missing /Users/paveldolin/dev/research/current/reasoning_about_actions/pipeline/data/questions.composite.test_train_composite/without_random_sub/satellite/Instance_9.jsonl\n",
      "missing /Users/paveldolin/dev/research/current/reasoning_about_actions/pipeline/data/questions.composite.test_train_composite/without_random_sub/satellite/Instance_10.jsonl\n",
      "missing /Users/paveldolin/dev/research/current/reasoning_about_actions/pipeline/data/questions.composite.test_train_composite/without_random_sub/spanner/Instance_1.jsonl\n",
      "missing /Users/paveldolin/dev/research/current/reasoning_about_actions/pipeline/data/questions.composite.test_train_composite/without_random_sub/spanner/Instance_2.jsonl\n",
      "missing /Users/paveldolin/dev/research/current/reasoning_about_actions/pipeline/data/questions.composite.test_train_composite/without_random_sub/spanner/Instance_3.jsonl\n",
      "missing /Users/paveldolin/dev/research/current/reasoning_about_actions/pipeline/data/questions.composite.test_train_composite/without_random_sub/spanner/Instance_4.jsonl\n",
      "missing /Users/paveldolin/dev/research/current/reasoning_about_actions/pipeline/data/questions.composite.test_train_composite/without_random_sub/spanner/Instance_5.jsonl\n",
      "missing /Users/paveldolin/dev/research/current/reasoning_about_actions/pipeline/data/questions.composite.test_train_composite/without_random_sub/spanner/Instance_6.jsonl\n",
      "missing /Users/paveldolin/dev/research/current/reasoning_about_actions/pipeline/data/questions.composite.test_train_composite/without_random_sub/spanner/Instance_7.jsonl\n",
      "missing /Users/paveldolin/dev/research/current/reasoning_about_actions/pipeline/data/questions.composite.test_train_composite/without_random_sub/spanner/Instance_8.jsonl\n",
      "missing /Users/paveldolin/dev/research/current/reasoning_about_actions/pipeline/data/questions.composite.test_train_composite/without_random_sub/spanner/Instance_9.jsonl\n",
      "missing /Users/paveldolin/dev/research/current/reasoning_about_actions/pipeline/data/questions.composite.test_train_composite/without_random_sub/spanner/Instance_10.jsonl\n",
      "missing /Users/paveldolin/dev/research/current/reasoning_about_actions/pipeline/data/questions.composite.test_train_composite/without_random_sub/visitall/Instance_1.jsonl\n",
      "missing /Users/paveldolin/dev/research/current/reasoning_about_actions/pipeline/data/questions.composite.test_train_composite/without_random_sub/visitall/Instance_2.jsonl\n",
      "missing /Users/paveldolin/dev/research/current/reasoning_about_actions/pipeline/data/questions.composite.test_train_composite/without_random_sub/visitall/Instance_3.jsonl\n",
      "missing /Users/paveldolin/dev/research/current/reasoning_about_actions/pipeline/data/questions.composite.test_train_composite/without_random_sub/visitall/Instance_4.jsonl\n",
      "missing /Users/paveldolin/dev/research/current/reasoning_about_actions/pipeline/data/questions.composite.test_train_composite/without_random_sub/visitall/Instance_5.jsonl\n",
      "missing /Users/paveldolin/dev/research/current/reasoning_about_actions/pipeline/data/questions.composite.test_train_composite/without_random_sub/visitall/Instance_6.jsonl\n",
      "missing /Users/paveldolin/dev/research/current/reasoning_about_actions/pipeline/data/questions.composite.test_train_composite/without_random_sub/visitall/Instance_7.jsonl\n",
      "missing /Users/paveldolin/dev/research/current/reasoning_about_actions/pipeline/data/questions.composite.test_train_composite/without_random_sub/visitall/Instance_8.jsonl\n",
      "missing /Users/paveldolin/dev/research/current/reasoning_about_actions/pipeline/data/questions.composite.test_train_composite/without_random_sub/visitall/Instance_9.jsonl\n",
      "missing /Users/paveldolin/dev/research/current/reasoning_about_actions/pipeline/data/questions.composite.test_train_composite/without_random_sub/visitall/Instance_10.jsonl\n",
      "missing /Users/paveldolin/dev/research/current/reasoning_about_actions/pipeline/data/questions.composite.test_train_composite/without_random_sub/zenotravel/Instance_1.jsonl\n",
      "missing /Users/paveldolin/dev/research/current/reasoning_about_actions/pipeline/data/questions.composite.test_train_composite/without_random_sub/zenotravel/Instance_2.jsonl\n",
      "missing /Users/paveldolin/dev/research/current/reasoning_about_actions/pipeline/data/questions.composite.test_train_composite/without_random_sub/zenotravel/Instance_3.jsonl\n",
      "missing /Users/paveldolin/dev/research/current/reasoning_about_actions/pipeline/data/questions.composite.test_train_composite/without_random_sub/zenotravel/Instance_4.jsonl\n",
      "missing /Users/paveldolin/dev/research/current/reasoning_about_actions/pipeline/data/questions.composite.test_train_composite/without_random_sub/zenotravel/Instance_5.jsonl\n",
      "missing /Users/paveldolin/dev/research/current/reasoning_about_actions/pipeline/data/questions.composite.test_train_composite/without_random_sub/zenotravel/Instance_6.jsonl\n",
      "missing /Users/paveldolin/dev/research/current/reasoning_about_actions/pipeline/data/questions.composite.test_train_composite/without_random_sub/zenotravel/Instance_7.jsonl\n",
      "missing /Users/paveldolin/dev/research/current/reasoning_about_actions/pipeline/data/questions.composite.test_train_composite/without_random_sub/zenotravel/Instance_8.jsonl\n",
      "missing /Users/paveldolin/dev/research/current/reasoning_about_actions/pipeline/data/questions.composite.test_train_composite/without_random_sub/zenotravel/Instance_9.jsonl\n",
      "missing /Users/paveldolin/dev/research/current/reasoning_about_actions/pipeline/data/questions.composite.test_train_composite/without_random_sub/zenotravel/Instance_10.jsonl\n",
      "missing /Users/paveldolin/dev/research/current/reasoning_about_actions/pipeline/data/questions.composite.test_train_composite/with_random_sub/blocksworld/Instance_1.jsonl\n",
      "missing /Users/paveldolin/dev/research/current/reasoning_about_actions/pipeline/data/questions.composite.test_train_composite/with_random_sub/blocksworld/Instance_2.jsonl\n",
      "missing /Users/paveldolin/dev/research/current/reasoning_about_actions/pipeline/data/questions.composite.test_train_composite/with_random_sub/blocksworld/Instance_3.jsonl\n",
      "missing /Users/paveldolin/dev/research/current/reasoning_about_actions/pipeline/data/questions.composite.test_train_composite/with_random_sub/blocksworld/Instance_4.jsonl\n",
      "missing /Users/paveldolin/dev/research/current/reasoning_about_actions/pipeline/data/questions.composite.test_train_composite/with_random_sub/blocksworld/Instance_5.jsonl\n",
      "missing /Users/paveldolin/dev/research/current/reasoning_about_actions/pipeline/data/questions.composite.test_train_composite/with_random_sub/blocksworld/Instance_6.jsonl\n",
      "missing /Users/paveldolin/dev/research/current/reasoning_about_actions/pipeline/data/questions.composite.test_train_composite/with_random_sub/blocksworld/Instance_7.jsonl\n",
      "missing /Users/paveldolin/dev/research/current/reasoning_about_actions/pipeline/data/questions.composite.test_train_composite/with_random_sub/blocksworld/Instance_8.jsonl\n",
      "missing /Users/paveldolin/dev/research/current/reasoning_about_actions/pipeline/data/questions.composite.test_train_composite/with_random_sub/blocksworld/Instance_9.jsonl\n",
      "missing /Users/paveldolin/dev/research/current/reasoning_about_actions/pipeline/data/questions.composite.test_train_composite/with_random_sub/blocksworld/Instance_10.jsonl\n",
      "missing /Users/paveldolin/dev/research/current/reasoning_about_actions/pipeline/data/questions.composite.test_train_composite/with_random_sub/depots/Instance_1.jsonl\n",
      "missing /Users/paveldolin/dev/research/current/reasoning_about_actions/pipeline/data/questions.composite.test_train_composite/with_random_sub/depots/Instance_2.jsonl\n",
      "missing /Users/paveldolin/dev/research/current/reasoning_about_actions/pipeline/data/questions.composite.test_train_composite/with_random_sub/depots/Instance_3.jsonl\n",
      "missing /Users/paveldolin/dev/research/current/reasoning_about_actions/pipeline/data/questions.composite.test_train_composite/with_random_sub/depots/Instance_4.jsonl\n",
      "missing /Users/paveldolin/dev/research/current/reasoning_about_actions/pipeline/data/questions.composite.test_train_composite/with_random_sub/depots/Instance_5.jsonl\n",
      "missing /Users/paveldolin/dev/research/current/reasoning_about_actions/pipeline/data/questions.composite.test_train_composite/with_random_sub/depots/Instance_6.jsonl\n",
      "missing /Users/paveldolin/dev/research/current/reasoning_about_actions/pipeline/data/questions.composite.test_train_composite/with_random_sub/depots/Instance_7.jsonl\n",
      "missing /Users/paveldolin/dev/research/current/reasoning_about_actions/pipeline/data/questions.composite.test_train_composite/with_random_sub/depots/Instance_8.jsonl\n",
      "missing /Users/paveldolin/dev/research/current/reasoning_about_actions/pipeline/data/questions.composite.test_train_composite/with_random_sub/depots/Instance_9.jsonl\n",
      "missing /Users/paveldolin/dev/research/current/reasoning_about_actions/pipeline/data/questions.composite.test_train_composite/with_random_sub/depots/Instance_10.jsonl\n",
      "missing /Users/paveldolin/dev/research/current/reasoning_about_actions/pipeline/data/questions.composite.test_train_composite/with_random_sub/driverlog/Instance_1.jsonl\n",
      "missing /Users/paveldolin/dev/research/current/reasoning_about_actions/pipeline/data/questions.composite.test_train_composite/with_random_sub/driverlog/Instance_2.jsonl\n",
      "missing /Users/paveldolin/dev/research/current/reasoning_about_actions/pipeline/data/questions.composite.test_train_composite/with_random_sub/driverlog/Instance_3.jsonl\n",
      "missing /Users/paveldolin/dev/research/current/reasoning_about_actions/pipeline/data/questions.composite.test_train_composite/with_random_sub/driverlog/Instance_4.jsonl\n",
      "missing /Users/paveldolin/dev/research/current/reasoning_about_actions/pipeline/data/questions.composite.test_train_composite/with_random_sub/driverlog/Instance_5.jsonl\n",
      "missing /Users/paveldolin/dev/research/current/reasoning_about_actions/pipeline/data/questions.composite.test_train_composite/with_random_sub/driverlog/Instance_6.jsonl\n",
      "missing /Users/paveldolin/dev/research/current/reasoning_about_actions/pipeline/data/questions.composite.test_train_composite/with_random_sub/driverlog/Instance_7.jsonl\n",
      "missing /Users/paveldolin/dev/research/current/reasoning_about_actions/pipeline/data/questions.composite.test_train_composite/with_random_sub/driverlog/Instance_8.jsonl\n",
      "missing /Users/paveldolin/dev/research/current/reasoning_about_actions/pipeline/data/questions.composite.test_train_composite/with_random_sub/driverlog/Instance_9.jsonl\n",
      "missing /Users/paveldolin/dev/research/current/reasoning_about_actions/pipeline/data/questions.composite.test_train_composite/with_random_sub/driverlog/Instance_10.jsonl\n",
      "missing /Users/paveldolin/dev/research/current/reasoning_about_actions/pipeline/data/questions.composite.test_train_composite/with_random_sub/goldminer/Instance_1.jsonl\n",
      "missing /Users/paveldolin/dev/research/current/reasoning_about_actions/pipeline/data/questions.composite.test_train_composite/with_random_sub/goldminer/Instance_2.jsonl\n",
      "missing /Users/paveldolin/dev/research/current/reasoning_about_actions/pipeline/data/questions.composite.test_train_composite/with_random_sub/goldminer/Instance_3.jsonl\n",
      "missing /Users/paveldolin/dev/research/current/reasoning_about_actions/pipeline/data/questions.composite.test_train_composite/with_random_sub/goldminer/Instance_4.jsonl\n",
      "missing /Users/paveldolin/dev/research/current/reasoning_about_actions/pipeline/data/questions.composite.test_train_composite/with_random_sub/goldminer/Instance_5.jsonl\n",
      "missing /Users/paveldolin/dev/research/current/reasoning_about_actions/pipeline/data/questions.composite.test_train_composite/with_random_sub/goldminer/Instance_6.jsonl\n",
      "missing /Users/paveldolin/dev/research/current/reasoning_about_actions/pipeline/data/questions.composite.test_train_composite/with_random_sub/goldminer/Instance_7.jsonl\n",
      "missing /Users/paveldolin/dev/research/current/reasoning_about_actions/pipeline/data/questions.composite.test_train_composite/with_random_sub/goldminer/Instance_8.jsonl\n",
      "missing /Users/paveldolin/dev/research/current/reasoning_about_actions/pipeline/data/questions.composite.test_train_composite/with_random_sub/goldminer/Instance_9.jsonl\n",
      "missing /Users/paveldolin/dev/research/current/reasoning_about_actions/pipeline/data/questions.composite.test_train_composite/with_random_sub/goldminer/Instance_10.jsonl\n",
      "missing /Users/paveldolin/dev/research/current/reasoning_about_actions/pipeline/data/questions.composite.test_train_composite/with_random_sub/grippers/Instance_1.jsonl\n",
      "missing /Users/paveldolin/dev/research/current/reasoning_about_actions/pipeline/data/questions.composite.test_train_composite/with_random_sub/grippers/Instance_2.jsonl\n",
      "missing /Users/paveldolin/dev/research/current/reasoning_about_actions/pipeline/data/questions.composite.test_train_composite/with_random_sub/grippers/Instance_3.jsonl\n",
      "missing /Users/paveldolin/dev/research/current/reasoning_about_actions/pipeline/data/questions.composite.test_train_composite/with_random_sub/grippers/Instance_4.jsonl\n",
      "missing /Users/paveldolin/dev/research/current/reasoning_about_actions/pipeline/data/questions.composite.test_train_composite/with_random_sub/grippers/Instance_5.jsonl\n",
      "missing /Users/paveldolin/dev/research/current/reasoning_about_actions/pipeline/data/questions.composite.test_train_composite/with_random_sub/grippers/Instance_6.jsonl\n",
      "missing /Users/paveldolin/dev/research/current/reasoning_about_actions/pipeline/data/questions.composite.test_train_composite/with_random_sub/grippers/Instance_7.jsonl\n",
      "missing /Users/paveldolin/dev/research/current/reasoning_about_actions/pipeline/data/questions.composite.test_train_composite/with_random_sub/grippers/Instance_8.jsonl\n",
      "missing /Users/paveldolin/dev/research/current/reasoning_about_actions/pipeline/data/questions.composite.test_train_composite/with_random_sub/grippers/Instance_9.jsonl\n",
      "missing /Users/paveldolin/dev/research/current/reasoning_about_actions/pipeline/data/questions.composite.test_train_composite/with_random_sub/grippers/Instance_10.jsonl\n",
      "missing /Users/paveldolin/dev/research/current/reasoning_about_actions/pipeline/data/questions.composite.test_train_composite/with_random_sub/logistics/Instance_1.jsonl\n",
      "missing /Users/paveldolin/dev/research/current/reasoning_about_actions/pipeline/data/questions.composite.test_train_composite/with_random_sub/logistics/Instance_2.jsonl\n",
      "missing /Users/paveldolin/dev/research/current/reasoning_about_actions/pipeline/data/questions.composite.test_train_composite/with_random_sub/logistics/Instance_3.jsonl\n",
      "missing /Users/paveldolin/dev/research/current/reasoning_about_actions/pipeline/data/questions.composite.test_train_composite/with_random_sub/logistics/Instance_4.jsonl\n",
      "missing /Users/paveldolin/dev/research/current/reasoning_about_actions/pipeline/data/questions.composite.test_train_composite/with_random_sub/logistics/Instance_5.jsonl\n",
      "missing /Users/paveldolin/dev/research/current/reasoning_about_actions/pipeline/data/questions.composite.test_train_composite/with_random_sub/logistics/Instance_6.jsonl\n",
      "missing /Users/paveldolin/dev/research/current/reasoning_about_actions/pipeline/data/questions.composite.test_train_composite/with_random_sub/logistics/Instance_7.jsonl\n",
      "missing /Users/paveldolin/dev/research/current/reasoning_about_actions/pipeline/data/questions.composite.test_train_composite/with_random_sub/logistics/Instance_8.jsonl\n",
      "missing /Users/paveldolin/dev/research/current/reasoning_about_actions/pipeline/data/questions.composite.test_train_composite/with_random_sub/logistics/Instance_9.jsonl\n",
      "missing /Users/paveldolin/dev/research/current/reasoning_about_actions/pipeline/data/questions.composite.test_train_composite/with_random_sub/logistics/Instance_10.jsonl\n",
      "missing /Users/paveldolin/dev/research/current/reasoning_about_actions/pipeline/data/questions.composite.test_train_composite/with_random_sub/miconic/Instance_1.jsonl\n",
      "missing /Users/paveldolin/dev/research/current/reasoning_about_actions/pipeline/data/questions.composite.test_train_composite/with_random_sub/miconic/Instance_2.jsonl\n",
      "missing /Users/paveldolin/dev/research/current/reasoning_about_actions/pipeline/data/questions.composite.test_train_composite/with_random_sub/miconic/Instance_3.jsonl\n",
      "missing /Users/paveldolin/dev/research/current/reasoning_about_actions/pipeline/data/questions.composite.test_train_composite/with_random_sub/miconic/Instance_4.jsonl\n",
      "missing /Users/paveldolin/dev/research/current/reasoning_about_actions/pipeline/data/questions.composite.test_train_composite/with_random_sub/miconic/Instance_5.jsonl\n",
      "missing /Users/paveldolin/dev/research/current/reasoning_about_actions/pipeline/data/questions.composite.test_train_composite/with_random_sub/miconic/Instance_6.jsonl\n",
      "missing /Users/paveldolin/dev/research/current/reasoning_about_actions/pipeline/data/questions.composite.test_train_composite/with_random_sub/miconic/Instance_7.jsonl\n",
      "missing /Users/paveldolin/dev/research/current/reasoning_about_actions/pipeline/data/questions.composite.test_train_composite/with_random_sub/miconic/Instance_8.jsonl\n",
      "missing /Users/paveldolin/dev/research/current/reasoning_about_actions/pipeline/data/questions.composite.test_train_composite/with_random_sub/miconic/Instance_9.jsonl\n",
      "missing /Users/paveldolin/dev/research/current/reasoning_about_actions/pipeline/data/questions.composite.test_train_composite/with_random_sub/miconic/Instance_10.jsonl\n",
      "missing /Users/paveldolin/dev/research/current/reasoning_about_actions/pipeline/data/questions.composite.test_train_composite/with_random_sub/mystery/Instance_1.jsonl\n",
      "missing /Users/paveldolin/dev/research/current/reasoning_about_actions/pipeline/data/questions.composite.test_train_composite/with_random_sub/mystery/Instance_2.jsonl\n",
      "missing /Users/paveldolin/dev/research/current/reasoning_about_actions/pipeline/data/questions.composite.test_train_composite/with_random_sub/mystery/Instance_3.jsonl\n",
      "missing /Users/paveldolin/dev/research/current/reasoning_about_actions/pipeline/data/questions.composite.test_train_composite/with_random_sub/mystery/Instance_4.jsonl\n",
      "missing /Users/paveldolin/dev/research/current/reasoning_about_actions/pipeline/data/questions.composite.test_train_composite/with_random_sub/mystery/Instance_5.jsonl\n",
      "missing /Users/paveldolin/dev/research/current/reasoning_about_actions/pipeline/data/questions.composite.test_train_composite/with_random_sub/mystery/Instance_6.jsonl\n",
      "missing /Users/paveldolin/dev/research/current/reasoning_about_actions/pipeline/data/questions.composite.test_train_composite/with_random_sub/mystery/Instance_7.jsonl\n",
      "missing /Users/paveldolin/dev/research/current/reasoning_about_actions/pipeline/data/questions.composite.test_train_composite/with_random_sub/mystery/Instance_8.jsonl\n",
      "missing /Users/paveldolin/dev/research/current/reasoning_about_actions/pipeline/data/questions.composite.test_train_composite/with_random_sub/mystery/Instance_9.jsonl\n",
      "missing /Users/paveldolin/dev/research/current/reasoning_about_actions/pipeline/data/questions.composite.test_train_composite/with_random_sub/mystery/Instance_10.jsonl\n",
      "missing /Users/paveldolin/dev/research/current/reasoning_about_actions/pipeline/data/questions.composite.test_train_composite/with_random_sub/npuzzle/Instance_1.jsonl\n",
      "missing /Users/paveldolin/dev/research/current/reasoning_about_actions/pipeline/data/questions.composite.test_train_composite/with_random_sub/npuzzle/Instance_2.jsonl\n",
      "missing /Users/paveldolin/dev/research/current/reasoning_about_actions/pipeline/data/questions.composite.test_train_composite/with_random_sub/npuzzle/Instance_3.jsonl\n",
      "missing /Users/paveldolin/dev/research/current/reasoning_about_actions/pipeline/data/questions.composite.test_train_composite/with_random_sub/npuzzle/Instance_4.jsonl\n",
      "missing /Users/paveldolin/dev/research/current/reasoning_about_actions/pipeline/data/questions.composite.test_train_composite/with_random_sub/npuzzle/Instance_5.jsonl\n",
      "missing /Users/paveldolin/dev/research/current/reasoning_about_actions/pipeline/data/questions.composite.test_train_composite/with_random_sub/npuzzle/Instance_6.jsonl\n",
      "missing /Users/paveldolin/dev/research/current/reasoning_about_actions/pipeline/data/questions.composite.test_train_composite/with_random_sub/npuzzle/Instance_7.jsonl\n",
      "missing /Users/paveldolin/dev/research/current/reasoning_about_actions/pipeline/data/questions.composite.test_train_composite/with_random_sub/npuzzle/Instance_8.jsonl\n",
      "missing /Users/paveldolin/dev/research/current/reasoning_about_actions/pipeline/data/questions.composite.test_train_composite/with_random_sub/npuzzle/Instance_9.jsonl\n",
      "missing /Users/paveldolin/dev/research/current/reasoning_about_actions/pipeline/data/questions.composite.test_train_composite/with_random_sub/npuzzle/Instance_10.jsonl\n",
      "missing /Users/paveldolin/dev/research/current/reasoning_about_actions/pipeline/data/questions.composite.test_train_composite/with_random_sub/satellite/Instance_1.jsonl\n",
      "missing /Users/paveldolin/dev/research/current/reasoning_about_actions/pipeline/data/questions.composite.test_train_composite/with_random_sub/satellite/Instance_2.jsonl\n",
      "missing /Users/paveldolin/dev/research/current/reasoning_about_actions/pipeline/data/questions.composite.test_train_composite/with_random_sub/satellite/Instance_3.jsonl\n",
      "missing /Users/paveldolin/dev/research/current/reasoning_about_actions/pipeline/data/questions.composite.test_train_composite/with_random_sub/satellite/Instance_4.jsonl\n",
      "missing /Users/paveldolin/dev/research/current/reasoning_about_actions/pipeline/data/questions.composite.test_train_composite/with_random_sub/satellite/Instance_5.jsonl\n",
      "missing /Users/paveldolin/dev/research/current/reasoning_about_actions/pipeline/data/questions.composite.test_train_composite/with_random_sub/satellite/Instance_6.jsonl\n",
      "missing /Users/paveldolin/dev/research/current/reasoning_about_actions/pipeline/data/questions.composite.test_train_composite/with_random_sub/satellite/Instance_7.jsonl\n",
      "missing /Users/paveldolin/dev/research/current/reasoning_about_actions/pipeline/data/questions.composite.test_train_composite/with_random_sub/satellite/Instance_8.jsonl\n",
      "missing /Users/paveldolin/dev/research/current/reasoning_about_actions/pipeline/data/questions.composite.test_train_composite/with_random_sub/satellite/Instance_9.jsonl\n",
      "missing /Users/paveldolin/dev/research/current/reasoning_about_actions/pipeline/data/questions.composite.test_train_composite/with_random_sub/satellite/Instance_10.jsonl\n",
      "missing /Users/paveldolin/dev/research/current/reasoning_about_actions/pipeline/data/questions.composite.test_train_composite/with_random_sub/spanner/Instance_1.jsonl\n",
      "missing /Users/paveldolin/dev/research/current/reasoning_about_actions/pipeline/data/questions.composite.test_train_composite/with_random_sub/spanner/Instance_2.jsonl\n",
      "missing /Users/paveldolin/dev/research/current/reasoning_about_actions/pipeline/data/questions.composite.test_train_composite/with_random_sub/spanner/Instance_3.jsonl\n",
      "missing /Users/paveldolin/dev/research/current/reasoning_about_actions/pipeline/data/questions.composite.test_train_composite/with_random_sub/spanner/Instance_4.jsonl\n",
      "missing /Users/paveldolin/dev/research/current/reasoning_about_actions/pipeline/data/questions.composite.test_train_composite/with_random_sub/spanner/Instance_5.jsonl\n",
      "missing /Users/paveldolin/dev/research/current/reasoning_about_actions/pipeline/data/questions.composite.test_train_composite/with_random_sub/spanner/Instance_6.jsonl\n",
      "missing /Users/paveldolin/dev/research/current/reasoning_about_actions/pipeline/data/questions.composite.test_train_composite/with_random_sub/spanner/Instance_7.jsonl\n",
      "missing /Users/paveldolin/dev/research/current/reasoning_about_actions/pipeline/data/questions.composite.test_train_composite/with_random_sub/spanner/Instance_8.jsonl\n",
      "missing /Users/paveldolin/dev/research/current/reasoning_about_actions/pipeline/data/questions.composite.test_train_composite/with_random_sub/spanner/Instance_9.jsonl\n",
      "missing /Users/paveldolin/dev/research/current/reasoning_about_actions/pipeline/data/questions.composite.test_train_composite/with_random_sub/spanner/Instance_10.jsonl\n",
      "missing /Users/paveldolin/dev/research/current/reasoning_about_actions/pipeline/data/questions.composite.test_train_composite/with_random_sub/visitall/Instance_1.jsonl\n",
      "missing /Users/paveldolin/dev/research/current/reasoning_about_actions/pipeline/data/questions.composite.test_train_composite/with_random_sub/visitall/Instance_2.jsonl\n",
      "missing /Users/paveldolin/dev/research/current/reasoning_about_actions/pipeline/data/questions.composite.test_train_composite/with_random_sub/visitall/Instance_3.jsonl\n",
      "missing /Users/paveldolin/dev/research/current/reasoning_about_actions/pipeline/data/questions.composite.test_train_composite/with_random_sub/visitall/Instance_4.jsonl\n",
      "missing /Users/paveldolin/dev/research/current/reasoning_about_actions/pipeline/data/questions.composite.test_train_composite/with_random_sub/visitall/Instance_5.jsonl\n",
      "missing /Users/paveldolin/dev/research/current/reasoning_about_actions/pipeline/data/questions.composite.test_train_composite/with_random_sub/visitall/Instance_6.jsonl\n",
      "missing /Users/paveldolin/dev/research/current/reasoning_about_actions/pipeline/data/questions.composite.test_train_composite/with_random_sub/visitall/Instance_7.jsonl\n",
      "missing /Users/paveldolin/dev/research/current/reasoning_about_actions/pipeline/data/questions.composite.test_train_composite/with_random_sub/visitall/Instance_8.jsonl\n",
      "missing /Users/paveldolin/dev/research/current/reasoning_about_actions/pipeline/data/questions.composite.test_train_composite/with_random_sub/visitall/Instance_9.jsonl\n",
      "missing /Users/paveldolin/dev/research/current/reasoning_about_actions/pipeline/data/questions.composite.test_train_composite/with_random_sub/visitall/Instance_10.jsonl\n",
      "missing /Users/paveldolin/dev/research/current/reasoning_about_actions/pipeline/data/questions.composite.test_train_composite/with_random_sub/zenotravel/Instance_1.jsonl\n",
      "missing /Users/paveldolin/dev/research/current/reasoning_about_actions/pipeline/data/questions.composite.test_train_composite/with_random_sub/zenotravel/Instance_2.jsonl\n",
      "missing /Users/paveldolin/dev/research/current/reasoning_about_actions/pipeline/data/questions.composite.test_train_composite/with_random_sub/zenotravel/Instance_3.jsonl\n",
      "missing /Users/paveldolin/dev/research/current/reasoning_about_actions/pipeline/data/questions.composite.test_train_composite/with_random_sub/zenotravel/Instance_4.jsonl\n",
      "missing /Users/paveldolin/dev/research/current/reasoning_about_actions/pipeline/data/questions.composite.test_train_composite/with_random_sub/zenotravel/Instance_5.jsonl\n",
      "missing /Users/paveldolin/dev/research/current/reasoning_about_actions/pipeline/data/questions.composite.test_train_composite/with_random_sub/zenotravel/Instance_6.jsonl\n",
      "missing /Users/paveldolin/dev/research/current/reasoning_about_actions/pipeline/data/questions.composite.test_train_composite/with_random_sub/zenotravel/Instance_7.jsonl\n",
      "missing /Users/paveldolin/dev/research/current/reasoning_about_actions/pipeline/data/questions.composite.test_train_composite/with_random_sub/zenotravel/Instance_8.jsonl\n",
      "missing /Users/paveldolin/dev/research/current/reasoning_about_actions/pipeline/data/questions.composite.test_train_composite/with_random_sub/zenotravel/Instance_9.jsonl\n",
      "missing /Users/paveldolin/dev/research/current/reasoning_about_actions/pipeline/data/questions.composite.test_train_composite/with_random_sub/zenotravel/Instance_10.jsonl\n",
      "questions gathered\n"
     ]
    }
   ],
   "source": [
    "questions_dir = f'{DATA_PATH}/questions.composite.test_train'\n",
    "data_composite_train = gather_questions(questions_dir)"
   ],
   "metadata": {
    "collapsed": false,
    "ExecuteTime": {
     "end_time": "2024-06-06T09:28:11.598506Z",
     "start_time": "2024-06-06T09:28:08.771301Z"
    }
   },
   "id": "df262dca38313797",
   "execution_count": 3
  },
  {
   "cell_type": "code",
   "outputs": [
    {
     "data": {
      "text/plain": "15199"
     },
     "execution_count": 4,
     "metadata": {},
     "output_type": "execute_result"
    }
   ],
   "source": [
    "len(data_composite_train)"
   ],
   "metadata": {
    "collapsed": false,
    "ExecuteTime": {
     "end_time": "2024-06-06T09:28:17.491786Z",
     "start_time": "2024-06-06T09:28:17.481169Z"
    }
   },
   "id": "ae5aaaa3d83322c1",
   "execution_count": 4
  },
  {
   "cell_type": "code",
   "outputs": [
    {
     "data": {
      "text/plain": "6216"
     },
     "execution_count": 5,
     "metadata": {},
     "output_type": "execute_result"
    }
   ],
   "source": [
    "359+1065+1730+370+360+1718+254+360"
   ],
   "metadata": {
    "collapsed": false,
    "ExecuteTime": {
     "end_time": "2024-06-06T09:29:42.096936Z",
     "start_time": "2024-06-06T09:29:42.092609Z"
    }
   },
   "id": "ccf84261533b4434",
   "execution_count": 5
  },
  {
   "cell_type": "code",
   "outputs": [
    {
     "data": {
      "text/plain": "104894"
     },
     "execution_count": 6,
     "metadata": {},
     "output_type": "execute_result"
    }
   ],
   "source": [
    "4841 + 10085 + 21671 + 21086 + 19140 + 9876 + 2996 + 15199"
   ],
   "metadata": {
    "collapsed": false,
    "ExecuteTime": {
     "end_time": "2024-06-06T09:30:36.451113Z",
     "start_time": "2024-06-06T09:30:36.446878Z"
    }
   },
   "id": "cfb5f4944902e607",
   "execution_count": 6
  },
  {
   "cell_type": "code",
   "outputs": [],
   "source": [],
   "metadata": {
    "collapsed": false
   },
   "id": "f9320ce0ce5f5069"
  }
 ],
 "metadata": {
  "kernelspec": {
   "display_name": "Python 3",
   "language": "python",
   "name": "python3"
  },
  "language_info": {
   "codemirror_mode": {
    "name": "ipython",
    "version": 2
   },
   "file_extension": ".py",
   "mimetype": "text/x-python",
   "name": "python",
   "nbconvert_exporter": "python",
   "pygments_lexer": "ipython2",
   "version": "2.7.6"
  }
 },
 "nbformat": 4,
 "nbformat_minor": 5
}
