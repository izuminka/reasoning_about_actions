{
 "cells": [
  {
   "cell_type": "code",
   "execution_count": 1,
   "id": "initial_id",
   "metadata": {
    "collapsed": true,
    "ExecuteTime": {
     "end_time": "2024-05-08T21:30:58.468810Z",
     "start_time": "2024-05-08T21:30:55.690692Z"
    }
   },
   "outputs": [],
   "source": [
    "import sys\n",
    "sys.path.insert(0,'../../')\n",
    "from src.analysis.model_performances import *\n",
    "from helpers import *"
   ]
  },
  {
   "cell_type": "code",
   "outputs": [
    {
     "name": "stderr",
     "output_type": "stream",
     "text": [
      "100%|██████████| 25920/25920 [00:01<00:00, 16773.24it/s]\n"
     ]
    }
   ],
   "source": [
    "answer_type = TRUE_FALSE_ANSWER_TYPE\n",
    "answer_type_plus = tf_answer_type(score_key = F1_SCORE_KEY)\n",
    "stats_all = collect_stats_all(answer_type_plus)"
   ],
   "metadata": {
    "collapsed": false,
    "ExecuteTime": {
     "end_time": "2024-05-08T21:31:00.222828Z",
     "start_time": "2024-05-08T21:30:58.659365Z"
    }
   },
   "id": "1612da7fa320e3bc",
   "execution_count": 2
  },
  {
   "cell_type": "code",
   "outputs": [],
   "source": [
    "model_name = 'gemini'#'Llama-2-7b-chat-hf'#'gemma-2b-it' #\n",
    "prompt_type = 'few_shot_1'\n",
    "plan_length = 1\n",
    "subs = WITHOUT_RANDOM_SUB\n",
    "question_category = ALL_QUESTION_CATEGORIES_KEY\n",
    "domain = ALL_DOMAINS_KEY\n",
    "\n",
    "categories = RAMIFICATION_TYPES\n",
    "save_dir = os.path.join(STATISTICS_PATH, 'by_ramifications_plots')\n",
    "os.makedirs(save_dir, exist_ok=True)"
   ],
   "metadata": {
    "collapsed": false,
    "ExecuteTime": {
     "end_time": "2024-05-08T21:42:51.565376Z",
     "start_time": "2024-05-08T21:42:51.561245Z"
    }
   },
   "id": "b6bc53bcf85fda1",
   "execution_count": 17
  },
  {
   "cell_type": "markdown",
   "source": [
    "# By prompt_type"
   ],
   "metadata": {
    "collapsed": false
   },
   "id": "66edf81489ad1b"
  },
  {
   "cell_type": "code",
   "outputs": [
    {
     "name": "stdout",
     "output_type": "stream",
     "text": [
      "by prompt type, gemini, ALL DOMAINS, without random sub, pl-1\n"
     ]
    },
    {
     "data": {
      "text/plain": "<Figure size 432x288 with 0 Axes>"
     },
     "metadata": {},
     "output_type": "display_data"
    },
    {
     "data": {
      "text/plain": "<Figure size 432x288 with 0 Axes>"
     },
     "metadata": {},
     "output_type": "display_data"
    },
    {
     "data": {
      "text/plain": "<Figure size 432x288 with 0 Axes>"
     },
     "metadata": {},
     "output_type": "display_data"
    },
    {
     "data": {
      "text/plain": "<Figure size 720x360 with 1 Axes>",
      "image/png": "[encoded data removed]"
     },
     "metadata": {
      "needs_background": "light"
     },
     "output_type": "display_data"
    }
   ],
   "source": [
    "data_all = []\n",
    "for prompt_type in PROMPT_TYPES:\n",
    "    plt.figure()\n",
    "    data = {NAME_KEY: prompt_type, DATA_KEY: []}\n",
    "    for ramifications in categories:\n",
    "        res = filter_single_selector(stats_all, plan_length, question_category, ramifications, model_name, prompt_type, domain, answer_type, subs) \n",
    "        data[DATA_KEY].append(res)\n",
    "    data_all.append(data)\n",
    "\n",
    "plt_n_bars(categories, data_all)\n",
    "plt.ylabel('F1')\n",
    "plt.ylim([0.5,1])\n",
    "save_name =  f'by_prompt_type.{model_name}.{domain}.{subs}.pl-{plan_length}'\n",
    "save_path = os.path.join(save_dir, f'{save_name}.pdf')\n",
    "plt.savefig(save_path, transparent=True, format=\"pdf\", bbox_inches='tight')\n",
    "\n",
    "print(save_name.replace('.',', ').replace('_',' '))"
   ],
   "metadata": {
    "collapsed": false,
    "ExecuteTime": {
     "end_time": "2024-05-08T21:42:52.848777Z",
     "start_time": "2024-05-08T21:42:52.621190Z"
    }
   },
   "id": "aaf02ad1f3bad971",
   "execution_count": 18
  },
  {
   "cell_type": "markdown",
   "source": [
    "# By Random Subs"
   ],
   "metadata": {
    "collapsed": false
   },
   "id": "6cef607c45db92ce"
  },
  {
   "cell_type": "code",
   "outputs": [
    {
     "name": "stdout",
     "output_type": "stream",
     "text": [
      "by random subs, gemini, ALL DOMAINS, few shot 1, pl-1\n"
     ]
    },
    {
     "data": {
      "text/plain": "<Figure size 432x288 with 0 Axes>"
     },
     "metadata": {},
     "output_type": "display_data"
    },
    {
     "data": {
      "text/plain": "<Figure size 432x288 with 0 Axes>"
     },
     "metadata": {},
     "output_type": "display_data"
    },
    {
     "data": {
      "text/plain": "<Figure size 720x360 with 1 Axes>",
      "image/png": "[encoded data removed]"
     },
     "metadata": {
      "needs_background": "light"
     },
     "output_type": "display_data"
    }
   ],
   "source": [
    "prompt_type = 'few_shot_1'\n",
    "\n",
    "data_all = []\n",
    "for subs in SUBSTITUTION_TYPES:\n",
    "    plt.figure()\n",
    "    data = {NAME_KEY: subs, DATA_KEY: []}\n",
    "    for ramifications in categories:\n",
    "        res = filter_single_selector(stats_all, plan_length, question_category, ramifications, model_name, prompt_type, domain, answer_type, subs) \n",
    "        data[DATA_KEY].append(res)\n",
    "    data_all.append(data)\n",
    "\n",
    "plt_n_bars(categories, data_all)\n",
    "plt.ylabel('F1')\n",
    "plt.ylim([0.5,1])\n",
    "save_name =  f'by_random_subs.{model_name}.{domain}.{prompt_type}.pl-{plan_length}'\n",
    "save_path = os.path.join(save_dir, f'{save_name}.pdf')\n",
    "plt.savefig(save_path, transparent=True, format=\"pdf\", bbox_inches='tight')\n",
    "\n",
    "print(save_name.replace('.',', ').replace('_',' '))"
   ],
   "metadata": {
    "collapsed": false,
    "ExecuteTime": {
     "end_time": "2024-05-08T21:42:54.307561Z",
     "start_time": "2024-05-08T21:42:54.077502Z"
    }
   },
   "id": "b5b4515e9c95130e",
   "execution_count": 19
  },
  {
   "cell_type": "markdown",
   "source": [
    "# By Domains"
   ],
   "metadata": {
    "collapsed": false
   },
   "id": "465feef5144f33e5"
  },
  {
   "cell_type": "code",
   "outputs": [
    {
     "name": "stdout",
     "output_type": "stream",
     "text": [
      "by domain, gemini, ALL DOMAINS, few shot 5, pl-1\n"
     ]
    },
    {
     "data": {
      "text/plain": "<Figure size 432x288 with 0 Axes>"
     },
     "metadata": {},
     "output_type": "display_data"
    },
    {
     "data": {
      "text/plain": "<Figure size 432x288 with 0 Axes>"
     },
     "metadata": {},
     "output_type": "display_data"
    },
    {
     "data": {
      "text/plain": "<Figure size 720x360 with 1 Axes>",
      "image/png": "[encoded data removed]"
     },
     "metadata": {
      "needs_background": "light"
     },
     "output_type": "display_data"
    }
   ],
   "source": [
    "prompt_type = 'few_shot_5'\n",
    "\n",
    "data_all = []\n",
    "for domains in [TRANSPORTATION_DOMAIN_KEY, NON_TRANSPORTATION_DOMAIN_KEY]:\n",
    "    plt.figure()\n",
    "    data = {NAME_KEY: domains, DATA_KEY: []}\n",
    "    for ramifications in categories:\n",
    "        res = filter_single_selector(stats_all, plan_length, question_category, ramifications, model_name, prompt_type, domain, answer_type, subs) \n",
    "        data[DATA_KEY].append(res)\n",
    "    data_all.append(data)\n",
    "\n",
    "plt_n_bars(categories, data_all)\n",
    "plt.ylabel('F1')\n",
    "plt.ylim([0.5,1])\n",
    "save_name =  f'by_domain.{model_name}.{domain}.{prompt_type}.pl-{plan_length}'\n",
    "save_path = os.path.join(save_dir, f'{save_name}.pdf')\n",
    "plt.savefig(save_path, transparent=True, format=\"pdf\", bbox_inches='tight')\n",
    "\n",
    "print(save_name.replace('.',', ').replace('_',' '))"
   ],
   "metadata": {
    "collapsed": false,
    "ExecuteTime": {
     "end_time": "2024-05-08T21:42:55.455013Z",
     "start_time": "2024-05-08T21:42:55.252866Z"
    }
   },
   "id": "fec6dde04d294019",
   "execution_count": 20
  },
  {
   "cell_type": "markdown",
   "source": [
    "# By Model Names\n"
   ],
   "metadata": {
    "collapsed": false
   },
   "id": "3a03e6f6cf3276e8"
  },
  {
   "cell_type": "code",
   "outputs": [
    {
     "name": "stdout",
     "output_type": "stream",
     "text": [
      "by domain, gemini, ALL DOMAINS, few shot 5, pl-1\n"
     ]
    },
    {
     "data": {
      "text/plain": "<Figure size 432x288 with 0 Axes>"
     },
     "metadata": {},
     "output_type": "display_data"
    },
    {
     "data": {
      "text/plain": "<Figure size 432x288 with 0 Axes>"
     },
     "metadata": {},
     "output_type": "display_data"
    },
    {
     "data": {
      "text/plain": "<Figure size 432x288 with 0 Axes>"
     },
     "metadata": {},
     "output_type": "display_data"
    },
    {
     "data": {
      "text/plain": "<Figure size 720x360 with 1 Axes>",
      "image/png": "[encoded data removed]"
     },
     "metadata": {
      "needs_background": "light"
     },
     "output_type": "display_data"
    }
   ],
   "source": [
    "ramifications = WITHOUT_RAMIFICATIONS\n",
    "prompt_type = 'few_shot_1'\n",
    "subs = WITHOUT_RANDOM_SUB\n",
    "\n",
    "data_all = []\n",
    "for model_name in PROMPT_MODEL_NAMES:\n",
    "    plt.figure()\n",
    "    data = {NAME_KEY: model_name, DATA_KEY: []}\n",
    "    for ramifications in categories:\n",
    "        res = filter_single_selector(stats_all, plan_length, question_category, ramifications, model_name, prompt_type, domain, answer_type, subs) \n",
    "        data[DATA_KEY].append(res)\n",
    "    data_all.append(data)\n",
    "\n",
    "plt_n_bars(categories, data_all)\n",
    "plt.ylabel('F1')\n",
    "plt.ylim([0.5,1])\n",
    "# save_name =  f'by_random_subs.{model_name}.{ramifications}.{prompt_type}.pl-{plan_length}'\n",
    "# save_path = os.path.join(save_dir, f'{save_name}.pdf')\n",
    "# plt.savefig(save_path, transparent=True, format=\"pdf\", bbox_inches='tight')\n",
    "\n",
    "print(save_name.replace('.',', ').replace('_',' '))"
   ],
   "metadata": {
    "collapsed": false,
    "ExecuteTime": {
     "end_time": "2024-05-08T21:43:00.000771Z",
     "start_time": "2024-05-08T21:42:59.855748Z"
    }
   },
   "id": "ff659ef2bfb8d399",
   "execution_count": 21
  },
  {
   "cell_type": "markdown",
   "source": [
    "# By Random Subs"
   ],
   "metadata": {
    "collapsed": false
   },
   "id": "83220a2d8f82d2"
  },
  {
   "cell_type": "code",
   "outputs": [
    {
     "name": "stdout",
     "output_type": "stream",
     "text": [
      "by domain, gemini, ALL DOMAINS, few shot 5, pl-1\n"
     ]
    },
    {
     "data": {
      "text/plain": "<Figure size 432x288 with 0 Axes>"
     },
     "metadata": {},
     "output_type": "display_data"
    },
    {
     "data": {
      "text/plain": "<Figure size 432x288 with 0 Axes>"
     },
     "metadata": {},
     "output_type": "display_data"
    },
    {
     "data": {
      "text/plain": "<Figure size 360x360 with 0 Axes>"
     },
     "metadata": {},
     "output_type": "display_data"
    },
    {
     "data": {
      "text/plain": "<Figure size 720x360 with 1 Axes>",
      "image/png": "[encoded data removed]"
     },
     "metadata": {
      "needs_background": "light"
     },
     "output_type": "display_data"
    }
   ],
   "source": [
    "model_name = 'gemini'\n",
    "prompt_type = 'few_shot_1'\n",
    "\n",
    "data_all = []\n",
    "for subs in SUBSTITUTION_TYPES:\n",
    "    plt.figure()\n",
    "    data = {NAME_KEY: subs, DATA_KEY: []}\n",
    "    for ramifications in categories:\n",
    "        res = filter_single_selector(stats_all, plan_length, question_category, ramifications, model_name, prompt_type, domain, answer_type, subs) \n",
    "        data[DATA_KEY].append(res)\n",
    "    data_all.append(data)\n",
    "\n",
    "plt.figure(figsize=(5, 5))\n",
    "plt_n_bars(categories, data_all)\n",
    "plt.ylabel('F1')\n",
    "plt.ylim([0.5,1])\n",
    "# save_name =  f'by_random_subs.{model_name}.{ramifications}.{prompt_type}.pl-{plan_length}'\n",
    "# save_path = os.path.join(save_dir, f'{save_name}.pdf')\n",
    "# plt.savefig(save_path, transparent=True, format=\"pdf\", bbox_inches='tight')\n",
    "\n",
    "print(save_name.replace('.',', ').replace('_',' '))"
   ],
   "metadata": {
    "collapsed": false,
    "ExecuteTime": {
     "end_time": "2024-05-08T21:46:42.062272Z",
     "start_time": "2024-05-08T21:46:41.924613Z"
    }
   },
   "id": "4e86ba93e0ce6716",
   "execution_count": 25
  },
  {
   "cell_type": "code",
   "outputs": [],
   "source": [],
   "metadata": {
    "collapsed": false
   },
   "id": "55583ffb7535ed1a"
  }
 ],
 "metadata": {
  "kernelspec": {
   "display_name": "Python 3",
   "language": "python",
   "name": "python3"
  },
  "language_info": {
   "codemirror_mode": {
    "name": "ipython",
    "version": 2
   },
   "file_extension": ".py",
   "mimetype": "text/x-python",
   "name": "python",
   "nbconvert_exporter": "python",
   "pygments_lexer": "ipython2",
   "version": "2.7.6"
  }
 },
 "nbformat": 4,
 "nbformat_minor": 5
}
