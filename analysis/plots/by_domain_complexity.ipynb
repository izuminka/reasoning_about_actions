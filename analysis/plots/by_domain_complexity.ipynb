{
 "cells": [
  {
   "cell_type": "code",
   "outputs": [],
   "source": [
    "import sys\n",
    "import json\n",
    "sys.path.append('..')\n",
    "from common import *\n",
    "from analysis.model_performances import *\n",
    "from questions_construction.questions import *\n",
    "from copy import deepcopy\n",
    "from helpers import *\n",
    "import pandas as pd\n"
   ],
   "metadata": {
    "collapsed": false,
    "ExecuteTime": {
     "end_time": "2024-10-02T07:09:45.470171Z",
     "start_time": "2024-10-02T07:09:39.924008Z"
    }
   },
   "id": "1581e9208ff09f8e",
   "execution_count": 1
  },
  {
   "cell_type": "code",
   "outputs": [],
   "source": [
    "answer_type = TRUE_FALSE_ANSWER_TYPE# FREE_ANSWER_TYPE #\n",
    "answer_type_ext = f'{answer_type}.{ACCURACY_SCORE_KEY}'\n",
    "\n",
    "# ids_file_name = 'dataset_ids.test.pruned'  # None\n",
    "# save_main_dir = f'{STATISTICS_PATH}.{ids_file_name}'\n",
    "save_main_dir = f'{STATISTICS_PATH}.trial_run.ED'\n",
    "stats_all = collect_stats_all(answer_type_ext, save_main_dir=save_main_dir)\n",
    "print(len(stats_all))\n",
    "plan_lengths = [1,10,19]\n",
    "\n",
    "save_dir = os.path.join(save_main_dir, 'tables', 'by_models')\n",
    "os.makedirs(save_dir, exist_ok=True)"
   ],
   "metadata": {
    "collapsed": false
   },
   "id": "4921ed2ca09c804f",
   "execution_count": null
  },
  {
   "cell_type": "code",
   "outputs": [
    {
     "name": "stdout",
     "output_type": "stream",
     "text": [
      "questions gathered\n"
     ]
    },
    {
     "name": "stderr",
     "output_type": "stream",
     "text": [
      "  3%|▎         | 14/520 [00:00<00:03, 139.43it/s]"
     ]
    },
    {
     "name": "stdout",
     "output_type": "stream",
     "text": [
      "Selected IDs are missing for: gpt-4o, without_random_sub, without_ramifications, few_shot_1, blocksworld, Instance_1\n",
      "Selected IDs are missing for: gpt-4o, without_random_sub, without_ramifications, few_shot_1, blocksworld, Instance_2\n",
      "Selected IDs are missing for: gpt-4o, without_random_sub, without_ramifications, few_shot_1, blocksworld, Instance_3\n",
      "Selected IDs are missing for: gpt-4o, without_random_sub, without_ramifications, few_shot_1, blocksworld, Instance_4\n",
      "Selected IDs are missing for: gpt-4o, without_random_sub, without_ramifications, few_shot_1, blocksworld, Instance_5\n",
      "Selected IDs are missing for: gpt-4o, without_random_sub, without_ramifications, few_shot_1, blocksworld, Instance_6\n",
      "Selected IDs are missing for: gpt-4o, without_random_sub, without_ramifications, few_shot_1, blocksworld, Instance_7\n",
      "Selected IDs are missing for: gpt-4o, without_random_sub, without_ramifications, few_shot_1, blocksworld, Instance_8\n",
      "Selected IDs are missing for: gpt-4o, without_random_sub, without_ramifications, few_shot_1, blocksworld, Instance_9\n",
      "Selected IDs are missing for: gpt-4o, without_random_sub, without_ramifications, few_shot_1, blocksworld, Instance_10\n"
     ]
    },
    {
     "name": "stderr",
     "output_type": "stream",
     "text": [
      "  7%|▋         | 38/520 [00:00<00:02, 195.80it/s]"
     ]
    },
    {
     "name": "stdout",
     "output_type": "stream",
     "text": [
      "Selected IDs are missing for: gpt-4o, without_random_sub, without_ramifications, few_shot_1, depots, Instance_1\n",
      "Selected IDs are missing for: gpt-4o, without_random_sub, without_ramifications, few_shot_1, depots, Instance_2\n",
      "Selected IDs are missing for: gpt-4o, without_random_sub, without_ramifications, few_shot_1, depots, Instance_4\n",
      "Selected IDs are missing for: gpt-4o, without_random_sub, without_ramifications, few_shot_1, depots, Instance_5\n",
      "Selected IDs are missing for: gpt-4o, without_random_sub, without_ramifications, few_shot_1, depots, Instance_6\n",
      "Selected IDs are missing for: gpt-4o, without_random_sub, without_ramifications, few_shot_1, depots, Instance_7\n",
      "Selected IDs are missing for: gpt-4o, without_random_sub, without_ramifications, few_shot_1, depots, Instance_8\n",
      "Selected IDs are missing for: gpt-4o, without_random_sub, without_ramifications, few_shot_1, depots, Instance_9\n",
      "Selected IDs are missing for: gpt-4o, without_random_sub, without_ramifications, few_shot_1, depots, Instance_10\n",
      "Selected IDs are missing for: gpt-4o, without_random_sub, without_ramifications, few_shot_1, driverlog, Instance_1\n"
     ]
    },
    {
     "name": "stderr",
     "output_type": "stream",
     "text": [
      " 12%|█▏        | 61/520 [00:00<00:02, 209.88it/s]"
     ]
    },
    {
     "name": "stdout",
     "output_type": "stream",
     "text": [
      "Selected IDs are missing for: gpt-4o, without_random_sub, without_ramifications, few_shot_1, driverlog, Instance_2\n",
      "Selected IDs are missing for: gpt-4o, without_random_sub, without_ramifications, few_shot_1, driverlog, Instance_3\n",
      "Selected IDs are missing for: gpt-4o, without_random_sub, without_ramifications, few_shot_1, driverlog, Instance_4\n",
      "Selected IDs are missing for: gpt-4o, without_random_sub, without_ramifications, few_shot_1, driverlog, Instance_5\n",
      "Selected IDs are missing for: gpt-4o, without_random_sub, without_ramifications, few_shot_1, driverlog, Instance_6\n",
      "Selected IDs are missing for: gpt-4o, without_random_sub, without_ramifications, few_shot_1, driverlog, Instance_7\n",
      "Selected IDs are missing for: gpt-4o, without_random_sub, without_ramifications, few_shot_1, driverlog, Instance_8\n",
      "Selected IDs are missing for: gpt-4o, without_random_sub, without_ramifications, few_shot_1, driverlog, Instance_9\n",
      "Selected IDs are missing for: gpt-4o, without_random_sub, without_ramifications, few_shot_1, driverlog, Instance_10\n",
      "Selected IDs are missing for: gpt-4o, without_random_sub, without_ramifications, few_shot_1, goldminer, Instance_1\n",
      "Selected IDs are missing for: gpt-4o, without_random_sub, without_ramifications, few_shot_1, goldminer, Instance_2\n",
      "Selected IDs are missing for: gpt-4o, without_random_sub, without_ramifications, few_shot_1, goldminer, Instance_3\n"
     ]
    },
    {
     "name": "stderr",
     "output_type": "stream",
     "text": [
      " 16%|█▌        | 82/520 [00:00<00:02, 195.83it/s]"
     ]
    },
    {
     "name": "stdout",
     "output_type": "stream",
     "text": [
      "Selected IDs are missing for: gpt-4o, without_random_sub, without_ramifications, few_shot_1, goldminer, Instance_4\n",
      "Selected IDs are missing for: gpt-4o, without_random_sub, without_ramifications, few_shot_1, goldminer, Instance_5\n",
      "Selected IDs are missing for: gpt-4o, without_random_sub, without_ramifications, few_shot_1, goldminer, Instance_6\n",
      "Selected IDs are missing for: gpt-4o, without_random_sub, without_ramifications, few_shot_1, goldminer, Instance_7\n",
      "Selected IDs are missing for: gpt-4o, without_random_sub, without_ramifications, few_shot_1, goldminer, Instance_8\n",
      "Selected IDs are missing for: gpt-4o, without_random_sub, without_ramifications, few_shot_1, goldminer, Instance_9\n",
      "Selected IDs are missing for: gpt-4o, without_random_sub, without_ramifications, few_shot_1, goldminer, Instance_10\n",
      "Selected IDs are missing for: gpt-4o, without_random_sub, without_ramifications, few_shot_1, grippers, Instance_1\n",
      "Selected IDs are missing for: gpt-4o, without_random_sub, without_ramifications, few_shot_1, grippers, Instance_2\n"
     ]
    },
    {
     "name": "stderr",
     "output_type": "stream",
     "text": [
      " 20%|██        | 104/520 [00:00<00:02, 200.06it/s]"
     ]
    },
    {
     "name": "stdout",
     "output_type": "stream",
     "text": [
      "Selected IDs are missing for: gpt-4o, without_random_sub, without_ramifications, few_shot_1, grippers, Instance_3\n",
      "Selected IDs are missing for: gpt-4o, without_random_sub, without_ramifications, few_shot_1, grippers, Instance_4\n",
      "Selected IDs are missing for: gpt-4o, without_random_sub, without_ramifications, few_shot_1, grippers, Instance_5\n",
      "Selected IDs are missing for: gpt-4o, without_random_sub, without_ramifications, few_shot_1, grippers, Instance_7\n",
      "Selected IDs are missing for: gpt-4o, without_random_sub, without_ramifications, few_shot_1, grippers, Instance_8\n",
      "Selected IDs are missing for: gpt-4o, without_random_sub, without_ramifications, few_shot_1, grippers, Instance_9\n",
      "Selected IDs are missing for: gpt-4o, without_random_sub, without_ramifications, few_shot_1, grippers, Instance_10\n",
      "Selected IDs are missing for: gpt-4o, without_random_sub, without_ramifications, few_shot_1, logistics, Instance_1\n",
      "Selected IDs are missing for: gpt-4o, without_random_sub, without_ramifications, few_shot_1, logistics, Instance_2\n",
      "Selected IDs are missing for: gpt-4o, without_random_sub, without_ramifications, few_shot_1, logistics, Instance_3\n",
      "Selected IDs are missing for: gpt-4o, without_random_sub, without_ramifications, few_shot_1, logistics, Instance_4\n",
      "Selected IDs are missing for: gpt-4o, without_random_sub, without_ramifications, few_shot_1, logistics, Instance_5\n"
     ]
    },
    {
     "name": "stderr",
     "output_type": "stream",
     "text": [
      " 25%|██▌       | 130/520 [00:00<00:01, 215.09it/s]"
     ]
    },
    {
     "name": "stdout",
     "output_type": "stream",
     "text": [
      "Selected IDs are missing for: gpt-4o, without_random_sub, without_ramifications, few_shot_1, logistics, Instance_6\n",
      "Selected IDs are missing for: gpt-4o, without_random_sub, without_ramifications, few_shot_1, logistics, Instance_7\n",
      "Selected IDs are missing for: gpt-4o, without_random_sub, without_ramifications, few_shot_1, logistics, Instance_8\n",
      "Selected IDs are missing for: gpt-4o, without_random_sub, without_ramifications, few_shot_1, logistics, Instance_9\n",
      "Selected IDs are missing for: gpt-4o, without_random_sub, without_ramifications, few_shot_1, logistics, Instance_10\n",
      "Selected IDs are missing for: gpt-4o, without_random_sub, without_ramifications, few_shot_1, miconic, Instance_1\n",
      "Selected IDs are missing for: gpt-4o, without_random_sub, without_ramifications, few_shot_1, miconic, Instance_2\n",
      "Selected IDs are missing for: gpt-4o, without_random_sub, without_ramifications, few_shot_1, miconic, Instance_3\n",
      "Selected IDs are missing for: gpt-4o, without_random_sub, without_ramifications, few_shot_1, miconic, Instance_4\n",
      "Selected IDs are missing for: gpt-4o, without_random_sub, without_ramifications, few_shot_1, miconic, Instance_5\n"
     ]
    },
    {
     "name": "stderr",
     "output_type": "stream",
     "text": [
      " 30%|███       | 156/520 [00:00<00:01, 227.81it/s]"
     ]
    },
    {
     "name": "stdout",
     "output_type": "stream",
     "text": [
      "Selected IDs are missing for: gpt-4o, without_random_sub, without_ramifications, few_shot_1, miconic, Instance_7\n",
      "Selected IDs are missing for: gpt-4o, without_random_sub, without_ramifications, few_shot_1, miconic, Instance_8\n",
      "Selected IDs are missing for: gpt-4o, without_random_sub, without_ramifications, few_shot_1, miconic, Instance_9\n",
      "Selected IDs are missing for: gpt-4o, without_random_sub, without_ramifications, few_shot_1, miconic, Instance_10\n",
      "Selected IDs are missing for: gpt-4o, without_random_sub, without_ramifications, few_shot_1, mystery, Instance_1\n",
      "Selected IDs are missing for: gpt-4o, without_random_sub, without_ramifications, few_shot_1, mystery, Instance_3\n",
      "Selected IDs are missing for: gpt-4o, without_random_sub, without_ramifications, few_shot_1, mystery, Instance_4\n",
      "Selected IDs are missing for: gpt-4o, without_random_sub, without_ramifications, few_shot_1, mystery, Instance_5\n",
      "Selected IDs are missing for: gpt-4o, without_random_sub, without_ramifications, few_shot_1, mystery, Instance_7\n",
      "Selected IDs are missing for: gpt-4o, without_random_sub, without_ramifications, few_shot_1, mystery, Instance_8\n",
      "Selected IDs are missing for: gpt-4o, without_random_sub, without_ramifications, few_shot_1, mystery, Instance_9\n",
      "Selected IDs are missing for: gpt-4o, without_random_sub, without_ramifications, few_shot_1, mystery, Instance_10\n"
     ]
    },
    {
     "name": "stderr",
     "output_type": "stream",
     "text": [
      " 34%|███▍      | 179/520 [00:00<00:01, 225.34it/s]"
     ]
    },
    {
     "name": "stdout",
     "output_type": "stream",
     "text": [
      "Selected IDs are missing for: gpt-4o, without_random_sub, without_ramifications, few_shot_1, npuzzle, Instance_1\n",
      "Selected IDs are missing for: gpt-4o, without_random_sub, without_ramifications, few_shot_1, npuzzle, Instance_2\n",
      "Selected IDs are missing for: gpt-4o, without_random_sub, without_ramifications, few_shot_1, npuzzle, Instance_3\n",
      "Selected IDs are missing for: gpt-4o, without_random_sub, without_ramifications, few_shot_1, npuzzle, Instance_4\n",
      "Selected IDs are missing for: gpt-4o, without_random_sub, without_ramifications, few_shot_1, npuzzle, Instance_5\n",
      "Selected IDs are missing for: gpt-4o, without_random_sub, without_ramifications, few_shot_1, npuzzle, Instance_6\n",
      "Selected IDs are missing for: gpt-4o, without_random_sub, without_ramifications, few_shot_1, npuzzle, Instance_7\n",
      "Selected IDs are missing for: gpt-4o, without_random_sub, without_ramifications, few_shot_1, npuzzle, Instance_8\n",
      "Selected IDs are missing for: gpt-4o, without_random_sub, without_ramifications, few_shot_1, npuzzle, Instance_10\n"
     ]
    },
    {
     "name": "stderr",
     "output_type": "stream",
     "text": [
      " 39%|███▉      | 202/520 [00:00<00:01, 213.44it/s]"
     ]
    },
    {
     "name": "stdout",
     "output_type": "stream",
     "text": [
      "Selected IDs are missing for: gpt-4o, without_random_sub, without_ramifications, few_shot_1, satellite, Instance_1\n",
      "Selected IDs are missing for: gpt-4o, without_random_sub, without_ramifications, few_shot_1, satellite, Instance_2\n",
      "Selected IDs are missing for: gpt-4o, without_random_sub, without_ramifications, few_shot_1, satellite, Instance_3\n",
      "Selected IDs are missing for: gpt-4o, without_random_sub, without_ramifications, few_shot_1, satellite, Instance_4\n",
      "Selected IDs are missing for: gpt-4o, without_random_sub, without_ramifications, few_shot_1, satellite, Instance_5\n",
      "Selected IDs are missing for: gpt-4o, without_random_sub, without_ramifications, few_shot_1, satellite, Instance_6\n",
      "Selected IDs are missing for: gpt-4o, without_random_sub, without_ramifications, few_shot_1, satellite, Instance_7\n",
      "Selected IDs are missing for: gpt-4o, without_random_sub, without_ramifications, few_shot_1, satellite, Instance_8\n",
      "Selected IDs are missing for: gpt-4o, without_random_sub, without_ramifications, few_shot_1, satellite, Instance_10\n",
      "Selected IDs are missing for: gpt-4o, without_random_sub, without_ramifications, few_shot_1, spanner, Instance_1\n",
      "Selected IDs are missing for: gpt-4o, without_random_sub, without_ramifications, few_shot_1, spanner, Instance_2\n",
      "Selected IDs are missing for: gpt-4o, without_random_sub, without_ramifications, few_shot_1, spanner, Instance_3\n",
      "Selected IDs are missing for: gpt-4o, without_random_sub, without_ramifications, few_shot_1, spanner, Instance_4\n",
      "Selected IDs are missing for: gpt-4o, without_random_sub, without_ramifications, few_shot_1, spanner, Instance_6\n",
      "Selected IDs are missing for: gpt-4o, without_random_sub, without_ramifications, few_shot_1, spanner, Instance_7\n",
      "Selected IDs are missing for: gpt-4o, without_random_sub, without_ramifications, few_shot_1, spanner, Instance_8\n",
      "Selected IDs are missing for: gpt-4o, without_random_sub, without_ramifications, few_shot_1, spanner, Instance_9\n",
      "Selected IDs are missing for: gpt-4o, without_random_sub, without_ramifications, few_shot_1, spanner, Instance_10\n",
      "Selected IDs are missing for: gpt-4o, without_random_sub, without_ramifications, few_shot_1, visitall, Instance_1\n"
     ]
    },
    {
     "name": "stderr",
     "output_type": "stream",
     "text": [
      " 43%|████▎     | 224/520 [00:01<00:01, 213.00it/s]"
     ]
    },
    {
     "name": "stdout",
     "output_type": "stream",
     "text": [
      "Selected IDs are missing for: gpt-4o, without_random_sub, without_ramifications, few_shot_1, visitall, Instance_2\n",
      "Selected IDs are missing for: gpt-4o, without_random_sub, without_ramifications, few_shot_1, visitall, Instance_3\n",
      "Selected IDs are missing for: gpt-4o, without_random_sub, without_ramifications, few_shot_1, visitall, Instance_4\n",
      "Selected IDs are missing for: gpt-4o, without_random_sub, without_ramifications, few_shot_1, visitall, Instance_5\n",
      "Selected IDs are missing for: gpt-4o, without_random_sub, without_ramifications, few_shot_1, visitall, Instance_6\n",
      "Selected IDs are missing for: gpt-4o, without_random_sub, without_ramifications, few_shot_1, visitall, Instance_7\n",
      "Selected IDs are missing for: gpt-4o, without_random_sub, without_ramifications, few_shot_1, visitall, Instance_8\n",
      "Selected IDs are missing for: gpt-4o, without_random_sub, without_ramifications, few_shot_1, visitall, Instance_9\n",
      "Selected IDs are missing for: gpt-4o, without_random_sub, without_ramifications, few_shot_1, visitall, Instance_10\n",
      "Selected IDs are missing for: gpt-4o, without_random_sub, without_ramifications, few_shot_1, zenotravel, Instance_1\n",
      "Selected IDs are missing for: gpt-4o, without_random_sub, without_ramifications, few_shot_1, zenotravel, Instance_2\n",
      "Selected IDs are missing for: gpt-4o, without_random_sub, without_ramifications, few_shot_1, zenotravel, Instance_3\n"
     ]
    },
    {
     "name": "stderr",
     "output_type": "stream",
     "text": [
      " 48%|████▊     | 248/520 [00:01<00:01, 219.23it/s]"
     ]
    },
    {
     "name": "stdout",
     "output_type": "stream",
     "text": [
      "Selected IDs are missing for: gpt-4o, without_random_sub, without_ramifications, few_shot_1, zenotravel, Instance_4\n",
      "Selected IDs are missing for: gpt-4o, without_random_sub, without_ramifications, few_shot_1, zenotravel, Instance_5\n",
      "Selected IDs are missing for: gpt-4o, without_random_sub, without_ramifications, few_shot_1, zenotravel, Instance_10\n"
     ]
    },
    {
     "name": "stderr",
     "output_type": "stream",
     "text": [
      "1040it [00:04, 256.77it/s]                        "
     ]
    },
    {
     "name": "stdout",
     "output_type": "stream",
     "text": [
      "data is gathered\n"
     ]
    },
    {
     "name": "stderr",
     "output_type": "stream",
     "text": [
      "\n"
     ]
    }
   ],
   "source": [
    "questions_dir = f'{DATA_PATH}/questions_m1'\n",
    "# questions_by_id = gather_questions(questions_dir)\n",
    "# sanity_checks()\n",
    "\n",
    "models =  ['gpt-4o']\n",
    "def gather_data_iterator():\n",
    "    for substitutions in SUBSTITUTION_TYPES:\n",
    "        for ramifications in RAMIFICATION_TYPES:\n",
    "            for model_name in models:\n",
    "                for prompt_type in ['few_shot_1']:\n",
    "                    yield substitutions, ramifications, model_name, prompt_type\n",
    "\n",
    "ids_file_name = f'dataset_ids.test.pruned' #'small_questions_ids' #\n",
    "if ids_file_name:\n",
    "    selected_ids = open_jsonl(f'{DATA_PATH}/{ids_file_name}.jsonl')\n",
    "    data_all, missing_data = gather_data(questions_by_id, selected_ids=selected_ids, iterator=gather_data_iterator)\n",
    "    save_main_dir = f'{STATISTICS_PATH}.{ids_file_name}'\n",
    "else:\n",
    "    data_all, missing_data = gather_data(questions_by_id)\n",
    "    save_main_dir = STATISTICS_PATH\n",
    "\n",
    "save_dir = os.path.join(save_main_dir, 'tables', 'by_fluents')\n",
    "os.makedirs(save_dir, exist_ok=True)"
   ],
   "metadata": {
    "collapsed": false,
    "ExecuteTime": {
     "end_time": "2024-06-05T07:25:22.351447Z",
     "start_time": "2024-06-05T07:24:59.286541Z"
    }
   },
   "id": "8fb4feeb322b4ab0",
   "execution_count": 3
  },
  {
   "cell_type": "code",
   "outputs": [
    {
     "data": {
      "text/plain": "{'prompt': \"[DOMAIN DESCRIPTION]\\n\\nPicking up a block is only possible if that block is clear, on the table, and the hand is empty. By picking up that block, it makes that block not present on the table and not clear. It also leads to the block being held and makes the hand not empty. Putting down the block can only be executed if the block is being held. Putting down the block causes that block to be clear and on the table. It also causes the hand to be not holding the block and makes the hand empty. A block can be stacked on the second block if it is being held and the second block is clear. By stacking the first block on the second, it causes the first block to clear and on top of the second block. Meanwhile, the second block is not clear, and the hand becomes empty as it is not holding the block. The block can also be unstacked from the top of the second block only if the hand is empty and the first block is clear and on top of the second block. Unstacking the first block from the second causes the second block to be clear. The first block is now being held, not clear, and not on top of the second block. Furthermore, the hand is not empty.\\n\\nA state is a set of valid properties. Properties may or may not involve negations. Properties of the state can be of 4 types: base, derived, persistent, and static. Base properties of the state are properties that don't depend on other properties. In this domain, they are: a block is on the table and a block is not on the table. Derived properties of the state are properties that depend on other properties. In this domain, they are: a block is clear, hand is empty, a block is not clear and hand is not empty. Self constraint properties of the state are properties that depend on themselves. In this domain, they are: a block is being held, a block is on another block, a block is not being held and a block is not on another block. Static properties of the state are properties that don't change under any action. There are no static properties of the state in this domain. \\n\\n[EXAMPLE 1]\\n\\n[INITIAL CONDITIONS]\\nInitially, Block b1 is located on the table, block b2 is clear, block b2 is on top of block b4, block b3 is on top of block b8, block b4 is on the table, block b5 is located on the table, block b6 is clear, block b6 is on block b3, block b7 is clear, block b7 is on block b1, block b8 is on top of block b5 and hand is empty.\\n\\n[QUESTION]\\nGiven the initial condition, the following actions are performed: block b2 is unstacked from block b4 to reach the current state. In this state, is it True or False that the following properties of the state are correct for b2: block b2 is not on the table?\\nJust provide your answer as TRUE/FALSE.\\n\\n[ANSWER]: True\\n\\n\\nBased on the above examples, answer the below question:\\n\\n[INITIAL CONDITIONS]\\nInitially, Block b1 is on block b4, block b2 is clear, block b2 is on top of block b6, block b3 is clear, block b3 is placed on top of block b5, block b4 is on the table, block b5 is on top of block b7, block b6 is located on the table, block b7 is on block b1 and hand is empty.\\n\\n[QUESTION]\\nGiven the initial condition, the following actions are performed: block b3 is unstacked from top of block b5 to reach the current state. In this state, is it True or False that the following properties of the state are correct for b5: block b5 is not on the table?.\\nJust provide your answer as TRUE/FALSE.\\n\\n[ANSWER]:\",\n 'label': 'True',\n 'id': '820897f8-2533-4808-b61f-377d158d8c60',\n 'response': 'True',\n 'domain_name': 'blocksworld',\n 'instance_id': 'Instance_3',\n 'question_category': 'object_tracking',\n 'question_name': 'iter_1_question_3',\n 'fluent_type': 'base_fluents',\n 'answer_type': 'true_false_answer',\n 'question': 'Given the initial condition, the following actions are performed: block b3 is unstacked from top of block b5 to reach the current state. In this state, is it True or False that the following properties of the state are correct for b5: block b5 is not on the table?',\n 'answer': 'True',\n 'plan_length': 1,\n 'is_pos_fluent_question': False,\n 'model': 'gpt-4o',\n 'prompt_type': 'few_shot_1',\n 'ramification_type': 'without_ramifications',\n 'substitution_type': 'without_random_sub',\n 'unique_id': '820897f8-2533-4808-b61f-377d158d8c60::gpt-4o::few_shot_1::without_ramifications::without_random_sub'}"
     },
     "execution_count": 4,
     "metadata": {},
     "output_type": "execute_result"
    }
   ],
   "source": [
    "data_all[0]"
   ],
   "metadata": {
    "collapsed": false,
    "ExecuteTime": {
     "end_time": "2024-06-05T07:26:04.098365Z",
     "start_time": "2024-06-05T07:26:04.083435Z"
    }
   },
   "id": "a66a8656e3b483ee",
   "execution_count": 4
  },
  {
   "cell_type": "code",
   "outputs": [],
   "source": [
    "with open('fluents_by_domain_complexity.json','r') as f:\n",
    "    fluents_by_domain_complexity = json.load(f)"
   ],
   "metadata": {
    "collapsed": false,
    "ExecuteTime": {
     "end_time": "2024-10-02T07:17:15.114963Z",
     "start_time": "2024-10-02T07:17:15.109977Z"
    }
   },
   "id": "58ba6ee44e25d0dd",
   "execution_count": 2
  },
  {
   "cell_type": "code",
   "outputs": [
    {
     "data": {
      "text/plain": "{'mean': 218.9,\n 'std': 25.327652871910576,\n 'min': 185,\n 'max': 249,\n 'count_by_instance': {'Instance_1': 206,\n  'Instance_2': 249,\n  'Instance_3': 249,\n  'Instance_4': 206,\n  'Instance_5': 206,\n  'Instance_6': 249,\n  'Instance_7': 249,\n  'Instance_8': 195,\n  'Instance_9': 195,\n  'Instance_10': 185}}"
     },
     "execution_count": 7,
     "metadata": {},
     "output_type": "execute_result"
    }
   ],
   "source": [
    "fluents_by_domain_complexity['depots']['total_without_static']"
   ],
   "metadata": {
    "collapsed": false,
    "ExecuteTime": {
     "end_time": "2024-10-02T07:19:08.165306Z",
     "start_time": "2024-10-02T07:19:08.161211Z"
    }
   },
   "id": "6c971e98e6504995",
   "execution_count": 7
  },
  {
   "cell_type": "code",
   "outputs": [],
   "source": [
    "model_name = 'gpt-4o'\n",
    "all_data = open_jsonl(f'{CODE_PATH}/analysis/zero_shot/{model_name}.all.jsonl')\n",
    "all_data = [d for d in all_data if d[OUT_OBJ_DOMAIN_NAME] not in ['goldminer', 'zenotravel', 'miconic', 'npuzzle', 'logistics']]"
   ],
   "metadata": {
    "collapsed": false,
    "ExecuteTime": {
     "end_time": "2024-10-02T07:22:45.787456Z",
     "start_time": "2024-10-02T07:22:45.469959Z"
    }
   },
   "id": "eead123447df3cb0",
   "execution_count": 9
  },
  {
   "cell_type": "code",
   "outputs": [
    {
     "name": "stdout",
     "output_type": "stream",
     "text": [
      "35\n",
      "35\n",
      "42\n",
      "31\n",
      "31\n",
      "34\n",
      "25\n",
      "29\n",
      "33\n",
      "28\n",
      "25\n",
      "36\n",
      "30\n",
      "24\n",
      "27\n",
      "26\n",
      "34\n",
      "34\n",
      "31\n",
      "29\n",
      "29\n",
      "36\n",
      "21\n",
      "24\n"
     ]
    }
   ],
   "source": [
    "ramifications = WITHOUT_RAMIFICATIONS\n",
    "subs = WITHOUT_RANDOM_SUB\n",
    "answer_type = TRUE_FALSE_ANSWER_TYPE\n",
    "prompt_type = 'few_shot_1'\n",
    "plan_length = 19\n",
    "question_category = 'fluent_tracking'#ALL_QUESTION_CATEGORIES_KEY\n",
    "score_type = ACCURACY_SCORE_KEY\n",
    "\n",
    "model_name = 'gpt-4o'\n",
    "\n",
    "domain_instance = []\n",
    "accuracies = []\n",
    "errors = []\n",
    "\n",
    "for domain in DOMAIN_NAMES:\n",
    "\n",
    "    for instance_id in [f'Instance_{i}' for i in range(1, 4)]:\n",
    "        domain_instance.append((domain, instance_id))\n",
    "        scores = [d[IS_RESPONSE_CORRECT_KEY] == TRUE_ANSWER for d in all_data if d[OUT_OBJ_DOMAIN_NAME] == domain and d[OUT_OBJ_INSTANCE_ID] == instance_id and d['plan_length'] == plan_length and d[IS_RESPONSE_CORRECT_KEY] in (TRUE_ANSWER, FALSE_ANSWER)]\n",
    "        print(len(scores))\n",
    "\n",
    "        mean = np.mean(scores)\n",
    "        accuracies.append(mean)\n",
    "        # data = filter_multi_selector_modified(data_all, ramifications, model_name, prompt_type, answer_type, subs, plan_length, [(OUT_OBJ_DOMAIN_NAME, {domain}), (OUT_OBJ_INSTANCE_ID, {instance_id})])\n",
    "        # stats = TrueFalseStatsCustom(data, plan_length, question_category, ramifications, model_name, prompt_type, domain, subs, score_type=score_type)\n",
    "        # res_obj = stats.compute()\n",
    "        # if res_obj:\n",
    "        #     mean = res_obj['result']\n",
    "        #     sem = None\n",
    "        #     if res_obj['result_other']:\n",
    "        #         sem = res_obj['result_other']['sem']\n",
    "        #         accuracies.append(mean)\n",
    "        #         errors.append(sem)\n",
    "        #         domain_instance.append((domain, instance_id))\n",
    "        # else:\n",
    "        #     accuracies.append(None)\n",
    "        #     errors.append(None)"
   ],
   "metadata": {
    "collapsed": false,
    "ExecuteTime": {
     "end_time": "2024-10-02T07:28:11.293073Z",
     "start_time": "2024-10-02T07:28:11.246715Z"
    }
   },
   "id": "dd77fda858739d0e",
   "execution_count": 27
  },
  {
   "cell_type": "code",
   "outputs": [
    {
     "data": {
      "text/plain": "'Instance_2'"
     },
     "execution_count": 28,
     "metadata": {},
     "output_type": "execute_result"
    }
   ],
   "source": [
    "all_data[0][OUT_OBJ_INSTANCE_ID]"
   ],
   "metadata": {
    "collapsed": false,
    "ExecuteTime": {
     "end_time": "2024-10-02T07:28:11.909804Z",
     "start_time": "2024-10-02T07:28:11.905850Z"
    }
   },
   "id": "76c2fed3ca1f58f8",
   "execution_count": 28
  },
  {
   "cell_type": "code",
   "outputs": [
    {
     "ename": "SyntaxError",
     "evalue": "unmatched ']' (3013561085.py, line 1)",
     "output_type": "error",
     "traceback": [
      "\u001B[0;36m  Input \u001B[0;32mIn [29]\u001B[0;36m\u001B[0m\n\u001B[0;31m    ]accuracies\u001B[0m\n\u001B[0m    ^\u001B[0m\n\u001B[0;31mSyntaxError\u001B[0m\u001B[0;31m:\u001B[0m unmatched ']'\n"
     ]
    }
   ],
   "source": [
    "]accuracies"
   ],
   "metadata": {
    "collapsed": false,
    "ExecuteTime": {
     "end_time": "2024-10-02T07:28:12.349332Z",
     "start_time": "2024-10-02T07:28:12.346079Z"
    }
   },
   "id": "1e8462b77a5d6ce6",
   "execution_count": 29
  },
  {
   "cell_type": "code",
   "outputs": [],
   "source": [
    "# fluents_by_domain_complexity.keys()"
   ],
   "metadata": {
    "collapsed": false,
    "ExecuteTime": {
     "end_time": "2024-10-02T07:28:13.149516Z",
     "start_time": "2024-10-02T07:28:13.146730Z"
    }
   },
   "id": "ba78385ed7778a63",
   "execution_count": 30
  },
  {
   "cell_type": "code",
   "outputs": [],
   "source": [
    "# fluents_by_domain_complexity['blocksworld'].keys()"
   ],
   "metadata": {
    "collapsed": false,
    "ExecuteTime": {
     "end_time": "2024-10-02T07:28:14.007178Z",
     "start_time": "2024-10-02T07:28:14.004298Z"
    }
   },
   "id": "78e481beae95b44b",
   "execution_count": 31
  },
  {
   "cell_type": "code",
   "outputs": [],
   "source": [
    "complexity_num = [fluents_by_domain_complexity[domain]['total_without_static']['count_by_instance'][instance] for domain, instance in domain_instance]"
   ],
   "metadata": {
    "collapsed": false,
    "ExecuteTime": {
     "end_time": "2024-10-02T07:28:14.438021Z",
     "start_time": "2024-10-02T07:28:14.435003Z"
    }
   },
   "id": "bfd0e4c80a56db22",
   "execution_count": 32
  },
  {
   "cell_type": "code",
   "outputs": [],
   "source": [
    "# complexity_num"
   ],
   "metadata": {
    "collapsed": false,
    "ExecuteTime": {
     "end_time": "2024-10-02T07:28:15.376852Z",
     "start_time": "2024-10-02T07:28:15.374006Z"
    }
   },
   "id": "d1b25ac6e1afe4cf",
   "execution_count": 33
  },
  {
   "cell_type": "code",
   "outputs": [
    {
     "data": {
      "text/plain": "<matplotlib.collections.PathCollection at 0x7fecfc3be2b0>"
     },
     "execution_count": 34,
     "metadata": {},
     "output_type": "execute_result"
    },
    {
     "data": {
      "text/plain": "<Figure size 432x288 with 1 Axes>",
      "image/png": "[encoded data removed]"
     },
     "metadata": {
      "needs_background": "light"
     },
     "output_type": "display_data"
    }
   ],
   "source": [
    "import matplotlib.pyplot as plt\n",
    "\n",
    "plt.scatter(complexity_num, accuracies)"
   ],
   "metadata": {
    "collapsed": false,
    "ExecuteTime": {
     "end_time": "2024-10-02T07:28:15.748431Z",
     "start_time": "2024-10-02T07:28:15.637336Z"
    }
   },
   "id": "db5565dcf479d98b",
   "execution_count": 34
  },
  {
   "cell_type": "code",
   "outputs": [
    {
     "data": {
      "text/plain": "<matplotlib.collections.PathCollection at 0x7fedb7148af0>"
     },
     "execution_count": 100,
     "metadata": {},
     "output_type": "execute_result"
    },
    {
     "data": {
      "text/plain": "<Figure size 432x288 with 1 Axes>",
      "image/png": "[encoded data removed]"
     },
     "metadata": {
      "needs_background": "light"
     },
     "output_type": "display_data"
    }
   ],
   "source": [
    "N=5\n",
    "x_buckets = [(i,i+N) for i in range(0, 300, N)]\n",
    "# x_buckets = [(0,50), (50,100), (100,150), (150,200), (200,250)]\n",
    "x_by_bucket = {x_b: [] for x_b in x_buckets}\n",
    "y_by_bucket = {x_b: [] for x_b in x_buckets}\n",
    "\n",
    "\n",
    "for x,y in zip(complexity_num, accuracies):\n",
    "    for x_l, x_u in x_buckets:\n",
    "        if x_l <= x < x_u:\n",
    "            x_by_bucket[(x_l, x_u)].append(x_l)\n",
    "            y_by_bucket[(x_l, x_u)].append(y)\n",
    "            break\n",
    "            \n",
    "x_final = [np.mean(x_ls) for x_ls in x_by_bucket.values()]\n",
    "y_final = [np.mean(y_ls) for y_ls in y_by_bucket.values()]\n",
    "\n",
    "plt.scatter(x_final, y_final)"
   ],
   "metadata": {
    "collapsed": false,
    "ExecuteTime": {
     "end_time": "2024-06-05T07:59:34.556726Z",
     "start_time": "2024-06-05T07:59:34.443651Z"
    }
   },
   "id": "1137fb567890d3f6",
   "execution_count": 100
  },
  {
   "cell_type": "code",
   "outputs": [
    {
     "data": {
      "text/plain": "[nan,\n nan,\n nan,\n nan,\n 0.6916666666666668,\n 0.6832579185520363,\n nan,\n 0.8333333333333334,\n 0.6836363636363636,\n 0.7652403152403152,\n 0.6397377622377622,\n 0.7723039215686275,\n 0.6423494941877295,\n 0.6764346764346765,\n 0.7124948359910765,\n nan,\n 0.7093253440139252,\n 0.45,\n 0.6117948717948718,\n 0.5144927536231884,\n 0.6795725108225108,\n 0.6673513849984438,\n 0.875,\n 0.6992035742035743,\n 0.5,\n 0.6493212669683258,\n nan,\n 0.6,\n 0.7787618835412953,\n nan,\n 0.730952380952381,\n nan,\n nan,\n nan,\n nan,\n nan,\n 0.8571428571428571,\n 0.6153846153846154,\n nan,\n 0.45104895104895104,\n nan,\n 0.5555555555555555,\n nan,\n nan,\n nan,\n nan,\n nan,\n nan,\n nan,\n 0.71875,\n nan,\n nan,\n nan,\n nan,\n nan,\n nan,\n nan,\n nan,\n nan,\n nan]"
     },
     "execution_count": 96,
     "metadata": {},
     "output_type": "execute_result"
    }
   ],
   "source": [
    "y_final"
   ],
   "metadata": {
    "collapsed": false,
    "ExecuteTime": {
     "end_time": "2024-06-05T07:58:54.130221Z",
     "start_time": "2024-06-05T07:58:54.125254Z"
    }
   },
   "id": "3b57838671a03f71",
   "execution_count": 96
  },
  {
   "cell_type": "code",
   "outputs": [
    {
     "data": {
      "text/plain": "[(0, 1), (50, 51), (100, 101), (150, 151), (200, 201), (250, 251)]"
     },
     "execution_count": 84,
     "metadata": {},
     "output_type": "execute_result"
    }
   ],
   "source": [
    "x_buckets"
   ],
   "metadata": {
    "collapsed": false,
    "ExecuteTime": {
     "end_time": "2024-06-05T07:55:48.547466Z",
     "start_time": "2024-06-05T07:55:48.543471Z"
    }
   },
   "id": "1b921ad77811d8d0",
   "execution_count": 84
  },
  {
   "cell_type": "code",
   "outputs": [],
   "source": [
    "import matplotlib.pyplot as plt\n",
    "\n",
    "x = complexity_num\n",
    "y =accuracies\n",
    "\n",
    "plt.bar(x,y,align='center') # A bar chart\n",
    "plt.xlabel('Bins')\n",
    "plt.ylabel('Frequency')\n",
    "for i in range(len(y)):\n",
    "    plt.hlines(y[i],0,x[i]) # Here you are drawing the horizontal lines\n",
    "plt.show()"
   ],
   "metadata": {
    "collapsed": false,
    "ExecuteTime": {
     "end_time": "2024-06-05T07:46:42.315860Z",
     "start_time": "2024-06-05T07:46:42.315752Z"
    }
   },
   "id": "658d63d3a6f834c3",
   "execution_count": null
  },
  {
   "cell_type": "code",
   "outputs": [],
   "source": [],
   "metadata": {
    "collapsed": false
   },
   "id": "d18892f8ac5b27a0",
   "execution_count": null
  }
 ],
 "metadata": {
  "kernelspec": {
   "display_name": "Python 3",
   "language": "python",
   "name": "python3"
  },
  "language_info": {
   "codemirror_mode": {
    "name": "ipython",
    "version": 2
   },
   "file_extension": ".py",
   "mimetype": "text/x-python",
   "name": "python",
   "nbconvert_exporter": "python",
   "pygments_lexer": "ipython2",
   "version": "2.7.6"
  }
 },
 "nbformat": 4,
 "nbformat_minor": 5
}
