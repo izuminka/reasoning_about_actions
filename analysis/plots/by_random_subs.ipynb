{
 "cells": [
  {
   "cell_type": "code",
   "execution_count": 1,
   "id": "initial_id",
   "metadata": {
    "collapsed": true,
    "ExecuteTime": {
     "end_time": "2024-05-17T21:53:54.690605Z",
     "start_time": "2024-05-17T21:53:51.906021Z"
    }
   },
   "outputs": [],
   "source": [
    "import sys\n",
    "sys.path.insert(0,'../../')\n",
    "from src.analysis.model_performances import *\n",
    "from helpers import *"
   ]
  },
  {
   "cell_type": "code",
   "outputs": [
    {
     "name": "stderr",
     "output_type": "stream",
     "text": [
      "100%|██████████| 34560/34560 [00:03<00:00, 10899.40it/s]\n"
     ]
    }
   ],
   "source": [
    "answer_type = TRUE_FALSE_ANSWER_TYPE #FREE_ANSWER#\n",
    "score_key = ACCURACY_SCORE_KEY#F1_SCORE_KEY#'accuracy'\n",
    "answer_type_ext = tf_answer_type(score_key = F1_SCORE_KEY)\n",
    "\n",
    "ids_file_name = f'dataset_ids.test'  # None\n",
    "save_main_dir = f'{STATISTICS_PATH}.{ids_file_name}'\n",
    "stats_all = collect_stats_all(tf_answer_type(score_key = score_key), save_main_dir=save_main_dir)\n",
    "\n",
    "save_dir = os.path.join(STATISTICS_PATH, 'plots', 'by_subs')\n",
    "os.makedirs(save_dir, exist_ok=True)"
   ],
   "metadata": {
    "collapsed": false,
    "ExecuteTime": {
     "end_time": "2024-05-17T22:06:19.553604Z",
     "start_time": "2024-05-17T22:06:16.377044Z"
    }
   },
   "id": "1612da7fa320e3bc",
   "execution_count": 15
  },
  {
   "cell_type": "code",
   "outputs": [],
   "source": [
    "model_name = 'gemini'#'Llama-2-7b-chat-hf'#'gemma-2b-it' #'Llama-2-13b-chat-hf' #\n",
    "prompt_type = 'few_shot_1'\n",
    "plan_length = 19\n",
    "question_category = ALL_QUESTION_CATEGORIES_KEY\n",
    "domain = ALL_DOMAINS_KEY\n",
    "categories = SUBSTITUTION_TYPES"
   ],
   "metadata": {
    "collapsed": false,
    "ExecuteTime": {
     "end_time": "2024-05-17T22:06:20.067984Z",
     "start_time": "2024-05-17T22:06:20.064719Z"
    }
   },
   "id": "b6bc53bcf85fda1",
   "execution_count": 16
  },
  {
   "cell_type": "markdown",
   "source": [
    "# By ramifications"
   ],
   "metadata": {
    "collapsed": false
   },
   "id": "66edf81489ad1b"
  },
  {
   "cell_type": "code",
   "outputs": [
    {
     "name": "stdout",
     "output_type": "stream",
     "text": [
      "by prompt type, gemini, few shot 1, ALL DOMAINS, pl-19\n"
     ]
    },
    {
     "data": {
      "text/plain": "<Figure size 432x288 with 0 Axes>"
     },
     "metadata": {},
     "output_type": "display_data"
    },
    {
     "data": {
      "text/plain": "<Figure size 432x288 with 0 Axes>"
     },
     "metadata": {},
     "output_type": "display_data"
    },
    {
     "data": {
      "text/plain": "<Figure size 720x360 with 1 Axes>",
      "image/png": "[encoded data removed]"
     },
     "metadata": {
      "needs_background": "light"
     },
     "output_type": "display_data"
    }
   ],
   "source": [
    "data_all = []\n",
    "for ramifications in RAMIFICATION_TYPES:\n",
    "    plt.figure()\n",
    "    data = {NAME_KEY: ramifications, DATA_KEY: [], ERROR_KEY: []}\n",
    "    for subs in categories:\n",
    "        res = filter_single_selector(stats_all, plan_length, question_category, ramifications, model_name, prompt_type, domain, answer_type, subs) \n",
    "        if res:\n",
    "            data[DATA_KEY].append(res[SK_RESULT])\n",
    "            data[ERROR_KEY].append(res[SK_RESULT_OTHER]['sem'])\n",
    "        else:\n",
    "            data[DATA_KEY].append(None)\n",
    "            data[ERROR_KEY].append(None)\n",
    "    data_all.append(data)\n",
    "\n",
    "plt_n_bars(categories, data_all)\n",
    "plt.ylabel('F1')\n",
    "plt.ylim([0.5,1])\n",
    "save_name =  f'by_prompt_type.{model_name}.{prompt_type}.{domain}.pl-{plan_length}'\n",
    "save_path = os.path.join(save_dir, f'{save_name}.pdf')\n",
    "# plt.savefig(save_path, transparent=True, format=\"pdf\", bbox_inches='tight')\n",
    "\n",
    "print(save_name.replace('.',', ').replace('_',' '))"
   ],
   "metadata": {
    "collapsed": false,
    "ExecuteTime": {
     "end_time": "2024-05-17T22:06:21.239283Z",
     "start_time": "2024-05-17T22:06:21.075587Z"
    }
   },
   "id": "aaf02ad1f3bad971",
   "execution_count": 17
  },
  {
   "cell_type": "code",
   "outputs": [
    {
     "data": {
      "text/plain": "{'result': 0.601356260595786,\n 'stats': {'num_original': 12411,\n  'num_corrupted': 24,\n  'num_not_corrupted': 12387,\n  'both_present': 0,\n  'both_absent': 2,\n  'both_present_%': 0.0,\n  'both_absent_%': 0.0001614595947364172},\n 'model': 'gemini',\n 'prompt_type': 'few_shot_1',\n 'ramification_type': 'with_ramifications',\n 'substitution_type': 'with_random_sub',\n 'domain_name': 'ALL_DOMAINS',\n 'plan_length': 19,\n 'question_category': 'ALL_CATEGORIES',\n 'answer_type': 'true_false_answer'}"
     },
     "execution_count": 7,
     "metadata": {},
     "output_type": "execute_result"
    }
   ],
   "source": [
    "res"
   ],
   "metadata": {
    "collapsed": false,
    "ExecuteTime": {
     "end_time": "2024-05-17T21:56:29.998910Z",
     "start_time": "2024-05-17T21:56:29.994195Z"
    }
   },
   "id": "e4974249e59aee4c",
   "execution_count": 7
  },
  {
   "cell_type": "code",
   "outputs": [],
   "source": [],
   "metadata": {
    "collapsed": false
   },
   "id": "75e13b0a738d7694"
  }
 ],
 "metadata": {
  "kernelspec": {
   "display_name": "Python 3",
   "language": "python",
   "name": "python3"
  },
  "language_info": {
   "codemirror_mode": {
    "name": "ipython",
    "version": 2
   },
   "file_extension": ".py",
   "mimetype": "text/x-python",
   "name": "python",
   "nbconvert_exporter": "python",
   "pygments_lexer": "ipython2",
   "version": "2.7.6"
  }
 },
 "nbformat": 4,
 "nbformat_minor": 5
}
