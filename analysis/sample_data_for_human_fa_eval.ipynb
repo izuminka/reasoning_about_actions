{
 "cells": [
  {
   "cell_type": "code",
   "execution_count": 1,
   "id": "initial_id",
   "metadata": {
    "collapsed": true,
    "ExecuteTime": {
     "end_time": "2024-06-04T21:34:18.845649Z",
     "start_time": "2024-06-04T21:34:12.288931Z"
    }
   },
   "outputs": [],
   "source": [
    "import sys\n",
    "sys.path.insert(0, '../../')\n",
    "from questions_construction.main import PLAN_LENGTHS, QUESTION_CATEGORIES\n",
    "from questions_construction.domains import DOMAIN_NAMES\n",
    "\n",
    "from analysis.model_performances import *\n",
    "from common import *\n",
    "import random"
   ]
  },
  {
   "cell_type": "code",
   "outputs": [],
   "source": [
    "def gather_data_iterator():\n",
    "    for substitutions in [WITHOUT_RANDOM_SUB]:\n",
    "        for ramifications in [WITHOUT_RAMIFICATIONS]:\n",
    "            for model_name in ['gpt-4o', 'gemini']:\n",
    "                for prompt_type in ['few_shot_1']:\n",
    "                    yield substitutions, ramifications, model_name, prompt_type"
   ],
   "metadata": {
    "collapsed": false,
    "ExecuteTime": {
     "end_time": "2024-06-04T21:34:19.809149Z",
     "start_time": "2024-06-04T21:34:19.801802Z"
    }
   },
   "id": "fe24b9f4c1e120ad",
   "execution_count": 2
  },
  {
   "cell_type": "code",
   "outputs": [
    {
     "name": "stdout",
     "output_type": "stream",
     "text": [
      "questions gathered\n"
     ]
    },
    {
     "name": "stderr",
     "output_type": "stream",
     "text": [
      "520it [00:30, 17.28it/s]                          "
     ]
    },
    {
     "name": "stdout",
     "output_type": "stream",
     "text": [
      "data is gathered\n",
      "checks passed\n"
     ]
    },
    {
     "name": "stderr",
     "output_type": "stream",
     "text": [
      "\n"
     ]
    },
    {
     "data": {
      "text/plain": "True"
     },
     "execution_count": 3,
     "metadata": {},
     "output_type": "execute_result"
    }
   ],
   "source": [
    "questions_dir = f'{DATA_PATH}/questions_m1'\n",
    "ids_file_name = 'dataset_ids.test.pruned'\n",
    "\n",
    "selected_ids = open_jsonl(f'{DATA_PATH}/{ids_file_name}.jsonl') + open_jsonl(f'{DATA_PATH}/questions.composite.test_ids.jsonl')\n",
    "\n",
    "questions_by_id = gather_questions(questions_dir, selected_ids)\n",
    "data_all, missing_data = gather_data(questions_by_id, selected_ids=selected_ids, iterator=gather_data_iterator)\n",
    "save_main_dir = f'{STATISTICS_PATH}.{ids_file_name}'\n",
    "sanity_checks(questions_by_id, data_all)"
   ],
   "metadata": {
    "collapsed": false,
    "ExecuteTime": {
     "end_time": "2024-06-04T21:35:53.601404Z",
     "start_time": "2024-06-04T21:34:21.087354Z"
    }
   },
   "id": "6a4e1b71f0858b6e",
   "execution_count": 3
  },
  {
   "cell_type": "code",
   "outputs": [],
   "source": [
    "def prepare_dict(data):\n",
    "    for d in data:\n",
    "        d['model_parsed_response'] = find_text_within_brackets(d['response'])\n",
    "        d['true_answer'] = d.pop('answer')\n",
    "        for k in ['question', 'true_answer', 'model_parsed_response']:\n",
    "            t_tmp = d.pop(k)\n",
    "            d[k] = t_tmp\n",
    "        \n",
    "    return data\n",
    "\n",
    "answer_type = FREE_ANSWER_TYPE\n",
    "ramifications = WITHOUT_RAMIFICATIONS\n",
    "substitutions = WITHOUT_RANDOM_SUB \n",
    "prompt_type = 'few_shot_1'\n",
    "plan_length = 19\n",
    "domain = ALL_DOMAINS_KEY\n",
    "\n",
    "NUM_SAMPLES = 20\n",
    "\n",
    "gemini_by_categories = {}\n",
    "gpt_by_categories = {}\n",
    "for question_category in QUESTION_CATEGORIES[-1:]:\n",
    "    data_gpt = filter_multi_selector(data_all, plan_length, question_category, ramifications, 'gpt-4o', prompt_type, domain,\n",
    "                              answer_type, substitutions)\n",
    "    data_gemini = filter_multi_selector(data_all, plan_length, question_category, ramifications, 'gemini', prompt_type, domain,\n",
    "                              answer_type, substitutions)\n",
    "    common_ids = list(set([d[OUT_OBJ_ID] for d in data_gpt]) & set([d[OUT_OBJ_ID] for d in data_gemini]))\n",
    "    assert len(common_ids) > NUM_SAMPLES \n",
    "    \n",
    "    \n",
    "    random.shuffle(common_ids)\n",
    "    common_ids = common_ids[:NUM_SAMPLES]\n",
    "    \n",
    "    gemini_by_categories[question_category] = prepare_dict([d for d in data_gemini if d[OUT_OBJ_ID] in common_ids])\n",
    "    gpt_by_categories[question_category] =  prepare_dict([d for d in data_gpt if d[OUT_OBJ_ID] in common_ids])"
   ],
   "metadata": {
    "collapsed": false,
    "ExecuteTime": {
     "end_time": "2024-06-04T21:35:59.554167Z",
     "start_time": "2024-06-04T21:35:59.508129Z"
    }
   },
   "id": "e38fcf67834e8c8b",
   "execution_count": 4
  },
  {
   "cell_type": "code",
   "outputs": [],
   "source": [
    "with open('human_eval_data.composite.gemini.json', 'w') as f:\n",
    "    json.dump(gemini_by_categories, f)\n",
    "\n",
    "with open('human_eval_data.composite.gpt.json', 'w') as f:\n",
    "    json.dump(gpt_by_categories, f)\n"
   ],
   "metadata": {
    "collapsed": false,
    "ExecuteTime": {
     "end_time": "2024-06-04T21:36:27.301814Z",
     "start_time": "2024-06-04T21:36:27.288089Z"
    }
   },
   "id": "2d3f71f5b61593f6",
   "execution_count": 6
  },
  {
   "cell_type": "code",
   "outputs": [],
   "source": [
    "# with open('human_eval_data.gemini.json', 'w') as f:\n",
    "#     json.dump(gemini_by_categories, f)\n",
    "# \n",
    "# with open('human_eval_data.gpt.json', 'w') as f:\n",
    "#     json.dump(gpt_by_categories, f)\n",
    "#     "
   ],
   "metadata": {
    "collapsed": false
   },
   "id": "981c36be474a9fc",
   "execution_count": null
  },
  {
   "cell_type": "code",
   "outputs": [],
   "source": [],
   "metadata": {
    "collapsed": false
   },
   "id": "262fbff26664edab"
  }
 ],
 "metadata": {
  "kernelspec": {
   "display_name": "Python 3",
   "language": "python",
   "name": "python3"
  },
  "language_info": {
   "codemirror_mode": {
    "name": "ipython",
    "version": 2
   },
   "file_extension": ".py",
   "mimetype": "text/x-python",
   "name": "python",
   "nbconvert_exporter": "python",
   "pygments_lexer": "ipython2",
   "version": "2.7.6"
  }
 },
 "nbformat": 4,
 "nbformat_minor": 5
}
