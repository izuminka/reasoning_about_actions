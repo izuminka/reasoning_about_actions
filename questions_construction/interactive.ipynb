{
 "cells": [
  {
   "cell_type": "code",
   "execution_count": 79,
   "metadata": {
    "ExecuteTime": {
     "end_time": "2024-02-10T23:48:37.415968Z",
     "start_time": "2024-02-10T23:48:37.398499Z"
    }
   },
   "outputs": [],
   "source": [
    "from common import *\n",
    "from domains import *\n",
    "\n",
    "multiplicity = 1\n",
    "\n",
    "\n",
    "instance_name = 'Instance_6'\n",
    "\n",
    "domain_name = 'blocksworld'\n",
    "jsonl_instance = open_jsonl(STATES_ACTIONS_PATH+f'/{domain_name}/{instance_name}.jsonl')\n",
    "domain_class = Blocksworld()\n",
    "questions = []"
   ]
  },
  {
   "cell_type": "code",
   "execution_count": 80,
   "metadata": {
    "ExecuteTime": {
     "end_time": "2024-02-10T23:48:37.630751Z",
     "start_time": "2024-02-10T23:48:37.606382Z"
    },
    "collapsed": false
   },
   "outputs": [
    {
     "data": {
      "text/plain": [
       "20"
      ]
     },
     "execution_count": 80,
     "metadata": {},
     "output_type": "execute_result"
    }
   ],
   "source": [
    "# multiplicity = 2 # fails for more than 2\n",
    "qa_constructor = ObjectTrackingQuestions(jsonl_instance, domain_class, instance_name)\n",
    "questions += qa_constructor.create_questions(multiplicity=multiplicity)\n",
    "len(questions)"
   ]
  },
  {
   "cell_type": "code",
   "execution_count": 81,
   "metadata": {
    "ExecuteTime": {
     "end_time": "2024-02-10T23:48:37.804822Z",
     "start_time": "2024-02-10T23:48:37.784402Z"
    },
    "collapsed": false
   },
   "outputs": [
    {
     "data": {
      "text/plain": [
       "50"
      ]
     },
     "execution_count": 81,
     "metadata": {},
     "output_type": "execute_result"
    }
   ],
   "source": [
    "qa_constructor = FluentTrackingQuestions(jsonl_instance, domain_class, instance_name)\n",
    "questions += qa_constructor.create_questions(multiplicity=multiplicity)\n",
    "len(questions)"
   ]
  },
  {
   "cell_type": "code",
   "execution_count": 82,
   "metadata": {
    "ExecuteTime": {
     "end_time": "2024-02-10T23:48:37.998615Z",
     "start_time": "2024-02-10T23:48:37.965159Z"
    },
    "collapsed": false
   },
   "outputs": [
    {
     "data": {
      "text/plain": [
       "70"
      ]
     },
     "execution_count": 82,
     "metadata": {},
     "output_type": "execute_result"
    }
   ],
   "source": [
    "qa_constructor = StateTrackingQuestions(jsonl_instance, domain_class, instance_name)\n",
    "questions += qa_constructor.create_questions(multiplicity=multiplicity)\n",
    "len(questions)"
   ]
  },
  {
   "cell_type": "code",
   "execution_count": 83,
   "metadata": {
    "ExecuteTime": {
     "end_time": "2024-02-10T23:48:38.179250Z",
     "start_time": "2024-02-10T23:48:38.157849Z"
    },
    "collapsed": false
   },
   "outputs": [
    {
     "data": {
      "text/plain": [
       "90"
      ]
     },
     "execution_count": 83,
     "metadata": {},
     "output_type": "execute_result"
    }
   ],
   "source": [
    "qa_constructor = EffectsQuestions(jsonl_instance, domain_class, instance_name)\n",
    "questions += qa_constructor.create_questions(multiplicity=multiplicity)\n",
    "len(questions)"
   ]
  },
  {
   "cell_type": "code",
   "execution_count": 84,
   "metadata": {
    "ExecuteTime": {
     "end_time": "2024-02-10T23:48:38.330989Z",
     "start_time": "2024-02-10T23:48:38.312745Z"
    },
    "collapsed": false
   },
   "outputs": [],
   "source": [
    "save_dir = QUESTIONS_PATH+f'/{domain_name}'\n",
    "if not os.path.exists(save_dir):\n",
    "    os.makedirs(save_dir)\n",
    "save_jsonl(questions, f'{save_dir}/{instance_name}.jsonl')"
   ]
  },
  {
   "cell_type": "code",
   "execution_count": null,
   "metadata": {
    "collapsed": false
   },
   "outputs": [],
   "source": []
  },
  {
   "cell_type": "code",
   "execution_count": null,
   "metadata": {},
   "outputs": [
    {
     "ename": "",
     "evalue": "",
     "output_type": "error",
     "traceback": [
      "\u001b[1;31mRunning cells with '/usr/bin/python' requires the ipykernel package.\n",
      "\u001b[1;31mRun the following command to install 'ipykernel' into the Python environment. \n",
      "\u001b[1;31mCommand: '/usr/bin/python -m pip install ipykernel -U --user --force-reinstall'"
     ]
    }
   ],
   "source": [
    "with open('/data_5/data/shri/reasoning_about_actions/data/questions/blocksworld/Instance_1.jsonl', 'r') as f:\n",
    "    data = f.readlines()\n",
    "question_jsonl = [json.loads(x) for x in data]"
   ]
  }
 ],
 "metadata": {
  "kernelspec": {
   "display_name": "base",
   "language": "python",
   "name": "python3"
  },
  "language_info": {
   "codemirror_mode": {
    "name": "ipython",
    "version": 3
   },
   "file_extension": ".py",
   "mimetype": "text/x-python",
   "name": "python",
   "nbconvert_exporter": "python",
   "pygments_lexer": "ipython3",
   "version": "2.7.5"
  }
 },
 "nbformat": 4,
 "nbformat_minor": 2
}
