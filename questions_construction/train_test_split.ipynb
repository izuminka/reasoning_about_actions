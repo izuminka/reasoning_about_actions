{
 "cells": [
  {
   "cell_type": "code",
   "outputs": [],
   "source": [
    "import matplotlib.pyplot as plt\n",
    "import itertools\n",
    "import pandas as pd\n",
    "\n",
    "import sys\n",
    "sys.path.insert(0, '../../')\n",
    "from analysis.model_performances import * #gather_questions, TRANSPORTATION_DOMAINS, NON_TRANSPORTATION_DOMAINS\n",
    "from common import *\n",
    "import pandas as pd"
   ],
   "metadata": {
    "collapsed": false,
    "ExecuteTime": {
     "end_time": "2024-09-25T07:54:31.384075Z",
     "start_time": "2024-09-25T07:54:26.114838Z"
    }
   },
   "id": "c8d9a5ad8ad5faf0",
   "execution_count": 1
  },
  {
   "cell_type": "code",
   "outputs": [],
   "source": [
    "instances_id_ls = [f'Instance_{i}' for i in range(1, 5)]\n",
    "prob_of_getting_none = 0.05"
   ],
   "metadata": {
    "collapsed": false,
    "ExecuteTime": {
     "end_time": "2024-09-25T07:54:34.324673Z",
     "start_time": "2024-09-25T07:54:34.321598Z"
    }
   },
   "id": "8d625f4cf04e06df",
   "execution_count": 2
  },
  {
   "cell_type": "code",
   "outputs": [],
   "source": [
    "def is_good_qa(question_info, include_params, exclude_params):\n",
    "    for k, v in exclude_params.items():\n",
    "        if question_info[k] == v:\n",
    "            return False\n",
    "        \n",
    "    for k, v in include_params.items():\n",
    "        if question_info[k] != v:\n",
    "            return False\n",
    "    return True\n",
    "\n",
    "def tokens_in_text(text, chars_per_token=4):\n",
    "    return len(text)/chars_per_token\n",
    "\n",
    "\n",
    "def sample_data(data_all, questions_by_id, selected_plan_length, instances_id_ls):\n",
    "    selected_data = []\n",
    "    exclude_params = {}\n",
    "    include_params = {'plan_length': selected_plan_length}\n",
    "    for d in data_all:\n",
    "        if d[OUT_OBJ_INSTANCE_ID] not in instances_id_ls:\n",
    "            continue\n",
    "        question_id = d[OUT_OBJ_ID]\n",
    "        if question_id not in questions_by_id:\n",
    "            raise ValueError\n",
    "        question_info = questions_by_id[question_id]\n",
    "        if is_good_qa(question_info, include_params, exclude_params):\n",
    "            selected_data.append(d)\n",
    "    random.shuffle(selected_data)\n",
    "    return selected_data\n",
    "\n",
    "def output_keys(questions_dict):\n",
    "    q = questions_dict\n",
    "    key1 = q[OUT_OBJ_QUESTION_CATEGORY]\n",
    "    if q[OUT_OBJ_ANSWER_TYPE] == TRUE_FALSE_ANSWER_TYPE:\n",
    "        if q[OUT_OBJ_ANSWER] == 'True':\n",
    "            key2 = 'true'\n",
    "        else:\n",
    "            key2 = 'false'\n",
    "    else:\n",
    "        key2 = 'free'\n",
    "        \n",
    "    key3 = q[OUT_OBJ_FLUENT_TYPE]\n",
    "        \n",
    "    if q[OUT_OBJ_IS_POS_FLUENT_QUESTION] == POS_FLUENTS_QUESTION:\n",
    "        key4 = 'POS'\n",
    "    elif q[OUT_OBJ_IS_POS_FLUENT_QUESTION] == NEG_FLUENTS_QUESTION:\n",
    "        key4 = 'NEG'\n",
    "    else:\n",
    "        key4 = 'POS+NEG'\n",
    "        \n",
    "    if q[OUT_OBJ_DOMAIN_NAME] in TRANSPORTATION_DOMAINS:\n",
    "        key5 = TRANSPORTATION_DOMAIN_KEY\n",
    "    else:\n",
    "        key5 = NON_TRANSPORTATION_DOMAIN_KEY\n",
    "    return key1, key2, key3, key4, key5\n",
    "\n",
    "\n",
    "\n",
    "def filter_by_length(questions_by_id, cutoff):\n",
    "    ids_filtered = []\n",
    "    for id, d in tqdm(questions_by_id.items()):\n",
    "        max_len = 0\n",
    "        for subs in [WITH_RANDOM_SUB, WITHOUT_RANDOM_SUB]:\n",
    "            if subs not in d:\n",
    "                continue\n",
    "            q_dict = d[subs]\n",
    "            max_len = max(max_len, tokens_in_text(q_dict[OUT_OBJ_QUESTION] + q_dict[OUT_OBJ_ANSWER]))\n",
    "        if max_len <= cutoff:\n",
    "            ids_filtered.append(id)\n",
    "    return ids_filtered\n",
    " "
   ],
   "metadata": {
    "collapsed": false,
    "ExecuteTime": {
     "end_time": "2024-09-25T07:54:36.186870Z",
     "start_time": "2024-09-25T07:54:36.176378Z"
    }
   },
   "id": "a12afe2f0c4f818d",
   "execution_count": 3
  },
  {
   "cell_type": "code",
   "outputs": [
    {
     "name": "stdout",
     "output_type": "stream",
     "text": [
      "questions gathered\n"
     ]
    }
   ],
   "source": [
    "questions_dir = f'{DATA_PATH}/questions'\n",
    "questions_by_id = gather_questions_old_format(questions_dir)"
   ],
   "metadata": {
    "collapsed": false,
    "ExecuteTime": {
     "end_time": "2024-09-25T07:54:50.697065Z",
     "start_time": "2024-09-25T07:54:37.850673Z"
    }
   },
   "id": "5895021163bacec4",
   "execution_count": 4
  },
  {
   "cell_type": "markdown",
   "source": [
    "# Data Stats"
   ],
   "metadata": {
    "collapsed": false
   },
   "id": "9f821a5136ec9e6a"
  },
  {
   "cell_type": "code",
   "outputs": [],
   "source": [
    "qa_len_ls = []\n",
    "for q_id, d in questions_by_id.items():\n",
    "    d_sub_type = d[WITHOUT_RANDOM_SUB]\n",
    "    qa_len_ls.append(len(d_sub_type[OUT_OBJ_QUESTION] + d_sub_type[OUT_OBJ_ANSWER]))"
   ],
   "metadata": {
    "collapsed": false,
    "ExecuteTime": {
     "end_time": "2024-09-25T07:54:51.124266Z",
     "start_time": "2024-09-25T07:54:50.698837Z"
    }
   },
   "id": "71582863edce1502",
   "execution_count": 5
  },
  {
   "cell_type": "code",
   "outputs": [
    {
     "data": {
      "text/plain": "(0.0, 39918.16951087397)"
     },
     "execution_count": 6,
     "metadata": {},
     "output_type": "execute_result"
    },
    {
     "data": {
      "text/plain": "<Figure size 432x288 with 1 Axes>",
      "image/png": "[encoded data removed]"
     },
     "metadata": {
      "needs_background": "light"
     },
     "output_type": "display_data"
    }
   ],
   "source": [
    "stats = {}\n",
    "stats['mean'] = np.mean(qa_len_ls)\n",
    "stats['median'] = np.median(qa_len_ls)\n",
    "stats['std'] = np.std(qa_len_ls)\n",
    "stats['min'] = np.min(qa_len_ls)\n",
    "stats['max'] = np.max(qa_len_ls)\n",
    "\n",
    "CUTOFF_CHAR_LEN = 1500*4 #(-stats['mean']*np.log(1-0.85))\n",
    "\n",
    "plt.hist(qa_len_ls, bins=200)\n",
    "plt.axvline(x=stats['median'], color='blue', linestyle='--', linewidth=2, label='median')\n",
    "plt.axvline(x=stats['mean'], color='black', linestyle='--', linewidth=2, label='mean')\n",
    "plt.axvline(x=(-stats['mean']*np.log(1-0.85)), linestyle='--', linewidth=2, label='85%')\n",
    "plt.axvline(x=CUTOFF_CHAR_LEN, color='r', linestyle='--', linewidth=2, label='cutoff')\n",
    "plt.legend()\n",
    "plt.xlim(0, stats['mean']+4*stats['std'])"
   ],
   "metadata": {
    "collapsed": false,
    "ExecuteTime": {
     "end_time": "2024-09-25T07:54:52.411640Z",
     "start_time": "2024-09-25T07:54:51.126129Z"
    }
   },
   "id": "adbed4f5ebd010d1",
   "execution_count": 6
  },
  {
   "cell_type": "code",
   "outputs": [
    {
     "data": {
      "text/plain": "1500.0"
     },
     "execution_count": 7,
     "metadata": {},
     "output_type": "execute_result"
    }
   ],
   "source": [
    "CUTOFF_CHAR_LEN/4"
   ],
   "metadata": {
    "collapsed": false,
    "ExecuteTime": {
     "end_time": "2024-09-25T07:54:52.418370Z",
     "start_time": "2024-09-25T07:54:52.414292Z"
    }
   },
   "id": "a6e37786e44baae7",
   "execution_count": 7
  },
  {
   "cell_type": "markdown",
   "source": [
    "\n",
    "# Filter"
   ],
   "metadata": {
    "collapsed": false
   },
   "id": "84fea22cac1dbc17"
  },
  {
   "cell_type": "code",
   "outputs": [
    {
     "name": "stderr",
     "output_type": "stream",
     "text": [
      "100%|██████████| 372506/372506 [00:01<00:00, 225976.77it/s]\n"
     ]
    }
   ],
   "source": [
    "#TODO\n",
    "# split by Instance 1-5 \"instance in domain\", 6-10 \"instance out of domain\" TRAIN\n",
    "# Insure not a lot of Nones\n",
    "def keep_some_nones(questions_by_id, ids_filtered, cutoff_prob):\n",
    "    result_ids = []\n",
    "    for k in ids_filtered:\n",
    "        q = questions_by_id[k][WITHOUT_RANDOM_SUB]\n",
    "        if q[OUT_OBJ_ANSWER] == 'None' and random.random() >= cutoff_prob:\n",
    "                continue\n",
    "        result_ids.append(k)\n",
    "    return result_ids\n",
    "\n",
    "def none_frequency(questions_no_sub_by_id):\n",
    "    total = 0\n",
    "    none = 0\n",
    "    for k, q in questions_no_sub_by_id.items():\n",
    "        # q = d[WITHOUT_RANDOM_SUB]\n",
    "        if q[OUT_OBJ_ANSWER_TYPE] == FREE_ANSWER_TYPE:\n",
    "            total += 1\n",
    "        if q[OUT_OBJ_ANSWER] == 'None':\n",
    "            none += 1\n",
    "    return none/total\n",
    "\n",
    "ids_filtered1 = filter_by_length(questions_by_id, CUTOFF_CHAR_LEN)\n",
    "\n",
    "none_freq = none_frequency({id: questions_by_id[id][WITHOUT_RANDOM_SUB] for id in ids_filtered1})\n",
    "ids_filtered2 = keep_some_nones(questions_by_id, ids_filtered1, prob_of_getting_none/(none_freq*2.5))\n",
    "# ids_filtered2 = ids_filtered1\n",
    "save_jsonl(ids_filtered2, 'filtered_ids.jsonl')\n",
    "\n",
    "questions_no_sub_by_id = {id: questions_by_id[id][WITHOUT_RANDOM_SUB] for id in ids_filtered2}\n",
    "data_domain_all = {domain: [d for d in questions_no_sub_by_id.values() if d[OUT_OBJ_DOMAIN_NAME] == domain] for domain in DOMAIN_NAMES}"
   ],
   "metadata": {
    "collapsed": false,
    "ExecuteTime": {
     "end_time": "2024-09-25T07:55:07.104590Z",
     "start_time": "2024-09-25T07:55:02.907462Z"
    }
   },
   "id": "6380f06fce5e4b2b",
   "execution_count": 8
  },
  {
   "cell_type": "code",
   "outputs": [
    {
     "data": {
      "text/plain": "0.021115305042720193"
     },
     "execution_count": 9,
     "metadata": {},
     "output_type": "execute_result"
    }
   ],
   "source": [
    "none_frequency(questions_no_sub_by_id)"
   ],
   "metadata": {
    "collapsed": false,
    "ExecuteTime": {
     "end_time": "2024-09-25T07:55:18.482596Z",
     "start_time": "2024-09-25T07:55:17.626602Z"
    }
   },
   "id": "f7741847f1420243",
   "execution_count": 9
  },
  {
   "cell_type": "markdown",
   "source": [
    "# Sample"
   ],
   "metadata": {
    "collapsed": false
   },
   "id": "acc327acf1bcb90d"
  },
  {
   "cell_type": "code",
   "outputs": [],
   "source": [
    "def is_restricted(key1, key2, key3, key4):\n",
    "    if key1 == 'fluent_tracking' and key2 != 'free' and key4 == 'POS+NEG':\n",
    "        return True\n",
    "    # if key1 == 'effects' and key2 == 'free' and not (key3 == FLUENT_TYPES_ALL and key4 == 'POS+NEG'):\n",
    "    #     return True\n",
    "    # if key1 == 'state_tracking' and key2 == 'free' and not (key3 == FLUENT_TYPES_ALL and key4 == 'POS+NEG'):\n",
    "    #     return True\n",
    "    return False   \n",
    "\n",
    "def sample_test_data(data_domain_all, questions_no_sub_by_id, selected_plan_length, instances_id_ls):\n",
    "    MAX_PER_CATEGORY = 12 #12 #110 # 100 #100\n",
    "        \n",
    "    # PREPARE DATA\n",
    "    data_domain_sample = {domain: sample_data(data_domain_all[domain], questions_no_sub_by_id, selected_plan_length, instances_id_ls) for domain in DOMAIN_NAMES}\n",
    "    # for k,v in data_domain_sample.items():\n",
    "    #     print(k, len(v))\n",
    "    min_samples = min([len(v) for v in data_domain_sample.values() if len(v) > 100])\n",
    "    data_all = []\n",
    "    for k, v in data_domain_sample.items():\n",
    "        data_all.extend(v[:min_samples])\n",
    "    random.shuffle(data_all)\n",
    "    \n",
    "    \n",
    "    selected_ids = []\n",
    "    data_by_category = defaultdict(list)\n",
    "    for d in data_all:\n",
    "        question_id = d[OUT_OBJ_ID]\n",
    "        q = questions_no_sub_by_id[question_id]\n",
    "        \n",
    "        key1, key2, key3, key4, key5 = output_keys(q)\n",
    "        key_all = (key1, key2, key3, key4, key5)\n",
    "        if is_restricted(key1, key2, key3, key4):\n",
    "            continue\n",
    "        max_per_category = MAX_PER_CATEGORY\n",
    "        if key2 == 'free':\n",
    "            max_per_category = 3*MAX_PER_CATEGORY\n",
    "            # if q[OUT_OBJ_ANSWER] == 'None':\n",
    "            #     if random.random() > prob_of_getting_none:\n",
    "            #         continue\n",
    "\n",
    "        if key1 == 'action_executability':\n",
    "            if key2 != 'free':\n",
    "                max_per_category = 3.6*MAX_PER_CATEGORY\n",
    "\n",
    "        if key1 == 'effects':\n",
    "            if key2 != 'free':\n",
    "                max_per_category = 5*MAX_PER_CATEGORY\n",
    "            else:\n",
    "                max_per_category = MAX_PER_CATEGORY\n",
    "\n",
    "        if key1 == 'fluent_tracking':\n",
    "            if key2 != 'free':\n",
    "                max_per_category = MAX_PER_CATEGORY/2.4\n",
    "            else:\n",
    "                max_per_category = MAX_PER_CATEGORY\n",
    "\n",
    "        if key1 == 'composite':\n",
    "            if key2 != 'free':\n",
    "                max_per_category = MAX_PER_CATEGORY*2.5\n",
    "            else:\n",
    "                max_per_category = MAX_PER_CATEGORY*15\n",
    "            \n",
    "            if key3 == BASE_FLUENTS:\n",
    "                max_per_category = max_per_category*10\n",
    "            \n",
    "            if key3 == PERSISTENT_FLUENTS:\n",
    "                max_per_category = max_per_category/1.4\n",
    "\n",
    "        if key1 == 'state_tracking':\n",
    "            if key2 == 'free':\n",
    "                max_per_category = MAX_PER_CATEGORY\n",
    "                \n",
    "\n",
    "            \n",
    "        if len(data_by_category[key_all]) < max_per_category:\n",
    "            data_by_category[key_all].append(question_id)\n",
    "    selected_ids.extend(list(itertools.chain.from_iterable(data_by_category.values())))\n",
    "    \n",
    "    return selected_ids"
   ],
   "metadata": {
    "collapsed": false,
    "ExecuteTime": {
     "end_time": "2024-09-25T08:18:59.414108Z",
     "start_time": "2024-09-25T08:18:59.403236Z"
    }
   },
   "id": "b0fac34eba7e87cc",
   "execution_count": 93
  },
  {
   "cell_type": "code",
   "outputs": [
    {
     "name": "stdout",
     "output_type": "stream",
     "text": [
      "1754\n",
      "1738\n",
      "1759\n",
      "0.04441702652683529\n"
     ]
    }
   ],
   "source": [
    "# selected_plan_length = 19\n",
    "final_test_ids = []\n",
    "for selected_plan_length in [1,10,19]:\n",
    "    ids = sample_test_data(data_domain_all, questions_no_sub_by_id, selected_plan_length, instances_id_ls)\n",
    "    print(len(ids))\n",
    "    final_test_ids.extend(ids)\n",
    "    \n",
    "none_freq = none_frequency({id: questions_by_id[id][WITHOUT_RANDOM_SUB] for id in final_test_ids})\n",
    "final_test_ids = keep_some_nones(questions_by_id, final_test_ids, prob_of_getting_none/(none_freq*1.1))\n",
    "print(none_frequency({id: questions_by_id[id][WITHOUT_RANDOM_SUB] for id in final_test_ids}))"
   ],
   "metadata": {
    "collapsed": false,
    "ExecuteTime": {
     "end_time": "2024-09-25T08:19:08.676650Z",
     "start_time": "2024-09-25T08:19:07.813002Z"
    }
   },
   "id": "2041189736532b76",
   "execution_count": 94
  },
  {
   "cell_type": "code",
   "outputs": [],
   "source": [
    "# by_domain = defaultdict(int)\n",
    "# for id in final_test_ids:\n",
    "#     q = questions_no_sub_by_id[id]\n",
    "#     by_domain[q[OUT_OBJ_DOMAIN_NAME]]+=1\n",
    "# print(by_domain, '\\n')\n",
    "# \n",
    "# by_fluents = defaultdict(int)\n",
    "# for id in final_test_ids:\n",
    "#     q = questions_no_sub_by_id[id]\n",
    "#     by_fluents[q[OUT_OBJ_FLUENT_TYPE]]+=1\n",
    "# print(by_fluents,'\\n')\n",
    "# \n",
    "# total = 0\n",
    "# stats = defaultdict(int)\n",
    "# for id in final_test_ids:\n",
    "#     q = questions_no_sub_by_id[id]\n",
    "#     stats[output_keys(q)]+=1\n",
    "# count_by_cat = defaultdict(lambda: [0,0])\n",
    "# for k, v in sorted(stats.items(), key=lambda x: x[0][0]):\n",
    "#     if k[2] == 'free':\n",
    "#         count_by_cat[(k[0],k[2])][1] += v\n",
    "#     else:\n",
    "#         count_by_cat[(k[0],k[2])][0] += v\n",
    "#     total += v\n",
    "#     print(k, v)\n",
    "# count_by_cat\n",
    "# print(total)"
   ],
   "metadata": {
    "collapsed": false,
    "ExecuteTime": {
     "end_time": "2024-09-25T08:19:17.128014Z",
     "start_time": "2024-09-25T08:19:17.125095Z"
    }
   },
   "id": "b3380ca162f0ea23",
   "execution_count": 95
  },
  {
   "cell_type": "code",
   "outputs": [
    {
     "data": {
      "text/plain": "                        true_false_answer  free_answer   total\naction_executability           477.000000   206.000000   683.0\ncomposite                     1312.000000   551.000000  1863.0\neffects                        393.000000   216.000000   609.0\nfluent_tracking                480.000000   216.000000   696.0\nnumerical_reasoning            432.000000   216.000000   648.0\nstate_tracking                 432.000000   216.000000   648.0\nALL_CATEGORIES                3526.000000  1621.000000  5147.0\nALL_CATEGORIES_PERCENT           0.685059     0.314941     1.0",
      "text/html": "<div>\n<style scoped>\n    .dataframe tbody tr th:only-of-type {\n        vertical-align: middle;\n    }\n\n    .dataframe tbody tr th {\n        vertical-align: top;\n    }\n\n    .dataframe thead th {\n        text-align: right;\n    }\n</style>\n<table border=\"1\" class=\"dataframe\">\n  <thead>\n    <tr style=\"text-align: right;\">\n      <th></th>\n      <th>true_false_answer</th>\n      <th>free_answer</th>\n      <th>total</th>\n    </tr>\n  </thead>\n  <tbody>\n    <tr>\n      <th>action_executability</th>\n      <td>477.000000</td>\n      <td>206.000000</td>\n      <td>683.0</td>\n    </tr>\n    <tr>\n      <th>composite</th>\n      <td>1312.000000</td>\n      <td>551.000000</td>\n      <td>1863.0</td>\n    </tr>\n    <tr>\n      <th>effects</th>\n      <td>393.000000</td>\n      <td>216.000000</td>\n      <td>609.0</td>\n    </tr>\n    <tr>\n      <th>fluent_tracking</th>\n      <td>480.000000</td>\n      <td>216.000000</td>\n      <td>696.0</td>\n    </tr>\n    <tr>\n      <th>numerical_reasoning</th>\n      <td>432.000000</td>\n      <td>216.000000</td>\n      <td>648.0</td>\n    </tr>\n    <tr>\n      <th>state_tracking</th>\n      <td>432.000000</td>\n      <td>216.000000</td>\n      <td>648.0</td>\n    </tr>\n    <tr>\n      <th>ALL_CATEGORIES</th>\n      <td>3526.000000</td>\n      <td>1621.000000</td>\n      <td>5147.0</td>\n    </tr>\n    <tr>\n      <th>ALL_CATEGORIES_PERCENT</th>\n      <td>0.685059</td>\n      <td>0.314941</td>\n      <td>1.0</td>\n    </tr>\n  </tbody>\n</table>\n</div>"
     },
     "execution_count": 114,
     "metadata": {},
     "output_type": "execute_result"
    }
   ],
   "source": [
    "df = pd.DataFrame(0, index=sorted(QUESTION_CATEGORIES), columns=[TRUE_FALSE_ANSWER_TYPE, FREE_ANSWER_TYPE])\n",
    "for q_id in final_test_ids:\n",
    "    d = questions_no_sub_by_id[q_id]\n",
    "    df.loc[d[OUT_OBJ_QUESTION_CATEGORY]][d[OUT_OBJ_ANSWER_TYPE]] += 1\n",
    "df['total'] = df.sum(axis=1)\n",
    "df.loc['ALL_CATEGORIES'] = df.sum(axis=0)\n",
    "df.loc['ALL_CATEGORIES_PERCENT'] = df.loc['ALL_CATEGORIES']/df.loc['ALL_CATEGORIES']['total']\n",
    "df.to_csv('test.stats.by_question_cat.csv')\n",
    "df"
   ],
   "metadata": {
    "collapsed": false,
    "ExecuteTime": {
     "end_time": "2024-09-25T08:26:20.211291Z",
     "start_time": "2024-09-25T08:26:19.608212Z"
    }
   },
   "id": "b97e1db50f29e863",
   "execution_count": 114
  },
  {
   "cell_type": "code",
   "outputs": [
    {
     "data": {
      "text/plain": "                    true_false_answer  free_answer   total\nall_fluents               1576.000000  1621.000000  3197.0\nbase_fluents               418.000000     0.000000   418.0\nderived_fluents            491.000000     0.000000   491.0\npersistent_fluents         587.000000     0.000000   587.0\nstatic_fluents             454.000000     0.000000   454.0\nTOTAL                     3526.000000  1621.000000  5147.0\nTOTAL_PERCENT                0.685059     0.314941     1.0",
      "text/html": "<div>\n<style scoped>\n    .dataframe tbody tr th:only-of-type {\n        vertical-align: middle;\n    }\n\n    .dataframe tbody tr th {\n        vertical-align: top;\n    }\n\n    .dataframe thead th {\n        text-align: right;\n    }\n</style>\n<table border=\"1\" class=\"dataframe\">\n  <thead>\n    <tr style=\"text-align: right;\">\n      <th></th>\n      <th>true_false_answer</th>\n      <th>free_answer</th>\n      <th>total</th>\n    </tr>\n  </thead>\n  <tbody>\n    <tr>\n      <th>all_fluents</th>\n      <td>1576.000000</td>\n      <td>1621.000000</td>\n      <td>3197.0</td>\n    </tr>\n    <tr>\n      <th>base_fluents</th>\n      <td>418.000000</td>\n      <td>0.000000</td>\n      <td>418.0</td>\n    </tr>\n    <tr>\n      <th>derived_fluents</th>\n      <td>491.000000</td>\n      <td>0.000000</td>\n      <td>491.0</td>\n    </tr>\n    <tr>\n      <th>persistent_fluents</th>\n      <td>587.000000</td>\n      <td>0.000000</td>\n      <td>587.0</td>\n    </tr>\n    <tr>\n      <th>static_fluents</th>\n      <td>454.000000</td>\n      <td>0.000000</td>\n      <td>454.0</td>\n    </tr>\n    <tr>\n      <th>TOTAL</th>\n      <td>3526.000000</td>\n      <td>1621.000000</td>\n      <td>5147.0</td>\n    </tr>\n    <tr>\n      <th>TOTAL_PERCENT</th>\n      <td>0.685059</td>\n      <td>0.314941</td>\n      <td>1.0</td>\n    </tr>\n  </tbody>\n</table>\n</div>"
     },
     "execution_count": 115,
     "metadata": {},
     "output_type": "execute_result"
    }
   ],
   "source": [
    "df = pd.DataFrame(0, index=sorted([BASE_FLUENTS, DERIVED_FLUENTS, PERSISTENT_FLUENTS, STATIC_FLUENTS, FLUENT_TYPES_ALL]), columns=[TRUE_FALSE_ANSWER_TYPE, FREE_ANSWER_TYPE])\n",
    "for q_id in final_test_ids:\n",
    "    d = questions_no_sub_by_id[q_id]\n",
    "    df.loc[d[OUT_OBJ_FLUENT_TYPE]][d[OUT_OBJ_ANSWER_TYPE]] += 1\n",
    "df['total'] = df.sum(axis=1)\n",
    "df.loc['TOTAL'] = df.sum(axis=0)\n",
    "df.loc['TOTAL_PERCENT'] = df.loc['TOTAL']/df.loc['TOTAL']['total']\n",
    "df.to_csv('test.stats.by_fluents.csv')\n",
    "df"
   ],
   "metadata": {
    "collapsed": false,
    "ExecuteTime": {
     "end_time": "2024-09-25T08:26:20.830140Z",
     "start_time": "2024-09-25T08:26:20.216575Z"
    }
   },
   "id": "c4d459247b40b6ff",
   "execution_count": 115
  },
  {
   "cell_type": "code",
   "outputs": [
    {
     "data": {
      "text/plain": "                      all_fluents  base_fluents  derived_fluents  \\\nfluent_tracking        216.000000    120.000000       120.000000   \nstate_tracking         648.000000      0.000000         0.000000   \naction_executability   683.000000      0.000000         0.000000   \neffects                216.000000     71.000000       119.000000   \nnumerical_reasoning    648.000000      0.000000         0.000000   \ncomposite              786.000000    227.000000       252.000000   \nTOTAL                 3197.000000    418.000000       491.000000   \nTOTAL_PERCENT            0.621139      0.081212         0.095395   \n\n                      persistent_fluents  static_fluents   total  \nfluent_tracking               120.000000      120.000000   696.0  \nstate_tracking                  0.000000        0.000000   648.0  \naction_executability            0.000000        0.000000   683.0  \neffects                       203.000000        0.000000   609.0  \nnumerical_reasoning             0.000000        0.000000   648.0  \ncomposite                     264.000000      334.000000  1863.0  \nTOTAL                         587.000000      454.000000  5147.0  \nTOTAL_PERCENT                   0.114047        0.088207     1.0  ",
      "text/html": "<div>\n<style scoped>\n    .dataframe tbody tr th:only-of-type {\n        vertical-align: middle;\n    }\n\n    .dataframe tbody tr th {\n        vertical-align: top;\n    }\n\n    .dataframe thead th {\n        text-align: right;\n    }\n</style>\n<table border=\"1\" class=\"dataframe\">\n  <thead>\n    <tr style=\"text-align: right;\">\n      <th></th>\n      <th>all_fluents</th>\n      <th>base_fluents</th>\n      <th>derived_fluents</th>\n      <th>persistent_fluents</th>\n      <th>static_fluents</th>\n      <th>total</th>\n    </tr>\n  </thead>\n  <tbody>\n    <tr>\n      <th>fluent_tracking</th>\n      <td>216.000000</td>\n      <td>120.000000</td>\n      <td>120.000000</td>\n      <td>120.000000</td>\n      <td>120.000000</td>\n      <td>696.0</td>\n    </tr>\n    <tr>\n      <th>state_tracking</th>\n      <td>648.000000</td>\n      <td>0.000000</td>\n      <td>0.000000</td>\n      <td>0.000000</td>\n      <td>0.000000</td>\n      <td>648.0</td>\n    </tr>\n    <tr>\n      <th>action_executability</th>\n      <td>683.000000</td>\n      <td>0.000000</td>\n      <td>0.000000</td>\n      <td>0.000000</td>\n      <td>0.000000</td>\n      <td>683.0</td>\n    </tr>\n    <tr>\n      <th>effects</th>\n      <td>216.000000</td>\n      <td>71.000000</td>\n      <td>119.000000</td>\n      <td>203.000000</td>\n      <td>0.000000</td>\n      <td>609.0</td>\n    </tr>\n    <tr>\n      <th>numerical_reasoning</th>\n      <td>648.000000</td>\n      <td>0.000000</td>\n      <td>0.000000</td>\n      <td>0.000000</td>\n      <td>0.000000</td>\n      <td>648.0</td>\n    </tr>\n    <tr>\n      <th>composite</th>\n      <td>786.000000</td>\n      <td>227.000000</td>\n      <td>252.000000</td>\n      <td>264.000000</td>\n      <td>334.000000</td>\n      <td>1863.0</td>\n    </tr>\n    <tr>\n      <th>TOTAL</th>\n      <td>3197.000000</td>\n      <td>418.000000</td>\n      <td>491.000000</td>\n      <td>587.000000</td>\n      <td>454.000000</td>\n      <td>5147.0</td>\n    </tr>\n    <tr>\n      <th>TOTAL_PERCENT</th>\n      <td>0.621139</td>\n      <td>0.081212</td>\n      <td>0.095395</td>\n      <td>0.114047</td>\n      <td>0.088207</td>\n      <td>1.0</td>\n    </tr>\n  </tbody>\n</table>\n</div>"
     },
     "execution_count": 116,
     "metadata": {},
     "output_type": "execute_result"
    }
   ],
   "source": [
    "df = pd.DataFrame(0, index=QUESTION_CATEGORIES, columns=sorted([BASE_FLUENTS, DERIVED_FLUENTS, PERSISTENT_FLUENTS, STATIC_FLUENTS, FLUENT_TYPES_ALL]))\n",
    "for q_id in final_test_ids:\n",
    "    d = questions_no_sub_by_id[q_id]\n",
    "    df.loc[d[OUT_OBJ_QUESTION_CATEGORY]][d[OUT_OBJ_FLUENT_TYPE]] += 1\n",
    "df['total'] = df.sum(axis=1)\n",
    "df.loc['TOTAL'] = df.sum(axis=0)\n",
    "df.loc['TOTAL_PERCENT'] = df.loc['TOTAL']/df.loc['TOTAL']['total']\n",
    "df.to_csv('test.stats.by_fluents.by_question_cat.csv')\n",
    "df"
   ],
   "metadata": {
    "collapsed": false,
    "ExecuteTime": {
     "end_time": "2024-09-25T08:26:21.656349Z",
     "start_time": "2024-09-25T08:26:20.832178Z"
    }
   },
   "id": "25b7cffac3f89a0c",
   "execution_count": 116
  },
  {
   "cell_type": "code",
   "outputs": [
    {
     "name": "stdout",
     "output_type": "stream",
     "text": [
      "72 1621 0.04441702652683529\n"
     ]
    }
   ],
   "source": [
    "total_nones=0\n",
    "total_free = 0\n",
    "for qid in final_test_ids:\n",
    "    q = questions_no_sub_by_id[qid]\n",
    "    if q[OUT_OBJ_ANSWER_TYPE] == FREE_ANSWER_TYPE:\n",
    "        total_free += 1\n",
    "        if q[OUT_OBJ_ANSWER] == 'None':\n",
    "            total_nones += 1\n",
    "print(total_nones, total_free, total_nones/total_free)"
   ],
   "metadata": {
    "collapsed": false,
    "ExecuteTime": {
     "end_time": "2024-09-25T08:19:51.556974Z",
     "start_time": "2024-09-25T08:19:51.548119Z"
    }
   },
   "id": "7742bd0787231440",
   "execution_count": 99
  },
  {
   "cell_type": "code",
   "outputs": [],
   "source": [
    "test_dataset = [questions_no_sub_by_id[id] for id in final_test_ids]\n",
    "save_jsonl(test_dataset, 'test_dataset.jsonl')"
   ],
   "metadata": {
    "collapsed": false,
    "ExecuteTime": {
     "end_time": "2024-09-25T08:19:59.786159Z",
     "start_time": "2024-09-25T08:19:59.568712Z"
    }
   },
   "id": "2498dd5f2d079c61",
   "execution_count": 100
  },
  {
   "cell_type": "markdown",
   "source": [
    "# Train Data"
   ],
   "metadata": {
    "collapsed": false
   },
   "id": "5e4266373f1be3f5"
  },
  {
   "cell_type": "code",
   "outputs": [
    {
     "data": {
      "text/plain": "5147"
     },
     "execution_count": 102,
     "metadata": {},
     "output_type": "execute_result"
    }
   ],
   "source": [
    "# test_dataset = open_jsonl('test_dataset.jsonl')\n",
    "# questions_no_sub_by_id = {id: questions_by_id[id][WITHOUT_RANDOM_SUB] for id in ids_filtered}\n",
    "\n",
    "selected_test_ids = [d[OUT_OBJ_ID] for d in test_dataset]\n",
    "len(selected_test_ids)"
   ],
   "metadata": {
    "collapsed": false,
    "ExecuteTime": {
     "end_time": "2024-09-25T08:20:16.232333Z",
     "start_time": "2024-09-25T08:20:16.224625Z"
    }
   },
   "id": "7a054ba8e2196c8",
   "execution_count": 102
  },
  {
   "cell_type": "code",
   "outputs": [],
   "source": [
    "train_dataset = [d for qid, d in questions_no_sub_by_id.items() if qid not in selected_test_ids]\n",
    "train_dataset_id = [d for d in train_dataset if d[OUT_OBJ_INSTANCE_ID] in set(instances_id_ls)]\n",
    "train_dataset_ood = [d for d in train_dataset if d[OUT_OBJ_INSTANCE_ID] not in set(instances_id_ls)]"
   ],
   "metadata": {
    "collapsed": false,
    "ExecuteTime": {
     "end_time": "2024-09-25T08:21:01.541331Z",
     "start_time": "2024-09-25T08:20:24.587424Z"
    }
   },
   "id": "9bbf41543085c413",
   "execution_count": 103
  },
  {
   "cell_type": "code",
   "outputs": [
    {
     "name": "stdout",
     "output_type": "stream",
     "text": [
      "138935 216200\n"
     ]
    }
   ],
   "source": [
    "print(len(train_dataset_id), len(train_dataset_ood))"
   ],
   "metadata": {
    "collapsed": false,
    "ExecuteTime": {
     "end_time": "2024-09-25T08:21:01.549297Z",
     "start_time": "2024-09-25T08:21:01.543405Z"
    }
   },
   "id": "21862861e8b66ff9",
   "execution_count": 104
  },
  {
   "cell_type": "code",
   "outputs": [],
   "source": [
    "# santity checks\n",
    "assert set()==(set([d[OUT_OBJ_ID] for d in train_dataset]).intersection(set(selected_test_ids)))\n",
    "assert set()==(set([d[OUT_OBJ_ID] for d in train_dataset_id]).intersection(set(selected_test_ids)))\n",
    "assert set()==(set([d[OUT_OBJ_ID] for d in train_dataset_ood]).intersection(set(selected_test_ids)))\n",
    "\n",
    "assert set()==(set([d[OUT_OBJ_ID] for d in train_dataset_id]).intersection(set([d[OUT_OBJ_ID] for d in train_dataset_ood])))\n"
   ],
   "metadata": {
    "collapsed": false,
    "ExecuteTime": {
     "end_time": "2024-09-25T08:21:01.986877Z",
     "start_time": "2024-09-25T08:21:01.550527Z"
    }
   },
   "id": "cd2f03184ae7e0ae",
   "execution_count": 105
  },
  {
   "cell_type": "code",
   "outputs": [],
   "source": [
    "save_jsonl(train_dataset_id, 'train_dataset_id.jsonl')\n",
    "save_jsonl(train_dataset_ood, 'train_dataset_ood.jsonl')"
   ],
   "metadata": {
    "collapsed": false,
    "ExecuteTime": {
     "end_time": "2024-09-25T08:21:15.662410Z",
     "start_time": "2024-09-25T08:21:01.989958Z"
    }
   },
   "id": "c1b5c2d85c6abe13",
   "execution_count": 106
  },
  {
   "cell_type": "code",
   "outputs": [
    {
     "data": {
      "text/plain": "                        true_false_answer    free_answer     total\naction_executability          9403.000000    6571.000000   15974.0\ncomposite                    30246.000000   12247.000000   42493.0\neffects                       7201.000000    6915.000000   14116.0\nfluent_tracking              71949.000000  138612.000000  210561.0\nnumerical_reasoning          34148.000000   17074.000000   51222.0\nstate_tracking               13852.000000    6917.000000   20769.0\nALL_CATEGORIES              166799.000000  188336.000000  355135.0\nALL_CATEGORIES_PERCENT           0.469678       0.530322       1.0",
      "text/html": "<div>\n<style scoped>\n    .dataframe tbody tr th:only-of-type {\n        vertical-align: middle;\n    }\n\n    .dataframe tbody tr th {\n        vertical-align: top;\n    }\n\n    .dataframe thead th {\n        text-align: right;\n    }\n</style>\n<table border=\"1\" class=\"dataframe\">\n  <thead>\n    <tr style=\"text-align: right;\">\n      <th></th>\n      <th>true_false_answer</th>\n      <th>free_answer</th>\n      <th>total</th>\n    </tr>\n  </thead>\n  <tbody>\n    <tr>\n      <th>action_executability</th>\n      <td>9403.000000</td>\n      <td>6571.000000</td>\n      <td>15974.0</td>\n    </tr>\n    <tr>\n      <th>composite</th>\n      <td>30246.000000</td>\n      <td>12247.000000</td>\n      <td>42493.0</td>\n    </tr>\n    <tr>\n      <th>effects</th>\n      <td>7201.000000</td>\n      <td>6915.000000</td>\n      <td>14116.0</td>\n    </tr>\n    <tr>\n      <th>fluent_tracking</th>\n      <td>71949.000000</td>\n      <td>138612.000000</td>\n      <td>210561.0</td>\n    </tr>\n    <tr>\n      <th>numerical_reasoning</th>\n      <td>34148.000000</td>\n      <td>17074.000000</td>\n      <td>51222.0</td>\n    </tr>\n    <tr>\n      <th>state_tracking</th>\n      <td>13852.000000</td>\n      <td>6917.000000</td>\n      <td>20769.0</td>\n    </tr>\n    <tr>\n      <th>ALL_CATEGORIES</th>\n      <td>166799.000000</td>\n      <td>188336.000000</td>\n      <td>355135.0</td>\n    </tr>\n    <tr>\n      <th>ALL_CATEGORIES_PERCENT</th>\n      <td>0.469678</td>\n      <td>0.530322</td>\n      <td>1.0</td>\n    </tr>\n  </tbody>\n</table>\n</div>"
     },
     "execution_count": 112,
     "metadata": {},
     "output_type": "execute_result"
    }
   ],
   "source": [
    "train_data = open_jsonl('train_dataset_id.jsonl') + open_jsonl('train_dataset_ood.jsonl')\n",
    "\n",
    "df = pd.DataFrame(0, index=sorted(QUESTION_CATEGORIES), columns=[TRUE_FALSE_ANSWER_TYPE, FREE_ANSWER_TYPE])\n",
    "for d in train_data:\n",
    "    df.loc[d[OUT_OBJ_QUESTION_CATEGORY]][d[OUT_OBJ_ANSWER_TYPE]] += 1\n",
    "df['total'] = df.sum(axis=1)\n",
    "df.loc['ALL_CATEGORIES'] = df.sum(axis=0)\n",
    "df.loc['ALL_CATEGORIES_PERCENT'] = df.loc['ALL_CATEGORIES']/df.loc['ALL_CATEGORIES']['total']\n",
    "df.to_csv('train.stats.by_question_category.csv')\n",
    "df"
   ],
   "metadata": {
    "collapsed": false,
    "ExecuteTime": {
     "end_time": "2024-09-25T08:25:49.829160Z",
     "start_time": "2024-09-25T08:24:59.426189Z"
    }
   },
   "id": "c2a8571ff95d620f",
   "execution_count": 112
  },
  {
   "cell_type": "code",
   "outputs": [
    {
     "data": {
      "text/plain": "                    true_false_answer    free_answer     total\nall_fluents              61766.000000  188336.000000  250102.0\nbase_fluents             18464.000000       0.000000   18464.0\nderived_fluents          23402.000000       0.000000   23402.0\npersistent_fluents       37746.000000       0.000000   37746.0\nstatic_fluents           25421.000000       0.000000   25421.0\nTOTAL                   166799.000000  188336.000000  355135.0\nTOTAL_PERCENT                0.469678       0.530322       1.0",
      "text/html": "<div>\n<style scoped>\n    .dataframe tbody tr th:only-of-type {\n        vertical-align: middle;\n    }\n\n    .dataframe tbody tr th {\n        vertical-align: top;\n    }\n\n    .dataframe thead th {\n        text-align: right;\n    }\n</style>\n<table border=\"1\" class=\"dataframe\">\n  <thead>\n    <tr style=\"text-align: right;\">\n      <th></th>\n      <th>true_false_answer</th>\n      <th>free_answer</th>\n      <th>total</th>\n    </tr>\n  </thead>\n  <tbody>\n    <tr>\n      <th>all_fluents</th>\n      <td>61766.000000</td>\n      <td>188336.000000</td>\n      <td>250102.0</td>\n    </tr>\n    <tr>\n      <th>base_fluents</th>\n      <td>18464.000000</td>\n      <td>0.000000</td>\n      <td>18464.0</td>\n    </tr>\n    <tr>\n      <th>derived_fluents</th>\n      <td>23402.000000</td>\n      <td>0.000000</td>\n      <td>23402.0</td>\n    </tr>\n    <tr>\n      <th>persistent_fluents</th>\n      <td>37746.000000</td>\n      <td>0.000000</td>\n      <td>37746.0</td>\n    </tr>\n    <tr>\n      <th>static_fluents</th>\n      <td>25421.000000</td>\n      <td>0.000000</td>\n      <td>25421.0</td>\n    </tr>\n    <tr>\n      <th>TOTAL</th>\n      <td>166799.000000</td>\n      <td>188336.000000</td>\n      <td>355135.0</td>\n    </tr>\n    <tr>\n      <th>TOTAL_PERCENT</th>\n      <td>0.469678</td>\n      <td>0.530322</td>\n      <td>1.0</td>\n    </tr>\n  </tbody>\n</table>\n</div>"
     },
     "execution_count": 113,
     "metadata": {},
     "output_type": "execute_result"
    }
   ],
   "source": [
    "df = pd.DataFrame(0, index=sorted([BASE_FLUENTS, DERIVED_FLUENTS, PERSISTENT_FLUENTS, STATIC_FLUENTS, FLUENT_TYPES_ALL]), columns=[TRUE_FALSE_ANSWER_TYPE, FREE_ANSWER_TYPE])\n",
    "for d in train_data:\n",
    "    df.loc[d[OUT_OBJ_FLUENT_TYPE]][d[OUT_OBJ_ANSWER_TYPE]] += 1\n",
    "df['total'] = df.sum(axis=1)\n",
    "df.loc['TOTAL'] = df.sum(axis=0)\n",
    "df.loc['TOTAL_PERCENT'] = df.loc['TOTAL']/df.loc['TOTAL']['total']\n",
    "df.to_csv('train.stats.by_fluents.csv')\n",
    "df"
   ],
   "metadata": {
    "collapsed": false,
    "ExecuteTime": {
     "end_time": "2024-09-25T08:26:19.606744Z",
     "start_time": "2024-09-25T08:25:49.832137Z"
    }
   },
   "id": "9c7d0434d2bbc75f",
   "execution_count": 113
  },
  {
   "cell_type": "code",
   "outputs": [
    {
     "name": "stdout",
     "output_type": "stream",
     "text": [
      "3939 188336 0.020914748109761277\n"
     ]
    }
   ],
   "source": [
    "total_nones=0\n",
    "total_free = 0\n",
    "for d in train_data:\n",
    "    if d[OUT_OBJ_ANSWER_TYPE] == FREE_ANSWER_TYPE:\n",
    "        total_free += 1\n",
    "        if d[OUT_OBJ_ANSWER] == 'None':\n",
    "            total_nones += 1\n",
    "print(total_nones, total_free, total_nones/total_free)"
   ],
   "metadata": {
    "collapsed": false,
    "ExecuteTime": {
     "end_time": "2024-09-25T08:22:31.674322Z",
     "start_time": "2024-09-25T08:22:30.987838Z"
    }
   },
   "id": "b1f5a8cde05534ad",
   "execution_count": 109
  },
  {
   "cell_type": "code",
   "outputs": [],
   "source": [
    "train_dataset_id = open_jsonl('train_dataset_id.jsonl') \n",
    "train_dataset_ood = open_jsonl('train_dataset_ood.jsonl')"
   ],
   "metadata": {
    "collapsed": false,
    "ExecuteTime": {
     "end_time": "2024-09-25T08:34:43.396691Z",
     "start_time": "2024-09-25T08:33:27.871632Z"
    }
   },
   "id": "5d972b1801a9fd64",
   "execution_count": 128
  },
  {
   "cell_type": "code",
   "outputs": [
    {
     "ename": "AssertionError",
     "evalue": "",
     "output_type": "error",
     "traceback": [
      "\u001B[0;31m---------------------------------------------------------------------------\u001B[0m",
      "\u001B[0;31mAssertionError\u001B[0m                            Traceback (most recent call last)",
      "Input \u001B[0;32mIn [129]\u001B[0m, in \u001B[0;36m<cell line: 4>\u001B[0;34m()\u001B[0m\n\u001B[1;32m      2\u001B[0m \u001B[38;5;28;01massert\u001B[39;00m \u001B[38;5;28mset\u001B[39m()\u001B[38;5;241m==\u001B[39m(\u001B[38;5;28mset\u001B[39m([d[OUT_OBJ_ID] \u001B[38;5;28;01mfor\u001B[39;00m d \u001B[38;5;129;01min\u001B[39;00m train_dataset_id])\u001B[38;5;241m.\u001B[39mintersection(\u001B[38;5;28mset\u001B[39m(selected_test_ids)))\n\u001B[1;32m      3\u001B[0m \u001B[38;5;28;01massert\u001B[39;00m \u001B[38;5;28mset\u001B[39m()\u001B[38;5;241m==\u001B[39m(\u001B[38;5;28mset\u001B[39m([d[OUT_OBJ_ID] \u001B[38;5;28;01mfor\u001B[39;00m d \u001B[38;5;129;01min\u001B[39;00m train_dataset_ood])\u001B[38;5;241m.\u001B[39mintersection(\u001B[38;5;28mset\u001B[39m(selected_test_ids)))\n\u001B[0;32m----> 4\u001B[0m \u001B[38;5;28;01massert\u001B[39;00m \u001B[38;5;28mset\u001B[39m()\u001B[38;5;241m==\u001B[39m(\u001B[38;5;28mset\u001B[39m([d[OUT_OBJ_ID] \u001B[38;5;28;01mfor\u001B[39;00m d \u001B[38;5;129;01min\u001B[39;00m train_dataset_id])\u001B[38;5;241m.\u001B[39mintersection(\u001B[38;5;28mset\u001B[39m([d[OUT_OBJ_ID] \u001B[38;5;28;01mfor\u001B[39;00m d \u001B[38;5;129;01min\u001B[39;00m train_dataset_ood])))\n",
      "\u001B[0;31mAssertionError\u001B[0m: "
     ]
    }
   ],
   "source": [
    "# santity checks\n",
    "assert set()==(set([d[OUT_OBJ_ID] for d in train_dataset_id]).intersection(set(selected_test_ids)))\n",
    "assert set()==(set([d[OUT_OBJ_ID] for d in train_dataset_ood]).intersection(set(selected_test_ids)))\n",
    "assert set()==(set([d[OUT_OBJ_ID] for d in train_dataset_id]).intersection(set([d[OUT_OBJ_ID] for d in train_dataset_ood])))"
   ],
   "metadata": {
    "collapsed": false,
    "ExecuteTime": {
     "end_time": "2024-09-25T08:34:43.794275Z",
     "start_time": "2024-09-25T08:34:43.404193Z"
    }
   },
   "id": "26e332610f73f4c2",
   "execution_count": 129
  },
  {
   "cell_type": "code",
   "outputs": [],
   "source": [],
   "metadata": {
    "collapsed": false
   },
   "id": "fa82864762bcec63"
  }
 ],
 "metadata": {
  "kernelspec": {
   "display_name": "Python 3",
   "language": "python",
   "name": "python3"
  },
  "language_info": {
   "codemirror_mode": {
    "name": "ipython",
    "version": 2
   },
   "file_extension": ".py",
   "mimetype": "text/x-python",
   "name": "python",
   "nbconvert_exporter": "python",
   "pygments_lexer": "ipython2",
   "version": "2.7.6"
  }
 },
 "nbformat": 4,
 "nbformat_minor": 5
}
