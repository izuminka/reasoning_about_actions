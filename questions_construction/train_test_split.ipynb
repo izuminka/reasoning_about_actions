{
 "cells": [
  {
   "cell_type": "code",
   "outputs": [],
   "source": [
    "import matplotlib.pyplot as plt\n",
    "import itertools\n",
    "import pandas as pd\n",
    "\n",
    "import sys\n",
    "sys.path.insert(0, '../../')\n",
    "from analysis.model_performances import * #gather_questions, TRANSPORTATION_DOMAINS, NON_TRANSPORTATION_DOMAINS\n",
    "from common import *"
   ],
   "metadata": {
    "collapsed": false,
    "ExecuteTime": {
     "end_time": "2024-09-23T05:22:22.867155Z",
     "start_time": "2024-09-23T05:22:22.846486Z"
    }
   },
   "id": "c8d9a5ad8ad5faf0",
   "execution_count": 14
  },
  {
   "cell_type": "code",
   "outputs": [],
   "source": [
    "instances_id_ls = [f'Instance_{i}' for i in range(1, 5)]\n",
    "prob_of_getting_none = 0.05"
   ],
   "metadata": {
    "collapsed": false,
    "ExecuteTime": {
     "end_time": "2024-09-23T05:42:03.166506Z",
     "start_time": "2024-09-23T05:42:03.160383Z"
    }
   },
   "id": "8d625f4cf04e06df",
   "execution_count": 22
  },
  {
   "cell_type": "code",
   "outputs": [],
   "source": [
    "def is_good_qa(question_info, include_params, exclude_params):\n",
    "    for k, v in exclude_params.items():\n",
    "        if question_info[k] == v:\n",
    "            return False\n",
    "        \n",
    "    for k, v in include_params.items():\n",
    "        if question_info[k] != v:\n",
    "            return False\n",
    "    return True\n",
    "\n",
    "def tokens_in_text(text, chars_per_token=4):\n",
    "    return len(text)/chars_per_token\n",
    "\n",
    "\n",
    "def sample_data(data_all, questions_by_id, selected_plan_length, instances_id_ls):\n",
    "    selected_data = []\n",
    "    exclude_params = {}\n",
    "    include_params = {'plan_length': selected_plan_length}\n",
    "    for d in data_all:\n",
    "        if d[OUT_OBJ_INSTANCE_ID] not in instances_id_ls:\n",
    "            continue\n",
    "        question_id = d['id']\n",
    "        if question_id not in questions_by_id:\n",
    "            raise ValueError\n",
    "        question_info = questions_by_id[question_id]\n",
    "        if is_good_qa(question_info, include_params, exclude_params):\n",
    "            selected_data.append(d)\n",
    "    random.shuffle(selected_data)\n",
    "    return selected_data\n",
    "\n",
    "def output_keys(questions_dict):\n",
    "    q = questions_dict\n",
    "    key1 = q[OUT_OBJ_QUESTION_CATEGORY]\n",
    "    if q[OUT_OBJ_ANSWER_TYPE] == TRUE_FALSE_ANSWER_TYPE:\n",
    "        if q[OUT_OBJ_ANSWER] == 'True':\n",
    "            key2 = 'true'\n",
    "        else:\n",
    "            key2 = 'false'\n",
    "    else:\n",
    "        key2 = 'free'\n",
    "        \n",
    "    key3 = q[OUT_OBJ_FLUENT_TYPE]\n",
    "        \n",
    "    if q[OUT_OBJ_IS_POS_FLUENT_QUESTION] == POS_FLUENTS_QUESTION:\n",
    "        key4 = 'POS'\n",
    "    elif q[OUT_OBJ_IS_POS_FLUENT_QUESTION] == NEG_FLUENTS_QUESTION:\n",
    "        key4 = 'NEG'\n",
    "    else:\n",
    "        key4 = 'POS+NEG'\n",
    "        \n",
    "    if q[OUT_OBJ_DOMAIN_NAME] in TRANSPORTATION_DOMAINS:\n",
    "        key5 = TRANSPORTATION_DOMAIN_KEY\n",
    "    else:\n",
    "        key5 = NON_TRANSPORTATION_DOMAIN_KEY\n",
    "    return key1, key2, key3, key4, key5\n",
    "\n",
    "\n",
    "\n",
    "def filter_by_length(questions_by_id, cutoff):\n",
    "    ids_filtered = []\n",
    "    for id, d in tqdm(questions_by_id.items()):\n",
    "        max_len = 0\n",
    "        for subs in [WITH_RANDOM_SUB, WITHOUT_RANDOM_SUB]:\n",
    "            if subs not in d:\n",
    "                continue\n",
    "            q_dict = d[subs]\n",
    "            max_len = max(max_len, tokens_in_text(q_dict[OUT_OBJ_QUESTION] + q_dict[OUT_OBJ_ANSWER]))\n",
    "        if max_len <= cutoff:\n",
    "            ids_filtered.append(id)\n",
    "    return ids_filtered\n",
    " "
   ],
   "metadata": {
    "collapsed": false,
    "ExecuteTime": {
     "end_time": "2024-09-23T05:05:11.591961Z",
     "start_time": "2024-09-23T05:05:11.578798Z"
    }
   },
   "id": "a12afe2f0c4f818d",
   "execution_count": 3
  },
  {
   "cell_type": "code",
   "outputs": [
    {
     "name": "stdout",
     "output_type": "stream",
     "text": [
      "questions gathered\n"
     ]
    }
   ],
   "source": [
    "questions_dir = f'{DATA_PATH}/questions'\n",
    "questions_by_id = gather_questions_old_format(questions_dir)"
   ],
   "metadata": {
    "collapsed": false,
    "ExecuteTime": {
     "end_time": "2024-09-23T05:05:49.896238Z",
     "start_time": "2024-09-23T05:05:11.595325Z"
    }
   },
   "id": "5895021163bacec4",
   "execution_count": 4
  },
  {
   "cell_type": "markdown",
   "source": [
    "# Data Stats"
   ],
   "metadata": {
    "collapsed": false
   },
   "id": "9f821a5136ec9e6a"
  },
  {
   "cell_type": "code",
   "outputs": [],
   "source": [
    "qa_len_ls = []\n",
    "for q_id, d in questions_by_id.items():\n",
    "    d_sub_type = d[WITHOUT_RANDOM_SUB]\n",
    "    qa_len_ls.append(len(d_sub_type[OUT_OBJ_QUESTION] + d_sub_type[OUT_OBJ_ANSWER]))"
   ],
   "metadata": {
    "collapsed": false,
    "ExecuteTime": {
     "end_time": "2024-09-23T01:04:57.011501Z",
     "start_time": "2024-09-23T01:04:56.556818Z"
    }
   },
   "id": "71582863edce1502",
   "execution_count": 23
  },
  {
   "cell_type": "code",
   "outputs": [
    {
     "data": {
      "text/plain": "(0.0, 45500.18167280836)"
     },
     "execution_count": 24,
     "metadata": {},
     "output_type": "execute_result"
    },
    {
     "data": {
      "text/plain": "<Figure size 432x288 with 1 Axes>",
      "image/png": "[encoded data removed]"
     },
     "metadata": {
      "needs_background": "light"
     },
     "output_type": "display_data"
    }
   ],
   "source": [
    "stats = {}\n",
    "stats['mean'] = np.mean(qa_len_ls)\n",
    "stats['median'] = np.median(qa_len_ls)\n",
    "stats['std'] = np.std(qa_len_ls)\n",
    "stats['min'] = np.min(qa_len_ls)\n",
    "stats['max'] = np.max(qa_len_ls)\n",
    "\n",
    "CUTOFF_CHAR_LEN = 1500*4 #(-stats['mean']*np.log(1-0.85))\n",
    "\n",
    "plt.hist(qa_len_ls, bins=200)\n",
    "plt.axvline(x=stats['median'], color='blue', linestyle='--', linewidth=2, label='median')\n",
    "plt.axvline(x=stats['mean'], color='black', linestyle='--', linewidth=2, label='mean')\n",
    "plt.axvline(x=CUTOFF_CHAR_LEN, color='r', linestyle='--', linewidth=2, label='cutoff')\n",
    "plt.legend()\n",
    "plt.xlim(0, stats['mean']+4*stats['std'])"
   ],
   "metadata": {
    "collapsed": false,
    "ExecuteTime": {
     "end_time": "2024-09-23T01:05:03.215940Z",
     "start_time": "2024-09-23T01:05:02.215870Z"
    }
   },
   "id": "adbed4f5ebd010d1",
   "execution_count": 24
  },
  {
   "cell_type": "code",
   "outputs": [
    {
     "data": {
      "text/plain": "1500.0"
     },
     "execution_count": 25,
     "metadata": {},
     "output_type": "execute_result"
    }
   ],
   "source": [
    "CUTOFF_CHAR_LEN/4"
   ],
   "metadata": {
    "collapsed": false,
    "ExecuteTime": {
     "end_time": "2024-09-23T01:05:08.215992Z",
     "start_time": "2024-09-23T01:05:08.211919Z"
    }
   },
   "id": "a6e37786e44baae7",
   "execution_count": 25
  },
  {
   "cell_type": "markdown",
   "source": [
    "\n",
    "# Filter By length"
   ],
   "metadata": {
    "collapsed": false
   },
   "id": "84fea22cac1dbc17"
  },
  {
   "cell_type": "code",
   "outputs": [
    {
     "name": "stderr",
     "output_type": "stream",
     "text": [
      "100%|██████████| 281685/281685 [00:01<00:00, 243666.04it/s]\n"
     ]
    }
   ],
   "source": [
    "#TODO\n",
    "# split by Instance 1-5 \"instance in domain\", 6-10 \"instance out of domain\" TRAIN\n",
    "# Insure not a lot of Nones\n",
    "def remove_nones(questions_by_id):\n",
    "    result_ids = []\n",
    "    for d in questions_by_id:\n",
    "        q = d[WITHOUT_RANDOM_SUB]\n",
    "        if q[OUT_OBJ_ANSWER] == 'None':\n",
    "            if random.random() > prob_of_getting_none:\n",
    "                continue\n",
    "        result_ids.append(d)\n",
    "    return result_ids\n",
    "\n",
    "ids_filtered1 = filter_by_length(questions_by_id, CUTOFF_CHAR_LEN)\n",
    "ids_filtered2 = remove_nones(questions_by_id)\n",
    "ids_filtered = list(set(ids_filtered1).intersection(set(ids_filtered2)))\n",
    "save_jsonl(ids_filtered, 'filtered_ids_by_cutoff.jsonl')\n",
    "\n",
    "questions_no_sub_by_id = {id: questions_by_id[id][WITHOUT_RANDOM_SUB] for id in ids_filtered}\n",
    "data_domain_all = {domain: [d for d in questions_no_sub_by_id.values() if d[OUT_OBJ_DOMAIN_NAME] == domain] for domain in DOMAIN_NAMES}"
   ],
   "metadata": {
    "collapsed": false,
    "ExecuteTime": {
     "end_time": "2024-09-23T01:05:16.214926Z",
     "start_time": "2024-09-23T01:05:13.229847Z"
    }
   },
   "id": "6380f06fce5e4b2b",
   "execution_count": 26
  },
  {
   "cell_type": "code",
   "outputs": [
    {
     "data": {
      "text/plain": "{'id': '25469891-5843-41fc-b751-02ecf556887a',\n 'domain_name': 'blocksworld',\n 'instance_id': 'Instance_1',\n 'question_category': 'fluent_tracking',\n 'question_name': 'iter_1_question_1',\n 'fluent_type': 'base_fluents',\n 'answer_type': 'true_false_answer',\n 'question': 'Given the initial condition, the following actions are performed: from top of block b7, block b3 is unstacked to reach the current state. In this state, is it True or False that block b6 is on the table?',\n 'answer': 'True',\n 'plan_length': 1,\n 'is_pos_fluent_question': 'pos'}"
     },
     "execution_count": 182,
     "metadata": {},
     "output_type": "execute_result"
    }
   ],
   "source": [
    "list(questions_no_sub_by_id.values())[0]"
   ],
   "metadata": {
    "collapsed": false,
    "ExecuteTime": {
     "end_time": "2024-09-23T00:50:59.721481Z",
     "start_time": "2024-09-23T00:50:59.700294Z"
    }
   },
   "id": "a39c8ecef6e639ad",
   "execution_count": 182
  },
  {
   "cell_type": "markdown",
   "source": [
    "# Sample"
   ],
   "metadata": {
    "collapsed": false
   },
   "id": "acc327acf1bcb90d"
  },
  {
   "cell_type": "code",
   "outputs": [],
   "source": [
    "def is_restricted(key1, key2, key3, key4):\n",
    "    if key1 == 'fluent_tracking' and key2 != 'free' and key4 == 'POS+NEG':\n",
    "        return True\n",
    "    # if key1 == 'effects' and key2 == 'free' and not (key3 == FLUENT_TYPES_ALL and key4 == 'POS+NEG'):\n",
    "    #     return True\n",
    "    # if key1 == 'state_tracking' and key2 == 'free' and not (key3 == FLUENT_TYPES_ALL and key4 == 'POS+NEG'):\n",
    "    #     return True\n",
    "    return False   \n",
    "\n",
    "def sample_test_data(data_domain_all, questions_no_sub_by_id, selected_plan_length, instances_id_ls):\n",
    "    MAX_PER_CATEGORY = 12 #12 #110 # 100 #100\n",
    "        \n",
    "    # PREPARE DATA\n",
    "    data_domain_sample = {domain: sample_data(data_domain_all[domain], questions_no_sub_by_id, selected_plan_length, instances_id_ls) for domain in DOMAIN_NAMES}\n",
    "    # for k,v in data_domain_sample.items():\n",
    "    #     print(k, len(v))\n",
    "    min_samples = min([len(v) for v in data_domain_sample.values() if len(v) > 100])\n",
    "    data_all = []\n",
    "    for k, v in data_domain_sample.items():\n",
    "        data_all.extend(v[:min_samples])\n",
    "    random.shuffle(data_all)\n",
    "    \n",
    "    \n",
    "    selected_ids = []\n",
    "    data_by_category = defaultdict(list)\n",
    "    for d in data_all:\n",
    "        question_id = d['id']\n",
    "        q = questions_no_sub_by_id[question_id]\n",
    "        \n",
    "        key1, key2, key3, key4, key5 = output_keys(q)\n",
    "        key_all = (key1, key2, key3, key4, key5)\n",
    "        if is_restricted(key1, key2, key3, key4):\n",
    "            continue\n",
    "        max_per_category = MAX_PER_CATEGORY\n",
    "        if key2 == 'free':\n",
    "            max_per_category = 3*MAX_PER_CATEGORY\n",
    "            # if q[OUT_OBJ_ANSWER] == 'None':\n",
    "            #     if random.random() > prob_of_getting_none:\n",
    "            #         continue\n",
    "\n",
    "        if key1 == 'action_executability':\n",
    "            if key2 != 'free':\n",
    "                max_per_category = 4*MAX_PER_CATEGORY\n",
    "\n",
    "        if key1 == 'effects':\n",
    "            if key2 != 'free':\n",
    "                max_per_category = 4*MAX_PER_CATEGORY\n",
    "            else:\n",
    "                max_per_category = MAX_PER_CATEGORY\n",
    "\n",
    "        if key1 == 'fluent_tracking':\n",
    "            if key2 != 'free':\n",
    "                max_per_category = MAX_PER_CATEGORY/2.4\n",
    "            else:\n",
    "                max_per_category = MAX_PER_CATEGORY\n",
    "\n",
    "        if key1 == 'composite':\n",
    "            if key2 != 'free':\n",
    "                max_per_category = MAX_PER_CATEGORY*3\n",
    "            \n",
    "            if key3 == BASE_FLUENTS:\n",
    "                max_per_category = max_per_category*10\n",
    "            \n",
    "            if key3 == PERSISTENT_FLUENTS:\n",
    "                max_per_category = max_per_category/1.4\n",
    "\n",
    "        if key1 == 'state_tracking':\n",
    "            if key2 == 'free':\n",
    "                max_per_category = MAX_PER_CATEGORY\n",
    "                \n",
    "\n",
    "            \n",
    "        if len(data_by_category[key_all]) < max_per_category:\n",
    "            data_by_category[key_all].append(question_id)\n",
    "    selected_ids.extend(list(itertools.chain.from_iterable(data_by_category.values())))\n",
    "    \n",
    "    return selected_ids"
   ],
   "metadata": {
    "collapsed": false,
    "ExecuteTime": {
     "end_time": "2024-09-23T00:51:06.684176Z",
     "start_time": "2024-09-23T00:51:06.639127Z"
    }
   },
   "id": "b0fac34eba7e87cc",
   "execution_count": 183
  },
  {
   "cell_type": "code",
   "outputs": [
    {
     "name": "stdout",
     "output_type": "stream",
     "text": [
      "1615\n",
      "1602\n",
      "1611\n"
     ]
    }
   ],
   "source": [
    "# selected_plan_length = 19\n",
    "final_test_ids = []\n",
    "for selected_plan_length in [1,10,19]:\n",
    "    ids = sample_test_data(data_domain_all, questions_no_sub_by_id, selected_plan_length, instances_id_ls)\n",
    "    print(len(ids))\n",
    "    final_test_ids.extend(ids)"
   ],
   "metadata": {
    "collapsed": false,
    "ExecuteTime": {
     "end_time": "2024-09-23T00:51:13.984904Z",
     "start_time": "2024-09-23T00:51:13.189547Z"
    }
   },
   "id": "2041189736532b76",
   "execution_count": 184
  },
  {
   "cell_type": "code",
   "outputs": [
    {
     "name": "stdout",
     "output_type": "stream",
     "text": [
      "defaultdict(<class 'int'>, {'grippers': 354, 'mystery': 370, 'zenotravel': 317, 'depots': 387, 'logistics': 353, 'driverlog': 386, 'miconic': 345, 'npuzzle': 433, 'blocksworld': 410, 'goldminer': 343, 'satellite': 283, 'spanner': 403, 'visitall': 444}) \n",
      "\n",
      "defaultdict(<class 'int'>, {'all_fluents': 2805, 'derived_fluents': 563, 'static_fluents': 467, 'persistent_fluents': 637, 'base_fluents': 356}) \n",
      "\n",
      "('action_executability', 'free', 'all_fluents', 'POS+NEG', 'NON_TRANSPORTATION') 108\n",
      "('action_executability', 'false', 'all_fluents', 'POS+NEG', 'NON_TRANSPORTATION') 91\n",
      "('action_executability', 'true', 'all_fluents', 'POS+NEG', 'NON_TRANSPORTATION') 82\n",
      "('action_executability', 'false', 'all_fluents', 'POS+NEG', 'TRANSPORTATION') 138\n",
      "('action_executability', 'free', 'all_fluents', 'POS+NEG', 'TRANSPORTATION') 108\n",
      "('action_executability', 'true', 'all_fluents', 'POS+NEG', 'TRANSPORTATION') 139\n",
      "('composite', 'false', 'persistent_fluents', 'POS+NEG', 'TRANSPORTATION') 78\n",
      "('composite', 'free', 'all_fluents', 'POS+NEG', 'TRANSPORTATION') 104\n",
      "('composite', 'true', 'derived_fluents', 'POS+NEG', 'TRANSPORTATION') 71\n",
      "('composite', 'true', 'persistent_fluents', 'POS+NEG', 'TRANSPORTATION') 78\n",
      "('composite', 'false', 'base_fluents', 'POS+NEG', 'NON_TRANSPORTATION') 50\n",
      "('composite', 'true', 'all_fluents', 'POS+NEG', 'TRANSPORTATION') 65\n",
      "('composite', 'false', 'static_fluents', 'POS+NEG', 'NON_TRANSPORTATION') 76\n",
      "('composite', 'false', 'base_fluents', 'POS+NEG', 'TRANSPORTATION') 40\n",
      "('composite', 'false', 'all_fluents', 'POS+NEG', 'TRANSPORTATION') 75\n",
      "('composite', 'false', 'static_fluents', 'POS+NEG', 'TRANSPORTATION') 96\n",
      "('composite', 'false', 'derived_fluents', 'POS+NEG', 'NON_TRANSPORTATION') 88\n",
      "('composite', 'free', 'all_fluents', 'POS+NEG', 'NON_TRANSPORTATION') 108\n",
      "('composite', 'true', 'static_fluents', 'POS+NEG', 'TRANSPORTATION') 103\n",
      "('composite', 'true', 'derived_fluents', 'POS+NEG', 'NON_TRANSPORTATION') 92\n",
      "('composite', 'true', 'all_fluents', 'POS+NEG', 'NON_TRANSPORTATION') 39\n",
      "('composite', 'false', 'persistent_fluents', 'POS+NEG', 'NON_TRANSPORTATION') 73\n",
      "('composite', 'false', 'derived_fluents', 'POS+NEG', 'TRANSPORTATION') 77\n",
      "('composite', 'true', 'persistent_fluents', 'POS+NEG', 'NON_TRANSPORTATION') 78\n",
      "('composite', 'true', 'base_fluents', 'POS+NEG', 'NON_TRANSPORTATION') 50\n",
      "('composite', 'true', 'base_fluents', 'POS+NEG', 'TRANSPORTATION') 44\n",
      "('composite', 'true', 'static_fluents', 'POS+NEG', 'NON_TRANSPORTATION') 72\n",
      "('composite', 'false', 'all_fluents', 'POS+NEG', 'NON_TRANSPORTATION') 35\n",
      "('effects', 'false', 'persistent_fluents', 'POS+NEG', 'NON_TRANSPORTATION') 42\n",
      "('effects', 'false', 'base_fluents', 'POS+NEG', 'TRANSPORTATION') 12\n",
      "('effects', 'free', 'all_fluents', 'POS', 'TRANSPORTATION') 36\n",
      "('effects', 'free', 'all_fluents', 'NEG', 'NON_TRANSPORTATION') 36\n",
      "('effects', 'free', 'all_fluents', 'POS', 'NON_TRANSPORTATION') 36\n",
      "('effects', 'free', 'all_fluents', 'POS+NEG', 'TRANSPORTATION') 36\n",
      "('effects', 'false', 'base_fluents', 'POS+NEG', 'NON_TRANSPORTATION') 11\n",
      "('effects', 'false', 'derived_fluents', 'POS+NEG', 'NON_TRANSPORTATION') 37\n",
      "('effects', 'false', 'persistent_fluents', 'POS+NEG', 'TRANSPORTATION') 63\n",
      "('effects', 'free', 'all_fluents', 'NEG', 'TRANSPORTATION') 36\n",
      "('effects', 'free', 'all_fluents', 'POS+NEG', 'NON_TRANSPORTATION') 34\n",
      "('effects', 'true', 'persistent_fluents', 'POS+NEG', 'NON_TRANSPORTATION') 42\n",
      "('effects', 'true', 'base_fluents', 'POS+NEG', 'TRANSPORTATION') 16\n",
      "('effects', 'true', 'persistent_fluents', 'POS+NEG', 'TRANSPORTATION') 63\n",
      "('effects', 'true', 'base_fluents', 'POS+NEG', 'NON_TRANSPORTATION') 13\n",
      "('effects', 'true', 'derived_fluents', 'POS+NEG', 'NON_TRANSPORTATION') 34\n",
      "('effects', 'true', 'derived_fluents', 'POS+NEG', 'TRANSPORTATION') 24\n",
      "('effects', 'false', 'derived_fluents', 'POS+NEG', 'TRANSPORTATION') 20\n",
      "('fluent_tracking', 'true', 'derived_fluents', 'POS', 'NON_TRANSPORTATION') 15\n",
      "('fluent_tracking', 'free', 'all_fluents', 'NEG', 'NON_TRANSPORTATION') 36\n",
      "('fluent_tracking', 'true', 'static_fluents', 'NEG', 'TRANSPORTATION') 15\n",
      "('fluent_tracking', 'free', 'all_fluents', 'NEG', 'TRANSPORTATION') 36\n",
      "('fluent_tracking', 'false', 'persistent_fluents', 'POS', 'TRANSPORTATION') 15\n",
      "('fluent_tracking', 'true', 'base_fluents', 'POS', 'NON_TRANSPORTATION') 15\n",
      "('fluent_tracking', 'false', 'base_fluents', 'POS', 'NON_TRANSPORTATION') 15\n",
      "('fluent_tracking', 'true', 'static_fluents', 'NEG', 'NON_TRANSPORTATION') 15\n",
      "('fluent_tracking', 'true', 'persistent_fluents', 'NEG', 'TRANSPORTATION') 15\n",
      "('fluent_tracking', 'false', 'persistent_fluents', 'NEG', 'NON_TRANSPORTATION') 15\n",
      "('fluent_tracking', 'false', 'derived_fluents', 'NEG', 'TRANSPORTATION') 15\n",
      "('fluent_tracking', 'free', 'all_fluents', 'POS+NEG', 'TRANSPORTATION') 36\n",
      "('fluent_tracking', 'true', 'base_fluents', 'POS', 'TRANSPORTATION') 15\n",
      "('fluent_tracking', 'true', 'persistent_fluents', 'NEG', 'NON_TRANSPORTATION') 15\n",
      "('fluent_tracking', 'false', 'persistent_fluents', 'NEG', 'TRANSPORTATION') 15\n",
      "('fluent_tracking', 'false', 'derived_fluents', 'NEG', 'NON_TRANSPORTATION') 15\n",
      "('fluent_tracking', 'false', 'persistent_fluents', 'POS', 'NON_TRANSPORTATION') 15\n",
      "('fluent_tracking', 'false', 'static_fluents', 'NEG', 'NON_TRANSPORTATION') 15\n",
      "('fluent_tracking', 'true', 'persistent_fluents', 'POS', 'NON_TRANSPORTATION') 15\n",
      "('fluent_tracking', 'true', 'derived_fluents', 'POS', 'TRANSPORTATION') 15\n",
      "('fluent_tracking', 'false', 'static_fluents', 'POS', 'TRANSPORTATION') 15\n",
      "('fluent_tracking', 'true', 'static_fluents', 'POS', 'NON_TRANSPORTATION') 15\n",
      "('fluent_tracking', 'free', 'all_fluents', 'POS', 'NON_TRANSPORTATION') 36\n",
      "('fluent_tracking', 'true', 'derived_fluents', 'NEG', 'NON_TRANSPORTATION') 15\n",
      "('fluent_tracking', 'free', 'all_fluents', 'POS+NEG', 'NON_TRANSPORTATION') 36\n",
      "('fluent_tracking', 'false', 'base_fluents', 'NEG', 'NON_TRANSPORTATION') 15\n",
      "('fluent_tracking', 'false', 'derived_fluents', 'POS', 'NON_TRANSPORTATION') 15\n",
      "('fluent_tracking', 'false', 'base_fluents', 'NEG', 'TRANSPORTATION') 15\n",
      "('fluent_tracking', 'true', 'persistent_fluents', 'POS', 'TRANSPORTATION') 15\n",
      "('fluent_tracking', 'false', 'base_fluents', 'POS', 'TRANSPORTATION') 15\n",
      "('fluent_tracking', 'true', 'base_fluents', 'NEG', 'NON_TRANSPORTATION') 15\n",
      "('fluent_tracking', 'true', 'static_fluents', 'POS', 'TRANSPORTATION') 15\n",
      "('fluent_tracking', 'false', 'static_fluents', 'NEG', 'TRANSPORTATION') 15\n",
      "('fluent_tracking', 'true', 'base_fluents', 'NEG', 'TRANSPORTATION') 15\n",
      "('fluent_tracking', 'false', 'derived_fluents', 'POS', 'TRANSPORTATION') 15\n",
      "('fluent_tracking', 'false', 'static_fluents', 'POS', 'NON_TRANSPORTATION') 15\n",
      "('fluent_tracking', 'true', 'derived_fluents', 'NEG', 'TRANSPORTATION') 15\n",
      "('fluent_tracking', 'free', 'all_fluents', 'POS', 'TRANSPORTATION') 30\n",
      "('numerical_reasoning', 'false', 'all_fluents', 'POS+NEG', 'NON_TRANSPORTATION') 36\n",
      "('numerical_reasoning', 'free', 'all_fluents', 'POS+NEG', 'NON_TRANSPORTATION') 108\n",
      "('numerical_reasoning', 'false', 'all_fluents', 'POS+NEG', 'TRANSPORTATION') 36\n",
      "('numerical_reasoning', 'true', 'all_fluents', 'POS', 'TRANSPORTATION') 36\n",
      "('numerical_reasoning', 'free', 'all_fluents', 'POS+NEG', 'TRANSPORTATION') 108\n",
      "('numerical_reasoning', 'true', 'all_fluents', 'POS+NEG', 'TRANSPORTATION') 36\n",
      "('numerical_reasoning', 'true', 'all_fluents', 'POS+NEG', 'NON_TRANSPORTATION') 36\n",
      "('numerical_reasoning', 'false', 'all_fluents', 'NEG', 'NON_TRANSPORTATION') 36\n",
      "('numerical_reasoning', 'true', 'all_fluents', 'NEG', 'NON_TRANSPORTATION') 36\n",
      "('numerical_reasoning', 'false', 'all_fluents', 'POS', 'NON_TRANSPORTATION') 36\n",
      "('numerical_reasoning', 'true', 'all_fluents', 'NEG', 'TRANSPORTATION') 36\n",
      "('numerical_reasoning', 'false', 'all_fluents', 'NEG', 'TRANSPORTATION') 36\n",
      "('numerical_reasoning', 'false', 'all_fluents', 'POS', 'TRANSPORTATION') 36\n",
      "('numerical_reasoning', 'true', 'all_fluents', 'POS', 'NON_TRANSPORTATION') 36\n",
      "('state_tracking', 'free', 'all_fluents', 'NEG', 'TRANSPORTATION') 36\n",
      "('state_tracking', 'false', 'all_fluents', 'POS', 'TRANSPORTATION') 36\n",
      "('state_tracking', 'false', 'all_fluents', 'NEG', 'NON_TRANSPORTATION') 36\n",
      "('state_tracking', 'false', 'all_fluents', 'POS+NEG', 'TRANSPORTATION') 36\n",
      "('state_tracking', 'true', 'all_fluents', 'NEG', 'TRANSPORTATION') 36\n",
      "('state_tracking', 'free', 'all_fluents', 'POS', 'TRANSPORTATION') 36\n",
      "('state_tracking', 'free', 'all_fluents', 'POS+NEG', 'TRANSPORTATION') 36\n",
      "('state_tracking', 'true', 'all_fluents', 'POS', 'TRANSPORTATION') 36\n",
      "('state_tracking', 'false', 'all_fluents', 'NEG', 'TRANSPORTATION') 36\n",
      "('state_tracking', 'free', 'all_fluents', 'POS', 'NON_TRANSPORTATION') 36\n",
      "('state_tracking', 'true', 'all_fluents', 'POS+NEG', 'TRANSPORTATION') 36\n",
      "('state_tracking', 'true', 'all_fluents', 'POS+NEG', 'NON_TRANSPORTATION') 36\n",
      "('state_tracking', 'free', 'all_fluents', 'NEG', 'NON_TRANSPORTATION') 36\n",
      "('state_tracking', 'true', 'all_fluents', 'POS', 'NON_TRANSPORTATION') 36\n",
      "('state_tracking', 'true', 'all_fluents', 'NEG', 'NON_TRANSPORTATION') 34\n",
      "('state_tracking', 'false', 'all_fluents', 'POS+NEG', 'NON_TRANSPORTATION') 32\n",
      "('state_tracking', 'free', 'all_fluents', 'POS+NEG', 'NON_TRANSPORTATION') 35\n",
      "('state_tracking', 'false', 'all_fluents', 'POS', 'NON_TRANSPORTATION') 36\n",
      "4828\n"
     ]
    }
   ],
   "source": [
    "selected_ids = final_test_ids\n",
    "\n",
    "\n",
    "by_domain = defaultdict(int)\n",
    "for id in selected_ids:\n",
    "    q = questions_no_sub_by_id[id]\n",
    "    by_domain[q[OUT_OBJ_DOMAIN_NAME]]+=1\n",
    "print(by_domain, '\\n')\n",
    "\n",
    "by_fluents = defaultdict(int)\n",
    "for id in selected_ids:\n",
    "    q = questions_no_sub_by_id[id]\n",
    "    by_fluents[q[OUT_OBJ_FLUENT_TYPE]]+=1\n",
    "print(by_fluents,'\\n')\n",
    "\n",
    "total = 0\n",
    "stats = defaultdict(int)\n",
    "for id in selected_ids:\n",
    "    q = questions_no_sub_by_id[id]\n",
    "    stats[output_keys(q)]+=1\n",
    "count_by_cat = defaultdict(lambda: [0,0])\n",
    "for k, v in sorted(stats.items(), key=lambda x: x[0][0]):\n",
    "    if k[2] == 'free':\n",
    "        count_by_cat[(k[0],k[2])][1] += v\n",
    "    else:\n",
    "        count_by_cat[(k[0],k[2])][0] += v\n",
    "    total += v\n",
    "    print(k, v)\n",
    "count_by_cat\n",
    "print(total)"
   ],
   "metadata": {
    "collapsed": false,
    "ExecuteTime": {
     "end_time": "2024-09-23T00:51:20.704199Z",
     "start_time": "2024-09-23T00:51:20.662964Z"
    }
   },
   "id": "b3380ca162f0ea23",
   "execution_count": 185
  },
  {
   "cell_type": "code",
   "outputs": [
    {
     "data": {
      "text/plain": "                        true_false_answer  free_answer   total\naction_executability           450.000000   216.000000   666.0\ncomposite                     1380.000000   212.000000  1592.0\neffects                        377.000000   214.000000   591.0\nfluent_tracking                480.000000   210.000000   690.0\nnumerical_reasoning            432.000000   216.000000   648.0\nstate_tracking                 426.000000   215.000000   641.0\nALL_CATEGORIES                3545.000000  1283.000000  4828.0\nALL_CATEGORIES_PERCENT           0.734258     0.265742     1.0",
      "text/html": "<div>\n<style scoped>\n    .dataframe tbody tr th:only-of-type {\n        vertical-align: middle;\n    }\n\n    .dataframe tbody tr th {\n        vertical-align: top;\n    }\n\n    .dataframe thead th {\n        text-align: right;\n    }\n</style>\n<table border=\"1\" class=\"dataframe\">\n  <thead>\n    <tr style=\"text-align: right;\">\n      <th></th>\n      <th>true_false_answer</th>\n      <th>free_answer</th>\n      <th>total</th>\n    </tr>\n  </thead>\n  <tbody>\n    <tr>\n      <th>action_executability</th>\n      <td>450.000000</td>\n      <td>216.000000</td>\n      <td>666.0</td>\n    </tr>\n    <tr>\n      <th>composite</th>\n      <td>1380.000000</td>\n      <td>212.000000</td>\n      <td>1592.0</td>\n    </tr>\n    <tr>\n      <th>effects</th>\n      <td>377.000000</td>\n      <td>214.000000</td>\n      <td>591.0</td>\n    </tr>\n    <tr>\n      <th>fluent_tracking</th>\n      <td>480.000000</td>\n      <td>210.000000</td>\n      <td>690.0</td>\n    </tr>\n    <tr>\n      <th>numerical_reasoning</th>\n      <td>432.000000</td>\n      <td>216.000000</td>\n      <td>648.0</td>\n    </tr>\n    <tr>\n      <th>state_tracking</th>\n      <td>426.000000</td>\n      <td>215.000000</td>\n      <td>641.0</td>\n    </tr>\n    <tr>\n      <th>ALL_CATEGORIES</th>\n      <td>3545.000000</td>\n      <td>1283.000000</td>\n      <td>4828.0</td>\n    </tr>\n    <tr>\n      <th>ALL_CATEGORIES_PERCENT</th>\n      <td>0.734258</td>\n      <td>0.265742</td>\n      <td>1.0</td>\n    </tr>\n  </tbody>\n</table>\n</div>"
     },
     "execution_count": 186,
     "metadata": {},
     "output_type": "execute_result"
    }
   ],
   "source": [
    "import pandas as pd\n",
    "\n",
    "\n",
    "df = pd.DataFrame(0, index=sorted(QUESTION_CATEGORIES), columns=[TRUE_FALSE_ANSWER_TYPE, FREE_ANSWER_TYPE])\n",
    "for q_id in selected_ids:\n",
    "    d = questions_no_sub_by_id[q_id]\n",
    "    df.loc[d[OUT_OBJ_QUESTION_CATEGORY]][d[OUT_OBJ_ANSWER_TYPE]] += 1\n",
    "df['total'] = df.sum(axis=1)\n",
    "df.loc['ALL_CATEGORIES'] = df.sum(axis=0)\n",
    "df.loc['ALL_CATEGORIES_PERCENT'] = df.loc['ALL_CATEGORIES']/df.loc['ALL_CATEGORIES']['total']\n",
    "df"
   ],
   "metadata": {
    "collapsed": false,
    "ExecuteTime": {
     "end_time": "2024-09-23T00:51:28.057986Z",
     "start_time": "2024-09-23T00:51:27.431771Z"
    }
   },
   "id": "b97e1db50f29e863",
   "execution_count": 186
  },
  {
   "cell_type": "code",
   "outputs": [
    {
     "data": {
      "text/plain": "                    true_false_answer  free_answer   total\nall_fluents               1522.000000  1283.000000  2805.0\nbase_fluents               356.000000     0.000000   356.0\nderived_fluents            563.000000     0.000000   563.0\npersistent_fluents         637.000000     0.000000   637.0\nstatic_fluents             467.000000     0.000000   467.0\nTOTAL                     3545.000000  1283.000000  4828.0\nTOTAL_PERCENT                0.734258     0.265742     1.0",
      "text/html": "<div>\n<style scoped>\n    .dataframe tbody tr th:only-of-type {\n        vertical-align: middle;\n    }\n\n    .dataframe tbody tr th {\n        vertical-align: top;\n    }\n\n    .dataframe thead th {\n        text-align: right;\n    }\n</style>\n<table border=\"1\" class=\"dataframe\">\n  <thead>\n    <tr style=\"text-align: right;\">\n      <th></th>\n      <th>true_false_answer</th>\n      <th>free_answer</th>\n      <th>total</th>\n    </tr>\n  </thead>\n  <tbody>\n    <tr>\n      <th>all_fluents</th>\n      <td>1522.000000</td>\n      <td>1283.000000</td>\n      <td>2805.0</td>\n    </tr>\n    <tr>\n      <th>base_fluents</th>\n      <td>356.000000</td>\n      <td>0.000000</td>\n      <td>356.0</td>\n    </tr>\n    <tr>\n      <th>derived_fluents</th>\n      <td>563.000000</td>\n      <td>0.000000</td>\n      <td>563.0</td>\n    </tr>\n    <tr>\n      <th>persistent_fluents</th>\n      <td>637.000000</td>\n      <td>0.000000</td>\n      <td>637.0</td>\n    </tr>\n    <tr>\n      <th>static_fluents</th>\n      <td>467.000000</td>\n      <td>0.000000</td>\n      <td>467.0</td>\n    </tr>\n    <tr>\n      <th>TOTAL</th>\n      <td>3545.000000</td>\n      <td>1283.000000</td>\n      <td>4828.0</td>\n    </tr>\n    <tr>\n      <th>TOTAL_PERCENT</th>\n      <td>0.734258</td>\n      <td>0.265742</td>\n      <td>1.0</td>\n    </tr>\n  </tbody>\n</table>\n</div>"
     },
     "execution_count": 187,
     "metadata": {},
     "output_type": "execute_result"
    }
   ],
   "source": [
    "df = pd.DataFrame(0, index=sorted([BASE_FLUENTS, DERIVED_FLUENTS, PERSISTENT_FLUENTS, STATIC_FLUENTS, FLUENT_TYPES_ALL]), columns=[TRUE_FALSE_ANSWER_TYPE, FREE_ANSWER_TYPE])\n",
    "for q_id in selected_ids:\n",
    "    d = questions_no_sub_by_id[q_id]\n",
    "    df.loc[d[OUT_OBJ_FLUENT_TYPE]][d[OUT_OBJ_ANSWER_TYPE]] += 1\n",
    "df['total'] = df.sum(axis=1)\n",
    "df.loc['TOTAL'] = df.sum(axis=0)\n",
    "df.loc['TOTAL_PERCENT'] = df.loc['TOTAL']/df.loc['TOTAL']['total']\n",
    "df"
   ],
   "metadata": {
    "collapsed": false,
    "ExecuteTime": {
     "end_time": "2024-09-23T00:51:35.431748Z",
     "start_time": "2024-09-23T00:51:34.830716Z"
    }
   },
   "id": "c4d459247b40b6ff",
   "execution_count": 187
  },
  {
   "cell_type": "code",
   "outputs": [
    {
     "data": {
      "text/plain": "                      all_fluents  base_fluents  derived_fluents  \\\nfluent_tracking        210.000000    120.000000       120.000000   \nstate_tracking         641.000000      0.000000         0.000000   \naction_executability   666.000000      0.000000         0.000000   \neffects                214.000000     52.000000       115.000000   \nnumerical_reasoning    648.000000      0.000000         0.000000   \ncomposite              426.000000    184.000000       328.000000   \nTOTAL                 2805.000000    356.000000       563.000000   \nTOTAL_PERCENT            0.580986      0.073737         0.116611   \n\n                      persistent_fluents  static_fluents   total  \nfluent_tracking               120.000000      120.000000   690.0  \nstate_tracking                  0.000000        0.000000   641.0  \naction_executability            0.000000        0.000000   666.0  \neffects                       210.000000        0.000000   591.0  \nnumerical_reasoning             0.000000        0.000000   648.0  \ncomposite                     307.000000      347.000000  1592.0  \nTOTAL                         637.000000      467.000000  4828.0  \nTOTAL_PERCENT                   0.131939        0.096727     1.0  ",
      "text/html": "<div>\n<style scoped>\n    .dataframe tbody tr th:only-of-type {\n        vertical-align: middle;\n    }\n\n    .dataframe tbody tr th {\n        vertical-align: top;\n    }\n\n    .dataframe thead th {\n        text-align: right;\n    }\n</style>\n<table border=\"1\" class=\"dataframe\">\n  <thead>\n    <tr style=\"text-align: right;\">\n      <th></th>\n      <th>all_fluents</th>\n      <th>base_fluents</th>\n      <th>derived_fluents</th>\n      <th>persistent_fluents</th>\n      <th>static_fluents</th>\n      <th>total</th>\n    </tr>\n  </thead>\n  <tbody>\n    <tr>\n      <th>fluent_tracking</th>\n      <td>210.000000</td>\n      <td>120.000000</td>\n      <td>120.000000</td>\n      <td>120.000000</td>\n      <td>120.000000</td>\n      <td>690.0</td>\n    </tr>\n    <tr>\n      <th>state_tracking</th>\n      <td>641.000000</td>\n      <td>0.000000</td>\n      <td>0.000000</td>\n      <td>0.000000</td>\n      <td>0.000000</td>\n      <td>641.0</td>\n    </tr>\n    <tr>\n      <th>action_executability</th>\n      <td>666.000000</td>\n      <td>0.000000</td>\n      <td>0.000000</td>\n      <td>0.000000</td>\n      <td>0.000000</td>\n      <td>666.0</td>\n    </tr>\n    <tr>\n      <th>effects</th>\n      <td>214.000000</td>\n      <td>52.000000</td>\n      <td>115.000000</td>\n      <td>210.000000</td>\n      <td>0.000000</td>\n      <td>591.0</td>\n    </tr>\n    <tr>\n      <th>numerical_reasoning</th>\n      <td>648.000000</td>\n      <td>0.000000</td>\n      <td>0.000000</td>\n      <td>0.000000</td>\n      <td>0.000000</td>\n      <td>648.0</td>\n    </tr>\n    <tr>\n      <th>composite</th>\n      <td>426.000000</td>\n      <td>184.000000</td>\n      <td>328.000000</td>\n      <td>307.000000</td>\n      <td>347.000000</td>\n      <td>1592.0</td>\n    </tr>\n    <tr>\n      <th>TOTAL</th>\n      <td>2805.000000</td>\n      <td>356.000000</td>\n      <td>563.000000</td>\n      <td>637.000000</td>\n      <td>467.000000</td>\n      <td>4828.0</td>\n    </tr>\n    <tr>\n      <th>TOTAL_PERCENT</th>\n      <td>0.580986</td>\n      <td>0.073737</td>\n      <td>0.116611</td>\n      <td>0.131939</td>\n      <td>0.096727</td>\n      <td>1.0</td>\n    </tr>\n  </tbody>\n</table>\n</div>"
     },
     "execution_count": 188,
     "metadata": {},
     "output_type": "execute_result"
    }
   ],
   "source": [
    "df = pd.DataFrame(0, index=QUESTION_CATEGORIES, columns=sorted([BASE_FLUENTS, DERIVED_FLUENTS, PERSISTENT_FLUENTS, STATIC_FLUENTS, FLUENT_TYPES_ALL]))\n",
    "for q_id in selected_ids:\n",
    "    d = questions_no_sub_by_id[q_id]\n",
    "    df.loc[d[OUT_OBJ_QUESTION_CATEGORY]][d[OUT_OBJ_FLUENT_TYPE]] += 1\n",
    "df['total'] = df.sum(axis=1)\n",
    "df.loc['TOTAL'] = df.sum(axis=0)\n",
    "df.loc['TOTAL_PERCENT'] = df.loc['TOTAL']/df.loc['TOTAL']['total']\n",
    "df"
   ],
   "metadata": {
    "collapsed": false,
    "ExecuteTime": {
     "end_time": "2024-09-23T00:51:42.778216Z",
     "start_time": "2024-09-23T00:51:42.175438Z"
    }
   },
   "id": "25b7cffac3f89a0c",
   "execution_count": 188
  },
  {
   "cell_type": "code",
   "outputs": [
    {
     "name": "stdout",
     "output_type": "stream",
     "text": [
      "41 1283 0.03195635229929852\n"
     ]
    }
   ],
   "source": [
    "total_nones=0\n",
    "total_free = 0\n",
    "for qid in selected_ids:\n",
    "    q = questions_no_sub_by_id[qid]\n",
    "    if q[OUT_OBJ_ANSWER_TYPE] == FREE_ANSWER_TYPE:\n",
    "        total_free += 1\n",
    "        if q[OUT_OBJ_ANSWER] == 'None':\n",
    "            total_nones += 1\n",
    "print(total_nones, total_free, total_nones/total_free)"
   ],
   "metadata": {
    "collapsed": false,
    "ExecuteTime": {
     "end_time": "2024-09-23T00:51:49.694204Z",
     "start_time": "2024-09-23T00:51:49.683001Z"
    }
   },
   "id": "7742bd0787231440",
   "execution_count": 189
  },
  {
   "cell_type": "code",
   "outputs": [],
   "source": [
    "test_dataset = [questions_no_sub_by_id[id] for id in selected_ids]\n",
    "save_jsonl(test_dataset, 'test_dataset.jsonl')"
   ],
   "metadata": {
    "collapsed": false,
    "ExecuteTime": {
     "end_time": "2024-09-23T00:53:48.829592Z",
     "start_time": "2024-09-23T00:53:48.652697Z"
    }
   },
   "id": "2498dd5f2d079c61",
   "execution_count": 195
  },
  {
   "cell_type": "markdown",
   "source": [
    "# Train Data"
   ],
   "metadata": {
    "collapsed": false
   },
   "id": "5e4266373f1be3f5"
  },
  {
   "cell_type": "code",
   "outputs": [
    {
     "data": {
      "text/plain": "4828"
     },
     "execution_count": 6,
     "metadata": {},
     "output_type": "execute_result"
    }
   ],
   "source": [
    "train_data = open_jsonl('test_dataset.jsonl')\n",
    "selected_ids = [d['id'] for d in train_data]\n",
    "len(selected_ids)"
   ],
   "metadata": {
    "collapsed": false,
    "ExecuteTime": {
     "end_time": "2024-09-23T00:58:05.657977Z",
     "start_time": "2024-09-23T00:58:05.567902Z"
    }
   },
   "id": "7a054ba8e2196c8",
   "execution_count": 6
  },
  {
   "cell_type": "code",
   "outputs": [],
   "source": [
    "questions_no_sub_by_id = {id: questions_by_id[id][WITHOUT_RANDOM_SUB] for id in ids_filtered}"
   ],
   "metadata": {
    "collapsed": false,
    "ExecuteTime": {
     "end_time": "2024-09-23T01:05:31.001105Z",
     "start_time": "2024-09-23T01:05:30.810519Z"
    }
   },
   "id": "2b0031d7b0d56998",
   "execution_count": 27
  },
  {
   "cell_type": "code",
   "outputs": [],
   "source": [
    "train_dataset = [d for qid, d in questions_no_sub_by_id.items() if qid not in selected_ids]\n",
    "train_dataset_id = [d for d in train_dataset if d[OUT_OBJ_INSTANCE_ID] in set(instances_id_ls)]\n",
    "train_dataset_ood = [d for d in train_dataset if d[OUT_OBJ_INSTANCE_ID] not in set(instances_id_ls)]"
   ],
   "metadata": {
    "collapsed": false,
    "ExecuteTime": {
     "end_time": "2024-09-23T01:08:14.697958Z",
     "start_time": "2024-09-23T01:07:52.044592Z"
    }
   },
   "id": "9bbf41543085c413",
   "execution_count": 35
  },
  {
   "cell_type": "code",
   "outputs": [
    {
     "name": "stdout",
     "output_type": "stream",
     "text": [
      "107300 165801\n"
     ]
    }
   ],
   "source": [
    "print(len(train_dataset_id), len(train_dataset_ood))"
   ],
   "metadata": {
    "collapsed": false,
    "ExecuteTime": {
     "end_time": "2024-09-23T01:13:03.636013Z",
     "start_time": "2024-09-23T01:13:03.632735Z"
    }
   },
   "id": "21862861e8b66ff9",
   "execution_count": 44
  },
  {
   "cell_type": "code",
   "outputs": [],
   "source": [
    "# santity checks\n",
    "assert set()==(set([d[OUT_OBJ_ID] for d in train_dataset]).intersection(set(selected_ids)))\n",
    "assert set()==(set([d[OUT_OBJ_ID] for d in train_dataset_id]).intersection(set(selected_ids)))\n",
    "assert set()==(set([d[OUT_OBJ_ID] for d in train_dataset_ood]).intersection(set(selected_ids)))\n",
    "\n",
    "assert set()==(set([d[OUT_OBJ_ID] for d in train_dataset_id]).intersection(set([d[OUT_OBJ_ID] for d in train_dataset_ood])))\n"
   ],
   "metadata": {
    "collapsed": false,
    "ExecuteTime": {
     "end_time": "2024-09-23T01:09:16.914082Z",
     "start_time": "2024-09-23T01:09:16.457529Z"
    }
   },
   "id": "cd2f03184ae7e0ae",
   "execution_count": 40
  },
  {
   "cell_type": "code",
   "outputs": [],
   "source": [
    "save_jsonl(train_dataset_id, 'train_dataset_id.jsonl')\n",
    "save_jsonl(train_dataset_ood, 'train_dataset_ood.jsonl')"
   ],
   "metadata": {
    "collapsed": false,
    "ExecuteTime": {
     "end_time": "2024-09-23T01:09:48.279249Z",
     "start_time": "2024-09-23T01:09:41.771685Z"
    }
   },
   "id": "c1b5c2d85c6abe13",
   "execution_count": 41
  },
  {
   "cell_type": "code",
   "outputs": [],
   "source": [
    "for d in train_dataset_id:\n",
    "    qid = d[OUT_OBJ_ID]\n",
    "    del d[OUT_OBJ_ID]"
   ],
   "metadata": {
    "collapsed": false
   },
   "id": "b1a68d4e723ac97b"
  },
  {
   "cell_type": "code",
   "outputs": [
    {
     "data": {
      "text/plain": "                        true_false_answer   free_answer     total\naction_executability          9430.000000   5907.000000   15337.0\ncomposite                    33407.000000   5746.000000   39153.0\neffects                       7217.000000   6919.000000   14136.0\nfluent_tracking              72560.000000  36991.000000  109551.0\nnumerical_reasoning          34148.000000  17074.000000   51222.0\nstate_tracking               13864.000000   6916.000000   20780.0\nALL_CATEGORIES              170626.000000  79553.000000  250179.0\nALL_CATEGORIES_PERCENT           0.682016      0.317984       1.0",
      "text/html": "<div>\n<style scoped>\n    .dataframe tbody tr th:only-of-type {\n        vertical-align: middle;\n    }\n\n    .dataframe tbody tr th {\n        vertical-align: top;\n    }\n\n    .dataframe thead th {\n        text-align: right;\n    }\n</style>\n<table border=\"1\" class=\"dataframe\">\n  <thead>\n    <tr style=\"text-align: right;\">\n      <th></th>\n      <th>true_false_answer</th>\n      <th>free_answer</th>\n      <th>total</th>\n    </tr>\n  </thead>\n  <tbody>\n    <tr>\n      <th>action_executability</th>\n      <td>9430.000000</td>\n      <td>5907.000000</td>\n      <td>15337.0</td>\n    </tr>\n    <tr>\n      <th>composite</th>\n      <td>33407.000000</td>\n      <td>5746.000000</td>\n      <td>39153.0</td>\n    </tr>\n    <tr>\n      <th>effects</th>\n      <td>7217.000000</td>\n      <td>6919.000000</td>\n      <td>14136.0</td>\n    </tr>\n    <tr>\n      <th>fluent_tracking</th>\n      <td>72560.000000</td>\n      <td>36991.000000</td>\n      <td>109551.0</td>\n    </tr>\n    <tr>\n      <th>numerical_reasoning</th>\n      <td>34148.000000</td>\n      <td>17074.000000</td>\n      <td>51222.0</td>\n    </tr>\n    <tr>\n      <th>state_tracking</th>\n      <td>13864.000000</td>\n      <td>6916.000000</td>\n      <td>20780.0</td>\n    </tr>\n    <tr>\n      <th>ALL_CATEGORIES</th>\n      <td>170626.000000</td>\n      <td>79553.000000</td>\n      <td>250179.0</td>\n    </tr>\n    <tr>\n      <th>ALL_CATEGORIES_PERCENT</th>\n      <td>0.682016</td>\n      <td>0.317984</td>\n      <td>1.0</td>\n    </tr>\n  </tbody>\n</table>\n</div>"
     },
     "execution_count": 31,
     "metadata": {},
     "output_type": "execute_result"
    }
   ],
   "source": [
    "train_data = open_jsonl('train_dataset_id.jsonl') + open_jsonl('train_dataset_ood.jsonl')\n",
    "\n",
    "df = pd.DataFrame(0, index=sorted(QUESTION_CATEGORIES), columns=[TRUE_FALSE_ANSWER_TYPE, FREE_ANSWER_TYPE])\n",
    "for d in train_data:\n",
    "    df.loc[d[OUT_OBJ_QUESTION_CATEGORY]][d[OUT_OBJ_ANSWER_TYPE]] += 1\n",
    "df['total'] = df.sum(axis=1)\n",
    "df.loc['ALL_CATEGORIES'] = df.sum(axis=0)\n",
    "df.loc['ALL_CATEGORIES_PERCENT'] = df.loc['ALL_CATEGORIES']/df.loc['ALL_CATEGORIES']['total']\n",
    "df"
   ],
   "metadata": {
    "collapsed": false,
    "ExecuteTime": {
     "end_time": "2024-09-23T20:10:12.947316Z",
     "start_time": "2024-09-23T20:09:21.245062Z"
    }
   },
   "id": "c2a8571ff95d620f",
   "execution_count": 31
  },
  {
   "cell_type": "code",
   "outputs": [
    {
     "data": {
      "text/plain": "                    true_false_answer   free_answer     total\nall_fluents              61826.000000  79553.000000  141379.0\nbase_fluents             19398.000000      0.000000   19398.0\nderived_fluents          25875.000000      0.000000   25875.0\npersistent_fluents       38115.000000      0.000000   38115.0\nstatic_fluents           25412.000000      0.000000   25412.0\nTOTAL                   170626.000000  79553.000000  250179.0\nTOTAL_PERCENT                0.682016      0.317984       1.0",
      "text/html": "<div>\n<style scoped>\n    .dataframe tbody tr th:only-of-type {\n        vertical-align: middle;\n    }\n\n    .dataframe tbody tr th {\n        vertical-align: top;\n    }\n\n    .dataframe thead th {\n        text-align: right;\n    }\n</style>\n<table border=\"1\" class=\"dataframe\">\n  <thead>\n    <tr style=\"text-align: right;\">\n      <th></th>\n      <th>true_false_answer</th>\n      <th>free_answer</th>\n      <th>total</th>\n    </tr>\n  </thead>\n  <tbody>\n    <tr>\n      <th>all_fluents</th>\n      <td>61826.000000</td>\n      <td>79553.000000</td>\n      <td>141379.0</td>\n    </tr>\n    <tr>\n      <th>base_fluents</th>\n      <td>19398.000000</td>\n      <td>0.000000</td>\n      <td>19398.0</td>\n    </tr>\n    <tr>\n      <th>derived_fluents</th>\n      <td>25875.000000</td>\n      <td>0.000000</td>\n      <td>25875.0</td>\n    </tr>\n    <tr>\n      <th>persistent_fluents</th>\n      <td>38115.000000</td>\n      <td>0.000000</td>\n      <td>38115.0</td>\n    </tr>\n    <tr>\n      <th>static_fluents</th>\n      <td>25412.000000</td>\n      <td>0.000000</td>\n      <td>25412.0</td>\n    </tr>\n    <tr>\n      <th>TOTAL</th>\n      <td>170626.000000</td>\n      <td>79553.000000</td>\n      <td>250179.0</td>\n    </tr>\n    <tr>\n      <th>TOTAL_PERCENT</th>\n      <td>0.682016</td>\n      <td>0.317984</td>\n      <td>1.0</td>\n    </tr>\n  </tbody>\n</table>\n</div>"
     },
     "execution_count": 32,
     "metadata": {},
     "output_type": "execute_result"
    }
   ],
   "source": [
    "df = pd.DataFrame(0, index=sorted([BASE_FLUENTS, DERIVED_FLUENTS, PERSISTENT_FLUENTS, STATIC_FLUENTS, FLUENT_TYPES_ALL]), columns=[TRUE_FALSE_ANSWER_TYPE, FREE_ANSWER_TYPE])\n",
    "for d in train_data:\n",
    "    df.loc[d[OUT_OBJ_FLUENT_TYPE]][d[OUT_OBJ_ANSWER_TYPE]] += 1\n",
    "df['total'] = df.sum(axis=1)\n",
    "df.loc['TOTAL'] = df.sum(axis=0)\n",
    "df.loc['TOTAL_PERCENT'] = df.loc['TOTAL']/df.loc['TOTAL']['total']\n",
    "df"
   ],
   "metadata": {
    "collapsed": false,
    "ExecuteTime": {
     "end_time": "2024-09-23T20:10:43.114110Z",
     "start_time": "2024-09-23T20:10:12.951540Z"
    }
   },
   "id": "9c7d0434d2bbc75f",
   "execution_count": 32
  },
  {
   "cell_type": "code",
   "outputs": [
    {
     "name": "stdout",
     "output_type": "stream",
     "text": [
      "1249 79553 0.015700225007227887\n"
     ]
    }
   ],
   "source": [
    "total_nones=0\n",
    "total_free = 0\n",
    "for d in train_data:\n",
    "    if d[OUT_OBJ_ANSWER_TYPE] == FREE_ANSWER_TYPE:\n",
    "        total_free += 1\n",
    "        if d[OUT_OBJ_ANSWER] == 'None':\n",
    "            total_nones += 1\n",
    "print(total_nones, total_free, total_nones/total_free)"
   ],
   "metadata": {
    "collapsed": false,
    "ExecuteTime": {
     "end_time": "2024-09-23T20:11:29.716453Z",
     "start_time": "2024-09-23T20:11:27.794761Z"
    }
   },
   "id": "b1f5a8cde05534ad",
   "execution_count": 33
  },
  {
   "cell_type": "code",
   "outputs": [],
   "source": [],
   "metadata": {
    "collapsed": false
   },
   "id": "862d92c59aaa84c"
  }
 ],
 "metadata": {
  "kernelspec": {
   "display_name": "Python 3",
   "language": "python",
   "name": "python3"
  },
  "language_info": {
   "codemirror_mode": {
    "name": "ipython",
    "version": 2
   },
   "file_extension": ".py",
   "mimetype": "text/x-python",
   "name": "python",
   "nbconvert_exporter": "python",
   "pygments_lexer": "ipython2",
   "version": "2.7.6"
  }
 },
 "nbformat": 4,
 "nbformat_minor": 5
}
