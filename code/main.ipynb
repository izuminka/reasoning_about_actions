{
 "cells": [
  {
   "cell_type": "code",
   "execution_count": 15,
   "id": "initial_id",
   "metadata": {
    "collapsed": true,
    "ExecuteTime": {
     "end_time": "2024-01-27T02:57:20.325843Z",
     "start_time": "2024-01-27T02:57:20.320418Z"
    }
   },
   "outputs": [],
   "source": [
    "import os\n",
    "from main import *\n",
    "\n",
    "project_path = os.path.dirname(os.path.dirname(os.path.abspath('__file__')))\n",
    "ASP_PATH = os.path.join(project_path, 'data/initial/asp')\n",
    "asp_general_path = os.path.join(ASP_PATH, 'asp_general.lp')"
   ]
  },
  {
   "cell_type": "markdown",
   "source": [
    "# Assemble and Execute ASP script"
   ],
   "metadata": {
    "collapsed": false
   },
   "id": "9af0f99df6d24ef1"
  },
  {
   "cell_type": "code",
   "outputs": [],
   "source": [
    "domain_name = 'blocksworld'\n",
    "instance_number = '1'"
   ],
   "metadata": {
    "collapsed": false,
    "ExecuteTime": {
     "end_time": "2024-01-27T02:57:21.048094Z",
     "start_time": "2024-01-27T02:57:21.044477Z"
    }
   },
   "id": "db29490a62f9c5dc",
   "execution_count": 16
  },
  {
   "cell_type": "code",
   "outputs": [
    {
     "name": "stdout",
     "output_type": "stream",
     "text": [
      "% GENERAL -------------------- \n",
      "\n",
      "nfluent(neg(X)) :- pfluent(X).\n",
      "fluent(X) :- pfluent(X).\n",
      "fluent(X) :- nfluent(X).\n",
      "\n",
      "%General support for actions and exec\n",
      "holds(F, T+1) :- time(T), action(A), fluent(F), cond(C), causes(A,F,C), occurs(A,T), all_holds(C,T).\n",
      "not_all_holds(C,T) :- time(T), cond(C), fluent(P), in (P, C), not holds(P,T).\n",
      "all_holds(C,T) :- time(T), cond(C), not not_all_holds(C,T).\n",
      "executable(A,T) :- time(T), action(A), cond(C), exec(A,C), all_holds(C,T).\n",
      ":- time(T), action(A), occurs(A,T), not executable(A,T).\n",
      "holds(F, T+1) :- holds(F,T), not holds(neg(F), T+1), pfluent(F), time(T).\n",
      "holds(neg(F), T+1) :- holds(neg(F),T), not holds(F, T+1), pfluent(F), time(T).\n",
      "\n",
      "% Time iteration for indefinite time\n",
      "% init and goal definitions\n",
      "time(0..30).\n",
      "not_exit(T) :- time(T), goal(F), fluent(F), not holds(F,T).  % Goal is not true in time T, if there is a goal F and it is not true in T.\n",
      "exit(T) :- time(T), not not_exit(T).\n",
      "done_time(T) :- time(T), exit(T).\n",
      "1 { occurs(A,T) : action(A) } 1:- time(T), not done_time(T).\n",
      "exit :- time(T), exit(T).\n",
      ":- not exit.\n",
      "\n",
      "#minimize{1,A, T:occurs(A, T)}.\n",
      "\n",
      "holds(C,0) :- init(C).\n",
      "\n",
      "% Output\n",
      "#show occurs/2.\n",
      "\n",
      "\n",
      "% DOMAIN  --------------------\n",
      "\n",
      "% I have the following types:\n",
      "object(B) :- block(B).\n",
      "block(B) :- block(B).\n",
      "\n",
      "% I have the following predicates:\n",
      "pfluent(on(B1, B2)) :- block(B1), block(B2), B1 != B2.\n",
      "pfluent(ontable(B)) :- block(B).\n",
      "pfluent(clear(B)) :- block(B).\n",
      "pfluent(handempty).\n",
      "pfluent(holding(B)) :- block(B).\n",
      "\n",
      "% I have the following actions and restrictions:\n",
      "action(action_pick_up(B)) :- block(B).\n",
      "cond(cond_exec_pick_up(B)) :- block(B).\n",
      "exec(action_pick_up(B), cond_exec_pick_up(B)) :- block(B).\n",
      "cond(cond_causes_pick_up(B)) :- block(B).\n",
      "\n",
      "action(action_put_down(B)) :- block(B).\n",
      "cond(cond_exec_put_down(B)) :- block(B).\n",
      "exec(action_put_down(B), cond_exec_put_down(B)) :- block(B).\n",
      "cond(cond_causes_put_down(B)) :- block(B).\n",
      "\n",
      "action(action_stack(B1, B2)) :- block(B1), block(B2), B1 != B2.\n",
      "cond(cond_exec_stack(B1, B2)) :- block(B1), block(B2), B1 != B2.\n",
      "exec(action_stack(B1, B2), cond_exec_stack(B1, B2)) :- block(B1), block(B2), B1 != B2.\n",
      "cond(cond_causes_stack(B1, B2)) :- block(B1), block(B2), B1 != B2.\n",
      "\n",
      "action(action_unstack(B1, B2)) :- block(B1), block(B2), B1 != B2.\n",
      "cond(cond_exec_unstack(B1, B2)) :- block(B1), block(B2), B1 != B2.\n",
      "exec(action_unstack(B1, B2), cond_exec_unstack(B1, B2)) :- block(B1), block(B2), B1 != B2.\n",
      "cond(cond_causes_unstack(B1, B2)) :- block(B1), block(B2), B1 != B2.\n",
      "\n",
      "% Action Pick up preconditions\n",
      "in(clear(B), cond_exec_pick_up(B)) :- block(B).\n",
      "in(ontable(B), cond_exec_pick_up(B)) :- block(B).\n",
      "in(handempty, cond_exec_pick_up(B)) :- block(B).\n",
      "\n",
      "% Action Pick up effects\n",
      "causes(action_pick_up(B), neg(ontable(B)), cond_causes_pick_up(B)) :- block(B).\n",
      "causes(action_pick_up(B), neg(clear(B)), cond_causes_pick_up(B)) :- block(B).\n",
      "causes(action_pick_up(B), neg(handempty), cond_causes_pick_up(B)) :- block(B).\n",
      "causes(action_pick_up(B), holding(B), cond_causes_pick_up(B)) :- block(B).\n",
      "\n",
      "% Action Put down preconditions\n",
      "in(holding(B), cond_exec_put_down(B)) :- block(B).\n",
      "\n",
      "% Action Put down effects\n",
      "causes(action_put_down(B), neg(holding(B)), cond_causes_put_down(B)) :- block(B).\n",
      "causes(action_put_down(B), clear(B), cond_causes_put_down(B)) :- block(B).\n",
      "causes(action_put_down(B), handempty, cond_causes_put_down(B)) :- block(B).\n",
      "causes(action_put_down(B), ontable(B), cond_causes_put_down(B)) :- block(B).\n",
      "\n",
      "% Action Stack preconditions\n",
      "in(holding(B1), cond_exec_stack(B1, B2)) :- block(B1), block(B2), B1 != B2.\n",
      "in(clear(B2), cond_exec_stack(B1, B2)) :- block(B1), block(B2), B1 != B2.\n",
      "\n",
      "% Action Stack effects\n",
      "causes(action_stack(B1, B2), neg(holding(B1)), cond_causes_stack(B1, B2)) :- block(B1), block(B2), B1 != B2.\n",
      "causes(action_stack(B1, B2), neg(clear(B2)), cond_causes_stack(B1, B2)) :- block(B1), block(B2), B1 != B2.\n",
      "causes(action_stack(B1, B2), clear(B1), cond_causes_stack(B1, B2)) :- block(B1), block(B2), B1 != B2.\n",
      "causes(action_stack(B1, B2), handempty, cond_causes_stack(B1, B2)) :- block(B1), block(B2), B1 != B2.\n",
      "causes(action_stack(B1, B2), on(B1, B2), cond_causes_stack(B1, B2)) :- block(B1), block(B2), B1 != B2.\n",
      "\n",
      "% Action Unstack preconditions\n",
      "in(on(B1, B2), cond_exec_unstack(B1, B2)) :- block(B1), block(B2), B1 != B2.\n",
      "in(clear(B1), cond_exec_unstack(B1, B2)) :- block(B1), block(B2), B1 != B2.\n",
      "in(handempty, cond_exec_unstack(B1, B2)) :- block(B1), block(B2), B1 != B2.\n",
      "\n",
      "% Action Unstack effects\n",
      "causes(action_unstack(B1, B2), holding(B1), cond_causes_unstack(B1, B2)) :- block(B1), block(B2), B1 != B2.\n",
      "causes(action_unstack(B1, B2), clear(B2), cond_causes_unstack(B1, B2)) :- block(B1), block(B2), B1 != B2.\n",
      "causes(action_unstack(B1, B2), neg(clear(B1)), cond_causes_unstack(B1, B2)) :- block(B1), block(B2), B1 != B2.\n",
      "causes(action_unstack(B1, B2), neg(handempty), cond_causes_unstack(B1, B2)) :- block(B1), block(B2), B1 != B2.\n",
      "causes(action_unstack(B1, B2), neg(on(B1, B2)), cond_causes_unstack(B1, B2)) :- block(B1), block(B2), B1 != B2.\n",
      "\n",
      "% OBJECTS & INIT/GOAL --------------------\n",
      "\n",
      "% Objects:\n",
      "block(b1; b2; b3; b4; b5; b6; b7; b8; b9).\n",
      "\n",
      "% Initial State:\n",
      "init(handempty;\n",
      "on(b1, b9);\n",
      "on(b2, b6);\n",
      "on(b3, b2);\n",
      "on(b4, b7);\n",
      "ontable(b5);\n",
      "on(b6, b8);\n",
      "ontable(b7);\n",
      "on(b8, b4);\n",
      "ontable(b9);\n",
      "clear(b1);\n",
      "clear(b3);\n",
      "clear(b5)).\n",
      "\n",
      "% Goal State:\n",
      "goal(on(b2, b6);\n",
      "on(b3, b8);\n",
      "on(b4, b1);\n",
      "on(b5, b2);\n",
      "on(b6, b9);\n",
      "on(b7, b4);\n",
      "on(b8, b7)).\n"
     ]
    }
   ],
   "source": [
    "domain_path = os.path.join(ASP_PATH, domain_name, 'domain.lp')\n",
    "instance_path = os.path.join(ASP_PATH, domain_name, 'instances', instance_number, 'init_goal.lp')\n",
    "instance_plan_path = os.path.join(ASP_PATH, domain_name, 'instances', instance_number, 'init_goal.lp.sol')\n",
    "\n",
    "asp_script = assemble_asp(domain_path, instance_path, asp_general_path)\n",
    "print(asp_script)"
   ],
   "metadata": {
    "collapsed": false,
    "ExecuteTime": {
     "end_time": "2024-01-27T02:57:21.338968Z",
     "start_time": "2024-01-27T02:57:21.334971Z"
    }
   },
   "id": "c46edf58e1d467f5",
   "execution_count": 17
  },
  {
   "cell_type": "code",
   "outputs": [],
   "source": [
    "execute_asp(asp_path, solution_save_path, time_limit = ASP_EXECUTION_TIME_LIMIT)"
   ],
   "metadata": {
    "collapsed": false
   },
   "id": "90bef14dd348017d"
  }
 ],
 "metadata": {
  "kernelspec": {
   "display_name": "Python 3",
   "language": "python",
   "name": "python3"
  },
  "language_info": {
   "codemirror_mode": {
    "name": "ipython",
    "version": 2
   },
   "file_extension": ".py",
   "mimetype": "text/x-python",
   "name": "python",
   "nbconvert_exporter": "python",
   "pygments_lexer": "ipython2",
   "version": "2.7.6"
  }
 },
 "nbformat": 4,
 "nbformat_minor": 5
}
