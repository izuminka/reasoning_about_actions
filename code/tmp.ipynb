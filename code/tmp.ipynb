{
 "cells": [
  {
   "cell_type": "code",
   "execution_count": 3,
   "id": "initial_id",
   "metadata": {
    "collapsed": true,
    "ExecuteTime": {
     "end_time": "2024-01-30T22:03:24.595110Z",
     "start_time": "2024-01-30T22:03:24.517704Z"
    }
   },
   "outputs": [],
   "source": [
    "from clyngor import ASP\n",
    "from clyngor.inline import ASP_last_model\n",
    "\n",
    "from main import *"
   ]
  },
  {
   "cell_type": "code",
   "outputs": [],
   "source": [
    "# import os\n",
    "# domain_path = '/Users/paveldolin/dev/research/current/reasoning_about_actions/pipeline/data/initial/asp/domains/blocksworld/domain.lp'\n",
    "# instance_path = '/Users/paveldolin/dev/research/current/reasoning_about_actions/pipeline/data/initial/asp/domains/blocksworld/instances/inst1.lp'\n",
    "# sequence_path = '/Users/paveldolin/dev/research/current/reasoning_about_actions/pipeline/data/initial/asp/domains/blocksworld/instances/seq1.lp'\n",
    "# general_code_path = '/Users/paveldolin/dev/research/current/reasoning_about_actions/pipeline/code/ASP/check_sequence.lp'\n",
    "# \n",
    "# paths = [domain_path, instance_path, general_code_path, sequence_path]\n",
    "# \n",
    "# clingo_command = f\"clingo --opt-mode=OptN --time-limit=10 --outf=0 -V0 --out-atomf=%s. --quiet=1,2,2 {' '.join(paths)} | head -n1 | tr ' ' '\\n' \"\n",
    "# os.system(clingo_command)"
   ],
   "metadata": {
    "collapsed": false,
    "ExecuteTime": {
     "end_time": "2024-01-30T22:03:24.763797Z",
     "start_time": "2024-01-30T22:03:24.759995Z"
    }
   },
   "id": "5a9d33ca5e85a18e",
   "execution_count": 4
  },
  {
   "cell_type": "code",
   "outputs": [],
   "source": [
    "domain_path = '/Users/paveldolin/dev/research/current/reasoning_about_actions/pipeline/data/initial/asp/domains/blocksworld/domain.lp'\n",
    "init_path = '/Users/paveldolin/dev/research/current/reasoning_about_actions/pipeline/data/initial/asp/domains/blocksworld/instances/inst1/init.lp'\n",
    "objects_path = '/Users/paveldolin/dev/research/current/reasoning_about_actions/pipeline/data/initial/asp/domains/blocksworld/instances/inst1/objects.lp'\n",
    "\n",
    "d = DataGenerator(domain_path, init_path, objects_path)"
   ],
   "metadata": {
    "collapsed": false,
    "ExecuteTime": {
     "end_time": "2024-01-30T22:03:24.949107Z",
     "start_time": "2024-01-30T22:03:24.940225Z"
    }
   },
   "id": "c2201443712622b6",
   "execution_count": 5
  },
  {
   "cell_type": "code",
   "outputs": [
    {
     "data": {
      "text/plain": "{'clear(b1)',\n 'clear(b3)',\n 'clear(b5)',\n 'handempty',\n 'on(b1, b9)',\n 'on(b2, b6)',\n 'on(b3, b2)',\n 'on(b4, b7)',\n 'on(b6, b8)',\n 'on(b8, b4)',\n 'ontable(b5)',\n 'ontable(b7)',\n 'ontable(b9)'}"
     },
     "execution_count": 6,
     "metadata": {},
     "output_type": "execute_result"
    }
   ],
   "source": [
    "d.initial_state"
   ],
   "metadata": {
    "collapsed": false,
    "ExecuteTime": {
     "end_time": "2024-01-30T22:03:25.149545Z",
     "start_time": "2024-01-30T22:03:25.140705Z"
    }
   },
   "id": "d00c41a99525523c",
   "execution_count": 6
  },
  {
   "cell_type": "code",
   "outputs": [
    {
     "data": {
      "text/plain": "'block(b1; b2; b3; b4; b5; b6; b7; b8; b9).'"
     },
     "execution_count": 7,
     "metadata": {},
     "output_type": "execute_result"
    }
   ],
   "source": [
    "d.objects"
   ],
   "metadata": {
    "collapsed": false,
    "ExecuteTime": {
     "end_time": "2024-01-30T22:03:25.643948Z",
     "start_time": "2024-01-30T22:03:25.637126Z"
    }
   },
   "id": "235109703d269a5f",
   "execution_count": 7
  },
  {
   "cell_type": "code",
   "outputs": [
    {
     "data": {
      "text/plain": "set()"
     },
     "execution_count": 8,
     "metadata": {},
     "output_type": "execute_result"
    }
   ],
   "source": [
    "d.next_state(d.initial_state, 'action_unstack(b3,b1)')"
   ],
   "metadata": {
    "collapsed": false,
    "ExecuteTime": {
     "end_time": "2024-01-30T22:06:07.127660Z",
     "start_time": "2024-01-30T22:06:07.059261Z"
    }
   },
   "id": "c2fd5cfd044b6790",
   "execution_count": 8
  },
  {
   "cell_type": "code",
   "outputs": [
    {
     "data": {
      "text/plain": "{'clear(b1)',\n 'clear(b2)',\n 'clear(b5)',\n 'holding(b3)',\n 'on(b1,b9)',\n 'on(b2,b6)',\n 'on(b4,b7)',\n 'on(b6,b8)',\n 'on(b8,b4)',\n 'ontable(b5)',\n 'ontable(b7)',\n 'ontable(b9)'}"
     },
     "execution_count": 9,
     "metadata": {},
     "output_type": "execute_result"
    }
   ],
   "source": [
    "d.next_state(d.initial_state, 'action_unstack(b3,b2)')"
   ],
   "metadata": {
    "collapsed": false,
    "ExecuteTime": {
     "end_time": "2024-01-30T22:19:30.903377Z",
     "start_time": "2024-01-30T22:19:29.211982Z"
    }
   },
   "id": "148e4416d22b38a8",
   "execution_count": 9
  },
  {
   "cell_type": "code",
   "outputs": [],
   "source": [],
   "metadata": {
    "collapsed": false
   },
   "id": "3ce4b8f389131571"
  }
 ],
 "metadata": {
  "kernelspec": {
   "display_name": "Python 3",
   "language": "python",
   "name": "python3"
  },
  "language_info": {
   "codemirror_mode": {
    "name": "ipython",
    "version": 2
   },
   "file_extension": ".py",
   "mimetype": "text/x-python",
   "name": "python",
   "nbconvert_exporter": "python",
   "pygments_lexer": "ipython2",
   "version": "2.7.6"
  }
 },
 "nbformat": 4,
 "nbformat_minor": 5
}
