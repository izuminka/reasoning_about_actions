{
 "cells": [
  {
   "cell_type": "code",
   "execution_count": 89,
   "id": "initial_id",
   "metadata": {
    "collapsed": true,
    "ExecuteTime": {
     "end_time": "2024-01-30T06:42:33.207644Z",
     "start_time": "2024-01-30T06:42:33.143369Z"
    }
   },
   "outputs": [
    {
     "name": "stdout",
     "output_type": "stream",
     "text": [
      "frozenset({('obj', ('b',)), ('rel', ('a', 'd')), ('rel', ('b', 'e')), ('rel', ('a', 'c')), ('rel', ('b', 'd')), ('att', ('d',)), ('obj', ('a',))})\n",
      "frozenset({('rel', ('a', 'd')), ('rel', ('b', 'e')), ('att', ('c',)), ('rel', ('a', 'c')), ('rel', ('b', 'd')), ('att', ('d',)), ('obj', ('a',))})\n",
      "frozenset({('att', ('e',)), ('obj', ('b',)), ('rel', ('a', 'd')), ('rel', ('b', 'e')), ('rel', ('a', 'c')), ('rel', ('b', 'd')), ('att', ('d',))})\n"
     ]
    }
   ],
   "source": [
    "from clyngor import ASP, solve\n",
    "TIME_LIMIT = 10\n",
    "answers = ASP(\"\"\"\n",
    "rel(a,(c;d)). rel(b,(d;e)).\n",
    "obj(X):- rel(X,_) ; rel(X,Y): att(Y).\n",
    "att(Y):- rel(_,Y) ; rel(X,Y): obj(X).\n",
    ":- not obj(X):obj(X).\n",
    ":- not att(Y):att(Y).\n",
    "\"\"\")\n",
    "for answer in answers:\n",
    "    print(answers)"
   ]
  },
  {
   "cell_type": "code",
   "outputs": [
    {
     "ename": "AttributeError",
     "evalue": "'set' object has no attribute 'join'",
     "output_type": "error",
     "traceback": [
      "\u001B[0;31m---------------------------------------------------------------------------\u001B[0m",
      "\u001B[0;31mAttributeError\u001B[0m                            Traceback (most recent call last)",
      "Input \u001B[0;32mIn [109]\u001B[0m, in \u001B[0;36m<cell line: 1>\u001B[0;34m()\u001B[0m\n\u001B[0;32m----> 1\u001B[0m \u001B[38;5;28;43mset\u001B[39;49m\u001B[43m(\u001B[49m\u001B[43m[\u001B[49m\u001B[38;5;241;43m1\u001B[39;49m\u001B[43m,\u001B[49m\u001B[38;5;241;43m2\u001B[39;49m\u001B[43m,\u001B[49m\u001B[38;5;241;43m3\u001B[39;49m\u001B[43m]\u001B[49m\u001B[43m)\u001B[49m\u001B[38;5;241;43m.\u001B[39;49m\u001B[43mjoin\u001B[49m(\u001B[38;5;124m'\u001B[39m\u001B[38;5;124m;\u001B[39m\u001B[38;5;124m'\u001B[39m)\n",
      "\u001B[0;31mAttributeError\u001B[0m: 'set' object has no attribute 'join'"
     ]
    }
   ],
   "source": [
    "set([1,2,3]).join(';')"
   ],
   "metadata": {
    "collapsed": false,
    "ExecuteTime": {
     "end_time": "2024-01-30T07:24:48.280764Z",
     "start_time": "2024-01-30T07:24:48.259807Z"
    }
   },
   "id": "ac7fd7b5a5a22233",
   "execution_count": 109
  },
  {
   "cell_type": "markdown",
   "source": [
    "# Show Actions"
   ],
   "metadata": {
    "collapsed": false
   },
   "id": "ddf6e59ab5b2ca2"
  },
  {
   "cell_type": "code",
   "outputs": [
    {
     "name": "stdout",
     "output_type": "stream",
     "text": [
      "{\n",
      "  \"Solver\": \"clingo version 5.6.2\",\n",
      "  \"Input\": [\n",
      "    \"/Users/paveldolin/dev/research/current/reasoning_about_actions/pipeline/data/initial/asp/domains/blocksworld/domain.lp\",\"/Users/paveldolin/dev/research/current/reasoning_about_actions/pipeline/code/inst1.1.lp\",\"/Users/paveldolin/dev/research/current/reasoning_about_actions/pipeline/code/ASP/show_actions.lp\"\n",
      "  ],\n",
      "  \"Call\": [\n",
      "    {\n",
      "      \"Witnesses\": [\n",
      "        {\n",
      "          \"Value\": [\n",
      "            \"action(action_unstack(b2,b1))\", \"action(action_unstack(b3,b1))\", \"action(action_unstack(b4,b1))\", \"action(action_unstack(b5,b1))\", \"action(action_unstack(b6,b1))\", \"action(action_unstack(b7,b1))\", \"action(action_unstack(b8,b1))\", \"action(action_unstack(b9,b1))\", \"action(action_unstack(b1,b2))\", \"action(action_unstack(b3,b2))\", \"action(action_unstack(b4,b2))\", \"action(action_unstack(b5,b2))\", \"action(action_unstack(b6,b2))\", \"action(action_unstack(b7,b2))\", \"action(action_unstack(b8,b2))\", \"action(action_unstack(b9,b2))\", \"action(action_unstack(b1,b3))\", \"action(action_unstack(b2,b3))\", \"action(action_unstack(b4,b3))\", \"action(action_unstack(b5,b3))\", \"action(action_unstack(b6,b3))\", \"action(action_unstack(b7,b3))\", \"action(action_unstack(b8,b3))\", \"action(action_unstack(b9,b3))\", \"action(action_unstack(b1,b4))\", \"action(action_unstack(b2,b4))\", \"action(action_unstack(b3,b4))\", \"action(action_unstack(b5,b4))\", \"action(action_unstack(b6,b4))\", \"action(action_unstack(b7,b4))\", \"action(action_unstack(b8,b4))\", \"action(action_unstack(b9,b4))\", \"action(action_unstack(b1,b5))\", \"action(action_unstack(b2,b5))\", \"action(action_unstack(b3,b5))\", \"action(action_unstack(b4,b5))\", \"action(action_unstack(b6,b5))\", \"action(action_unstack(b7,b5))\", \"action(action_unstack(b8,b5))\", \"action(action_unstack(b9,b5))\", \"action(action_unstack(b1,b6))\", \"action(action_unstack(b2,b6))\", \"action(action_unstack(b3,b6))\", \"action(action_unstack(b4,b6))\", \"action(action_unstack(b5,b6))\", \"action(action_unstack(b7,b6))\", \"action(action_unstack(b8,b6))\", \"action(action_unstack(b9,b6))\", \"action(action_unstack(b1,b7))\", \"action(action_unstack(b2,b7))\", \"action(action_unstack(b3,b7))\", \"action(action_unstack(b4,b7))\", \"action(action_unstack(b5,b7))\", \"action(action_unstack(b6,b7))\", \"action(action_unstack(b8,b7))\", \"action(action_unstack(b9,b7))\", \"action(action_unstack(b1,b8))\", \"action(action_unstack(b2,b8))\", \"action(action_unstack(b3,b8))\", \"action(action_unstack(b4,b8))\", \"action(action_unstack(b5,b8))\", \"action(action_unstack(b6,b8))\", \"action(action_unstack(b7,b8))\", \"action(action_unstack(b9,b8))\", \"action(action_unstack(b1,b9))\", \"action(action_unstack(b2,b9))\", \"action(action_unstack(b3,b9))\", \"action(action_unstack(b4,b9))\", \"action(action_unstack(b5,b9))\", \"action(action_unstack(b6,b9))\", \"action(action_unstack(b7,b9))\", \"action(action_unstack(b8,b9))\", \"action(action_stack(b2,b1))\", \"action(action_stack(b3,b1))\", \"action(action_stack(b4,b1))\", \"action(action_stack(b5,b1))\", \"action(action_stack(b6,b1))\", \"action(action_stack(b7,b1))\", \"action(action_stack(b8,b1))\", \"action(action_stack(b9,b1))\", \"action(action_stack(b1,b2))\", \"action(action_stack(b3,b2))\", \"action(action_stack(b4,b2))\", \"action(action_stack(b5,b2))\", \"action(action_stack(b6,b2))\", \"action(action_stack(b7,b2))\", \"action(action_stack(b8,b2))\", \"action(action_stack(b9,b2))\", \"action(action_stack(b1,b3))\", \"action(action_stack(b2,b3))\", \"action(action_stack(b4,b3))\", \"action(action_stack(b5,b3))\", \"action(action_stack(b6,b3))\", \"action(action_stack(b7,b3))\", \"action(action_stack(b8,b3))\", \"action(action_stack(b9,b3))\", \"action(action_stack(b1,b4))\", \"action(action_stack(b2,b4))\", \"action(action_stack(b3,b4))\", \"action(action_stack(b5,b4))\", \"action(action_stack(b6,b4))\", \"action(action_stack(b7,b4))\", \"action(action_stack(b8,b4))\", \"action(action_stack(b9,b4))\", \"action(action_stack(b1,b5))\", \"action(action_stack(b2,b5))\", \"action(action_stack(b3,b5))\", \"action(action_stack(b4,b5))\", \"action(action_stack(b6,b5))\", \"action(action_stack(b7,b5))\", \"action(action_stack(b8,b5))\", \"action(action_stack(b9,b5))\", \"action(action_stack(b1,b6))\", \"action(action_stack(b2,b6))\", \"action(action_stack(b3,b6))\", \"action(action_stack(b4,b6))\", \"action(action_stack(b5,b6))\", \"action(action_stack(b7,b6))\", \"action(action_stack(b8,b6))\", \"action(action_stack(b9,b6))\", \"action(action_stack(b1,b7))\", \"action(action_stack(b2,b7))\", \"action(action_stack(b3,b7))\", \"action(action_stack(b4,b7))\", \"action(action_stack(b5,b7))\", \"action(action_stack(b6,b7))\", \"action(action_stack(b8,b7))\", \"action(action_stack(b9,b7))\", \"action(action_stack(b1,b8))\", \"action(action_stack(b2,b8))\", \"action(action_stack(b3,b8))\", \"action(action_stack(b4,b8))\", \"action(action_stack(b5,b8))\", \"action(action_stack(b6,b8))\", \"action(action_stack(b7,b8))\", \"action(action_stack(b9,b8))\", \"action(action_stack(b1,b9))\", \"action(action_stack(b2,b9))\", \"action(action_stack(b3,b9))\", \"action(action_stack(b4,b9))\", \"action(action_stack(b5,b9))\", \"action(action_stack(b6,b9))\", \"action(action_stack(b7,b9))\", \"action(action_stack(b8,b9))\", \"action(action_put_down(b1))\", \"action(action_put_down(b2))\", \"action(action_put_down(b3))\", \"action(action_put_down(b4))\", \"action(action_put_down(b5))\", \"action(action_put_down(b6))\", \"action(action_put_down(b7))\", \"action(action_put_down(b8))\", \"action(action_put_down(b9))\", \"action(action_pick_up(b1))\", \"action(action_pick_up(b2))\", \"action(action_pick_up(b3))\", \"action(action_pick_up(b4))\", \"action(action_pick_up(b5))\", \"action(action_pick_up(b6))\", \"action(action_pick_up(b7))\", \"action(action_pick_up(b8))\", \"action(action_pick_up(b9))\"\n",
      "          ]\n",
      "        }\n",
      "      ]\n",
      "    }\n",
      "  ],\n",
      "  \"Result\": \"SATISFIABLE\",\n",
      "  \"Models\": {\n",
      "    \"Number\": 1,\n",
      "    \"More\": \"yes\"\n",
      "  },\n",
      "  \"Calls\": 1,\n",
      "  \"Time\": {\n",
      "    \"Total\": 0.015,\n",
      "    \"Solve\": 0.000,\n",
      "    \"Model\": 0.000,\n",
      "    \"Unsat\": 0.000,\n",
      "    \"CPU\": 0.009\n",
      "  }\n",
      "}\n",
      "2560\n"
     ]
    },
    {
     "name": "stderr",
     "output_type": "stream",
     "text": [
      "/Users/paveldolin/dev/research/current/reasoning_about_actions/pipeline/code/ASP/show_actions.lp:8:15-25: info: atom does not occur in any rule head:\n",
      "  dfluent(X)\n",
      "\n",
      "/Users/paveldolin/dev/research/current/reasoning_about_actions/pipeline/code/ASP/show_actions.lp:9:16-26: info: atom does not occur in any rule head:\n",
      "  dfluent(X)\n",
      "\n",
      "/Users/paveldolin/dev/research/current/reasoning_about_actions/pipeline/code/ASP/show_actions.lp:18:17-24: info: atom does not occur in any rule head:\n",
      "  init(X)\n",
      "\n",
      "/Users/paveldolin/dev/research/current/reasoning_about_actions/pipeline/code/ASP/show_actions.lp:20:29-36: info: atom does not occur in any rule head:\n",
      "  init(X)\n",
      "\n"
     ]
    }
   ],
   "source": [
    "import os\n",
    "domain_path = '/Users/paveldolin/dev/research/current/reasoning_about_actions/pipeline/data/initial/asp/domains/blocksworld/domain.lp'\n",
    "instance_path = '/Users/paveldolin/dev/research/current/reasoning_about_actions/pipeline/code/inst1.1.lp'\n",
    "general_code_path = '/Users/paveldolin/dev/research/current/reasoning_about_actions/pipeline/code/ASP/show_actions.lp'\n",
    "\n",
    "tmp = os.system(f\"clingo --outf=2 --opt-mode=OptN --time-limit={TIME_LIMIT} {domain_path} {instance_path} {general_code_path} \")\n",
    "print(tmp)"
   ],
   "metadata": {
    "collapsed": false,
    "ExecuteTime": {
     "end_time": "2024-01-30T06:46:38.045385Z",
     "start_time": "2024-01-30T06:46:37.987532Z"
    }
   },
   "id": "48d055c94fcac1f9",
   "execution_count": 100
  },
  {
   "cell_type": "code",
   "outputs": [
    {
     "data": {
      "text/plain": "2560"
     },
     "execution_count": 101,
     "metadata": {},
     "output_type": "execute_result"
    }
   ],
   "source": [
    "tmp"
   ],
   "metadata": {
    "collapsed": false,
    "ExecuteTime": {
     "end_time": "2024-01-30T06:46:41.623237Z",
     "start_time": "2024-01-30T06:46:41.616666Z"
    }
   },
   "id": "c1ce787adcb96629",
   "execution_count": 101
  },
  {
   "cell_type": "code",
   "outputs": [],
   "source": [
    "init = \"\"\"init(handempty;\n",
    "on(b1, b9);\n",
    "on(b2, b6);\n",
    "on(b3, b2);\n",
    "on(b4, b7);\n",
    "ontable(b5);\n",
    "on(b6, b8);\n",
    "ontable(b7);\n",
    "on(b8, b4);\n",
    "ontable(b9);\n",
    "clear(b1);\n",
    "clear(b3);\n",
    "clear(b5)).\n",
    "\"\"\""
   ],
   "metadata": {
    "collapsed": false,
    "ExecuteTime": {
     "end_time": "2024-01-30T05:48:19.741288Z",
     "start_time": "2024-01-30T05:48:19.731520Z"
    }
   },
   "id": "f9cb7d8084440002",
   "execution_count": 32
  },
  {
   "cell_type": "code",
   "outputs": [
    {
     "data": {
      "text/plain": "['handempty', 'on(b1, b9)', 'on(b2, b6)']"
     },
     "execution_count": 64,
     "metadata": {},
     "output_type": "execute_result"
    }
   ],
   "source": [
    "import re\n",
    "\n",
    "init_str = \"init(handempty;\\non(b1, b9);on(b2, b6)).\"\n",
    "\n",
    "def string_state_to_list(initial_state, prefix='init('):\n",
    "    # initial_state is a sting with \"init(fluent1, fluent2, ...)\n",
    "    initial_state = initial_state.replace(\"\\n\", \"\")\n",
    "    initial_state = initial_state.replace(prefix, \"\")\n",
    "    initial_state = initial_state.replace(\").\", \"\")\n",
    "    return initial_state.split(';')\n",
    "\n",
    "init_to_current_state(init_str)"
   ],
   "metadata": {
    "collapsed": false,
    "ExecuteTime": {
     "end_time": "2024-01-30T06:07:45.091620Z",
     "start_time": "2024-01-30T06:07:45.073017Z"
    }
   },
   "id": "52e6b938f13a9e4a",
   "execution_count": 64
  },
  {
   "cell_type": "code",
   "outputs": [
    {
     "ename": "TypeError",
     "evalue": "'str' object does not support item assignment",
     "output_type": "error",
     "traceback": [
      "\u001B[0;31m---------------------------------------------------------------------------\u001B[0m",
      "\u001B[0;31mTypeError\u001B[0m                                 Traceback (most recent call last)",
      "Input \u001B[0;32mIn [59]\u001B[0m, in \u001B[0;36m<cell line: 1>\u001B[0;34m()\u001B[0m\n\u001B[0;32m----> 1\u001B[0m init_str[\u001B[38;5;241m-\u001B[39m\u001B[38;5;241m1\u001B[39m] \u001B[38;5;241m=\u001B[39m \u001B[38;5;124m'\u001B[39m\u001B[38;5;124m'\u001B[39m\n",
      "\u001B[0;31mTypeError\u001B[0m: 'str' object does not support item assignment"
     ]
    }
   ],
   "source": [
    "init_str[-1] = ''"
   ],
   "metadata": {
    "collapsed": false,
    "ExecuteTime": {
     "end_time": "2024-01-30T06:05:56.772362Z",
     "start_time": "2024-01-30T06:05:56.767304Z"
    }
   },
   "id": "78d626a6e7b7b4d4",
   "execution_count": 59
  },
  {
   "cell_type": "code",
   "outputs": [],
   "source": [
    "from clyngor import parsing, answer_set_to_str\n",
    "from clyngor.parsing import Parser"
   ],
   "metadata": {
    "collapsed": false,
    "ExecuteTime": {
     "end_time": "2024-01-30T05:57:03.287188Z",
     "start_time": "2024-01-30T05:57:03.277248Z"
    }
   },
   "id": "fce317b19468a628",
   "execution_count": 41
  },
  {
   "cell_type": "code",
   "outputs": [
    {
     "data": {
      "text/plain": "frozenset({('init', ())})"
     },
     "execution_count": 44,
     "metadata": {},
     "output_type": "execute_result"
    }
   ],
   "source": [
    "Parser().parse_terms(\"init(handempty; on(b1, b9); on(b2, b6)).\")"
   ],
   "metadata": {
    "collapsed": false,
    "ExecuteTime": {
     "end_time": "2024-01-30T05:57:46.113051Z",
     "start_time": "2024-01-30T05:57:46.107567Z"
    }
   },
   "id": "bcab6bd0d23f6462",
   "execution_count": 44
  },
  {
   "cell_type": "code",
   "outputs": [
    {
     "data": {
      "text/plain": "True"
     },
     "execution_count": 45,
     "metadata": {},
     "output_type": "execute_result"
    }
   ],
   "source": [
    "parsing.careful_parsing_required(\"init(handempty; on(b1, b9); on(b2, b6)).\")"
   ],
   "metadata": {
    "collapsed": false,
    "ExecuteTime": {
     "end_time": "2024-01-30T05:58:38.205634Z",
     "start_time": "2024-01-30T05:58:38.198241Z"
    }
   },
   "id": "22a68c518527f912",
   "execution_count": 45
  },
  {
   "cell_type": "code",
   "outputs": [
    {
     "data": {
      "text/plain": "frozenset({('init', ('handempty', 'on(b1,b9)', 'on(b2,b6)'))})"
     },
     "execution_count": 51,
     "metadata": {},
     "output_type": "execute_result"
    }
   ],
   "source": [
    "Parser().parse_terms(\"init(handempty, on(b1, b9), on(b2, b6)).\")"
   ],
   "metadata": {
    "collapsed": false,
    "ExecuteTime": {
     "end_time": "2024-01-30T06:01:12.391424Z",
     "start_time": "2024-01-30T06:01:12.386340Z"
    }
   },
   "id": "9caaf582df73368d",
   "execution_count": 51
  },
  {
   "cell_type": "code",
   "outputs": [
    {
     "name": "stdout",
     "output_type": "stream",
     "text": [
      "init(handempty;\n",
      "on(b1, b9);on(b2, b6)).\n"
     ]
    }
   ],
   "source": [
    "import re\n",
    "\n",
    "sdfndskghfn = \"init(handempty;\\non(b1, b9);on(b2, b6)).\"\n",
    "\n",
    "# Define the regex pattern to capture \"init(...).\"\n",
    "pattern = re.compile(r'(init\\((.|\\n)+\\)\\.)')\n",
    "\n",
    "# Find the match using the pattern\n",
    "match = pattern.search(sdfndskghfn)\n",
    "\n",
    "# Check if there is a match and extract the content\n",
    "if match:\n",
    "    init_string = match.group(0)\n",
    "    print(init_string)\n",
    "else:\n",
    "    print(\"No match found.\")"
   ],
   "metadata": {
    "collapsed": false,
    "ExecuteTime": {
     "end_time": "2024-01-30T06:20:24.242174Z",
     "start_time": "2024-01-30T06:20:24.224648Z"
    }
   },
   "id": "7faeae732ba5a51a",
   "execution_count": 88
  },
  {
   "cell_type": "code",
   "outputs": [
    {
     "data": {
      "text/plain": "[]"
     },
     "execution_count": 82,
     "metadata": {},
     "output_type": "execute_result"
    }
   ],
   "source": [
    "pattern.findall(init)"
   ],
   "metadata": {
    "collapsed": false,
    "ExecuteTime": {
     "end_time": "2024-01-30T06:17:56.699241Z",
     "start_time": "2024-01-30T06:17:56.690484Z"
    }
   },
   "id": "9c2b521319dfaeaa",
   "execution_count": 82
  },
  {
   "cell_type": "code",
   "outputs": [],
   "source": [],
   "metadata": {
    "collapsed": false
   },
   "id": "d79d0ebccdc20c2e"
  }
 ],
 "metadata": {
  "kernelspec": {
   "display_name": "Python 3",
   "language": "python",
   "name": "python3"
  },
  "language_info": {
   "codemirror_mode": {
    "name": "ipython",
    "version": 2
   },
   "file_extension": ".py",
   "mimetype": "text/x-python",
   "name": "python",
   "nbconvert_exporter": "python",
   "pygments_lexer": "ipython2",
   "version": "2.7.6"
  }
 },
 "nbformat": 4,
 "nbformat_minor": 5
}
